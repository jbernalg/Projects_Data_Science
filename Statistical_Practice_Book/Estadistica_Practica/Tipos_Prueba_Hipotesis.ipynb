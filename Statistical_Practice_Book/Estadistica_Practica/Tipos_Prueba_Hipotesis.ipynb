{
 "cells": [
  {
   "cell_type": "markdown",
   "id": "836843e8",
   "metadata": {},
   "source": [
    "# Tipos de prueba de hipotesis"
   ]
  },
  {
   "cell_type": "markdown",
   "id": "8817940a",
   "metadata": {},
   "source": [
    "## Importar librerias"
   ]
  },
  {
   "cell_type": "code",
   "execution_count": 1,
   "id": "d76f32eb",
   "metadata": {},
   "outputs": [],
   "source": [
    "import pandas as pd\n",
    "import numpy as np\n",
    "import seaborn as sns\n",
    "import scipy.stats as st\n",
    "from scipy.stats import f_oneway\n",
    "from scipy.stats import ttest_ind"
   ]
  },
  {
   "cell_type": "markdown",
   "id": "8733c08a",
   "metadata": {},
   "source": [
    "## Base de datos a utilizar"
   ]
  },
  {
   "cell_type": "code",
   "execution_count": 3,
   "id": "710f0f3f",
   "metadata": {},
   "outputs": [
    {
     "data": {
      "text/html": [
       "<div>\n",
       "<style scoped>\n",
       "    .dataframe tbody tr th:only-of-type {\n",
       "        vertical-align: middle;\n",
       "    }\n",
       "\n",
       "    .dataframe tbody tr th {\n",
       "        vertical-align: top;\n",
       "    }\n",
       "\n",
       "    .dataframe thead th {\n",
       "        text-align: right;\n",
       "    }\n",
       "</style>\n",
       "<table border=\"1\" class=\"dataframe\">\n",
       "  <thead>\n",
       "    <tr style=\"text-align: right;\">\n",
       "      <th></th>\n",
       "      <th>sepal_length</th>\n",
       "      <th>sepal_width</th>\n",
       "      <th>petal_length</th>\n",
       "      <th>petal_width</th>\n",
       "      <th>class</th>\n",
       "    </tr>\n",
       "  </thead>\n",
       "  <tbody>\n",
       "    <tr>\n",
       "      <th>0</th>\n",
       "      <td>5.1</td>\n",
       "      <td>3.5</td>\n",
       "      <td>1.4</td>\n",
       "      <td>0.2</td>\n",
       "      <td>Iris-setosa</td>\n",
       "    </tr>\n",
       "    <tr>\n",
       "      <th>1</th>\n",
       "      <td>4.9</td>\n",
       "      <td>3.0</td>\n",
       "      <td>1.4</td>\n",
       "      <td>0.2</td>\n",
       "      <td>Iris-setosa</td>\n",
       "    </tr>\n",
       "    <tr>\n",
       "      <th>2</th>\n",
       "      <td>4.7</td>\n",
       "      <td>3.2</td>\n",
       "      <td>1.3</td>\n",
       "      <td>0.2</td>\n",
       "      <td>Iris-setosa</td>\n",
       "    </tr>\n",
       "    <tr>\n",
       "      <th>3</th>\n",
       "      <td>4.6</td>\n",
       "      <td>3.1</td>\n",
       "      <td>1.5</td>\n",
       "      <td>0.2</td>\n",
       "      <td>Iris-setosa</td>\n",
       "    </tr>\n",
       "    <tr>\n",
       "      <th>4</th>\n",
       "      <td>5.0</td>\n",
       "      <td>3.6</td>\n",
       "      <td>1.4</td>\n",
       "      <td>0.2</td>\n",
       "      <td>Iris-setosa</td>\n",
       "    </tr>\n",
       "  </tbody>\n",
       "</table>\n",
       "</div>"
      ],
      "text/plain": [
       "   sepal_length  sepal_width  petal_length  petal_width        class\n",
       "0           5.1          3.5           1.4          0.2  Iris-setosa\n",
       "1           4.9          3.0           1.4          0.2  Iris-setosa\n",
       "2           4.7          3.2           1.3          0.2  Iris-setosa\n",
       "3           4.6          3.1           1.5          0.2  Iris-setosa\n",
       "4           5.0          3.6           1.4          0.2  Iris-setosa"
      ]
     },
     "execution_count": 3,
     "metadata": {},
     "output_type": "execute_result"
    }
   ],
   "source": [
    "url = 'https://archive.ics.uci.edu/ml/machine-learning-databases/iris/iris.data'\n",
    "names = ['sepal_length', 'sepal_width', 'petal_length', 'petal_width', 'class']\n",
    "iris = pd.read_csv(url, names=names)\n",
    "iris.head()"
   ]
  },
  {
   "cell_type": "markdown",
   "id": "b4defbd6",
   "metadata": {},
   "source": [
    "## Tipos de Pruebas"
   ]
  },
  {
   "cell_type": "markdown",
   "id": "1bdee291",
   "metadata": {},
   "source": [
    "## Distribucion t de Student"
   ]
  },
  {
   "cell_type": "markdown",
   "id": "33ca4b0f",
   "metadata": {},
   "source": [
    "**Calculo del Error Estandar**\n",
    "$$SE = \\frac{\\sigma }{\\sqrt{N}}$$"
   ]
  },
  {
   "cell_type": "markdown",
   "id": "0ea32844",
   "metadata": {},
   "source": [
    "Vamos a seleccionar dos variables numericas de iris para ver si hay diferencia en la distribucion de ambos. Vamos a elegir el sepalo length y sepalo width"
   ]
  },
  {
   "cell_type": "code",
   "execution_count": 5,
   "id": "13be8d5e",
   "metadata": {},
   "outputs": [
    {
     "data": {
      "text/plain": [
       "0.2618575017646526"
      ]
     },
     "execution_count": 5,
     "metadata": {},
     "output_type": "execute_result"
    }
   ],
   "source": [
    "# Error estandar de la longitud del sepalo para una muestra de 10\n",
    "std_length = iris.sepal_length.std()/np.sqrt(10)\n",
    "std_length"
   ]
  },
  {
   "cell_type": "code",
   "execution_count": 6,
   "id": "f33e31fc",
   "metadata": {},
   "outputs": [
    {
     "data": {
      "text/plain": [
       "0.13711456043966944"
      ]
     },
     "execution_count": 6,
     "metadata": {},
     "output_type": "execute_result"
    }
   ],
   "source": [
    "# Error estandar del ancho delsepalo para una muestra de 10\n",
    "std_width = iris.sepal_width.std()/np.sqrt(10)\n",
    "std_width"
   ]
  },
  {
   "cell_type": "markdown",
   "id": "e557b9d4",
   "metadata": {},
   "source": [
    "**Calculo de la Desviacion del error estandar**\n",
    "$$SED = \\sqrt{\\frac{\\sigma_{1}^2}{N_{1}} + \\frac{\\sigma_{2}^2}{N_{2}}}$$"
   ]
  },
  {
   "cell_type": "code",
   "execution_count": 8,
   "id": "ebf1ea6f",
   "metadata": {},
   "outputs": [
    {
     "data": {
      "text/plain": [
       "0.2955837511010861"
      ]
     },
     "execution_count": 8,
     "metadata": {},
     "output_type": "execute_result"
    }
   ],
   "source": [
    "sed = np.sqrt((std_length**2) + (std_width)**2)\n",
    "sed"
   ]
  },
  {
   "cell_type": "markdown",
   "id": "08a4b63a",
   "metadata": {},
   "source": [
    "**Calculo de t**\n",
    "\n",
    "$$t = \\frac{(\\bar{x_{1}} - \\bar{x_{2}})}{SED}$$"
   ]
  },
  {
   "cell_type": "code",
   "execution_count": 10,
   "id": "c7907f9d",
   "metadata": {},
   "outputs": [
    {
     "data": {
      "text/plain": [
       "9.43669373889032"
      ]
     },
     "execution_count": 10,
     "metadata": {},
     "output_type": "execute_result"
    }
   ],
   "source": [
    "t_stat = (iris.sepal_length.mean() - iris.sepal_width.mean())/sed\n",
    "t_stat"
   ]
  },
  {
   "cell_type": "markdown",
   "id": "d8175929",
   "metadata": {},
   "source": [
    "**Calculo de p**"
   ]
  },
  {
   "cell_type": "code",
   "execution_count": 11,
   "id": "eae3c938",
   "metadata": {},
   "outputs": [
    {
     "data": {
      "text/plain": [
       "Ttest_indResult(statistic=36.548157693982006, pvalue=3.987838114848222e-112)"
      ]
     },
     "execution_count": 11,
     "metadata": {},
     "output_type": "execute_result"
    }
   ],
   "source": [
    "p = ttest_ind(iris['sepal_length'], iris['sepal_width'])\n",
    "p"
   ]
  },
  {
   "cell_type": "markdown",
   "id": "e46dad39",
   "metadata": {},
   "source": [
    "**Conclusiones**"
   ]
  },
  {
   "cell_type": "markdown",
   "id": "0e94ad8d",
   "metadata": {},
   "source": [
    "El valor de t (9.43) es mucho mayor que el p-value (e-112) por tanto deducimos que las distribuciones de las variables son diferentes. Se rechaza la hipotesis nula (La distribucion de las variables son iguales)"
   ]
  }
 ],
 "metadata": {
  "kernelspec": {
   "display_name": "Python 3 (ipykernel)",
   "language": "python",
   "name": "python3"
  },
  "language_info": {
   "codemirror_mode": {
    "name": "ipython",
    "version": 3
   },
   "file_extension": ".py",
   "mimetype": "text/x-python",
   "name": "python",
   "nbconvert_exporter": "python",
   "pygments_lexer": "ipython3",
   "version": "3.9.12"
  }
 },
 "nbformat": 4,
 "nbformat_minor": 5
}
