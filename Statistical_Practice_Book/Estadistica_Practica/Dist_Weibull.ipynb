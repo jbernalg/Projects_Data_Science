{
 "cells": [
  {
   "cell_type": "markdown",
   "id": "ed251f99",
   "metadata": {},
   "source": [
    "# Distribucion Weibull"
   ]
  },
  {
   "cell_type": "markdown",
   "id": "0df9edcb",
   "metadata": {},
   "source": [
    "Es una distribucion continua de probabilidad que modela el tiempo hasta el fallo de un producto o sistema, siendo especialmente util en analisis de confiabilidad, vida util de materiales y analisis de riesgos\n",
    "\n",
    "La D. Exponencial supone una tasa de eventos constante en el tiempo, lo que indica la ausencia de memoria del sistema (el tiempo que pasa desde el ultimo evento no afecta la probabilidad de que ocurra el proximo). Sin embargo, en casos como los componentes mecanicos que tienen una mayor probabilidad de fallar a medida que envejece debido al desgaste, esta distribucion ya no se aplica. En tales caso, la D. de Weibull es adecuada porque permite modelar tasas de fallo que aumentan o disminuyen en el tiempo.\n",
    "\n",
    "La D. de Poisson modela conteos discretos de eventos en un intervalo de tiempo o espacio bajo la suposicion de independencia de los eventos y una tasa de ocurrencia constante. En casos donde, por ejemplo, el numero de llamadas a un centro de soporte tecnico varia segun la hora del dia, la D. de Poisson deja de ser valida. Es alli donde la D. de Weibull es relevante ya que puede modelar esta variabilidad introduciendo una tasa de eventos dependiente del tiempo.\n",
    "\n",
    "En resumen, la D. de Weibull es mas relevante que la Exponencial o Poisson cuando hay una tasa de ocurrencia variable, se requiere flexibilidad en la forma de la distribucion o se analiza la duracion de eventos."
   ]
  },
  {
   "cell_type": "markdown",
   "id": "0f2e3f59",
   "metadata": {},
   "source": [
    "# Deduccion de la Distribucion Weibull"
   ]
  },
  {
   "cell_type": "markdown",
   "id": "c2c8f7ab",
   "metadata": {},
   "source": [
    "La D. Weibull se deriva como una generalizacion de la D. Exponencial para permitir que la tasa de fallo (o la probabilidad de ocurrencia de un evento) sea variable en lugar de constante.\n",
    "\n",
    "Se inicia con la funcion de supervivencia $S(x)$ que representa la probabilidad de que un evento no haya ocurrido hasta un tiempo $x$:\n",
    "\n",
    "$$S(x) = P(X > x)$$\n",
    "\n",
    "En terminos de la funcion de distribucion acumulada $F(x)$ se tiene:\n",
    "\n",
    "$$S(x) = 1 - F(x)$$\n",
    "\n",
    "Para Weibull se postula que la funcion de supervivencia tiene la forma exponencial generalizada:\n",
    "\n",
    "$$S(x) = e^{-(\\frac{x}{\\lambda })^{k}}$$\n",
    "\n",
    "Donde:\n",
    "\n",
    "- $x \\geq 0$\n",
    "- $\\lambda > 0$ es el parametro de escala que ajusta el rango de valores de $x$.\n",
    "- $k > 0$ es el parametro de forma que controla la forma de la distribucion.\n",
    "\n",
    "La eleccion de esta forma de $S(x)$ se basa en su capacidad para modelar tasas de fallo crecientes o decrecientes segun el valor de $k$. Obtenemos la funcion de distribucion acumulada $F(x)$ de la ecuacion anterior:\n",
    "\n",
    "$$F(x) = 1 - S(x)$$\n",
    "\n",
    "$$F(x) = 1 - e^{-(\\frac{x}{\\lambda })^{k}}$$\n",
    "\n",
    "Esta funcion representa la probabilidad acumulada CDF de que el evento ocurra antes de un tiempo $x$."
   ]
  },
  {
   "cell_type": "markdown",
   "id": "1fab5f52",
   "metadata": {},
   "source": [
    "La funcion de distribucion de probabilidad PDF se obtiene derivando la CDF con respecto a x:\n",
    "\n",
    "$$f(x) = \\frac{dF(x)}{dx}$$\n",
    "\n",
    "Sustityendo $F(x) = 1 - e^{-(\\frac{x}{\\lambda })^{k}}$ en la ecuacion anterior obtenemos:\n",
    "\n",
    "$$f(x) = \\frac{\\mathrm{d} }{\\mathrm{d} x}\\left [ 1 - e^{-(\\frac{x}{\\lambda})^k} \\right ]$$\n",
    "\n",
    "Derivando el termino exponencial:\n",
    "$$f(x) = \\frac{\\mathrm{d} }{\\mathrm{d} x}\\left [ - e^{-(\\frac{x}{\\lambda})^k} \\right ]$$\n",
    "\n",
    "Usando la regla de la cadena:\n",
    "$$f(x)=e^{-(\\frac{x}{\\lambda})^{k} } \\cdot \\frac{\\mathrm{d} }{\\mathrm{d} x}\\left [ - (\\frac{x}{\\lambda})^{k} \\right ]$$\n",
    "\n",
    "La derivada del exponente es:\n",
    "$$f(x)=e^{-(\\frac{x}{\\lambda})^{k} } \\cdot \\frac{k}{\\lambda} \\cdot \\left ( \\frac{x}{\\lambda} \\right )^{k-1} $$\n",
    "\n",
    "Simplificando obtenemos:\n",
    "$$f(x)= \\frac{k}{\\lambda} \\cdot \\left ( \\frac{x}{\\lambda} \\right )^{k-1} e^{-(\\frac{x}{\\lambda})^k}$$\n",
    "\n",
    "para $x \\geq 0$. Esta funcion corresponde a la funcion de densidad de la D. Weibull."
   ]
  },
  {
   "cell_type": "markdown",
   "id": "b69b73a5",
   "metadata": {},
   "source": [
    "# Propiedades de la D. Weibull"
   ]
  }
 ],
 "metadata": {
  "kernelspec": {
   "display_name": "Python 3 (ipykernel)",
   "language": "python",
   "name": "python3"
  },
  "language_info": {
   "codemirror_mode": {
    "name": "ipython",
    "version": 3
   },
   "file_extension": ".py",
   "mimetype": "text/x-python",
   "name": "python",
   "nbconvert_exporter": "python",
   "pygments_lexer": "ipython3",
   "version": "3.9.12"
  }
 },
 "nbformat": 4,
 "nbformat_minor": 5
}
