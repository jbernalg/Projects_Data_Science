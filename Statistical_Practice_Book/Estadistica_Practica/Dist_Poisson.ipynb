{
 "cells": [
  {
   "cell_type": "markdown",
   "id": "b0e3b021",
   "metadata": {},
   "source": [
    "# Todo sobre la Distribucion de Poisson"
   ]
  },
  {
   "cell_type": "code",
   "execution_count": null,
   "id": "6255a02a",
   "metadata": {},
   "outputs": [],
   "source": []
  },
  {
   "cell_type": "markdown",
   "id": "144d8195",
   "metadata": {},
   "source": [
    "Es una D. de probabilidad discreta que describe el numero de eventos que ocurren en un intervalo fijo de tiempo o espacio. Fue creada por el matemático y filósofo francés del siglo XVII Simeón-Denis Poisson en su proyecto para modelar la frecuencia de eventos durante un rango de tiempo determinado. Esta distribución la hizo pública en el año 1838 en su trabajo “Investigación sobre la probabilidad de los juicios en materias criminales y civiles”.\n",
    "\n",
    "\n",
    "Tiene multiples aplicaciones en ciencia de datos, especialemente en situaciones donde se modela el numero de eventos discretos que ocurren en un intervalo continuo. Algunas aplicaciones comunes son:\n",
    "\n",
    "- **Modelado de conteo de eventos**: numero de llamadas que recibira un call center en una hora especifica, numero de clientes que llegan a un banco en un intervalo de tiempo, entre otros.\n",
    "\n",
    "- **Analisis de fallo**: Predecir el numero de fallos que ocurren en una maquina o sistema durante un periodo de tiempo.\n",
    "\n",
    "- **Marketing y negocios**: numero de conversiones en un sitio web en un tiempo dado, numero de respuestas a una campana de correo electronico por dia, entre otros.\n",
    "\n",
    "\n"
   ]
  },
  {
   "cell_type": "markdown",
   "id": "7a0a425a",
   "metadata": {},
   "source": [
    "## Supuestos de la D. de Poisson"
   ]
  },
  {
   "cell_type": "markdown",
   "id": "79d5c6fe",
   "metadata": {},
   "source": [
    "Para determinar si un problema puede resolverse mediante esta distribucion, se deben cumplir los siguientes **Supuestos**:\n",
    "\n",
    "#### 1.- Variable discreta: \n",
    "La variable aleatoria es el numero de veces que ocurre un evento durante un intervalo definido. El intervalo puede ser de tiempo, distancia, area, volumen o alguna unidad similar\n",
    "\n",
    "#### 2.- Tasa constante: \n",
    "La probabilidad de ocurrencia es la misma para cualesquiera dos intervalos de igual longitud. En otras palabras, la tasa teorica con la que ocurren los eventos es constante. Si la tasa de ocurrencia es de 4 eventos por dia, esto no quiere decir que cada dia ocurran 4 eventos, sino que se espera que sean 4. Es decir, un dia pueden suceder 2 eventos, otro dia 6 eventos, y asi sucesivamente, pero al promediar los eventos de todos los dias, arrojara una tasa de 4.\n",
    "    \n",
    "#### 3.- Eventos independientes: \n",
    "La ocurrencia o no ocurrencia en cualquier intervalo es independiente de la ocurrencia o no ocurrencia en cualquier otro intervalo. Es decir, las ocurrencias de los eventos son independientes. El hecho de que ocurra un evento en un intervalo definido no aumenta o disminuye la probabilidad de que ocurra otro evento en el mismo intervalo.\n",
    "    \n",
    "#### 4.- Eventos unicos: \n",
    "Dos eventos no pueden ocurrir exactamente al mismo tiempo\n",
    "\n",
    "Si se cumplen estos supuestos, podemos decir que la variable aleatoria discreta $X$ siguen una D. de Poisson. "
   ]
  },
  {
   "cell_type": "markdown",
   "id": "5d0c5d42",
   "metadata": {},
   "source": [
    "## Deduccion de la Distribucion de Poisson"
   ]
  },
  {
   "cell_type": "markdown",
   "id": "aea28cdd",
   "metadata": {},
   "source": [
    "La D. binomial describe el numero de exitos en una serie de eventos independientes, cada uno con probabilidad de exito fija.\n",
    "\n",
    "La D. de Poisson describe el numero de eventos que ocurren en un intervalo de tiempo o espacio fijo cuando estos eventos ocurren con una tasa promedio constante y son independientes entre si.\n",
    "\n",
    "La D. Binomial  $B(n,p)$ se puede aproximar a una D. de Poisson $P(n, \\lambda)$ bajo las siguiente condiciones:\n",
    "\n",
    "- $n$ es muy grande $n\\rightarrow \\infty$.\n",
    "- $p$ es muy pequeno $p \\rightarrow 0$.\n",
    "- El producto $np = \\lambda$ es constante y finito.\n",
    "\n",
    "Consideremos una variable aleatoria $X$ que sigue una D. Binomial en el que los eventos ocurren con una probabilidad muy pequena ($p \\rightarrow 0$) en un gran numero de ensayos ($n\\rightarrow \\infty$).\n",
    "\n",
    "$$X \\sim B(n,p)$$\n",
    "\n",
    "Veamos el paso a paso de como llegar a la D. de Poisson a partir de la D. Binomial:\n",
    "\n",
    "1.- Tenemos la funcion de la D. Binomial y su respectiva esperanza matematica:\n",
    "$$P(X=x)=\\binom{n}{x}p^{x}(1-p)^{(n-x)}$$\n",
    "$$E(x) = np$$\n",
    "\n",
    "2.- Supongamos el que producto $np$ es constante para asi considerarlo la tasa de ocurrencia de la D. de Poisson.\n",
    "    $$\\mu = np$$\n",
    "Redefinimos la probabilidad de exito $p$:\n",
    "    $$p = \\frac{\\mu}{n}$$\n",
    "\n",
    "3.- Desarrollamos el factorial y sustituyamos la nueva definicion de $p$ en la funcion binomial\n",
    "$$P(X=x) = \\frac{n!}{x!(n-x)!}\\left ( \\frac{\\mu}{n} \\right )^x\\left ( 1-\\frac{\\mu}{n} \\right )^{n-x}$$\n",
    "\n",
    "4.- Evaluemos el comportamiento de la funcion cuando $n$ tiende a infinito\n",
    "$$\\lim_{n\\rightarrow \\infty} \\frac{n!}{x!(n-x)!}\\left ( \\frac{\\mu}{n} \\right )^x\\left ( 1-\\frac{\\mu}{n} \\right )^{n-x}$$\n",
    "\n",
    "5.- Desarrollemos el factoria de $n$ y cancelamos terminos comunes\n",
    "\n",
    "$$\\lim_{n\\rightarrow \\infty} \\frac{n(n-1)(n-2)\\cdot \\cdot \\cdot (n-x+1)(n-x)!}{x!(n-x)!}\\left ( \\frac{\\mu}{n} \\right )^x\\left ( 1-\\frac{\\mu}{n} \\right )^{n-x}$$\n",
    "\n",
    "$$\\lim_{n\\rightarrow \\infty} \\frac{n(n-1)(n-2)\\cdot \\cdot \\cdot (n-x+1)}{x!}\\frac{\\mu^{x}}{n^{x}}\\left ( 1-\\frac{\\mu}{n} \\right )^{n-x}$$\n",
    "\n",
    "6.- Sacamos del limite los terminos que no contienen $n$\n",
    "\n",
    "$$\\frac{\\mu^{x}}{x!}\\lim_{n\\rightarrow \\infty} \\frac{n(n-1)(n-2)\\cdot \\cdot \\cdot (n-x+1)}{n^{x}}\\left ( 1-\\frac{\\mu}{n} \\right )^{n-x}$$\n",
    "\n",
    "7.- En el numerador hay $x$ terminos mientras que en el denominador hay $x$ veces $n$, por tanto, podemos cancelar los terminos $n$ de la fraccion quedando de la siguiente forma:\n",
    "\n",
    "$$\\frac{\\mu^{x}}{x!}\\lim_{n\\rightarrow \\infty} \\left ( \\frac{n-1}{n} \\right )\\left ( \\frac{n-2}{n} \\right )\\cdot \\cdot \\cdot \\left ( \\frac{n-x+1}{n} \\right )\\left ( 1 -\\frac{\\mu}{n} \\right )^{n-x}$$\n",
    "\n",
    "8.- Reorganizando los valores de cada termino nos queda:\n",
    "\n",
    "$$\\frac{\\mu^{x}}{x!}\\lim_{n\\rightarrow \\infty} \\left ( 1-\\frac{1}{n} \\right )\\left ( 1-\\frac{2}{n} \\right )\\cdot \\cdot \\cdot \\left ( 1-\\frac{x-1}{n} \\right )\\left ( 1 -\\frac{\\mu}{n} \\right )^{n-x}$$\n",
    "\n",
    "9.- Separando el utlimo termino en sus exponentes nos queda:\n",
    "\n",
    "$$\\frac{\\mu^{x}}{x!}\\lim_{n\\rightarrow \\infty} \\left ( 1-\\frac{1}{n} \\right )\\left ( 1-\\frac{2}{n} \\right )\\cdot \\cdot \\cdot \\left ( 1-\\frac{x-1}{n} \\right )\\left ( 1 -\\frac{\\mu}{n} \\right )^{n} \\left ( 1 -\\frac{\\mu}{n} \\right )^{-x}$$\n",
    "\n",
    "10.- Al evaluar el limite cuando n tiende a infinito los terminos toman el valor 1, excepto el termino\n",
    "\n",
    "$$\\left ( 1 -\\frac{\\mu}{n} \\right )^{n}$$\n",
    "\n",
    "el cual, toma el valor de $e^{-\\mu}$\n",
    "\n",
    "$$\\lim_{n\\rightarrow \\infty} \\left ( 1 -\\frac{\\mu}{n} \\right )^{n} \\sim e^{-\\mu}$$\n",
    "\n",
    "De esta manera llegamos a la funcion de la D. de Poisson:\n",
    "\n",
    "$$P(X=x) =  \\frac{e^{-\\mu}\\cdot \\mu^x}{x!}$$\n"
   ]
  },
  {
   "cell_type": "code",
   "execution_count": null,
   "id": "9d163beb",
   "metadata": {},
   "outputs": [],
   "source": []
  },
  {
   "cell_type": "code",
   "execution_count": null,
   "id": "06ea2d80",
   "metadata": {},
   "outputs": [],
   "source": []
  },
  {
   "cell_type": "markdown",
   "id": "f84c7c7d",
   "metadata": {},
   "source": [
    "## Funcion de Densidad de Probabilidad"
   ]
  },
  {
   "attachments": {
    "image.png": {
     "image/png": "[encoded data removed]"
    }
   },
   "cell_type": "markdown",
   "id": "381c7b6f",
   "metadata": {},
   "source": [
    "La funcion de la D. de Poisson viene dada por:\n",
    "\n",
    "\n",
    "$$f(x) = P(X=x) = \\left\\{\\begin{matrix}\n",
    " & \\frac{e^{-\\mu}\\cdot \\mu^x}{x!} & si & x>0\\\\ \n",
    " & 0 & si & x<0 \n",
    "\\end{matrix}\\right.$$\n",
    "\n",
    "donde: \n",
    "- $\\mu$ es la tasa de ocurrencia y es mayor que cero.\n",
    "- $x$ es el numero de eventos y toma valores enteros mayores a cero.\n",
    "- $P(X=x)$ es la probabilidad de $x$ ocurrencias en un intervalo.\n",
    "\n",
    "La grafica de la D. de Poisson con $\\mu = 1$ viene dada por:\n",
    "\n",
    "![image.png](attachment:image.png)\n",
    "\n",
    "Vamos a desarrollar varios ejemplos para comprender esta Distribución desde las condiciones a cumplir hasta su implementacion matematica y con Python."
   ]
  },
  {
   "cell_type": "code",
   "execution_count": null,
   "id": "428997dd",
   "metadata": {},
   "outputs": [],
   "source": []
  },
  {
   "cell_type": "markdown",
   "id": "c10de9f0",
   "metadata": {},
   "source": [
    "## Ejemplo 1: *Una veterinaria recibre un promedio de 4 pacientes al dia. Sabiendo que el numero de pacientes que llegan en un dia sigue una distribucion de Poisson, Calcular*"
   ]
  },
  {
   "cell_type": "markdown",
   "id": "6f96d1ae",
   "metadata": {},
   "source": [
    "### a.- La probabilidad que lleguen 3 pacientes en un dia"
   ]
  },
  {
   "cell_type": "markdown",
   "id": "84192f44",
   "metadata": {},
   "source": [
    "Sabemos que la variable $X$ es el numero de pacientes que llegan a la veterinaria en 1 dia y sigue una D. de Poisson:\n",
    "$$X \\sim Poisson(\\mu)$$\n",
    "\n",
    "El promedio de pacientes al dia es de 4 y representa la tasa de ocurrencia $\\mu$. Nos piden calcular la probabilidad de que lleguen 3 pacientes en un dia ($x = 3$), por tanto, utilizamos la funcion de densidad de probabilidad de Poisson que viene dada por:\n",
    "\n",
    "$$f(x) = P(X=x) = \\frac{e^{-\\mu}\\cdot \\mu^x}{x!}$$\n",
    "\n",
    "Sustituyendo los valores de $x$ y $\\mu$ tenemos:\n",
    "\n",
    "$$P(X=3) = \\frac{e^{-4}\\cdot 4^3}{3!}$$\n",
    "\n",
    "Ahora, solo nos queda calcular las operaciones matematicas, para ello, vamos a utilizar algunas librerias de Python"
   ]
  },
  {
   "cell_type": "code",
   "execution_count": 4,
   "id": "c226e71d",
   "metadata": {},
   "outputs": [],
   "source": [
    "# libreria para calcular factoriales y exponenciales\n",
    "import math"
   ]
  },
  {
   "cell_type": "code",
   "execution_count": 9,
   "id": "8268364a",
   "metadata": {},
   "outputs": [
    {
     "data": {
      "text/plain": [
       "0.1954"
      ]
     },
     "execution_count": 9,
     "metadata": {},
     "output_type": "execute_result"
    }
   ],
   "source": [
    "# parametros de la D.\n",
    "\n",
    "# tasa de ocurrencia\n",
    "miu = 4\n",
    "\n",
    "# casos buscado\n",
    "x = 3\n",
    "\n",
    "# Calculo de la probabilidad con la formula\n",
    "prob = (math.exp(-miu)*(miu)**x)/(math.factorial(3))\n",
    "prob = round(prob, 4)\n",
    "prob"
   ]
  },
  {
   "cell_type": "markdown",
   "id": "e7e896fc",
   "metadata": {},
   "source": [
    "> La probabilidad que lleguen 3 pacientes en un dia es de 19.54%"
   ]
  },
  {
   "cell_type": "markdown",
   "id": "0a89f6f8",
   "metadata": {},
   "source": [
    "### b.- Probabilidad de que lleguen 5 pacientes en un dia"
   ]
  },
  {
   "cell_type": "markdown",
   "id": "2f7641cf",
   "metadata": {},
   "source": [
    "Con la misma tasa de ocurrencia ($\\mu = 4$), calcular la probabilidad de que lleguen a la veterinaria 5 pacientes al dia ($x = 5$). En este caso, vamos a utilizar la libreria Stats de Python ya que permite realizar el calculo de manera mas simple"
   ]
  },
  {
   "cell_type": "code",
   "execution_count": 11,
   "id": "1da566d3",
   "metadata": {},
   "outputs": [],
   "source": [
    "# libreria para calcular la D. poisson\n",
    "from scipy.stats import poisson"
   ]
  },
  {
   "cell_type": "code",
   "execution_count": 16,
   "id": "d4dd4dc8",
   "metadata": {},
   "outputs": [],
   "source": [
    "# parametros de la D.\n",
    "\n",
    "# tasa de ocurrencia\n",
    "miu = 4\n",
    "\n",
    "# casos buscado\n",
    "x = 5"
   ]
  },
  {
   "cell_type": "markdown",
   "id": "6f014259",
   "metadata": {},
   "source": [
    "Calculamos la probabilidad de un valor dado, en este caso de $x = 3$"
   ]
  },
  {
   "cell_type": "code",
   "execution_count": 18,
   "id": "80fc2016",
   "metadata": {},
   "outputs": [
    {
     "data": {
      "text/plain": [
       "0.1563"
      ]
     },
     "execution_count": 18,
     "metadata": {},
     "output_type": "execute_result"
    }
   ],
   "source": [
    "prob = poisson.pmf(x, miu)\n",
    "prob = round(prob, 4)\n",
    "prob"
   ]
  },
  {
   "cell_type": "markdown",
   "id": "d4adbf34",
   "metadata": {},
   "source": [
    "> La probabilidad que lleguen 5 pacientes a la veterinaria de de 15.63%"
   ]
  },
  {
   "cell_type": "code",
   "execution_count": null,
   "id": "91683ad8",
   "metadata": {},
   "outputs": [],
   "source": []
  },
  {
   "cell_type": "markdown",
   "id": "471b419e",
   "metadata": {},
   "source": [
    "## Ejemplo 2: *Cada año ocurre un promedio de 24 accidentes aereos.*"
   ]
  },
  {
   "cell_type": "markdown",
   "id": "06da8f46",
   "metadata": {},
   "source": [
    "### a.- Calcula la probabilidad de que ocurra exactamente un accidente en un mes"
   ]
  },
  {
   "cell_type": "markdown",
   "id": "7676b8c2",
   "metadata": {},
   "source": [
    "La variables $X$ representa el numero de accidentes aereos en un mes. El valor objetivo a buscar es de 1 accidente al mes. \n",
    "$$x=1$$\n",
    "Para obtener la tasa de ocurrencia en un mes, debemos dividir el promedio de accidentes de un año por el numero total de meses:\n",
    "$$\\mu = \\frac{24}{12} = 2$$\n",
    "Ahora, calculamos la probabilidad de que ocurra 1 accidente en un mes como sigue:"
   ]
  },
  {
   "cell_type": "code",
   "execution_count": 19,
   "id": "cfaf7d83",
   "metadata": {},
   "outputs": [],
   "source": [
    "# parametros de la D.\n",
    "\n",
    "# tasa de ocurrencia\n",
    "miu = 2\n",
    "\n",
    "# casos buscado\n",
    "x = 1"
   ]
  },
  {
   "cell_type": "code",
   "execution_count": 20,
   "id": "0f293201",
   "metadata": {},
   "outputs": [
    {
     "data": {
      "text/plain": [
       "0.2707"
      ]
     },
     "execution_count": 20,
     "metadata": {},
     "output_type": "execute_result"
    }
   ],
   "source": [
    "# Calcular probabilidad para un valor especifico\n",
    "prob = poisson.pmf(x, miu)\n",
    "prob = round(prob, 4)\n",
    "prob"
   ]
  },
  {
   "cell_type": "markdown",
   "id": "2ff78202",
   "metadata": {},
   "source": [
    "> La probabilidad de que ocurra un accidente al mes es de 27.07%"
   ]
  }
 ],
 "metadata": {
  "kernelspec": {
   "display_name": "Python 3 (ipykernel)",
   "language": "python",
   "name": "python3"
  },
  "language_info": {
   "codemirror_mode": {
    "name": "ipython",
    "version": 3
   },
   "file_extension": ".py",
   "mimetype": "text/x-python",
   "name": "python",
   "nbconvert_exporter": "python",
   "pygments_lexer": "ipython3",
   "version": "3.9.12"
  }
 },
 "nbformat": 4,
 "nbformat_minor": 5
}
