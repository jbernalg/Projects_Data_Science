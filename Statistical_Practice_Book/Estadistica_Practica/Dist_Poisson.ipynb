{
 "cells": [
  {
   "cell_type": "markdown",
   "id": "5c454bc1",
   "metadata": {},
   "source": [
    "# Todo sobre la Distribucion de Poisson"
   ]
  },
  {
   "cell_type": "code",
   "execution_count": null,
   "id": "b2f78648",
   "metadata": {},
   "outputs": [],
   "source": []
  },
  {
   "cell_type": "markdown",
   "id": "07813c3a",
   "metadata": {},
   "source": [
    "Es una D. de probabilidad discreta que describe el numero de eventos que ocurren en un intervalo fijo de tiempo o espacio. Para determinar si un problema puede resolverse mediante esta distribucion, se deben cumplir los siguientes **Supuestos**:\n",
    "\n",
    "1.- La variable aleatoria es el numero de veces que ocurre un evento durante un intervalo definido. El intervalo puede ser de tiempo, distancia, area, volumen o alguna unidad similar\n",
    "    \n",
    "    X = n veces que ocurre un evento durante un intervalo definido\n",
    "\n",
    "2.- La probabilidad de ocurrencia es la misma para cualesquiera dos intervalos de igual longitud. En otras palabras, la tasa teorica con la que ocurren los eventos es constante. \n",
    "\n",
    "    Si la tasa de ocurrencia es de 4 eventos por dia, esto no quiere decir que cada dia ocurran 4 eventos, sino que se espera que sean 4. Es decir, un dia pueden suceder \n",
    "    2 eventos, otro dia 6 eventos, y asi sucesivamente, pero al pronmediar los eventos de todos los dias, arrojara una tasa de 4.\n",
    "    \n",
    "3.- La ocurrecina o no ocurrencia en cualquier intervalo es independiente de la ocurrencia o no ocurrencia en cualquier otro intervalo. Es decir, las ocurrencias de los eventos son independientes\n",
    "\n",
    "    El hecho de que ocurra un evento en un intervalo definido no aumenta o disminuye la probabilidad de que ocurra otro evento en el mismo intervalo.\n",
    "    \n",
    "4.- Dos eventos no pueden ocurrir exactamente al mismo tiempo\n",
    "\n",
    "Si se cumplen estos supuestos, podemos decir que la variable aleatoria discreta $X$ siguen una D. de Poisson. "
   ]
  },
  {
   "cell_type": "code",
   "execution_count": null,
   "id": "1f5d9aa7",
   "metadata": {},
   "outputs": [],
   "source": []
  },
  {
   "cell_type": "code",
   "execution_count": null,
   "id": "ab3ade50",
   "metadata": {},
   "outputs": [],
   "source": []
  }
 ],
 "metadata": {
  "kernelspec": {
   "display_name": "Python 3 (ipykernel)",
   "language": "python",
   "name": "python3"
  },
  "language_info": {
   "codemirror_mode": {
    "name": "ipython",
    "version": 3
   },
   "file_extension": ".py",
   "mimetype": "text/x-python",
   "name": "python",
   "nbconvert_exporter": "python",
   "pygments_lexer": "ipython3",
   "version": "3.9.12"
  }
 },
 "nbformat": 4,
 "nbformat_minor": 5
}
