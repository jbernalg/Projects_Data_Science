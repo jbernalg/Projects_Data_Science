{
 "cells": [
  {
   "cell_type": "markdown",
   "id": "b0e3b021",
   "metadata": {},
   "source": [
    "# Todo sobre la Distribucion de Poisson"
   ]
  },
  {
   "cell_type": "code",
   "execution_count": null,
   "id": "6255a02a",
   "metadata": {},
   "outputs": [],
   "source": []
  },
  {
   "cell_type": "markdown",
   "id": "144d8195",
   "metadata": {},
   "source": [
    "Es una D. de probabilidad discreta que describe el numero de eventos que ocurren en un intervalo fijo de tiempo o espacio. Fue creada por el matemático y filósofo francés del siglo XVII Simeón-Denis Poisson en su proyecto para modelar la frecuencia de eventos durante un rango de tiempo determinado. Esta distribución la hizo pública en el año 1838 en su trabajo “Investigación sobre la probabilidad de los juicios en materias criminales y civiles”.\n",
    "\n",
    "\n",
    "Tiene multiples aplicaciones en ciencia de datos, especialemente en situaciones donde se modela el numero de eventos discretos que ocurren en un intervalo continuo. Algunas aplicaciones comunes son:\n",
    "\n",
    "- **Modelado de conteo de eventos**: numero de llamadas que recibira un call center en una hora especifica, numero de clientes que llegan a un banco en un intervalo de tiempo, entre otros.\n",
    "\n",
    "- **Analisis de fallo**: Predecir el numero de fallos que ocurren en una maquina o sistema durante un periodo de tiempo.\n",
    "\n",
    "- **Marketing y negocios**: numero de conversiones en un sitio web en un tiempo dado, numero de respuestas a una campana de correo electronico por dia, entre otros.\n",
    "\n",
    "\n"
   ]
  },
  {
   "cell_type": "markdown",
   "id": "7a0a425a",
   "metadata": {},
   "source": [
    "## Supuestos de la D. de Poisson"
   ]
  },
  {
   "cell_type": "markdown",
   "id": "79d5c6fe",
   "metadata": {},
   "source": [
    "Para determinar si un problema puede resolverse mediante esta distribucion, se deben cumplir los siguientes **Supuestos**:\n",
    "\n",
    "#### 1.- Variable discreta: \n",
    "La variable aleatoria es el numero de veces que ocurre un evento durante un intervalo definido. El intervalo puede ser de tiempo, distancia, area, volumen o alguna unidad similar\n",
    "\n",
    "#### 2.- Tasa constante: \n",
    "La probabilidad de ocurrencia es la misma para cualesquiera dos intervalos de igual longitud. En otras palabras, la tasa teorica con la que ocurren los eventos es constante. Si la tasa de ocurrencia es de 4 eventos por dia, esto no quiere decir que cada dia ocurran 4 eventos, sino que se espera que sean 4. Es decir, un dia pueden suceder 2 eventos, otro dia 6 eventos, y asi sucesivamente, pero al promediar los eventos de todos los dias, arrojara una tasa de 4.\n",
    "    \n",
    "#### 3.- Eventos independientes: \n",
    "La ocurrencia o no ocurrencia en cualquier intervalo es independiente de la ocurrencia o no ocurrencia en cualquier otro intervalo. Es decir, las ocurrencias de los eventos son independientes. El hecho de que ocurra un evento en un intervalo definido no aumenta o disminuye la probabilidad de que ocurra otro evento en el mismo intervalo.\n",
    "    \n",
    "#### 4.- Eventos unicos: \n",
    "Dos eventos no pueden ocurrir exactamente al mismo tiempo\n",
    "\n",
    "Si se cumplen estos supuestos, podemos decir que la variable aleatoria discreta $X$ siguen una D. de Poisson. "
   ]
  },
  {
   "cell_type": "markdown",
   "id": "5d0c5d42",
   "metadata": {},
   "source": [
    "## Deduccion de la Distribucion de Poisson"
   ]
  },
  {
   "cell_type": "markdown",
   "id": "aea28cdd",
   "metadata": {},
   "source": [
    "La D. binomial describe el numero de exitos en una serie de eventos independientes, cada uno con probabilidad de exito fija.\n",
    "\n",
    "La D. de Poisson describe el numero de eventos que ocurren en un intervalo de tiempo o espacio fijo cuando estos eventos ocurren con una tasa promedio constante y son independientes entre si.\n",
    "\n",
    "La D. Binomial  $B(n,p)$ se puede aproximar a una D. de Poisson $P(n, \\lambda)$ bajo las siguiente condiciones:\n",
    "\n",
    "- $n$ es muy grande $n\\rightarrow \\infty$.\n",
    "- $p$ es muy pequeno $p \\rightarrow 0$.\n",
    "- El producto $np = \\lambda$ es constante y finito.\n",
    "\n",
    "Consideremos una variable aleatoria $X$ que sigue una D. Binomial en el que los eventos ocurren con una probabilidad muy pequena ($p \\rightarrow 0$) en un gran numero de ensayos ($n\\rightarrow \\infty$).\n",
    "\n",
    "$$X \\sim B(n,p)$$\n",
    "\n",
    "Veamos el paso a paso de como llegar a la D. de Poisson a partir de la D. Binomial:\n",
    "\n",
    "1.- Tenemos la funcion de la D. Binomial y su respectiva esperanza matematica:\n",
    "$$P(X=x)=\\binom{n}{x}p^{x}(1-p)^{(n-x)}$$\n",
    "$$E(x) = np$$\n",
    "\n",
    "2.- Supongamos el que producto $np$ es constante para asi considerarlo la tasa de ocurrencia de la D. de Poisson.\n",
    "    $$\\mu = np$$\n",
    "Redefinimos la probabilidad de exito $p$:\n",
    "    $$p = \\frac{\\mu}{n}$$\n",
    "\n",
    "3.- Desarrollamos el factorial y sustituyamos la nueva definicion de $p$ en la funcion binomial\n",
    "$$P(X=x) = \\frac{n!}{x!(n-x)!}\\left ( \\frac{\\mu}{n} \\right )^x\\left ( 1-\\frac{\\mu}{n} \\right )^{n-x}$$\n",
    "\n",
    "4.- Evaluemos el comportamiento de la funcion cuando $n$ tiende a infinito\n",
    "$$\\lim_{n\\rightarrow \\infty} \\frac{n!}{x!(n-x)!}\\left ( \\frac{\\mu}{n} \\right )^x\\left ( 1-\\frac{\\mu}{n} \\right )^{n-x}$$\n",
    "\n",
    "5.- Desarrollemos el factoria de $n$ y cancelamos terminos comunes\n",
    "\n",
    "$$\\lim_{n\\rightarrow \\infty} \\frac{n(n-1)(n-2)\\cdot \\cdot \\cdot (n-x+1)(n-x)!}{x!(n-x)!}\\left ( \\frac{\\mu}{n} \\right )^x\\left ( 1-\\frac{\\mu}{n} \\right )^{n-x}$$\n",
    "\n",
    "$$\\lim_{n\\rightarrow \\infty} \\frac{n(n-1)(n-2)\\cdot \\cdot \\cdot (n-x+1)}{x!}\\frac{\\mu^{x}}{n^{x}}\\left ( 1-\\frac{\\mu}{n} \\right )^{n-x}$$\n",
    "\n",
    "6.- Sacamos del limite los terminos que no contienen $n$\n",
    "\n",
    "$$\\frac{\\mu^{x}}{x!}\\lim_{n\\rightarrow \\infty} \\frac{n(n-1)(n-2)\\cdot \\cdot \\cdot (n-x+1)}{n^{x}}\\left ( 1-\\frac{\\mu}{n} \\right )^{n-x}$$\n",
    "\n",
    "7.- En el numerador hay $x$ terminos mientras que en el denominador hay $x$ veces $n$, por tanto, podemos cancelar los terminos $n$ de la fraccion quedando de la siguiente forma:\n",
    "\n",
    "$$\\frac{\\mu^{x}}{x!}\\lim_{n\\rightarrow \\infty} \\left ( \\frac{n-1}{n} \\right )\\left ( \\frac{n-2}{n} \\right )\\cdot \\cdot \\cdot \\left ( \\frac{n-x+1}{n} \\right )\\left ( 1 -\\frac{\\mu}{n} \\right )^{n-x}$$\n",
    "\n",
    "8.- Reorganizando los valores de cada termino nos queda:\n",
    "\n",
    "$$\\frac{\\mu^{x}}{x!}\\lim_{n\\rightarrow \\infty} \\left ( 1-\\frac{1}{n} \\right )\\left ( 1-\\frac{2}{n} \\right )\\cdot \\cdot \\cdot \\left ( 1-\\frac{x-1}{n} \\right )\\left ( 1 -\\frac{\\mu}{n} \\right )^{n-x}$$\n",
    "\n",
    "9.- Separando el utlimo termino en sus exponentes nos queda:\n",
    "\n",
    "$$\\frac{\\mu^{x}}{x!}\\lim_{n\\rightarrow \\infty} \\left ( 1-\\frac{1}{n} \\right )\\left ( 1-\\frac{2}{n} \\right )\\cdot \\cdot \\cdot \\left ( 1-\\frac{x-1}{n} \\right )\\left ( 1 -\\frac{\\mu}{n} \\right )^{n} \\left ( 1 -\\frac{\\mu}{n} \\right )^{-x}$$\n",
    "\n",
    "10.- Al evaluar el limite cuando n tiende a infinito los terminos toman el valor 1, excepto el termino\n",
    "\n",
    "$$\\left ( 1 -\\frac{\\mu}{n} \\right )^{n}$$\n",
    "\n",
    "el cual, toma el valor de $e^{-\\mu}$\n",
    "\n",
    "$$\\lim_{n\\rightarrow \\infty} \\left ( 1 -\\frac{\\mu}{n} \\right )^{n} \\sim e^{-\\mu}$$\n",
    "\n",
    "De esta manera llegamos a la funcion de la D. de Poisson:\n",
    "\n",
    "$$P(X=x) =  \\frac{e^{-\\mu}\\cdot \\mu^x}{x!}$$\n"
   ]
  },
  {
   "cell_type": "code",
   "execution_count": null,
   "id": "06ea2d80",
   "metadata": {},
   "outputs": [],
   "source": []
  },
  {
   "cell_type": "markdown",
   "id": "f84c7c7d",
   "metadata": {},
   "source": [
    "## Funcion de Densidad de Probabilidad"
   ]
  },
  {
   "attachments": {
    "image.png": {
     "image/png": "[encoded data removed]"
    }
   },
   "cell_type": "markdown",
   "id": "381c7b6f",
   "metadata": {},
   "source": [
    "La funcion de la D. de Poisson viene dada por:\n",
    "\n",
    "\n",
    "$$f(x) = P(X=x) = \\left\\{\\begin{matrix}\n",
    " & \\frac{e^{-\\mu}\\cdot \\mu^x}{x!} & si & x>0\\\\ \n",
    " & 0 & si & x<0 \n",
    "\\end{matrix}\\right.$$\n",
    "\n",
    "donde: \n",
    "- $\\mu$ es la tasa de ocurrencia y es mayor que cero.\n",
    "- $x$ es el numero de eventos y toma valores enteros mayores a cero.\n",
    "- $P(X=x)$ es la probabilidad de $x$ ocurrencias en un intervalo.\n",
    "\n",
    "La grafica de la D. de Poisson con $\\mu = 1$ viene dada por:\n",
    "\n",
    "![image.png](attachment:image.png)\n",
    "\n",
    "Vamos a desarrollar varios ejemplos para comprender esta Distribución desde las condiciones a cumplir hasta su implementacion matematica y con Python."
   ]
  },
  {
   "cell_type": "code",
   "execution_count": null,
   "id": "79a1d5cd",
   "metadata": {},
   "outputs": [],
   "source": []
  },
  {
   "cell_type": "markdown",
   "id": "f4042c86",
   "metadata": {},
   "source": [
    "## Parametros de la Distribucion de Poisson"
   ]
  },
  {
   "cell_type": "markdown",
   "id": "7b6df195",
   "metadata": {},
   "source": [
    "- La media ($\\mu$) o esperanza matematica $E(x)$ de esta distribucion viene dada por:\n",
    "$$E(x) = \\mu$$\n",
    "\n",
    "- La varianza ($\\sigma^2$) o varianza matematica $V(x)$ viene dada por:\n",
    "$$V(x) = \\mu$$\n",
    "\n",
    "- La desviacion estandar ($\\sigma$) viene dada por\n",
    "$$\\sigma = \\sqrt{V(x)} = \\sqrt{\\mu}$$"
   ]
  },
  {
   "cell_type": "code",
   "execution_count": null,
   "id": "558ca873",
   "metadata": {},
   "outputs": [],
   "source": []
  },
  {
   "cell_type": "markdown",
   "id": "76fc35e9",
   "metadata": {},
   "source": [
    "## Ejemplo 1: *Una veterinaria recibre un promedio de 4 pacientes al dia. Sabiendo que el numero de pacientes que llegan en un dia sigue una distribucion de Poisson, Calcular*"
   ]
  },
  {
   "cell_type": "markdown",
   "id": "b4d9c510",
   "metadata": {},
   "source": [
    "### a.- La probabilidad que lleguen 3 pacientes en un dia"
   ]
  },
  {
   "attachments": {
    "image.png": {
     "image/png": "[encoded data removed]"
    }
   },
   "cell_type": "markdown",
   "id": "fd17878c",
   "metadata": {},
   "source": [
    "Sabemos que la variable $X$ es el numero de pacientes que llegan a la veterinaria en 1 dia y sigue una D. de Poisson:\n",
    "$$X \\sim Poisson(\\mu)$$\n",
    "\n",
    "El promedio de pacientes al dia es de 4 y representa la tasa de ocurrencia \n",
    "$$\\mu = 4$$\n",
    "\n",
    "Nos piden calcular la probabilidad de que lleguen 3 pacientes en un dia ($x = 3$), por tanto, utilizamos la funcion de densidad de probabilidad de Poisson que viene dada por:\n",
    "\n",
    "$$f(x) = P(X=x) = \\frac{e^{-\\mu}\\cdot \\mu^x}{x!}$$\n",
    "\n",
    "Sustituyendo los valores de $x$ y $\\mu$ tenemos:\n",
    "\n",
    "$$P(X=3) = \\frac{e^{-4}\\cdot 4^3}{3!}$$\n",
    "\n",
    "Graficamente se trata de encontrar el valor de altura de la barra 3\n",
    "\n",
    "![image.png](attachment:image.png)\n",
    "\n",
    "Ahora, solo nos queda calcular las operaciones matematicas, para ello, vamos a utilizar algunas librerias de Python"
   ]
  },
  {
   "cell_type": "code",
   "execution_count": 2,
   "id": "c014ba34",
   "metadata": {},
   "outputs": [],
   "source": [
    "# libreria para calcular factoriales y exponenciales\n",
    "import math"
   ]
  },
  {
   "cell_type": "code",
   "execution_count": 3,
   "id": "eb184744",
   "metadata": {},
   "outputs": [
    {
     "data": {
      "text/plain": [
       "0.1954"
      ]
     },
     "execution_count": 3,
     "metadata": {},
     "output_type": "execute_result"
    }
   ],
   "source": [
    "# parametros de la D.\n",
    "\n",
    "# tasa de ocurrencia\n",
    "miu = 4\n",
    "\n",
    "# casos buscado\n",
    "x = 3\n",
    "\n",
    "# Calculo de la probabilidad con la formula\n",
    "prob = (math.exp(-miu)*(miu)**x)/(math.factorial(3))\n",
    "prob = round(prob, 4)\n",
    "prob"
   ]
  },
  {
   "cell_type": "markdown",
   "id": "0ac7f0a9",
   "metadata": {},
   "source": [
    "> La probabilidad que lleguen 3 pacientes en un dia es de 19.54%"
   ]
  },
  {
   "cell_type": "markdown",
   "id": "ac49bc2a",
   "metadata": {},
   "source": [
    "### b.- Probabilidad de que lleguen 5 pacientes en un dia"
   ]
  },
  {
   "attachments": {
    "image.png": {
     "image/png": "[encoded data removed]"
    }
   },
   "cell_type": "markdown",
   "id": "088d6f3e",
   "metadata": {},
   "source": [
    "Con la misma tasa de ocurrencia ($\\mu = 4$), calcular la probabilidad de que lleguen a la veterinaria 5 pacientes al dia, es decir:\n",
    "\n",
    "$$P(X = 5)$$\n",
    "\n",
    "Graficamente, se trata de calcular la altura de la barra 5\n",
    "\n",
    "![image.png](attachment:image.png)\n",
    "\n",
    "En este caso, vamos a utilizar el metodo de densidad de probabilidad (PMF) que trae la D. de Poisson en la libreria Stats de Python ya que permite realizar el calculo de manera mas simple."
   ]
  },
  {
   "cell_type": "code",
   "execution_count": 4,
   "id": "4d694215",
   "metadata": {},
   "outputs": [],
   "source": [
    "# libreria para calcular la D. poisson\n",
    "from scipy.stats import poisson"
   ]
  },
  {
   "cell_type": "code",
   "execution_count": 5,
   "id": "3c5da3c3",
   "metadata": {},
   "outputs": [],
   "source": [
    "# parametros de la D.\n",
    "\n",
    "# tasa de ocurrencia\n",
    "miu = 4\n",
    "\n",
    "# casos buscado\n",
    "x = 5"
   ]
  },
  {
   "cell_type": "markdown",
   "id": "dcc7e204",
   "metadata": {},
   "source": [
    "Calculamos la probabilidad del valor dado, utilizando el metodo PMF de la D. de Poisson."
   ]
  },
  {
   "cell_type": "code",
   "execution_count": 6,
   "id": "814c571f",
   "metadata": {},
   "outputs": [
    {
     "data": {
      "text/plain": [
       "0.1563"
      ]
     },
     "execution_count": 6,
     "metadata": {},
     "output_type": "execute_result"
    }
   ],
   "source": [
    "prob = poisson.pmf(x, miu)\n",
    "prob = round(prob, 4)\n",
    "prob"
   ]
  },
  {
   "cell_type": "markdown",
   "id": "38dff19b",
   "metadata": {},
   "source": [
    "> La probabilidad que lleguen 5 pacientes a la veterinaria de de 15.63%"
   ]
  },
  {
   "cell_type": "markdown",
   "id": "3e8bf939",
   "metadata": {},
   "source": [
    "### c.- Probabilidad de que lleguen a la veterinaria menos 6 pacientes al dia "
   ]
  },
  {
   "attachments": {
    "image.png": {
     "image/png": "[encoded data removed]"
    }
   },
   "cell_type": "markdown",
   "id": "f225b281",
   "metadata": {},
   "source": [
    "En este caso, nos piden calcular la probabilidad acumulada desde 0 pacientes hasta 5, ya que 6 pacientes no cuenta. Graficamente se trata de calcular el area sombreada\n",
    "\n",
    "![image.png](attachment:image.png)\n",
    "\n",
    "Para obtener tal probabilidad, debemos calcular la probabilidad para cada numero de pacientes y luego sumar todas:\n",
    "\n",
    "$$P(X < 6) = P(X=0) + P(X=1) + P(X=2) + P(X=3) + P(X=4) + P(X=5)$$\n",
    "\n",
    "Vamos a calcular cada probabilidad con el metodo PMF de la D. de Poisson"
   ]
  },
  {
   "cell_type": "code",
   "execution_count": 7,
   "id": "3cdb1925",
   "metadata": {},
   "outputs": [],
   "source": [
    "# parametros de la D.\n",
    "\n",
    "# tasa de ocurrencia\n",
    "miu = 4\n",
    "\n",
    "# caso limite\n",
    "x = 5"
   ]
  },
  {
   "cell_type": "code",
   "execution_count": 8,
   "id": "00b61eb1",
   "metadata": {},
   "outputs": [],
   "source": [
    "# calculo de probabilidades con PMF\n",
    "P_0 = poisson.pmf(0, miu)\n",
    "P_1 = poisson.pmf(1, miu)\n",
    "P_2 = poisson.pmf(2, miu)\n",
    "P_3 = poisson.pmf(3, miu)\n",
    "P_4 = poisson.pmf(4, miu)\n",
    "P_5 = poisson.pmf(5, miu)"
   ]
  },
  {
   "cell_type": "markdown",
   "id": "f7526bbb",
   "metadata": {},
   "source": [
    "Ahora sumamos todas las probabilidades y obtenemos el resultado"
   ]
  },
  {
   "cell_type": "code",
   "execution_count": 9,
   "id": "19171add",
   "metadata": {},
   "outputs": [
    {
     "data": {
      "text/plain": [
       "0.7851"
      ]
     },
     "execution_count": 9,
     "metadata": {},
     "output_type": "execute_result"
    }
   ],
   "source": [
    "# suma de todas las probabilidades\n",
    "prob = P_0 + P_1 + P_2 + P_3 + P_4 + P_5\n",
    "prob = round(prob, 4)\n",
    "prob"
   ]
  },
  {
   "cell_type": "markdown",
   "id": "57f25821",
   "metadata": {},
   "source": [
    "> La probabilidad de que lleguen menos de 6 pacientes es de 78.51%"
   ]
  },
  {
   "cell_type": "markdown",
   "id": "44ec221e",
   "metadata": {},
   "source": [
    "### d.- Probabilidad de que lleguen menos de 4 pacientes al dia."
   ]
  },
  {
   "attachments": {
    "image.png": {
     "image/png": "[encoded data removed]"
    }
   },
   "cell_type": "markdown",
   "id": "5078be0e",
   "metadata": {},
   "source": [
    "Nos piden calcular la probabilidad de que lleguen de 0 a 3 pacientes a la veterinaria, similar al calculo anterior. \n",
    "$$P(X \\leq 3)$$\n",
    "Graficamente es calcular el area sombreada\n",
    "\n",
    "![image.png](attachment:image.png)\n",
    "\n",
    "Podemnos resolverlo como lo antes visto o utilizar el metodo de calculo de probabilidad acumulada (CDF) de la D. de Poisson dado por la libreria Stats que suma la probabilidad desde 0 hasta el valor limite de casos.\n"
   ]
  },
  {
   "cell_type": "code",
   "execution_count": 10,
   "id": "b69c6940",
   "metadata": {},
   "outputs": [],
   "source": [
    "# parametros de la D.\n",
    "\n",
    "# tasa de ocurrencia\n",
    "miu = 4\n",
    "\n",
    "# caso limite\n",
    "x = 3"
   ]
  },
  {
   "cell_type": "code",
   "execution_count": 11,
   "id": "7599ea57",
   "metadata": {},
   "outputs": [
    {
     "data": {
      "text/plain": [
       "0.4335"
      ]
     },
     "execution_count": 11,
     "metadata": {},
     "output_type": "execute_result"
    }
   ],
   "source": [
    "# calculo de la probabilidad acumulada hasta x = 3\n",
    "prob = poisson.cdf(x, miu)\n",
    "prob = round(prob, 4)\n",
    "prob"
   ]
  },
  {
   "cell_type": "markdown",
   "id": "9b1f288e",
   "metadata": {},
   "source": [
    "> La probabilidad que lleguen menos de 4 pacientes es de 43.35%"
   ]
  },
  {
   "cell_type": "markdown",
   "id": "c84fd881",
   "metadata": {},
   "source": [
    "## Ejemplo 2: *Cada año ocurre un promedio de 24 accidentes aereos.*"
   ]
  },
  {
   "cell_type": "markdown",
   "id": "3a01f00e",
   "metadata": {},
   "source": [
    "### a.- Calcula la probabilidad de que ocurra exactamente un accidente en un mes"
   ]
  },
  {
   "attachments": {
    "image.png": {
     "image/png": "[encoded data removed]"
    }
   },
   "cell_type": "markdown",
   "id": "57dcbda7",
   "metadata": {},
   "source": [
    "La variables $X$ representa el numero de accidentes aereos en un mes. El valor objetivo a buscar es de 1 accidente al mes. \n",
    "$$x=1$$\n",
    "Para obtener la tasa de ocurrencia en un mes, debemos dividir el promedio de accidentes de un año por el numero total de meses:\n",
    "$$\\mu = \\frac{24}{12} = 2$$\n",
    "\n",
    "Graficamente se trata de calcular la altura de la barra 1\n",
    "![image.png](attachment:image.png)\n",
    "\n",
    "Ahora, calculamos la probabilidad de que ocurra 1 accidente en un mes:\n",
    "$$P(X = 1)$$"
   ]
  },
  {
   "cell_type": "code",
   "execution_count": 12,
   "id": "a2a42020",
   "metadata": {},
   "outputs": [],
   "source": [
    "# parametros de la D.\n",
    "\n",
    "# tasa de ocurrencia\n",
    "miu = 2\n",
    "\n",
    "# casos buscado\n",
    "x = 1"
   ]
  },
  {
   "cell_type": "code",
   "execution_count": 13,
   "id": "edd3043e",
   "metadata": {},
   "outputs": [
    {
     "data": {
      "text/plain": [
       "0.2707"
      ]
     },
     "execution_count": 13,
     "metadata": {},
     "output_type": "execute_result"
    }
   ],
   "source": [
    "# Calcular probabilidad para un valor especifico\n",
    "prob = poisson.pmf(x, miu)\n",
    "prob = round(prob, 4)\n",
    "prob"
   ]
  },
  {
   "cell_type": "markdown",
   "id": "8bf4f5a0",
   "metadata": {},
   "source": [
    "> La probabilidad de que ocurra un accidente al mes es de 27.07%"
   ]
  },
  {
   "cell_type": "markdown",
   "id": "62caf165",
   "metadata": {},
   "source": [
    "### b.- Probabilidad de que ocurran al menos 16 accidentes aereos al año"
   ]
  },
  {
   "attachments": {
    "image.png": {
     "image/png": "[encoded data removed]"
    }
   },
   "cell_type": "markdown",
   "id": "613f6322",
   "metadata": {},
   "source": [
    "Debemos tener en cuenta que la tasa de ocurrencia no es la misma que en el caso anterior. Se habla de año y no de mes, por tanto\n",
    "\n",
    "$$\\mu_{año} = 24$$\n",
    "\n",
    "Nos piden calcular la probabilidad de que, como minimo, ocurran 10 accidentes por lo que pueden ser mucho mas, es decir \n",
    "\n",
    "$$P(X \\geq 16)$$\n",
    "\n",
    "Graficamente se muestra como sigue:\n",
    "\n",
    "![image.png](attachment:image.png)\n",
    "\n",
    "Esto es igual a calcular las probabilidades de cada accidente desde 16 hasta infinito. Sin embargo, como no es posible hacer dicho calculo, realizamos la siguiente operacion\n",
    "\n",
    "$$P(X \\geq 10) = 1 - P(X < 16)$$\n",
    "\n",
    "Esto se puede realizar ya que se asume que el area total de la D. de Poisson es de 1. Ahora, para resolverlo solo queda calcular la probabilidad de cada accidente desde 0 hasta 15, sumarlas y restar el resultado a 1. O podemos utilizar el metodo de probabilidad acumulada de la D. de Poisson visto anteriormente para facilitar el calculo"
   ]
  },
  {
   "cell_type": "code",
   "execution_count": 14,
   "id": "c49052f0",
   "metadata": {},
   "outputs": [],
   "source": [
    "# parametros de la D.\n",
    "\n",
    "# tasa de ocurrencia\n",
    "miu = 24\n",
    "\n",
    "# casos buscado\n",
    "x = 15"
   ]
  },
  {
   "cell_type": "code",
   "execution_count": 15,
   "id": "35d48844",
   "metadata": {},
   "outputs": [
    {
     "data": {
      "text/plain": [
       "0.0344"
      ]
     },
     "execution_count": 15,
     "metadata": {},
     "output_type": "execute_result"
    }
   ],
   "source": [
    "# calculo de la probabilidad acumulada hasta 15\n",
    "prob = poisson.cdf(x, miu)\n",
    "prob = round(prob, 4)\n",
    "prob"
   ]
  },
  {
   "cell_type": "markdown",
   "id": "77018b2e",
   "metadata": {},
   "source": [
    "Ahora, restamos a 1 el resultado obtenido"
   ]
  },
  {
   "cell_type": "code",
   "execution_count": 16,
   "id": "90bfb28b",
   "metadata": {},
   "outputs": [
    {
     "data": {
      "text/plain": [
       "0.9656"
      ]
     },
     "execution_count": 16,
     "metadata": {},
     "output_type": "execute_result"
    }
   ],
   "source": [
    "probab = 1 - prob\n",
    "probab"
   ]
  },
  {
   "cell_type": "markdown",
   "id": "03071100",
   "metadata": {},
   "source": [
    "> La probabilidad de que hayan al menos 16 accidentes al año es de 97.04%.\n",
    "\n",
    "> Notemos que a medida que $\\mu$ aumenta, la D. de Poisson tiende a una D. Normal."
   ]
  },
  {
   "cell_type": "code",
   "execution_count": null,
   "id": "d1930e4b",
   "metadata": {},
   "outputs": [],
   "source": []
  },
  {
   "cell_type": "markdown",
   "id": "299aa86c",
   "metadata": {},
   "source": [
    "## Ejemplo 3: *En un hospital se esta estudiando los nacimientos de bebes varones. Se sabe que en una semana nacen una media de 7 varones. Calcular*"
   ]
  },
  {
   "cell_type": "markdown",
   "id": "e3d8e2b1",
   "metadata": {},
   "source": [
    "### a.- La probabilidad de que nazcan 3 varones en una semana."
   ]
  },
  {
   "attachments": {
    "image-2.png": {
     "image/png": "[encoded data removed]"
    }
   },
   "cell_type": "markdown",
   "id": "41f12953",
   "metadata": {},
   "source": [
    "La variable $X$ representa en nacimiento de varones en una semana. el valor objetivo es de 3 varones en una semana:\n",
    "$$x = 3$$\n",
    "\n",
    "La tasa de ocurrencia viene representado por la media de varones nacidos en una semana que es de 7 $$\\mu = 7$$\n",
    "\n",
    "Nos piden calcular la probabilidad que nazcan 3 varones en una semana.\n",
    "$$P(X = 3)$$\n",
    "\n",
    "Graficamente, nos piden calcular la probabilidad que corresponde a la barra 3\n",
    "\n",
    "![image-2.png](attachment:image-2.png)\n",
    "\n",
    "Vamos a utilizar el metodo PMF de la D. de Poisson para calcular la probabilidad solicitada."
   ]
  },
  {
   "cell_type": "code",
   "execution_count": 17,
   "id": "8ccb3f7a",
   "metadata": {},
   "outputs": [],
   "source": [
    "# parametros de la D.\n",
    "\n",
    "# tasa de ocurrencia\n",
    "miu = 7\n",
    "\n",
    "# casos buscado\n",
    "x = 3"
   ]
  },
  {
   "cell_type": "code",
   "execution_count": 18,
   "id": "ca6fe1ba",
   "metadata": {},
   "outputs": [
    {
     "data": {
      "text/plain": [
       "0.0521"
      ]
     },
     "execution_count": 18,
     "metadata": {},
     "output_type": "execute_result"
    }
   ],
   "source": [
    "prob = poisson.pmf(x, miu)\n",
    "prob = round(prob, 4)\n",
    "prob"
   ]
  },
  {
   "cell_type": "markdown",
   "id": "59f56980",
   "metadata": {},
   "source": [
    "> La probabilidad que nazcan 3 varones en una semana es de 5.21%."
   ]
  },
  {
   "cell_type": "markdown",
   "id": "a16f9c2b",
   "metadata": {},
   "source": [
    "### b.- La probabilidad que nazcan menos de 3 varones a la semana"
   ]
  },
  {
   "attachments": {
    "image-2.png": {
     "image/png": "[encoded data removed]"
    }
   },
   "cell_type": "markdown",
   "id": "0e5a09b2",
   "metadata": {},
   "source": [
    "En este caso nos piden calcular la probabilidad acumulada desde 0 hasta 2, ya que el 3 no cuenta. Graficamente se muestra con el area sombreada\n",
    "\n",
    "![image-2.png](attachment:image-2.png)\n",
    "\n",
    "Para obtener dicho valor, utilizamos el metodo CDF de la D. de Poisson que nos permite calcular la probabilidad acumulada."
   ]
  },
  {
   "cell_type": "code",
   "execution_count": 19,
   "id": "9a122c53",
   "metadata": {},
   "outputs": [],
   "source": [
    "# parametros de la D.\n",
    "\n",
    "# tasa de ocurrencia\n",
    "miu = 7\n",
    "\n",
    "# caso limite\n",
    "x = 2"
   ]
  },
  {
   "cell_type": "code",
   "execution_count": 20,
   "id": "f1d3a7e2",
   "metadata": {},
   "outputs": [
    {
     "data": {
      "text/plain": [
       "0.0296"
      ]
     },
     "execution_count": 20,
     "metadata": {},
     "output_type": "execute_result"
    }
   ],
   "source": [
    "# calculo de la probabilidad acumulada\n",
    "prob = poisson.cdf(x, miu)\n",
    "prob = round(prob, 4)\n",
    "prob"
   ]
  },
  {
   "cell_type": "markdown",
   "id": "04de936c",
   "metadata": {},
   "source": [
    "> La probabilidad que nazcan menos de 3 varones en una semana es de 8.18%"
   ]
  },
  {
   "cell_type": "code",
   "execution_count": null,
   "id": "3cf3f7ab",
   "metadata": {},
   "outputs": [],
   "source": []
  },
  {
   "cell_type": "markdown",
   "id": "983d3875",
   "metadata": {},
   "source": [
    "## Ejemplo 4: *Un vendedor de seguros de vida vende en promedio 3 polizas por semana. Calcular la probabilidad de:*"
   ]
  },
  {
   "cell_type": "markdown",
   "id": "a604cf71",
   "metadata": {},
   "source": [
    "### a.- Que venda algunas polizas en una semana"
   ]
  },
  {
   "attachments": {
    "image.png": {
     "image/png": "[encoded data removed]"
    }
   },
   "cell_type": "markdown",
   "id": "6852cd71",
   "metadata": {},
   "source": [
    "Vemos que se trata de una D. de Poisson ya que la variable $X$ representa los seguros vendidos en una semana\n",
    "\n",
    "$$X \\sim Poisson(\\mu)$$\n",
    "\n",
    "En promedio, el vendedor vende 3 polizas por semana lo que representa la tasa de ocurrencia:\n",
    "\n",
    "$$\\mu = 3$$\n",
    "\n",
    "Nos piden calcular la probabilidad de que se venda al menos una o mas poliza, es decir,\n",
    "\n",
    "$$P(X>0) = P(X=1) + P(X=2) + \\cdot \\cdot \\cdot P(X = \\infty)$$\n",
    "\n",
    "Graficamente, consiste en calcular el area sombreada\n",
    "\n",
    "![image.png](attachment:image.png)\n",
    "\n",
    "Ya que no podemos calcular las probabilidades hasta infinito, utilizamos la siguiente propiedad estadisticas de sucesos\n",
    "\n",
    "$$P(X>0) = 1 - P(X = 0)$$\n",
    "\n",
    "Entonces, nos queda calcular $P(X = 0)$ para lo que utilizamos el metodo PMF de Stats"
   ]
  },
  {
   "cell_type": "code",
   "execution_count": 21,
   "id": "b24ef031",
   "metadata": {},
   "outputs": [],
   "source": [
    "# parametros de la D.\n",
    "\n",
    "# tasa de ocurrencia\n",
    "miu = 3\n",
    "\n",
    "# caso limite\n",
    "x = 0"
   ]
  },
  {
   "cell_type": "code",
   "execution_count": 22,
   "id": "8e2fa0be",
   "metadata": {},
   "outputs": [
    {
     "data": {
      "text/plain": [
       "0.0498"
      ]
     },
     "execution_count": 22,
     "metadata": {},
     "output_type": "execute_result"
    }
   ],
   "source": [
    "# calculo de la probabilidad para X = 0 \n",
    "prob = poisson.pmf(x, miu)\n",
    "prob = round(prob, 4)\n",
    "prob"
   ]
  },
  {
   "cell_type": "markdown",
   "id": "23078b79",
   "metadata": {},
   "source": [
    "Ahora solo queda restar a 1 el resultado obtenido"
   ]
  },
  {
   "cell_type": "code",
   "execution_count": 23,
   "id": "4211ab72",
   "metadata": {},
   "outputs": [
    {
     "data": {
      "text/plain": [
       "0.9502"
      ]
     },
     "execution_count": 23,
     "metadata": {},
     "output_type": "execute_result"
    }
   ],
   "source": [
    "probab = 1 - prob\n",
    "probab"
   ]
  },
  {
   "cell_type": "markdown",
   "id": "b0aa9035",
   "metadata": {},
   "source": [
    "> La probabilidad de que venda al menos 1 poliza a la semana es del 95.02%"
   ]
  },
  {
   "cell_type": "markdown",
   "id": "bba2df6f",
   "metadata": {},
   "source": [
    "### b.- Que venda 2 o mas polizas pero menos de 5, en una semana"
   ]
  },
  {
   "attachments": {
    "image.png": {
     "image/png": "[encoded data removed]"
    }
   },
   "cell_type": "markdown",
   "id": "8d51fe9c",
   "metadata": {},
   "source": [
    "Nos piden calcular la siguiente probabilidad\n",
    "\n",
    "$$P(2 \\leq X < 5) = P(X = 2) + P(X = 3) + P(X = 4)$$\n",
    "\n",
    "Graficamente se muestra como sigue:\n",
    "\n",
    "![image.png](attachment:image.png)\n",
    "\n",
    "Para ello, vamos a utilizar la probabilidad acumulada (CDF) para los limites del area sombreada que son 1 y 4 y luego restamos ambas probabilidades para obtener el area sombreada o la probabilidad buscada\n",
    "\n",
    "$$P(2 \\leq X \\leq 4) = P(X \\leq 4) - P(X \\leq 1)$$"
   ]
  },
  {
   "cell_type": "code",
   "execution_count": 24,
   "id": "5eddcadb",
   "metadata": {},
   "outputs": [],
   "source": [
    "# parametros de la D.\n",
    "\n",
    "# tasa de ocurrencia\n",
    "miu = 3\n",
    "\n",
    "# casos limites\n",
    "x_4 = 4\n",
    "x_1 = 1"
   ]
  },
  {
   "cell_type": "code",
   "execution_count": 25,
   "id": "dd4676a9",
   "metadata": {},
   "outputs": [
    {
     "data": {
      "text/plain": [
       "0.1991"
      ]
     },
     "execution_count": 25,
     "metadata": {},
     "output_type": "execute_result"
    }
   ],
   "source": [
    "# probabilidad acumulada hasta 1\n",
    "prob_1 = poisson.cdf(x_1, miu)\n",
    "prob_1 = round(prob_1, 4)\n",
    "prob_1"
   ]
  },
  {
   "cell_type": "code",
   "execution_count": 26,
   "id": "33370d33",
   "metadata": {
    "scrolled": true
   },
   "outputs": [
    {
     "data": {
      "text/plain": [
       "0.8153"
      ]
     },
     "execution_count": 26,
     "metadata": {},
     "output_type": "execute_result"
    }
   ],
   "source": [
    "# probabilidad acumulada hasta 4\n",
    "prob_4 = poisson.cdf(x_4, miu)\n",
    "prob_4 = round(prob_4, 4)\n",
    "prob_4"
   ]
  },
  {
   "cell_type": "markdown",
   "id": "0a8e8438",
   "metadata": {},
   "source": [
    "Ahora solo queda restar ambos resultados"
   ]
  },
  {
   "cell_type": "code",
   "execution_count": 27,
   "id": "21f23652",
   "metadata": {},
   "outputs": [
    {
     "data": {
      "text/plain": [
       "0.6162"
      ]
     },
     "execution_count": 27,
     "metadata": {},
     "output_type": "execute_result"
    }
   ],
   "source": [
    "# probabilidad desde 1 hasta 4\n",
    "prob = prob_4 - prob_1\n",
    "prob = round(prob, 4)\n",
    "prob"
   ]
  },
  {
   "cell_type": "markdown",
   "id": "d24d6229",
   "metadata": {},
   "source": [
    "> La probabilidad que venda de 2 a 4 polizas en una semana es de 61.62%"
   ]
  },
  {
   "cell_type": "markdown",
   "id": "60c1ce40",
   "metadata": {},
   "source": [
    "### c.- Suponiendo que hay 5 dias de trabajo por semana, calcular la probabilidad de que en un dia dado se venda una poliza"
   ]
  },
  {
   "attachments": {
    "image.png": {
     "image/png": "[encoded data removed]"
    }
   },
   "cell_type": "markdown",
   "id": "a22b10e9",
   "metadata": {},
   "source": [
    "En este caso, debemos calcular una nueva tasa de ocurrencia $\\mu$ ya que la dada por el problema no concuerda con lo que piden ($\\mu$ esta referida en semanas y la necesitamos en dias). Como nos indican que la semana es de 5 dias, dividimos la $\\mu$ del problema por dicha cantidad para obtener la tasa en dias\n",
    "\n",
    "$$\\mu_{dia} = \\frac{\\mu}{5} = \\frac{3}{5}$$\n",
    "$$\\mu_{dia} = 0.6$$\n",
    "\n",
    "Nos piden calcular la probabilidad de que se venda 1 poliza en un dia\n",
    "\n",
    "$$P(X = 1)$$\n",
    "\n",
    "Graficamente, seria calcular la altura de la barra 1\n",
    "\n",
    "![image.png](attachment:image.png)\n",
    "\n",
    "Vamos a utilizar el metodo PMF para obtener dicho calculo\n"
   ]
  },
  {
   "cell_type": "code",
   "execution_count": 28,
   "id": "c61ef5fc",
   "metadata": {},
   "outputs": [],
   "source": [
    "# parametros de la D.\n",
    "\n",
    "# tasa de ocurrencia\n",
    "miu = 0.6\n",
    "\n",
    "# caso limite\n",
    "x = 1"
   ]
  },
  {
   "cell_type": "code",
   "execution_count": 29,
   "id": "49b4f050",
   "metadata": {},
   "outputs": [
    {
     "data": {
      "text/plain": [
       "0.3293"
      ]
     },
     "execution_count": 29,
     "metadata": {},
     "output_type": "execute_result"
    }
   ],
   "source": [
    "# probabilidad para x = 1\n",
    "prob = poisson.pmf(x, miu)\n",
    "prob = round(prob, 4)\n",
    "prob"
   ]
  },
  {
   "cell_type": "markdown",
   "id": "1f1c5c44",
   "metadata": {},
   "source": [
    "> La probabilidad de que venda 1 poliza en un dia es de 32.93%"
   ]
  },
  {
   "cell_type": "markdown",
   "id": "bacb06ab",
   "metadata": {},
   "source": [
    "### d.- Calcular la media, la varianza y la desviacion estandar de la distribucion de probabilidad que se infiere de este problema"
   ]
  },
  {
   "cell_type": "markdown",
   "id": "29629b35",
   "metadata": {},
   "source": [
    "Sabemos que la variable $X$ sigue una D. de Poisson por tanto:\n",
    "\n",
    "- La media viene dada por\n",
    "$$E(x) = \\mu = 3$$\n",
    "\n",
    "- La varianza viene dada por\n",
    "$$V(x) = \\mu = 3$$\n",
    "\n",
    "- La desviacion estandar es de:\n",
    "$$\\sigma = \\sqrt{3}$$"
   ]
  },
  {
   "cell_type": "code",
   "execution_count": null,
   "id": "0db33970",
   "metadata": {},
   "outputs": [],
   "source": []
  },
  {
   "attachments": {
    "image.png": {
     "image/png": "[encoded data removed]"
    }
   },
   "cell_type": "markdown",
   "id": "629d7792",
   "metadata": {},
   "source": [
    "## Ejemplo 5: *En una fabrica se manufacturan laminas de aluminio. El departamento de calidad de dicha fabrica esta estudiando la frecuencia del numero de fallos por lamina con el objetivo de poder predecir las probabilidades de laminas defectuosas. Los datos son los siguientes:*\n",
    "\n",
    "![image.png](attachment:image.png)"
   ]
  },
  {
   "cell_type": "markdown",
   "id": "39362621",
   "metadata": {},
   "source": [
    "### Calcular la probabilidad de encontrar una lamina al azar qe tenga 3 fallos como minimo."
   ]
  },
  {
   "attachments": {
    "image.png": {
     "image/png": "[encoded data removed]"
    }
   },
   "cell_type": "markdown",
   "id": "33258338",
   "metadata": {},
   "source": [
    "La variable $X$ viene representada por el numero de fallos por cada lamina. Los valores de la tabla se interpretan como sigue:\n",
    "\n",
    "- Primera fila: hay 4 laminas con cero fallos\n",
    "- Segunda fila: hay 3 laminas con un fallo\n",
    "- Tercera fila: hay 5 laminas con dos fallos\n",
    "- \"  \"\n",
    "- \"  \"\n",
    "\n",
    "El ejercicio no nos da la tasa de ocurrencia por lo que debemos calcularla a partir de la tabla de frecuencia mediante la siguiente ecuacion:\n",
    "\n",
    "$$\\mu = \\frac{\\quad\\text{Numero de fallos totales}}{\\quad\\text{Numero de laminas}}$$\n",
    "\n",
    "\n",
    "- Al sumar los valores de frecuencia obtenemos el total de laminas que son 20.\n",
    "\n",
    "- Al multiplicar los fallos por la frecuencia obtenemos la cantidad de fallos por evento. Al sumar los fallos de todos los eventos obtenemos el numero de fallos totales.\n",
    "\n",
    "Sustituimos los valores en la ecuacion:\n",
    "\n",
    "$$\\mu = \\frac{0\\cdot4 + 1\\cdot3 + 2\\cdot5 + \\cdot \\cdot \\cdot + 6\\cdot1}{20} = \\frac{46}{20}$$\n",
    "\n",
    "$$\\mu = 2.3$$\n",
    "\n",
    "Ahora, debemos saber que la D. de Poisson no esta acotada superiormente, por lo tanto se tiene que entender que esta tabla es un extracto de todos los posibles fallos que pueden llegar hasta infinito. Solo que los tecnicos llegaron hasta la medicion de 6 fallos. \n",
    "\n",
    "Aclarado este punto, nos piden calcular la probabilidad de encontrar al menos 3 fallos en una lamina. Esto es:\n",
    "$$P(X \\geq 3) = P(X = 3) + P(X = 4) + P(X = 5) + \\cdot \\cdot \\cdot P(X = \\infty)$$\n",
    "\n",
    "Graficamente se ve como sigue:\n",
    "\n",
    "![image.png](attachment:image.png)\n",
    "\n",
    "Como no podemos calcular probabilidades hasta infinito, utilizamos la siguiente propiedad de sucesos:\n",
    "\n",
    "$$P(X \\geq 3) = 1 - P(X < 3) = 1 - [P(X=0) + P(X=1) + P(X=2)]$$\n",
    "\n",
    "Para no calcular cada una de las probabilidades, utilizamos el metodo CDF para calcular la probabilidad acumulada hasta el limite 2."
   ]
  },
  {
   "cell_type": "code",
   "execution_count": 30,
   "id": "33f0192d",
   "metadata": {},
   "outputs": [],
   "source": [
    "# parametros de la D.\n",
    "\n",
    "# tasa de ocurrencia\n",
    "miu = 2.3\n",
    "\n",
    "# caso limite\n",
    "x = 2"
   ]
  },
  {
   "cell_type": "code",
   "execution_count": 31,
   "id": "8a81d295",
   "metadata": {},
   "outputs": [
    {
     "data": {
      "text/plain": [
       "0.596"
      ]
     },
     "execution_count": 31,
     "metadata": {},
     "output_type": "execute_result"
    }
   ],
   "source": [
    "# probabilidad acumulada hasta 2\n",
    "prob = poisson.cdf(x, miu)\n",
    "prob = round(prob, 4)\n",
    "prob"
   ]
  },
  {
   "cell_type": "markdown",
   "id": "28deaf77",
   "metadata": {},
   "source": [
    "Finalmente, restamos a 1 el valor obtenido"
   ]
  },
  {
   "cell_type": "code",
   "execution_count": 32,
   "id": "240f7f54",
   "metadata": {},
   "outputs": [
    {
     "data": {
      "text/plain": [
       "0.404"
      ]
     },
     "execution_count": 32,
     "metadata": {},
     "output_type": "execute_result"
    }
   ],
   "source": [
    "probab = 1 - prob\n",
    "probab"
   ]
  },
  {
   "cell_type": "markdown",
   "id": "4ffa0978",
   "metadata": {},
   "source": [
    "> La probabilidad de que una lamina seleccionada al azar tenga como minimo 3 fallos es de 40.4%"
   ]
  },
  {
   "cell_type": "code",
   "execution_count": null,
   "id": "66aeeab8",
   "metadata": {},
   "outputs": [],
   "source": []
  },
  {
   "cell_type": "markdown",
   "id": "21d38235",
   "metadata": {},
   "source": [
    "## Ejemplo 6: *Durante la Segunda Guerra Mundial, las tropas alemanas disparaban bombas V1 yV2 desde Calai (Francia) hacia Londres. El sur de Londres se dividio en 576 regiones con la misma extension, 0.25 Km cuadrados. A lo largo de la contienda impactaron en esas regiones un total de 535 bombas V1 y V2*"
   ]
  },
  {
   "cell_type": "markdown",
   "id": "51671ff6",
   "metadata": {},
   "source": [
    "### a.- Si se selecciona una region al azar, calcula la probabilidad de que fuese blanco de las bombas en dos ocasiones. Tambien para el caso que no recibiese ningun impacto"
   ]
  },
  {
   "attachments": {
    "image.png": {
     "image/png": "[encoded data removed]"
    }
   },
   "cell_type": "markdown",
   "id": "e0963d93",
   "metadata": {},
   "source": [
    "La variable $X$ representa el numero de impactos por area por lo que se trata de la D. de Poisson. Para calcular la tasa de ocurrencia podemos utilizar la siguiente formula:\n",
    "\n",
    "$$\\mu = \\frac{\\quad\\text{Numero de bombas}}{\\quad\\text{Cantidad de areas}} = \\frac{535}{576}$$\n",
    "\n",
    "$$\\mu = 0.929$$\n",
    "\n",
    "Nos piden calcular la probabilidad de que en una area determinada al azar impacten bombas en dos ocasiones, es decir,\n",
    "\n",
    "$$P(X = 2)$$\n",
    "\n",
    "Graficamente, piden calcular la altura de la barra 2\n",
    "\n",
    "![image.png](attachment:image.png)\n",
    "\n",
    "Vamos a calcularlo mediante el metodo PMF de la D. de Poisson"
   ]
  },
  {
   "cell_type": "code",
   "execution_count": 33,
   "id": "95175ffd",
   "metadata": {},
   "outputs": [],
   "source": [
    "# parametros de la D.\n",
    "\n",
    "# tasa de ocurrencia\n",
    "miu = 0.929\n",
    "\n",
    "# caso limite\n",
    "x = 2"
   ]
  },
  {
   "cell_type": "code",
   "execution_count": 34,
   "id": "1e68af30",
   "metadata": {},
   "outputs": [
    {
     "data": {
      "text/plain": [
       "0.1704"
      ]
     },
     "execution_count": 34,
     "metadata": {},
     "output_type": "execute_result"
    }
   ],
   "source": [
    "# probabilidad para X = 2\n",
    "prob = poisson.pmf(x, miu)\n",
    "prob = round(prob, 4)\n",
    "prob"
   ]
  },
  {
   "cell_type": "markdown",
   "id": "80a2f90f",
   "metadata": {},
   "source": [
    "> La probabilidad de que en una area cualquiera impacten dos bombas es de 17.04%"
   ]
  },
  {
   "attachments": {
    "image.png": {
     "image/png": "[encoded data removed]"
    }
   },
   "cell_type": "markdown",
   "id": "e4c9c39f",
   "metadata": {},
   "source": [
    "Tambien nos piden calcular la probabilidad de que no impacte ninguna bomba, es decir,\n",
    "\n",
    "$$P(X = 0)$$\n",
    "\n",
    "Graficamente pide calcular la altura de la barra cero\n",
    "\n",
    "![image.png](attachment:image.png)\n",
    "\n",
    "Proc"
   ]
  },
  {
   "cell_type": "code",
   "execution_count": null,
   "id": "f7a2969b",
   "metadata": {},
   "outputs": [],
   "source": []
  }
 ],
 "metadata": {
  "kernelspec": {
   "display_name": "Python 3 (ipykernel)",
   "language": "python",
   "name": "python3"
  },
  "language_info": {
   "codemirror_mode": {
    "name": "ipython",
    "version": 3
   },
   "file_extension": ".py",
   "mimetype": "text/x-python",
   "name": "python",
   "nbconvert_exporter": "python",
   "pygments_lexer": "ipython3",
   "version": "3.9.12"
  }
 },
 "nbformat": 4,
 "nbformat_minor": 5
}
