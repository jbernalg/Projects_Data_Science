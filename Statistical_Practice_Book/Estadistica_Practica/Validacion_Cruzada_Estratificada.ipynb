{
 "cells": [
  {
   "cell_type": "markdown",
   "id": "8467a0d9",
   "metadata": {},
   "source": [
    "# Validacion Cruzada Estratificada"
   ]
  },
  {
   "cell_type": "markdown",
   "id": "9c3c4ac0",
   "metadata": {},
   "source": [
    "Es una tecnica que se usa para evaluar modelos de manera mas confiable. Es una variante de la validacion K-Fold donde la division en folds se hace de tal manera que se preservan las proporciones de las clases en cada fold. Esto es especialmente util cuando se trabaja con conjuntos de datos desbalanceados."
   ]
  },
  {
   "cell_type": "markdown",
   "id": "33af310c",
   "metadata": {},
   "source": [
    "## Proceso de la Validacion Cruzada Estratificada"
   ]
  },
  {
   "cell_type": "markdown",
   "id": "d22198b4",
   "metadata": {},
   "source": [
    "Supongamos que tenemos el siguiente conjunto de datos que consta de una variable predictora (*X*) y una variable objetivo (*y*) que contiene dos clases: 0 y 1."
   ]
  },
  {
   "cell_type": "markdown",
   "id": "d21d438a",
   "metadata": {},
   "source": [
    "- Datos (X) : [*Muestra1, Muestra2, Muestra3, Muestra4, Muestra5, Muestra6, Muestra7, Muestra8, Muestra9, Muestra10*]\n",
    "\n",
    "- Etiquetas (y) : [0, 0, 0, 0, 1, 1, 1, 1, 1, 1]"
   ]
  },
  {
   "cell_type": "markdown",
   "id": "c6273776",
   "metadata": {},
   "source": [
    "Vamos a realizar una validacion cruzada estratificada K-Fold con $k = 2$. El proceso general de este metodo es el siguiente:"
   ]
  },
  {
   "cell_type": "markdown",
   "id": "99d3d343",
   "metadata": {},
   "source": [
    "### 1.- Dividir el conjunto de datos por clase\n",
    "\n",
    "Separamos los datos por clase"
   ]
  },
  {
   "cell_type": "markdown",
   "id": "e8037c1e",
   "metadata": {},
   "source": [
    "- Clase 0 : [*Muestra1, Muestra2, Muestra3, Muestra4*]\n",
    "- Clase 1 : [*Muestra5, Muestra6, Muestra7, Muestra8, Muestra9, Muestra10*]"
   ]
  },
  {
   "cell_type": "markdown",
   "id": "7a86c719",
   "metadata": {},
   "source": [
    "### 2.- Dividir cada clase en $k$ Folds\n",
    "Dividimos cada clase en $k$ folds. En este caso, $k=2$"
   ]
  },
  {
   "cell_type": "markdown",
   "id": "10bbbc74",
   "metadata": {},
   "source": [
    "**Para la clase 0 tenemos 4 muestras**:\n",
    "- Fold 1 : [*Muestra1, Muestra2*]\n",
    "- Fold 2 : [*Muestra3, Muestra4*]\n",
    "\n",
    "**Para la clase 1 tenemos 6 muestras**:\n",
    "- Fold 1 : [*Muestra5, Muestra6, Muestra7*]\n",
    "- Fold 2 : [*Muestra8, Muestra9, Muestra10*]"
   ]
  },
  {
   "cell_type": "markdown",
   "id": "937355df",
   "metadata": {},
   "source": [
    "### 3.- Combinar los Folds para crear conjuntos de entrenamiento y prueba\n",
    "\n",
    "En cada iteracion, combinamos los folds de ambas clases para crear los conjuntos de entrenamiento y prueba"
   ]
  },
  {
   "cell_type": "markdown",
   "id": "fb4a220a",
   "metadata": {},
   "source": [
    "**Iteracion 1:**\n",
    "- Conjunto test : [*Muestra1, Muestra2, Muestra5, Muestra6, Muestra7*]\n",
    "- Conjunto train : [*Muestra3, Muestra4, Muestra8, Muestra9, Muestra10*]\n",
    "\n",
    "**Iteracion 2:**\n",
    "- Conjunto test : [*Muestra3, Muestra4, Muestra8, Muestra9, Muestra10*]\n",
    "- Conjunto train : [*Muestra1, Muestra2, Muestra5, Muestra6, Muestra7*]"
   ]
  },
  {
   "cell_type": "markdown",
   "id": "accf3847",
   "metadata": {},
   "source": [
    "Este proceso garantiza que cada fold tiene una representación proporcional de cada clase, lo que es crucial para evaluar de manera justa el rendimiento del modelo, especialmente en problemas de clasificación con clases desbalanceadas."
   ]
  },
  {
   "cell_type": "code",
   "execution_count": null,
   "id": "a9c91ab8",
   "metadata": {},
   "outputs": [],
   "source": []
  },
  {
   "cell_type": "markdown",
   "id": "d258d7f2",
   "metadata": {},
   "source": [
    "## Implementacion Manual"
   ]
  },
  {
   "cell_type": "markdown",
   "id": "f142087e",
   "metadata": {},
   "source": [
    "Vamos a trabajar sobre los datos anteriores: X e y"
   ]
  },
  {
   "cell_type": "code",
   "execution_count": 2,
   "id": "409b0077",
   "metadata": {},
   "outputs": [
    {
     "data": {
      "text/html": [
       "<div>\n",
       "<style scoped>\n",
       "    .dataframe tbody tr th:only-of-type {\n",
       "        vertical-align: middle;\n",
       "    }\n",
       "\n",
       "    .dataframe tbody tr th {\n",
       "        vertical-align: top;\n",
       "    }\n",
       "\n",
       "    .dataframe thead th {\n",
       "        text-align: right;\n",
       "    }\n",
       "</style>\n",
       "<table border=\"1\" class=\"dataframe\">\n",
       "  <thead>\n",
       "    <tr style=\"text-align: right;\">\n",
       "      <th></th>\n",
       "      <th>Muestra</th>\n",
       "      <th>y</th>\n",
       "    </tr>\n",
       "  </thead>\n",
       "  <tbody>\n",
       "    <tr>\n",
       "      <th>0</th>\n",
       "      <td>Muestra1</td>\n",
       "      <td>0</td>\n",
       "    </tr>\n",
       "    <tr>\n",
       "      <th>1</th>\n",
       "      <td>Muestra2</td>\n",
       "      <td>0</td>\n",
       "    </tr>\n",
       "    <tr>\n",
       "      <th>2</th>\n",
       "      <td>Muestra3</td>\n",
       "      <td>0</td>\n",
       "    </tr>\n",
       "    <tr>\n",
       "      <th>3</th>\n",
       "      <td>Muestra4</td>\n",
       "      <td>0</td>\n",
       "    </tr>\n",
       "    <tr>\n",
       "      <th>4</th>\n",
       "      <td>Muestra5</td>\n",
       "      <td>1</td>\n",
       "    </tr>\n",
       "    <tr>\n",
       "      <th>5</th>\n",
       "      <td>Muestra6</td>\n",
       "      <td>1</td>\n",
       "    </tr>\n",
       "    <tr>\n",
       "      <th>6</th>\n",
       "      <td>Muestra7</td>\n",
       "      <td>1</td>\n",
       "    </tr>\n",
       "    <tr>\n",
       "      <th>7</th>\n",
       "      <td>Muestra8</td>\n",
       "      <td>1</td>\n",
       "    </tr>\n",
       "    <tr>\n",
       "      <th>8</th>\n",
       "      <td>Muestra9</td>\n",
       "      <td>1</td>\n",
       "    </tr>\n",
       "    <tr>\n",
       "      <th>9</th>\n",
       "      <td>Muestra10</td>\n",
       "      <td>1</td>\n",
       "    </tr>\n",
       "  </tbody>\n",
       "</table>\n",
       "</div>"
      ],
      "text/plain": [
       "     Muestra  y\n",
       "0   Muestra1  0\n",
       "1   Muestra2  0\n",
       "2   Muestra3  0\n",
       "3   Muestra4  0\n",
       "4   Muestra5  1\n",
       "5   Muestra6  1\n",
       "6   Muestra7  1\n",
       "7   Muestra8  1\n",
       "8   Muestra9  1\n",
       "9  Muestra10  1"
      ]
     },
     "execution_count": 2,
     "metadata": {},
     "output_type": "execute_result"
    }
   ],
   "source": [
    "# libreria para operar arrays\n",
    "import numpy as np\n",
    "import pandas as pd\n",
    "\n",
    "# Datos de ejemplo\n",
    "\n",
    "# variable predictora\n",
    "X = np.array(['Muestra1', 'Muestra2', 'Muestra3', 'Muestra4', 'Muestra5', \n",
    "              'Muestra6', 'Muestra7', 'Muestra8', 'Muestra9', 'Muestra10'])\n",
    "#variable objetivo\n",
    "y = np.array([0, 0, 0, 0, 1, 1, 1, 1, 1, 1])\n",
    "\n",
    "# dataframe con las variables\n",
    "df = pd.DataFrame({'Muestra': X, 'y':y})\n",
    "\n",
    "# mostrar dataframe\n",
    "df"
   ]
  },
  {
   "cell_type": "markdown",
   "id": "e753962e",
   "metadata": {},
   "source": [
    "Seleccionamos la cantidad de folds que requerimos"
   ]
  },
  {
   "cell_type": "code",
   "execution_count": 3,
   "id": "8001d3f8",
   "metadata": {},
   "outputs": [],
   "source": [
    "# numero de folds\n",
    "k = 2"
   ]
  },
  {
   "cell_type": "markdown",
   "id": "57eec2a3",
   "metadata": {},
   "source": [
    "### 1.- Dividir los datos por clase\n",
    "Seleccionamos los indices de cada clase, que en este caso son dos: Clase de tipo 0 y clase de tipo 1"
   ]
  },
  {
   "cell_type": "code",
   "execution_count": 4,
   "id": "1d2b6cbc",
   "metadata": {},
   "outputs": [
    {
     "name": "stdout",
     "output_type": "stream",
     "text": [
      "[0 1 2 3]   [4 5 6 7 8 9]\n"
     ]
    }
   ],
   "source": [
    "# indice de cada clase\n",
    "index_clase0 = np.where(y == 0)[0]\n",
    "index_clase1 = np.where(y == 1)[0]\n",
    "print(index_clase0, ' ', index_clase1)"
   ]
  },
  {
   "cell_type": "markdown",
   "id": "3e402c9f",
   "metadata": {},
   "source": [
    "Mezclamos los indices de cada clase para asegurar aleatoriedad en la seleccion"
   ]
  },
  {
   "cell_type": "code",
   "execution_count": 5,
   "id": "fec4ec7a",
   "metadata": {},
   "outputs": [],
   "source": [
    "# mezcla aleatoria de los indices\n",
    "np.random.shuffle(index_clase0)\n",
    "np.random.shuffle(index_clase1)\n"
   ]
  },
  {
   "cell_type": "markdown",
   "id": "6613417e",
   "metadata": {},
   "source": [
    "### 2.- Dividimos cada clase en $k$ folds\n",
    "Dividimos los indices en $k$ folds que en este caso decidimos que fueran 2 folds"
   ]
  },
  {
   "cell_type": "code",
   "execution_count": 6,
   "id": "bfb66a1e",
   "metadata": {},
   "outputs": [
    {
     "name": "stdout",
     "output_type": "stream",
     "text": [
      "[array([1, 3]), array([2, 0])]   [array([6, 7, 5]), array([4, 9, 8])]\n"
     ]
    }
   ],
   "source": [
    "fold_clase0 = np.array_split(index_clase0, k)\n",
    "fold_clase1 = np.array_split(index_clase1, k)\n",
    "print(fold_clase0, ' ', fold_clase1)"
   ]
  },
  {
   "cell_type": "markdown",
   "id": "1984c1de",
   "metadata": {},
   "source": [
    "### 3.- Combinar los folds\n",
    "Creamos los folds combinando las clases estratificadas"
   ]
  },
  {
   "cell_type": "code",
   "execution_count": 8,
   "id": "20529881",
   "metadata": {},
   "outputs": [
    {
     "name": "stdout",
     "output_type": "stream",
     "text": [
      "[array([1, 3, 6, 7, 5]), array([2, 0, 4, 9, 8])]\n"
     ]
    }
   ],
   "source": [
    "folds = []\n",
    "for i in range(k):\n",
    "    fold = np.concatenate((fold_clase0[i], fold_clase1[i]))\n",
    "    folds.append(fold)\n",
    "print(folds)\n"
   ]
  },
  {
   "cell_type": "markdown",
   "id": "5f0e38de",
   "metadata": {},
   "source": [
    "### 4.- Crear los conjuntos de entrenamiento y preba\n",
    "Generamos los conjuntos de entrenamiento y de prueba"
   ]
  },
  {
   "cell_type": "code",
   "execution_count": 10,
   "id": "d6a3a81c",
   "metadata": {},
   "outputs": [
    {
     "name": "stdout",
     "output_type": "stream",
     "text": [
      "Iteracion 1\n",
      "Datos de prueba:  ['Muestra2' 'Muestra4' 'Muestra7' 'Muestra8' 'Muestra6'] [0 0 1 1 1]\n",
      "Datos de entrenamiento:  ['Muestra3' 'Muestra1' 'Muestra5' 'Muestra10' 'Muestra9'] [0 0 1 1 1]\n",
      " \n",
      "Iteracion 2\n",
      "Datos de prueba:  ['Muestra3' 'Muestra1' 'Muestra5' 'Muestra10' 'Muestra9'] [0 0 1 1 1]\n",
      "Datos de entrenamiento:  ['Muestra2' 'Muestra4' 'Muestra7' 'Muestra8' 'Muestra6'] [0 0 1 1 1]\n",
      " \n"
     ]
    }
   ],
   "source": [
    "for i in range(k):\n",
    "    # indices de observaciones para prueba\n",
    "    test_index = folds[i]\n",
    "    # indice de observaciones para entrenamiento\n",
    "    train_index = np.concatenate([folds[j] for j in range(k) if j != i])\n",
    "    # datos de entrenamiento\n",
    "    X_train, y_train = X[train_index], y[train_index]\n",
    "    # datos de prueba\n",
    "    X_test, y_test = X[test_index], y[test_index]\n",
    "    \n",
    "    # mostrar conjuntos de cada iteracion\n",
    "    print(f'Iteracion {i+1}')\n",
    "    print('Datos de prueba: ', X_test, y_test)\n",
    "    print('Datos de entrenamiento: ', X_train, y_train)\n",
    "    print(' ')"
   ]
  }
 ],
 "metadata": {
  "kernelspec": {
   "display_name": "Python 3 (ipykernel)",
   "language": "python",
   "name": "python3"
  },
  "language_info": {
   "codemirror_mode": {
    "name": "ipython",
    "version": 3
   },
   "file_extension": ".py",
   "mimetype": "text/x-python",
   "name": "python",
   "nbconvert_exporter": "python",
   "pygments_lexer": "ipython3",
   "version": "3.9.12"
  }
 },
 "nbformat": 4,
 "nbformat_minor": 5
}
