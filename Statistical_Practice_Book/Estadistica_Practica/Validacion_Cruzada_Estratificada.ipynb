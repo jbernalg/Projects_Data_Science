{
 "cells": [
  {
   "cell_type": "markdown",
   "id": "7bd3e6ca",
   "metadata": {},
   "source": [
    "# Validacion Cruzada Estratificada"
   ]
  },
  {
   "cell_type": "markdown",
   "id": "642aa980",
   "metadata": {},
   "source": [
    "Es una tecnica que se usa para evaluar modelos de manera mas confiable. Es una variante de la validacion K-Fold donde la division en folds se hace de tal manera que se preservan las proporciones de las clases en cada fold. Esto es especialmente util cuando se trabaja con conjuntos de datos desbalanceados."
   ]
  },
  {
   "cell_type": "markdown",
   "id": "e113539f",
   "metadata": {},
   "source": [
    "## Proceso de la Validacion Cruzada Estratificada"
   ]
  },
  {
   "cell_type": "markdown",
   "id": "4b172079",
   "metadata": {},
   "source": [
    "Supongamos que tenemos el siguiente conjunto de datos que consta de una variable predictora (*X*) y una variable objetivo (*y*) que contiene dos clases: 0 y 1."
   ]
  },
  {
   "cell_type": "markdown",
   "id": "8936fc0e",
   "metadata": {},
   "source": [
    "- Datos (X) : [*Muestra1, Muestra2, Muestra3, Muestra4, Muestra5, Muestra6, Muestra7, Muestra8, Muestra9, Muestra10*]\n",
    "\n",
    "- Etiquetas (y) : [0, 0, 0, 0, 1, 1, 1, 1, 1, 1]"
   ]
  },
  {
   "cell_type": "markdown",
   "id": "af4adfeb",
   "metadata": {},
   "source": [
    "Vamos a realizar una validacion cruzada estratificada K-Fold con $k = 2$. El proceso general de este metodo es el siguiente:"
   ]
  },
  {
   "cell_type": "markdown",
   "id": "47c67c79",
   "metadata": {},
   "source": [
    "### 1.- Dividir el conjunto de datos por clase\n",
    "\n",
    "Separamos los datos por clase"
   ]
  },
  {
   "cell_type": "markdown",
   "id": "055a5b04",
   "metadata": {},
   "source": [
    "- Clase 0 : [*Muestra1, Muestra2, Muestra3, Muestra4*]\n",
    "- Clase 1 : [*Muestra5, Muestra6, Muestra7, Muestra8, Muestra9, Muestra10*]"
   ]
  },
  {
   "cell_type": "markdown",
   "id": "ffefe57d",
   "metadata": {},
   "source": [
    "### 2.- Dividir cada clase en $k$ Folds\n",
    "Dividimos cada clase en $k$ folds. En este caso, $k=2$"
   ]
  },
  {
   "cell_type": "markdown",
   "id": "8b20dcfb",
   "metadata": {},
   "source": [
    "**Para la clase 0 tenemos 4 muestras**:\n",
    "- Fold 1 : [*Muestra1, Muestra2*]\n",
    "- Fold 2 : [*Muestra3, Muestra4*]\n",
    "\n",
    "**Para la clase 1 tenemos 6 muestras**:\n",
    "- Fold 1 : [*Muestra5, Muestra6, Muestra7*]\n",
    "- Fold 2 : [*Muestra8, Muestra9, Muestra10*]"
   ]
  },
  {
   "cell_type": "code",
   "execution_count": null,
   "id": "039a343b",
   "metadata": {},
   "outputs": [],
   "source": []
  },
  {
   "cell_type": "code",
   "execution_count": null,
   "id": "2c30d0bb",
   "metadata": {},
   "outputs": [],
   "source": []
  }
 ],
 "metadata": {
  "kernelspec": {
   "display_name": "Python 3 (ipykernel)",
   "language": "python",
   "name": "python3"
  },
  "language_info": {
   "codemirror_mode": {
    "name": "ipython",
    "version": 3
   },
   "file_extension": ".py",
   "mimetype": "text/x-python",
   "name": "python",
   "nbconvert_exporter": "python",
   "pygments_lexer": "ipython3",
   "version": "3.9.12"
  }
 },
 "nbformat": 4,
 "nbformat_minor": 5
}
