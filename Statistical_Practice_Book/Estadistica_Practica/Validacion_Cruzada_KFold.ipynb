{
 "cells": [
  {
   "cell_type": "markdown",
   "id": "39f4c0c7",
   "metadata": {},
   "source": [
    "# Validacion Cruzada K-Fold"
   ]
  },
  {
   "cell_type": "markdown",
   "id": "ca6de7fe",
   "metadata": {},
   "source": [
    "Es una tecnica robusta para evaluar el rendimiento de un modelo de Machine Learning y evitar problemas como el sobreajuste (*overfitting*). El proceso general de este metodo es el siguiente:\n",
    "\n",
    "1.- **Dividir de los datos**: El conjunto de datos se divide en $K$ subconjuntos aproximadamente del mismo tamano. A estos se les conoce como \"*Fold*\"\n",
    "\n",
    "2.- **Iterar a traves de los Folds**: Se realizan $K$ iteraciones de entrenamiento y prueba. En cada iteracion, unos de los K folds se utiliza como conjunto de prueba y los otros $K-1$ folds como conjunto de entrenamiento. Esto implica que cada observacion se utiliza exactamente una vez como conjunto de prueba y $K-1$ veces como parte del conjunto de entrenamiento.\n",
    "\n",
    "3.- **Evaluar el modelo**: Se obtienen las metricas del modelo para cada iteracion de los folds. \n",
    "\n",
    "4.- **Promediar resultados**: Despues de las $K$ iteraciones, se promedian las metricas de rendimiento (como precision, MSE, R-cuadrado, entre otros) para obtener una estimacion mas confiable del rendimiento del modelo"
   ]
  },
  {
   "cell_type": "code",
   "execution_count": null,
   "id": "9b98916e",
   "metadata": {},
   "outputs": [],
   "source": []
  },
  {
   "cell_type": "markdown",
   "id": "9708c251",
   "metadata": {},
   "source": [
    "## Ventajas y Desventajas"
   ]
  },
  {
   "cell_type": "markdown",
   "id": "4278cd66",
   "metadata": {},
   "source": [
    "- Al utilizar todos los datos tanto para entrenamiento como para prueba, se obtiene una mejor estimacion del rendimiento del modelo.\n",
    "\n",
    "- Al promediar los resultados de las iteraciones, se reduce la varianza asociada con cualquier particion de los datos.\n",
    "\n",
    "- A diferencia de la validacion Hold Out, se utilizan todos los datos disponibles tanto para entrenamiento como para prueba\n",
    "\n",
    "- Su principal desventaja es que requiere entrena el modelo $K$ veces lo que implica un alto costo computacional especialmente para modelos complejos y grandes conjuntos de datos."
   ]
  },
  {
   "cell_type": "code",
   "execution_count": null,
   "id": "bde448d2",
   "metadata": {},
   "outputs": [],
   "source": []
  },
  {
   "cell_type": "markdown",
   "id": "c14e1456",
   "metadata": {},
   "source": [
    "## Implementacion Manual"
   ]
  },
  {
   "cell_type": "markdown",
   "id": "c99cee6f",
   "metadata": {},
   "source": [
    "Vamos a implementar la Validacion Cruzada K-Fold de forma manual para entender paso a paso, en que consiste este metodo. Para iniciar, creamos un conjunto de datos aleatorio a los cuales aplicaremos la validacion "
   ]
  },
  {
   "cell_type": "code",
   "execution_count": 4,
   "id": "fee47010",
   "metadata": {},
   "outputs": [
    {
     "data": {
      "text/html": [
       "<div>\n",
       "<style scoped>\n",
       "    .dataframe tbody tr th:only-of-type {\n",
       "        vertical-align: middle;\n",
       "    }\n",
       "\n",
       "    .dataframe tbody tr th {\n",
       "        vertical-align: top;\n",
       "    }\n",
       "\n",
       "    .dataframe thead th {\n",
       "        text-align: right;\n",
       "    }\n",
       "</style>\n",
       "<table border=\"1\" class=\"dataframe\">\n",
       "  <thead>\n",
       "    <tr style=\"text-align: right;\">\n",
       "      <th></th>\n",
       "      <th>var_1</th>\n",
       "      <th>var_2</th>\n",
       "      <th>var_3</th>\n",
       "      <th>y</th>\n",
       "    </tr>\n",
       "  </thead>\n",
       "  <tbody>\n",
       "    <tr>\n",
       "      <th>0</th>\n",
       "      <td>0.374540</td>\n",
       "      <td>0.031429</td>\n",
       "      <td>0.642032</td>\n",
       "      <td>2.453255</td>\n",
       "    </tr>\n",
       "    <tr>\n",
       "      <th>1</th>\n",
       "      <td>0.950714</td>\n",
       "      <td>0.636410</td>\n",
       "      <td>0.084140</td>\n",
       "      <td>2.368823</td>\n",
       "    </tr>\n",
       "    <tr>\n",
       "      <th>2</th>\n",
       "      <td>0.731994</td>\n",
       "      <td>0.314356</td>\n",
       "      <td>0.161629</td>\n",
       "      <td>4.663183</td>\n",
       "    </tr>\n",
       "    <tr>\n",
       "      <th>3</th>\n",
       "      <td>0.598658</td>\n",
       "      <td>0.508571</td>\n",
       "      <td>0.898554</td>\n",
       "      <td>4.227003</td>\n",
       "    </tr>\n",
       "    <tr>\n",
       "      <th>4</th>\n",
       "      <td>0.156019</td>\n",
       "      <td>0.907566</td>\n",
       "      <td>0.606429</td>\n",
       "      <td>-0.344229</td>\n",
       "    </tr>\n",
       "    <tr>\n",
       "      <th>...</th>\n",
       "      <td>...</td>\n",
       "      <td>...</td>\n",
       "      <td>...</td>\n",
       "      <td>...</td>\n",
       "    </tr>\n",
       "    <tr>\n",
       "      <th>95</th>\n",
       "      <td>0.493796</td>\n",
       "      <td>0.349210</td>\n",
       "      <td>0.522243</td>\n",
       "      <td>3.317536</td>\n",
       "    </tr>\n",
       "    <tr>\n",
       "      <th>96</th>\n",
       "      <td>0.522733</td>\n",
       "      <td>0.725956</td>\n",
       "      <td>0.769994</td>\n",
       "      <td>3.732305</td>\n",
       "    </tr>\n",
       "    <tr>\n",
       "      <th>97</th>\n",
       "      <td>0.427541</td>\n",
       "      <td>0.897110</td>\n",
       "      <td>0.215821</td>\n",
       "      <td>2.342611</td>\n",
       "    </tr>\n",
       "    <tr>\n",
       "      <th>98</th>\n",
       "      <td>0.025419</td>\n",
       "      <td>0.887086</td>\n",
       "      <td>0.622890</td>\n",
       "      <td>1.309792</td>\n",
       "    </tr>\n",
       "    <tr>\n",
       "      <th>99</th>\n",
       "      <td>0.107891</td>\n",
       "      <td>0.779876</td>\n",
       "      <td>0.085347</td>\n",
       "      <td>-0.402885</td>\n",
       "    </tr>\n",
       "  </tbody>\n",
       "</table>\n",
       "<p>100 rows × 4 columns</p>\n",
       "</div>"
      ],
      "text/plain": [
       "       var_1     var_2     var_3         y\n",
       "0   0.374540  0.031429  0.642032  2.453255\n",
       "1   0.950714  0.636410  0.084140  2.368823\n",
       "2   0.731994  0.314356  0.161629  4.663183\n",
       "3   0.598658  0.508571  0.898554  4.227003\n",
       "4   0.156019  0.907566  0.606429 -0.344229\n",
       "..       ...       ...       ...       ...\n",
       "95  0.493796  0.349210  0.522243  3.317536\n",
       "96  0.522733  0.725956  0.769994  3.732305\n",
       "97  0.427541  0.897110  0.215821  2.342611\n",
       "98  0.025419  0.887086  0.622890  1.309792\n",
       "99  0.107891  0.779876  0.085347 -0.402885\n",
       "\n",
       "[100 rows x 4 columns]"
      ]
     },
     "execution_count": 4,
     "metadata": {},
     "output_type": "execute_result"
    }
   ],
   "source": [
    "# librerias de manejo de datos\n",
    "import numpy as np\n",
    "import pandas as pd\n",
    "\n",
    "# semilla aleatoria\n",
    "np.random.seed(42)\n",
    "\n",
    "# 3 Variables predictoras\n",
    "X = pd.DataFrame({\n",
    "    'var_1': np.random.rand(100),\n",
    "    'var_2': np.random.rand(100),\n",
    "    'var_3': np.random.rand(100),\n",
    "})\n",
    "\n",
    "# Variable objetivo\n",
    "y = 3*X['var_1'] + 2*X['var_3'] + np.random.randn(100)\n",
    "\n",
    "# y convertida en Serie\n",
    "df_y = pd.Series(y, name='y')\n",
    "\n",
    "# concatenamos la variable objetivo con las predictoras\n",
    "df = pd.concat([X, df_y], axis=1)\n",
    "\n",
    "# mostrar datos creados\n",
    "df\n"
   ]
  },
  {
   "cell_type": "markdown",
   "id": "39036ac0",
   "metadata": {},
   "source": [
    "Se han creado 100 observaciones con datos aleatorios para 3 variables predictoras y una objetivo. Decidimos que la variable 'y' presente una relacion lineal con las variables var_1 y var_3 para tener certeza sobre los resultados esperados."
   ]
  }
 ],
 "metadata": {
  "kernelspec": {
   "display_name": "Python 3 (ipykernel)",
   "language": "python",
   "name": "python3"
  },
  "language_info": {
   "codemirror_mode": {
    "name": "ipython",
    "version": 3
   },
   "file_extension": ".py",
   "mimetype": "text/x-python",
   "name": "python",
   "nbconvert_exporter": "python",
   "pygments_lexer": "ipython3",
   "version": "3.9.12"
  }
 },
 "nbformat": 4,
 "nbformat_minor": 5
}
