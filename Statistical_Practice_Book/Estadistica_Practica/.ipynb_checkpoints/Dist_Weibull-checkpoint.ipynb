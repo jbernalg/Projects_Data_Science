{
 "cells": [
  {
   "cell_type": "markdown",
   "id": "ed251f99",
   "metadata": {},
   "source": [
    "# Distribución Weibull"
   ]
  },
  {
   "cell_type": "markdown",
   "id": "0df9edcb",
   "metadata": {},
   "source": [
    "Es una distribución contínua de probabilidad desarrollada por Waloddi Weibull en 1951. Su versatilidad permite modelar datos con diferentes formas de distribucion, haciendola útil en ciencia de datos para predecir tiempos de vida útil y optimizar recursos. Entre las aplicaciones más comunes en ciencia de datos tenemos:\n",
    "\n",
    "- Mantenimiento predictivo de maquinarias mecanicas.\n",
    "- Modelado de tiempos entre eventos.\n",
    "- Evaluación de riesgos.\n",
    "- Detección de fraudes.\n",
    "\n"
   ]
  },
  {
   "cell_type": "code",
   "execution_count": null,
   "id": "63acf7d8",
   "metadata": {},
   "outputs": [],
   "source": []
  },
  {
   "cell_type": "markdown",
   "id": "0f2e3f59",
   "metadata": {},
   "source": [
    "# Deducción de la Distribucion Weibull"
   ]
  },
  {
   "cell_type": "markdown",
   "id": "c2c8f7ab",
   "metadata": {},
   "source": [
    "La D. Weibull se deriva como una generalización de la D. Exponencial para permitir que la tasa de fallo (o la probabilidad de ocurrencia de un evento) sea variable en lugar de constante.\n",
    "\n",
    "Se inicia con la función de supervivencia $S(x)$ que representa la probabilidad de que un evento no haya ocurrido hasta un tiempo $x$:\n",
    "\n",
    "$$S(x) = P(X > x)$$\n",
    "\n",
    "En términos de la función de distribución acumulada $F(x)$ se tiene:\n",
    "\n",
    "$$S(x) = 1 - F(x)$$\n",
    "\n",
    "Para Weibull se postula que la función de supervivencia tiene la forma exponencial generalizada:\n",
    "\n",
    "$$S(x) = e^{-(\\frac{x}{\\lambda })^{k}}$$\n",
    "\n",
    "Donde:\n",
    "\n",
    "- $x \\geq 0$\n",
    "- $\\lambda > 0$ es el parámetro de escala que ajusta el rango de valores de $x$.\n",
    "- $k > 0$ es el parámetro de forma que controla la forma de la distribución.\n",
    "\n",
    "La elección de esta forma de $S(x)$ se basa en su capacidad para modelar tasas de fallo crecientes o decrecientes según el valor de $k$. Obtenemos la función de distribución acumulada $F(x)$ de la ecuación anterior:\n",
    "\n",
    "$$F(x) = 1 - S(x)$$\n",
    "\n",
    "$$F(x) = 1 - e^{-(\\frac{x}{\\lambda })^{k}}$$\n",
    "\n",
    "Esta función representa la probabilidad acumulada __CDF__ de que el evento ocurra antes de un tiempo $x$."
   ]
  },
  {
   "cell_type": "markdown",
   "id": "1fab5f52",
   "metadata": {},
   "source": [
    "La función de distribución de probabilidad __PDF__ se obtiene derivando la CDF con respecto a _x_:\n",
    "\n",
    "$$f(x) = \\frac{dF(x)}{dx}$$\n",
    "\n",
    "Sustityendo $F(x) = 1 - e^{-(\\frac{x}{\\lambda })^{k}}$ en la ecuación anterior obtenemos:\n",
    "\n",
    "$$f(x) = \\frac{\\mathrm{d} }{\\mathrm{d} x}\\left [ 1 - e^{-(\\frac{x}{\\lambda})^k} \\right ]$$\n",
    "\n",
    "Derivando el término exponencial:\n",
    "$$f(x) = \\frac{\\mathrm{d} }{\\mathrm{d} x}\\left [ - e^{-(\\frac{x}{\\lambda})^k} \\right ]$$\n",
    "\n",
    "Usando la regla de la cadena:\n",
    "$$f(x)=e^{-(\\frac{x}{\\lambda})^{k} } \\cdot \\frac{\\mathrm{d} }{\\mathrm{d} x}\\left [ - (\\frac{x}{\\lambda})^{k} \\right ]$$\n",
    "\n",
    "La derivada del exponente es:\n",
    "$$f(x)=e^{-(\\frac{x}{\\lambda})^{k} } \\cdot \\frac{k}{\\lambda} \\cdot \\left ( \\frac{x}{\\lambda} \\right )^{k-1} $$\n",
    "\n",
    "Simplificando obtenemos:\n",
    "$$f(x)= \\frac{k}{\\lambda} \\cdot \\left ( \\frac{x}{\\lambda} \\right )^{k-1} e^{-(\\frac{x}{\\lambda})^k}$$\n",
    "\n",
    "para $x \\geq 0$. Esta función corresponde a la función de densidad de la D. Weibull."
   ]
  },
  {
   "cell_type": "code",
   "execution_count": null,
   "id": "1e6fc461",
   "metadata": {},
   "outputs": [],
   "source": []
  },
  {
   "cell_type": "markdown",
   "id": "b69b73a5",
   "metadata": {},
   "source": [
    "# Función de Densidad de Probabilidad"
   ]
  },
  {
   "cell_type": "markdown",
   "id": "adb34e0c",
   "metadata": {},
   "source": [
    "La función de densidad de probabilidad para la D. Weibull viene dada por:\n",
    "\n",
    "$$ f(x,k,\\lambda) = \\begin{cases}\n",
    " \\frac{k}{\\lambda} \\cdot \\left ( \\frac{x}{\\lambda} \\right )^{k-1} e^{-(\\frac{x}{\\lambda})^k},&  x\\geq 0 \\\\\n",
    "0, &  x<0 \n",
    "\\end{cases}$$\n",
    "\n",
    "donde,\n",
    "- $x$ es la variable aleatoria (el tiempo o la magnitud del evento)\n",
    "- $k>0$ es el parámetro de forma que determina la forma de la curva.\n",
    "- $\\lambda>0$ es el parámetro de escala que estira o comprime la distribución."
   ]
  },
  {
   "attachments": {
    "image.png": {
     "image/png": "[encoded data removed]"
    }
   },
   "cell_type": "markdown",
   "id": "91fdffcb",
   "metadata": {},
   "source": [
    "Los parámetros de la D. Weibull se interpretan como sigue:\n",
    "\n",
    "- $k < 1$: la tasa de fallo disminuye con el tiempo. (producto con desgate temprano)\n",
    "- $k = 1$: la tasa de fallo es contante lo que lleva a la D. exponencial.\n",
    "- $k > 1$: la taa de fallo aumenta con el tiempo. (productos que se degastan con el uso)\n",
    "- $\\lambda$: escala el tiempo o magnitud del evento. Valores altos indican que el evento tarda más en ocurrir. \n",
    "\n",
    "La gráfica de la D. Weibull con valores de $k=6$ y $\\lambda=3$ viene dada por:\n",
    "\n",
    "![image.png](attachment:image.png)"
   ]
  },
  {
   "cell_type": "code",
   "execution_count": null,
   "id": "9eee7775",
   "metadata": {},
   "outputs": [],
   "source": []
  },
  {
   "cell_type": "markdown",
   "id": "61943e12",
   "metadata": {},
   "source": [
    "# Propiedades de la D. Weibull"
   ]
  },
  {
   "cell_type": "markdown",
   "id": "dc6037f1",
   "metadata": {},
   "source": [
    "- __La Función de supervivencia $S(x)$__ mide la probabilidad de que un evento no haya ocurrido hasta $x$ y para la D. Weibull se define como:\n",
    "\n",
    "$$S(x) = P(X>x) = e^{-(\\frac{x}{\\lambda})^k}$$\n",
    "\n",
    "- __Función de Distribución Acumulada (CDF)__ F(x) mide la probabilidad acumulada hasta $x$. Para la D. Weibull se define como:\n",
    "\n",
    "$$F(x)=P(X\\leq x)=1-e^{-(\\frac{x}{\\lambda})^k}$$\n",
    "\n",
    "- __Función de tasa de Fallo (Hazard Function)__ describe la probabilidad instantánea de fallo, dado que el evento no ha ocurrido hasta $x$:\n",
    "\n",
    "$$h(x)=\\frac{F(x)}{S(x)}=\\frac{k}{\\lambda}\\left ( \\frac{x}{\\lambda} \\right )^{k-1}$$\n",
    "\n",
    "    - Si $k=1$, la tasa de fallo es constante, lo que corresponde a la D. Exponencial.\n",
    "    - Si $k>1$, la tasa de fallo aumenta con x lo que es útil para modelar tiempos de vida que empeoran con el tiempo.\n",
    "    - Si $k<1$, la tasa de fallo disminuye con x lo que es útil para modelar tiempos iniciales en el tiempo de vida.\n",
    "    \n",
    "- __La Media o esperanza $\\mu_{E}$__ de la D. Weibull es:\n",
    "\n",
    "$$\\mu_{E} = \\lambda \\cdot\\Gamma \\left ( 1 +\\frac{1}{k} \\right )$$\n",
    "\n",
    "Donde $\\Gamma(z)$ es la función Gamma\n",
    "\n",
    "- __La Varianza $\\sigma^{2}$__ mide la dispersión de la distribución y se calcula como:\n",
    "\n",
    "$$\\sigma^{2} = \\lambda^{2} \\left [ \\Gamma (1 +\\frac{2}{k}) - \\Gamma^{2} (1+\\frac{1}{k}) \\right ]$$\n",
    "\n",
    "- __La Moda $x_{moda}$__ es el valor de x donde la densidad $f(x)$ alcanza su máximo:\n",
    "\n",
    "$$X_{moda} = \\lambda \\cdot\\left ( \\frac{k-1}{k} \\right )^{\\frac{1}{k}}$$\n",
    "\n",
    "Para $k>1$. Si $k \\leq 1$ la distribución no tiene un máximo definido."
   ]
  },
  {
   "cell_type": "code",
   "execution_count": null,
   "id": "a5862acf",
   "metadata": {},
   "outputs": [],
   "source": []
  },
  {
   "cell_type": "markdown",
   "id": "2ac9bd87",
   "metadata": {},
   "source": [
    "## Ejemplo 1: Suponga que la duración  (en años) de una bateria es una variable aleatoria que tiene una distribución Weibull con $k=1.5$ y $\\lambda=2$. Una bateria se considera especial si está entre el 10% de mayor duración."
   ]
  },
  {
   "cell_type": "markdown",
   "id": "387816c0",
   "metadata": {},
   "source": [
    "### a.- Cuánto tiempo se espera que dure una bateria elegida al azar?"
   ]
  },
  {
   "cell_type": "markdown",
   "id": "9ca08590",
   "metadata": {},
   "source": [
    "Para este caso, la variable $X$ representa la duración de la bateria en años. Como nos indican, la variable sigue un proceso de Weibull y como nos piden calcular la esperanza $\\mu_{E}$, podemos asumir que dicha variable sigue una D. Weibull.\n",
    "\n",
    "$$X \\sim We(\\lambda=2, k=1.5)$$"
   ]
  },
  {
   "cell_type": "markdown",
   "id": "e17f8ad6",
   "metadata": {},
   "source": [
    "La fórmula de la esperanza $\\mu_{E}$ viene dada por:\n",
    "\n",
    "$$\\mu_{E} = \\lambda \\cdot\\Gamma \\left ( 1 +\\frac{1}{k} \\right )$$\n",
    "\n",
    "Ya que conocemos los valores de los parámetros, procedemos a resolverlo"
   ]
  },
  {
   "cell_type": "code",
   "execution_count": 2,
   "id": "920bc0c3",
   "metadata": {},
   "outputs": [
    {
     "name": "stdout",
     "output_type": "stream",
     "text": [
      "1.6666666666666665\n"
     ]
    }
   ],
   "source": [
    "# importamos el metodo gamma de la libreria scipy\n",
    "from scipy.special import gamma\n",
    "\n",
    "# asignamos los valores de k y lambda a variables\n",
    "k = 1.5\n",
    "lamb = 2\n",
    "\n",
    "# resolvemos lo que esta entre parentesis\n",
    "param = 1 + (1/k)\n",
    "\n",
    "# mostramos el resultado\n",
    "print(param)"
   ]
  },
  {
   "cell_type": "code",
   "execution_count": 3,
   "id": "4a069097",
   "metadata": {},
   "outputs": [
    {
     "name": "stdout",
     "output_type": "stream",
     "text": [
      "1.805490585901867\n"
     ]
    }
   ],
   "source": [
    "# hallamos el valor de Gamma(1.66)\n",
    "Gamma = gamma(param)\n",
    "\n",
    "# multiplicamos Gamma por lambda\n",
    "result = lamb*Gamma\n",
    "\n",
    "# mostramos el resultado\n",
    "print(result)"
   ]
  },
  {
   "cell_type": "markdown",
   "id": "5d2b5ed7",
   "metadata": {},
   "source": [
    "> El tiempo esperado que dure una bateria elegida al azar es de 1.81 años."
   ]
  },
  {
   "cell_type": "markdown",
   "id": "42922aa6",
   "metadata": {},
   "source": [
    "### b.- Cuál es la probabilidad de que dicha bateria siga funcionando después de dos años?"
   ]
  },
  {
   "attachments": {
    "image.png": {
     "image/png": "[encoded data removed]"
    }
   },
   "cell_type": "markdown",
   "id": "d391eeb5",
   "metadata": {},
   "source": [
    "No piden hallar la probabilidad de que la bateria funcione después de 2 años, es decir\n",
    "\n",
    "$$P(x>2) = 1 - P(x \\leq 2)$$\n",
    "\n",
    "Entonces, debemos hallar $P(x \\leq 2)$ con la Función de distribucion acumulativa __CDF__.  Gráficamente, nos piden hallar la probabilidad que está repesentada por el area sombreada en el siguiente gráfico\n",
    "\n",
    "![image.png](attachment:image.png)\n",
    "\n"
   ]
  },
  {
   "cell_type": "code",
   "execution_count": 4,
   "id": "2354db3a",
   "metadata": {},
   "outputs": [
    {
     "name": "stdout",
     "output_type": "stream",
     "text": [
      "0.6321205588285577\n"
     ]
    }
   ],
   "source": [
    "# importamos la D. Weibull\n",
    "from scipy.stats import weibull_min\n",
    "\n",
    "# representamos los parametros de la D.\n",
    "k = 1.5\n",
    "lamb = 2\n",
    "\n",
    "# calculamos la probabilidad hasta x=2\n",
    "cdf = weibull_min.cdf(2, k, scale=lamb)\n",
    "\n",
    "# mostramos el resultado\n",
    "print(cdf)"
   ]
  },
  {
   "cell_type": "markdown",
   "id": "eb5a362f",
   "metadata": {},
   "source": [
    "Ahora lo que hacemos es sustituir el valor obtenido en la ecuación $P(x > 2)$"
   ]
  },
  {
   "cell_type": "code",
   "execution_count": 5,
   "id": "416326e3",
   "metadata": {},
   "outputs": [
    {
     "name": "stdout",
     "output_type": "stream",
     "text": [
      "0.36787944117144233\n"
     ]
    }
   ],
   "source": [
    "P_2 = 1 - cdf\n",
    "print(P_2)"
   ]
  },
  {
   "cell_type": "markdown",
   "id": "59b1d9e7",
   "metadata": {},
   "source": [
    "> La probabilidad que la bateria funcione después de dos años es de 36.78% "
   ]
  },
  {
   "cell_type": "markdown",
   "id": "1041b45f",
   "metadata": {},
   "source": [
    "### c.- Cuál es el tiempo mínimo de duración de una bateria para estar considerada como especial?"
   ]
  },
  {
   "cell_type": "markdown",
   "id": "973d8c75",
   "metadata": {},
   "source": [
    "Para determinar el tiempo mínimo de duración de una bateria para ser considerada especial, debemos entender que es considerada especial si está entre el 10% de mayor duración, lo que indica que debemos encontrar el percentil 90 de la D. Weibull. Esto se calcula con la función _weibull_min.ppf()_"
   ]
  },
  {
   "cell_type": "code",
   "execution_count": 6,
   "id": "e4177653",
   "metadata": {},
   "outputs": [
    {
     "name": "stdout",
     "output_type": "stream",
     "text": [
      "3.4874430271928234\n"
     ]
    }
   ],
   "source": [
    "# umbral para el 10% de mayor duracion (percentil 90)\n",
    "percentil_90 = weibull_min.ppf(0.9, c=k, scale=lamb)\n",
    "print(percentil_90)"
   ]
  },
  {
   "cell_type": "markdown",
   "id": "ebc3ce28",
   "metadata": {},
   "source": [
    "> Una bateria debe durar como mínimo 3.48 años para estar dentro del 10% de mayor duración y ser considerada 'especial'."
   ]
  },
  {
   "cell_type": "code",
   "execution_count": null,
   "id": "9af1eb86",
   "metadata": {},
   "outputs": [],
   "source": []
  },
  {
   "cell_type": "markdown",
   "id": "5adb0b34",
   "metadata": {},
   "source": [
    "## Ejemplo 2: Una empresa de almacenamiento en la nube desea modelar el tiempo de vida útil de sus discos duros para predecir fallos y optimizar su mantenimiento. Se ha observado que los tiempos de falla de los discos siguen una Distribución Weibull con los siguientes parámetros estimados: $k=1.5$ y $\\lambda = 5000$ en horas"
   ]
  },
  {
   "cell_type": "markdown",
   "id": "ad574613",
   "metadata": {},
   "source": [
    "### a.-  ¿Cuál es la probabilidad de que un disco duro falle antes de alcanzar las 4000 horas de operación?"
   ]
  },
  {
   "attachments": {
    "image-2.png": {
     "image/png": "[encoded data removed]"
    }
   },
   "cell_type": "markdown",
   "id": "3ec2609d",
   "metadata": {},
   "source": [
    "La variable $X$ representa el tiempo de falla de los discos duros. Como indican en el enunciado, la variable sigue una D. Weibull con $k=1.5$ y $\\lambda=5000$ en horas. \n",
    "\n",
    "Nos piden hallar la probabilidad de que el disco duro falle antes de alcanzar las 4000 horas. La siguiente grafica muestra la probabilidad que nos piden calcular como el area sombreada.\n",
    "\n",
    "![image-2.png](attachment:image-2.png)\n",
    "\n",
    "Para calularlo, utilizamos la funcion cdf de la D. de weibull contenida em la libreria _stats_ de _Scipy_ "
   ]
  },
  {
   "cell_type": "code",
   "execution_count": 7,
   "id": "f3723107",
   "metadata": {},
   "outputs": [],
   "source": [
    "# importamos las librerias\n",
    "import numpy as np\n",
    "import scipy.stats as stats\n",
    "\n",
    "# Definimos parametros de la D.\n",
    "k = 1.5 # parametro de forma\n",
    "lamb = 5000 #parametro de escala"
   ]
  },
  {
   "cell_type": "code",
   "execution_count": 8,
   "id": "10d721fa",
   "metadata": {},
   "outputs": [
    {
     "data": {
      "text/plain": [
       "0.5110728376249136"
      ]
     },
     "execution_count": 8,
     "metadata": {},
     "output_type": "execute_result"
    }
   ],
   "source": [
    "# calculamos la probabilidad de que falle antes de 4000\n",
    "prob = stats.weibull_min.cdf(4000, c=k, scale=lamb)\n",
    "prob"
   ]
  },
  {
   "cell_type": "markdown",
   "id": "4ff6c582",
   "metadata": {},
   "source": [
    "> La probabilidad que el disco duro falle antes de las 4000 horas es de 51.11%."
   ]
  },
  {
   "cell_type": "markdown",
   "id": "7172efc9",
   "metadata": {},
   "source": [
    "### b.- ¿Cuál es la vida útil esperada de los discos duros en horas?"
   ]
  },
  {
   "cell_type": "markdown",
   "id": "bf1f3af9",
   "metadata": {},
   "source": [
    "Para calcular la vida util esperada, utilizamos la esperanza de Weibull que viene dada por la siguiente formula:\n",
    "\n",
    "$$\\mu_{E} = \\lambda \\cdot\\Gamma \\left ( 1 +\\frac{1}{k} \\right )$$"
   ]
  },
  {
   "cell_type": "code",
   "execution_count": 9,
   "id": "343523c4",
   "metadata": {},
   "outputs": [
    {
     "data": {
      "text/plain": [
       "4513.726464754668"
      ]
     },
     "execution_count": 9,
     "metadata": {},
     "output_type": "execute_result"
    }
   ],
   "source": [
    "vida_media = lamb*np.math.gamma(1 + 1/k)\n",
    "vida_media"
   ]
  },
  {
   "cell_type": "markdown",
   "id": "0bf7a0ad",
   "metadata": {},
   "source": [
    "> La cantidad promedio de horas que un disco duro operara antes de fallar es de 4514 horas."
   ]
  },
  {
   "cell_type": "markdown",
   "id": "f3896c71",
   "metadata": {},
   "source": [
    "### c.- ¿Cuántas horas deben transcurrir para que el 25% de los discos duros fallen?"
   ]
  },
  {
   "cell_type": "markdown",
   "id": "737188b6",
   "metadata": {},
   "source": [
    "Como nos piden las horas que deben transcurrir para que el 25% de los disco duros fallen, vamos a  utilizar la funcion _ppf_ de la D. Weibull"
   ]
  },
  {
   "cell_type": "code",
   "execution_count": 10,
   "id": "64631058",
   "metadata": {},
   "outputs": [
    {
     "data": {
      "text/plain": [
       "2178.939658515119"
      ]
     },
     "execution_count": 10,
     "metadata": {},
     "output_type": "execute_result"
    }
   ],
   "source": [
    "quantil_25 = stats.weibull_min.ppf(0.25, c=k, scale=lamb)\n",
    "quantil_25"
   ]
  },
  {
   "cell_type": "markdown",
   "id": "e8259b1e",
   "metadata": {},
   "source": [
    "> Deben pasar 2179 horas para que el 25% de los discos duros fallen"
   ]
  },
  {
   "cell_type": "code",
   "execution_count": null,
   "id": "e6f3134f",
   "metadata": {},
   "outputs": [],
   "source": []
  },
  {
   "cell_type": "markdown",
   "id": "cec2edbd",
   "metadata": {},
   "source": [
    "## Ejemplo 3: Una empresa de tecnología administra un conjunto de 100 servidores en la nube y quiere analizar el tiempo hasta la falla de cada uno para predecir el mantenimiento preventivo y reducir el tiempo de inactividad. A partir de datos históricos, se ha determinado que los tiempos hasta la falla (en meses) siguen una distribución Weibull con los siguientes parámetros estimados: $k = 1.5$ y $\\lambda = 12$ en meses"
   ]
  },
  {
   "cell_type": "markdown",
   "id": "a15ba37a",
   "metadata": {},
   "source": [
    "### a.- ¿Cuál es la probabilidad de que un servidor falle antes de 6 meses?"
   ]
  },
  {
   "attachments": {
    "image.png": {
     "image/png": "[encoded data removed]"
    }
   },
   "cell_type": "markdown",
   "id": "fe5534de",
   "metadata": {},
   "source": [
    "La variable $X$ viene representada por el tiempo hasta la falla de los servidores. Como la variable presenta un comportamiento dado por la D. Weibull, la grafica con los parametros dados es la siguiente:\n",
    "\n",
    "![image.png](attachment:image.png)\n",
    "\n",
    "Donde el area sombreada representa la probabilidad que se requiere calcular. En este caso, utilizamos la funcion de distribucion de weibull (cdf) la cual nos da la probabilidad acumulada hasta ciero punto $X$ que en este caso es 6. Vamos a usar la funcion _cdf_ de la D. Weibull contenida el la liberia _stats_"
   ]
  },
  {
   "cell_type": "code",
   "execution_count": 11,
   "id": "772fdb37",
   "metadata": {},
   "outputs": [],
   "source": [
    "# importamos las librerias\n",
    "import numpy as np\n",
    "import scipy.stats as stats\n",
    "\n",
    "# Definimos parametros de la D.\n",
    "k = 1.5 # parametro de forma\n",
    "lamb = 12 #parametro de escala"
   ]
  },
  {
   "cell_type": "code",
   "execution_count": 12,
   "id": "8344b941",
   "metadata": {},
   "outputs": [
    {
     "data": {
      "text/plain": [
       "0.29781149867344037"
      ]
     },
     "execution_count": 12,
     "metadata": {},
     "output_type": "execute_result"
    }
   ],
   "source": [
    "# calculamos la probabilidad de que falle antes de 6\n",
    "prob = stats.weibull_min.cdf(6, c=k, scale=lamb)\n",
    "prob"
   ]
  },
  {
   "cell_type": "markdown",
   "id": "17ea4fe7",
   "metadata": {},
   "source": [
    "> Hay un 29.79% de probabilidad de que un servidor falle antes de 6 meses"
   ]
  },
  {
   "cell_type": "markdown",
   "id": "51988ecc",
   "metadata": {},
   "source": [
    "### b.-  ¿Cuál es la probabilidad de que un servidor supere los 24 meses sin fallar?"
   ]
  },
  {
   "attachments": {
    "image.png": {
     "image/png": "[encoded data removed]"
    }
   },
   "cell_type": "markdown",
   "id": "cd964c5f",
   "metadata": {},
   "source": [
    "En este caso, nos piden hallar la probabilidad de que un servidor supere los 24 meses, es decir\n",
    "\n",
    "$$P(X \\geq 24) = 1 - P(X < 24)$$\n",
    "\n",
    "Debemos hallar $P(X < 24)$ que graficamente consiste en hallar el area sombreada de la siguiente grafica\n",
    "\n",
    "![image.png](attachment:image.png)\n",
    "\n",
    "Calculamos $P(X < 24)$ como en el caso anterior"
   ]
  },
  {
   "cell_type": "code",
   "execution_count": 13,
   "id": "3c6a703c",
   "metadata": {},
   "outputs": [
    {
     "data": {
      "text/plain": [
       "0.9408942534380438"
      ]
     },
     "execution_count": 13,
     "metadata": {},
     "output_type": "execute_result"
    }
   ],
   "source": [
    "# calculamos la probabilidad de que falle antes de 24\n",
    "prob = stats.weibull_min.cdf(24, c=k, scale=lamb)\n",
    "prob"
   ]
  },
  {
   "cell_type": "markdown",
   "id": "3a1b5ed8",
   "metadata": {},
   "source": [
    "Ahora, introducimos el resultado en la ecuacion anterior"
   ]
  },
  {
   "cell_type": "code",
   "execution_count": 14,
   "id": "7daf8fa1",
   "metadata": {},
   "outputs": [
    {
     "data": {
      "text/plain": [
       "0.05910574656195622"
      ]
     },
     "execution_count": 14,
     "metadata": {},
     "output_type": "execute_result"
    }
   ],
   "source": [
    "result = 1 - prob\n",
    "result"
   ]
  },
  {
   "cell_type": "markdown",
   "id": "8e73ddb3",
   "metadata": {},
   "source": [
    "> Solo un 5.91% de los servidores superará los 24 meses sin fallar."
   ]
  },
  {
   "cell_type": "markdown",
   "id": "ebb0c776",
   "metadata": {},
   "source": []
  },
  {
   "cell_type": "markdown",
   "id": "56185f3b",
   "metadata": {},
   "source": [
    "## Ejemplo 4: Un centro de datos está analizando la confiabilidad de sus servidores y quiere modelar los tiempos hasta el fallo para anticipar reemplazos y mejorar la gestión del mantenimiento. Se han recopilado los siguientes tiempos de vida (en meses) de 15 servidores hasta su primer fallo:\n",
    "\n",
    "### 2.5, 3.0, 3.7, 4.2, 4.8, 5.1, 5.5, 6.3, 6.7, 7.0, 7.5, 8.0, 8.3, 8.9, 9.5 2.5, 3.0, 3.7, 4.2, 4.8, 5.1, 5.5, 6.3, 6.7, 7.0, 7.5, 8.0, 8.3, 8.9, 9.5\n",
    "\n",
    "## El equipo de análisis de datos sospecha que estos tiempos de vida siguen una distribución Weibull y desea estimar los parámetros de la distribución (k, λ) para luego responder las siguientes preguntas:."
   ]
  },
  {
   "cell_type": "markdown",
   "id": "2e3668fe",
   "metadata": {},
   "source": [
    "### a.- Estimar los parametros de la distribucion "
   ]
  },
  {
   "cell_type": "markdown",
   "id": "19947731",
   "metadata": {},
   "source": [
    "Para estimar los parametros utilizamos el Metodo de Maxima Verosimilitud __(MLE)__. Vamos a usar la funcion de ajuste de la distribucion de Weibull aportada por la libreria _scipy_ para encontrar los parametros."
   ]
  },
  {
   "cell_type": "code",
   "execution_count": 18,
   "id": "33af861a",
   "metadata": {},
   "outputs": [],
   "source": [
    "# importamos librerias\n",
    "import numpy as np\n",
    "import scipy.stats as stats"
   ]
  },
  {
   "cell_type": "code",
   "execution_count": 20,
   "id": "10abca80",
   "metadata": {},
   "outputs": [
    {
     "data": {
      "text/plain": [
       "array([2.5, 3. , 3.7, 4.2, 4.8, 5.1, 5.5, 6.3, 6.7, 7. , 7.5, 8. , 8.3,\n",
       "       8.9, 9.5, 2.5, 3. , 3.7, 4.2, 4.8, 5.1, 5.5, 6.3, 6.7, 7. , 7.5,\n",
       "       8. , 8.3, 8.9, 9.5])"
      ]
     },
     "execution_count": 20,
     "metadata": {},
     "output_type": "execute_result"
    }
   ],
   "source": [
    "# datos de los tiempos de fallo de los servidores\n",
    "data = np.array([2.5, 3.0, 3.7, 4.2, 4.8, 5.1, 5.5, 6.3, 6.7, 7.0, 7.5, 8.0, 8.3, 8.9, 9.5, 2.5, 3.0, 3.7, 4.2, 4.8, 5.1, 5.5, 6.3, 6.7, 7.0, 7.5, 8.0, 8.3, 8.9, 9.5])\n",
    "data"
   ]
  },
  {
   "cell_type": "code",
   "execution_count": 21,
   "id": "e58392c0",
   "metadata": {},
   "outputs": [
    {
     "name": "stdout",
     "output_type": "stream",
     "text": [
      "Parametro k: 3.2818\n",
      "Parametro lambda: 6.7870\n"
     ]
    }
   ],
   "source": [
    "# etimacion de los arametros usando MLE\n",
    "shape, loc, scale = stats.weibull_min.fit(data, floc=0)\n",
    "print(f'Parametro k: {shape:.4f}')\n",
    "print(f'Parametro lambda: {scale:.4f}')"
   ]
  },
  {
   "cell_type": "markdown",
   "id": "0de0959e",
   "metadata": {},
   "source": [
    "> $k>3.28$ indica que la tasa de fallos aumenta con el tiempo\n",
    "\n",
    "> $\\lambda = 6.78$ indica que el tiempo tipico de fallo es alrededor de 6.7 meses."
   ]
  },
  {
   "attachments": {
    "image.png": {
     "image/png": "[encoded data removed]"
    }
   },
   "cell_type": "markdown",
   "id": "1ede11b6",
   "metadata": {},
   "source": [
    "La grafica de la distribucion con los parametros antes calculados es la siguiente:\n",
    "\n",
    "![image.png](attachment:image.png)"
   ]
  },
  {
   "cell_type": "markdown",
   "id": "f8d8ef8f",
   "metadata": {},
   "source": [
    "### b.- ¿Cuál es la vida media esperada de un servidor?"
   ]
  },
  {
   "cell_type": "markdown",
   "id": "94df4fe5",
   "metadata": {},
   "source": [
    "La vida media esperada nos da una idea de cuanto tiempo, en promedio, funciona un servidor antes de fallar. Se calcula mediante la siguiente ecuacion:\n",
    "\n",
    "$$\\mu_{E} = \\lambda \\cdot\\Gamma \\left ( 1 +\\frac{1}{k} \\right )$$\n",
    "\n",
    "Vamos a calcular $\\mu_{E}$ en Python"
   ]
  },
  {
   "cell_type": "code",
   "execution_count": 22,
   "id": "0aaa77de",
   "metadata": {},
   "outputs": [
    {
     "data": {
      "text/plain": [
       "6.079913341847776"
      ]
     },
     "execution_count": 22,
     "metadata": {},
     "output_type": "execute_result"
    }
   ],
   "source": [
    "# definimos los parametros\n",
    "k = 3.28\n",
    "lamb = 6.78\n",
    "\n",
    "# calculo de la vida media\n",
    "vida_media = lamb*np.math.gamma(1 + 1/k)\n",
    "vida_media"
   ]
  },
  {
   "cell_type": "markdown",
   "id": "b3dee0cd",
   "metadata": {},
   "source": [
    "> En promedio, un servidor funciona 6 meses antes de fallar."
   ]
  },
  {
   "cell_type": "markdown",
   "id": "838dfacb",
   "metadata": {},
   "source": [
    "### c.- ¿Cuál es la probabilidad de que un servidor falle antes de 6 meses?"
   ]
  },
  {
   "attachments": {
    "image.png": {
     "image/png": "[encoded data removed]"
    }
   },
   "cell_type": "markdown",
   "id": "694f64a4",
   "metadata": {},
   "source": [
    "Nos piden hallar $P(x \\leq 6)$. Para ello, utilizamos la funcion de distribucion acumulada __CDF__ de Weibull. Graficamente nos piden encontrar el area sombreada de la siguiente distribucion\n",
    "\n",
    "![image.png](attachment:image.png)"
   ]
  },
  {
   "cell_type": "code",
   "execution_count": 23,
   "id": "7a303e38",
   "metadata": {},
   "outputs": [
    {
     "data": {
      "text/plain": [
       "0.4881555724430695"
      ]
     },
     "execution_count": 23,
     "metadata": {},
     "output_type": "execute_result"
    }
   ],
   "source": [
    "# probabilidad que falle antes de 6 meses\n",
    "prob = stats.weibull_min.cdf(6, k, scale=lamb)\n",
    "prob"
   ]
  },
  {
   "cell_type": "markdown",
   "id": "c09f73d8",
   "metadata": {},
   "source": [
    "> El 48.8% de los servidores se espera que fallen antes de los 6 meses."
   ]
  },
  {
   "cell_type": "markdown",
   "id": "f111741f",
   "metadata": {},
   "source": [
    "### d.- ¿Cuál es la mediana de la distribución?"
   ]
  },
  {
   "cell_type": "markdown",
   "id": "4d28b364",
   "metadata": {},
   "source": [
    "La mediana indica el punto donde el 50% de los servidores han fallado y es el valor de probabilidad que cumple:\n",
    "\n",
    "$$F(x) = 0.5$$\n",
    "\n",
    "Y sabemos que $F(x)$ viene dada por:\n",
    "\n",
    "$$F(x) = 1 - e^{-(\\frac{x}{\\lambda })^{k}}$$\n",
    "\n",
    "Sustituyendo los terminos y resolviendo para x obtenemos:\n",
    "\n",
    "$$x_{mediana} = \\lambda \\cdot (ln 2)^{1/k}$$\n",
    "\n",
    "Y resolviendo en python obtenemos el resultado"
   ]
  },
  {
   "cell_type": "code",
   "execution_count": 24,
   "id": "bafd536b",
   "metadata": {},
   "outputs": [
    {
     "data": {
      "text/plain": [
       "6.063185717281252"
      ]
     },
     "execution_count": 24,
     "metadata": {},
     "output_type": "execute_result"
    }
   ],
   "source": [
    "mediana = lamb*(np.log(2))**(1/k)\n",
    "mediana"
   ]
  },
  {
   "cell_type": "markdown",
   "id": "431624c7",
   "metadata": {},
   "source": [
    "> En 6.06 meses el 50% de los servidores han fallado."
   ]
  },
  {
   "cell_type": "code",
   "execution_count": null,
   "id": "9c20abe8",
   "metadata": {},
   "outputs": [],
   "source": []
  },
  {
   "cell_type": "markdown",
   "id": "1227c6d6",
   "metadata": {},
   "source": [
    "## Ejemplo 5: Un fabricante de chips electrónicos ha determinado que la vida útil (en años) de sus componentes sigue una distribución Weibull con un parámetro de forma 𝑘=1.5 y un parámetro de escala 𝜆=5."
   ]
  },
  {
   "cell_type": "markdown",
   "id": "8e32e601",
   "metadata": {},
   "source": [
    "### a.- ¿Cuál es la probabilidad de que un chip falle antes de los 3 años?"
   ]
  },
  {
   "attachments": {
    "image.png": {
     "image/png": "[encoded data removed]"
    }
   },
   "cell_type": "markdown",
   "id": "c9e6a6c6",
   "metadata": {},
   "source": [
    "La variable $X$ viene representada por la vida util de los chips, sigue una D. Weibull como nos dice el enunciado. Nos piden calcular $P(x \\leq 3)$. Graficamente consiste en hallar el area sombreada de la siguiente distribucion\n",
    "\n",
    "![image.png](attachment:image.png)\n",
    "\n",
    "Usamos la funcion de distribucion acumulada __CDF__ de la D. Weibull para obtener dicha probabilidad"
   ]
  },
  {
   "cell_type": "code",
   "execution_count": 25,
   "id": "a8a0e44b",
   "metadata": {},
   "outputs": [],
   "source": [
    "# importamos las librerias\n",
    "import numpy as np\n",
    "import scipy.stats as stats\n",
    "\n",
    "# definimos los parametros de la D.\n",
    "k = 1.5\n",
    "lamb = 5"
   ]
  },
  {
   "cell_type": "code",
   "execution_count": 26,
   "id": "c01c8eb2",
   "metadata": {},
   "outputs": [
    {
     "data": {
      "text/plain": [
       "0.37171286869100184"
      ]
     },
     "execution_count": 26,
     "metadata": {},
     "output_type": "execute_result"
    }
   ],
   "source": [
    "# calculo de la probabilidad para antes de 3 años\n",
    "prob = stats.weibull_min.cdf(3, k, scale=lamb)\n",
    "prob"
   ]
  },
  {
   "cell_type": "markdown",
   "id": "fc9b4a02",
   "metadata": {},
   "source": [
    "> La probabilidad de que un chip falle antes de los 3 años es de 37.17%"
   ]
  },
  {
   "cell_type": "markdown",
   "id": "c01fae4b",
   "metadata": {},
   "source": [
    "### b.-  ¿Cuál es la vida útil en la que el 50% de los chips ya han fallado?"
   ]
  },
  {
   "cell_type": "markdown",
   "id": "b7408592",
   "metadata": {},
   "source": [
    "El tiempo que debe pasar para que el 50% de los chips fallen se calcula mediante la funcion cuantil __PPF__ de la D. Weibull. Se utiliza una probabilidad de 0.5 y se busca el tiempo que corresponde a dicha probabilidad."
   ]
  },
  {
   "cell_type": "code",
   "execution_count": 27,
   "id": "cb68f463",
   "metadata": {},
   "outputs": [
    {
     "data": {
      "text/plain": [
       "3.916098843873257"
      ]
     },
     "execution_count": 27,
     "metadata": {},
     "output_type": "execute_result"
    }
   ],
   "source": [
    "# calculo del tiempo\n",
    "time = stats.weibull_min.ppf(0.5, k, scale=lamb)\n",
    "time"
   ]
  },
  {
   "cell_type": "markdown",
   "id": "720e6b6b",
   "metadata": {},
   "source": [
    "> El tiempo para que el 50% de los chips fallen es de 3.9 años."
   ]
  },
  {
   "cell_type": "code",
   "execution_count": null,
   "id": "a9810461",
   "metadata": {},
   "outputs": [],
   "source": []
  },
  {
   "cell_type": "markdown",
   "id": "4418813f",
   "metadata": {},
   "source": [
    "## Ejemplo 6: En una empresa de tecnología, los tiempos de duración de los contratos de los empleados siguen una distribución Weibull con 𝑘 = 2.2 y 𝜆=6 (años)."
   ]
  },
  {
   "cell_type": "markdown",
   "id": "de8a91eb",
   "metadata": {},
   "source": [
    "### a.- ¿Cuál es la probabilidad de que un empleado deje la empresa despues de los 4 años?"
   ]
  },
  {
   "attachments": {
    "image.png": {
     "image/png": "[encoded data removed]"
    }
   },
   "cell_type": "markdown",
   "id": "13828943",
   "metadata": {},
   "source": [
    "La variable X viene representada, en este caso, por el tiempo de duracion de los contratos de lo empleados que sigue una D. Weibull. Nos piden hallar $P(x \\geq 4)$ y para ello podemos calcularla a traves del complemento:\n",
    "\n",
    "$$P(x \\geq 4) = 1 - P(x < 4)$$\n",
    "\n",
    "Graficamente, consiste en hallar el area sombreada de la siguiente distribucion\n",
    "\n",
    "![image.png](attachment:image.png)\n",
    "\n",
    "Vamos a utilizar la funcion __CDF__ de la D. Weibull para calcular $P(x < 4)$"
   ]
  },
  {
   "cell_type": "code",
   "execution_count": 28,
   "id": "2746defd",
   "metadata": {},
   "outputs": [],
   "source": [
    "# importar librerias\n",
    "import numpy as np\n",
    "import scipy.stats as stats\n",
    "\n",
    "# definimos los parametros de la D.\n",
    "k = 2.2\n",
    "lamb = 6"
   ]
  },
  {
   "cell_type": "code",
   "execution_count": 29,
   "id": "873f9e01",
   "metadata": {},
   "outputs": [
    {
     "data": {
      "text/plain": [
       "0.33623409105620783"
      ]
     },
     "execution_count": 29,
     "metadata": {},
     "output_type": "execute_result"
    }
   ],
   "source": [
    "# calculo de la probabilidad antes de 4 años\n",
    "prob = stats.weibull_min.cdf(4, k, scale=lamb)\n",
    "prob"
   ]
  },
  {
   "cell_type": "markdown",
   "id": "da9baa10",
   "metadata": {},
   "source": [
    "Ahora, agregamos el resultado a la ecuacion del complemento para obtener la probabilidad solicitada"
   ]
  },
  {
   "cell_type": "code",
   "execution_count": 30,
   "id": "d3742a90",
   "metadata": {},
   "outputs": [
    {
     "data": {
      "text/plain": [
       "0.6637659089437922"
      ]
     },
     "execution_count": 30,
     "metadata": {},
     "output_type": "execute_result"
    }
   ],
   "source": [
    "resul = 1 - prob\n",
    "resul"
   ]
  },
  {
   "cell_type": "markdown",
   "id": "3fd71249",
   "metadata": {},
   "source": [
    "> La probabilidad de que un empleado deje la empresa despues de 4 años es de 66.37%"
   ]
  },
  {
   "cell_type": "markdown",
   "id": "b635ef42",
   "metadata": {},
   "source": [
    "### b.- ¿Cuál es el tiempo esperado en el que el 80% de los empleados habrán salido?"
   ]
  },
  {
   "cell_type": "markdown",
   "id": "95596a0b",
   "metadata": {},
   "source": [
    "Tenemos que calcular el percentil 80, el cual indica el tiempo en que el 80% de los empleados habran salido. Para ello, se utiliza la funcion __PPF__ de la D. Weibull."
   ]
  },
  {
   "cell_type": "code",
   "execution_count": 31,
   "id": "045a3b00",
   "metadata": {},
   "outputs": [
    {
     "data": {
      "text/plain": [
       "7.4489332240832375"
      ]
     },
     "execution_count": 31,
     "metadata": {},
     "output_type": "execute_result"
    }
   ],
   "source": [
    "# calculo del percentil 80\n",
    "tiempo = stats.weibull_min.ppf(0.8, k, scale=lamb)\n",
    "tiempo"
   ]
  },
  {
   "cell_type": "markdown",
   "id": "f33c4832",
   "metadata": {},
   "source": [
    "> En 7.4 años el 80% de los empleados habran salido."
   ]
  },
  {
   "cell_type": "code",
   "execution_count": null,
   "id": "a1fd0868",
   "metadata": {},
   "outputs": [],
   "source": []
  },
  {
   "cell_type": "markdown",
   "id": "51dfab11",
   "metadata": {},
   "source": [
    "## Ejemplo 7: Un analista de datos ha observado que los tiempos entre compras de clientes en una tienda online siguen una distribución Weibull con 𝑘=1.8 y 𝜆=10 (días)."
   ]
  },
  {
   "cell_type": "markdown",
   "id": "af8b166a",
   "metadata": {},
   "source": [
    "### a.- ¿Cuál es la probabilidad de que un cliente realice su siguiente compra en menos de 7 días?"
   ]
  },
  {
   "attachments": {
    "image.png": {
     "image/png": "[encoded data removed]"
    }
   },
   "cell_type": "markdown",
   "id": "814b2557",
   "metadata": {},
   "source": [
    "La variable x viene representada por los tiempos entre compras y sigue una D. Weibull. No piden hallar P(x < 7).\n",
    "\n",
    "Graficamente consiste en encontrar el area sombreada de la siguiente distribucion\n",
    "\n",
    "![image.png](attachment:image.png)\n",
    "\n",
    "Utilizamos la funcion __CDF__ de la D. Weibull para obtener dicha probabilidad\n"
   ]
  },
  {
   "cell_type": "code",
   "execution_count": 32,
   "id": "16d39c35",
   "metadata": {},
   "outputs": [],
   "source": [
    "# importar librerias\n",
    "import numpy as np\n",
    "import scipy.stats as stats\n",
    "\n",
    "# definimos los parametros de la D.\n",
    "k = 1.8\n",
    "lamb = 10"
   ]
  },
  {
   "cell_type": "code",
   "execution_count": 33,
   "id": "ac2a3a3c",
   "metadata": {},
   "outputs": [
    {
     "data": {
      "text/plain": [
       "0.40917242337066073"
      ]
     },
     "execution_count": 33,
     "metadata": {},
     "output_type": "execute_result"
    }
   ],
   "source": [
    "# Calculo de la probailidad en menos de 7 dias\n",
    "prob = stats.weibull_min.cdf(7, k, scale=lamb)\n",
    "prob"
   ]
  },
  {
   "cell_type": "markdown",
   "id": "ec8ab644",
   "metadata": {},
   "source": [
    "> La probabilidad de que un cliente realice su siguiente compra en menos de 7 dias es de 40.91%"
   ]
  },
  {
   "cell_type": "markdown",
   "id": "f1b770b2",
   "metadata": {},
   "source": [
    "### b.- ¿Cuántos días deben pasar para que haya una probabilidad del 90% de que un cliente haya realizado su compra?"
   ]
  },
  {
   "cell_type": "markdown",
   "id": "a5c18187",
   "metadata": {},
   "source": [
    "Nos piden hallar el tiempo esperado para que el 90% de los clientes hayan comprado nuevamente. Utilizamos la funcion __PPF__ de la D. Weibull y calculamos el percentil 90."
   ]
  },
  {
   "cell_type": "code",
   "execution_count": 34,
   "id": "982e36ac",
   "metadata": {},
   "outputs": [
    {
     "data": {
      "text/plain": [
       "15.89391690554513"
      ]
     },
     "execution_count": 34,
     "metadata": {},
     "output_type": "execute_result"
    }
   ],
   "source": [
    "tiempo = stats.weibull_min.ppf(0.9, k, scale=lamb)\n",
    "tiempo"
   ]
  },
  {
   "cell_type": "markdown",
   "id": "24fe2fc9",
   "metadata": {},
   "source": [
    "> Deben pasar al meno 16 dias para que el 90% de los cliente hayan comprado nuevamente"
   ]
  },
  {
   "cell_type": "code",
   "execution_count": null,
   "id": "a7e41156",
   "metadata": {},
   "outputs": [],
   "source": []
  },
  {
   "cell_type": "markdown",
   "id": "835a8738",
   "metadata": {},
   "source": [
    "## Relacion entre la D. Weibull y otras distribuciones"
   ]
  },
  {
   "cell_type": "markdown",
   "id": "11c38535",
   "metadata": {},
   "source": [
    "La D. Exponencial supone una tasa de eventos constante en el tiempo, lo que indica la ausencia de memoria del sistema (el tiempo que pasa desde el ultimo evento no afecta la probabilidad de que ocurra el proximo). Sin embargo, en casos como los componentes mecanicos que tienen una mayor probabilidad de fallar a medida que envejece debido al desgaste, esta distribucion ya no se aplica. En tales caso, la D. de Weibull es adecuada porque permite modelar tasas de fallo que aumentan o disminuyen en el tiempo.\n",
    "\n",
    "La D. de Poisson modela conteos discretos de eventos en un intervalo de tiempo o espacio bajo la suposicion de independencia de los eventos y una tasa de ocurrencia constante. En casos donde, por ejemplo, el numero de llamadas a un centro de soporte tecnico varia segun la hora del dia, la D. de Poisson deja de ser valida. Es alli donde la D. de Weibull es relevante ya que puede modelar esta variabilidad introduciendo una tasa de eventos dependiente del tiempo.\n",
    "\n",
    "En resumen, la D. de Weibull es mas relevante que la Exponencial o Poisson cuando hay una tasa de ocurrencia variable, se requiere flexibilidad en la forma de la distribucion o se analiza la duracion de eventos."
   ]
  }
 ],
 "metadata": {
  "kernelspec": {
   "display_name": "Python 3 (ipykernel)",
   "language": "python",
   "name": "python3"
  },
  "language_info": {
   "codemirror_mode": {
    "name": "ipython",
    "version": 3
   },
   "file_extension": ".py",
   "mimetype": "text/x-python",
   "name": "python",
   "nbconvert_exporter": "python",
   "pygments_lexer": "ipython3",
   "version": "3.9.12"
  }
 },
 "nbformat": 4,
 "nbformat_minor": 5
}
