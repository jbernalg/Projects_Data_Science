{
 "cells": [
  {
   "cell_type": "markdown",
   "id": "ed251f99",
   "metadata": {},
   "source": [
    "# Distribucion Weibull"
   ]
  },
  {
   "cell_type": "markdown",
   "id": "0df9edcb",
   "metadata": {},
   "source": [
    "Es una distribucion continua de probabilidad que modela el tiempo hasta el fallo de un producto o sistema, siendo especialmente util en analisis de confiabilidad, vida util de materiales y analisis de riesgos\n",
    "\n",
    "La D. Exponencial supone una tasa de eventos constante en el tiempo, lo que indica la ausencia de memoria del sistema (el tiempo que pasa desde el ultimo evento no afecta la probabilidad de que ocurra el proximo). Sin embargo, en casos como los componentes mecanicos que tienen una mayor probabilidad de fallar a medida que envejece debido al desgaste, esta distribucion ya no se aplica. En tales caso, la D. de Weibull es adecuada porque permite modelar tasas de fallo que aumentan o disminuyen en el tiempo.\n",
    "\n",
    "La D. de Poisson modela conteos discretos de eventos en un intervalo de tiempo o espacio bajo la suposicion de independencia de los eventos y una tasa de ocurrencia constante. En casos donde, por ejemplo, el numero de llamadas a un centro de soporte tecnico varia segun la hora del dia, la D. de Poisson deja de ser valida. Es alli donde la D. de Weibull es relevante ya que puede modelar esta variabilidad introduciendo una tasa de eventos dependiente del tiempo.\n",
    "\n",
    "En resumen, la D. de Weibull es mas relevante que la Exponencial o Poisson cuando hay una tasa de ocurrencia variable, se requiere flexibilidad en la forma de la distribucion o se analiza la duracion de eventos."
   ]
  },
  {
   "cell_type": "markdown",
   "id": "0f2e3f59",
   "metadata": {},
   "source": [
    "# Deduccion de la Distribucion Weibull"
   ]
  },
  {
   "cell_type": "markdown",
   "id": "c2c8f7ab",
   "metadata": {},
   "source": [
    "La D. Weibull se deriva como una generalizacion de la D. Exponencial para permitir que la tasa de fallo (o la probabilidad de ocurrencia de un evento) sea variable en lugar de constante.\n",
    "\n",
    "Se inicia con la funcion de supervivencia $S(x)$ que representa la probabilidad de que un evento no haya ocurrido hasta un tiempo $x$:\n",
    "\n",
    "$$S(x) = P(X > x)$$\n",
    "\n",
    "En terminos de la funcion de distribucion acumulada $F(x)$ se tiene:\n",
    "\n",
    "$$S(x) = 1 - F(x)$$\n",
    "\n",
    "Para Weibull se postula que la funcion de supervivencia tiene la forma exponencial generalizada:\n",
    "\n",
    "$$S(x) = e^{-(\\frac{x}{\\lambda })^{k}}$$\n",
    "\n",
    "Donde:\n",
    "\n",
    "- $x \\geq 0$\n",
    "- $\\lambda > 0$ es el parametro de escala que ajusta el rango de valores de $x$.\n",
    "- $k > 0$ es el parametro de forma que controla la forma de la distribucion.\n",
    "\n",
    "La eleccion de esta forma de $S(x)$ se basa en su capacidad para modelar tasas de fallo crecientes o decrecientes segun el valor de $k$. Obtenemos la funcion de distribucion acumulada $F(x)$ de la ecuacion anterior:\n",
    "\n",
    "$$F(x) = 1 - S(x)$$\n",
    "\n",
    "$$F(x) = 1 - e^{-(\\frac{x}{\\lambda })^{k}}$$\n",
    "\n",
    "Esta funcion representa la probabilidad acumulada CDF de que el evento ocurra antes de un tiempo $x$."
   ]
  },
  {
   "cell_type": "markdown",
   "id": "1fab5f52",
   "metadata": {},
   "source": [
    "La funcion de distribucion de probabilidad PDF se obtiene derivando la CDF con respecto a x:\n",
    "\n",
    "$$f(x) = \\frac{dF(x)}{dx}$$\n",
    "\n",
    "Sustityendo $F(x) = 1 - e^{-(\\frac{x}{\\lambda })^{k}}$ en la ecuacion anterior obtenemos:\n",
    "\n",
    "$$f(x) = \\frac{\\mathrm{d} }{\\mathrm{d} x}\\left [ 1 - e^{-(\\frac{x}{\\lambda})^k} \\right ]$$\n",
    "\n",
    "Derivando el termino exponencial:\n",
    "$$f(x) = \\frac{\\mathrm{d} }{\\mathrm{d} x}\\left [ - e^{-(\\frac{x}{\\lambda})^k} \\right ]$$\n",
    "\n",
    "Usando la regla de la cadena:\n",
    "$$f(x)=e^{-(\\frac{x}{\\lambda})^{k} } \\cdot \\frac{\\mathrm{d} }{\\mathrm{d} x}\\left [ - (\\frac{x}{\\lambda})^{k} \\right ]$$\n",
    "\n",
    "La derivada del exponente es:\n",
    "$$f(x)=e^{-(\\frac{x}{\\lambda})^{k} } \\cdot \\frac{k}{\\lambda} \\cdot \\left ( \\frac{x}{\\lambda} \\right )^{k-1} $$\n",
    "\n",
    "Simplificando obtenemos:\n",
    "$$f(x)= \\frac{k}{\\lambda} \\cdot \\left ( \\frac{x}{\\lambda} \\right )^{k-1} e^{-(\\frac{x}{\\lambda})^k}$$\n",
    "\n",
    "para $x \\geq 0$. Esta funcion corresponde a la funcion de densidad de la D. Weibull."
   ]
  },
  {
   "cell_type": "markdown",
   "id": "b69b73a5",
   "metadata": {},
   "source": [
    "# Funcion de Densidad de Probabilidad"
   ]
  },
  {
   "cell_type": "markdown",
   "id": "adb34e0c",
   "metadata": {},
   "source": [
    "La funcion de densidad de probabilidad para la D. Weibull viene dada por:\n",
    "\n",
    "$$ f(x,k,\\lambda) = \\begin{cases}\n",
    " \\frac{k}{\\lambda} \\cdot \\left ( \\frac{x}{\\lambda} \\right )^{k-1} e^{-(\\frac{x}{\\lambda})^k},&  x\\geq 0 \\\\\n",
    "0, &  x<0 \n",
    "\\end{cases}$$\n",
    "\n",
    "donde,\n",
    "- $x$ es la variable aleatoria (el tiempo o la magnitud del evento)\n",
    "- $k>0$ es el parametro de forma que determina la forma de la curva.\n",
    "- $\\lambda>0$ es el parametro de escala que estira o comprie la distribucion."
   ]
  },
  {
   "attachments": {
    "image.png": {
     "image/png": "[encoded data removed]"
    }
   },
   "cell_type": "markdown",
   "id": "91fdffcb",
   "metadata": {},
   "source": [
    "Los parametros de la D. Weibull se interpretan coo sigue:\n",
    "\n",
    "- $k < 1$: la tasa de fallo disminuye con el tiempo. (producto con desgate temprano)\n",
    "- $k = 1$: la tasa de fallo es contante lo que lleva a la D. esponencial.\n",
    "- $k > 1$: la taa de fallo aumenta con el tiempo. (productos que se degastan con el uso)\n",
    "- $\\lambda$: escala el tiempo o magnitud del evento. Valores altos indican que el evento tarda mas en ocurrir. \n",
    "\n",
    "La grafica de la D. Weibull con valores de $k=6$ y $\\lambda=3$ viene dada por:\n",
    "\n",
    "![image.png](attachment:image.png)"
   ]
  },
  {
   "cell_type": "markdown",
   "id": "61943e12",
   "metadata": {},
   "source": [
    "# Propiedades de la D. Weibull"
   ]
  },
  {
   "cell_type": "markdown",
   "id": "dc6037f1",
   "metadata": {},
   "source": [
    "- __La Funcion de supervivencia $S(x)$__ mide la probabilidad de que un evento no haya ocurrido hasta $x$ y para la D. Weibull se define como:\n",
    "\n",
    "$$S(x) = P(X>x) = e^{-(\\frac{x}{\\lambda})^k}$$\n",
    "\n",
    "- __Funcion de Distribucion Acumulada (CDF)__ F(x) mide la probabilidad acumulada hasta $x$. Para la D. Weibull se deine como:\n",
    "\n",
    "$$F(x)=P(X\\leq x)=1-e^{-(\\frac{x}{\\lambda})^k}$$\n",
    "\n",
    "- __Funcion de tasa de Fallo (Hazard Function)__ describe la probabilidad instantanea de fallo, dado que el evento no ha ocurrido hasta $x$:\n",
    "\n",
    "$$h(x)=\\frac{F(x)}{S(x)}=\\frac{k}{\\lambda}\\left ( \\frac{x}{\\lambda} \\right )^{k-1}$$\n",
    "\n",
    "    - Si $k=1$, la tasa de fallo es constante, lo que corresponde a la D. Exponencial.\n",
    "    - Si $k>1$, la tasa de fallo aumenta con x lo que es util para modelar tiempos de vida que empeoran con el tiempo.\n",
    "    - Si $k<1$, la tasa de fallo disminuye con x lo que es util para modelar iniciales en el tiempo de vida.\n",
    "    \n",
    "- __La Media o esperanza $\\mu_{E}$__ de la D. Weibull es:\n",
    "\n",
    "$$\\mu_{E} = \\lambda \\cdot\\Gamma \\left ( 1 +\\frac{1}{k} \\right )$$\n",
    "\n",
    "Donde $\\Gamma(z)$ es la funcion Gamma\n",
    "\n",
    "- __La Varianza $\\sigma^{2}$__ mide la dispersion de la distribucion y se calcula como:\n",
    "\n",
    "$$\\sigma^{2} = \\lambda^{2} \\left [ \\Gamma (1 +\\frac{2}{k}) - \\Gamma^{2} (1+\\frac{1}{k}) \\right ]$$\n",
    "\n",
    "- __La Moda $x_{moda}$__ es el valor de x donde la densidad $f(x)$ alcanza su maximo:\n",
    "\n",
    "$$X_{moda} = \\lambda \\cdot\\left ( \\frac{k-1}{k} \\right )^{\\frac{1}{k}}$$\n",
    "\n",
    "Para $k>1$. Si $k \\leq 1$ la distribucion no tiene un maximo definido."
   ]
  },
  {
   "cell_type": "code",
   "execution_count": null,
   "id": "a5862acf",
   "metadata": {},
   "outputs": [],
   "source": []
  },
  {
   "cell_type": "markdown",
   "id": "2ac9bd87",
   "metadata": {},
   "source": [
    "## Ejemplo 1: _Suponga que la duracion  (en anos) de una bateria es una variable aleatoria que tiene una distribucion Weibull con $k=1.5$ y $\\lambda=2$. Una bateria se considera especial si esta entre el 10% de mayor duracion._"
   ]
  },
  {
   "cell_type": "markdown",
   "id": "387816c0",
   "metadata": {},
   "source": [
    "### a.- Cuanto tiempo se espera que dure una bateria elegida al azar?\n",
    "\n",
    "Para este caso la variable $X$ representa la duracion de la bateria en años. Como nos indica la variable sigue un proceso de Weibull y como nos piden calcular la esperanza $\\mu_{E}$, podemos asumir que dicha variable sigue una D. Weibull\n",
    "\n",
    "$$X \\sim We(\\lambda=2, k=1.5)$$"
   ]
  },
  {
   "cell_type": "markdown",
   "id": "e17f8ad6",
   "metadata": {},
   "source": [
    "La formula de $E(x)$ viene dada por:\n",
    "\n",
    "$$\\mu_{E} = \\lambda \\cdot\\Gamma \\left ( 1 +\\frac{1}{k} \\right )$$\n",
    "\n",
    "Como conocemos los valores de los parametros, procedemos a resolverlo"
   ]
  },
  {
   "cell_type": "code",
   "execution_count": 2,
   "id": "920bc0c3",
   "metadata": {},
   "outputs": [
    {
     "name": "stdout",
     "output_type": "stream",
     "text": [
      "1.6666666666666665\n"
     ]
    }
   ],
   "source": [
    "# importamos el metodo gamma de la libreria scipy\n",
    "from scipy.special import gamma\n",
    "\n",
    "# asignamos los valores de k y lambda a variables\n",
    "k = 1.5\n",
    "lamb = 2\n",
    "\n",
    "# resolvemos lo que esta entre parentesis\n",
    "param = 1 + (1/k)\n",
    "\n",
    "# mostramos el resultado\n",
    "print(param)"
   ]
  },
  {
   "cell_type": "code",
   "execution_count": 3,
   "id": "4a069097",
   "metadata": {},
   "outputs": [
    {
     "name": "stdout",
     "output_type": "stream",
     "text": [
      "1.805490585901867\n"
     ]
    }
   ],
   "source": [
    "# hallamos el valor de Gamma(1.66)\n",
    "Gamma = gamma(param)\n",
    "\n",
    "# multiplicamos Gamma por lambda\n",
    "result = lamb*Gamma\n",
    "\n",
    "# mostramos el resultado\n",
    "print(result)"
   ]
  },
  {
   "cell_type": "markdown",
   "id": "5d2b5ed7",
   "metadata": {},
   "source": [
    "> El tiempo esperado que dure una bateria elegida al azar es de 1.81 años."
   ]
  },
  {
   "cell_type": "markdown",
   "id": "42922aa6",
   "metadata": {},
   "source": [
    "### b.- Cual es la probabilidad de que dicha bateria siga funcionando despues de dos años?"
   ]
  },
  {
   "attachments": {
    "image.png": {
     "image/png": "[encoded data removed]"
    }
   },
   "cell_type": "markdown",
   "id": "d391eeb5",
   "metadata": {},
   "source": [
    "No piden hallar la probabilidad de que la bateria funcione despues de 2 anos, es decir\n",
    "\n",
    "$$P(x>2) = 1 - P(x \\leq 2)$$\n",
    "\n",
    "Entonces, debemos hallar $P(x \\leq 2)$ con la Funcion de distribucion acumulativa CDF.  Graficamente lo que nos piden hallar es la probabilidad que esta repesentada por el area sombreada en el siguiente grafico\n",
    "\n",
    "![image.png](attachment:image.png)\n",
    "\n"
   ]
  },
  {
   "cell_type": "code",
   "execution_count": 4,
   "id": "2354db3a",
   "metadata": {},
   "outputs": [
    {
     "name": "stdout",
     "output_type": "stream",
     "text": [
      "0.6321205588285577\n"
     ]
    }
   ],
   "source": [
    "# importamos la D. Weibull\n",
    "from scipy.stats import weibull_min\n",
    "\n",
    "# representamos los parametros de la D.\n",
    "k = 1.5\n",
    "lamb = 2\n",
    "\n",
    "# calculamos la probabilidad hasta x=2\n",
    "cdf = weibull_min.cdf(2, k, scale=lamb)\n",
    "\n",
    "# mostramos el resultado\n",
    "print(cdf)"
   ]
  },
  {
   "cell_type": "markdown",
   "id": "eb5a362f",
   "metadata": {},
   "source": [
    "Ahora lo que hacemos es sustituir el valor obtenido en la ecuacion anterior de $P(x > 2)$"
   ]
  },
  {
   "cell_type": "code",
   "execution_count": 5,
   "id": "416326e3",
   "metadata": {},
   "outputs": [
    {
     "name": "stdout",
     "output_type": "stream",
     "text": [
      "0.36787944117144233\n"
     ]
    }
   ],
   "source": [
    "P_2 = 1 - cdf\n",
    "print(P_2)"
   ]
  },
  {
   "cell_type": "markdown",
   "id": "59b1d9e7",
   "metadata": {},
   "source": [
    "> La probabilidad que la bateria funcione despues de dos años es de 36.78% "
   ]
  },
  {
   "cell_type": "markdown",
   "id": "1041b45f",
   "metadata": {},
   "source": [
    "### c.- Cual es el tiempo minimo de duracion de una bateria para estar considerada como especial?"
   ]
  },
  {
   "cell_type": "markdown",
   "id": "973d8c75",
   "metadata": {},
   "source": [
    "Para determinar el tiempo minimo de duracion de una bateria para ser considerada especial, sabemos que es considerada especial si esta entre el 10% de mayor duracion lo que indica que debemos encontrar el percentil 90 de la D. Weibull. Esto se calcula con la funcion _weibull_min.ppf()_"
   ]
  },
  {
   "cell_type": "code",
   "execution_count": 6,
   "id": "e4177653",
   "metadata": {},
   "outputs": [
    {
     "name": "stdout",
     "output_type": "stream",
     "text": [
      "3.4874430271928234\n"
     ]
    }
   ],
   "source": [
    "# umbral para el 10% de mayor duracion (percentil 90)\n",
    "percentil_90 = weibull_min.ppf(0.9, c=k, scale=lamb)\n",
    "print(percentil_90)"
   ]
  },
  {
   "cell_type": "markdown",
   "id": "ebc3ce28",
   "metadata": {},
   "source": [
    "> Una bateria debe durar como minimo 3.48 años para estar dentro del 10% de mayor duracion y ser considerada 'especial'."
   ]
  },
  {
   "cell_type": "markdown",
   "id": "6d7d344f",
   "metadata": {},
   "source": []
  },
  {
   "cell_type": "markdown",
   "id": "5adb0b34",
   "metadata": {},
   "source": [
    "## Ejemplo 2: Una empresa de almacenamiento en la nube desea modelar el tiempo de vida útil de sus discos duros para predecir fallos y optimizar su mantenimiento. Se ha observado que los tiempos de falla de los discos siguen una Distribución Weibull con los siguientes parámetros estimados: $k=1.5$ y $\\lambda = 5000$ en horas"
   ]
  },
  {
   "cell_type": "markdown",
   "id": "ad574613",
   "metadata": {},
   "source": [
    "### a.-  ¿Cuál es la probabilidad de que un disco duro falle antes de alcanzar las 4000 horas de operación?"
   ]
  },
  {
   "attachments": {
    "image-2.png": {
     "image/png": "[encoded data removed]"
    }
   },
   "cell_type": "markdown",
   "id": "3ec2609d",
   "metadata": {},
   "source": [
    "La variable $X$ representa el tiempo de falla de los discos duros. Como indican en el enunciado, la variable sigue una D. Weibull con $k=1.5$ y $\\lambda=5000$ en horas. \n",
    "\n",
    "Nos piden hallar la probabilidad de que el disco duro falle antes de alcanzar las 4000 horas. La siguiente grafica muestra la probabilidad que nos piden calcular como el area sombreada.\n",
    "\n",
    "![image-2.png](attachment:image-2.png)\n",
    "\n",
    "Para calularlo, utilizamos la funcion cdf de la D. de weibull contenida em la libreria _stats_ de _Scipy_ "
   ]
  },
  {
   "cell_type": "code",
   "execution_count": 7,
   "id": "f3723107",
   "metadata": {},
   "outputs": [],
   "source": [
    "# importamos las librerias\n",
    "import numpy as np\n",
    "import scipy.stats as stats\n",
    "\n",
    "# Definimos parametros de la D.\n",
    "k = 1.5 # parametro de forma\n",
    "lamb = 5000 #parametro de escala"
   ]
  },
  {
   "cell_type": "code",
   "execution_count": 8,
   "id": "10d721fa",
   "metadata": {},
   "outputs": [
    {
     "data": {
      "text/plain": [
       "0.5110728376249136"
      ]
     },
     "execution_count": 8,
     "metadata": {},
     "output_type": "execute_result"
    }
   ],
   "source": [
    "# calculamos la probabilidad de que falle antes de 4000\n",
    "prob = stats.weibull_min.cdf(4000, c=k, scale=lamb)\n",
    "prob"
   ]
  },
  {
   "cell_type": "markdown",
   "id": "4ff6c582",
   "metadata": {},
   "source": [
    "> La probabilidad que el disco duro falle antes de las 4000 horas es de 51.11%."
   ]
  },
  {
   "cell_type": "markdown",
   "id": "7172efc9",
   "metadata": {},
   "source": [
    "### b.- ¿Cuál es la vida útil esperada de los discos duros en horas?"
   ]
  },
  {
   "cell_type": "markdown",
   "id": "bf1f3af9",
   "metadata": {},
   "source": [
    "Para calcular la vida util esperada, utilizamos la esperanza de Weibull que viene dada por la siguiente formula:\n",
    "\n",
    "$$\\mu_{E} = \\lambda \\cdot\\Gamma \\left ( 1 +\\frac{1}{k} \\right )$$"
   ]
  },
  {
   "cell_type": "code",
   "execution_count": 9,
   "id": "343523c4",
   "metadata": {},
   "outputs": [
    {
     "data": {
      "text/plain": [
       "4513.726464754668"
      ]
     },
     "execution_count": 9,
     "metadata": {},
     "output_type": "execute_result"
    }
   ],
   "source": [
    "vida_media = lamb*np.math.gamma(1 + 1/k)\n",
    "vida_media"
   ]
  },
  {
   "cell_type": "markdown",
   "id": "0bf7a0ad",
   "metadata": {},
   "source": [
    "> La cantidad promedio de horas que un disco duro operara antes de fallar es de 4514 horas."
   ]
  },
  {
   "cell_type": "markdown",
   "id": "f3896c71",
   "metadata": {},
   "source": [
    "### c.- ¿Cuántas horas deben transcurrir para que el 25% de los discos duros fallen?"
   ]
  },
  {
   "cell_type": "markdown",
   "id": "737188b6",
   "metadata": {},
   "source": [
    "Como nos piden las horas que deben transcurrir para que el 25% de los disco duros fallen, vamos a  utilizar la funcion _ppf_ de la D. Weibull"
   ]
  },
  {
   "cell_type": "code",
   "execution_count": 10,
   "id": "64631058",
   "metadata": {},
   "outputs": [
    {
     "data": {
      "text/plain": [
       "2178.939658515119"
      ]
     },
     "execution_count": 10,
     "metadata": {},
     "output_type": "execute_result"
    }
   ],
   "source": [
    "quantil_25 = stats.weibull_min.ppf(0.25, c=k, scale=lamb)\n",
    "quantil_25"
   ]
  },
  {
   "cell_type": "markdown",
   "id": "e8259b1e",
   "metadata": {},
   "source": [
    "> Deben pasar 2179 horas para que el 25% de los discos duros fallen"
   ]
  },
  {
   "cell_type": "code",
   "execution_count": null,
   "id": "e6f3134f",
   "metadata": {},
   "outputs": [],
   "source": []
  },
  {
   "cell_type": "markdown",
   "id": "cec2edbd",
   "metadata": {},
   "source": [
    "## Ejemplo 3: Una empresa de tecnología administra un conjunto de 100 servidores en la nube y quiere analizar el tiempo hasta la falla de cada uno para predecir el mantenimiento preventivo y reducir el tiempo de inactividad. A partir de datos históricos, se ha determinado que los tiempos hasta la falla (en meses) siguen una distribución Weibull con los siguientes parámetros estimados: $k = 1.5$ y $\\lambda = 12$ en meses"
   ]
  },
  {
   "cell_type": "markdown",
   "id": "a15ba37a",
   "metadata": {},
   "source": [
    "### a.- ¿Cuál es la probabilidad de que un servidor falle antes de 6 meses?"
   ]
  },
  {
   "attachments": {
    "image.png": {
     "image/png": "[encoded data removed]"
    }
   },
   "cell_type": "markdown",
   "id": "fe5534de",
   "metadata": {},
   "source": [
    "La variable $X$ viene representada por el tiempo hasta la falla de los servidores. Como la variable presenta un comportamiento dado por la D. Weibull, la grafica con los parametros dados es la siguiente:\n",
    "\n",
    "![image.png](attachment:image.png)\n",
    "\n",
    "Donde el area sombreada representa la probabilidad que se requiere calcular. En este caso, utilizamos la funcion de distribucion de weibull (cdf) la cual nos da la probabilidad acumulada hasta ciero punto $X$ que en este caso es 6. Vamos a usar la funcion _cdf_ de la D. Weibull contenida el la liberia _stats_"
   ]
  },
  {
   "cell_type": "code",
   "execution_count": 11,
   "id": "772fdb37",
   "metadata": {},
   "outputs": [],
   "source": [
    "# importamos las librerias\n",
    "import numpy as np\n",
    "import scipy.stats as stats\n",
    "\n",
    "# Definimos parametros de la D.\n",
    "k = 1.5 # parametro de forma\n",
    "lamb = 12 #parametro de escala"
   ]
  },
  {
   "cell_type": "code",
   "execution_count": 12,
   "id": "8344b941",
   "metadata": {},
   "outputs": [
    {
     "data": {
      "text/plain": [
       "0.29781149867344037"
      ]
     },
     "execution_count": 12,
     "metadata": {},
     "output_type": "execute_result"
    }
   ],
   "source": [
    "# calculamos la probabilidad de que falle antes de 6\n",
    "prob = stats.weibull_min.cdf(6, c=k, scale=lamb)\n",
    "prob"
   ]
  },
  {
   "cell_type": "markdown",
   "id": "17ea4fe7",
   "metadata": {},
   "source": [
    "> Hay un 29.79% de probabilidad de que un servidor falle antes de 6 meses"
   ]
  },
  {
   "cell_type": "markdown",
   "id": "51988ecc",
   "metadata": {},
   "source": [
    "### b.-  ¿Cuál es la probabilidad de que un servidor supere los 24 meses sin fallar?"
   ]
  },
  {
   "attachments": {
    "image.png": {
     "image/png": "[encoded data removed]"
    }
   },
   "cell_type": "markdown",
   "id": "cd964c5f",
   "metadata": {},
   "source": [
    "En este caso, nos piden hallar la probabilidad de que un servidor supere los 24 meses, es decir\n",
    "\n",
    "$$P(X \\geq 24) = 1 - P(X < 24)$$\n",
    "\n",
    "Debemos hallar $P(X < 24)$ que graficamente consiste en hallar el area sombreada de la siguiente grafica\n",
    "\n",
    "![image.png](attachment:image.png)\n",
    "\n",
    "Calculamos $P(X < 24)$ como en el caso anterior"
   ]
  },
  {
   "cell_type": "code",
   "execution_count": 13,
   "id": "3c6a703c",
   "metadata": {},
   "outputs": [
    {
     "data": {
      "text/plain": [
       "0.9408942534380438"
      ]
     },
     "execution_count": 13,
     "metadata": {},
     "output_type": "execute_result"
    }
   ],
   "source": [
    "# calculamos la probabilidad de que falle antes de 24\n",
    "prob = stats.weibull_min.cdf(24, c=k, scale=lamb)\n",
    "prob"
   ]
  },
  {
   "cell_type": "markdown",
   "id": "3a1b5ed8",
   "metadata": {},
   "source": [
    "Ahora, introducimos el resultado en la ecuacion anterior"
   ]
  },
  {
   "cell_type": "code",
   "execution_count": 14,
   "id": "ac00f716",
   "metadata": {},
   "outputs": [
    {
     "data": {
      "text/plain": [
       "0.05910574656195622"
      ]
     },
     "execution_count": 14,
     "metadata": {},
     "output_type": "execute_result"
    }
   ],
   "source": [
    "result = 1 - prob\n",
    "result"
   ]
  },
  {
   "cell_type": "markdown",
   "id": "0d11f83d",
   "metadata": {},
   "source": [
    "> Solo un 5.91% de los servidores superará los 24 meses sin fallar."
   ]
  }
 ],
 "metadata": {
  "kernelspec": {
   "display_name": "Python 3 (ipykernel)",
   "language": "python",
   "name": "python3"
  },
  "language_info": {
   "codemirror_mode": {
    "name": "ipython",
    "version": 3
   },
   "file_extension": ".py",
   "mimetype": "text/x-python",
   "name": "python",
   "nbconvert_exporter": "python",
   "pygments_lexer": "ipython3",
   "version": "3.9.12"
  }
 },
 "nbformat": 4,
 "nbformat_minor": 5
}
