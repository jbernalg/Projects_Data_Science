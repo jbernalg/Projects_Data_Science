{
 "cells": [
  {
   "cell_type": "markdown",
   "id": "ed251f99",
   "metadata": {},
   "source": [
    "# Distribucion Weibull"
   ]
  },
  {
   "cell_type": "markdown",
   "id": "0df9edcb",
   "metadata": {},
   "source": [
    "Es una distribucion continua de probabilidad que modela el tiempo hasta el fallo de un producto o sistema, siendo especialmente util en analisis de confiabilidad, vida util de materiales y analisis de riesgos\n",
    "\n",
    "La D. Exponencial supone una tasa de eventos constante en el tiempo, lo que indica la ausencia de memoria del sistema (el tiempo que pasa desde el ultimo evento no afecta la probabilidad de que ocurra el proximo). Sin embargo, en casos como los componentes mecanicos que tienen una mayor probabilidad de fallar a medida que envejece debido al desgaste, esta distribucion ya no se aplica. En tales caso, la D. de Weibull es adecuada porque permite modelar tasas de fallo que aumentan o disminuyen en el tiempo.\n",
    "\n",
    "La D. de Poisson modela conteos discretos de eventos en un intervalo de tiempo o espacio bajo la suposicion de independencia de los eventos y una tasa de ocurrencia constante. En casos donde, por ejemplo, el numero de llamadas a un centro de soporte tecnico varia segun la hora del dia, la D. de Poisson deja de ser valida. Es alli donde la D. de Weibull es relevante ya que puede modelar esta variabilidad introduciendo una tasa de eventos dependiente del tiempo.\n",
    "\n",
    "En resumen, la D. de Weibull es mas relevante que la Exponencial o Poisson cuando hay una tasa de ocurrencia variable, se requiere flexibilidad en la forma de la distribucion o se analiza la duracion de eventos."
   ]
  },
  {
   "cell_type": "markdown",
   "id": "0f2e3f59",
   "metadata": {},
   "source": [
    "# Deduccion de la Distribucion Weibull"
   ]
  },
  {
   "cell_type": "markdown",
   "id": "c2c8f7ab",
   "metadata": {},
   "source": [
    "La D. Weibull se deriva como una generalizacion de la D. Exponencial para permitir que la tasa de fallo (o la probabilidad de ocurrencia de un evento) sea variable en lugar de constante.\n",
    "\n",
    "Se inicia con la funcion de supervivencia $S(x)$ que representa la probabilidad de que un evento no haya ocurrido hasta un tiempo $x$:\n",
    "\n",
    "$$S(x) = P(X > x)$$\n",
    "\n",
    "En terminos de la funcion de distribucion acumulada $F(x)$ se tiene:\n",
    "\n",
    "$$S(x) = 1 - F(x)$$\n",
    "\n",
    "Para Weibull se postula que la funcion de supervivencia tiene la forma exponencial generalizada:\n",
    "\n",
    "$$S(x) = e^{-(\\frac{x}{\\lambda })^{k}}$$\n",
    "\n",
    "Donde:\n",
    "\n",
    "- $x \\geq 0$\n",
    "- $\\lambda > 0$ es el parametro de escala que ajusta el rango de valores de $x$.\n",
    "- $k > 0$ es el parametro de forma que controla la forma de la distribucion.\n",
    "\n",
    "La eleccion de esta forma de $S(x)$ se basa en su capacidad para modelar tasas de fallo crecientes o decrecientes segun el valor de $k$. Obtenemos la funcion de distribucion acumulada $F(x)$ de la ecuacion anterior:\n",
    "\n",
    "$$F(x) = 1 - S(x)$$\n",
    "\n",
    "$$F(x) = 1 - e^{-(\\frac{x}{\\lambda })^{k}}$$\n",
    "\n",
    "Esta funcion representa la probabilidad acumulada CDF de que el evento ocurra antes de un tiempo $x$."
   ]
  },
  {
   "cell_type": "markdown",
   "id": "1fab5f52",
   "metadata": {},
   "source": [
    "La funcion de distribucion de probabilidad PDF se obtiene derivando la CDF con respecto a x:\n",
    "\n",
    "$$f(x) = \\frac{dF(x)}{dx}$$\n",
    "\n",
    "Sustityendo $F(x) = 1 - e^{-(\\frac{x}{\\lambda })^{k}}$ en la ecuacion anterior obtenemos:\n",
    "\n",
    "$$f(x) = \\frac{\\mathrm{d} }{\\mathrm{d} x}\\left [ 1 - e^{-(\\frac{x}{\\lambda})^k} \\right ]$$\n",
    "\n",
    "Derivando el termino exponencial:\n",
    "$$f(x) = \\frac{\\mathrm{d} }{\\mathrm{d} x}\\left [ - e^{-(\\frac{x}{\\lambda})^k} \\right ]$$\n",
    "\n",
    "Usando la regla de la cadena:\n",
    "$$f(x)=e^{-(\\frac{x}{\\lambda})^{k} } \\cdot \\frac{\\mathrm{d} }{\\mathrm{d} x}\\left [ - (\\frac{x}{\\lambda})^{k} \\right ]$$\n",
    "\n",
    "La derivada del exponente es:\n",
    "$$f(x)=e^{-(\\frac{x}{\\lambda})^{k} } \\cdot \\frac{k}{\\lambda} \\cdot \\left ( \\frac{x}{\\lambda} \\right )^{k-1} $$\n",
    "\n",
    "Simplificando obtenemos:\n",
    "$$f(x)= \\frac{k}{\\lambda} \\cdot \\left ( \\frac{x}{\\lambda} \\right )^{k-1} e^{-(\\frac{x}{\\lambda})^k}$$\n",
    "\n",
    "para $x \\geq 0$. Esta funcion corresponde a la funcion de densidad de la D. Weibull."
   ]
  },
  {
   "cell_type": "markdown",
   "id": "b69b73a5",
   "metadata": {},
   "source": [
    "# Funcion de Densidad de Probabilidad"
   ]
  },
  {
   "cell_type": "markdown",
   "id": "adb34e0c",
   "metadata": {},
   "source": [
    "La funcion de densidad de probabilidad para la D. Weibull viene dada por:\n",
    "\n",
    "$$ f(x,k,\\lambda) = \\begin{cases}\n",
    " \\frac{k}{\\lambda} \\cdot \\left ( \\frac{x}{\\lambda} \\right )^{k-1} e^{-(\\frac{x}{\\lambda})^k},&  x\\geq 0 \\\\\n",
    "0, &  x<0 \n",
    "\\end{cases}$$\n",
    "\n",
    "donde,\n",
    "- $x$ es la variable aleatoria (el tiempo o la magnitud del evento)\n",
    "- $k>0$ es el parametro de forma que determina la forma de la curva.\n",
    "- $\\lambda>0$ es el parametro de escala que estira o comprie la distribucion."
   ]
  },
  {
   "attachments": {
    "image.png": {
     "image/png": "[encoded data removed]"
    }
   },
   "cell_type": "markdown",
   "id": "91fdffcb",
   "metadata": {},
   "source": [
    "Los parametros de la D. Weibull se interpretan coo sigue:\n",
    "\n",
    "- $k < 1$: la tasa de fallo disminuye con el tiempo. (producto con desgate temprano)\n",
    "- $k = 1$: la tasa de fallo es contante lo que lleva a la D. esponencial.\n",
    "- $k > 1$: la taa de fallo aumenta con el tiempo. (productos que se degastan con el uso)\n",
    "- $\\lambda$: escala el tiempo o magnitud del evento. Valores altos indican que el evento tarda mas en ocurrir. \n",
    "\n",
    "La grafica de la D. Weibull con valores de $k=6$ y $\\lambda=3$ viene dada por:\n",
    "\n",
    "![image.png](attachment:image.png)"
   ]
  },
  {
   "cell_type": "markdown",
   "id": "61943e12",
   "metadata": {},
   "source": [
    "# Propiedades de la D. Weibull"
   ]
  },
  {
   "cell_type": "markdown",
   "id": "dc6037f1",
   "metadata": {},
   "source": [
    "- __La Funcion de supervivencia $S(x)$__ mide la probabilidad de que un evento no haya ocurrido hasta $x$ y para la D. Weibull se define como:\n",
    "\n",
    "$$S(x) = P(X>x) = e^{-(\\frac{x}{\\lambda})^k}$$\n",
    "\n",
    "- __Funcion de Distribucion Acumulada (CDF)__ F(x) mide la probabilidad acumulada hasta $x$. Para la D. Weibull se deine como:\n",
    "\n",
    "$$F(x)=P(X\\leq x)=1-e^{-(\\frac{x}{\\lambda})^k}$$\n",
    "\n",
    "- __Funcion de tasa de Fallo (Hazard Function)__ describe la probabilidad instantanea de fallo, dado que el evento no ha ocurrido hasta $x$:\n",
    "\n",
    "$$h(x)=\\frac{F(x)}{S(x)}=\\frac{k}{\\lambda}\\left ( \\frac{x}{\\lambda} \\right )^{k-1}$$\n",
    "\n",
    "    - Si $k=1$, la tasa de fallo es constante, lo que corresponde a la D. Exponencial.\n",
    "    - Si $k>1$, la tasa de fallo aumenta con x lo que es util para modelar tiempos de vida que empeoran con el tiempo.\n",
    "    - Si $k<1$, la tasa de fallo disminuye con x lo que es util para modelar iniciales en el tiempo de vida.\n",
    "    \n",
    "- __La Media o esperanza $\\mu_{E}$__ de la D. Weibull es:\n",
    "\n",
    "$$\\mu_{E} = \\lambda \\cdot\\Gamma \\left ( 1 +\\frac{1}{k} \\right )$$\n",
    "\n",
    "Donde $\\Gamma(z)$ es la funcion Gamma\n",
    "\n",
    "- __La Varianza $\\sigma^{2}$__ mide la dispersion de la distribucion y se calcula como:\n",
    "\n",
    "$$\\sigma^{2} = \\lambda^{2} \\left [ \\Gamma (1 +\\frac{2}{k}) - \\Gamma^{2} (1+\\frac{1}{k}) \\right ]$$\n",
    "\n",
    "- __La Moda $x_{moda}$__ es el valor de x donde la densidad $f(x)$ alcanza su maximo:\n",
    "\n",
    "$$X_{moda} = \\lambda \\cdot\\left ( \\frac{k-1}{k} \\right )^{\\frac{1}{k}}$$\n",
    "\n",
    "Para $k>1$. Si $k \\leq 1$ la distribucion no tiene un maximo definido."
   ]
  },
  {
   "cell_type": "code",
   "execution_count": null,
   "id": "f30ebc10",
   "metadata": {},
   "outputs": [],
   "source": []
  },
  {
   "cell_type": "markdown",
   "id": "60d41fd1",
   "metadata": {},
   "source": [
    "## Ejemplo 1: _Suponga que la duracion  (en anos) de una bateria es una variable aleatoria que tiene una distribucion Weibull con $k=1.5$ y $\\lambda=2$. Una bateria se considera especial si esta entre el 10% de mayor duracion._"
   ]
  },
  {
   "cell_type": "markdown",
   "id": "1510dc8e",
   "metadata": {},
   "source": [
    "### a.- Cuanto tiempo se espera que dure una bateria elegida al azar?\n",
    "\n",
    "Para este caso la vaiable $X$ representa la duracion de la bateria en años. Como nos indica la variable sigue un proceso de Weibull y como nos piden calcular la esperanza $\\mu_{E}$, podemos asumir que dicha variable sigue una D. Weibull\n",
    "\n",
    "$$X \\sim We(\\lambda=2, k=1.5)$$"
   ]
  },
  {
   "cell_type": "markdown",
   "id": "78cbd43a",
   "metadata": {},
   "source": [
    "La formula de $E(x)$ viene dada por:\n",
    "\n",
    "$$\\mu_{E} = \\lambda \\cdot\\Gamma \\left ( 1 +\\frac{1}{k} \\right )$$\n",
    "\n",
    "Como conocemos los valores de los parametros, procedemos a resolverlo"
   ]
  },
  {
   "cell_type": "code",
   "execution_count": 2,
   "id": "fb848bdc",
   "metadata": {},
   "outputs": [
    {
     "name": "stdout",
     "output_type": "stream",
     "text": [
      "1.6666666666666665\n"
     ]
    }
   ],
   "source": [
    "# importamos el metodo gamma de la libreria scipy\n",
    "from scipy.special import gamma\n",
    "\n",
    "# asignamos los valores de k y lambda a variables\n",
    "k = 1.5\n",
    "lamb = 2\n",
    "\n",
    "# resolvemos lo que esta entre parentesis\n",
    "param = 1 + (1/k)\n",
    "\n",
    "# mostramos el resultado\n",
    "print(param)"
   ]
  },
  {
   "cell_type": "code",
   "execution_count": 4,
   "id": "5520d99c",
   "metadata": {},
   "outputs": [
    {
     "name": "stdout",
     "output_type": "stream",
     "text": [
      "1.805490585901867\n"
     ]
    }
   ],
   "source": [
    "# hallamos el valor de Gamma(1.66)\n",
    "Gamma = gamma(param)\n",
    "\n",
    "# multiplicamos Gamma por lambda\n",
    "result = lamb*Gamma\n",
    "\n",
    "# mostramos el resultado\n",
    "print(result)"
   ]
  },
  {
   "cell_type": "markdown",
   "id": "947b9602",
   "metadata": {},
   "source": [
    "> El tiempo esperado que dure una bateria elegida al azar es de 1.81 años."
   ]
  },
  {
   "cell_type": "markdown",
   "id": "328e17f5",
   "metadata": {},
   "source": [
    "### b.- Cual es la probabilidad de que dicha bateria siga funcionando despues de dos años?"
   ]
  },
  {
   "attachments": {
    "image.png": {
     "image/png": "[encoded data removed]"
    }
   },
   "cell_type": "markdown",
   "id": "50fe4e7d",
   "metadata": {},
   "source": [
    "No piden hallar la probabilidad de que la bateria funcione despues de 2 anos, es decir\n",
    "\n",
    "$$P(x>2) = 1 - P(x \\leq 2)$$\n",
    "\n",
    "Entonces, debemos hallar $P(x \\leq 2)$ con la Funcion de distribucion acumulativa CDF.  Graficamente lo que nos piden hallar es la probabilidad que esta repesentada por el area sombreada en el siguiente grafico\n",
    "\n",
    "![image.png](attachment:image.png)\n",
    "\n"
   ]
  },
  {
   "cell_type": "code",
   "execution_count": 14,
   "id": "89faa39d",
   "metadata": {},
   "outputs": [
    {
     "name": "stdout",
     "output_type": "stream",
     "text": [
      "0.6321205588285577\n"
     ]
    }
   ],
   "source": [
    "# importamos la D. Weibull\n",
    "from scipy.stats import weibull_min\n",
    "\n",
    "# representamos los parametros de la D.\n",
    "k = 1.5\n",
    "lamb = 2\n",
    "\n",
    "# calculamos la probabilidad hasta x=2\n",
    "cdf = weibull_min.cdf(2, k, scale=lamb)\n",
    "\n",
    "# mostramos el resultado\n",
    "print(cdf)"
   ]
  },
  {
   "cell_type": "markdown",
   "id": "722c42d6",
   "metadata": {},
   "source": [
    "Ahora lo que hacemos es sustituir el valor obtenido en la ecuacion anterior de $P(x > 2)$"
   ]
  },
  {
   "cell_type": "code",
   "execution_count": 15,
   "id": "1054e66b",
   "metadata": {},
   "outputs": [
    {
     "name": "stdout",
     "output_type": "stream",
     "text": [
      "0.36787944117144233\n"
     ]
    }
   ],
   "source": [
    "P_2 = 1 - cdf\n",
    "print(P_2)"
   ]
  },
  {
   "cell_type": "markdown",
   "id": "6a2b9b10",
   "metadata": {},
   "source": [
    "> La probabilidad que la bateria funcione despues de dos años es de 36.78% "
   ]
  }
 ],
 "metadata": {
  "kernelspec": {
   "display_name": "Python 3 (ipykernel)",
   "language": "python",
   "name": "python3"
  },
  "language_info": {
   "codemirror_mode": {
    "name": "ipython",
    "version": 3
   },
   "file_extension": ".py",
   "mimetype": "text/x-python",
   "name": "python",
   "nbconvert_exporter": "python",
   "pygments_lexer": "ipython3",
   "version": "3.9.12"
  }
 },
 "nbformat": 4,
 "nbformat_minor": 5
}
