{
 "cells": [
  {
   "cell_type": "markdown",
   "id": "6240c65a",
   "metadata": {},
   "source": [
    "# Todo sobre la Distribución Gamma"
   ]
  },
  {
   "cell_type": "markdown",
   "id": "729d00b5",
   "metadata": {},
   "source": [
    "Es una D. de probabilidad contínua que se define por medio de dos parámetros: el parámetro de forma $\\alpha$ y el parámetro de escala $\\beta$. Ambos le dan una gran versatilidad para tomar variedad de formas y modelar diferentes fenómenos reales. Además, su habilidad para manejar datos sesgados y con colas largas la hace adecuada para aplicaciones donde otras distribuciones, como la normal, no son adecuadas. Algunas de las aplicaciones más comunes en Ciencia de Datos son:\n",
    "\n",
    "- **Tiempos de respuestas y procesamiento**: Tiempo que se tarda en procesar una tarea o atender una solicitud.\n",
    "\n",
    "- **Tiempo hasta el éxito**: Modelar el tiempo hasta que ocurren varios eventos en un proceso de Poisson (clics en una campaña publicitaria). \n",
    "\n",
    "- **Vida útil de productos**: Modela la vida útil de componentes y sistemas mecánicos o electrónicos ayudando a prever fallos.\n"
   ]
  },
  {
   "cell_type": "code",
   "execution_count": null,
   "id": "f39fb91e",
   "metadata": {},
   "outputs": [],
   "source": []
  },
  {
   "cell_type": "markdown",
   "id": "2585c801",
   "metadata": {},
   "source": [
    "## Deducción de la Distribución Gamma"
   ]
  },
  {
   "cell_type": "markdown",
   "id": "681b9940",
   "metadata": {},
   "source": [
    "Esta distribución se fundamenta en la función Gamma que se define como:\n",
    "\n",
    "$$\\Gamma (\\alpha) = \\int_{0}^{\\infty} x^{\\alpha - 1} e^{-x} dx$$\n",
    "\n",
    "La función Gamma cumple las siguiente propiedades:\n",
    "\n",
    "1.- $\\Gamma(\\alpha + 1) = \\alpha \\Gamma()\\alpha$\n",
    "\n",
    "2.- $\\Gamma(\\alpha + 1) = \\alpha!$ para todo $\\alpha \\in N$\n",
    "\n",
    "3.- $\\Gamma(\\frac{1}{2}) = \\sqrt{\\pi}$\n",
    "\n",
    "4.- $\\Gamma(n) = (n-1)!$ para $n$ entero."
   ]
  },
  {
   "cell_type": "markdown",
   "id": "cb1e4ba4",
   "metadata": {},
   "source": [
    "Para dar mayor flexibilidad a la función Gamma, podemos agregar un parámetro a la exponencial. Para ello, realizamos el siguiente cambio de variable:\n",
    "\n",
    "Sea \n",
    "\n",
    "$$u = \\beta x$$\n",
    "\n",
    "Entonces,\n",
    "\n",
    "$$du = \\beta dx, dx = \\frac{du}{\\beta}$$\n",
    "\n",
    "Sustituimos $x$ por $u$ y su derivada en la función Gamma y obtenemos:\n",
    "\n",
    "$$\\Gamma (\\alpha) = \\int_{0}^{\\infty} x^{\\alpha - 1} e^{-x} dx = \\int_{0}^{\\infty} \\left ( \\frac{u}{\\beta} \\right )^{\\alpha - 1}  e^{-\\frac{u}{\\beta}} \\frac{du}{\\beta}$$\n",
    "\n",
    "Ahora, sacamos $\\beta$ de la integral y nos queda:\n",
    "\n",
    "$$\\Gamma (\\alpha) = \\frac{1}{\\beta^{\\alpha}} \\int_{0}^{\\infty} u^{\\alpha - 1}  e^{-\\frac{u}{\\beta}} du  = \\Gamma(\\alpha) \\beta^{\\alpha}$$\n",
    "\n",
    "Entonces, podemos deducir lo siguiente:\n",
    "\n",
    "$$\\int_{0}^{\\infty} x^{\\alpha - 1} e^{-\\frac{x}{\\beta}} dx =  \\Gamma(\\alpha) \\beta^{\\alpha}$$\n",
    "\n",
    "Debemos entender que al construir funciones de densidad de probabilidad se busca que sean positivas y que el área bajo la curva de esa función valga 1. Por tanto, podemos reescribir la integral anterior como sigue:\n",
    "\n",
    "$$\\int_{0}^{\\infty}\\frac{ x^{\\alpha - 1} e^{-\\frac{x}{\\beta}}}{ \\Gamma(\\alpha) \\beta^{\\alpha}} dx = 1$$\n",
    "\n",
    "Ahora definimos la distribución como sigue: sea $X$ una variable contínua. Si $f(X)$ viene dada por\n",
    "\n",
    "$$f(X) = \\frac{ x^{\\alpha - 1} e^{-\\frac{x}{\\beta}}}{ \\Gamma(\\alpha) \\beta^{\\alpha}}$$\n",
    "\n",
    "Donde $X>0$, $\\beta > 0$ y $\\alpha > 0$. Entonces decimos que $X$ sigue una Distribución Gamma con parámetros $\\alpha$ y $\\beta$\n",
    "\n",
    "$$X \\sim \\Gamma(\\alpha, \\beta)$$\n"
   ]
  },
  {
   "cell_type": "code",
   "execution_count": null,
   "id": "f32b16a2",
   "metadata": {},
   "outputs": [],
   "source": []
  },
  {
   "cell_type": "markdown",
   "id": "b156714a",
   "metadata": {},
   "source": [
    "## Función de Densidad de Probabilidad"
   ]
  },
  {
   "attachments": {
    "image.png": {
     "image/png": "[encoded data removed]"
    }
   },
   "cell_type": "markdown",
   "id": "7fbdb5b4",
   "metadata": {},
   "source": [
    "La función de la D. Gamma viene dada por:\n",
    "\n",
    "$$f(x) = \\Gamma(X = x) = \\left\\{\\begin{matrix}\n",
    " \\frac{ x^{\\alpha - 1} e^{-\\frac{x}{\\beta}}}{ \\Gamma(\\alpha) \\beta^{\\alpha}}& si  & x\\geq0 \\\\ 0\n",
    " & si & x<0\n",
    "\\end{matrix}\\right.$$\n",
    "\n",
    "donde:\n",
    "\n",
    "- $x$ debe ser mayor a cero.\n",
    "\n",
    "- $\\alpha$ es el parámetro de forma y es positivo.\n",
    "\n",
    "- $\\beta$ es el parámetro de escala y es positivo.\n",
    "\n",
    "- $\\Gamma(\\alpha)$ es la integral de cero a infinito de la función Gamma\n",
    "    $$\\Gamma(\\alpha)  = \\int_{0}^{\\infty} x^{\\alpha - 1} e^{-x} dx$$\n",
    "\n",
    "La gráfica de la D. Gamma con parámetros de $\\alpha = 3$ y $\\beta = 1$ es la siguiente:\n",
    "\n",
    "![image.png](attachment:image.png)\n"
   ]
  },
  {
   "cell_type": "code",
   "execution_count": null,
   "id": "3ecdd6ab",
   "metadata": {},
   "outputs": [],
   "source": []
  },
  {
   "cell_type": "markdown",
   "id": "f537f409",
   "metadata": {},
   "source": [
    "## Medidas de la Distribución Gamma"
   ]
  },
  {
   "cell_type": "markdown",
   "id": "9721eb2c",
   "metadata": {},
   "source": [
    "La Media ($\\mu$) o esperanza $E(x)$ depende del grado de polinomio ($\\nu$) de $X$ \n",
    "\n",
    "- Para $\\nu > 1$ tenemos:\n",
    "    $$E(X^{\\nu}) = \\frac{\\beta^{\\nu} \\Gamma(\\nu + \\alpha)}{\\Gamma(\\alpha)}$$\n",
    "    \n",
    "- Para $\\nu = 1$ tenemos:\n",
    "    $$E(X) = \\alpha \\cdot \\beta$$\n",
    "    \n",
    "La Varianza ($\\sigma^{2}$) o varianza matemática $V(x)$ viene dada por\n",
    "\n",
    "$$V(X) = \\alpha \\cdot \\beta^{2}$$\n",
    "\n",
    "La Desviación Estándar ($\\sigma$) viene dada por\n",
    "\n",
    "$$\\sigma = \\sqrt{V(x)} = \\beta \\sqrt{\\alpha}$$\n",
    "\n",
    "En lo que sigue vamos a realizar ejemplos para comprender a profundidad esta distribución."
   ]
  },
  {
   "cell_type": "code",
   "execution_count": null,
   "id": "93c58671",
   "metadata": {},
   "outputs": [],
   "source": []
  },
  {
   "cell_type": "markdown",
   "id": "0edc5276",
   "metadata": {},
   "source": [
    "## Ejemplo 1: *En una ciudad se observa que el consumo diario de energía (en millones de Kw/hora) es una variable aleatoria que sigue una D. Gamma con parámetro $\\alpha = 3$ y $\\beta= 2$. Si la planta de energía que suministra la ciudad tiene una capacidad diaria de generar un máximo de 12 millones de Kw/hora.*"
   ]
  },
  {
   "cell_type": "markdown",
   "id": "91749797",
   "metadata": {},
   "source": [
    "### a.- Cuál es la probabilidad que en un día se consuma cuanto más 1 millón de Kw/hora?"
   ]
  },
  {
   "attachments": {
    "image.png": {
     "image/png": "[encoded data removed]"
    }
   },
   "cell_type": "markdown",
   "id": "621211cd",
   "metadata": {},
   "source": [
    "Nos indican que la variable $X$ sigue una D. Gamma y representa el consumo diario de energía en una ciudad\n",
    "\n",
    "$$X \\sim \\Gamma (x)$$\n",
    "\n",
    "El ejercicio nos da los parámetros de la distribución\n",
    "\n",
    "$$\\alpha = 3, \\beta = 2$$\n",
    "\n",
    "La variable $X$ representa el consumo diario de energía. Nos piden la probabilidad de que en un día se consuma como máximo 1 millón de Kw/hora, es decir\n",
    "\n",
    "$$P(X\\leq1)$$\n",
    "\n",
    "Gráficamente, es calcular el área sombreada\n",
    "\n",
    "![image.png](attachment:image.png)\n",
    "\n",
    "Para obtener dicha probabilidad, debemos integrar la función de densidad $\\Gamma(X\\leq1)$ en el intervalo entre 0 y 1.\n",
    "\n",
    "$$P(X\\leq1) = \\int_{0}^{1}\\frac{ x^{\\alpha - 1} e^{-\\frac{x}{\\beta}}}{ \\Gamma(\\alpha) \\beta^{\\alpha}} dx $$\n",
    "\n",
    "Sustituyamos los valores de los parámetros en la integral\n",
    "\n",
    "$$P(X\\leq1) = \\int_{0}^{1}\\frac{ x^{2} e^{-\\frac{x}{2}}}{ \\Gamma(3) 2^{3}} dx $$\n",
    "\n",
    "Por propiedad, sabemos que $\\Gamma(3) = (2)!$. Sustituimos este valor en la integral\n",
    "\n",
    "$$P(X\\leq1) = \\int_{0}^{1}\\frac{ x^{2} e^{-\\frac{x}{2}}}{ 2!\\cdot 2^{3}} dx $$\n",
    "\n",
    "El valor de $2!$ es $2$ por lo que sacamos la constante de la integral\n",
    "\n",
    "$$P(X\\leq1) = \\frac{1}{16}\\int_{0}^{1} x^{2} e^{-\\frac{x}{2}} dx $$\n",
    "\n",
    "Para resolver la integral resultante, utilizamos una librería de Python llamada *Sympy*."
   ]
  },
  {
   "cell_type": "code",
   "execution_count": 63,
   "id": "768f9783",
   "metadata": {
    "scrolled": true
   },
   "outputs": [
    {
     "data": {
      "text/latex": [
       "$\\displaystyle 0.2302$"
      ],
      "text/plain": [
       "0.2302"
      ]
     },
     "execution_count": 63,
     "metadata": {},
     "output_type": "execute_result"
    }
   ],
   "source": [
    "# libreria para calculo de integrales\n",
    "import sympy as sp\n",
    "\n",
    "# definimos la variable \n",
    "x = sp.Symbol('x')\n",
    "\n",
    "# definimos la funcion a integrar\n",
    "f = (x**2)*sp.exp(-x/2)\n",
    "\n",
    "# calculo de la integral entre 0 y 1\n",
    "integral = sp.integrate(f, (x, 0, 1))\n",
    "\n",
    "# convertir resultado simbolico a decimal\n",
    "integral_val = integral.evalf(4)\n",
    "\n",
    "# mostrar resultado\n",
    "integral_val"
   ]
  },
  {
   "cell_type": "markdown",
   "id": "dc906a7e",
   "metadata": {},
   "source": [
    "Una vez obtenido el resultado de la integral, procedemos a calcular la probabilidad solicitada\n",
    "\n",
    "$$P(X\\leq 1) = \\frac{0.2302}{16}$$"
   ]
  },
  {
   "cell_type": "code",
   "execution_count": 64,
   "id": "82fef49f",
   "metadata": {},
   "outputs": [
    {
     "data": {
      "text/plain": [
       "0.0144"
      ]
     },
     "execution_count": 64,
     "metadata": {},
     "output_type": "execute_result"
    }
   ],
   "source": [
    "# calculo de probabilidad\n",
    "prob = 0.2302/16\n",
    "prob = round(prob, 4)\n",
    "prob"
   ]
  },
  {
   "cell_type": "markdown",
   "id": "5f5987ce",
   "metadata": {},
   "source": [
    "> La probabilidad que haya un dia donde se consuma al menos 1 millón de Kw/hora es de 1.44%"
   ]
  },
  {
   "cell_type": "markdown",
   "id": "3459f743",
   "metadata": {},
   "source": [
    "### b.- Cuál es la probabilidad que este abastecimiento sea insuficiente en un día cualquiera?"
   ]
  },
  {
   "attachments": {
    "image.png": {
     "image/png": "[encoded data removed]"
    }
   },
   "cell_type": "markdown",
   "id": "6b0b568e",
   "metadata": {},
   "source": [
    "Nos piden calcular la probabilidad de que el consumo sea mayor a 12 Kw/hora, es decir\n",
    "\n",
    "$$P(X>12)$$\n",
    "\n",
    "Lo que implica calcular la probabilidad de más de 12 hasta infinito. Sin embargo, para no tomar el camino de la integral de 12 a infinito, acudimos a la propiedad de complemento de probabilidad\n",
    "\n",
    "$$P(X>12) = 1 - P(X \\leq 12)$$\n",
    "\n",
    "Donde $P(X \\leq 12)$ implica calcular la probabilidad desde 0 a 12 que es mucho más viable. Gráficamente, es encontrar el área encerrada entre 12 e infinito \n",
    "\n",
    "![image.png](attachment:image.png)\n",
    "\n",
    "Para obtenerla, vamos a utilizar el método CDF de la D. Gamma contenida en la librería *Scipy* de Python."
   ]
  },
  {
   "cell_type": "code",
   "execution_count": 65,
   "id": "fdc65c56",
   "metadata": {},
   "outputs": [],
   "source": [
    "# libreria para calcular la D Gamma\n",
    "from scipy.stats import gamma"
   ]
  },
  {
   "cell_type": "code",
   "execution_count": 66,
   "id": "9e05f8e8",
   "metadata": {},
   "outputs": [],
   "source": [
    "# parametros de la D\n",
    "\n",
    "# alfa\n",
    "alfa = 3\n",
    "# beta\n",
    "beta = 2\n",
    "# valor limite\n",
    "x = 12"
   ]
  },
  {
   "cell_type": "code",
   "execution_count": 67,
   "id": "71ac40de",
   "metadata": {},
   "outputs": [
    {
     "data": {
      "text/plain": [
       "0.9992"
      ]
     },
     "execution_count": 67,
     "metadata": {},
     "output_type": "execute_result"
    }
   ],
   "source": [
    "# probabilidad acumulada de 0 a 12\n",
    "prob = gamma.cdf(x, alfa, 1/beta)\n",
    "prob = round(prob, 4)\n",
    "prob"
   ]
  },
  {
   "cell_type": "markdown",
   "id": "3de6e9d3",
   "metadata": {},
   "source": [
    "Restando a 1 el resultado obtenido nos queda"
   ]
  },
  {
   "cell_type": "code",
   "execution_count": 68,
   "id": "f6db5de9",
   "metadata": {},
   "outputs": [
    {
     "data": {
      "text/plain": [
       "0.0008"
      ]
     },
     "execution_count": 68,
     "metadata": {},
     "output_type": "execute_result"
    }
   ],
   "source": [
    "proba = 1 - prob\n",
    "proba = round(proba, 4)\n",
    "proba"
   ]
  },
  {
   "cell_type": "markdown",
   "id": "d48b1a1b",
   "metadata": {},
   "source": [
    "> La probabilidad de que el abastecimiento sea insuficiente en cualquier dia es de 0.08%"
   ]
  },
  {
   "cell_type": "markdown",
   "id": "5f33d107",
   "metadata": {},
   "source": [
    "### 3.- Encuentre $E(x)$ y $V(x)$"
   ]
  },
  {
   "cell_type": "markdown",
   "id": "2d07ec23",
   "metadata": {},
   "source": [
    "- La media viene dada por:\n",
    "\n",
    "    $$E(x) = \\alpha \\cdot \\beta$$\n",
    "\n",
    "    Entonces, la media en este caso es de\n",
    "\n",
    "    $$E(x) = 3 \\cdot 2 = 6$$\n",
    "\n",
    "- La varianza $V(x)$ viene dada por\n",
    "\n",
    "    $$V(x) = \\alpha \\cdot \\beta^2$$\n",
    "    \n",
    "    Entonces, la varianza para este caso es de \n",
    "    \n",
    "    $$V(x) = 3\\cdot 2^2 = 3\\cdot 4 = 12$$"
   ]
  },
  {
   "cell_type": "code",
   "execution_count": null,
   "id": "bc7167d2",
   "metadata": {},
   "outputs": [],
   "source": []
  },
  {
   "cell_type": "markdown",
   "id": "3b233de0",
   "metadata": {},
   "source": [
    "## Ejemplo 2: *Suponga que el tiempo, en horas, que toma reparar una bomba sigue una Distribucion Gamma con parametros $\\alpha = 2$ y $\\lambda = 1/2$. Cual es la probabilidad de que el siguiente servicio*"
   ]
  },
  {
   "cell_type": "markdown",
   "id": "e21ba50c",
   "metadata": {},
   "source": [
    "### a.- Tome cuando mucho 1 hora reparar la bomba"
   ]
  },
  {
   "attachments": {
    "image-2.png": {
     "image/png": "[encoded data removed]"
    }
   },
   "cell_type": "markdown",
   "id": "9a72ef51",
   "metadata": {},
   "source": [
    "El enunciado nos indica claramente que la variable $X$ representa el tiempo que toma en reparar una bomba y sigue una D. Gamma.\n",
    "\n",
    "$$X \\sim \\Gamma(x)$$\n",
    "\n",
    "Nos piden calcular la probabilidad que un servicio tome menos de 1 hora, es decir\n",
    "\n",
    "$$P(X \\leq 1)$$\n",
    "\n",
    "Graficamente, es encontrar el area encerrada entre 0 y 1.\n",
    "\n",
    "![image-2.png](attachment:image-2.png)\n",
    "\n",
    "Los parametros dados son $\\alpha = 2$ y $\\lambda = 1/2$, este ultimo es la inversa de $\\beta$ por tanto,\n",
    "\n",
    "$$\\beta = \\frac{1}{\\lambda} = \\frac{1}{1/2} = 2$$\n",
    "\n",
    "Para calcular dicha probabilidad, utilizamos el metodo CDF de la D. Gamma como sigue:"
   ]
  },
  {
   "cell_type": "code",
   "execution_count": 83,
   "id": "4488d2b0",
   "metadata": {},
   "outputs": [],
   "source": [
    "# parametros de la distribucion\n",
    "\n",
    "# alfa\n",
    "alfa = 2\n",
    "# beta\n",
    "beta = 2\n",
    "# valor limite\n",
    "x = 1"
   ]
  },
  {
   "cell_type": "code",
   "execution_count": 84,
   "id": "a302ee3c",
   "metadata": {},
   "outputs": [
    {
     "data": {
      "text/plain": [
       "0.0902"
      ]
     },
     "execution_count": 84,
     "metadata": {},
     "output_type": "execute_result"
    }
   ],
   "source": [
    "# calculo de la probabilidad acmulada desde 0 a 1\n",
    "prob = gamma.cdf(x, alfa, scale=beta)\n",
    "prob = round(prob, 4)\n",
    "prob"
   ]
  },
  {
   "cell_type": "markdown",
   "id": "c3f80d8e",
   "metadata": {},
   "source": [
    "> La probabilidad que el servicio tome menos de 1 hora es de 9.02%"
   ]
  },
  {
   "cell_type": "markdown",
   "id": "b23b02db",
   "metadata": {},
   "source": [
    "### b.- Al menos se requieran 2 horas para reparar la bomba"
   ]
  },
  {
   "attachments": {
    "image-2.png": {
     "image/png": "[encoded data removed]"
    }
   },
   "cell_type": "markdown",
   "id": "99a036cf",
   "metadata": {},
   "source": [
    "Nos piden calcular la probabilidad que un servicio demore mas de dos horas.\n",
    "\n",
    "$$P(X > 2)$$\n",
    "\n",
    "Aplicamos la propiedad del complemento para reescribir la probabilidad solicitada\n",
    "\n",
    "$$P(X > 2) = 1 - P(X \\leq 2)$$\n",
    "\n",
    "Graficamente, es escontrar el valor del area encerrada entre 2 e infinito\n",
    "\n",
    "![image-2.png](attachment:image-2.png)\n",
    "\n",
    "Vamos a utilizar el metodo CDF para encontrar $P(X \\leq 2)$"
   ]
  },
  {
   "cell_type": "code",
   "execution_count": 85,
   "id": "3ed9fcf7",
   "metadata": {},
   "outputs": [],
   "source": [
    "# parametros de la D.\n",
    "\n",
    "# alfa\n",
    "alfa = 2\n",
    "# beta\n",
    "beta = 2\n",
    "# valor limite\n",
    "x = 2"
   ]
  },
  {
   "cell_type": "code",
   "execution_count": 86,
   "id": "2f6f34c6",
   "metadata": {},
   "outputs": [
    {
     "data": {
      "text/plain": [
       "0.2642"
      ]
     },
     "execution_count": 86,
     "metadata": {},
     "output_type": "execute_result"
    }
   ],
   "source": [
    "# calculo de la probabilidad acmulada desde 0 a 2\n",
    "prob = gamma.cdf(x, alfa, scale=beta)\n",
    "prob = round(prob, 4)\n",
    "prob"
   ]
  },
  {
   "cell_type": "markdown",
   "id": "69f79e6c",
   "metadata": {},
   "source": [
    "Ahora, restamos a 1 el valor obtenido"
   ]
  },
  {
   "cell_type": "code",
   "execution_count": 87,
   "id": "26c68f45",
   "metadata": {},
   "outputs": [
    {
     "data": {
      "text/plain": [
       "0.7358"
      ]
     },
     "execution_count": 87,
     "metadata": {},
     "output_type": "execute_result"
    }
   ],
   "source": [
    "proba = 1 - prob\n",
    "proba = round(proba, 4)\n",
    "proba"
   ]
  },
  {
   "cell_type": "markdown",
   "id": "f312f599",
   "metadata": {},
   "source": [
    "> La probabilidad que se requieran mas de 2 horas para reparar una bomba es de 73.58%"
   ]
  },
  {
   "cell_type": "markdown",
   "id": "4f3d7c85",
   "metadata": {},
   "source": [
    "### c.- Que tarde entre 1 y 2 horas"
   ]
  },
  {
   "attachments": {
    "image-2.png": {
     "image/png": "[encoded data removed]"
    }
   },
   "cell_type": "markdown",
   "id": "8a82ea69",
   "metadata": {},
   "source": [
    "En este caso, nos piden calcular la probabilidad que tarde entre 1 y 2 horas el servicio\n",
    "\n",
    "$$P(1 < X < 2) = P(X<2) - P(X<1)$$\n",
    "\n",
    "Graficamente es encontrar el area entre ambos valores\n",
    "\n",
    "![image-2.png](attachment:image-2.png)\n",
    "\n",
    "Siguiendo la formula, vamos a calcular $P(X<1)$ y $P(X<2)$ con el metodo CDF y restar ambos valores directamnete"
   ]
  },
  {
   "cell_type": "code",
   "execution_count": 88,
   "id": "46b9e0f4",
   "metadata": {},
   "outputs": [],
   "source": [
    "# parametros de la D.\n",
    "\n",
    "# alfa\n",
    "alfa = 2\n",
    "# beta\n",
    "beta = 2\n",
    "# limite superior\n",
    "x_sup = 2\n",
    "# limite inferior\n",
    "x_inf = 1"
   ]
  },
  {
   "cell_type": "code",
   "execution_count": 89,
   "id": "5260a100",
   "metadata": {},
   "outputs": [
    {
     "data": {
      "text/plain": [
       "0.174"
      ]
     },
     "execution_count": 89,
     "metadata": {},
     "output_type": "execute_result"
    }
   ],
   "source": [
    "prob = gamma.cdf(x_sup, alfa, scale=beta) - gamma.cdf(x_inf, alfa, scale=beta)\n",
    "prob = round(prob, 4)\n",
    "prob"
   ]
  },
  {
   "cell_type": "markdown",
   "id": "6c9973d0",
   "metadata": {},
   "source": [
    "> La probabilidad que tarde entre 1 y 2 horas el servicio es de 17.4%"
   ]
  },
  {
   "cell_type": "markdown",
   "id": "e0ddb1c1",
   "metadata": {},
   "source": [
    "### c.- Cuanto tiempo como mucho tardara en reparar la bomba para una probabilidad de 0.70?"
   ]
  },
  {
   "attachments": {
    "image-2.png": {
     "image/png": "[encoded data removed]"
    }
   },
   "cell_type": "markdown",
   "id": "1540cbf9",
   "metadata": {},
   "source": [
    "Nos piden calcular el tiempo en horas que podria tardar en reparar la bomba cuando la probabilidad es del 70%.\n",
    "\n",
    "$$T(P=0.7)= ?$$\n",
    "\n",
    "Es decir, nos piden hallar el valor de tiempo que corresponde a una probabilidad del 70%\n",
    "\n",
    "![image-2.png](attachment:image-2.png)\n",
    "\n",
    "Para calcularlo, vamos a utilizar el metodo PPf de la D. Gamma con los parametros indicados\n"
   ]
  },
  {
   "cell_type": "code",
   "execution_count": 90,
   "id": "57e5805b",
   "metadata": {},
   "outputs": [],
   "source": [
    "# parametros de la D.\n",
    "\n",
    "# alfa\n",
    "alfa = 2\n",
    "# beta\n",
    "beta = 2\n",
    "# prob\n",
    "prob = 0.7"
   ]
  },
  {
   "cell_type": "code",
   "execution_count": 91,
   "id": "a825d2e9",
   "metadata": {},
   "outputs": [
    {
     "data": {
      "text/plain": [
       "4.8784"
      ]
     },
     "execution_count": 91,
     "metadata": {},
     "output_type": "execute_result"
    }
   ],
   "source": [
    "time = gamma.ppf(0.70, alfa, scale=beta)\n",
    "time = round(time, 4)\n",
    "time"
   ]
  },
  {
   "cell_type": "markdown",
   "id": "592e627d",
   "metadata": {},
   "source": [
    "> El tiempo estimado para un 70% de probabilidad es de 4.8 horas."
   ]
  },
  {
   "cell_type": "code",
   "execution_count": null,
   "id": "f227c6fd",
   "metadata": {},
   "outputs": [],
   "source": []
  },
  {
   "cell_type": "markdown",
   "id": "77c0ee41",
   "metadata": {},
   "source": [
    "## Ejemplo 3: *Sea X el tiempo de vida en años del equipo de computo adquirido por una empresa. Se sabe que el tiempo de vida se distribuye como Gamma con parametros $\\alpha=4$ y $\\beta=3$*"
   ]
  },
  {
   "cell_type": "markdown",
   "id": "15a78539",
   "metadata": {},
   "source": [
    "### a.- Cual es la probabilidad de que el equipo de computo tenga una vida util de 3 años o menos?"
   ]
  },
  {
   "attachments": {
    "image.png": {
     "image/png": "[encoded data removed]"
    }
   },
   "cell_type": "markdown",
   "id": "02d6d014",
   "metadata": {},
   "source": [
    "El ejercicio indica que la variable $X$ representa el tiempo de vida de un equipo de computo que sigue una D. Gamma,\n",
    "\n",
    "$$X \\sim \\Gamma(x)$$\n",
    "\n",
    "Los parametros de dicha distribucion son,\n",
    "\n",
    "$$\\alpha = 4, \\beta = 3$$\n",
    "\n",
    "Nos piden calcular la probabilidad que el equipo dure 3 o menos años $P(X \\leq 3)$, lo cual graficamente se muestra como sigue\n",
    "\n",
    "![image.png](attachment:image.png)\n",
    "\n",
    "Utilizamos el metodo CDF de la D. Gamma para calcular la probabilidad solicitada"
   ]
  },
  {
   "cell_type": "code",
   "execution_count": 93,
   "id": "45959be2",
   "metadata": {},
   "outputs": [],
   "source": [
    "# parametros de la D.\n",
    "\n",
    "# alfa\n",
    "alfa = 4\n",
    "# beta\n",
    "beta = 3\n",
    "# valor limite\n",
    "x = 3"
   ]
  },
  {
   "cell_type": "code",
   "execution_count": 94,
   "id": "ba0f68ab",
   "metadata": {},
   "outputs": [
    {
     "data": {
      "text/plain": [
       "0.019"
      ]
     },
     "execution_count": 94,
     "metadata": {},
     "output_type": "execute_result"
    }
   ],
   "source": [
    "# probabilidad acumulada de 0 hasta 3\n",
    "prob = gamma.cdf(x, alfa, scale=beta)\n",
    "prob = round(prob, 4)\n",
    "prob"
   ]
  },
  {
   "cell_type": "markdown",
   "id": "147a260d",
   "metadata": {},
   "source": [
    "> La probabilidad que el equipo tenga un tiempo de vida de 3 años o menos es de 19%"
   ]
  },
  {
   "cell_type": "markdown",
   "id": "b2f34793",
   "metadata": {},
   "source": [
    "### b.- Cual es la probabilidad que dure mas de 25 años?"
   ]
  },
  {
   "attachments": {
    "image.png": {
     "image/png": "[encoded data removed]"
    }
   },
   "cell_type": "markdown",
   "id": "830077ba",
   "metadata": {},
   "source": [
    "En este caso nos piden\n",
    "\n",
    "$$P(X > 25) = 1 - P(X\\leq25)$$\n",
    "\n",
    "Graficamente consiste en calcular el area encerrada entre 25 e infinito.\n",
    "\n",
    "![image.png](attachment:image.png)\n",
    "\n",
    "Utilizamos el metodo CDF para calcular $P(X\\leq25)$"
   ]
  },
  {
   "cell_type": "code",
   "execution_count": 95,
   "id": "5ee8445d",
   "metadata": {},
   "outputs": [],
   "source": [
    "# parametros de la D.\n",
    "\n",
    "# alfa\n",
    "alfa = 4\n",
    "# beta\n",
    "beta = 3\n",
    "# valor limite\n",
    "x = 25"
   ]
  },
  {
   "cell_type": "code",
   "execution_count": 98,
   "id": "1719dc1d",
   "metadata": {},
   "outputs": [
    {
     "data": {
      "text/plain": [
       "0.9662"
      ]
     },
     "execution_count": 98,
     "metadata": {},
     "output_type": "execute_result"
    }
   ],
   "source": [
    "# calculo de probabilidad acumulada de 0 a 25\n",
    "prob = gamma.cdf(x, alfa, scale=beta)\n",
    "prob = round(prob, 4)\n",
    "prob"
   ]
  },
  {
   "cell_type": "markdown",
   "id": "822065c7",
   "metadata": {},
   "source": [
    "Ahora, restamos a 1 el valor obtenido"
   ]
  },
  {
   "cell_type": "code",
   "execution_count": 99,
   "id": "355441d1",
   "metadata": {},
   "outputs": [
    {
     "data": {
      "text/plain": [
       "0.0338"
      ]
     },
     "execution_count": 99,
     "metadata": {},
     "output_type": "execute_result"
    }
   ],
   "source": [
    "proba = 1 - prob\n",
    "proba = round(proba, 4)\n",
    "proba"
   ]
  },
  {
   "cell_type": "markdown",
   "id": "3b54bbb8",
   "metadata": {},
   "source": [
    "> La probabilidad que dure mas de 25 años es de 3.38%."
   ]
  },
  {
   "cell_type": "code",
   "execution_count": null,
   "id": "2c9cf4a5",
   "metadata": {},
   "outputs": [],
   "source": []
  },
  {
   "cell_type": "markdown",
   "id": "f792f54e",
   "metadata": {},
   "source": [
    "## Ejemplo 4: *Un proceso de manufactura tiene un tiempo de espera que sigue una Distribucion Gamma. Se mide la media del tiempo de espera arrojando un valor de 6 minutos y una varianza de 12 minutos cuadrados.*"
   ]
  },
  {
   "cell_type": "markdown",
   "id": "f0650261",
   "metadata": {},
   "source": [
    "### a.- Calcular los parametros $\\alpha$ y $\\beta$"
   ]
  },
  {
   "cell_type": "markdown",
   "id": "66159a44",
   "metadata": {},
   "source": [
    "El enunciado indica que la variable $X$ representa el tiempo de espera de un proceso de manufactura que sigue una D. Gamma\n",
    "\n",
    "$$X \\sim \\Gamma(x)$$\n",
    "\n",
    "Nos dan la media $\\mu$ y la varianza $\\sigma^2$ del tiempo de espera,\n",
    "\n",
    "$$\\mu = 6, \\sigma^2 = 12$$\n",
    "\n",
    "Sabemos que la media y la varianza de la D. Gamma viene dada por,\n",
    "\n",
    "$$\\mu = \\alpha \\cdot \\beta (1)$$\n",
    "\n",
    "$$\\sigma^2 = \\alpha \\cdot \\beta^2 (2)$$\n",
    "\n",
    "La ecuacion $(2)$ podemos reescribirla como,\n",
    "\n",
    "$$\\sigma^2 = (\\alpha \\cdot \\beta)\\beta (3)$$\n",
    "\n",
    "Sustituyendo la expresion $(1)$ en $(3)$ obtenenos\n",
    "\n",
    "$$\\sigma^2 = \\mu \\cdot \\beta$$\n",
    "\n",
    "Despejamos $\\beta$ y obtenemos su valor\n",
    "\n",
    "$$\\beta = \\frac{\\sigma^2}{\\mu}= \\frac{12}{6} = 2$$\n",
    "\n",
    "Despejamos $\\alpha$ de la ecuacion $(1)$ y sustituimos el valor de $\\beta$ obtenido,\n",
    "\n",
    "$$\\alpha = \\frac{\\mu}{\\beta} = \\frac{6}{2} = 3$$\n",
    "\n"
   ]
  },
  {
   "cell_type": "markdown",
   "id": "a6f2b260",
   "metadata": {},
   "source": [
    "### b.- Cual es la probabilidad de que el tiempo de espera sea menor que 4 minutos?"
   ]
  },
  {
   "attachments": {
    "image-2.png": {
     "image/png": "[encoded data removed]"
    }
   },
   "cell_type": "markdown",
   "id": "7915ab09",
   "metadata": {},
   "source": [
    "Nos piden $P(X<4)$, lo que graficamente es calcular el area encerrada entre 0 y 4\n",
    "\n",
    "![image-2.png](attachment:image-2.png)\n",
    "\n",
    "Utilizamos el metodo CDF de la D. Gamma para obtener tal probabilidad"
   ]
  },
  {
   "cell_type": "code",
   "execution_count": 100,
   "id": "72ed45a6",
   "metadata": {},
   "outputs": [],
   "source": [
    "# parametros de la D.\n",
    "\n",
    "# alfa\n",
    "alfa = 3\n",
    "# beta\n",
    "beta = 2\n",
    "# valor limite\n",
    "x = 4"
   ]
  },
  {
   "cell_type": "code",
   "execution_count": 101,
   "id": "3fbc421e",
   "metadata": {},
   "outputs": [
    {
     "data": {
      "text/plain": [
       "0.3233"
      ]
     },
     "execution_count": 101,
     "metadata": {},
     "output_type": "execute_result"
    }
   ],
   "source": [
    "# calcular probabilidad acumulada entre 0 y 4\n",
    "prob = gamma.cdf(x, alfa, scale=beta)\n",
    "prob = round(prob, 4)\n",
    "prob"
   ]
  },
  {
   "cell_type": "markdown",
   "id": "03119f5a",
   "metadata": {},
   "source": [
    "> La probabilidad de que el tiempo de espera sea menor a 4 minutos es del 32.33%"
   ]
  },
  {
   "cell_type": "markdown",
   "id": "2166e59e",
   "metadata": {},
   "source": [
    "### c.- Cual es la probabilidad que el tiempo de espera sea mayor que 8 minutos?"
   ]
  },
  {
   "attachments": {
    "image.png": {
     "image/png": "[encoded data removed]"
    }
   },
   "cell_type": "markdown",
   "id": "6847211b",
   "metadata": {},
   "source": [
    "Nos piden hallar, \n",
    "\n",
    "$$P(X > 8) = 1 - P(X \\leq 8)$$\n",
    "\n",
    "Graficamente es calcular el area encerrada entre 8 e infinito\n",
    "\n",
    "![image.png](attachment:image.png)\n",
    "\n",
    "Utilizamos el metodo CDF para calcular $P(X \\leq 8)$"
   ]
  },
  {
   "cell_type": "code",
   "execution_count": 102,
   "id": "fd309638",
   "metadata": {},
   "outputs": [],
   "source": [
    "# parametros de la D.\n",
    "\n",
    "# alfa\n",
    "alfa = 3\n",
    "# beta\n",
    "beta = 2\n",
    "# valor limite\n",
    "x = 8"
   ]
  },
  {
   "cell_type": "code",
   "execution_count": 103,
   "id": "600bc29a",
   "metadata": {},
   "outputs": [
    {
     "data": {
      "text/plain": [
       "0.7619"
      ]
     },
     "execution_count": 103,
     "metadata": {},
     "output_type": "execute_result"
    }
   ],
   "source": [
    "# probabilidad acumulada de 0 a 8\n",
    "prob = gamma.cdf(x, alfa, scale=beta)\n",
    "prob = round(prob, 4)\n",
    "prob"
   ]
  },
  {
   "cell_type": "markdown",
   "id": "9b9872c6",
   "metadata": {},
   "source": [
    "Ahora, restamos a 1 el valor obtenido"
   ]
  },
  {
   "cell_type": "code",
   "execution_count": 104,
   "id": "6b64cfd8",
   "metadata": {},
   "outputs": [
    {
     "data": {
      "text/plain": [
       "0.2381"
      ]
     },
     "execution_count": 104,
     "metadata": {},
     "output_type": "execute_result"
    }
   ],
   "source": [
    "proba = 1 - prob\n",
    "proba = round(proba, 4)\n",
    "proba"
   ]
  },
  {
   "cell_type": "markdown",
   "id": "0f302dbf",
   "metadata": {},
   "source": [
    "> La probabilidad que el tiempo de espera sea mayor a 8 minutos es de 23.81%"
   ]
  },
  {
   "cell_type": "code",
   "execution_count": null,
   "id": "94f00c62",
   "metadata": {},
   "outputs": [],
   "source": []
  },
  {
   "cell_type": "markdown",
   "id": "2899fbe9",
   "metadata": {},
   "source": [
    "## Relacion entre la Distribucion Gamma y la Exponencial"
   ]
  },
  {
   "cell_type": "markdown",
   "id": "8f4fdb7a",
   "metadata": {},
   "source": [
    "La D. exponencial viene dada por:\n",
    "\n",
    "$$f(x) = \\left\\{\\begin{matrix}\n",
    "\\lambda e^{-\\lambda x} & si & x \\geq 0\\\\ \n",
    "0 & si & x<0\n",
    "\\end{matrix}\\right.$$\n",
    "\n",
    "La D. Exponencial se considera un caso especial de la D. Gamma con parametro de forma $\\alpha=1$. Veamos como deducirlo:\n",
    "\n",
    "Vamos a evaluar la funcion de la D. Gamma con parametro $\\alpha=1$\n",
    "\n",
    "$$f(x, \\alpha=1,\\beta) = \\frac{x^{1-1}e^{-x/\\beta}}{\\beta^1 \\Gamma(1)} = \\frac{e^{-x/\\beta}}{\\beta \\Gamma(1)}$$\n",
    "\n",
    "El valor de $\\Gamma(1)$ es igual a $1$ debido a la siguiente propiedad: $\\Gamma(n) = (n-1)!$ para enteros positivos $n$. Entonces:\n",
    "\n",
    "$$f(x, \\alpha=1, \\beta)= \\frac{e^{-x/\\beta}}{\\beta}$$\n",
    "\n",
    "Podemos reescribir $\\beta$ como sigue\n",
    "\n",
    "$$\\beta = \\frac{1}{\\lambda}$$\n",
    "\n",
    "al sustituir la nueva expresion en la funcion obtenemos\n",
    "\n",
    "$$f(x, \\alpha=1, \\beta)= \\frac{e^{-x/\\beta}}{\\beta}= \\frac{e^{-x/(1/\\lambda)}}{1/\\lambda}$$\n",
    "\n",
    "$$f(x, \\alpha=1, \\beta)= \\lambda e^{-\\lambda x}$$\n",
    "\n",
    "Este resultado implica que la D. Exponencial es un caso particular de la D. Gamma"
   ]
  },
  {
   "cell_type": "code",
   "execution_count": null,
   "id": "535168e1",
   "metadata": {},
   "outputs": [],
   "source": []
  },
  {
   "cell_type": "markdown",
   "id": "b07253dd",
   "metadata": {},
   "source": [
    "## Ejemplo 5: *Un centro de servicio de una empresa de telecomunicaciones recibe llamadas de clientes a lo largo del dia. Se ha observado que el tiempo sigue una Distribucion exponencial con un promedio para resolver una llamada de 10 minutos.*"
   ]
  },
  {
   "cell_type": "markdown",
   "id": "bdbf11b5",
   "metadata": {},
   "source": [
    "### a.- Encuentra la probabilidad de que una llamada sea resuelta en menos de 5 minutos"
   ]
  },
  {
   "attachments": {
    "image.png": {
     "image/png": "[encoded data removed]"
    }
   },
   "cell_type": "markdown",
   "id": "4b0f2152",
   "metadata": {},
   "source": [
    "Vemos que se trata de una variable temporal $X$ que sigue una D. exponencial\n",
    "\n",
    "$$X \\sim Exp(x)$$\n",
    "\n",
    "Nos dicen que el promedio de llamadas es $\\mu = 10$. Vamos a calcular $\\lambda$ mediante la siguiente formula:\n",
    "\n",
    "$$\\lambda = \\frac{1}{\\mu} = \\frac{1}{10} = 0.1$$\n",
    "\n",
    "Nos piden la probabilidad de que una llamada sea resuelta en menos de 5 minutos, $P(X <5)$. graficamente se muestra como sigue\n",
    "\n",
    "![image.png](attachment:image.png)\n",
    "\n",
    "Vamos a utilizar el metodo CDF de la D. Exponencial contenida en la libreria Scipy para calcular dicha probabilidad"
   ]
  },
  {
   "cell_type": "code",
   "execution_count": 3,
   "id": "48a0eb14",
   "metadata": {},
   "outputs": [],
   "source": [
    "# libreria para utilizar la D. Exponencial\n",
    "from scipy.stats import expon"
   ]
  },
  {
   "cell_type": "code",
   "execution_count": 4,
   "id": "f0a20b42",
   "metadata": {},
   "outputs": [],
   "source": [
    "# parametros de la D.\n",
    "\n",
    "# media\n",
    "media = 10\n",
    "# lambda\n",
    "lamb = 1/media\n",
    "# valor limite\n",
    "x = 5"
   ]
  },
  {
   "cell_type": "code",
   "execution_count": 5,
   "id": "03d99930",
   "metadata": {},
   "outputs": [
    {
     "data": {
      "text/plain": [
       "0.3935"
      ]
     },
     "execution_count": 5,
     "metadata": {},
     "output_type": "execute_result"
    }
   ],
   "source": [
    "# probabilidad acumulada de 0 a 5\n",
    "prob = expon.cdf(x, scale=1/lamb)\n",
    "prob = round(prob, 4)\n",
    "prob"
   ]
  },
  {
   "cell_type": "markdown",
   "id": "f2979ea7",
   "metadata": {},
   "source": [
    "> La probabilidad de que una llamada sea resuelta en menos de 5 minutos es de 39.35%"
   ]
  },
  {
   "cell_type": "markdown",
   "id": "a136b45b",
   "metadata": {},
   "source": [
    "### b.- Suponga que un cliente tiene que esperar para ser atendido por uno de los tres operadores disponibles en el centro de servicio. El tiempo total de espera para ser atendido siguen una distribucion Gamma con parametro de forma $\\alpha = 3$ (ya que hay tres operadores) y parametro de escala $\\beta = 10$ minutos. Encuentre la probabilidad de que un cliente espere mas de 20 minutos antes de ser atendido."
   ]
  },
  {
   "attachments": {
    "image.png": {
     "image/png": "[encoded data removed]"
    }
   },
   "cell_type": "markdown",
   "id": "8f577527",
   "metadata": {},
   "source": [
    "Nos piden hallar $P(X > 20)$ sabiendo que la variable $X$ representa el tiempo de espera para ser atendido y que sigue una D. Gamma. Graficamente se muestra como sigue\n",
    "\n",
    "![image.png](attachment:image.png)\n",
    "\n",
    "Podemos utilizar la propiedad de complemento para reescribirla como sigue:\n",
    "\n",
    "$$P(X > 20) = 1 - P(X\\leq 20)$$\n",
    "\n",
    "Vamos a utilizar el metodo CDF de la D. Gamma para calcular $P(X \\leq 20)$"
   ]
  },
  {
   "cell_type": "code",
   "execution_count": 6,
   "id": "1b1e1102",
   "metadata": {},
   "outputs": [],
   "source": [
    "# parametros de la D.\n",
    "\n",
    "# alfa\n",
    "alfa = 3\n",
    "# beta\n",
    "beta = 10\n",
    "# valor limite\n",
    "x = 20"
   ]
  },
  {
   "cell_type": "code",
   "execution_count": 8,
   "id": "91aede59",
   "metadata": {},
   "outputs": [
    {
     "data": {
      "text/plain": [
       "0.3233"
      ]
     },
     "execution_count": 8,
     "metadata": {},
     "output_type": "execute_result"
    }
   ],
   "source": [
    "# probabilidad acumulada desde 0 a 20\n",
    "prob = gamma.cdf(x, alfa, scale=beta)\n",
    "prob = round(prob, 4)\n",
    "prob"
   ]
  },
  {
   "cell_type": "markdown",
   "id": "97be191d",
   "metadata": {},
   "source": [
    "Restamos a 1 el valor obtenido"
   ]
  },
  {
   "cell_type": "code",
   "execution_count": 10,
   "id": "c85ea18d",
   "metadata": {},
   "outputs": [
    {
     "data": {
      "text/plain": [
       "0.6767"
      ]
     },
     "execution_count": 10,
     "metadata": {},
     "output_type": "execute_result"
    }
   ],
   "source": [
    "proba = 1 - prob\n",
    "proba = round(proba, 4)\n",
    "proba"
   ]
  },
  {
   "cell_type": "markdown",
   "id": "88d1997f",
   "metadata": {},
   "source": [
    "> La probabilidad de que un cliente espere mas de 20 minutos es de 67.67%"
   ]
  },
  {
   "cell_type": "code",
   "execution_count": null,
   "id": "ec4b0ac9",
   "metadata": {},
   "outputs": [],
   "source": []
  },
  {
   "cell_type": "markdown",
   "id": "12ad71fb",
   "metadata": {},
   "source": [
    "## Relacion entre la Distribucion Gamma y Chi Cuadrado"
   ]
  },
  {
   "cell_type": "markdown",
   "id": "d7724ddc",
   "metadata": {},
   "source": [
    "La funcion de la D. Chi Cuadrado viene dada por: \n",
    "\n",
    "$$\\chi(x,k) = \\frac{1}{2^{k/2} \\Gamma(k/2)}x^{(k/2)-1} e^{-x/2}$$\n",
    "\n",
    "para $x>0$ y $k>0$.\n",
    "\n",
    "La D. Chi Cuadrado es considerada un caso especial de la D. Gamma, veamos porque. Si una variable aleatoria $X$ sigue una D. Gamma con parametro de forma $\\alpha = k/2$ y parametro de escala $\\beta = 2$ entonces $X$ tiene una D. Chi Cuadrado con $k$ grados de libertad, es decir\n",
    "\n",
    "$$X \\sim \\Gamma(\\alpha=k/2, \\beta = 2) \\Rightarrow X \\sim \\chi ^2(k)$$\n",
    "\n",
    "Para probarlo, vamos a partir de la funcion de densidad de la D. Gamma\n",
    "\n",
    "$$f(X) = \\frac{ x^{\\alpha - 1} e^{-\\frac{x}{\\beta}}}{ \\Gamma(\\alpha) \\beta^{\\alpha}}$$\n",
    "\n",
    "Sustituimos los valores de los parametros antes seleccionados en la funcion de densidad\n",
    "\n",
    "$$f(x, \\alpha=k/2, \\beta=2) = \\frac{x^{(k/2)-1} e^{-x/2}}{2^{k/2} \\Gamma(k/2)}$$\n",
    "\n",
    "De esta manera, vemos que llegamos a la funcion de la D. Chi Cuadrado $\\chi(x,k)$"
   ]
  },
  {
   "cell_type": "code",
   "execution_count": null,
   "id": "14581e98",
   "metadata": {},
   "outputs": [],
   "source": []
  },
  {
   "cell_type": "markdown",
   "id": "e2147e6b",
   "metadata": {},
   "source": [
    "## Relacion entre la Distribucion Gamma y Erlang"
   ]
  },
  {
   "cell_type": "markdown",
   "id": "de828bd9",
   "metadata": {},
   "source": [
    "Sabemos que la D. Gamma viene dada por\n",
    "\n",
    "$$f(x, \\alpha, \\beta) = \\frac{ x^{\\alpha - 1} e^{-\\frac{x}{\\beta}}}{ \\Gamma(\\alpha) \\beta^{\\alpha}}$$\n",
    "\n",
    "Con valores de $\\alpha$ y $\\beta$ son reales y positivos.\n",
    "\n",
    "La funcion de la D. Erlang viene dada por\n",
    "\n",
    "$$f(x, k, \\lambda) = \\frac{\\lambda^{k} x^{k-1} e^{-\\lambda x}}{(k-1)!}$$\n",
    "\n",
    "donde $k$ es un entero positivo, $\\lambda$ es el parametro de tasa y $x>0$.\n",
    "\n",
    "La D Erlang es un caso particular de la D. Gamma cuando el parametro de forma $\\alpha$ es un entero positivo $k$, es decir $\\alpha = k$. Para comprobarlo, sustituyamos el valor de $\\alpha$ en la D. Gamma\n",
    "\n",
    "$$f(x, k, \\beta) = \\frac{ x^{k - 1} e^{-\\frac{x}{\\beta}}}{ \\Gamma(k) \\beta^{k}}$$\n",
    "\n",
    "Podemos reescribir $\\beta$ como sigue\n",
    "\n",
    "$$\\beta = \\frac{1}{\\lambda}$$\n",
    "\n",
    "Sustituyendo $\\beta$ reescrito en la funcion obtenemos\n",
    "\n",
    "$$f(x, k, \\lambda) = \\frac{ \\lambda^k x^{k - 1} e^{-x\\lambda}}{ \\Gamma(k)}$$\n",
    "\n",
    "El valor de $\\Gamma(k)$ para $k$ siendo un entero positivo es $(k-1)!$. Por tanto, al sustituir en la funcion nos qeda\n",
    "\n",
    "$$f(x, k, \\lambda) = \\frac{ \\lambda^k x^{k - 1} e^{-x\\lambda}}{(k-1)!}$$\n",
    "\n",
    "De esta forma, llegamos a la funcion de la D. Erlang."
   ]
  },
  {
   "cell_type": "code",
   "execution_count": null,
   "id": "618ae109",
   "metadata": {},
   "outputs": [],
   "source": []
  },
  {
   "cell_type": "code",
   "execution_count": null,
   "id": "f3dd86a0",
   "metadata": {},
   "outputs": [],
   "source": []
  },
  {
   "cell_type": "code",
   "execution_count": null,
   "id": "dfc3dd44",
   "metadata": {},
   "outputs": [],
   "source": []
  }
 ],
 "metadata": {
  "kernelspec": {
   "display_name": "Python 3 (ipykernel)",
   "language": "python",
   "name": "python3"
  },
  "language_info": {
   "codemirror_mode": {
    "name": "ipython",
    "version": 3
   },
   "file_extension": ".py",
   "mimetype": "text/x-python",
   "name": "python",
   "nbconvert_exporter": "python",
   "pygments_lexer": "ipython3",
   "version": "3.9.12"
  }
 },
 "nbformat": 4,
 "nbformat_minor": 5
}
