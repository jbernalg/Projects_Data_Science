{
 "cells": [
  {
   "cell_type": "markdown",
   "id": "6240c65a",
   "metadata": {},
   "source": [
    "# Todo sobre la Distribucion Gamma"
   ]
  },
  {
   "cell_type": "markdown",
   "id": "729d00b5",
   "metadata": {},
   "source": [
    "Es una D. de probabilidad continua que resalta por su importancia para otras distribuciones muy utilizadas en la practica como son la Exponencial $Exp(X)$ y Chi cuadrado $X^2$ \n",
    "\n",
    "Se define mediante dos parametros: el parametro de forma $\\alpha$ y el parametro de escala $\\beta$ los cuales le dan una gran versatilidad para tomar variedad de formas. Esto le da una gran capacidad para modelar diferentes fenomenos reales. Ademas, su habilidad para manejar datos sesgados y con colas largas la hace adecuada para aplicaciones donde otras ditribuciones, como la normal, no son adecuadas. Algunas de las aplicaciones mas comunes en ciencia de datos son:\n",
    "\n",
    "- Tiempos de respuestas y procesamiento: Tiempo que se tarda en procesar una tarea o atender una solicitud.\n",
    "\n",
    "- Tiempo hasta el exito: Modelar el tiempo hasta que ocurren varios eventos en un proceso de Poisson (clics en una campana publicitaria) \n",
    "\n",
    "- Vida util de productos: Modela lavida util de componentes y sistemas mecanicos o electronicos ayudando a prever fallos.\n"
   ]
  },
  {
   "cell_type": "code",
   "execution_count": null,
   "id": "f39fb91e",
   "metadata": {},
   "outputs": [],
   "source": []
  },
  {
   "cell_type": "markdown",
   "id": "2585c801",
   "metadata": {},
   "source": [
    "## Deduccion de la D. Gamma"
   ]
  },
  {
   "cell_type": "markdown",
   "id": "681b9940",
   "metadata": {},
   "source": [
    "Esta distribucion se fundamenta en la funcion Gamma que se define como:\n",
    "\n",
    "$$\\Gamma (\\alpha) = \\int_{0}^{\\infty} x^{\\alpha - 1} e^{-x} dx$$\n",
    "\n",
    "La funcion Gamma cumple las siguiente propiedades:\n",
    "\n",
    "1.- $\\Gamma(\\alpha + 1) = \\alpha \\Gamma()\\alpha$\n",
    "\n",
    "2.- $\\Gamma(\\alpha + 1) = \\alpha!$ para todo $\\alpha \\in N$\n",
    "\n",
    "3.- $\\Gamma(\\frac{1}{2}) = \\sqrt{\\pi}$"
   ]
  },
  {
   "cell_type": "markdown",
   "id": "cb1e4ba4",
   "metadata": {},
   "source": [
    "Para dar mayor flexibilidad a la funcion Gamma podemos agregar un parametro a la exponencial. Para ello, realizamos el siguiente cambio de variable:\n",
    "\n",
    "Sea \n",
    "\n",
    "$$u = \\beta x$$\n",
    "\n",
    "Entonces,\n",
    "\n",
    "$$du = \\beta dx, dx = \\frac{du}{\\beta}$$\n",
    "\n",
    "al sustituir $u$ y $du$ en la funcion Gamma obtenemos:\n",
    "\n",
    "$$\\Gamma (\\alpha) = \\int_{0}^{\\infty} x^{\\alpha - 1} e^{-x} dx = \\int_{0}^{\\infty} \\left ( \\frac{u}{\\beta} \\right )^{\\alpha - 1}  e^{-\\frac{u}{\\beta}} \\frac{du}{\\beta}$$\n",
    "\n",
    "Ahora, sacamos $\\beta$ de la integral y nos queda:\n",
    "\n",
    "$$\\Gamma (\\alpha) = \\frac{1}{\\beta^{\\alpha}} \\int_{0}^{\\infty} u^{\\alpha - 1}  e^{-\\frac{u}{\\beta}} du  = \\Gamma(\\alpha) \\beta^{\\alpha}$$\n",
    "\n",
    "Entonces, podemos deducir lo siguiente:\n",
    "\n",
    "$$\\int_{0}^{\\infty} x^{\\alpha - 1} e^{-x} dx =  \\Gamma(\\alpha) \\beta^{\\alpha}$$"
   ]
  },
  {
   "cell_type": "code",
   "execution_count": null,
   "id": "f32b16a2",
   "metadata": {},
   "outputs": [],
   "source": []
  },
  {
   "cell_type": "code",
   "execution_count": null,
   "id": "172800b7",
   "metadata": {},
   "outputs": [],
   "source": []
  },
  {
   "cell_type": "code",
   "execution_count": null,
   "id": "d6117e37",
   "metadata": {},
   "outputs": [],
   "source": []
  }
 ],
 "metadata": {
  "kernelspec": {
   "display_name": "Python 3 (ipykernel)",
   "language": "python",
   "name": "python3"
  },
  "language_info": {
   "codemirror_mode": {
    "name": "ipython",
    "version": 3
   },
   "file_extension": ".py",
   "mimetype": "text/x-python",
   "name": "python",
   "nbconvert_exporter": "python",
   "pygments_lexer": "ipython3",
   "version": "3.9.12"
  }
 },
 "nbformat": 4,
 "nbformat_minor": 5
}
