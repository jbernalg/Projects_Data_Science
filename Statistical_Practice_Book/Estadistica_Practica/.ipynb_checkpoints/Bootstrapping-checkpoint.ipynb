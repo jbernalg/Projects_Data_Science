{
 "cells": [
  {
   "cell_type": "markdown",
   "id": "5ec93264",
   "metadata": {},
   "source": [
    "# Bootstrapping"
   ]
  },
  {
   "cell_type": "markdown",
   "id": "5b4cb55b",
   "metadata": {},
   "source": [
    "### Importar librerias"
   ]
  },
  {
   "cell_type": "code",
   "execution_count": 1,
   "id": "de02902c",
   "metadata": {},
   "outputs": [],
   "source": [
    "import pandas as pd\n",
    "import numpy as np\n",
    "import random"
   ]
  },
  {
   "cell_type": "markdown",
   "id": "6bc7c6c2",
   "metadata": {},
   "source": [
    "### Crear una tabla aleatoria de datos"
   ]
  },
  {
   "cell_type": "code",
   "execution_count": 2,
   "id": "8228cfc2",
   "metadata": {},
   "outputs": [
    {
     "data": {
      "text/plain": [
       "array([34.02357864, 34.51957428, 34.02777025, ..., 33.10588925,\n",
       "       33.4589597 , 33.84605918])"
      ]
     },
     "execution_count": 2,
     "metadata": {},
     "output_type": "execute_result"
    }
   ],
   "source": [
    "# poblacion de 10 mil personas con promedio de edad de 34\n",
    "data = np.random.normal(loc = 34, size = 100000)\n",
    "data"
   ]
  },
  {
   "cell_type": "markdown",
   "id": "a6763a30",
   "metadata": {},
   "source": [
    "### Calculo del promedio"
   ]
  },
  {
   "cell_type": "code",
   "execution_count": 3,
   "id": "fbb93c5a",
   "metadata": {},
   "outputs": [
    {
     "data": {
      "text/plain": [
       "33.99948363624221"
      ]
     },
     "execution_count": 3,
     "metadata": {},
     "output_type": "execute_result"
    }
   ],
   "source": [
    "data.mean()"
   ]
  },
  {
   "cell_type": "markdown",
   "id": "19293377",
   "metadata": {},
   "source": [
    "### Iniciamos bootstrapping para calcular el promedio de edades"
   ]
  },
  {
   "cell_type": "code",
   "execution_count": 4,
   "id": "69820967",
   "metadata": {},
   "outputs": [],
   "source": [
    "# lista para alamcenar el promedio de las muestras\n",
    "promedio = []\n",
    "\n",
    "# generar 40 muestras de 5 elementos\n",
    "for i in range(40):\n",
    "    muestra = random.sample(data.tolist(), 5)\n",
    "    # calcular el promedio de la muestra\n",
    "    prom = np.mean(muestra)\n",
    "    # guardar el promedio \n",
    "    promedio.append(prom)"
   ]
  },
  {
   "cell_type": "code",
   "execution_count": 5,
   "id": "61874fb0",
   "metadata": {},
   "outputs": [
    {
     "data": {
      "text/plain": [
       "33.91439615648919"
      ]
     },
     "execution_count": 5,
     "metadata": {},
     "output_type": "execute_result"
    }
   ],
   "source": [
    "# obtener el promedio del promedio de las muestras\n",
    "np.mean(promedio)"
   ]
  },
  {
   "cell_type": "markdown",
   "id": "e6171fce",
   "metadata": {},
   "source": [
    "El valor obtenido es muy cercano al de la poblacion. Esta tecnica de remuestreo nos ayuda a no sesgar los resultados evitando el overfitting"
   ]
  },
  {
   "cell_type": "code",
   "execution_count": null,
   "id": "95624837",
   "metadata": {},
   "outputs": [],
   "source": []
  },
  {
   "cell_type": "markdown",
   "id": "8b4bc537",
   "metadata": {},
   "source": [
    "# Pasos para hacer un Bootstrapping"
   ]
  },
  {
   "cell_type": "markdown",
   "id": "fafb7063",
   "metadata": {},
   "source": [
    "### 1.- Tener una muestra de datos"
   ]
  },
  {
   "cell_type": "code",
   "execution_count": 7,
   "id": "9e15a04b",
   "metadata": {},
   "outputs": [],
   "source": [
    "# poblacion de 10 mil personas con edad promedio de 34\n",
    "data = np.random.normal(loc=34, size=10000)\n",
    "\n",
    "# muestra de 40 elementos obtenida a partir de la poblacion\n",
    "sample = random.sample(data.tolist(), 40)"
   ]
  },
  {
   "cell_type": "markdown",
   "id": "9d9dc1c2",
   "metadata": {},
   "source": [
    "### 2.- Obtener el promedio de la poblacion"
   ]
  },
  {
   "cell_type": "code",
   "execution_count": 18,
   "id": "c01902ee",
   "metadata": {},
   "outputs": [
    {
     "data": {
      "text/plain": [
       "34.01201664177338"
      ]
     },
     "execution_count": 18,
     "metadata": {},
     "output_type": "execute_result"
    }
   ],
   "source": [
    "prom_poblacion = data.mean()\n",
    "prom_poblacion"
   ]
  },
  {
   "cell_type": "markdown",
   "id": "f9dbf4ff",
   "metadata": {},
   "source": [
    "### 3.- Dataset de remuestreo desde el dataset de muestra"
   ]
  },
  {
   "cell_type": "code",
   "execution_count": 8,
   "id": "d790134b",
   "metadata": {},
   "outputs": [
    {
     "data": {
      "text/plain": [
       "array([35.3428402 , 34.84958015, 35.13892642, 31.67710417, 31.73461482,\n",
       "       33.37195717, 33.99047974, 32.78777212, 33.37195717, 34.97415984,\n",
       "       34.50858698, 31.67710417, 31.73461482, 35.18004244, 33.57828969,\n",
       "       34.8018502 , 35.3428402 , 31.73461482, 35.71870027, 35.13892642,\n",
       "       32.78777212, 34.33394938, 33.57828969, 31.67710417, 34.97415984,\n",
       "       33.79415076, 34.39897757, 34.56970321, 34.7063838 , 33.8715515 ,\n",
       "       34.08173302, 33.16902707, 33.88953584, 33.37195717, 31.73461482,\n",
       "       32.78777212, 33.16902707, 34.39897757, 34.84958015, 33.79415076])"
      ]
     },
     "execution_count": 8,
     "metadata": {},
     "output_type": "execute_result"
    }
   ],
   "source": [
    "# Remuestreo\n",
    "resample = np.random.choice(sample, size=len(sample))\n",
    "resample"
   ]
  },
  {
   "cell_type": "code",
   "execution_count": 9,
   "id": "a2c8e98f",
   "metadata": {},
   "outputs": [
    {
     "name": "stdout",
     "output_type": "stream",
     "text": [
      "Tamano de la muestra:  40\n",
      "Tamano del muestreo:  40\n"
     ]
    }
   ],
   "source": [
    "# verificar que los valores de remuestreo no son los mismos de la muestra\n",
    "print('Tamano de la muestra: ', len(sample))\n",
    "print('Tamano del muestreo: ', len(resample))\n"
   ]
  },
  {
   "cell_type": "code",
   "execution_count": 10,
   "id": "7264a03c",
   "metadata": {},
   "outputs": [
    {
     "name": "stdout",
     "output_type": "stream",
     "text": [
      "Valores unicos de la muestra:  40\n",
      "Valores unicos del remuestreo:  23\n"
     ]
    }
   ],
   "source": [
    "print('Valores unicos de la muestra: ', len(np.unique(sample)))\n",
    "print('Valores unicos del remuestreo: ', len(np.unique(resample)))"
   ]
  },
  {
   "cell_type": "code",
   "execution_count": 11,
   "id": "8961adca",
   "metadata": {},
   "outputs": [
    {
     "name": "stdout",
     "output_type": "stream",
     "text": [
      "Los valores de la muestra son los mismos que el remuestreo?:  [False False False False False False False False False False False False\n",
      " False False False False False False False False False False False False\n",
      " False False False False False False False False False False  True False\n",
      " False False False False]\n"
     ]
    }
   ],
   "source": [
    "print('Los valores de la muestra son los mismos que el remuestreo?: ', sample == resample)"
   ]
  },
  {
   "cell_type": "markdown",
   "id": "206b64a9",
   "metadata": {},
   "source": [
    "### 4.- Calcular un estadistico del remuestreo (la media)"
   ]
  },
  {
   "cell_type": "code",
   "execution_count": 13,
   "id": "3964eaef",
   "metadata": {},
   "outputs": [
    {
     "data": {
      "text/plain": [
       "33.76483448573058"
      ]
     },
     "execution_count": 13,
     "metadata": {},
     "output_type": "execute_result"
    }
   ],
   "source": [
    "mean_resample = resample.mean()\n",
    "mean_resample"
   ]
  },
  {
   "cell_type": "markdown",
   "id": "acb99a00",
   "metadata": {},
   "source": [
    "### 5.- Guardar el estadistico calculado"
   ]
  },
  {
   "cell_type": "code",
   "execution_count": 14,
   "id": "6d0b9f33",
   "metadata": {},
   "outputs": [],
   "source": [
    "promedio = []\n",
    "promedio.append(mean_resample)"
   ]
  },
  {
   "cell_type": "markdown",
   "id": "6c41232a",
   "metadata": {},
   "source": [
    "### 6.- Repetir del paso 2 al 4 varias veces"
   ]
  },
  {
   "cell_type": "code",
   "execution_count": 15,
   "id": "822f235a",
   "metadata": {},
   "outputs": [
    {
     "data": {
      "text/plain": [
       "[33.59906385135669,\n",
       " 33.65328598809149,\n",
       " 33.782509356818366,\n",
       " 33.73509125494207,\n",
       " 33.700971925758736,\n",
       " 33.86007070116274,\n",
       " 33.73857949994996,\n",
       " 33.60559617341591,\n",
       " 33.87686678833434,\n",
       " 33.68948070457369,\n",
       " 33.76124415243154,\n",
       " 33.74522644648458,\n",
       " 33.84747394583557,\n",
       " 33.862669026071856,\n",
       " 33.62844688756424,\n",
       " 33.72563057548155,\n",
       " 33.970532183364504,\n",
       " 33.81603363102655,\n",
       " 33.51987313581808,\n",
       " 33.90696575246699,\n",
       " 33.88982270022312,\n",
       " 33.635753137967306,\n",
       " 33.90853509136466,\n",
       " 33.912545782712186,\n",
       " 33.72881671641208,\n",
       " 34.09067388131196,\n",
       " 33.83725270459403,\n",
       " 33.67145240719922,\n",
       " 33.99817896102079,\n",
       " 33.88422655679107,\n",
       " 33.869071845057,\n",
       " 33.46513896203089,\n",
       " 33.68444289277072,\n",
       " 33.74575019698652,\n",
       " 33.98571865430368,\n",
       " 33.58246734133678,\n",
       " 33.56652796474136,\n",
       " 34.10429693956566,\n",
       " 33.62679866852811,\n",
       " 34.071750402478706]"
      ]
     },
     "execution_count": 15,
     "metadata": {},
     "output_type": "execute_result"
    }
   ],
   "source": [
    "# muestra de 40 elementos obtenida a partir de la poblacion\n",
    "sample = random.sample(data.tolist(), 40)\n",
    "promedio = []\n",
    "\n",
    "for i in range(40):\n",
    "    # Remuestras del mismo tamano de la muestra\n",
    "    resample = np.random.choice(sample, size=len(sample))\n",
    "    # calcular el promedio del remuestreo\n",
    "    mean_resample = resample.mean()\n",
    "    # guardar la media calculada\n",
    "    promedio.append(mean_resample)\n",
    "    \n",
    "promedio\n"
   ]
  },
  {
   "cell_type": "markdown",
   "id": "5a3af77d",
   "metadata": {},
   "source": [
    "### 6.- Obtener el promedio de los promedios de las muestras"
   ]
  },
  {
   "cell_type": "code",
   "execution_count": 20,
   "id": "5a56c27e",
   "metadata": {},
   "outputs": [
    {
     "data": {
      "text/plain": [
       "33.782120844708636"
      ]
     },
     "execution_count": 20,
     "metadata": {},
     "output_type": "execute_result"
    }
   ],
   "source": [
    "prom_muestras = np.mean(promedio)\n",
    "prom_muestras"
   ]
  },
  {
   "cell_type": "markdown",
   "id": "dc0e012f",
   "metadata": {},
   "source": [
    "### 7.- Graficar la distibucion de los promedios calculados"
   ]
  },
  {
   "cell_type": "code",
   "execution_count": 17,
   "id": "52e1d994",
   "metadata": {},
   "outputs": [
    {
     "data": {
      "text/plain": [
       "Text(0.5, 1.0, ' Promedio 33.782120844708636')"
      ]
     },
     "execution_count": 17,
     "metadata": {},
     "output_type": "execute_result"
    },
    {
     "data": {
      "image/png": "[encoded data removed]",
      "text/plain": [
       "<Figure size 432x288 with 1 Axes>"
      ]
     },
     "metadata": {
      "needs_background": "light"
     },
     "output_type": "display_data"
    }
   ],
   "source": [
    "import seaborn as sns\n",
    "import matplotlib.pyplot as plt\n",
    "\n",
    "sns. histplot(promedio)\n",
    "plt.title(f' Promedio {np.mean(promedio)}')"
   ]
  },
  {
   "cell_type": "code",
   "execution_count": null,
   "id": "dd7563e2",
   "metadata": {},
   "outputs": [],
   "source": []
  },
  {
   "cell_type": "code",
   "execution_count": null,
   "id": "e714aa7a",
   "metadata": {},
   "outputs": [],
   "source": []
  }
 ],
 "metadata": {
  "kernelspec": {
   "display_name": "Python 3 (ipykernel)",
   "language": "python",
   "name": "python3"
  },
  "language_info": {
   "codemirror_mode": {
    "name": "ipython",
    "version": 3
   },
   "file_extension": ".py",
   "mimetype": "text/x-python",
   "name": "python",
   "nbconvert_exporter": "python",
   "pygments_lexer": "ipython3",
   "version": "3.9.12"
  }
 },
 "nbformat": 4,
 "nbformat_minor": 5
}
