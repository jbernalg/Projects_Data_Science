{
 "cells": [
  {
   "cell_type": "markdown",
   "id": "8b6d5911",
   "metadata": {},
   "source": [
    "# Bootstrapping"
   ]
  },
  {
   "cell_type": "markdown",
   "id": "ce57ef74",
   "metadata": {},
   "source": [
    "### Importar librerias"
   ]
  },
  {
   "cell_type": "code",
   "execution_count": 1,
   "id": "e059917e",
   "metadata": {},
   "outputs": [],
   "source": [
    "import pandas as pd\n",
    "import numpy as np\n",
    "import random"
   ]
  },
  {
   "cell_type": "markdown",
   "id": "cc9c97c2",
   "metadata": {},
   "source": [
    "### Crear una tabla aleatoria de datos"
   ]
  },
  {
   "cell_type": "code",
   "execution_count": 2,
   "id": "2f332034",
   "metadata": {},
   "outputs": [
    {
     "data": {
      "text/plain": [
       "array([34.02357864, 34.51957428, 34.02777025, ..., 33.10588925,\n",
       "       33.4589597 , 33.84605918])"
      ]
     },
     "execution_count": 2,
     "metadata": {},
     "output_type": "execute_result"
    }
   ],
   "source": [
    "# poblacion de 10 mil personas con promedio de edad de 34\n",
    "data = np.random.normal(loc = 34, size = 100000)\n",
    "data"
   ]
  },
  {
   "cell_type": "markdown",
   "id": "5d9d270c",
   "metadata": {},
   "source": [
    "### Calculo del promedio"
   ]
  },
  {
   "cell_type": "code",
   "execution_count": 3,
   "id": "491f9bd1",
   "metadata": {},
   "outputs": [
    {
     "data": {
      "text/plain": [
       "33.99948363624221"
      ]
     },
     "execution_count": 3,
     "metadata": {},
     "output_type": "execute_result"
    }
   ],
   "source": [
    "data.mean()"
   ]
  },
  {
   "cell_type": "markdown",
   "id": "7a7ac3e5",
   "metadata": {},
   "source": [
    "### Iniciamos bootstrapping para calcular el promedio de edades"
   ]
  },
  {
   "cell_type": "code",
   "execution_count": 4,
   "id": "6cc1ed3c",
   "metadata": {},
   "outputs": [],
   "source": [
    "# lista para alamcenar el promedio de las muestras\n",
    "promedio = []\n",
    "\n",
    "# generar 40 muestras de 5 elementos\n",
    "for i in range(40):\n",
    "    muestra = random.sample(data.tolist(), 5)\n",
    "    # calcular el promedio de la muestra\n",
    "    prom = np.mean(muestra)\n",
    "    # guardar el promedio \n",
    "    promedio.append(prom)"
   ]
  },
  {
   "cell_type": "code",
   "execution_count": 5,
   "id": "6d04edd5",
   "metadata": {},
   "outputs": [
    {
     "data": {
      "text/plain": [
       "33.91439615648919"
      ]
     },
     "execution_count": 5,
     "metadata": {},
     "output_type": "execute_result"
    }
   ],
   "source": [
    "# obtener el promedio del promedio de las muestras\n",
    "np.mean(promedio)"
   ]
  },
  {
   "cell_type": "markdown",
   "id": "281041a1",
   "metadata": {},
   "source": [
    "El valor obtenido es muy cercano al de la poblacion. Esta tecnica de remuestreo nos ayuda a no sesgar los resultados evitando el overfitting"
   ]
  },
  {
   "cell_type": "code",
   "execution_count": null,
   "id": "0965be20",
   "metadata": {},
   "outputs": [],
   "source": []
  },
  {
   "cell_type": "markdown",
   "id": "d31b1527",
   "metadata": {},
   "source": []
  },
  {
   "cell_type": "code",
   "execution_count": null,
   "id": "29655cf0",
   "metadata": {},
   "outputs": [],
   "source": []
  },
  {
   "cell_type": "code",
   "execution_count": null,
   "id": "dfd80eb6",
   "metadata": {},
   "outputs": [],
   "source": []
  }
 ],
 "metadata": {
  "kernelspec": {
   "display_name": "Python 3 (ipykernel)",
   "language": "python",
   "name": "python3"
  },
  "language_info": {
   "codemirror_mode": {
    "name": "ipython",
    "version": 3
   },
   "file_extension": ".py",
   "mimetype": "text/x-python",
   "name": "python",
   "nbconvert_exporter": "python",
   "pygments_lexer": "ipython3",
   "version": "3.9.12"
  }
 },
 "nbformat": 4,
 "nbformat_minor": 5
}
