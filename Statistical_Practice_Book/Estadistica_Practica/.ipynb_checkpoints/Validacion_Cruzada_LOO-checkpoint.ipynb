{
 "cells": [
  {
   "cell_type": "markdown",
   "id": "da679cf8",
   "metadata": {},
   "source": [
    "# Validacion Cruzada LOO-CV"
   ]
  },
  {
   "cell_type": "markdown",
   "id": "77c33f30",
   "metadata": {},
   "source": [
    "El metodo *Leave-One_Out Cross-Validation (LOO-CV)* es una tecnica muy exhaustiva que pertenece a la familia de metodos de validacion cruzada de tipo *leave-p-out*. Consiste en entrenar el modelo utilizando todas menos una de las observaciones y luego se evalua el modelo en la observacion que quedo afuera. El proceso se repite tantas veces como el numero total de observaciones en el conjunto de datos, usando una muestra diferente como conjunto de prueba en cada iteracion."
   ]
  },
  {
   "cell_type": "code",
   "execution_count": null,
   "id": "83800596",
   "metadata": {},
   "outputs": [],
   "source": []
  },
  {
   "cell_type": "markdown",
   "id": "cd9bba86",
   "metadata": {},
   "source": [
    "## Ventajas"
   ]
  },
  {
   "cell_type": "markdown",
   "id": "53b45b88",
   "metadata": {},
   "source": [
    "- Todos los datos, excepto uno, se utilizan para entrenar el modelo en cada iteracion, por lo que es una de las formas mas eficientes de usar el conjunto de datos disponibles\n",
    "\n",
    "- Proporciona una estimacion robusta del modelo, ya que se entrena y evalua en casi todas las muestras posibles.\n",
    "\n",
    "- Es ideal aplicar cuando el conjunto de datos es pequeno y cada muestra es valiosa. Ejemplo, en problemas medicos o biologicos donde hay pocas observaciones.\n",
    "\n",
    "- Cuando las observaciones individales pueden tener un impacto significativo en el rendimiento del modelo, este metodo puede ser muy util porque evalua el modelo para cada muestra detallando su comportamiento en situaciones extremas.\n",
    "\n",
    "- Evita el sobreajuste en ciertos casos, ya que al dejar solo una muestra para la prueba, se asegura que el modelo no vea esa muestra durante el entrenamiento. Esto reduce la probabilidad de ajustar excesivamente el modelo."
   ]
  },
  {
   "cell_type": "code",
   "execution_count": null,
   "id": "4e6d9299",
   "metadata": {},
   "outputs": [],
   "source": []
  },
  {
   "cell_type": "markdown",
   "id": "97ce5350",
   "metadata": {},
   "source": [
    "## Desventajas"
   ]
  },
  {
   "cell_type": "markdown",
   "id": "f1533e16",
   "metadata": {},
   "source": [
    "- Es costoso computacionalmente especialmente para conjuntos de datos grandes.\n",
    "\n",
    "- Puede generar una alta varianza debido a que el modelo se entrena con solo una observacion de prueba en cada iteracion. Los resultados pueden ser muy sensibles a la eleccion de esa muestra lo que puede introducir varianza en las estimaciones de rendimiento."
   ]
  },
  {
   "cell_type": "code",
   "execution_count": null,
   "id": "dc331e08",
   "metadata": {},
   "outputs": [],
   "source": []
  },
  {
   "cell_type": "markdown",
   "id": "206ab1b4",
   "metadata": {},
   "source": [
    "## Proceso de LOO-CV"
   ]
  },
  {
   "cell_type": "markdown",
   "id": "c064718c",
   "metadata": {},
   "source": [
    "#### 1.- Dividir los datos\n",
    "Para un conjunto de datos de $n$ observaciones, se crean $n$ subconjuntos, cada uno de los cuales contiene todas las muestras excepto una.\n",
    "\n",
    "#### 2.- Entrenamiento y evaluacion del modelo\n",
    "Para cada iteracion $i$, el modelo se entrena con las $n-1$ observaciones y se evalua en la observacion que quedo fuera.\n",
    "\n",
    "#### 3.- Repeticion del proceso\n",
    "El proceso se repite  $n$ veces, utilizando una observacion como conjunto de prueba en cada iteracion\n",
    "\n",
    "#### 4.- Promediar los resultados\n",
    "La metrica de evaluacion se calcula promediando los resultados de las $n$ evaluaciones."
   ]
  },
  {
   "cell_type": "code",
   "execution_count": null,
   "id": "1fc41d6d",
   "metadata": {},
   "outputs": [],
   "source": []
  },
  {
   "cell_type": "markdown",
   "id": "81f1593e",
   "metadata": {},
   "source": [
    "## Implementacion Manual"
   ]
  },
  {
   "cell_type": "markdown",
   "id": "5905f0e8",
   "metadata": {},
   "source": [
    "Vamos a implementar el metodo de forma manual en un modelo de regresion lineal utilizando el conjunto de datos de diabetes que viene incluido en Scikit-learn."
   ]
  },
  {
   "cell_type": "code",
   "execution_count": 1,
   "id": "4f149457",
   "metadata": {},
   "outputs": [],
   "source": [
    "# metodos y librerias a utilizar\n",
    "import numpy as np\n",
    "import pandas as pd\n",
    "from sklearn.datasets import load_diabetes\n",
    "from sklearn.linear_model import LinearRegression\n",
    "from sklearn.metrics import mean_squared_error, r2_score"
   ]
  },
  {
   "cell_type": "markdown",
   "id": "20caf6e3",
   "metadata": {},
   "source": [
    "Procedemos a cargar los datos de diabetes"
   ]
  },
  {
   "cell_type": "code",
   "execution_count": 2,
   "id": "d06f5009",
   "metadata": {},
   "outputs": [
    {
     "data": {
      "text/html": [
       "<div>\n",
       "<style scoped>\n",
       "    .dataframe tbody tr th:only-of-type {\n",
       "        vertical-align: middle;\n",
       "    }\n",
       "\n",
       "    .dataframe tbody tr th {\n",
       "        vertical-align: top;\n",
       "    }\n",
       "\n",
       "    .dataframe thead th {\n",
       "        text-align: right;\n",
       "    }\n",
       "</style>\n",
       "<table border=\"1\" class=\"dataframe\">\n",
       "  <thead>\n",
       "    <tr style=\"text-align: right;\">\n",
       "      <th></th>\n",
       "      <th>age</th>\n",
       "      <th>sex</th>\n",
       "      <th>bmi</th>\n",
       "      <th>bp</th>\n",
       "      <th>s1</th>\n",
       "      <th>s2</th>\n",
       "      <th>s3</th>\n",
       "      <th>s4</th>\n",
       "      <th>s5</th>\n",
       "      <th>s6</th>\n",
       "      <th>target</th>\n",
       "    </tr>\n",
       "  </thead>\n",
       "  <tbody>\n",
       "    <tr>\n",
       "      <th>0</th>\n",
       "      <td>0.038076</td>\n",
       "      <td>0.050680</td>\n",
       "      <td>0.061696</td>\n",
       "      <td>0.021872</td>\n",
       "      <td>-0.044223</td>\n",
       "      <td>-0.034821</td>\n",
       "      <td>-0.043401</td>\n",
       "      <td>-0.002592</td>\n",
       "      <td>0.019908</td>\n",
       "      <td>-0.017646</td>\n",
       "      <td>151.0</td>\n",
       "    </tr>\n",
       "    <tr>\n",
       "      <th>1</th>\n",
       "      <td>-0.001882</td>\n",
       "      <td>-0.044642</td>\n",
       "      <td>-0.051474</td>\n",
       "      <td>-0.026328</td>\n",
       "      <td>-0.008449</td>\n",
       "      <td>-0.019163</td>\n",
       "      <td>0.074412</td>\n",
       "      <td>-0.039493</td>\n",
       "      <td>-0.068330</td>\n",
       "      <td>-0.092204</td>\n",
       "      <td>75.0</td>\n",
       "    </tr>\n",
       "    <tr>\n",
       "      <th>2</th>\n",
       "      <td>0.085299</td>\n",
       "      <td>0.050680</td>\n",
       "      <td>0.044451</td>\n",
       "      <td>-0.005671</td>\n",
       "      <td>-0.045599</td>\n",
       "      <td>-0.034194</td>\n",
       "      <td>-0.032356</td>\n",
       "      <td>-0.002592</td>\n",
       "      <td>0.002864</td>\n",
       "      <td>-0.025930</td>\n",
       "      <td>141.0</td>\n",
       "    </tr>\n",
       "    <tr>\n",
       "      <th>3</th>\n",
       "      <td>-0.089063</td>\n",
       "      <td>-0.044642</td>\n",
       "      <td>-0.011595</td>\n",
       "      <td>-0.036656</td>\n",
       "      <td>0.012191</td>\n",
       "      <td>0.024991</td>\n",
       "      <td>-0.036038</td>\n",
       "      <td>0.034309</td>\n",
       "      <td>0.022692</td>\n",
       "      <td>-0.009362</td>\n",
       "      <td>206.0</td>\n",
       "    </tr>\n",
       "    <tr>\n",
       "      <th>4</th>\n",
       "      <td>0.005383</td>\n",
       "      <td>-0.044642</td>\n",
       "      <td>-0.036385</td>\n",
       "      <td>0.021872</td>\n",
       "      <td>0.003935</td>\n",
       "      <td>0.015596</td>\n",
       "      <td>0.008142</td>\n",
       "      <td>-0.002592</td>\n",
       "      <td>-0.031991</td>\n",
       "      <td>-0.046641</td>\n",
       "      <td>135.0</td>\n",
       "    </tr>\n",
       "    <tr>\n",
       "      <th>...</th>\n",
       "      <td>...</td>\n",
       "      <td>...</td>\n",
       "      <td>...</td>\n",
       "      <td>...</td>\n",
       "      <td>...</td>\n",
       "      <td>...</td>\n",
       "      <td>...</td>\n",
       "      <td>...</td>\n",
       "      <td>...</td>\n",
       "      <td>...</td>\n",
       "      <td>...</td>\n",
       "    </tr>\n",
       "    <tr>\n",
       "      <th>437</th>\n",
       "      <td>0.041708</td>\n",
       "      <td>0.050680</td>\n",
       "      <td>0.019662</td>\n",
       "      <td>0.059744</td>\n",
       "      <td>-0.005697</td>\n",
       "      <td>-0.002566</td>\n",
       "      <td>-0.028674</td>\n",
       "      <td>-0.002592</td>\n",
       "      <td>0.031193</td>\n",
       "      <td>0.007207</td>\n",
       "      <td>178.0</td>\n",
       "    </tr>\n",
       "    <tr>\n",
       "      <th>438</th>\n",
       "      <td>-0.005515</td>\n",
       "      <td>0.050680</td>\n",
       "      <td>-0.015906</td>\n",
       "      <td>-0.067642</td>\n",
       "      <td>0.049341</td>\n",
       "      <td>0.079165</td>\n",
       "      <td>-0.028674</td>\n",
       "      <td>0.034309</td>\n",
       "      <td>-0.018118</td>\n",
       "      <td>0.044485</td>\n",
       "      <td>104.0</td>\n",
       "    </tr>\n",
       "    <tr>\n",
       "      <th>439</th>\n",
       "      <td>0.041708</td>\n",
       "      <td>0.050680</td>\n",
       "      <td>-0.015906</td>\n",
       "      <td>0.017282</td>\n",
       "      <td>-0.037344</td>\n",
       "      <td>-0.013840</td>\n",
       "      <td>-0.024993</td>\n",
       "      <td>-0.011080</td>\n",
       "      <td>-0.046879</td>\n",
       "      <td>0.015491</td>\n",
       "      <td>132.0</td>\n",
       "    </tr>\n",
       "    <tr>\n",
       "      <th>440</th>\n",
       "      <td>-0.045472</td>\n",
       "      <td>-0.044642</td>\n",
       "      <td>0.039062</td>\n",
       "      <td>0.001215</td>\n",
       "      <td>0.016318</td>\n",
       "      <td>0.015283</td>\n",
       "      <td>-0.028674</td>\n",
       "      <td>0.026560</td>\n",
       "      <td>0.044528</td>\n",
       "      <td>-0.025930</td>\n",
       "      <td>220.0</td>\n",
       "    </tr>\n",
       "    <tr>\n",
       "      <th>441</th>\n",
       "      <td>-0.045472</td>\n",
       "      <td>-0.044642</td>\n",
       "      <td>-0.073030</td>\n",
       "      <td>-0.081414</td>\n",
       "      <td>0.083740</td>\n",
       "      <td>0.027809</td>\n",
       "      <td>0.173816</td>\n",
       "      <td>-0.039493</td>\n",
       "      <td>-0.004220</td>\n",
       "      <td>0.003064</td>\n",
       "      <td>57.0</td>\n",
       "    </tr>\n",
       "  </tbody>\n",
       "</table>\n",
       "<p>442 rows × 11 columns</p>\n",
       "</div>"
      ],
      "text/plain": [
       "          age       sex       bmi        bp        s1        s2        s3  \\\n",
       "0    0.038076  0.050680  0.061696  0.021872 -0.044223 -0.034821 -0.043401   \n",
       "1   -0.001882 -0.044642 -0.051474 -0.026328 -0.008449 -0.019163  0.074412   \n",
       "2    0.085299  0.050680  0.044451 -0.005671 -0.045599 -0.034194 -0.032356   \n",
       "3   -0.089063 -0.044642 -0.011595 -0.036656  0.012191  0.024991 -0.036038   \n",
       "4    0.005383 -0.044642 -0.036385  0.021872  0.003935  0.015596  0.008142   \n",
       "..        ...       ...       ...       ...       ...       ...       ...   \n",
       "437  0.041708  0.050680  0.019662  0.059744 -0.005697 -0.002566 -0.028674   \n",
       "438 -0.005515  0.050680 -0.015906 -0.067642  0.049341  0.079165 -0.028674   \n",
       "439  0.041708  0.050680 -0.015906  0.017282 -0.037344 -0.013840 -0.024993   \n",
       "440 -0.045472 -0.044642  0.039062  0.001215  0.016318  0.015283 -0.028674   \n",
       "441 -0.045472 -0.044642 -0.073030 -0.081414  0.083740  0.027809  0.173816   \n",
       "\n",
       "           s4        s5        s6  target  \n",
       "0   -0.002592  0.019908 -0.017646   151.0  \n",
       "1   -0.039493 -0.068330 -0.092204    75.0  \n",
       "2   -0.002592  0.002864 -0.025930   141.0  \n",
       "3    0.034309  0.022692 -0.009362   206.0  \n",
       "4   -0.002592 -0.031991 -0.046641   135.0  \n",
       "..        ...       ...       ...     ...  \n",
       "437 -0.002592  0.031193  0.007207   178.0  \n",
       "438  0.034309 -0.018118  0.044485   104.0  \n",
       "439 -0.011080 -0.046879  0.015491   132.0  \n",
       "440  0.026560  0.044528 -0.025930   220.0  \n",
       "441 -0.039493 -0.004220  0.003064    57.0  \n",
       "\n",
       "[442 rows x 11 columns]"
      ]
     },
     "execution_count": 2,
     "metadata": {},
     "output_type": "execute_result"
    }
   ],
   "source": [
    "# cargar datos\n",
    "diabetes = load_diabetes()\n",
    "\n",
    "# Caracteristicas y variable objetivo\n",
    "X, y = diabetes.data, diabetes.target\n",
    "\n",
    "# mostrar los datos en un dataframe para mejorar visualizacion\n",
    "diabetes_df = pd.DataFrame(data=diabetes.data, columns=diabetes.feature_names)\n",
    "# agregar la variable objetivo al df\n",
    "diabetes_df['target'] = diabetes.target\n",
    "# mostrar dataframe\n",
    "diabetes_df\n"
   ]
  },
  {
   "cell_type": "markdown",
   "id": "8a9c21d9",
   "metadata": {},
   "source": [
    "Inicializamos el modelo, creamos las listas para almacenar las metricas y definimos el numero total de observaciones"
   ]
  },
  {
   "cell_type": "code",
   "execution_count": 8,
   "id": "d8da8500",
   "metadata": {},
   "outputs": [],
   "source": [
    "# inicializar modelo de regresion lineal\n",
    "model = LinearRegression()\n",
    "\n",
    "# lista para almacenar la metrica\n",
    "mse_score = []\n",
    "# lista para almacenar las predicciones\n",
    "predicciones = []\n",
    "\n",
    "# numero total de observaciones\n",
    "n_obs = X.shape[0]"
   ]
  },
  {
   "cell_type": "markdown",
   "id": "fcc4b764",
   "metadata": {},
   "source": [
    "Ahora, aplicamos el proceso de LOO-CV de forma manual"
   ]
  },
  {
   "cell_type": "code",
   "execution_count": 9,
   "id": "c6c91500",
   "metadata": {},
   "outputs": [
    {
     "name": "stdout",
     "output_type": "stream",
     "text": [
      "Promedio del Error cuadratico medio: 3001.746231732946\n",
      "R-cuadrado Global: 0.4937935079824348\n"
     ]
    }
   ],
   "source": [
    "# 3.- Repeticion del proceso\n",
    "for i in range(n_obs):\n",
    "    \n",
    "    # 1.- Dividir los datos\n",
    "    # seleccionar la muestra i como conjunto de prueba\n",
    "    X_test = X[i, :].reshape(1, -1)\n",
    "    y_test = y[i]\n",
    "    \n",
    "    # seleccionar todas las demas como conjunto de entrenamiento\n",
    "    X_train = np.delete(X, i, axis=0)\n",
    "    y_train = np.delete(y, i, axis=0)\n",
    "    \n",
    "    # 2.- Entrenamiento y evaluacion del modelo\n",
    "    model.fit(X_train, y_train)\n",
    "    y_pred = model.predict(X_test)\n",
    "    predicciones.append(y_pred[0])\n",
    "    mse = mean_squared_error([y_test], y_pred)\n",
    "    mse_score.append(mse)\n",
    "    \n",
    "# 4.- Promediar resultados\n",
    "mean_mse = np.mean(mse_score)\n",
    "# calcular r2 sobre todas las predicciones\n",
    "r2 = r2_score(y, predicciones)\n",
    "\n",
    "# mostrar promedio de los resultados\n",
    "print(f'Promedio del Error cuadratico medio: {mean_mse}')\n",
    "print(f'R-cuadrado Global: {r2}')"
   ]
  },
  {
   "cell_type": "markdown",
   "id": "a5baeb20",
   "metadata": {},
   "source": [
    "De esta forma, obtenemos una evaluacion del modelo mucho mas precisa."
   ]
  },
  {
   "cell_type": "code",
   "execution_count": null,
   "id": "7c3045fa",
   "metadata": {},
   "outputs": [],
   "source": []
  },
  {
   "cell_type": "markdown",
   "id": "605b04dd",
   "metadata": {},
   "source": [
    "## Implementacion con Python"
   ]
  },
  {
   "cell_type": "markdown",
   "id": "15bf826f",
   "metadata": {},
   "source": [
    "Para aplicar el metodo de forma directa, lo importamos de la libreria Scikit-learn. Veamos como implementarlo en los datos del ejemplo anterior: X e y"
   ]
  },
  {
   "cell_type": "code",
   "execution_count": 12,
   "id": "49902f1f",
   "metadata": {},
   "outputs": [],
   "source": [
    "# importamos librerias requeridas\n",
    "import numpy as np\n",
    "from sklearn.linear_model import LinearRegression\n",
    "from sklearn.model_selection import LeaveOneOut, cross_val_score\n",
    "from sklearn.metrics import make_scorer, mean_squared_error, r2_score"
   ]
  },
  {
   "cell_type": "markdown",
   "id": "732e2274",
   "metadata": {},
   "source": [
    "Inicializamos el modelo, el objeto LeaveOneOut y definimos el scorer para el MSE el cual indica a *cross_val_score* que calcule el error cuadratico medio durante cada particion"
   ]
  },
  {
   "cell_type": "code",
   "execution_count": 13,
   "id": "6343da83",
   "metadata": {},
   "outputs": [],
   "source": [
    "# modelo\n",
    "model = LinearRegression()\n",
    "\n",
    "# LeaveOneOut\n",
    "loo = LeaveOneOut()\n",
    "\n",
    "# scorer para el MSE\n",
    "mse_scorer = make_scorer(mean_squared_error)"
   ]
  },
  {
   "cell_type": "code",
   "execution_count": null,
   "id": "9e5a8a1d",
   "metadata": {},
   "outputs": [],
   "source": []
  },
  {
   "cell_type": "code",
   "execution_count": null,
   "id": "d1c5dd81",
   "metadata": {},
   "outputs": [],
   "source": []
  },
  {
   "cell_type": "code",
   "execution_count": null,
   "id": "02c56397",
   "metadata": {},
   "outputs": [],
   "source": []
  },
  {
   "cell_type": "code",
   "execution_count": null,
   "id": "f4f7e966",
   "metadata": {},
   "outputs": [],
   "source": []
  },
  {
   "cell_type": "code",
   "execution_count": null,
   "id": "7d5031d3",
   "metadata": {},
   "outputs": [],
   "source": []
  }
 ],
 "metadata": {
  "kernelspec": {
   "display_name": "Python 3 (ipykernel)",
   "language": "python",
   "name": "python3"
  },
  "language_info": {
   "codemirror_mode": {
    "name": "ipython",
    "version": 3
   },
   "file_extension": ".py",
   "mimetype": "text/x-python",
   "name": "python",
   "nbconvert_exporter": "python",
   "pygments_lexer": "ipython3",
   "version": "3.9.12"
  }
 },
 "nbformat": 4,
 "nbformat_minor": 5
}
