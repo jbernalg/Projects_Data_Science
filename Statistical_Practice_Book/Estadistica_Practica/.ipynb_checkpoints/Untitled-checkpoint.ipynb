{
 "cells": [
  {
   "cell_type": "markdown",
   "id": "f7c4c1eb",
   "metadata": {},
   "source": [
    "# Validacion Cruzada LOO-CV"
   ]
  },
  {
   "cell_type": "markdown",
   "id": "bfcb5aa6",
   "metadata": {},
   "source": [
    "El metodo *Leave-One_Out Cross-Validation (LOO-CV)* es una tecnica muy exhaustiva que pertenece a la familia de metodos de validacion cruzada de tipo *leave-p-out*. Consiste en entrenar el modelo utilizando todas menos una de las observaciones y luego se evalua el modelo en la observacion que quedo afuera. El proceso se repite tantas veces como el numero total de observaciones en el conjunto de datos, usando una muestra diferente como conjunto de prueba en cada iteracion."
   ]
  },
  {
   "cell_type": "code",
   "execution_count": null,
   "id": "5cc39cef",
   "metadata": {},
   "outputs": [],
   "source": []
  },
  {
   "cell_type": "markdown",
   "id": "b0beec42",
   "metadata": {},
   "source": [
    "## Ventajas"
   ]
  },
  {
   "cell_type": "markdown",
   "id": "c035e54c",
   "metadata": {},
   "source": [
    "- Todos los datos, excepto uno, se utilizan para entrenar el modelo en cada iteracion, por lo que es una de las formas mas eficientes de usar el conjunto de datos disponibles\n",
    "\n",
    "- Proporciona una estimacion robusta del modelo, ya que se entrena y evalua en casi todas las muestras posibles.\n",
    "\n",
    "- Es ideal aplicar cuando el conjunto de datos es pequeno y cada muestra es valiosa. Ejemplo, en problemas medicos o biologicos donde hay pocas observaciones.\n",
    "\n",
    "- Cuando las observaciones individales pueden tener un impacto significativo en el rendimiento del modelo, este metodo puede ser muy util porque evalua el modelo para cada muestra detallando su comportamiento en situaciones extremas.\n",
    "\n",
    "- Evita el sobreajuste en ciertos casos, ya que al dejar solo una muestra para la prueba, se asegura que el modelo no vea esa muestra durante el entrenamiento. Esto reduce la probabilidad de ajustar excesivamente el modelo."
   ]
  },
  {
   "cell_type": "code",
   "execution_count": null,
   "id": "25d7251d",
   "metadata": {},
   "outputs": [],
   "source": []
  },
  {
   "cell_type": "markdown",
   "id": "f7faf768",
   "metadata": {},
   "source": [
    "## Desventajas"
   ]
  },
  {
   "cell_type": "markdown",
   "id": "fb8950b9",
   "metadata": {},
   "source": [
    "- Es costoso computacionalmente especialmente para conjuntos de datos grandes.\n",
    "\n",
    "- Puede generar una alta varianza debido a que el modelo se entrena con solo una observacion de prueba en cada iteracion. Los resultados pueden ser muy sensibles a la eleccion de esa muestra lo que puede introducir varianza en las estimaciones de rendimiento."
   ]
  },
  {
   "cell_type": "code",
   "execution_count": null,
   "id": "e77e853b",
   "metadata": {},
   "outputs": [],
   "source": []
  },
  {
   "cell_type": "markdown",
   "id": "5bcdda64",
   "metadata": {},
   "source": [
    "## Proceso de LOO-CV"
   ]
  },
  {
   "cell_type": "markdown",
   "id": "5c82f741",
   "metadata": {},
   "source": [
    "#### 1.- Dividir los datos\n",
    "Para un conjunto de datos de $n$ observaciones, se crean $n$ subconjuntos, cada uno de los cuales contiene todas las muestras excepto una.\n",
    "\n",
    "#### 2.- Entrenamiento y evaluacion del modelo\n",
    "Para cada iteracion $i$, el modelo se entrena con las $n-1$ observaciones y se evalua en la observacion que quedo fuera.\n",
    "\n",
    "#### 3.- Repeticion del proceso\n",
    "El proceso se repite  $n$ veces, utilizando una observacion como conjunto de prueba en cada iteracion\n",
    "\n",
    "#### 4.- Promediar los resultados\n",
    "La metrica de evaluacion se calcula promediando los resultados de las $n$ evaluaciones."
   ]
  },
  {
   "cell_type": "code",
   "execution_count": null,
   "id": "cf432450",
   "metadata": {},
   "outputs": [],
   "source": []
  }
 ],
 "metadata": {
  "kernelspec": {
   "display_name": "Python 3 (ipykernel)",
   "language": "python",
   "name": "python3"
  },
  "language_info": {
   "codemirror_mode": {
    "name": "ipython",
    "version": 3
   },
   "file_extension": ".py",
   "mimetype": "text/x-python",
   "name": "python",
   "nbconvert_exporter": "python",
   "pygments_lexer": "ipython3",
   "version": "3.9.12"
  }
 },
 "nbformat": 4,
 "nbformat_minor": 5
}
