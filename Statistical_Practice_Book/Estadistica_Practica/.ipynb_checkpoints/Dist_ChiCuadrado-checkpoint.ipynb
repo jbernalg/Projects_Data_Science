{
 "cells": [
  {
   "cell_type": "markdown",
   "id": "6d135376",
   "metadata": {},
   "source": [
    "# Todo sobre la Distribucion Chi Cuadrado"
   ]
  },
  {
   "cell_type": "markdown",
   "id": "24ad5b34",
   "metadata": {},
   "source": [
    "La distribución Chi-Cuadrado $\\chi^2$ es una distribucion de una variable aleatoria continua que surge de la suma de los cuadrados de $k$ variables aleatorias independientes, cada una de las cuales sigue una D. Normal Estandar $N(0,1)$. Es una D. fundamental en la inferencia estadistica y se utiliza en varios contextos, como en prueba de hipotesis y en analisis de varianza.\n",
    "\n",
    "Alguna de las aplicaciones mas comunes en Ciencia de Datos son:\n",
    "\n",
    "- **Pruebas de bondad de ajuste**: Se utiliza para determinar si una muestra de datos sigue una D. especifica, ejemplo, se usa para comparar las frecuencias observadas con las esperadas.\n",
    "\n",
    "- **Pruebas de independencia**: Se utiliza para determinar si dos variables categoricas son idependientes.\n",
    "\n",
    "- **Analisis de Varianza (ANOVA)**: Se utiliza en el contexto del analisis de varianza, especialmente en la prueba F, que compara las varianzas entre grupos.\n",
    "\n",
    "- **Intervalos de confianza para Varianzas**: Se utiliza para construir intervalos de confianza para la varianza de una poblacion normal."
   ]
  },
  {
   "cell_type": "code",
   "execution_count": null,
   "id": "f5469bd5",
   "metadata": {},
   "outputs": [],
   "source": []
  },
  {
   "cell_type": "markdown",
   "id": "55a3055e",
   "metadata": {},
   "source": [
    "## Deduccion de la Distribucion Chi Cuadrado"
   ]
  },
  {
   "cell_type": "markdown",
   "id": "b1d342e1",
   "metadata": {},
   "source": [
    "La D. Chi Cuadrado se deriva directamente de la D. Gamma mediante una seleccion especifica de los parametros de forma y escala. Veamos como lograrlo:\n",
    "\n",
    "La D. Gamma esta definida por los parametros de forma ($\\alpha$) y de escala $\\beta$ como sigue:\n",
    "\n",
    "$$\\Gamma(x,\\alpha,\\beta)=\\frac{x^{\\alpha-1}e^{-x/\\beta}}{\\beta^\\alpha \\Gamma(\\alpha)}$$\n",
    "\n",
    "donde:\n",
    "- $\\alpha > 0$\n",
    "- $\\beta > 0$\n",
    "- $x > 0$\n",
    "- $\\Gamma(\\alpha)$ es la funcion Gamma que generaliza el factorial para numeros reales.\n",
    "\n",
    "Para conocer mejor la D. Gamma visita el siguiente [Post](https://github.com/jbernalg/Projects_Data_Science/blob/main/Statistical_Practice_Book/Estadistica_Practica/Dist_Gamma.ipynb) donde encontraras una explicacion detallada mas ejercicios resueltos en Python.\n",
    "\n",
    "La D. Chi Cuadrado con $k$ grados de libertad es un caso especial de la D. Gamma con $\\alpha = k/2$ y $\\beta = 2$.\n",
    "\n",
    "$$\\Gamma(x,\\alpha=\\frac{k}{2},\\beta = 2)=\\chi^{2}(x,k)$$\n",
    "\n",
    "Entonces, la D. Chi Cuadrado viene dada por\n",
    "\n",
    "$$\\chi^{2} (x,k) =\\frac{x^{\\frac{k}{2}-1}e^{-\\frac{x}{2}}}{2^\\frac{k}{2} \\Gamma(\\frac{k}{2})}$$\n",
    "\n",
    "Donde $k$ representa los grados de libertad. \n",
    "\n",
    "La D. Chi Cuadrado surge cuando se suman los cuadrados de $k$ variables aleatorias independientes que siguen una D. Normal Estandar $N(0,1)$, es decir,\n",
    "\n",
    "$$X \\sim \\chi ^{2}(x,k) \\Rightarrow X = \\sum_{i=1}^{k} Z_{i}^{2}$$\n",
    "\n",
    "donde $Z_{i} \\sim N(0,1)$. Por tanto, $k$ representa el numero de estas variables aleatorias independientes."
   ]
  },
  {
   "cell_type": "code",
   "execution_count": null,
   "id": "d7c998b6",
   "metadata": {},
   "outputs": [],
   "source": []
  },
  {
   "cell_type": "code",
   "execution_count": null,
   "id": "53154517",
   "metadata": {},
   "outputs": [],
   "source": []
  },
  {
   "cell_type": "code",
   "execution_count": null,
   "id": "ebe419df",
   "metadata": {},
   "outputs": [],
   "source": []
  }
 ],
 "metadata": {
  "kernelspec": {
   "display_name": "Python 3 (ipykernel)",
   "language": "python",
   "name": "python3"
  },
  "language_info": {
   "codemirror_mode": {
    "name": "ipython",
    "version": 3
   },
   "file_extension": ".py",
   "mimetype": "text/x-python",
   "name": "python",
   "nbconvert_exporter": "python",
   "pygments_lexer": "ipython3",
   "version": "3.9.12"
  }
 },
 "nbformat": 4,
 "nbformat_minor": 5
}
