{
 "cells": [
  {
   "cell_type": "markdown",
   "id": "2ccacd1a",
   "metadata": {},
   "source": [
    "# Todo sobre la Distribucion Chi Cuadrado"
   ]
  },
  {
   "cell_type": "markdown",
   "id": "48e62917",
   "metadata": {},
   "source": [
    "La distribución Chi-Cuadrado $\\chi^2$ es una distribucion de una variable aleatoria continua que surge de la suma de los cuadrados de $k$ variables aleatorias independientes, cada una de las cuales sigue una D. Normal Estandar $N(0,1)$. Es una D. fundamental en la inferencia estadistica y se utiliza en varios contextos, como en prueba de hipotesis y en analisis de varianza.\n",
    "\n",
    "Alguna de las aplicaciones mas comunes en Ciencia de Datos son:\n",
    "\n",
    "- **Pruebas de bondad de ajuste**: Se utiliza para determinar si una muestra de datos sigue una D. especifica, ejemplo, se usa para comparar las frecuencias observadas con las esperadas.\n",
    "\n",
    "- **Pruebas de independencia**: Se utiliza para determinar si dos variables categoricas son idependientes.\n",
    "\n",
    "- **Analisis de Varianza (ANOVA)**: Se utiliza en el contexto del analisis de varianza, especialmente en la prueba F, que compara las varianzas entre grupos.\n",
    "\n",
    "- **Intervalos de confianza para Varianzas**: Se utiliza para construir intervalos de confianza para la varianza de una poblacion normal."
   ]
  },
  {
   "cell_type": "code",
   "execution_count": null,
   "id": "50529278",
   "metadata": {},
   "outputs": [],
   "source": []
  },
  {
   "cell_type": "code",
   "execution_count": null,
   "id": "175c5952",
   "metadata": {},
   "outputs": [],
   "source": []
  },
  {
   "cell_type": "code",
   "execution_count": null,
   "id": "c2dc9a68",
   "metadata": {},
   "outputs": [],
   "source": []
  }
 ],
 "metadata": {
  "kernelspec": {
   "display_name": "Python 3 (ipykernel)",
   "language": "python",
   "name": "python3"
  },
  "language_info": {
   "codemirror_mode": {
    "name": "ipython",
    "version": 3
   },
   "file_extension": ".py",
   "mimetype": "text/x-python",
   "name": "python",
   "nbconvert_exporter": "python",
   "pygments_lexer": "ipython3",
   "version": "3.9.12"
  }
 },
 "nbformat": 4,
 "nbformat_minor": 5
}
