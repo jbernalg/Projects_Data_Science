{
 "cells": [
  {
   "cell_type": "markdown",
   "id": "6f6177bf",
   "metadata": {},
   "source": [
    "# Todo sobre la Distribucion Chi Cuadrado"
   ]
  },
  {
   "cell_type": "markdown",
   "id": "55d27623",
   "metadata": {},
   "source": [
    "La distribución Chi-Cuadrado $\\chi^2$ es una distribucion de una variable aleatoria continua que surge de la suma de los cuadrados de $k$ variables aleatorias independientes, cada una de las cuales sigue una D. Normal Estandar $N(0,1)$. Es una D. fundamental en la inferencia estadistica y se utiliza en varios contextos, como en prueba de hipotesis y en analisis de varianza.\n",
    "\n",
    "Alguna de las aplicaciones mas comunes en Ciencia de Datos son:\n",
    "\n",
    "- Clasificacion de productos\n",
    "- Deteccion de fraudes\n",
    "- Analisis de independencia en las respuestas de una encuestas\n",
    "- Independencia en la tasa de clics en diferentes anuncios\n",
    "- Comparacion de campanas de marketing\n",
    "- Control de calidad\n",
    "- Evaluacion de modelos predictivos"
   ]
  },
  {
   "cell_type": "code",
   "execution_count": null,
   "id": "b80ac113",
   "metadata": {},
   "outputs": [],
   "source": []
  },
  {
   "cell_type": "markdown",
   "id": "da147986",
   "metadata": {},
   "source": [
    "## Deduccion de la Distribucion Chi Cuadrado"
   ]
  },
  {
   "cell_type": "markdown",
   "id": "adba9fd5",
   "metadata": {},
   "source": [
    "La D. Chi Cuadrado se deriva directamente de la D. Gamma mediante una seleccion especifica de los parametros de forma y escala. Veamos como lograrlo:\n",
    "\n",
    "La D. Gamma esta definida por los parametros de forma ($\\alpha$) y de escala $\\beta$ como sigue:\n",
    "\n",
    "$$\\Gamma(x,\\alpha,\\beta)=\\frac{x^{\\alpha-1}e^{-x/\\beta}}{\\beta^\\alpha \\Gamma(\\alpha)}$$\n",
    "\n",
    "donde:\n",
    "- $\\alpha > 0$\n",
    "- $\\beta > 0$\n",
    "- $x > 0$\n",
    "- $\\Gamma(\\alpha)$ es la funcion Gamma que generaliza el factorial para numeros reales.\n",
    "\n",
    "Para conocer mejor la D. Gamma visita el siguiente [Post](https://github.com/jbernalg/Projects_Data_Science/blob/main/Statistical_Practice_Book/Estadistica_Practica/Dist_Gamma.ipynb) donde encontraras una explicacion detallada mas ejercicios resueltos en Python.\n",
    "\n",
    "La D. Chi Cuadrado con $k$ grados de libertad es un caso especial de la D. Gamma con $\\alpha = k/2$ y $\\beta = 2$.\n",
    "\n",
    "$$\\Gamma(x,\\alpha=\\frac{k}{2},\\beta = 2)=\\chi^{2}(x,k)$$\n",
    "\n",
    "Entonces, la D. Chi Cuadrado viene dada por\n",
    "\n",
    "$$\\chi^{2} (x,k) =\\frac{x^{\\frac{k}{2}-1}e^{-\\frac{x}{2}}}{2^\\frac{k}{2} \\Gamma(\\frac{k}{2})}$$\n"
   ]
  },
  {
   "cell_type": "code",
   "execution_count": null,
   "id": "a202a25d",
   "metadata": {},
   "outputs": [],
   "source": []
  },
  {
   "cell_type": "markdown",
   "id": "006feaf9",
   "metadata": {},
   "source": [
    "## Funcion de la Densidad de Probabilidad"
   ]
  },
  {
   "attachments": {
    "image.png": {
     "image/png": "[encoded data removed]"
    }
   },
   "cell_type": "markdown",
   "id": "dc70215c",
   "metadata": {},
   "source": [
    "La funcion de la D. Chi Cuadrado viene dada por:\n",
    "\n",
    "$$f(x) = \\chi^{2}(X=x)=\\left\\{\\begin{matrix}\n",
    " \\frac{x^{\\frac{k}{2}-1}e^{-\\frac{x}{2}}}{2^\\frac{k}{2} \\Gamma(\\frac{k}{2})}& si & x \\geq 0 \\\\\n",
    " 0& si & x<0 \\\\\n",
    "\\end{matrix}\\right.$$\n",
    "\n",
    "Donde $k>0$ y representa los grados de libertad. \n",
    "\n",
    "La D. Chi Cuadrado surge cuando se suman los cuadrados de $k$ variables aleatorias independientes $X_i$ que siguen una D. Normal Estandar $N(0,1)$, es decir,\n",
    "\n",
    "$$Z \\sim \\chi ^{2}(x,k) \\Rightarrow Z = \\sum_{i=1}^{k} X_{i}^{2}$$\n",
    "\n",
    "donde $X_{i} \\sim N(0,1)$. Por tanto, $k$ representa el numero de estas variables aleatorias independientes.\n",
    "\n",
    "La grafica de la D. Chi Cuadrado con $k=3$ viene dada por:\n",
    "\n",
    "![image.png](attachment:image.png)\n",
    "\n",
    "\n"
   ]
  },
  {
   "cell_type": "code",
   "execution_count": null,
   "id": "a6c20475",
   "metadata": {},
   "outputs": [],
   "source": []
  },
  {
   "cell_type": "markdown",
   "id": "7a92dd66",
   "metadata": {},
   "source": [
    "## Propiedades de la Distribucion Chi Cuadrado"
   ]
  },
  {
   "cell_type": "markdown",
   "id": "8cdd26cc",
   "metadata": {},
   "source": [
    "- La Media ($\\mu$) o esperanza matematica $E(x)$ viene dada por\n",
    "\n",
    "$$E(x) = \\alpha*\\beta = \\frac{n}{2} 2 = n$$\n",
    "\n",
    "- La varianza ($\\sigma^2$) o varianza matematica $V(x)$ viene dada por\n",
    "\n",
    "$$V(x) = \\alpha*\\beta^2 = \\frac{n}{2}(2)^2 = 2n$$\n",
    "\n",
    "- Sea $X_1...X_k$ variables independientes e identicamente distribuidas con $N(0,1)$. Entonces la variables $Z$ que viene dada por\n",
    "\n",
    "$$Z = \\sum_{i=1}^{k} X_{i}^{2}$$\n",
    "\n",
    "Sigue una D. Chi Cuadrado con $k$ grados de libertad.\n",
    "\n",
    "$$Z \\sim \\chi^2(k)$$\n",
    "\n",
    "- Sea $X_1$ una variable que sigue una D. Chi Cuadrado con un grado de libertad, $X_1 \\sim \\chi^2(k=1)$  y sea $X_2$ una variable que sigue una D. Chi Cuadrado con dos grados de libertad, $X_2 \\sim \\chi^2(k=2)$. Entonces, la suma de las variables $X_1$ y $X_2$ se distribuye como una Chi Cuadrado que tiene como grado de libertad la suma de los grados de las variables\n",
    "\n",
    "$$X_1 + X_2 \\sim \\chi^2 (1+2)$$\n",
    "\n",
    "- Sea $S^2$ la varianza muestral. Entonces la D. que sigue la varianza muestral viene dada por:\n",
    "\n",
    "$$\\frac{(k-1)S^2}{\\sigma^2} \\sim \\chi^2(k-1)$$\n"
   ]
  },
  {
   "cell_type": "code",
   "execution_count": null,
   "id": "c059e922",
   "metadata": {},
   "outputs": [],
   "source": []
  },
  {
   "cell_type": "markdown",
   "id": "a83b0410",
   "metadata": {},
   "source": [
    "## Formula de Chi Cuadrado"
   ]
  },
  {
   "cell_type": "markdown",
   "id": "acace9fc",
   "metadata": {},
   "source": [
    "La formula chi-cuadrado compara las frecuencias observadas y las frecuencias esperadas bajo una hipotesis nula. Mide que tan lejos estan las frecuencias observadas de las esperadas\n",
    "\n",
    "Suponga que tenemos:\n",
    "\n",
    "- $O_i$: la frecuencia observada en la categoria $i$\n",
    "-$E_i$: la frecuencia esperada en la categoria $i$ \n",
    "\n",
    "La idea basica es que si las frecuencias observadas y esperadas son cercanas, las diferencias ($O_i - E_i$) seran pequenas. Para evitar la cancelacion entre las contribuciones, elevamos al cuadrado las diferencias\n",
    "\n",
    "$$(O_i - E_i)^2$$\n",
    "\n",
    "Como los terminos anteriores dependen de $E_i$, queremos evitar que se inflen por diferencias grandes de escala por lo que se normaliza dividiendo por la frecuencia esperada $E_i$. Esto ajusta las desviaciones a una escala relativa a la frecuencia esperada.\n",
    "\n",
    "$$\\frac{(O_i - E_i)^2}{E_i}$$\n",
    "\n",
    "Para obtener una medida total de la desviacion entre la frecuencias observadas y esperadas, se suman estas desviaciones cuadradas ajustadas sobre todas las $k$ categorias\n",
    "\n",
    "$$\\chi^2 = \\sum_{i=1}^{k} \\frac{(O_i - E_i)^2}{E_i}$$"
   ]
  },
  {
   "cell_type": "code",
   "execution_count": null,
   "id": "69c31b47",
   "metadata": {},
   "outputs": [],
   "source": []
  },
  {
   "cell_type": "markdown",
   "id": "14087af9",
   "metadata": {},
   "source": [
    "## Prueba Chi - Cuadrado"
   ]
  },
  {
   "cell_type": "markdown",
   "id": "46929208",
   "metadata": {},
   "source": [
    "La D. Chi Cuadrado se utiliza principalmente para probar hipotesis a traves de la Prueba Chi Cuadrado. Tambien conocida como Chi- Cuadrado de Pearson o Prueba exacta de Fisher es un procedimiento utilizado para examinar las diferencias entre variables categoricas en la misma poblacion.\n",
    "\n",
    "La idea basica de la prueba es que se comparan los valores de los datos reales con lo que se esperaria si la hipotesis nula fuera cierta. De esta forma, se busca determinar si una diferencia entre los datos observados y los esperados se debe al azar, o si se debe a una relacion entre las variables que se estan estudiando.\n",
    "\n",
    "El valor de Chi Cuadrado es extremadamente sensible al tamaño de la muestra: cuando el tamano de la muestra es demasiado grande (aproximadamente 500), casi cualquier pequena diferencia parecera estadisticamente significativa."
   ]
  },
  {
   "cell_type": "code",
   "execution_count": null,
   "id": "66f96643",
   "metadata": {},
   "outputs": [],
   "source": []
  },
  {
   "cell_type": "markdown",
   "id": "a532cc8d",
   "metadata": {},
   "source": [
    "## Tipos de Prueba de Chi - Cuadrado"
   ]
  },
  {
   "cell_type": "markdown",
   "id": "de2fbde3",
   "metadata": {},
   "source": [
    "### Prueba de Bondad de Ajuste\n",
    "\n",
    "Se utiliza para comparar una muestra recogida aleatoriamente que contiene una unica variable categorica de una poblacion mayor. Se utiliza con mayor frecuencia para comparar una muestra aleatoria con la poblacion mediante la formula de Chi-Cuadrado."
   ]
  },
  {
   "cell_type": "markdown",
   "id": "d2bf9e17",
   "metadata": {},
   "source": [
    "### Prueba de Independencia\n",
    "Busca una asociacion entre dos variables categoricas dentro de la misma poblacion. Esta prueba no compara una unica variable observada con la poblacion teorica, sino dos variables dentro de un conjunto de muestras entre si."
   ]
  },
  {
   "cell_type": "markdown",
   "id": "0966a97b",
   "metadata": {},
   "source": [
    "### Prueba de Homogeneidad de Chi - Cuadrado\n",
    "\n",
    "Se ejecuta igual que la prueba de independencia pero con la diferencia de que esta busca una asociacion entre dos variables categoricas dentro de la misma poblacion, mientras que la prueba de homogeneidad determina si la distribucion de una variable es la misma en cada una de varias poblaciones (asignando asi la propia poblacion como segunda variable categorica)"
   ]
  },
  {
   "cell_type": "markdown",
   "id": "4d9e7edc",
   "metadata": {},
   "source": [
    "### Prueba de hipotesis de la varianza\n",
    "Se utiliza para verificar si la varianza de una poblacion es igual a un valor teorico. Es util en situaciones donde se desea confirmar si la variabilidad en los datos esta dentro de lo esperado o si ha cambiado significativamente. La prueba se plantea con la estadistica de prueba $\\chi^2$\n",
    "\n",
    "$$\\chi^2 = \\frac{(k-1)S^2}{\\sigma^2}$$"
   ]
  },
  {
   "cell_type": "code",
   "execution_count": null,
   "id": "2f016903",
   "metadata": {},
   "outputs": [],
   "source": []
  },
  {
   "cell_type": "markdown",
   "id": "2e64f456",
   "metadata": {},
   "source": [
    "## Pasos para realizar una prueba Chi - Cuadrado"
   ]
  },
  {
   "cell_type": "markdown",
   "id": "0abbd561",
   "metadata": {},
   "source": [
    "1.- **Define tu hipotesis nula y alternativa** antes de iniciar la recoleccion de datos\n",
    "\n",
    "2.- **Decide cual sera el valor de significancia**. Esto implica decidir el riesgo que estas dispuesto a asumir de llegar a una conclusion erronea.\n",
    "\n",
    "3.- **Comprueba los datos para ver si hay errores**\n",
    "\n",
    "4.- **Comprueba los supuestos de la prueba**\n",
    "\n",
    "5.- **Realiza la prueba y obten las conclusiones**"
   ]
  },
  {
   "cell_type": "code",
   "execution_count": null,
   "id": "45f1377d",
   "metadata": {},
   "outputs": [],
   "source": []
  },
  {
   "cell_type": "markdown",
   "id": "77cacbc2",
   "metadata": {},
   "source": [
    "## Ejemplo : *Un fabricante de bombillas afirma que la vida útil media de sus bombillas es de 1000 $horas$, con una varianza de 2500 $horas^2$. Para verificar esta afirmación, un investigador selecciona aleatoriamente 15 bombillas y registra sus vidas útiles. El investigador obtiene una muestra con una varianza de 3600 $horas^2$.*"
   ]
  },
  {
   "cell_type": "markdown",
   "id": "d092a152",
   "metadata": {},
   "source": [
    "## ¿Existe suficiente evidencia para concluir que la varianza real de la vida útil de las bombillas es mayor que la afirmada por el fabricante? Utiliza un nivel de significancia del 5%."
   ]
  },
  {
   "cell_type": "markdown",
   "id": "c62e22d9",
   "metadata": {},
   "source": [
    "Nos piden determinar si hay suficiente evidencia para concluir que la varianza real de la vida util de las bombillas es mayor que la afirmada por el fabricante utilizando un nivel de significancia de 0.05. Para ello, vamos a utilizar la **Prueba de Hipotesis de la Varianza.**\n",
    "\n",
    "Primero, definamos la hipotesis nula y alternativa\n",
    "\n",
    "- Hipotesis nula ($H_0$): $\\sigma^2 = 2500$ (La varianza de la vida util dada por el fabricante)\n",
    "\n",
    "- Hipotesis alternativa ($H_1$): $\\sigma^2 > 2500$ (La varianza de la vida util a probar)\n",
    "\n",
    "Se trata de un test unilateral en la cola derecha."
   ]
  },
  {
   "cell_type": "markdown",
   "id": "17766d11",
   "metadata": {},
   "source": [
    "Ahora, utilizamos el estadistico de $\\chi^2$, el cual viene dado por\n",
    "\n",
    "$$\\chi^2 = \\frac{(n-1)S^{2}}{\\sigma^2}$$\n",
    "\n",
    "donde:\n",
    "\n",
    "- $n$ es el tamano de la muestra\n",
    "- $S^{2}$ es la varianza muestral\n",
    "- $\\sigma^2$ es la varianza segun la hipotesis nula\n",
    "- $n - 1 = df$ son los grados de libertad\n"
   ]
  },
  {
   "cell_type": "markdown",
   "id": "5381ace0",
   "metadata": {},
   "source": [
    "El ejercicio plantea los siguientes valores:\n",
    "\n",
    "- Media de la vida util $\\mu = 1000$ horas\n",
    "- Varianza de la vida util $\\sigma = 2500$ horas al cuadrado \n",
    "- Numero de bombillas $n = 15$\n",
    "- Varianza obtenida de una muestra $S^{2} = 3600$ horas al cuadrado\n",
    "\n",
    "Sustituimos los valores en la formula anterior:\n",
    "\n",
    "$$\\chi^2 = \\frac{(15-1)\\cdot 3600}{2500}= \\frac{14 \\cdot 3600}{2500} = 20.16$$\n",
    "\n",
    "El valor estadistico de prueba es $\\chi^{2} = 20.16$"
   ]
  },
  {
   "cell_type": "markdown",
   "id": "bc95d3b9",
   "metadata": {},
   "source": [
    "Vamos a determinar el valor critico de $\\chi^{2}$ en la cola derecha para un nivel de significancia $\\alpha=0.05$ y $14$ grados de libertad. Para ello, utilizamos una tabla de la distribucion $\\chi^2$ con $\\alpha=0.05$"
   ]
  },
  {
   "cell_type": "code",
   "execution_count": 1,
   "id": "e5fc3546",
   "metadata": {},
   "outputs": [
    {
     "name": "stdout",
     "output_type": "stream",
     "text": [
      "Grados de libertad | Valor crítico (alpha = 0.05)\n",
      "----------------------------------------------\n",
      "1                 | 3.8415\n",
      "2                 | 5.9915\n",
      "3                 | 7.8147\n",
      "4                 | 9.4877\n",
      "5                 | 11.0705\n",
      "6                 | 12.5916\n",
      "7                 | 14.0671\n",
      "8                 | 15.5073\n",
      "9                 | 16.9190\n",
      "10                | 18.3070\n",
      "11                | 19.6751\n",
      "12                | 21.0261\n",
      "13                | 22.3620\n",
      "14                | 23.6848\n",
      "15                | 24.9958\n",
      "16                | 26.2962\n",
      "17                | 27.5871\n",
      "18                | 28.8693\n",
      "19                | 30.1435\n",
      "20                | 31.4104\n",
      "21                | 32.6706\n",
      "22                | 33.9244\n",
      "23                | 35.1725\n",
      "24                | 36.4150\n",
      "25                | 37.6525\n",
      "26                | 38.8851\n",
      "27                | 40.1133\n",
      "28                | 41.3371\n",
      "29                | 42.5570\n",
      "30                | 43.7730\n"
     ]
    }
   ],
   "source": [
    "import numpy as np\n",
    "from scipy.stats import chi2\n",
    "\n",
    "# Nivel de significancia\n",
    "alpha = 0.05\n",
    "\n",
    "# tabla de valores críticos de chi-cuadrado para grados de libertad de 1 a 30\n",
    "df_range = np.arange(1, 31)  # Grados de libertad de 1 a 30\n",
    "chi2_critical_values = chi2.ppf(1 - alpha, df_range)  # Valores críticos para alpha = 0.05\n",
    "\n",
    "# Imprimir la tabla\n",
    "print(\"Grados de libertad | Valor crítico (alpha = 0.05)\")\n",
    "print(\"----------------------------------------------\")\n",
    "for df, chi2_crit in zip(df_range, chi2_critical_values):\n",
    "    print(f\"{df:<17} | {chi2_crit:.4f}\")"
   ]
  },
  {
   "attachments": {
    "image.png": {
     "image/png": "[encoded data removed]"
    }
   },
   "cell_type": "markdown",
   "id": "ef89b0a3",
   "metadata": {},
   "source": [
    "Al observar la tabla encontramos que el valor critico para $\\alpha=0.05$ y $14$ grados de libertad es\n",
    "\n",
    "$$\\chi_{\\alpha=0.05, df=14}^{2} = \\chi_{critico}^{2} = 23.68$$\n",
    "\n",
    "Visualmente, la distribucion sigue la forma\n",
    "\n",
    "![image.png](attachment:image.png)\n",
    "\n",
    "donde la zona sombreada se conoce como zona de aceptacion. Si el valor de $\\chi^2$ cae dentro de esta zona, se acepta la hipotesis nula, es decir, no hay suficiente evidencia para rechazarla. Si cae fuera, se acepta la hipotesis alternativa rechazando la nula.\n"
   ]
  },
  {
   "attachments": {
    "image.png": {
     "image/png": "[encoded data removed]"
    }
   },
   "cell_type": "markdown",
   "id": "fa27dde6",
   "metadata": {},
   "source": [
    "> Dado que el valor calculado de $\\chi^2 = 20.16$ no excede el valor critico de $\\chi_{critico}^{2} = 23.68$, no rechazamos la hipotesis nula $H_{0}$. Esto indica que no hay suficiente evidencia, al nivel de significancia del 5%, para concluir que la varianza real de la vida util de las bombillas es mayor que la afirmada por el fabricante\n",
    "\n",
    "![image.png](attachment:image.png)"
   ]
  },
  {
   "cell_type": "code",
   "execution_count": null,
   "id": "7e247b81",
   "metadata": {},
   "outputs": [],
   "source": []
  },
  {
   "cell_type": "markdown",
   "id": "2ddaa4d9",
   "metadata": {},
   "source": [
    "## Ejemplo : *Un estudio médico está investigando si la incidencia de un cierto tipo de enfermedad sigue la distribución esperada en una población de tres grupos diferentes: jóvenes (18-30 años), adultos (31-60 años) y ancianos (61+ años). Los datos observados del estudio son los siguientes:*\n",
    "\n",
    "## - Jóvenes: 50 personas\n",
    "## - Adultos: 100 personas\n",
    "## - Ancianos: 80 personas\n",
    "\n",
    "## *La distribución esperada de la enfermedad en la población es la siguiente:*\n",
    "\n",
    "## - Jóvenes: 40 personas\n",
    "## - Adultos: 110 personas\n",
    "## - Ancianos: 80 personas"
   ]
  },
  {
   "cell_type": "markdown",
   "id": "429fa676",
   "metadata": {},
   "source": [
    "## ¿Existe suficiente evidencia para concluir que la distribución de la incidencia de la enfermedad difiere de la distribución esperada? Utiliza un nivel de significancia del 5%."
   ]
  },
  {
   "cell_type": "markdown",
   "id": "9a1f79b2",
   "metadata": {},
   "source": [
    "Definamos primero las hipotesis:\n",
    "\n",
    "- Hipotesis nula ($H_0$): La distribucion observada sigue la distribucion esperada.\n",
    "- Hipotesis alternativa: la distribucion observada no sigue la distribucion esperada\n",
    "\n",
    "Vamos a resolver este ejercicio utilizando la pureba de bondad de ajuste Chi Cuadrado mediante la siguiente formula:\n",
    "\n",
    "$$\\chi^2 = \\sum_{i=1}^{k} \\frac{(O_i - E_i)^2}{E_i}$$\n",
    "\n",
    "Donde:\n",
    "\n",
    "- $O_i$ son los valores obervados.\n",
    "- $E_i$ son los valores esperados.\n",
    "\n",
    "\n",
    "Los grados de libertad para la prueba son:\n",
    "\n",
    "$$df = k - 1$$\n",
    "\n",
    "donde $k$ es el nmero de categorias, que en este caso son 3. Entonces. los grados de libertad son:\n",
    "\n",
    "$$df = 3 - 1 = 2$$\n",
    "\n",
    "Vamos a calcular la estadistica de prueba $\\chi^2$ con Python como sigue:"
   ]
  },
  {
   "cell_type": "code",
   "execution_count": 4,
   "id": "f20883d5",
   "metadata": {},
   "outputs": [
    {
     "name": "stdout",
     "output_type": "stream",
     "text": [
      "Chi Cuadrado: 3.4091\n",
      "Chi Cuadrado Critico: 5.9915\n",
      "P-value: 0.1819\n"
     ]
    }
   ],
   "source": [
    "# librerias a utilizar\n",
    "import numpy as np\n",
    "from scipy.stats import chi2\n",
    "\n",
    "# valores observados y esperados\n",
    "observados = np.array([50,100,80])\n",
    "esperados = np.array([40,110,80])\n",
    "\n",
    "# Calcular la estadistica de prueba\n",
    "chi_stat = np.sum((observados - esperados)**2 / esperados)\n",
    "\n",
    "# grados de libertad\n",
    "df = len(observados) - 1\n",
    "\n",
    "# valor critico para alpha\n",
    "alpha = 0.05\n",
    "\n",
    "# valor critico de chi cuadrado\n",
    "chi_critico = chi2.ppf(1 - alpha, df)\n",
    "\n",
    "# p-value\n",
    "p_value = 1 - chi2.cdf(chi_stat, df)\n",
    "\n",
    "# resultados\n",
    "print(f'Chi Cuadrado: {chi_stat:.4f}')\n",
    "print(f'Chi Cuadrado Critico: {chi_critico:.4f}')\n",
    "print(f'P-value: {p_value:.4f}')"
   ]
  },
  {
   "cell_type": "markdown",
   "id": "fc43d7e3",
   "metadata": {},
   "source": [
    "- Como el valor de Chi Cuadrado ($3.409$) es menor que el valor de Chi Cuadrado Critico ($5.991$), no hay suficiente evidencia para rechazar la hipotesis nula por tanto, se sugiere que los valores observados no difieren significativamente de los valores esperados.\n",
    "- El p-value ($0.1819$) es mayor que el nivel de significancia de $0.05$ lo que significa que no hay suficiente evidencia para rechazar la hipotesis nula."
   ]
  },
  {
   "cell_type": "code",
   "execution_count": null,
   "id": "6a402da4",
   "metadata": {},
   "outputs": [],
   "source": []
  },
  {
   "cell_type": "code",
   "execution_count": null,
   "id": "caa1004d",
   "metadata": {},
   "outputs": [],
   "source": []
  }
 ],
 "metadata": {
  "kernelspec": {
   "display_name": "Python 3 (ipykernel)",
   "language": "python",
   "name": "python3"
  },
  "language_info": {
   "codemirror_mode": {
    "name": "ipython",
    "version": 3
   },
   "file_extension": ".py",
   "mimetype": "text/x-python",
   "name": "python",
   "nbconvert_exporter": "python",
   "pygments_lexer": "ipython3",
   "version": "3.9.12"
  }
 },
 "nbformat": 4,
 "nbformat_minor": 5
}
