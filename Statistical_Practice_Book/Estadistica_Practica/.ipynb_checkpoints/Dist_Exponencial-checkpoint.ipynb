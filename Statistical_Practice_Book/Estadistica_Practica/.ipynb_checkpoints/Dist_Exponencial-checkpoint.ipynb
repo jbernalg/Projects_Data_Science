{
 "cells": [
  {
   "cell_type": "markdown",
   "id": "6a60d8ce",
   "metadata": {},
   "source": [
    "# Distribucion Exponencial"
   ]
  },
  {
   "cell_type": "markdown",
   "id": "9bfdaac6",
   "metadata": {},
   "source": [
    "Es una distribucion de probabilidad continua utilizada para modelar el tiempo que transcurre en realizar una actividad. Algunos ejemplos donde aplicar esta distribucion son:\n",
    "\n",
    "- Tiempo de espera para ser atendido en un banco\n",
    "- Tiempo necesario para cargar un camion.\n",
    "- Distancia entre los principales defectos de una carretera.\n",
    "- Tiempo de vida de un componente electrico.\n",
    "\n",
    "La **Funcion de Densidad de Probabilidad** viene dada por:\n",
    "\n",
    "$$f(x,\\lambda) = \\left\\{\\begin{matrix}\n",
    "\\lambda e^{-\\lambda x} & si & x\\geq 0\\\\ 0  \n",
    " & si & x < 0 \n",
    "\\end{matrix}\\right.$$\n",
    "\n",
    "donde $\\lambda > 0$ es la tasa de eventos por unidad de tiempo.\n",
    "\n",
    "La **Funcion de Distribucion Acumulada de probabilidad de la Exponencial** es la siguiente:\n",
    "\n",
    "$$f(x,\\lambda) = \\left\\{\\begin{matrix}\n",
    "1 - e^{-\\lambda x} & si & x\\geq 0\\\\ 0  \n",
    " & si & x < 0 \n",
    "\\end{matrix}\\right.$$\n",
    "\n",
    "- Para calcular la probabilidad de que $x$ sea menor o igual a un valor $x_{0}$ dado, se utiliza\n",
    "    $$P(x\\leq x_{0}) = 1 - e^{-\\lambda x_{0}}$$\n",
    "\n",
    "\n"
   ]
  },
  {
   "cell_type": "code",
   "execution_count": null,
   "id": "f9bb2ef1",
   "metadata": {},
   "outputs": [],
   "source": []
  },
  {
   "cell_type": "code",
   "execution_count": null,
   "id": "765d3b38",
   "metadata": {},
   "outputs": [],
   "source": []
  }
 ],
 "metadata": {
  "kernelspec": {
   "display_name": "Python 3 (ipykernel)",
   "language": "python",
   "name": "python3"
  },
  "language_info": {
   "codemirror_mode": {
    "name": "ipython",
    "version": 3
   },
   "file_extension": ".py",
   "mimetype": "text/x-python",
   "name": "python",
   "nbconvert_exporter": "python",
   "pygments_lexer": "ipython3",
   "version": "3.9.12"
  }
 },
 "nbformat": 4,
 "nbformat_minor": 5
}
