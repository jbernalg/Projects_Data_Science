{
 "cells": [
  {
   "cell_type": "markdown",
   "id": "ef366538",
   "metadata": {},
   "source": [
    "# Todo sobre la D. Binomial"
   ]
  },
  {
   "cell_type": "markdown",
   "id": "7b9b9db3",
   "metadata": {},
   "source": [
    "En un experimento binomial se cumplen las siguientes condiciones:\n",
    "\n",
    "1. El experimento consta de una secuencia de n ensayos identicos.\n",
    "2. En cada ensayo hay dos resultados posibles, uno llamado exito y otro fracaso.\n",
    "3. La probabilidad de exito es constante de un ensayo a otro, y se denota por $p$.\n",
    "4. La probabilidad de fracaso sera $1 - p$\n",
    "5. Los ensayos son independientes. El resultado de cualquiera de ellos no influye en el resultado de cualquier otro\n",
    "\n",
    "La distribución binomial se caracteriza por la probabilidad de éxito en cada ensayo, el número total de ensayos y el interés en contar cuántos éxitos ocurren en una serie de ensayos independientes"
   ]
  },
  {
   "cell_type": "markdown",
   "id": "6681171b",
   "metadata": {},
   "source": [
    "La formula de la distribucion binomial es la siguiente:\n",
    "\n",
    "$$P(k)=\\binom{n}{k} p^k q^{n-k}$$\n",
    "\n",
    "Donde:\n",
    "\n",
    "$p$ = probabilidad de exito\n",
    "\n",
    "$q = (1 - p)$ = probabilidad de fracaso\n",
    "\n",
    "$n$ = numero de eventos estudiados\n",
    "\n",
    "$k$ = numero de eventos deseados que tengan exito\n",
    "\n",
    "La expresion dentro del parentesis es el resultado de una combinacion sin repeticion. Viene dada por la siguiente formula:\n",
    "\n",
    " $$C_{k}^{n} = \\binom{n}{k} = \\frac{n!}{k!(n - k)!}$$\n",
    " \n",
    " Donde:\n",
    " \n",
    " $n! = n\\times(n-1)\\times(n-2)\\times...\\times(2)\\times(1)$\n",
    " \n",
    " $k! = k\\times(k-1)\\times(k-2)\\times...\\times(2)\\times(1)$\n",
    " \n",
    " Por definición:\n",
    "\n",
    " $0! = 1$\n"
   ]
  },
  {
   "cell_type": "code",
   "execution_count": null,
   "id": "7075af59",
   "metadata": {},
   "outputs": [],
   "source": []
  },
  {
   "cell_type": "markdown",
   "id": "7e0238af",
   "metadata": {},
   "source": [
    "## Ejemplo 1\n",
    "Se lanza una moneda cuatro veces. Calcular la probabilidad de que salgan mas caras que cruces"
   ]
  },
  {
   "cell_type": "markdown",
   "id": "f8246dfe",
   "metadata": {},
   "source": [
    "### Solucion de forma manual"
   ]
  },
  {
   "cell_type": "code",
   "execution_count": 1,
   "id": "edbebd72",
   "metadata": {},
   "outputs": [],
   "source": [
    "# probabilidad que salga cara\n",
    "p = 0.5\n",
    "\n",
    "# probabilidad que salga cruz\n",
    "q = 1 - p\n",
    "\n",
    "# numero de eventos estudiados\n",
    "n = 4"
   ]
  },
  {
   "cell_type": "markdown",
   "id": "3598184b",
   "metadata": {},
   "source": [
    "Como estamos interesados en conocer la probabilidad de que salgan más caras que cruces, los eventos donde esto ocurre es cuando, o salen tres caras y una cruz, o salen cuatro caras y cero cruces, por lo que:\n",
    "\n",
    "$$P(X \\geq 3)= P(X = 3) + P(X = 4)$$"
   ]
  },
  {
   "cell_type": "code",
   "execution_count": 2,
   "id": "ff9edb1e",
   "metadata": {},
   "outputs": [],
   "source": [
    "# libreria para calcular combinaciones\n",
    "from scipy.special import comb"
   ]
  },
  {
   "cell_type": "markdown",
   "id": "0e7d28c3",
   "metadata": {},
   "source": [
    "**Calcular probabilidad que salgan 3 caras**"
   ]
  },
  {
   "cell_type": "code",
   "execution_count": 5,
   "id": "dd4a9812",
   "metadata": {},
   "outputs": [
    {
     "data": {
      "text/plain": [
       "4.0"
      ]
     },
     "execution_count": 5,
     "metadata": {},
     "output_type": "execute_result"
    }
   ],
   "source": [
    "# numero de eventos deseados\n",
    "k_3 = 3\n",
    "\n",
    "# calculo de las combinaciones\n",
    "combinaciones = comb(n, k_3)\n",
    "combinaciones"
   ]
  },
  {
   "cell_type": "code",
   "execution_count": 6,
   "id": "32d47c5f",
   "metadata": {},
   "outputs": [
    {
     "data": {
      "text/plain": [
       "0.25"
      ]
     },
     "execution_count": 6,
     "metadata": {},
     "output_type": "execute_result"
    }
   ],
   "source": [
    "# probabilidad que salgan 3 caras\n",
    "P_3 = combinaciones*(p**k_3)*(q**(n - k_3))\n",
    "P_3"
   ]
  },
  {
   "cell_type": "markdown",
   "id": "0875637b",
   "metadata": {},
   "source": [
    "**Calcular probabilidad que salgan 4 caras**"
   ]
  },
  {
   "cell_type": "code",
   "execution_count": 7,
   "id": "877f6d96",
   "metadata": {},
   "outputs": [
    {
     "data": {
      "text/plain": [
       "1.0"
      ]
     },
     "execution_count": 7,
     "metadata": {},
     "output_type": "execute_result"
    }
   ],
   "source": [
    "# numero de eventos deseados\n",
    "k_4 = 4\n",
    "\n",
    "# calculo de las combinaciones\n",
    "combinaciones = comb(n, k_4)\n",
    "combinaciones"
   ]
  },
  {
   "cell_type": "code",
   "execution_count": 8,
   "id": "86f9c79e",
   "metadata": {},
   "outputs": [
    {
     "data": {
      "text/plain": [
       "0.0625"
      ]
     },
     "execution_count": 8,
     "metadata": {},
     "output_type": "execute_result"
    }
   ],
   "source": [
    "# probabilidad que salgan 4 caras\n",
    "P_4 = combinaciones*(p**k_4)*(q**(n - k_4))\n",
    "P_4"
   ]
  },
  {
   "cell_type": "markdown",
   "id": "49129fc6",
   "metadata": {},
   "source": [
    "**Probabilidad que salgan mas de dos caras**"
   ]
  },
  {
   "cell_type": "code",
   "execution_count": 9,
   "id": "fd491332",
   "metadata": {},
   "outputs": [
    {
     "data": {
      "text/plain": [
       "0.3125"
      ]
     },
     "execution_count": 9,
     "metadata": {},
     "output_type": "execute_result"
    }
   ],
   "source": [
    "P = P_3 + P_4\n",
    "P"
   ]
  },
  {
   "cell_type": "markdown",
   "id": "465bdc02",
   "metadata": {},
   "source": [
    "### Solucion con Python"
   ]
  },
  {
   "cell_type": "code",
   "execution_count": 10,
   "id": "da6065f6",
   "metadata": {},
   "outputs": [],
   "source": [
    "# libreria para calcular probabilidad \n",
    "from scipy.stats import binom"
   ]
  },
  {
   "cell_type": "markdown",
   "id": "f8aa7263",
   "metadata": {},
   "source": [
    "Vamos a calcular cada una de las probabilidades con la funcion binom y luego sumarlas"
   ]
  },
  {
   "cell_type": "code",
   "execution_count": 12,
   "id": "95376977",
   "metadata": {},
   "outputs": [
    {
     "data": {
      "text/plain": [
       "0.25000000000000006"
      ]
     },
     "execution_count": 12,
     "metadata": {},
     "output_type": "execute_result"
    }
   ],
   "source": [
    "# numero de eventos estudiados\n",
    "n = 4\n",
    "\n",
    "# probabilidad que salga cara\n",
    "p = 0.5\n",
    "\n",
    "# numero de eventos deseados\n",
    "k_3 = 3\n",
    "\n",
    "P_3 = binom.pmf(k_3, n, p)\n",
    "P_3"
   ]
  },
  {
   "cell_type": "code",
   "execution_count": 14,
   "id": "78e26427",
   "metadata": {},
   "outputs": [
    {
     "data": {
      "text/plain": [
       "0.0625"
      ]
     },
     "execution_count": 14,
     "metadata": {},
     "output_type": "execute_result"
    }
   ],
   "source": [
    "# numero de eventos deseados\n",
    "k_4 = 4\n",
    "\n",
    "P_4 = binom.pmf(k_4, n, p)\n",
    "P_4"
   ]
  },
  {
   "cell_type": "code",
   "execution_count": 15,
   "id": "76c17338",
   "metadata": {},
   "outputs": [
    {
     "data": {
      "text/plain": [
       "0.31250000000000006"
      ]
     },
     "execution_count": 15,
     "metadata": {},
     "output_type": "execute_result"
    }
   ],
   "source": [
    "# suma de las probabilidades\n",
    "P = P_3 + P_4\n",
    "P"
   ]
  },
  {
   "cell_type": "code",
   "execution_count": 17,
   "id": "10ba5df2",
   "metadata": {},
   "outputs": [
    {
     "data": {
      "text/plain": [
       "0.31250000000000006"
      ]
     },
     "execution_count": 17,
     "metadata": {},
     "output_type": "execute_result"
    }
   ],
   "source": [
    "# otra alternativa\n",
    "P = binom.pmf([3,4], n, p).sum()\n",
    "P"
   ]
  }
 ],
 "metadata": {
  "kernelspec": {
   "display_name": "Python 3 (ipykernel)",
   "language": "python",
   "name": "python3"
  },
  "language_info": {
   "codemirror_mode": {
    "name": "ipython",
    "version": 3
   },
   "file_extension": ".py",
   "mimetype": "text/x-python",
   "name": "python",
   "nbconvert_exporter": "python",
   "pygments_lexer": "ipython3",
   "version": "3.9.12"
  }
 },
 "nbformat": 4,
 "nbformat_minor": 5
}
