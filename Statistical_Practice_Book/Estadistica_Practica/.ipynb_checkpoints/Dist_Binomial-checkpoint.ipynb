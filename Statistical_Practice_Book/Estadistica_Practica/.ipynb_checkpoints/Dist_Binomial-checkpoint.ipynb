{
 "cells": [
  {
   "cell_type": "markdown",
   "id": "46a6da15",
   "metadata": {},
   "source": [
    "# Todo sobre la Distribución Binomial"
   ]
  },
  {
   "cell_type": "markdown",
   "id": "31e0bd8e",
   "metadata": {},
   "source": [
    "Hace referencia a un experimento aleatorio de Bernoulli, caracterizado por solo tener dos resultados posibles, que se repite $n$ veces. Algunos ejemplos de experimentos de Bernoulli son: jugar la loteria (gana o pierde), lanzar un moneda (cara o cruz), un lanzamiento en baloncesto (encesta el balon o no).\n",
    "Un experimento binomial cumple las siguientes condiciones:\n",
    "\n",
    "1. El experimento consta de una secuencia de $n$ ensayos idénticos (experimentos de Bernoulli).\n",
    "2. En cada ensayo hay dos resultados posibles, uno llamado éxito y otro fracaso.\n",
    "3. La probabilidad de éxito es constante de un ensayo a otro, y se denota por $p$.\n",
    "4. La probabilidad de fracaso viene dado en función de $p$: $1 - p$\n",
    "5. Los ensayos son independientes. El resultado de cualquiera de ellos no influye en el resultado de cualquier otro.\n",
    "\n",
    "Veamos un ejemplo:"
   ]
  },
  {
   "cell_type": "markdown",
   "id": "56f6abaa",
   "metadata": {},
   "source": [
    "### *Un jugador de baloncesto tiene un 80% de aciertos en tiros libres. Si tiras tres lanzamientos seguidos. Cuál es la probabilidad de que acierte los tres?*"
   ]
  },
  {
   "cell_type": "markdown",
   "id": "3e856270",
   "metadata": {},
   "source": [
    "- Probabilidad de exito: $p=0.8$\n",
    "- Probabilidad de fracaso: $q=0.2$\n",
    "\n",
    "Este problema podemos representarlo mediante un diagrama de arbol donde $A$ simboliza el acierto y $\\bar{A}$ el fallo\n",
    "\n",
    "![imagen](./images/diagrama_arbol.png)\n",
    "\n",
    "Por la ley de producto, que indica que al ir recorriendo los eventos se multiplican las probabilidades que se vayan encontrando, podemos deducir que la probabilidad de acertar los tres lanzamientos viene dado por:\n",
    "\n",
    "$$P(A\\cap A\\cap A) = p\\cdot p\\cdot p = 0.8\\cdot 0.8\\cdot 0.8 = 0.512$$"
   ]
  },
  {
   "cell_type": "markdown",
   "id": "f0acdbff",
   "metadata": {},
   "source": [
    "### *Cuál es la probabilidad de que falle los tres tiros?*"
   ]
  },
  {
   "cell_type": "markdown",
   "id": "39f6e389",
   "metadata": {},
   "source": [
    "Si nos fijamos en el diagrama del arbol y recorremos la ruta de las  tres $\\bar{A}$ obtenemos la siguiente probabilidad:\n",
    "$$P(\\bar{A}\\cap\\bar{A}\\cap\\bar{A}) = q\\cdot q\\cdot q = 0.2\\cdot 0.2\\cdot 0.2 = 0.008$$"
   ]
  },
  {
   "cell_type": "markdown",
   "id": "4bdd8d6b",
   "metadata": {},
   "source": [
    "### Cuál es la probabilidad que de los tres tiros falle el último?"
   ]
  },
  {
   "cell_type": "markdown",
   "id": "d54bbe26",
   "metadata": {},
   "source": [
    "Tras seguir la ruta en el diagrama de arbol donde los dos primeros tiros son aciertos y el ultimo un fallo, obtenemos:\n",
    "\n",
    "$$P(A\\cap A\\cap\\bar{A}) = p\\cdot p\\cdot q = 0.8\\cdot 0.8\\cdot 0.2 = 0.128$$"
   ]
  },
  {
   "cell_type": "markdown",
   "id": "992a10fc",
   "metadata": {},
   "source": [
    "### Cuál es la probabilidad de que acierte dos de los tres lanzamientos?"
   ]
  },
  {
   "cell_type": "markdown",
   "id": "c97714ef",
   "metadata": {},
   "source": [
    "Para este caso, tenemos tres alternativas posibles representadas como sigue:\n",
    "- 2 aciertos, 1 fallo: $P(A\\cap A\\cap\\bar{A})= p\\cdot p \\cdot q = 0.128$\n",
    "- 1 acierto, 1 fallo, 1 acierto: $P(A\\cap \\bar{A}\\cap A) = p \\cdot q \\cdot p = 0.128 $\n",
    "- 1 fallo, 2 aciertos: $P(\\bar{A}\\cap A\\cap A) = q \\cdot p \\cdot p = 0.128$\n",
    "\n",
    "Notemos que las probabilidades son las mismas para las tres alternativas. La probabilidad de acertar dos de los tres lanzamientos viene dada por la suma de las probabilidades de cada alternativa:\n",
    "\n",
    "$$P(DosAciertos) = P(A\\cap A\\cap \\bar{A})\\cup P(A\\cap \\bar{A}\\cap A)\\cup P(\\bar{A}\\cap A\\cap A)$$\n",
    "\n",
    "Al sustituir los valores vemos que el resultado es tomar la probabilidad de una de las alternativas y multiplicarla por la cantidad de las mismas:\n",
    "\n",
    "$$P(DosAciertos) = 0.128 + 0.128 + 0.128 = 3\\cdot 0.128$$"
   ]
  },
  {
   "cell_type": "markdown",
   "id": "2ba46a7a",
   "metadata": {},
   "source": [
    "### Cuál es la probabilidad de acertar dos tiros en cuatro lanzamientos?"
   ]
  },
  {
   "cell_type": "markdown",
   "id": "cbb82d2d",
   "metadata": {},
   "source": [
    "En este caso tenemos 6 alternativas posibles:\n",
    "\n",
    "- $P(A\\cap A\\cap \\bar{A} \\cap \\bar{A})= p\\cdot p \\cdot q \\cdot q = 0.8 \\cdot 0.8 \\cdot 0.2 \\cdot 0.2 = 0.0256$\n",
    "- $P(A\\cap \\bar{A}\\cap A \\cap \\bar{A})= p\\cdot q \\cdot p \\cdot q = 0.8 \\cdot 0.2 \\cdot 0.8 \\cdot 0.2 = 0.0256$\n",
    "- $P(A\\cap \\bar{A}\\cap \\bar{A} \\cap A)= p\\cdot q \\cdot q \\cdot p = 0.8 \\cdot 0.2 \\cdot 0.2 \\cdot 0.8 = 0.0256$\n",
    "- $P(\\bar{A}\\cap A\\cap A \\cap \\bar{A})= q\\cdot p \\cdot p \\cdot q = 0.2 \\cdot 0.8 \\cdot 0.8 \\cdot 0.2 = 0.0256$\n",
    "- $P(\\bar{A}\\cap A\\cap \\bar{A} \\cap A)= q\\cdot p \\cdot q \\cdot p = 0.2 \\cdot 0.8 \\cdot 0.2 \\cdot 0.8 = 0.0256$\n",
    "- $P(\\bar{A}\\cap \\bar{A}\\cap A \\cap A)= q\\cdot q \\cdot p \\cdot p = 0.2 \\cdot 0.2 \\cdot 0.8 \\cdot 0.8 = 0.0256$\n",
    "\n",
    "Pero, como hemos dicho antes, la probabilidad de acertar dos tiros en cuatro lanzamientos es tomar la probabilidad de una de las alternativas por el total de posibles alternativas que existan\n",
    "\n",
    "$$P(DosAciertos) = 6\\cdot 0.0256$$"
   ]
  },
  {
   "cell_type": "markdown",
   "id": "731f15d4",
   "metadata": {},
   "source": [
    "### Y para acertar dos canastas en cinco lanzamientos, cuál sería la probabilidad?"
   ]
  },
  {
   "cell_type": "markdown",
   "id": "0dc28a0e",
   "metadata": {},
   "source": [
    "Encontrar las posibles alternativas de forma manual sería muy tedioso. El objetivo es este punto es deducir una fórmula que nos permita realizar el cálculo de probabilidad de forma directa, conociendo la probabilidad de éxito, el número de eventos y el número de casos de éxito.\n",
    "\n",
    "Para este caso tenemos 5 eventos de los cuales queremos 2 casos de éxito y 3 de fallos. Debemos calcular, mediante combinatoria, de cuántas maneras podemos ordenar estos 5 elementos de manera que 1 se repite dos veces y el otro 3 veces. Para calcular estas combinaciones utilizamos la fórmula de las permutaciones con repetición:\n",
    "\n",
    "$$PR_{5}^{2,3} = \\frac{5!}{2!\\cdot3!} = \\binom{5}{2} = 10$$\n",
    "\n",
    "Ahora, sólo queda calcular la probabilidad de una de estas 10 alternativas y tomarémos la de dos aciertos seguido de 3 fallos:\n",
    "\n",
    "$$P(A\\cap A\\cap \\bar{A} \\cap \\bar{A} \\cap \\bar{A}) = p \\cdot p \\cdot q \\cdot q \\cdot q$$\n",
    "\n",
    "Entonces, de manera general, la probabilidad de acertar dos canastas en cinco lanzamientos viene dado por:\n",
    "\n",
    "$$P(DosAciertos) = 10 \\cdot p^{2} \\cdot q^{3}$$\n",
    "\n",
    "De aquí, podemos deducir la fórmula de la Distribución Binomial."
   ]
  },
  {
   "cell_type": "markdown",
   "id": "2e03f0e3",
   "metadata": {},
   "source": [
    "### Fórmula de la Distribución Binomial"
   ]
  },
  {
   "cell_type": "markdown",
   "id": "bce8bd9c",
   "metadata": {},
   "source": [
    "La función de una distribución binomial se expresa como\n",
    "\n",
    "$$B(n, p)$$\n",
    "\n",
    "donde $n$ es el número de eventos a estudiar y $p$ es la probabilidad de éxito. La probabilidad de obtener $k$ número de éxitos conociendo el total de eventos a estudiar y la probabilidad de éxito viene dada por la fórmula de la distribución binomial:\n",
    "\n",
    "$$P(k)=\\binom{n}{k} p^k q^{n-k}$$\n",
    "\n",
    "Donde:\n",
    "\n",
    "$p$ = probabilidad de exito\n",
    "\n",
    "$q = (1 - p)$ = probabilidad de fracaso\n",
    "\n",
    "$n$ = número de eventos estudiados\n",
    "\n",
    "$k$ = número de eventos deseados que tengan éxito\n"
   ]
  },
  {
   "cell_type": "code",
   "execution_count": null,
   "id": "a44a7423",
   "metadata": {},
   "outputs": [],
   "source": []
  },
  {
   "cell_type": "markdown",
   "id": "e824f4fa",
   "metadata": {},
   "source": [
    "## Importar librerías"
   ]
  },
  {
   "cell_type": "code",
   "execution_count": 37,
   "id": "6ebe53de",
   "metadata": {},
   "outputs": [],
   "source": [
    "# librerias a utilizar\n",
    "import numpy as np\n",
    "import matplotlib.pyplot as plt\n",
    "from scipy.stats import binom\n",
    "import seaborn as sns"
   ]
  },
  {
   "cell_type": "code",
   "execution_count": null,
   "id": "e415a334",
   "metadata": {},
   "outputs": [],
   "source": []
  },
  {
   "cell_type": "markdown",
   "id": "85522a25",
   "metadata": {},
   "source": [
    "## Métodos de la librería scipy a utilizar"
   ]
  },
  {
   "cell_type": "markdown",
   "id": "933e1cf7",
   "metadata": {},
   "source": [
    "### PMF (Probability Mass Function)\n",
    "Aplica sobre variables discretas y proporciona la probabilidad de que una variable aleatoria discreta tome un valor especifico. Supongamos que realizamos un experimento que repetimos 10 veces y una probabilidad de ocurrencia igual para cada experimento de 0.5. Veamos la probabilidad para cada numero de eventos exitosos utilizando pmf"
   ]
  },
  {
   "cell_type": "code",
   "execution_count": 38,
   "id": "d5d692a7",
   "metadata": {},
   "outputs": [
    {
     "data": {
      "image/png": "[encoded data removed]",
      "text/plain": [
       "<Figure size 864x432 with 1 Axes>"
      ]
     },
     "metadata": {
      "needs_background": "light"
     },
     "output_type": "display_data"
    }
   ],
   "source": [
    "# parametros de las D. binomial\n",
    "\n",
    "# numero de eventos estudiados\n",
    "n = 10\n",
    "# probabilidad de exito de cada evento\n",
    "p = 0.5\n",
    "# probabilidad de fracaso\n",
    "q = 1 - p\n",
    "# generamos los posibles valores de k (numero deseado de exito)\n",
    "k = np.arange(0, n+1)\n",
    "\n",
    "# calcular pmf de las k generadas\n",
    "pmf = binom.pmf(k, n, p)\n",
    "\n",
    "# tamano de la grafica\n",
    "plt.figure(figsize=(12, 6))\n",
    "# grafica de barra\n",
    "plt.bar(k , pmf, alpha=0.7, color='blue', edgecolor='black', label='pmf')\n",
    "plt.xlabel('Número de éxitos (k)')\n",
    "plt.ylabel('Probabilidad')\n",
    "plt.title(f'Distribución Binomial (n={n}, p={p})')\n",
    "plt.legend()\n",
    "plt.grid(True);\n"
   ]
  },
  {
   "cell_type": "markdown",
   "id": "3143af6e",
   "metadata": {},
   "source": [
    "### CDF (Cumulative Distribution Function)\n",
    "Aplica tanto a variables discretas como continuas. Proporciona la probabilidad de que una variable aleatoria tome un valor menor o igual a un valor específico. Veamos la probabilidad acumulativa para cada número de eventos exitosos del ejemplo anterior utilizando cdf."
   ]
  },
  {
   "cell_type": "code",
   "execution_count": 39,
   "id": "f0a676c2",
   "metadata": {},
   "outputs": [
    {
     "data": {
      "image/png": "[encoded data removed]",
      "text/plain": [
       "<Figure size 864x432 with 1 Axes>"
      ]
     },
     "metadata": {
      "needs_background": "light"
     },
     "output_type": "display_data"
    }
   ],
   "source": [
    "# parametros de las D. binomial\n",
    "\n",
    "# numero de eventos estudiados\n",
    "n = 10\n",
    "# probabilidad de exito de cada evento\n",
    "p = 0.5\n",
    "# probabilidad de fracaso\n",
    "q = 1 - p\n",
    "# generamos los posibles valores de k (numero deseado de exito)\n",
    "k = np.arange(0, n+1)\n",
    "\n",
    "# calcular cdf de las k generadas\n",
    "cdf = binom.cdf(k, n, p)\n",
    "\n",
    "# tamano de la grafica\n",
    "plt.figure(figsize=(12, 6))\n",
    "# grafica de linea\n",
    "plt.plot(k, cdf, 'r--', marker='o', label= 'cdf')\n",
    "plt.xlabel('Número de éxitos (k)')\n",
    "plt.ylabel('Probabilidad')\n",
    "plt.title(f'Distribución Binomial (n={n}, p={p})')\n",
    "plt.legend()\n",
    "plt.grid(True)\n"
   ]
  },
  {
   "cell_type": "markdown",
   "id": "b9460ddc",
   "metadata": {},
   "source": [
    "### PPF (Percent Point Function)\n",
    "Conocida como función de cuantiles, es la inversa de la distribución acumulada cdf. Dada una probabilidad, esta función proporciona el valor $x$ tal que la probabilidad de que la variable sea menor o igual a $x$ es igual a $q$. Veamos las probabilidades para los cuantiles del ejemplo anterior utilizando ppf. "
   ]
  },
  {
   "cell_type": "code",
   "execution_count": 40,
   "id": "cb04e004",
   "metadata": {},
   "outputs": [
    {
     "data": {
      "image/png": "[encoded data removed]",
      "text/plain": [
       "<Figure size 864x432 with 1 Axes>"
      ]
     },
     "metadata": {
      "needs_background": "light"
     },
     "output_type": "display_data"
    }
   ],
   "source": [
    "# parametros de las D. binomial\n",
    "\n",
    "# numero de eventos estudiados\n",
    "n = 10\n",
    "# probabilidad de exito de cada evento\n",
    "p = 0.5\n",
    "# probabilidad de fracaso\n",
    "q = 1 - p\n",
    "\n",
    "# Generar valores para la ppf\n",
    "q_values = np.linspace(0, 1, 100)\n",
    "# calcular el ppf de los q_values generados\n",
    "ppf = binom.ppf(q_values, n, p)\n",
    "\n",
    "# tamano de la grafica\n",
    "plt.figure(figsize=(12, 6))\n",
    "# grafica de linea\n",
    "plt.plot(q_values, ppf, 'g-', marker='o', label='ppf')\n",
    "plt.xlabel('Probabilidad (q)')\n",
    "plt.ylabel('Cuantil (k)')\n",
    "plt.title('Función Percentil (PPF)')\n",
    "plt.legend()\n",
    "plt.grid(True)\n"
   ]
  },
  {
   "cell_type": "code",
   "execution_count": null,
   "id": "8255c869",
   "metadata": {},
   "outputs": [],
   "source": []
  },
  {
   "cell_type": "markdown",
   "id": "a2968d7f",
   "metadata": {},
   "source": [
    "## Ejemplo 1:  *Se lanza una moneda cuatro veces. Calcular la probabilidad de que salgan más caras que cruces*"
   ]
  },
  {
   "cell_type": "markdown",
   "id": "1997ebac",
   "metadata": {},
   "source": [
    "#### Solución de forma manual"
   ]
  },
  {
   "cell_type": "code",
   "execution_count": 41,
   "id": "916f3ce0",
   "metadata": {},
   "outputs": [],
   "source": [
    "# obtener parametros\n",
    "\n",
    "# probabilidad que salga cara\n",
    "p = 0.5\n",
    "# probabilidad que salga cruz\n",
    "q = 1 - p\n",
    "# numero de eventos estudiados\n",
    "n = 4"
   ]
  },
  {
   "cell_type": "markdown",
   "id": "68816557",
   "metadata": {},
   "source": [
    "Como estamos interesados en conocer la probabilidad de que salgan más caras que cruces, los eventos donde esto ocurre es cuando, o salen tres caras y una cruz, o salen cuatro caras y cero cruces, por lo que:\n",
    "\n",
    "$$P(X \\geq 3)= P(X = 3) + P(X = 4)$$"
   ]
  },
  {
   "cell_type": "code",
   "execution_count": 42,
   "id": "051c28a6",
   "metadata": {},
   "outputs": [],
   "source": [
    "# libreria para calcular combinaciones\n",
    "from scipy.special import comb"
   ]
  },
  {
   "cell_type": "markdown",
   "id": "9718b504",
   "metadata": {},
   "source": [
    "**Calcular probabilidad que salgan 3 caras**"
   ]
  },
  {
   "cell_type": "code",
   "execution_count": 43,
   "id": "5f1838fa",
   "metadata": {},
   "outputs": [
    {
     "data": {
      "text/plain": [
       "4.0"
      ]
     },
     "execution_count": 43,
     "metadata": {},
     "output_type": "execute_result"
    }
   ],
   "source": [
    "# numero de eventos deseados\n",
    "k_3 = 3\n",
    "\n",
    "# calculo de las combinaciones\n",
    "combinaciones = comb(n, k_3)\n",
    "combinaciones"
   ]
  },
  {
   "cell_type": "code",
   "execution_count": 44,
   "id": "683d04dc",
   "metadata": {},
   "outputs": [
    {
     "data": {
      "text/plain": [
       "0.25"
      ]
     },
     "execution_count": 44,
     "metadata": {},
     "output_type": "execute_result"
    }
   ],
   "source": [
    "# probabilidad que salgan 3 caras\n",
    "P_3 = combinaciones*(p**k_3)*(q**(n - k_3))\n",
    "P_3"
   ]
  },
  {
   "cell_type": "markdown",
   "id": "8fed6bfe",
   "metadata": {},
   "source": [
    "**Calcular probabilidad que salgan 4 caras**"
   ]
  },
  {
   "cell_type": "code",
   "execution_count": 45,
   "id": "1291a16a",
   "metadata": {},
   "outputs": [
    {
     "data": {
      "text/plain": [
       "1.0"
      ]
     },
     "execution_count": 45,
     "metadata": {},
     "output_type": "execute_result"
    }
   ],
   "source": [
    "# numero de eventos deseados\n",
    "k_4 = 4\n",
    "\n",
    "# calculo de las combinaciones\n",
    "combinaciones = comb(n, k_4)\n",
    "combinaciones"
   ]
  },
  {
   "cell_type": "code",
   "execution_count": 46,
   "id": "943dfc5c",
   "metadata": {},
   "outputs": [
    {
     "data": {
      "text/plain": [
       "0.0625"
      ]
     },
     "execution_count": 46,
     "metadata": {},
     "output_type": "execute_result"
    }
   ],
   "source": [
    "# probabilidad que salgan 4 caras\n",
    "P_4 = combinaciones*(p**k_4)*(q**(n - k_4))\n",
    "P_4"
   ]
  },
  {
   "cell_type": "markdown",
   "id": "2a38036f",
   "metadata": {},
   "source": [
    "**Probabilidad que salgan mas de dos caras**"
   ]
  },
  {
   "cell_type": "code",
   "execution_count": 47,
   "id": "95633d5e",
   "metadata": {},
   "outputs": [
    {
     "data": {
      "text/plain": [
       "0.3125"
      ]
     },
     "execution_count": 47,
     "metadata": {},
     "output_type": "execute_result"
    }
   ],
   "source": [
    "P = P_3 + P_4\n",
    "P"
   ]
  },
  {
   "cell_type": "markdown",
   "id": "d5553360",
   "metadata": {},
   "source": [
    "> La probabilidad que salgan más caras que cruces en 4 lanzamientos es de 31.2%."
   ]
  },
  {
   "cell_type": "markdown",
   "id": "b14c91fa",
   "metadata": {},
   "source": [
    "#### Solución con Python"
   ]
  },
  {
   "cell_type": "code",
   "execution_count": 48,
   "id": "eb2c98bc",
   "metadata": {},
   "outputs": [],
   "source": [
    "# libreria para calcular probabilidad \n",
    "from scipy.stats import binom"
   ]
  },
  {
   "cell_type": "markdown",
   "id": "eb4a9a7b",
   "metadata": {},
   "source": [
    "Vamos a calcular cada una de las probabilidades con la función binom y luego sumarlas. "
   ]
  },
  {
   "cell_type": "code",
   "execution_count": 49,
   "id": "dedf52fa",
   "metadata": {},
   "outputs": [
    {
     "data": {
      "text/plain": [
       "0.25000000000000006"
      ]
     },
     "execution_count": 49,
     "metadata": {},
     "output_type": "execute_result"
    }
   ],
   "source": [
    "# obtener parametros\n",
    "\n",
    "# numero de eventos estudiados\n",
    "n = 4\n",
    "# probabilidad que salga cara\n",
    "p = 0.5\n",
    "# numero de eventos deseados\n",
    "k_3 = 3\n",
    "\n",
    "# probabilidad que salgan 3 caras\n",
    "P_3 = binom.pmf(k_3, n, p)\n",
    "P_3"
   ]
  },
  {
   "cell_type": "code",
   "execution_count": 50,
   "id": "d4ce37e5",
   "metadata": {},
   "outputs": [
    {
     "data": {
      "text/plain": [
       "0.0625"
      ]
     },
     "execution_count": 50,
     "metadata": {},
     "output_type": "execute_result"
    }
   ],
   "source": [
    "# numero de eventos deseados\n",
    "k_4 = 4\n",
    "\n",
    "# probabilidad que salgan 4 caras\n",
    "P_4 = binom.pmf(k_4, n, p)\n",
    "P_4"
   ]
  },
  {
   "cell_type": "code",
   "execution_count": 51,
   "id": "ce8dcaf8",
   "metadata": {},
   "outputs": [
    {
     "data": {
      "text/plain": [
       "0.31250000000000006"
      ]
     },
     "execution_count": 51,
     "metadata": {},
     "output_type": "execute_result"
    }
   ],
   "source": [
    "# suma de las probabilidades\n",
    "P = P_3 + P_4\n",
    "P"
   ]
  },
  {
   "cell_type": "code",
   "execution_count": 52,
   "id": "fb12c4ed",
   "metadata": {},
   "outputs": [
    {
     "data": {
      "text/plain": [
       "0.31250000000000006"
      ]
     },
     "execution_count": 52,
     "metadata": {},
     "output_type": "execute_result"
    }
   ],
   "source": [
    "# otra alternativa\n",
    "P = binom.pmf([3,4], n, p).sum()\n",
    "P"
   ]
  },
  {
   "cell_type": "markdown",
   "id": "c42a7c2e",
   "metadata": {},
   "source": [
    "> Vemos que la probabilidad calculada directamente con Python es igual a la calculada de forma manual con la diferencia de que se requieren menos operaciones y líneas de código."
   ]
  },
  {
   "cell_type": "code",
   "execution_count": null,
   "id": "17977d4e",
   "metadata": {},
   "outputs": [],
   "source": []
  },
  {
   "cell_type": "markdown",
   "id": "114cb37e",
   "metadata": {},
   "source": [
    "## Ejemplo 2: *Un agente de seguros vende pólizas a cinco personas de la misma edad y que disfrutan de buena salud. Según las tablas actuales, la probabilidad de que una persona en estas condiciones viva 30 años o más es 2/3. Hállese la probabilidad de que, transcurridos 30 años, vivan:*"
   ]
  },
  {
   "cell_type": "markdown",
   "id": "2e02d8a4",
   "metadata": {},
   "source": [
    "### a.- Las cinco personas"
   ]
  },
  {
   "cell_type": "code",
   "execution_count": 53,
   "id": "809b0550",
   "metadata": {},
   "outputs": [],
   "source": [
    "# obtener parametros\n",
    "\n",
    "# probabilidad de vivir mas de 30\n",
    "p = 2/3\n",
    "# probabilidad de no vivir mas de 30\n",
    "q = 1 - p\n",
    "# numero de eventos estudiados\n",
    "n = 5\n",
    "# numero de eventos deseados\n",
    "k = 5"
   ]
  },
  {
   "cell_type": "code",
   "execution_count": 54,
   "id": "54a60d4b",
   "metadata": {},
   "outputs": [
    {
     "data": {
      "text/plain": [
       "1.0"
      ]
     },
     "execution_count": 54,
     "metadata": {},
     "output_type": "execute_result"
    }
   ],
   "source": [
    "# calculo de las combinaciones\n",
    "combinaciones = comb(5, 5)\n",
    "combinaciones"
   ]
  },
  {
   "cell_type": "code",
   "execution_count": 55,
   "id": "820d8ee4",
   "metadata": {},
   "outputs": [
    {
     "data": {
      "text/plain": [
       "0.132"
      ]
     },
     "execution_count": 55,
     "metadata": {},
     "output_type": "execute_result"
    }
   ],
   "source": [
    "# calculo de la probabilidad con la formula\n",
    "proba = combinaciones*(p**k)*(q**(n-k))\n",
    "proba = proba.round(3)\n",
    "proba"
   ]
  },
  {
   "cell_type": "code",
   "execution_count": 56,
   "id": "5b8e8f91",
   "metadata": {},
   "outputs": [
    {
     "data": {
      "text/plain": [
       "0.13168724279835387"
      ]
     },
     "execution_count": 56,
     "metadata": {},
     "output_type": "execute_result"
    }
   ],
   "source": [
    "# calculo de la probabilidad con python\n",
    "proba = binom.pmf(5, n, p)\n",
    "proba"
   ]
  },
  {
   "cell_type": "markdown",
   "id": "8492bdf7",
   "metadata": {},
   "source": [
    "> La probabilidad de que las 5 personas vivan mas de 30 años es de 13.2%"
   ]
  },
  {
   "cell_type": "markdown",
   "id": "0a770986",
   "metadata": {},
   "source": [
    "### b.- Al menos tres personas\n",
    "Para este caso, debemos considerar las probabilidad de cada evento mayor o igual a 3 personas\n",
    "$$P(X \\geq 3) = P(X=3) + P(X=4) + P(X=5) $$\n",
    "\n",
    "La probabilidad para 5 personas ya ha sido calculado en $a$. Ahora calculamos para 3 y 4 personas"
   ]
  },
  {
   "cell_type": "markdown",
   "id": "71cd03de",
   "metadata": {},
   "source": [
    "**Para 3 personas**"
   ]
  },
  {
   "cell_type": "code",
   "execution_count": 57,
   "id": "53b347c3",
   "metadata": {},
   "outputs": [],
   "source": [
    "# numero de eventos deseados\n",
    "k_3 = 3"
   ]
  },
  {
   "cell_type": "code",
   "execution_count": 58,
   "id": "37e82b58",
   "metadata": {},
   "outputs": [
    {
     "data": {
      "text/plain": [
       "10.0"
      ]
     },
     "execution_count": 58,
     "metadata": {},
     "output_type": "execute_result"
    }
   ],
   "source": [
    "# calculo de las combinaciones\n",
    "combinaciones = comb(5, k_3)\n",
    "combinaciones"
   ]
  },
  {
   "cell_type": "code",
   "execution_count": 59,
   "id": "b1fcae82",
   "metadata": {},
   "outputs": [
    {
     "data": {
      "text/plain": [
       "0.329"
      ]
     },
     "execution_count": 59,
     "metadata": {},
     "output_type": "execute_result"
    }
   ],
   "source": [
    "# calculo de la probabilidad para 3 personas\n",
    "proba_3 = combinaciones*(p**k_3)*(q**(n-k_3))\n",
    "proba_3 = proba_3.round(3)\n",
    "proba_3"
   ]
  },
  {
   "cell_type": "markdown",
   "id": "9aaa23f8",
   "metadata": {},
   "source": [
    "**Para 4 personas**"
   ]
  },
  {
   "cell_type": "code",
   "execution_count": 60,
   "id": "4e111691",
   "metadata": {},
   "outputs": [
    {
     "data": {
      "text/plain": [
       "0.329"
      ]
     },
     "execution_count": 60,
     "metadata": {},
     "output_type": "execute_result"
    }
   ],
   "source": [
    "# numero de eventos deseados\n",
    "k_4 = 4\n",
    "\n",
    "# calculo de las combinaciones\n",
    "combinaciones = comb(5, k_4)\n",
    "\n",
    "# calculo de la probabilidad para 3 personas\n",
    "proba_4 = combinaciones*(p**k_4)*(q**(n-k_4))\n",
    "proba_4 = proba_4.round(3)\n",
    "proba_4"
   ]
  },
  {
   "cell_type": "markdown",
   "id": "d4399695",
   "metadata": {},
   "source": [
    "**Probabilidad que al menos vivan 3 personas**"
   ]
  },
  {
   "cell_type": "code",
   "execution_count": 61,
   "id": "a82bd4a0",
   "metadata": {},
   "outputs": [
    {
     "data": {
      "text/plain": [
       "0.79"
      ]
     },
     "execution_count": 61,
     "metadata": {},
     "output_type": "execute_result"
    }
   ],
   "source": [
    "prob = proba_3 + proba_4 + 0.132\n",
    "prob"
   ]
  },
  {
   "cell_type": "markdown",
   "id": "6d8bddda",
   "metadata": {},
   "source": [
    "**Forma alternativa de calcular la probabilidad**"
   ]
  },
  {
   "cell_type": "code",
   "execution_count": 62,
   "id": "a933b330",
   "metadata": {},
   "outputs": [
    {
     "data": {
      "text/plain": [
       "0.7901234567901232"
      ]
     },
     "execution_count": 62,
     "metadata": {},
     "output_type": "execute_result"
    }
   ],
   "source": [
    "binom.pmf([3,4,5], n, p).sum()"
   ]
  },
  {
   "cell_type": "markdown",
   "id": "fe9e78f1",
   "metadata": {},
   "source": [
    "> La probabilidad de que al menos 3 personas vivan despues de 30 años es de 79%"
   ]
  },
  {
   "cell_type": "markdown",
   "id": "204212bd",
   "metadata": {},
   "source": [
    "### c.- Exactamente tres personas\n",
    "Calculamos la probabiilidad que vivan exactamente 2 personas"
   ]
  },
  {
   "cell_type": "code",
   "execution_count": 63,
   "id": "34a2a84b",
   "metadata": {},
   "outputs": [
    {
     "data": {
      "text/plain": [
       "0.16460905349794244"
      ]
     },
     "execution_count": 63,
     "metadata": {},
     "output_type": "execute_result"
    }
   ],
   "source": [
    "binom.pmf(2, n, p).sum()"
   ]
  },
  {
   "cell_type": "markdown",
   "id": "296d17d9",
   "metadata": {},
   "source": [
    "> La probabilidad de que vivan 3 personas en 30 años es de 16.4%"
   ]
  },
  {
   "cell_type": "code",
   "execution_count": null,
   "id": "0cd718bb",
   "metadata": {},
   "outputs": [],
   "source": []
  },
  {
   "cell_type": "markdown",
   "id": "52bb12d3",
   "metadata": {},
   "source": [
    "## Ejemplo 3: *Si de seis a siete de la tarde se admite que un número de teléfono de cada cinco está comunicando, ¿cuál es la probabilidad de que, cuando se marquen 10 números de teléfono elegidos al azar, sólo comuniquen dos?*\n"
   ]
  },
  {
   "cell_type": "code",
   "execution_count": 64,
   "id": "828ff446",
   "metadata": {},
   "outputs": [],
   "source": [
    "# extraemos parametros\n",
    "\n",
    "# probabilidad de comunicacion\n",
    "p = 1/5\n",
    "# probabilidad de no comunicacion\n",
    "q = 1 - p\n",
    "# numero de eventos estudiados\n",
    "n = 10\n",
    "# numero de eventos deseados\n",
    "k = 2"
   ]
  },
  {
   "cell_type": "markdown",
   "id": "cda396f7",
   "metadata": {},
   "source": [
    "**Calculo directo con Python**"
   ]
  },
  {
   "cell_type": "code",
   "execution_count": 65,
   "id": "fe59ac7a",
   "metadata": {},
   "outputs": [
    {
     "data": {
      "text/plain": [
       "0.30198988800000004"
      ]
     },
     "execution_count": 65,
     "metadata": {},
     "output_type": "execute_result"
    }
   ],
   "source": [
    "binom.pmf(2, n, p)"
   ]
  },
  {
   "cell_type": "markdown",
   "id": "99acf0b3",
   "metadata": {},
   "source": [
    "> La probabilidad de que solo dos telefonos comuniquen es de 30.1%"
   ]
  },
  {
   "cell_type": "code",
   "execution_count": null,
   "id": "9a9a5928",
   "metadata": {},
   "outputs": [],
   "source": []
  },
  {
   "cell_type": "markdown",
   "id": "27b9e290",
   "metadata": {},
   "source": [
    "## Ejemplo 4:  *Crea una distribución binomial con probabilidad de éxito de 0.2 y número de ensayos de 10*"
   ]
  },
  {
   "cell_type": "code",
   "execution_count": 66,
   "id": "28f968a0",
   "metadata": {},
   "outputs": [],
   "source": [
    "# definimos parametros de la distribucion\n",
    "\n",
    "# numero de eventos\n",
    "n = 10\n",
    "# probabilidad de exito\n",
    "p = 0.2\n",
    "# generar los valores posibles de k (numero de exito)\n",
    "k = np.arange(0, n+1)\n",
    "\n",
    "# calcular la funcion de masa de probabilidad (pmf)\n",
    "pmf = binom.pmf(k, n, p)"
   ]
  },
  {
   "cell_type": "code",
   "execution_count": 67,
   "id": "d9c85599",
   "metadata": {},
   "outputs": [
    {
     "data": {
      "image/png": "[encoded data removed]",
      "text/plain": [
       "<Figure size 864x432 with 1 Axes>"
      ]
     },
     "metadata": {
      "needs_background": "light"
     },
     "output_type": "display_data"
    }
   ],
   "source": [
    "# crear el grafico de barra\n",
    "plt.figure(figsize=(12, 6))\n",
    "plt.bar(k, pmf, alpha=0.7, color='green', edgecolor='black') #stem crea una funcion de tallo\n",
    "plt.xlabel('Numero de Exito')\n",
    "plt.ylabel('Probabilidad')\n",
    "plt.title(f'D. Binomial (n={n}, p={p})')\n",
    "plt.grid(True); # agrega cuadrilla al grafico"
   ]
  },
  {
   "cell_type": "code",
   "execution_count": 68,
   "id": "a77ad4e8",
   "metadata": {
    "scrolled": true
   },
   "outputs": [
    {
     "data": {
      "image/png": "[encoded data removed]",
      "text/plain": [
       "<Figure size 864x432 with 1 Axes>"
      ]
     },
     "metadata": {
      "needs_background": "light"
     },
     "output_type": "display_data"
    }
   ],
   "source": [
    "# crear el grafico de tallo\n",
    "plt.figure(figsize=(12, 6))\n",
    "plt.stem(k, pmf, use_line_collection=True) #stem crea una funcion de tallo\n",
    "plt.xlabel('Numero de Exito')\n",
    "plt.ylabel('Probabilidad')\n",
    "plt.title(f'D. Binomial (n={n}, p={p})')\n",
    "plt.grid(True); # agrega cuadrilla al grafico"
   ]
  },
  {
   "cell_type": "code",
   "execution_count": null,
   "id": "37831b7b",
   "metadata": {},
   "outputs": [],
   "source": []
  },
  {
   "cell_type": "markdown",
   "id": "60feeb36",
   "metadata": {},
   "source": [
    "# Aproximación de la Distribución Binomial a la Normal"
   ]
  },
  {
   "cell_type": "markdown",
   "id": "ddb29954",
   "metadata": {},
   "source": [
    "Para entender de que se trata este concepto, veamos un ejemplo: un jugador tiene un promedio de 60% de aciertos cuando lanza al centro de la diana. Supongamos que hace 100 lanzamientos. Calulemos:\n",
    "\n",
    "- Probablidad que acierte los 100 lanzamientos.\n",
    "- Probabilidad que acierte 75 lanzamientos.\n",
    "- Probabilidad que acierte 60 lanzamientos.\n",
    "- Probabilidad que acierte 20 lanzamientos."
   ]
  },
  {
   "cell_type": "code",
   "execution_count": 69,
   "id": "1b689af9",
   "metadata": {},
   "outputs": [],
   "source": [
    "# obtener parametros\n",
    "\n",
    "# probabilidad de exito\n",
    "p = 0.6\n",
    "# probabilidad de fracaso\n",
    "q = 1 - p\n",
    "# numero de eventos estudiados\n",
    "n = 100\n"
   ]
  },
  {
   "cell_type": "code",
   "execution_count": 70,
   "id": "a7735547",
   "metadata": {},
   "outputs": [
    {
     "data": {
      "text/plain": [
       "array([2.86401725e-16, 8.12191450e-02, 6.27465445e-04, 6.53318624e-23])"
      ]
     },
     "execution_count": 70,
     "metadata": {},
     "output_type": "execute_result"
    }
   ],
   "source": [
    "# en una lista, agregamos todas las cantidades de exitos deseados (k)\n",
    "k = [20, 60, 75, 100]\n",
    "# para cada valor de k, calculamos la probabilidad correspondiente.\n",
    "prob = binom.pmf(k, n, p)\n",
    "prob"
   ]
  },
  {
   "cell_type": "markdown",
   "id": "8f0b3e6a",
   "metadata": {},
   "source": [
    "Notamos que mientras más cerca de k = 60, mayor es la probabilidad. Veamos estos valores en un gráfico de barra para visualizarlo mejor."
   ]
  },
  {
   "cell_type": "code",
   "execution_count": 71,
   "id": "544bf5f7",
   "metadata": {},
   "outputs": [
    {
     "data": {
      "image/png": "[encoded data removed]",
      "text/plain": [
       "<Figure size 720x432 with 1 Axes>"
      ]
     },
     "metadata": {
      "needs_background": "light"
     },
     "output_type": "display_data"
    }
   ],
   "source": [
    "# crear el grafico de barra\n",
    "plt.figure(figsize=(10, 6))\n",
    "plt.bar(k, prob, alpha=0.7, color='blue', edgecolor='black')\n",
    "plt.xlabel('Numero de aciertos en 100 lanzamientos')\n",
    "plt.ylabel('Probabilidad')\n",
    "plt.title(f'D. Binomial (n={n}, p={p})')\n",
    "plt.grid(True); # agrega cuadrilla al grafico"
   ]
  },
  {
   "cell_type": "markdown",
   "id": "424dcdc7",
   "metadata": {},
   "source": [
    "Ahora, vamos a calcular la probabilidas para cada valor de k de 0 a 100."
   ]
  },
  {
   "cell_type": "code",
   "execution_count": 72,
   "id": "3673e542",
   "metadata": {},
   "outputs": [
    {
     "data": {
      "image/png": "[encoded data removed]",
      "text/plain": [
       "<Figure size 720x432 with 1 Axes>"
      ]
     },
     "metadata": {
      "needs_background": "light"
     },
     "output_type": "display_data"
    }
   ],
   "source": [
    "# lista con valores de k de 0 a 100\n",
    "k = np.arange(0, n+1)\n",
    "\n",
    "# calculo de probabilidad para cada valor de k\n",
    "prob = binom.pmf(k, n, p)\n",
    "\n",
    "# crear el grafico de barra\n",
    "plt.figure(figsize=(10, 6))\n",
    "plt.bar(k, prob, alpha=0.7, color='blue', edgecolor='black')\n",
    "plt.xlabel('Numero de aciertosa en 100 lanzamientos')\n",
    "plt.ylabel('Probabilidad')\n",
    "plt.title(f'D. Binomial (n={n}, p={p})')\n",
    "plt.grid(True); # agrega cuadrilla al grafico"
   ]
  },
  {
   "cell_type": "markdown",
   "id": "020a3fd9",
   "metadata": {},
   "source": [
    "Claramente vemos que la distribución binomial, para este caso, se asemeja mucho a una distribución normal. La aproximación consiste en llevar una distribución binomial de $n$ eventos y probabilidad de éxito $p$, $B(n, p)$ a una distribución normal con cierta media y cierta desviación estandar, $N(\\mu, \\sigma)$.\n"
   ]
  },
  {
   "cell_type": "markdown",
   "id": "21270262",
   "metadata": {},
   "source": [
    "#### **Cómo obtener los parámetros de la distribución normal a partir de la distribución binomial?**"
   ]
  },
  {
   "cell_type": "markdown",
   "id": "ac029269",
   "metadata": {},
   "source": [
    "\n",
    "Para el ejemplo anterior, $B(100, 0.6)$, vemos que la media de la distribución es 60 la cual se obtiene mediante el siguiente razonamiento: Si tenemos un 60% de aciertos y tiramos 100 lanzamientos, se espera que acierte 60 lanzamientos. Entonces, la distribución binomial se puede asemejar a una normal con media de $n \\cdot p$ y con desviación estándar dada por $\\sqrt(n \\cdot p \\cdot q)$, quedando \n",
    "$$N(n \\cdot p, \\sqrt(n \\cdot p \\cdot q))$$ \n",
    "\n",
    "Para el ejemplo anterior, una distribución normal ajustada a la binomial viene representada por $N(60, 4.9)$\n",
    "\n",
    "Debemos tener en cuenta que el ajuste no es perfecto ya que en la distribución binomial los valores son discretos, mientras que en la distribución normal son contínuos: puedes calcular la probabilidad para un número de exitos deseados de 40, 45 o 22 pero no para valores como 40.8, 45.5 o 22.9 en el caso de la D. binomial."
   ]
  },
  {
   "cell_type": "markdown",
   "id": "9f537a40",
   "metadata": {},
   "source": [
    "#### **Para qué necesitamos aproximar la distribución binomial a una normal?**"
   ]
  },
  {
   "cell_type": "markdown",
   "id": "90a02c22",
   "metadata": {},
   "source": [
    "Luego de tener representada la D. binomial como una normal, podemos tipificarla a una distribución normal estándar y de esta forma usar los datos de la tabla de D. normal para resolver problemas de D. binomial. Es para esto que se realiza la aproximación. \n",
    "\n",
    "$$B(n, p) \\rightarrow N(n\\cdot p, \\sqrt{n\\cdot p\\cdot q})\\rightarrow N(0,1)$$\n",
    "\n"
   ]
  },
  {
   "cell_type": "markdown",
   "id": "27c64caa",
   "metadata": {},
   "source": [
    "#### **Qué requisitos se deben cumplir para aplicar la aproximación?**"
   ]
  },
  {
   "cell_type": "markdown",
   "id": "b709287d",
   "metadata": {},
   "source": [
    "Requiere que se cumplan los siguientes requisitos:\n",
    "\n",
    "- Es necesario que el número de eventos estudiados sea lo suficientemente elevado. El criterio para determinar un número de $n$ adecuado es que se cumpla que:\n",
    "\n",
    "$$n\\cdot p \\geq  5$$ $$n \\cdot q \\geq 5$$\n",
    "\n",
    "- Hay que hacer una corrección de continuidad ampliando en media unidad la parte inferior y superior de los intervalos que considerémos. Esto se debe a que los rectángulos de la D. binomial en ciertas zonas, no abarcan el área completamente de la D. normal y por tanto,  se debe agregar esta corrección."
   ]
  },
  {
   "cell_type": "code",
   "execution_count": null,
   "id": "8c663126",
   "metadata": {},
   "outputs": [],
   "source": []
  },
  {
   "cell_type": "markdown",
   "id": "8fa68744",
   "metadata": {},
   "source": [
    "## Ejemplo 5: *El 20% de la población sufre algun tipo de alergia. Si escogemos una muestra de 200 personas. Cuál es la probabilidad de que sean alérgicas, como mucho, 50 personas?*"
   ]
  },
  {
   "cell_type": "markdown",
   "id": "2abaadd2",
   "metadata": {},
   "source": [
    "La probabilidad de que como mucho 50 personas sean alérgicas, engloba desde la que no sufre de ninguna alergia hasta una cantidad de 50 personas alérgicas, por lo que aplicar la D. binomial en este caso, implica el cálculo de probabilidad para 50 personas, luego 49, 48, 47,... hasta 0 personas. \n",
    "\n",
    "\n",
    "Si no contamos con poder de cómputo, este cálculo sería muy ineficiente. Es por ello que aproximamos esta distribución a una normal, para asi agilizar los cálculos utilizando la tabla de la D. normal estándar.\n",
    "\n",
    "Veamos si cumple con los requisitos:"
   ]
  },
  {
   "cell_type": "code",
   "execution_count": 73,
   "id": "a9da6ddd",
   "metadata": {},
   "outputs": [],
   "source": [
    "# obtener parametros\n",
    "\n",
    "# probabilidad de que sufran de alergia\n",
    "p = 0.2\n",
    "# probablidad de que no sufran de alergia\n",
    "q = 0.8\n",
    "# numero de eventos estudiados\n",
    "n = 200\n",
    "# numero de eventos deseados (k) va desde 0 hasta 50 personas"
   ]
  },
  {
   "cell_type": "code",
   "execution_count": 74,
   "id": "4e6ea20e",
   "metadata": {},
   "outputs": [
    {
     "name": "stdout",
     "output_type": "stream",
     "text": [
      "True\n",
      "True\n"
     ]
    }
   ],
   "source": [
    "# verificar que cumpla los requisitos\n",
    "print(n*p >= 5)\n",
    "print(n*q >= 5)"
   ]
  },
  {
   "cell_type": "markdown",
   "id": "955593c9",
   "metadata": {},
   "source": [
    "Como cumple con el primer requisito podemos aproximar la distribución:\n",
    "\n",
    "$$B(200, 0.2) \\rightarrow N(n\\cdot p, \\sqrt{n\\cdot p\\cdot q})$$"
   ]
  },
  {
   "cell_type": "code",
   "execution_count": 75,
   "id": "a38915a2",
   "metadata": {},
   "outputs": [
    {
     "name": "stdout",
     "output_type": "stream",
     "text": [
      "Media: 40.0, Desviacion Estandar: 5.656854249492381\n"
     ]
    }
   ],
   "source": [
    "# calculo de la media de la D. normal\n",
    "media = n*p\n",
    "\n",
    "# calculo de la desviacion estandar\n",
    "std = np.sqrt(n*p*q)\n",
    "\n",
    "# mostrar resultados\n",
    "print(f'Media: {media}, Desviacion Estandar: {std}')"
   ]
  },
  {
   "cell_type": "markdown",
   "id": "3c1d0870",
   "metadata": {},
   "source": [
    "Entonces, la distribucion normal aproximada viene dado por:\n",
    "\n",
    "$$B(200, 0.2) \\rightarrow N(40, 5.65)$$\n",
    "\n",
    "Queremos calcular la probabilidad de que el número de personas alérgicas sean como mucho 50, es decir 50 o menos:\n",
    "\n",
    "$$P(X\\leq  50)$$\n",
    "\n",
    "Debemos considerar el segundo requisito, por tanto, agregamos media unidad al intervalo de probabilidad que deseamos calcular:\n",
    "\n",
    "$$P(X\\leq  50.5)$$"
   ]
  },
  {
   "cell_type": "markdown",
   "id": "402df870",
   "metadata": {},
   "source": [
    "Ahora, para resolver este problema, vamos a tipificar la D. normal para ajustarla a una normal estandar con desviacion estandar 0 y media de 1. Esto nos va a permitir utilizar la tabla $Z$ y encontrar de manera directa la probabilidad que buscamos. La fórmula para la tipificación es:\n",
    "\n",
    "$$z=\\frac{x - \\mu }{\\sigma }$$\n",
    "\n",
    "Calculemos $Z$"
   ]
  },
  {
   "cell_type": "code",
   "execution_count": 76,
   "id": "e1e18d8f",
   "metadata": {},
   "outputs": [
    {
     "data": {
      "text/plain": [
       "1.856"
      ]
     },
     "execution_count": 76,
     "metadata": {},
     "output_type": "execute_result"
    }
   ],
   "source": [
    "z = (50.5 - media)/ std\n",
    "z = z.round(3)\n",
    "z"
   ]
  },
  {
   "cell_type": "markdown",
   "id": "27993449",
   "metadata": {},
   "source": [
    "Entonces, la probabilidad de la D. normal ahora pasa a ser una D. normal estándar:\n",
    "\n",
    "$$P(X\\leq 50.5)\\rightarrow P(Z\\leq 1.856)$$\n",
    "\n",
    "Vamos a buscar dicha probabilidad con Python"
   ]
  },
  {
   "cell_type": "code",
   "execution_count": 77,
   "id": "7adbc57b",
   "metadata": {},
   "outputs": [
    {
     "data": {
      "text/plain": [
       "0.9682732209717971"
      ]
     },
     "execution_count": 77,
     "metadata": {},
     "output_type": "execute_result"
    }
   ],
   "source": [
    "# Libreria de la D. normal\n",
    "from scipy.stats import norm\n",
    "\n",
    "# obtener probabilidad acumulada de la z calculada\n",
    "proba_50 = norm.cdf(z)\n",
    "proba_50"
   ]
  },
  {
   "cell_type": "markdown",
   "id": "4c5f1ba1",
   "metadata": {},
   "source": [
    "> La probabilidad que sean alérgicas como mucho, 50 personas es del 96.8%"
   ]
  },
  {
   "cell_type": "markdown",
   "id": "f2e63a4d",
   "metadata": {},
   "source": [
    "#### **Calcular la probabilidad con la distribucion binomial directamente en Python**\n",
    "La aproximación que se hace a una D. normal se realiza para agilizar los cálculos de probabilidad. Sin embargo, como contamos con poder de cómputo, gracias a Python podemos realizar los cálculos directamente con la D. binomial."
   ]
  },
  {
   "cell_type": "code",
   "execution_count": 78,
   "id": "4fbc25e2",
   "metadata": {},
   "outputs": [],
   "source": [
    "# obtener parametros\n",
    "\n",
    "# probabilidad de que sufran de alergia\n",
    "p = 0.2\n",
    "# probablidad de que no sufran de alergia\n",
    "q = 0.8\n",
    "# numero de eventos estudiados\n",
    "n = 200\n",
    "# numero de eventos deseados (k) va desde 0 hasta 50 personas"
   ]
  },
  {
   "cell_type": "markdown",
   "id": "eb675bed",
   "metadata": {},
   "source": [
    "Vamos a calcular la probabilidad acumulativa desde 0 hasta 50 con la distribucion binomial usando el metodo CDF."
   ]
  },
  {
   "cell_type": "code",
   "execution_count": 79,
   "id": "808a2523",
   "metadata": {},
   "outputs": [
    {
     "data": {
      "text/plain": [
       "0.9655032251342711"
      ]
     },
     "execution_count": 79,
     "metadata": {},
     "output_type": "execute_result"
    }
   ],
   "source": [
    "proba = binom.cdf(50, n, p)\n",
    "proba"
   ]
  },
  {
   "cell_type": "markdown",
   "id": "2ebb289f",
   "metadata": {},
   "source": [
    "> Vemos que la probabilidad es la misma que la dada por la D. normal estándar (96.8%). De esta forma utilizamos menos líneas de código y no requerimos de calculos extras gracias al poder de cómputo de la librería Stats de Python."
   ]
  },
  {
   "cell_type": "code",
   "execution_count": null,
   "id": "5224cd63",
   "metadata": {},
   "outputs": [],
   "source": []
  },
  {
   "cell_type": "markdown",
   "id": "6722bdab",
   "metadata": {},
   "source": [
    "## Ejemplo 6: Un examen tipo test consta de 20 preguntas. En cada pregunta se ofrecen tres posibles respuestas, de las cuales sólo una es verdadera. Si se responde el examen al azar. Cuál es la probabilidad de aprobar?"
   ]
  },
  {
   "cell_type": "markdown",
   "id": "b08b4546",
   "metadata": {},
   "source": [
    "Para aprobar el examen debe responder correctamente como minimo 10 preguntas. Entonces debemos calcular la probabilidad de responder correctamente 10, 11, 12,... hasta 20 preguntas y luego sumar todas las probabilidades. Por suerte, podemos aproximar esta D. binomial a una normal\n",
    "\n",
    "$$B(20, 1/3) \\rightarrow N(\\mu , \\sigma )$$\n",
    "\n",
    "Veamos si cumple con los requisitos"
   ]
  },
  {
   "cell_type": "code",
   "execution_count": 80,
   "id": "b118b1f5",
   "metadata": {},
   "outputs": [],
   "source": [
    "# obtenemos los paramettros\n",
    "\n",
    "# probabilidad de exito\n",
    "p = 1/3\n",
    "# probabilidad de fracaso\n",
    "q = 1 - p\n",
    "# numero de eventos\n",
    "n = 20\n",
    "# numero de eventos deseados (k) mayores o igual a 10 hasta 20"
   ]
  },
  {
   "cell_type": "code",
   "execution_count": 81,
   "id": "3c444277",
   "metadata": {},
   "outputs": [
    {
     "name": "stdout",
     "output_type": "stream",
     "text": [
      "True\n",
      "True\n"
     ]
    }
   ],
   "source": [
    "# verificar que cumpla con los requisitos\n",
    "print(n*p >= 5)\n",
    "print(n*q >= 5)"
   ]
  },
  {
   "cell_type": "code",
   "execution_count": 82,
   "id": "f2007603",
   "metadata": {},
   "outputs": [
    {
     "name": "stdout",
     "output_type": "stream",
     "text": [
      "Media: 6.666666666666666, Desviacion Estandar: 2.1081851067789197\n"
     ]
    }
   ],
   "source": [
    "# Calculo la media y desviacion estandar de la D. normal\n",
    "\n",
    "# media\n",
    "media = n*p\n",
    "# desviaction estandar\n",
    "std = np.sqrt(n*p*q)\n",
    "# mostrar valores\n",
    "print(f'Media: {media}, Desviacion Estandar: {std}')"
   ]
  },
  {
   "cell_type": "markdown",
   "id": "eb69d3ca",
   "metadata": {},
   "source": [
    "Como cumple con el primer requisito podemos aproximar la distribución:\n",
    "\n",
    "$$B(200, 0.2) \\rightarrow N(6.67, 2.108)$$\n",
    "\n",
    "Queremos calcular la probabilidad de aprobar el examen, que para ello se deben responder 10 o más preguntas correctamente:\n",
    "\n",
    "$$P(X\\geq  10)$$\n",
    "\n",
    "Para cumplir con el segundo requisito, debemos ampliar el intervalo en media unidad\n",
    "\n",
    "$$P(X\\geq  9.5)$$\n",
    "\n",
    "Ahora que sabemos el intervalo, procedemos a tipificar la D. normal para convertirla a una D. normal estandarizada y para ello calculamos el valor de $z$"
   ]
  },
  {
   "cell_type": "code",
   "execution_count": 83,
   "id": "04b7dfa7",
   "metadata": {},
   "outputs": [
    {
     "data": {
      "text/plain": [
       "1.34"
      ]
     },
     "execution_count": 83,
     "metadata": {},
     "output_type": "execute_result"
    }
   ],
   "source": [
    "z = (9.5 - media)/std\n",
    "z = z.round(2)\n",
    "z"
   ]
  },
  {
   "cell_type": "markdown",
   "id": "8d9710e4",
   "metadata": {},
   "source": [
    "Ahora calculamos la probabilidad que $Z$ sea mayor a 1.34. Sin embargo, en la tabla no aparece de forma directa esta probabilidad. Para calcularla, debemos hacer la siguiente operación:\n",
    "\n",
    "$$P(Z > 1.34) = 1 - P(Z \\leq 1.34)$$\n",
    "\n",
    "Calculamos, con Python dicha probabilidad"
   ]
  },
  {
   "cell_type": "code",
   "execution_count": 84,
   "id": "46fbce7b",
   "metadata": {},
   "outputs": [
    {
     "data": {
      "text/plain": [
       "0.09012267246445238"
      ]
     },
     "execution_count": 84,
     "metadata": {},
     "output_type": "execute_result"
    }
   ],
   "source": [
    "# obtener probabilidad de la z calculada\n",
    "proba_10 = norm.cdf(z)\n",
    "\n",
    "# realizar operacion\n",
    "prob = 1 - proba_10\n",
    "prob"
   ]
  },
  {
   "cell_type": "markdown",
   "id": "51c9a4c0",
   "metadata": {},
   "source": [
    "> La probabilidad de aprobar al responder 10 o más preguntas correctamente es de 9.01%"
   ]
  },
  {
   "cell_type": "markdown",
   "id": "ad4ddc9e",
   "metadata": {},
   "source": [
    "#### **Calcular la probabilidad con la D. binomial directamente en Python**"
   ]
  },
  {
   "cell_type": "code",
   "execution_count": 85,
   "id": "642409f6",
   "metadata": {},
   "outputs": [],
   "source": [
    "# obtenemos los paramettros\n",
    "\n",
    "# probabilidad de exito\n",
    "p = 1/3\n",
    "# probabilidad de fracaso\n",
    "q = 1 - p\n",
    "# numero de eventos\n",
    "n = 20\n",
    "# numero de eventos deseados (k) mayores o igual a 10"
   ]
  },
  {
   "cell_type": "markdown",
   "id": "0922bf53",
   "metadata": {},
   "source": [
    "Utilizamos el método CDF para calcular la probabilidad acumulativa de no aprobar el examen y va desde 0 hasta 9, no se elige el 10 debido a que a partir de este, se aprueba el examen.\n",
    "\n",
    "$$P(NoAprobar) = P(X\\leq 9)$$"
   ]
  },
  {
   "cell_type": "code",
   "execution_count": 86,
   "id": "3c1bf7ae",
   "metadata": {},
   "outputs": [
    {
     "data": {
      "text/plain": [
       "0.9081042255127376"
      ]
     },
     "execution_count": 86,
     "metadata": {},
     "output_type": "execute_result"
    }
   ],
   "source": [
    "proba = binom.cdf(9, n, p)\n",
    "proba"
   ]
  },
  {
   "cell_type": "markdown",
   "id": "e7eb2079",
   "metadata": {},
   "source": [
    "Luego de esto, se resta a la probabilidad total (1) la probabilidad de no aprobar el examen\n",
    "\n",
    "$$P(Aprobar) = 1 - P(NoAprobar)$$"
   ]
  },
  {
   "cell_type": "code",
   "execution_count": 87,
   "id": "2eab57f2",
   "metadata": {},
   "outputs": [
    {
     "data": {
      "text/plain": [
       "0.09189577448726238"
      ]
     },
     "execution_count": 87,
     "metadata": {},
     "output_type": "execute_result"
    }
   ],
   "source": [
    "proba_9 = 1 - proba\n",
    "proba_9"
   ]
  },
  {
   "cell_type": "markdown",
   "id": "675d79e9",
   "metadata": {},
   "source": [
    "> Vemos que la probabilidad es muy similar (9.1%) a la probabilidad calculada con la D normal estándar (9.01%) y utilizamos menos calculos y líneas de código."
   ]
  },
  {
   "cell_type": "code",
   "execution_count": null,
   "id": "f75a9feb",
   "metadata": {},
   "outputs": [],
   "source": []
  },
  {
   "cell_type": "markdown",
   "id": "648f46b0",
   "metadata": {},
   "source": [
    "## Ejemplo 7: El 5% de los productos que se compran online en una tienda de moda son pulseras. Si se toman las últimas 500 compras realizadas, calcula la probabilidad de que se hayan comprado entre 25 y 30 pulseras."
   ]
  },
  {
   "cell_type": "code",
   "execution_count": 88,
   "id": "77c5ff43",
   "metadata": {},
   "outputs": [],
   "source": [
    "# obtner parametros\n",
    "\n",
    "# probabilidad de ser una pulsera\n",
    "p = 0.05\n",
    "# probabildad de no ser una pulsera\n",
    "q = 1 - p\n",
    "# numero de eventos estudiados\n",
    "n = 500\n",
    "# numero de eventos deseados (k) entre 25 y 30"
   ]
  },
  {
   "cell_type": "markdown",
   "id": "ee5a9ce8",
   "metadata": {},
   "source": [
    "Es una D. binomial de 500 experimentos, por tanto, podemos aporximarla a una D. normal\n",
    "\n",
    "$$B(500, 0.05) \\rightarrow N(\\mu , \\sigma )$$\n",
    "\n",
    "Comprobamos que cumpla los requisitos"
   ]
  },
  {
   "cell_type": "code",
   "execution_count": 89,
   "id": "fa5e1907",
   "metadata": {},
   "outputs": [
    {
     "name": "stdout",
     "output_type": "stream",
     "text": [
      "True\n",
      "True\n"
     ]
    }
   ],
   "source": [
    "# verificar que cumpla con los requisitos\n",
    "print(n*p >= 5)\n",
    "print(n*q >= 5)"
   ]
  },
  {
   "cell_type": "markdown",
   "id": "7dbf0112",
   "metadata": {},
   "source": [
    "Como cumple con los requisitos podemos aproximar a una D. normal con los siguientes parámetros"
   ]
  },
  {
   "cell_type": "code",
   "execution_count": 90,
   "id": "9cac8a53",
   "metadata": {},
   "outputs": [
    {
     "name": "stdout",
     "output_type": "stream",
     "text": [
      "Media: 25.0, Desviacion Estandar: 4.873397172404482\n"
     ]
    }
   ],
   "source": [
    "# media de la D normal\n",
    "media = n*p\n",
    "\n",
    "# desviacion estandar\n",
    "std = np.sqrt(n*p*q)\n",
    "\n",
    "# mostrar valores\n",
    "print(f'Media: {media}, Desviacion Estandar: {std}')"
   ]
  },
  {
   "cell_type": "markdown",
   "id": "d608d2ce",
   "metadata": {},
   "source": [
    "$$B(500, 0.05) \\rightarrow N(25, 4.873)$$\n",
    "\n",
    "Queremos calcular la probabilidad que el número de compra de pulseras haya estado entre 25 y 30. Para cumplir con el segundo requisito debemos ampliar el intervalo en media unidad.\n",
    "\n",
    "$$P(25< X \\leq 30) \\rightarrow P(24.5 < X \\leq 30.5)$$\n",
    "\n",
    "Tipificamos la D. normal para convertirla a una estándar, calculando el valor de $z$"
   ]
  },
  {
   "cell_type": "code",
   "execution_count": 91,
   "id": "7ecfe6d6",
   "metadata": {},
   "outputs": [
    {
     "name": "stdout",
     "output_type": "stream",
     "text": [
      "-0.10259783520851541 1.1285761872936695\n"
     ]
    }
   ],
   "source": [
    "z_24 = (24.5 - media)/std\n",
    "z_31 = (30.5 - media)/std\n",
    "print(z_24, z_31)"
   ]
  },
  {
   "cell_type": "markdown",
   "id": "075224dd",
   "metadata": {},
   "source": [
    "Este resultado indica ahora que debemos calcular la probabilidad que Z este entre -0.10 y 1.12\n",
    "\n",
    "$$P(-0.10< Z \\leq 1.12) = P(Z \\leq 1.12) - P(Z \\leq -0.10)$$\n",
    "\n",
    "Como en la tabla no existe valores de probabilidad para valores negativos debemos hacer una operación extra\n",
    "\n",
    "$$P(-0.10< Z \\leq 1.13) = P(Z \\leq 1.13) - P(Z \\geq 0.10)$$\n",
    "$$P(-0.10< Z \\leq 1.13) = P(Z \\leq 1.13) - [1 -P(Z \\leq 0.10)]$$\n",
    "\n",
    "Ahora, calculamos la probabilidad solicitada"
   ]
  },
  {
   "cell_type": "code",
   "execution_count": 92,
   "id": "8869887f",
   "metadata": {},
   "outputs": [
    {
     "data": {
      "text/plain": [
       "0.3296027501625579"
      ]
     },
     "execution_count": 92,
     "metadata": {},
     "output_type": "execute_result"
    }
   ],
   "source": [
    "proba_2 = norm.cdf(z_31)\n",
    "proba_1 = norm.cdf(z_24)\n",
    "\n",
    "proba = proba_2 - (1 - proba_1)\n",
    "proba"
   ]
  },
  {
   "cell_type": "markdown",
   "id": "7da0ada3",
   "metadata": {},
   "source": [
    "> La probabilidad que se hayan comprado entre 25 y 30 pulseras en las últimas 500 compras es de 32%"
   ]
  },
  {
   "cell_type": "markdown",
   "id": "35692e14",
   "metadata": {},
   "source": [
    "#### **Calcular la probabilidad con la D. binomial directamente en Python**"
   ]
  },
  {
   "cell_type": "code",
   "execution_count": 93,
   "id": "5eb97c97",
   "metadata": {},
   "outputs": [],
   "source": [
    "# obtner parametros\n",
    "\n",
    "# probabilidad de ser una pulsera\n",
    "p = 0.05\n",
    "# probabildad de no ser una pulsera\n",
    "q = 1 - p\n",
    "# numero de eventos estudiados\n",
    "n = 500\n",
    "# numero de eventos deseados (k) entre 25 y 30"
   ]
  },
  {
   "cell_type": "markdown",
   "id": "38838c2b",
   "metadata": {},
   "source": [
    "Utilizamos el método CDF para calcular la probabilidad acumulativa desde 0 hasta 24 y desde 0 hasta 30.\n",
    "$$P(X \\leq 25)$$\n",
    "$$P(X \\leq 30)$$"
   ]
  },
  {
   "cell_type": "code",
   "execution_count": 94,
   "id": "40e8f175",
   "metadata": {},
   "outputs": [],
   "source": [
    "# hasta 25\n",
    "proba_24 = binom.cdf(25, n, p)\n",
    "\n",
    "# hasta 30\n",
    "proba_30 = binom.cdf(30, n, p)"
   ]
  },
  {
   "cell_type": "markdown",
   "id": "0206deb2",
   "metadata": {},
   "source": [
    "Ahora restamos a $P(X \\leq 30)$ el valor de $P(X \\leq 24)$ y de esta forma obtenemos la probabilidad buscada"
   ]
  },
  {
   "cell_type": "code",
   "execution_count": 95,
   "id": "e5afb50f",
   "metadata": {},
   "outputs": [
    {
     "data": {
      "text/plain": [
       "0.3162088456958566"
      ]
     },
     "execution_count": 95,
     "metadata": {},
     "output_type": "execute_result"
    }
   ],
   "source": [
    "proba = proba_30 - proba_24\n",
    "proba"
   ]
  },
  {
   "cell_type": "markdown",
   "id": "006e347d",
   "metadata": {},
   "source": [
    "> La probabilidad obtenida en este caso (31.6%) es similar a la calculada con la D. normal estándar. De esta forma, ahorramos cálculos extras y líneas de código y todo esto gracias a la capacidad de Python para hacer muchos cálculos de forma eficiente."
   ]
  },
  {
   "cell_type": "code",
   "execution_count": null,
   "id": "616237ca",
   "metadata": {},
   "outputs": [],
   "source": []
  },
  {
   "cell_type": "markdown",
   "id": "9243c01f",
   "metadata": {},
   "source": [
    "## Ejemplo 8: *Si 75% de todas las compras en una tienda se hacen con tarjeta de crédito y k es el número entre 10 compras seleccionadas al azar realizadas con tarjeta de crédito, calcular la media y la varianza de la distribución.*"
   ]
  },
  {
   "cell_type": "code",
   "execution_count": 96,
   "id": "76d5621c",
   "metadata": {},
   "outputs": [],
   "source": [
    "# obtenenmos parametros\n",
    "\n",
    "# numero de eventos\n",
    "n = 10\n",
    "# probabilidad de exito\n",
    "p = 0.75\n",
    "# probabilidad de fracaso\n",
    "q = 1 - p"
   ]
  },
  {
   "cell_type": "code",
   "execution_count": 97,
   "id": "f64d2030",
   "metadata": {},
   "outputs": [
    {
     "data": {
      "text/plain": [
       "7.5"
      ]
     },
     "execution_count": 97,
     "metadata": {},
     "output_type": "execute_result"
    }
   ],
   "source": [
    "# calular la media\n",
    "media = n*p\n",
    "media"
   ]
  },
  {
   "cell_type": "code",
   "execution_count": 98,
   "id": "d870854b",
   "metadata": {},
   "outputs": [
    {
     "data": {
      "text/plain": [
       "1.3693063937629153"
      ]
     },
     "execution_count": 98,
     "metadata": {},
     "output_type": "execute_result"
    }
   ],
   "source": [
    "# calcular la varianza\n",
    "std = np.sqrt(n*p*q)\n",
    "std"
   ]
  },
  {
   "cell_type": "markdown",
   "id": "9c739089",
   "metadata": {},
   "source": [
    "Crea la grafica para esta distribucion binomial"
   ]
  },
  {
   "cell_type": "code",
   "execution_count": 99,
   "id": "225aae7e",
   "metadata": {},
   "outputs": [],
   "source": [
    "# generar los valores posibles de k (numero de exito)\n",
    "k = np.arange(0, n+1)\n",
    "\n",
    "# calcular la funcion de masa de probabilidad (pmf)\n",
    "pmf = binom.pmf(k, n, p)"
   ]
  },
  {
   "cell_type": "code",
   "execution_count": 100,
   "id": "cc6bb8a6",
   "metadata": {},
   "outputs": [
    {
     "data": {
      "image/png": "[encoded data removed]",
      "text/plain": [
       "<Figure size 864x432 with 1 Axes>"
      ]
     },
     "metadata": {
      "needs_background": "light"
     },
     "output_type": "display_data"
    }
   ],
   "source": [
    "# crear el grafico de barra\n",
    "plt.figure(figsize=(12, 6))\n",
    "plt.bar(k, pmf, alpha=0.7, color='red', edgecolor='black') #stem crea una funcion de tallo\n",
    "plt.xlabel('Numero de Exito')\n",
    "plt.ylabel('Probabilidad')\n",
    "plt.title(f'D. Binomial (n={n}, p={p})')\n",
    "plt.grid(True); # agrega cuadrilla al grafico"
   ]
  },
  {
   "cell_type": "code",
   "execution_count": null,
   "id": "8a4870d7",
   "metadata": {},
   "outputs": [],
   "source": []
  },
  {
   "cell_type": "markdown",
   "id": "f3b4476c",
   "metadata": {},
   "source": [
    "## Ejemplo 9: *En una urna hay 30 bolas, 10 rojas y el resto blancas. Se elige una bola al azar y se anota si es roja; el proceso se repite, devolviendo la bola, 10 veces. Calcular la media y la desviación típica*"
   ]
  },
  {
   "cell_type": "code",
   "execution_count": 101,
   "id": "6217eecc",
   "metadata": {},
   "outputs": [],
   "source": [
    "# obtenemos los parametros \n",
    "# numero de eventos estudiados\n",
    "n = 10\n",
    "# probabilidad de exito\n",
    "p = 10/30\n",
    "# probabilidad de fracaso\n",
    "q = 1 - p"
   ]
  },
  {
   "cell_type": "code",
   "execution_count": 102,
   "id": "38e93e92",
   "metadata": {},
   "outputs": [
    {
     "data": {
      "text/plain": [
       "3.333333333333333"
      ]
     },
     "execution_count": 102,
     "metadata": {},
     "output_type": "execute_result"
    }
   ],
   "source": [
    "# calculo de la media\n",
    "media = n*p\n",
    "media"
   ]
  },
  {
   "cell_type": "code",
   "execution_count": 103,
   "id": "31b80321",
   "metadata": {},
   "outputs": [
    {
     "data": {
      "text/plain": [
       "1.4907119849998598"
      ]
     },
     "execution_count": 103,
     "metadata": {},
     "output_type": "execute_result"
    }
   ],
   "source": [
    "# calculo de la desaviacion estandar\n",
    "std = np.sqrt(n*p*q)\n",
    "std"
   ]
  },
  {
   "cell_type": "code",
   "execution_count": null,
   "id": "6cbd46ee",
   "metadata": {},
   "outputs": [],
   "source": []
  },
  {
   "cell_type": "markdown",
   "id": "9e8a117f",
   "metadata": {},
   "source": [
    "## Ejemplo 10: *En unas pruebas de alcoholemia se ha observado que el 5 de los conductores controlados dan positivo en la prueba y que 10 de los conductores controlados no llevan puesto el cinturón de seguridad. También se ha observado que las dos infracciones son independientes. Un guardia de tráfico para cinco conductores al azar. Si tenemos en cuenta que el número de conductores es suficientemente importante como para estimar que la proporción de infractores no varía al hacer la selección.*"
   ]
  },
  {
   "cell_type": "markdown",
   "id": "f6137c25",
   "metadata": {},
   "source": [
    "### a.- Determinar la probabilidad de que exactamente tres conductores hayan cometido alguna de las dos infracciones."
   ]
  },
  {
   "cell_type": "markdown",
   "id": "59fb31e6",
   "metadata": {},
   "source": [
    "Consideremos lo siguiente: \n",
    "- Los conductores dan positivo a la prueba de alcoholemia\n",
    "- Los conductores no llevan puesto el cinturon de seguridad\n",
    "- La probabilidad de que el conductor de positivo a la prueba o de que no lleve su cinturon de seguridad o de que ambos eventos ocurran sabiendo que las infracciones son independientes es:\n",
    "$$P(A\\cup B) = P(A) + P(B) - P(A)\\cdot P(B)$$"
   ]
  },
  {
   "cell_type": "code",
   "execution_count": 104,
   "id": "e1eb9ced",
   "metadata": {},
   "outputs": [
    {
     "data": {
      "text/plain": [
       "0.14500000000000002"
      ]
     },
     "execution_count": 104,
     "metadata": {},
     "output_type": "execute_result"
    }
   ],
   "source": [
    "# probabilidad de dar positivo a la prueba de alcoholemia\n",
    "p_a = 0.05\n",
    "\n",
    "# probabilidad de no llevar el cinturon uesto\n",
    "p_c = 0.10\n",
    "\n",
    "# calculamos la probabilidad de obtener una infraccion por parte del fiscal\n",
    "p_inf = p_a + p_c - p_a*p_c\n",
    "p_inf"
   ]
  },
  {
   "cell_type": "code",
   "execution_count": 105,
   "id": "b91d3a5b",
   "metadata": {},
   "outputs": [],
   "source": [
    "# parametros de la distribucion binomial\n",
    "\n",
    "# probabilidad de exito\n",
    "p = p_inf\n",
    "\n",
    "# probabilidad de fracaso\n",
    "q = 1 - p\n",
    "\n",
    "# numero de eventos estudiados\n",
    "n = 5\n",
    "\n",
    "# numero de eventos deseados con exito\n",
    "k = 3\n"
   ]
  },
  {
   "cell_type": "markdown",
   "id": "be8c3d09",
   "metadata": {},
   "source": [
    "Determinar la probabilidad de que exactamente tres conductores hayan cometido alguna de las dos infracciones"
   ]
  },
  {
   "cell_type": "code",
   "execution_count": 106,
   "id": "2fdd4440",
   "metadata": {},
   "outputs": [
    {
     "data": {
      "text/plain": [
       "10.0"
      ]
     },
     "execution_count": 106,
     "metadata": {},
     "output_type": "execute_result"
    }
   ],
   "source": [
    "# calcular las combinaciones\n",
    "combinaciones = comb(n, k)\n",
    "combinaciones"
   ]
  },
  {
   "cell_type": "code",
   "execution_count": 107,
   "id": "e3869aef",
   "metadata": {},
   "outputs": [
    {
     "data": {
      "text/plain": [
       "0.022286210906250006"
      ]
     },
     "execution_count": 107,
     "metadata": {},
     "output_type": "execute_result"
    }
   ],
   "source": [
    "# calculo de la probabilidad\n",
    "p_3 = combinaciones*(p**k)*(q**(n-k))\n",
    "p_3"
   ]
  },
  {
   "cell_type": "markdown",
   "id": "8d037d27",
   "metadata": {},
   "source": [
    "> Existe una probabilidad del 2.2% de que de los 5 conductores seleccionados al azar, 3 cometan alguna de las infracciones o ambas."
   ]
  },
  {
   "cell_type": "markdown",
   "id": "04229d51",
   "metadata": {},
   "source": [
    "### b.- Determine la probabilidad de que al menos uno de los conductores controlados haya cometido alguna de las dos infracciones."
   ]
  },
  {
   "cell_type": "code",
   "execution_count": 108,
   "id": "ad61e595",
   "metadata": {},
   "outputs": [
    {
     "data": {
      "text/plain": [
       "0.543090094215625"
      ]
     },
     "execution_count": 108,
     "metadata": {},
     "output_type": "execute_result"
    }
   ],
   "source": [
    "# probabilidad de que al menos uno de los conductores haya cometido alguna infraccion\n",
    "p_1 = binom.pmf([1,2,3,4,5], n, p_inf).sum()\n",
    "p_1"
   ]
  },
  {
   "cell_type": "markdown",
   "id": "245976fe",
   "metadata": {},
   "source": [
    "> La proboabilidad de que al menos uno de los 5 conductores haya cometido alguna de las infracciones es de 54.3%"
   ]
  },
  {
   "cell_type": "code",
   "execution_count": null,
   "id": "33fd8871",
   "metadata": {},
   "outputs": [],
   "source": []
  },
  {
   "cell_type": "markdown",
   "id": "8259672b",
   "metadata": {},
   "source": [
    "## Ejemplo 11: *Un laboratorio afirma que una droga causa efectos secundarios en una proporción de 3 de cada 100 pacientes. Para contrastar esta afirmación, otro laboratorio elige al azar a 5 pacientes a los que aplica la droga. ¿Cuál es la probabilidad de los siguientes sucesos?*"
   ]
  },
  {
   "cell_type": "markdown",
   "id": "9eec11f2",
   "metadata": {},
   "source": [
    "### a.- Ningún paciente tenga efectos secundarios."
   ]
  },
  {
   "cell_type": "code",
   "execution_count": 109,
   "id": "3eda62ef",
   "metadata": {},
   "outputs": [],
   "source": [
    "# obtenemos los parametros\n",
    "\n",
    "# probabilidad de encontrar efectos secundarios\n",
    "p = 3/100\n",
    "# probabilidad de no encontrar efectos secundarios\n",
    "q = 1 - p\n",
    "# numero de eventos estudiados\n",
    "n = 5\n",
    "# numero de eventos deseados con exito\n",
    "k = 0"
   ]
  },
  {
   "cell_type": "code",
   "execution_count": 110,
   "id": "224428a0",
   "metadata": {},
   "outputs": [
    {
     "data": {
      "text/plain": [
       "0.8587340256999999"
      ]
     },
     "execution_count": 110,
     "metadata": {},
     "output_type": "execute_result"
    }
   ],
   "source": [
    "# calculo de la probabilidad\n",
    "proba = binom.pmf(0, n, p)\n",
    "proba"
   ]
  },
  {
   "cell_type": "markdown",
   "id": "7dedca22",
   "metadata": {},
   "source": [
    "> La probabilidad de que ninguno de los 5 pacientes seleccionados presenten efectos secundarios es de 85.8%"
   ]
  },
  {
   "cell_type": "markdown",
   "id": "5cc6dff8",
   "metadata": {},
   "source": [
    "### b.-  Al menos dos tengan efectos secundarios."
   ]
  },
  {
   "cell_type": "code",
   "execution_count": 111,
   "id": "84ea9a8c",
   "metadata": {},
   "outputs": [
    {
     "data": {
      "text/plain": [
       "0.008472052799999963"
      ]
     },
     "execution_count": 111,
     "metadata": {},
     "output_type": "execute_result"
    }
   ],
   "source": [
    "# vamos a resolver este problema con el metodo cdf\n",
    "\n",
    "# probabilidad desde 0 hasta 1 pacientes\n",
    "proba_1 = binom.cdf(1, n, p)\n",
    "\n",
    "# probabilidad desde 0 hasta 5 pacientes es igual a 1 ya que cubre todos los casos\n",
    "proba_2 = 1\n",
    "\n",
    "# probabilidad de que al menos dos tengan efectos secundarios\n",
    "proba = proba_2 - proba_1\n",
    "proba"
   ]
  },
  {
   "cell_type": "markdown",
   "id": "80d7d253",
   "metadata": {},
   "source": [
    "> La probabilidad de que al menos dos presenten efectos secundarios es de 0.8%, menos del 1%."
   ]
  },
  {
   "cell_type": "markdown",
   "id": "3874cc37",
   "metadata": {},
   "source": [
    "### c.- ¿Cuál es el número medio de pacientes que espera el laboratorio que sufran efectos secundarios si elige 100 pacientes al azar?"
   ]
  },
  {
   "cell_type": "code",
   "execution_count": 112,
   "id": "e902aee2",
   "metadata": {},
   "outputs": [
    {
     "data": {
      "text/plain": [
       "3.0"
      ]
     },
     "execution_count": 112,
     "metadata": {},
     "output_type": "execute_result"
    }
   ],
   "source": [
    "# numero de eventos estudiados\n",
    "n = 100\n",
    "\n",
    "# probabilidad de exito\n",
    "p = 3/100\n",
    "\n",
    "# calculo de la media de la D. binomial\n",
    "media = n*p\n",
    "media"
   ]
  },
  {
   "cell_type": "code",
   "execution_count": null,
   "id": "241304fd",
   "metadata": {},
   "outputs": [],
   "source": []
  },
  {
   "cell_type": "markdown",
   "id": "f8b20e7e",
   "metadata": {},
   "source": [
    "## Ejemplo 12: *Supongamos que tienes una moneda y quieres calcular cuántos lanzamientos necesitas para que la probabilidad de obtener al menos 3 caras sea igual o mayor al 90%. Sabes que la probabilidad de obtener una cara en un solo lanzamiento es del 50% (0.5).*\n",
    "\n",
    "\n"
   ]
  },
  {
   "cell_type": "markdown",
   "id": "712962da",
   "metadata": {},
   "source": [
    "### a.- ¿Cuántos lanzamientos de la moneda se necesitan para tener al menos un 90% de probabilidad de obtener al menos 3 caras?"
   ]
  },
  {
   "cell_type": "markdown",
   "id": "088e1907",
   "metadata": {},
   "source": [
    "Necesitamos encontrar un número $n$ que nos permita tener $P(X\\geq 3) \\geq 0.90$. Para obtenerlo, calculamos la probabilidad de cada uno de los escenarios iniciando con al menos 3 lanzamientos, hasta encontrar el escenario que primero satisfaga la condición"
   ]
  },
  {
   "cell_type": "code",
   "execution_count": 113,
   "id": "d3b23a0f",
   "metadata": {},
   "outputs": [],
   "source": [
    "# obtener parametros de las D.\n",
    "\n",
    "# probabilidad de exito de unlanzamiento\n",
    "p = 0.5\n",
    "# probabilidad de fracaso\n",
    "q = 1 - p\n",
    "# numero de ventos deseados\n",
    "k = 3\n",
    "# probabilidad objetivo\n",
    "p_obj = 0.90"
   ]
  },
  {
   "cell_type": "code",
   "execution_count": 114,
   "id": "57dffea4",
   "metadata": {},
   "outputs": [
    {
     "data": {
      "text/plain": [
       "9"
      ]
     },
     "execution_count": 114,
     "metadata": {},
     "output_type": "execute_result"
    }
   ],
   "source": [
    "# recorrer cada escenario y su respectiva probabilidad hasta encontrar el mayor a la probabilidad objetivo\n",
    "\n",
    "# iniciar con el numero minimo de lanzamientos\n",
    "n = k\n",
    "while True:\n",
    "    # probabilidad acumulada de obtener menos de k+1 caras\n",
    "    prob = 1 - binom.cdf(k-1, n, p)\n",
    "    # evaluar si cumple condicion\n",
    "    if prob >= p_obj:\n",
    "        break\n",
    "    n += 1\n",
    "    \n",
    "# numero de lanzamientos\n",
    "n"
   ]
  },
  {
   "cell_type": "markdown",
   "id": "4466d849",
   "metadata": {},
   "source": [
    "> Se necesitan al menos 9 lanzamientos para tener probabilidad de al menos 90% de obtener 3 caras"
   ]
  },
  {
   "cell_type": "markdown",
   "id": "010edaa8",
   "metadata": {},
   "source": [
    "### b.- ¿Cuál es la probabilidad de obtener al menos 3 caras en ese número de lanzamientos?"
   ]
  },
  {
   "cell_type": "code",
   "execution_count": 115,
   "id": "10fe50ba",
   "metadata": {},
   "outputs": [],
   "source": [
    "# obtener parametros de la D.\n",
    "\n",
    "# probabilidad de exito de unlanzamiento\n",
    "p = 0.5\n",
    "# probabilidad de fracaso\n",
    "q = 1 - p\n",
    "# numero de eventos deseados\n",
    "k = 2\n",
    "# numero de eventos estudiados\n",
    "n = 9"
   ]
  },
  {
   "cell_type": "code",
   "execution_count": 116,
   "id": "123c1281",
   "metadata": {},
   "outputs": [
    {
     "data": {
      "text/plain": [
       "0.91015625"
      ]
     },
     "execution_count": 116,
     "metadata": {},
     "output_type": "execute_result"
    }
   ],
   "source": [
    "# calculo de la probabilidad\n",
    "proba = 1 - binom.cdf(k, n, p)\n",
    "proba"
   ]
  },
  {
   "cell_type": "markdown",
   "id": "7c13b38d",
   "metadata": {},
   "source": [
    "> La probabilidad de obtener al menos 3 caras en 9 ensayos es de 91.8%"
   ]
  },
  {
   "cell_type": "markdown",
   "id": "17d4c25e",
   "metadata": {},
   "source": [
    "## Ejemplo 13: El 30% de un determinado pueblo ve un concurso que hay en televisión. Desde el concurso se llama por teléfono a 10 personas del pueblo elegidas al azar. Calcular la probabilidad de que, entre las 10 personas, estuvieran viendo el programa:"
   ]
  },
  {
   "cell_type": "markdown",
   "id": "63452113",
   "metadata": {},
   "source": [
    "### a.- Más de ocho personas"
   ]
  },
  {
   "cell_type": "code",
   "execution_count": 117,
   "id": "96bf9521",
   "metadata": {},
   "outputs": [],
   "source": [
    "# obtener parametros\n",
    "\n",
    "# probabilidad de elegir una persona que ve la TV\n",
    "p = 0.3\n",
    "# probabilidad de no elegir una persona que ve la TV\n",
    "q = 1 - p\n",
    "# numero de eventos estudiados\n",
    "n = 10\n",
    "# numero de eventos deseados (k) mayor o igual a 8"
   ]
  },
  {
   "cell_type": "markdown",
   "id": "8be441c7",
   "metadata": {},
   "source": [
    "Para resolver este problema, vamos a calcular la probabilidad acumulada hasta 8 $P(X \\leq 8)$ y luego restar a la probabilidad total (1):\n",
    "$$ P(X > 8) = 1 - P(X \\leq 8)$$"
   ]
  },
  {
   "cell_type": "code",
   "execution_count": 121,
   "id": "04263db8",
   "metadata": {},
   "outputs": [
    {
     "data": {
      "text/plain": [
       "0.9998563141"
      ]
     },
     "execution_count": 121,
     "metadata": {},
     "output_type": "execute_result"
    }
   ],
   "source": [
    "# probabilidad acumulada hasta 7\n",
    "prob_8 = binom.cdf(8, n, p)\n",
    "prob_8"
   ]
  },
  {
   "cell_type": "code",
   "execution_count": 122,
   "id": "ddf90cdb",
   "metadata": {},
   "outputs": [
    {
     "data": {
      "text/plain": [
       "0.00014368590000002346"
      ]
     },
     "execution_count": 122,
     "metadata": {},
     "output_type": "execute_result"
    }
   ],
   "source": [
    "# restamos la probabilidad de 7 a la probabilidad total\n",
    "prob = 1 - prob_8\n",
    "prob"
   ]
  },
  {
   "cell_type": "markdown",
   "id": "81f16761",
   "metadata": {},
   "source": [
    "> La probabilidad de que mas de 8 personas, de las 10, esten viendo el programa es de 0.14%"
   ]
  },
  {
   "cell_type": "markdown",
   "id": "5e877432",
   "metadata": {},
   "source": [
    "### b.- Algunas de las diez personas"
   ]
  },
  {
   "cell_type": "markdown",
   "id": "8cafab96",
   "metadata": {},
   "source": [
    "Para calcular esta probabilidad, debemos calcular la probabilidad de que ninguna persona este viendo el programa y luego restarla a la probabilidad total\n",
    "\n",
    "$$ P(X > 0) = 1 - P(X = 0)$$\n"
   ]
  },
  {
   "cell_type": "code",
   "execution_count": 123,
   "id": "ff53b8e1",
   "metadata": {},
   "outputs": [
    {
     "data": {
      "text/plain": [
       "0.028247524899999984"
      ]
     },
     "execution_count": 123,
     "metadata": {},
     "output_type": "execute_result"
    }
   ],
   "source": [
    "# probabilidad para cero personas\n",
    "proba_0 = binom.pmf(0, n, p)\n",
    "proba_0"
   ]
  },
  {
   "cell_type": "code",
   "execution_count": 124,
   "id": "4652a426",
   "metadata": {},
   "outputs": [
    {
     "data": {
      "text/plain": [
       "0.9717524751000001"
      ]
     },
     "execution_count": 124,
     "metadata": {},
     "output_type": "execute_result"
    }
   ],
   "source": [
    "# restamos la probabilidad encontrada al total de probabilidad\n",
    "prob = 1 - proba_0\n",
    "prob"
   ]
  },
  {
   "cell_type": "markdown",
   "id": "71148ea5",
   "metadata": {},
   "source": [
    "> La probabilidad de que alguna de las 10 personas vea el programa es de 97.1%"
   ]
  },
  {
   "cell_type": "markdown",
   "id": "2635f004",
   "metadata": {},
   "source": [
    "### c.- Calcular la media y desviación típica"
   ]
  },
  {
   "cell_type": "code",
   "execution_count": 125,
   "id": "3fe3f288",
   "metadata": {},
   "outputs": [
    {
     "data": {
      "text/plain": [
       "3.0"
      ]
     },
     "execution_count": 125,
     "metadata": {},
     "output_type": "execute_result"
    }
   ],
   "source": [
    "# media\n",
    "media = n*p\n",
    "media"
   ]
  },
  {
   "cell_type": "code",
   "execution_count": 126,
   "id": "590e000a",
   "metadata": {},
   "outputs": [
    {
     "data": {
      "text/plain": [
       "1.4491376746189437"
      ]
     },
     "execution_count": 126,
     "metadata": {},
     "output_type": "execute_result"
    }
   ],
   "source": [
    "# desviacion tipica\n",
    "std = np.sqrt(n*p*q)\n",
    "std"
   ]
  },
  {
   "cell_type": "code",
   "execution_count": null,
   "id": "51138e43",
   "metadata": {},
   "outputs": [],
   "source": []
  },
  {
   "cell_type": "markdown",
   "id": "630d8e61",
   "metadata": {},
   "source": [
    "## Ejemplo 14: De una baraja de 40 cartas se extraen, una a una y con devolución, 5 cartas, y se anota el número de oros obtenidos. Calcúlese la media y la desviación típica, así como la probabilidad de obtener, a lo sumo, tres oros. "
   ]
  },
  {
   "cell_type": "markdown",
   "id": "362df038",
   "metadata": {},
   "source": [
    "En una baraja de carta hay 10 cartas de oro, por tanto, la probabilidad de exito es de $40/10$. Como se obtiene una a una las cartas y se devuelven a las barajas, cada evento es independiente con una misma probabilidad para todos, por lo que podemos resolver el ejercicio mediante la D. binomial. "
   ]
  },
  {
   "cell_type": "code",
   "execution_count": 127,
   "id": "d2752e9b",
   "metadata": {},
   "outputs": [],
   "source": [
    "# obtener parametros\n",
    "\n",
    "# probabilidad de exito\n",
    "p = 0.25\n",
    "# probabilidad de fracaso\n",
    "q = 1 - p\n",
    "# numero de eventos estudiados\n",
    "n = 5\n",
    "# numero de eventos exitosos (k) menorz o igual 3"
   ]
  },
  {
   "cell_type": "code",
   "execution_count": 128,
   "id": "efda5a5d",
   "metadata": {},
   "outputs": [
    {
     "data": {
      "text/plain": [
       "1.25"
      ]
     },
     "execution_count": 128,
     "metadata": {},
     "output_type": "execute_result"
    }
   ],
   "source": [
    "# calcular la media\n",
    "media = n*p\n",
    "media"
   ]
  },
  {
   "cell_type": "code",
   "execution_count": 130,
   "id": "c889d63d",
   "metadata": {},
   "outputs": [
    {
     "data": {
      "text/plain": [
       "0.9682458365518543"
      ]
     },
     "execution_count": 130,
     "metadata": {},
     "output_type": "execute_result"
    }
   ],
   "source": [
    "# calcular la desviacion tipica\n",
    "std = np.sqrt(n*p*q)\n",
    "std"
   ]
  },
  {
   "cell_type": "code",
   "execution_count": 132,
   "id": "da097b9c",
   "metadata": {},
   "outputs": [
    {
     "data": {
      "text/plain": [
       "0.984375"
      ]
     },
     "execution_count": 132,
     "metadata": {},
     "output_type": "execute_result"
    }
   ],
   "source": [
    "# probabilidad de obtener a lo menos 3 oros\n",
    "proba = binom.cdf(3, n, p)\n",
    "proba"
   ]
  },
  {
   "cell_type": "markdown",
   "id": "59d80b10",
   "metadata": {},
   "source": [
    "> La probabilidad de obtener a lo menos 3 oros es de 98.3%"
   ]
  },
  {
   "cell_type": "code",
   "execution_count": null,
   "id": "c52674f6",
   "metadata": {},
   "outputs": [],
   "source": []
  },
  {
   "cell_type": "markdown",
   "id": "403fe419",
   "metadata": {},
   "source": [
    "## Ejemplo 15: En un determinado país, el 30% de sus habitantes tienen sangre tipo 0. Si se analiza la sangre de 10 personas:"
   ]
  },
  {
   "cell_type": "markdown",
   "id": "d7d08116",
   "metadata": {},
   "source": [
    "### a.- ¿Cuál es la probabilidad de que haya, exactamente, cinco personas con sangre tipo 0, entre las examinadas? "
   ]
  },
  {
   "cell_type": "code",
   "execution_count": 133,
   "id": "26d31a09",
   "metadata": {},
   "outputs": [],
   "source": [
    "# obtenemos parametros\n",
    "\n",
    "# probabilidad de exito\n",
    "p = 0.3\n",
    "# probabilidad de fracso\n",
    "q = 1 - p\n",
    "# numero de eventos estudiados\n",
    "n = 10"
   ]
  },
  {
   "cell_type": "code",
   "execution_count": 134,
   "id": "b30b59b5",
   "metadata": {},
   "outputs": [
    {
     "data": {
      "text/plain": [
       "0.10291934519999989"
      ]
     },
     "execution_count": 134,
     "metadata": {},
     "output_type": "execute_result"
    }
   ],
   "source": [
    "# probabilidad de que hayan 5 personas con sangre tipo O\n",
    "proba = binom.pmf(5, n, p)\n",
    "proba"
   ]
  },
  {
   "cell_type": "markdown",
   "id": "ce5ee8f8",
   "metadata": {},
   "source": [
    "> La probabilidad de que en las 10 personas seleccionadas hayan 5 con tipo de sangre O es de 10.3%"
   ]
  },
  {
   "cell_type": "markdown",
   "id": "3f424f68",
   "metadata": {},
   "source": [
    "### b.- ¿Cuál es la probabilidad de que menos de la mitad tengan sangre de dicho tipo? "
   ]
  },
  {
   "cell_type": "markdown",
   "id": "bdb6238c",
   "metadata": {},
   "source": [
    "Para este caso, necesitamos calcular la probabilidad de 0 hasta 4 personas de que sean de sangre tipo O.\n",
    "$$P(X \\leq 4)$$"
   ]
  },
  {
   "cell_type": "code",
   "execution_count": 135,
   "id": "64a2d185",
   "metadata": {},
   "outputs": [
    {
     "data": {
      "text/plain": [
       "0.8497316674000001"
      ]
     },
     "execution_count": 135,
     "metadata": {},
     "output_type": "execute_result"
    }
   ],
   "source": [
    "# probabilidad para menos de 5 personas\n",
    "proba_4 = binom.cdf(4, n, p)\n",
    "proba_4"
   ]
  },
  {
   "cell_type": "markdown",
   "id": "6aca8336",
   "metadata": {},
   "source": [
    "> La probabilidad que menos de la mitad sean de sangre tipo O es de 84.9%"
   ]
  },
  {
   "cell_type": "markdown",
   "id": "1e830da4",
   "metadata": {},
   "source": [
    "### c.- ¿Cuántos cabe esperar que tengan sangre tipo 0? "
   ]
  },
  {
   "cell_type": "markdown",
   "id": "d3941ed2",
   "metadata": {},
   "source": [
    "Para responder a esta pregunta, debemos considerar la media de la distribucion binomial ya que nos indica el valor esperado para este problema.\n",
    "\n",
    "$$\\mu = n \\cdot p$$"
   ]
  },
  {
   "cell_type": "code",
   "execution_count": 136,
   "id": "961b0881",
   "metadata": {},
   "outputs": [
    {
     "data": {
      "text/plain": [
       "3.0"
      ]
     },
     "execution_count": 136,
     "metadata": {},
     "output_type": "execute_result"
    }
   ],
   "source": [
    "# media\n",
    "media = n*p\n",
    "media"
   ]
  },
  {
   "cell_type": "markdown",
   "id": "b6a804c4",
   "metadata": {},
   "source": [
    "> Se esperan que 3 de las 10 personas seleccionadas tengan tipo de sangre O"
   ]
  },
  {
   "cell_type": "code",
   "execution_count": null,
   "id": "ae82c4cf",
   "metadata": {},
   "outputs": [],
   "source": []
  },
  {
   "cell_type": "markdown",
   "id": "b00b8499",
   "metadata": {},
   "source": [
    "# Pónte a prueba resolviendo los siguientes ejercicios"
   ]
  },
  {
   "cell_type": "markdown",
   "id": "95e12615",
   "metadata": {},
   "source": [
    "## Ejercicio 1: Dos personas juegan a “cara o cruz” y han convenido en acabar el juego cuando ambos sucesos se hayan presentado por lo menos tres veces. Calcúlese la probabilidad de que el juego no se acabe cuando ya se han hecho ocho lanzamientos. "
   ]
  },
  {
   "cell_type": "code",
   "execution_count": null,
   "id": "3f57f692",
   "metadata": {},
   "outputs": [],
   "source": []
  },
  {
   "cell_type": "markdown",
   "id": "ab325410",
   "metadata": {},
   "source": [
    "## Ejercicio 2: Una variable X sigue la ley binomial de tipo B(5, 0.2). Determínese\n",
    "## a) Su distribución de probabilidad\n",
    "## b) La media y la desviación típica\n",
    "## c) La función de distribución F(x)"
   ]
  },
  {
   "cell_type": "code",
   "execution_count": null,
   "id": "f500e62d",
   "metadata": {},
   "outputs": [],
   "source": []
  },
  {
   "cell_type": "markdown",
   "id": "c1fc5445",
   "metadata": {},
   "source": [
    "## Ejercicio 3: Se lanzan seis monedas simultáneamente, calcular:\n",
    "## a) La probabilidad de que salgan dos caras.\n",
    "## b) Probabilidad de que salgan por lo menos cuatro caras\n",
    "## c) Probabilidad de que no salga ninguna cara. "
   ]
  },
  {
   "cell_type": "code",
   "execution_count": null,
   "id": "2969a2f7",
   "metadata": {},
   "outputs": [],
   "source": []
  },
  {
   "cell_type": "markdown",
   "id": "e0a0fae3",
   "metadata": {},
   "source": [
    "## Ejercicio 4: La probabilidad de que una jugadora de golf haga hoyo en un lanzamiento a una distancia determinada es 0,2. Si lo intenta cinco veces, calcular la probabilidad de que:\n",
    "## a) No acierte ninguna\n",
    "## b) Acierte alguna\n",
    "## c) Acierte dos.\n",
    "## d) Si hace tandas de cinco lanzamientos, ¿cuál será el número medio de aciertos?; ¿cuál será su desviación típica? \n"
   ]
  },
  {
   "cell_type": "code",
   "execution_count": null,
   "id": "2c79a222",
   "metadata": {},
   "outputs": [],
   "source": []
  },
  {
   "cell_type": "markdown",
   "id": "632a25d7",
   "metadata": {},
   "source": [
    "## Ejercicio 5:  Suponiendo que cada niño tiene la probabilidad 0,51 de ser varón, hállese la probabilidad de que en una familia de seis hijos haya tenido:\n",
    "## a) Por lo menos un niño\n",
    "## b) Por lo menos una niña"
   ]
  },
  {
   "cell_type": "code",
   "execution_count": null,
   "id": "af66190f",
   "metadata": {},
   "outputs": [],
   "source": []
  }
 ],
 "metadata": {
  "kernelspec": {
   "display_name": "Python 3 (ipykernel)",
   "language": "python",
   "name": "python3"
  },
  "language_info": {
   "codemirror_mode": {
    "name": "ipython",
    "version": 3
   },
   "file_extension": ".py",
   "mimetype": "text/x-python",
   "name": "python",
   "nbconvert_exporter": "python",
   "pygments_lexer": "ipython3",
   "version": "3.9.12"
  }
 },
 "nbformat": 4,
 "nbformat_minor": 5
}
