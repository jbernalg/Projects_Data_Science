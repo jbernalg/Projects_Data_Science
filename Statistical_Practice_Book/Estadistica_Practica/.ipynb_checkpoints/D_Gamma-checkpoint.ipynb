{
 "cells": [
  {
   "cell_type": "markdown",
   "id": "2b566bed",
   "metadata": {},
   "source": [
    "# Todo sobre la Distribucion Gamma"
   ]
  },
  {
   "cell_type": "markdown",
   "id": "380ee44f",
   "metadata": {},
   "source": [
    "Es una D. de probabilidad continua que resalta por su importancia para otras distribuciones muy utilizadas en la practica como son la Exponencial $Exp(X)$ y Chi cuadrado $X^2$ \n",
    "\n",
    "Se define mediante dos parametros: el parametro de forma $\\alpha$ y el parametro de escala $\\beta$ los cuales le dan una gran versatilidad para tomar variedad de formas. Esto le da una gran capacidad para modelar diferentes fenomenos reales. Ademas, su habilidad para manejar datos sesgados y con colas largas la hace adecuada para aplicaciones donde otras ditribuciones, como la normal, no son adecuadas. Algunas de las aplicaciones mas comunes en ciencia de datos son:\n",
    "\n",
    "- Tiempos de respuestas y procesamiento: Tiempo que se tarda en procesar una tarea o atender una solicitud.\n",
    "\n",
    "- Tiempo hasta el exito: Modelar el tiempo hasta que ocurren varios eventos en un proceso de Poisson (clics en una campana publicitaria) \n",
    "\n",
    "- Vida util de productos: Modela lavida util de componentes y sistemas mecanicos o electronicos ayudando a prever fallos.\n"
   ]
  },
  {
   "cell_type": "code",
   "execution_count": null,
   "id": "be57dd04",
   "metadata": {},
   "outputs": [],
   "source": []
  },
  {
   "cell_type": "code",
   "execution_count": null,
   "id": "dcafbed0",
   "metadata": {},
   "outputs": [],
   "source": []
  },
  {
   "cell_type": "code",
   "execution_count": null,
   "id": "073827ac",
   "metadata": {},
   "outputs": [],
   "source": []
  }
 ],
 "metadata": {
  "kernelspec": {
   "display_name": "Python 3 (ipykernel)",
   "language": "python",
   "name": "python3"
  },
  "language_info": {
   "codemirror_mode": {
    "name": "ipython",
    "version": 3
   },
   "file_extension": ".py",
   "mimetype": "text/x-python",
   "name": "python",
   "nbconvert_exporter": "python",
   "pygments_lexer": "ipython3",
   "version": "3.9.12"
  }
 },
 "nbformat": 4,
 "nbformat_minor": 5
}
