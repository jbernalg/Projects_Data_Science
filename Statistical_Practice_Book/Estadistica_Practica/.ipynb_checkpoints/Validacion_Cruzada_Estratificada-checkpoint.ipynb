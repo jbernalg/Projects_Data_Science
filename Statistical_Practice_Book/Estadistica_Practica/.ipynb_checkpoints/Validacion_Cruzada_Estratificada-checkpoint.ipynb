{
 "cells": [
  {
   "cell_type": "markdown",
   "id": "8467a0d9",
   "metadata": {},
   "source": [
    "# Validacion Cruzada Estratificada"
   ]
  },
  {
   "cell_type": "markdown",
   "id": "9c3c4ac0",
   "metadata": {},
   "source": [
    "Es una tecnica que se usa para evaluar modelos de manera mas confiable. Es una variante de la validacion K-Fold donde la division en folds se hace de tal manera que se preservan las proporciones de las clases en cada fold. Esto es especialmente util cuando se trabaja con conjuntos de datos desbalanceados."
   ]
  },
  {
   "cell_type": "markdown",
   "id": "33af310c",
   "metadata": {},
   "source": [
    "## Proceso de la Validacion Cruzada Estratificada"
   ]
  },
  {
   "cell_type": "markdown",
   "id": "d22198b4",
   "metadata": {},
   "source": [
    "Supongamos que tenemos el siguiente conjunto de datos que consta de una variable predictora (*X*) y una variable objetivo (*y*) que contiene dos clases: 0 y 1."
   ]
  },
  {
   "cell_type": "markdown",
   "id": "d21d438a",
   "metadata": {},
   "source": [
    "- Datos (X) : [*Muestra1, Muestra2, Muestra3, Muestra4, Muestra5, Muestra6, Muestra7, Muestra8, Muestra9, Muestra10*]\n",
    "\n",
    "- Etiquetas (y) : [0, 0, 0, 0, 1, 1, 1, 1, 1, 1]"
   ]
  },
  {
   "cell_type": "markdown",
   "id": "c6273776",
   "metadata": {},
   "source": [
    "Vamos a realizar una validacion cruzada estratificada K-Fold con $k = 2$. El proceso general de este metodo es el siguiente:"
   ]
  },
  {
   "cell_type": "markdown",
   "id": "99d3d343",
   "metadata": {},
   "source": [
    "### 1.- Dividir el conjunto de datos por clase\n",
    "\n",
    "Separamos los datos por clase"
   ]
  },
  {
   "cell_type": "markdown",
   "id": "e8037c1e",
   "metadata": {},
   "source": [
    "- Clase 0 : [*Muestra1, Muestra2, Muestra3, Muestra4*]\n",
    "- Clase 1 : [*Muestra5, Muestra6, Muestra7, Muestra8, Muestra9, Muestra10*]"
   ]
  },
  {
   "cell_type": "markdown",
   "id": "7a86c719",
   "metadata": {},
   "source": [
    "### 2.- Dividir cada clase en $k$ Folds\n",
    "Dividimos cada clase en $k$ folds. En este caso, $k=2$"
   ]
  },
  {
   "cell_type": "markdown",
   "id": "10bbbc74",
   "metadata": {},
   "source": [
    "**Para la clase 0 tenemos 4 muestras**:\n",
    "- Fold 1 : [*Muestra1, Muestra2*]\n",
    "- Fold 2 : [*Muestra3, Muestra4*]\n",
    "\n",
    "**Para la clase 1 tenemos 6 muestras**:\n",
    "- Fold 1 : [*Muestra5, Muestra6, Muestra7*]\n",
    "- Fold 2 : [*Muestra8, Muestra9, Muestra10*]"
   ]
  },
  {
   "cell_type": "markdown",
   "id": "937355df",
   "metadata": {},
   "source": [
    "### 3.- Combinar los Folds para crear conjuntos de entrenamiento y prueba\n",
    "\n",
    "En cada iteracion, combinamos los folds de ambas clases para crear los conjuntos de entrenamiento y prueba"
   ]
  },
  {
   "cell_type": "markdown",
   "id": "fb4a220a",
   "metadata": {},
   "source": [
    "**Iteracion 1:**\n",
    "- Conjunto test : [*Muestra1, Muestra2, Muestra5, Muestra6, Muestra7*]\n",
    "- Conjunto train : [*Muestra3, Muestra4, Muestra8, Muestra9, Muestra10*]\n",
    "\n",
    "**Iteracion 2:**\n",
    "- Conjunto test : [*Muestra3, Muestra4, Muestra8, Muestra9, Muestra10*]\n",
    "- Conjunto train : [*Muestra1, Muestra2, Muestra5, Muestra6, Muestra7*]"
   ]
  },
  {
   "cell_type": "markdown",
   "id": "accf3847",
   "metadata": {},
   "source": [
    "Este proceso garantiza que cada fold tenga una representación proporcional de cada clase, lo que es crucial para evaluar de manera justa el rendimiento del modelo, especialmente en problemas de clasificación con clases desbalanceadas."
   ]
  },
  {
   "cell_type": "code",
   "execution_count": null,
   "id": "a9c91ab8",
   "metadata": {},
   "outputs": [],
   "source": []
  },
  {
   "cell_type": "markdown",
   "id": "d258d7f2",
   "metadata": {},
   "source": [
    "## Implementacion Manual"
   ]
  },
  {
   "cell_type": "markdown",
   "id": "2eeb501b",
   "metadata": {},
   "source": [
    "Vamos a trabajar sobre los datos anteriores (X e y) y realizar el proceso de la validacion cruzada paso a paso, para entender de que se trata."
   ]
  },
  {
   "cell_type": "code",
   "execution_count": 5,
   "id": "409b0077",
   "metadata": {},
   "outputs": [
    {
     "data": {
      "text/html": [
       "<div>\n",
       "<style scoped>\n",
       "    .dataframe tbody tr th:only-of-type {\n",
       "        vertical-align: middle;\n",
       "    }\n",
       "\n",
       "    .dataframe tbody tr th {\n",
       "        vertical-align: top;\n",
       "    }\n",
       "\n",
       "    .dataframe thead th {\n",
       "        text-align: right;\n",
       "    }\n",
       "</style>\n",
       "<table border=\"1\" class=\"dataframe\">\n",
       "  <thead>\n",
       "    <tr style=\"text-align: right;\">\n",
       "      <th></th>\n",
       "      <th>Muestra</th>\n",
       "      <th>y</th>\n",
       "    </tr>\n",
       "  </thead>\n",
       "  <tbody>\n",
       "    <tr>\n",
       "      <th>0</th>\n",
       "      <td>Muestra1</td>\n",
       "      <td>0</td>\n",
       "    </tr>\n",
       "    <tr>\n",
       "      <th>1</th>\n",
       "      <td>Muestra2</td>\n",
       "      <td>0</td>\n",
       "    </tr>\n",
       "    <tr>\n",
       "      <th>2</th>\n",
       "      <td>Muestra3</td>\n",
       "      <td>0</td>\n",
       "    </tr>\n",
       "    <tr>\n",
       "      <th>3</th>\n",
       "      <td>Muestra4</td>\n",
       "      <td>0</td>\n",
       "    </tr>\n",
       "    <tr>\n",
       "      <th>4</th>\n",
       "      <td>Muestra5</td>\n",
       "      <td>1</td>\n",
       "    </tr>\n",
       "    <tr>\n",
       "      <th>5</th>\n",
       "      <td>Muestra6</td>\n",
       "      <td>1</td>\n",
       "    </tr>\n",
       "    <tr>\n",
       "      <th>6</th>\n",
       "      <td>Muestra7</td>\n",
       "      <td>1</td>\n",
       "    </tr>\n",
       "    <tr>\n",
       "      <th>7</th>\n",
       "      <td>Muestra8</td>\n",
       "      <td>1</td>\n",
       "    </tr>\n",
       "    <tr>\n",
       "      <th>8</th>\n",
       "      <td>Muestra9</td>\n",
       "      <td>1</td>\n",
       "    </tr>\n",
       "    <tr>\n",
       "      <th>9</th>\n",
       "      <td>Muestra10</td>\n",
       "      <td>1</td>\n",
       "    </tr>\n",
       "  </tbody>\n",
       "</table>\n",
       "</div>"
      ],
      "text/plain": [
       "     Muestra  y\n",
       "0   Muestra1  0\n",
       "1   Muestra2  0\n",
       "2   Muestra3  0\n",
       "3   Muestra4  0\n",
       "4   Muestra5  1\n",
       "5   Muestra6  1\n",
       "6   Muestra7  1\n",
       "7   Muestra8  1\n",
       "8   Muestra9  1\n",
       "9  Muestra10  1"
      ]
     },
     "execution_count": 5,
     "metadata": {},
     "output_type": "execute_result"
    }
   ],
   "source": [
    "# libreria para operar arrays\n",
    "import numpy as np\n",
    "import pandas as pd\n",
    "\n",
    "# Datos de ejemplo\n",
    "\n",
    "# variable predictora\n",
    "X = np.array(['Muestra1', 'Muestra2', 'Muestra3', 'Muestra4', 'Muestra5', \n",
    "              'Muestra6', 'Muestra7', 'Muestra8', 'Muestra9', 'Muestra10'])\n",
    "#variable objetivo\n",
    "y = np.array([0, 0, 0, 0, 1, 1, 1, 1, 1, 1])\n",
    "\n",
    "# dataframe con las variables\n",
    "df = pd.DataFrame({'Muestra': X, 'y':y})\n",
    "\n",
    "# mostrar dataframe\n",
    "df"
   ]
  },
  {
   "cell_type": "markdown",
   "id": "8ab6423a",
   "metadata": {},
   "source": [
    "Seleccionamos la cantidad de folds que requerimos"
   ]
  },
  {
   "cell_type": "code",
   "execution_count": 6,
   "id": "85f4063c",
   "metadata": {},
   "outputs": [],
   "source": [
    "# numero de folds\n",
    "k = 2"
   ]
  },
  {
   "cell_type": "markdown",
   "id": "f7fc0b0c",
   "metadata": {},
   "source": [
    "### 1.- Dividir los datos por clase\n",
    "Seleccionamos los indices de cada clase, que en este caso son dos: Clase de tipo 0 y clase de tipo 1"
   ]
  },
  {
   "cell_type": "code",
   "execution_count": 7,
   "id": "ef717f20",
   "metadata": {},
   "outputs": [
    {
     "name": "stdout",
     "output_type": "stream",
     "text": [
      "[0 1 2 3]   [4 5 6 7 8 9]\n"
     ]
    }
   ],
   "source": [
    "# indice de cada clase\n",
    "index_clase0 = np.where(y == 0)[0]\n",
    "index_clase1 = np.where(y == 1)[0]\n",
    "print(index_clase0, ' ', index_clase1)"
   ]
  },
  {
   "cell_type": "markdown",
   "id": "bd3bbb4d",
   "metadata": {},
   "source": [
    "Mezclamos los indices de cada clase para asegurar aleatoriedad en la seleccion"
   ]
  },
  {
   "cell_type": "code",
   "execution_count": 8,
   "id": "6dea47e4",
   "metadata": {},
   "outputs": [],
   "source": [
    "# mezcla aleatoria de los indices\n",
    "np.random.shuffle(index_clase0)\n",
    "np.random.shuffle(index_clase1)\n"
   ]
  },
  {
   "cell_type": "markdown",
   "id": "db822fca",
   "metadata": {},
   "source": [
    "### 2.- Dividimos cada clase en $k$ folds\n",
    "Dividimos los indices en $k$ folds que en este caso decidimos que fueran 2 folds"
   ]
  },
  {
   "cell_type": "code",
   "execution_count": 9,
   "id": "defbc0c0",
   "metadata": {},
   "outputs": [
    {
     "name": "stdout",
     "output_type": "stream",
     "text": [
      "[array([1, 0]), array([3, 2])]   [array([6, 5, 8]), array([4, 9, 7])]\n"
     ]
    }
   ],
   "source": [
    "fold_clase0 = np.array_split(index_clase0, k)\n",
    "fold_clase1 = np.array_split(index_clase1, k)\n",
    "print(fold_clase0, ' ', fold_clase1)"
   ]
  },
  {
   "cell_type": "markdown",
   "id": "12c0fd5e",
   "metadata": {},
   "source": [
    "### 3.- Combinar los folds\n",
    "Creamos los folds combinando las clases estratificadas"
   ]
  },
  {
   "cell_type": "code",
   "execution_count": 10,
   "id": "c5144ca1",
   "metadata": {},
   "outputs": [
    {
     "name": "stdout",
     "output_type": "stream",
     "text": [
      "[array([1, 0, 6, 5, 8]), array([3, 2, 4, 9, 7])]\n"
     ]
    }
   ],
   "source": [
    "folds = []\n",
    "for i in range(k):\n",
    "    fold = np.concatenate((fold_clase0[i], fold_clase1[i]))\n",
    "    folds.append(fold)\n",
    "print(folds)\n"
   ]
  },
  {
   "cell_type": "markdown",
   "id": "20ed4380",
   "metadata": {},
   "source": [
    "### 4.- Crear los conjuntos de entrenamiento y prueba\n",
    "Generamos los conjuntos de entrenamiento y de prueba"
   ]
  },
  {
   "cell_type": "code",
   "execution_count": 11,
   "id": "42cbb195",
   "metadata": {
    "scrolled": true
   },
   "outputs": [
    {
     "name": "stdout",
     "output_type": "stream",
     "text": [
      "Iteracion 1\n",
      "Datos de prueba:  ['Muestra2' 'Muestra1' 'Muestra7' 'Muestra6' 'Muestra9'] [0 0 1 1 1]\n",
      "Datos de entrenamiento:  ['Muestra4' 'Muestra3' 'Muestra5' 'Muestra10' 'Muestra8'] [0 0 1 1 1]\n",
      " \n",
      "Iteracion 2\n",
      "Datos de prueba:  ['Muestra4' 'Muestra3' 'Muestra5' 'Muestra10' 'Muestra8'] [0 0 1 1 1]\n",
      "Datos de entrenamiento:  ['Muestra2' 'Muestra1' 'Muestra7' 'Muestra6' 'Muestra9'] [0 0 1 1 1]\n",
      " \n"
     ]
    }
   ],
   "source": [
    "for i in range(k):\n",
    "    # indices de observaciones para prueba\n",
    "    test_index = folds[i]\n",
    "    # indice de observaciones para entrenamiento\n",
    "    train_index = np.concatenate([folds[j] for j in range(k) if j != i])\n",
    "    # datos de entrenamiento\n",
    "    X_train, y_train = X[train_index], y[train_index]\n",
    "    # datos de prueba\n",
    "    X_test, y_test = X[test_index], y[test_index]\n",
    "    \n",
    "    # mostrar conjuntos de cada iteracion\n",
    "    print(f'Iteracion {i+1}')\n",
    "    print('Datos de prueba: ', X_test, y_test)\n",
    "    print('Datos de entrenamiento: ', X_train, y_train)\n",
    "    print(' ')"
   ]
  },
  {
   "cell_type": "code",
   "execution_count": null,
   "id": "b93cac81",
   "metadata": {},
   "outputs": [],
   "source": []
  },
  {
   "cell_type": "markdown",
   "id": "80fa08cf",
   "metadata": {},
   "source": [
    "## Implementacion con Python"
   ]
  },
  {
   "cell_type": "markdown",
   "id": "b26c63ba",
   "metadata": {},
   "source": [
    "La validacion cruzada estratificada puede aplicarse de forma directa con el metodo *StratifiedFold* de la libreria SKlearn reduciendo asi, la cantidad de pasos. Vamos a implementarlos sobre los datos anteriores (X e y)."
   ]
  },
  {
   "cell_type": "code",
   "execution_count": 12,
   "id": "d83a910e",
   "metadata": {},
   "outputs": [],
   "source": [
    "# importamos el metodo de la VC Estratificada \n",
    "from sklearn.model_selection import StratifiedKFold"
   ]
  },
  {
   "cell_type": "markdown",
   "id": "c5170cca",
   "metadata": {},
   "source": [
    "Asignamos la cantidad de folds requeridos"
   ]
  },
  {
   "cell_type": "code",
   "execution_count": 13,
   "id": "46fd4bdf",
   "metadata": {},
   "outputs": [
    {
     "data": {
      "text/html": [
       "<div>\n",
       "<style scoped>\n",
       "    .dataframe tbody tr th:only-of-type {\n",
       "        vertical-align: middle;\n",
       "    }\n",
       "\n",
       "    .dataframe tbody tr th {\n",
       "        vertical-align: top;\n",
       "    }\n",
       "\n",
       "    .dataframe thead th {\n",
       "        text-align: right;\n",
       "    }\n",
       "</style>\n",
       "<table border=\"1\" class=\"dataframe\">\n",
       "  <thead>\n",
       "    <tr style=\"text-align: right;\">\n",
       "      <th></th>\n",
       "      <th>Muestra</th>\n",
       "      <th>y</th>\n",
       "    </tr>\n",
       "  </thead>\n",
       "  <tbody>\n",
       "    <tr>\n",
       "      <th>0</th>\n",
       "      <td>Muestra1</td>\n",
       "      <td>0</td>\n",
       "    </tr>\n",
       "    <tr>\n",
       "      <th>1</th>\n",
       "      <td>Muestra2</td>\n",
       "      <td>0</td>\n",
       "    </tr>\n",
       "    <tr>\n",
       "      <th>2</th>\n",
       "      <td>Muestra3</td>\n",
       "      <td>0</td>\n",
       "    </tr>\n",
       "    <tr>\n",
       "      <th>3</th>\n",
       "      <td>Muestra4</td>\n",
       "      <td>0</td>\n",
       "    </tr>\n",
       "    <tr>\n",
       "      <th>4</th>\n",
       "      <td>Muestra5</td>\n",
       "      <td>1</td>\n",
       "    </tr>\n",
       "    <tr>\n",
       "      <th>5</th>\n",
       "      <td>Muestra6</td>\n",
       "      <td>1</td>\n",
       "    </tr>\n",
       "    <tr>\n",
       "      <th>6</th>\n",
       "      <td>Muestra7</td>\n",
       "      <td>1</td>\n",
       "    </tr>\n",
       "    <tr>\n",
       "      <th>7</th>\n",
       "      <td>Muestra8</td>\n",
       "      <td>1</td>\n",
       "    </tr>\n",
       "    <tr>\n",
       "      <th>8</th>\n",
       "      <td>Muestra9</td>\n",
       "      <td>1</td>\n",
       "    </tr>\n",
       "    <tr>\n",
       "      <th>9</th>\n",
       "      <td>Muestra10</td>\n",
       "      <td>1</td>\n",
       "    </tr>\n",
       "  </tbody>\n",
       "</table>\n",
       "</div>"
      ],
      "text/plain": [
       "     Muestra  y\n",
       "0   Muestra1  0\n",
       "1   Muestra2  0\n",
       "2   Muestra3  0\n",
       "3   Muestra4  0\n",
       "4   Muestra5  1\n",
       "5   Muestra6  1\n",
       "6   Muestra7  1\n",
       "7   Muestra8  1\n",
       "8   Muestra9  1\n",
       "9  Muestra10  1"
      ]
     },
     "execution_count": 13,
     "metadata": {},
     "output_type": "execute_result"
    }
   ],
   "source": [
    "# numero de folds\n",
    "k = 2\n",
    "\n",
    "# datos sobre los cuales trabajar\n",
    "df"
   ]
  },
  {
   "cell_type": "markdown",
   "id": "ed9d4b27",
   "metadata": {},
   "source": [
    "Creamos el objetos StratifiedFold"
   ]
  },
  {
   "cell_type": "code",
   "execution_count": 14,
   "id": "9d33696c",
   "metadata": {},
   "outputs": [],
   "source": [
    "skf = StratifiedKFold(n_splits=k)"
   ]
  },
  {
   "cell_type": "markdown",
   "id": "ad0652bc",
   "metadata": {},
   "source": [
    "Finalmente, realizamos la validacion cruzada estratificada K-Fold sobre los datos X e y"
   ]
  },
  {
   "cell_type": "code",
   "execution_count": 17,
   "id": "cadf66c3",
   "metadata": {},
   "outputs": [
    {
     "name": "stdout",
     "output_type": "stream",
     "text": [
      "Iteración 1\n",
      "Datos de prueba: ['Muestra1' 'Muestra2' 'Muestra5' 'Muestra6' 'Muestra7'] [0 0 1 1 1]\n",
      "Datos de entrenamiento: ['Muestra3' 'Muestra4' 'Muestra8' 'Muestra9' 'Muestra10'] [0 0 1 1 1]\n",
      "\n",
      "Iteración 2\n",
      "Datos de prueba: ['Muestra3' 'Muestra4' 'Muestra8' 'Muestra9' 'Muestra10'] [0 0 1 1 1]\n",
      "Datos de entrenamiento: ['Muestra1' 'Muestra2' 'Muestra5' 'Muestra6' 'Muestra7'] [0 0 1 1 1]\n",
      "\n"
     ]
    }
   ],
   "source": [
    "\n",
    "# iteramos sobre los indices del conjunto de entrenamiento y de prueba\n",
    "for i, (train_index, test_index) in enumerate(skf.split(X,y)):\n",
    "    # creamos los conjuntos de entrenamiento y de prueba\n",
    "    X_train, X_test = X[train_index], X[test_index]\n",
    "    y_train, y_test = y[train_index], y[test_index]\n",
    "    \n",
    "    # mostramos los 2 folds creados\n",
    "    print(f\"Iteración {i+1}\")\n",
    "    print(\"Datos de prueba:\", X_test, y_test)\n",
    "    print(\"Datos de entrenamiento:\", X_train, y_train)\n",
    "    print()\n",
    "    \n",
    "    "
   ]
  },
  {
   "cell_type": "code",
   "execution_count": null,
   "id": "3af555b9",
   "metadata": {},
   "outputs": [],
   "source": []
  },
  {
   "cell_type": "markdown",
   "id": "97be610f",
   "metadata": {},
   "source": [
    "## Implementacion sobre un Set de datos reales"
   ]
  },
  {
   "cell_type": "markdown",
   "id": "b7ec4c4d",
   "metadata": {},
   "source": [
    "Vamos a utilizar la validacion cruzada estratificada K-Fold para entrenar y evaluar un modelo de clasificacion. En este ejemplo, utilizaremos un clasificador simple, como un arbol de decision, con el conjunto de datos iris, que es un conjunto de datos comunmente utilizado para problemas de clasificacion."
   ]
  },
  {
   "cell_type": "markdown",
   "id": "1664f2ab",
   "metadata": {},
   "source": [
    "### Cargar los datos"
   ]
  },
  {
   "cell_type": "code",
   "execution_count": 21,
   "id": "03bcd451",
   "metadata": {
    "scrolled": true
   },
   "outputs": [
    {
     "data": {
      "text/html": [
       "<div>\n",
       "<style scoped>\n",
       "    .dataframe tbody tr th:only-of-type {\n",
       "        vertical-align: middle;\n",
       "    }\n",
       "\n",
       "    .dataframe tbody tr th {\n",
       "        vertical-align: top;\n",
       "    }\n",
       "\n",
       "    .dataframe thead th {\n",
       "        text-align: right;\n",
       "    }\n",
       "</style>\n",
       "<table border=\"1\" class=\"dataframe\">\n",
       "  <thead>\n",
       "    <tr style=\"text-align: right;\">\n",
       "      <th></th>\n",
       "      <th>sepal length (cm)</th>\n",
       "      <th>sepal width (cm)</th>\n",
       "      <th>petal length (cm)</th>\n",
       "      <th>petal width (cm)</th>\n",
       "      <th>species</th>\n",
       "    </tr>\n",
       "  </thead>\n",
       "  <tbody>\n",
       "    <tr>\n",
       "      <th>145</th>\n",
       "      <td>6.7</td>\n",
       "      <td>3.0</td>\n",
       "      <td>5.2</td>\n",
       "      <td>2.3</td>\n",
       "      <td>2</td>\n",
       "    </tr>\n",
       "    <tr>\n",
       "      <th>146</th>\n",
       "      <td>6.3</td>\n",
       "      <td>2.5</td>\n",
       "      <td>5.0</td>\n",
       "      <td>1.9</td>\n",
       "      <td>2</td>\n",
       "    </tr>\n",
       "    <tr>\n",
       "      <th>147</th>\n",
       "      <td>6.5</td>\n",
       "      <td>3.0</td>\n",
       "      <td>5.2</td>\n",
       "      <td>2.0</td>\n",
       "      <td>2</td>\n",
       "    </tr>\n",
       "    <tr>\n",
       "      <th>148</th>\n",
       "      <td>6.2</td>\n",
       "      <td>3.4</td>\n",
       "      <td>5.4</td>\n",
       "      <td>2.3</td>\n",
       "      <td>2</td>\n",
       "    </tr>\n",
       "    <tr>\n",
       "      <th>149</th>\n",
       "      <td>5.9</td>\n",
       "      <td>3.0</td>\n",
       "      <td>5.1</td>\n",
       "      <td>1.8</td>\n",
       "      <td>2</td>\n",
       "    </tr>\n",
       "  </tbody>\n",
       "</table>\n",
       "</div>"
      ],
      "text/plain": [
       "     sepal length (cm)  sepal width (cm)  petal length (cm)  petal width (cm)  \\\n",
       "145                6.7               3.0                5.2               2.3   \n",
       "146                6.3               2.5                5.0               1.9   \n",
       "147                6.5               3.0                5.2               2.0   \n",
       "148                6.2               3.4                5.4               2.3   \n",
       "149                5.9               3.0                5.1               1.8   \n",
       "\n",
       "     species  \n",
       "145        2  \n",
       "146        2  \n",
       "147        2  \n",
       "148        2  \n",
       "149        2  "
      ]
     },
     "execution_count": 21,
     "metadata": {},
     "output_type": "execute_result"
    }
   ],
   "source": [
    "# importar los datos desde SKlearn\n",
    "from sklearn.datasets import load_iris\n",
    "# data\n",
    "iris = load_iris()\n",
    "# variables predictoras\n",
    "X = iris.data\n",
    "# variable objetivo\n",
    "y = iris.target\n",
    "# mostrar datos en un Df\n",
    "iris_df = pd.DataFrame(data=iris.data, columns=iris.feature_names)\n",
    "iris_df['species'] = iris.target\n",
    "iris_df.tail()"
   ]
  },
  {
   "cell_type": "markdown",
   "id": "0e85c24c",
   "metadata": {},
   "source": [
    "### Proceso de validacion cruzada estratificada y entrenamiento del Modelo"
   ]
  },
  {
   "cell_type": "markdown",
   "id": "92fca3ee",
   "metadata": {},
   "source": [
    "Una vez definido las caracteristicas (X) y la variable objetivo (y), definimos el numero de folds requeridos; En este caso seleccionamos 3"
   ]
  },
  {
   "cell_type": "code",
   "execution_count": 22,
   "id": "ba439789",
   "metadata": {},
   "outputs": [],
   "source": [
    "# numero de folds\n",
    "k = 3"
   ]
  },
  {
   "cell_type": "markdown",
   "id": "33de3561",
   "metadata": {},
   "source": [
    "Creamos el objeto StratifiedKFold y el Clasificador "
   ]
  },
  {
   "cell_type": "code",
   "execution_count": 23,
   "id": "64479197",
   "metadata": {},
   "outputs": [],
   "source": [
    "# importamos el modelo de Clasificador\n",
    "from sklearn.tree import DecisionTreeClassifier\n",
    "\n",
    "# objetos Strtified\n",
    "skf = StratifiedKFold(n_splits=k)\n",
    "\n",
    "# Clasificador\n",
    "classifier = DecisionTreeClassifier()"
   ]
  },
  {
   "cell_type": "markdown",
   "id": "90ddec7a",
   "metadata": {},
   "source": [
    "Creamos una lista para almacenar las precisiones del modelo en cada iteracion y realizamos la VC Estratificada."
   ]
  },
  {
   "cell_type": "code",
   "execution_count": 24,
   "id": "df1200b4",
   "metadata": {},
   "outputs": [],
   "source": [
    "# importamos la metrica utilizada para evaluar el modelo\n",
    "from sklearn.metrics import accuracy_score\n",
    "\n",
    "# lista para almacenar precisiones del modelo\n",
    "precisiones = []\n",
    "\n",
    "# iteramos sobre cada fold y entrenamos el modelo\n",
    "for i, (train_index, test_index) in enumerate(skf.split(X,y)):\n",
    "    \n",
    "    # creamos el cojunto de entrenamiento y de prueba\n",
    "    X_train, X_test = X[train_index], X[test_index]\n",
    "    y_train, y_test = y[train_index], y[test_index]\n",
    "    \n",
    "    # entrenamos el modelo\n",
    "    classifier.fit(X_train, y_train)\n",
    "    \n",
    "    # obtenemos las predicciones del modelo\n",
    "    y_pred = classifier.predict(X_test)\n",
    "    \n",
    "    # Calculamos la precision del modelo\n",
    "    precision = accuracy_score(y_test, y_pred)\n",
    "    \n",
    "    # almacenamos la precision del modelo\n",
    "    precisiones.append(precision)"
   ]
  },
  {
   "cell_type": "code",
   "execution_count": null,
   "id": "257a5295",
   "metadata": {},
   "outputs": [],
   "source": []
  },
  {
   "cell_type": "code",
   "execution_count": null,
   "id": "0817c675",
   "metadata": {},
   "outputs": [],
   "source": []
  },
  {
   "cell_type": "code",
   "execution_count": null,
   "id": "7d993ec7",
   "metadata": {},
   "outputs": [],
   "source": []
  },
  {
   "cell_type": "code",
   "execution_count": null,
   "id": "fe3afc89",
   "metadata": {},
   "outputs": [],
   "source": []
  }
 ],
 "metadata": {
  "kernelspec": {
   "display_name": "Python 3 (ipykernel)",
   "language": "python",
   "name": "python3"
  },
  "language_info": {
   "codemirror_mode": {
    "name": "ipython",
    "version": 3
   },
   "file_extension": ".py",
   "mimetype": "text/x-python",
   "name": "python",
   "nbconvert_exporter": "python",
   "pygments_lexer": "ipython3",
   "version": "3.9.12"
  }
 },
 "nbformat": 4,
 "nbformat_minor": 5
}
