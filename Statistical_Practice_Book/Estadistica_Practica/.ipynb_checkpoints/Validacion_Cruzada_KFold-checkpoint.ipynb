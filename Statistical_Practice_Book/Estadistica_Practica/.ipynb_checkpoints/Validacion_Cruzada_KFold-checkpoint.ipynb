{
 "cells": [
  {
   "cell_type": "markdown",
   "id": "af69fd9e",
   "metadata": {},
   "source": [
    "# Validacion Cruzada K-Fold"
   ]
  },
  {
   "cell_type": "markdown",
   "id": "f7d974d0",
   "metadata": {},
   "source": [
    "Es una tecnica robusta para evaluar el rendimiento de un modelo de Machine Learning y evitar problemas como el sobreajuste (*overfitting*). El proceso general de este metodo es el siguiente:\n",
    "\n",
    "1.- **Dividir de los datos**: El conjunto de datos se divide en $K$ subconjuntos aproximadamente del mismo tamano. A estos se les conoce como \"*Fold*\"\n",
    "\n",
    "2.- **Iterar a traves de los Folds**: Se realizan $K$ iteraciones de entrenamiento y prueba. En cada iteracion, unos de los K folds se utiliza como conjunto de prueba y los otros $K-1$ folds como conjunto de entrenamiento. Esto implica que cada observacion se utiliza exactamente una vez como conjunto de prueba y $K-1$ veces como parte del conjunto de entrenamiento.\n",
    "\n",
    "3.- **Evaluar el modelo**: Se obtienen las metricas del modelo para cada iteracion de los folds. \n",
    "\n",
    "4.- **Promediar resultados**: Despues de las $K$ iteraciones, se promedian las metricas de rendimiento (como precision, MSE, R-cuadrado, entre otros) para obtener una estimacion mas confiable del rendimiento del modelo"
   ]
  },
  {
   "cell_type": "code",
   "execution_count": null,
   "id": "2939d4c3",
   "metadata": {},
   "outputs": [],
   "source": []
  },
  {
   "cell_type": "markdown",
   "id": "ad3625d3",
   "metadata": {},
   "source": [
    "## Ventajas"
   ]
  },
  {
   "cell_type": "markdown",
   "id": "2507b589",
   "metadata": {},
   "source": [
    "- Al utilizar todos los datos tanto para entrenamiento como para prueba, se obtiene una mejor estimacion del rendimiento del modelo.\n",
    "\n",
    "- Al promediar los resultados de las iteraciones, se reduce la varianza asociada con cualquier particion de los datos.\n",
    "\n",
    "- A diferencia de la validacion Hold Out, se utilizan todos los datos disponibles tanto para entrenamiento como para prueba"
   ]
  }
 ],
 "metadata": {
  "kernelspec": {
   "display_name": "Python 3 (ipykernel)",
   "language": "python",
   "name": "python3"
  },
  "language_info": {
   "codemirror_mode": {
    "name": "ipython",
    "version": 3
   },
   "file_extension": ".py",
   "mimetype": "text/x-python",
   "name": "python",
   "nbconvert_exporter": "python",
   "pygments_lexer": "ipython3",
   "version": "3.9.12"
  }
 },
 "nbformat": 4,
 "nbformat_minor": 5
}
