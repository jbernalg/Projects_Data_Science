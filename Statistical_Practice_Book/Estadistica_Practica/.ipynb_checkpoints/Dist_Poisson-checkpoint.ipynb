{
 "cells": [
  {
   "cell_type": "markdown",
   "id": "b0e3b021",
   "metadata": {},
   "source": [
    "# Todo sobre la Distribucion de Poisson"
   ]
  },
  {
   "cell_type": "code",
   "execution_count": null,
   "id": "6255a02a",
   "metadata": {},
   "outputs": [],
   "source": []
  },
  {
   "cell_type": "markdown",
   "id": "144d8195",
   "metadata": {},
   "source": [
    "Es una D. de probabilidad discreta que describe el numero de eventos que ocurren en un intervalo fijo de tiempo o espacio. Fue creada por el matemático y filósofo francés del siglo XVII Simeón-Denis Poisson en su proyecto para modelar la frecuencia de eventos durante un rango de tiempo determinado. Esta distribución la hizo pública en el año 1838 en su trabajo “Investigación sobre la probabilidad de los juicios en materias criminales y civiles”.\n",
    "\n",
    "\n",
    "Tiene multiples aplicaciones en ciencia de datos, especialemente en situaciones donde se modela el numero de eventos discretos que ocurren en un intervalo continuo. Algunas aplicaciones comunes son:\n",
    "\n",
    "- **Modelado de conteo de eventos**: numero de llamadas que recibira un call center en una hora especifica, numero de clientes que llegan a un banco en un intervalo de tiempo, entre otros.\n",
    "\n",
    "- **Analisis de fallo**: Predecir el numero de fallos que ocurren en una maquina o sistema durante un periodo de tiempo.\n",
    "\n",
    "- **Marketing y negocios**: numero de conversiones en un sitio web en un tiempo dado, numero de respuestas a una campana de correo electronico por dia, entre otros.\n",
    "\n",
    "\n"
   ]
  },
  {
   "cell_type": "markdown",
   "id": "7a0a425a",
   "metadata": {},
   "source": [
    "## Supuestos de la D. de Poisson"
   ]
  },
  {
   "cell_type": "markdown",
   "id": "79d5c6fe",
   "metadata": {},
   "source": [
    "Para determinar si un problema puede resolverse mediante esta distribucion, se deben cumplir los siguientes **Supuestos**:\n",
    "\n",
    "#### 1.- Variable discreta: \n",
    "La variable aleatoria es el numero de veces que ocurre un evento durante un intervalo definido. El intervalo puede ser de tiempo, distancia, area, volumen o alguna unidad similar\n",
    "\n",
    "#### 2.- Tasa constante: \n",
    "La probabilidad de ocurrencia es la misma para cualesquiera dos intervalos de igual longitud. En otras palabras, la tasa teorica con la que ocurren los eventos es constante. Si la tasa de ocurrencia es de 4 eventos por dia, esto no quiere decir que cada dia ocurran 4 eventos, sino que se espera que sean 4. Es decir, un dia pueden suceder 2 eventos, otro dia 6 eventos, y asi sucesivamente, pero al promediar los eventos de todos los dias, arrojara una tasa de 4.\n",
    "    \n",
    "#### 3.- Eventos independientes: \n",
    "La ocurrencia o no ocurrencia en cualquier intervalo es independiente de la ocurrencia o no ocurrencia en cualquier otro intervalo. Es decir, las ocurrencias de los eventos son independientes. El hecho de que ocurra un evento en un intervalo definido no aumenta o disminuye la probabilidad de que ocurra otro evento en el mismo intervalo.\n",
    "    \n",
    "#### 4.- Eventos unicos: \n",
    "Dos eventos no pueden ocurrir exactamente al mismo tiempo\n",
    "\n",
    "Si se cumplen estos supuestos, podemos decir que la variable aleatoria discreta $X$ siguen una D. de Poisson. "
   ]
  },
  {
   "cell_type": "markdown",
   "id": "f84c7c7d",
   "metadata": {},
   "source": [
    "## Funcion de Densidad de Probabilidad"
   ]
  },
  {
   "attachments": {
    "image.png": {
     "image/png": "[encoded data removed]"
    }
   },
   "cell_type": "markdown",
   "id": "381c7b6f",
   "metadata": {},
   "source": [
    "La funcion de la D. de Poisson viene dada por:\n",
    "\n",
    "$$f(x) = P(X=x) = \\frac{e^{-\\mu}\\cdot \\mu^x}{x!}$$\n",
    "\n",
    "donde: \n",
    "- $\\mu$ es la tasa de ocurrencia y es mayor que cero.\n",
    "- $x$ es el numero de eventos y toma valores enteros mayores a cero.\n",
    "- $P(X=x)$ es la probabilidad de $x$ ocurrencias en un intervalo.\n",
    "\n",
    "La grafica de la D. de Poisson con $\\mu = 1$ viene dada por:\n",
    "\n",
    "![image.png](attachment:image.png)\n"
   ]
  }
 ],
 "metadata": {
  "kernelspec": {
   "display_name": "Python 3 (ipykernel)",
   "language": "python",
   "name": "python3"
  },
  "language_info": {
   "codemirror_mode": {
    "name": "ipython",
    "version": 3
   },
   "file_extension": ".py",
   "mimetype": "text/x-python",
   "name": "python",
   "nbconvert_exporter": "python",
   "pygments_lexer": "ipython3",
   "version": "3.9.12"
  }
 },
 "nbformat": 4,
 "nbformat_minor": 5
}
