{
 "cells": [
  {
   "cell_type": "markdown",
   "id": "b0e3b021",
   "metadata": {},
   "source": [
    "# Todo sobre la Distribución de Poisson"
   ]
  },
  {
   "cell_type": "code",
   "execution_count": null,
   "id": "6255a02a",
   "metadata": {},
   "outputs": [],
   "source": []
  },
  {
   "cell_type": "markdown",
   "id": "144d8195",
   "metadata": {},
   "source": [
    "Es una D. de probabilidad discreta que describe el número de eventos que ocurren en un intervalo fijo de tiempo o espacio.Tiene múltiples aplicaciones en ciencia de datos, especialemente en situaciones donde se modela el número de eventos discretos que ocurren en un intervalo contínuo. Algunas aplicaciones comunes son:\n",
    "\n",
    "- **Modelado de conteo de eventos**: Número de llamadas que recibe un call center en una hora específica, número de clientes que llegan a un banco en un intervalo de tiempo, entre otros.\n",
    "\n",
    "- **Análisis de fallo**: Predecir el número de fallos que ocurren en una máquina o sistema durante un periodo de tiempo.\n",
    "\n",
    "- **Marketing y negocios**: Número de conversiones en un sitio web en un tiempo dado, número de respuestas a una campaña de correo electronico por día, entre otros.\n",
    "\n",
    "\n"
   ]
  },
  {
   "cell_type": "markdown",
   "id": "7a0a425a",
   "metadata": {},
   "source": [
    "## Supuestos de la D. de Poisson"
   ]
  },
  {
   "cell_type": "markdown",
   "id": "79d5c6fe",
   "metadata": {},
   "source": [
    "Para determinar si un problema puede resolverse mediante esta distribución, se deben cumplir los siguientes **Supuestos**:\n",
    "\n",
    "#### 1.- Variable discreta: \n",
    "La variable aleatoria es el número de veces que ocurre un evento durante un intervalo definido. El intervalo puede ser de tiempo, distancia, área, volumen o alguna unidad similar.\n",
    "\n",
    "#### 2.- Tasa constante: \n",
    "La probabilidad de ocurrencia es la misma para cualesquiera dos intervalos de igual longitud. En otras palabras, la tasa teórica con la que ocurren los eventos es constante. Si la tasa de ocurrencia es de 4 eventos por día, esto no quiere decir que cada día ocurran 4 eventos, sino que se espera que sean 4. Es decir, un día pueden suceder 2 eventos, otro día 6 eventos, y así sucesivamente, pero al promediar los eventos de todos los días, arrojara una tasa de 4.\n",
    "    \n",
    "#### 3.- Eventos independientes: \n",
    "La ocurrencia o no ocurrencia en cualquier intervalo es independiente de la ocurrencia o no ocurrencia en cualquier otro intervalo. Es decir, las ocurrencias de los eventos son independientes. El hecho de que ocurra un evento en un intervalo definido no aumenta o disminuye la probabilidad de que ocurra otro evento en el mismo intervalo.\n",
    "    \n",
    "#### 4.- Eventos únicos: \n",
    "Dos eventos no pueden ocurrir exactamente al mismo tiempo.\n",
    "\n",
    "Si se cumplen estos supuestos, podemos decir que la variable aleatoria discreta $X$ sigue una D. de Poisson. "
   ]
  },
  {
   "cell_type": "markdown",
   "id": "5d0c5d42",
   "metadata": {},
   "source": [
    "## Deducción de la Distribución de Poisson"
   ]
  },
  {
   "cell_type": "markdown",
   "id": "aea28cdd",
   "metadata": {},
   "source": [
    "La D. binomial describe el número de éxitos en una serie de eventos independientes, cada uno con probabilidad de éxito fija.\n",
    "\n",
    "La D. de Poisson describe el número de eventos que ocurren en un intervalo de tiempo o espacio fijo cuando estos eventos ocurren con una tasa promedio constante y son independientes entre sí.\n",
    "\n",
    "La D. Binomial  $B(n,p)$ se puede aproximar a una D. de Poisson $P(n, \\lambda)$ bajo las siguiente condiciones:\n",
    "\n",
    "- $n$ es muy grande $n\\rightarrow \\infty$. Se considera valores grandes de $n$ mayores a 70.\n",
    "- $p$ es muy pequeño $p \\rightarrow 0$. Esto corresponde a un evento raro o poco común.\n",
    "- El producto $np = \\lambda$ es constante y finito. Ideal para un valor de $np$ menor a 10.\n",
    "\n",
    "Considerémos una variable aleatoria $X$ que sigue una D. Binomial en el que los eventos ocurren con una probabilidad muy pequeña ($p \\rightarrow 0$) en un gran número de ensayos ($n\\rightarrow \\infty$).\n",
    "\n",
    "$$X \\sim B(n,p)$$\n",
    "\n",
    "Veamos el paso a paso de cómo llegar a la D. de Poisson a partir de la D. Binomial:\n",
    "\n",
    "1.- Tenemos la función de la D. Binomial y su respectiva esperanza matemática:\n",
    "$$P(X=x)=\\binom{n}{x}p^{x}(1-p)^{(n-x)}$$\n",
    "$$E(x) = np$$\n",
    "\n",
    "2.- Supongamos el que producto $np$ es constante y lo asumimos como la tasa de ocurrencia de la D. de Poisson.\n",
    "    $$\\mu = np$$\n",
    "Redefinimos la probabilidad de exito $p$:\n",
    "    $$p = \\frac{\\mu}{n}$$\n",
    "\n",
    "3.- Desarrollamos el factorial y sustituimos la nueva definición de $p$ en la función binomial\n",
    "$$P(X=x) = \\frac{n!}{x!(n-x)!}\\left ( \\frac{\\mu}{n} \\right )^x\\left ( 1-\\frac{\\mu}{n} \\right )^{n-x}$$\n",
    "\n",
    "4.- Evaluamos el comportamiento de la función cuando $n$ tiende a infinito\n",
    "$$\\lim_{n\\rightarrow \\infty} \\frac{n!}{x!(n-x)!}\\left ( \\frac{\\mu}{n} \\right )^x\\left ( 1-\\frac{\\mu}{n} \\right )^{n-x}$$\n",
    "\n",
    "5.- Desarrollamos el factorial de $n$ y cancelamos términos comunes\n",
    "\n",
    "$$\\lim_{n\\rightarrow \\infty} \\frac{n(n-1)(n-2)\\cdot \\cdot \\cdot (n-x+1)(n-x)!}{x!(n-x)!}\\left ( \\frac{\\mu}{n} \\right )^x\\left ( 1-\\frac{\\mu}{n} \\right )^{n-x}$$\n",
    "\n",
    "$$\\lim_{n\\rightarrow \\infty} \\frac{n(n-1)(n-2)\\cdot \\cdot \\cdot (n-x+1)}{x!}\\frac{\\mu^{x}}{n^{x}}\\left ( 1-\\frac{\\mu}{n} \\right )^{n-x}$$\n",
    "\n",
    "6.- Sacamos del límite los términos que no contienen $n$\n",
    "\n",
    "$$\\frac{\\mu^{x}}{x!}\\lim_{n\\rightarrow \\infty} \\frac{n(n-1)(n-2)\\cdot \\cdot \\cdot (n-x+1)}{n^{x}}\\left ( 1-\\frac{\\mu}{n} \\right )^{n-x}$$\n",
    "\n",
    "7.- En el numerador hay $x$ términos mientras que en el denominador hay $x$ veces $n$, por tanto, podemos cancelar los términos $n$ de la fracción quedando de la siguiente forma:\n",
    "\n",
    "$$\\frac{\\mu^{x}}{x!}\\lim_{n\\rightarrow \\infty} \\left ( \\frac{n-1}{n} \\right )\\left ( \\frac{n-2}{n} \\right )\\cdot \\cdot \\cdot \\left ( \\frac{n-x+1}{n} \\right )\\left ( 1 -\\frac{\\mu}{n} \\right )^{n-x}$$\n",
    "\n",
    "8.- Reorganizando los valores de cada término nos queda:\n",
    "\n",
    "$$\\frac{\\mu^{x}}{x!}\\lim_{n\\rightarrow \\infty} \\left ( 1-\\frac{1}{n} \\right )\\left ( 1-\\frac{2}{n} \\right )\\cdot \\cdot \\cdot \\left ( 1-\\frac{x-1}{n} \\right )\\left ( 1 -\\frac{\\mu}{n} \\right )^{n-x}$$\n",
    "\n",
    "9.- Separando el último término en sus exponentes nos queda:\n",
    "\n",
    "$$\\frac{\\mu^{x}}{x!}\\lim_{n\\rightarrow \\infty} \\left ( 1-\\frac{1}{n} \\right )\\left ( 1-\\frac{2}{n} \\right )\\cdot \\cdot \\cdot \\left ( 1-\\frac{x-1}{n} \\right )\\left ( 1 -\\frac{\\mu}{n} \\right )^{n} \\left ( 1 -\\frac{\\mu}{n} \\right )^{-x}$$\n",
    "\n",
    "10.- Al evaluar el límite cuando n tiende a infinito, los términos toman el valor 1, excepto el término\n",
    "\n",
    "$$\\left ( 1 -\\frac{\\mu}{n} \\right )^{n}$$\n",
    "\n",
    "el cual, toma el valor de $e^{-\\mu}$\n",
    "\n",
    "$$\\lim_{n\\rightarrow \\infty} \\left ( 1 -\\frac{\\mu}{n} \\right )^{n} \\sim e^{-\\mu}$$\n",
    "\n",
    "De esta manera llegamos a la función de la D. de Poisson:\n",
    "\n",
    "$$P(X=x) =  \\frac{e^{-\\mu}\\cdot \\mu^x}{x!}$$\n"
   ]
  },
  {
   "cell_type": "code",
   "execution_count": null,
   "id": "06ea2d80",
   "metadata": {},
   "outputs": [],
   "source": []
  },
  {
   "cell_type": "markdown",
   "id": "f84c7c7d",
   "metadata": {},
   "source": [
    "## Funcion de Densidad de Probabilidad"
   ]
  },
  {
   "attachments": {
    "image.png": {
     "image/png": "[encoded data removed]"
    }
   },
   "cell_type": "markdown",
   "id": "381c7b6f",
   "metadata": {},
   "source": [
    "La funcion de la D. de Poisson viene dada por:\n",
    "\n",
    "\n",
    "$$f(x) = P(X=x) = \\left\\{\\begin{matrix}\n",
    " & \\frac{e^{-\\mu}\\cdot \\mu^x}{x!} & si & x>0\\\\ \n",
    " & 0 & si & x<0 \n",
    "\\end{matrix}\\right.$$\n",
    "\n",
    "donde: \n",
    "- $\\mu$ es la tasa de ocurrencia y es mayor que cero.\n",
    "- $x$ es el numero de eventos y toma valores enteros mayores a cero.\n",
    "- $P(X=x)$ es la probabilidad de $x$ ocurrencias en un intervalo.\n",
    "\n",
    "La grafica de la D. de Poisson con $\\mu = 1$ viene dada por:\n",
    "\n",
    "![image.png](attachment:image.png)\n",
    "\n",
    "Vamos a desarrollar varios ejemplos para comprender esta Distribución desde las condiciones a cumplir hasta su implementacion matematica y con Python."
   ]
  },
  {
   "cell_type": "code",
   "execution_count": null,
   "id": "79a1d5cd",
   "metadata": {},
   "outputs": [],
   "source": []
  },
  {
   "cell_type": "markdown",
   "id": "f4042c86",
   "metadata": {},
   "source": [
    "## Parametros de la Distribucion de Poisson"
   ]
  },
  {
   "cell_type": "markdown",
   "id": "7b6df195",
   "metadata": {},
   "source": [
    "- La media ($\\mu$) o esperanza matematica $E(x)$ de esta distribucion viene dada por:\n",
    "$$E(x) = \\mu$$\n",
    "\n",
    "- La varianza ($\\sigma^2$) o varianza matematica $V(x)$ viene dada por:\n",
    "$$V(x) = \\mu$$\n",
    "\n",
    "- La desviacion estandar ($\\sigma$) viene dada por\n",
    "$$\\sigma = \\sqrt{V(x)} = \\sqrt{\\mu}$$"
   ]
  },
  {
   "cell_type": "code",
   "execution_count": null,
   "id": "558ca873",
   "metadata": {},
   "outputs": [],
   "source": []
  },
  {
   "cell_type": "markdown",
   "id": "76fc35e9",
   "metadata": {},
   "source": [
    "## Ejemplo 1: *Una veterinaria recibre un promedio de 4 pacientes al dia. Sabiendo que el numero de pacientes que llegan en un dia sigue una distribucion de Poisson, Calcular*"
   ]
  },
  {
   "cell_type": "markdown",
   "id": "b4d9c510",
   "metadata": {},
   "source": [
    "### a.- La probabilidad que lleguen 3 pacientes en un dia"
   ]
  },
  {
   "attachments": {
    "image.png": {
     "image/png": "[encoded data removed]"
    }
   },
   "cell_type": "markdown",
   "id": "fd17878c",
   "metadata": {},
   "source": [
    "Sabemos que la variable $X$ es el numero de pacientes que llegan a la veterinaria en 1 dia y sigue una D. de Poisson:\n",
    "$$X \\sim Poisson(\\mu)$$\n",
    "\n",
    "El promedio de pacientes al dia es de 4 y representa la tasa de ocurrencia \n",
    "$$\\mu = 4$$\n",
    "\n",
    "Nos piden calcular la probabilidad de que lleguen 3 pacientes en un dia ($x = 3$), por tanto, utilizamos la funcion de densidad de probabilidad de Poisson que viene dada por:\n",
    "\n",
    "$$f(x) = P(X=x) = \\frac{e^{-\\mu}\\cdot \\mu^x}{x!}$$\n",
    "\n",
    "Sustituyendo los valores de $x$ y $\\mu$ tenemos:\n",
    "\n",
    "$$P(X=3) = \\frac{e^{-4}\\cdot 4^3}{3!}$$\n",
    "\n",
    "Graficamente se trata de encontrar el valor de altura de la barra 3\n",
    "\n",
    "![image.png](attachment:image.png)\n",
    "\n",
    "Ahora, solo nos queda calcular las operaciones matematicas, para ello, vamos a utilizar algunas librerias de Python"
   ]
  },
  {
   "cell_type": "code",
   "execution_count": 6,
   "id": "c014ba34",
   "metadata": {},
   "outputs": [],
   "source": [
    "# libreria para calcular factoriales y exponenciales\n",
    "import math"
   ]
  },
  {
   "cell_type": "code",
   "execution_count": 7,
   "id": "eb184744",
   "metadata": {},
   "outputs": [
    {
     "data": {
      "text/plain": [
       "0.1954"
      ]
     },
     "execution_count": 7,
     "metadata": {},
     "output_type": "execute_result"
    }
   ],
   "source": [
    "# parametros de la D.\n",
    "\n",
    "# tasa de ocurrencia\n",
    "miu = 4\n",
    "\n",
    "# casos buscado\n",
    "x = 3\n",
    "\n",
    "# Calculo de la probabilidad con la formula\n",
    "prob = (math.exp(-miu)*(miu)**x)/(math.factorial(3))\n",
    "prob = round(prob, 4)\n",
    "prob"
   ]
  },
  {
   "cell_type": "markdown",
   "id": "0ac7f0a9",
   "metadata": {},
   "source": [
    "> La probabilidad que lleguen 3 pacientes en un dia es de 19.54%"
   ]
  },
  {
   "cell_type": "markdown",
   "id": "ac49bc2a",
   "metadata": {},
   "source": [
    "### b.- Probabilidad de que lleguen 5 pacientes en un dia"
   ]
  },
  {
   "attachments": {
    "image.png": {
     "image/png": "[encoded data removed]"
    }
   },
   "cell_type": "markdown",
   "id": "088d6f3e",
   "metadata": {},
   "source": [
    "Con la misma tasa de ocurrencia ($\\mu = 4$), calcular la probabilidad de que lleguen a la veterinaria 5 pacientes al dia, es decir:\n",
    "\n",
    "$$P(X = 5)$$\n",
    "\n",
    "Graficamente, se trata de calcular la altura de la barra 5\n",
    "\n",
    "![image.png](attachment:image.png)\n",
    "\n",
    "En este caso, vamos a utilizar el metodo de densidad de probabilidad (PMF) que trae la D. de Poisson en la libreria Stats de Python ya que permite realizar el calculo de manera mas simple."
   ]
  },
  {
   "cell_type": "code",
   "execution_count": 8,
   "id": "4d694215",
   "metadata": {},
   "outputs": [],
   "source": [
    "# libreria para calcular la D. poisson\n",
    "from scipy.stats import poisson"
   ]
  },
  {
   "cell_type": "code",
   "execution_count": 9,
   "id": "3c5da3c3",
   "metadata": {},
   "outputs": [],
   "source": [
    "# parametros de la D.\n",
    "\n",
    "# tasa de ocurrencia\n",
    "miu = 4\n",
    "\n",
    "# casos buscado\n",
    "x = 5"
   ]
  },
  {
   "cell_type": "markdown",
   "id": "dcc7e204",
   "metadata": {},
   "source": [
    "Calculamos la probabilidad del valor dado, utilizando el metodo PMF de la D. de Poisson."
   ]
  },
  {
   "cell_type": "code",
   "execution_count": 10,
   "id": "814c571f",
   "metadata": {},
   "outputs": [
    {
     "data": {
      "text/plain": [
       "0.1563"
      ]
     },
     "execution_count": 10,
     "metadata": {},
     "output_type": "execute_result"
    }
   ],
   "source": [
    "prob = poisson.pmf(x, miu)\n",
    "prob = round(prob, 4)\n",
    "prob"
   ]
  },
  {
   "cell_type": "markdown",
   "id": "38dff19b",
   "metadata": {},
   "source": [
    "> La probabilidad que lleguen 5 pacientes a la veterinaria de de 15.63%"
   ]
  },
  {
   "cell_type": "markdown",
   "id": "3e8bf939",
   "metadata": {},
   "source": [
    "### c.- Probabilidad de que lleguen a la veterinaria menos 6 pacientes al dia "
   ]
  },
  {
   "attachments": {
    "image.png": {
     "image/png": "[encoded data removed]"
    }
   },
   "cell_type": "markdown",
   "id": "f225b281",
   "metadata": {},
   "source": [
    "En este caso, nos piden calcular la probabilidad acumulada desde 0 pacientes hasta 5, ya que 6 pacientes no cuenta. Graficamente se trata de calcular el area sombreada\n",
    "\n",
    "![image.png](attachment:image.png)\n",
    "\n",
    "Para obtener tal probabilidad, debemos calcular la probabilidad para cada numero de pacientes y luego sumar todas:\n",
    "\n",
    "$$P(X < 6) = P(X=0) + P(X=1) + P(X=2) + P(X=3) + P(X=4) + P(X=5)$$\n",
    "\n",
    "Vamos a calcular cada probabilidad con el metodo PMF de la D. de Poisson"
   ]
  },
  {
   "cell_type": "code",
   "execution_count": 11,
   "id": "3cdb1925",
   "metadata": {},
   "outputs": [],
   "source": [
    "# parametros de la D.\n",
    "\n",
    "# tasa de ocurrencia\n",
    "miu = 4\n",
    "\n",
    "# caso limite\n",
    "x = 5"
   ]
  },
  {
   "cell_type": "code",
   "execution_count": 12,
   "id": "00b61eb1",
   "metadata": {},
   "outputs": [],
   "source": [
    "# calculo de probabilidades con PMF\n",
    "P_0 = poisson.pmf(0, miu)\n",
    "P_1 = poisson.pmf(1, miu)\n",
    "P_2 = poisson.pmf(2, miu)\n",
    "P_3 = poisson.pmf(3, miu)\n",
    "P_4 = poisson.pmf(4, miu)\n",
    "P_5 = poisson.pmf(5, miu)"
   ]
  },
  {
   "cell_type": "markdown",
   "id": "f7526bbb",
   "metadata": {},
   "source": [
    "Ahora sumamos todas las probabilidades y obtenemos el resultado"
   ]
  },
  {
   "cell_type": "code",
   "execution_count": 13,
   "id": "19171add",
   "metadata": {},
   "outputs": [
    {
     "data": {
      "text/plain": [
       "0.7851"
      ]
     },
     "execution_count": 13,
     "metadata": {},
     "output_type": "execute_result"
    }
   ],
   "source": [
    "# suma de todas las probabilidades\n",
    "prob = P_0 + P_1 + P_2 + P_3 + P_4 + P_5\n",
    "prob = round(prob, 4)\n",
    "prob"
   ]
  },
  {
   "cell_type": "markdown",
   "id": "57f25821",
   "metadata": {},
   "source": [
    "> La probabilidad de que lleguen menos de 6 pacientes es de 78.51%"
   ]
  },
  {
   "cell_type": "markdown",
   "id": "44ec221e",
   "metadata": {},
   "source": [
    "### d.- Probabilidad de que lleguen menos de 4 pacientes al dia."
   ]
  },
  {
   "attachments": {
    "image.png": {
     "image/png": "[encoded data removed]"
    }
   },
   "cell_type": "markdown",
   "id": "5078be0e",
   "metadata": {},
   "source": [
    "Nos piden calcular la probabilidad de que lleguen de 0 a 3 pacientes a la veterinaria, similar al calculo anterior. \n",
    "$$P(X \\leq 3)$$\n",
    "Graficamente es calcular el area sombreada\n",
    "\n",
    "![image.png](attachment:image.png)\n",
    "\n",
    "Podemnos resolverlo como lo antes visto o utilizar el metodo de calculo de probabilidad acumulada (CDF) de la D. de Poisson dado por la libreria Stats que suma la probabilidad desde 0 hasta el valor limite de casos.\n"
   ]
  },
  {
   "cell_type": "code",
   "execution_count": 14,
   "id": "b69c6940",
   "metadata": {},
   "outputs": [],
   "source": [
    "# parametros de la D.\n",
    "\n",
    "# tasa de ocurrencia\n",
    "miu = 4\n",
    "\n",
    "# caso limite\n",
    "x = 3"
   ]
  },
  {
   "cell_type": "code",
   "execution_count": 15,
   "id": "7599ea57",
   "metadata": {},
   "outputs": [
    {
     "data": {
      "text/plain": [
       "0.4335"
      ]
     },
     "execution_count": 15,
     "metadata": {},
     "output_type": "execute_result"
    }
   ],
   "source": [
    "# calculo de la probabilidad acumulada hasta x = 3\n",
    "prob = poisson.cdf(x, miu)\n",
    "prob = round(prob, 4)\n",
    "prob"
   ]
  },
  {
   "cell_type": "markdown",
   "id": "9b1f288e",
   "metadata": {},
   "source": [
    "> La probabilidad que lleguen menos de 4 pacientes es de 43.35%"
   ]
  },
  {
   "cell_type": "markdown",
   "id": "c84fd881",
   "metadata": {},
   "source": [
    "## Ejemplo 2: *Cada año ocurre un promedio de 24 accidentes aereos.*"
   ]
  },
  {
   "cell_type": "markdown",
   "id": "3a01f00e",
   "metadata": {},
   "source": [
    "### a.- Calcula la probabilidad de que ocurra exactamente un accidente en un mes"
   ]
  },
  {
   "attachments": {
    "image.png": {
     "image/png": "[encoded data removed]"
    }
   },
   "cell_type": "markdown",
   "id": "57dcbda7",
   "metadata": {},
   "source": [
    "La variables $X$ representa el numero de accidentes aereos en un mes. El valor objetivo a buscar es de 1 accidente al mes. \n",
    "$$x=1$$\n",
    "Para obtener la tasa de ocurrencia en un mes, debemos dividir el promedio de accidentes de un año por el numero total de meses:\n",
    "$$\\mu = \\frac{24}{12} = 2$$\n",
    "\n",
    "Graficamente se trata de calcular la altura de la barra 1\n",
    "![image.png](attachment:image.png)\n",
    "\n",
    "Ahora, calculamos la probabilidad de que ocurra 1 accidente en un mes:\n",
    "$$P(X = 1)$$"
   ]
  },
  {
   "cell_type": "code",
   "execution_count": 16,
   "id": "a2a42020",
   "metadata": {},
   "outputs": [],
   "source": [
    "# parametros de la D.\n",
    "\n",
    "# tasa de ocurrencia\n",
    "miu = 2\n",
    "\n",
    "# casos buscado\n",
    "x = 1"
   ]
  },
  {
   "cell_type": "code",
   "execution_count": 17,
   "id": "edd3043e",
   "metadata": {},
   "outputs": [
    {
     "data": {
      "text/plain": [
       "0.2707"
      ]
     },
     "execution_count": 17,
     "metadata": {},
     "output_type": "execute_result"
    }
   ],
   "source": [
    "# Calcular probabilidad para un valor especifico\n",
    "prob = poisson.pmf(x, miu)\n",
    "prob = round(prob, 4)\n",
    "prob"
   ]
  },
  {
   "cell_type": "markdown",
   "id": "8bf4f5a0",
   "metadata": {},
   "source": [
    "> La probabilidad de que ocurra un accidente al mes es de 27.07%"
   ]
  },
  {
   "cell_type": "markdown",
   "id": "62caf165",
   "metadata": {},
   "source": [
    "### b.- Probabilidad de que ocurran al menos 16 accidentes aereos al año"
   ]
  },
  {
   "attachments": {
    "image.png": {
     "image/png": "[encoded data removed]"
    }
   },
   "cell_type": "markdown",
   "id": "613f6322",
   "metadata": {},
   "source": [
    "Debemos tener en cuenta que la tasa de ocurrencia no es la misma que en el caso anterior. Se habla de año y no de mes, por tanto\n",
    "\n",
    "$$\\mu_{año} = 24$$\n",
    "\n",
    "Nos piden calcular la probabilidad de que, como minimo, ocurran 10 accidentes por lo que pueden ser mucho mas, es decir \n",
    "\n",
    "$$P(X \\geq 16)$$\n",
    "\n",
    "Graficamente se muestra como sigue:\n",
    "\n",
    "![image.png](attachment:image.png)\n",
    "\n",
    "Esto es igual a calcular las probabilidades de cada accidente desde 16 hasta infinito. Sin embargo, como no es posible hacer dicho calculo, realizamos la siguiente operacion\n",
    "\n",
    "$$P(X \\geq 10) = 1 - P(X < 16)$$\n",
    "\n",
    "Esto se puede realizar ya que se asume que el area total de la D. de Poisson es de 1. Ahora, para resolverlo solo queda calcular la probabilidad de cada accidente desde 0 hasta 15, sumarlas y restar el resultado a 1. O podemos utilizar el metodo de probabilidad acumulada de la D. de Poisson visto anteriormente para facilitar el calculo"
   ]
  },
  {
   "cell_type": "code",
   "execution_count": 18,
   "id": "c49052f0",
   "metadata": {},
   "outputs": [],
   "source": [
    "# parametros de la D.\n",
    "\n",
    "# tasa de ocurrencia\n",
    "miu = 24\n",
    "\n",
    "# casos buscado\n",
    "x = 15"
   ]
  },
  {
   "cell_type": "code",
   "execution_count": 19,
   "id": "35d48844",
   "metadata": {},
   "outputs": [
    {
     "data": {
      "text/plain": [
       "0.0344"
      ]
     },
     "execution_count": 19,
     "metadata": {},
     "output_type": "execute_result"
    }
   ],
   "source": [
    "# calculo de la probabilidad acumulada hasta 15\n",
    "prob = poisson.cdf(x, miu)\n",
    "prob = round(prob, 4)\n",
    "prob"
   ]
  },
  {
   "cell_type": "markdown",
   "id": "77018b2e",
   "metadata": {},
   "source": [
    "Ahora, restamos a 1 el resultado obtenido"
   ]
  },
  {
   "cell_type": "code",
   "execution_count": 20,
   "id": "90bfb28b",
   "metadata": {},
   "outputs": [
    {
     "data": {
      "text/plain": [
       "0.9656"
      ]
     },
     "execution_count": 20,
     "metadata": {},
     "output_type": "execute_result"
    }
   ],
   "source": [
    "probab = 1 - prob\n",
    "probab"
   ]
  },
  {
   "cell_type": "markdown",
   "id": "03071100",
   "metadata": {},
   "source": [
    "> La probabilidad de que hayan al menos 16 accidentes al año es de 97.04%.\n",
    "\n",
    "> Notemos que a medida que $\\mu$ aumenta, la D. de Poisson tiende a una D. Normal."
   ]
  },
  {
   "cell_type": "code",
   "execution_count": null,
   "id": "d1930e4b",
   "metadata": {},
   "outputs": [],
   "source": []
  },
  {
   "cell_type": "markdown",
   "id": "299aa86c",
   "metadata": {},
   "source": [
    "## Ejemplo 3: *En un hospital se esta estudiando los nacimientos de bebes varones. Se sabe que en una semana nacen una media de 7 varones. Calcular*"
   ]
  },
  {
   "cell_type": "markdown",
   "id": "e3d8e2b1",
   "metadata": {},
   "source": [
    "### a.- La probabilidad de que nazcan 3 varones en una semana."
   ]
  },
  {
   "attachments": {
    "image-2.png": {
     "image/png": "[encoded data removed]"
    }
   },
   "cell_type": "markdown",
   "id": "41f12953",
   "metadata": {},
   "source": [
    "La variable $X$ representa en nacimiento de varones en una semana. el valor objetivo es de 3 varones en una semana:\n",
    "$$x = 3$$\n",
    "\n",
    "La tasa de ocurrencia viene representado por la media de varones nacidos en una semana que es de 7 $$\\mu = 7$$\n",
    "\n",
    "Nos piden calcular la probabilidad que nazcan 3 varones en una semana.\n",
    "$$P(X = 3)$$\n",
    "\n",
    "Graficamente, nos piden calcular la probabilidad que corresponde a la barra 3\n",
    "\n",
    "![image-2.png](attachment:image-2.png)\n",
    "\n",
    "Vamos a utilizar el metodo PMF de la D. de Poisson para calcular la probabilidad solicitada."
   ]
  },
  {
   "cell_type": "code",
   "execution_count": 21,
   "id": "8ccb3f7a",
   "metadata": {},
   "outputs": [],
   "source": [
    "# parametros de la D.\n",
    "\n",
    "# tasa de ocurrencia\n",
    "miu = 7\n",
    "\n",
    "# casos buscado\n",
    "x = 3"
   ]
  },
  {
   "cell_type": "code",
   "execution_count": 22,
   "id": "ca6fe1ba",
   "metadata": {},
   "outputs": [
    {
     "data": {
      "text/plain": [
       "0.0521"
      ]
     },
     "execution_count": 22,
     "metadata": {},
     "output_type": "execute_result"
    }
   ],
   "source": [
    "prob = poisson.pmf(x, miu)\n",
    "prob = round(prob, 4)\n",
    "prob"
   ]
  },
  {
   "cell_type": "markdown",
   "id": "59f56980",
   "metadata": {},
   "source": [
    "> La probabilidad que nazcan 3 varones en una semana es de 5.21%."
   ]
  },
  {
   "cell_type": "markdown",
   "id": "a16f9c2b",
   "metadata": {},
   "source": [
    "### b.- La probabilidad que nazcan menos de 3 varones a la semana"
   ]
  },
  {
   "attachments": {
    "image-2.png": {
     "image/png": "[encoded data removed]"
    }
   },
   "cell_type": "markdown",
   "id": "0e5a09b2",
   "metadata": {},
   "source": [
    "En este caso nos piden calcular la probabilidad acumulada desde 0 hasta 2, ya que el 3 no cuenta. Graficamente se muestra con el area sombreada\n",
    "\n",
    "![image-2.png](attachment:image-2.png)\n",
    "\n",
    "Para obtener dicho valor, utilizamos el metodo CDF de la D. de Poisson que nos permite calcular la probabilidad acumulada."
   ]
  },
  {
   "cell_type": "code",
   "execution_count": 23,
   "id": "9a122c53",
   "metadata": {},
   "outputs": [],
   "source": [
    "# parametros de la D.\n",
    "\n",
    "# tasa de ocurrencia\n",
    "miu = 7\n",
    "\n",
    "# caso limite\n",
    "x = 2"
   ]
  },
  {
   "cell_type": "code",
   "execution_count": 24,
   "id": "f1d3a7e2",
   "metadata": {},
   "outputs": [
    {
     "data": {
      "text/plain": [
       "0.0296"
      ]
     },
     "execution_count": 24,
     "metadata": {},
     "output_type": "execute_result"
    }
   ],
   "source": [
    "# calculo de la probabilidad acumulada\n",
    "prob = poisson.cdf(x, miu)\n",
    "prob = round(prob, 4)\n",
    "prob"
   ]
  },
  {
   "cell_type": "markdown",
   "id": "04de936c",
   "metadata": {},
   "source": [
    "> La probabilidad que nazcan menos de 3 varones en una semana es de 8.18%"
   ]
  },
  {
   "cell_type": "code",
   "execution_count": null,
   "id": "3cf3f7ab",
   "metadata": {},
   "outputs": [],
   "source": []
  },
  {
   "cell_type": "markdown",
   "id": "983d3875",
   "metadata": {},
   "source": [
    "## Ejemplo 4: *Un vendedor de seguros de vida vende en promedio 3 polizas por semana. Calcular la probabilidad de:*"
   ]
  },
  {
   "cell_type": "markdown",
   "id": "a604cf71",
   "metadata": {},
   "source": [
    "### a.- Que venda algunas polizas en una semana"
   ]
  },
  {
   "attachments": {
    "image.png": {
     "image/png": "[encoded data removed]"
    }
   },
   "cell_type": "markdown",
   "id": "6852cd71",
   "metadata": {},
   "source": [
    "Vemos que se trata de una D. de Poisson ya que la variable $X$ representa los seguros vendidos en una semana\n",
    "\n",
    "$$X \\sim Poisson(\\mu)$$\n",
    "\n",
    "En promedio, el vendedor vende 3 polizas por semana lo que representa la tasa de ocurrencia:\n",
    "\n",
    "$$\\mu = 3$$\n",
    "\n",
    "Nos piden calcular la probabilidad de que se venda al menos una o mas poliza, es decir,\n",
    "\n",
    "$$P(X>0) = P(X=1) + P(X=2) + \\cdot \\cdot \\cdot P(X = \\infty)$$\n",
    "\n",
    "Graficamente, consiste en calcular el area sombreada\n",
    "\n",
    "![image.png](attachment:image.png)\n",
    "\n",
    "Ya que no podemos calcular las probabilidades hasta infinito, utilizamos la siguiente propiedad estadisticas de sucesos\n",
    "\n",
    "$$P(X>0) = 1 - P(X = 0)$$\n",
    "\n",
    "Entonces, nos queda calcular $P(X = 0)$ para lo que utilizamos el metodo PMF de Stats"
   ]
  },
  {
   "cell_type": "code",
   "execution_count": 25,
   "id": "b24ef031",
   "metadata": {},
   "outputs": [],
   "source": [
    "# parametros de la D.\n",
    "\n",
    "# tasa de ocurrencia\n",
    "miu = 3\n",
    "\n",
    "# caso limite\n",
    "x = 0"
   ]
  },
  {
   "cell_type": "code",
   "execution_count": 26,
   "id": "8e2fa0be",
   "metadata": {},
   "outputs": [
    {
     "data": {
      "text/plain": [
       "0.0498"
      ]
     },
     "execution_count": 26,
     "metadata": {},
     "output_type": "execute_result"
    }
   ],
   "source": [
    "# calculo de la probabilidad para X = 0 \n",
    "prob = poisson.pmf(x, miu)\n",
    "prob = round(prob, 4)\n",
    "prob"
   ]
  },
  {
   "cell_type": "markdown",
   "id": "23078b79",
   "metadata": {},
   "source": [
    "Ahora solo queda restar a 1 el resultado obtenido"
   ]
  },
  {
   "cell_type": "code",
   "execution_count": 27,
   "id": "4211ab72",
   "metadata": {},
   "outputs": [
    {
     "data": {
      "text/plain": [
       "0.9502"
      ]
     },
     "execution_count": 27,
     "metadata": {},
     "output_type": "execute_result"
    }
   ],
   "source": [
    "probab = 1 - prob\n",
    "probab"
   ]
  },
  {
   "cell_type": "markdown",
   "id": "b0aa9035",
   "metadata": {},
   "source": [
    "> La probabilidad de que venda al menos 1 poliza a la semana es del 95.02%"
   ]
  },
  {
   "cell_type": "markdown",
   "id": "bba2df6f",
   "metadata": {},
   "source": [
    "### b.- Que venda 2 o mas polizas pero menos de 5, en una semana"
   ]
  },
  {
   "attachments": {
    "image.png": {
     "image/png": "[encoded data removed]"
    }
   },
   "cell_type": "markdown",
   "id": "8d51fe9c",
   "metadata": {},
   "source": [
    "Nos piden calcular la siguiente probabilidad\n",
    "\n",
    "$$P(2 \\leq X < 5) = P(X = 2) + P(X = 3) + P(X = 4)$$\n",
    "\n",
    "Graficamente se muestra como sigue:\n",
    "\n",
    "![image.png](attachment:image.png)\n",
    "\n",
    "Para ello, vamos a utilizar la probabilidad acumulada (CDF) para los limites del area sombreada que son 1 y 4 y luego restamos ambas probabilidades para obtener el area sombreada o la probabilidad buscada\n",
    "\n",
    "$$P(2 \\leq X \\leq 4) = P(X \\leq 4) - P(X \\leq 1)$$"
   ]
  },
  {
   "cell_type": "code",
   "execution_count": 28,
   "id": "5eddcadb",
   "metadata": {},
   "outputs": [],
   "source": [
    "# parametros de la D.\n",
    "\n",
    "# tasa de ocurrencia\n",
    "miu = 3\n",
    "\n",
    "# casos limites\n",
    "x_4 = 4\n",
    "x_1 = 1"
   ]
  },
  {
   "cell_type": "code",
   "execution_count": 29,
   "id": "dd4676a9",
   "metadata": {},
   "outputs": [
    {
     "data": {
      "text/plain": [
       "0.1991"
      ]
     },
     "execution_count": 29,
     "metadata": {},
     "output_type": "execute_result"
    }
   ],
   "source": [
    "# probabilidad acumulada hasta 1\n",
    "prob_1 = poisson.cdf(x_1, miu)\n",
    "prob_1 = round(prob_1, 4)\n",
    "prob_1"
   ]
  },
  {
   "cell_type": "code",
   "execution_count": 30,
   "id": "33370d33",
   "metadata": {
    "scrolled": true
   },
   "outputs": [
    {
     "data": {
      "text/plain": [
       "0.8153"
      ]
     },
     "execution_count": 30,
     "metadata": {},
     "output_type": "execute_result"
    }
   ],
   "source": [
    "# probabilidad acumulada hasta 4\n",
    "prob_4 = poisson.cdf(x_4, miu)\n",
    "prob_4 = round(prob_4, 4)\n",
    "prob_4"
   ]
  },
  {
   "cell_type": "markdown",
   "id": "0a8e8438",
   "metadata": {},
   "source": [
    "Ahora solo queda restar ambos resultados"
   ]
  },
  {
   "cell_type": "code",
   "execution_count": 31,
   "id": "21f23652",
   "metadata": {},
   "outputs": [
    {
     "data": {
      "text/plain": [
       "0.6162"
      ]
     },
     "execution_count": 31,
     "metadata": {},
     "output_type": "execute_result"
    }
   ],
   "source": [
    "# probabilidad desde 1 hasta 4\n",
    "prob = prob_4 - prob_1\n",
    "prob = round(prob, 4)\n",
    "prob"
   ]
  },
  {
   "cell_type": "markdown",
   "id": "d24d6229",
   "metadata": {},
   "source": [
    "> La probabilidad que venda de 2 a 4 polizas en una semana es de 61.62%"
   ]
  },
  {
   "cell_type": "markdown",
   "id": "60c1ce40",
   "metadata": {},
   "source": [
    "### c.- Suponiendo que hay 5 dias de trabajo por semana, calcular la probabilidad de que en un dia dado se venda una poliza"
   ]
  },
  {
   "attachments": {
    "image.png": {
     "image/png": "[encoded data removed]"
    }
   },
   "cell_type": "markdown",
   "id": "a22b10e9",
   "metadata": {},
   "source": [
    "En este caso, debemos calcular una nueva tasa de ocurrencia $\\mu$ ya que la dada por el problema no concuerda con lo que piden ($\\mu$ esta referida en semanas y la necesitamos en dias). Como nos indican que la semana es de 5 dias, dividimos la $\\mu$ del problema por dicha cantidad para obtener la tasa en dias\n",
    "\n",
    "$$\\mu_{dia} = \\frac{\\mu}{5} = \\frac{3}{5}$$\n",
    "$$\\mu_{dia} = 0.6$$\n",
    "\n",
    "Nos piden calcular la probabilidad de que se venda 1 poliza en un dia\n",
    "\n",
    "$$P(X = 1)$$\n",
    "\n",
    "Graficamente, seria calcular la altura de la barra 1\n",
    "\n",
    "![image.png](attachment:image.png)\n",
    "\n",
    "Vamos a utilizar el metodo PMF para obtener dicho calculo\n"
   ]
  },
  {
   "cell_type": "code",
   "execution_count": 32,
   "id": "c61ef5fc",
   "metadata": {},
   "outputs": [],
   "source": [
    "# parametros de la D.\n",
    "\n",
    "# tasa de ocurrencia\n",
    "miu = 0.6\n",
    "\n",
    "# caso limite\n",
    "x = 1"
   ]
  },
  {
   "cell_type": "code",
   "execution_count": 33,
   "id": "49b4f050",
   "metadata": {},
   "outputs": [
    {
     "data": {
      "text/plain": [
       "0.3293"
      ]
     },
     "execution_count": 33,
     "metadata": {},
     "output_type": "execute_result"
    }
   ],
   "source": [
    "# probabilidad para x = 1\n",
    "prob = poisson.pmf(x, miu)\n",
    "prob = round(prob, 4)\n",
    "prob"
   ]
  },
  {
   "cell_type": "markdown",
   "id": "1f1c5c44",
   "metadata": {},
   "source": [
    "> La probabilidad de que venda 1 poliza en un dia es de 32.93%"
   ]
  },
  {
   "cell_type": "markdown",
   "id": "bacb06ab",
   "metadata": {},
   "source": [
    "### d.- Calcular la media, la varianza y la desviacion estandar de la distribucion de probabilidad que se infiere de este problema"
   ]
  },
  {
   "cell_type": "markdown",
   "id": "29629b35",
   "metadata": {},
   "source": [
    "Sabemos que la variable $X$ sigue una D. de Poisson por tanto:\n",
    "\n",
    "- La media viene dada por\n",
    "$$E(x) = \\mu = 3$$\n",
    "\n",
    "- La varianza viene dada por\n",
    "$$V(x) = \\mu = 3$$\n",
    "\n",
    "- La desviacion estandar es de:\n",
    "$$\\sigma = \\sqrt{3}$$"
   ]
  },
  {
   "cell_type": "code",
   "execution_count": null,
   "id": "0db33970",
   "metadata": {},
   "outputs": [],
   "source": []
  },
  {
   "attachments": {
    "image.png": {
     "image/png": "[encoded data removed]"
    }
   },
   "cell_type": "markdown",
   "id": "629d7792",
   "metadata": {},
   "source": [
    "## Ejemplo 5: *En una fabrica se manufacturan laminas de aluminio. El departamento de calidad de dicha fabrica esta estudiando la frecuencia del numero de fallos por lamina con el objetivo de poder predecir las probabilidades de laminas defectuosas. Los datos son los siguientes:*\n",
    "\n",
    "![image.png](attachment:image.png)"
   ]
  },
  {
   "cell_type": "markdown",
   "id": "39362621",
   "metadata": {},
   "source": [
    "### Calcular la probabilidad de encontrar una lamina al azar qe tenga 3 fallos como minimo."
   ]
  },
  {
   "attachments": {
    "image.png": {
     "image/png": "[encoded data removed]"
    }
   },
   "cell_type": "markdown",
   "id": "33258338",
   "metadata": {},
   "source": [
    "La variable $X$ viene representada por el numero de fallos por cada lamina. Los valores de la tabla se interpretan como sigue:\n",
    "\n",
    "- Primera fila: hay 4 laminas con cero fallos\n",
    "- Segunda fila: hay 3 laminas con un fallo\n",
    "- Tercera fila: hay 5 laminas con dos fallos\n",
    "- \"  \"\n",
    "- \"  \"\n",
    "\n",
    "El ejercicio no nos da la tasa de ocurrencia por lo que debemos calcularla a partir de la tabla de frecuencia mediante la siguiente ecuacion:\n",
    "\n",
    "$$\\mu = \\frac{\\quad\\text{Numero de fallos totales}}{\\quad\\text{Numero de laminas}}$$\n",
    "\n",
    "\n",
    "- Al sumar los valores de frecuencia obtenemos el total de laminas que son 20.\n",
    "\n",
    "- Al multiplicar los fallos por la frecuencia obtenemos la cantidad de fallos por evento. Al sumar los fallos de todos los eventos obtenemos el numero de fallos totales.\n",
    "\n",
    "Sustituimos los valores en la ecuacion:\n",
    "\n",
    "$$\\mu = \\frac{0\\cdot4 + 1\\cdot3 + 2\\cdot5 + \\cdot \\cdot \\cdot + 6\\cdot1}{20} = \\frac{46}{20}$$\n",
    "\n",
    "$$\\mu = 2.3$$\n",
    "\n",
    "Ahora, debemos saber que la D. de Poisson no esta acotada superiormente, por lo tanto se tiene que entender que esta tabla es un extracto de todos los posibles fallos que pueden llegar hasta infinito. Solo que los tecnicos llegaron hasta la medicion de 6 fallos. \n",
    "\n",
    "Aclarado este punto, nos piden calcular la probabilidad de encontrar al menos 3 fallos en una lamina. Esto es:\n",
    "$$P(X \\geq 3) = P(X = 3) + P(X = 4) + P(X = 5) + \\cdot \\cdot \\cdot P(X = \\infty)$$\n",
    "\n",
    "Graficamente se ve como sigue:\n",
    "\n",
    "![image.png](attachment:image.png)\n",
    "\n",
    "Como no podemos calcular probabilidades hasta infinito, utilizamos la siguiente propiedad de sucesos:\n",
    "\n",
    "$$P(X \\geq 3) = 1 - P(X < 3) = 1 - [P(X=0) + P(X=1) + P(X=2)]$$\n",
    "\n",
    "Para no calcular cada una de las probabilidades, utilizamos el metodo CDF para calcular la probabilidad acumulada hasta el limite 2."
   ]
  },
  {
   "cell_type": "code",
   "execution_count": 34,
   "id": "33f0192d",
   "metadata": {},
   "outputs": [],
   "source": [
    "# parametros de la D.\n",
    "\n",
    "# tasa de ocurrencia\n",
    "miu = 2.3\n",
    "\n",
    "# caso limite\n",
    "x = 2"
   ]
  },
  {
   "cell_type": "code",
   "execution_count": 35,
   "id": "8a81d295",
   "metadata": {},
   "outputs": [
    {
     "data": {
      "text/plain": [
       "0.596"
      ]
     },
     "execution_count": 35,
     "metadata": {},
     "output_type": "execute_result"
    }
   ],
   "source": [
    "# probabilidad acumulada hasta 2\n",
    "prob = poisson.cdf(x, miu)\n",
    "prob = round(prob, 4)\n",
    "prob"
   ]
  },
  {
   "cell_type": "markdown",
   "id": "28deaf77",
   "metadata": {},
   "source": [
    "Finalmente, restamos a 1 el valor obtenido"
   ]
  },
  {
   "cell_type": "code",
   "execution_count": 36,
   "id": "240f7f54",
   "metadata": {},
   "outputs": [
    {
     "data": {
      "text/plain": [
       "0.404"
      ]
     },
     "execution_count": 36,
     "metadata": {},
     "output_type": "execute_result"
    }
   ],
   "source": [
    "probab = 1 - prob\n",
    "probab"
   ]
  },
  {
   "cell_type": "markdown",
   "id": "4ffa0978",
   "metadata": {},
   "source": [
    "> La probabilidad de que una lamina seleccionada al azar tenga como minimo 3 fallos es de 40.4%"
   ]
  },
  {
   "cell_type": "code",
   "execution_count": null,
   "id": "3c9548d9",
   "metadata": {},
   "outputs": [],
   "source": []
  },
  {
   "cell_type": "markdown",
   "id": "16a1c8c2",
   "metadata": {},
   "source": [
    "## Ejemplo 6: *Durante la Segunda Guerra Mundial, las tropas alemanas disparaban bombas V1 yV2 desde Calai (Francia) hacia Londres. El sur de Londres se dividio en 576 regiones con la misma extension, 0.25 Km cuadrados. A lo largo de la contienda impactaron en esas regiones un total de 535 bombas V1 y V2*"
   ]
  },
  {
   "cell_type": "markdown",
   "id": "fd62ee2a",
   "metadata": {},
   "source": [
    "### a.- Si se selecciona una region al azar, calcula la probabilidad de que fuese blanco de las bombas en dos ocasiones. Tambien para el caso que no recibiese ningun impacto"
   ]
  },
  {
   "attachments": {
    "image.png": {
     "image/png": "[encoded data removed]"
    }
   },
   "cell_type": "markdown",
   "id": "8c13d18b",
   "metadata": {},
   "source": [
    "La variable $X$ representa el numero de impactos por area por lo que se trata de la D. de Poisson. Para calcular la tasa de ocurrencia podemos utilizar la siguiente formula:\n",
    "\n",
    "$$\\mu = \\frac{\\quad\\text{Numero de bombas}}{\\quad\\text{Cantidad de areas}} = \\frac{535}{576}$$\n",
    "\n",
    "$$\\mu = 0.929$$\n",
    "\n",
    "Nos piden calcular la probabilidad de que en una area determinada al azar impacten bombas en dos ocasiones, es decir,\n",
    "\n",
    "$$P(X = 2)$$\n",
    "\n",
    "Graficamente, piden calcular la altura de la barra 2\n",
    "\n",
    "![image.png](attachment:image.png)\n",
    "\n",
    "Vamos a calcularlo mediante el metodo PMF de la D. de Poisson"
   ]
  },
  {
   "cell_type": "code",
   "execution_count": 37,
   "id": "9227fa82",
   "metadata": {},
   "outputs": [],
   "source": [
    "# parametros de la D.\n",
    "\n",
    "# tasa de ocurrencia\n",
    "miu = 0.929\n",
    "\n",
    "# caso limite\n",
    "x = 2"
   ]
  },
  {
   "cell_type": "code",
   "execution_count": 38,
   "id": "a9547d18",
   "metadata": {},
   "outputs": [
    {
     "data": {
      "text/plain": [
       "0.1704"
      ]
     },
     "execution_count": 38,
     "metadata": {},
     "output_type": "execute_result"
    }
   ],
   "source": [
    "# probabilidad para X = 2\n",
    "prob = poisson.pmf(x, miu)\n",
    "prob = round(prob, 4)\n",
    "prob"
   ]
  },
  {
   "cell_type": "markdown",
   "id": "f509959b",
   "metadata": {},
   "source": [
    "> La probabilidad de que en una area cualquiera impacten dos bombas es de 17.04%"
   ]
  },
  {
   "attachments": {
    "image.png": {
     "image/png": "[encoded data removed]"
    }
   },
   "cell_type": "markdown",
   "id": "81c86b33",
   "metadata": {},
   "source": [
    "Tambien nos piden calcular la probabilidad de que no impacte ninguna bomba, es decir,\n",
    "\n",
    "$$P(X = 0)$$\n",
    "\n",
    "Graficamente pide calcular la altura de la barra cero\n",
    "\n",
    "![image.png](attachment:image.png)\n",
    "\n",
    "Procedemos a resolverlo como en el paso anterior, con PMF"
   ]
  },
  {
   "cell_type": "code",
   "execution_count": 39,
   "id": "f50c8f93",
   "metadata": {},
   "outputs": [],
   "source": [
    "# parametros de la D.\n",
    "\n",
    "# tasa de ocurrencia\n",
    "miu = 0.929\n",
    "\n",
    "# caso limite\n",
    "x = 0"
   ]
  },
  {
   "cell_type": "code",
   "execution_count": 40,
   "id": "40678855",
   "metadata": {},
   "outputs": [
    {
     "data": {
      "text/plain": [
       "0.3949"
      ]
     },
     "execution_count": 40,
     "metadata": {},
     "output_type": "execute_result"
    }
   ],
   "source": [
    "# probabilidad para X = 0\n",
    "prob = poisson.pmf(x, miu)\n",
    "prob = round(prob, 4)\n",
    "prob"
   ]
  },
  {
   "cell_type": "markdown",
   "id": "004c7ea7",
   "metadata": {},
   "source": [
    "> La probabilidad que no impacte ninguna bomba en cualquier area es de 39.49%"
   ]
  },
  {
   "cell_type": "markdown",
   "id": "f13aeded",
   "metadata": {},
   "source": [
    "### b.- Segun las probabilidades calculadas en el apartado anterior. Cuantas de las 576 regiones se espera que reciban 2 impactos y cuantas ninguno?"
   ]
  },
  {
   "cell_type": "markdown",
   "id": "c306a2ec",
   "metadata": {},
   "source": [
    "Para calcular la cantidad de regiones que reciben dos impactos utilizamos la siguiente formula:\n",
    "\n",
    "$$\\quad\\text{Regiones con dos impactos} = np_{2 bombas}$$\n",
    "\n",
    "Donde $n$ es la cantidad de regiones totales y $p_{2bombas}$ es la probabilidad que caigan dos bombas. Veamos el resultado."
   ]
  },
  {
   "cell_type": "code",
   "execution_count": 41,
   "id": "fbba7c64",
   "metadata": {},
   "outputs": [
    {
     "data": {
      "text/plain": [
       "98.15"
      ]
     },
     "execution_count": 41,
     "metadata": {},
     "output_type": "execute_result"
    }
   ],
   "source": [
    "n = 576\n",
    "p_2 = 0.1704\n",
    "regiones_2 = n*p_2\n",
    "regiones_2 = round(regiones_2,2)\n",
    "regiones_2"
   ]
  },
  {
   "cell_type": "markdown",
   "id": "c38a97d0",
   "metadata": {},
   "source": [
    "> En 98 regiones es posible qque caigan 2 bombas"
   ]
  },
  {
   "cell_type": "markdown",
   "id": "71dd961f",
   "metadata": {},
   "source": [
    "Para calcular la cantidad de regiones en las que no caera ninguna bomba, utlizamos la formula anterior pero en vez de la probabilidad para 2 bombas utilizamos la probabilidad para cero bombas.\n",
    "\n",
    "$$\\quad\\text{Regiones con cero impactos} = np_{0 bombas}$$"
   ]
  },
  {
   "cell_type": "code",
   "execution_count": 42,
   "id": "ea8257ca",
   "metadata": {},
   "outputs": [
    {
     "data": {
      "text/plain": [
       "227.46"
      ]
     },
     "execution_count": 42,
     "metadata": {},
     "output_type": "execute_result"
    }
   ],
   "source": [
    "p_0 = 0.3949\n",
    "regiones_0 = n*p_0\n",
    "regiones_0 = round(regiones_0,2)\n",
    "regiones_0"
   ]
  },
  {
   "cell_type": "markdown",
   "id": "5bab6a56",
   "metadata": {},
   "source": [
    "> Se espera que en 227 regiones no caera bombas."
   ]
  },
  {
   "cell_type": "code",
   "execution_count": null,
   "id": "f13f76ee",
   "metadata": {},
   "outputs": [],
   "source": []
  },
  {
   "attachments": {
    "image.png": {
     "image/png": "[encoded data removed]"
    }
   },
   "cell_type": "markdown",
   "id": "c14aac10",
   "metadata": {},
   "source": [
    "## Ejemplo 7: *Una empresa que vende internet registra las ventas que hace por email en un periodo de 40 dias. La siguiente tabla muestra los resultados*\n",
    "\n",
    "![image.png](attachment:image.png)\n",
    "\n"
   ]
  },
  {
   "cell_type": "markdown",
   "id": "aba656b1",
   "metadata": {},
   "source": [
    "### a.- Calcular la media y varianza y comprobar si puede ser apropiado usar la D. de Poisson"
   ]
  },
  {
   "cell_type": "markdown",
   "id": "1f75c168",
   "metadata": {},
   "source": [
    "La tabla se interpreta como sigue:\n",
    "\n",
    "- Columna 1: Se recibe 0 email en 8 de los 40 dias que se recogen los datos.\n",
    "- Columna 2: Se recibe 1 email en 13 de los 40 dias que se recogen los datos.\n",
    "- Columna 3: Se reciben 2 email en 10 de los 40 dias que se recogen los datos.\n",
    "- \"   \"\n",
    "- \"   \"\n",
    "\n",
    "Si sumamos las frecuencias obtenemos los dias que representan el periodo donde se recogieron los datos:\n",
    "\n",
    "$$\\sum f = 8+13+10+6+2+1+0 = 40$$\n",
    "\n",
    "Nos piden calcular la media, cuya formula viene dada por:\n",
    "\n",
    "$$\\overline{X} = \\frac{\\sum (f \\cdot x)}{\\sum f}$$\n",
    "\n",
    "donde $\\sum (f \\cdot x)$ es la suma de los productos de la frecuencia ($f$) por su repectivo numero de emails ($x$). Entonces,\n",
    "\n",
    "$$\\overline{X} = \\frac{0\\cdot 8 + 1\\cdot13+2\\cdot 10+3\\cdot 6 + 4\\cdot 2 + 5\\cdot 1+ 5\\cdot 0}{40}$$\n",
    "\n",
    "$$\\overline{X} = 1.6$$\n",
    "\n",
    "La varianza se calcula mediante la siguiente ecuacion:\n",
    "\n",
    "$$S^{2} = \\frac{\\sum (x^{2}\\cdot f)}{\\sum f} - \\overline{X}^{2}$$\n",
    "\n",
    "Veamos como realizar este calculo en Python"
   ]
  },
  {
   "cell_type": "code",
   "execution_count": 43,
   "id": "0a4afa1c",
   "metadata": {},
   "outputs": [
    {
     "data": {
      "text/plain": [
       "1.54"
      ]
     },
     "execution_count": 43,
     "metadata": {},
     "output_type": "execute_result"
    }
   ],
   "source": [
    "num = (0**2 * 8) + (1**2 * 13) + (2**2 * 10) + (3**2 * 6) + (4**2 * 2) + (5**2 * 1)\n",
    "den = 40\n",
    "media = 1.6\n",
    "Var = (num/den) -  (media**2)\n",
    "Var = round(Var, 2)\n",
    "Var"
   ]
  },
  {
   "cell_type": "markdown",
   "id": "d24fa531",
   "metadata": {},
   "source": [
    "El valor de Varianza $S^{2}$ es de $1.54$. Notamos que la media $\\overline{X} = 1.6$ es muy cercana a la varianza $S^{2} = 1.54$ es decir,\n",
    "\n",
    "$$\\overline{X} \\simeq S^{2}$$\n",
    "\n",
    "Y como en la D. de Poisson la Media es igual a la Varianza\n",
    "\n",
    "$$E(x) = V(x)$$\n",
    "\n",
    "Entonces, es un punto en favor de la D. de Poisson. La variable $X$, que representa el numero de email que llegan al dia, es discreta lo cual es otro punto en favor de la D. de Poisson. Los eventos deben ocurrir al azar, es decir no deben estar viciados por lo que suponemos que en el periodo de 40 dias no ha habido ofertas que sesguen las ventas. AL cumplirse todo lo anterior podemos asegurar que es apropiado utilizar la D. de Poisson.\n",
    "\n"
   ]
  },
  {
   "cell_type": "markdown",
   "id": "dc5dbbbf",
   "metadata": {},
   "source": [
    "### b.- Usando la de D. de Poisson, calcular la probabilidad que lleguen 1, 2 y 3 emails de ventas."
   ]
  },
  {
   "attachments": {
    "image.png": {
     "image/png": "[encoded data removed]"
    }
   },
   "cell_type": "markdown",
   "id": "ad7d02c5",
   "metadata": {},
   "source": [
    "Nos piden calcular la probabilidad que lleguen 1, 2 y 3 emails de ventas, es decir\n",
    "\n",
    "$$P(X=1), P(X=2), P(X=3)$$\n",
    "\n",
    "Recordemos que el periodo es de 40 dias y que ademas la tasa de ocurrencia $\\mu$ es igual a la Media $\\overline{X}$ antes calculada\n",
    "\n",
    "$$\\mu = \\overline{X} = 1.6$$\n",
    "\n",
    "Vamos a calcular $P(x=1)$ que graficamente es encontrar la altura de la barra 1\n",
    "\n",
    "![image.png](attachment:image.png)\n",
    "\n",
    "Utilizamos el metodo PMF de la D. de Poisson para calcularlo"
   ]
  },
  {
   "cell_type": "code",
   "execution_count": 44,
   "id": "750a13ae",
   "metadata": {},
   "outputs": [],
   "source": [
    "# parametros de la D.\n",
    "\n",
    "# tasa de ocurrencia\n",
    "miu = 1.6\n",
    "\n",
    "# caso limite\n",
    "x = 1"
   ]
  },
  {
   "cell_type": "code",
   "execution_count": 45,
   "id": "0a1e6c00",
   "metadata": {},
   "outputs": [
    {
     "data": {
      "text/plain": [
       "0.323"
      ]
     },
     "execution_count": 45,
     "metadata": {},
     "output_type": "execute_result"
    }
   ],
   "source": [
    "# probabilidad para x = 1\n",
    "prob = poisson.pmf(x, miu)\n",
    "prob = round(prob, 4)\n",
    "prob"
   ]
  },
  {
   "cell_type": "markdown",
   "id": "04151583",
   "metadata": {},
   "source": [
    "> La probabilidad que llegue 1 email por dia es de 32.3%. "
   ]
  },
  {
   "attachments": {
    "image.png": {
     "image/png": "[encoded data removed]"
    }
   },
   "cell_type": "markdown",
   "id": "9593f229",
   "metadata": {},
   "source": [
    "Vamos a calcular $P(x = 2)$ que graficamente seria encontrar la altura de la barra 2\n",
    "\n",
    "![image.png](attachment:image.png)\n",
    "\n",
    "Utilizamos el metodo PMF para calcular la probabilidad de dicho valor"
   ]
  },
  {
   "cell_type": "code",
   "execution_count": 46,
   "id": "e2dd8a40",
   "metadata": {},
   "outputs": [],
   "source": [
    "# parametros de la D.\n",
    "\n",
    "# tasa de ocurrencia\n",
    "miu = 1.6\n",
    "\n",
    "# caso limite\n",
    "x = 2"
   ]
  },
  {
   "cell_type": "code",
   "execution_count": 47,
   "id": "34599b54",
   "metadata": {},
   "outputs": [
    {
     "data": {
      "text/plain": [
       "0.2584"
      ]
     },
     "execution_count": 47,
     "metadata": {},
     "output_type": "execute_result"
    }
   ],
   "source": [
    "# probabilidad para x = 2\n",
    "prob = poisson.pmf(x, miu)\n",
    "prob = round(prob, 4)\n",
    "prob"
   ]
  },
  {
   "cell_type": "markdown",
   "id": "ea942a1c",
   "metadata": {},
   "source": [
    "> La probabilidad que llegue 2 emails por dia es de 25.84%"
   ]
  },
  {
   "attachments": {
    "image.png": {
     "image/png": "[encoded data removed]"
    }
   },
   "cell_type": "markdown",
   "id": "e2d7da47",
   "metadata": {},
   "source": [
    "Finalmente, calculamos $P(x = 3)$ que graficamente es encontrar la altura de la barra 3\n",
    "\n",
    "![image.png](attachment:image.png)\n",
    "\n",
    "Utilizamos el metdo PMF"
   ]
  },
  {
   "cell_type": "code",
   "execution_count": 48,
   "id": "483ae501",
   "metadata": {},
   "outputs": [],
   "source": [
    "# parametros de la D.\n",
    "\n",
    "# tasa de ocurrencia\n",
    "miu = 1.6\n",
    "\n",
    "# caso limite\n",
    "x = 3"
   ]
  },
  {
   "cell_type": "code",
   "execution_count": 49,
   "id": "c433a3bc",
   "metadata": {},
   "outputs": [
    {
     "data": {
      "text/plain": [
       "0.1378"
      ]
     },
     "execution_count": 49,
     "metadata": {},
     "output_type": "execute_result"
    }
   ],
   "source": [
    "# probabilidad para x = 3\n",
    "prob = poisson.pmf(x, miu)\n",
    "prob = round(prob, 4)\n",
    "prob"
   ]
  },
  {
   "cell_type": "markdown",
   "id": "d93ffed6",
   "metadata": {},
   "source": [
    "> La probabilidad que lleguen 3 email por dia es de 13.78%"
   ]
  },
  {
   "cell_type": "markdown",
   "id": "d78fa278",
   "metadata": {},
   "source": [
    "### c.- Demuestra que los datos obtenidos mediante la D. de Poisson son correctos "
   ]
  },
  {
   "cell_type": "markdown",
   "id": "04442bca",
   "metadata": {},
   "source": [
    "Para demostrarlo, veamos la frecuencia real para los numeros de email 1, 2 y 3\n",
    "\n",
    "- 1 email: 13 dias\n",
    "- 2 emails: 10 dias\n",
    "- 3 emails: 6 dias\n",
    "\n",
    "Y ahora veamos la probabilidad para los numeros de email 1, 2 y 3\n",
    "\n",
    "- 1 email: 0.323\n",
    "- 2 emails: 0.2584\n",
    "- 3 emails: 0.1378\n",
    "\n",
    "Sabemos que el periodo en que se recogieron los datos es de 40 dias, por tanto, podemos calcular la frecuencia esperada para cada numero de emails, dada por la D. de Poisson, mediante la siguiente ecuacion:\n",
    "\n",
    "$$f_{esp}(x) = p_{x}\\cdot n$$\n",
    "\n",
    "Utilizamos dicha formula y calculamos la frecuencia esperada para 1, 2 y 3 emails"
   ]
  },
  {
   "cell_type": "code",
   "execution_count": 50,
   "id": "c235ed10",
   "metadata": {},
   "outputs": [
    {
     "name": "stdout",
     "output_type": "stream",
     "text": [
      "Frecuencia esperada para 1 email:  12.92\n",
      "Frecuencia esperada para 2 emails:  10.336\n",
      "Frecuencia esperada para 3 emails:  5.512\n"
     ]
    }
   ],
   "source": [
    "n = 40\n",
    "p_1 = 0.323\n",
    "p_2 = 0.2584\n",
    "p_3 = 0.1378\n",
    "\n",
    "f_1 = n*p_1\n",
    "f_2 = n*p_2\n",
    "f_3 = n*p_3\n",
    "f_3 = round(f_3, 3)\n",
    "\n",
    "print('Frecuencia esperada para 1 email: ', f_1)\n",
    "print('Frecuencia esperada para 2 emails: ', f_2)\n",
    "print('Frecuencia esperada para 3 emails: ', f_3)"
   ]
  },
  {
   "cell_type": "markdown",
   "id": "0f895a31",
   "metadata": {},
   "source": [
    "> Si comparamos la frecuencia esperada con la frecuencia real de cada numero de email vemos que son muy similares y por tanto demostramos que los datos obtenidos por la D. de Poisson son correctos."
   ]
  },
  {
   "cell_type": "code",
   "execution_count": null,
   "id": "6dd18328",
   "metadata": {},
   "outputs": [],
   "source": []
  },
  {
   "cell_type": "markdown",
   "id": "b1d18a8c",
   "metadata": {},
   "source": [
    "## Ejemplo 8: *En cierta parte del pais, 1 de cada 50 niños se ha roto accidentalmente un hueso del cuerpo a las edad de 5 años. Si se eligen 100 niños al azar de 5 años. Cual es la probabilidad de que exactamente 4 de ellos hayan sufrido una fractura?*"
   ]
  },
  {
   "cell_type": "markdown",
   "id": "78d5cc62",
   "metadata": {},
   "source": [
    "Claramente el ejercicio corresponde a una D. Binomial. La variable $X$ es aleatoria y discreta y representa el numero de niños de 5 años que sufren una fractura. La funcion de la D. binomial viene dada por: \n",
    "\n",
    "$$P(k)=\\binom{n}{k}p^{k}(q)^{n-k}$$\n",
    "\n",
    "donde\n",
    "- $p$ es la probabilidad de exito\n",
    "\n",
    "- $q$ es la probabilidad de fracaso.\n",
    "\n",
    "- $n$ es el numero de eventos estudiados\n",
    "\n",
    "- $k$ es el numero deseado de exitos.\n",
    "\n",
    "La probabilidad de que un nino de 5 anos se rompa un hueso (probabilidad de exito) viene deada por:\n",
    "\n",
    "$$p = \\frac{1}{50}$$\n",
    "\n",
    "La probabilidad de fracaso $q$ viene dada por lo contrario de $p$\n",
    "\n",
    "$$q = \\frac{49}{50}$$\n",
    "\n",
    "El estudio se realiza sobre un total de 100 ninos, es decir\n",
    "\n",
    "$$n = 100$$\n",
    "\n",
    "Entonces, para calcular la probabilidad de que 4 de los 100 ninos hayan sufrido una fractura $P(k=4)$ procedemos como sigue:\n",
    "\n",
    "$$P(4)=\\binom{100}{4}\\left ( \\frac{1}{50}\\right )^{4}\\left ( \\frac{49}{50} \\right )^{96}$$\n",
    "\n",
    "Resolver, manualmente, este factorial con $n$ tan grande es tedioso por lo que vamos a utilizar el metodo PMF de la D. Binomial de la libreria Stats para resolverlo: \n"
   ]
  },
  {
   "cell_type": "code",
   "execution_count": 51,
   "id": "cdefa573",
   "metadata": {},
   "outputs": [],
   "source": [
    "# libreria\n",
    "from scipy.stats import binom"
   ]
  },
  {
   "cell_type": "code",
   "execution_count": 52,
   "id": "f4d39313",
   "metadata": {},
   "outputs": [],
   "source": [
    "# parametros de la D.\n",
    "\n",
    "# probabilidad de exito\n",
    "p = 1/50\n",
    "# probabilidad de fracaso\n",
    "q = 49/50\n",
    "# numero de eventos estudiados\n",
    "n = 100\n",
    "# numero de eventos deseados\n",
    "k = 4"
   ]
  },
  {
   "cell_type": "code",
   "execution_count": 53,
   "id": "85a1ed74",
   "metadata": {},
   "outputs": [
    {
     "data": {
      "text/plain": [
       "0.0902"
      ]
     },
     "execution_count": 53,
     "metadata": {},
     "output_type": "execute_result"
    }
   ],
   "source": [
    "prob = binom.pmf(k, n, p)\n",
    "prob = round(prob, 4)\n",
    "prob"
   ]
  },
  {
   "cell_type": "markdown",
   "id": "914fc374",
   "metadata": {},
   "source": [
    "> La probabilidad de que los 4 ninos seleccionados presenten una fractura es del 9.02%"
   ]
  },
  {
   "attachments": {
    "image.png": {
     "image/png": "[encoded data removed]"
    }
   },
   "cell_type": "markdown",
   "id": "28b5b029",
   "metadata": {},
   "source": [
    "Podemos resolver el mismo problema mediante la aproximacion a la D. de Poisson con la que reducimos la cantidad de pasos al encontrar la solucion. Pero para ello, se deben cumplir las siguientes condiciones:\n",
    "\n",
    "- $n$ sea grande. Debe ser mayor a 75. Para este caso, $n = 100$ por lo que cumple la condicion.\n",
    "\n",
    "- $p$ sea pequeno. Corresponde a un evento raro o poco comun. En este caso, $p = 1/50$ por lo que cumple la condicion.\n",
    "\n",
    "- El producto $np$ debe ser menor a 10. En este caso, $np = 100/50 = 2$ por tanto, cumple esta condicion.\n",
    "\n",
    "Al verificar que cumple con las condiciones y conociendo que $X$ es una variable aleatoria discreta podemos aplicar la funcion de la D. de Poisson.\n",
    "\n",
    "$$P(X=x) = \\frac{e^{-\\mu}\\cdot \\mu^x}{x!}$$\n",
    "\n",
    "La tasa de ocurrencia $\\mu$ se calcula como sigue:\n",
    "\n",
    "$$\\mu = np = \\frac{100}{50} = 2$$\n",
    "\n",
    "Nos piden la probabilidad $P(X=4)$ lo que graficamente es hallar la altura de la barra 4\n",
    "\n",
    "![image.png](attachment:image.png)\n",
    "\n",
    "Vamos a resolverlo con el metodo PMF de la D. de Poisson\n"
   ]
  },
  {
   "cell_type": "code",
   "execution_count": 54,
   "id": "56b667e4",
   "metadata": {},
   "outputs": [],
   "source": [
    "# parametros de la D.\n",
    "\n",
    "# tasa de ocurrencia\n",
    "miu = 2\n",
    "# caso limite\n",
    "x = 4"
   ]
  },
  {
   "cell_type": "code",
   "execution_count": 55,
   "id": "b375f1c8",
   "metadata": {},
   "outputs": [
    {
     "data": {
      "text/plain": [
       "0.0902"
      ]
     },
     "execution_count": 55,
     "metadata": {},
     "output_type": "execute_result"
    }
   ],
   "source": [
    "# probabilidad para x = 4\n",
    "prob = poisson.pmf(x, miu)\n",
    "prob = round(prob, 4)\n",
    "prob"
   ]
  },
  {
   "cell_type": "markdown",
   "id": "26814e06",
   "metadata": {},
   "source": [
    "> Llegamos al mismo resultado (9.02%) con menos parametros utilizando la aproximacion a la D. de Poisson."
   ]
  },
  {
   "cell_type": "code",
   "execution_count": null,
   "id": "771be177",
   "metadata": {},
   "outputs": [],
   "source": []
  },
  {
   "cell_type": "markdown",
   "id": "0b490969",
   "metadata": {},
   "source": [
    "## Ejemplo 9: *Suponga que el numero de particulas de asbesto en una muestra de un centimetro cuadrado de polvo sigue una distribucion de Poisson con media de 100. Cual es la probabilidad de que en 10 centimetros cuadrados haya menos de 1000 particulas de asbesto?*"
   ]
  },
  {
   "attachments": {
    "image.png": {
     "image/png": "[encoded data removed]"
    }
   },
   "cell_type": "markdown",
   "id": "ceff8fea",
   "metadata": {},
   "source": [
    "La variable $X$ es una variable aletoria discreta que representa el numero de particulas de asbesto por cada centimetro cuadrado que sigue una D. de Poisson.\n",
    "\n",
    "Nos dan la tasa de ocurrencia $\\mu$ para un centimetro cuadrado: $\\mu_{1} = 100$. Como nos piden hayar la probabilidad de encontrar menos de 1000 particulas $P(X < 1000)$ en 10 centimetros cuadrados ($n$), debemos calcular la tasa de ocurrencia para el nuevo espacio:\n",
    "\n",
    "$$\\mu_{10} = \\mu_{1}n = 1000 \\cdot 10 = 1000$$\n",
    "\n",
    "Graficamente, se trata de encontrar el area sombreada de azul claro\n",
    "\n",
    "![image.png](attachment:image.png)\n",
    "\n",
    "Notemos que la grafica de la D. de Poisson en este caso tiende a una D. Normal. Para resolver este problema, de forma manual, con la D. de Poisson debemos calcular la probabilidad de cada particula hasta 999 y luego sumarlas todas,\n",
    "\n",
    "$$P(X < 1000) = P(X = 1) + P(X = 2) + P(X = 3) + \\cdot \\cdot \\cdot + P(X = 999)$$\n",
    "\n",
    "Esta tarea resultaria tediosa y poco eficiente. Para mejorar los calculos podemos aproximar la D. de Poisson a una Normal. \n",
    "\n",
    "$$P(x) = \\frac{e^{-\\mu}\\cdot \\mu^x}{x!} \\sim f(x)=\\frac{1}{\\sigma \\sqrt{2\\pi}}e^{-\\frac{1}{2}\\left ( \\frac{x-\\mu}{\\sigma} \\right )^{2}}$$\n",
    "\n",
    "De esta forma, tipificamos la variable $X$ y utilizamos la tabla z para agilizar el calculo. Para implementar la aproximacion se debe cumplir con las siguientes condiciones:\n",
    "\n",
    "- $\\mu$ debe ser grande. En terminos practicos, se considera que $\\mu \\geq 10$ es sufiente para que la D. de Poisson se aproxime a la D. Normal. En este caso, $\\mu_{10} = 1000$ por lo que se cumple la condicion.\n",
    "\n",
    "- Uso de la correccion de continuidad en caso de ser necesario. Suele aplicarse en valores de $\\mu$ entre 10 y 50. Consiste en ajustar los valores de $x$ en $\\pm 0.5$. En este caso, no es necesario aplicarlo debido a que $\\mu_{10}$ es muy grande. "
   ]
  },
  {
   "cell_type": "markdown",
   "id": "5397592c",
   "metadata": {},
   "source": [
    "La media y la varianza de la D. de Poisson es $E(x) = \\mu$ y $\\sigma^{2} = \\mu$. Utilizamos ambos valores para tipificar la variable X con la siguiente ecuacion:\n",
    "\n",
    "$$z = \\frac{x - E(x)}{\\sigma}$$\n",
    "\n",
    "Recordemos que nos piden calcular la probabilidad de encontrar menos de 1000 particulas en 10 centimetros cuadrados, $P(X<1000)$. Entonces debemos hallar el valor de $z$ para $x=1000$. Sustityendo los valores obtenemos:\n",
    "\n",
    "$$z = \\frac{x - \\mu_{10}}{\\sqrt{\\mu_{10}}} = \\frac{1000 - 1000}{100} = 0$$\n",
    "\n"
   ]
  },
  {
   "cell_type": "markdown",
   "id": "a6b0641a",
   "metadata": {},
   "source": [
    "La probabilidad $P(X < 1000)$ es lo mismo que la probabilidad de que $z$ sea menor a cero $P(z < 0)$ donde $z$ es una variable aleatoria continua con distribucion normal estandar de media 0 y desviacion estandar 1. Ahora solo queda calcular el valor de probabilidad $z=0$ en la funcion de la D. Normal con media cero y desviacion estandar de 1 como sigue:\n",
    "\n",
    "$$f(x=0)=\\frac{1}{1 \\sqrt{2\\pi}}e^{-\\frac{1}{2}\\left ( \\frac{0-0}{1} \\right )^{2}} \\rightarrow  f(x)=\\frac{1}{\\sqrt{2\\pi}}e^{0}$$\n",
    "\n",
    "Vamos a hallar tal valor con la libreria Stats mediante el CDF de la D. Normal.\n"
   ]
  },
  {
   "cell_type": "code",
   "execution_count": 56,
   "id": "d990cc36",
   "metadata": {},
   "outputs": [],
   "source": [
    "# libreria\n",
    "from scipy.stats import norm"
   ]
  },
  {
   "cell_type": "code",
   "execution_count": 57,
   "id": "c8b1ba42",
   "metadata": {},
   "outputs": [],
   "source": [
    "# parametros de la D\n",
    "\n",
    "# media\n",
    "media = 0\n",
    "# desviacion estandar\n",
    "std = 1\n",
    "# variable\n",
    "z = 0"
   ]
  },
  {
   "cell_type": "code",
   "execution_count": 58,
   "id": "88eaf02b",
   "metadata": {},
   "outputs": [
    {
     "data": {
      "text/plain": [
       "0.5"
      ]
     },
     "execution_count": 58,
     "metadata": {},
     "output_type": "execute_result"
    }
   ],
   "source": [
    "# probabilidad para z = 0\n",
    "prob = norm.cdf(z, media, std)\n",
    "prob"
   ]
  },
  {
   "cell_type": "markdown",
   "id": "04d89322",
   "metadata": {},
   "source": [
    "En este caso, el valor de $P(Z<0)$ es $0.5$, es decir\n",
    "\n",
    "$$P(X < 1000) = P(Z < 0) = 0.5$$\n",
    "\n",
    "> La probabilidad que en 10 centimetros cuadrados hallan 1000 particulas de asbesto de 50%"
   ]
  },
  {
   "cell_type": "code",
   "execution_count": null,
   "id": "eb70d9fb",
   "metadata": {},
   "outputs": [],
   "source": []
  },
  {
   "cell_type": "markdown",
   "id": "b02243a0",
   "metadata": {},
   "source": [
    "## Relacion entre la D. Poisson y la Exponencial"
   ]
  },
  {
   "cell_type": "markdown",
   "id": "571e3d91",
   "metadata": {},
   "source": [
    "Supongamos que ciertos eventos ocurren en el tiempo segun un proceso de Poisson. La diferencia principal entre una variable que sigue una D. Poisson y una D. Exponencial es que la primera calcula la cantidad de eventos que ocurren en un determinado periodo de tiempo $t$, es decir\n",
    "\n",
    "$$X \\sim Po(\\mu t)$$\n",
    "\n",
    "Y la segunda estima el tiempo entre la ocurrencia de dos eventos sucesivos\n",
    "\n",
    "$$X \\sim Exp(\\mu)$$\n",
    "\n",
    "En ambos casos las distribuciones utilizan el mismo parametro $\\mu$ que es la tasa de ocurrencia por unidad de tiempo. Para entenderlo mejor, veamos el siguiente ejemplo:"
   ]
  },
  {
   "cell_type": "code",
   "execution_count": null,
   "id": "70ab92d2",
   "metadata": {},
   "outputs": [],
   "source": []
  },
  {
   "cell_type": "markdown",
   "id": "d9e41646",
   "metadata": {},
   "source": [
    "## Ejemplo 10: *En un establecimiento de apuestas deportivas llega un cliente cada 3 minutos*. Cual es la probabilidad que al menos pasen 5 minutos antes de que llegue un segundo cliente luego de haber llegado el primero?"
   ]
  },
  {
   "cell_type": "markdown",
   "id": "dfcb8f67",
   "metadata": {},
   "source": [
    "Este ejercicios podemos resolverlo con ambas distribuciones. Primero definamos la tasa de ocurrencia,\n",
    "\n",
    "$$\\mu = \\frac{\\quad\\text{Numero de clientes}}{\\quad\\text{Intervalo de tiempo}}= \\frac{1}{3} = 0.33$$\n",
    "\n",
    "Luego, definamos la variable $X$ para cada distribucion:\n",
    "\n",
    "- $X_{1}$ es el numero de clientes que llega al establecimiento de apuestas en un minuto y siguen una D. Poisson. $X_{1} \\sim Po(\\mu) = Po(0.33)$\n",
    "\n",
    "- $T$ es el tiempo, en minutos, entre la llegada de dos clientes sucesivos y sigue una D. Exponencial. $X \\sim Exp(\\mu) = Exp(0.33)$"
   ]
  },
  {
   "cell_type": "markdown",
   "id": "962ef2e7",
   "metadata": {},
   "source": [
    "### Solucion con la D. Exponencial"
   ]
  },
  {
   "cell_type": "markdown",
   "id": "2f0b2920",
   "metadata": {},
   "source": [
    "En este contexto, nos piden calcular la probabilidad de que un segundo cliente llegue en 5 o mas minutos despues de haber llegado el primero,\n",
    "\n",
    "$$P(X \\geq 5) = 1 - P(X < 5)$$\n",
    "\n",
    "Para calcular $P(X < 5)$ utilizamos la probabilidad acumulada (CDF) de la D. Exponencial de la libreria Scipy"
   ]
  },
  {
   "cell_type": "code",
   "execution_count": 67,
   "id": "e1d42cd4",
   "metadata": {},
   "outputs": [],
   "source": [
    "# importar libreria \n",
    "from scipy.stats import expon\n",
    "\n",
    "# parametros de la D.\n",
    "\n",
    "# lambda\n",
    "lamb = 1/3\n",
    "\n",
    "# valor limite \n",
    "x = 5"
   ]
  },
  {
   "cell_type": "code",
   "execution_count": 68,
   "id": "1c81425a",
   "metadata": {},
   "outputs": [
    {
     "data": {
      "text/plain": [
       "0.8111"
      ]
     },
     "execution_count": 68,
     "metadata": {},
     "output_type": "execute_result"
    }
   ],
   "source": [
    "# probailidad acumulada hasta el valor 5\n",
    "prob = expon.cdf(x, scale=1/lamb)\n",
    "prob = round(prob, 4)\n",
    "prob"
   ]
  },
  {
   "cell_type": "markdown",
   "id": "8298a480",
   "metadata": {},
   "source": [
    "Restamos a 1 el resultado obtenido"
   ]
  },
  {
   "cell_type": "code",
   "execution_count": 69,
   "id": "f2e21d1d",
   "metadata": {},
   "outputs": [
    {
     "data": {
      "text/plain": [
       "0.1889"
      ]
     },
     "execution_count": 69,
     "metadata": {},
     "output_type": "execute_result"
    }
   ],
   "source": [
    "probab = 1 - prob\n",
    "probab = round(probab, 4)\n",
    "probab"
   ]
  },
  {
   "cell_type": "markdown",
   "id": "d325f7d3",
   "metadata": {},
   "source": [
    "### Solucion con la D. Poisson"
   ]
  },
  {
   "cell_type": "markdown",
   "id": "a629bf2e",
   "metadata": {},
   "source": [
    "Recordemos que la variable de Poisson $X_{1}$ representa la cantidad de clientes que llegan al establecimiento en un minuto. Como nos piden la probabilidad de que en 5 o mas minutos llegue un segundo cliente podemos reestructurar la preguntar como sigue: **Cual es la probabilidad de que en 5 minutos no lleguen ningun cliente?**. Es decir,\n",
    "\n",
    "$$P(X_{5} = 0)$$\n",
    "\n",
    "donde $X_{5}$ es la cantidad de cliente que llegan en 5 minutos. Una vez redefinida la variable de Poisson, debemos rescalar la tasa de ocurrencia $\\mu$ a la nueva variable\n",
    "\n",
    "$$\\mu_{5} = 5 \\cdot \\mu = 5 \\cdot (1/3) = 5/3$$\n",
    "\n",
    "Entonces, decimos que $X_{5}$ sigue una D. Poisson de la forma:\n",
    "\n",
    "$$X_{5} \\sim Po(\\mu_{5}) = Po(5/3)$$\n",
    "\n",
    "Para calcular $P(X_5 = 0)$ utilizamos el PMF de la D. Poisson de la libreria Scipy"
   ]
  },
  {
   "cell_type": "code",
   "execution_count": 62,
   "id": "8e0c29d7",
   "metadata": {},
   "outputs": [],
   "source": [
    "# parametros de la D.\n",
    "\n",
    "# tasa de ocurrencia\n",
    "miu = 5/3\n",
    "# caso limite\n",
    "x = 0"
   ]
  },
  {
   "cell_type": "code",
   "execution_count": 64,
   "id": "04172f73",
   "metadata": {},
   "outputs": [
    {
     "data": {
      "text/plain": [
       "0.1889"
      ]
     },
     "execution_count": 64,
     "metadata": {},
     "output_type": "execute_result"
    }
   ],
   "source": [
    "prob = poisson.pmf(x, miu)\n",
    "prob = round(prob, 4)\n",
    "prob"
   ]
  },
  {
   "cell_type": "markdown",
   "id": "2fabf4eb",
   "metadata": {},
   "source": [
    "Vemos que llegamos al mismo resultado (18.19%) con las dos distribuciones, por tanto, dependiendo la probabilidad y su interpretacion podemos utilizar cualquiera de las dos variables."
   ]
  }
 ],
 "metadata": {
  "kernelspec": {
   "display_name": "Python 3 (ipykernel)",
   "language": "python",
   "name": "python3"
  },
  "language_info": {
   "codemirror_mode": {
    "name": "ipython",
    "version": 3
   },
   "file_extension": ".py",
   "mimetype": "text/x-python",
   "name": "python",
   "nbconvert_exporter": "python",
   "pygments_lexer": "ipython3",
   "version": "3.9.12"
  }
 },
 "nbformat": 4,
 "nbformat_minor": 5
}
