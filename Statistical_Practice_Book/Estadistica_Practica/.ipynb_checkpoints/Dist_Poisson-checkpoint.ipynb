{
 "cells": [
  {
   "cell_type": "markdown",
   "id": "35dfc261",
   "metadata": {},
   "source": [
    "# Todo sobre la Distribucion de Poisson"
   ]
  },
  {
   "cell_type": "code",
   "execution_count": null,
   "id": "a45636bf",
   "metadata": {},
   "outputs": [],
   "source": []
  },
  {
   "cell_type": "markdown",
   "id": "2c193ccb",
   "metadata": {},
   "source": [
    "Es una D. de probabilidad discreta que describe el numero de eventos que ocurren en un intervalo fijo de tiempo o espacio. Tiene multiples aplicaciones en ciencia de datos\n",
    "\n",
    "\n",
    "\n",
    "Para determinar si un problema puede resolverse mediante esta distribucion, se deben cumplir los siguientes **Supuestos**:\n",
    "\n",
    "1.- **Variable discreta**: La variable aleatoria es el numero de veces que ocurre un evento durante un intervalo definido. El intervalo puede ser de tiempo, distancia, area, volumen o alguna unidad similar\n",
    "    \n",
    "    X = n veces que ocurre un evento durante un intervalo definido\n",
    "\n",
    "2.- **Tasa constante**: La probabilidad de ocurrencia es la misma para cualesquiera dos intervalos de igual longitud. En otras palabras, la tasa teorica con la que ocurren los eventos es constante. \n",
    "\n",
    "    Si la tasa de ocurrencia es de 4 eventos por dia, esto no quiere decir que cada dia ocurran 4 eventos, sino que se espera que sean 4. Es decir, un dia pueden suceder \n",
    "    2 eventos, otro dia 6 eventos, y asi sucesivamente, pero al pronmediar los eventos de todos los dias, arrojara una tasa de 4.\n",
    "    \n",
    "3.- **Eventos independientes**: La ocurrencia o no ocurrencia en cualquier intervalo es independiente de la ocurrencia o no ocurrencia en cualquier otro intervalo. Es decir, las ocurrencias de los eventos son independientes\n",
    "\n",
    "    El hecho de que ocurra un evento en un intervalo definido no aumenta o disminuye la probabilidad de que ocurra otro evento en el mismo intervalo.\n",
    "    \n",
    "4.- **Eventos unicos**: Dos eventos no pueden ocurrir exactamente al mismo tiempo\n",
    "\n",
    "Si se cumplen estos supuestos, podemos decir que la variable aleatoria discreta $X$ siguen una D. de Poisson. "
   ]
  },
  {
   "cell_type": "markdown",
   "id": "eea63eb7",
   "metadata": {},
   "source": [
    "## Funcion de Densidad de Probabilidad"
   ]
  },
  {
   "cell_type": "markdown",
   "id": "9fc7b95d",
   "metadata": {},
   "source": [
    "La funcion de la D. de Poisson viene dada por:\n",
    "\n",
    "$$f(x) = P(X=x) = \\frac{e^{-\\mu}\\cdot \\mu^x}{x!}$$\n",
    "\n",
    "donde: \n",
    "- $\\mu$ es la tasa de ocurrencia y es mayor que cero.\n",
    "- $x$ es el numero de eventos y toma valores enteros mayores a cero.\n",
    "- $P(X=x)$ es la probabilidad de $x$ ocurrencias en un intervalo."
   ]
  }
 ],
 "metadata": {
  "kernelspec": {
   "display_name": "Python 3 (ipykernel)",
   "language": "python",
   "name": "python3"
  },
  "language_info": {
   "codemirror_mode": {
    "name": "ipython",
    "version": 3
   },
   "file_extension": ".py",
   "mimetype": "text/x-python",
   "name": "python",
   "nbconvert_exporter": "python",
   "pygments_lexer": "ipython3",
   "version": "3.9.12"
  }
 },
 "nbformat": 4,
 "nbformat_minor": 5
}
