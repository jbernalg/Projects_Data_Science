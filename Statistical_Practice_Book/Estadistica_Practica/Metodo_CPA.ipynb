{
 "cells": [
  {
   "cell_type": "markdown",
   "id": "45e0168d",
   "metadata": {},
   "source": [
    "# __Todo sobre el Analisis de Componentes Principales (PCA)__"
   ]
  },
  {
   "cell_type": "markdown",
   "id": "577b4ea5",
   "metadata": {},
   "source": [
    "## Como Funciona?"
   ]
  },
  {
   "cell_type": "markdown",
   "id": "f208d5c4",
   "metadata": {},
   "source": [
    "Supongamos que tenemos un dataset con solo 2 variables (x1 y x2) y 3 observaciones (A, B y C):\n",
    "\n",
    "| Observación | x1 | x2 |\n",
    "| ----------- | -- | -- |\n",
    "| A           | 2  | 4  |\n",
    "| B           | 0  | 0  |\n",
    "| C           | -2 | -4 |\n",
    "\n",
    "Vemos que x2 es el doble de x1 , es decir, ambas variables esta correlacionadas. PCA detectara esta correlacion."
   ]
  },
  {
   "cell_type": "markdown",
   "id": "bcca93d6",
   "metadata": {},
   "source": [
    "### Paso 1: _Estandarizar los datos_"
   ]
  },
  {
   "cell_type": "markdown",
   "id": "ecb03a3c",
   "metadata": {},
   "source": [
    "Realizamos este proceso para que PCA no esté sesgado por las escalas de las variables. Utilizamos la formula de la desviacion estandar ($z$) y de la varianza poblacional ($\\sigma$) ya que son pocos datos:\n",
    "\n",
    "$$z = \\frac{x - \\overline{x}}{\\sigma}$$\n",
    "\n",
    "$$\\sigma = \\sqrt{\\frac{1}{n}\\sum (x_{i} - \\overline{x})^{2}}$$\n",
    "\n",
    "Calculamos la media y desviacion estandar de cada variable:\n",
    "\n",
    "- __Media de x1__: (2+0+(-2))/3 = 0\n",
    "- __Media de x2__: (4+0+(-4))/3 = 0\n",
    "- __std de x1__:\n",
    "    - Resta la media a cada dato y elevar al cuadrado:\n",
    "        \n",
    "        (2-0)^2 = 4\n",
    "        \n",
    "        (0-0)^2 = 0\n",
    "        \n",
    "        (-2-0)^2 = 4\n",
    "        \n",
    "    - Promedia lo cuadrados dividiendo entre n\n",
    "        \n",
    "        varianza = (4 + 0 + 4)/3 = 8/3\n",
    "        \n",
    "    - Sacar la raiz cuadrada\n",
    "        \n",
    "        std = sqrt(varianza) = (8/3)^1/2 = 1.632\n",
    "        \n",
    "- __std de x2__:\n",
    "    - Resta la media a cada dato y elevar al cuadrado:\n",
    "        \n",
    "        (4-0)^2 = 16\n",
    "        \n",
    "        (0-0)^2 = 0\n",
    "        \n",
    "        (-4-0)^2 = 16\n",
    "        \n",
    "    - Promedia lo cuadrados dividiendo entre n\n",
    "        \n",
    "        varianza = (16 + 0 + 16)/3 = 32/3\n",
    "        \n",
    "    - Sacar la raiz cuadrada\n",
    "        \n",
    "        std = sqrt(varianza) = (32/3)^1/2 = 3.266\n",
    "        \n",
    "    \n",
    "Ahora, estandarizamos los datos\n",
    "\n",
    "| Observación | x1\\_std           | x2\\_std           |\n",
    "| ----------- | ----------------- | ----------------- |\n",
    "| A           | 2 / 1.632 ≈ 1.225 | 4 / 3.266 ≈ 1.225 |\n",
    "| B           | 0                 | 0                 |\n",
    "| C           | -1.225            | -1.225            |\n",
    "\n"
   ]
  }
 ],
 "metadata": {
  "kernelspec": {
   "display_name": "data",
   "language": "python",
   "name": "python3"
  },
  "language_info": {
   "name": "python",
   "version": "3.10.8"
  }
 },
 "nbformat": 4,
 "nbformat_minor": 5
}
