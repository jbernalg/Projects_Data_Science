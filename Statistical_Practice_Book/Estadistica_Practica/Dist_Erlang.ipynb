{
 "cells": [
  {
   "cell_type": "markdown",
   "id": "927bc506",
   "metadata": {},
   "source": [
    "# Todo sobre la Distribucion de Erlang"
   ]
  },
  {
   "cell_type": "markdown",
   "id": "b9141184",
   "metadata": {},
   "source": [
    "Es una Distribucion continua de probabilidad utilizada para modelar el tiempo necesario para que ocurran $k$ eventos en un procesos de Poisson. Fue desarrollada por Agner Erlang en el contexto de la teoria de colas y telecomunicaciones y es esencial en situaciones donde se estudian tiempos entre eventos. Algunas aplicaciones comunes en Ciencia de Datos son:\n",
    "\n",
    "- Modelado de tiempos de espera entre eventos en sistemas de colas como en centros de atencion al cliente.\n",
    "\n",
    "- Modelado del tiempo entre la ocurrencia de multiples eventos sucesivos.\n",
    "\n",
    "- Modelado del tiempo entre la ocurrencia de errores o bugs en software ayudando a predecir la frecuencia y tiempo de las fallas.\n",
    "\n",
    "- Simulacion de procesos industriales constituidos por varias etapas, como tiempos de produccion.\n",
    "\n",
    "- Modelado de flujo de clientes en sistemas que requieren multiples interacciones o fases como en centro comerciales, hospitales, o servicios en linea."
   ]
  },
  {
   "cell_type": "code",
   "execution_count": null,
   "id": "22b81d05",
   "metadata": {},
   "outputs": [],
   "source": []
  },
  {
   "cell_type": "markdown",
   "id": "321a2880",
   "metadata": {},
   "source": [
    "## Deduccion de la Distribucion Erlang"
   ]
  },
  {
   "cell_type": "markdown",
   "id": "9314b013",
   "metadata": {},
   "source": [
    "La D. Erlang se obtiene de la generalizacion de la D. Exponencial la cual modela el tiempo transcurrido entre dos eventos, o bien, el tiempo que transcurre hasta que ocurre el primer evento.\n",
    "\n",
    "La variable $X$ de la D. exponencial representa el tiempo que transcurre para la primera ocurrencia. Una generalizacion consiste en hallar el tiempo que transcurre para r-esima ocurrencia, es decir\n",
    "\n",
    "$$Y = X_1 + X_2 + X_3 + ... + X_r$$\n",
    "\n",
    "Definimos $Y$ como la variable que representa dicha generalizacion la cual se interpreta como una suma de variables aleatorias exponenciales independientes entre si e identicamente distribuidas\n",
    "\n",
    "\n",
    "$$X_i \\sim Exp(\\lambda) = \\lambda e^{- \\lambda x}$$\n",
    "\n",
    "Supongamos que estamos interesados en obtener el tiempo que transcurre para la segunda ocurrencia, entonces $r = 2$, es decir\n",
    "\n",
    "$$Y = X_1 + X_2$$\n",
    "\n",
    "Debemos encontrar la funcion de distribucion de la variable $Y$ para poder calcular el tiempo. La funcion de probabilidad acumulada viene dada por:\n",
    "\n",
    "$$F(y) = P(Y \\leq y)$$\n",
    "\n",
    "Sustituimos la variable $Y$ en la probabilidad,\n",
    "\n",
    "$$F(y) = P(X_1 + X_2 \\leq y)$$\n",
    "\n",
    "Esta expresion corresponde a una funcion de densidad conjunta la cual presenta la siguiente propiedad:\n",
    "\n",
    "$$ f_{X_1X_2}(X_1, X_2) = f_{X_1}(X_1)f_{X_2}(X_2)$$\n",
    "\n",
    "Aplicando la propiedad anterior y sustituyendo las $X_i$ por su correspondiente distribucion exponencial, obtenemos\n",
    "\n",
    "$$F(y) = \\lambda^2 e^{-\\lambda(x_1 + x_2)}$$\n",
    "\n",
    "Para obtener la probabilidad buscada $F(y) = P(X_1 + X_2 \\leq y)$ vamos a integrar sobre el area de interes\n",
    "\n",
    "$$F(y) = P(X_1 + X_2 < y) =\\int_{x_2 = 0}^{x_2 =y}\\int_{x_1 = 0}^{x_2 = y - x_2} \\lambda^2 e^{-\\lambda(x_1 + x_2)} dx_1 dx_2$$\n",
    "\n",
    "El resultado de la integral es el siguiente:\n",
    "\n",
    "$$F(y) = P(X_1 + X_2 < y) = 1 - e^{-\\lambda y} -\\lambda y e^{-\\lambda y}$$\n",
    "\n",
    "si derivamos la expresion anterior obtenemos la funcion de densidad\n",
    "\n",
    "$$f(y) = \\frac{d(F(y))}{dy} = \\lambda^2 y e^{-\\lambda y}$$\n",
    "\n",
    "donde $y \\geq 0$\n",
    "\n",
    "Ahora, supongamos que estamos interesados en el tiempo que transcurre para la tercera ocurrencia, es decir $r = 3$\n",
    "\n",
    "$$Y = X_1 + X_2 + X_3$$\n",
    "\n",
    "Procediendo como para $k=2$ obtenemos la siguiente funcion de densidad\n",
    "\n",
    "$$f(y) = \\frac{1}{2} \\lambda^2 y^2 e^{- \\lambda y}$$\n",
    "\n",
    "Generalizando la funcion de densidad para diferentes valores de $k$, obtenemos\n",
    "\n",
    "$$Er(y) = f(y) =  \\frac{\\lambda^k y^{r-1}e^{- \\lambda y}}{(r-1)!} $$\n",
    "\n",
    "que corresponde a la funcion de densidad de la D. de Erlang."
   ]
  },
  {
   "cell_type": "code",
   "execution_count": null,
   "id": "23632c2e",
   "metadata": {},
   "outputs": [],
   "source": []
  },
  {
   "cell_type": "code",
   "execution_count": null,
   "id": "492c7beb",
   "metadata": {},
   "outputs": [],
   "source": []
  },
  {
   "cell_type": "markdown",
   "id": "be3ab80d",
   "metadata": {},
   "source": [
    "## Funcion de Densidad de Probabilidad"
   ]
  },
  {
   "attachments": {
    "image.png": {
     "image/png": "[encoded data removed]"
    }
   },
   "cell_type": "markdown",
   "id": "4d9839ba",
   "metadata": {},
   "source": [
    "La funcion de densidad de probabilidad para la D. Erlang viene dada por:\n",
    "\n",
    "$$ Er(r, \\lambda) = \\frac{\\lambda^r x^{r-1}e^{-\\lambda x}}{(r-1)!}$$\n",
    "\n",
    "donde:\n",
    "\n",
    "- $x \\geq 0$\n",
    "- $\\lambda$ es la intensidad de proceso conocido tambien como parametro de escala.\n",
    "- $r$ es un entero positivo que representa el numero de exitos que se desea obtener, tambien llamado parametro de forma.\n",
    "\n",
    "La grafica de la D. Erlang con valores de $\\lambda = 2$ y $k = 3$ viene dada por:\n",
    "\n",
    "![image.png](attachment:image.png)"
   ]
  },
  {
   "cell_type": "code",
   "execution_count": null,
   "id": "84bbcfb5",
   "metadata": {},
   "outputs": [],
   "source": []
  },
  {
   "cell_type": "markdown",
   "id": "24453dce",
   "metadata": {},
   "source": [
    "## Propiedades de la D. Erlang"
   ]
  },
  {
   "cell_type": "markdown",
   "id": "740fd071",
   "metadata": {},
   "source": [
    "- **La media $\\mu_E$** viene dada por el valor esperado $E[Y]$ de la suma de las $r$ variables exponenciales\n",
    "\n",
    "$$E[Y] = E[X_1 + X_2 + ... + X_k]$$\n",
    "$$E[Y] = E[X_1] + E[X_2] + ... + E[X_k]$$\n",
    "\n",
    "Sabemos que el valor esperado de una variable exponencial viene dado por:\n",
    "\n",
    "$$E[X_i] = \\frac{1}{\\lambda}$$\n",
    "\n",
    "Por tanto, sustituyendo en la ecuacion obtenemos que el valor de la media de la D. Erlang viene dada por:\n",
    "\n",
    "$$\\mu_E = E[Y] = \\frac{1}{\\lambda} + \\frac{1}{\\lambda} + \\frac{1}{\\lambda} ... = \\frac{r}{\\lambda}$$\n",
    "\n",
    "- **La varianza $\\sigma^2$** viene dada por la varianza de la suma de las $k$ variables exponenciales,\n",
    "\n",
    "$$Var[Y] = Var[X_1 + X_2 + X_3 +...+ X_r]$$\n",
    "\n",
    "Puesto que las $X_k$ son variables independientes, la varianza puede reescribirse como la suma de la varianza de cada variable\n",
    "\n",
    "$$Var[Y] = Var[X_1] + Var[X_2] + Var[X_3] + ... + Var[X_r]$$\n",
    "\n",
    "Sabemos que la varianza de una variable exponencial viene dado por:\n",
    "\n",
    "$$Var[X_i] = \\frac{1}{\\lambda^2}$$\n",
    "\n",
    "Entonces, sustituyendo la varianza para cada variable $X_i$ obtenemos,\n",
    "\n",
    "$$Var[Y] = \\frac{r}{\\lambda^2}$$"
   ]
  },
  {
   "cell_type": "code",
   "execution_count": null,
   "id": "bfb04cbf",
   "metadata": {},
   "outputs": [],
   "source": []
  },
  {
   "cell_type": "markdown",
   "id": "371d539a",
   "metadata": {},
   "source": [
    "## Ejemplo 1: *Consideremos una variable aleatoria Erlang X con parametros $\\lambda = 2$ y $r=3$. Calcular la probabilidad de que la variable sea menor o igual a 2*"
   ]
  },
  {
   "attachments": {
    "image.png": {
     "image/png": "[encoded data removed]"
    }
   },
   "cell_type": "markdown",
   "id": "d595a07f",
   "metadata": {},
   "source": [
    "Sabemos que la variable $X$ sigue una D. Erlang con los siguientes parametros:\n",
    "\n",
    "$$X \\sim Er(\\lambda = 2, r = 3)$$\n",
    "\n",
    "Se busca la probabilidad de que $X \\leq 2$ que graficamente se representa como el area sombreada,\n",
    "\n",
    "![image.png](attachment:image.png)\n",
    "\n",
    "Para ello, utilizamos la funcion de densidad de probabilidad,\n",
    "\n",
    "$$ Er(\\lambda, r)= \\lambda e^{-\\lambda x} \\frac{(\\lambda x)^{r-1}}{(r - 1)!}$$\n",
    "\n",
    "Sustituimos las valores dados en la funcion e integramos el area de 0 hasta 2, que corresponde a la probabilidad solicitada:\n",
    "\n",
    "$$P(X \\leq 2) = \\int_{0}^{2}2 e^{-2x} \\frac{(2x)^{3-1}}{(3 - 1)!}dx$$\n",
    "\n",
    "$$P(X \\leq 2) = \\int_{0}^{2} e^{-2x} (2x)^{2}dx = \\left [ (-1 -2x -2x^2)e^{-2x} \\right]_0 ^2$$\n",
    "\n",
    "$$P(X \\leq 2) = 1 - 13e^{-4} = 0.7618$$"
   ]
  },
  {
   "cell_type": "markdown",
   "id": "b10eb97b",
   "metadata": {},
   "source": [
    "> La probabilidad que la variable $X$ sea menor o igual a 2 es de 76.18%."
   ]
  },
  {
   "cell_type": "markdown",
   "id": "527e0a9b",
   "metadata": {},
   "source": [
    "Otra forma de resolver el problema es a traves del metodo de la Funcion de Distribucion Acumulada (CDF) de la D. Erlang que trae la libreria Scipy de Python. Esta nos permite calcular la parobabilidad acumulada hasta el valor limite dado."
   ]
  },
  {
   "cell_type": "code",
   "execution_count": 5,
   "id": "86d77f67",
   "metadata": {},
   "outputs": [],
   "source": [
    "# parametros de la distribucion\n",
    "\n",
    "# de forma\n",
    "r = 3\n",
    "# de escala\n",
    "lamb = 2\n",
    "# valor limite\n",
    "x = 2\n"
   ]
  },
  {
   "cell_type": "code",
   "execution_count": 6,
   "id": "54191ab7",
   "metadata": {},
   "outputs": [
    {
     "data": {
      "text/plain": [
       "0.7618966944464556"
      ]
     },
     "execution_count": 6,
     "metadata": {},
     "output_type": "execute_result"
    }
   ],
   "source": [
    "# libreria para utilizar Erlang\n",
    "from scipy.stats import erlang \n",
    "\n",
    "# calulo de la probabilidad acumulada hasta 2\n",
    "prob = erlang.cdf(x, r, scale=1/lamb)\n",
    "prob"
   ]
  },
  {
   "cell_type": "markdown",
   "id": "a7089774",
   "metadata": {},
   "source": [
    "> Obtenemos el mismo resultado que el anterior (76.18% de probabilidad) pero esta vez, evitamos el calculo de la integral."
   ]
  },
  {
   "cell_type": "code",
   "execution_count": null,
   "id": "a4c0bfce",
   "metadata": {},
   "outputs": [],
   "source": []
  },
  {
   "cell_type": "markdown",
   "id": "1510f93d",
   "metadata": {},
   "source": [
    "## Ejemplo 2: *Las fallas de unidades de procesamiento central (CPU) de los sistemas de computadores grandes se modelan con frecuencia como un proceso de Poisson. Por lo general, las fallas no son causadas por degaste sino por otros factores. Suponga que las unidades que fallan se reparan de inmediato y que el numero promedio de fallas por hora es de 0.0001.* "
   ]
  },
  {
   "cell_type": "markdown",
   "id": "b8c4b351",
   "metadata": {},
   "source": [
    "### Sea $X$ el tiempo hasta que ocurren 4 fallas en un sistema. Determine la probabilidad de que $X$ exceda 40000 horas."
   ]
  },
  {
   "attachments": {
    "image-2.png": {
     "image/png": "[encoded data removed]"
    },
    "image.png": {
     "image/png": "[encoded data removed]"
    }
   },
   "cell_type": "markdown",
   "id": "cbab7236",
   "metadata": {},
   "source": [
    "Como $X$ representa el tiempo que en el que ocurren 4 fallas, debemos utilizar la D. Erlang. En caso que represente solo una falla, bien podemos usar la D. Exponencial. Sabemos que $X$ sigue una D. Erlang con los siguientes parametros\n",
    "\n",
    "$$X \\sim Er(r=4, \\lambda = 0.0001)$$\n",
    "\n",
    "Nos piden calcular la probabilidad de de $X$ sea mayor a 4000,\n",
    "\n",
    "$$P(X > 40000)$$\n",
    "\n",
    "Que graficamente es calcular el area sombreada de la siguiente distribucion\n",
    "\n",
    "![image.png](attachment:image.png)\n",
    "\n",
    "Una forma de resolverlo con el metodo CDF de Scipy es aplicando la propiedad del complemento a la probabilidad anterior\n",
    "\n",
    "$$P(X > 40000) = 1 - P(X \\leq 40000)$$\n",
    "\n",
    "Donde $P(X \\leq 40000)$ se puede resolver mediante CDF y se representa como la siguiente area.\n",
    "\n",
    "![image-2.png](attachment:image-2.png)\n"
   ]
  },
  {
   "cell_type": "code",
   "execution_count": 7,
   "id": "9feddedb",
   "metadata": {},
   "outputs": [],
   "source": [
    "# parametros de la D.\n",
    "\n",
    "# de escala\n",
    "lamb = 0.0001\n",
    "# de forma\n",
    "r = 4\n",
    "# valor limite\n",
    "x = 40000"
   ]
  },
  {
   "cell_type": "markdown",
   "id": "ce4ff04f",
   "metadata": {},
   "source": [
    "Ahora, calculamos la probabilidad acumulada hasta el valor limite"
   ]
  },
  {
   "cell_type": "code",
   "execution_count": 10,
   "id": "62e6c0d8",
   "metadata": {},
   "outputs": [
    {
     "data": {
      "text/plain": [
       "0.5665"
      ]
     },
     "execution_count": 10,
     "metadata": {},
     "output_type": "execute_result"
    }
   ],
   "source": [
    "prob = erlang.cdf(x, r, scale=1/lamb)\n",
    "prob = round(prob, 4)\n",
    "prob"
   ]
  },
  {
   "cell_type": "markdown",
   "id": "1fd077da",
   "metadata": {},
   "source": [
    "Agregamos el resultado a $P(X > 40000)$ y obtenemos su valor"
   ]
  },
  {
   "cell_type": "code",
   "execution_count": 11,
   "id": "44cf2fa5",
   "metadata": {},
   "outputs": [
    {
     "data": {
      "text/plain": [
       "0.4335"
      ]
     },
     "execution_count": 11,
     "metadata": {},
     "output_type": "execute_result"
    }
   ],
   "source": [
    "result = 1 - prob\n",
    "result"
   ]
  },
  {
   "cell_type": "markdown",
   "id": "ca40af60",
   "metadata": {},
   "source": [
    "> La probabilidad de que el tiempo hasta que ocurran 4 fallas excedan las 40000 horas es de 43.35%."
   ]
  },
  {
   "cell_type": "code",
   "execution_count": null,
   "id": "bce1c249",
   "metadata": {},
   "outputs": [],
   "source": []
  },
  {
   "cell_type": "code",
   "execution_count": null,
   "id": "dc12f7ef",
   "metadata": {},
   "outputs": [],
   "source": []
  }
 ],
 "metadata": {
  "kernelspec": {
   "display_name": "Python 3 (ipykernel)",
   "language": "python",
   "name": "python3"
  },
  "language_info": {
   "codemirror_mode": {
    "name": "ipython",
    "version": 3
   },
   "file_extension": ".py",
   "mimetype": "text/x-python",
   "name": "python",
   "nbconvert_exporter": "python",
   "pygments_lexer": "ipython3",
   "version": "3.9.12"
  }
 },
 "nbformat": 4,
 "nbformat_minor": 5
}
