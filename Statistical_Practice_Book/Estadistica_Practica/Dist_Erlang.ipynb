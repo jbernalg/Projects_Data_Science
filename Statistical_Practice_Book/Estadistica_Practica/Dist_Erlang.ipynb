{
 "cells": [
  {
   "cell_type": "markdown",
   "id": "927bc506",
   "metadata": {},
   "source": [
    "# Todo sobre la Distribucion de Erlang"
   ]
  },
  {
   "cell_type": "markdown",
   "id": "b9141184",
   "metadata": {},
   "source": [
    "Es una Distribucion continua de probabilidad utilizada para modelar el tiempo necesario para que ocurran $k$ eventos en un procesos de Poisson. Fue desarrollada por Agner Erlang en el contexto de la teoria de colas y telecomunicaciones y es esencial en situaciones donde se estudian tiempos entre eventos. Algunas aplicaciones comunes en Ciencia de Datos son:\n",
    "\n",
    "- Modelado de tiempos de espera entre eventos en sistemas de colas como en centros de atencion al cliente.\n",
    "\n",
    "- Modelado del tiempo entre la ocurrencia de multiples eventos sucesivos.\n",
    "\n",
    "- Modelado del tiempo entre la ocurrencia de errores o bugs en software ayudando a predecir la frecuencia y tiempo de las fallas.\n",
    "\n",
    "- Simulacion de procesos industriales constituidos por varias etapas, como tiempos de produccion.\n",
    "\n",
    "- Modelado de flujo de clientes en sistemas que requieren multiples interacciones o fases como en centro comerciales, hospitales, o servicios en linea."
   ]
  },
  {
   "cell_type": "code",
   "execution_count": null,
   "id": "22b81d05",
   "metadata": {},
   "outputs": [],
   "source": []
  },
  {
   "cell_type": "markdown",
   "id": "321a2880",
   "metadata": {},
   "source": [
    "## Deduccion de la Distribucion Erlang"
   ]
  },
  {
   "cell_type": "markdown",
   "id": "9314b013",
   "metadata": {},
   "source": [
    "La D. Erlang se obtiene de la generalizacion de la D. Exponencial la cual modela el tiempo transcurrido entre dos eventos, o bien, el tiempo que transcurre hasta que ocurre el primer evento.\n",
    "\n",
    "La variable $X$ de la D. exponencial representa el tiempo que transcurre para la primera ocurrencia. Una generalizacion consiste en hallar el tiempo que transcurre para k-esima ocurrencia, es decir\n",
    "\n",
    "$$Y = X_1 + X_2 + X_3 + ... + X_k$$\n",
    "\n",
    "Definimos $Y$ como la variable que representa dicha generalizacion la cual se interpreta como una suma de variables aleatorias exponenciales independientes entre si e identicamente distribuidas\n",
    "\n",
    "\n",
    "$$X_i \\sim Exp(\\lambda) = \\lambda e^{- \\lambda x}$$\n",
    "\n",
    "Supongamos que estamos interesados en obtener el tiempo que transcurre para la segunda ocurrencia, entonces $k = 2$, es decir\n",
    "\n",
    "$$Y = X_1 + X_2$$\n",
    "\n",
    "Debemos encontrar la funcion de distribucion de la variable $Y$ para poder calcular el tiempo\n",
    "\n",
    "$$F(y) = P(Y \\leq y)$$\n",
    "\n",
    "Sustituimos la variable $Y$ en la probabilidad,\n",
    "\n",
    "$$F(y) = P(X_1 + X_2 \\leq y)$$\n",
    "\n",
    "Esta expresion corresponde a una funcion de densidad conjunta la cual presenta la siguiente propiedad:\n",
    "\n",
    "$$ f_{X_1X_2}(X_1, X_2) = f_{X_1}(X_1)f_{X_2}(X_2)$$\n",
    "\n",
    "Aplicando la propiedad anterior y sustituyendo las $X_i$ por su correspondiente distribucion exponencial, obtenemos\n",
    "\n",
    "$$F(y) = \\lambda^2 e^{-\\lambda(x_1 + x_2)}$$\n",
    "\n",
    "Para obtener la probabilidad buscada $F(y) = P(X_1 + X_2 \\leq y)$ vamos a integrar sobre el area de interes\n",
    "\n",
    "$$F(y) = P(X_1 + X_2 < y) =\\int_{x_2 = 0}^{x_2 =y}\\int_{x_1 = 0}^{x_2 = y - x_2} \\lambda^2 e^{-\\lambda(x_1 + x_2)} dx_1 dx_2$$\n",
    "\n",
    "El resultado de la integral es el siguiente:\n",
    "\n",
    "$$F(y) = P(X_1 + X_2 < y) = 1 - e^{-\\lambda y} -\\lambda y e^{-\\lambda y}$$\n",
    "\n",
    "si derivamos la expresion anterior obtenemos la funcion de densidad\n",
    "\n",
    "$$f(y) = \\frac{d(F(y))}{dy} = \\lambda^2 y e^{-\\lambda y}$$\n",
    "\n",
    "donde $y \\geq 0$\n",
    "\n",
    "Ahora, supongamos que estamos interesados en el tiempo que transcurre para la tercera ocurrencia, es decir $k = 3$\n",
    "\n",
    "$$Y = X_1 + X_2 + X_3$$\n",
    "\n",
    "Procediendo como para $k=2$ obtenemos la siguiente funcion de densidad\n",
    "\n",
    "$$f(y) = \\frac{1}{2} \\lambda^2 y^2 e^{- \\lambda y}$$\n",
    "\n",
    "Generalizando la funcion de densidad para diferentes valores de $k$, obtenemos\n",
    "\n",
    "$$f(y) = \\frac{\\lambda^k y^{k-1}e^{- \\lambda y}}{(k-1)!} $$\n",
    "\n",
    "que corresponde a la funcion de densidad de la D. de Erlang."
   ]
  },
  {
   "cell_type": "code",
   "execution_count": null,
   "id": "23632c2e",
   "metadata": {},
   "outputs": [],
   "source": []
  },
  {
   "cell_type": "code",
   "execution_count": null,
   "id": "492c7beb",
   "metadata": {},
   "outputs": [],
   "source": []
  },
  {
   "cell_type": "markdown",
   "id": "be3ab80d",
   "metadata": {},
   "source": [
    "## Funcion de Densidad de Probabilidad"
   ]
  },
  {
   "cell_type": "markdown",
   "id": "4d9839ba",
   "metadata": {},
   "source": [
    "La funcion de densidad de probabilidad para la D. Erlang viene dada por:\n",
    "\n",
    "$$ f(x, k, \\lambda) = \\frac{\\lambda^k x^{k-1}e^{-\\lambda x}}{(k-1)!}$$\n",
    "\n",
    "donde:\n",
    "\n",
    "- $x \\geq 0$\n",
    "- $\\lambda$ es la intensidad de proceso conocido tambien como parametro de escala.\n",
    "- $k$ es el numero de exitos que se desea obtener conocido tambien como parametro de forma."
   ]
  }
 ],
 "metadata": {
  "kernelspec": {
   "display_name": "Python 3 (ipykernel)",
   "language": "python",
   "name": "python3"
  },
  "language_info": {
   "codemirror_mode": {
    "name": "ipython",
    "version": 3
   },
   "file_extension": ".py",
   "mimetype": "text/x-python",
   "name": "python",
   "nbconvert_exporter": "python",
   "pygments_lexer": "ipython3",
   "version": "3.9.12"
  }
 },
 "nbformat": 4,
 "nbformat_minor": 5
}
