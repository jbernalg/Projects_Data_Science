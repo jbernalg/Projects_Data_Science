{
 "cells": [
  {
   "cell_type": "markdown",
   "id": "927bc506",
   "metadata": {},
   "source": [
    "# Todo sobre la Distribucion de Erlang"
   ]
  },
  {
   "cell_type": "markdown",
   "id": "b9141184",
   "metadata": {},
   "source": [
    "Es una Distribucion continua de probabilidad utilizada para modelar el tiempo necesario para que ocurran $k$ eventos en un procesos de Poisson. Fue desarrollada por Agner Erlang en el contexto de la teoria de colas y telecomunicaciones y es esencial en situaciones donde se estudian tiempos entre eventos. Algunas aplicaciones comunes en Ciencia de Datos son:\n",
    "\n",
    "- Modelado de tiempos de espera entre eventos en sistemas de colas como en centros de atencion al cliente.\n",
    "\n",
    "- Modelado del tiempo entre la ocurrencia de multiples eventos sucesivos.\n",
    "\n",
    "- Modelado del tiempo entre la ocurrencia de errores o bugs en software ayudando a predecir la frecuencia y tiempo de las fallas.\n",
    "\n",
    "- Simulacion de procesos industriales constituidos por varias etapas, como tiempos de produccion.\n",
    "\n",
    "- Modelado de flujo de clientes en sistemas que requieren multiples interacciones o fases como en centro comerciales, hospitales, o servicios en linea."
   ]
  },
  {
   "cell_type": "code",
   "execution_count": null,
   "id": "22b81d05",
   "metadata": {},
   "outputs": [],
   "source": []
  },
  {
   "cell_type": "markdown",
   "id": "321a2880",
   "metadata": {},
   "source": [
    "## Deduccion de la Distribucion Erlang"
   ]
  },
  {
   "cell_type": "markdown",
   "id": "9314b013",
   "metadata": {},
   "source": [
    "La D. Erlang se obtiene de la generalizacion de la D. Exponencial la cual modela el tiempo transcurrido entre dos eventos, o bien, el tiempo que transcurre hasta que ocurre el primer evento.\n",
    "\n",
    "La variable $X$ de la D. exponencial representa el tiempo que transcurre para la primera ocurrencia. Una generalizacion consiste en hallar el tiempo que transcurre para k-esima ocurrencia, es decir\n",
    "\n",
    "$X_1:$ tiempo que transcurre para la primera ocurrencia.\n",
    "\n",
    "$X_2:$ tiempo que transcurre entre la primera y la segunda ocurrencia.\n",
    "\n",
    "$X_3:$ tiempo que transcurre entre la segunda y la tercera ocurrencia.\n",
    "\n",
    "$X_k:$ tiempo que transcurre entre la $k-1$ y la $k$-esima ocurrencia.\n",
    "\n",
    "Definimos $Y$ como la variable que representa dicha generalizacion\n",
    "\n",
    "$$Y = X_1 + X_2 + X_3 + ... + X_k$$\n",
    "\n",
    "La anterior generalizacion se puede interpretar como una suma de variables aleatorias exponenciales que son independientes entre si e identicamente distribuidas\n",
    "\n",
    "$$X_i \\sim Exp(\\lambda)$$\n",
    "\n",
    "Supongamos que estamos interesados en obtener el tiempo que transcurre para la segunda ocurrencia, entonces $k = 2$, es decir\n",
    "\n",
    "$$Y = X_1 + X_2$$\n",
    "\n",
    "Debemos encontrar la funcion de distribucion de la variable $Y$ para poder calcular el tiempo\n",
    "\n",
    "$$f(x) = P(Y \\geq x)$$"
   ]
  },
  {
   "cell_type": "code",
   "execution_count": null,
   "id": "23632c2e",
   "metadata": {},
   "outputs": [],
   "source": []
  },
  {
   "cell_type": "code",
   "execution_count": null,
   "id": "492c7beb",
   "metadata": {},
   "outputs": [],
   "source": []
  },
  {
   "cell_type": "markdown",
   "id": "be3ab80d",
   "metadata": {},
   "source": [
    "## Funcion de Densidad de Probabilidad"
   ]
  },
  {
   "cell_type": "markdown",
   "id": "4d9839ba",
   "metadata": {},
   "source": [
    "La funcion de densidad de probabilidad para la D. Erlang viene dada por:\n",
    "\n",
    "$$ f(x, k, \\lambda) = \\frac{\\lambda^k x^{k-1}e^{-\\lambda x}}{(k-1)!}$$\n",
    "\n",
    "donde:\n",
    "\n",
    "- $x \\geq 0$"
   ]
  }
 ],
 "metadata": {
  "kernelspec": {
   "display_name": "Python 3 (ipykernel)",
   "language": "python",
   "name": "python3"
  },
  "language_info": {
   "codemirror_mode": {
    "name": "ipython",
    "version": 3
   },
   "file_extension": ".py",
   "mimetype": "text/x-python",
   "name": "python",
   "nbconvert_exporter": "python",
   "pygments_lexer": "ipython3",
   "version": "3.9.12"
  }
 },
 "nbformat": 4,
 "nbformat_minor": 5
}
