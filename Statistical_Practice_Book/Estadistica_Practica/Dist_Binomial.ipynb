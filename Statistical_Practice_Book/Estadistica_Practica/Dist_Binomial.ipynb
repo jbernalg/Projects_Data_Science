{
 "cells": [
  {
   "cell_type": "markdown",
   "id": "46a6da15",
   "metadata": {},
   "source": [
    "# Todo sobre la D. Binomial"
   ]
  },
  {
   "cell_type": "markdown",
   "id": "31e0bd8e",
   "metadata": {},
   "source": [
    "Hace referencia a un experimento aleatorio de Bernoulli, caracterizado por solo tener dos resultados posibles, que se repite $n$ veces. Algunos ejemplos de experimentos de Bernoulli son: jugar la loteria (gana o pierde), lanzar un moneda (cara o cruz), un lanzamiento en baloncesto (encesta el balon o no).\n",
    "Un experimento binomial cumple las siguientes condiciones:\n",
    "\n",
    "1. El experimento consta de una secuencia de $n$ ensayos identicos (experimentos de Bernoulli).\n",
    "2. En cada ensayo hay dos resultados posibles, uno llamado exito y otro fracaso.\n",
    "3. La probabilidad de exito es constante de un ensayo a otro, y se denota por $p$.\n",
    "4. La probabilidad de fracaso viene dado en funcion de $p$: $1 - p$\n",
    "5. Los ensayos son independientes. El resultado de cualquiera de ellos no influye en el resultado de cualquier otro.\n",
    "\n",
    "Veamos un ejemplo:"
   ]
  },
  {
   "cell_type": "markdown",
   "id": "56f6abaa",
   "metadata": {},
   "source": [
    "### *Un jugador de baloncesto tiene un 80% de aciertos en tiros libres. Si tiras tres lanzamientos seguidos, Cual es la probabilidad de que acierte los tres?*"
   ]
  },
  {
   "cell_type": "markdown",
   "id": "3e856270",
   "metadata": {},
   "source": [
    "- Probabilidad de exito: $p=0.8$\n",
    "- Probabilidad de fracaso: $q=0.2$\n",
    "\n",
    "Este problema podemos representarlo mediante un diagrama de arbol donde $A$ simboliza el acierto y $\\bar{A}$ el fallo\n",
    "\n",
    "![imagen](./images/diagrama_arbol.png)\n",
    "\n",
    "Por la ley de producto, que indica que al ir recorriendo los eventos se multiplican las probabilidades que se vayan encontrando, podemos deducir que la probabilidad de acertar los tres lanzamientos viene dado por:\n",
    "\n",
    "$$P(A\\cap A\\cap A) = p\\cdot p\\cdot p = 0.8\\cdot 0.8\\cdot 0.8 = 0.512$$"
   ]
  },
  {
   "cell_type": "markdown",
   "id": "f0acdbff",
   "metadata": {},
   "source": [
    "### *Cual es la probabilidad de que falle los tres tiros?*"
   ]
  },
  {
   "cell_type": "markdown",
   "id": "39f6e389",
   "metadata": {},
   "source": [
    "Si nos fijamos en el diagrama del arbol y recorremos la ruta de las  tres $\\bar{A}$ obtenemos la siguiente probabilidad:\n",
    "$$P(\\bar{A}\\cap\\bar{A}\\cap\\bar{A}) = q\\cdot q\\cdot q = 0.2\\cdot 0.2\\cdot 0.2 = 0.008$$"
   ]
  },
  {
   "cell_type": "markdown",
   "id": "4bdd8d6b",
   "metadata": {},
   "source": [
    "### Cual es la probabilidad que de los tres tiros falle el ultimo?"
   ]
  },
  {
   "cell_type": "markdown",
   "id": "d54bbe26",
   "metadata": {},
   "source": [
    "Tras seguir la ruta en el diagrama de arbol donde los dos primeros tiros son aciertos y el ultimo un fallo, obtenemos:\n",
    "\n",
    "$$P(A\\cap A\\cap\\bar{A}) = p\\cdot p\\cdot q = 0.8\\cdot 0.8\\cdot 0.2 = 0.128$$"
   ]
  },
  {
   "cell_type": "markdown",
   "id": "992a10fc",
   "metadata": {},
   "source": [
    "### Cual es la probabilidad de que acierte dos de los tres lanzamientos?"
   ]
  },
  {
   "cell_type": "markdown",
   "id": "c97714ef",
   "metadata": {},
   "source": [
    "Para este caso, tenemos tres alternativas posibles representadas como sigue:\n",
    "- 2 aciertos, 1 fallo: $P(A\\cap A\\cap\\bar{A})= p\\cdot p \\cdot q = 0.128$\n",
    "- 1 acierto, 1 fallo, 1 acierto: $P(A\\cap \\bar{A}\\cap A) = p \\cdot q \\cdot p = 0.128 $\n",
    "- 1 fallo, 2 aciertos: $P(\\bar{A}\\cap A\\cap A) = q \\cdot p \\cdot p = 0.128$\n",
    "\n",
    "Notemos que las probabilidades son las mismas para las tres alternativas. La probabilidad de acertar dos de los tres lanzamientos viene dada por la suma de las probabilidades de cada alternativa:\n",
    "\n",
    "$$P(DosAciertos) = P(A\\cap A\\cap \\bar{A})\\cup P(A\\cap \\bar{A}\\cap A)\\cup P(\\bar{A}\\cap A\\cap A)$$\n",
    "\n",
    "Al sustituir los valores vemos que el resultado es tomar la probabilidad de una de las alternativas y multiplicarla por la cantidad de las mismas:\n",
    "\n",
    "$$P(DosAciertos) = 0.128 + 0.128 + 0.128 = 3\\cdot 0.128$$"
   ]
  },
  {
   "cell_type": "markdown",
   "id": "2ba46a7a",
   "metadata": {},
   "source": [
    "### Cual es la probabilidad de acertar dos tiros en cuatro lanzamientos?"
   ]
  },
  {
   "cell_type": "markdown",
   "id": "cbb82d2d",
   "metadata": {},
   "source": [
    "En este caso tenemos 6 alternativas posibles:\n",
    "\n",
    "- $P(A\\cap A\\cap \\bar{A} \\cap \\bar{A})= p\\cdot p \\cdot q \\cdot q = 0.8 \\cdot 0.8 \\cdot 0.2 \\cdot 0.2 = 0.0256$\n",
    "- $P(A\\cap \\bar{A}\\cap A \\cap \\bar{A})= p\\cdot q \\cdot p \\cdot q = 0.8 \\cdot 0.2 \\cdot 0.8 \\cdot 0.2 = 0.0256$\n",
    "- $P(A\\cap \\bar{A}\\cap \\bar{A} \\cap A)= p\\cdot q \\cdot q \\cdot p = 0.8 \\cdot 0.2 \\cdot 0.2 \\cdot 0.8 = 0.0256$\n",
    "- $P(\\bar{A}\\cap A\\cap A \\cap \\bar{A})= q\\cdot p \\cdot p \\cdot q = 0.2 \\cdot 0.8 \\cdot 0.8 \\cdot 0.2 = 0.0256$\n",
    "- $P(\\bar{A}\\cap A\\cap \\bar{A} \\cap A)= q\\cdot p \\cdot q \\cdot p = 0.2 \\cdot 0.8 \\cdot 0.2 \\cdot 0.8 = 0.0256$\n",
    "- $P(\\bar{A}\\cap \\bar{A}\\cap A \\cap A)= q\\cdot q \\cdot p \\cdot p = 0.2 \\cdot 0.2 \\cdot 0.8 \\cdot 0.8 = 0.0256$\n",
    "\n",
    "Pero, como hemos dicho antes, la probabilidad de acertar dos tiros en cuatro lanzamientos es tomar la probabilidad de una de las alternativas por el total de posibles alternativas que existan\n",
    "\n",
    "$$P(DosAciertos) = 6\\cdot 0.0256$$"
   ]
  },
  {
   "cell_type": "markdown",
   "id": "731f15d4",
   "metadata": {},
   "source": [
    "### Y para acertar dos canastas en cinco lanzamientos, cual seria la probabilidad?"
   ]
  },
  {
   "cell_type": "markdown",
   "id": "0dc28a0e",
   "metadata": {},
   "source": [
    "Encontrar las posibles alternativas de forma manual seria muy tedioso. El objetivo es este punto es deducir una formula que nos permita realizar el calculo de probabilidad de forma directa, conociendo la probabilidad de exito, el numero de eventos y el numero de casos de exito.\n",
    "\n",
    "Para este caso tenemos 5 eventos de los cuales queremos 2 casos de exito y 3 de fallos. Debemos calcular, mediante combinatoria, de cuantas maneras podemos ordenar estos 5 elementos de manera que 1 se repite dos veces y el otro 3 veces. Para calcular estas combinaciones utilizamos la formula de las permutaciones con repeticion:\n",
    "\n",
    "$$PR_{5}^{2,3} = \\frac{5!}{2!\\cdot3!} = \\binom{5}{2} = 10$$\n",
    "\n",
    "Ahora solo queda calcular la probabilidad de una de estas 10 alternativas y tomaremos la de dos aciertos seguido de 3 fallos:\n",
    "\n",
    "$$P(A\\cap A\\cap \\bar{A} \\cap \\bar{A} \\cap \\bar{A}) = p \\cdot p \\cdot q \\cdot q \\cdot q$$\n",
    "\n",
    "Entonces, de manera general, la probabilidad de acertar dos canastas en cinco lanzamientos viene dado por:\n",
    "\n",
    "$$P(DosAciertos) = 10 \\cdot p^{2} \\cdot q^{3}$$"
   ]
  },
  {
   "cell_type": "markdown",
   "id": "2e03f0e3",
   "metadata": {},
   "source": [
    "### Formula de la distribucion Binomial"
   ]
  },
  {
   "cell_type": "markdown",
   "id": "bce8bd9c",
   "metadata": {},
   "source": [
    "La funcion de una distribucion binomial se expresa como\n",
    "\n",
    "$$B(n, p)$$\n",
    "\n",
    "donde $n$ es el numero de eventos a estudiar y $p$ es la probabilidad de exito. La probabilidad de obtener $k$ numero de exitos conociendo el total de eventos a estudiar y la probabilidad de exito viene dada por la formula de la distribucion binomial:\n",
    "\n",
    "$$P(k)=\\binom{n}{k} p^k q^{n-k}$$\n",
    "\n",
    "Donde:\n",
    "\n",
    "$p$ = probabilidad de exito\n",
    "\n",
    "$q = (1 - p)$ = probabilidad de fracaso\n",
    "\n",
    "$n$ = numero de eventos estudiados\n",
    "\n",
    "$k$ = numero de eventos deseados que tengan exito\n"
   ]
  },
  {
   "cell_type": "code",
   "execution_count": null,
   "id": "a44a7423",
   "metadata": {},
   "outputs": [],
   "source": []
  },
  {
   "cell_type": "markdown",
   "id": "e824f4fa",
   "metadata": {},
   "source": [
    "## Importar librerias"
   ]
  },
  {
   "cell_type": "code",
   "execution_count": 93,
   "id": "6ebe53de",
   "metadata": {},
   "outputs": [],
   "source": [
    "# librerias a utilizar\n",
    "import numpy as np\n",
    "import matplotlib.pyplot as plt\n",
    "from scipy.stats import binom\n",
    "import seaborn as sns"
   ]
  },
  {
   "cell_type": "code",
   "execution_count": null,
   "id": "e415a334",
   "metadata": {},
   "outputs": [],
   "source": []
  },
  {
   "cell_type": "markdown",
   "id": "85522a25",
   "metadata": {},
   "source": [
    "## Metodos de la libreria scipy a utilizar"
   ]
  },
  {
   "cell_type": "markdown",
   "id": "933e1cf7",
   "metadata": {},
   "source": [
    "### PMF (Probability Mass Function)\n",
    "Aplica sobre variables discretas y proporciona la probabilidad de que una variable aleatoria discreta tome un valor especifico. Supongamos que realizamos un experimento que repetimos 10 veces y una probabilidad de ocurrencia igual para cada experimento de 0.5. Veamos la probabilidad para cada numero de eventos exitosos utilizando pmf"
   ]
  },
  {
   "cell_type": "code",
   "execution_count": 3,
   "id": "d5d692a7",
   "metadata": {},
   "outputs": [
    {
     "data": {
      "image/png": "[encoded data removed]",
      "text/plain": [
       "<Figure size 864x432 with 1 Axes>"
      ]
     },
     "metadata": {
      "needs_background": "light"
     },
     "output_type": "display_data"
    }
   ],
   "source": [
    "# parametros de las D. binomial\n",
    "# numero de eventos estudiados\n",
    "n = 10\n",
    "# probabilidad de exito de cada evento\n",
    "p = 0.5\n",
    "# probabilidad de fracaso\n",
    "q = 1 - p\n",
    "\n",
    "# generamos los posibles valores de k (numero deseado de exito)\n",
    "k = np.arange(0, n+1)\n",
    "\n",
    "plt.figure(figsize=(12, 6))\n",
    "\n",
    "# calcular pmf y cdf\n",
    "pmf = binom.pmf(k, n, p)\n",
    "plt.bar(k , pmf, alpha=0.7, color='blue', edgecolor='black', label='pmf')\n",
    "plt.xlabel('Número de éxitos (k)')\n",
    "plt.ylabel('Probabilidad')\n",
    "plt.title(f'Distribución Binomial (n={n}, p={p})')\n",
    "plt.legend()\n",
    "plt.grid(True);\n"
   ]
  },
  {
   "cell_type": "markdown",
   "id": "3143af6e",
   "metadata": {},
   "source": [
    "### CDF (Cumulative Distribution Function)\n",
    "Aplica tanto a variables discretas como continuas. Proporciona la probabilidad de que una variable aleatoria tome un valor menor o igual a un valor especifico. Veamos la probabilidad acumulativa para cada numero de eventos exitosos del ejemplo anterior utilizando cdf."
   ]
  },
  {
   "cell_type": "code",
   "execution_count": 4,
   "id": "f0a676c2",
   "metadata": {},
   "outputs": [
    {
     "data": {
      "image/png": "[encoded data removed]",
      "text/plain": [
       "<Figure size 864x432 with 1 Axes>"
      ]
     },
     "metadata": {
      "needs_background": "light"
     },
     "output_type": "display_data"
    }
   ],
   "source": [
    "# parametros de las D. binomial\n",
    "# numero de eventos estudiados\n",
    "n = 10\n",
    "# probabilidad de exito de cada evento\n",
    "p = 0.5\n",
    "# probabilidad de fracaso\n",
    "q = 1 - p\n",
    "\n",
    "# generamos los posibles valores de k (numero deseado de exito)\n",
    "k = np.arange(0, n+1)\n",
    "\n",
    "plt.figure(figsize=(12, 6))\n",
    "\n",
    "cdf = binom.cdf(k, n, p)\n",
    "\n",
    "plt.plot(k, cdf, 'r--', marker='o', label= 'cdf')\n",
    "plt.xlabel('Número de éxitos (k)')\n",
    "plt.ylabel('Probabilidad')\n",
    "plt.title(f'Distribución Binomial (n={n}, p={p})')\n",
    "plt.legend()\n",
    "plt.grid(True)\n"
   ]
  },
  {
   "cell_type": "markdown",
   "id": "b9460ddc",
   "metadata": {},
   "source": [
    "### PPF (Percent Point Function)\n",
    "Conocida como funcion de cuantiles, es la inversa de la distribucion acumulada cdf. Dada una probabilidad, esta funcion proporciona el valor $x$ tal que la probabilidad de que la variable sea menor o igual a $x$ es igual a $q$. Veamos las probabilidades para los cuantiles del ejemplo anterior utilizando ppf. "
   ]
  },
  {
   "cell_type": "code",
   "execution_count": 5,
   "id": "cb04e004",
   "metadata": {},
   "outputs": [
    {
     "data": {
      "image/png": "[encoded data removed]",
      "text/plain": [
       "<Figure size 864x432 with 1 Axes>"
      ]
     },
     "metadata": {
      "needs_background": "light"
     },
     "output_type": "display_data"
    }
   ],
   "source": [
    "# parametros de las D. binomial\n",
    "# numero de eventos estudiados\n",
    "n = 10\n",
    "# probabilidad de exito de cada evento\n",
    "p = 0.5\n",
    "# probabilidad de fracaso\n",
    "q = 1 - p\n",
    "\n",
    "plt.figure(figsize=(12, 6))\n",
    "\n",
    "# Generar valores para la ppf\n",
    "q_values = np.linspace(0, 1, 100)\n",
    "ppf = binom.ppf(q_values, n, p)\n",
    "\n",
    "plt.plot(q_values, ppf, 'g-', marker='o', label='ppf')\n",
    "plt.xlabel('Probabilidad (q)')\n",
    "plt.ylabel('Cuantil (k)')\n",
    "plt.title('Función Percentil (PPF)')\n",
    "plt.legend()\n",
    "plt.grid(True)\n"
   ]
  },
  {
   "cell_type": "code",
   "execution_count": null,
   "id": "8255c869",
   "metadata": {},
   "outputs": [],
   "source": []
  },
  {
   "cell_type": "markdown",
   "id": "a2968d7f",
   "metadata": {},
   "source": [
    "## Ejemplo 1:  *Se lanza una moneda cuatro veces. Calcular la probabilidad de que salgan mas caras que cruces*"
   ]
  },
  {
   "cell_type": "markdown",
   "id": "1997ebac",
   "metadata": {},
   "source": [
    "### Solucion de forma manual"
   ]
  },
  {
   "cell_type": "code",
   "execution_count": 6,
   "id": "916f3ce0",
   "metadata": {},
   "outputs": [],
   "source": [
    "# probabilidad que salga cara\n",
    "p = 0.5\n",
    "\n",
    "# probabilidad que salga cruz\n",
    "q = 1 - p\n",
    "\n",
    "# numero de eventos estudiados\n",
    "n = 4"
   ]
  },
  {
   "cell_type": "markdown",
   "id": "68816557",
   "metadata": {},
   "source": [
    "Como estamos interesados en conocer la probabilidad de que salgan más caras que cruces, los eventos donde esto ocurre es cuando, o salen tres caras y una cruz, o salen cuatro caras y cero cruces, por lo que:\n",
    "\n",
    "$$P(X \\geq 3)= P(X = 3) + P(X = 4)$$"
   ]
  },
  {
   "cell_type": "code",
   "execution_count": 7,
   "id": "051c28a6",
   "metadata": {},
   "outputs": [],
   "source": [
    "# libreria para calcular combinaciones\n",
    "from scipy.special import comb"
   ]
  },
  {
   "cell_type": "markdown",
   "id": "9718b504",
   "metadata": {},
   "source": [
    "**Calcular probabilidad que salgan 3 caras**"
   ]
  },
  {
   "cell_type": "code",
   "execution_count": 8,
   "id": "5f1838fa",
   "metadata": {},
   "outputs": [
    {
     "data": {
      "text/plain": [
       "4.0"
      ]
     },
     "execution_count": 8,
     "metadata": {},
     "output_type": "execute_result"
    }
   ],
   "source": [
    "# numero de eventos deseados\n",
    "k_3 = 3\n",
    "\n",
    "# calculo de las combinaciones\n",
    "combinaciones = comb(n, k_3)\n",
    "combinaciones"
   ]
  },
  {
   "cell_type": "code",
   "execution_count": 9,
   "id": "683d04dc",
   "metadata": {},
   "outputs": [
    {
     "data": {
      "text/plain": [
       "0.25"
      ]
     },
     "execution_count": 9,
     "metadata": {},
     "output_type": "execute_result"
    }
   ],
   "source": [
    "# probabilidad que salgan 3 caras\n",
    "P_3 = combinaciones*(p**k_3)*(q**(n - k_3))\n",
    "P_3"
   ]
  },
  {
   "cell_type": "markdown",
   "id": "8fed6bfe",
   "metadata": {},
   "source": [
    "**Calcular probabilidad que salgan 4 caras**"
   ]
  },
  {
   "cell_type": "code",
   "execution_count": 10,
   "id": "1291a16a",
   "metadata": {},
   "outputs": [
    {
     "data": {
      "text/plain": [
       "1.0"
      ]
     },
     "execution_count": 10,
     "metadata": {},
     "output_type": "execute_result"
    }
   ],
   "source": [
    "# numero de eventos deseados\n",
    "k_4 = 4\n",
    "\n",
    "# calculo de las combinaciones\n",
    "combinaciones = comb(n, k_4)\n",
    "combinaciones"
   ]
  },
  {
   "cell_type": "code",
   "execution_count": 11,
   "id": "943dfc5c",
   "metadata": {},
   "outputs": [
    {
     "data": {
      "text/plain": [
       "0.0625"
      ]
     },
     "execution_count": 11,
     "metadata": {},
     "output_type": "execute_result"
    }
   ],
   "source": [
    "# probabilidad que salgan 4 caras\n",
    "P_4 = combinaciones*(p**k_4)*(q**(n - k_4))\n",
    "P_4"
   ]
  },
  {
   "cell_type": "markdown",
   "id": "2a38036f",
   "metadata": {},
   "source": [
    "**Probabilidad que salgan mas de dos caras**"
   ]
  },
  {
   "cell_type": "code",
   "execution_count": 12,
   "id": "fdf75fb4",
   "metadata": {},
   "outputs": [
    {
     "data": {
      "text/plain": [
       "0.3125"
      ]
     },
     "execution_count": 12,
     "metadata": {},
     "output_type": "execute_result"
    }
   ],
   "source": [
    "P = P_3 + P_4\n",
    "P"
   ]
  },
  {
   "cell_type": "markdown",
   "id": "b14c91fa",
   "metadata": {},
   "source": [
    "### Solucion con Python"
   ]
  },
  {
   "cell_type": "code",
   "execution_count": 13,
   "id": "eb2c98bc",
   "metadata": {},
   "outputs": [],
   "source": [
    "# libreria para calcular probabilidad \n",
    "from scipy.stats import binom"
   ]
  },
  {
   "cell_type": "markdown",
   "id": "eb4a9a7b",
   "metadata": {},
   "source": [
    "Vamos a calcular cada una de las probabilidades con la funcion binom y luego sumarlas. "
   ]
  },
  {
   "cell_type": "code",
   "execution_count": 14,
   "id": "dedf52fa",
   "metadata": {},
   "outputs": [
    {
     "data": {
      "text/plain": [
       "0.25000000000000006"
      ]
     },
     "execution_count": 14,
     "metadata": {},
     "output_type": "execute_result"
    }
   ],
   "source": [
    "# numero de eventos estudiados\n",
    "n = 4\n",
    "\n",
    "# probabilidad que salga cara\n",
    "p = 0.5\n",
    "\n",
    "# numero de eventos deseados\n",
    "k_3 = 3\n",
    "\n",
    "P_3 = binom.pmf(k_3, n, p)\n",
    "P_3"
   ]
  },
  {
   "cell_type": "code",
   "execution_count": 15,
   "id": "d4ce37e5",
   "metadata": {},
   "outputs": [
    {
     "data": {
      "text/plain": [
       "0.0625"
      ]
     },
     "execution_count": 15,
     "metadata": {},
     "output_type": "execute_result"
    }
   ],
   "source": [
    "# numero de eventos deseados\n",
    "k_4 = 4\n",
    "\n",
    "P_4 = binom.pmf(k_4, n, p)\n",
    "P_4"
   ]
  },
  {
   "cell_type": "code",
   "execution_count": 16,
   "id": "ce8dcaf8",
   "metadata": {},
   "outputs": [
    {
     "data": {
      "text/plain": [
       "0.31250000000000006"
      ]
     },
     "execution_count": 16,
     "metadata": {},
     "output_type": "execute_result"
    }
   ],
   "source": [
    "# suma de las probabilidades\n",
    "P = P_3 + P_4\n",
    "P"
   ]
  },
  {
   "cell_type": "code",
   "execution_count": 17,
   "id": "59083a37",
   "metadata": {},
   "outputs": [
    {
     "data": {
      "text/plain": [
       "0.31250000000000006"
      ]
     },
     "execution_count": 17,
     "metadata": {},
     "output_type": "execute_result"
    }
   ],
   "source": [
    "# otra alternativa\n",
    "P = binom.pmf([3,4], n, p).sum()\n",
    "P"
   ]
  },
  {
   "cell_type": "code",
   "execution_count": null,
   "id": "17977d4e",
   "metadata": {},
   "outputs": [],
   "source": []
  },
  {
   "cell_type": "markdown",
   "id": "114cb37e",
   "metadata": {},
   "source": [
    "## Ejemplo 2: *Un agente de seguros vende pólizas a cinco personas de la misma edad y que disfrutan de buena salud. Según las tablas actuales, la probabilidad de que una persona en estas condiciones viva 30 años o más es 2/3. Hállese la probabilidad de que, transcurridos 30 años, vivan:*"
   ]
  },
  {
   "cell_type": "markdown",
   "id": "2e02d8a4",
   "metadata": {},
   "source": [
    "### a.- Las cinco personas"
   ]
  },
  {
   "cell_type": "code",
   "execution_count": 18,
   "id": "809b0550",
   "metadata": {},
   "outputs": [],
   "source": [
    "# extraemos parametros\n",
    "\n",
    "# probabilidad de vivir mas de 30\n",
    "p = 2/3\n",
    "\n",
    "# probabilidad de no vivir mas de 30\n",
    "q = 1 - p\n",
    "\n",
    "# numero de eventos estudiados\n",
    "n = 5\n",
    "\n",
    "# numero de eventos deseados\n",
    "k = 5"
   ]
  },
  {
   "cell_type": "code",
   "execution_count": 19,
   "id": "54a60d4b",
   "metadata": {},
   "outputs": [
    {
     "data": {
      "text/plain": [
       "1.0"
      ]
     },
     "execution_count": 19,
     "metadata": {},
     "output_type": "execute_result"
    }
   ],
   "source": [
    "# calculo de las combinaciones\n",
    "combinaciones = comb(5, 5)\n",
    "combinaciones"
   ]
  },
  {
   "cell_type": "code",
   "execution_count": 20,
   "id": "820d8ee4",
   "metadata": {},
   "outputs": [
    {
     "data": {
      "text/plain": [
       "0.132"
      ]
     },
     "execution_count": 20,
     "metadata": {},
     "output_type": "execute_result"
    }
   ],
   "source": [
    "# calculo de la probabilidad\n",
    "proba = combinaciones*(p**k)*(q**(n-k))\n",
    "proba = proba.round(3)\n",
    "proba"
   ]
  },
  {
   "cell_type": "code",
   "execution_count": 21,
   "id": "5b8e8f91",
   "metadata": {},
   "outputs": [
    {
     "data": {
      "text/plain": [
       "0.13168724279835387"
      ]
     },
     "execution_count": 21,
     "metadata": {},
     "output_type": "execute_result"
    }
   ],
   "source": [
    "# calculo de la probabilidad con python\n",
    "proba = binom.pmf(5, n, p)\n",
    "proba"
   ]
  },
  {
   "cell_type": "markdown",
   "id": "0a770986",
   "metadata": {},
   "source": [
    "### b.- Al menos tres personas\n",
    "Para este caso, debemos considerar las probabilidad de cada evento mayor o igual a 3 personas\n",
    "$$P(X \\geq 3) = P(X=3) + P(X=4) + P(X=5) $$\n",
    "\n",
    "La probabilidad para 5 personas ya ha sido calculado en $a$. Ahora calculamos para 3 y 4 personas"
   ]
  },
  {
   "cell_type": "markdown",
   "id": "71cd03de",
   "metadata": {},
   "source": [
    "**Para 3 personas**"
   ]
  },
  {
   "cell_type": "code",
   "execution_count": 22,
   "id": "53b347c3",
   "metadata": {},
   "outputs": [],
   "source": [
    "# numero de eventos deseados\n",
    "k_3 = 3"
   ]
  },
  {
   "cell_type": "code",
   "execution_count": 23,
   "id": "37e82b58",
   "metadata": {},
   "outputs": [
    {
     "data": {
      "text/plain": [
       "10.0"
      ]
     },
     "execution_count": 23,
     "metadata": {},
     "output_type": "execute_result"
    }
   ],
   "source": [
    "# calculo de las combinaciones\n",
    "combinaciones = comb(5, k_3)\n",
    "combinaciones"
   ]
  },
  {
   "cell_type": "code",
   "execution_count": 24,
   "id": "b1fcae82",
   "metadata": {},
   "outputs": [
    {
     "data": {
      "text/plain": [
       "0.329"
      ]
     },
     "execution_count": 24,
     "metadata": {},
     "output_type": "execute_result"
    }
   ],
   "source": [
    "# calculo de la probabilidad para 3 personas\n",
    "proba_3 = combinaciones*(p**k_3)*(q**(n-k_3))\n",
    "proba_3 = proba_3.round(3)\n",
    "proba_3"
   ]
  },
  {
   "cell_type": "markdown",
   "id": "9aaa23f8",
   "metadata": {},
   "source": [
    "**Para 4 personas**"
   ]
  },
  {
   "cell_type": "code",
   "execution_count": 25,
   "id": "4e111691",
   "metadata": {},
   "outputs": [
    {
     "data": {
      "text/plain": [
       "0.329"
      ]
     },
     "execution_count": 25,
     "metadata": {},
     "output_type": "execute_result"
    }
   ],
   "source": [
    "# numero de eventos deseados\n",
    "k_4 = 4\n",
    "\n",
    "# calculo de las combinaciones\n",
    "combinaciones = comb(5, k_4)\n",
    "\n",
    "# calculo de la probabilidad para 3 personas\n",
    "proba_4 = combinaciones*(p**k_4)*(q**(n-k_4))\n",
    "proba_4 = proba_4.round(3)\n",
    "proba_4"
   ]
  },
  {
   "cell_type": "markdown",
   "id": "d4399695",
   "metadata": {},
   "source": [
    "**Probabilidad que al menos vivan 3 personas**"
   ]
  },
  {
   "cell_type": "code",
   "execution_count": 26,
   "id": "a82bd4a0",
   "metadata": {},
   "outputs": [
    {
     "data": {
      "text/plain": [
       "0.79"
      ]
     },
     "execution_count": 26,
     "metadata": {},
     "output_type": "execute_result"
    }
   ],
   "source": [
    "prob = proba_3 + proba_4 + 0.132\n",
    "prob"
   ]
  },
  {
   "cell_type": "markdown",
   "id": "6d8bddda",
   "metadata": {},
   "source": [
    "**Forma directa**"
   ]
  },
  {
   "cell_type": "code",
   "execution_count": 27,
   "id": "a933b330",
   "metadata": {},
   "outputs": [
    {
     "data": {
      "text/plain": [
       "0.7901234567901232"
      ]
     },
     "execution_count": 27,
     "metadata": {},
     "output_type": "execute_result"
    }
   ],
   "source": [
    "binom.pmf([3,4,5], n, p).sum()"
   ]
  },
  {
   "cell_type": "markdown",
   "id": "204212bd",
   "metadata": {},
   "source": [
    "### c.- Exactamente tres personas\n",
    "Calculamos la probabiilidad que vivan exactamente 2 personas"
   ]
  },
  {
   "cell_type": "code",
   "execution_count": 28,
   "id": "34a2a84b",
   "metadata": {},
   "outputs": [
    {
     "data": {
      "text/plain": [
       "0.16460905349794244"
      ]
     },
     "execution_count": 28,
     "metadata": {},
     "output_type": "execute_result"
    }
   ],
   "source": [
    "binom.pmf(2, n, p).sum()"
   ]
  },
  {
   "cell_type": "code",
   "execution_count": null,
   "id": "0cd718bb",
   "metadata": {},
   "outputs": [],
   "source": []
  },
  {
   "cell_type": "markdown",
   "id": "52bb12d3",
   "metadata": {},
   "source": [
    "## Ejemplo 3: *Si de seis a siete de la tarde se admite que un número de teléfono de cada cinco está comunicando, ¿cuál es la probabilidad de que, cuando se marquen 10 números de teléfono elegidos al azar, sólo comuniquen dos?*\n"
   ]
  },
  {
   "cell_type": "code",
   "execution_count": 29,
   "id": "828ff446",
   "metadata": {},
   "outputs": [],
   "source": [
    "# extraemos valores\n",
    "# probabilidad de comunicacion\n",
    "p = 1/5\n",
    "\n",
    "# probabilidad de no comunicacion\n",
    "q = 1 - p\n",
    "\n",
    "# numero de eventos estudiados\n",
    "n = 10\n",
    "\n",
    "# numero de eventos deseados\n",
    "k = 2"
   ]
  },
  {
   "cell_type": "markdown",
   "id": "cda396f7",
   "metadata": {},
   "source": [
    "**Calculo directo con Python**"
   ]
  },
  {
   "cell_type": "code",
   "execution_count": 30,
   "id": "fe59ac7a",
   "metadata": {},
   "outputs": [
    {
     "data": {
      "text/plain": [
       "0.30198988800000004"
      ]
     },
     "execution_count": 30,
     "metadata": {},
     "output_type": "execute_result"
    }
   ],
   "source": [
    "binom.pmf(2, n, p)"
   ]
  },
  {
   "cell_type": "code",
   "execution_count": null,
   "id": "9a9a5928",
   "metadata": {},
   "outputs": [],
   "source": []
  },
  {
   "cell_type": "markdown",
   "id": "27b9e290",
   "metadata": {},
   "source": [
    "## Ejemplo 4:  *Crea una distribucion binomial con probabilidad de exito de 0.5 y numero de ensayos de 10*"
   ]
  },
  {
   "cell_type": "code",
   "execution_count": 31,
   "id": "28f968a0",
   "metadata": {},
   "outputs": [],
   "source": [
    "# definimos parametros de la distribucion\n",
    "# numero de eventos\n",
    "n = 10\n",
    "\n",
    "# probabilidad de exito\n",
    "p = 0.2\n",
    "\n",
    "# generar los valores posibles de k (numero de exito)\n",
    "k = np.arange(0, n+1)\n",
    "\n",
    "# calcular la funcion de masa de probabilidad (pmf)\n",
    "pmf = binom.pmf(k, n, p)"
   ]
  },
  {
   "cell_type": "code",
   "execution_count": 32,
   "id": "d9c85599",
   "metadata": {},
   "outputs": [
    {
     "data": {
      "image/png": "[encoded data removed]",
      "text/plain": [
       "<Figure size 864x432 with 1 Axes>"
      ]
     },
     "metadata": {
      "needs_background": "light"
     },
     "output_type": "display_data"
    }
   ],
   "source": [
    "# crear el grafico de barra\n",
    "plt.figure(figsize=(12, 6))\n",
    "plt.bar(k, pmf, alpha=0.7, color='green', edgecolor='black') #stem crea una funcion de tallo\n",
    "plt.xlabel('Numero de Exito')\n",
    "plt.ylabel('Probabilidad')\n",
    "plt.title(f'D. Binomial (n={n}, p={p})')\n",
    "plt.grid(True); # agrega cuadrilla al grafico"
   ]
  },
  {
   "cell_type": "code",
   "execution_count": 33,
   "id": "a77ad4e8",
   "metadata": {
    "scrolled": true
   },
   "outputs": [
    {
     "data": {
      "image/png": "[encoded data removed]",
      "text/plain": [
       "<Figure size 864x432 with 1 Axes>"
      ]
     },
     "metadata": {
      "needs_background": "light"
     },
     "output_type": "display_data"
    }
   ],
   "source": [
    "# crear el grafico de tallo\n",
    "plt.figure(figsize=(12, 6))\n",
    "plt.stem(k, pmf, use_line_collection=True) #stem crea una funcion de tallo\n",
    "plt.xlabel('Numero de Exito')\n",
    "plt.ylabel('Probabilidad')\n",
    "plt.title(f'D. Binomial (n={n}, p={p})')\n",
    "plt.grid(True); # agrega cuadrilla al grafico"
   ]
  },
  {
   "cell_type": "code",
   "execution_count": null,
   "id": "37831b7b",
   "metadata": {},
   "outputs": [],
   "source": []
  },
  {
   "cell_type": "markdown",
   "id": "60feeb36",
   "metadata": {},
   "source": [
    "# Aproximacion de la D. Binomial a la Normal"
   ]
  },
  {
   "cell_type": "markdown",
   "id": "993a938d",
   "metadata": {},
   "source": [
    "Para entender de que se trata este concepto, veamos un ejemplo: un jugador tiene un promedio de 60% de aciertos cuando lanza al centro de la diana. Supongamos que hace 100 lanzamientos. Calulemos:\n",
    "\n",
    "- Probablidad que acierte los 100 lanzamientos.\n",
    "- Probabilidad que acierte 75 lanzamientos.\n",
    "- Probabilidad que acierte 60 lanzamientos.\n",
    "- Probabilidad que acierte 20 lanzamientos."
   ]
  },
  {
   "cell_type": "code",
   "execution_count": 88,
   "id": "1179497c",
   "metadata": {},
   "outputs": [],
   "source": [
    "# obtener parametros\n",
    "\n",
    "# probabilidad de exito\n",
    "p = 0.6\n",
    "\n",
    "# probabilidad de fracaso\n",
    "q = 1 - p\n",
    "\n",
    "# numero de eventos estudiados\n",
    "n = 100\n"
   ]
  },
  {
   "cell_type": "code",
   "execution_count": 89,
   "id": "e242ee18",
   "metadata": {},
   "outputs": [
    {
     "data": {
      "text/plain": [
       "array([2.86401725e-16, 8.12191450e-02, 6.27465445e-04, 6.53318624e-23])"
      ]
     },
     "execution_count": 89,
     "metadata": {},
     "output_type": "execute_result"
    }
   ],
   "source": [
    "# en una lista, agregamos todas las cantidades de exitos deseados (k)\n",
    "k = [20, 60, 75, 100]\n",
    "# para cada valor de k, calculamos la probabilidad correspondiente.\n",
    "prob = binom.pmf(k, n, p)\n",
    "prob"
   ]
  },
  {
   "cell_type": "markdown",
   "id": "a45d845d",
   "metadata": {},
   "source": [
    "Notamos que mientras mas cerca de k = 60, mayor es la probabilidad. Veamos estos valores en un grafico de barra para visualizarlo mejor"
   ]
  },
  {
   "cell_type": "code",
   "execution_count": 90,
   "id": "34289814",
   "metadata": {},
   "outputs": [
    {
     "data": {
      "image/png": "[encoded data removed]",
      "text/plain": [
       "<Figure size 720x432 with 1 Axes>"
      ]
     },
     "metadata": {
      "needs_background": "light"
     },
     "output_type": "display_data"
    }
   ],
   "source": [
    "# crear el grafico de barra\n",
    "plt.figure(figsize=(10, 6))\n",
    "plt.bar(k, prob, alpha=0.7, color='blue', edgecolor='black') #stem crea una funcion de tallo\n",
    "plt.xlabel('Numero de aciertosa en 100 lanzamientos')\n",
    "plt.ylabel('Probabilidad')\n",
    "plt.title(f'D. Binomial (n={n}, p={p})')\n",
    "plt.grid(True); # agrega cuadrilla al grafico"
   ]
  },
  {
   "cell_type": "markdown",
   "id": "69d57f3e",
   "metadata": {},
   "source": [
    "Ahora, vamos a calcular para valores de k de 0 a 100"
   ]
  },
  {
   "cell_type": "code",
   "execution_count": 96,
   "id": "c7efe314",
   "metadata": {},
   "outputs": [
    {
     "data": {
      "image/png": "[encoded data removed]",
      "text/plain": [
       "<Figure size 720x432 with 1 Axes>"
      ]
     },
     "metadata": {
      "needs_background": "light"
     },
     "output_type": "display_data"
    }
   ],
   "source": [
    "# lista con valores de k de 0 a 100\n",
    "k = np.arange(0, n+1)\n",
    "\n",
    "# calculo de probabilidad para cada valor de k\n",
    "prob = binom.pmf(k, n, p)\n",
    "\n",
    "# crear el grafico de barra\n",
    "plt.figure(figsize=(10, 6))\n",
    "plt.bar(k, prob, alpha=0.7, color='blue', edgecolor='black') #stem crea una funcion de tallo\n",
    "plt.xlabel('Numero de aciertosa en 100 lanzamientos')\n",
    "plt.ylabel('Probabilidad')\n",
    "plt.title(f'D. Binomial (n={n}, p={p})')\n",
    "plt.grid(True); # agrega cuadrilla al grafico"
   ]
  },
  {
   "cell_type": "markdown",
   "id": "4c935cad",
   "metadata": {},
   "source": [
    "Claramente vemos que la distribucion binomial, para este caso, se asemeja mucho a una distribucion normal. La aproximacion consiste en llevar una distribucion binomial de $n$ eventos y probabilidad de exito $p$, $B(n, p)$ a una distribucion normal con cierta media y cierta desviacion estandar, $N(\\mu, \\sigma)$.\n",
    "\n",
    "Para el ejemplo anterior, $B(100, 0.6)$, vemos que la media de la distribucion es 60 la cual se obtiene mediante el siguiente razonamiento: Si tenemos un 60% de aciertos y tiramos 100 lanzamientos, se espera que acierte 60 lanzamientos. Entonces, la distribucion binomial se puede asemejar a una normal con media de $n \\cdot p$ y con desviacion estandar dada por $\\sqrt(n \\cdot p \\cdot q)$, quedando \n",
    "$$N(n \\cdot p, \\sqrt(n \\cdot p \\cdot q))$$ \n",
    "\n",
    "Para el ejemplo anterior, una distribucion normal ajustada a la binomial viene representada por $N(60, 4.9)$\n",
    "\n",
    "Debemos tener en cuenta que el ajuste no es perfecto ya que en la distribucion binomial los valores son discretos, mientras que en la distribucion normal son continuos: puedes calcular la probabilidad para un numero de exitos deseados de 40, 45 o 22 pero no para valores como 40.8, 45.5 o 22.9 en el caso de la D. binomial."
   ]
  },
  {
   "cell_type": "code",
   "execution_count": null,
   "id": "039b891d",
   "metadata": {},
   "outputs": [],
   "source": []
  },
  {
   "cell_type": "code",
   "execution_count": null,
   "id": "12c646c7",
   "metadata": {},
   "outputs": [],
   "source": []
  },
  {
   "cell_type": "code",
   "execution_count": null,
   "id": "5a944d80",
   "metadata": {},
   "outputs": [],
   "source": []
  },
  {
   "cell_type": "markdown",
   "id": "ebb3fbe7",
   "metadata": {},
   "source": [
    "Para n = 1, la D. binomial llega a ser la D. de Bernoulli. La media de una variable de Bernoulli es $\\mu = p$, asi que el numero esperado de los casos de exito en cualquier evento unico es $p$. Como un experimento binomial se compone de $n$ eventos la intuicion sugiere que la media en una D. binomial viene dada por el producto del numero de eventos y la probabilidad de exito en un solo evento\n",
    "\n",
    "$$\\mu = np$$\n",
    "\n",
    "Por su parte, la varianza de una D. binomial viene dada por:\n",
    "\n",
    "$$\\sigma = \\sqrt(npq)$$"
   ]
  },
  {
   "cell_type": "code",
   "execution_count": null,
   "id": "b6eb49ad",
   "metadata": {},
   "outputs": [],
   "source": []
  },
  {
   "cell_type": "code",
   "execution_count": null,
   "id": "05cf9dc4",
   "metadata": {},
   "outputs": [],
   "source": []
  },
  {
   "cell_type": "markdown",
   "id": "9243c01f",
   "metadata": {},
   "source": [
    "## Ejemplo 5: *Si 75% de todas las compras en una tienda se hacen con tarjeta de credito y k es el numero entre 10 compras seleccionadas al azar realizadas con tarjeta de credito, calcular la media y la varianza de la distribucion.*"
   ]
  },
  {
   "cell_type": "code",
   "execution_count": 36,
   "id": "76d5621c",
   "metadata": {},
   "outputs": [],
   "source": [
    "# obtenenmos parametros\n",
    "\n",
    "# numero de eventos\n",
    "n = 10\n",
    "# probabilidad de exito\n",
    "p = 0.75\n",
    "# probabilidad de fracaso\n",
    "q = 1 - p"
   ]
  },
  {
   "cell_type": "code",
   "execution_count": 37,
   "id": "f64d2030",
   "metadata": {},
   "outputs": [
    {
     "data": {
      "text/plain": [
       "7.5"
      ]
     },
     "execution_count": 37,
     "metadata": {},
     "output_type": "execute_result"
    }
   ],
   "source": [
    "# calular la media\n",
    "media = n*p\n",
    "media"
   ]
  },
  {
   "cell_type": "code",
   "execution_count": 38,
   "id": "d870854b",
   "metadata": {},
   "outputs": [
    {
     "data": {
      "text/plain": [
       "1.3693063937629153"
      ]
     },
     "execution_count": 38,
     "metadata": {},
     "output_type": "execute_result"
    }
   ],
   "source": [
    "# calcular la varianza\n",
    "std = np.sqrt(n*p*q)\n",
    "std"
   ]
  },
  {
   "cell_type": "markdown",
   "id": "9c739089",
   "metadata": {},
   "source": [
    "Crea la grafica para esta distribucion binomial"
   ]
  },
  {
   "cell_type": "code",
   "execution_count": 39,
   "id": "225aae7e",
   "metadata": {},
   "outputs": [],
   "source": [
    "# generar los valores posibles de k (numero de exito)\n",
    "k = np.arange(0, n+1)\n",
    "\n",
    "# calcular la funcion de masa de probabilidad (pmf)\n",
    "pmf = binom.pmf(k, n, p)"
   ]
  },
  {
   "cell_type": "code",
   "execution_count": 40,
   "id": "cc6bb8a6",
   "metadata": {},
   "outputs": [
    {
     "data": {
      "image/png": "[encoded data removed]",
      "text/plain": [
       "<Figure size 864x432 with 1 Axes>"
      ]
     },
     "metadata": {
      "needs_background": "light"
     },
     "output_type": "display_data"
    }
   ],
   "source": [
    "# crear el grafico de barra\n",
    "plt.figure(figsize=(12, 6))\n",
    "plt.bar(k, pmf, alpha=0.7, color='red', edgecolor='black') #stem crea una funcion de tallo\n",
    "plt.xlabel('Numero de Exito')\n",
    "plt.ylabel('Probabilidad')\n",
    "plt.title(f'D. Binomial (n={n}, p={p})')\n",
    "plt.grid(True); # agrega cuadrilla al grafico"
   ]
  },
  {
   "cell_type": "code",
   "execution_count": null,
   "id": "8a4870d7",
   "metadata": {},
   "outputs": [],
   "source": []
  },
  {
   "cell_type": "markdown",
   "id": "f3b4476c",
   "metadata": {},
   "source": [
    "## Ejemplo 6: *En una urna hay 30 bolas, 10 rojas y el resto blancas. Se elige una bola al azar y se anota si es roja; el proceso se repite, devolviendo la bola, 10 veces. Calcular la media y la desviación típica*"
   ]
  },
  {
   "cell_type": "code",
   "execution_count": 41,
   "id": "6217eecc",
   "metadata": {},
   "outputs": [],
   "source": [
    "# obtenemos los parametros \n",
    "# numero de eventos estudiados\n",
    "n = 10\n",
    "# probabilidad de exito\n",
    "p = 10/30\n",
    "# probabilidad de fracaso\n",
    "q = 1 - p"
   ]
  },
  {
   "cell_type": "code",
   "execution_count": 42,
   "id": "38e93e92",
   "metadata": {},
   "outputs": [
    {
     "data": {
      "text/plain": [
       "3.333333333333333"
      ]
     },
     "execution_count": 42,
     "metadata": {},
     "output_type": "execute_result"
    }
   ],
   "source": [
    "# calculo de la media\n",
    "media = n*p\n",
    "media"
   ]
  },
  {
   "cell_type": "code",
   "execution_count": 43,
   "id": "31b80321",
   "metadata": {},
   "outputs": [
    {
     "data": {
      "text/plain": [
       "1.4907119849998598"
      ]
     },
     "execution_count": 43,
     "metadata": {},
     "output_type": "execute_result"
    }
   ],
   "source": [
    "# calculo de la desaviacion estandar\n",
    "std = np.sqrt(n*p*q)\n",
    "std"
   ]
  },
  {
   "cell_type": "code",
   "execution_count": null,
   "id": "6cbd46ee",
   "metadata": {},
   "outputs": [],
   "source": []
  },
  {
   "cell_type": "markdown",
   "id": "9e8a117f",
   "metadata": {},
   "source": [
    "## Ejemplo 7: *En unas pruebas de alcoholemia se ha observado que el 5% de los conductores controlados dan positivo en la prueba y que el 10% de los conductores controlados no llevan puesto el cinturón de seguridad. También se ha observado que las dos infracciones son independientes. Un guardia de tráfico para cinco conductores al azar. Si tenemos en cuenta que el número de conductores es suficientemente importante como para estimar que la proporción de infractores no varía al hacer la selección.*"
   ]
  },
  {
   "cell_type": "markdown",
   "id": "f6137c25",
   "metadata": {},
   "source": [
    "### a.- Determinar la probabilidad de que exactamente tres conductores hayan cometido alguna de las dos infracciones."
   ]
  },
  {
   "cell_type": "markdown",
   "id": "59fb31e6",
   "metadata": {},
   "source": [
    "Consideremos lo siguiente: \n",
    "- Los conductores dan positivo a la prueba de alcoholemia\n",
    "- Los conductores no llevan puesto el cinturon de seguridad\n",
    "- La probabilidad de que el conductor de positivo a la prueba o de que no lleve su cinturon de seguridad o de que ambos eventos ocurran sabiendo que las infracciones son independientes es:\n",
    "$$P(A\\cup B) = P(A) + P(B) - P(A)\\cdot P(B)$$"
   ]
  },
  {
   "cell_type": "code",
   "execution_count": 44,
   "id": "e1eb9ced",
   "metadata": {},
   "outputs": [
    {
     "data": {
      "text/plain": [
       "0.14500000000000002"
      ]
     },
     "execution_count": 44,
     "metadata": {},
     "output_type": "execute_result"
    }
   ],
   "source": [
    "# probabilidad de dar positivo a la prueba de alcoholemia\n",
    "p_a = 0.05\n",
    "\n",
    "# probabilidad de no llevar el cinturon uesto\n",
    "p_c = 0.10\n",
    "\n",
    "# calculamos la probabilidad de obtener una infraccion por parte del fiscal\n",
    "p_inf = p_a + p_c - p_a*p_c\n",
    "p_inf"
   ]
  },
  {
   "cell_type": "code",
   "execution_count": 45,
   "id": "b91d3a5b",
   "metadata": {},
   "outputs": [],
   "source": [
    "# parametros de la distribucion binomial\n",
    "\n",
    "# probabilidad de exito\n",
    "p = p_inf\n",
    "\n",
    "# probabilidad de fracaso\n",
    "q = 1 - p\n",
    "\n",
    "# numero de eventos estudiados\n",
    "n = 5\n",
    "\n",
    "# numero de eventos deseados con exito\n",
    "k = 3\n"
   ]
  },
  {
   "cell_type": "markdown",
   "id": "be8c3d09",
   "metadata": {},
   "source": [
    "Determinar la probabilidad de que exactamente tres conductores hayan cometido alguna de las dos infracciones"
   ]
  },
  {
   "cell_type": "code",
   "execution_count": 46,
   "id": "2fdd4440",
   "metadata": {},
   "outputs": [
    {
     "data": {
      "text/plain": [
       "10.0"
      ]
     },
     "execution_count": 46,
     "metadata": {},
     "output_type": "execute_result"
    }
   ],
   "source": [
    "# calcular las combinaciones\n",
    "combinaciones = comb(n, k)\n",
    "combinaciones"
   ]
  },
  {
   "cell_type": "code",
   "execution_count": 47,
   "id": "e3869aef",
   "metadata": {},
   "outputs": [
    {
     "data": {
      "text/plain": [
       "0.022286210906250006"
      ]
     },
     "execution_count": 47,
     "metadata": {},
     "output_type": "execute_result"
    }
   ],
   "source": [
    "# calculo de la probabilidad\n",
    "p_3 = combinaciones*(p**k)*(q**(n-k))\n",
    "p_3"
   ]
  },
  {
   "cell_type": "markdown",
   "id": "8d037d27",
   "metadata": {},
   "source": [
    "- Existe una probabilidad del 2.2% de que de los 5 conductores seleccionados al azar, 3 cometan alguna de las infracciones o ambas."
   ]
  },
  {
   "cell_type": "markdown",
   "id": "04229d51",
   "metadata": {},
   "source": [
    "### b.- Determine la probabilidad de que al menos uno de los conductores controlados haya cometido alguna de las dos infracciones."
   ]
  },
  {
   "cell_type": "code",
   "execution_count": 48,
   "id": "ad61e595",
   "metadata": {},
   "outputs": [
    {
     "data": {
      "text/plain": [
       "0.543090094215625"
      ]
     },
     "execution_count": 48,
     "metadata": {},
     "output_type": "execute_result"
    }
   ],
   "source": [
    "# probabilidad de que al menos uno de los conductores haya cometido alguna infraccion\n",
    "p_1 = binom.pmf([1,2,3,4,5], n, p_inf).sum()\n",
    "p_1"
   ]
  },
  {
   "cell_type": "markdown",
   "id": "245976fe",
   "metadata": {},
   "source": [
    "- La proboabilidad de que al menos uno de los 5 conductores haya cometido alguna de las infracciones es de 54.3%"
   ]
  },
  {
   "cell_type": "code",
   "execution_count": null,
   "id": "33fd8871",
   "metadata": {},
   "outputs": [],
   "source": []
  },
  {
   "cell_type": "markdown",
   "id": "8259672b",
   "metadata": {},
   "source": [
    "## Ejemplo 8: *Un laboratorio afirma que una droga causa efectos secundarios en una proporción de 3 de cada 100 pacientes. Para contrastar esta afirmación, otro laboratorio elige al azar a 5 pacientes a los que aplica la droga. ¿Cuál es la probabilidad de los siguientes sucesos?*"
   ]
  },
  {
   "cell_type": "markdown",
   "id": "9eec11f2",
   "metadata": {},
   "source": [
    "### a.- Ningún paciente tenga efectos secundarios."
   ]
  },
  {
   "cell_type": "code",
   "execution_count": 49,
   "id": "3eda62ef",
   "metadata": {},
   "outputs": [],
   "source": [
    "# obtenemos los parametros\n",
    "\n",
    "# probabilidad de encontrar efectos secundarios\n",
    "p = 3/100\n",
    "\n",
    "# probabilidad de no encontrar efectos secundarios\n",
    "q = 1 - p\n",
    "\n",
    "# numero de eventos estudiados\n",
    "n = 5\n",
    "\n",
    "# numero de eventos deseados con exito\n",
    "k = 0"
   ]
  },
  {
   "cell_type": "code",
   "execution_count": 50,
   "id": "224428a0",
   "metadata": {},
   "outputs": [
    {
     "data": {
      "text/plain": [
       "0.8587340256999999"
      ]
     },
     "execution_count": 50,
     "metadata": {},
     "output_type": "execute_result"
    }
   ],
   "source": [
    "# calculo de la probabilidad\n",
    "proba = binom.pmf(0, n, p)\n",
    "proba"
   ]
  },
  {
   "cell_type": "markdown",
   "id": "7dedca22",
   "metadata": {},
   "source": [
    "- La probabilidad de que ninguno de los 5 pacientes seleccionados presenten efectos secundarios es de 85.8%"
   ]
  },
  {
   "cell_type": "markdown",
   "id": "5cc6dff8",
   "metadata": {},
   "source": [
    "### b.-  Al menos dos tengan efectos secundarios."
   ]
  },
  {
   "cell_type": "code",
   "execution_count": 51,
   "id": "84ea9a8c",
   "metadata": {},
   "outputs": [
    {
     "data": {
      "text/plain": [
       "0.008472052799999963"
      ]
     },
     "execution_count": 51,
     "metadata": {},
     "output_type": "execute_result"
    }
   ],
   "source": [
    "# vamos a resolver este problema con el metodo cdf\n",
    "\n",
    "# probabilidad desde 0 hasta 1 pacientes\n",
    "proba_1 = binom.cdf(1, n, p)\n",
    "\n",
    "# probabilidad desde 0 hasta 5 pacientes es igual a 1 ya que cubre todos los casos\n",
    "proba_2 = 1\n",
    "\n",
    "# probabilidad de que al menos dos tengan efectos secundarios\n",
    "proba = proba_2 - proba_1\n",
    "proba"
   ]
  },
  {
   "cell_type": "markdown",
   "id": "80d7d253",
   "metadata": {},
   "source": [
    "- La probabilidad de que al menos dos presenten efectos secundarios es de 0.8%, menos del 1%."
   ]
  },
  {
   "cell_type": "markdown",
   "id": "3874cc37",
   "metadata": {},
   "source": [
    "### c.- ¿Cuál es el número medio de pacientes que espera el laboratorio que sufran efectos secundarios si elige 100 pacientes al azar?"
   ]
  },
  {
   "cell_type": "code",
   "execution_count": 52,
   "id": "e902aee2",
   "metadata": {},
   "outputs": [
    {
     "data": {
      "text/plain": [
       "3.0"
      ]
     },
     "execution_count": 52,
     "metadata": {},
     "output_type": "execute_result"
    }
   ],
   "source": [
    "# numero de eventos estudiados\n",
    "n = 100\n",
    "\n",
    "# probabilidad de exito\n",
    "p = 3/100\n",
    "\n",
    "# calculo de la media de la D. binomial\n",
    "media = n*p\n",
    "media"
   ]
  },
  {
   "cell_type": "code",
   "execution_count": null,
   "id": "241304fd",
   "metadata": {},
   "outputs": [],
   "source": []
  },
  {
   "cell_type": "markdown",
   "id": "f8b20e7e",
   "metadata": {},
   "source": [
    "## Ejemplo 9: *Supongamos que tienes una moneda y quieres calcular cuántos lanzamientos necesitas para que la probabilidad de obtener al menos 3 caras sea igual o mayor al 90%. Sabes que la probabilidad de obtener una cara en un solo lanzamiento es del 50% (0.5).*\n",
    "\n",
    "\n"
   ]
  },
  {
   "cell_type": "markdown",
   "id": "712962da",
   "metadata": {},
   "source": [
    "### a.- ¿Cuántos lanzamientos de la moneda se necesitan para tener al menos un 90% de probabilidad de obtener al menos 3 caras?"
   ]
  },
  {
   "cell_type": "markdown",
   "id": "088e1907",
   "metadata": {},
   "source": [
    "Necesitamos encontrar un numero n que nos permita tener $P(X\\geq 3) \\geq 0.90$. Para obtenerlo, calculamos la probabilidad de cada uno de los escenarios iniciando con al menos 3 lanzamientos, hasta encontrar el escenario que primero satisfaga la condicion"
   ]
  },
  {
   "cell_type": "code",
   "execution_count": 53,
   "id": "d3b23a0f",
   "metadata": {},
   "outputs": [],
   "source": [
    "# obtener parametros de las D.\n",
    "\n",
    "# probabilidad de exito de unlanzamiento\n",
    "p = 0.5\n",
    "\n",
    "# probabilidad de fracaso\n",
    "q = 1 - p\n",
    "\n",
    "# numero de ventos deseados\n",
    "k = 3\n",
    "\n",
    "# probabilidad objetivo\n",
    "p_obj = 0.90"
   ]
  },
  {
   "cell_type": "code",
   "execution_count": 54,
   "id": "57dffea4",
   "metadata": {},
   "outputs": [
    {
     "data": {
      "text/plain": [
       "9"
      ]
     },
     "execution_count": 54,
     "metadata": {},
     "output_type": "execute_result"
    }
   ],
   "source": [
    "# recorrer cada escenario y su respectiva probabilidad hasta encontrar el mayor a la probabilidad objetivo\n",
    "\n",
    "# iniciar con el numero minimo de lanzamientos\n",
    "n = k\n",
    "while True:\n",
    "    # probabilidad acumulada de obtener menos de k+1 caras\n",
    "    prob = 1 - binom.cdf(k-1, n, p)\n",
    "    # evaluar si cumple condicion\n",
    "    if prob >= p_obj:\n",
    "        break\n",
    "    n += 1\n",
    "    \n",
    "# numero de lanzamientos\n",
    "n"
   ]
  },
  {
   "cell_type": "markdown",
   "id": "4466d849",
   "metadata": {},
   "source": [
    "- Se necesitan al menos 9 lanzamientos para tener probabilidad de al menos 90% de obtener 3 caras"
   ]
  },
  {
   "cell_type": "markdown",
   "id": "010edaa8",
   "metadata": {},
   "source": [
    "### b.- ¿Cuál es la probabilidad de obtener al menos 3 caras en ese número de lanzamientos?"
   ]
  },
  {
   "cell_type": "code",
   "execution_count": 55,
   "id": "10fe50ba",
   "metadata": {},
   "outputs": [],
   "source": [
    "# obtener parametros de la D.\n",
    "\n",
    "# probabilidad de exito de unlanzamiento\n",
    "p = 0.5\n",
    "\n",
    "# probabilidad de fracaso\n",
    "q = 1 - p\n",
    "\n",
    "# numero de eventos deseados\n",
    "k = 2\n",
    "\n",
    "# numero de eventos estudiados\n",
    "n = 9"
   ]
  },
  {
   "cell_type": "code",
   "execution_count": 56,
   "id": "123c1281",
   "metadata": {},
   "outputs": [
    {
     "data": {
      "text/plain": [
       "0.91015625"
      ]
     },
     "execution_count": 56,
     "metadata": {},
     "output_type": "execute_result"
    }
   ],
   "source": [
    "# calculo de la probabilidad\n",
    "proba = 1 - binom.cdf(k, n, p)\n",
    "proba"
   ]
  },
  {
   "cell_type": "markdown",
   "id": "7c13b38d",
   "metadata": {},
   "source": [
    "- La probabilidad de obtener al menos 3 caras en 9 ensayos es de 91.8%"
   ]
  },
  {
   "cell_type": "code",
   "execution_count": null,
   "id": "87bbb6e9",
   "metadata": {},
   "outputs": [],
   "source": []
  }
 ],
 "metadata": {
  "kernelspec": {
   "display_name": "Python 3 (ipykernel)",
   "language": "python",
   "name": "python3"
  },
  "language_info": {
   "codemirror_mode": {
    "name": "ipython",
    "version": 3
   },
   "file_extension": ".py",
   "mimetype": "text/x-python",
   "name": "python",
   "nbconvert_exporter": "python",
   "pygments_lexer": "ipython3",
   "version": "3.9.12"
  }
 },
 "nbformat": 4,
 "nbformat_minor": 5
}
