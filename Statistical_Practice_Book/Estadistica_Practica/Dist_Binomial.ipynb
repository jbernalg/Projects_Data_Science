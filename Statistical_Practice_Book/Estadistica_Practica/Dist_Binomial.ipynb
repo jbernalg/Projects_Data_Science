{
 "cells": [
  {
   "cell_type": "markdown",
   "id": "dfcbdd8b",
   "metadata": {},
   "source": [
    "# Todo sobre la D. Binomial"
   ]
  },
  {
   "cell_type": "markdown",
   "id": "a77044d2",
   "metadata": {},
   "source": [
    "En un experimento binomial se cumplen las siguientes condiciones:\n",
    "\n",
    "1. El experimento consta de una secuencia de n ensayos identicos.\n",
    "2. En cada ensayo hay dos resultados posibles, uno llamado exito y otro fracaso.\n",
    "3. La probabilidad de exito es constante de un ensayo a otro, y se denota por $p$.\n",
    "4. La probabilidad de fracaso sera $1 - p$\n",
    "5. Los ensayos son independientes. El resultado de cualquiera de ellos no influye en el resultado de cualquier otro\n",
    "\n",
    "La distribución binomial se caracteriza por la probabilidad de éxito en cada ensayo, el número total de ensayos y el interés en contar cuántos éxitos ocurren en una serie de ensayos independientes"
   ]
  },
  {
   "cell_type": "markdown",
   "id": "bd794708",
   "metadata": {},
   "source": [
    "La formula de la distribucion binomial es la siguiente:\n",
    "\n",
    "$$P(k)=\\binom{n}{k} p^k q^{n-k}$$\n",
    "\n",
    "Donde:\n",
    "\n",
    "$p$ = probabilidad de exito\n",
    "\n",
    "$q = (1 - p)$ = probabilidad de fracaso\n",
    "\n",
    "$n$ = numero de eventos estudiados\n",
    "\n",
    "$k$ = numero de eventos deseados que tengan exito\n",
    "\n",
    "La expresion dentro del parentesis es el resultado de una combinacion sin repeticion. Viene dada por la siguiente formula:\n",
    "\n",
    " $$C_{k}^{n} = \\binom{n}{k} = \\frac{n!}{k!(n - k)!}$$\n",
    " \n",
    " Donde:\n",
    " \n",
    " $n! = n\\times(n-1)\\times(n-2)\\times...\\times(2)\\times(1)$\n",
    " \n",
    " $k! = k\\times(k-1)\\times(k-2)\\times...\\times(2)\\times(1)$\n",
    " \n",
    " Por definición:\n",
    "\n",
    " $0! = 1$\n"
   ]
  },
  {
   "cell_type": "code",
   "execution_count": null,
   "id": "9e399a4b",
   "metadata": {},
   "outputs": [],
   "source": []
  },
  {
   "cell_type": "markdown",
   "id": "ad77cda0",
   "metadata": {},
   "source": [
    "## Ejemplo 1\n",
    "Se lanza una moneda cuatro veces. Calcular la probabilidad de que salgan mas caras que cruces"
   ]
  },
  {
   "cell_type": "markdown",
   "id": "875955a3",
   "metadata": {},
   "source": [
    "### Solucion de forma manual"
   ]
  },
  {
   "cell_type": "code",
   "execution_count": 1,
   "id": "a7f864ad",
   "metadata": {},
   "outputs": [],
   "source": [
    "# probabilidad que salga cara\n",
    "p = 0.5\n",
    "\n",
    "# probabilidad que salga cruz\n",
    "q = 1 - p\n",
    "\n",
    "# numero de eventos estudiados\n",
    "n = 4"
   ]
  },
  {
   "cell_type": "markdown",
   "id": "5b766c8d",
   "metadata": {},
   "source": [
    "Como estamos interesados en conocer la probabilidad de que salgan más caras que cruces, los eventos donde esto ocurre es cuando, o salen tres caras y una cruz, o salen cuatro caras y cero cruces, por lo que:\n",
    "\n",
    "$$P(X \\geq 3)= P(X = 3) + P(X = 4)$$"
   ]
  },
  {
   "cell_type": "code",
   "execution_count": 2,
   "id": "9bd71355",
   "metadata": {},
   "outputs": [],
   "source": [
    "# libreria para calcular combinaciones\n",
    "from scipy.special import comb"
   ]
  },
  {
   "cell_type": "markdown",
   "id": "1cb5d424",
   "metadata": {},
   "source": [
    "**Calcular probabilidad que salgan 3 caras**"
   ]
  },
  {
   "cell_type": "code",
   "execution_count": 5,
   "id": "4c069e42",
   "metadata": {},
   "outputs": [
    {
     "data": {
      "text/plain": [
       "4.0"
      ]
     },
     "execution_count": 5,
     "metadata": {},
     "output_type": "execute_result"
    }
   ],
   "source": [
    "# numero de eventos deseados\n",
    "k_3 = 3\n",
    "\n",
    "# calculo de las combinaciones\n",
    "combinaciones = comb(n, k_3)\n",
    "combinaciones"
   ]
  },
  {
   "cell_type": "code",
   "execution_count": 6,
   "id": "d4192db7",
   "metadata": {},
   "outputs": [
    {
     "data": {
      "text/plain": [
       "0.25"
      ]
     },
     "execution_count": 6,
     "metadata": {},
     "output_type": "execute_result"
    }
   ],
   "source": [
    "# probabilidad que salgan 3 caras\n",
    "P_3 = combinaciones*(p**k_3)*(q**(n - k_3))\n",
    "P_3"
   ]
  },
  {
   "cell_type": "markdown",
   "id": "868f88a3",
   "metadata": {},
   "source": [
    "**Calcular probabilidad que salgan 4 caras**"
   ]
  },
  {
   "cell_type": "code",
   "execution_count": 7,
   "id": "bce5fb5c",
   "metadata": {},
   "outputs": [
    {
     "data": {
      "text/plain": [
       "1.0"
      ]
     },
     "execution_count": 7,
     "metadata": {},
     "output_type": "execute_result"
    }
   ],
   "source": [
    "# numero de eventos deseados\n",
    "k_4 = 4\n",
    "\n",
    "# calculo de las combinaciones\n",
    "combinaciones = comb(n, k_4)\n",
    "combinaciones"
   ]
  },
  {
   "cell_type": "code",
   "execution_count": 8,
   "id": "e5ae0981",
   "metadata": {},
   "outputs": [
    {
     "data": {
      "text/plain": [
       "0.0625"
      ]
     },
     "execution_count": 8,
     "metadata": {},
     "output_type": "execute_result"
    }
   ],
   "source": [
    "# probabilidad que salgan 4 caras\n",
    "P_4 = combinaciones*(p**k_4)*(q**(n - k_4))\n",
    "P_4"
   ]
  },
  {
   "cell_type": "markdown",
   "id": "66734589",
   "metadata": {},
   "source": [
    "**Probabilidad que salgan mas de dos caras**"
   ]
  },
  {
   "cell_type": "code",
   "execution_count": 9,
   "id": "3ee24127",
   "metadata": {},
   "outputs": [
    {
     "data": {
      "text/plain": [
       "0.3125"
      ]
     },
     "execution_count": 9,
     "metadata": {},
     "output_type": "execute_result"
    }
   ],
   "source": [
    "P = P_3 + P_4\n",
    "P"
   ]
  },
  {
   "cell_type": "markdown",
   "id": "e2fa49c0",
   "metadata": {},
   "source": [
    "### Solucion con Python"
   ]
  },
  {
   "cell_type": "code",
   "execution_count": 10,
   "id": "aa2b23e6",
   "metadata": {},
   "outputs": [],
   "source": [
    "# libreria para calcular probabilidad \n",
    "from scipy.stats import binom"
   ]
  },
  {
   "cell_type": "markdown",
   "id": "f9465acb",
   "metadata": {},
   "source": [
    "Vamos a calcular cada una de las probabilidades con la funcion binom y luego sumarlas"
   ]
  },
  {
   "cell_type": "code",
   "execution_count": 12,
   "id": "22e013fb",
   "metadata": {},
   "outputs": [
    {
     "data": {
      "text/plain": [
       "0.25000000000000006"
      ]
     },
     "execution_count": 12,
     "metadata": {},
     "output_type": "execute_result"
    }
   ],
   "source": [
    "# numero de eventos estudiados\n",
    "n = 4\n",
    "\n",
    "# probabilidad que salga cara\n",
    "p = 0.5\n",
    "\n",
    "# numero de eventos deseados\n",
    "k_3 = 3\n",
    "\n",
    "P_3 = binom.pmf(k_3, n, p)\n",
    "P_3"
   ]
  },
  {
   "cell_type": "code",
   "execution_count": 14,
   "id": "7582007f",
   "metadata": {},
   "outputs": [
    {
     "data": {
      "text/plain": [
       "0.0625"
      ]
     },
     "execution_count": 14,
     "metadata": {},
     "output_type": "execute_result"
    }
   ],
   "source": [
    "# numero de eventos deseados\n",
    "k_4 = 4\n",
    "\n",
    "P_4 = binom.pmf(k_4, n, p)\n",
    "P_4"
   ]
  },
  {
   "cell_type": "code",
   "execution_count": 15,
   "id": "675ad28d",
   "metadata": {},
   "outputs": [
    {
     "data": {
      "text/plain": [
       "0.31250000000000006"
      ]
     },
     "execution_count": 15,
     "metadata": {},
     "output_type": "execute_result"
    }
   ],
   "source": [
    "# suma de las probabilidades\n",
    "P = P_3 + P_4\n",
    "P"
   ]
  },
  {
   "cell_type": "code",
   "execution_count": 17,
   "id": "2a1328bf",
   "metadata": {},
   "outputs": [
    {
     "data": {
      "text/plain": [
       "0.31250000000000006"
      ]
     },
     "execution_count": 17,
     "metadata": {},
     "output_type": "execute_result"
    }
   ],
   "source": [
    "# otra alternativa\n",
    "P = binom.pmf([3,4], n, p).sum()\n",
    "P"
   ]
  },
  {
   "cell_type": "code",
   "execution_count": null,
   "id": "0f3596c0",
   "metadata": {},
   "outputs": [],
   "source": []
  },
  {
   "cell_type": "markdown",
   "id": "fff580aa",
   "metadata": {},
   "source": [
    "## Ejemplo 2\n",
    "Un agente de seguros vende pólizas a cinco personas de la misma edad y que disfrutan de buena salud. Según las tablas actuales, la probabilidad de que una persona en estas condiciones viva 30 años o más es 2/3. Hállese la probabilidad de que, transcurridos 30 años, vivan:\n",
    "\n",
    "a. Las cinco personas\n",
    "\n",
    "b. Al menos tres personas\n",
    "\n",
    "c. Exctamente dos personas"
   ]
  },
  {
   "cell_type": "markdown",
   "id": "5c47e18e",
   "metadata": {},
   "source": [
    "### Solucion a"
   ]
  },
  {
   "cell_type": "code",
   "execution_count": 18,
   "id": "846b39bd",
   "metadata": {},
   "outputs": [],
   "source": [
    "# extraemos valores\n",
    "\n",
    "# probabilidad de vivir mas de 30\n",
    "p = 2/3\n",
    "\n",
    "# probabilidad de no vivir mas de 30\n",
    "q = 1 - p\n",
    "\n",
    "# numero de eventos estudiados\n",
    "n = 5\n",
    "\n",
    "# numero de eventos deseados\n",
    "k = 5"
   ]
  },
  {
   "cell_type": "code",
   "execution_count": 19,
   "id": "11dd8789",
   "metadata": {},
   "outputs": [
    {
     "data": {
      "text/plain": [
       "1.0"
      ]
     },
     "execution_count": 19,
     "metadata": {},
     "output_type": "execute_result"
    }
   ],
   "source": [
    "# calculo de las combinaciones\n",
    "combinaciones = comb(5, 5)\n",
    "combinaciones"
   ]
  },
  {
   "cell_type": "code",
   "execution_count": 21,
   "id": "1c1588d5",
   "metadata": {},
   "outputs": [
    {
     "data": {
      "text/plain": [
       "0.132"
      ]
     },
     "execution_count": 21,
     "metadata": {},
     "output_type": "execute_result"
    }
   ],
   "source": [
    "# calculo de la probabilidad\n",
    "proba = combinaciones*(p**k)*(q**(n-k))\n",
    "proba = proba.round(3)\n",
    "proba"
   ]
  },
  {
   "cell_type": "code",
   "execution_count": 22,
   "id": "eb18948f",
   "metadata": {},
   "outputs": [
    {
     "data": {
      "text/plain": [
       "0.13168724279835387"
      ]
     },
     "execution_count": 22,
     "metadata": {},
     "output_type": "execute_result"
    }
   ],
   "source": [
    "# calculo de la probabilidad con python\n",
    "proba = binom.pmf(5, n, p)\n",
    "proba"
   ]
  },
  {
   "cell_type": "markdown",
   "id": "faab6034",
   "metadata": {},
   "source": [
    "### Solucion b\n",
    "Para este caso, debemos considerar las probabilidad de cada evento mayor o igual a 3 personas\n",
    "$$P(X \\geq 3) = P(X=3) + P(X=4) + P(X=5) $$\n",
    "\n",
    "La probabilidad para 5 personas ya ha sido calculado en $a$. Ahora calculamos para 3 y 4 personas"
   ]
  },
  {
   "cell_type": "markdown",
   "id": "1881ddab",
   "metadata": {},
   "source": [
    "**Para 3 personas**"
   ]
  },
  {
   "cell_type": "code",
   "execution_count": 23,
   "id": "f2d06ebf",
   "metadata": {},
   "outputs": [],
   "source": [
    "# numero de eventos deseados\n",
    "k_3 = 3"
   ]
  },
  {
   "cell_type": "code",
   "execution_count": 28,
   "id": "152992b1",
   "metadata": {},
   "outputs": [
    {
     "data": {
      "text/plain": [
       "10.0"
      ]
     },
     "execution_count": 28,
     "metadata": {},
     "output_type": "execute_result"
    }
   ],
   "source": [
    "# calculo de las combinaciones\n",
    "combinaciones = comb(5, k_3)\n",
    "combinaciones"
   ]
  },
  {
   "cell_type": "code",
   "execution_count": 29,
   "id": "7ef1baea",
   "metadata": {},
   "outputs": [
    {
     "data": {
      "text/plain": [
       "0.329"
      ]
     },
     "execution_count": 29,
     "metadata": {},
     "output_type": "execute_result"
    }
   ],
   "source": [
    "# calculo de la probabilidad para 3 personas\n",
    "proba_3 = combinaciones*(p**k_3)*(q**(n-k_3))\n",
    "proba_3 = proba_3.round(3)\n",
    "proba_3"
   ]
  },
  {
   "cell_type": "markdown",
   "id": "9877f007",
   "metadata": {},
   "source": [
    "**Para 4 personas**"
   ]
  },
  {
   "cell_type": "code",
   "execution_count": 30,
   "id": "9f272b87",
   "metadata": {},
   "outputs": [
    {
     "data": {
      "text/plain": [
       "0.329"
      ]
     },
     "execution_count": 30,
     "metadata": {},
     "output_type": "execute_result"
    }
   ],
   "source": [
    "# numero de eventos deseados\n",
    "k_4 = 4\n",
    "\n",
    "# calculo de las combinaciones\n",
    "combinaciones = comb(5, k_4)\n",
    "\n",
    "# calculo de la probabilidad para 3 personas\n",
    "proba_4 = combinaciones*(p**k_4)*(q**(n-k_4))\n",
    "proba_4 = proba_4.round(3)\n",
    "proba_4"
   ]
  },
  {
   "cell_type": "markdown",
   "id": "133a07ee",
   "metadata": {},
   "source": [
    "**Probabilidad que al menos vivan 3 personas**"
   ]
  },
  {
   "cell_type": "code",
   "execution_count": 32,
   "id": "788cb7cf",
   "metadata": {},
   "outputs": [
    {
     "data": {
      "text/plain": [
       "0.79"
      ]
     },
     "execution_count": 32,
     "metadata": {},
     "output_type": "execute_result"
    }
   ],
   "source": [
    "prob = proba_3 + proba_4 + 0.132\n",
    "prob"
   ]
  },
  {
   "cell_type": "markdown",
   "id": "b3f7ade1",
   "metadata": {},
   "source": [
    "**Forma directa**"
   ]
  },
  {
   "cell_type": "code",
   "execution_count": 34,
   "id": "a5d4ce35",
   "metadata": {},
   "outputs": [
    {
     "data": {
      "text/plain": [
       "0.7901234567901232"
      ]
     },
     "execution_count": 34,
     "metadata": {},
     "output_type": "execute_result"
    }
   ],
   "source": [
    "binom.pmf([3,4,5], n, p).sum()"
   ]
  },
  {
   "cell_type": "markdown",
   "id": "64e76e6c",
   "metadata": {},
   "source": [
    "### Solucion c\n",
    "Calculamos la probabiilidad que vivan exactamente 2 personas"
   ]
  },
  {
   "cell_type": "code",
   "execution_count": 35,
   "id": "dbb26aaf",
   "metadata": {},
   "outputs": [
    {
     "data": {
      "text/plain": [
       "0.16460905349794244"
      ]
     },
     "execution_count": 35,
     "metadata": {},
     "output_type": "execute_result"
    }
   ],
   "source": [
    "binom.pmf(2, n, p).sum()"
   ]
  }
 ],
 "metadata": {
  "kernelspec": {
   "display_name": "Python 3 (ipykernel)",
   "language": "python",
   "name": "python3"
  },
  "language_info": {
   "codemirror_mode": {
    "name": "ipython",
    "version": 3
   },
   "file_extension": ".py",
   "mimetype": "text/x-python",
   "name": "python",
   "nbconvert_exporter": "python",
   "pygments_lexer": "ipython3",
   "version": "3.9.12"
  }
 },
 "nbformat": 4,
 "nbformat_minor": 5
}
