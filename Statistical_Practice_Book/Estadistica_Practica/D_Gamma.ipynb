{
 "cells": [
  {
   "cell_type": "markdown",
   "id": "e85a96ce",
   "metadata": {},
   "source": [
    "# Todo sobre la Distribucion Gamma"
   ]
  },
  {
   "cell_type": "markdown",
   "id": "f255da17",
   "metadata": {},
   "source": [
    "Es una D. de probabilidad continua que resalta por su importancia para otras distribuciones muy utilizadas en la practica como son la Exponencial $Exp(X)$ y Chi cuadrado $X^2$ \n",
    "\n",
    "Se define mediante dos parametros: el parametro de forma $\\alpha$ y el parametro de escala $\\beta$ los cuales le dan una gran versatilidad para tomar variedad de formas. Esto le da una gran capacidad para modelar diferentes fenomenos reales. Ademas, su habilidad para manejar datos sesgados y con colas largas la hace adecuada para aplicaciones donde otras ditribuciones, como la normal, no son adecuadas. Algunas de las aplicaciones mas comunes en ciencia de datos son:\n",
    "\n",
    "- Tiempos de respuestas y procesamiento: Tiempo que se tarda en procesar una tarea o atender una solicitud.\n",
    "\n",
    "- Tiempo hasta el exito: Modelar el tiempo hasta que ocurren varios eventos en un proceso de Poisson (clics en una campana publicitaria) \n",
    "\n",
    "- Vida util de productos: Modela lavida util de componentes y sistemas mecanicos o electronicos ayudando a prever fallos.\n"
   ]
  },
  {
   "cell_type": "code",
   "execution_count": null,
   "id": "ba988c5e",
   "metadata": {},
   "outputs": [],
   "source": []
  },
  {
   "cell_type": "markdown",
   "id": "0ad0545a",
   "metadata": {},
   "source": [
    "## Deduccion de la D. Gamma"
   ]
  },
  {
   "cell_type": "markdown",
   "id": "3ee605f8",
   "metadata": {},
   "source": [
    "Esta distribucion se fundamenta en la funcion Gamma que se define como:\n",
    "\n",
    "$$\\Gamma (\\alpha) = \\int_{0}^{\\infty} x^{\\alpha - 1} e^{-x} dx$$\n",
    "\n",
    "La funcion Gamma cumple las siguiente propiedades:\n",
    "\n",
    "1.- $\\Gamma(\\alpha + 1) = \\alpha \\Gamma()\\alpha$\n",
    "\n",
    "2.- $\\Gamma(\\alpha + 1) = \\alpha!$ para todo $\\alpha \\in N$\n",
    "\n",
    "3.- $\\Gamma(\\frac{1}{2}) = \\sqrt{\\pi}$"
   ]
  }
 ],
 "metadata": {
  "kernelspec": {
   "display_name": "Python 3 (ipykernel)",
   "language": "python",
   "name": "python3"
  },
  "language_info": {
   "codemirror_mode": {
    "name": "ipython",
    "version": 3
   },
   "file_extension": ".py",
   "mimetype": "text/x-python",
   "name": "python",
   "nbconvert_exporter": "python",
   "pygments_lexer": "ipython3",
   "version": "3.9.12"
  }
 },
 "nbformat": 4,
 "nbformat_minor": 5
}
