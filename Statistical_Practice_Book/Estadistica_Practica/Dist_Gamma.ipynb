{
 "cells": [
  {
   "cell_type": "markdown",
   "id": "6240c65a",
   "metadata": {},
   "source": [
    "# Todo sobre la Distribucion Gamma"
   ]
  },
  {
   "cell_type": "markdown",
   "id": "729d00b5",
   "metadata": {},
   "source": [
    "Es una D. de probabilidad continua que resalta por su importancia para otras distribuciones muy utilizadas en la practica como son la Exponencial $Exp(X)$ y Chi cuadrado $X^2$ \n",
    "\n",
    "Se define mediante dos parametros: el parametro de forma $\\alpha$ y el parametro de escala $\\beta$ los cuales le dan una gran versatilidad para tomar variedad de formas. Esto le da una gran capacidad para modelar diferentes fenomenos reales. Ademas, su habilidad para manejar datos sesgados y con colas largas la hace adecuada para aplicaciones donde otras ditribuciones, como la normal, no son adecuadas. Algunas de las aplicaciones mas comunes en ciencia de datos son:\n",
    "\n",
    "- Tiempos de respuestas y procesamiento: Tiempo que se tarda en procesar una tarea o atender una solicitud.\n",
    "\n",
    "- Tiempo hasta el exito: Modelar el tiempo hasta que ocurren varios eventos en un proceso de Poisson (clics en una campana publicitaria) \n",
    "\n",
    "- Vida util de productos: Modela lavida util de componentes y sistemas mecanicos o electronicos ayudando a prever fallos.\n"
   ]
  },
  {
   "cell_type": "code",
   "execution_count": null,
   "id": "f39fb91e",
   "metadata": {},
   "outputs": [],
   "source": []
  },
  {
   "cell_type": "markdown",
   "id": "2585c801",
   "metadata": {},
   "source": [
    "## Deduccion de la D. Gamma"
   ]
  },
  {
   "cell_type": "markdown",
   "id": "681b9940",
   "metadata": {},
   "source": [
    "Esta distribucion se fundamenta en la funcion Gamma que se define como:\n",
    "\n",
    "$$\\Gamma (\\alpha) = \\int_{0}^{\\infty} x^{\\alpha - 1} e^{-x} dx$$\n",
    "\n",
    "La funcion Gamma cumple las siguiente propiedades:\n",
    "\n",
    "1.- $\\Gamma(\\alpha + 1) = \\alpha \\Gamma()\\alpha$\n",
    "\n",
    "2.- $\\Gamma(\\alpha + 1) = \\alpha!$ para todo $\\alpha \\in N$\n",
    "\n",
    "3.- $\\Gamma(\\frac{1}{2}) = \\sqrt{\\pi}$\n",
    "\n",
    "4.- $\\Gamma(n) = (n-1)!$ para $n$ entero."
   ]
  },
  {
   "cell_type": "markdown",
   "id": "cb1e4ba4",
   "metadata": {},
   "source": [
    "Para dar mayor flexibilidad a la funcion Gamma podemos agregar un parametro a la exponencial. Para ello, realizamos el siguiente cambio de variable:\n",
    "\n",
    "Sea \n",
    "\n",
    "$$u = \\beta x$$\n",
    "\n",
    "Entonces,\n",
    "\n",
    "$$du = \\beta dx, dx = \\frac{du}{\\beta}$$\n",
    "\n",
    "Sustituimos $x$ por $u$ y su derivada en la funcion Gamma y obtenemos:\n",
    "\n",
    "$$\\Gamma (\\alpha) = \\int_{0}^{\\infty} x^{\\alpha - 1} e^{-x} dx = \\int_{0}^{\\infty} \\left ( \\frac{u}{\\beta} \\right )^{\\alpha - 1}  e^{-\\frac{u}{\\beta}} \\frac{du}{\\beta}$$\n",
    "\n",
    "Ahora, sacamos $\\beta$ de la integral y nos queda:\n",
    "\n",
    "$$\\Gamma (\\alpha) = \\frac{1}{\\beta^{\\alpha}} \\int_{0}^{\\infty} u^{\\alpha - 1}  e^{-\\frac{u}{\\beta}} du  = \\Gamma(\\alpha) \\beta^{\\alpha}$$\n",
    "\n",
    "Entonces, podemos deducir lo siguiente:\n",
    "\n",
    "$$\\int_{0}^{\\infty} x^{\\alpha - 1} e^{-\\frac{x}{\\beta}} dx =  \\Gamma(\\alpha) \\beta^{\\alpha}$$\n",
    "\n",
    "Debemos entender que al construir funciones de densidad de probabilidad se busca que sean positivas y que el area bajo la curva de esa funcion valga 1. Por tanto, podemos reescribir la integral anterior como sigue:\n",
    "\n",
    "$$\\int_{0}^{\\infty}\\frac{ x^{\\alpha - 1} e^{-\\frac{x}{\\beta}}}{ \\Gamma(\\alpha) \\beta^{\\alpha}} dx = 1$$\n",
    "\n",
    "Ahora definimos la distribucion como sigue: sea $X$ una variable continua. Si $f(X)$ viene dada por\n",
    "\n",
    "$$f(X) = \\frac{ x^{\\alpha - 1} e^{-\\frac{x}{\\beta}}}{ \\Gamma(\\alpha) \\beta^{\\alpha}}$$\n",
    "\n",
    "Donde $X>0$, $\\beta > 0$ y $\\alpha > 0$. Entonces decimos que $X$ sigue una Distribucion Gamma con parametros $\\alpha$ y $\\beta$\n",
    "\n",
    "$$X \\sim \\Gamma(\\alpha, \\beta)$$\n"
   ]
  },
  {
   "cell_type": "code",
   "execution_count": null,
   "id": "f32b16a2",
   "metadata": {},
   "outputs": [],
   "source": []
  },
  {
   "cell_type": "markdown",
   "id": "b156714a",
   "metadata": {},
   "source": [
    "## Funcion de Densidad de Probabilidad"
   ]
  },
  {
   "attachments": {
    "image.png": {
     "image/png": "[encoded data removed]"
    }
   },
   "cell_type": "markdown",
   "id": "7fbdb5b4",
   "metadata": {},
   "source": [
    "La funcion de la D. Gamma viene dada por:\n",
    "\n",
    "$$f(x) = \\Gamma(X = x) = \\left\\{\\begin{matrix}\n",
    " \\frac{ x^{\\alpha - 1} e^{-\\frac{x}{\\beta}}}{ \\Gamma(\\alpha) \\beta^{\\alpha}}& si  & x\\geq0 \\\\ 0\n",
    " & si & x<0\n",
    "\\end{matrix}\\right.$$\n",
    "\n",
    "donde:\n",
    "\n",
    "- $x$ debe ser mayor a cero.\n",
    "\n",
    "- $\\alpha$ es el parametro de forma y es positivo.\n",
    "\n",
    "- $\\beta$ es el parametro de escala y es positivo.\n",
    "\n",
    "- $\\Gamma(\\alpha)$ es la integral de cero a infinito de la funcion Gamma\n",
    "    $$\\Gamma(\\alpha)  = \\int_{0}^{\\infty} x^{\\alpha - 1} e^{-x} dx$$\n",
    "\n",
    "La grafica de la D. Gamma con parametros de $\\alpha = 3$ y $\\beta = 1$ es la siguiente:\n",
    "\n",
    "![image.png](attachment:image.png)\n"
   ]
  },
  {
   "cell_type": "code",
   "execution_count": null,
   "id": "3ecdd6ab",
   "metadata": {},
   "outputs": [],
   "source": []
  },
  {
   "cell_type": "markdown",
   "id": "f537f409",
   "metadata": {},
   "source": [
    "## Medidas de la Distribucion Gamma"
   ]
  },
  {
   "cell_type": "markdown",
   "id": "9721eb2c",
   "metadata": {},
   "source": [
    "La Media ($\\mu$) o esperanza $E(x)$ depende del grado de polinomio ($\\nu$) de $X$ \n",
    "\n",
    "- Para $\\nu > 1$ tenemos:\n",
    "    $$E(X^{\\nu}) = \\frac{\\beta^{\\nu} \\Gamma(\\nu + \\alpha)}{\\Gamma(\\alpha)}$$\n",
    "    \n",
    "- Para $\\nu = 1$ tenemos:\n",
    "    $$E(X) = \\alpha \\cdot \\beta$$\n",
    "    \n",
    "La varianza ($\\sigma^{2}$) o varianza matematica $V(x)$ viene dada por\n",
    "\n",
    "$$V(X) = \\alpha \\cdot \\beta^{2}$$\n",
    "\n",
    "La desviacion estandar ($\\sigma$) viene dada por\n",
    "\n",
    "$$\\sigma = \\sqrt{V(x)} = \\beta \\sqrt{\\alpha}$$\n",
    "\n",
    "En lo que sigue vamos a realizar ejemplos para comprender a profundidad esta distribucion."
   ]
  },
  {
   "cell_type": "code",
   "execution_count": null,
   "id": "93c58671",
   "metadata": {},
   "outputs": [],
   "source": []
  },
  {
   "cell_type": "markdown",
   "id": "0edc5276",
   "metadata": {},
   "source": [
    "## Ejemplo 1: *En una ciudad se observa que el consumo diario de energia (en millones de kilowatt-hora) es una variable aleatoria que sigue una D. Gamma con parametro $\\alpha = 3$ y $\\beta= 2$. Si la planta de energia que suministra la ciudad tiene una capacidad diaria de generar un maximo de 12. Cual es la probabilidad que haya un dia donde no se pueda satisfacer la demanda?*"
   ]
  },
  {
   "attachments": {
    "image.png": {
     "image/png": "[encoded data removed]"
    }
   },
   "cell_type": "markdown",
   "id": "78b094e4",
   "metadata": {},
   "source": [
    "El ejercicio nos da los parametros de la distribucion\n",
    "\n",
    "$$\\alpha = 3, \\beta = 2$$\n",
    "\n",
    "Nos piden la probabilidad de que en un dia no se satisfaga la demanda, es decir\n",
    "\n",
    "$$P(X\\leq1)$$\n",
    "\n",
    "Graficamente, es calcular el area sombreada\n",
    "\n",
    "![image.png](attachment:image.png)\n",
    "\n",
    "Para obtener dicha probabilidad, debemos integrar la funcion de densidad $\\Gamma(X\\leq1)$ en el intervalo entre 0 y 1.\n",
    "\n",
    "$$P(X\\leq1) = \\int_{0}^{1}\\frac{ x^{\\alpha - 1} e^{-\\frac{x}{\\beta}}}{ \\Gamma(\\alpha) \\beta^{\\alpha}} dx $$\n",
    "\n",
    "Sustityamos los valores de los parametros en la integral\n",
    "\n",
    "$$P(X\\leq1) = \\int_{0}^{1}\\frac{ x^{2} e^{-\\frac{x}{2}}}{ \\Gamma(3) 2^{3}} dx $$\n",
    "\n",
    "Por propiedad, sabemos que $\\Gamma(3) = (2)!$. Sustituimos este valor en la integral\n",
    "\n",
    "$$P(X\\leq1) = \\int_{0}^{1}\\frac{ x^{2} e^{-\\frac{x}{2}}}{ 2!\\cdot 2^{3}} dx $$\n",
    "\n",
    "El valor de $2!$ es $2$ por lo que sacamos la constante de la integral\n",
    "\n",
    "$$P(X\\leq1) = \\frac{1}{16}\\int_{0}^{1} x^{2} e^{-\\frac{x}{2}} dx $$\n",
    "\n",
    "Para resolver la integral resultante, utilizamos una libreria de Python llamada Sympy"
   ]
  },
  {
   "cell_type": "code",
   "execution_count": 3,
   "id": "768f9783",
   "metadata": {
    "scrolled": true
   },
   "outputs": [
    {
     "data": {
      "text/latex": [
       "$\\displaystyle 0.2302$"
      ],
      "text/plain": [
       "0.2302"
      ]
     },
     "execution_count": 3,
     "metadata": {},
     "output_type": "execute_result"
    }
   ],
   "source": [
    "# libreria para calculo de integrales\n",
    "import sympy as sp\n",
    "\n",
    "# definimos la variable \n",
    "x = sp.Symbol('x')\n",
    "\n",
    "# definimos la funcion a integrar\n",
    "f = (x**2)*sp.exp(-x/2)\n",
    "\n",
    "# calculo de la integral entre 0 y 1\n",
    "integral = sp.integrate(f, (x, 0, 1))\n",
    "\n",
    "# convertir resultado simbolico a decimal\n",
    "integral_val = integral.evalf(4)\n",
    "\n",
    "# mostrar resultado\n",
    "integral_val"
   ]
  },
  {
   "cell_type": "markdown",
   "id": "fdbf905e",
   "metadata": {},
   "source": [
    "Una vez obtenido el resultado de la integral, porcedemos a calcular la probabilidad solicitada\n",
    "\n",
    "$$P(X\\leq 1) = \\frac{0.2302}{16}$$"
   ]
  },
  {
   "cell_type": "code",
   "execution_count": 5,
   "id": "e6231ae6",
   "metadata": {},
   "outputs": [
    {
     "data": {
      "text/plain": [
       "0.0144"
      ]
     },
     "execution_count": 5,
     "metadata": {},
     "output_type": "execute_result"
    }
   ],
   "source": [
    "# calculo de probabilidad\n",
    "prob = 0.2302/16\n",
    "prob = round(prob, 4)\n",
    "prob"
   ]
  },
  {
   "cell_type": "markdown",
   "id": "01879245",
   "metadata": {},
   "source": [
    "> La probabilidad que haya un dia donde no se pueda satisfacer la demanda es de 1.44%"
   ]
  }
 ],
 "metadata": {
  "kernelspec": {
   "display_name": "Python 3 (ipykernel)",
   "language": "python",
   "name": "python3"
  },
  "language_info": {
   "codemirror_mode": {
    "name": "ipython",
    "version": 3
   },
   "file_extension": ".py",
   "mimetype": "text/x-python",
   "name": "python",
   "nbconvert_exporter": "python",
   "pygments_lexer": "ipython3",
   "version": "3.9.12"
  }
 },
 "nbformat": 4,
 "nbformat_minor": 5
}
