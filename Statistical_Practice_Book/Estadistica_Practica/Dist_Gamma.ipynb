{
 "cells": [
  {
   "cell_type": "markdown",
   "id": "6240c65a",
   "metadata": {},
   "source": [
    "# Todo sobre la Distribucion Gamma"
   ]
  },
  {
   "cell_type": "markdown",
   "id": "729d00b5",
   "metadata": {},
   "source": [
    "Es una D. de probabilidad continua que resalta por su importancia para otras distribuciones muy utilizadas en la practica como son la Exponencial $Exp(X)$ y Chi cuadrado $X^2$ \n",
    "\n",
    "Se define mediante dos parametros: el parametro de forma $\\alpha$ y el parametro de escala $\\beta$ los cuales le dan una gran versatilidad para tomar variedad de formas. Esto le da una gran capacidad para modelar diferentes fenomenos reales. Ademas, su habilidad para manejar datos sesgados y con colas largas la hace adecuada para aplicaciones donde otras ditribuciones, como la normal, no son adecuadas. Algunas de las aplicaciones mas comunes en ciencia de datos son:\n",
    "\n",
    "- Tiempos de respuestas y procesamiento: Tiempo que se tarda en procesar una tarea o atender una solicitud.\n",
    "\n",
    "- Tiempo hasta el exito: Modelar el tiempo hasta que ocurren varios eventos en un proceso de Poisson (clics en una campana publicitaria) \n",
    "\n",
    "- Vida util de productos: Modela lavida util de componentes y sistemas mecanicos o electronicos ayudando a prever fallos.\n"
   ]
  },
  {
   "cell_type": "code",
   "execution_count": null,
   "id": "f39fb91e",
   "metadata": {},
   "outputs": [],
   "source": []
  },
  {
   "cell_type": "markdown",
   "id": "2585c801",
   "metadata": {},
   "source": [
    "## Deduccion de la D. Gamma"
   ]
  },
  {
   "cell_type": "markdown",
   "id": "681b9940",
   "metadata": {},
   "source": [
    "Esta distribucion se fundamenta en la funcion Gamma que se define como:\n",
    "\n",
    "$$\\Gamma (\\alpha) = \\int_{0}^{\\infty} x^{\\alpha - 1} e^{-x} dx$$\n",
    "\n",
    "La funcion Gamma cumple las siguiente propiedades:\n",
    "\n",
    "1.- $\\Gamma(\\alpha + 1) = \\alpha \\Gamma()\\alpha$\n",
    "\n",
    "2.- $\\Gamma(\\alpha + 1) = \\alpha!$ para todo $\\alpha \\in N$\n",
    "\n",
    "3.- $\\Gamma(\\frac{1}{2}) = \\sqrt{\\pi}$\n",
    "\n",
    "4.- $\\Gamma(n) = (n-1)!$ para $n$ entero."
   ]
  },
  {
   "cell_type": "markdown",
   "id": "cb1e4ba4",
   "metadata": {},
   "source": [
    "Para dar mayor flexibilidad a la funcion Gamma podemos agregar un parametro a la exponencial. Para ello, realizamos el siguiente cambio de variable:\n",
    "\n",
    "Sea \n",
    "\n",
    "$$u = \\beta x$$\n",
    "\n",
    "Entonces,\n",
    "\n",
    "$$du = \\beta dx, dx = \\frac{du}{\\beta}$$\n",
    "\n",
    "Sustituimos $x$ por $u$ y su derivada en la funcion Gamma y obtenemos:\n",
    "\n",
    "$$\\Gamma (\\alpha) = \\int_{0}^{\\infty} x^{\\alpha - 1} e^{-x} dx = \\int_{0}^{\\infty} \\left ( \\frac{u}{\\beta} \\right )^{\\alpha - 1}  e^{-\\frac{u}{\\beta}} \\frac{du}{\\beta}$$\n",
    "\n",
    "Ahora, sacamos $\\beta$ de la integral y nos queda:\n",
    "\n",
    "$$\\Gamma (\\alpha) = \\frac{1}{\\beta^{\\alpha}} \\int_{0}^{\\infty} u^{\\alpha - 1}  e^{-\\frac{u}{\\beta}} du  = \\Gamma(\\alpha) \\beta^{\\alpha}$$\n",
    "\n",
    "Entonces, podemos deducir lo siguiente:\n",
    "\n",
    "$$\\int_{0}^{\\infty} x^{\\alpha - 1} e^{-\\frac{x}{\\beta}} dx =  \\Gamma(\\alpha) \\beta^{\\alpha}$$\n",
    "\n",
    "Debemos entender que al construir funciones de densidad de probabilidad se busca que sean positivas y que el area bajo la curva de esa funcion valga 1. Por tanto, podemos reescribir la integral anterior como sigue:\n",
    "\n",
    "$$\\int_{0}^{\\infty}\\frac{ x^{\\alpha - 1} e^{-\\frac{x}{\\beta}}}{ \\Gamma(\\alpha) \\beta^{\\alpha}} dx = 1$$\n",
    "\n",
    "Ahora definimos la distribucion como sigue: sea $X$ una variable continua. Si $f(X)$ viene dada por\n",
    "\n",
    "$$f(X) = \\frac{ x^{\\alpha - 1} e^{-\\frac{x}{\\beta}}}{ \\Gamma(\\alpha) \\beta^{\\alpha}}$$\n",
    "\n",
    "Donde $X>0$, $\\beta > 0$ y $\\alpha > 0$. Entonces decimos que $X$ sigue una Distribucion Gamma con parametros $\\alpha$ y $\\beta$\n",
    "\n",
    "$$X \\sim \\Gamma(\\alpha, \\beta)$$\n"
   ]
  },
  {
   "cell_type": "code",
   "execution_count": null,
   "id": "f32b16a2",
   "metadata": {},
   "outputs": [],
   "source": []
  },
  {
   "cell_type": "markdown",
   "id": "b156714a",
   "metadata": {},
   "source": [
    "## Funcion de Densidad de Probabilidad"
   ]
  },
  {
   "attachments": {
    "image.png": {
     "image/png": "[encoded data removed]"
    }
   },
   "cell_type": "markdown",
   "id": "7fbdb5b4",
   "metadata": {},
   "source": [
    "La funcion de la D. Gamma viene dada por:\n",
    "\n",
    "$$f(x) = \\Gamma(X = x) = \\left\\{\\begin{matrix}\n",
    " \\frac{ x^{\\alpha - 1} e^{-\\frac{x}{\\beta}}}{ \\Gamma(\\alpha) \\beta^{\\alpha}}& si  & x\\geq0 \\\\ 0\n",
    " & si & x<0\n",
    "\\end{matrix}\\right.$$\n",
    "\n",
    "donde:\n",
    "\n",
    "- $x$ debe ser mayor a cero.\n",
    "\n",
    "- $\\alpha$ es el parametro de forma y es positivo.\n",
    "\n",
    "- $\\beta$ es el parametro de escala y es positivo.\n",
    "\n",
    "- $\\Gamma(\\alpha)$ es la integral de cero a infinito de la funcion Gamma\n",
    "    $$\\Gamma(\\alpha)  = \\int_{0}^{\\infty} x^{\\alpha - 1} e^{-x} dx$$\n",
    "\n",
    "La grafica de la D. Gamma con parametros de $\\alpha = 3$ y $\\beta = 1$ es la siguiente:\n",
    "\n",
    "![image.png](attachment:image.png)\n"
   ]
  },
  {
   "cell_type": "code",
   "execution_count": null,
   "id": "3ecdd6ab",
   "metadata": {},
   "outputs": [],
   "source": []
  },
  {
   "cell_type": "markdown",
   "id": "f537f409",
   "metadata": {},
   "source": [
    "## Medidas de la Distribucion Gamma"
   ]
  },
  {
   "cell_type": "markdown",
   "id": "9721eb2c",
   "metadata": {},
   "source": [
    "La Media ($\\mu$) o esperanza $E(x)$ depende del grado de polinomio ($\\nu$) de $X$ \n",
    "\n",
    "- Para $\\nu > 1$ tenemos:\n",
    "    $$E(X^{\\nu}) = \\frac{\\beta^{\\nu} \\Gamma(\\nu + \\alpha)}{\\Gamma(\\alpha)}$$\n",
    "    \n",
    "- Para $\\nu = 1$ tenemos:\n",
    "    $$E(X) = \\alpha \\cdot \\beta$$\n",
    "    \n",
    "La varianza ($\\sigma^{2}$) o varianza matematica $V(x)$ viene dada por\n",
    "\n",
    "$$V(X) = \\alpha \\cdot \\beta^{2}$$\n",
    "\n",
    "La desviacion estandar ($\\sigma$) viene dada por\n",
    "\n",
    "$$\\sigma = \\sqrt{V(x)} = \\beta \\sqrt{\\alpha}$$\n",
    "\n",
    "En lo que sigue vamos a realizar ejemplos para comprender a profundidad esta distribucion."
   ]
  },
  {
   "cell_type": "code",
   "execution_count": null,
   "id": "93c58671",
   "metadata": {},
   "outputs": [],
   "source": []
  },
  {
   "cell_type": "markdown",
   "id": "0edc5276",
   "metadata": {},
   "source": [
    "## Ejemplo 1: *En una ciudad se observa que el consumo diario de energia (en millones de kilowatt-hora) es una variable aleatoria que sigue una D. Gamma con parametro $\\alpha = 3$ y $\\beta= 2$. Si la planta de energia que suministra la ciudad tiene una capacidad diaria de generar un maximo de 12 millones Kw/hora.*. "
   ]
  },
  {
   "cell_type": "markdown",
   "id": "53a1ba93",
   "metadata": {},
   "source": [
    "### a.- Cual es la probabilidad que haya un dia donde no se pueda satisfacer la demanda?"
   ]
  },
  {
   "attachments": {
    "image.png": {
     "image/png": "[encoded data removed]"
    }
   },
   "cell_type": "markdown",
   "id": "d4ff6e98",
   "metadata": {},
   "source": [
    "El ejercicio nos da los parametros de la distribucion\n",
    "\n",
    "$$\\alpha = 3, \\beta = 2$$\n",
    "\n",
    "La variable $X$ representa el consumo diario de energia \n",
    "\n",
    "Nos piden la probabilidad de que en un dia no se satisfaga la demanda, es decir\n",
    "\n",
    "$$P(X\\leq1)$$\n",
    "\n",
    "Graficamente, es calcular el area sombreada\n",
    "\n",
    "![image.png](attachment:image.png)\n",
    "\n",
    "Para obtener dicha probabilidad, debemos integrar la funcion de densidad $\\Gamma(X\\leq1)$ en el intervalo entre 0 y 1.\n",
    "\n",
    "$$P(X\\leq1) = \\int_{0}^{1}\\frac{ x^{\\alpha - 1} e^{-\\frac{x}{\\beta}}}{ \\Gamma(\\alpha) \\beta^{\\alpha}} dx $$\n",
    "\n",
    "Sustityamos los valores de los parametros en la integral\n",
    "\n",
    "$$P(X\\leq1) = \\int_{0}^{1}\\frac{ x^{2} e^{-\\frac{x}{2}}}{ \\Gamma(3) 2^{3}} dx $$\n",
    "\n",
    "Por propiedad, sabemos que $\\Gamma(3) = (2)!$. Sustituimos este valor en la integral\n",
    "\n",
    "$$P(X\\leq1) = \\int_{0}^{1}\\frac{ x^{2} e^{-\\frac{x}{2}}}{ 2!\\cdot 2^{3}} dx $$\n",
    "\n",
    "El valor de $2!$ es $2$ por lo que sacamos la constante de la integral\n",
    "\n",
    "$$P(X\\leq1) = \\frac{1}{16}\\int_{0}^{1} x^{2} e^{-\\frac{x}{2}} dx $$\n",
    "\n",
    "Para resolver la integral resultante, utilizamos una libreria de Python llamada Sympy"
   ]
  },
  {
   "cell_type": "code",
   "execution_count": 19,
   "id": "768f9783",
   "metadata": {
    "scrolled": true
   },
   "outputs": [
    {
     "data": {
      "text/latex": [
       "$\\displaystyle 0.2302$"
      ],
      "text/plain": [
       "0.2302"
      ]
     },
     "execution_count": 19,
     "metadata": {},
     "output_type": "execute_result"
    }
   ],
   "source": [
    "# libreria para calculo de integrales\n",
    "import sympy as sp\n",
    "\n",
    "# definimos la variable \n",
    "x = sp.Symbol('x')\n",
    "\n",
    "# definimos la funcion a integrar\n",
    "f = (x**2)*sp.exp(-x/2)\n",
    "\n",
    "# calculo de la integral entre 0 y 1\n",
    "integral = sp.integrate(f, (x, 0, 1))\n",
    "\n",
    "# convertir resultado simbolico a decimal\n",
    "integral_val = integral.evalf(4)\n",
    "\n",
    "# mostrar resultado\n",
    "integral_val"
   ]
  },
  {
   "cell_type": "markdown",
   "id": "fdcdee59",
   "metadata": {},
   "source": [
    "Una vez obtenido el resultado de la integral, porcedemos a calcular la probabilidad solicitada\n",
    "\n",
    "$$P(X\\leq 1) = \\frac{0.2302}{16}$$"
   ]
  },
  {
   "cell_type": "code",
   "execution_count": 20,
   "id": "fc80ae77",
   "metadata": {},
   "outputs": [
    {
     "data": {
      "text/plain": [
       "0.0144"
      ]
     },
     "execution_count": 20,
     "metadata": {},
     "output_type": "execute_result"
    }
   ],
   "source": [
    "# calculo de probabilidad\n",
    "prob = 0.2302/16\n",
    "prob = round(prob, 4)\n",
    "prob"
   ]
  },
  {
   "cell_type": "markdown",
   "id": "a42e4740",
   "metadata": {},
   "source": [
    "> La probabilidad que haya un dia donde no se pueda satisfacer la demanda es de 1.44%"
   ]
  },
  {
   "cell_type": "markdown",
   "id": "46935f00",
   "metadata": {},
   "source": [
    "### b.- Cual es la probabilidad que este abastecimiento sea insuficiente en un dia cualquiera?"
   ]
  },
  {
   "attachments": {
    "image.png": {
     "image/png": "[encoded data removed]"
    }
   },
   "cell_type": "markdown",
   "id": "be582fcf",
   "metadata": {},
   "source": [
    "Nos piden calcular la probabilidad de que el consumo sea mayor a 12 Kw/hora, es decir\n",
    "\n",
    "$$P(X>12)$$\n",
    "\n",
    "Lo que implica calcular la probabilidad de mas de 12 hasta infinito. Sin embargo, para no tomar el camino de la integral de 12 a infinito, acudimos a la propiedad de complemento de probabilidad\n",
    "\n",
    "$$P(X>12) = 1 - P(X \\leq 12)$$\n",
    "\n",
    "Donde $P(X \\leq 12)$ implica calcular la probabilidad desde 0 a 12 que es mucho mas viable. Graficamente, es encontrar el area encerrada entre 12 e infinito \n",
    "\n",
    "![image.png](attachment:image.png)\n",
    "\n",
    "Para obtenerla, vamos a utilizar el metodo CDF de la D. Gamma contenida en la libreria Scipy de Python"
   ]
  },
  {
   "cell_type": "code",
   "execution_count": 21,
   "id": "ed6d6c35",
   "metadata": {},
   "outputs": [],
   "source": [
    "# libreria para calcular la D Gamma\n",
    "from scipy.stats import gamma"
   ]
  },
  {
   "cell_type": "code",
   "execution_count": 22,
   "id": "08e7820e",
   "metadata": {},
   "outputs": [],
   "source": [
    "# parametros de la D\n",
    "\n",
    "# alfa\n",
    "alfa = 3\n",
    "# beta\n",
    "beta = 2\n",
    "# valor limite\n",
    "x = 12"
   ]
  },
  {
   "cell_type": "code",
   "execution_count": 23,
   "id": "883a9a7d",
   "metadata": {},
   "outputs": [
    {
     "data": {
      "text/plain": [
       "0.9992"
      ]
     },
     "execution_count": 23,
     "metadata": {},
     "output_type": "execute_result"
    }
   ],
   "source": [
    "# probabilidad acumulada de 0 a 12\n",
    "prob = gamma.cdf(x, alfa, 1/beta)\n",
    "prob = round(prob, 4)\n",
    "prob"
   ]
  },
  {
   "cell_type": "markdown",
   "id": "476e12bc",
   "metadata": {},
   "source": [
    "Restando a 1 el resultado obtenido nos queda"
   ]
  },
  {
   "cell_type": "code",
   "execution_count": 24,
   "id": "cf89f569",
   "metadata": {},
   "outputs": [
    {
     "data": {
      "text/plain": [
       "0.0008"
      ]
     },
     "execution_count": 24,
     "metadata": {},
     "output_type": "execute_result"
    }
   ],
   "source": [
    "proba = 1 - prob\n",
    "proba = round(proba, 4)\n",
    "proba"
   ]
  },
  {
   "cell_type": "markdown",
   "id": "30ce8627",
   "metadata": {},
   "source": [
    "> La probabilidad de que el abastecimiento sea insuficiente en cualquier dia es de 0.08%"
   ]
  },
  {
   "cell_type": "markdown",
   "id": "0c14ccdf",
   "metadata": {},
   "source": [
    "### 3.- Encuentre $E(x)$ y $V(x)$"
   ]
  },
  {
   "cell_type": "markdown",
   "id": "9fab0eec",
   "metadata": {},
   "source": [
    "- La media viene dada por:\n",
    "\n",
    "    $$E(x) = \\alpha \\cdot \\beta$$\n",
    "\n",
    "    Entonces, la media en este caso es de\n",
    "\n",
    "    $$E(x) = 3 \\cdot 2 = 6$$\n",
    "\n",
    "- La varianza $V(x)$ viene dada por\n",
    "\n",
    "    $$V(x) = \\alpha \\cdot \\beta^2$$\n",
    "    \n",
    "    Entonces, la varianza para este caso es de \n",
    "    \n",
    "    $$V(x) = 3\\cdot 2^2 = 3\\cdot 4 = 12$$"
   ]
  }
 ],
 "metadata": {
  "kernelspec": {
   "display_name": "Python 3 (ipykernel)",
   "language": "python",
   "name": "python3"
  },
  "language_info": {
   "codemirror_mode": {
    "name": "ipython",
    "version": 3
   },
   "file_extension": ".py",
   "mimetype": "text/x-python",
   "name": "python",
   "nbconvert_exporter": "python",
   "pygments_lexer": "ipython3",
   "version": "3.9.12"
  }
 },
 "nbformat": 4,
 "nbformat_minor": 5
}
