{
 "cells": [
  {
   "cell_type": "markdown",
   "id": "3914463c",
   "metadata": {},
   "source": [
    "# Validacion Cruzada LOO-CV"
   ]
  },
  {
   "cell_type": "markdown",
   "id": "282ac70c",
   "metadata": {},
   "source": [
    "El metodo *Leave-One_Out Cross-Validation (LOO-CV)* es una tecnica muy exhaustiva que pertenece a la familia de metodos de validacion cruzada de tipo *leave-p-out*. Consiste en entrenar el modelo utilizando todas menos una de las observaciones y luego se evalua el modelo en la observacion que quedo afuera. El proceso se repite tantas veces como el numero total de observaciones en el conjunto de datos, usando una muestra diferente como conjunto de prueba en cada iteracion."
   ]
  },
  {
   "cell_type": "code",
   "execution_count": null,
   "id": "3629469e",
   "metadata": {},
   "outputs": [],
   "source": []
  },
  {
   "cell_type": "markdown",
   "id": "567e538d",
   "metadata": {},
   "source": [
    "## Ventajas del metodo LOO-CV"
   ]
  },
  {
   "cell_type": "markdown",
   "id": "e6a40032",
   "metadata": {},
   "source": [
    "- Todos los datos, excepto uno, se utilizan para entrenar el modelo en cada iteracion, por lo que es una de las formas mas eficientes de usar el conjunto de datos disponibles"
   ]
  },
  {
   "cell_type": "code",
   "execution_count": null,
   "id": "dd076682",
   "metadata": {},
   "outputs": [],
   "source": []
  },
  {
   "cell_type": "code",
   "execution_count": null,
   "id": "38377ad7",
   "metadata": {},
   "outputs": [],
   "source": []
  }
 ],
 "metadata": {
  "kernelspec": {
   "display_name": "Python 3 (ipykernel)",
   "language": "python",
   "name": "python3"
  },
  "language_info": {
   "codemirror_mode": {
    "name": "ipython",
    "version": 3
   },
   "file_extension": ".py",
   "mimetype": "text/x-python",
   "name": "python",
   "nbconvert_exporter": "python",
   "pygments_lexer": "ipython3",
   "version": "3.9.12"
  }
 },
 "nbformat": 4,
 "nbformat_minor": 5
}
