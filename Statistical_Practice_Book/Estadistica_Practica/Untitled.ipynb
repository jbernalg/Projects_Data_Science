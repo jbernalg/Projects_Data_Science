{
 "cells": [
  {
   "cell_type": "markdown",
   "id": "94d7ddc4",
   "metadata": {},
   "source": [
    "# Validacion Cruzada LOO-CV"
   ]
  },
  {
   "cell_type": "markdown",
   "id": "57ad3cd2",
   "metadata": {},
   "source": [
    "El metodo *Leave-One_Out Cross-Validation (LOO-CV)* es una tecnica muy exhaustiva que pertenece a la familia de metodos de validacion cruzada de tipo *leave-p-out*. Consiste en entrenar el modelo utilizando todas menos una de las observaciones y luego se evalua el modelo en la observacion que quedo afuera. El proceso se repite tantas veces como el numero total de observaciones en el conjunto de datos, usando una muestra diferente como conjunto de prueba en cada iteracion."
   ]
  },
  {
   "cell_type": "code",
   "execution_count": null,
   "id": "b0f3f810",
   "metadata": {},
   "outputs": [],
   "source": []
  },
  {
   "cell_type": "markdown",
   "id": "c24bbf05",
   "metadata": {},
   "source": [
    "## Ventajas del metodo LOO-CV"
   ]
  },
  {
   "cell_type": "markdown",
   "id": "aa592ee5",
   "metadata": {},
   "source": [
    "- Todos los datos, excepto uno, se utilizan para entrenar el modelo en cada iteracion, por lo que es una de las formas mas eficientes de usar el conjunto de datos disponibles\n",
    "\n",
    "- Proporciona una estimacion robusta del modelo, ya que se entrena y evalua en casi todas las muestras posibles.\n",
    "\n",
    "- Es ideal aplicar cuando el conjunto de datos es pequeno y cada muestra es valiosa. Ejemplo, en problemas medicos o biologicos donde hay pocas observaciones.\n",
    "\n",
    "- Cuando las observaciones individales pueden tener un impacto significativo en el rendimiento del modelo, este metodo puede ser muy util porque evalua el modelo para cada muestra detallando su comportamiento en situaciones extremas.\n",
    "\n",
    "- Evita el sobreajuste en ciertos casos, ya que al dejar solo una muestra para la prueba, se asegura que el modelo no vea esa muestra durante el entrenamiento. Esto reduce la probabilidad de ajustar excesivamente el modelo."
   ]
  },
  {
   "cell_type": "code",
   "execution_count": null,
   "id": "19b1569d",
   "metadata": {},
   "outputs": [],
   "source": []
  },
  {
   "cell_type": "code",
   "execution_count": null,
   "id": "5fb88d54",
   "metadata": {},
   "outputs": [],
   "source": []
  }
 ],
 "metadata": {
  "kernelspec": {
   "display_name": "Python 3 (ipykernel)",
   "language": "python",
   "name": "python3"
  },
  "language_info": {
   "codemirror_mode": {
    "name": "ipython",
    "version": 3
   },
   "file_extension": ".py",
   "mimetype": "text/x-python",
   "name": "python",
   "nbconvert_exporter": "python",
   "pygments_lexer": "ipython3",
   "version": "3.9.12"
  }
 },
 "nbformat": 4,
 "nbformat_minor": 5
}
