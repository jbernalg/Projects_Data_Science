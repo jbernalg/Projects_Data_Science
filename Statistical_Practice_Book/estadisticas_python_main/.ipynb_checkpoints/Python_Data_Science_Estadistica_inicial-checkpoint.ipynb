{
 "cells": [
  {
   "cell_type": "markdown",
   "metadata": {
    "id": "WvMflodMjQKe"
   },
   "source": [
    "***\n",
    "# <font color=green size=10>ESTADÍSTICAS CON PYTHON</font>\n",
    "***"
   ]
  },
  {
   "cell_type": "markdown",
   "metadata": {
    "id": "SSLtySxWyIRM"
   },
   "source": [
    "### ¿Por qué estudiar Estadística?\n",
    "\n",
    "La **estadística** puede ser muy importante para una efectiva toma \n",
    "de decisiones. Existe una gran cantidad de valiosa información \n",
    "escondida entre los datos, pero esta información no suele ser fácilmente accesible, la estadística nos brinda los principios fundamentales que nos permiten extraer y entender esa información; tambien nos proporciona las herramientas necesarias para verificar la calidad de nuestros datos y nuestra información.\n",
    "\n",
    "Existen 2 tipos de Estadística:\n",
    "1. Estadística Descriptiva\n",
    "2. Estadística Inferencial"
   ]
  },
  {
   "cell_type": "markdown",
   "metadata": {
    "id": "Wrya4suEX7H-"
   },
   "source": [
    "## Conociendo la base de datos"
   ]
  },
  {
   "cell_type": "code",
   "execution_count": 1,
   "metadata": {
    "id": "jj7a21flX7H_"
   },
   "outputs": [
    {
     "data": {
      "text/html": [
       "<div>\n",
       "<style scoped>\n",
       "    .dataframe tbody tr th:only-of-type {\n",
       "        vertical-align: middle;\n",
       "    }\n",
       "\n",
       "    .dataframe tbody tr th {\n",
       "        vertical-align: top;\n",
       "    }\n",
       "\n",
       "    .dataframe thead th {\n",
       "        text-align: right;\n",
       "    }\n",
       "</style>\n",
       "<table border=\"1\" class=\"dataframe\">\n",
       "  <thead>\n",
       "    <tr style=\"text-align: right;\">\n",
       "      <th></th>\n",
       "      <th>CodPostal</th>\n",
       "      <th>Sexo</th>\n",
       "      <th>Edad</th>\n",
       "      <th>Color</th>\n",
       "      <th>Años_Estudio</th>\n",
       "      <th>Renta</th>\n",
       "      <th>Altura</th>\n",
       "    </tr>\n",
       "  </thead>\n",
       "  <tbody>\n",
       "    <tr>\n",
       "      <th>0</th>\n",
       "      <td>11</td>\n",
       "      <td>0</td>\n",
       "      <td>23</td>\n",
       "      <td>8</td>\n",
       "      <td>12</td>\n",
       "      <td>800</td>\n",
       "      <td>1.603808</td>\n",
       "    </tr>\n",
       "    <tr>\n",
       "      <th>1</th>\n",
       "      <td>11</td>\n",
       "      <td>1</td>\n",
       "      <td>23</td>\n",
       "      <td>2</td>\n",
       "      <td>12</td>\n",
       "      <td>1150</td>\n",
       "      <td>1.739790</td>\n",
       "    </tr>\n",
       "    <tr>\n",
       "      <th>2</th>\n",
       "      <td>11</td>\n",
       "      <td>1</td>\n",
       "      <td>35</td>\n",
       "      <td>8</td>\n",
       "      <td>15</td>\n",
       "      <td>880</td>\n",
       "      <td>1.760444</td>\n",
       "    </tr>\n",
       "    <tr>\n",
       "      <th>3</th>\n",
       "      <td>11</td>\n",
       "      <td>0</td>\n",
       "      <td>46</td>\n",
       "      <td>2</td>\n",
       "      <td>6</td>\n",
       "      <td>3500</td>\n",
       "      <td>1.783158</td>\n",
       "    </tr>\n",
       "    <tr>\n",
       "      <th>4</th>\n",
       "      <td>11</td>\n",
       "      <td>1</td>\n",
       "      <td>47</td>\n",
       "      <td>8</td>\n",
       "      <td>9</td>\n",
       "      <td>150</td>\n",
       "      <td>1.690631</td>\n",
       "    </tr>\n",
       "  </tbody>\n",
       "</table>\n",
       "</div>"
      ],
      "text/plain": [
       "   CodPostal  Sexo  Edad  Color  Años_Estudio  Renta    Altura\n",
       "0         11     0    23      8            12    800  1.603808\n",
       "1         11     1    23      2            12   1150  1.739790\n",
       "2         11     1    35      8            15    880  1.760444\n",
       "3         11     0    46      2             6   3500  1.783158\n",
       "4         11     1    47      8             9    150  1.690631"
      ]
     },
     "execution_count": 1,
     "metadata": {},
     "output_type": "execute_result"
    }
   ],
   "source": [
    "# librerias\n",
    "import pandas as pd\n",
    "\n",
    "# obtener datos\n",
    "df = pd.read_csv('base.csv')\n",
    "df.head()"
   ]
  },
  {
   "cell_type": "code",
   "execution_count": 2,
   "metadata": {},
   "outputs": [
    {
     "data": {
      "text/plain": [
       "(76840, 7)"
      ]
     },
     "execution_count": 2,
     "metadata": {},
     "output_type": "execute_result"
    }
   ],
   "source": [
    "# size del df\n",
    "df.shape"
   ]
  },
  {
   "cell_type": "code",
   "execution_count": 3,
   "metadata": {},
   "outputs": [
    {
     "data": {
      "text/plain": [
       "CodPostal       0\n",
       "Sexo            0\n",
       "Edad            0\n",
       "Color           0\n",
       "Años_Estudio    0\n",
       "Renta           0\n",
       "Altura          0\n",
       "dtype: int64"
      ]
     },
     "execution_count": 3,
     "metadata": {},
     "output_type": "execute_result"
    }
   ],
   "source": [
    "# evaluacion de valores faltantes por variable\n",
    "df.isnull().sum()"
   ]
  },
  {
   "cell_type": "markdown",
   "metadata": {
    "id": "uIb17Es3jQMP"
   },
   "source": [
    "# <font color=green>1. ESTADÍSTICA DESCRIPTIVA</font>\n",
    "***"
   ]
  },
  {
   "cell_type": "markdown",
   "metadata": {
    "id": "Xp3eIVh9-GQo"
   },
   "source": [
    "Se dedica a recolectar, ordenar, analizar y representar a un conjunto de datos, con el fin de describir apropiadamente sus características. Calcula los parámetros estadísticos que describen el conjunto estudiado. Algunas de las herramientas que utiliza son gráficos, distribuciones de frecuencias, medidas de centralización, medidas de posición, medidas de dispersión, entre otras."
   ]
  },
  {
   "cell_type": "markdown",
   "metadata": {
    "id": "HOxC3G_oIa3D"
   },
   "source": [
    "## <font color=green>1.1 Distribuciones de Frecuencia</font>\n",
    "***"
   ]
  },
  {
   "cell_type": "markdown",
   "metadata": {
    "id": "CVyyJlHOJVP8"
   },
   "source": [
    "### Distribuciones de frecuencia para una variable cualitativa"
   ]
  },
  {
   "cell_type": "code",
   "execution_count": 4,
   "metadata": {
    "id": "OikEYfyzIzxi"
   },
   "outputs": [
    {
     "data": {
      "text/plain": [
       "0    53250\n",
       "1    23590\n",
       "Name: Sexo, dtype: int64"
      ]
     },
     "execution_count": 4,
     "metadata": {},
     "output_type": "execute_result"
    }
   ],
   "source": [
    "# para la variable sexo\n",
    "freq = df['Sexo'].value_counts()\n",
    "freq"
   ]
  },
  {
   "cell_type": "markdown",
   "metadata": {},
   "source": [
    "- 0 para masculino, 1 para femenimo\n",
    "- Hay 53250 hombres y 23590 mujeres, una gran diferencia entre ambos"
   ]
  },
  {
   "cell_type": "code",
   "execution_count": 6,
   "metadata": {
    "id": "nCNKooHZJtf_"
   },
   "outputs": [
    {
     "data": {
      "text/plain": [
       "0    69.299844\n",
       "1    30.700156\n",
       "Name: Sexo, dtype: float64"
      ]
     },
     "execution_count": 6,
     "metadata": {},
     "output_type": "execute_result"
    }
   ],
   "source": [
    "# distribucion de frecuencia en porcentaje\n",
    "pct = df['Sexo'].value_counts(normalize=True)*100\n",
    "pct"
   ]
  },
  {
   "cell_type": "markdown",
   "metadata": {},
   "source": [
    "- El 31% de los registros corresponden a mujeres\n",
    "- El 69% de los registros son hombres"
   ]
  },
  {
   "cell_type": "code",
   "execution_count": 7,
   "metadata": {
    "id": "LQI83VIWK-zR"
   },
   "outputs": [
    {
     "data": {
      "text/html": [
       "<div>\n",
       "<style scoped>\n",
       "    .dataframe tbody tr th:only-of-type {\n",
       "        vertical-align: middle;\n",
       "    }\n",
       "\n",
       "    .dataframe tbody tr th {\n",
       "        vertical-align: top;\n",
       "    }\n",
       "\n",
       "    .dataframe thead th {\n",
       "        text-align: right;\n",
       "    }\n",
       "</style>\n",
       "<table border=\"1\" class=\"dataframe\">\n",
       "  <thead>\n",
       "    <tr style=\"text-align: right;\">\n",
       "      <th></th>\n",
       "      <th>Frecuencia</th>\n",
       "      <th>Porcentaje (%)</th>\n",
       "    </tr>\n",
       "  </thead>\n",
       "  <tbody>\n",
       "    <tr>\n",
       "      <th>0</th>\n",
       "      <td>53250</td>\n",
       "      <td>69.299844</td>\n",
       "    </tr>\n",
       "    <tr>\n",
       "      <th>1</th>\n",
       "      <td>23590</td>\n",
       "      <td>30.700156</td>\n",
       "    </tr>\n",
       "  </tbody>\n",
       "</table>\n",
       "</div>"
      ],
      "text/plain": [
       "   Frecuencia  Porcentaje (%)\n",
       "0       53250       69.299844\n",
       "1       23590       30.700156"
      ]
     },
     "execution_count": 7,
     "metadata": {},
     "output_type": "execute_result"
    }
   ],
   "source": [
    "# mostrar ambos resultados \n",
    "dist_freq_sex = pd.DataFrame({'Frecuencia': freq, 'Porcentaje (%)': pct})\n",
    "dist_freq_sex"
   ]
  },
  {
   "cell_type": "markdown",
   "metadata": {
    "id": "feXC0DPRLXzf"
   },
   "source": [
    "### Distribuciones de frecuencia para más de una variable cualitativa"
   ]
  },
  {
   "cell_type": "code",
   "execution_count": 8,
   "metadata": {
    "id": "VFGQzAW3LaqU"
   },
   "outputs": [],
   "source": [
    "# categorias\n",
    "sexo = {0: 'Masculino', \n",
    "        1: 'Femenino'}\n",
    "\n",
    "color = {0: 'Indígena', \n",
    "         2: 'Blanca', \n",
    "         4: 'Negra', \n",
    "         6: 'Amarilla', \n",
    "         8: 'Marrón', \n",
    "         9: 'NA'}"
   ]
  },
  {
   "cell_type": "code",
   "execution_count": 10,
   "metadata": {
    "id": "eb_bD3YERaT9"
   },
   "outputs": [
    {
     "data": {
      "text/html": [
       "<div>\n",
       "<style scoped>\n",
       "    .dataframe tbody tr th:only-of-type {\n",
       "        vertical-align: middle;\n",
       "    }\n",
       "\n",
       "    .dataframe tbody tr th {\n",
       "        vertical-align: top;\n",
       "    }\n",
       "\n",
       "    .dataframe thead th {\n",
       "        text-align: right;\n",
       "    }\n",
       "</style>\n",
       "<table border=\"1\" class=\"dataframe\">\n",
       "  <thead>\n",
       "    <tr style=\"text-align: right;\">\n",
       "      <th>Color</th>\n",
       "      <th>0</th>\n",
       "      <th>2</th>\n",
       "      <th>4</th>\n",
       "      <th>6</th>\n",
       "      <th>8</th>\n",
       "    </tr>\n",
       "    <tr>\n",
       "      <th>Sexo</th>\n",
       "      <th></th>\n",
       "      <th></th>\n",
       "      <th></th>\n",
       "      <th></th>\n",
       "      <th></th>\n",
       "    </tr>\n",
       "  </thead>\n",
       "  <tbody>\n",
       "    <tr>\n",
       "      <th>0</th>\n",
       "      <td>256</td>\n",
       "      <td>22194</td>\n",
       "      <td>5502</td>\n",
       "      <td>235</td>\n",
       "      <td>25063</td>\n",
       "    </tr>\n",
       "    <tr>\n",
       "      <th>1</th>\n",
       "      <td>101</td>\n",
       "      <td>9621</td>\n",
       "      <td>2889</td>\n",
       "      <td>117</td>\n",
       "      <td>10862</td>\n",
       "    </tr>\n",
       "  </tbody>\n",
       "</table>\n",
       "</div>"
      ],
      "text/plain": [
       "Color    0      2     4    6      8\n",
       "Sexo                               \n",
       "0      256  22194  5502  235  25063\n",
       "1      101   9621  2889  117  10862"
      ]
     },
     "execution_count": 10,
     "metadata": {},
     "output_type": "execute_result"
    }
   ],
   "source": [
    "# combinar conteo de sexo y color de piel mediante una tabla de contingencia\n",
    "# primer parametro: filas, Segundo parametro: columnas\n",
    "freq = pd.crosstab(df.Sexo, df.Color)\n",
    "freq"
   ]
  },
  {
   "cell_type": "markdown",
   "metadata": {},
   "source": [
    "- Hay mayor cantidad de personas de piel marron: 25063 hombres y 10862 mujeres\n",
    "- Hay menor cantidad de personas indigenas: 256 hombres y 101 mujeres"
   ]
  },
  {
   "cell_type": "code",
   "execution_count": 11,
   "metadata": {
    "id": "PkV8im0CSEM_"
   },
   "outputs": [
    {
     "data": {
      "text/html": [
       "<div>\n",
       "<style scoped>\n",
       "    .dataframe tbody tr th:only-of-type {\n",
       "        vertical-align: middle;\n",
       "    }\n",
       "\n",
       "    .dataframe tbody tr th {\n",
       "        vertical-align: top;\n",
       "    }\n",
       "\n",
       "    .dataframe thead th {\n",
       "        text-align: right;\n",
       "    }\n",
       "</style>\n",
       "<table border=\"1\" class=\"dataframe\">\n",
       "  <thead>\n",
       "    <tr style=\"text-align: right;\">\n",
       "      <th>Color</th>\n",
       "      <th>Indígena</th>\n",
       "      <th>Blanca</th>\n",
       "      <th>Negra</th>\n",
       "      <th>Amarilla</th>\n",
       "      <th>Marrón</th>\n",
       "    </tr>\n",
       "    <tr>\n",
       "      <th>Sexo</th>\n",
       "      <th></th>\n",
       "      <th></th>\n",
       "      <th></th>\n",
       "      <th></th>\n",
       "      <th></th>\n",
       "    </tr>\n",
       "  </thead>\n",
       "  <tbody>\n",
       "    <tr>\n",
       "      <th>Masculino</th>\n",
       "      <td>0.333160</td>\n",
       "      <td>28.883394</td>\n",
       "      <td>7.160333</td>\n",
       "      <td>0.305830</td>\n",
       "      <td>32.617126</td>\n",
       "    </tr>\n",
       "    <tr>\n",
       "      <th>Femenino</th>\n",
       "      <td>0.131442</td>\n",
       "      <td>12.520822</td>\n",
       "      <td>3.759761</td>\n",
       "      <td>0.152264</td>\n",
       "      <td>14.135867</td>\n",
       "    </tr>\n",
       "  </tbody>\n",
       "</table>\n",
       "</div>"
      ],
      "text/plain": [
       "Color      Indígena     Blanca     Negra  Amarilla     Marrón\n",
       "Sexo                                                         \n",
       "Masculino  0.333160  28.883394  7.160333  0.305830  32.617126\n",
       "Femenino   0.131442  12.520822  3.759761  0.152264  14.135867"
      ]
     },
     "execution_count": 11,
     "metadata": {},
     "output_type": "execute_result"
    }
   ],
   "source": [
    "# agregar los nombres al dataframe anterior para entenderlo mejor y los valores en porcentaje\n",
    "pct = pd.crosstab(df.Sexo, df.Color, normalize=True)*100\n",
    "pct.rename(index=sexo, inplace=True)\n",
    "pct.rename(columns=color, inplace=True)\n",
    "pct"
   ]
  },
  {
   "cell_type": "markdown",
   "metadata": {
    "id": "d2SkyF7YShkK"
   },
   "source": [
    "**Mostrar la media de la renta tanto para hombre como mujeres segun el color de piel**"
   ]
  },
  {
   "cell_type": "code",
   "execution_count": 12,
   "metadata": {},
   "outputs": [
    {
     "data": {
      "text/html": [
       "<div>\n",
       "<style scoped>\n",
       "    .dataframe tbody tr th:only-of-type {\n",
       "        vertical-align: middle;\n",
       "    }\n",
       "\n",
       "    .dataframe tbody tr th {\n",
       "        vertical-align: top;\n",
       "    }\n",
       "\n",
       "    .dataframe thead th {\n",
       "        text-align: right;\n",
       "    }\n",
       "</style>\n",
       "<table border=\"1\" class=\"dataframe\">\n",
       "  <thead>\n",
       "    <tr style=\"text-align: right;\">\n",
       "      <th>Color</th>\n",
       "      <th>Indígena</th>\n",
       "      <th>Blanca</th>\n",
       "      <th>Negra</th>\n",
       "      <th>Amarilla</th>\n",
       "      <th>Marrón</th>\n",
       "    </tr>\n",
       "    <tr>\n",
       "      <th>Sexo</th>\n",
       "      <th></th>\n",
       "      <th></th>\n",
       "      <th></th>\n",
       "      <th></th>\n",
       "      <th></th>\n",
       "    </tr>\n",
       "  </thead>\n",
       "  <tbody>\n",
       "    <tr>\n",
       "      <th>Masculino</th>\n",
       "      <td>1081.710938</td>\n",
       "      <td>2925.744435</td>\n",
       "      <td>1603.861687</td>\n",
       "      <td>4758.251064</td>\n",
       "      <td>1659.577425</td>\n",
       "    </tr>\n",
       "    <tr>\n",
       "      <th>Femenino</th>\n",
       "      <td>2464.386139</td>\n",
       "      <td>2109.866750</td>\n",
       "      <td>1134.596400</td>\n",
       "      <td>3027.341880</td>\n",
       "      <td>1176.758516</td>\n",
       "    </tr>\n",
       "  </tbody>\n",
       "</table>\n",
       "</div>"
      ],
      "text/plain": [
       "Color         Indígena       Blanca        Negra     Amarilla       Marrón\n",
       "Sexo                                                                      \n",
       "Masculino  1081.710938  2925.744435  1603.861687  4758.251064  1659.577425\n",
       "Femenino   2464.386139  2109.866750  1134.596400  3027.341880  1176.758516"
      ]
     },
     "execution_count": 12,
     "metadata": {},
     "output_type": "execute_result"
    }
   ],
   "source": [
    "pct = pd.crosstab(df.Sexo, df.Color, aggfunc='mean', values=df.Renta)\n",
    "pct.rename(index=sexo, inplace=True)\n",
    "pct.rename(columns=color, inplace=True)\n",
    "pct"
   ]
  },
  {
   "cell_type": "markdown",
   "metadata": {},
   "source": [
    "- Los hombres y mujeres asiaticas (piel amarilla) son los que ganan mas.\\\n",
    "- Los hombres que ganan menos son los indigenas.\n",
    "- Las mujeres que ganan menos son las afrodescendientes."
   ]
  },
  {
   "cell_type": "markdown",
   "metadata": {},
   "source": [
    "**Que poblacion es mas alta?**"
   ]
  },
  {
   "cell_type": "code",
   "execution_count": 13,
   "metadata": {},
   "outputs": [
    {
     "data": {
      "text/html": [
       "<div>\n",
       "<style scoped>\n",
       "    .dataframe tbody tr th:only-of-type {\n",
       "        vertical-align: middle;\n",
       "    }\n",
       "\n",
       "    .dataframe tbody tr th {\n",
       "        vertical-align: top;\n",
       "    }\n",
       "\n",
       "    .dataframe thead th {\n",
       "        text-align: right;\n",
       "    }\n",
       "</style>\n",
       "<table border=\"1\" class=\"dataframe\">\n",
       "  <thead>\n",
       "    <tr style=\"text-align: right;\">\n",
       "      <th>Color</th>\n",
       "      <th>Indígena</th>\n",
       "      <th>Blanca</th>\n",
       "      <th>Negra</th>\n",
       "      <th>Amarilla</th>\n",
       "      <th>Marrón</th>\n",
       "    </tr>\n",
       "    <tr>\n",
       "      <th>Sexo</th>\n",
       "      <th></th>\n",
       "      <th></th>\n",
       "      <th></th>\n",
       "      <th></th>\n",
       "      <th></th>\n",
       "    </tr>\n",
       "  </thead>\n",
       "  <tbody>\n",
       "    <tr>\n",
       "      <th>Masculino</th>\n",
       "      <td>1.701357</td>\n",
       "      <td>1.699400</td>\n",
       "      <td>1.700704</td>\n",
       "      <td>1.695750</td>\n",
       "      <td>1.699219</td>\n",
       "    </tr>\n",
       "    <tr>\n",
       "      <th>Femenino</th>\n",
       "      <td>1.698907</td>\n",
       "      <td>1.700432</td>\n",
       "      <td>1.698065</td>\n",
       "      <td>1.702507</td>\n",
       "      <td>1.699398</td>\n",
       "    </tr>\n",
       "  </tbody>\n",
       "</table>\n",
       "</div>"
      ],
      "text/plain": [
       "Color      Indígena    Blanca     Negra  Amarilla    Marrón\n",
       "Sexo                                                       \n",
       "Masculino  1.701357  1.699400  1.700704  1.695750  1.699219\n",
       "Femenino   1.698907  1.700432  1.698065  1.702507  1.699398"
      ]
     },
     "execution_count": 13,
     "metadata": {},
     "output_type": "execute_result"
    }
   ],
   "source": [
    "pct = pd.crosstab(df.Sexo, df.Color, aggfunc='mean', values=df.Altura)\n",
    "pct.rename(index=sexo, inplace=True)\n",
    "pct.rename(columns=color, inplace=True)\n",
    "pct"
   ]
  },
  {
   "cell_type": "markdown",
   "metadata": {},
   "source": [
    "- Los hombres indigenas tienden a ser los mas altos\n",
    "- En cuanto a las mujeres, las asiaticas son las mas altas"
   ]
  },
  {
   "cell_type": "markdown",
   "metadata": {
    "id": "--07xGlMTBNt"
   },
   "source": [
    "### Distribuciones de frecuencia para variables cuantitativas"
   ]
  },
  {
   "cell_type": "markdown",
   "metadata": {
    "id": "UN5zVyCsT00l"
   },
   "source": [
    "#### Paso 1 - Definiendo el número de clases con la **Regla de Sturges**\n",
    "Sugiere que el numero optimo de clases k en un histograma puede calcularse mediante la siguiente formula:"
   ]
  },
  {
   "cell_type": "markdown",
   "metadata": {
    "id": "n92YRI1mUEy9"
   },
   "source": [
    "$$k = 1 + \\frac {10}{3}\\log_{10}n$$"
   ]
  },
  {
   "cell_type": "markdown",
   "metadata": {
    "id": "SNzpRudSTGEY"
   },
   "source": [
    "Un numero adecuado de clases ayuda a representar de manera efectiva la distribucion de los datos sin sobrecargar el histograma con demasiada informacion. Puede no ser optima cuando se trabaja con conjuntos de datos pequenos o distribuciones no normales"
   ]
  },
  {
   "cell_type": "code",
   "execution_count": 14,
   "metadata": {},
   "outputs": [
    {
     "data": {
      "text/plain": [
       "17"
      ]
     },
     "execution_count": 14,
     "metadata": {},
     "output_type": "execute_result"
    }
   ],
   "source": [
    "# importar libreria\n",
    "import numpy as np\n",
    "\n",
    "# calcular cantidad de registros del dataframe\n",
    "n = df.shape[0]\n",
    "\n",
    "# calcular k\n",
    "k = 1 + (10/3)*np.log10(n)\n",
    "\n",
    "# redondear valor de k y convertir en entero\n",
    "k = int(k.round(0))\n",
    "\n",
    "k"
   ]
  },
  {
   "cell_type": "markdown",
   "metadata": {
    "id": "rIJy-NJyUfKv"
   },
   "source": [
    "#### Paso 2 - Crear frecuencias"
   ]
  },
  {
   "cell_type": "code",
   "execution_count": 17,
   "metadata": {
    "id": "BVhAb2EEUwRB"
   },
   "outputs": [
    {
     "data": {
      "text/plain": [
       "(-200.001, 11764.706]       75594\n",
       "(11764.706, 23529.412]       1022\n",
       "(23529.412, 35294.118]        169\n",
       "(35294.118, 47058.824]         19\n",
       "(47058.824, 58823.529]         16\n",
       "(58823.529, 70588.235]          5\n",
       "(70588.235, 82352.941]          4\n",
       "(82352.941, 94117.647]          1\n",
       "(94117.647, 105882.353]         6\n",
       "(105882.353, 117647.059]        0\n",
       "(117647.059, 129411.765]        1\n",
       "(129411.765, 141176.471]        0\n",
       "(141176.471, 152941.176]        0\n",
       "(152941.176, 164705.882]        0\n",
       "(164705.882, 176470.588]        0\n",
       "(176470.588, 188235.294]        0\n",
       "(188235.294, 200000.0]          3\n",
       "Name: Renta, dtype: int64"
      ]
     },
     "execution_count": 17,
     "metadata": {},
     "output_type": "execute_result"
    }
   ],
   "source": [
    "# distribucion de frecuencia de Renta\n",
    "freq = pd.value_counts(\n",
    "    pd.cut(\n",
    "        x=df.Renta,\n",
    "        bins=k,  # cantidad de categorias\n",
    "        include_lowest=True  # incluir valores negativos, si los hay\n",
    "    ),\n",
    "    sort = False  # no ordenar los valores\n",
    ")\n",
    "\n",
    "freq"
   ]
  },
  {
   "cell_type": "code",
   "execution_count": 18,
   "metadata": {
    "id": "53vNUqwxU6vl"
   },
   "outputs": [
    {
     "data": {
      "text/plain": [
       "(-200.001, 11764.706]       98.378449\n",
       "(11764.706, 23529.412]       1.330036\n",
       "(23529.412, 35294.118]       0.219938\n",
       "(35294.118, 47058.824]       0.024727\n",
       "(47058.824, 58823.529]       0.020822\n",
       "(58823.529, 70588.235]       0.006507\n",
       "(70588.235, 82352.941]       0.005206\n",
       "(82352.941, 94117.647]       0.001301\n",
       "(94117.647, 105882.353]      0.007808\n",
       "(105882.353, 117647.059]     0.000000\n",
       "(117647.059, 129411.765]     0.001301\n",
       "(129411.765, 141176.471]     0.000000\n",
       "(141176.471, 152941.176]     0.000000\n",
       "(152941.176, 164705.882]     0.000000\n",
       "(164705.882, 176470.588]     0.000000\n",
       "(176470.588, 188235.294]     0.000000\n",
       "(188235.294, 200000.0]       0.003904\n",
       "Name: Renta, dtype: float64"
      ]
     },
     "execution_count": 18,
     "metadata": {},
     "output_type": "execute_result"
    }
   ],
   "source": [
    "# mostrar recuento en porcentaje\n",
    "pct = pd.value_counts(\n",
    "    pd.cut(\n",
    "        x=df.Renta,\n",
    "        bins=k,  # cantidad de categorias\n",
    "        include_lowest=True  # incluir valores negativos, si los hay\n",
    "    ),\n",
    "    sort = False,  # no ordenar los valores\n",
    "    normalize=True\n",
    ")*100\n",
    "\n",
    "pct"
   ]
  },
  {
   "cell_type": "markdown",
   "metadata": {},
   "source": [
    "- El 98% de las personas ganan entre -200 y 11764.\n",
    "- 1.3% de las personas ganan entre 11764 y 23529.\n",
    "- El resto de las personas ganan dinero mayor a 23529."
   ]
  },
  {
   "cell_type": "code",
   "execution_count": 19,
   "metadata": {
    "id": "AzF4e-lhVKTb"
   },
   "outputs": [
    {
     "data": {
      "text/html": [
       "<div>\n",
       "<style scoped>\n",
       "    .dataframe tbody tr th:only-of-type {\n",
       "        vertical-align: middle;\n",
       "    }\n",
       "\n",
       "    .dataframe tbody tr th {\n",
       "        vertical-align: top;\n",
       "    }\n",
       "\n",
       "    .dataframe thead th {\n",
       "        text-align: right;\n",
       "    }\n",
       "</style>\n",
       "<table border=\"1\" class=\"dataframe\">\n",
       "  <thead>\n",
       "    <tr style=\"text-align: right;\">\n",
       "      <th></th>\n",
       "      <th>Frecuencia</th>\n",
       "      <th>Porcentaje (%)</th>\n",
       "    </tr>\n",
       "  </thead>\n",
       "  <tbody>\n",
       "    <tr>\n",
       "      <th>(-200.001, 11764.706]</th>\n",
       "      <td>75594</td>\n",
       "      <td>98.378449</td>\n",
       "    </tr>\n",
       "    <tr>\n",
       "      <th>(11764.706, 23529.412]</th>\n",
       "      <td>1022</td>\n",
       "      <td>1.330036</td>\n",
       "    </tr>\n",
       "    <tr>\n",
       "      <th>(23529.412, 35294.118]</th>\n",
       "      <td>169</td>\n",
       "      <td>0.219938</td>\n",
       "    </tr>\n",
       "    <tr>\n",
       "      <th>(35294.118, 47058.824]</th>\n",
       "      <td>19</td>\n",
       "      <td>0.024727</td>\n",
       "    </tr>\n",
       "    <tr>\n",
       "      <th>(47058.824, 58823.529]</th>\n",
       "      <td>16</td>\n",
       "      <td>0.020822</td>\n",
       "    </tr>\n",
       "    <tr>\n",
       "      <th>(58823.529, 70588.235]</th>\n",
       "      <td>5</td>\n",
       "      <td>0.006507</td>\n",
       "    </tr>\n",
       "    <tr>\n",
       "      <th>(70588.235, 82352.941]</th>\n",
       "      <td>4</td>\n",
       "      <td>0.005206</td>\n",
       "    </tr>\n",
       "    <tr>\n",
       "      <th>(82352.941, 94117.647]</th>\n",
       "      <td>1</td>\n",
       "      <td>0.001301</td>\n",
       "    </tr>\n",
       "    <tr>\n",
       "      <th>(94117.647, 105882.353]</th>\n",
       "      <td>6</td>\n",
       "      <td>0.007808</td>\n",
       "    </tr>\n",
       "    <tr>\n",
       "      <th>(105882.353, 117647.059]</th>\n",
       "      <td>0</td>\n",
       "      <td>0.000000</td>\n",
       "    </tr>\n",
       "    <tr>\n",
       "      <th>(117647.059, 129411.765]</th>\n",
       "      <td>1</td>\n",
       "      <td>0.001301</td>\n",
       "    </tr>\n",
       "    <tr>\n",
       "      <th>(129411.765, 141176.471]</th>\n",
       "      <td>0</td>\n",
       "      <td>0.000000</td>\n",
       "    </tr>\n",
       "    <tr>\n",
       "      <th>(141176.471, 152941.176]</th>\n",
       "      <td>0</td>\n",
       "      <td>0.000000</td>\n",
       "    </tr>\n",
       "    <tr>\n",
       "      <th>(152941.176, 164705.882]</th>\n",
       "      <td>0</td>\n",
       "      <td>0.000000</td>\n",
       "    </tr>\n",
       "    <tr>\n",
       "      <th>(164705.882, 176470.588]</th>\n",
       "      <td>0</td>\n",
       "      <td>0.000000</td>\n",
       "    </tr>\n",
       "    <tr>\n",
       "      <th>(176470.588, 188235.294]</th>\n",
       "      <td>0</td>\n",
       "      <td>0.000000</td>\n",
       "    </tr>\n",
       "    <tr>\n",
       "      <th>(188235.294, 200000.0]</th>\n",
       "      <td>3</td>\n",
       "      <td>0.003904</td>\n",
       "    </tr>\n",
       "  </tbody>\n",
       "</table>\n",
       "</div>"
      ],
      "text/plain": [
       "                          Frecuencia  Porcentaje (%)\n",
       "(-200.001, 11764.706]          75594       98.378449\n",
       "(11764.706, 23529.412]          1022        1.330036\n",
       "(23529.412, 35294.118]           169        0.219938\n",
       "(35294.118, 47058.824]            19        0.024727\n",
       "(47058.824, 58823.529]            16        0.020822\n",
       "(58823.529, 70588.235]             5        0.006507\n",
       "(70588.235, 82352.941]             4        0.005206\n",
       "(82352.941, 94117.647]             1        0.001301\n",
       "(94117.647, 105882.353]            6        0.007808\n",
       "(105882.353, 117647.059]           0        0.000000\n",
       "(117647.059, 129411.765]           1        0.001301\n",
       "(129411.765, 141176.471]           0        0.000000\n",
       "(141176.471, 152941.176]           0        0.000000\n",
       "(152941.176, 164705.882]           0        0.000000\n",
       "(164705.882, 176470.588]           0        0.000000\n",
       "(176470.588, 188235.294]           0        0.000000\n",
       "(188235.294, 200000.0]             3        0.003904"
      ]
     },
     "execution_count": 19,
     "metadata": {},
     "output_type": "execute_result"
    }
   ],
   "source": [
    "# mostrar resultados anteriores en un dataframe\n",
    "dist_freq_Renta = pd.DataFrame({'Frecuencia': freq, 'Porcentaje (%)': pct})\n",
    "dist_freq_Renta"
   ]
  },
  {
   "cell_type": "markdown",
   "metadata": {
    "id": "-yMWyA8NV_ab"
   },
   "source": [
    "## <font color=green>1.2 Histogramas</font>\n",
    "***\n",
    "El <b>HISTOGRAMA</b> es la representación gráfica de una distribución de frecuencias. Es un gráfico formado por un conjunto de rectángulos colocados uno al lado del otro, donde el área de cada rectángulo es proporcional a la frecuencia de la clase que representa."
   ]
  },
  {
   "cell_type": "code",
   "execution_count": null,
   "metadata": {
    "id": "Mv8Pfe5vWFcX"
   },
   "outputs": [],
   "source": []
  },
  {
   "cell_type": "code",
   "execution_count": null,
   "metadata": {
    "id": "nO63oYoKWndt"
   },
   "outputs": [],
   "source": []
  },
  {
   "cell_type": "markdown",
   "metadata": {
    "id": "kcHJFW-YjQMP"
   },
   "source": [
    "## <font color=green>1.3 Media aritmética</font>\n",
    "***\n",
    "\n",
    "Se representa por $\\mu$ cuando se refiere a la población y por $\\bar{X}$ cuando se refiere a la muestra\n",
    "\n",
    "# $$\\mu = \\frac 1n\\sum_{i=1}^{n}X_i$$\n",
    "\n",
    "donde\n",
    "\n",
    "$n$ = número de observaciones (registros)\n",
    "\n",
    "$X_i$ = valor de la i-ésima observación (registro)"
   ]
  },
  {
   "cell_type": "code",
   "execution_count": null,
   "metadata": {
    "id": "QW4JPcBmX7IA"
   },
   "outputs": [],
   "source": []
  },
  {
   "cell_type": "code",
   "execution_count": null,
   "metadata": {
    "id": "LuT8WNy5X7IB"
   },
   "outputs": [],
   "source": []
  },
  {
   "cell_type": "code",
   "execution_count": null,
   "metadata": {
    "id": "BRMZcmMEjQMQ"
   },
   "outputs": [],
   "source": []
  },
  {
   "cell_type": "code",
   "execution_count": null,
   "metadata": {
    "id": "CGgJbsK0HBQc"
   },
   "outputs": [],
   "source": []
  },
  {
   "cell_type": "markdown",
   "metadata": {
    "id": "9geu3UcKjQMS"
   },
   "source": [
    "## <font color=green>1.4 Mediana</font>\n",
    "***\n",
    "\n",
    "Para encontrar la mediana de un conjunto de datos, realizaremos lo siguiente:\n",
    "1. Ordenamos el conjunto de datos;\n",
    "2. Identificamos el número de observaciones (registros) en el conjunto de datos ($n$);\n",
    "3. Identificamos el elemento mediano.\n",
    "\n",
    "> Cuando $n$ es impar:\n",
    "# $$Elemento_{Md} = \\frac{n+1}2$$\n",
    "\n",
    "> Cuando $n$ es par:\n",
    "# $$Elemento_{Md} = \\frac{n}2$$\n",
    "4. Obtenemos la mediana:\n",
    "\n",
    "> Cuando $n$ es impar:\n",
    "\n",
    "\n",
    "# $$Md = X_{Elemento_{Md}}$$\n",
    "\n",
    "> Cuando $n$ es par:\n",
    "\n",
    "\n",
    "# $$Md = \\frac{X_{Elemento_{Md}} + X_{Elemento_{Md}+1}}2$$\n",
    "***"
   ]
  },
  {
   "cell_type": "markdown",
   "metadata": {
    "id": "e0IuYdJFjQMT"
   },
   "source": [
    "### Ejemplo 1 - n impar\n",
    "\n",
    "<img src='https://github.com/ElProfeAlejo/estadisticas_python/raw/main/img_1_4.png' width='40%' style=\"float:left\">"
   ]
  },
  {
   "cell_type": "code",
   "execution_count": null,
   "metadata": {
    "id": "3dXjdRFlX7IH"
   },
   "outputs": [],
   "source": []
  },
  {
   "cell_type": "code",
   "execution_count": null,
   "metadata": {
    "id": "cU91DJ-yjQMV"
   },
   "outputs": [],
   "source": []
  },
  {
   "cell_type": "code",
   "execution_count": null,
   "metadata": {
    "id": "z9bOnYKf1NOd"
   },
   "outputs": [],
   "source": []
  },
  {
   "cell_type": "code",
   "execution_count": null,
   "metadata": {
    "id": "u3nfPEFjjQMW"
   },
   "outputs": [],
   "source": []
  },
  {
   "cell_type": "code",
   "execution_count": null,
   "metadata": {
    "id": "trC12MHxjQMY"
   },
   "outputs": [],
   "source": []
  },
  {
   "cell_type": "markdown",
   "metadata": {
    "id": "hQHyjfLkjQMe"
   },
   "source": [
    "### Ejemplo 2 - n par\n",
    "\n",
    "<img src='https://github.com/ElProfeAlejo/estadisticas_python/raw/main/img_1_4_2.png' width='50%' style=\"float:left\">"
   ]
  },
  {
   "cell_type": "code",
   "execution_count": null,
   "metadata": {
    "id": "Jkx1WZenjQMe"
   },
   "outputs": [],
   "source": []
  },
  {
   "cell_type": "code",
   "execution_count": null,
   "metadata": {
    "id": "D1LUpvZkYsHq"
   },
   "outputs": [],
   "source": []
  },
  {
   "cell_type": "code",
   "execution_count": null,
   "metadata": {
    "id": "PuiScCf0-vh9"
   },
   "outputs": [],
   "source": []
  },
  {
   "cell_type": "code",
   "execution_count": null,
   "metadata": {
    "id": "6wB1UztBjQMf"
   },
   "outputs": [],
   "source": []
  },
  {
   "cell_type": "code",
   "execution_count": null,
   "metadata": {
    "id": "tEBVXl7CjQMh"
   },
   "outputs": [],
   "source": []
  },
  {
   "cell_type": "markdown",
   "metadata": {
    "id": "nK27TxrkjQMl"
   },
   "source": [
    "### Obteniendo la mediana en nuestro dataset"
   ]
  },
  {
   "cell_type": "code",
   "execution_count": null,
   "metadata": {
    "id": "dJznpnjUjQMl"
   },
   "outputs": [],
   "source": []
  },
  {
   "cell_type": "code",
   "execution_count": null,
   "metadata": {
    "id": "W4a5PVYdjQMm"
   },
   "outputs": [],
   "source": []
  },
  {
   "cell_type": "markdown",
   "metadata": {
    "id": "CmCu6BXQjQMo"
   },
   "source": [
    "## <font color=green>1.5 Moda</font>\n",
    "***\n",
    "\n",
    "La moda se puede definir como el valor más frecuente en un conjunto de datos. La moda se usa a menudo para datos cualitativos."
   ]
  },
  {
   "cell_type": "code",
   "execution_count": null,
   "metadata": {
    "id": "BHibMzw8X7Id"
   },
   "outputs": [],
   "source": []
  },
  {
   "cell_type": "code",
   "execution_count": null,
   "metadata": {
    "id": "xICDpQguX7Ik"
   },
   "outputs": [],
   "source": []
  },
  {
   "cell_type": "markdown",
   "metadata": {
    "id": "YwhBwz-JjQMr"
   },
   "source": [
    "### Obteniendo la moda en nuestro dataset"
   ]
  },
  {
   "cell_type": "code",
   "execution_count": null,
   "metadata": {
    "id": "mC8vvYk-jQMr"
   },
   "outputs": [],
   "source": []
  },
  {
   "cell_type": "code",
   "execution_count": null,
   "metadata": {
    "id": "Sdosy_vSX7Iw"
   },
   "outputs": [],
   "source": []
  },
  {
   "cell_type": "markdown",
   "metadata": {
    "id": "f4XrApNxjQNE"
   },
   "source": [
    "## <font color=green>1.6 Cuartiles, deciles y percentiles</font>\n",
    "***\n",
    "\n",
    "Hay una serie de medidas de posición similares en diseño a la mediana, aunque no son medidas de tendencia central. Como es sabido, la mediana divide la distribución en dos partes iguales en función del número de elementos de cada parte. Los cuartiles, por su parte, permiten dividir la distribución en cuatro partes iguales en función del número de elementos en cada una; deciles en diez partes y percentiles en cien partes iguales."
   ]
  },
  {
   "cell_type": "code",
   "execution_count": null,
   "metadata": {
    "id": "VmbdUO-ujQNE"
   },
   "outputs": [],
   "source": []
  },
  {
   "cell_type": "code",
   "execution_count": null,
   "metadata": {
    "id": "EpRKboV5jQNG"
   },
   "outputs": [],
   "source": []
  },
  {
   "cell_type": "code",
   "execution_count": null,
   "metadata": {
    "id": "gyiJDAMbjQNF"
   },
   "outputs": [],
   "source": []
  },
  {
   "cell_type": "markdown",
   "metadata": {
    "id": "6gIeZO_CjQNJ"
   },
   "source": [
    "## <font color=green>1.7 Box-plot</font>\n",
    "***\n",
    "\n",
    "El Box-plot da una idea de posición, dispersión, asimetría, colas y valores atípicos (outliers). La posición central viene dada por la mediana y la dispersión por $IIQ$. Las posiciones relativas de $Q1$, $Mediana$ y $Q3$ dan una idea de la simetría de la distribución. Las longitudes de cola están dadas por las líneas que van desde el rectángulo hasta los valores remotos y los valores atípicos."
   ]
  },
  {
   "cell_type": "markdown",
   "metadata": {
    "id": "VeiTE_gvjQNK"
   },
   "source": [
    "<img src='https://github.com/ElProfeAlejo/estadisticas_python/raw/main/img_1_7.png' width='65%'>"
   ]
  },
  {
   "cell_type": "code",
   "execution_count": null,
   "metadata": {
    "id": "pBY2EWkzjQNK"
   },
   "outputs": [],
   "source": []
  },
  {
   "cell_type": "code",
   "execution_count": null,
   "metadata": {
    "id": "AEhX7-ggsuiY"
   },
   "outputs": [],
   "source": []
  },
  {
   "cell_type": "code",
   "execution_count": null,
   "metadata": {
    "id": "2ZPrRov1suSF"
   },
   "outputs": [],
   "source": []
  },
  {
   "cell_type": "markdown",
   "metadata": {
    "id": "D6xVxAQ7jQNO"
   },
   "source": [
    "## <font color=green>1.8 Desviación Media Absoluta</font>\n",
    "***\n",
    "\n",
    "\n",
    "# $$DM = \\frac 1n\\sum_{i=1}^{n}|X_i-\\bar{X}|$$\n"
   ]
  },
  {
   "cell_type": "code",
   "execution_count": null,
   "metadata": {
    "id": "0sL31blV7nz3"
   },
   "outputs": [],
   "source": []
  },
  {
   "cell_type": "code",
   "execution_count": null,
   "metadata": {
    "id": "f3pAri4G7nc4"
   },
   "outputs": [],
   "source": []
  },
  {
   "cell_type": "code",
   "execution_count": null,
   "metadata": {
    "id": "8_Q2tOTmjQNO"
   },
   "outputs": [],
   "source": []
  },
  {
   "cell_type": "code",
   "execution_count": null,
   "metadata": {
    "id": "RWo0AhBEjQNP"
   },
   "outputs": [],
   "source": []
  },
  {
   "cell_type": "code",
   "execution_count": null,
   "metadata": {
    "id": "OiWDTw0ljQNQ"
   },
   "outputs": [],
   "source": []
  },
  {
   "cell_type": "markdown",
   "metadata": {
    "id": "jSKfnKwEjQNW"
   },
   "source": [
    "## <font color=green>1.9 Varianza</font>\n",
    "***"
   ]
  },
  {
   "cell_type": "markdown",
   "metadata": {
    "id": "tHD3yNqzjQNW"
   },
   "source": [
    "### Varianza\n",
    "\n",
    "La varianza se construye a partir de las diferencias entre cada observación y la media de los datos, es decir, la desviación alrededor de la media. Al calcular la varianza, las desviaciones alrededor de la media se elevan al cuadrado."
   ]
  },
  {
   "cell_type": "markdown",
   "metadata": {
    "id": "jV5mQT_djQNX"
   },
   "source": [
    "### Varianza muestral\n",
    "\n",
    "# $$S^2 = \\frac 1{n-1}\\sum_{i=1}^{n}(X_i-\\bar{X})^2$$"
   ]
  },
  {
   "cell_type": "code",
   "execution_count": null,
   "metadata": {
    "id": "4tlbCQeujQNZ"
   },
   "outputs": [],
   "source": []
  },
  {
   "cell_type": "code",
   "execution_count": null,
   "metadata": {
    "id": "oCcAfoIOjQNa"
   },
   "outputs": [],
   "source": []
  },
  {
   "cell_type": "code",
   "execution_count": null,
   "metadata": {
    "id": "EyrfPHLtjQNb"
   },
   "outputs": [],
   "source": []
  },
  {
   "cell_type": "markdown",
   "metadata": {
    "id": "wQl_CsytjQNg"
   },
   "source": [
    "## <font color=green>1.10 Desviación estandar</font>\n",
    "***\n",
    "\n",
    "Una de las limitaciones de la varianza es que proporciona medidas en cuadrados de las unidades originales; la varianza de las medidas de longitud, por ejemplo, está en unidades de área. Por tanto, el hecho de que las unidades sean diferentes dificulta la comparación de la dispersión con las variables que la definen. Una forma de eliminar esta dificultad es considerar su raíz cuadrada."
   ]
  },
  {
   "cell_type": "markdown",
   "metadata": {
    "id": "D3J4MvMpjQNg"
   },
   "source": [
    "### Desviación estandar muestral\n",
    "\n",
    "# $$S = \\sqrt{\\frac 1{n-1}\\sum_{i=1}^{n}(X_i-\\bar{X})^2} \\Longrightarrow S = \\sqrt{S^2}$$"
   ]
  },
  {
   "cell_type": "code",
   "execution_count": null,
   "metadata": {
    "id": "2di6iLFaSPda"
   },
   "outputs": [],
   "source": []
  },
  {
   "cell_type": "code",
   "execution_count": null,
   "metadata": {
    "id": "BMTx9yKHSPON"
   },
   "outputs": [],
   "source": []
  },
  {
   "cell_type": "code",
   "execution_count": null,
   "metadata": {
    "id": "_PeQtqbdjQNh"
   },
   "outputs": [],
   "source": []
  },
  {
   "cell_type": "code",
   "execution_count": null,
   "metadata": {
    "id": "5LYOKy25jQNi"
   },
   "outputs": [],
   "source": []
  },
  {
   "cell_type": "markdown",
   "metadata": {
    "id": "R_q4xMNzmvYp"
   },
   "source": [
    "# <font color=green>2. ESTADÍSTICA INFERENCIAL</font>\n",
    "***"
   ]
  },
  {
   "cell_type": "markdown",
   "metadata": {
    "id": "h1Hb2mrvm05f"
   },
   "source": [
    "Se dedica a estudiar cómo sacar conclusiones generales para toda la población a partir del estudio de una muestra, y el grado de fiabilidad o significación de los resultados obtenidos. Sus principales herramientas son el muestreo, la estimación de parámetros y el contraste de hipótesis."
   ]
  },
  {
   "cell_type": "markdown",
   "metadata": {
    "id": "SrOijSElwFVK"
   },
   "source": [
    "## <font color=green>2.1 Distribución Binomial</font>\n",
    "***"
   ]
  },
  {
   "cell_type": "markdown",
   "metadata": {
    "id": "-Agx8ph4w4wP"
   },
   "source": [
    "Un evento **binomial** se caracteriza por la posibilidad de ocurrencia de solo dos categorías. Estas categorías juntas representan todo el espacio muestral, y además son mutuamente excluyentes, es decir, la ocurrencia de una implica la no ocurrencia de la otra.\n",
    "\n",
    "En el análisis estadístico, el uso más común de la distribución binomial es para resolver problemas de situaciones de **éxito** y **fracaso**."
   ]
  },
  {
   "cell_type": "markdown",
   "metadata": {
    "id": "wxIkLw9kxLKt"
   },
   "source": [
    "# $$P(k)=\\binom{n}{k} p^k q^{n-k}$$\n",
    "\n",
    "Donde:\n",
    "\n",
    "$p$ = probabilidad de éxito\n",
    "\n",
    "$q = (1 - p)$ = probabilidad de fracaso\n",
    "\n",
    "$n$ = número de eventos estudiados\n",
    "\n",
    "$k$ = número de eventos deseados que tengan éxito"
   ]
  },
  {
   "cell_type": "markdown",
   "metadata": {
    "id": "R8y5UhW-yV1H"
   },
   "source": [
    "### Combinaciones\n",
    "\n",
    "Es importante resaltar que la expresión entre paréntesis no es una expresión matricial, sino que es el resultado de una combinación sin repetición. Este se obtiene con la siguiente fórmula:\n",
    "\n",
    "# $$C_{k}^{n} = \\binom{n}{k} = \\frac{n!}{k!(n - k)!}$$\n",
    "\n",
    "Donde\n",
    "\n",
    "## $$n! = n\\times(n-1)\\times(n-2)\\times...\\times(2)\\times(1)$$\n",
    "## $$k! = k\\times(k-1)\\times(k-2)\\times...\\times(2)\\times(1)$$\n",
    "\n",
    "Por definición:\n",
    "\n",
    "## $$0! = 1$$"
   ]
  },
  {
   "cell_type": "markdown",
   "metadata": {
    "id": "1Z6fkNKuzE6r"
   },
   "source": [
    "### Importando bibliotecas\n",
    "https://docs.scipy.org/doc/scipy/reference/generated/scipy.special.comb.html"
   ]
  },
  {
   "cell_type": "code",
   "execution_count": null,
   "metadata": {
    "id": "kFtz2PxOnIY5"
   },
   "outputs": [],
   "source": []
  },
  {
   "cell_type": "markdown",
   "metadata": {
    "id": "7i3_o-77zT17"
   },
   "source": [
    "## <font color='blue'>Ejemplo: Mega Sorteo</font>"
   ]
  },
  {
   "cell_type": "markdown",
   "metadata": {
    "id": "xzFXgJP9zWo0"
   },
   "source": [
    "En un billete de lotería Mega Sorteo tenemos un total de **60 números** a elegir donde la apuesta mínima es de **seis números**. Tú que tienes curiosidad decides calcular la probabilidad de ganar el Mega Sorteo con solo **un juego**. Para ello necesitamos saber cuántas **combinaciones de seis números se pueden formar con los 60 números disponibles**.\n",
    "\n",
    "### $$C_{6}^{60} = \\binom{60}{6} = \\frac{60!}{6!(60 - 6)!}$$"
   ]
  },
  {
   "cell_type": "code",
   "execution_count": null,
   "metadata": {
    "id": "YqW9e_iRz4ac"
   },
   "outputs": [],
   "source": []
  },
  {
   "cell_type": "code",
   "execution_count": null,
   "metadata": {
    "id": "rWCrOpPNz4pP"
   },
   "outputs": [],
   "source": []
  },
  {
   "cell_type": "markdown",
   "metadata": {
    "id": "B2NvF1oK1r-8"
   },
   "source": [
    "## <font color='blue'>Ejemplo: Concurso para Data Scientist</font>"
   ]
  },
  {
   "cell_type": "markdown",
   "metadata": {
    "id": "XgpK-xwS1wWY"
   },
   "source": [
    "En un concurso para cubrir una vacante de científico de datos tenemos un total de **10 preguntas de opción múltiple** con **3 alternativas posibles** en cada pregunta. **Cada pregunta tiene el mismo valor.** Supongamos que un candidato decide aventurarse sin haber estudiado nada en absoluto. Decide tomar la prueba con los ojos vendados y adivinar todas las respuestas. Suponiendo que la prueba **vale 10 puntos y el puntaje de corte es 5**, obtenga la probabilidad de que este candidato **responda correctamente 5 preguntas** y también la probabilidad de que este candidato **pase a la siguiente etapa del proceso de selección**."
   ]
  },
  {
   "cell_type": "markdown",
   "metadata": {
    "id": "LJ2Eki7Q2gN9"
   },
   "source": [
    "### ¿Cual es la cantidad de preguntas o ensayos ($n$)?"
   ]
  },
  {
   "cell_type": "code",
   "execution_count": null,
   "metadata": {
    "id": "QIQ2UPj61vS7"
   },
   "outputs": [],
   "source": []
  },
  {
   "cell_type": "markdown",
   "metadata": {
    "id": "y3nrQgGD2zxD"
   },
   "source": [
    "### ¿Cuál es la probabilidad de éxito ($p$)?"
   ]
  },
  {
   "cell_type": "code",
   "execution_count": null,
   "metadata": {
    "id": "iK3UkPjW20dF"
   },
   "outputs": [],
   "source": []
  },
  {
   "cell_type": "markdown",
   "metadata": {
    "id": "3Cs3UmNf3AJw"
   },
   "source": [
    "### ¿Cuál es la probabilidad de fracaso ($q$)?"
   ]
  },
  {
   "cell_type": "code",
   "execution_count": null,
   "metadata": {
    "id": "LVTV79KF3BlK"
   },
   "outputs": [],
   "source": []
  },
  {
   "cell_type": "markdown",
   "metadata": {
    "id": "iOJPN-9V3KhT"
   },
   "source": [
    "### ¿Cuál es el número de eventos que se desea tener éxito ($k$)?"
   ]
  },
  {
   "cell_type": "code",
   "execution_count": null,
   "metadata": {
    "id": "ETVLRFDw3TKs"
   },
   "outputs": [],
   "source": []
  },
  {
   "cell_type": "markdown",
   "metadata": {
    "id": "L3anC1tm3Yob"
   },
   "source": [
    "### Solución 1"
   ]
  },
  {
   "cell_type": "code",
   "execution_count": null,
   "metadata": {
    "id": "lOCQbM8D3ZOO"
   },
   "outputs": [],
   "source": []
  },
  {
   "cell_type": "markdown",
   "metadata": {
    "id": "yPV1zeXd4C7y"
   },
   "source": [
    "### Solución 2"
   ]
  },
  {
   "cell_type": "markdown",
   "metadata": {
    "id": "fZdXMSlD4JmN"
   },
   "source": [
    "### Importando bibliotecas\n",
    "https://docs.scipy.org/doc/scipy/reference/generated/scipy.stats.binom.html"
   ]
  },
  {
   "cell_type": "code",
   "execution_count": null,
   "metadata": {
    "id": "YINCPfc64D0j"
   },
   "outputs": [],
   "source": []
  },
  {
   "cell_type": "code",
   "execution_count": null,
   "metadata": {
    "id": "Tz_CgAt44PLZ"
   },
   "outputs": [],
   "source": []
  },
  {
   "cell_type": "markdown",
   "metadata": {
    "id": "YKAKBgmS4WWh"
   },
   "source": [
    "### Obtener la probabilidad de que el candidato pase la prueba"
   ]
  },
  {
   "cell_type": "markdown",
   "metadata": {
    "id": "pNWwXz9T4s6S"
   },
   "source": [
    "### $$P(Aprobado \\geq 5) = P(5) + P(6) + P(7) + P(8) + P(9) + P10)$$"
   ]
  },
  {
   "cell_type": "code",
   "execution_count": null,
   "metadata": {
    "id": "Ti8mMS9I4o4O"
   },
   "outputs": [],
   "source": []
  },
  {
   "cell_type": "code",
   "execution_count": null,
   "metadata": {
    "id": "2xbBz6EX427e"
   },
   "outputs": [],
   "source": []
  },
  {
   "cell_type": "markdown",
   "metadata": {
    "id": "XAYAFj5m5geo"
   },
   "source": [
    "## <font color='blue'>Ejemplo: Yincana</font>"
   ]
  },
  {
   "cell_type": "markdown",
   "metadata": {
    "id": "p_gdfVlr5iMw"
   },
   "source": [
    "En un pueblo se organiza una yincana todos los años para recaudar fondos para el hospital de la ciudad. Se sabe que la **proporción de mujeres participantes en la yincana es del 60%**. **El número total de equipos, con 12 integrantes, inscritos para la yincana de este año es de 30**. Con la información anterior responde: ¿Cuántos equipos deben estar formados por **8 mujeres**?"
   ]
  },
  {
   "cell_type": "markdown",
   "metadata": {
    "id": "E55wqyjv7sst"
   },
   "source": [
    "### Solución"
   ]
  },
  {
   "cell_type": "code",
   "execution_count": null,
   "metadata": {
    "id": "CBI6s2ex7qhH"
   },
   "outputs": [],
   "source": []
  },
  {
   "cell_type": "code",
   "execution_count": null,
   "metadata": {
    "id": "VzYtWaDz776J"
   },
   "outputs": [],
   "source": []
  },
  {
   "cell_type": "code",
   "execution_count": null,
   "metadata": {
    "id": "uPyfYzqe7-LO"
   },
   "outputs": [],
   "source": []
  },
  {
   "cell_type": "code",
   "execution_count": null,
   "metadata": {
    "id": "RuTGHs6r-WiR"
   },
   "outputs": [],
   "source": []
  },
  {
   "cell_type": "markdown",
   "metadata": {
    "id": "KnahyrmA-gTw"
   },
   "source": [
    "### Media de la distribución binomial"
   ]
  },
  {
   "cell_type": "markdown",
   "metadata": {
    "id": "5SWtLDM7-kZN"
   },
   "source": [
    "El valor esperado o la media de una distribución binomial es igual al número de experimentos realizados multiplicado por la posibilidad de que ocurra el evento.\n",
    "\n",
    "# $$\\mu = n \\times p$$"
   ]
  },
  {
   "cell_type": "code",
   "execution_count": null,
   "metadata": {
    "id": "3rpguoxA-w-q"
   },
   "outputs": [],
   "source": []
  },
  {
   "cell_type": "markdown",
   "metadata": {
    "id": "6cnb8HYz_N6w"
   },
   "source": [
    "## <font color=green>2.2 Distribución Poisson</font>\n",
    "***"
   ]
  },
  {
   "cell_type": "markdown",
   "metadata": {
    "id": "al9AcGw__P0G"
   },
   "source": [
    "Se utiliza para describir el número de ocurrencias en un tiempo o espacio específico. Los eventos se caracterizan por la posibilidad de contar los éxitos, pero la imposibilidad de contar los fracasos.\n",
    "\n",
    "Como ejemplos de procesos donde podemos aplicar la distribución de Poisson tenemos la determinación de la cantidad de clientes que ingresan a una tienda a una hora determinada, la cantidad de autos que llegan a un drive-thru de una cafetería a la hora del almuerzo, la determinación de el número de accidentes registrados en un tramo de carretera, etc."
   ]
  },
  {
   "cell_type": "markdown",
   "metadata": {
    "id": "T8pwHPvOC4YK"
   },
   "source": [
    "# $$P(k) = \\frac{e^{-\\mu}(\\mu)^k}{k!}$$\n",
    "\n",
    "Donde:\n",
    "\n",
    "$e$ = constante cuyo valor aproximado es 2.718281828459045\n",
    "\n",
    "$\\mu$ = representa el número promedio de ocurrencias en un intervalo de tiempo o espacio determinado\n",
    "\n",
    "$k$ = número de éxitos en el rango deseado"
   ]
  },
  {
   "cell_type": "code",
   "execution_count": null,
   "metadata": {
    "id": "Zz4boaB9DJe8"
   },
   "outputs": [],
   "source": []
  },
  {
   "cell_type": "markdown",
   "metadata": {
    "id": "Pc8Adco7HN0f"
   },
   "source": [
    "## <font color='blue'>Ejemplo: Delivery</font>"
   ]
  },
  {
   "cell_type": "markdown",
   "metadata": {
    "id": "KG6lbgzsHTxf"
   },
   "source": [
    "Un restaurante recibe una media de **20 pedidos por hora**. ¿Cuál es la probabilidad de que, en un momento determinado elegido al azar, el restaurante reciba **15 pedidos**?"
   ]
  },
  {
   "cell_type": "markdown",
   "metadata": {
    "id": "dHRELL2aHdq0"
   },
   "source": [
    "### ¿Cuál es el promedio de visitas por hora ($\\mu$)?"
   ]
  },
  {
   "cell_type": "code",
   "execution_count": null,
   "metadata": {
    "id": "WKO0u7gJFiZJ"
   },
   "outputs": [],
   "source": []
  },
  {
   "cell_type": "markdown",
   "metadata": {
    "id": "wSxAZg2nHmZK"
   },
   "source": [
    "### ¿Cuántas ocurrencias queremos obtener en el período ($k$)?"
   ]
  },
  {
   "cell_type": "code",
   "execution_count": null,
   "metadata": {
    "id": "ScvHIZmtHnBw"
   },
   "outputs": [],
   "source": []
  },
  {
   "cell_type": "markdown",
   "metadata": {
    "id": "S1svy6hyHu3m"
   },
   "source": [
    "### Solución 1"
   ]
  },
  {
   "cell_type": "code",
   "execution_count": null,
   "metadata": {
    "id": "0glURNhyHvXX"
   },
   "outputs": [],
   "source": []
  },
  {
   "cell_type": "markdown",
   "metadata": {
    "id": "VOsWz9hOIMQm"
   },
   "source": [
    "### Importando bibliotecas"
   ]
  },
  {
   "cell_type": "markdown",
   "metadata": {
    "id": "kGYHXNtjIMxJ"
   },
   "source": [
    "https://docs.scipy.org/doc/scipy/reference/generated/scipy.stats.poisson.html"
   ]
  },
  {
   "cell_type": "markdown",
   "metadata": {
    "id": "NwInTkqUIUJR"
   },
   "source": [
    "### Solución 2"
   ]
  },
  {
   "cell_type": "code",
   "execution_count": null,
   "metadata": {
    "id": "CNvTOI9WIVFM"
   },
   "outputs": [],
   "source": []
  },
  {
   "cell_type": "markdown",
   "metadata": {
    "id": "pSc6MBfsLcqU"
   },
   "source": [
    "## <font color=green>2.3 Distribución Normal</font>\n",
    "***"
   ]
  },
  {
   "cell_type": "markdown",
   "metadata": {
    "id": "mHE0MGTnLe27"
   },
   "source": [
    "La distribución normal es una de las más utilizadas en estadística. Es una distribución continua, donde la distribución de frecuencias de una variable cuantitativa tiene forma de campana y es simétrica con respecto a su media."
   ]
  },
  {
   "cell_type": "markdown",
   "metadata": {
    "id": "OSxItKjrLkMF"
   },
   "source": [
    "# $$f(x) = \\frac{1}{\\sqrt{2\\pi\\sigma}}e^{-\\frac{1}{2}\\left(\\frac{x-\\mu}{\\sigma}\\right)^2}$$\n",
    "\n",
    "Donde:\n",
    "\n",
    "$x$ = variable normal\n",
    "\n",
    "$\\sigma$ = desviación estándar\n",
    "\n",
    "$\\mu$ = media o promedio"
   ]
  },
  {
   "cell_type": "markdown",
   "metadata": {
    "id": "cMHvh7O1Nnsu"
   },
   "source": [
    "La probabilidad se obtiene a partir del área bajo la curva, delimitada por los límites inferior y superior especificados. Un ejemplo se puede ver en la siguiente figura."
   ]
  },
  {
   "cell_type": "markdown",
   "metadata": {
    "id": "QTHFE1XbPtEu"
   },
   "source": [
    "![alt text](https://github.com/ElProfeAlejo/estadisticas_python/raw/main/img_2_3.png)"
   ]
  },
  {
   "cell_type": "markdown",
   "metadata": {
    "id": "r0ln64w6P5n1"
   },
   "source": [
    "Para obtener el área anterior, basta calcular la integral de la función para los intervalos dados. De acuerdo con la siguiente ecuación:"
   ]
  },
  {
   "cell_type": "markdown",
   "metadata": {
    "id": "RggsAnMNP_Xo"
   },
   "source": [
    "# $$P(L_i<x<L_s) = \\int_{L_i}^{L_s}\\frac{1}{\\sqrt{2\\pi\\sigma}}e^{-\\frac{1}{2}\\left(\\frac{x-\\mu}{\\sigma}\\right)^2}$$\n",
    "\n",
    "Donde:\n",
    "\n",
    "$x$ = variable normal\n",
    "\n",
    "$\\sigma$ = desviación estándar\n",
    "\n",
    "$\\mu$ = media o promedio\n",
    "\n",
    "$L_i$ = límite inferior\n",
    "\n",
    "$L_s$ = límite superior"
   ]
  },
  {
   "cell_type": "markdown",
   "metadata": {
    "id": "xPI_wxgnUUdT"
   },
   "source": [
    "### Tablas estandarizadas (Tabla Z)"
   ]
  },
  {
   "cell_type": "markdown",
   "metadata": {
    "id": "ZBFldy_9UeZf"
   },
   "source": [
    "Las tablas estandarizadas se crearon para facilitar la obtención de los valores de las áreas bajo la curva normal y eliminar la necesidad de resolver integrales definidas.\n",
    "\n",
    "Para consultar los valores en una tabla estandarizada, solo necesitamos transformar nuestra variable en una variable estandarizada $Z$.\n",
    "\n",
    "Esta variable $Z$ representa el alejamiento en desviaciones estándares de un valor de la variable original en relación a la media."
   ]
  },
  {
   "cell_type": "markdown",
   "metadata": {
    "id": "f80x0p0QU5s4"
   },
   "source": [
    "# $$Z = \\frac{x-\\mu}{\\sigma}$$\n",
    "\n",
    "Donde:\n",
    "\n",
    "$x$ = variable normal con media $\\mu$ y desviación estándar $\\sigma$\n",
    "\n",
    "$\\sigma$ = desviación estándar\n",
    "\n",
    "$\\mu$ = media o promedio"
   ]
  },
  {
   "cell_type": "markdown",
   "metadata": {
    "id": "Y-nth33EVKiv"
   },
   "source": [
    "### Construyendo una tabla normal estandarizada\n",
    "https://docs.scipy.org/doc/scipy/reference/generated/scipy.stats.norm.html"
   ]
  },
  {
   "cell_type": "code",
   "execution_count": null,
   "metadata": {
    "id": "DRO7MhRpVVku"
   },
   "outputs": [],
   "source": [
    "import pandas as pd\n",
    "import numpy as np\n",
    "from scipy.stats import norm\n",
    "\n",
    "tabla_estandarizada = pd.DataFrame(\n",
    "    [], \n",
    "    index=[\"{0:0.2f}\".format(i / 100) for i in range(0, 400, 10)],\n",
    "    columns = [\"{0:0.2f}\".format(i / 100) for i in range(0, 10)])\n",
    "\n",
    "for index in tabla_estandarizada.index:\n",
    "    for column in tabla_estandarizada.columns:\n",
    "        Z = np.round(float(index) + float(column), 2)\n",
    "        tabla_estandarizada.loc[index, column] = \"{0:0.4f}\".format(norm.cdf(Z))\n",
    "\n",
    "tabla_estandarizada.rename_axis('Z', axis = 'columns', inplace = True)\n",
    "tabla_estandarizada"
   ]
  },
  {
   "cell_type": "markdown",
   "metadata": {
    "id": "UER3L3HmXBCT"
   },
   "source": [
    "<img src='https://github.com/ElProfeAlejo/estadisticas_python/raw/main/img_2_3_2.png' width='250px'>\n",
    "\n",
    "La tabla anterior muestra el área bajo la curva entre $-\\infty$ y $Z$ desviaciones estándar por encima de la media. Recordando que por tratarse de valores estandarizados, tenemos $\\mu = 0$."
   ]
  },
  {
   "cell_type": "markdown",
   "metadata": {
    "id": "AEp_lqW6Stb1"
   },
   "source": [
    "## <font color='blue'>Ejemplo: ¿Cual es tu altura?</font>"
   ]
  },
  {
   "cell_type": "markdown",
   "metadata": {
    "id": "xbbdAYu1S2KL"
   },
   "source": [
    "En un estudio sobre las alturas de los habitantes de una ciudad, se encontró que el conjunto de datos sigue una **distribución aproximadamente normal**, con **media 1.70** y **desviación estándar de 0.1**. Con esta información obtenga el siguiente conjunto de probabilidades:\n",
    "\n",
    "> **A.** probabilidad de que una persona seleccionada al azar mida menos de 1.80 metros.\n",
    "\n",
    "> **B.** probabilidad de que una persona seleccionada al azar mida entre 1.60 y 1.80 metros.\n",
    "\n",
    "> **C.** probabilidad de que una persona seleccionada al azar mida más de 1.90 metros."
   ]
  },
  {
   "cell_type": "markdown",
   "metadata": {
    "id": "-EkudRa8TykC"
   },
   "source": [
    "### Problema A - Identificar el área bajo la curva"
   ]
  },
  {
   "cell_type": "markdown",
   "metadata": {
    "id": "Gg0I8FXfT2Is"
   },
   "source": [
    "<img style='float: left' src='https://github.com/ElProfeAlejo/estadisticas_python/raw/main/img_2_3_1.png' width='350px'>"
   ]
  },
  {
   "cell_type": "markdown",
   "metadata": {
    "id": "imXVJcZVVp1m"
   },
   "source": [
    "### Obtener la variable estandarizada $Z$"
   ]
  },
  {
   "cell_type": "code",
   "execution_count": null,
   "metadata": {
    "id": "M2WKEyc7T5Ru"
   },
   "outputs": [],
   "source": [
    "\n"
   ]
  },
  {
   "cell_type": "code",
   "execution_count": null,
   "metadata": {
    "id": "j0oiRnfXTNOP"
   },
   "outputs": [],
   "source": [
    "\n"
   ]
  },
  {
   "cell_type": "code",
   "execution_count": null,
   "metadata": {
    "id": "hyZdvRYpSxZf"
   },
   "outputs": [],
   "source": [
    "\n"
   ]
  },
  {
   "cell_type": "markdown",
   "metadata": {
    "id": "zqYd_HFEXUxC"
   },
   "source": [
    "### Solución 1: Usando Tabla Z"
   ]
  },
  {
   "cell_type": "code",
   "execution_count": null,
   "metadata": {
    "id": "SvdcwZn1WK2B"
   },
   "outputs": [],
   "source": [
    "\n"
   ]
  },
  {
   "cell_type": "markdown",
   "metadata": {
    "id": "KzM8u6OnXg4h"
   },
   "source": [
    "### Solución 2 - Usando Scipy"
   ]
  },
  {
   "cell_type": "code",
   "execution_count": null,
   "metadata": {
    "id": "YlrvYrhGXixI"
   },
   "outputs": [],
   "source": [
    "\n"
   ]
  },
  {
   "cell_type": "markdown",
   "metadata": {
    "id": "1p3Ps6NpZNbY"
   },
   "source": [
    "### Problema B - Identificación del área bajo la curva"
   ]
  },
  {
   "cell_type": "markdown",
   "metadata": {
    "id": "0pz7gjkGZf92"
   },
   "source": [
    "<img style='float: left' src='https://github.com/ElProfeAlejo/estadisticas_python/raw/main/img_2_3_3.png' width='350px'>"
   ]
  },
  {
   "cell_type": "markdown",
   "metadata": {
    "id": "DFduOZ5XZoFp"
   },
   "source": [
    "### Obtener la variable estandarizada $Z$"
   ]
  },
  {
   "cell_type": "code",
   "execution_count": null,
   "metadata": {
    "id": "ua9o7ehCZjdx"
   },
   "outputs": [],
   "source": [
    "\n"
   ]
  },
  {
   "cell_type": "code",
   "execution_count": null,
   "metadata": {
    "id": "jhPHOxU1aWPC"
   },
   "outputs": [],
   "source": [
    "\n"
   ]
  },
  {
   "cell_type": "markdown",
   "metadata": {
    "id": "cY4KUYQ2aiXj"
   },
   "source": [
    "### Solución 1: Usando Tabla Z"
   ]
  },
  {
   "cell_type": "code",
   "execution_count": null,
   "metadata": {
    "id": "vUC_o_Tnai8Z"
   },
   "outputs": [],
   "source": [
    "\n"
   ]
  },
  {
   "cell_type": "code",
   "execution_count": null,
   "metadata": {
    "id": "x_al7h5LbCD9"
   },
   "outputs": [],
   "source": [
    "\n"
   ]
  },
  {
   "cell_type": "markdown",
   "metadata": {
    "id": "1X_8O-iZbKOV"
   },
   "source": [
    "### Solución 2 - Usando Scipy"
   ]
  },
  {
   "cell_type": "code",
   "execution_count": null,
   "metadata": {
    "id": "UlRR6FA0bK64"
   },
   "outputs": [],
   "source": [
    "\n"
   ]
  },
  {
   "cell_type": "code",
   "execution_count": null,
   "metadata": {
    "id": "csLLD5lLbQ2B"
   },
   "outputs": [],
   "source": [
    "\n"
   ]
  },
  {
   "cell_type": "markdown",
   "metadata": {
    "id": "nVxEPaoybb_1"
   },
   "source": [
    "### Problema C - Identificación del área bajo la curva"
   ]
  },
  {
   "cell_type": "markdown",
   "metadata": {
    "id": "2bG4vGxCbdDj"
   },
   "source": [
    "<img style='float: left' src='https://github.com/ElProfeAlejo/estadisticas_python/raw/main/img_2_3_4.png' width='350px'>"
   ]
  },
  {
   "cell_type": "markdown",
   "metadata": {
    "id": "aTbLwmDnb6HJ"
   },
   "source": [
    "### Obtener la variable estandarizada $Z$"
   ]
  },
  {
   "cell_type": "code",
   "execution_count": null,
   "metadata": {
    "id": "gBDrkb7bb98f"
   },
   "outputs": [],
   "source": [
    "\n"
   ]
  },
  {
   "cell_type": "markdown",
   "metadata": {
    "id": "zFnuvsdxb6pz"
   },
   "source": [
    "### Solución 1: Usando Tabla Z"
   ]
  },
  {
   "cell_type": "code",
   "execution_count": null,
   "metadata": {
    "id": "YI6IHnSlb0Le"
   },
   "outputs": [],
   "source": [
    "\n"
   ]
  },
  {
   "cell_type": "markdown",
   "metadata": {
    "id": "040tlERscUZs"
   },
   "source": [
    "### Solución 2 - Usando Scipy"
   ]
  },
  {
   "cell_type": "code",
   "execution_count": null,
   "metadata": {
    "id": "-_cRudbhcU7h"
   },
   "outputs": [],
   "source": []
  },
  {
   "cell_type": "code",
   "execution_count": null,
   "metadata": {
    "id": "0auVi42HcXiN"
   },
   "outputs": [],
   "source": []
  },
  {
   "cell_type": "markdown",
   "metadata": {
    "id": "2ubY3iqFn_rG"
   },
   "source": [
    "# <font color=green>3. TECNICAS DE MUESTREO</font>\n",
    "***"
   ]
  },
  {
   "cell_type": "markdown",
   "metadata": {
    "id": "OW7TmCPsoDJM"
   },
   "source": [
    "## <font color=green>3.1 Población y muestra</font>\n",
    "***"
   ]
  },
  {
   "cell_type": "markdown",
   "metadata": {
    "id": "B7VAVEmroXMC"
   },
   "source": [
    "### Población\n",
    "Conjunto de todos los elementos de interés en un estudio. Varios elementos pueden componer una población, por ejemplo: personas, edades, alturas, automóviles, etc.\n",
    "\n",
    "En cuanto al tamaño, las poblaciones pueden ser limitadas (poblaciones finitas) o ilimitadas (poblaciones infinitas)."
   ]
  },
  {
   "cell_type": "markdown",
   "metadata": {
    "id": "uBpy2NcBoqqY"
   },
   "source": [
    "### Muestra\n",
    "Subconjunto representativo de la población."
   ]
  },
  {
   "cell_type": "markdown",
   "metadata": {
    "id": "XRjlL56Fotq0"
   },
   "source": [
    "Los atributos numéricos de una población, como su media, varianza y desviación estándar, se conocen como **parámetros**. El objetivo principal de la inferencia estadística es precisamente generar estimaciones y probar hipótesis sobre los parámetros de la población utilizando información muestral."
   ]
  },
  {
   "cell_type": "markdown",
   "metadata": {
    "id": "HPksrtiDpAg0"
   },
   "source": [
    "## <font color=green>3.2 ¿Cuándo usar una muestra?</font>\n",
    "***"
   ]
  },
  {
   "cell_type": "markdown",
   "metadata": {
    "id": "a1Pz2oKEpBDb"
   },
   "source": [
    "### Poblaciones infinitas\n",
    "\n",
    "El estudio nunca llegaría a su fin. No es posible investigar todos los elementos de la población."
   ]
  },
  {
   "cell_type": "markdown",
   "metadata": {
    "id": "TObAV-xypLWS"
   },
   "source": [
    "### Pruebas destructivas\n",
    "\n",
    "Estudios donde los elementos evaluados son totalmente consumidos o destruidos. Ejemplo: pruebas de vida útil, pruebas de seguridad de choque en automóviles."
   ]
  },
  {
   "cell_type": "markdown",
   "metadata": {
    "id": "BOccZSJUpXjR"
   },
   "source": [
    "### Resultados rápidos\n",
    "\n",
    "Encuestas que necesitan más agilidad en la divulgación. Ejemplo: encuestas de opinión, encuestas sobre temas de salud pública."
   ]
  },
  {
   "cell_type": "markdown",
   "metadata": {
    "id": "I4XsMSxKp02R"
   },
   "source": [
    "### Precios Elevados\n",
    "\n",
    "Cuando la población es finita pero muy grande, el costo de un censo puede hacer inviable el proceso."
   ]
  },
  {
   "cell_type": "markdown",
   "metadata": {
    "id": "R-SUWeHWqFGG"
   },
   "source": [
    "## <font color=green>3.3 Muestreo aleatorio simple</font>\n",
    "***"
   ]
  },
  {
   "cell_type": "markdown",
   "metadata": {
    "id": "xu9PNFkCqGEE"
   },
   "source": [
    "Es una de las principales formas de extraer una muestra de una población. El requisito fundamental de este tipo de enfoque es que cada elemento de la población tenga las mismas posibilidades de ser seleccionado para formar parte de la muestra."
   ]
  },
  {
   "cell_type": "code",
   "execution_count": null,
   "metadata": {
    "id": "KuGq7cLtqQX9"
   },
   "outputs": [],
   "source": []
  },
  {
   "cell_type": "code",
   "execution_count": null,
   "metadata": {
    "id": "2KLqYTD9rB5R"
   },
   "outputs": [],
   "source": []
  },
  {
   "cell_type": "code",
   "execution_count": null,
   "metadata": {
    "id": "HUb3UpZQrEr4"
   },
   "outputs": [],
   "source": []
  },
  {
   "cell_type": "code",
   "execution_count": null,
   "metadata": {
    "id": "MS-oqrklrIJw"
   },
   "outputs": [],
   "source": []
  },
  {
   "cell_type": "code",
   "execution_count": null,
   "metadata": {
    "id": "tXiVKdJerKWn"
   },
   "outputs": [],
   "source": []
  },
  {
   "cell_type": "code",
   "execution_count": null,
   "metadata": {
    "id": "6_Q5bjQvrOp6"
   },
   "outputs": [],
   "source": []
  },
  {
   "cell_type": "code",
   "execution_count": null,
   "metadata": {
    "id": "c2rt6CyfrSxN"
   },
   "outputs": [],
   "source": []
  },
  {
   "cell_type": "markdown",
   "metadata": {
    "id": "mxVmU9aRrapD"
   },
   "source": [
    "## <font color=green>3.4 Muestreo estratificado</font>\n",
    "***"
   ]
  },
  {
   "cell_type": "markdown",
   "metadata": {
    "id": "Rayfu-LTrbxu"
   },
   "source": [
    "Es una mejora del proceso de muestreo aleatorio simple. Este método propone la división de la población en subgrupos de elementos con características similares, es decir, grupos más homogéneos. Con estos subgrupos separados, se aplica la técnica de muestreo aleatorio simple dentro de cada subgrupo individualmente."
   ]
  },
  {
   "cell_type": "markdown",
   "metadata": {
    "id": "7ETJGzTwrhc_"
   },
   "source": [
    "## <font color=green>3.5 Muestreo por conglomerados</font>\n",
    "***"
   ]
  },
  {
   "cell_type": "markdown",
   "metadata": {
    "id": "0sqNcAtWrrwq"
   },
   "source": [
    "También pretende mejorar el criterio de muestreo aleatorio simple. En el muestreo por conglomerados también se crean subgrupos, pero no serán homogéneos como en el muestreo estratificado. En el muestreo por conglomerados, los subgrupos serán heterogéneos, por lo que se aplicará un muestreo aleatorio simple o estratificado.\n",
    "\n",
    "Un ejemplo muy común de la aplicación de este tipo de técnicas es en la división de la población en grupos territoriales, donde los elementos investigados tendrán características muy variadas."
   ]
  },
  {
   "cell_type": "markdown",
   "metadata": {
    "id": "3Ns4GQEQwuk8"
   },
   "source": [
    "# <font color=green>4. INTERVALO DE CONFIANZA</font>\n",
    "***"
   ]
  },
  {
   "cell_type": "markdown",
   "metadata": {
    "id": "j7XiPk5DwyEW"
   },
   "source": [
    "Es una forma de hacer suposiciones generalizadas sobre los parámetros de una población con base en la información de una muestra.\n",
    "\n",
    "- **Parámetros** son atributos numéricos de una población, como la media, la desviación estándar, etc.\n",
    "\n",
    "- **Estimativa** es el valor obtenido para un determinado parámetro a partir de datos de una muestra de la población."
   ]
  },
  {
   "cell_type": "markdown",
   "metadata": {
    "id": "XY6wxOayx51t"
   },
   "source": [
    "## <font color=green>4.1 Teorema del límite central</font>\n",
    "***"
   ]
  },
  {
   "cell_type": "markdown",
   "metadata": {
    "id": "FDVcVmWfx6xE"
   },
   "source": [
    "> El **Teorema del límite central** establece que, a medida que aumenta el tamaño de la muestra, la distribución de las medias muestrales se aproxima a una distribución normal con una media igual a la media de la población y una desviación estándar igual a la desviación estándar de la variable original dividida por la raíz cuadrada del tamaño de la muestra. Este hecho es válido para $n$ mayor o igual a 30."
   ]
  },
  {
   "cell_type": "markdown",
   "metadata": {
    "id": "ZdfK0zGmyBm2"
   },
   "source": [
    "# $$\\sigma_\\bar{x} = \\frac{\\sigma}{\\sqrt{n}}$$\n",
    "\n",
    "La desviación estándar de las medias muestrales se conoce como **error estándar de la media**"
   ]
  },
  {
   "cell_type": "markdown",
   "metadata": {
    "id": "t6yCH3WnyZeM"
   },
   "source": [
    "### Comprendiendo el teorema del límite central"
   ]
  },
  {
   "cell_type": "code",
   "execution_count": null,
   "metadata": {
    "id": "ePuYZIyQnI3e"
   },
   "outputs": [],
   "source": []
  },
  {
   "cell_type": "code",
   "execution_count": null,
   "metadata": {
    "id": "ldOjXdd3nPtu"
   },
   "outputs": [],
   "source": []
  },
  {
   "cell_type": "code",
   "execution_count": null,
   "metadata": {
    "id": "UV_MoL2anUqJ"
   },
   "outputs": [],
   "source": []
  },
  {
   "cell_type": "code",
   "execution_count": null,
   "metadata": {
    "id": "lY3IUdr7nsJA"
   },
   "outputs": [],
   "source": []
  },
  {
   "cell_type": "markdown",
   "metadata": {
    "id": "eBkztPQtnyTh"
   },
   "source": [
    "> El teorema del límite central establece que **a medida que aumenta el tamaño de la muestra, la distribución de las medias de la muestra se aproxima a una distribución normal** con una media igual a la media de la población y una desviación estándar igual a la desviación estándar de la variable original dividida por la raíz cuadrada del tamaño de la muestra. Este hecho es válido para n mayor o igual a 30."
   ]
  },
  {
   "cell_type": "code",
   "execution_count": null,
   "metadata": {
    "id": "v7HqdyBwny13"
   },
   "outputs": [],
   "source": []
  },
  {
   "cell_type": "markdown",
   "metadata": {
    "id": "pdEz0FvZol3f"
   },
   "source": [
    "> El teorema del límite central establece que, al aumentar el tamaño de la muestra, la distribución de las medias muestrales se aproxima a una distribución normal **con una media igual a la media poblacional** y una desviación estándar igual a la desviación estándar de la variable original dividida por la raíz cuadrada del tamaño de la muestra. Este hecho es válido para n mayor o igual a 30."
   ]
  },
  {
   "cell_type": "code",
   "execution_count": null,
   "metadata": {
    "id": "g7Mu8dn2omXP"
   },
   "outputs": [],
   "source": []
  },
  {
   "cell_type": "code",
   "execution_count": null,
   "metadata": {
    "id": "I_PPXmCkou54"
   },
   "outputs": [],
   "source": []
  },
  {
   "cell_type": "markdown",
   "metadata": {
    "id": "TYRyekM0o6u5"
   },
   "source": [
    "> El teorema del límite central establece que, al aumentar el tamaño de la muestra, la distribución de las medias muestrales se aproxima a una distribución normal con media igual a la media poblacional y **desviación estándar igual a la desviación estándar de la variable original dividida por la raíz cuadrada del tamaño de la muestra**. Este hecho es válido para n mayor o igual a 30.\n",
    "\n",
    "# $$\\sigma_\\bar{x} = \\frac{\\sigma}{\\sqrt{n}}$$"
   ]
  },
  {
   "cell_type": "code",
   "execution_count": null,
   "metadata": {
    "id": "UjifjtZ_pGNR"
   },
   "outputs": [],
   "source": []
  },
  {
   "cell_type": "code",
   "execution_count": null,
   "metadata": {
    "id": "K9ZyH_0apblu"
   },
   "outputs": [],
   "source": []
  },
  {
   "cell_type": "code",
   "execution_count": null,
   "metadata": {
    "id": "AIZkf8hipeUb"
   },
   "outputs": [],
   "source": []
  },
  {
   "cell_type": "markdown",
   "metadata": {
    "id": "W7y5Kq6Npuww"
   },
   "source": [
    "## <font color=green>4.2 Niveles de confianza y significación</font>\n",
    "***"
   ]
  },
  {
   "cell_type": "markdown",
   "metadata": {
    "id": "_EIaqxOJpyQu"
   },
   "source": [
    "El **nivel de confianza** ($1 - \\alpha$) representa la probabilidad de que la estimación sea correcta. Además, el **nivel de significación** ($\\alpha$) expresa la probabilidad de error de estimación.\n",
    "\n",
    "El **nivel de confianza** representa el grado de confianza de que el resultado de la estimación se encuentra dentro de un rango determinado. Cuando establecemos un **nivel de confianza** del 95% en una encuesta, por ejemplo, estamos asumiendo que existe un 95% de probabilidad de que los resultados de la encuesta representen bien la realidad, es decir, que sean correctos.\n",
    "\n",
    "El **nivel de confianza** de una estimación se puede obtener del área bajo la curva normal, como se ilustra en la siguiente figura."
   ]
  },
  {
   "cell_type": "markdown",
   "metadata": {
    "id": "NPxUvqDLswL3"
   },
   "source": [
    "![alt text](https://github.com/ElProfeAlejo/estadisticas_python/raw/main/img_4_2_1.png)"
   ]
  },
  {
   "cell_type": "markdown",
   "metadata": {
    "id": "O7u1iON5to5U"
   },
   "source": [
    "## <font color=green>4.3 Error inferencial</font>\n",
    "***"
   ]
  },
  {
   "cell_type": "markdown",
   "metadata": {
    "id": "JLA2JnkjtsN0"
   },
   "source": [
    "El **error inferencial** se define por la **desviación estándar de las medias muestrales** $\\sigma_\\bar{x}$ y por el **nivel de confianza** determinado para el proceso."
   ]
  },
  {
   "cell_type": "markdown",
   "metadata": {
    "id": "gkCb6icvt234"
   },
   "source": [
    "# $$e = z \\frac{\\sigma}{\\sqrt{n}}$$"
   ]
  },
  {
   "cell_type": "markdown",
   "metadata": {
    "id": "XBuN9nTct8eK"
   },
   "source": [
    "## <font color=green>4.4 Intervalos de confianza</font>\n",
    "***"
   ]
  },
  {
   "cell_type": "markdown",
   "metadata": {
    "id": "33emQt5XuBZk"
   },
   "source": [
    "### Intervalo de confianza para la media poblacional"
   ]
  },
  {
   "cell_type": "markdown",
   "metadata": {
    "id": "YbQlystxuEIy"
   },
   "source": [
    "#### Con desviación estándar de población conocida\n",
    "\n",
    "## $$\\mu = \\bar{x} \\pm z\\frac{\\sigma}{\\sqrt{n}}$$\n",
    "\n",
    "#### Con desviación estándar de población desconocida\n",
    "\n",
    "## $$\\mu = \\bar{x} \\pm z\\frac{s}{\\sqrt{n}}$$"
   ]
  },
  {
   "cell_type": "markdown",
   "metadata": {
    "id": "8ekbED_Qvqyk"
   },
   "source": [
    "## <font color='blue'>Ejemplo: </font>"
   ]
  },
  {
   "cell_type": "markdown",
   "metadata": {
    "id": "oqbFfrnDvryG"
   },
   "source": [
    "Suponga que los pesos de los sacos de arroz en una industria alimentaria se distribuyen aproximadamente como una normal de **desviación estándar poblacional igual a 150 g**. Se seleccionó una **muestra aleatoria de 20 bolsas** de un lote específico, se obtuvo un **peso promedio de 5.050 g**. Construya un intervalo de confianza para la **media poblacional** suponiendo un **nivel de significancia del 5 %**."
   ]
  },
  {
   "cell_type": "markdown",
   "metadata": {
    "id": "Vti8ODQFvxNx"
   },
   "source": [
    "### Media muestral"
   ]
  },
  {
   "cell_type": "code",
   "execution_count": null,
   "metadata": {
    "id": "DFkBd845uLrm"
   },
   "outputs": [],
   "source": []
  },
  {
   "cell_type": "markdown",
   "metadata": {
    "id": "gWPeH856wb39"
   },
   "source": [
    "### Nivel de significación ($\\alpha$)"
   ]
  },
  {
   "cell_type": "code",
   "execution_count": null,
   "metadata": {
    "id": "WGMWMOA_weGr"
   },
   "outputs": [],
   "source": []
  },
  {
   "cell_type": "markdown",
   "metadata": {
    "id": "kPy3hoNzwnfd"
   },
   "source": [
    "### Nivel de confianza ($1 - \\alpha$)"
   ]
  },
  {
   "cell_type": "code",
   "execution_count": null,
   "metadata": {
    "id": "OYbNuiUFwp-5"
   },
   "outputs": [],
   "source": []
  },
  {
   "cell_type": "markdown",
   "metadata": {
    "id": "xraN0GLGypMl"
   },
   "source": [
    "### Obteniendo $z$"
   ]
  },
  {
   "cell_type": "code",
   "execution_count": null,
   "metadata": {
    "id": "2X5-XFc5ysXL"
   },
   "outputs": [],
   "source": []
  },
  {
   "cell_type": "markdown",
   "metadata": {
    "id": "yZegtGddyx5T"
   },
   "source": [
    "### Obteniendo $z$"
   ]
  },
  {
   "cell_type": "markdown",
   "metadata": {
    "id": "rPsdSuW6zXdw"
   },
   "source": [
    "![alt text](https://github.com/ElProfeAlejo/estadisticas_python/raw/main/img_4_2_2.png)"
   ]
  },
  {
   "cell_type": "code",
   "execution_count": null,
   "metadata": {
    "id": "WP29tasJyyc_"
   },
   "outputs": [],
   "source": []
  },
  {
   "cell_type": "code",
   "execution_count": null,
   "metadata": {
    "id": "sd3ooBNdzlcz"
   },
   "outputs": [],
   "source": []
  },
  {
   "cell_type": "code",
   "execution_count": null,
   "metadata": {
    "id": "u-wu72fdzm6Q"
   },
   "outputs": [],
   "source": []
  },
  {
   "cell_type": "code",
   "execution_count": null,
   "metadata": {
    "id": "LKJLHLbrzokC"
   },
   "outputs": [],
   "source": []
  },
  {
   "cell_type": "markdown",
   "metadata": {
    "id": "bGnKWEsOyqNL"
   },
   "source": [
    "### Valores de $z$ para los niveles de confianza más utilizados\n",
    "|Nivel de<br> confianza|Valor del área bajo<br>la curva normal| $z$ |\n",
    "|:----------------:|:---------------------------------:|:---:|\n",
    "|90%               |0.95                               |1.645|\n",
    "|95%               |0.975                              |1.96 |\n",
    "|99%               |0.995                              |2.575|"
   ]
  },
  {
   "cell_type": "markdown",
   "metadata": {
    "id": "I0-3FrUo0MO0"
   },
   "source": [
    "### Obteniendo $\\sigma_\\bar{x}$"
   ]
  },
  {
   "cell_type": "code",
   "execution_count": null,
   "metadata": {
    "id": "vWQhB7vw0WSE"
   },
   "outputs": [],
   "source": []
  },
  {
   "cell_type": "code",
   "execution_count": null,
   "metadata": {
    "id": "zXMrPJXg1CR6"
   },
   "outputs": [],
   "source": []
  },
  {
   "cell_type": "code",
   "execution_count": null,
   "metadata": {
    "id": "WUUPQ4Op1D3d"
   },
   "outputs": [],
   "source": []
  },
  {
   "cell_type": "code",
   "execution_count": null,
   "metadata": {
    "id": "AE12Wg671FpO"
   },
   "outputs": [],
   "source": []
  },
  {
   "cell_type": "markdown",
   "metadata": {
    "id": "txnfbtct1K6u"
   },
   "source": [
    "### Obteniendo $e$"
   ]
  },
  {
   "cell_type": "code",
   "execution_count": null,
   "metadata": {
    "id": "ruEs4pD41LyO"
   },
   "outputs": [],
   "source": []
  },
  {
   "cell_type": "markdown",
   "metadata": {
    "id": "h7Ty6zhp1Qw-"
   },
   "source": [
    "### Solución 1 - Cálculo del intervalo de confianza para la media"
   ]
  },
  {
   "cell_type": "code",
   "execution_count": null,
   "metadata": {
    "id": "bqQ7gWXE1Rqf"
   },
   "outputs": [],
   "source": []
  },
  {
   "cell_type": "markdown",
   "metadata": {
    "id": "QPutO60J1a8i"
   },
   "source": [
    "### Solución 2 - Cálculo del intervalo de confianza para la media"
   ]
  },
  {
   "cell_type": "code",
   "execution_count": null,
   "metadata": {
    "id": "EaX7VWyO1bsJ"
   },
   "outputs": [],
   "source": []
  },
  {
   "cell_type": "markdown",
   "metadata": {
    "id": "5MdvFXKU3No3"
   },
   "source": [
    "# <font color=green>5. TAMAÑO DE UNA MUESTRA</font>\n",
    "***"
   ]
  },
  {
   "cell_type": "markdown",
   "metadata": {
    "id": "s0UE6BfV3SOV"
   },
   "source": [
    "## <font color=green>5.1 Variables cuantitativas y población infinita</font>\n",
    "***"
   ]
  },
  {
   "cell_type": "markdown",
   "metadata": {
    "id": "mu7XEXK73lYp"
   },
   "source": [
    "# $$e = z \\frac{\\sigma}{\\sqrt{n}}$$"
   ]
  },
  {
   "cell_type": "markdown",
   "metadata": {
    "id": "DcMbkJ-73ocu"
   },
   "source": [
    "#### Con desviación estándar conocida\n",
    "\n",
    "## $$n = \\left(z\\frac{\\sigma}{e}\\right)^2$$\n",
    "\n",
    "#### Con desviación estándar desconocida\n",
    "\n",
    "## $$n = \\left(z\\frac{s}{e}\\right)^2$$\n",
    "\n",
    "Donde:\n",
    "\n",
    "$z$ = variable normal estandarizada\n",
    "\n",
    "$\\sigma$ = desviación estándar poblacional\n",
    "\n",
    "$s$ = desviación estándar muestral\n",
    "\n",
    "$e$ = error inferencial"
   ]
  },
  {
   "cell_type": "markdown",
   "metadata": {
    "id": "zDCoIHmK4BzY"
   },
   "source": [
    "## <font color='blue'>Ejemplo: Rendimiento promedio</font>"
   ]
  },
  {
   "cell_type": "markdown",
   "metadata": {
    "id": "4pHdeE3O4Csa"
   },
   "source": [
    "Estamos estudiando el ingreso mensual de los jefes de hogar. Nuestro supervisor ha determinado que el **error máximo con relación a la media es $\\$$100,00**. Sabemos que la **desviación estándar poblacional** de este grupo de trabajadores es **$\\$$3323.39**. Para un **nivel de confianza del 95 %**, ¿cuál debería ser el tamaño de la muestra de nuestro estudio?"
   ]
  },
  {
   "cell_type": "code",
   "execution_count": null,
   "metadata": {
    "id": "VB-TLwJV4GcO"
   },
   "outputs": [],
   "source": []
  },
  {
   "cell_type": "code",
   "execution_count": null,
   "metadata": {
    "id": "ZJv2kbu24dsj"
   },
   "outputs": [],
   "source": []
  },
  {
   "cell_type": "code",
   "execution_count": null,
   "metadata": {
    "id": "OUXuORcr4eIH"
   },
   "outputs": [],
   "source": []
  },
  {
   "cell_type": "markdown",
   "metadata": {
    "id": "BqNkaT7d4idO"
   },
   "source": [
    "### Obteniendo $\\sigma$"
   ]
  },
  {
   "cell_type": "code",
   "execution_count": null,
   "metadata": {
    "id": "SYq9DQlT4jUq"
   },
   "outputs": [],
   "source": []
  },
  {
   "cell_type": "markdown",
   "metadata": {
    "id": "mBgpLpjL4mWK"
   },
   "source": [
    "### Obteniendo $e$"
   ]
  },
  {
   "cell_type": "code",
   "execution_count": null,
   "metadata": {
    "id": "pasfXvWQ4pPU"
   },
   "outputs": [],
   "source": []
  },
  {
   "cell_type": "markdown",
   "metadata": {
    "id": "BbwtwvBS4tQ1"
   },
   "source": [
    "### Obteniendo $n$"
   ]
  },
  {
   "cell_type": "code",
   "execution_count": null,
   "metadata": {
    "id": "tFkfwlcp4uIT"
   },
   "outputs": [],
   "source": []
  },
  {
   "cell_type": "markdown",
   "metadata": {
    "id": "VtlbQ4S-42Tv"
   },
   "source": [
    "## <font color=green>5.2 Variables cuantitativas y población finita</font>\n",
    "***"
   ]
  },
  {
   "cell_type": "markdown",
   "metadata": {
    "id": "VwNe4F4i43QM"
   },
   "source": [
    "#### Con desviación estándar conocida\n",
    "\n",
    "## $$n = \\frac{z^2 \\sigma^2 N}{z^2 \\sigma^2 + e^2(N-1)}$$\n",
    "\n",
    "#### Con desviación estándar desconocida\n",
    "\n",
    "## $$n = \\frac{z^2 s^2 N}{z^2 s^2 + e^2(N-1)}$$\n",
    "\n",
    "Donde:\n",
    "\n",
    "$N$ = tamaño de la población\n",
    "\n",
    "$z$ = variable normal estandarizada\n",
    "\n",
    "$\\sigma$ = desviación estándar poblacional\n",
    "\n",
    "$s$ = desviación estándar muestral\n",
    "\n",
    "$e$ = error inferencial"
   ]
  },
  {
   "cell_type": "markdown",
   "metadata": {
    "id": "EepX6fj75Nn9"
   },
   "source": [
    "## <font color='blue'>Ejemplo: industria de refrescos</font>"
   ]
  },
  {
   "cell_type": "markdown",
   "metadata": {
    "id": "9ZjF6SnH5OJj"
   },
   "source": [
    "En un lote de **10000 latas** de refresco, se realizó un muestreo aleatorio simple de **100 latas** y se obtuvo la **desviación estándar muestral del contenido de las latas igual a 12 ml**. El fabricante estipula un **error máximo sobre la media poblacional de solo 5 ml**. Para garantizar un **nivel de confianza del 95 %**, ¿qué tamaño de muestra debe seleccionarse para este estudio?"
   ]
  },
  {
   "cell_type": "markdown",
   "metadata": {
    "id": "mXQcCiiw5X1m"
   },
   "source": [
    "### Obteniendo $N$"
   ]
  },
  {
   "cell_type": "code",
   "execution_count": null,
   "metadata": {
    "id": "pfUZ00YL5b7C"
   },
   "outputs": [],
   "source": []
  },
  {
   "cell_type": "markdown",
   "metadata": {
    "id": "z3bBtUtu5fFu"
   },
   "source": [
    "### Obteniendo $z$"
   ]
  },
  {
   "cell_type": "code",
   "execution_count": null,
   "metadata": {
    "id": "511axc5I5gFC"
   },
   "outputs": [],
   "source": []
  },
  {
   "cell_type": "markdown",
   "metadata": {
    "id": "4RSxntNQ5kZr"
   },
   "source": [
    "### Obteniendo $s$"
   ]
  },
  {
   "cell_type": "code",
   "execution_count": null,
   "metadata": {
    "id": "OKVVfZKM5mlO"
   },
   "outputs": [],
   "source": []
  },
  {
   "cell_type": "markdown",
   "metadata": {
    "id": "7eThh5eK5qQN"
   },
   "source": [
    "### Obteniendo $e$"
   ]
  },
  {
   "cell_type": "code",
   "execution_count": null,
   "metadata": {
    "id": "2FKJoBlh5rLj"
   },
   "outputs": [],
   "source": []
  },
  {
   "cell_type": "markdown",
   "metadata": {
    "id": "SOaKyRqe5vnq"
   },
   "source": [
    "### Obteniendo $n$\n",
    "\n",
    "## $$n = \\frac{z^2 s^2 N}{z^2 s^2 + e^2(N-1)}$$"
   ]
  },
  {
   "cell_type": "code",
   "execution_count": null,
   "metadata": {
    "id": "Ixz9QHrv5xrq"
   },
   "outputs": [],
   "source": []
  },
  {
   "cell_type": "markdown",
   "metadata": {
    "id": "qRWeZZNFXtSU"
   },
   "source": [
    "# <font color=green>6. EJERCICIOS FINALES</font>\n",
    "***"
   ]
  },
  {
   "cell_type": "markdown",
   "metadata": {
    "id": "Eu0XkCFfXxtq"
   },
   "source": [
    "Estamos estudiando la **renta mensual de los jefes de hogar con renta hasta $\\$$5000.00**. Nuestro supervisor ha determinado que el **error máximo con relación a la media es $\\$$10**. Sabemos que la **desviación estándar poblacional** de este grupo de trabajadores es **$\\$$1082.79** y que la **media poblacional** es **$\\$$1426.54**. Para un **nivel de confianza del 95%**, ¿cuál debería ser el tamaño de la muestra de nuestro estudio? Y ¿Cuál es el intervalo de confianza para la media considerando el tamaño de muestra obtenido?"
   ]
  },
  {
   "cell_type": "markdown",
   "metadata": {
    "id": "nt3aA_P1ZOdp"
   },
   "source": [
    "### Construyendo el dataset según lo especificado por el problema"
   ]
  },
  {
   "cell_type": "code",
   "execution_count": null,
   "metadata": {
    "id": "B0qkNr1KYchx"
   },
   "outputs": [],
   "source": []
  },
  {
   "cell_type": "code",
   "execution_count": null,
   "metadata": {
    "id": "NLgcpeVNZZt9"
   },
   "outputs": [],
   "source": []
  },
  {
   "cell_type": "code",
   "execution_count": null,
   "metadata": {
    "id": "pRCXzcdLZdmG"
   },
   "outputs": [],
   "source": []
  },
  {
   "cell_type": "markdown",
   "metadata": {
    "id": "sLlndqxcZ7Hu"
   },
   "source": [
    "### Cálculo del tamaño de la muestra"
   ]
  },
  {
   "cell_type": "code",
   "execution_count": null,
   "metadata": {
    "id": "Cvu8-bbqZ8Qm"
   },
   "outputs": [],
   "source": []
  },
  {
   "cell_type": "markdown",
   "metadata": {
    "id": "6Bvu68y2aB2K"
   },
   "source": [
    "### Cálculo del intervalo de confianza para la media"
   ]
  },
  {
   "cell_type": "code",
   "execution_count": null,
   "metadata": {
    "id": "WzFTLguFaCnE"
   },
   "outputs": [],
   "source": []
  },
  {
   "cell_type": "markdown",
   "metadata": {
    "id": "wBaVLhHIaHPM"
   },
   "source": [
    "### Realizando una prueba gráfica"
   ]
  },
  {
   "cell_type": "code",
   "execution_count": null,
   "metadata": {
    "id": "n2YurC-paHv_"
   },
   "outputs": [],
   "source": [
    "import matplotlib.pyplot as plt\n",
    "\n",
    "tamaño_simulacion = 1000\n",
    "\n",
    "medias = [renta_5000.sample(n = n).mean() for i in range(1, tamaño_simulacion)]\n",
    "medias = pd.DataFrame(medias)\n",
    "\n",
    "ax = medias.plot(style = '.')\n",
    "ax.figure.set_size_inches(12, 6)\n",
    "ax.hlines(y = media, xmin = 0, xmax = tamaño_simulacion, colors='black', linestyles='dashed')\n",
    "ax.hlines(y = intervalo[0], xmin = 0, xmax = tamaño_simulacion, colors='red', linestyles='dashed')\n",
    "ax.hlines(y = intervalo[1], xmin = 0, xmax = tamaño_simulacion, colors='red', linestyles='dashed')\n",
    "ax"
   ]
  },
  {
   "cell_type": "markdown",
   "metadata": {
    "id": "R5EmErkOeH8C"
   },
   "source": [
    "# <font color='green'>Problema A</font>"
   ]
  },
  {
   "cell_type": "markdown",
   "metadata": {
    "id": "rwHowJqteJx8"
   },
   "source": [
    "Evaluando nuestro dataset, es posible verificar que la **proporción de hombres** como jefes del hogar es de casi el **70%**. Necesitamos **seleccionar aleatoriamente grupos de 10 personas** para buscar diferencias en los ingresos de cada grupo. ¿Cuál es la **probabilidad de seleccionar un grupo que presente la misma proporción de la población**, es decir, seleccionar un grupo que esté **compuesto por 7 hombres y 3 mujeres**?\n",
    "\n",
    "#### <font color='blue'>Como tarea adicional, verifique la proporción real de hombres y mujeres en nuestro dataset.</font>\n",
    "\n",
    "#### <font color='red'>Compruebe qué tipo de distribución de probabilidad se ajusta a este diseño.</font>"
   ]
  },
  {
   "cell_type": "markdown",
   "metadata": {
    "id": "FJwPA67Teom6"
   },
   "source": [
    "### Solución"
   ]
  },
  {
   "cell_type": "code",
   "execution_count": null,
   "metadata": {
    "id": "sgz1b-bneJIg"
   },
   "outputs": [],
   "source": []
  },
  {
   "cell_type": "markdown",
   "metadata": {
    "id": "5qOv4eoTe6cD"
   },
   "source": [
    "# <font color='green'>Problema B</font>"
   ]
  },
  {
   "cell_type": "markdown",
   "metadata": {
    "id": "DYlXhCvPe7Gt"
   },
   "source": [
    "Continuando con la pregunta anterior, **cuántos grupos de 10 personas** tendríamos que seleccionar al azar para obtener **100 grupos compuestos por 7 hombres y 3 mujeres**?\n",
    "\n",
    "#### <font color='red'>Recuerde cómo calcular la media de una distribución binomial</font>"
   ]
  },
  {
   "cell_type": "markdown",
   "metadata": {
    "id": "zoRfWv-nfE2u"
   },
   "source": [
    "### Solución"
   ]
  },
  {
   "cell_type": "markdown",
   "metadata": {
    "id": "BJbWuZBNfMEL"
   },
   "source": [
    "### Media de la distribución binomial\n",
    "\n",
    "# $$\\mu=nXp$$"
   ]
  },
  {
   "cell_type": "code",
   "execution_count": null,
   "metadata": {
    "id": "8lu5MCtCe-2W"
   },
   "outputs": [],
   "source": []
  },
  {
   "cell_type": "markdown",
   "metadata": {
    "id": "uqmRQOTCfYGD"
   },
   "source": [
    "# <font color='green'>Problema C</font>"
   ]
  },
  {
   "cell_type": "markdown",
   "metadata": {
    "id": "_2NbpF97fYlZ"
   },
   "source": [
    "Un cliente nos encargó realizar un estudio para evaluar los **ingresos de los jefes de hogar**. Para ello, necesitamos realizar una nueva colecta de datos, es decir, una nueva investigación de campo. Después de la reunión con el cliente, fue posible enumerar el siguiente conjunto de informaciones:\n",
    "\n",
    "> A. El resultado de la encuesta debe estar listo en **2 meses**;\n",
    "\n",
    "> B. Solo tendremos **$\\$$150000.00** en recursos para realizar la investigación de campo; y\n",
    "    \n",
    "> C. Sería interesante un **margen de error no superior al 10% con respecto a la media estimada**.\n",
    "\n",
    "En nuestra experiencia con estudios de este tipo, sabemos que el **costo promedio por entrevistado ronda los $\\$$100.00**. Con este conjunto de hechos, evalúe y obtenga el siguiente conjunto de informaciones para transmitir al cliente:\n",
    "\n",
    "\n",
    "> 1. Para obtener una estimación de los parámetros de la población (ingresos de los jefes del hogar), realice un muestreo aleatorio simple en nuestro conjunto de datos. Esta muestra debe contener 200 elementos (use random_state = 101 para asegurarse de que el mismo experimento se puede realizar nuevamente). Obtenga la media y la desviación estándar de esta muestra.\n",
    "    \n",
    "> 2. Para el **margen de error** especificado por el cliente, obtener los **tamaños de muestra** necesarios para garantizar los **90%, 95% y 99% de confianza**.\n",
    "    \n",
    "> 3. Obtenga el **costo de la investigación** para los tres niveles de confianza.\n",
    "    \n",
    "> 4. Para el nivel de confianza más alto (dentro del presupuesto disponible), obtenga un **intervalo de confianza para la media de la población**.\n",
    "    \n",
    "> 5. Asumiendo el **nivel de confianza elegido en el ítem anterior**, ¿qué **margen de error** se puede considerar utilizando todos los recursos puestos a disposición por el cliente?\n",
    "    \n",
    "> 6. Suponiendo un **nivel de confianza del 95%**, **cuánto le costaría al cliente la encuesta** si se considerara un **margen de error de solo el 5%** en relación con la media estimada?"
   ]
  },
  {
   "cell_type": "markdown",
   "metadata": {
    "id": "0xcIy8Uogtvd"
   },
   "source": [
    "# <font color='blue'>Solución para el punto 1</font>"
   ]
  },
  {
   "cell_type": "markdown",
   "metadata": {
    "id": "aZ8V-5lHguUq"
   },
   "source": [
    "### Selección de una muestra aleatoria simple\n",
    "\n",
    "#### <font color='red'>Recuerde usar *random_state = 101*</font>"
   ]
  },
  {
   "cell_type": "code",
   "execution_count": null,
   "metadata": {
    "id": "kygbAy7egxry"
   },
   "outputs": [],
   "source": []
  },
  {
   "cell_type": "code",
   "execution_count": null,
   "metadata": {
    "id": "kAvgq_ZggnL7"
   },
   "outputs": [],
   "source": []
  },
  {
   "cell_type": "code",
   "execution_count": null,
   "metadata": {
    "id": "c833ZvkHg4KX"
   },
   "outputs": [],
   "source": []
  },
  {
   "cell_type": "markdown",
   "metadata": {
    "id": "qIp60d1Qg-07"
   },
   "source": [
    "### Datos del problema"
   ]
  },
  {
   "cell_type": "code",
   "execution_count": null,
   "metadata": {
    "id": "-GMduyRCg_80"
   },
   "outputs": [],
   "source": []
  },
  {
   "cell_type": "markdown",
   "metadata": {
    "id": "Z52iXGFChRu0"
   },
   "source": [
    "# <font color='blue'>Solución para el punto 2</font>"
   ]
  },
  {
   "cell_type": "markdown",
   "metadata": {
    "id": "HBPwI85LhSwd"
   },
   "source": [
    "### Obtener el margen de error\n",
    "\n",
    "#### <font color='red'>Recuerde que el margen de error debe estar en la misma unidad que la variable en estudio ($)</font>"
   ]
  },
  {
   "cell_type": "code",
   "execution_count": null,
   "metadata": {
    "id": "vO_-_inEhpTF"
   },
   "outputs": [],
   "source": [
    "\n",
    "print('El margen de error es aproximadamente de $%0.2f' % (e))"
   ]
  },
  {
   "cell_type": "markdown",
   "metadata": {
    "id": "fJmieHpeh9FB"
   },
   "source": [
    "### Tamaño de la muestra ($1 - \\alpha = 90\\%$)"
   ]
  },
  {
   "cell_type": "code",
   "execution_count": null,
   "metadata": {
    "id": "QwDVn__KiB50"
   },
   "outputs": [],
   "source": []
  },
  {
   "cell_type": "code",
   "execution_count": null,
   "metadata": {
    "id": "yuLr2thNiEbC"
   },
   "outputs": [],
   "source": [
    "\n",
    "print('Para un nivel de confianza del 90%% debemos seleccionar una muestra de %s elementos.' % n_confianza_90)"
   ]
  },
  {
   "cell_type": "markdown",
   "metadata": {
    "id": "nOJ2cPW9klno"
   },
   "source": [
    "### Tamaño de la muestra ($1 - \\alpha = 95\\%$)"
   ]
  },
  {
   "cell_type": "code",
   "execution_count": null,
   "metadata": {
    "id": "fDsjMDCRkmrs"
   },
   "outputs": [],
   "source": []
  },
  {
   "cell_type": "code",
   "execution_count": null,
   "metadata": {
    "id": "P4n6kcGCkqx1"
   },
   "outputs": [],
   "source": [
    "\n",
    "print('Para un nivel de confianza del 95%% debemos seleccionar una muestra de %s elementos.' % n_confianza_95)"
   ]
  },
  {
   "cell_type": "markdown",
   "metadata": {
    "id": "94ZxG7WvlD0-"
   },
   "source": [
    "### Tamaño de la muestra ($1 - \\alpha = 99\\%$)"
   ]
  },
  {
   "cell_type": "code",
   "execution_count": null,
   "metadata": {
    "id": "Ze7hVIHJlEth"
   },
   "outputs": [],
   "source": []
  },
  {
   "cell_type": "code",
   "execution_count": null,
   "metadata": {
    "id": "MYW0KppjlK4k"
   },
   "outputs": [],
   "source": [
    "\n",
    "print('Para un nivel de confianza del 99%% debemos seleccionar una muestra de %s elementos.' % n_confianza_99)"
   ]
  },
  {
   "cell_type": "markdown",
   "metadata": {
    "id": "DBs7SHkGlY8k"
   },
   "source": [
    "# <font color='blue'>Solución para el punto 3</font>"
   ]
  },
  {
   "cell_type": "markdown",
   "metadata": {
    "id": "9gvQgX_ulZ6O"
   },
   "source": [
    "### Coste de la encuesta para un nivel de confianza del 90%"
   ]
  },
  {
   "cell_type": "code",
   "execution_count": null,
   "metadata": {
    "id": "5D0qmumYldj2"
   },
   "outputs": [],
   "source": [
    "\n",
    "print('Para un nivel de confianza del 90%, el costo de la encuesta sería $ {:,.2f}.'.format(costo_confianza_90))"
   ]
  },
  {
   "cell_type": "markdown",
   "metadata": {
    "id": "AgTdCwG0l_my"
   },
   "source": [
    "### Coste de la encuesta para un nivel de confianza del 95%"
   ]
  },
  {
   "cell_type": "code",
   "execution_count": null,
   "metadata": {
    "id": "SMuiytRpmHc1"
   },
   "outputs": [],
   "source": [
    "\n",
    "print('Para un nivel de confianza del 95%, el costo de la encuesta sería $ {:,.2f}.'.format(costo_confianza_95))"
   ]
  },
  {
   "cell_type": "markdown",
   "metadata": {
    "id": "OInw95_AmOM2"
   },
   "source": [
    "### Coste de la encuesta para un nivel de confianza del 99%"
   ]
  },
  {
   "cell_type": "code",
   "execution_count": null,
   "metadata": {
    "id": "g9AI0vy0mPKF"
   },
   "outputs": [],
   "source": [
    "\n",
    "print('Para un nivel de confianza del 99%, el costo de la encuesta sería $ {:,.2f}.'.format(costo_confianza_99))"
   ]
  },
  {
   "cell_type": "markdown",
   "metadata": {
    "id": "aXWJUVGamZwM"
   },
   "source": [
    "# <font color='blue'>Solución para el punto 4</font>"
   ]
  },
  {
   "cell_type": "code",
   "execution_count": null,
   "metadata": {
    "id": "l7dcXJ08ma0t"
   },
   "outputs": [],
   "source": []
  },
  {
   "cell_type": "markdown",
   "metadata": {
    "id": "pT3hkJIBmrwA"
   },
   "source": [
    "# <font color='blue'>Solución para el punto 5</font>"
   ]
  },
  {
   "cell_type": "code",
   "execution_count": null,
   "metadata": {
    "id": "PESQB7cBmsr7"
   },
   "outputs": [],
   "source": []
  },
  {
   "cell_type": "code",
   "execution_count": null,
   "metadata": {
    "id": "XfNufdTPm2iq"
   },
   "outputs": [],
   "source": []
  },
  {
   "cell_type": "code",
   "execution_count": null,
   "metadata": {
    "id": "AT3RVK_lm8QO"
   },
   "outputs": [],
   "source": [
    "\n",
    "print('El nuevo margen de error es {:.2f}%.'.format(e_porcentual * 100))"
   ]
  },
  {
   "cell_type": "markdown",
   "metadata": {
    "id": "JLa81bm8nUZC"
   },
   "source": [
    "# <font color='blue'>Solución para el punto 6</font>"
   ]
  },
  {
   "cell_type": "code",
   "execution_count": null,
   "metadata": {
    "id": "ZrJANm5bnYur"
   },
   "outputs": [],
   "source": [
    "\n",
    "print('El margen de error es aproximadamente de $%0.2f' % (e))"
   ]
  },
  {
   "cell_type": "code",
   "execution_count": null,
   "metadata": {
    "id": "_FD6vhDknyrk"
   },
   "outputs": [],
   "source": [
    "\n",
    "print('Para un nivel de confianza del 95%% debemos seleccionar una muestra de %s elementos.' % n_confianza_95)"
   ]
  },
  {
   "cell_type": "code",
   "execution_count": null,
   "metadata": {
    "id": "y4bqNRvLoAPS"
   },
   "outputs": [],
   "source": [
    "\n",
    "print('Para un nivel de confianza del 95%, el costo de la encuesta sería de ${:,.2f}.'.format(costo_confianza_95))"
   ]
  }
 ],
 "metadata": {
  "colab": {
   "provenance": []
  },
  "kernelspec": {
   "display_name": "Python 3 (ipykernel)",
   "language": "python",
   "name": "python3"
  },
  "language_info": {
   "codemirror_mode": {
    "name": "ipython",
    "version": 3
   },
   "file_extension": ".py",
   "mimetype": "text/x-python",
   "name": "python",
   "nbconvert_exporter": "python",
   "pygments_lexer": "ipython3",
   "version": "3.9.12"
  }
 },
 "nbformat": 4,
 "nbformat_minor": 1
}
