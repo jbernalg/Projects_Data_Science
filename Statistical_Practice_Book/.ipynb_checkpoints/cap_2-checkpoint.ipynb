{
 "cells": [
  {
   "cell_type": "markdown",
   "metadata": {},
   "source": [
    "# Capitulo 2 : Distribuciones de Datos y Muestras"
   ]
  },
  {
   "cell_type": "markdown",
   "metadata": {},
   "source": [
    "## Carga de los datos"
   ]
  },
  {
   "cell_type": "code",
   "execution_count": 1,
   "metadata": {},
   "outputs": [],
   "source": [
    "# importamos librerias\n",
    "import pandas as pd\n",
    "import seaborn as sns\n",
    "from pathlib import Path\n",
    "import matplotlib.pyplot as plt"
   ]
  },
  {
   "cell_type": "code",
   "execution_count": 2,
   "metadata": {},
   "outputs": [],
   "source": [
    "try:\n",
    "    import common\n",
    "    DATA = common.dataDirectory()\n",
    "except ImportError:\n",
    "    DATA = Path().resolve() / 'data'"
   ]
  },
  {
   "cell_type": "markdown",
   "metadata": {},
   "source": [
    "Definimos rutas a los conjuntos de datos. Si no mantienes los datos en el mismo directorio que el codigo, adapte los nombres de las rutas"
   ]
  },
  {
   "cell_type": "code",
   "execution_count": 3,
   "metadata": {},
   "outputs": [],
   "source": [
    "LOANS_INCOME_CSV = DATA / 'loans_income.csv'\n",
    "SP500_DATA_CSV = DATA / 'sp500_data.csv.gz'"
   ]
  },
  {
   "cell_type": "markdown",
   "metadata": {},
   "source": [
    "## Distribucion Muestral del Estadistico\n",
    "\n",
    "Los datos que vamos a utilizar refieren a los ingresos anuales de los solicitantes de prestamos de un Club. Vamos a probar que la distribucion muestral de un estadistico como la Media adopta la forma de campana y que a mientras la muestra sea cada vez mas grande mas estrecha se vuelva tal distribucion"
   ]
  },
  {
   "cell_type": "code",
   "execution_count": 4,
   "metadata": {},
   "outputs": [
    {
     "data": {
      "text/html": [
       "<div>\n",
       "<style scoped>\n",
       "    .dataframe tbody tr th:only-of-type {\n",
       "        vertical-align: middle;\n",
       "    }\n",
       "\n",
       "    .dataframe tbody tr th {\n",
       "        vertical-align: top;\n",
       "    }\n",
       "\n",
       "    .dataframe thead th {\n",
       "        text-align: right;\n",
       "    }\n",
       "</style>\n",
       "<table border=\"1\" class=\"dataframe\">\n",
       "  <thead>\n",
       "    <tr style=\"text-align: right;\">\n",
       "      <th></th>\n",
       "      <th>x</th>\n",
       "    </tr>\n",
       "  </thead>\n",
       "  <tbody>\n",
       "    <tr>\n",
       "      <th>0</th>\n",
       "      <td>67000</td>\n",
       "    </tr>\n",
       "    <tr>\n",
       "      <th>1</th>\n",
       "      <td>52000</td>\n",
       "    </tr>\n",
       "    <tr>\n",
       "      <th>2</th>\n",
       "      <td>100000</td>\n",
       "    </tr>\n",
       "    <tr>\n",
       "      <th>3</th>\n",
       "      <td>78762</td>\n",
       "    </tr>\n",
       "    <tr>\n",
       "      <th>4</th>\n",
       "      <td>37041</td>\n",
       "    </tr>\n",
       "  </tbody>\n",
       "</table>\n",
       "</div>"
      ],
      "text/plain": [
       "        x\n",
       "0   67000\n",
       "1   52000\n",
       "2  100000\n",
       "3   78762\n",
       "4   37041"
      ]
     },
     "execution_count": 4,
     "metadata": {},
     "output_type": "execute_result"
    }
   ],
   "source": [
    "# cargar datos\n",
    "loans_income = pd.read_csv(LOANS_INCOME_CSV)\n",
    "loans_income.head()"
   ]
  },
  {
   "cell_type": "markdown",
   "metadata": {},
   "source": [
    "Los datos vienen en una columna de un dataframe. Para mayor comodidad en el tratamiento, convertimos los datos en una serie."
   ]
  },
  {
   "cell_type": "code",
   "execution_count": 5,
   "metadata": {},
   "outputs": [
    {
     "data": {
      "text/plain": [
       "0         67000\n",
       "1         52000\n",
       "2        100000\n",
       "3         78762\n",
       "4         37041\n",
       "          ...  \n",
       "49995     40000\n",
       "49996     54000\n",
       "49997     50000\n",
       "49998     82000\n",
       "49999     70000\n",
       "Name: x, Length: 50000, dtype: int64"
      ]
     },
     "execution_count": 5,
     "metadata": {},
     "output_type": "execute_result"
    }
   ],
   "source": [
    "# convertir en una serie el dataframe. Debe poseer una columna\n",
    "loans_income = pd.read_csv(LOANS_INCOME_CSV).squeeze('columns')\n",
    "loans_income"
   ]
  },
  {
   "cell_type": "markdown",
   "metadata": {},
   "source": [
    "De los datos tomamos una muestra de 1000 valores que corresponde al ingreso de 1000 solicitantes de prestamo."
   ]
  },
  {
   "cell_type": "code",
   "execution_count": 6,
   "metadata": {},
   "outputs": [
    {
     "data": {
      "text/html": [
       "<div>\n",
       "<style scoped>\n",
       "    .dataframe tbody tr th:only-of-type {\n",
       "        vertical-align: middle;\n",
       "    }\n",
       "\n",
       "    .dataframe tbody tr th {\n",
       "        vertical-align: top;\n",
       "    }\n",
       "\n",
       "    .dataframe thead th {\n",
       "        text-align: right;\n",
       "    }\n",
       "</style>\n",
       "<table border=\"1\" class=\"dataframe\">\n",
       "  <thead>\n",
       "    <tr style=\"text-align: right;\">\n",
       "      <th></th>\n",
       "      <th>income</th>\n",
       "      <th>type</th>\n",
       "    </tr>\n",
       "  </thead>\n",
       "  <tbody>\n",
       "    <tr>\n",
       "      <th>25817</th>\n",
       "      <td>125000</td>\n",
       "      <td>Data</td>\n",
       "    </tr>\n",
       "    <tr>\n",
       "      <th>26507</th>\n",
       "      <td>60000</td>\n",
       "      <td>Data</td>\n",
       "    </tr>\n",
       "    <tr>\n",
       "      <th>40738</th>\n",
       "      <td>49920</td>\n",
       "      <td>Data</td>\n",
       "    </tr>\n",
       "    <tr>\n",
       "      <th>31195</th>\n",
       "      <td>64000</td>\n",
       "      <td>Data</td>\n",
       "    </tr>\n",
       "    <tr>\n",
       "      <th>15161</th>\n",
       "      <td>75000</td>\n",
       "      <td>Data</td>\n",
       "    </tr>\n",
       "  </tbody>\n",
       "</table>\n",
       "</div>"
      ],
      "text/plain": [
       "       income  type\n",
       "25817  125000  Data\n",
       "26507   60000  Data\n",
       "40738   49920  Data\n",
       "31195   64000  Data\n",
       "15161   75000  Data"
      ]
     },
     "execution_count": 6,
     "metadata": {},
     "output_type": "execute_result"
    }
   ],
   "source": [
    "# Creamos la muestra de los 1000 valores\n",
    "sample_data = pd.DataFrame({\n",
    "    'income':loans_income.sample(1000),\n",
    "    'type':'Data'\n",
    "})\n",
    "sample_data.head()"
   ]
  },
  {
   "cell_type": "markdown",
   "metadata": {},
   "source": [
    "Ahora, creamos una muestra de 1000 medias para 5 valores, es decir, se toman los ingresos de 5 solicitantes aleatorios y se calcula su media, luego se toman los ingresos nuevamente de 5 solicitantes diferentes y se calcula su media. Este paso se repite 1000 veces y se almacenan en un dataframe"
   ]
  },
  {
   "cell_type": "code",
   "execution_count": 7,
   "metadata": {},
   "outputs": [
    {
     "data": {
      "text/html": [
       "<div>\n",
       "<style scoped>\n",
       "    .dataframe tbody tr th:only-of-type {\n",
       "        vertical-align: middle;\n",
       "    }\n",
       "\n",
       "    .dataframe tbody tr th {\n",
       "        vertical-align: top;\n",
       "    }\n",
       "\n",
       "    .dataframe thead th {\n",
       "        text-align: right;\n",
       "    }\n",
       "</style>\n",
       "<table border=\"1\" class=\"dataframe\">\n",
       "  <thead>\n",
       "    <tr style=\"text-align: right;\">\n",
       "      <th></th>\n",
       "      <th>income</th>\n",
       "      <th>type</th>\n",
       "    </tr>\n",
       "  </thead>\n",
       "  <tbody>\n",
       "    <tr>\n",
       "      <th>0</th>\n",
       "      <td>55614.2</td>\n",
       "      <td>Media de 5</td>\n",
       "    </tr>\n",
       "    <tr>\n",
       "      <th>1</th>\n",
       "      <td>73300.0</td>\n",
       "      <td>Media de 5</td>\n",
       "    </tr>\n",
       "    <tr>\n",
       "      <th>2</th>\n",
       "      <td>96200.0</td>\n",
       "      <td>Media de 5</td>\n",
       "    </tr>\n",
       "    <tr>\n",
       "      <th>3</th>\n",
       "      <td>73600.0</td>\n",
       "      <td>Media de 5</td>\n",
       "    </tr>\n",
       "    <tr>\n",
       "      <th>4</th>\n",
       "      <td>49600.0</td>\n",
       "      <td>Media de 5</td>\n",
       "    </tr>\n",
       "  </tbody>\n",
       "</table>\n",
       "</div>"
      ],
      "text/plain": [
       "    income        type\n",
       "0  55614.2  Media de 5\n",
       "1  73300.0  Media de 5\n",
       "2  96200.0  Media de 5\n",
       "3  73600.0  Media de 5\n",
       "4  49600.0  Media de 5"
      ]
     },
     "execution_count": 7,
     "metadata": {},
     "output_type": "execute_result"
    }
   ],
   "source": [
    "# creamos la muestra de 1000 media para 5 valores\n",
    "sample_mean_05 = pd.DataFrame({\n",
    "    'income':[loans_income.sample(5).mean() for _ in range(1000)],\n",
    "    'type':'Media de 5'\n",
    "})\n",
    "sample_mean_05.head()"
   ]
  },
  {
   "cell_type": "markdown",
   "metadata": {},
   "source": [
    "Finalmente, creamos una muestra de 1000 media para 20 valores siguiendo el mismo procedimiento anterior. "
   ]
  },
  {
   "cell_type": "code",
   "execution_count": 8,
   "metadata": {},
   "outputs": [
    {
     "data": {
      "text/html": [
       "<div>\n",
       "<style scoped>\n",
       "    .dataframe tbody tr th:only-of-type {\n",
       "        vertical-align: middle;\n",
       "    }\n",
       "\n",
       "    .dataframe tbody tr th {\n",
       "        vertical-align: top;\n",
       "    }\n",
       "\n",
       "    .dataframe thead th {\n",
       "        text-align: right;\n",
       "    }\n",
       "</style>\n",
       "<table border=\"1\" class=\"dataframe\">\n",
       "  <thead>\n",
       "    <tr style=\"text-align: right;\">\n",
       "      <th></th>\n",
       "      <th>income</th>\n",
       "      <th>type</th>\n",
       "    </tr>\n",
       "  </thead>\n",
       "  <tbody>\n",
       "    <tr>\n",
       "      <th>0</th>\n",
       "      <td>57888.2</td>\n",
       "      <td>Media de 20</td>\n",
       "    </tr>\n",
       "    <tr>\n",
       "      <th>1</th>\n",
       "      <td>64323.5</td>\n",
       "      <td>Media de 20</td>\n",
       "    </tr>\n",
       "    <tr>\n",
       "      <th>2</th>\n",
       "      <td>72449.8</td>\n",
       "      <td>Media de 20</td>\n",
       "    </tr>\n",
       "    <tr>\n",
       "      <th>3</th>\n",
       "      <td>65276.1</td>\n",
       "      <td>Media de 20</td>\n",
       "    </tr>\n",
       "    <tr>\n",
       "      <th>4</th>\n",
       "      <td>66855.0</td>\n",
       "      <td>Media de 20</td>\n",
       "    </tr>\n",
       "  </tbody>\n",
       "</table>\n",
       "</div>"
      ],
      "text/plain": [
       "    income         type\n",
       "0  57888.2  Media de 20\n",
       "1  64323.5  Media de 20\n",
       "2  72449.8  Media de 20\n",
       "3  65276.1  Media de 20\n",
       "4  66855.0  Media de 20"
      ]
     },
     "execution_count": 8,
     "metadata": {},
     "output_type": "execute_result"
    }
   ],
   "source": [
    "# creamos la muestra de 1000 media para 20 valores\n",
    "sample_mean_20 = pd.DataFrame({\n",
    "    'income':[loans_income.sample(20).mean() for _ in range(1000)],\n",
    "    'type':'Media de 20'\n",
    "})\n",
    "sample_mean_20.head()"
   ]
  },
  {
   "cell_type": "code",
   "execution_count": 9,
   "metadata": {},
   "outputs": [
    {
     "name": "stdout",
     "output_type": "stream",
     "text": [
      "         income  type\n",
      "25817  125000.0  Data\n",
      "26507   60000.0  Data\n",
      "40738   49920.0  Data\n",
      "31195   64000.0  Data\n",
      "15161   75000.0  Data\n"
     ]
    }
   ],
   "source": [
    "# Agrupamos los resultados en un solo df\n",
    "results = pd.concat([sample_data, sample_mean_05, sample_mean_20])\n",
    "print(results.head())"
   ]
  },
  {
   "cell_type": "code",
   "execution_count": 10,
   "metadata": {},
   "outputs": [
    {
     "data": {
      "image/png": "[encoded data removed]",
      "text/plain": [
       "<Figure size 288x432 with 3 Axes>"
      ]
     },
     "metadata": {
      "needs_background": "light"
     },
     "output_type": "display_data"
    }
   ],
   "source": [
    "# Graficamos los histogramas\n",
    "grid = sns.FacetGrid(\n",
    "    results, \n",
    "    col='type', # numero de graficos \n",
    "    col_wrap=1, # ordenado en fila(0) o columnas(1)\n",
    "    height=2,   # ancho de graficos\n",
    "    aspect=2,   # relacion entra ancho y alto del grafico\n",
    ") \n",
    "\n",
    "# Grafico para cada type\n",
    "grid.map(plt.hist, 'income', range=[0, 200000], bins=40)\n",
    "grid.set_axis_labels('Income', 'Count') # titulo de los ejes\n",
    "grid.set_titles('{col_name}') # titulo de cada grafico\n",
    "plt.tight_layout();\n"
   ]
  },
  {
   "cell_type": "markdown",
   "metadata": {},
   "source": [
    "Ahora, probemos con otra metrica como la Mediana y veamos su distribucion en las diferentes muestras"
   ]
  },
  {
   "cell_type": "code",
   "execution_count": 11,
   "metadata": {},
   "outputs": [
    {
     "data": {
      "text/html": [
       "<div>\n",
       "<style scoped>\n",
       "    .dataframe tbody tr th:only-of-type {\n",
       "        vertical-align: middle;\n",
       "    }\n",
       "\n",
       "    .dataframe tbody tr th {\n",
       "        vertical-align: top;\n",
       "    }\n",
       "\n",
       "    .dataframe thead th {\n",
       "        text-align: right;\n",
       "    }\n",
       "</style>\n",
       "<table border=\"1\" class=\"dataframe\">\n",
       "  <thead>\n",
       "    <tr style=\"text-align: right;\">\n",
       "      <th></th>\n",
       "      <th>income</th>\n",
       "      <th>type</th>\n",
       "    </tr>\n",
       "  </thead>\n",
       "  <tbody>\n",
       "    <tr>\n",
       "      <th>25817</th>\n",
       "      <td>125000</td>\n",
       "      <td>Data</td>\n",
       "    </tr>\n",
       "    <tr>\n",
       "      <th>26507</th>\n",
       "      <td>60000</td>\n",
       "      <td>Data</td>\n",
       "    </tr>\n",
       "    <tr>\n",
       "      <th>40738</th>\n",
       "      <td>49920</td>\n",
       "      <td>Data</td>\n",
       "    </tr>\n",
       "    <tr>\n",
       "      <th>31195</th>\n",
       "      <td>64000</td>\n",
       "      <td>Data</td>\n",
       "    </tr>\n",
       "    <tr>\n",
       "      <th>15161</th>\n",
       "      <td>75000</td>\n",
       "      <td>Data</td>\n",
       "    </tr>\n",
       "  </tbody>\n",
       "</table>\n",
       "</div>"
      ],
      "text/plain": [
       "       income  type\n",
       "25817  125000  Data\n",
       "26507   60000  Data\n",
       "40738   49920  Data\n",
       "31195   64000  Data\n",
       "15161   75000  Data"
      ]
     },
     "execution_count": 11,
     "metadata": {},
     "output_type": "execute_result"
    }
   ],
   "source": [
    "# Creamos la muestra de los 1000 valores\n",
    "sample2_data = pd.DataFrame({\n",
    "    'income':loans_income.sample(1000),\n",
    "    'type':'Data'\n",
    "})\n",
    "sample_data.head()"
   ]
  },
  {
   "cell_type": "code",
   "execution_count": 12,
   "metadata": {},
   "outputs": [
    {
     "data": {
      "text/html": [
       "<div>\n",
       "<style scoped>\n",
       "    .dataframe tbody tr th:only-of-type {\n",
       "        vertical-align: middle;\n",
       "    }\n",
       "\n",
       "    .dataframe tbody tr th {\n",
       "        vertical-align: top;\n",
       "    }\n",
       "\n",
       "    .dataframe thead th {\n",
       "        text-align: right;\n",
       "    }\n",
       "</style>\n",
       "<table border=\"1\" class=\"dataframe\">\n",
       "  <thead>\n",
       "    <tr style=\"text-align: right;\">\n",
       "      <th></th>\n",
       "      <th>income</th>\n",
       "      <th>type</th>\n",
       "    </tr>\n",
       "  </thead>\n",
       "  <tbody>\n",
       "    <tr>\n",
       "      <th>0</th>\n",
       "      <td>97400.0</td>\n",
       "      <td>Mediana de 5</td>\n",
       "    </tr>\n",
       "    <tr>\n",
       "      <th>1</th>\n",
       "      <td>80000.0</td>\n",
       "      <td>Mediana de 5</td>\n",
       "    </tr>\n",
       "    <tr>\n",
       "      <th>2</th>\n",
       "      <td>40000.0</td>\n",
       "      <td>Mediana de 5</td>\n",
       "    </tr>\n",
       "    <tr>\n",
       "      <th>3</th>\n",
       "      <td>56000.0</td>\n",
       "      <td>Mediana de 5</td>\n",
       "    </tr>\n",
       "    <tr>\n",
       "      <th>4</th>\n",
       "      <td>73000.0</td>\n",
       "      <td>Mediana de 5</td>\n",
       "    </tr>\n",
       "  </tbody>\n",
       "</table>\n",
       "</div>"
      ],
      "text/plain": [
       "    income          type\n",
       "0  97400.0  Mediana de 5\n",
       "1  80000.0  Mediana de 5\n",
       "2  40000.0  Mediana de 5\n",
       "3  56000.0  Mediana de 5\n",
       "4  73000.0  Mediana de 5"
      ]
     },
     "execution_count": 12,
     "metadata": {},
     "output_type": "execute_result"
    }
   ],
   "source": [
    "# creamos la muestra de 1000 media para 5 valores\n",
    "sample2_mean_05 = pd.DataFrame({\n",
    "    'income':[loans_income.sample(5).median() for _ in range(1000)],\n",
    "    'type':'Mediana de 5'\n",
    "})\n",
    "sample2_mean_05.head()"
   ]
  },
  {
   "cell_type": "code",
   "execution_count": 13,
   "metadata": {},
   "outputs": [
    {
     "data": {
      "text/html": [
       "<div>\n",
       "<style scoped>\n",
       "    .dataframe tbody tr th:only-of-type {\n",
       "        vertical-align: middle;\n",
       "    }\n",
       "\n",
       "    .dataframe tbody tr th {\n",
       "        vertical-align: top;\n",
       "    }\n",
       "\n",
       "    .dataframe thead th {\n",
       "        text-align: right;\n",
       "    }\n",
       "</style>\n",
       "<table border=\"1\" class=\"dataframe\">\n",
       "  <thead>\n",
       "    <tr style=\"text-align: right;\">\n",
       "      <th></th>\n",
       "      <th>income</th>\n",
       "      <th>type</th>\n",
       "    </tr>\n",
       "  </thead>\n",
       "  <tbody>\n",
       "    <tr>\n",
       "      <th>0</th>\n",
       "      <td>62000.0</td>\n",
       "      <td>Mediana de 20</td>\n",
       "    </tr>\n",
       "    <tr>\n",
       "      <th>1</th>\n",
       "      <td>69000.0</td>\n",
       "      <td>Mediana de 20</td>\n",
       "    </tr>\n",
       "    <tr>\n",
       "      <th>2</th>\n",
       "      <td>66250.0</td>\n",
       "      <td>Mediana de 20</td>\n",
       "    </tr>\n",
       "    <tr>\n",
       "      <th>3</th>\n",
       "      <td>80500.0</td>\n",
       "      <td>Mediana de 20</td>\n",
       "    </tr>\n",
       "    <tr>\n",
       "      <th>4</th>\n",
       "      <td>52250.0</td>\n",
       "      <td>Mediana de 20</td>\n",
       "    </tr>\n",
       "  </tbody>\n",
       "</table>\n",
       "</div>"
      ],
      "text/plain": [
       "    income           type\n",
       "0  62000.0  Mediana de 20\n",
       "1  69000.0  Mediana de 20\n",
       "2  66250.0  Mediana de 20\n",
       "3  80500.0  Mediana de 20\n",
       "4  52250.0  Mediana de 20"
      ]
     },
     "execution_count": 13,
     "metadata": {},
     "output_type": "execute_result"
    }
   ],
   "source": [
    "# creamos la muestra de 1000 media para 20 valores\n",
    "sample2_mean_20 = pd.DataFrame({\n",
    "    'income':[loans_income.sample(20).median() for _ in range(1000)],\n",
    "    'type':'Mediana de 20'\n",
    "})\n",
    "sample2_mean_20.head()"
   ]
  },
  {
   "cell_type": "code",
   "execution_count": 14,
   "metadata": {},
   "outputs": [
    {
     "name": "stdout",
     "output_type": "stream",
     "text": [
      "         income  type\n",
      "16975   16000.0  Data\n",
      "5905    40000.0  Data\n",
      "13207   95100.0  Data\n",
      "3900   105000.0  Data\n",
      "22461   84000.0  Data\n"
     ]
    }
   ],
   "source": [
    "# Agrupamos los resultados en un solo df\n",
    "results2 = pd.concat([sample2_data, sample2_mean_05, sample2_mean_20])\n",
    "print(results2.head())"
   ]
  },
  {
   "cell_type": "code",
   "execution_count": 15,
   "metadata": {},
   "outputs": [
    {
     "data": {
      "image/png": "[encoded data removed]",
      "text/plain": [
       "<Figure size 288x432 with 3 Axes>"
      ]
     },
     "metadata": {
      "needs_background": "light"
     },
     "output_type": "display_data"
    }
   ],
   "source": [
    "# Graficamos los histogramas\n",
    "grid = sns.FacetGrid(\n",
    "    results2, \n",
    "    col='type', # numero de graficos \n",
    "    col_wrap=1, # ordenado en fila(0) o columnas(1)\n",
    "    height=2,   # ancho de graficos\n",
    "    aspect=2,   # relacion entra ancho y alto del grafico\n",
    ") \n",
    "\n",
    "# Grafico para cada type\n",
    "grid.map(plt.hist, 'income', range=[0, 200000], bins=40)\n",
    "grid.set_axis_labels('Income', 'Count') # titulo de los ejes\n",
    "grid.set_titles('{col_name}') # titulo de cada grafico\n",
    "plt.tight_layout();"
   ]
  },
  {
   "cell_type": "markdown",
   "metadata": {},
   "source": [
    "Vemos el mismo resultado obtenido al utilizar la media"
   ]
  },
  {
   "cell_type": "markdown",
   "metadata": {},
   "source": [
    "## Bootstrap\n",
    "\n",
    "Vamos a estimar la mediana y su variabilidad para los ingresos de los clientes que solicitan un prestamo"
   ]
  },
  {
   "cell_type": "code",
   "execution_count": 16,
   "metadata": {},
   "outputs": [],
   "source": [
    "# importamos libreria para el remuestreo\n",
    "from sklearn.utils import resample"
   ]
  },
  {
   "cell_type": "code",
   "execution_count": 17,
   "metadata": {},
   "outputs": [
    {
     "name": "stdout",
     "output_type": "stream",
     "text": [
      "Estadistica del Bootstrap\n",
      "Mediana Original: 62000.0\n",
      "Sesgo: -80.06300000000192\n",
      "Error Estandar: 230.18540429695085\n"
     ]
    }
   ],
   "source": [
    "# creamos una lista donde guardamos los resultados\n",
    "results = []\n",
    "\n",
    "# numero de iteraciones de bootstrap: 1000\n",
    "for R in range(1000):\n",
    "    # tomamos una muestra con reposicion de los datos\n",
    "    sample = resample(loans_income)\n",
    "    # calculamos la mediana de la muestra y guardamos el resultado\n",
    "    results.append(sample.median())\n",
    "\n",
    "# convertimos la lista con los resultados en una serie\n",
    "results = pd.Series(results)\n",
    "\n",
    "# imprimimos los resultados\n",
    "print('Estadistica del Bootstrap')\n",
    "print(f'Mediana Original: {loans_income.median()}')\n",
    "print(f'Sesgo: {results.mean() - loans_income.median()}')\n",
    "print(f'Error Estandar: {results.std()}')"
   ]
  },
  {
   "cell_type": "markdown",
   "metadata": {},
   "source": [
    "Que resultados obtendriamos si variamos R? Probemos con R = 100"
   ]
  },
  {
   "cell_type": "code",
   "execution_count": 18,
   "metadata": {},
   "outputs": [
    {
     "name": "stdout",
     "output_type": "stream",
     "text": [
      "Estadistica del Bootstrap\n",
      "Mediana Original: 62000.0\n",
      "Sesgo: -64.99500000000262\n",
      "Error Estandar: 205.536701913146\n"
     ]
    }
   ],
   "source": [
    "# creamos una lista donde guardamos los resultados\n",
    "results = []\n",
    "\n",
    "# numero de iteraciones de bootstrap: 1000\n",
    "for R in range(100):\n",
    "    # tomamos una muestra con reposicion de los datos\n",
    "    sample = resample(loans_income)\n",
    "    # calculamos la mediana de la muestra y guardamos el resultado\n",
    "    results.append(sample.median())\n",
    "\n",
    "# convertimos la lista con los resultados en una serie\n",
    "results = pd.Series(results)\n",
    "\n",
    "# imprimimos los resultados\n",
    "print('Estadistica del Bootstrap')\n",
    "print(f'Mediana Original: {loans_income.median()}')\n",
    "print(f'Sesgo: {results.mean() - loans_income.median()}')\n",
    "print(f'Error Estandar: {results.std()}')"
   ]
  },
  {
   "cell_type": "markdown",
   "metadata": {},
   "source": [
    "En este caso, vemos como el sesgo aumenta es decir, los datos tienden a estar mas esparcidos. Ahora probemos con un R de 10.000"
   ]
  },
  {
   "cell_type": "code",
   "execution_count": 19,
   "metadata": {},
   "outputs": [
    {
     "name": "stdout",
     "output_type": "stream",
     "text": [
      "Estadistica del Bootstrap\n",
      "Mediana Original: 62000.0\n",
      "Sesgo: -76.40385000000242\n",
      "Error Estandar: 218.3900255288859\n"
     ]
    }
   ],
   "source": [
    "# creamos una lista donde guardamos los resultados\n",
    "results = []\n",
    "\n",
    "# numero de iteraciones de bootstrap: 1000\n",
    "for R in range(10000):\n",
    "    # tomamos una muestra con reposicion de los datos\n",
    "    sample = resample(loans_income)\n",
    "    # calculamos la mediana de la muestra y guardamos el resultado\n",
    "    results.append(sample.median())\n",
    "\n",
    "# convertimos la lista con los resultados en una serie\n",
    "results = pd.Series(results)\n",
    "\n",
    "# imprimimos los resultados\n",
    "print('Estadistica del Bootstrap')\n",
    "print(f'Mediana Original: {loans_income.median()}')\n",
    "print(f'Sesgo: {results.mean() - loans_income.median()}')\n",
    "print(f'Error Estandar: {results.std()}')"
   ]
  },
  {
   "cell_type": "markdown",
   "metadata": {},
   "source": [
    "Vemos que el sesgo disminuye a medida que aumentamos R, esto prueba lo dicho en la teoria sobre la cantidad de remuestreo que se requiere segun la precision que se desea."
   ]
  },
  {
   "cell_type": "markdown",
   "metadata": {},
   "source": [
    "## Intervalos de Confianza\n",
    "\n",
    "Vamos a estimar un intervalo de confianza del 90% para el ingreso anual medio de los solicitantes de prestamos, basados en una muestra de 20 solicitantes aleatorios, con la cual se generan 500 muestras bootstrap cuya media ha sido de 55.734$"
   ]
  },
  {
   "cell_type": "code",
   "execution_count": 20,
   "metadata": {},
   "outputs": [
    {
     "name": "stdout",
     "output_type": "stream",
     "text": [
      "68760.51844\n"
     ]
    }
   ],
   "source": [
    "# imprime la media de los ingresos anuales de toda la muestra\n",
    "print(loans_income.mean())"
   ]
  },
  {
   "cell_type": "code",
   "execution_count": 21,
   "metadata": {},
   "outputs": [],
   "source": [
    "# fijar una semilla aleatoria para asegurar la reproducibilidad de los datos\n",
    "import numpy as np\n",
    "np.random.seed(seed=3)"
   ]
  },
  {
   "cell_type": "code",
   "execution_count": 22,
   "metadata": {},
   "outputs": [
    {
     "data": {
      "text/plain": [
       "35437     54000\n",
       "16296     25000\n",
       "23122     75000\n",
       "9436      56000\n",
       "11959    116262\n",
       "3313      85000\n",
       "49651     13000\n",
       "2837      60000\n",
       "46465     54000\n",
       "26004     30000\n",
       "42728    160000\n",
       "26264     83300\n",
       "17830     34000\n",
       "8283      47000\n",
       "24455     24000\n",
       "24094     31000\n",
       "12649     26000\n",
       "46661     25000\n",
       "37609     21120\n",
       "10439     95000\n",
       "Name: x, dtype: int64"
      ]
     },
     "execution_count": 22,
     "metadata": {},
     "output_type": "execute_result"
    }
   ],
   "source": [
    "# Crear una muestra aleatoria sin reemplazo de 20 ingresos de la muestra completa\n",
    "sample20 = resample(loans_income, n_samples=20, replace=False)\n",
    "sample20"
   ]
  },
  {
   "cell_type": "code",
   "execution_count": 23,
   "metadata": {},
   "outputs": [
    {
     "data": {
      "text/plain": [
       "55734.1"
      ]
     },
     "execution_count": 23,
     "metadata": {},
     "output_type": "execute_result"
    }
   ],
   "source": [
    "# imprime la media de la muestra aleatoria de 20 ingresos\n",
    "sample20.mean()"
   ]
  },
  {
   "cell_type": "code",
   "execution_count": 24,
   "metadata": {},
   "outputs": [
    {
     "data": {
      "image/png": "[encoded data removed]",
      "text/plain": [
       "<Figure size 432x288 with 1 Axes>"
      ]
     },
     "metadata": {
      "needs_background": "light"
     },
     "output_type": "display_data"
    }
   ],
   "source": [
    "# creamos lista para almacenar las medias de las muestras bootstrap\n",
    "results = []\n",
    "\n",
    "# generar 500 muestras bootstrap\n",
    "for R in range(500):\n",
    "    # crea una muestra bootstrap de la muestra aleatoria de 20 ingresos\n",
    "    sample = resample(sample20)\n",
    "    # agrega la media de la muestra bootstrap a la lista\n",
    "    results.append(sample.mean())\n",
    "# Convierte la lista en una Serie\n",
    "results = pd.Series(results)\n",
    "\n",
    "# calcular los cuantiles 5 y 95 para estimar el intervalo de confianza del 90% para la\n",
    "# media de los ingresos\n",
    "intervalo_conf = list(results.quantile([0.05, 0.95]))\n",
    "# histograma con las medias de las muestras bootstrap\n",
    "ax = results.plot.hist(bins=30, figsize=(6, 4))\n",
    "# linea horizontal que representa el intervalo de confianza del 90%\n",
    "ax.plot(intervalo_conf, [55, 55], color='black')\n",
    "\n",
    "# itera sobre cada cuantil en el intervalo de confianza\n",
    "for x in intervalo_conf:\n",
    "    # linea vertical para cada cuantil\n",
    "    ax.plot([x, x], [0, 65], color='black')\n",
    "    # etiqueta el valor de cada cuantil\n",
    "    ax.text(x, 70, f'{x:.0f}', \n",
    "            horizontalalignment='center', verticalalignment='center')\n",
    "    # etiqueta el intervalo de confianza\n",
    "ax.text(sum(intervalo_conf) / 2, 60, 'intervalo del 90%',\n",
    "        horizontalalignment='center', verticalalignment='center')\n",
    "\n",
    "# calcula la media de las medias de las muestras bootstrap\n",
    "meanIncome = results.mean()\n",
    "# linea vertical punteada que representa la media de las medias de las muestras bootstrap\n",
    "ax.plot([meanIncome, meanIncome], [0, 50], color='black', linestyle='--')\n",
    "# etiqueta la media de las medias \n",
    "ax.text(meanIncome, 10, f'Mean: {meanIncome:.0f}',\n",
    "        bbox=dict(facecolor='white', edgecolor='white', alpha=0.5),\n",
    "        horizontalalignment='center', verticalalignment='center')\n",
    "\n",
    "# establece el limite del eje Y\n",
    "ax.set_ylim(0, 80)\n",
    "# etiqueta del eje Y\n",
    "ax.set_ylabel('Recuentos')\n",
    "# ajusta el grafico a la figura\n",
    "plt.tight_layout();"
   ]
  },
  {
   "cell_type": "markdown",
   "metadata": {},
   "source": [
    "Ahora, vamos a estimar un intervalo de confianza del 95% para el ingreso anual medio de los solicitantes de prestamos"
   ]
  },
  {
   "cell_type": "code",
   "execution_count": 25,
   "metadata": {
    "scrolled": true
   },
   "outputs": [
    {
     "data": {
      "image/png": "[encoded data removed]",
      "text/plain": [
       "<Figure size 432x288 with 1 Axes>"
      ]
     },
     "metadata": {
      "needs_background": "light"
     },
     "output_type": "display_data"
    }
   ],
   "source": [
    "# fijar una semilla aleatoria para asegurar la reproducibilidad de los datos\n",
    "np.random.seed(seed=3)\n",
    "\n",
    "# Crear una muestra aleatoria sin reemplazo de 20 ingresos de la muestra completa\n",
    "sample20 = resample(loans_income, n_samples=20, replace=False)\n",
    "\n",
    "# creamos lista para almacenar las medias de las muestras bootstrap\n",
    "results = []\n",
    "# generar 500 muestras bootstrap\n",
    "for nrepeat in range(500):\n",
    "    # crea una muestra bootstrap de la muestra aleatoria de 20 ingresos\n",
    "    sample = resample(sample20)\n",
    "    # agrega la media de la muestra bootstrap a la lista\n",
    "    results.append(sample.mean())\n",
    "# Convierte la lista en una Serie    \n",
    "results = pd.Series(results)\n",
    "\n",
    "# calcular los cuantiles 5 y 95 para estimar el intervalo de confianza del 90% para la\n",
    "# media de los ingresos\n",
    "intervalo_conf = list(results.quantile([0.05, 0.95]))\n",
    "# histograma con las medias de las muestras bootstrap\n",
    "ax = results.plot.hist(bins=30, figsize=(4, 3), color='C1')\n",
    "# línea punteada horizontal para representar el intervalo de confianza del 90%.\n",
    "ax.plot(intervalo_conf, [55, 55], color='black', linestyle='--')\n",
    "\n",
    "# iterar sobre cada cuantil calculado en el intervalo de confianza anterior\n",
    "for x in intervalo_conf:\n",
    "    # linea vertical para cada cuantil\n",
    "    ax.plot([x, x], [0, 60], color='black')\n",
    "# etiqueta del intervalo de confianza del 90%\n",
    "ax.text(82000, 50, \n",
    "        f'90% CI\\n[{intervalo_conf[0]:.0f}, {intervalo_conf[1]:.0f}]',\n",
    "       fontsize='small')\n",
    "\n",
    "# calcular los cuantiles 2.5 y 97.5 para estimar el intervalo de confianza del 95% \n",
    "# para la media de los ingresos\n",
    "intervalo_conf = list(results.quantile([0.025, 0.975]))\n",
    "# Histograma con las medias de las muestras bootstrap\n",
    "ax = results.plot.hist(bins=30, figsize=(6, 4))\n",
    "# línea punteada horizontal para representar el intervalo de confianza del 95%.\n",
    "ax.plot(intervalo_conf, [65, 65], color='black', linestyle='--')\n",
    "\n",
    "# iterar sobre cada cuantil calculado en el intervalo de confianza anterior\n",
    "for x in intervalo_conf:\n",
    "    # linea vertical para cada cuantil\n",
    "    ax.plot([x, x], [0, 70], color='black')\n",
    "# etiqueta del intervalo de confianza del 95%    \n",
    "ax.text(82000, 65, \n",
    "        f'95% CI\\n[{intervalo_conf[0]:.0f}, {intervalo_conf[1]:.0f}]',\n",
    "       fontsize='small')\n",
    "\n",
    "# Calculo de la media de las medias de las muestras bootstrap\n",
    "meanIncome = results.mean()\n",
    "# linea vertical punteada que representa la media de las medias de las muestras bootstrap\n",
    "ax.plot([meanIncome, meanIncome], [0, 50], color='black', linestyle='--')\n",
    "# etiqueta la media de las medias\n",
    "ax.text(meanIncome, 5, f'Mean: {meanIncome:.0f}',\n",
    "        bbox=dict(facecolor='white', edgecolor='white', alpha=0.5),\n",
    "        horizontalalignment='center', verticalalignment='center')\n",
    "# Se establece el límite del eje y del gráfico.\n",
    "ax.set_ylim(0, 80)\n",
    "# Se establece el límite del eje x del gráfico.\n",
    "ax.set_xlim(37000, 102000)\n",
    "# Se establecen los ticks del eje x del gráfico.\n",
    "ax.set_xticks([40000, 50000, 60000, 70000, 80000])\n",
    "# Etiqueta del eje Y\n",
    "ax.set_ylabel('Recuento');\n"
   ]
  },
  {
   "cell_type": "markdown",
   "metadata": {},
   "source": [
    "## Distribucion Normal"
   ]
  },
  {
   "cell_type": "markdown",
   "metadata": {},
   "source": [
    "### Diagrama Q-Q\n",
    "Vamos a crear un diagrama Q-Q para una muestra de 100 valores generados aleatoriamente a partir de una distribucion normal. Esta diagrama compara los cuantiles de la muestra de datos con los cuantiles de una distribucion teorica (en este caso, la distribucion normal). Si los puntos en el grafico siguen aproximadamente una linea recta, entonces los datos siguen la distribucion teorica."
   ]
  },
  {
   "cell_type": "code",
   "execution_count": 28,
   "metadata": {},
   "outputs": [
    {
     "data": {
      "image/png": "[encoded data removed]",
      "text/plain": [
       "<Figure size 432x432 with 1 Axes>"
      ]
     },
     "metadata": {
      "needs_background": "light"
     },
     "output_type": "display_data"
    }
   ],
   "source": [
    "# libreria para el diagrama Q-Q\n",
    "from scipy import stats\n",
    "\n",
    "# tamano de la grafica\n",
    "fig, ax = plt.subplots(figsize=(6,6))\n",
    "\n",
    "# muestra de 100 valores obtenidos aleatoriamente de una distribucion normal\n",
    "muestra_normal = stats.norm.rvs(size=100)\n",
    "\n",
    "# diagrama Q-Q\n",
    "stats.probplot(muestra_normal, plot=ax)\n",
    "plt.tight_layout();"
   ]
  },
  {
   "cell_type": "markdown",
   "metadata": {},
   "source": [
    "### Distribucion de cola larga\n",
    "Vamos a crear un diagrama Q-Q de la rentabilidad diaria de las acciones de Netflix "
   ]
  },
  {
   "cell_type": "code",
   "execution_count": 33,
   "metadata": {
    "scrolled": true
   },
   "outputs": [
    {
     "data": {
      "image/png": "[encoded data removed]",
      "text/plain": [
       "<Figure size 432x432 with 1 Axes>"
      ]
     },
     "metadata": {
      "needs_background": "light"
     },
     "output_type": "display_data"
    }
   ],
   "source": [
    "# cargamos los datos del S&P 500\n",
    "sp500_px = pd.read_csv(SP500_DATA_CSV)\n",
    "\n",
    "# extraemos los precios de cierre de las acciones de Netflix\n",
    "nflx = sp500_px.NFLX\n",
    "\n",
    "# filtramos los precios de las acciones para omitir valores negativos y ceros\n",
    "# calculamos el logaritmo de los precios y la diferencia entre los retornos sucesivos\n",
    "# lo cual arroja una serie de tiempo de los cambios porcentuales de las acciones\n",
    "nflx =np.diff(np.log(nflx[nflx > 0]))\n",
    "\n",
    "# diagrama Q-Q\n",
    "fig, ax = plt.subplots(figsize=(6,6))\n",
    "stats.probplot(nflx, plot=ax)\n",
    "plt.tight_layout();"
   ]
  },
  {
   "cell_type": "markdown",
   "metadata": {},
   "source": [
    "Vemos que los puntos estan muy por debajo de la linea para valores bajos y muy por encima de la linea para valores altos, lo que indica que los datos no estan distribuidos normalmente."
   ]
  }
 ],
 "metadata": {
  "kernelspec": {
   "display_name": "Python 3 (ipykernel)",
   "language": "python",
   "name": "python3"
  },
  "language_info": {
   "codemirror_mode": {
    "name": "ipython",
    "version": 3
   },
   "file_extension": ".py",
   "mimetype": "text/x-python",
   "name": "python",
   "nbconvert_exporter": "python",
   "pygments_lexer": "ipython3",
   "version": "3.9.12"
  },
  "vscode": {
   "interpreter": {
    "hash": "916dbcbb3f70747c44a77c7bcd40155683ae19c65e1c03b4aa3499c5328201f1"
   }
  }
 },
 "nbformat": 4,
 "nbformat_minor": 2
}
