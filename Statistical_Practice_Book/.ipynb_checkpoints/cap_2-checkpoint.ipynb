{
 "cells": [
  {
   "cell_type": "markdown",
   "metadata": {},
   "source": [
    "# Capitulo 2 : Distribuciones de Datos y Muestras"
   ]
  },
  {
   "cell_type": "markdown",
   "metadata": {},
   "source": [
    "## Carga de los datos"
   ]
  },
  {
   "cell_type": "code",
   "execution_count": 1,
   "metadata": {},
   "outputs": [],
   "source": [
    "# importamos librerias\n",
    "import pandas as pd\n",
    "import seaborn as sns\n",
    "from pathlib import Path\n",
    "import matplotlib.pyplot as plt"
   ]
  },
  {
   "cell_type": "code",
   "execution_count": 2,
   "metadata": {},
   "outputs": [],
   "source": [
    "try:\n",
    "    import common\n",
    "    DATA = common.dataDirectory()\n",
    "except ImportError:\n",
    "    DATA = Path().resolve() / 'data'"
   ]
  },
  {
   "cell_type": "markdown",
   "metadata": {},
   "source": [
    "Definimos rutas a los conjuntos de datos. Si no mantienes los datos en el mismo directorio que el codigo, adapte los nombres de las rutas"
   ]
  },
  {
   "cell_type": "code",
   "execution_count": 3,
   "metadata": {},
   "outputs": [],
   "source": [
    "LOANS_INCOME_CSV = DATA / 'loans_income.csv'\n",
    "SP500_DATA_CSV = DATA / 'sp500_data.csv.gz'"
   ]
  },
  {
   "cell_type": "markdown",
   "metadata": {},
   "source": [
    "## Distribucion Muestral del Estadistico\n",
    "\n",
    "Los datos que vamos a utilizar refieren a los ingresos anuales de los solicitantes de prestamos de un Club. Vamos a probar que la distribucion muestral de un estadistico como la Media adopta la forma de campana y que a mientras la muestra sea cada vez mas grande mas estrecha se vuelva tal distribucion"
   ]
  },
  {
   "cell_type": "code",
   "execution_count": 4,
   "metadata": {},
   "outputs": [
    {
     "data": {
      "text/html": [
       "<div>\n",
       "<style scoped>\n",
       "    .dataframe tbody tr th:only-of-type {\n",
       "        vertical-align: middle;\n",
       "    }\n",
       "\n",
       "    .dataframe tbody tr th {\n",
       "        vertical-align: top;\n",
       "    }\n",
       "\n",
       "    .dataframe thead th {\n",
       "        text-align: right;\n",
       "    }\n",
       "</style>\n",
       "<table border=\"1\" class=\"dataframe\">\n",
       "  <thead>\n",
       "    <tr style=\"text-align: right;\">\n",
       "      <th></th>\n",
       "      <th>x</th>\n",
       "    </tr>\n",
       "  </thead>\n",
       "  <tbody>\n",
       "    <tr>\n",
       "      <th>0</th>\n",
       "      <td>67000</td>\n",
       "    </tr>\n",
       "    <tr>\n",
       "      <th>1</th>\n",
       "      <td>52000</td>\n",
       "    </tr>\n",
       "    <tr>\n",
       "      <th>2</th>\n",
       "      <td>100000</td>\n",
       "    </tr>\n",
       "    <tr>\n",
       "      <th>3</th>\n",
       "      <td>78762</td>\n",
       "    </tr>\n",
       "    <tr>\n",
       "      <th>4</th>\n",
       "      <td>37041</td>\n",
       "    </tr>\n",
       "  </tbody>\n",
       "</table>\n",
       "</div>"
      ],
      "text/plain": [
       "        x\n",
       "0   67000\n",
       "1   52000\n",
       "2  100000\n",
       "3   78762\n",
       "4   37041"
      ]
     },
     "execution_count": 4,
     "metadata": {},
     "output_type": "execute_result"
    }
   ],
   "source": [
    "# cargar datos\n",
    "loans_income = pd.read_csv(LOANS_INCOME_CSV)\n",
    "loans_income.head()"
   ]
  },
  {
   "cell_type": "markdown",
   "metadata": {},
   "source": [
    "Los datos vienen en una columna de un dataframe. Para mayor comodidad en el tratamiento, convertimos los datos en una serie."
   ]
  },
  {
   "cell_type": "code",
   "execution_count": 5,
   "metadata": {},
   "outputs": [
    {
     "data": {
      "text/plain": [
       "0         67000\n",
       "1         52000\n",
       "2        100000\n",
       "3         78762\n",
       "4         37041\n",
       "          ...  \n",
       "49995     40000\n",
       "49996     54000\n",
       "49997     50000\n",
       "49998     82000\n",
       "49999     70000\n",
       "Name: x, Length: 50000, dtype: int64"
      ]
     },
     "execution_count": 5,
     "metadata": {},
     "output_type": "execute_result"
    }
   ],
   "source": [
    "# convertir en una serie el dataframe. Debe poseer una columna\n",
    "loans_income = pd.read_csv(LOANS_INCOME_CSV).squeeze('columns')\n",
    "loans_income"
   ]
  },
  {
   "cell_type": "markdown",
   "metadata": {},
   "source": [
    "De los datos tomamos una muestra de 1000 valores que corresponde al ingreso de 1000 solicitantes de prestamo."
   ]
  },
  {
   "cell_type": "code",
   "execution_count": 6,
   "metadata": {},
   "outputs": [
    {
     "data": {
      "text/html": [
       "<div>\n",
       "<style scoped>\n",
       "    .dataframe tbody tr th:only-of-type {\n",
       "        vertical-align: middle;\n",
       "    }\n",
       "\n",
       "    .dataframe tbody tr th {\n",
       "        vertical-align: top;\n",
       "    }\n",
       "\n",
       "    .dataframe thead th {\n",
       "        text-align: right;\n",
       "    }\n",
       "</style>\n",
       "<table border=\"1\" class=\"dataframe\">\n",
       "  <thead>\n",
       "    <tr style=\"text-align: right;\">\n",
       "      <th></th>\n",
       "      <th>income</th>\n",
       "      <th>type</th>\n",
       "    </tr>\n",
       "  </thead>\n",
       "  <tbody>\n",
       "    <tr>\n",
       "      <th>31669</th>\n",
       "      <td>75900</td>\n",
       "      <td>Data</td>\n",
       "    </tr>\n",
       "    <tr>\n",
       "      <th>39383</th>\n",
       "      <td>62000</td>\n",
       "      <td>Data</td>\n",
       "    </tr>\n",
       "    <tr>\n",
       "      <th>29775</th>\n",
       "      <td>28000</td>\n",
       "      <td>Data</td>\n",
       "    </tr>\n",
       "    <tr>\n",
       "      <th>18940</th>\n",
       "      <td>45000</td>\n",
       "      <td>Data</td>\n",
       "    </tr>\n",
       "    <tr>\n",
       "      <th>26510</th>\n",
       "      <td>133000</td>\n",
       "      <td>Data</td>\n",
       "    </tr>\n",
       "  </tbody>\n",
       "</table>\n",
       "</div>"
      ],
      "text/plain": [
       "       income  type\n",
       "31669   75900  Data\n",
       "39383   62000  Data\n",
       "29775   28000  Data\n",
       "18940   45000  Data\n",
       "26510  133000  Data"
      ]
     },
     "execution_count": 6,
     "metadata": {},
     "output_type": "execute_result"
    }
   ],
   "source": [
    "# Creamos la muestra de los 1000 valores\n",
    "sample_data = pd.DataFrame({\n",
    "    'income':loans_income.sample(1000),\n",
    "    'type':'Data'\n",
    "})\n",
    "sample_data.head()"
   ]
  },
  {
   "cell_type": "markdown",
   "metadata": {},
   "source": [
    "Ahora, creamos una muestra de 1000 medias para 5 valores, es decir, se toman los ingresos de 5 solicitantes aleatorios y se calcula su media, luego se toman los ingresos nuevamente de 5 solicitantes diferentes y se calcula su media. Este paso se repite 1000 veces y se almacenan en un dataframe"
   ]
  },
  {
   "cell_type": "code",
   "execution_count": 7,
   "metadata": {},
   "outputs": [
    {
     "data": {
      "text/html": [
       "<div>\n",
       "<style scoped>\n",
       "    .dataframe tbody tr th:only-of-type {\n",
       "        vertical-align: middle;\n",
       "    }\n",
       "\n",
       "    .dataframe tbody tr th {\n",
       "        vertical-align: top;\n",
       "    }\n",
       "\n",
       "    .dataframe thead th {\n",
       "        text-align: right;\n",
       "    }\n",
       "</style>\n",
       "<table border=\"1\" class=\"dataframe\">\n",
       "  <thead>\n",
       "    <tr style=\"text-align: right;\">\n",
       "      <th></th>\n",
       "      <th>income</th>\n",
       "      <th>type</th>\n",
       "    </tr>\n",
       "  </thead>\n",
       "  <tbody>\n",
       "    <tr>\n",
       "      <th>0</th>\n",
       "      <td>56400.0</td>\n",
       "      <td>Media de 5</td>\n",
       "    </tr>\n",
       "    <tr>\n",
       "      <th>1</th>\n",
       "      <td>77600.0</td>\n",
       "      <td>Media de 5</td>\n",
       "    </tr>\n",
       "    <tr>\n",
       "      <th>2</th>\n",
       "      <td>86400.0</td>\n",
       "      <td>Media de 5</td>\n",
       "    </tr>\n",
       "    <tr>\n",
       "      <th>3</th>\n",
       "      <td>95898.4</td>\n",
       "      <td>Media de 5</td>\n",
       "    </tr>\n",
       "    <tr>\n",
       "      <th>4</th>\n",
       "      <td>53400.0</td>\n",
       "      <td>Media de 5</td>\n",
       "    </tr>\n",
       "  </tbody>\n",
       "</table>\n",
       "</div>"
      ],
      "text/plain": [
       "    income        type\n",
       "0  56400.0  Media de 5\n",
       "1  77600.0  Media de 5\n",
       "2  86400.0  Media de 5\n",
       "3  95898.4  Media de 5\n",
       "4  53400.0  Media de 5"
      ]
     },
     "execution_count": 7,
     "metadata": {},
     "output_type": "execute_result"
    }
   ],
   "source": [
    "# creamos la muestra de 1000 media para 5 valores\n",
    "sample_mean_05 = pd.DataFrame({\n",
    "    'income':[loans_income.sample(5).mean() for _ in range(1000)],\n",
    "    'type':'Media de 5'\n",
    "})\n",
    "sample_mean_05.head()"
   ]
  },
  {
   "cell_type": "markdown",
   "metadata": {},
   "source": [
    "Finalmente, creamos una muestra de 1000 media para 20 valores siguiendo el mismo procedimiento anterior. "
   ]
  },
  {
   "cell_type": "code",
   "execution_count": 8,
   "metadata": {},
   "outputs": [
    {
     "data": {
      "text/html": [
       "<div>\n",
       "<style scoped>\n",
       "    .dataframe tbody tr th:only-of-type {\n",
       "        vertical-align: middle;\n",
       "    }\n",
       "\n",
       "    .dataframe tbody tr th {\n",
       "        vertical-align: top;\n",
       "    }\n",
       "\n",
       "    .dataframe thead th {\n",
       "        text-align: right;\n",
       "    }\n",
       "</style>\n",
       "<table border=\"1\" class=\"dataframe\">\n",
       "  <thead>\n",
       "    <tr style=\"text-align: right;\">\n",
       "      <th></th>\n",
       "      <th>income</th>\n",
       "      <th>type</th>\n",
       "    </tr>\n",
       "  </thead>\n",
       "  <tbody>\n",
       "    <tr>\n",
       "      <th>0</th>\n",
       "      <td>69264.90</td>\n",
       "      <td>Media de 20</td>\n",
       "    </tr>\n",
       "    <tr>\n",
       "      <th>1</th>\n",
       "      <td>72740.00</td>\n",
       "      <td>Media de 20</td>\n",
       "    </tr>\n",
       "    <tr>\n",
       "      <th>2</th>\n",
       "      <td>69080.05</td>\n",
       "      <td>Media de 20</td>\n",
       "    </tr>\n",
       "    <tr>\n",
       "      <th>3</th>\n",
       "      <td>60670.45</td>\n",
       "      <td>Media de 20</td>\n",
       "    </tr>\n",
       "    <tr>\n",
       "      <th>4</th>\n",
       "      <td>56919.80</td>\n",
       "      <td>Media de 20</td>\n",
       "    </tr>\n",
       "  </tbody>\n",
       "</table>\n",
       "</div>"
      ],
      "text/plain": [
       "     income         type\n",
       "0  69264.90  Media de 20\n",
       "1  72740.00  Media de 20\n",
       "2  69080.05  Media de 20\n",
       "3  60670.45  Media de 20\n",
       "4  56919.80  Media de 20"
      ]
     },
     "execution_count": 8,
     "metadata": {},
     "output_type": "execute_result"
    }
   ],
   "source": [
    "# creamos la muestra de 1000 media para 20 valores\n",
    "sample_mean_20 = pd.DataFrame({\n",
    "    'income':[loans_income.sample(20).mean() for _ in range(1000)],\n",
    "    'type':'Media de 20'\n",
    "})\n",
    "sample_mean_20.head()"
   ]
  },
  {
   "cell_type": "code",
   "execution_count": 9,
   "metadata": {},
   "outputs": [
    {
     "name": "stdout",
     "output_type": "stream",
     "text": [
      "         income  type\n",
      "31669   75900.0  Data\n",
      "39383   62000.0  Data\n",
      "29775   28000.0  Data\n",
      "18940   45000.0  Data\n",
      "26510  133000.0  Data\n"
     ]
    }
   ],
   "source": [
    "# Agrupamos los resultados en un solo df\n",
    "results = pd.concat([sample_data, sample_mean_05, sample_mean_20])\n",
    "print(results.head())"
   ]
  },
  {
   "cell_type": "code",
   "execution_count": 10,
   "metadata": {},
   "outputs": [
    {
     "data": {
      "image/png": "[encoded data removed]",
      "text/plain": [
       "<Figure size 288x432 with 3 Axes>"
      ]
     },
     "metadata": {
      "needs_background": "light"
     },
     "output_type": "display_data"
    }
   ],
   "source": [
    "# Graficamos los histogramas\n",
    "grid = sns.FacetGrid(\n",
    "    results, \n",
    "    col='type', # numero de graficos \n",
    "    col_wrap=1, # ordenado en fila(0) o columnas(1)\n",
    "    height=2,   # ancho de graficos\n",
    "    aspect=2,   # relacion entra ancho y alto del grafico\n",
    ") \n",
    "\n",
    "# Grafico para cada type\n",
    "grid.map(plt.hist, 'income', range=[0, 200000], bins=40)\n",
    "grid.set_axis_labels('Income', 'Count') # titulo de los ejes\n",
    "grid.set_titles('{col_name}') # titulo de cada grafico\n",
    "plt.tight_layout();\n"
   ]
  },
  {
   "cell_type": "markdown",
   "metadata": {},
   "source": [
    "Ahora, probemos con otra metrica como la Mediana y veamos su distribucion en las diferentes muestras"
   ]
  },
  {
   "cell_type": "code",
   "execution_count": 11,
   "metadata": {},
   "outputs": [
    {
     "data": {
      "text/html": [
       "<div>\n",
       "<style scoped>\n",
       "    .dataframe tbody tr th:only-of-type {\n",
       "        vertical-align: middle;\n",
       "    }\n",
       "\n",
       "    .dataframe tbody tr th {\n",
       "        vertical-align: top;\n",
       "    }\n",
       "\n",
       "    .dataframe thead th {\n",
       "        text-align: right;\n",
       "    }\n",
       "</style>\n",
       "<table border=\"1\" class=\"dataframe\">\n",
       "  <thead>\n",
       "    <tr style=\"text-align: right;\">\n",
       "      <th></th>\n",
       "      <th>income</th>\n",
       "      <th>type</th>\n",
       "    </tr>\n",
       "  </thead>\n",
       "  <tbody>\n",
       "    <tr>\n",
       "      <th>31669</th>\n",
       "      <td>75900</td>\n",
       "      <td>Data</td>\n",
       "    </tr>\n",
       "    <tr>\n",
       "      <th>39383</th>\n",
       "      <td>62000</td>\n",
       "      <td>Data</td>\n",
       "    </tr>\n",
       "    <tr>\n",
       "      <th>29775</th>\n",
       "      <td>28000</td>\n",
       "      <td>Data</td>\n",
       "    </tr>\n",
       "    <tr>\n",
       "      <th>18940</th>\n",
       "      <td>45000</td>\n",
       "      <td>Data</td>\n",
       "    </tr>\n",
       "    <tr>\n",
       "      <th>26510</th>\n",
       "      <td>133000</td>\n",
       "      <td>Data</td>\n",
       "    </tr>\n",
       "  </tbody>\n",
       "</table>\n",
       "</div>"
      ],
      "text/plain": [
       "       income  type\n",
       "31669   75900  Data\n",
       "39383   62000  Data\n",
       "29775   28000  Data\n",
       "18940   45000  Data\n",
       "26510  133000  Data"
      ]
     },
     "execution_count": 11,
     "metadata": {},
     "output_type": "execute_result"
    }
   ],
   "source": [
    "# Creamos la muestra de los 1000 valores\n",
    "sample2_data = pd.DataFrame({\n",
    "    'income':loans_income.sample(1000),\n",
    "    'type':'Data'\n",
    "})\n",
    "sample_data.head()"
   ]
  },
  {
   "cell_type": "code",
   "execution_count": 12,
   "metadata": {},
   "outputs": [
    {
     "data": {
      "text/html": [
       "<div>\n",
       "<style scoped>\n",
       "    .dataframe tbody tr th:only-of-type {\n",
       "        vertical-align: middle;\n",
       "    }\n",
       "\n",
       "    .dataframe tbody tr th {\n",
       "        vertical-align: top;\n",
       "    }\n",
       "\n",
       "    .dataframe thead th {\n",
       "        text-align: right;\n",
       "    }\n",
       "</style>\n",
       "<table border=\"1\" class=\"dataframe\">\n",
       "  <thead>\n",
       "    <tr style=\"text-align: right;\">\n",
       "      <th></th>\n",
       "      <th>income</th>\n",
       "      <th>type</th>\n",
       "    </tr>\n",
       "  </thead>\n",
       "  <tbody>\n",
       "    <tr>\n",
       "      <th>0</th>\n",
       "      <td>40000.0</td>\n",
       "      <td>Mediana de 5</td>\n",
       "    </tr>\n",
       "    <tr>\n",
       "      <th>1</th>\n",
       "      <td>54000.0</td>\n",
       "      <td>Mediana de 5</td>\n",
       "    </tr>\n",
       "    <tr>\n",
       "      <th>2</th>\n",
       "      <td>105000.0</td>\n",
       "      <td>Mediana de 5</td>\n",
       "    </tr>\n",
       "    <tr>\n",
       "      <th>3</th>\n",
       "      <td>65000.0</td>\n",
       "      <td>Mediana de 5</td>\n",
       "    </tr>\n",
       "    <tr>\n",
       "      <th>4</th>\n",
       "      <td>63173.0</td>\n",
       "      <td>Mediana de 5</td>\n",
       "    </tr>\n",
       "  </tbody>\n",
       "</table>\n",
       "</div>"
      ],
      "text/plain": [
       "     income          type\n",
       "0   40000.0  Mediana de 5\n",
       "1   54000.0  Mediana de 5\n",
       "2  105000.0  Mediana de 5\n",
       "3   65000.0  Mediana de 5\n",
       "4   63173.0  Mediana de 5"
      ]
     },
     "execution_count": 12,
     "metadata": {},
     "output_type": "execute_result"
    }
   ],
   "source": [
    "# creamos la muestra de 1000 media para 5 valores\n",
    "sample2_mean_05 = pd.DataFrame({\n",
    "    'income':[loans_income.sample(5).median() for _ in range(1000)],\n",
    "    'type':'Mediana de 5'\n",
    "})\n",
    "sample2_mean_05.head()"
   ]
  },
  {
   "cell_type": "code",
   "execution_count": 13,
   "metadata": {},
   "outputs": [
    {
     "data": {
      "text/html": [
       "<div>\n",
       "<style scoped>\n",
       "    .dataframe tbody tr th:only-of-type {\n",
       "        vertical-align: middle;\n",
       "    }\n",
       "\n",
       "    .dataframe tbody tr th {\n",
       "        vertical-align: top;\n",
       "    }\n",
       "\n",
       "    .dataframe thead th {\n",
       "        text-align: right;\n",
       "    }\n",
       "</style>\n",
       "<table border=\"1\" class=\"dataframe\">\n",
       "  <thead>\n",
       "    <tr style=\"text-align: right;\">\n",
       "      <th></th>\n",
       "      <th>income</th>\n",
       "      <th>type</th>\n",
       "    </tr>\n",
       "  </thead>\n",
       "  <tbody>\n",
       "    <tr>\n",
       "      <th>0</th>\n",
       "      <td>75000.0</td>\n",
       "      <td>Mediana de 20</td>\n",
       "    </tr>\n",
       "    <tr>\n",
       "      <th>1</th>\n",
       "      <td>59500.0</td>\n",
       "      <td>Mediana de 20</td>\n",
       "    </tr>\n",
       "    <tr>\n",
       "      <th>2</th>\n",
       "      <td>69500.0</td>\n",
       "      <td>Mediana de 20</td>\n",
       "    </tr>\n",
       "    <tr>\n",
       "      <th>3</th>\n",
       "      <td>76000.0</td>\n",
       "      <td>Mediana de 20</td>\n",
       "    </tr>\n",
       "    <tr>\n",
       "      <th>4</th>\n",
       "      <td>70000.0</td>\n",
       "      <td>Mediana de 20</td>\n",
       "    </tr>\n",
       "  </tbody>\n",
       "</table>\n",
       "</div>"
      ],
      "text/plain": [
       "    income           type\n",
       "0  75000.0  Mediana de 20\n",
       "1  59500.0  Mediana de 20\n",
       "2  69500.0  Mediana de 20\n",
       "3  76000.0  Mediana de 20\n",
       "4  70000.0  Mediana de 20"
      ]
     },
     "execution_count": 13,
     "metadata": {},
     "output_type": "execute_result"
    }
   ],
   "source": [
    "# creamos la muestra de 1000 media para 20 valores\n",
    "sample2_mean_20 = pd.DataFrame({\n",
    "    'income':[loans_income.sample(20).median() for _ in range(1000)],\n",
    "    'type':'Mediana de 20'\n",
    "})\n",
    "sample2_mean_20.head()"
   ]
  },
  {
   "cell_type": "code",
   "execution_count": 14,
   "metadata": {},
   "outputs": [
    {
     "name": "stdout",
     "output_type": "stream",
     "text": [
      "        income  type\n",
      "956    56400.0  Data\n",
      "42745  40000.0  Data\n",
      "30078  50000.0  Data\n",
      "7220   79000.0  Data\n",
      "3035   52000.0  Data\n"
     ]
    }
   ],
   "source": [
    "# Agrupamos los resultados en un solo df\n",
    "results2 = pd.concat([sample2_data, sample2_mean_05, sample2_mean_20])\n",
    "print(results2.head())"
   ]
  },
  {
   "cell_type": "code",
   "execution_count": 15,
   "metadata": {},
   "outputs": [
    {
     "data": {
      "image/png": "[encoded data removed]",
      "text/plain": [
       "<Figure size 288x432 with 3 Axes>"
      ]
     },
     "metadata": {
      "needs_background": "light"
     },
     "output_type": "display_data"
    }
   ],
   "source": [
    "# Graficamos los histogramas\n",
    "grid = sns.FacetGrid(\n",
    "    results2, \n",
    "    col='type', # numero de graficos \n",
    "    col_wrap=1, # ordenado en fila(0) o columnas(1)\n",
    "    height=2,   # ancho de graficos\n",
    "    aspect=2,   # relacion entra ancho y alto del grafico\n",
    ") \n",
    "\n",
    "# Grafico para cada type\n",
    "grid.map(plt.hist, 'income', range=[0, 200000], bins=40)\n",
    "grid.set_axis_labels('Income', 'Count') # titulo de los ejes\n",
    "grid.set_titles('{col_name}') # titulo de cada grafico\n",
    "plt.tight_layout();"
   ]
  },
  {
   "cell_type": "markdown",
   "metadata": {},
   "source": [
    "Vemos el mismo resultado obtenido al utilizar la media"
   ]
  },
  {
   "cell_type": "markdown",
   "metadata": {},
   "source": [
    "## Bootstrap\n",
    "\n",
    "Vamos a estimar la mediana y su variabilidad de los ingresos de los clientes que solicitan un prestamo"
   ]
  },
  {
   "cell_type": "code",
   "execution_count": 16,
   "metadata": {},
   "outputs": [],
   "source": [
    "# importamos libreria para el remuestreo\n",
    "from sklearn.utils import resample"
   ]
  },
  {
   "cell_type": "code",
   "execution_count": 17,
   "metadata": {},
   "outputs": [
    {
     "name": "stdout",
     "output_type": "stream",
     "text": [
      "Estadistica del Bootstrap\n",
      "Mediana Original: 62000.0\n",
      "Sesgo: -78.28500000000349\n",
      "Error Estandar: 223.87853933634594\n"
     ]
    }
   ],
   "source": [
    "# creamos una lista donde guardamos los resultados\n",
    "results = []\n",
    "\n",
    "# numero de iteraciones de bootstrap: 1000\n",
    "for R in range(1000):\n",
    "    # tomamos una muestra con reposicion de los datos\n",
    "    sample = resample(loans_income)\n",
    "    # calculamos la mediana de la muestra y guardamos el resultado\n",
    "    results.append(sample.median())\n",
    "\n",
    "# convertimos la lista con los resultados en una serie\n",
    "results = pd.Series(results)\n",
    "\n",
    "# imprimimos los resultados\n",
    "print('Estadistica del Bootstrap')\n",
    "print(f'Mediana Original: {loans_income.median()}')\n",
    "print(f'Sesgo: {results.mean() - loans_income.median()}')\n",
    "print(f'Error Estandar: {results.std()}')"
   ]
  },
  {
   "cell_type": "markdown",
   "metadata": {},
   "source": [
    "Que resultados obtendriamos si variamos R? Probemos con R = 100"
   ]
  },
  {
   "cell_type": "code",
   "execution_count": 18,
   "metadata": {},
   "outputs": [
    {
     "name": "stdout",
     "output_type": "stream",
     "text": [
      "Estadistica del Bootstrap\n",
      "Mediana Original: 62000.0\n",
      "Sesgo: -92.68499999999767\n",
      "Error Estandar: 217.70453815743824\n"
     ]
    }
   ],
   "source": [
    "# creamos una lista donde guardamos los resultados\n",
    "results = []\n",
    "\n",
    "# numero de iteraciones de bootstrap: 1000\n",
    "for R in range(100):\n",
    "    # tomamos una muestra con reposicion de los datos\n",
    "    sample = resample(loans_income)\n",
    "    # calculamos la mediana de la muestra y guardamos el resultado\n",
    "    results.append(sample.median())\n",
    "\n",
    "# convertimos la lista con los resultados en una serie\n",
    "results = pd.Series(results)\n",
    "\n",
    "# imprimimos los resultados\n",
    "print('Estadistica del Bootstrap')\n",
    "print(f'Mediana Original: {loans_income.median()}')\n",
    "print(f'Sesgo: {results.mean() - loans_income.median()}')\n",
    "print(f'Error Estandar: {results.std()}')"
   ]
  },
  {
   "cell_type": "markdown",
   "metadata": {},
   "source": [
    "En este caso, vemos como el sesgo aumenta es decir, los datos tienden a estar mas esparcidos. Ahora probemos con un R de 10.000"
   ]
  },
  {
   "cell_type": "code",
   "execution_count": 19,
   "metadata": {},
   "outputs": [
    {
     "name": "stdout",
     "output_type": "stream",
     "text": [
      "Estadistica del Bootstrap\n",
      "Mediana Original: 62000.0\n",
      "Sesgo: -75.74644999999873\n",
      "Error Estandar: 217.8077929295808\n"
     ]
    }
   ],
   "source": [
    "# creamos una lista donde guardamos los resultados\n",
    "results = []\n",
    "\n",
    "# numero de iteraciones de bootstrap: 1000\n",
    "for R in range(10000):\n",
    "    # tomamos una muestra con reposicion de los datos\n",
    "    sample = resample(loans_income)\n",
    "    # calculamos la mediana de la muestra y guardamos el resultado\n",
    "    results.append(sample.median())\n",
    "\n",
    "# convertimos la lista con los resultados en una serie\n",
    "results = pd.Series(results)\n",
    "\n",
    "# imprimimos los resultados\n",
    "print('Estadistica del Bootstrap')\n",
    "print(f'Mediana Original: {loans_income.median()}')\n",
    "print(f'Sesgo: {results.mean() - loans_income.median()}')\n",
    "print(f'Error Estandar: {results.std()}')"
   ]
  },
  {
   "cell_type": "markdown",
   "metadata": {},
   "source": [
    "Vemos que el sesgo disminuye a medida que aumentamos R, esto prueba lo dicho en la teoria sobre la cantidad de remuestreo que se requiere segun la precision que se desea."
   ]
  }
 ],
 "metadata": {
  "kernelspec": {
   "display_name": "Python 3 (ipykernel)",
   "language": "python",
   "name": "python3"
  },
  "language_info": {
   "codemirror_mode": {
    "name": "ipython",
    "version": 3
   },
   "file_extension": ".py",
   "mimetype": "text/x-python",
   "name": "python",
   "nbconvert_exporter": "python",
   "pygments_lexer": "ipython3",
   "version": "3.9.12"
  },
  "vscode": {
   "interpreter": {
    "hash": "916dbcbb3f70747c44a77c7bcd40155683ae19c65e1c03b4aa3499c5328201f1"
   }
  }
 },
 "nbformat": 4,
 "nbformat_minor": 2
}
