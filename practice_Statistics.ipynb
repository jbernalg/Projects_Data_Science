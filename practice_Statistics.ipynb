{
 "cells": [
  {
   "cell_type": "markdown",
   "metadata": {},
   "source": [
    "# Practical Statistics for Data Science"
   ]
  },
  {
   "cell_type": "markdown",
   "metadata": {},
   "source": [
    "## Cap 1"
   ]
  },
  {
   "cell_type": "markdown",
   "metadata": {},
   "source": [
    "### Estructura de datos no rectangular"
   ]
  },
  {
   "cell_type": "markdown",
   "metadata": {},
   "source": [
    "Estos son datos como:\n",
    "- Series temporales los cuales registran mediciones sucesivas de la misma variable. Es el mmaterial ideal para pronosticos estadisticos y el componente principal del Internet de las Cosas.\n",
    "- Datos espaciales utilizados en mapas y análisis de ubicación y son mas complejas y variadas que las estructuras de datos rectangulares. El foco de los datos es un objeto y sus coordenadas espaciales.\n",
    "- Los grafos son estructuras de datos que se utilizan para representar relaciones fisicas, sociales y abstractas. Un ejemplo son las conexiones entre personas en la Red de Facebook.Utilizados en la optimizacion de la red  y en sistemas de recomendacion."
   ]
  },
  {
   "cell_type": "markdown",
   "metadata": {},
   "source": [
    "La estructura de datos basica in Ciencia de datos es la matriz rectangular en la cual las filas son registros y las columnas son las variables."
   ]
  },
  {
   "cell_type": "markdown",
   "metadata": {},
   "source": [
    "### Estimacion de Ubicacion (Tendencia Central)"
   ]
  },
  {
   "cell_type": "markdown",
   "metadata": {},
   "source": [
    "Un paso tipico a la hora de explorar la data es obtener el valor tipico de cada variable que nos conduce a estimar en donde se encuentra la mayoria de los datos"
   ]
  },
  {
   "cell_type": "markdown",
   "metadata": {},
   "source": [
    "- La Media es el valor promedio. The mean is the sum of all values divided by the number of values"
   ]
  },
  {
   "cell_type": "markdown",
   "metadata": {},
   "source": [
    "- La Media recortada (trimmed mean) eliminates the influence of extreme values. You calculate by dropping a fixed number of sorted values at each end and then taking an average of the remmainig value. "
   ]
  },
  {
   "cell_type": "markdown",
   "metadata": {},
   "source": [
    "- La Media ponderada (weighted mean) which you calculate by multiplying each data value by a user-specific weight and dividing their sum of the weights. Main motivations for using a weighted mean:\n",
    "\n",
    "    - Some values are intrinsically more variable than others.\n",
    "    - The data collected does not equally represent the difference groups that we are interested in measuring "
   ]
  },
  {
   "cell_type": "markdown",
   "metadata": {},
   "source": [
    "- La Mediana (median) is robust to outliers. Since the mean is much more sensitive to the data, there are many instances in which the median is a better metric for location "
   ]
  },
  {
   "cell_type": "markdown",
   "metadata": {},
   "source": [
    "- Outlier is any value that is very distant from the other values in a data set. Outlier should be identified and are usually worthy of further investigation"
   ]
  },
  {
   "cell_type": "markdown",
   "metadata": {},
   "source": [
    "- The trimmed mean is widely used to avoid  the influence of outliers"
   ]
  },
  {
   "cell_type": "markdown",
   "metadata": {},
   "source": [
    "#### Ejemplo: Estimaciones de ubicacion de poblacion y tasa de homicidios "
   ]
  },
  {
   "cell_type": "code",
   "execution_count": 1,
   "metadata": {},
   "outputs": [],
   "source": [
    "import pandas as pd\n",
    "import numpy as np"
   ]
  },
  {
   "cell_type": "code",
   "execution_count": 2,
   "metadata": {},
   "outputs": [
    {
     "name": "stdout",
     "output_type": "stream",
     "text": [
      "         State  Population  Murder.Rate Abbreviation\n",
      "0      Alabama     4779736          5.7           AL\n",
      "1       Alaska      710231          5.6           AK\n",
      "2      Arizona     6392017          4.7           AZ\n",
      "3     Arkansas     2915918          5.6           AR\n",
      "4   California    37253956          4.4           CA\n",
      "5     Colorado     5029196          2.8           CO\n",
      "6  Connecticut     3574097          2.4           CT\n",
      "7     Delaware      897934          5.8           DE\n"
     ]
    }
   ],
   "source": [
    "state = pd.read_csv('./data/state.csv') \n",
    "print(state.head(8))"
   ]
  },
  {
   "cell_type": "code",
   "execution_count": 3,
   "metadata": {},
   "outputs": [
    {
     "data": {
      "text/plain": [
       "6162876.3"
      ]
     },
     "execution_count": 3,
     "metadata": {},
     "output_type": "execute_result"
    }
   ],
   "source": [
    "#mean\n",
    "state['Population'].mean()"
   ]
  },
  {
   "cell_type": "code",
   "execution_count": 4,
   "metadata": {},
   "outputs": [
    {
     "data": {
      "text/plain": [
       "4783697.125"
      ]
     },
     "execution_count": 4,
     "metadata": {},
     "output_type": "execute_result"
    }
   ],
   "source": [
    "#trimmed mean\n",
    "from scipy.stats import trim_mean\n",
    "trim_mean(state['Population'], 0.1)"
   ]
  },
  {
   "cell_type": "code",
   "execution_count": 5,
   "metadata": {},
   "outputs": [
    {
     "data": {
      "text/plain": [
       "4436369.5"
      ]
     },
     "execution_count": 5,
     "metadata": {},
     "output_type": "execute_result"
    }
   ],
   "source": [
    "#median\n",
    "state['Population'].median()"
   ]
  },
  {
   "cell_type": "markdown",
   "metadata": {},
   "source": [
    "The mean is bigger than the trimmed mean, which is bigger than the median. This is because the trimmed mean excludes the largest and five states (trim=0.1 drops 10% from each end)"
   ]
  },
  {
   "cell_type": "markdown",
   "metadata": {},
   "source": [
    "Calculate the average murder rate for the country, we need to used a weighted mean or median to account for different populations in the states"
   ]
  },
  {
   "cell_type": "code",
   "execution_count": 6,
   "metadata": {},
   "outputs": [
    {
     "data": {
      "text/plain": [
       "4.445833981123393"
      ]
     },
     "execution_count": 6,
     "metadata": {},
     "output_type": "execute_result"
    }
   ],
   "source": [
    "#weighted mean\n",
    "np.average(state['Murder.Rate'], weights=state['Population'])"
   ]
  },
  {
   "cell_type": "code",
   "execution_count": 7,
   "metadata": {},
   "outputs": [
    {
     "data": {
      "text/plain": [
       "4.4"
      ]
     },
     "execution_count": 7,
     "metadata": {},
     "output_type": "execute_result"
    }
   ],
   "source": [
    "#weighted median\n",
    "import wquantiles\n",
    "\n",
    "wquantiles.median(state['Murder.Rate'], weights=state['Population'])"
   ]
  },
  {
   "cell_type": "markdown",
   "metadata": {},
   "source": [
    "the weighted mean and the weighted median are about the same"
   ]
  },
  {
   "cell_type": "markdown",
   "metadata": {},
   "source": [
    "### Estimate of Variability"
   ]
  },
  {
   "cell_type": "markdown",
   "metadata": {},
   "source": [
    "- Location is just one dimension in summarizing a feature\n",
    "- Variability is a second dimension that measure whether the data values are tightly clustered or spread out.\n",
    "\n",
    "**Deviations** : The difference between the observed values and the estimate of location. Referred to error, residuals.\n",
    "\n",
    "**Variance** : The sum of squared deviations from  the mean divided by n - 1 where n is the number of data values. mean-squared-error.\n",
    "\n",
    "**Standard deviation** : The square root of the Variance\n",
    "\n",
    "**Mean absolute deviation** : The mean of the absolute values of the deviations from the mean. L1 - norm\n",
    "\n",
    "**Median absolute deviation from the median** : The media of the absolute values of the deviations from the median\n",
    "\n",
    "**Range** : The difference between the largest and the smallest value in a data set\n",
    "\n",
    "**Ordes Statistics** : Metrics based on the data values sorted from smallet to biggest. Ranks\n",
    "\n",
    "**Percentiles** : The value such that P percent of the value take on this value or less and (100 - P) percent take on this valueor more. Quantiles\n",
    "\n",
    "**Interquantile range** : The difference between the 75th percentile and the 25th percentile. IQR\n",
    "\n",
    "The most widely used estimates of variation are based on the difference, or deviations, between the estimate of location and observed data. For a set of data: \n",
    "\n",
    "{1,4,4}\n",
    "\n",
    "The mean is 3.\n",
    "\n",
    "The median is 4.\n",
    "\n",
    "The deviations from the mean are the differences: 1 - 3 = -2 , 4 - 3 = 1 , 4 - 3 = 1\n",
    "\n",
    "These deviations tell us how dispersed the data is around the central value"
   ]
  }
 ],
 "metadata": {
  "kernelspec": {
   "display_name": "Python 3.9.12 ('base')",
   "language": "python",
   "name": "python3"
  },
  "language_info": {
   "codemirror_mode": {
    "name": "ipython",
    "version": 3
   },
   "file_extension": ".py",
   "mimetype": "text/x-python",
   "name": "python",
   "nbconvert_exporter": "python",
   "pygments_lexer": "ipython3",
   "version": "3.9.12"
  },
  "orig_nbformat": 4,
  "vscode": {
   "interpreter": {
    "hash": "c0f017dc8777d339ca5b4ee9cb8474ceec98137a2b940b845dc19e34fda1df12"
   }
  }
 },
 "nbformat": 4,
 "nbformat_minor": 2
}
