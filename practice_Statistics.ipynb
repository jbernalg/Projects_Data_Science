{
 "cells": [
  {
   "cell_type": "markdown",
   "metadata": {},
   "source": [
    "# Practical Statistics for Data Science"
   ]
  },
  {
   "cell_type": "markdown",
   "metadata": {},
   "source": [
    "### Estructura de datos no rectangular"
   ]
  },
  {
   "cell_type": "markdown",
   "metadata": {},
   "source": [
    "Estos son datos como:\n",
    "- Series temporales los cuales registran mediciones sucesivas de la misma variable. Es el mmaterial ideal para pronosticos estadisticos y el componente principal del Internet de las Cosas.\n",
    "- Datos espaciales utilizados en mapas y análisis de ubicación y son mas complejas y variadas que las estructuras de datos rectangulares. El foco de los datos es un objeto y sus coordenadas espaciales.\n",
    "- Los grafos son estructuras de datos que se utilizan para representar relaciones fisicas, sociales y abstractas. Un ejemplo son las conexiones entre personas en la Red de Facebook.Utilizados en la optimizacion de la red  y en sistemas de recomendacion."
   ]
  },
  {
   "cell_type": "markdown",
   "metadata": {},
   "source": [
    "La estructura de datos basica in Ciencia de datos es la matriz rectangular en la cual las filas son registros y las columnas son las variables."
   ]
  },
  {
   "cell_type": "markdown",
   "metadata": {},
   "source": [
    "### Estimacion de Localizacion"
   ]
  },
  {
   "cell_type": "code",
   "execution_count": null,
   "metadata": {},
   "outputs": [],
   "source": []
  },
  {
   "cell_type": "code",
   "execution_count": null,
   "metadata": {},
   "outputs": [],
   "source": []
  }
 ],
 "metadata": {
  "language_info": {
   "name": "python"
  },
  "orig_nbformat": 4
 },
 "nbformat": 4,
 "nbformat_minor": 2
}
