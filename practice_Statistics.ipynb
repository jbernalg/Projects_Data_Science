{
 "cells": [
  {
   "cell_type": "markdown",
   "metadata": {},
   "source": [
    "# Practical Statistics for Data Science"
   ]
  },
  {
   "cell_type": "markdown",
   "metadata": {},
   "source": [
    "## Cap 1"
   ]
  },
  {
   "cell_type": "markdown",
   "metadata": {},
   "source": [
    "### Estimacion de Ubicacion (Tendencia Central)"
   ]
  },
  {
   "cell_type": "markdown",
   "metadata": {},
   "source": [
    "- La Media es el valor promedio. The mean is the sum of all values divided by the number of values"
   ]
  },
  {
   "cell_type": "markdown",
   "metadata": {},
   "source": [
    "- La Media recortada (trimmed mean) eliminates the influence of extreme values. You calculate by dropping a fixed number of sorted values at each end and then taking an average of the remmainig value. "
   ]
  },
  {
   "cell_type": "markdown",
   "metadata": {},
   "source": [
    "- La Media ponderada (weighted mean) which you calculate by multiplying each data value by a user-specific weight and dividing their sum of the weights. Main motivations for using a weighted mean:\n",
    "\n",
    "    - Some values are intrinsically more variable than others.\n",
    "    - The data collected does not equally represent the difference groups that we are interested in measuring "
   ]
  },
  {
   "cell_type": "markdown",
   "metadata": {},
   "source": [
    "- La Mediana (median) is robust to outliers. Since the mean is much more sensitive to the data, there are many instances in which the median is a better metric for location "
   ]
  },
  {
   "cell_type": "markdown",
   "metadata": {},
   "source": [
    "- Outlier is any value that is very distant from the other values in a data set. Outlier should be identified and are usually worthy of further investigation"
   ]
  },
  {
   "cell_type": "markdown",
   "metadata": {},
   "source": [
    "- The trimmed mean is widely used to avoid  the influence of outliers"
   ]
  },
  {
   "cell_type": "markdown",
   "metadata": {},
   "source": [
    "#### Ejemplo: Estimaciones de ubicacion de poblacion y tasa de homicidios "
   ]
  },
  {
   "cell_type": "code",
   "execution_count": 2,
   "metadata": {},
   "outputs": [],
   "source": [
    "import pandas as pd\n",
    "import numpy as np"
   ]
  },
  {
   "cell_type": "code",
   "execution_count": 3,
   "metadata": {},
   "outputs": [
    {
     "name": "stdout",
     "output_type": "stream",
     "text": [
      "         State  Population  Murder.Rate Abbreviation\n",
      "0      Alabama     4779736          5.7           AL\n",
      "1       Alaska      710231          5.6           AK\n",
      "2      Arizona     6392017          4.7           AZ\n",
      "3     Arkansas     2915918          5.6           AR\n",
      "4   California    37253956          4.4           CA\n",
      "5     Colorado     5029196          2.8           CO\n",
      "6  Connecticut     3574097          2.4           CT\n",
      "7     Delaware      897934          5.8           DE\n"
     ]
    }
   ],
   "source": [
    "state = pd.read_csv('./data/state.csv') \n",
    "print(state.head(8))"
   ]
  },
  {
   "cell_type": "code",
   "execution_count": 4,
   "metadata": {},
   "outputs": [
    {
     "data": {
      "text/plain": [
       "6162876.3"
      ]
     },
     "execution_count": 4,
     "metadata": {},
     "output_type": "execute_result"
    }
   ],
   "source": [
    "#mean\n",
    "state['Population'].mean()"
   ]
  },
  {
   "cell_type": "code",
   "execution_count": 5,
   "metadata": {},
   "outputs": [
    {
     "data": {
      "text/plain": [
       "4783697.125"
      ]
     },
     "execution_count": 5,
     "metadata": {},
     "output_type": "execute_result"
    }
   ],
   "source": [
    "#trimmed mean\n",
    "from scipy.stats import trim_mean\n",
    "trim_mean(state['Population'], 0.1)"
   ]
  },
  {
   "cell_type": "code",
   "execution_count": 6,
   "metadata": {},
   "outputs": [
    {
     "data": {
      "text/plain": [
       "4436369.5"
      ]
     },
     "execution_count": 6,
     "metadata": {},
     "output_type": "execute_result"
    }
   ],
   "source": [
    "#median\n",
    "state['Population'].median()"
   ]
  },
  {
   "cell_type": "markdown",
   "metadata": {},
   "source": [
    "The mean is bigger than the trimmed mean, which is bigger than the median. This is because the trimmed mean excludes the largest and five states (trim=0.1 drops 10% from each end)"
   ]
  },
  {
   "cell_type": "markdown",
   "metadata": {},
   "source": [
    "Calculate the average murder rate for the country, we need to used a weighted mean or median to account for different populations in the states"
   ]
  },
  {
   "cell_type": "code",
   "execution_count": 7,
   "metadata": {},
   "outputs": [
    {
     "data": {
      "text/plain": [
       "4.445833981123393"
      ]
     },
     "execution_count": 7,
     "metadata": {},
     "output_type": "execute_result"
    }
   ],
   "source": [
    "#weighted mean\n",
    "np.average(state['Murder.Rate'], weights=state['Population'])"
   ]
  },
  {
   "cell_type": "code",
   "execution_count": 8,
   "metadata": {},
   "outputs": [
    {
     "data": {
      "text/plain": [
       "4.4"
      ]
     },
     "execution_count": 8,
     "metadata": {},
     "output_type": "execute_result"
    }
   ],
   "source": [
    "#weighted median\n",
    "import wquantiles\n",
    "\n",
    "wquantiles.median(state['Murder.Rate'], weights=state['Population'])"
   ]
  },
  {
   "cell_type": "markdown",
   "metadata": {},
   "source": [
    "the weighted mean and the weighted median are about the same"
   ]
  },
  {
   "cell_type": "markdown",
   "metadata": {},
   "source": [
    "### Estimate of Variability"
   ]
  },
  {
   "cell_type": "markdown",
   "metadata": {},
   "source": [
    "#### Estimacion de Variabilidad de la Poblacion de cada Estado"
   ]
  },
  {
   "cell_type": "markdown",
   "metadata": {},
   "source": [
    "Calculemos la Desviacion estandar, el rango intercuartil y la MAD para estimar la variabilidad de la poblacion de los estado"
   ]
  },
  {
   "cell_type": "code",
   "execution_count": 9,
   "metadata": {},
   "outputs": [
    {
     "name": "stdout",
     "output_type": "stream",
     "text": [
      "         State  Population  Murder.Rate Abbreviation\n",
      "0      Alabama     4779736          5.7           AL\n",
      "1       Alaska      710231          5.6           AK\n",
      "2      Arizona     6392017          4.7           AZ\n",
      "3     Arkansas     2915918          5.6           AR\n",
      "4   California    37253956          4.4           CA\n",
      "5     Colorado     5029196          2.8           CO\n",
      "6  Connecticut     3574097          2.4           CT\n",
      "7     Delaware      897934          5.8           DE\n"
     ]
    }
   ],
   "source": [
    "print(state.head(8))"
   ]
  },
  {
   "cell_type": "code",
   "execution_count": 10,
   "metadata": {},
   "outputs": [
    {
     "data": {
      "text/plain": [
       "6848235.347401142"
      ]
     },
     "execution_count": 10,
     "metadata": {},
     "output_type": "execute_result"
    }
   ],
   "source": [
    "#Standar Deviation\n",
    "state['Population'].std()"
   ]
  },
  {
   "cell_type": "code",
   "execution_count": 11,
   "metadata": {},
   "outputs": [
    {
     "data": {
      "text/plain": [
       "4847308.0"
      ]
     },
     "execution_count": 11,
     "metadata": {},
     "output_type": "execute_result"
    }
   ],
   "source": [
    "#IQR\n",
    "state['Population'].quantile(0.75) - state['Population'].quantile(0.25) "
   ]
  },
  {
   "cell_type": "code",
   "execution_count": 12,
   "metadata": {},
   "outputs": [
    {
     "data": {
      "text/plain": [
       "3849876.1459979336"
      ]
     },
     "execution_count": 12,
     "metadata": {},
     "output_type": "execute_result"
    }
   ],
   "source": [
    "#MAD\n",
    "from statsmodels import robust\n",
    "robust.scale.mad(state['Population'])"
   ]
  },
  {
   "cell_type": "markdown",
   "metadata": {},
   "source": [
    "La Desviacion Estandar es casi el doble de la MAD lo que indica que la Desviacion es sensible a outliers."
   ]
  },
  {
   "cell_type": "code",
   "execution_count": null,
   "metadata": {},
   "outputs": [],
   "source": []
  },
  {
   "cell_type": "markdown",
   "metadata": {},
   "source": [
    "### Explorando la distribucion de los datos"
   ]
  },
  {
   "cell_type": "markdown",
   "metadata": {},
   "source": [
    "muestra algunos percentiles de la tasa de homicidios por estado."
   ]
  },
  {
   "cell_type": "code",
   "execution_count": 13,
   "metadata": {},
   "outputs": [
    {
     "data": {
      "text/plain": [
       "0.05    1.600\n",
       "0.25    2.425\n",
       "0.50    4.000\n",
       "0.75    5.550\n",
       "0.95    6.510\n",
       "Name: Murder.Rate, dtype: float64"
      ]
     },
     "execution_count": 13,
     "metadata": {},
     "output_type": "execute_result"
    }
   ],
   "source": [
    "state['Murder.Rate'].quantile([0.05,0.25,0.50,0.75,0.95])"
   ]
  },
  {
   "cell_type": "markdown",
   "metadata": {},
   "source": [
    "La mediana es de 4 asesinatos por cada 100000 habitantes. El percentil 0.05 es de 1.6 y el percentil de 0.95 es de 6.51"
   ]
  },
  {
   "cell_type": "markdown",
   "metadata": {},
   "source": [
    "Muestra el Diagrama de Caja de las poblaciones estatales"
   ]
  },
  {
   "cell_type": "code",
   "execution_count": 14,
   "metadata": {},
   "outputs": [
    {
     "data": {
      "text/plain": [
       "Text(0, 0.5, 'Population (millions)')"
      ]
     },
     "execution_count": 14,
     "metadata": {},
     "output_type": "execute_result"
    },
    {
     "data": {
      "image/png": "[encoded data removed]",
      "text/plain": [
       "<Figure size 432x288 with 1 Axes>"
      ]
     },
     "metadata": {
      "needs_background": "light"
     },
     "output_type": "display_data"
    }
   ],
   "source": [
    "ax = (state['Population']/1_000_000).plot.box()\n",
    "ax.set_ylabel('Population (millions)')"
   ]
  },
  {
   "cell_type": "markdown",
   "metadata": {},
   "source": [
    "El grafico muestra que la poblacion estatal promedio es de aproximadamente 5 millones. La mitad de los estados se encuentran entre 2 y 7 millones. La parte superior e inferior de la caja son el 25 y 75 percentiles respectivamente. Las lineas discontinuas que salen de la caja muestra el rango para la mayor parte de los datos"
   ]
  },
  {
   "cell_type": "markdown",
   "metadata": {},
   "source": [
    "#### Tablas de Frecuencia e Histogramas"
   ]
  },
  {
   "cell_type": "markdown",
   "metadata": {},
   "source": [
    "Tabla de frecuencia de la poblacion por estado"
   ]
  },
  {
   "cell_type": "code",
   "execution_count": 15,
   "metadata": {},
   "outputs": [
    {
     "data": {
      "text/plain": [
       "(526935.67, 4232659.0]      24\n",
       "(4232659.0, 7901692.0]      14\n",
       "(7901692.0, 11570725.0]      6\n",
       "(11570725.0, 15239758.0]     2\n",
       "(15239758.0, 18908791.0]     1\n",
       "(18908791.0, 22577824.0]     1\n",
       "(22577824.0, 26246857.0]     1\n",
       "(33584923.0, 37253956.0]     1\n",
       "(26246857.0, 29915890.0]     0\n",
       "(29915890.0, 33584923.0]     0\n",
       "Name: Population, dtype: int64"
      ]
     },
     "execution_count": 15,
     "metadata": {},
     "output_type": "execute_result"
    }
   ],
   "source": [
    "bin_population = pd.cut(state['Population'], 10)\n",
    "bin_population.value_counts()"
   ]
  },
  {
   "cell_type": "markdown",
   "metadata": {},
   "source": [
    "El estado menos poblado es Wyoming, con 563.626 personas, y el más poblado es California, con 37.253.956 personas. Esto nos da un rango de 37,253,956 – 563,626 = 36,690,330, que debemos dividir en contenedores de igual tamaño, digamos 10 contenedores. con 10 contenedores de igual tamaño, cada contenedor tendrá un ancho de 3,669,033, por lo que el primer contenedor abarcará desde 563.626 a 4.232.658. Por el contrario, el contenedor superior, 33.584.923 a 37.253.956, solo tiene un estado: California"
   ]
  },
  {
   "cell_type": "markdown",
   "metadata": {},
   "source": [
    "#### Histograma de la poblacion estatal"
   ]
  },
  {
   "cell_type": "code",
   "execution_count": 16,
   "metadata": {},
   "outputs": [
    {
     "data": {
      "text/plain": [
       "Text(0.5, 0, 'Population (Millions')"
      ]
     },
     "execution_count": 16,
     "metadata": {},
     "output_type": "execute_result"
    },
    {
     "data": {
      "image/png": "[encoded data removed]",
      "text/plain": [
       "<Figure size 288x288 with 1 Axes>"
      ]
     },
     "metadata": {
      "needs_background": "light"
     },
     "output_type": "display_data"
    }
   ],
   "source": [
    "ax = (state['Population'] / 1_000_000).plot.hist(figsize=(4,4))\n",
    "ax.set_xlabel('Population (Millions')\n"
   ]
  },
  {
   "cell_type": "markdown",
   "metadata": {},
   "source": [
    "#### Grafico de Densidad"
   ]
  },
  {
   "cell_type": "markdown",
   "metadata": {},
   "source": [
    "Densidad de la tasa de homicidios estatales"
   ]
  },
  {
   "cell_type": "code",
   "execution_count": 17,
   "metadata": {},
   "outputs": [
    {
     "data": {
      "text/plain": [
       "Text(0.5, 0, 'Murder Rate (per 100,000)')"
      ]
     },
     "execution_count": 17,
     "metadata": {},
     "output_type": "execute_result"
    },
    {
     "data": {
      "image/png": "[encoded data removed]",
      "text/plain": [
       "<Figure size 432x288 with 1 Axes>"
      ]
     },
     "metadata": {
      "needs_background": "light"
     },
     "output_type": "display_data"
    }
   ],
   "source": [
    "ax = state['Murder.Rate'].plot.hist(density=True, xlim=[0,12], bins=range(1,12))\n",
    "state['Murder.Rate'].plot.density(ax=ax) # argumento opcional de eje ax, lo que hace que el grafico se agregue a otro grafico\n",
    "ax.set_xlabel ('Murder Rate (per 100,000)')\n"
   ]
  },
  {
   "cell_type": "markdown",
   "metadata": {},
   "source": [
    "### Explorando datos binarios y categoricos"
   ]
  },
  {
   "cell_type": "code",
   "execution_count": 18,
   "metadata": {},
   "outputs": [
    {
     "name": "stdout",
     "output_type": "stream",
     "text": [
      "    Carrier      ATC   Weather  Security    Inbound\n",
      "0  64263.16  84856.5  11235.42    343.15  118427.82\n"
     ]
    }
   ],
   "source": [
    "#importando los datos\n",
    "#Porcentaje de retrasos de vuelos causados por el retraso en el aereopueto Dallas/Fort\n",
    "dfw = pd.read_csv('./data/dfw_airline.csv')\n",
    "print(dfw.head())\n"
   ]
  },
  {
   "cell_type": "code",
   "execution_count": 19,
   "metadata": {},
   "outputs": [
    {
     "data": {
      "text/plain": [
       "Text(0, 0.5, 'Count')"
      ]
     },
     "execution_count": 19,
     "metadata": {},
     "output_type": "execute_result"
    },
    {
     "data": {
      "image/png": "[encoded data removed]",
      "text/plain": [
       "<Figure size 288x288 with 1 Axes>"
      ]
     },
     "metadata": {
      "needs_background": "light"
     },
     "output_type": "display_data"
    }
   ],
   "source": [
    "#Retrasos en el areopuerto Dallas/Fort por año, y sus diferentes causas\n",
    "ax = dfw.transpose().plot.bar(figsize=(4,4), legend=False)\n",
    "ax.set_xlabel('Cause of delay')\n",
    "ax.set_ylabel('Count')"
   ]
  },
  {
   "cell_type": "markdown",
   "metadata": {},
   "source": [
    "### Correlacion"
   ]
  },
  {
   "cell_type": "code",
   "execution_count": 20,
   "metadata": {},
   "outputs": [
    {
     "data": {
      "text/html": [
       "<div>\n",
       "<style scoped>\n",
       "    .dataframe tbody tr th:only-of-type {\n",
       "        vertical-align: middle;\n",
       "    }\n",
       "\n",
       "    .dataframe tbody tr th {\n",
       "        vertical-align: top;\n",
       "    }\n",
       "\n",
       "    .dataframe thead th {\n",
       "        text-align: right;\n",
       "    }\n",
       "</style>\n",
       "<table border=\"1\" class=\"dataframe\">\n",
       "  <thead>\n",
       "    <tr style=\"text-align: right;\">\n",
       "      <th></th>\n",
       "      <th>sector</th>\n",
       "      <th>sector_label</th>\n",
       "      <th>sub_sector</th>\n",
       "      <th>symbol</th>\n",
       "    </tr>\n",
       "  </thead>\n",
       "  <tbody>\n",
       "    <tr>\n",
       "      <th>0</th>\n",
       "      <td>information_technology</td>\n",
       "      <td>Technology</td>\n",
       "      <td>data_processing_&amp;_outsourced_services</td>\n",
       "      <td>ADS</td>\n",
       "    </tr>\n",
       "    <tr>\n",
       "      <th>1</th>\n",
       "      <td>information_technology</td>\n",
       "      <td>Technology</td>\n",
       "      <td>systems_software</td>\n",
       "      <td>CA</td>\n",
       "    </tr>\n",
       "    <tr>\n",
       "      <th>2</th>\n",
       "      <td>information_technology</td>\n",
       "      <td>Technology</td>\n",
       "      <td>systems_software</td>\n",
       "      <td>MSFT</td>\n",
       "    </tr>\n",
       "    <tr>\n",
       "      <th>3</th>\n",
       "      <td>information_technology</td>\n",
       "      <td>Technology</td>\n",
       "      <td>systems_software</td>\n",
       "      <td>RHT</td>\n",
       "    </tr>\n",
       "    <tr>\n",
       "      <th>4</th>\n",
       "      <td>information_technology</td>\n",
       "      <td>Technology</td>\n",
       "      <td>it_consulting_&amp;_services</td>\n",
       "      <td>CTSH</td>\n",
       "    </tr>\n",
       "    <tr>\n",
       "      <th>...</th>\n",
       "      <td>...</td>\n",
       "      <td>...</td>\n",
       "      <td>...</td>\n",
       "      <td>...</td>\n",
       "    </tr>\n",
       "    <tr>\n",
       "      <th>512</th>\n",
       "      <td>health_care</td>\n",
       "      <td>Health Care</td>\n",
       "      <td>biotechnology</td>\n",
       "      <td>CELG</td>\n",
       "    </tr>\n",
       "    <tr>\n",
       "      <th>513</th>\n",
       "      <td>health_care</td>\n",
       "      <td>Health Care</td>\n",
       "      <td>biotechnology</td>\n",
       "      <td>GILD</td>\n",
       "    </tr>\n",
       "    <tr>\n",
       "      <th>514</th>\n",
       "      <td>health_care</td>\n",
       "      <td>Health Care</td>\n",
       "      <td>biotechnology</td>\n",
       "      <td>REGN</td>\n",
       "    </tr>\n",
       "    <tr>\n",
       "      <th>515</th>\n",
       "      <td>health_care</td>\n",
       "      <td>Health Care</td>\n",
       "      <td>biotechnology</td>\n",
       "      <td>VRTX</td>\n",
       "    </tr>\n",
       "    <tr>\n",
       "      <th>516</th>\n",
       "      <td>health_care</td>\n",
       "      <td>Health Care</td>\n",
       "      <td>health_care_distributors</td>\n",
       "      <td>HSIC</td>\n",
       "    </tr>\n",
       "  </tbody>\n",
       "</table>\n",
       "<p>517 rows × 4 columns</p>\n",
       "</div>"
      ],
      "text/plain": [
       "                     sector sector_label  \\\n",
       "0    information_technology   Technology   \n",
       "1    information_technology   Technology   \n",
       "2    information_technology   Technology   \n",
       "3    information_technology   Technology   \n",
       "4    information_technology   Technology   \n",
       "..                      ...          ...   \n",
       "512             health_care  Health Care   \n",
       "513             health_care  Health Care   \n",
       "514             health_care  Health Care   \n",
       "515             health_care  Health Care   \n",
       "516             health_care  Health Care   \n",
       "\n",
       "                                sub_sector symbol  \n",
       "0    data_processing_&_outsourced_services    ADS  \n",
       "1                         systems_software     CA  \n",
       "2                         systems_software   MSFT  \n",
       "3                         systems_software    RHT  \n",
       "4                 it_consulting_&_services   CTSH  \n",
       "..                                     ...    ...  \n",
       "512                          biotechnology   CELG  \n",
       "513                          biotechnology   GILD  \n",
       "514                          biotechnology   REGN  \n",
       "515                          biotechnology   VRTX  \n",
       "516               health_care_distributors   HSIC  \n",
       "\n",
       "[517 rows x 4 columns]"
      ]
     },
     "execution_count": 20,
     "metadata": {},
     "output_type": "execute_result"
    }
   ],
   "source": [
    "# correlación entre los rendimientos diarios para acciones de telecomunicaciones \n",
    "# desde julio de 2012 hasta junio de 2015\n",
    "# importamos los datos\n",
    "\n",
    "sp500_sym = pd.read_csv('./data/sp500_sectors.csv') # Informacion de diferentes sectores\n",
    "sp500_px = pd.read_csv('./data/sp500_data.csv') # acciones de los diferentes sectores\n",
    "\n",
    "sp500_sym"
   ]
  },
  {
   "cell_type": "code",
   "execution_count": 21,
   "metadata": {},
   "outputs": [
    {
     "data": {
      "text/plain": [
       "332       T\n",
       "333     CTL\n",
       "334     FTR\n",
       "335      VZ\n",
       "336    LVLT\n",
       "Name: symbol, dtype: object"
      ]
     },
     "execution_count": 21,
     "metadata": {},
     "output_type": "execute_result"
    }
   ],
   "source": [
    "# determinamos los simbolos que representan las telecomunicaciones\n",
    "telecomSymbols = sp500_sym[sp500_sym['sector'] == 'telecommunications_services']['symbol']\n",
    "telecomSymbols"
   ]
  },
  {
   "cell_type": "code",
   "execution_count": 22,
   "metadata": {},
   "outputs": [
    {
     "data": {
      "text/plain": [
       "Index(['Unnamed: 0', 'ADS', 'CA', 'MSFT', 'RHT', 'CTSH', 'CSC', 'EMC', 'IBM',\n",
       "       'XRX',\n",
       "       ...\n",
       "       'WAT', 'ALXN', 'AMGN', 'BXLT', 'BIIB', 'CELG', 'GILD', 'REGN', 'VRTX',\n",
       "       'HSIC'],\n",
       "      dtype='object', length=518)"
      ]
     },
     "execution_count": 22,
     "metadata": {},
     "output_type": "execute_result"
    }
   ],
   "source": [
    "sp500_px.columns"
   ]
  },
  {
   "cell_type": "code",
   "execution_count": 23,
   "metadata": {},
   "outputs": [
    {
     "data": {
      "text/html": [
       "<div>\n",
       "<style scoped>\n",
       "    .dataframe tbody tr th:only-of-type {\n",
       "        vertical-align: middle;\n",
       "    }\n",
       "\n",
       "    .dataframe tbody tr th {\n",
       "        vertical-align: top;\n",
       "    }\n",
       "\n",
       "    .dataframe thead th {\n",
       "        text-align: right;\n",
       "    }\n",
       "</style>\n",
       "<table border=\"1\" class=\"dataframe\">\n",
       "  <thead>\n",
       "    <tr style=\"text-align: right;\">\n",
       "      <th></th>\n",
       "      <th>T</th>\n",
       "      <th>CTL</th>\n",
       "      <th>FTR</th>\n",
       "      <th>VZ</th>\n",
       "      <th>LVLT</th>\n",
       "    </tr>\n",
       "  </thead>\n",
       "  <tbody>\n",
       "    <tr>\n",
       "      <th>4893</th>\n",
       "      <td>0.422496</td>\n",
       "      <td>0.140847</td>\n",
       "      <td>0.070879</td>\n",
       "      <td>0.554180</td>\n",
       "      <td>-0.519998</td>\n",
       "    </tr>\n",
       "    <tr>\n",
       "      <th>4894</th>\n",
       "      <td>-0.177448</td>\n",
       "      <td>0.066280</td>\n",
       "      <td>0.070879</td>\n",
       "      <td>-0.025976</td>\n",
       "      <td>-0.049999</td>\n",
       "    </tr>\n",
       "    <tr>\n",
       "      <th>4895</th>\n",
       "      <td>-0.160548</td>\n",
       "      <td>-0.132563</td>\n",
       "      <td>0.055128</td>\n",
       "      <td>-0.051956</td>\n",
       "      <td>-0.180000</td>\n",
       "    </tr>\n",
       "    <tr>\n",
       "      <th>4896</th>\n",
       "      <td>0.342205</td>\n",
       "      <td>0.132563</td>\n",
       "      <td>0.007875</td>\n",
       "      <td>0.140106</td>\n",
       "      <td>-0.359999</td>\n",
       "    </tr>\n",
       "    <tr>\n",
       "      <th>4897</th>\n",
       "      <td>0.136883</td>\n",
       "      <td>0.124279</td>\n",
       "      <td>-0.023626</td>\n",
       "      <td>0.253943</td>\n",
       "      <td>0.180000</td>\n",
       "    </tr>\n",
       "    <tr>\n",
       "      <th>...</th>\n",
       "      <td>...</td>\n",
       "      <td>...</td>\n",
       "      <td>...</td>\n",
       "      <td>...</td>\n",
       "      <td>...</td>\n",
       "    </tr>\n",
       "    <tr>\n",
       "      <th>5642</th>\n",
       "      <td>0.049342</td>\n",
       "      <td>-1.600000</td>\n",
       "      <td>-0.040000</td>\n",
       "      <td>-0.187790</td>\n",
       "      <td>-0.330002</td>\n",
       "    </tr>\n",
       "    <tr>\n",
       "      <th>5643</th>\n",
       "      <td>-0.256586</td>\n",
       "      <td>0.039999</td>\n",
       "      <td>-0.070000</td>\n",
       "      <td>0.029650</td>\n",
       "      <td>-0.739998</td>\n",
       "    </tr>\n",
       "    <tr>\n",
       "      <th>5644</th>\n",
       "      <td>-0.098685</td>\n",
       "      <td>-0.559999</td>\n",
       "      <td>-0.060000</td>\n",
       "      <td>-0.504063</td>\n",
       "      <td>-1.360000</td>\n",
       "    </tr>\n",
       "    <tr>\n",
       "      <th>5645</th>\n",
       "      <td>-0.503298</td>\n",
       "      <td>-0.420000</td>\n",
       "      <td>-0.070000</td>\n",
       "      <td>-0.523829</td>\n",
       "      <td>0.199997</td>\n",
       "    </tr>\n",
       "    <tr>\n",
       "      <th>5646</th>\n",
       "      <td>-0.019737</td>\n",
       "      <td>0.080000</td>\n",
       "      <td>-0.050000</td>\n",
       "      <td>0.355811</td>\n",
       "      <td>0.139999</td>\n",
       "    </tr>\n",
       "  </tbody>\n",
       "</table>\n",
       "<p>754 rows × 5 columns</p>\n",
       "</div>"
      ],
      "text/plain": [
       "             T       CTL       FTR        VZ      LVLT\n",
       "4893  0.422496  0.140847  0.070879  0.554180 -0.519998\n",
       "4894 -0.177448  0.066280  0.070879 -0.025976 -0.049999\n",
       "4895 -0.160548 -0.132563  0.055128 -0.051956 -0.180000\n",
       "4896  0.342205  0.132563  0.007875  0.140106 -0.359999\n",
       "4897  0.136883  0.124279 -0.023626  0.253943  0.180000\n",
       "...        ...       ...       ...       ...       ...\n",
       "5642  0.049342 -1.600000 -0.040000 -0.187790 -0.330002\n",
       "5643 -0.256586  0.039999 -0.070000  0.029650 -0.739998\n",
       "5644 -0.098685 -0.559999 -0.060000 -0.504063 -1.360000\n",
       "5645 -0.503298 -0.420000 -0.070000 -0.523829  0.199997\n",
       "5646 -0.019737  0.080000 -0.050000  0.355811  0.139999\n",
       "\n",
       "[754 rows x 5 columns]"
      ]
     },
     "execution_count": 23,
     "metadata": {},
     "output_type": "execute_result"
    }
   ],
   "source": [
    "# Filtramos los datos de acciones por fecha desde julio de 2012 a junio de 2015\n",
    "telecom = sp500_px.loc[sp500_px['Unnamed: 0'] >= '2012-07-01', telecomSymbols]\n",
    "telecom.corr()\n",
    "telecom"
   ]
  },
  {
   "cell_type": "markdown",
   "metadata": {},
   "source": [
    "Nos enfocamos en las acciones de las principales bolsas"
   ]
  },
  {
   "cell_type": "code",
   "execution_count": 24,
   "metadata": {},
   "outputs": [
    {
     "name": "stdout",
     "output_type": "stream",
     "text": [
      "           XLI       QQQ       SPY       DIA       GLD    VXX       USO  \\\n",
      "4893 -0.376098  0.096313  0.028223 -0.242796  0.419998 -10.40  0.000000   \n",
      "4894  0.376099  0.481576  0.874936  0.728405  0.490006  -3.52  0.250000   \n",
      "4895  0.150440  0.096313 -0.103487  0.149420  0.239991   6.56 -0.070000   \n",
      "4896 -0.141040 -0.491201  0.018819 -0.205449 -0.519989  -8.80 -0.180000   \n",
      "4897  0.244465 -0.048160 -0.056445 -0.168094  0.429992  -0.48  0.459999   \n",
      "\n",
      "           IWM       XLE       XLY       XLU       XLB       XTL       XLV  \\\n",
      "4893  0.534641  0.028186  0.095759  0.098311 -0.093713  0.019076 -0.009529   \n",
      "4894  0.926067  0.995942  0.000000 -0.044686  0.337373  0.000000  0.000000   \n",
      "4895 -0.171848 -0.460387  0.306431 -0.151938  0.103086  0.019072 -0.142955   \n",
      "4896 -0.229128  0.206706  0.153214  0.080437  0.018744 -0.429213 -0.095304   \n",
      "4897 -0.190939 -0.234892 -0.201098 -0.035751 -0.168687  0.000000  0.352630   \n",
      "\n",
      "           XLP       XLF       XLK  \n",
      "4893  0.313499  0.018999  0.075668  \n",
      "4894  0.129087  0.104492  0.236462  \n",
      "4895 -0.073766 -0.142490  0.066211  \n",
      "4896  0.119865  0.066495 -0.227003  \n",
      "4897 -0.064548  0.018999  0.009457  \n"
     ]
    }
   ],
   "source": [
    "etfs = sp500_px.loc[sp500_px['Unnamed: 0'] > '2012-07-01', \n",
    "                    sp500_sym[sp500_sym['sector'] == 'etf']['symbol']]\n",
    "print(etfs.head())"
   ]
  },
  {
   "cell_type": "markdown",
   "metadata": {},
   "source": [
    "Trazamos la correlacion como mapa de calor con la libreria seaborn ya que la matriz de correlacion en esta caso es muy confusa"
   ]
  },
  {
   "cell_type": "code",
   "execution_count": 25,
   "metadata": {},
   "outputs": [
    {
     "data": {
      "image/png": "[encoded data removed]",
      "text/plain": [
       "<Figure size 360x288 with 2 Axes>"
      ]
     },
     "metadata": {
      "needs_background": "light"
     },
     "output_type": "display_data"
    }
   ],
   "source": [
    "import seaborn as sns\n",
    "import matplotlib.pylab as plt\n",
    "\n",
    "fig, ax = plt.subplots(figsize=(5,4))\n",
    "ax = sns.heatmap(etfs.corr(), vmin=-1, vmax=1, cmap=sns.diverging_palette(20, 200, as_cmap=True),\n",
    "                 ax=ax)\n",
    "\n",
    "plt.tight_layout()\n",
    "plt.show()"
   ]
  },
  {
   "cell_type": "markdown",
   "metadata": {},
   "source": [
    "### Scatterplot"
   ]
  },
  {
   "cell_type": "code",
   "execution_count": 26,
   "metadata": {},
   "outputs": [
    {
     "data": {
      "text/plain": [
       "<matplotlib.lines.Line2D at 0x7fa55a90ca90>"
      ]
     },
     "execution_count": 26,
     "metadata": {},
     "output_type": "execute_result"
    },
    {
     "data": {
      "image/png": "[encoded data removed]",
      "text/plain": [
       "<Figure size 288x288 with 1 Axes>"
      ]
     },
     "metadata": {
      "needs_background": "light"
     },
     "output_type": "display_data"
    }
   ],
   "source": [
    "# Grafico de Correlacion entre las devoluciones diarias para ATT y Verizon\n",
    "\n",
    "ax = telecom.plot.scatter(x='T', y='VZ', figsize=(4, 4), marker= '$\\u25EF$')\n",
    "ax.set_xlabel('ATT (T)')\n",
    "ax.set_ylabel('Verizon (VZ)')\n",
    "ax.axhline(0, color='grey', lw=1)\n",
    "ax.axvline(0, color='grey', lw=1)"
   ]
  },
  {
   "cell_type": "markdown",
   "metadata": {},
   "source": [
    "Los registros tienen una relación positiva: mientras se agrupan alrededor de cero, en la mayoría\n",
    "de días, las acciones suben o bajan en tándem (cuadrantes superior derecho e inferior izquierdo).\n",
    "Hay menos días en los que una acción baja significativamente mientras que la otra acción\n",
    "sube, o viceversa (cuadrantes inferior derecho y superior izquierdo).\n"
   ]
  },
  {
   "cell_type": "markdown",
   "metadata": {},
   "source": [
    "### Grafico de Contenedor Exagonal y de Contorno"
   ]
  },
  {
   "cell_type": "code",
   "execution_count": 32,
   "metadata": {},
   "outputs": [
    {
     "data": {
      "text/plain": [
       "Index(['TaxAssessedValue', 'SqFtTotLiving', 'ZipCode'], dtype='object')"
      ]
     },
     "execution_count": 32,
     "metadata": {},
     "output_type": "execute_result"
    }
   ],
   "source": [
    "# Dataset kc_tax contiene los valores de la tasa de impuesto para propiedades residenciales\n",
    "# en el condado de King, Washington. Eliminamos datos costosos para centrarnos el la parte\n",
    "# principal de los datos\n",
    "kc_tax = pd.read_csv('./data/kc_tax.csv')\n",
    "kc_tax.columns   #nombre de las columnas del dataset"
   ]
  },
  {
   "cell_type": "code",
   "execution_count": 34,
   "metadata": {},
   "outputs": [
    {
     "data": {
      "text/html": [
       "<div>\n",
       "<style scoped>\n",
       "    .dataframe tbody tr th:only-of-type {\n",
       "        vertical-align: middle;\n",
       "    }\n",
       "\n",
       "    .dataframe tbody tr th {\n",
       "        vertical-align: top;\n",
       "    }\n",
       "\n",
       "    .dataframe thead th {\n",
       "        text-align: right;\n",
       "    }\n",
       "</style>\n",
       "<table border=\"1\" class=\"dataframe\">\n",
       "  <thead>\n",
       "    <tr style=\"text-align: right;\">\n",
       "      <th></th>\n",
       "      <th>TaxAssessedValue</th>\n",
       "      <th>SqFtTotLiving</th>\n",
       "      <th>ZipCode</th>\n",
       "    </tr>\n",
       "  </thead>\n",
       "  <tbody>\n",
       "    <tr>\n",
       "      <th>0</th>\n",
       "      <td>NaN</td>\n",
       "      <td>1730</td>\n",
       "      <td>98117.0</td>\n",
       "    </tr>\n",
       "    <tr>\n",
       "      <th>1</th>\n",
       "      <td>206000.0</td>\n",
       "      <td>1870</td>\n",
       "      <td>98002.0</td>\n",
       "    </tr>\n",
       "    <tr>\n",
       "      <th>2</th>\n",
       "      <td>303000.0</td>\n",
       "      <td>1530</td>\n",
       "      <td>98166.0</td>\n",
       "    </tr>\n",
       "    <tr>\n",
       "      <th>3</th>\n",
       "      <td>361000.0</td>\n",
       "      <td>2000</td>\n",
       "      <td>98108.0</td>\n",
       "    </tr>\n",
       "    <tr>\n",
       "      <th>4</th>\n",
       "      <td>459000.0</td>\n",
       "      <td>3150</td>\n",
       "      <td>98108.0</td>\n",
       "    </tr>\n",
       "    <tr>\n",
       "      <th>...</th>\n",
       "      <td>...</td>\n",
       "      <td>...</td>\n",
       "      <td>...</td>\n",
       "    </tr>\n",
       "    <tr>\n",
       "      <th>498244</th>\n",
       "      <td>375000.0</td>\n",
       "      <td>2230</td>\n",
       "      <td>98056.0</td>\n",
       "    </tr>\n",
       "    <tr>\n",
       "      <th>498245</th>\n",
       "      <td>316000.0</td>\n",
       "      <td>1710</td>\n",
       "      <td>98056.0</td>\n",
       "    </tr>\n",
       "    <tr>\n",
       "      <th>498246</th>\n",
       "      <td>340000.0</td>\n",
       "      <td>1930</td>\n",
       "      <td>98056.0</td>\n",
       "    </tr>\n",
       "    <tr>\n",
       "      <th>498247</th>\n",
       "      <td>132000.0</td>\n",
       "      <td>2930</td>\n",
       "      <td>98056.0</td>\n",
       "    </tr>\n",
       "    <tr>\n",
       "      <th>498248</th>\n",
       "      <td>286000.0</td>\n",
       "      <td>1310</td>\n",
       "      <td>98056.0</td>\n",
       "    </tr>\n",
       "  </tbody>\n",
       "</table>\n",
       "<p>498249 rows × 3 columns</p>\n",
       "</div>"
      ],
      "text/plain": [
       "        TaxAssessedValue  SqFtTotLiving  ZipCode\n",
       "0                    NaN           1730  98117.0\n",
       "1               206000.0           1870  98002.0\n",
       "2               303000.0           1530  98166.0\n",
       "3               361000.0           2000  98108.0\n",
       "4               459000.0           3150  98108.0\n",
       "...                  ...            ...      ...\n",
       "498244          375000.0           2230  98056.0\n",
       "498245          316000.0           1710  98056.0\n",
       "498246          340000.0           1930  98056.0\n",
       "498247          132000.0           2930  98056.0\n",
       "498248          286000.0           1310  98056.0\n",
       "\n",
       "[498249 rows x 3 columns]"
      ]
     },
     "execution_count": 34,
     "metadata": {},
     "output_type": "execute_result"
    }
   ],
   "source": [
    "kc_tax"
   ]
  },
  {
   "cell_type": "code",
   "execution_count": 52,
   "metadata": {},
   "outputs": [
    {
     "name": "stdout",
     "output_type": "stream",
     "text": [
      "(417631, 3)\n"
     ]
    }
   ],
   "source": [
    "# Datos costosos: Residencias costosas, pequeñas o muy grandes\n",
    "kc_tax0 = kc_tax.loc[(kc_tax.TaxAssessedValue < 750000) & \n",
    "                    (kc_tax.SqFtTotLiving > 10) &\n",
    "                    (kc_tax.ZipCode > 35000), :]\n",
    "\n",
    "print(kc_tax0.shape)"
   ]
  },
  {
   "cell_type": "code",
   "execution_count": 46,
   "metadata": {},
   "outputs": [
    {
     "data": {
      "text/plain": [
       "Text(0, 0.5, 'Valor de tasa Fiscal')"
      ]
     },
     "execution_count": 46,
     "metadata": {},
     "output_type": "execute_result"
    },
    {
     "data": {
      "image/png": "[encoded data removed]",
      "text/plain": [
       "<Figure size 360x432 with 2 Axes>"
      ]
     },
     "metadata": {
      "needs_background": "light"
     },
     "output_type": "display_data"
    }
   ],
   "source": [
    "# Grafico de contenedor hexagonal\n",
    "ax = kc_tax0.plot.hexbin(x='SqFtTotLiving', y='TaxAssessedValue', gridsize=30,\n",
    "                        sharex=False, figsize=(5, 6))\n",
    "\n",
    "ax.set_xlabel('Metros cuadrados terminados')\n",
    "ax.set_ylabel('Valor de tasa Fiscal')"
   ]
  },
  {
   "cell_type": "markdown",
   "metadata": {},
   "source": [
    "Diagrama de binning hexagonal de la relacion entre los metros cuadrados terminados y la tasa fiscal para viviendad en el condado King. Este tipo de grafico permite agrupar los registros en contenedores hexagonales donde la intensidad del color indica el numero de registros en ese contenedor. Ayuda a que la visualizacion sea mejor"
   ]
  }
 ],
 "metadata": {
  "kernelspec": {
   "display_name": "Python 3.9.12 ('base')",
   "language": "python",
   "name": "python3"
  },
  "language_info": {
   "codemirror_mode": {
    "name": "ipython",
    "version": 3
   },
   "file_extension": ".py",
   "mimetype": "text/x-python",
   "name": "python",
   "nbconvert_exporter": "python",
   "pygments_lexer": "ipython3",
   "version": "3.9.12"
  },
  "orig_nbformat": 4,
  "vscode": {
   "interpreter": {
    "hash": "c0f017dc8777d339ca5b4ee9cb8474ceec98137a2b940b845dc19e34fda1df12"
   }
  }
 },
 "nbformat": 4,
 "nbformat_minor": 2
}
