{
 "cells": [
  {
   "cell_type": "markdown",
   "id": "ae0b6a48",
   "metadata": {},
   "source": [
    "# __Segmentacion de clientes en un comercio online__"
   ]
  },
  {
   "cell_type": "markdown",
   "id": "e358bcee",
   "metadata": {},
   "source": [
    "## Importar librerias"
   ]
  },
  {
   "cell_type": "code",
   "execution_count": 1,
   "id": "ff02b45a",
   "metadata": {},
   "outputs": [],
   "source": [
    "# librerias para el dataframe y la visualizacion\n",
    "import numpy as np\n",
    "import pandas as pd\n",
    "import matplotlib.pyplot as plt\n",
    "import seaborn as sns\n",
    "import datetime as dt\n",
    "\n",
    "# librerias para la clusterizacion\n",
    "import sklearn\n",
    "from sklearn.preprocessing import StandardScaler\n",
    "from sklearn.cluster import KMeans\n",
    "from sklearn.metrics import silhouette_score\n",
    "from scipy.cluster.hierarchy import linkage\n",
    "from scipy.cluster.hierarchy import dendrogram\n",
    "from scipy.cluster.hierarchy import cut_tree\n"
   ]
  },
  {
   "cell_type": "markdown",
   "id": "cb2d3fc7",
   "metadata": {},
   "source": [
    "## Cargar los datos"
   ]
  },
  {
   "cell_type": "code",
   "execution_count": 2,
   "id": "b6da0848",
   "metadata": {},
   "outputs": [
    {
     "data": {
      "text/html": [
       "<div>\n",
       "<style scoped>\n",
       "    .dataframe tbody tr th:only-of-type {\n",
       "        vertical-align: middle;\n",
       "    }\n",
       "\n",
       "    .dataframe tbody tr th {\n",
       "        vertical-align: top;\n",
       "    }\n",
       "\n",
       "    .dataframe thead th {\n",
       "        text-align: right;\n",
       "    }\n",
       "</style>\n",
       "<table border=\"1\" class=\"dataframe\">\n",
       "  <thead>\n",
       "    <tr style=\"text-align: right;\">\n",
       "      <th></th>\n",
       "      <th>InvoiceNo</th>\n",
       "      <th>StockCode</th>\n",
       "      <th>Description</th>\n",
       "      <th>Quantity</th>\n",
       "      <th>InvoiceDate</th>\n",
       "      <th>UnitPrice</th>\n",
       "      <th>CustomerID</th>\n",
       "      <th>Country</th>\n",
       "    </tr>\n",
       "  </thead>\n",
       "  <tbody>\n",
       "    <tr>\n",
       "      <th>0</th>\n",
       "      <td>536365</td>\n",
       "      <td>85123A</td>\n",
       "      <td>WHITE HANGING HEART T-LIGHT HOLDER</td>\n",
       "      <td>6</td>\n",
       "      <td>01-12-2010 08:26</td>\n",
       "      <td>2.55</td>\n",
       "      <td>17850.0</td>\n",
       "      <td>United Kingdom</td>\n",
       "    </tr>\n",
       "    <tr>\n",
       "      <th>1</th>\n",
       "      <td>536365</td>\n",
       "      <td>71053</td>\n",
       "      <td>WHITE METAL LANTERN</td>\n",
       "      <td>6</td>\n",
       "      <td>01-12-2010 08:26</td>\n",
       "      <td>3.39</td>\n",
       "      <td>17850.0</td>\n",
       "      <td>United Kingdom</td>\n",
       "    </tr>\n",
       "    <tr>\n",
       "      <th>2</th>\n",
       "      <td>536365</td>\n",
       "      <td>84406B</td>\n",
       "      <td>CREAM CUPID HEARTS COAT HANGER</td>\n",
       "      <td>8</td>\n",
       "      <td>01-12-2010 08:26</td>\n",
       "      <td>2.75</td>\n",
       "      <td>17850.0</td>\n",
       "      <td>United Kingdom</td>\n",
       "    </tr>\n",
       "    <tr>\n",
       "      <th>3</th>\n",
       "      <td>536365</td>\n",
       "      <td>84029G</td>\n",
       "      <td>KNITTED UNION FLAG HOT WATER BOTTLE</td>\n",
       "      <td>6</td>\n",
       "      <td>01-12-2010 08:26</td>\n",
       "      <td>3.39</td>\n",
       "      <td>17850.0</td>\n",
       "      <td>United Kingdom</td>\n",
       "    </tr>\n",
       "    <tr>\n",
       "      <th>4</th>\n",
       "      <td>536365</td>\n",
       "      <td>84029E</td>\n",
       "      <td>RED WOOLLY HOTTIE WHITE HEART.</td>\n",
       "      <td>6</td>\n",
       "      <td>01-12-2010 08:26</td>\n",
       "      <td>3.39</td>\n",
       "      <td>17850.0</td>\n",
       "      <td>United Kingdom</td>\n",
       "    </tr>\n",
       "  </tbody>\n",
       "</table>\n",
       "</div>"
      ],
      "text/plain": [
       "  InvoiceNo StockCode                          Description  Quantity  \\\n",
       "0    536365    85123A   WHITE HANGING HEART T-LIGHT HOLDER         6   \n",
       "1    536365     71053                  WHITE METAL LANTERN         6   \n",
       "2    536365    84406B       CREAM CUPID HEARTS COAT HANGER         8   \n",
       "3    536365    84029G  KNITTED UNION FLAG HOT WATER BOTTLE         6   \n",
       "4    536365    84029E       RED WOOLLY HOTTIE WHITE HEART.         6   \n",
       "\n",
       "        InvoiceDate  UnitPrice  CustomerID         Country  \n",
       "0  01-12-2010 08:26       2.55     17850.0  United Kingdom  \n",
       "1  01-12-2010 08:26       3.39     17850.0  United Kingdom  \n",
       "2  01-12-2010 08:26       2.75     17850.0  United Kingdom  \n",
       "3  01-12-2010 08:26       3.39     17850.0  United Kingdom  \n",
       "4  01-12-2010 08:26       3.39     17850.0  United Kingdom  "
      ]
     },
     "execution_count": 2,
     "metadata": {},
     "output_type": "execute_result"
    }
   ],
   "source": [
    "retail_df = pd.read_csv('./OnlineRetail.csv', sep=',', encoding='ISO-8859-1', header=0)\n",
    "retail_df.head()"
   ]
  },
  {
   "cell_type": "code",
   "execution_count": 3,
   "id": "319f2ff9",
   "metadata": {},
   "outputs": [
    {
     "data": {
      "text/plain": [
       "(541909, 8)"
      ]
     },
     "execution_count": 3,
     "metadata": {},
     "output_type": "execute_result"
    }
   ],
   "source": [
    "# tamano del dataset\n",
    "retail_df.shape"
   ]
  },
  {
   "cell_type": "markdown",
   "id": "8ca50bdb",
   "metadata": {},
   "source": [
    "> El dataset presenta 541.909 registros y solo 8 columnas."
   ]
  },
  {
   "cell_type": "code",
   "execution_count": 4,
   "id": "073b920e",
   "metadata": {},
   "outputs": [
    {
     "name": "stdout",
     "output_type": "stream",
     "text": [
      "<class 'pandas.core.frame.DataFrame'>\n",
      "RangeIndex: 541909 entries, 0 to 541908\n",
      "Data columns (total 8 columns):\n",
      " #   Column       Non-Null Count   Dtype  \n",
      "---  ------       --------------   -----  \n",
      " 0   InvoiceNo    541909 non-null  object \n",
      " 1   StockCode    541909 non-null  object \n",
      " 2   Description  540455 non-null  object \n",
      " 3   Quantity     541909 non-null  int64  \n",
      " 4   InvoiceDate  541909 non-null  object \n",
      " 5   UnitPrice    541909 non-null  float64\n",
      " 6   CustomerID   406829 non-null  float64\n",
      " 7   Country      541909 non-null  object \n",
      "dtypes: float64(2), int64(1), object(5)\n",
      "memory usage: 33.1+ MB\n"
     ]
    }
   ],
   "source": [
    "# tipo de dato de cada variable\n",
    "retail_df.info()"
   ]
  },
  {
   "cell_type": "markdown",
   "id": "3cba398b",
   "metadata": {},
   "source": [
    "> 5 de las 8 variables son de tipo object. Hay que tenerlo en cuenta. "
   ]
  },
  {
   "cell_type": "markdown",
   "id": "c276e9bc",
   "metadata": {},
   "source": [
    "## Acerca de los datos"
   ]
  },
  {
   "cell_type": "markdown",
   "id": "50dde282",
   "metadata": {},
   "source": [
    "Este es un conjunto de datos con todas las transacciones realizadas entre el 01/12/2010 y el 09/12/2011 para una tienda online sin establecimientos físicos con sede en el Reino Unido. La empresa vende principalmente regalos únicos para cualquier ocasión. Muchos de sus clientes son mayoristas.\n",
    "\n",
    "Las variables que contienen los datos son:\n",
    "\n",
    "- _InvoiceNo_: Numero de factura. Es un numero entero de 6 digitos asignado de forma unica a cada transaccion. si este codigo empieza con la letra \"c\", indica una cancelacion.\n",
    "\n",
    "- _StockCode_: Codigo de stock del producto. Es un numero de 5 digitos asignado de forma unica a cada producto.\n",
    "\n",
    "- _Description_: Nombre del producto.\n",
    "\n",
    "- _Quantity_: Cantidades de cada producto por transaccion.\n",
    "\n",
    "- _InvoiceDate_: Fecha de factura. Marca el dia y la hora en que se genero cada transaccion.\n",
    "\n",
    "- _UnitPrice_: Precio del producto por unidad.\n",
    "\n",
    "- _CustomerID_: Numero integral de 5 digitos asignado de forma unica a cada cliente.\n",
    "\n",
    "- _Country_: Nombre del pais donde reside cada cliente.\n",
    "\n",
    "El objetivo es segmentar a los clientes en funcion del __RFM__ para que la empresa pueda dirigirse a sus clientes de manera eficiente. El __RFM__ es una tecnica basada en 3 variables que indican el valor y comportamiento de compra de cada cliente. Estas son: Recency (tiempo que ha pasado desde la ultima compra), Frequency (frecuencia de compra del cliente) y Monetary (dinero total gastado)."
   ]
  },
  {
   "cell_type": "markdown",
   "id": "52b67705",
   "metadata": {},
   "source": [
    "## Resumen estadistico de las variables numericas"
   ]
  },
  {
   "cell_type": "code",
   "execution_count": 5,
   "id": "2a6225d9",
   "metadata": {},
   "outputs": [
    {
     "data": {
      "text/html": [
       "<div>\n",
       "<style scoped>\n",
       "    .dataframe tbody tr th:only-of-type {\n",
       "        vertical-align: middle;\n",
       "    }\n",
       "\n",
       "    .dataframe tbody tr th {\n",
       "        vertical-align: top;\n",
       "    }\n",
       "\n",
       "    .dataframe thead th {\n",
       "        text-align: right;\n",
       "    }\n",
       "</style>\n",
       "<table border=\"1\" class=\"dataframe\">\n",
       "  <thead>\n",
       "    <tr style=\"text-align: right;\">\n",
       "      <th></th>\n",
       "      <th>Quantity</th>\n",
       "      <th>UnitPrice</th>\n",
       "      <th>CustomerID</th>\n",
       "    </tr>\n",
       "  </thead>\n",
       "  <tbody>\n",
       "    <tr>\n",
       "      <th>count</th>\n",
       "      <td>541909.000000</td>\n",
       "      <td>541909.000000</td>\n",
       "      <td>406829.000000</td>\n",
       "    </tr>\n",
       "    <tr>\n",
       "      <th>mean</th>\n",
       "      <td>9.552250</td>\n",
       "      <td>4.611114</td>\n",
       "      <td>15287.690570</td>\n",
       "    </tr>\n",
       "    <tr>\n",
       "      <th>std</th>\n",
       "      <td>218.081158</td>\n",
       "      <td>96.759853</td>\n",
       "      <td>1713.600303</td>\n",
       "    </tr>\n",
       "    <tr>\n",
       "      <th>min</th>\n",
       "      <td>-80995.000000</td>\n",
       "      <td>-11062.060000</td>\n",
       "      <td>12346.000000</td>\n",
       "    </tr>\n",
       "    <tr>\n",
       "      <th>25%</th>\n",
       "      <td>1.000000</td>\n",
       "      <td>1.250000</td>\n",
       "      <td>13953.000000</td>\n",
       "    </tr>\n",
       "    <tr>\n",
       "      <th>50%</th>\n",
       "      <td>3.000000</td>\n",
       "      <td>2.080000</td>\n",
       "      <td>15152.000000</td>\n",
       "    </tr>\n",
       "    <tr>\n",
       "      <th>75%</th>\n",
       "      <td>10.000000</td>\n",
       "      <td>4.130000</td>\n",
       "      <td>16791.000000</td>\n",
       "    </tr>\n",
       "    <tr>\n",
       "      <th>max</th>\n",
       "      <td>80995.000000</td>\n",
       "      <td>38970.000000</td>\n",
       "      <td>18287.000000</td>\n",
       "    </tr>\n",
       "  </tbody>\n",
       "</table>\n",
       "</div>"
      ],
      "text/plain": [
       "            Quantity      UnitPrice     CustomerID\n",
       "count  541909.000000  541909.000000  406829.000000\n",
       "mean        9.552250       4.611114   15287.690570\n",
       "std       218.081158      96.759853    1713.600303\n",
       "min    -80995.000000  -11062.060000   12346.000000\n",
       "25%         1.000000       1.250000   13953.000000\n",
       "50%         3.000000       2.080000   15152.000000\n",
       "75%        10.000000       4.130000   16791.000000\n",
       "max     80995.000000   38970.000000   18287.000000"
      ]
     },
     "execution_count": 5,
     "metadata": {},
     "output_type": "execute_result"
    }
   ],
   "source": [
    "retail_df.describe()"
   ]
  },
  {
   "cell_type": "markdown",
   "id": "54fdb572",
   "metadata": {},
   "source": [
    "__Sobre Cantidad__\n",
    "\n",
    "> Hay 541.909 datos, valor que coincide con la cantidad de registros. Esto indica que la variable no presenta valores faltantes.\n",
    "\n",
    "> Presenta una media de 9.5 unidades por transaccion.\n",
    "\n",
    "> El valor de std es muy alto (218.08) lo que indica que los datos estan muy dispersos probablemente por la presencia de valores atipicos. La distribucion no es normal.\n",
    "\n",
    "> 25% de las transacciones tienen 1 o 0 unidades.\n",
    "\n",
    "> 50% de las transacciones tienen 3 o menos unidades.\n",
    "\n",
    "> 75% tienen 10 o menos unidades.\n",
    "\n",
    "> El valor de min es negativo lo que posiblemente representa devoluciones.\n",
    "\n",
    "__Sobre Precio Unitario__\n",
    "\n",
    "> Presenta la misma cantidad de registros lo que nos indica que la variable no presenta valores faltantes.\n",
    "\n",
    "> La media es de 4.61$ por unidad.\n",
    "\n",
    "> El valor de std es muy alto (96.76$) lo que sugiere la presencia de precios muy altos.\n",
    "\n",
    "> El valor de min es negativo lo cual no es valido. Sugiere la presencial de outliers.\n",
    "\n",
    "> 25% de las transacciones son de 1.25$.\n",
    "\n",
    "> 50% de las transacciones son de 2.08$.\n",
    "\n",
    "> 75% de las transacciones son de 4.13$.\n",
    "\n",
    "__Sobre CustomerID__\n",
    "\n",
    "> Presenta 406.829 datos, lo que difiere considerablemente con la cantidad total de registro lo que implica la presencia de valores nulos. \n",
    "\n",
    "> Esta variable es un identificador de los clientes por lo que no tiene un significado estadistico relevante."
   ]
  },
  {
   "cell_type": "markdown",
   "id": "703ede32",
   "metadata": {},
   "source": [
    "## Resumen estadistico de las variables categoricas"
   ]
  },
  {
   "cell_type": "code",
   "execution_count": 6,
   "id": "99ed77ef",
   "metadata": {},
   "outputs": [
    {
     "data": {
      "text/html": [
       "<div>\n",
       "<style scoped>\n",
       "    .dataframe tbody tr th:only-of-type {\n",
       "        vertical-align: middle;\n",
       "    }\n",
       "\n",
       "    .dataframe tbody tr th {\n",
       "        vertical-align: top;\n",
       "    }\n",
       "\n",
       "    .dataframe thead th {\n",
       "        text-align: right;\n",
       "    }\n",
       "</style>\n",
       "<table border=\"1\" class=\"dataframe\">\n",
       "  <thead>\n",
       "    <tr style=\"text-align: right;\">\n",
       "      <th></th>\n",
       "      <th>InvoiceNo</th>\n",
       "      <th>StockCode</th>\n",
       "      <th>Description</th>\n",
       "      <th>InvoiceDate</th>\n",
       "      <th>Country</th>\n",
       "    </tr>\n",
       "  </thead>\n",
       "  <tbody>\n",
       "    <tr>\n",
       "      <th>count</th>\n",
       "      <td>541909</td>\n",
       "      <td>541909</td>\n",
       "      <td>540455</td>\n",
       "      <td>541909</td>\n",
       "      <td>541909</td>\n",
       "    </tr>\n",
       "    <tr>\n",
       "      <th>unique</th>\n",
       "      <td>25900</td>\n",
       "      <td>4070</td>\n",
       "      <td>4223</td>\n",
       "      <td>23260</td>\n",
       "      <td>38</td>\n",
       "    </tr>\n",
       "    <tr>\n",
       "      <th>top</th>\n",
       "      <td>573585</td>\n",
       "      <td>85123A</td>\n",
       "      <td>WHITE HANGING HEART T-LIGHT HOLDER</td>\n",
       "      <td>31-10-2011 14:41</td>\n",
       "      <td>United Kingdom</td>\n",
       "    </tr>\n",
       "    <tr>\n",
       "      <th>freq</th>\n",
       "      <td>1114</td>\n",
       "      <td>2313</td>\n",
       "      <td>2369</td>\n",
       "      <td>1114</td>\n",
       "      <td>495478</td>\n",
       "    </tr>\n",
       "  </tbody>\n",
       "</table>\n",
       "</div>"
      ],
      "text/plain": [
       "       InvoiceNo StockCode                         Description  \\\n",
       "count     541909    541909                              540455   \n",
       "unique     25900      4070                                4223   \n",
       "top       573585    85123A  WHITE HANGING HEART T-LIGHT HOLDER   \n",
       "freq        1114      2313                                2369   \n",
       "\n",
       "             InvoiceDate         Country  \n",
       "count             541909          541909  \n",
       "unique             23260              38  \n",
       "top     31-10-2011 14:41  United Kingdom  \n",
       "freq                1114          495478  "
      ]
     },
     "execution_count": 6,
     "metadata": {},
     "output_type": "execute_result"
    }
   ],
   "source": [
    "retail_df.describe(include=['object'])"
   ]
  },
  {
   "cell_type": "markdown",
   "id": "87f1c627",
   "metadata": {},
   "source": [
    "__Sobre Numero de factura__\n",
    "\n",
    "> Presenta la misma cantidad de registros lo que indica que no hay valores nulos.\n",
    "\n",
    "> Existen 25900 facturas unicas, o mejor dicho, 25900 clientes.\n",
    "\n",
    "> La factura mas frecuente es la 573585 con 1114 apariciones.\n",
    "\n",
    "__Sobre el codigo del producto__\n",
    "\n",
    "> Presenta la misma cantidad de registros lo que indica que no hay valores nulos.\n",
    "\n",
    "> Hay 4070 productos diferentes.\n",
    "\n",
    "> El producto mas vendido tiene el codigo 85123A el cual ha sido vendido 2313 veces.\n",
    "\n",
    "__Sobre la Descripcion__\n",
    "\n",
    "> Hay 540.455 descripciones. Faltan 1.454 descripciones que probablemente sean valores nulos.\n",
    "\n",
    "> El producto mas frecuente de acuerdo a su descripcion fue \"WHITE HANGING HEART T-LIGHT HOLDER\" cuya presencia fue de 2369 veces.\n",
    "\n",
    "__Sobre Fecha y Hora de la factura__\n",
    "\n",
    "> No presenta valores nulos.\n",
    "\n",
    "> Hay 23.260 momentos diferentes de venta\n",
    "\n",
    "> El momento donde hubo mayor cantidad de venta fue 31-10-2011 a las 14:41 con un valor de 1114 ventas.\n",
    "\n",
    "__Sobre Pais__\n",
    "\n",
    "> No presenta valores nulos.\n",
    "\n",
    "> Se vendio a clientes de 38 paises.\n",
    "\n",
    "> El pais con mayor transacciones fue Reino unido con un total de 495.478 ventas."
   ]
  },
  {
   "cell_type": "markdown",
   "id": "ac41ee69",
   "metadata": {},
   "source": [
    "## Limpieza de datos"
   ]
  },
  {
   "cell_type": "markdown",
   "id": "b8d4c195",
   "metadata": {},
   "source": [
    "### Porcentaje de valores faltantes por variable"
   ]
  },
  {
   "cell_type": "code",
   "execution_count": 7,
   "id": "7c2de2c6",
   "metadata": {},
   "outputs": [
    {
     "data": {
      "text/plain": [
       "InvoiceNo       0.00\n",
       "StockCode       0.00\n",
       "Description     0.27\n",
       "Quantity        0.00\n",
       "InvoiceDate     0.00\n",
       "UnitPrice       0.00\n",
       "CustomerID     24.93\n",
       "Country         0.00\n",
       "dtype: float64"
      ]
     },
     "execution_count": 7,
     "metadata": {},
     "output_type": "execute_result"
    }
   ],
   "source": [
    "df_nulo = round(retail_df.isnull().sum()/len(retail_df)*100, 2)\n",
    "df_nulo"
   ]
  },
  {
   "cell_type": "markdown",
   "id": "e98de3ed",
   "metadata": {},
   "source": [
    "> El 24.93% de valores en CustomerID son valores faltantes. Esto representa un alto procentaje de clientes que no podemos identificar.\n",
    "\n",
    "> El 0.27% de los valores en Description son faltantes. Es una cifra pequeña en comparacion con la otra variable que posee. Ademas, esta variable no es tan significativa para nuestro objetivo.\n",
    "\n",
    "> Procedemos a eliminar los registros  con valores faltantes en la variable CustomerID."
   ]
  },
  {
   "cell_type": "code",
   "execution_count": 8,
   "id": "484fc506",
   "metadata": {},
   "outputs": [
    {
     "name": "stdout",
     "output_type": "stream",
     "text": [
      "<class 'pandas.core.frame.DataFrame'>\n",
      "Int64Index: 406829 entries, 0 to 541908\n",
      "Data columns (total 8 columns):\n",
      " #   Column       Non-Null Count   Dtype  \n",
      "---  ------       --------------   -----  \n",
      " 0   InvoiceNo    406829 non-null  object \n",
      " 1   StockCode    406829 non-null  object \n",
      " 2   Description  406829 non-null  object \n",
      " 3   Quantity     406829 non-null  int64  \n",
      " 4   InvoiceDate  406829 non-null  object \n",
      " 5   UnitPrice    406829 non-null  float64\n",
      " 6   CustomerID   406829 non-null  float64\n",
      " 7   Country      406829 non-null  object \n",
      "dtypes: float64(2), int64(1), object(5)\n",
      "memory usage: 27.9+ MB\n"
     ]
    }
   ],
   "source": [
    "retail_df = retail_df.dropna(subset=['CustomerID'])\n",
    "retail_df.info()"
   ]
  },
  {
   "cell_type": "markdown",
   "id": "4df548c7",
   "metadata": {},
   "source": [
    ">  El resumen nos muestra que los valores faltantes en Description correspondian a valores faltantes en CustomerID por lo que todo el dataframe quedo libre de valores faltantes."
   ]
  },
  {
   "cell_type": "markdown",
   "id": "338877ce",
   "metadata": {},
   "source": [
    "### Cambiar el tipo de dato de CustomerID segun en entendimiento comercial"
   ]
  },
  {
   "cell_type": "code",
   "execution_count": 9,
   "id": "98142a6c",
   "metadata": {},
   "outputs": [
    {
     "name": "stdout",
     "output_type": "stream",
     "text": [
      "<class 'pandas.core.frame.DataFrame'>\n",
      "Int64Index: 406829 entries, 0 to 541908\n",
      "Data columns (total 8 columns):\n",
      " #   Column       Non-Null Count   Dtype  \n",
      "---  ------       --------------   -----  \n",
      " 0   InvoiceNo    406829 non-null  object \n",
      " 1   StockCode    406829 non-null  object \n",
      " 2   Description  406829 non-null  object \n",
      " 3   Quantity     406829 non-null  int64  \n",
      " 4   InvoiceDate  406829 non-null  object \n",
      " 5   UnitPrice    406829 non-null  float64\n",
      " 6   CustomerID   406829 non-null  object \n",
      " 7   Country      406829 non-null  object \n",
      "dtypes: float64(1), int64(1), object(6)\n",
      "memory usage: 27.9+ MB\n"
     ]
    }
   ],
   "source": [
    "# convertir CustomerID a string\n",
    "retail_df['CustomerID'] = retail_df['CustomerID'].astype(str)\n",
    "retail_df.info()"
   ]
  },
  {
   "cell_type": "markdown",
   "id": "8492a5be",
   "metadata": {},
   "source": [
    "## Preparacion de los datos"
   ]
  },
  {
   "cell_type": "markdown",
   "id": "31c867c8",
   "metadata": {},
   "source": [
    "Vamos a analizar a los clientes mediante tres variables:\n",
    "\n",
    "- R (Recency): Tiempo que ha pasado desde la ultima compra.\n",
    "- F (Frecuencia): Numero de transacciones por cliente.\n",
    "- M (Monetary): Importe total de transacciones por cliente.\n",
    "\n",
    "Vamos a obtener estas tres variables a partir de los datos dados."
   ]
  },
  {
   "cell_type": "markdown",
   "id": "52bdc59c",
   "metadata": {},
   "source": [
    "### __Monetary__"
   ]
  },
  {
   "cell_type": "code",
   "execution_count": 10,
   "id": "ec413c0c",
   "metadata": {},
   "outputs": [
    {
     "data": {
      "text/html": [
       "<div>\n",
       "<style scoped>\n",
       "    .dataframe tbody tr th:only-of-type {\n",
       "        vertical-align: middle;\n",
       "    }\n",
       "\n",
       "    .dataframe tbody tr th {\n",
       "        vertical-align: top;\n",
       "    }\n",
       "\n",
       "    .dataframe thead th {\n",
       "        text-align: right;\n",
       "    }\n",
       "</style>\n",
       "<table border=\"1\" class=\"dataframe\">\n",
       "  <thead>\n",
       "    <tr style=\"text-align: right;\">\n",
       "      <th></th>\n",
       "      <th>CustomerID</th>\n",
       "      <th>Amount</th>\n",
       "    </tr>\n",
       "  </thead>\n",
       "  <tbody>\n",
       "    <tr>\n",
       "      <th>0</th>\n",
       "      <td>12346.0</td>\n",
       "      <td>0.00</td>\n",
       "    </tr>\n",
       "    <tr>\n",
       "      <th>1</th>\n",
       "      <td>12347.0</td>\n",
       "      <td>4310.00</td>\n",
       "    </tr>\n",
       "    <tr>\n",
       "      <th>2</th>\n",
       "      <td>12348.0</td>\n",
       "      <td>1797.24</td>\n",
       "    </tr>\n",
       "    <tr>\n",
       "      <th>3</th>\n",
       "      <td>12349.0</td>\n",
       "      <td>1757.55</td>\n",
       "    </tr>\n",
       "    <tr>\n",
       "      <th>4</th>\n",
       "      <td>12350.0</td>\n",
       "      <td>334.40</td>\n",
       "    </tr>\n",
       "  </tbody>\n",
       "</table>\n",
       "</div>"
      ],
      "text/plain": [
       "  CustomerID   Amount\n",
       "0    12346.0     0.00\n",
       "1    12347.0  4310.00\n",
       "2    12348.0  1797.24\n",
       "3    12349.0  1757.55\n",
       "4    12350.0   334.40"
      ]
     },
     "execution_count": 10,
     "metadata": {},
     "output_type": "execute_result"
    }
   ],
   "source": [
    "# calcular el total de cada transaccion y guardamos en una nueva columna\n",
    "retail_df['Amount'] = retail_df['Quantity']*retail_df['UnitPrice']\n",
    "\n",
    "# calcular el gasto total por cliente\n",
    "rfm_m = retail_df.groupby('CustomerID')['Amount'].sum()\n",
    "\n",
    "# convertir serie en un dataframe\n",
    "rfm_m = rfm_m.reset_index()\n",
    "\n",
    "rfm_m.head()"
   ]
  },
  {
   "cell_type": "markdown",
   "id": "cc2ee812",
   "metadata": {},
   "source": [
    "### __Frequency__"
   ]
  },
  {
   "cell_type": "code",
   "execution_count": 11,
   "id": "65af61c6",
   "metadata": {},
   "outputs": [
    {
     "data": {
      "text/html": [
       "<div>\n",
       "<style scoped>\n",
       "    .dataframe tbody tr th:only-of-type {\n",
       "        vertical-align: middle;\n",
       "    }\n",
       "\n",
       "    .dataframe tbody tr th {\n",
       "        vertical-align: top;\n",
       "    }\n",
       "\n",
       "    .dataframe thead th {\n",
       "        text-align: right;\n",
       "    }\n",
       "</style>\n",
       "<table border=\"1\" class=\"dataframe\">\n",
       "  <thead>\n",
       "    <tr style=\"text-align: right;\">\n",
       "      <th></th>\n",
       "      <th>CustomerID</th>\n",
       "      <th>Frequency</th>\n",
       "    </tr>\n",
       "  </thead>\n",
       "  <tbody>\n",
       "    <tr>\n",
       "      <th>0</th>\n",
       "      <td>12346.0</td>\n",
       "      <td>2</td>\n",
       "    </tr>\n",
       "    <tr>\n",
       "      <th>1</th>\n",
       "      <td>12347.0</td>\n",
       "      <td>182</td>\n",
       "    </tr>\n",
       "    <tr>\n",
       "      <th>2</th>\n",
       "      <td>12348.0</td>\n",
       "      <td>31</td>\n",
       "    </tr>\n",
       "    <tr>\n",
       "      <th>3</th>\n",
       "      <td>12349.0</td>\n",
       "      <td>73</td>\n",
       "    </tr>\n",
       "    <tr>\n",
       "      <th>4</th>\n",
       "      <td>12350.0</td>\n",
       "      <td>17</td>\n",
       "    </tr>\n",
       "  </tbody>\n",
       "</table>\n",
       "</div>"
      ],
      "text/plain": [
       "  CustomerID  Frequency\n",
       "0    12346.0          2\n",
       "1    12347.0        182\n",
       "2    12348.0         31\n",
       "3    12349.0         73\n",
       "4    12350.0         17"
      ]
     },
     "execution_count": 11,
     "metadata": {},
     "output_type": "execute_result"
    }
   ],
   "source": [
    "# contar la cantidad de facturas de cada cliente\n",
    "rfm_f = retail_df.groupby('CustomerID')['InvoiceNo'].count()\n",
    "\n",
    "# convertir serie en dataframe\n",
    "rfm_f = rfm_f.reset_index()\n",
    "\n",
    "# renombrar columnas para que sean claras\n",
    "rfm_f.columns = ['CustomerID', 'Frequency']\n",
    "\n",
    "rfm_f.head()"
   ]
  },
  {
   "cell_type": "markdown",
   "id": "4ab7a681",
   "metadata": {},
   "source": [
    "### __Recency__"
   ]
  },
  {
   "cell_type": "code",
   "execution_count": 12,
   "id": "b320e8a2",
   "metadata": {},
   "outputs": [],
   "source": [
    "# convertir fecha y hora al tipo de dato adecuado\n",
    "retail_df['InvoiceDate'] = pd.to_datetime(retail_df['InvoiceDate'], format='%d-%m-%Y %H:%M')"
   ]
  },
  {
   "cell_type": "code",
   "execution_count": 13,
   "id": "35d32ac7",
   "metadata": {},
   "outputs": [
    {
     "data": {
      "text/plain": [
       "Timestamp('2011-12-09 12:50:00')"
      ]
     },
     "execution_count": 13,
     "metadata": {},
     "output_type": "execute_result"
    }
   ],
   "source": [
    "# calcular la fecha maxima para conocer la fecha de la ultima transaccion\n",
    "max_date = max(retail_df['InvoiceDate'])\n",
    "max_date"
   ]
  },
  {
   "cell_type": "code",
   "execution_count": 14,
   "id": "237ffba7",
   "metadata": {},
   "outputs": [
    {
     "data": {
      "text/html": [
       "<div>\n",
       "<style scoped>\n",
       "    .dataframe tbody tr th:only-of-type {\n",
       "        vertical-align: middle;\n",
       "    }\n",
       "\n",
       "    .dataframe tbody tr th {\n",
       "        vertical-align: top;\n",
       "    }\n",
       "\n",
       "    .dataframe thead th {\n",
       "        text-align: right;\n",
       "    }\n",
       "</style>\n",
       "<table border=\"1\" class=\"dataframe\">\n",
       "  <thead>\n",
       "    <tr style=\"text-align: right;\">\n",
       "      <th></th>\n",
       "      <th>InvoiceNo</th>\n",
       "      <th>StockCode</th>\n",
       "      <th>Description</th>\n",
       "      <th>Quantity</th>\n",
       "      <th>InvoiceDate</th>\n",
       "      <th>UnitPrice</th>\n",
       "      <th>CustomerID</th>\n",
       "      <th>Country</th>\n",
       "      <th>Amount</th>\n",
       "      <th>Diff_dates</th>\n",
       "    </tr>\n",
       "  </thead>\n",
       "  <tbody>\n",
       "    <tr>\n",
       "      <th>0</th>\n",
       "      <td>536365</td>\n",
       "      <td>85123A</td>\n",
       "      <td>WHITE HANGING HEART T-LIGHT HOLDER</td>\n",
       "      <td>6</td>\n",
       "      <td>2010-12-01 08:26:00</td>\n",
       "      <td>2.55</td>\n",
       "      <td>17850.0</td>\n",
       "      <td>United Kingdom</td>\n",
       "      <td>15.30</td>\n",
       "      <td>373 days 04:24:00</td>\n",
       "    </tr>\n",
       "    <tr>\n",
       "      <th>1</th>\n",
       "      <td>536365</td>\n",
       "      <td>71053</td>\n",
       "      <td>WHITE METAL LANTERN</td>\n",
       "      <td>6</td>\n",
       "      <td>2010-12-01 08:26:00</td>\n",
       "      <td>3.39</td>\n",
       "      <td>17850.0</td>\n",
       "      <td>United Kingdom</td>\n",
       "      <td>20.34</td>\n",
       "      <td>373 days 04:24:00</td>\n",
       "    </tr>\n",
       "    <tr>\n",
       "      <th>2</th>\n",
       "      <td>536365</td>\n",
       "      <td>84406B</td>\n",
       "      <td>CREAM CUPID HEARTS COAT HANGER</td>\n",
       "      <td>8</td>\n",
       "      <td>2010-12-01 08:26:00</td>\n",
       "      <td>2.75</td>\n",
       "      <td>17850.0</td>\n",
       "      <td>United Kingdom</td>\n",
       "      <td>22.00</td>\n",
       "      <td>373 days 04:24:00</td>\n",
       "    </tr>\n",
       "    <tr>\n",
       "      <th>3</th>\n",
       "      <td>536365</td>\n",
       "      <td>84029G</td>\n",
       "      <td>KNITTED UNION FLAG HOT WATER BOTTLE</td>\n",
       "      <td>6</td>\n",
       "      <td>2010-12-01 08:26:00</td>\n",
       "      <td>3.39</td>\n",
       "      <td>17850.0</td>\n",
       "      <td>United Kingdom</td>\n",
       "      <td>20.34</td>\n",
       "      <td>373 days 04:24:00</td>\n",
       "    </tr>\n",
       "    <tr>\n",
       "      <th>4</th>\n",
       "      <td>536365</td>\n",
       "      <td>84029E</td>\n",
       "      <td>RED WOOLLY HOTTIE WHITE HEART.</td>\n",
       "      <td>6</td>\n",
       "      <td>2010-12-01 08:26:00</td>\n",
       "      <td>3.39</td>\n",
       "      <td>17850.0</td>\n",
       "      <td>United Kingdom</td>\n",
       "      <td>20.34</td>\n",
       "      <td>373 days 04:24:00</td>\n",
       "    </tr>\n",
       "  </tbody>\n",
       "</table>\n",
       "</div>"
      ],
      "text/plain": [
       "  InvoiceNo StockCode                          Description  Quantity  \\\n",
       "0    536365    85123A   WHITE HANGING HEART T-LIGHT HOLDER         6   \n",
       "1    536365     71053                  WHITE METAL LANTERN         6   \n",
       "2    536365    84406B       CREAM CUPID HEARTS COAT HANGER         8   \n",
       "3    536365    84029G  KNITTED UNION FLAG HOT WATER BOTTLE         6   \n",
       "4    536365    84029E       RED WOOLLY HOTTIE WHITE HEART.         6   \n",
       "\n",
       "          InvoiceDate  UnitPrice CustomerID         Country  Amount  \\\n",
       "0 2010-12-01 08:26:00       2.55    17850.0  United Kingdom   15.30   \n",
       "1 2010-12-01 08:26:00       3.39    17850.0  United Kingdom   20.34   \n",
       "2 2010-12-01 08:26:00       2.75    17850.0  United Kingdom   22.00   \n",
       "3 2010-12-01 08:26:00       3.39    17850.0  United Kingdom   20.34   \n",
       "4 2010-12-01 08:26:00       3.39    17850.0  United Kingdom   20.34   \n",
       "\n",
       "         Diff_dates  \n",
       "0 373 days 04:24:00  \n",
       "1 373 days 04:24:00  \n",
       "2 373 days 04:24:00  \n",
       "3 373 days 04:24:00  \n",
       "4 373 days 04:24:00  "
      ]
     },
     "execution_count": 14,
     "metadata": {},
     "output_type": "execute_result"
    }
   ],
   "source": [
    "# calcular la diferencia entre la fecha maxima y la fecha de cada transaccion\n",
    "# guardar en una nueva columna\n",
    "retail_df['Diff_dates'] = max_date - retail_df['InvoiceDate']\n",
    "retail_df.head()"
   ]
  },
  {
   "cell_type": "code",
   "execution_count": 15,
   "id": "d3b633e2",
   "metadata": {},
   "outputs": [
    {
     "data": {
      "text/html": [
       "<div>\n",
       "<style scoped>\n",
       "    .dataframe tbody tr th:only-of-type {\n",
       "        vertical-align: middle;\n",
       "    }\n",
       "\n",
       "    .dataframe tbody tr th {\n",
       "        vertical-align: top;\n",
       "    }\n",
       "\n",
       "    .dataframe thead th {\n",
       "        text-align: right;\n",
       "    }\n",
       "</style>\n",
       "<table border=\"1\" class=\"dataframe\">\n",
       "  <thead>\n",
       "    <tr style=\"text-align: right;\">\n",
       "      <th></th>\n",
       "      <th>CustomerID</th>\n",
       "      <th>Diff_dates</th>\n",
       "    </tr>\n",
       "  </thead>\n",
       "  <tbody>\n",
       "    <tr>\n",
       "      <th>0</th>\n",
       "      <td>12346.0</td>\n",
       "      <td>325 days 02:33:00</td>\n",
       "    </tr>\n",
       "    <tr>\n",
       "      <th>1</th>\n",
       "      <td>12347.0</td>\n",
       "      <td>1 days 20:58:00</td>\n",
       "    </tr>\n",
       "    <tr>\n",
       "      <th>2</th>\n",
       "      <td>12348.0</td>\n",
       "      <td>74 days 23:37:00</td>\n",
       "    </tr>\n",
       "    <tr>\n",
       "      <th>3</th>\n",
       "      <td>12349.0</td>\n",
       "      <td>18 days 02:59:00</td>\n",
       "    </tr>\n",
       "    <tr>\n",
       "      <th>4</th>\n",
       "      <td>12350.0</td>\n",
       "      <td>309 days 20:49:00</td>\n",
       "    </tr>\n",
       "  </tbody>\n",
       "</table>\n",
       "</div>"
      ],
      "text/plain": [
       "  CustomerID        Diff_dates\n",
       "0    12346.0 325 days 02:33:00\n",
       "1    12347.0   1 days 20:58:00\n",
       "2    12348.0  74 days 23:37:00\n",
       "3    12349.0  18 days 02:59:00\n",
       "4    12350.0 309 days 20:49:00"
      ]
     },
     "execution_count": 15,
     "metadata": {},
     "output_type": "execute_result"
    }
   ],
   "source": [
    "# Calcular la fecha de la ultima transaccion para obtener la antiguedad de los clientes\n",
    "rfm_r = retail_df.groupby('CustomerID')['Diff_dates'].min()\n",
    "\n",
    "# convertir serie en dataframe\n",
    "rfm_r = rfm_r.reset_index()\n",
    "\n",
    "rfm_r.head()"
   ]
  },
  {
   "cell_type": "code",
   "execution_count": 16,
   "id": "740958f6",
   "metadata": {},
   "outputs": [
    {
     "data": {
      "text/html": [
       "<div>\n",
       "<style scoped>\n",
       "    .dataframe tbody tr th:only-of-type {\n",
       "        vertical-align: middle;\n",
       "    }\n",
       "\n",
       "    .dataframe tbody tr th {\n",
       "        vertical-align: top;\n",
       "    }\n",
       "\n",
       "    .dataframe thead th {\n",
       "        text-align: right;\n",
       "    }\n",
       "</style>\n",
       "<table border=\"1\" class=\"dataframe\">\n",
       "  <thead>\n",
       "    <tr style=\"text-align: right;\">\n",
       "      <th></th>\n",
       "      <th>CustomerID</th>\n",
       "      <th>Diff_dates</th>\n",
       "    </tr>\n",
       "  </thead>\n",
       "  <tbody>\n",
       "    <tr>\n",
       "      <th>0</th>\n",
       "      <td>12346.0</td>\n",
       "      <td>325</td>\n",
       "    </tr>\n",
       "    <tr>\n",
       "      <th>1</th>\n",
       "      <td>12347.0</td>\n",
       "      <td>1</td>\n",
       "    </tr>\n",
       "    <tr>\n",
       "      <th>2</th>\n",
       "      <td>12348.0</td>\n",
       "      <td>74</td>\n",
       "    </tr>\n",
       "    <tr>\n",
       "      <th>3</th>\n",
       "      <td>12349.0</td>\n",
       "      <td>18</td>\n",
       "    </tr>\n",
       "    <tr>\n",
       "      <th>4</th>\n",
       "      <td>12350.0</td>\n",
       "      <td>309</td>\n",
       "    </tr>\n",
       "  </tbody>\n",
       "</table>\n",
       "</div>"
      ],
      "text/plain": [
       "  CustomerID  Diff_dates\n",
       "0    12346.0         325\n",
       "1    12347.0           1\n",
       "2    12348.0          74\n",
       "3    12349.0          18\n",
       "4    12350.0         309"
      ]
     },
     "execution_count": 16,
     "metadata": {},
     "output_type": "execute_result"
    }
   ],
   "source": [
    "# Extraer solo el numero de dias\n",
    "rfm_r['Diff_dates'] = rfm_r['Diff_dates'].dt.days\n",
    "rfm_r.head()"
   ]
  },
  {
   "cell_type": "markdown",
   "id": "428d1fe7",
   "metadata": {},
   "source": [
    "### __Unir variables en un df__"
   ]
  },
  {
   "cell_type": "code",
   "execution_count": 17,
   "id": "44c80e1a",
   "metadata": {},
   "outputs": [
    {
     "data": {
      "text/html": [
       "<div>\n",
       "<style scoped>\n",
       "    .dataframe tbody tr th:only-of-type {\n",
       "        vertical-align: middle;\n",
       "    }\n",
       "\n",
       "    .dataframe tbody tr th {\n",
       "        vertical-align: top;\n",
       "    }\n",
       "\n",
       "    .dataframe thead th {\n",
       "        text-align: right;\n",
       "    }\n",
       "</style>\n",
       "<table border=\"1\" class=\"dataframe\">\n",
       "  <thead>\n",
       "    <tr style=\"text-align: right;\">\n",
       "      <th></th>\n",
       "      <th>CustomerID</th>\n",
       "      <th>Monetary</th>\n",
       "      <th>Frequency</th>\n",
       "      <th>Recency</th>\n",
       "    </tr>\n",
       "  </thead>\n",
       "  <tbody>\n",
       "    <tr>\n",
       "      <th>0</th>\n",
       "      <td>12346.0</td>\n",
       "      <td>0.00</td>\n",
       "      <td>2</td>\n",
       "      <td>325</td>\n",
       "    </tr>\n",
       "    <tr>\n",
       "      <th>1</th>\n",
       "      <td>12347.0</td>\n",
       "      <td>4310.00</td>\n",
       "      <td>182</td>\n",
       "      <td>1</td>\n",
       "    </tr>\n",
       "    <tr>\n",
       "      <th>2</th>\n",
       "      <td>12348.0</td>\n",
       "      <td>1797.24</td>\n",
       "      <td>31</td>\n",
       "      <td>74</td>\n",
       "    </tr>\n",
       "    <tr>\n",
       "      <th>3</th>\n",
       "      <td>12349.0</td>\n",
       "      <td>1757.55</td>\n",
       "      <td>73</td>\n",
       "      <td>18</td>\n",
       "    </tr>\n",
       "    <tr>\n",
       "      <th>4</th>\n",
       "      <td>12350.0</td>\n",
       "      <td>334.40</td>\n",
       "      <td>17</td>\n",
       "      <td>309</td>\n",
       "    </tr>\n",
       "  </tbody>\n",
       "</table>\n",
       "</div>"
      ],
      "text/plain": [
       "  CustomerID  Monetary  Frequency  Recency\n",
       "0    12346.0      0.00          2      325\n",
       "1    12347.0   4310.00        182        1\n",
       "2    12348.0   1797.24         31       74\n",
       "3    12349.0   1757.55         73       18\n",
       "4    12350.0    334.40         17      309"
      ]
     },
     "execution_count": 17,
     "metadata": {},
     "output_type": "execute_result"
    }
   ],
   "source": [
    "rfm = pd.merge(rfm_m, rfm_f, on='CustomerID', how='inner')\n",
    "rfm = pd.merge(rfm, rfm_r, on='CustomerID', how='inner')\n",
    "\n",
    "# renombrar columnas\n",
    "rfm.columns = ['CustomerID', 'Monetary', 'Frequency', 'Recency']\n",
    "rfm.head()"
   ]
  },
  {
   "cell_type": "markdown",
   "id": "1eda531c",
   "metadata": {},
   "source": [
    "### __Tratar Outliers__"
   ]
  },
  {
   "cell_type": "markdown",
   "id": "f052d250",
   "metadata": {},
   "source": [
    "Trataremos los outliers ya que alteran la distribucion de los datos como percatamos en los resumenes estadisticos. Existen dos tipos de outliers:\n",
    "\n",
    "- Estadisticos.\n",
    "\n",
    "- De dominio especifico."
   ]
  },
  {
   "cell_type": "markdown",
   "id": "6be1225e",
   "metadata": {},
   "source": [
    "__Analisis de Outliers en Monetary, Frequency y Recency__"
   ]
  },
  {
   "cell_type": "code",
   "execution_count": 18,
   "id": "b41533f4",
   "metadata": {},
   "outputs": [
    {
     "data": {
      "image/png": "[encoded data removed]",
      "text/plain": [
       "<Figure size 720x576 with 1 Axes>"
      ]
     },
     "metadata": {
      "needs_background": "light"
     },
     "output_type": "display_data"
    }
   ],
   "source": [
    "# definimos las variables a analizar\n",
    "atributos = ['Monetary', 'Frequency', 'Recency']\n",
    "\n",
    "# ajustar tamano del grafico en pulgadas\n",
    "plt.rcParams['figure.figsize'] = [10, 8]\n",
    "\n",
    "# boxplot\n",
    "sns.boxplot(\n",
    "    data=rfm[atributos], \n",
    "    orient='v',         # orientacion del grafico\n",
    "    palette='Set1',     # paleta de colores\n",
    "    whis=1.5,           # limite del bigote. 1.5 veces el IQR\n",
    "    saturation=1,       # intensidad de color maximo\n",
    "    width=0.7           # ancho de la caja\n",
    "    )\n",
    "\n",
    "# propiedades del grafico\n",
    "plt.title('Distribucion de valores atipicos en las variables', fontsize=14, fontweight='bold')\n",
    "plt.ylabel('Rango', fontweight='bold')\n",
    "plt.xlabel('Atributos', fontweight='bold')\n",
    "plt.show()"
   ]
  },
  {
   "cell_type": "markdown",
   "id": "83738dea",
   "metadata": {},
   "source": [
    "> Monetary presenta una gran cantidad de outliers. La mayoria de sus datos se concentran cerca del eje inferior. Hay ciertos clientes que han gastado cantidades muy altas (mayores a 250.000) lo que genera una distribucion muy sesgada.\n",
    "\n",
    "> Frequency presenta algunos outliers. La mayoria de los clientes han comprado pocas veces. Unos pocos clientes compran muy frecuentemente (clientes leales)\n",
    "\n",
    "> Recency presenta pocos outliers. La mayoria de los clientes hicieron su ultima compra en un rango cercano."
   ]
  },
  {
   "cell_type": "code",
   "execution_count": 19,
   "id": "a4e3896d",
   "metadata": {},
   "outputs": [
    {
     "name": "stdout",
     "output_type": "stream",
     "text": [
      "Registros totales de rfm:  4372\n"
     ]
    }
   ],
   "source": [
    "# cantidad de registros en rfm\n",
    "regis = rfm.shape[0]\n",
    "print('Registros totales de rfm: ', regis)"
   ]
  },
  {
   "cell_type": "markdown",
   "id": "c62d16ab",
   "metadata": {},
   "source": [
    "__Remover outliers estadisticos en Monetary__"
   ]
  },
  {
   "cell_type": "code",
   "execution_count": 20,
   "id": "ce55767e",
   "metadata": {},
   "outputs": [
    {
     "name": "stdout",
     "output_type": "stream",
     "text": [
      "Registros totales de rfm sin outliers en Monetary:  4313\n",
      "Registros eliminados:  59\n",
      "Porcentaje eliminado:  1.35\n"
     ]
    }
   ],
   "source": [
    "# calcular el rango intercuartil\n",
    "Q1 = rfm.Monetary.quantile(0.05)\n",
    "Q3 = rfm.Monetary.quantile(0.95)\n",
    "IQR = Q3 - Q1\n",
    "\n",
    "# omitir clientes que esten fuera del rango de 1.5 veces IQR\n",
    "rfm = rfm[(rfm.Monetary >= Q1 - 1.5*IQR) & (rfm.Monetary <= Q3 + 1.5*IQR)]\n",
    "\n",
    "# cantidad de registros sin outliers en Monetary\n",
    "regis_m = rfm.shape[0]\n",
    "print('Registros totales de rfm sin outliers en Monetary: ', regis_m)\n",
    "print('Registros eliminados: ', regis - regis_m)\n",
    "print('Porcentaje eliminado: ', round(((regis - regis_m)/regis)*100, 2))"
   ]
  },
  {
   "cell_type": "markdown",
   "id": "0a55b032",
   "metadata": {},
   "source": [
    "__Remover outliers estadisticos en Recency__"
   ]
  },
  {
   "cell_type": "code",
   "execution_count": 21,
   "id": "e67ea5e4",
   "metadata": {},
   "outputs": [
    {
     "name": "stdout",
     "output_type": "stream",
     "text": [
      "Registros totales de rfm sin outliers en Monetary y en Recency:  4313\n",
      "Registros eliminados:  0\n",
      "Porcentaje eliminado:  0.0\n"
     ]
    }
   ],
   "source": [
    "# calcular el rango intercuartil\n",
    "Q1 = rfm.Recency.quantile(0.05)\n",
    "Q3 = rfm.Recency.quantile(0.95)\n",
    "IQR = Q3 - Q1\n",
    "\n",
    "# omitir clientes que esten fuera del rango de 1.5 veces IQR\n",
    "rfm = rfm[(rfm.Recency >= Q1 - 1.5*IQR) & (rfm.Recency <= Q3 + 1.5*IQR)]\n",
    "\n",
    "# cantidad de registros sin outliers en Recency y monetary\n",
    "regis_mr = rfm.shape[0]\n",
    "print('Registros totales de rfm sin outliers en Monetary y en Recency: ', regis_mr)\n",
    "print('Registros eliminados: ', regis_m - regis_mr)\n",
    "print('Porcentaje eliminado: ', round(((regis_m - regis_mr)/regis_m)*100, 2))"
   ]
  },
  {
   "cell_type": "markdown",
   "id": "e659f94d",
   "metadata": {},
   "source": [
    "__Remover outliers estadisticos en Frequency__"
   ]
  },
  {
   "cell_type": "code",
   "execution_count": 22,
   "id": "22e94c51",
   "metadata": {},
   "outputs": [
    {
     "name": "stdout",
     "output_type": "stream",
     "text": [
      "Registros totales libres de outliers:  4293\n",
      "Registros eliminados:  20\n",
      "Porcentaje eliminado:  0.46\n"
     ]
    }
   ],
   "source": [
    "# calcular el rango intercuartil\n",
    "Q1 = rfm.Frequency.quantile(0.05)\n",
    "Q3 = rfm.Frequency.quantile(0.95)\n",
    "IQR = Q3 - Q1\n",
    "\n",
    "# omitir clientes que esten fuera del rango de 1.5 veces IQR\n",
    "rfm = rfm[(rfm.Frequency >= Q1 - 1.5*IQR) & (rfm.Frequency <= Q3 + 1.5*IQR)]\n",
    "\n",
    "# cantidad de registros sin outliers en ningun atributo\n",
    "regis_mrf = rfm.shape[0]\n",
    "print('Registros totales libres de outliers: ', regis_mrf)\n",
    "print('Registros eliminados: ', regis_mr - regis_mrf)\n",
    "print('Porcentaje eliminado: ', round(((regis_mr - regis_mrf)/regis_mr)*100, 2))"
   ]
  },
  {
   "cell_type": "markdown",
   "id": "577169b5",
   "metadata": {},
   "source": [
    "### __Reescalando variables__"
   ]
  },
  {
   "cell_type": "markdown",
   "id": "7689fe12",
   "metadata": {},
   "source": [
    "Este proceso es importante para que todas las variables tengan una misma escala."
   ]
  },
  {
   "cell_type": "code",
   "execution_count": 23,
   "id": "df15be3e",
   "metadata": {},
   "outputs": [
    {
     "data": {
      "text/plain": [
       "array([[-0.72373821, -0.75288754,  2.30161144],\n",
       "       [ 1.73161722,  1.04246665, -0.90646561],\n",
       "       [ 0.30012791, -0.46363604, -0.18365813],\n",
       "       ...,\n",
       "       [-0.67769602, -0.70301659,  0.86589794],\n",
       "       [-0.6231313 , -0.64317145, -0.84705678],\n",
       "       [ 0.32293822, -0.07464263, -0.50050524]])"
      ]
     },
     "execution_count": 23,
     "metadata": {},
     "output_type": "execute_result"
    }
   ],
   "source": [
    "# seleccionamos las variables del dataframe\n",
    "rfm_df = rfm[['Monetary', 'Frequency', 'Recency']]\n",
    "\n",
    "# instanciamos el escalador\n",
    "scaler = StandardScaler()\n",
    "\n",
    "# ajustamos el escalador a los datos\n",
    "rfm_df_scaled = scaler.fit_transform(rfm_df)\n",
    "rfm_df_scaled"
   ]
  },
  {
   "cell_type": "code",
   "execution_count": 24,
   "id": "bdf75bb6",
   "metadata": {},
   "outputs": [
    {
     "data": {
      "text/html": [
       "<div>\n",
       "<style scoped>\n",
       "    .dataframe tbody tr th:only-of-type {\n",
       "        vertical-align: middle;\n",
       "    }\n",
       "\n",
       "    .dataframe tbody tr th {\n",
       "        vertical-align: top;\n",
       "    }\n",
       "\n",
       "    .dataframe thead th {\n",
       "        text-align: right;\n",
       "    }\n",
       "</style>\n",
       "<table border=\"1\" class=\"dataframe\">\n",
       "  <thead>\n",
       "    <tr style=\"text-align: right;\">\n",
       "      <th></th>\n",
       "      <th>Monetary</th>\n",
       "      <th>Frequency</th>\n",
       "      <th>Recency</th>\n",
       "    </tr>\n",
       "  </thead>\n",
       "  <tbody>\n",
       "    <tr>\n",
       "      <th>0</th>\n",
       "      <td>-0.723738</td>\n",
       "      <td>-0.752888</td>\n",
       "      <td>2.301611</td>\n",
       "    </tr>\n",
       "    <tr>\n",
       "      <th>1</th>\n",
       "      <td>1.731617</td>\n",
       "      <td>1.042467</td>\n",
       "      <td>-0.906466</td>\n",
       "    </tr>\n",
       "    <tr>\n",
       "      <th>2</th>\n",
       "      <td>0.300128</td>\n",
       "      <td>-0.463636</td>\n",
       "      <td>-0.183658</td>\n",
       "    </tr>\n",
       "    <tr>\n",
       "      <th>3</th>\n",
       "      <td>0.277517</td>\n",
       "      <td>-0.044720</td>\n",
       "      <td>-0.738141</td>\n",
       "    </tr>\n",
       "    <tr>\n",
       "      <th>4</th>\n",
       "      <td>-0.533235</td>\n",
       "      <td>-0.603275</td>\n",
       "      <td>2.143188</td>\n",
       "    </tr>\n",
       "  </tbody>\n",
       "</table>\n",
       "</div>"
      ],
      "text/plain": [
       "   Monetary  Frequency   Recency\n",
       "0 -0.723738  -0.752888  2.301611\n",
       "1  1.731617   1.042467 -0.906466\n",
       "2  0.300128  -0.463636 -0.183658\n",
       "3  0.277517  -0.044720 -0.738141\n",
       "4 -0.533235  -0.603275  2.143188"
      ]
     },
     "execution_count": 24,
     "metadata": {},
     "output_type": "execute_result"
    }
   ],
   "source": [
    "# convertimos serie en dataframe\n",
    "rfm_df_scaled = pd.DataFrame(rfm_df_scaled)\n",
    "rfm_df_scaled.columns = ['Monetary', 'Frequency', 'Recency']\n",
    "rfm_df_scaled.head()"
   ]
  },
  {
   "cell_type": "markdown",
   "id": "9c7a75e4",
   "metadata": {},
   "source": [
    "## Construir Modelo K-Means"
   ]
  },
  {
   "cell_type": "markdown",
   "id": "e45a9a8a",
   "metadata": {},
   "source": [
    "Este modelo requiere inicializarlo con un numero de clustering definido. Vamos a iniciar con un numero de clustering de 4."
   ]
  },
  {
   "cell_type": "code",
   "execution_count": 25,
   "id": "ce4bfe7a",
   "metadata": {},
   "outputs": [
    {
     "data": {
      "text/html": [
       "<style>#sk-container-id-1 {color: black;background-color: white;}#sk-container-id-1 pre{padding: 0;}#sk-container-id-1 div.sk-toggleable {background-color: white;}#sk-container-id-1 label.sk-toggleable__label {cursor: pointer;display: block;width: 100%;margin-bottom: 0;padding: 0.3em;box-sizing: border-box;text-align: center;}#sk-container-id-1 label.sk-toggleable__label-arrow:before {content: \"▸\";float: left;margin-right: 0.25em;color: #696969;}#sk-container-id-1 label.sk-toggleable__label-arrow:hover:before {color: black;}#sk-container-id-1 div.sk-estimator:hover label.sk-toggleable__label-arrow:before {color: black;}#sk-container-id-1 div.sk-toggleable__content {max-height: 0;max-width: 0;overflow: hidden;text-align: left;background-color: #f0f8ff;}#sk-container-id-1 div.sk-toggleable__content pre {margin: 0.2em;color: black;border-radius: 0.25em;background-color: #f0f8ff;}#sk-container-id-1 input.sk-toggleable__control:checked~div.sk-toggleable__content {max-height: 200px;max-width: 100%;overflow: auto;}#sk-container-id-1 input.sk-toggleable__control:checked~label.sk-toggleable__label-arrow:before {content: \"▾\";}#sk-container-id-1 div.sk-estimator input.sk-toggleable__control:checked~label.sk-toggleable__label {background-color: #d4ebff;}#sk-container-id-1 div.sk-label input.sk-toggleable__control:checked~label.sk-toggleable__label {background-color: #d4ebff;}#sk-container-id-1 input.sk-hidden--visually {border: 0;clip: rect(1px 1px 1px 1px);clip: rect(1px, 1px, 1px, 1px);height: 1px;margin: -1px;overflow: hidden;padding: 0;position: absolute;width: 1px;}#sk-container-id-1 div.sk-estimator {font-family: monospace;background-color: #f0f8ff;border: 1px dotted black;border-radius: 0.25em;box-sizing: border-box;margin-bottom: 0.5em;}#sk-container-id-1 div.sk-estimator:hover {background-color: #d4ebff;}#sk-container-id-1 div.sk-parallel-item::after {content: \"\";width: 100%;border-bottom: 1px solid gray;flex-grow: 1;}#sk-container-id-1 div.sk-label:hover label.sk-toggleable__label {background-color: #d4ebff;}#sk-container-id-1 div.sk-serial::before {content: \"\";position: absolute;border-left: 1px solid gray;box-sizing: border-box;top: 0;bottom: 0;left: 50%;z-index: 0;}#sk-container-id-1 div.sk-serial {display: flex;flex-direction: column;align-items: center;background-color: white;padding-right: 0.2em;padding-left: 0.2em;position: relative;}#sk-container-id-1 div.sk-item {position: relative;z-index: 1;}#sk-container-id-1 div.sk-parallel {display: flex;align-items: stretch;justify-content: center;background-color: white;position: relative;}#sk-container-id-1 div.sk-item::before, #sk-container-id-1 div.sk-parallel-item::before {content: \"\";position: absolute;border-left: 1px solid gray;box-sizing: border-box;top: 0;bottom: 0;left: 50%;z-index: -1;}#sk-container-id-1 div.sk-parallel-item {display: flex;flex-direction: column;z-index: 1;position: relative;background-color: white;}#sk-container-id-1 div.sk-parallel-item:first-child::after {align-self: flex-end;width: 50%;}#sk-container-id-1 div.sk-parallel-item:last-child::after {align-self: flex-start;width: 50%;}#sk-container-id-1 div.sk-parallel-item:only-child::after {width: 0;}#sk-container-id-1 div.sk-dashed-wrapped {border: 1px dashed gray;margin: 0 0.4em 0.5em 0.4em;box-sizing: border-box;padding-bottom: 0.4em;background-color: white;}#sk-container-id-1 div.sk-label label {font-family: monospace;font-weight: bold;display: inline-block;line-height: 1.2em;}#sk-container-id-1 div.sk-label-container {text-align: center;}#sk-container-id-1 div.sk-container {/* jupyter's `normalize.less` sets `[hidden] { display: none; }` but bootstrap.min.css set `[hidden] { display: none !important; }` so we also need the `!important` here to be able to override the default hidden behavior on the sphinx rendered scikit-learn.org. See: https://github.com/scikit-learn/scikit-learn/issues/21755 */display: inline-block !important;position: relative;}#sk-container-id-1 div.sk-text-repr-fallback {display: none;}</style><div id=\"sk-container-id-1\" class=\"sk-top-container\"><div class=\"sk-text-repr-fallback\"><pre>KMeans(max_iter=50, n_clusters=4, n_init=10, random_state=42)</pre><b>In a Jupyter environment, please rerun this cell to show the HTML representation or trust the notebook. <br />On GitHub, the HTML representation is unable to render, please try loading this page with nbviewer.org.</b></div><div class=\"sk-container\" hidden><div class=\"sk-item\"><div class=\"sk-estimator sk-toggleable\"><input class=\"sk-toggleable__control sk-hidden--visually\" id=\"sk-estimator-id-1\" type=\"checkbox\" checked><label for=\"sk-estimator-id-1\" class=\"sk-toggleable__label sk-toggleable__label-arrow\">KMeans</label><div class=\"sk-toggleable__content\"><pre>KMeans(max_iter=50, n_clusters=4, n_init=10, random_state=42)</pre></div></div></div></div></div>"
      ],
      "text/plain": [
       "KMeans(max_iter=50, n_clusters=4, n_init=10, random_state=42)"
      ]
     },
     "execution_count": 25,
     "metadata": {},
     "output_type": "execute_result"
    }
   ],
   "source": [
    "# instanciamos el modelo\n",
    "kmeans = KMeans(n_clusters=4, max_iter=50, n_init=10, random_state=42)\n",
    "\n",
    "# entrenamos el modelos con los datos escalados\n",
    "kmeans.fit(rfm_df_scaled)"
   ]
  },
  {
   "cell_type": "markdown",
   "id": "1dce0614",
   "metadata": {},
   "source": [
    "Verifiquemos que el modelo entrenado presente las etiquetas de los 4 clusteres"
   ]
  },
  {
   "cell_type": "code",
   "execution_count": 26,
   "id": "46e351ca",
   "metadata": {},
   "outputs": [
    {
     "data": {
      "text/plain": [
       "array([1, 0, 3, ..., 1, 3, 3], dtype=int32)"
      ]
     },
     "execution_count": 26,
     "metadata": {},
     "output_type": "execute_result"
    }
   ],
   "source": [
    "kmeans.labels_"
   ]
  },
  {
   "cell_type": "markdown",
   "id": "4eeae637",
   "metadata": {},
   "source": [
    "### Encontrar el numero optimo de clusteres"
   ]
  },
  {
   "cell_type": "markdown",
   "id": "c97165ba",
   "metadata": {},
   "source": [
    "Vamos a implementar dos tecnicas muy comunes para encontrar la cantidad optima de clusteres que debemos utilizar en K-Means"
   ]
  },
  {
   "cell_type": "markdown",
   "id": "6042d610",
   "metadata": {},
   "source": [
    "__Metodo del codo__"
   ]
  },
  {
   "cell_type": "code",
   "execution_count": 27,
   "id": "8ca971dc",
   "metadata": {},
   "outputs": [
    {
     "data": {
      "image/png": "[encoded data removed]",
      "text/plain": [
       "<Figure size 720x576 with 1 Axes>"
      ]
     },
     "metadata": {
      "needs_background": "light"
     },
     "output_type": "display_data"
    }
   ],
   "source": [
    "# lista para guardar la inercia de cada K\n",
    "inercia = []\n",
    "\n",
    "# definir el rango de K a probar\n",
    "K = range(2, 9)\n",
    "\n",
    "# iteramos sobre el modelo para cada valor de K\n",
    "for n_cluster in K:\n",
    "    kmeans = KMeans(n_clusters=n_cluster, max_iter=50, n_init=10, random_state=42)\n",
    "    kmeans.fit(rfm_df_scaled)\n",
    "    inercia.append(kmeans.inertia_)\n",
    "\n",
    "plt.plot(inercia)\n",
    "plt.xlabel('Clusteres')\n",
    "plt.ylabel('Inercia')\n",
    "plt.show()"
   ]
  },
  {
   "cell_type": "markdown",
   "id": "125ce8d9",
   "metadata": {},
   "source": [
    "> El grafico muestra la mayor perdida de inercia en el cluster 1. Sin embargo, el cluster 3 presenta un punto de inflexion en cuanto a la perdida de inercia."
   ]
  },
  {
   "cell_type": "markdown",
   "id": "f30d049d",
   "metadata": {},
   "source": [
    "__Indice de Silueta__"
   ]
  },
  {
   "cell_type": "code",
   "execution_count": 28,
   "id": "43ea9d32",
   "metadata": {},
   "outputs": [
    {
     "data": {
      "image/png": "[encoded data removed]",
      "text/plain": [
       "<Figure size 720x576 with 1 Axes>"
      ]
     },
     "metadata": {
      "needs_background": "light"
     },
     "output_type": "display_data"
    }
   ],
   "source": [
    "# lista para guardar los indice de silueta para cada cluster\n",
    "index_silueta = []\n",
    "\n",
    "# rango de K a probar\n",
    "K = range(2, 9)\n",
    "\n",
    "# itermaos el modelo para cada valor de K\n",
    "for n_cluster in K:\n",
    "    kmeans = KMeans(n_clusters=n_cluster, n_init=10, max_iter=50, random_state=42)\n",
    "    y_pred = kmeans.fit_predict(rfm_df_scaled)\n",
    "    index_silueta.append(silhouette_score(rfm_df_scaled, y_pred))\n",
    "\n",
    "plt.plot(index_silueta)\n",
    "plt.xlabel('Clusteres')\n",
    "plt.ylabel('Coeficiente de silueta')\n",
    "plt.show()"
   ]
  },
  {
   "cell_type": "markdown",
   "id": "b4a1bb00",
   "metadata": {},
   "source": [
    "> La grafica muestra que hasta el cluster 3 el coeficiente de silueta no decae tanto."
   ]
  },
  {
   "cell_type": "markdown",
   "id": "ddc59dc5",
   "metadata": {},
   "source": [
    "### Modelo optimo de clusterizacion"
   ]
  },
  {
   "cell_type": "markdown",
   "id": "06118ece",
   "metadata": {},
   "source": [
    "Ambos metodos sugieren que con un numero de cluster igual a 3 podemos obtener un modelo de clusterizacion optimo. "
   ]
  },
  {
   "cell_type": "code",
   "execution_count": 29,
   "id": "2654b3c9",
   "metadata": {},
   "outputs": [
    {
     "data": {
      "text/html": [
       "<div>\n",
       "<style scoped>\n",
       "    .dataframe tbody tr th:only-of-type {\n",
       "        vertical-align: middle;\n",
       "    }\n",
       "\n",
       "    .dataframe tbody tr th {\n",
       "        vertical-align: top;\n",
       "    }\n",
       "\n",
       "    .dataframe thead th {\n",
       "        text-align: right;\n",
       "    }\n",
       "</style>\n",
       "<table border=\"1\" class=\"dataframe\">\n",
       "  <thead>\n",
       "    <tr style=\"text-align: right;\">\n",
       "      <th></th>\n",
       "      <th>CustomerID</th>\n",
       "      <th>Monetary</th>\n",
       "      <th>Frequency</th>\n",
       "      <th>Recency</th>\n",
       "      <th>Cluster_K</th>\n",
       "    </tr>\n",
       "  </thead>\n",
       "  <tbody>\n",
       "    <tr>\n",
       "      <th>0</th>\n",
       "      <td>12346.0</td>\n",
       "      <td>0.00</td>\n",
       "      <td>2</td>\n",
       "      <td>325</td>\n",
       "      <td>1</td>\n",
       "    </tr>\n",
       "    <tr>\n",
       "      <th>1</th>\n",
       "      <td>12347.0</td>\n",
       "      <td>4310.00</td>\n",
       "      <td>182</td>\n",
       "      <td>1</td>\n",
       "      <td>0</td>\n",
       "    </tr>\n",
       "    <tr>\n",
       "      <th>2</th>\n",
       "      <td>12348.0</td>\n",
       "      <td>1797.24</td>\n",
       "      <td>31</td>\n",
       "      <td>74</td>\n",
       "      <td>2</td>\n",
       "    </tr>\n",
       "    <tr>\n",
       "      <th>3</th>\n",
       "      <td>12349.0</td>\n",
       "      <td>1757.55</td>\n",
       "      <td>73</td>\n",
       "      <td>18</td>\n",
       "      <td>2</td>\n",
       "    </tr>\n",
       "    <tr>\n",
       "      <th>4</th>\n",
       "      <td>12350.0</td>\n",
       "      <td>334.40</td>\n",
       "      <td>17</td>\n",
       "      <td>309</td>\n",
       "      <td>1</td>\n",
       "    </tr>\n",
       "  </tbody>\n",
       "</table>\n",
       "</div>"
      ],
      "text/plain": [
       "  CustomerID  Monetary  Frequency  Recency  Cluster_K\n",
       "0    12346.0      0.00          2      325          1\n",
       "1    12347.0   4310.00        182        1          0\n",
       "2    12348.0   1797.24         31       74          2\n",
       "3    12349.0   1757.55         73       18          2\n",
       "4    12350.0    334.40         17      309          1"
      ]
     },
     "execution_count": 29,
     "metadata": {},
     "output_type": "execute_result"
    }
   ],
   "source": [
    "kmeans = KMeans(n_clusters=3, n_init=10, max_iter=50, random_state=42)\n",
    "kmeans.fit(rfm_df_scaled)\n",
    "\n",
    "# asignamos la etiqueta de clusterizacion a cada cliente del df\n",
    "rfm['Cluster_K'] = kmeans.labels_\n",
    "rfm.head() "
   ]
  },
  {
   "cell_type": "markdown",
   "id": "ae6fe244",
   "metadata": {},
   "source": [
    "### Visualizacion de los clusteres"
   ]
  },
  {
   "cell_type": "markdown",
   "id": "4caa65d7",
   "metadata": {},
   "source": [
    "Creamos un scatterplot entre Recency y Frequency para visualizar los clusteres."
   ]
  },
  {
   "cell_type": "code",
   "execution_count": 30,
   "id": "3cfe2f82",
   "metadata": {},
   "outputs": [
    {
     "data": {
      "image/png": "[encoded data removed]",
      "text/plain": [
       "<Figure size 720x432 with 1 Axes>"
      ]
     },
     "metadata": {
      "needs_background": "light"
     },
     "output_type": "display_data"
    }
   ],
   "source": [
    "plt.figure(figsize=(10,6))\n",
    "sns.scatterplot(data=rfm, x='Recency', y='Frequency', hue='Cluster_K', palette='Set2')\n",
    "plt.title('Clusters de clientes por Recency y Frequency')\n",
    "plt.xlabel('Recency')\n",
    "plt.ylabel('Frequency')\n",
    "plt.legend(title='Cluster')\n",
    "plt.show()"
   ]
  },
  {
   "cell_type": "markdown",
   "id": "0c6d7f86",
   "metadata": {},
   "source": [
    "> Se evidencian los tres clusteres bien definidos. \n",
    "\n",
    "> Los clientes del cluster 0, hacen muy a menudo sus pedidos por lo que la cantidad de dias que transcurre antes de pedir nuevamente es bajo.\n",
    "\n",
    "> Los clientes del cluster 1, van a la tienda con una frecuencia baja media y por tanto, su recency esta entre 0 y 140 dias\n",
    "\n",
    "> los clientes del cluster 2, presentan una frecuencia baja para hacer pedidos y por tanto tienden a durar mas dias antes de pedir nuevamente."
   ]
  },
  {
   "cell_type": "markdown",
   "id": "1b97de85",
   "metadata": {},
   "source": [
    "Creamos un scatterplot de Monetary vs Recency para visualizar los clusteres "
   ]
  },
  {
   "cell_type": "code",
   "execution_count": 31,
   "id": "9ec4eb51",
   "metadata": {},
   "outputs": [
    {
     "data": {
      "image/png": "[encoded data removed]",
      "text/plain": [
       "<Figure size 720x432 with 1 Axes>"
      ]
     },
     "metadata": {
      "needs_background": "light"
     },
     "output_type": "display_data"
    }
   ],
   "source": [
    "plt.figure(figsize=(10,6))\n",
    "sns.scatterplot(data=rfm, x='Monetary', y='Recency', hue='Cluster_K', palette='Set2')\n",
    "plt.title('Clusters de clientes por Monetary y Recency')\n",
    "plt.xlabel('Monetary')\n",
    "plt.ylabel('Recency')\n",
    "plt.legend(title='Cluster')\n",
    "plt.show()"
   ]
  },
  {
   "cell_type": "markdown",
   "id": "8f2570ca",
   "metadata": {},
   "source": [
    "> Se evidencian ingresos negativos de clientes lo cual debe analizarse.\n",
    "\n",
    "> El cluster 0 corresponde a los clientes que hacen pedidos frecuentemente pero que gastan poco dinero.\n",
    "\n",
    "> El cluster 1 corresponde a los clientes que hacen pedidos no tan frecuentemente con un gasto poco mas que los del cluster 0.\n",
    "\n",
    "> El cluster 2 corresponde a los clientes que hacen pocos pedidos pero que gastan mucho mas al comprar."
   ]
  },
  {
   "cell_type": "markdown",
   "id": "e5db10e7",
   "metadata": {},
   "source": [
    "## Construir modelo Hierarchical Clustering"
   ]
  },
  {
   "cell_type": "markdown",
   "id": "ca5ea13d",
   "metadata": {},
   "source": [
    "Vamos a utilizar el modelo de aglomeracion jerarquica para clusterizar los clientes de acuerdo a RFM. Vamos a probar con diferentes metodos hasta encontrar aquel con el mejor resultado y de esta forma etiquetar a cada cliente."
   ]
  },
  {
   "cell_type": "markdown",
   "id": "fbd93e92",
   "metadata": {},
   "source": [
    "### __Single Linkage__"
   ]
  },
  {
   "cell_type": "markdown",
   "id": "f83ff04f",
   "metadata": {},
   "source": [
    "la distancia entre dos grupos se define como la distancia más corta entre dos puntos en cada grupo."
   ]
  },
  {
   "cell_type": "code",
   "execution_count": 32,
   "id": "f7d7f05c",
   "metadata": {},
   "outputs": [
    {
     "data": {
      "image/png": "[encoded data removed]",
      "text/plain": [
       "<Figure size 720x720 with 1 Axes>"
      ]
     },
     "metadata": {
      "needs_background": "light"
     },
     "output_type": "display_data"
    }
   ],
   "source": [
    "fig = plt.figure(figsize=(10,10))\n",
    "dendogram_plot = dendrogram(linkage(rfm_df_scaled, method='single', metric='euclidean'))\n",
    "plt.xlabel('Clusteres')\n",
    "plt.ylabel('Distancia euclideana')\n",
    "plt.show()"
   ]
  },
  {
   "cell_type": "markdown",
   "id": "796642f4",
   "metadata": {},
   "source": [
    "> No muestra claridad en cuanto a los clusteres que se pueden formar.\n",
    "\n",
    "> Logra percibirse dos grupos: azul y verde, este ultimo siendo mas evidente."
   ]
  },
  {
   "cell_type": "markdown",
   "id": "57ce2b92",
   "metadata": {},
   "source": [
    "### __Complete linkage__"
   ]
  },
  {
   "cell_type": "markdown",
   "id": "1d60a4ac",
   "metadata": {},
   "source": [
    "La distancia entre dos grupos se define como la distancia más larga entre dos puntos en cada grupo."
   ]
  },
  {
   "cell_type": "code",
   "execution_count": 33,
   "id": "05092d55",
   "metadata": {},
   "outputs": [
    {
     "data": {
      "image/png": "[encoded data removed]",
      "text/plain": [
       "<Figure size 720x720 with 1 Axes>"
      ]
     },
     "metadata": {
      "needs_background": "light"
     },
     "output_type": "display_data"
    }
   ],
   "source": [
    "fig = plt.figure(figsize=(10,10))\n",
    "dendogram_plot = dendrogram(linkage(rfm_df_scaled, method='complete', metric='euclidean'))\n",
    "plt.xlabel('Clusteres')\n",
    "plt.ylabel('Distancia euclideana')\n",
    "plt.show()"
   ]
  },
  {
   "cell_type": "markdown",
   "id": "fac8755f",
   "metadata": {},
   "source": [
    "> Se logra diferenciar 3 clusteres\n",
    "\n",
    "> 2 de los clusteres son muy dominantes respecto al tercero.\n",
    "\n",
    "> Arroja mejores resultados."
   ]
  },
  {
   "cell_type": "markdown",
   "id": "50895e8e",
   "metadata": {},
   "source": [
    "### __Average linkage__"
   ]
  },
  {
   "cell_type": "markdown",
   "id": "89929507",
   "metadata": {},
   "source": [
    "La distancia entre dos grupos se define como la distancia promedio entre cada punto de un grupo y cada punto del otro grupo."
   ]
  },
  {
   "cell_type": "code",
   "execution_count": 34,
   "id": "6a08b96a",
   "metadata": {},
   "outputs": [
    {
     "data": {
      "image/png": "[encoded data removed]",
      "text/plain": [
       "<Figure size 720x720 with 1 Axes>"
      ]
     },
     "metadata": {
      "needs_background": "light"
     },
     "output_type": "display_data"
    }
   ],
   "source": [
    "fig = plt.figure(figsize=(10,10))\n",
    "dendogram_plot = dendrogram(linkage(rfm_df_scaled, method='average', metric='euclidean'))\n",
    "plt.xlabel('Clusteres')\n",
    "plt.ylabel('Distancia euclideana')\n",
    "plt.show()"
   ]
  },
  {
   "cell_type": "markdown",
   "id": "f1a1f30b",
   "metadata": {},
   "source": [
    "> Se evidencia la diferencia entre dos clusteres.\n",
    "\n",
    "> No es tan claro pero se evidencia hasta 3 clusteres.\n",
    "\n",
    "> Hay un cluster dominante frente al resto"
   ]
  },
  {
   "cell_type": "markdown",
   "id": "69cf5618",
   "metadata": {},
   "source": [
    "### __Warm__"
   ]
  },
  {
   "cell_type": "markdown",
   "id": "72d5c193",
   "metadata": {},
   "source": [
    "Realiza un monton de operaciones en el que cada datapoint se lleva a otro cluster, evalua su varianza y se queda con la varianza que de menor."
   ]
  },
  {
   "cell_type": "code",
   "execution_count": 35,
   "id": "5ea05cd0",
   "metadata": {},
   "outputs": [
    {
     "data": {
      "image/png": "[encoded data removed]",
      "text/plain": [
       "<Figure size 720x720 with 1 Axes>"
      ]
     },
     "metadata": {
      "needs_background": "light"
     },
     "output_type": "display_data"
    }
   ],
   "source": [
    "fig = plt.figure(figsize=(10,10))\n",
    "dendogram_plot = dendrogram(linkage(rfm_df_scaled, method='ward', metric='euclidean'))\n",
    "plt.xlabel('Clusteres')\n",
    "plt.ylabel('Distancia euclideana')\n",
    "plt.show()"
   ]
  },
  {
   "cell_type": "markdown",
   "id": "7483aa05",
   "metadata": {},
   "source": [
    "> Se evidencia una mejor separacion entre 3 clusteres.\n",
    "\n",
    "> Los 3 clusteres mantienen una buena distancia entre si, lo que indica una excelente clusterizacion.\n",
    "\n",
    "> Es el metodo que arroja los mejores resultados"
   ]
  },
  {
   "cell_type": "markdown",
   "id": "4ffe0e5e",
   "metadata": {},
   "source": [
    "### Mejor Modelo"
   ]
  },
  {
   "cell_type": "markdown",
   "id": "4f730451",
   "metadata": {},
   "source": [
    "Vamos a calcular el indice de silueta general para 2 y 3 clusteres y asi encontrar la mejor opcion."
   ]
  },
  {
   "cell_type": "code",
   "execution_count": 36,
   "id": "599da729",
   "metadata": {},
   "outputs": [
    {
     "name": "stdout",
     "output_type": "stream",
     "text": [
      "0.5788705653522203\n"
     ]
    }
   ],
   "source": [
    "from sklearn.cluster import AgglomerativeClustering\n",
    "from sklearn.metrics import silhouette_score\n",
    "\n",
    "# para 2 clusteres\n",
    "hc_2 = AgglomerativeClustering(n_clusters=2, metric='euclidean', linkage='ward')\n",
    "y_hc_2 = hc_2.fit_predict(rfm_df_scaled)\n",
    "print(silhouette_score(rfm_df_scaled, y_hc_2))"
   ]
  },
  {
   "cell_type": "code",
   "execution_count": 37,
   "id": "88dd43d5",
   "metadata": {},
   "outputs": [
    {
     "name": "stdout",
     "output_type": "stream",
     "text": [
      "0.4643083907731691\n"
     ]
    }
   ],
   "source": [
    "# para 2 clusteres\n",
    "hc_3 = AgglomerativeClustering(n_clusters=3, metric='euclidean', linkage='ward')\n",
    "y_hc_3 = hc_3.fit_predict(rfm_df_scaled)\n",
    "print(silhouette_score(rfm_df_scaled, y_hc_3))"
   ]
  },
  {
   "cell_type": "markdown",
   "id": "0a032b4a",
   "metadata": {},
   "source": [
    "> Evidentemente, con dos cluster obtenemos un indice de silueta mucho mayor debido a que dos de clusteres estan bien distanciados lo que los hace muy diferenciable respecto al restante.\n",
    "\n",
    "> Nos quedamos con la clusterizacion para 3 clusteres ya que tiene una buena diferenciacion y el indice de silueta no es tan bajo."
   ]
  },
  {
   "cell_type": "code",
   "execution_count": 38,
   "id": "6f676534",
   "metadata": {},
   "outputs": [
    {
     "data": {
      "text/html": [
       "<div>\n",
       "<style scoped>\n",
       "    .dataframe tbody tr th:only-of-type {\n",
       "        vertical-align: middle;\n",
       "    }\n",
       "\n",
       "    .dataframe tbody tr th {\n",
       "        vertical-align: top;\n",
       "    }\n",
       "\n",
       "    .dataframe thead th {\n",
       "        text-align: right;\n",
       "    }\n",
       "</style>\n",
       "<table border=\"1\" class=\"dataframe\">\n",
       "  <thead>\n",
       "    <tr style=\"text-align: right;\">\n",
       "      <th></th>\n",
       "      <th>CustomerID</th>\n",
       "      <th>Monetary</th>\n",
       "      <th>Frequency</th>\n",
       "      <th>Recency</th>\n",
       "      <th>Cluster_K</th>\n",
       "      <th>cluster_hc</th>\n",
       "    </tr>\n",
       "  </thead>\n",
       "  <tbody>\n",
       "    <tr>\n",
       "      <th>0</th>\n",
       "      <td>12346.0</td>\n",
       "      <td>0.00</td>\n",
       "      <td>2</td>\n",
       "      <td>325</td>\n",
       "      <td>1</td>\n",
       "      <td>2</td>\n",
       "    </tr>\n",
       "    <tr>\n",
       "      <th>1</th>\n",
       "      <td>12347.0</td>\n",
       "      <td>4310.00</td>\n",
       "      <td>182</td>\n",
       "      <td>1</td>\n",
       "      <td>0</td>\n",
       "      <td>1</td>\n",
       "    </tr>\n",
       "    <tr>\n",
       "      <th>2</th>\n",
       "      <td>12348.0</td>\n",
       "      <td>1797.24</td>\n",
       "      <td>31</td>\n",
       "      <td>74</td>\n",
       "      <td>2</td>\n",
       "      <td>0</td>\n",
       "    </tr>\n",
       "    <tr>\n",
       "      <th>3</th>\n",
       "      <td>12349.0</td>\n",
       "      <td>1757.55</td>\n",
       "      <td>73</td>\n",
       "      <td>18</td>\n",
       "      <td>2</td>\n",
       "      <td>0</td>\n",
       "    </tr>\n",
       "    <tr>\n",
       "      <th>4</th>\n",
       "      <td>12350.0</td>\n",
       "      <td>334.40</td>\n",
       "      <td>17</td>\n",
       "      <td>309</td>\n",
       "      <td>1</td>\n",
       "      <td>2</td>\n",
       "    </tr>\n",
       "  </tbody>\n",
       "</table>\n",
       "</div>"
      ],
      "text/plain": [
       "  CustomerID  Monetary  Frequency  Recency  Cluster_K  cluster_hc\n",
       "0    12346.0      0.00          2      325          1           2\n",
       "1    12347.0   4310.00        182        1          0           1\n",
       "2    12348.0   1797.24         31       74          2           0\n",
       "3    12349.0   1757.55         73       18          2           0\n",
       "4    12350.0    334.40         17      309          1           2"
      ]
     },
     "execution_count": 38,
     "metadata": {},
     "output_type": "execute_result"
    }
   ],
   "source": [
    "rfm['cluster_hc'] = y_hc_3\n",
    "rfm.head()"
   ]
  },
  {
   "cell_type": "markdown",
   "id": "6a0c9053",
   "metadata": {},
   "source": [
    "### Visualizacion de los clusteres"
   ]
  },
  {
   "cell_type": "markdown",
   "id": "b9b483dd",
   "metadata": {},
   "source": [
    "Vamos a visualizar los clusteres formados a traves de boxplots para cada variable"
   ]
  },
  {
   "cell_type": "code",
   "execution_count": 40,
   "id": "e0a089b5",
   "metadata": {},
   "outputs": [
    {
     "data": {
      "image/png": "[encoded data removed]",
      "text/plain": [
       "<Figure size 720x576 with 1 Axes>"
      ]
     },
     "metadata": {
      "needs_background": "light"
     },
     "output_type": "display_data"
    }
   ],
   "source": [
    "# cluster vs Monetary\n",
    "sns.boxplot(x='cluster_hc', y='Monetary', data=rfm)\n",
    "plt.title('Distribucion Monetary para cada cluster')\n",
    "plt.show()"
   ]
  },
  {
   "cell_type": "markdown",
   "id": "86359d93",
   "metadata": {},
   "source": [
    "__Cluster 0:__\n",
    "\n",
    "> La mediana esta alrededor de 1000$ con un IQR mas concentrado lo que genera cierta variabilidad.\n",
    "\n",
    "> Se presentan outliers que llegan a mas de 4000$ pero tambien hay valores negativos que pueden deberse a devoluciones.\n",
    "\n",
    "> Es considerado el grupo de clientes con gasto medio bajo.\n",
    "\n",
    "__Cluster 1:__\n",
    "\n",
    "> Presenta la mediana mas alta, con un valor de 5000$. Ademas muestra una mayor variablidad de gasto.\n",
    "\n",
    "> Hay algunos datos con valores de mas de 12000 que son considerados outliers.\n",
    "\n",
    "> Es considerado el grupo con los clientes mas valiosos debido a su alto gasto. Es el egmento prefecto para estrategias de fidelizacion.\n",
    "\n",
    "__Cluster 2:__\n",
    "\n",
    "> Presenta una mediana cercana a 0$ lo que representa clientes con pocos gastos.\n",
    "\n",
    "> Hay datos aislados que son considerados outliers tanto positivos como negativos.\n",
    "\n",
    "> Representan los clientes de bajo valor monetario. Pueden representar clientes de una sola compra o devoluciones."
   ]
  },
  {
   "cell_type": "code",
   "execution_count": 41,
   "id": "82acc687",
   "metadata": {},
   "outputs": [
    {
     "data": {
      "image/png": "[encoded data removed]",
      "text/plain": [
       "<Figure size 720x576 with 1 Axes>"
      ]
     },
     "metadata": {
      "needs_background": "light"
     },
     "output_type": "display_data"
    }
   ],
   "source": [
    "# cluster vs Recency\n",
    "sns.boxplot(x='cluster_hc', y='Recency', data=rfm)\n",
    "plt.title('Distribucion Recency para cada cluster')\n",
    "plt.show()"
   ]
  },
  {
   "cell_type": "code",
   "execution_count": 42,
   "id": "afae5299",
   "metadata": {},
   "outputs": [
    {
     "data": {
      "image/png": "[encoded data removed]",
      "text/plain": [
       "<Figure size 720x576 with 1 Axes>"
      ]
     },
     "metadata": {
      "needs_background": "light"
     },
     "output_type": "display_data"
    }
   ],
   "source": [
    "# cluster vs frequency\n",
    "sns.boxplot(x='cluster_hc', y='Frequency', data=rfm)\n",
    "plt.title('Distribucion Frequency para cada cluster')\n",
    "plt.show()"
   ]
  }
 ],
 "metadata": {
  "kernelspec": {
   "display_name": "data",
   "language": "python",
   "name": "python3"
  },
  "language_info": {
   "codemirror_mode": {
    "name": "ipython",
    "version": 3
   },
   "file_extension": ".py",
   "mimetype": "text/x-python",
   "name": "python",
   "nbconvert_exporter": "python",
   "pygments_lexer": "ipython3",
   "version": "3.10.8"
  }
 },
 "nbformat": 4,
 "nbformat_minor": 5
}
