{
 "cells": [
  {
   "cell_type": "markdown",
   "id": "a56c9bfb",
   "metadata": {},
   "source": [
    "# __Segmentación de clientes de un comercio online: Tratamiento de los datos__"
   ]
  },
  {
   "cell_type": "markdown",
   "id": "a7345df5",
   "metadata": {},
   "source": [
    "## Importar librerías"
   ]
  },
  {
   "cell_type": "code",
   "execution_count": 1,
   "id": "d6825871",
   "metadata": {},
   "outputs": [],
   "source": [
    "# librerias para el dataframe y la visualizacion\n",
    "import numpy as np\n",
    "import pandas as pd\n",
    "import matplotlib.pyplot as plt\n",
    "import seaborn as sns\n",
    "import datetime as dt\n",
    "from sklearn.preprocessing import StandardScaler"
   ]
  },
  {
   "cell_type": "markdown",
   "id": "b57516b6",
   "metadata": {},
   "source": [
    "## Cargar datos"
   ]
  },
  {
   "cell_type": "code",
   "execution_count": 2,
   "id": "4535c3d9",
   "metadata": {},
   "outputs": [
    {
     "data": {
      "text/html": [
       "<div>\n",
       "<style scoped>\n",
       "    .dataframe tbody tr th:only-of-type {\n",
       "        vertical-align: middle;\n",
       "    }\n",
       "\n",
       "    .dataframe tbody tr th {\n",
       "        vertical-align: top;\n",
       "    }\n",
       "\n",
       "    .dataframe thead th {\n",
       "        text-align: right;\n",
       "    }\n",
       "</style>\n",
       "<table border=\"1\" class=\"dataframe\">\n",
       "  <thead>\n",
       "    <tr style=\"text-align: right;\">\n",
       "      <th></th>\n",
       "      <th>InvoiceNo</th>\n",
       "      <th>StockCode</th>\n",
       "      <th>Description</th>\n",
       "      <th>Quantity</th>\n",
       "      <th>InvoiceDate</th>\n",
       "      <th>UnitPrice</th>\n",
       "      <th>CustomerID</th>\n",
       "      <th>Country</th>\n",
       "    </tr>\n",
       "  </thead>\n",
       "  <tbody>\n",
       "    <tr>\n",
       "      <th>0</th>\n",
       "      <td>536365</td>\n",
       "      <td>85123A</td>\n",
       "      <td>WHITE HANGING HEART T-LIGHT HOLDER</td>\n",
       "      <td>6</td>\n",
       "      <td>01-12-2010 08:26</td>\n",
       "      <td>2.55</td>\n",
       "      <td>17850.0</td>\n",
       "      <td>United Kingdom</td>\n",
       "    </tr>\n",
       "    <tr>\n",
       "      <th>1</th>\n",
       "      <td>536365</td>\n",
       "      <td>71053</td>\n",
       "      <td>WHITE METAL LANTERN</td>\n",
       "      <td>6</td>\n",
       "      <td>01-12-2010 08:26</td>\n",
       "      <td>3.39</td>\n",
       "      <td>17850.0</td>\n",
       "      <td>United Kingdom</td>\n",
       "    </tr>\n",
       "    <tr>\n",
       "      <th>2</th>\n",
       "      <td>536365</td>\n",
       "      <td>84406B</td>\n",
       "      <td>CREAM CUPID HEARTS COAT HANGER</td>\n",
       "      <td>8</td>\n",
       "      <td>01-12-2010 08:26</td>\n",
       "      <td>2.75</td>\n",
       "      <td>17850.0</td>\n",
       "      <td>United Kingdom</td>\n",
       "    </tr>\n",
       "    <tr>\n",
       "      <th>3</th>\n",
       "      <td>536365</td>\n",
       "      <td>84029G</td>\n",
       "      <td>KNITTED UNION FLAG HOT WATER BOTTLE</td>\n",
       "      <td>6</td>\n",
       "      <td>01-12-2010 08:26</td>\n",
       "      <td>3.39</td>\n",
       "      <td>17850.0</td>\n",
       "      <td>United Kingdom</td>\n",
       "    </tr>\n",
       "    <tr>\n",
       "      <th>4</th>\n",
       "      <td>536365</td>\n",
       "      <td>84029E</td>\n",
       "      <td>RED WOOLLY HOTTIE WHITE HEART.</td>\n",
       "      <td>6</td>\n",
       "      <td>01-12-2010 08:26</td>\n",
       "      <td>3.39</td>\n",
       "      <td>17850.0</td>\n",
       "      <td>United Kingdom</td>\n",
       "    </tr>\n",
       "  </tbody>\n",
       "</table>\n",
       "</div>"
      ],
      "text/plain": [
       "  InvoiceNo StockCode                          Description  Quantity  \\\n",
       "0    536365    85123A   WHITE HANGING HEART T-LIGHT HOLDER         6   \n",
       "1    536365     71053                  WHITE METAL LANTERN         6   \n",
       "2    536365    84406B       CREAM CUPID HEARTS COAT HANGER         8   \n",
       "3    536365    84029G  KNITTED UNION FLAG HOT WATER BOTTLE         6   \n",
       "4    536365    84029E       RED WOOLLY HOTTIE WHITE HEART.         6   \n",
       "\n",
       "        InvoiceDate  UnitPrice  CustomerID         Country  \n",
       "0  01-12-2010 08:26       2.55     17850.0  United Kingdom  \n",
       "1  01-12-2010 08:26       3.39     17850.0  United Kingdom  \n",
       "2  01-12-2010 08:26       2.75     17850.0  United Kingdom  \n",
       "3  01-12-2010 08:26       3.39     17850.0  United Kingdom  \n",
       "4  01-12-2010 08:26       3.39     17850.0  United Kingdom  "
      ]
     },
     "execution_count": 2,
     "metadata": {},
     "output_type": "execute_result"
    }
   ],
   "source": [
    "retail_df = pd.read_csv('./data/OnlineRetail.csv', sep=',', encoding='ISO-8859-1', header=0)\n",
    "retail_df.head()"
   ]
  },
  {
   "cell_type": "code",
   "execution_count": 3,
   "id": "a55c6aea",
   "metadata": {},
   "outputs": [
    {
     "data": {
      "text/plain": [
       "(541909, 8)"
      ]
     },
     "execution_count": 3,
     "metadata": {},
     "output_type": "execute_result"
    }
   ],
   "source": [
    "# tamano del dataset\n",
    "retail_df.shape"
   ]
  },
  {
   "cell_type": "markdown",
   "id": "652dd536",
   "metadata": {},
   "source": [
    "> El dataset presenta 541.909 registros y 8 variables."
   ]
  },
  {
   "cell_type": "code",
   "execution_count": 4,
   "id": "c0e1a90a",
   "metadata": {},
   "outputs": [
    {
     "name": "stdout",
     "output_type": "stream",
     "text": [
      "<class 'pandas.core.frame.DataFrame'>\n",
      "RangeIndex: 541909 entries, 0 to 541908\n",
      "Data columns (total 8 columns):\n",
      " #   Column       Non-Null Count   Dtype  \n",
      "---  ------       --------------   -----  \n",
      " 0   InvoiceNo    541909 non-null  object \n",
      " 1   StockCode    541909 non-null  object \n",
      " 2   Description  540455 non-null  object \n",
      " 3   Quantity     541909 non-null  int64  \n",
      " 4   InvoiceDate  541909 non-null  object \n",
      " 5   UnitPrice    541909 non-null  float64\n",
      " 6   CustomerID   406829 non-null  float64\n",
      " 7   Country      541909 non-null  object \n",
      "dtypes: float64(2), int64(1), object(5)\n",
      "memory usage: 33.1+ MB\n"
     ]
    }
   ],
   "source": [
    "# tipo de dato de cada variable\n",
    "retail_df.info()"
   ]
  },
  {
   "cell_type": "markdown",
   "id": "89a04012",
   "metadata": {},
   "source": [
    "> 5 de las 8 variables son de tipo object. Hay que tenerlo en cuenta. "
   ]
  },
  {
   "cell_type": "markdown",
   "id": "01790567",
   "metadata": {},
   "source": [
    "## Acerca de los datos"
   ]
  },
  {
   "cell_type": "markdown",
   "id": "a5d4be18",
   "metadata": {},
   "source": [
    "Este es un conjunto de datos con todas las transacciones realizadas entre el 01/12/2010 y el 09/12/2011 para una tienda online sin establecimientos físicos con sede en el Reino Unido. La empresa vende principalmente regalos únicos para cualquier ocasión. Muchos de sus clientes son mayoristas.\n",
    "\n",
    "Las variables que contienen los datos son:\n",
    "\n",
    "- _InvoiceNo_: Número de factura. Es un número entero de 6 dígitos asignado de forma única a cada transacción. Si este código empieza con la letra \"c\", indica una cancelación.\n",
    "\n",
    "- _StockCode_: Código de stock del producto. Es un número de 5 dígitos asignado de forma única a cada producto.\n",
    "\n",
    "- _Description_: Nombre del producto.\n",
    "\n",
    "- _Quantity_: Cantidades de cada producto por transacción.\n",
    "\n",
    "- _InvoiceDate_: Fecha de factura. Marca el día y la hora en que se generó cada transacción.\n",
    "\n",
    "- _UnitPrice_: Precio del producto por unidad.\n",
    "\n",
    "- _CustomerID_: Número integral de 5 dígitos asignado de forma única a cada cliente.\n",
    "\n",
    "- _Country_: Nombre del país donde reside cada cliente.\n",
    "\n",
    "El objetivo es segmentar a los clientes en función del __RFM__ para que la empresa pueda crear campañas dirigidas de forma efectiva. El __RFM__ es una técnica basada en 3 variables que indican el valor y comportamiento de compra de cada cliente. Estas son: __Recency__ (tiempo que ha pasado desde la última compra), __Frequency__ (frecuencia de compra del cliente) y __Monetary__ (dinero total gastado)."
   ]
  },
  {
   "cell_type": "markdown",
   "id": "188f507f",
   "metadata": {},
   "source": [
    "## Resumen estadísticos de variables numéricas"
   ]
  },
  {
   "cell_type": "code",
   "execution_count": 5,
   "id": "b6bc3613",
   "metadata": {},
   "outputs": [
    {
     "data": {
      "text/html": [
       "<div>\n",
       "<style scoped>\n",
       "    .dataframe tbody tr th:only-of-type {\n",
       "        vertical-align: middle;\n",
       "    }\n",
       "\n",
       "    .dataframe tbody tr th {\n",
       "        vertical-align: top;\n",
       "    }\n",
       "\n",
       "    .dataframe thead th {\n",
       "        text-align: right;\n",
       "    }\n",
       "</style>\n",
       "<table border=\"1\" class=\"dataframe\">\n",
       "  <thead>\n",
       "    <tr style=\"text-align: right;\">\n",
       "      <th></th>\n",
       "      <th>Quantity</th>\n",
       "      <th>UnitPrice</th>\n",
       "      <th>CustomerID</th>\n",
       "    </tr>\n",
       "  </thead>\n",
       "  <tbody>\n",
       "    <tr>\n",
       "      <th>count</th>\n",
       "      <td>541909.000000</td>\n",
       "      <td>541909.000000</td>\n",
       "      <td>406829.000000</td>\n",
       "    </tr>\n",
       "    <tr>\n",
       "      <th>mean</th>\n",
       "      <td>9.552250</td>\n",
       "      <td>4.611114</td>\n",
       "      <td>15287.690570</td>\n",
       "    </tr>\n",
       "    <tr>\n",
       "      <th>std</th>\n",
       "      <td>218.081158</td>\n",
       "      <td>96.759853</td>\n",
       "      <td>1713.600303</td>\n",
       "    </tr>\n",
       "    <tr>\n",
       "      <th>min</th>\n",
       "      <td>-80995.000000</td>\n",
       "      <td>-11062.060000</td>\n",
       "      <td>12346.000000</td>\n",
       "    </tr>\n",
       "    <tr>\n",
       "      <th>25%</th>\n",
       "      <td>1.000000</td>\n",
       "      <td>1.250000</td>\n",
       "      <td>13953.000000</td>\n",
       "    </tr>\n",
       "    <tr>\n",
       "      <th>50%</th>\n",
       "      <td>3.000000</td>\n",
       "      <td>2.080000</td>\n",
       "      <td>15152.000000</td>\n",
       "    </tr>\n",
       "    <tr>\n",
       "      <th>75%</th>\n",
       "      <td>10.000000</td>\n",
       "      <td>4.130000</td>\n",
       "      <td>16791.000000</td>\n",
       "    </tr>\n",
       "    <tr>\n",
       "      <th>max</th>\n",
       "      <td>80995.000000</td>\n",
       "      <td>38970.000000</td>\n",
       "      <td>18287.000000</td>\n",
       "    </tr>\n",
       "  </tbody>\n",
       "</table>\n",
       "</div>"
      ],
      "text/plain": [
       "            Quantity      UnitPrice     CustomerID\n",
       "count  541909.000000  541909.000000  406829.000000\n",
       "mean        9.552250       4.611114   15287.690570\n",
       "std       218.081158      96.759853    1713.600303\n",
       "min    -80995.000000  -11062.060000   12346.000000\n",
       "25%         1.000000       1.250000   13953.000000\n",
       "50%         3.000000       2.080000   15152.000000\n",
       "75%        10.000000       4.130000   16791.000000\n",
       "max     80995.000000   38970.000000   18287.000000"
      ]
     },
     "execution_count": 5,
     "metadata": {},
     "output_type": "execute_result"
    }
   ],
   "source": [
    "retail_df.describe()"
   ]
  },
  {
   "cell_type": "markdown",
   "id": "6c27a591",
   "metadata": {},
   "source": [
    "__Sobre Cantidad__\n",
    "\n",
    "> Hay 541.909 datos, valor que coincide con la cantidad de registros. Esto indica que la variable no presenta valores faltantes.\n",
    "\n",
    "> Presenta una media de 9.5 unidades por transacción.\n",
    "\n",
    "> El valor de std es muy alto (218.08) lo que indica que los datos estan muy dispersos probablemente por la presencia de valores atípicos. La distribución no es normal.\n",
    "\n",
    "> 25% de las transacciones tienen 1 o 0 unidades.\n",
    "\n",
    "> 50% de las transacciones tienen 3 o menos unidades.\n",
    "\n",
    "> 75% tienen 10 o menos unidades.\n",
    "\n",
    "> El valor de min es negativo lo que posiblemente representa devoluciones.\n",
    "\n",
    "__Sobre Precio Unitario__\n",
    "\n",
    "> Presenta la misma cantidad de registros, lo que nos indica que la variable no presenta valores faltantes.\n",
    "\n",
    "> La media es de 4.61$ por unidad.\n",
    "\n",
    "> El valor de std es muy alto (96.76$) lo que sugiere la presencia de precios muy altos.\n",
    "\n",
    "> El valor de min es negativo lo que sugiere la presencial de outliers.\n",
    "\n",
    "> 25% de las transacciones son de 1.25$.\n",
    "\n",
    "> 50% de las transacciones son de 2.08$.\n",
    "\n",
    "> 75% de las transacciones son de 4.13$.\n",
    "\n",
    "__Sobre CustomerID__\n",
    "\n",
    "> Presenta 406.829 datos, lo que difiere considerablemente con la cantidad total de registro. Indica la presencia de valores nulos. \n",
    "\n",
    "> Esta variable es un identificador de los clientes por lo que no tiene un significado estadístico relevante."
   ]
  },
  {
   "cell_type": "markdown",
   "id": "7f34ea31",
   "metadata": {},
   "source": [
    "## Resumen estadístico de variables categóricas"
   ]
  },
  {
   "cell_type": "code",
   "execution_count": 6,
   "id": "530371f3",
   "metadata": {},
   "outputs": [
    {
     "data": {
      "text/html": [
       "<div>\n",
       "<style scoped>\n",
       "    .dataframe tbody tr th:only-of-type {\n",
       "        vertical-align: middle;\n",
       "    }\n",
       "\n",
       "    .dataframe tbody tr th {\n",
       "        vertical-align: top;\n",
       "    }\n",
       "\n",
       "    .dataframe thead th {\n",
       "        text-align: right;\n",
       "    }\n",
       "</style>\n",
       "<table border=\"1\" class=\"dataframe\">\n",
       "  <thead>\n",
       "    <tr style=\"text-align: right;\">\n",
       "      <th></th>\n",
       "      <th>InvoiceNo</th>\n",
       "      <th>StockCode</th>\n",
       "      <th>Description</th>\n",
       "      <th>InvoiceDate</th>\n",
       "      <th>Country</th>\n",
       "    </tr>\n",
       "  </thead>\n",
       "  <tbody>\n",
       "    <tr>\n",
       "      <th>count</th>\n",
       "      <td>541909</td>\n",
       "      <td>541909</td>\n",
       "      <td>540455</td>\n",
       "      <td>541909</td>\n",
       "      <td>541909</td>\n",
       "    </tr>\n",
       "    <tr>\n",
       "      <th>unique</th>\n",
       "      <td>25900</td>\n",
       "      <td>4070</td>\n",
       "      <td>4223</td>\n",
       "      <td>23260</td>\n",
       "      <td>38</td>\n",
       "    </tr>\n",
       "    <tr>\n",
       "      <th>top</th>\n",
       "      <td>573585</td>\n",
       "      <td>85123A</td>\n",
       "      <td>WHITE HANGING HEART T-LIGHT HOLDER</td>\n",
       "      <td>31-10-2011 14:41</td>\n",
       "      <td>United Kingdom</td>\n",
       "    </tr>\n",
       "    <tr>\n",
       "      <th>freq</th>\n",
       "      <td>1114</td>\n",
       "      <td>2313</td>\n",
       "      <td>2369</td>\n",
       "      <td>1114</td>\n",
       "      <td>495478</td>\n",
       "    </tr>\n",
       "  </tbody>\n",
       "</table>\n",
       "</div>"
      ],
      "text/plain": [
       "       InvoiceNo StockCode                         Description  \\\n",
       "count     541909    541909                              540455   \n",
       "unique     25900      4070                                4223   \n",
       "top       573585    85123A  WHITE HANGING HEART T-LIGHT HOLDER   \n",
       "freq        1114      2313                                2369   \n",
       "\n",
       "             InvoiceDate         Country  \n",
       "count             541909          541909  \n",
       "unique             23260              38  \n",
       "top     31-10-2011 14:41  United Kingdom  \n",
       "freq                1114          495478  "
      ]
     },
     "execution_count": 6,
     "metadata": {},
     "output_type": "execute_result"
    }
   ],
   "source": [
    "retail_df.describe(include=['object'])"
   ]
  },
  {
   "cell_type": "markdown",
   "id": "26dbfc87",
   "metadata": {},
   "source": [
    "__Sobre Número de factura__\n",
    "\n",
    "> Presenta la misma cantidad de registros, lo que indica que no hay valores nulos.\n",
    "\n",
    "> Existen 25900 facturas únicas, o en otras palabras, 25900 clientes.\n",
    "\n",
    "> La factura más frecuente corresponde a 573585 con 1114 apariciones.\n",
    "\n",
    "__Sobre el Código del producto__\n",
    "\n",
    "> Presenta la misma cantidad de registros, lo que indica que no hay valores nulos.\n",
    "\n",
    "> Hay 4070 productos diferentes.\n",
    "\n",
    "> El producto más vendido tiene el código 85123A el cual ha sido vendido 2313 veces.\n",
    "\n",
    "__Sobre la Descripción__\n",
    "\n",
    "> Hay 540.455 descripciones. Faltan 1.454 descripciones que probablemente sean valores nulos.\n",
    "\n",
    "> El producto más frecuente de acuerdo a su descripción fue \"WHITE HANGING HEART T-LIGHT HOLDER\" cuya presencia fue de 2369 veces.\n",
    "\n",
    "__Sobre Fecha y Hora de la factura__\n",
    "\n",
    "> No presenta valores nulos.\n",
    "\n",
    "> Hay 23.260 momentos diferentes de venta.\n",
    "\n",
    "> El momento donde hubo mayor cantidad de venta fue 31-10-2011 a las 14:41 con un valor de 1114 ventas.\n",
    "\n",
    "__Sobre País__\n",
    "\n",
    "> No presenta valores nulos.\n",
    "\n",
    "> Se vendió a clientes de 38 paises.\n",
    "\n",
    "> El país con mayor transacciones fue Reino Unido con un total de 495.478 ventas."
   ]
  },
  {
   "cell_type": "markdown",
   "id": "cea0bb46",
   "metadata": {},
   "source": [
    "## Limpieza de datos"
   ]
  },
  {
   "cell_type": "markdown",
   "id": "6746e879",
   "metadata": {},
   "source": [
    "### _Porcentaje de valores faltantes por variable_"
   ]
  },
  {
   "cell_type": "code",
   "execution_count": 7,
   "id": "ae1a769b",
   "metadata": {},
   "outputs": [
    {
     "data": {
      "text/plain": [
       "InvoiceNo       0.00\n",
       "StockCode       0.00\n",
       "Description     0.27\n",
       "Quantity        0.00\n",
       "InvoiceDate     0.00\n",
       "UnitPrice       0.00\n",
       "CustomerID     24.93\n",
       "Country         0.00\n",
       "dtype: float64"
      ]
     },
     "execution_count": 7,
     "metadata": {},
     "output_type": "execute_result"
    }
   ],
   "source": [
    "df_nulo = round(retail_df.isnull().sum()/len(retail_df)*100, 2)\n",
    "df_nulo"
   ]
  },
  {
   "cell_type": "markdown",
   "id": "3361ac04",
   "metadata": {},
   "source": [
    "> El 24.93% de valores en CustomerID son valores faltantes. Esto representa un alto procentaje de clientes que no podemos identificar.\n",
    "\n",
    "> El 0.27% de los valores en Description son faltantes. Es una cifra pequeña en comparación con la otra variable que posee. Además, esta variable no es tan significativa para nuestro objetivo.\n",
    "\n",
    "> Procedemos a eliminar los registros con valores faltantes en la variable CustomerID."
   ]
  },
  {
   "cell_type": "code",
   "execution_count": 8,
   "id": "e2212e56",
   "metadata": {},
   "outputs": [
    {
     "name": "stdout",
     "output_type": "stream",
     "text": [
      "<class 'pandas.core.frame.DataFrame'>\n",
      "Int64Index: 406829 entries, 0 to 541908\n",
      "Data columns (total 8 columns):\n",
      " #   Column       Non-Null Count   Dtype  \n",
      "---  ------       --------------   -----  \n",
      " 0   InvoiceNo    406829 non-null  object \n",
      " 1   StockCode    406829 non-null  object \n",
      " 2   Description  406829 non-null  object \n",
      " 3   Quantity     406829 non-null  int64  \n",
      " 4   InvoiceDate  406829 non-null  object \n",
      " 5   UnitPrice    406829 non-null  float64\n",
      " 6   CustomerID   406829 non-null  float64\n",
      " 7   Country      406829 non-null  object \n",
      "dtypes: float64(2), int64(1), object(5)\n",
      "memory usage: 27.9+ MB\n"
     ]
    }
   ],
   "source": [
    "retail_df = retail_df.dropna(subset=['CustomerID'])\n",
    "retail_df.info()"
   ]
  },
  {
   "cell_type": "markdown",
   "id": "8b285592",
   "metadata": {},
   "source": [
    ">  El resumen nos muestra que los valores faltantes en Description correspondían a valores faltantes en CustomerID por lo que todo el dataframe quedó libre de valores faltantes."
   ]
  },
  {
   "cell_type": "markdown",
   "id": "eb2abc10",
   "metadata": {},
   "source": [
    "### _Cambiar el tipo de dato de CustomerID según en entendimiento comercial_"
   ]
  },
  {
   "cell_type": "code",
   "execution_count": 9,
   "id": "0f8bf16a",
   "metadata": {},
   "outputs": [
    {
     "name": "stdout",
     "output_type": "stream",
     "text": [
      "<class 'pandas.core.frame.DataFrame'>\n",
      "Int64Index: 406829 entries, 0 to 541908\n",
      "Data columns (total 8 columns):\n",
      " #   Column       Non-Null Count   Dtype  \n",
      "---  ------       --------------   -----  \n",
      " 0   InvoiceNo    406829 non-null  object \n",
      " 1   StockCode    406829 non-null  object \n",
      " 2   Description  406829 non-null  object \n",
      " 3   Quantity     406829 non-null  int64  \n",
      " 4   InvoiceDate  406829 non-null  object \n",
      " 5   UnitPrice    406829 non-null  float64\n",
      " 6   CustomerID   406829 non-null  object \n",
      " 7   Country      406829 non-null  object \n",
      "dtypes: float64(1), int64(1), object(6)\n",
      "memory usage: 27.9+ MB\n"
     ]
    }
   ],
   "source": [
    "# convertir CustomerID a string\n",
    "retail_df['CustomerID'] = retail_df['CustomerID'].astype(str)\n",
    "retail_df.info()"
   ]
  },
  {
   "cell_type": "markdown",
   "id": "4cb52227",
   "metadata": {},
   "source": [
    "## Preparación de los datos"
   ]
  },
  {
   "cell_type": "markdown",
   "id": "314e9167",
   "metadata": {},
   "source": [
    "Vamos a analizar a los clientes mediante tres variables:\n",
    "\n",
    "- R (Recency): Tiempo que ha pasado desde la última compra.\n",
    "- F (Frecuencia): Número de transacciones por cliente.\n",
    "- M (Monetary): Importe total de transacciones por cliente.\n",
    "\n",
    "Vamos a obtener estas tres variables a partir de los datos dados."
   ]
  },
  {
   "cell_type": "markdown",
   "id": "1bdc7514",
   "metadata": {},
   "source": [
    "### _Monetary_"
   ]
  },
  {
   "cell_type": "code",
   "execution_count": 10,
   "id": "07dbe3a6",
   "metadata": {},
   "outputs": [
    {
     "data": {
      "text/html": [
       "<div>\n",
       "<style scoped>\n",
       "    .dataframe tbody tr th:only-of-type {\n",
       "        vertical-align: middle;\n",
       "    }\n",
       "\n",
       "    .dataframe tbody tr th {\n",
       "        vertical-align: top;\n",
       "    }\n",
       "\n",
       "    .dataframe thead th {\n",
       "        text-align: right;\n",
       "    }\n",
       "</style>\n",
       "<table border=\"1\" class=\"dataframe\">\n",
       "  <thead>\n",
       "    <tr style=\"text-align: right;\">\n",
       "      <th></th>\n",
       "      <th>CustomerID</th>\n",
       "      <th>Amount</th>\n",
       "    </tr>\n",
       "  </thead>\n",
       "  <tbody>\n",
       "    <tr>\n",
       "      <th>0</th>\n",
       "      <td>12346.0</td>\n",
       "      <td>0.00</td>\n",
       "    </tr>\n",
       "    <tr>\n",
       "      <th>1</th>\n",
       "      <td>12347.0</td>\n",
       "      <td>4310.00</td>\n",
       "    </tr>\n",
       "    <tr>\n",
       "      <th>2</th>\n",
       "      <td>12348.0</td>\n",
       "      <td>1797.24</td>\n",
       "    </tr>\n",
       "    <tr>\n",
       "      <th>3</th>\n",
       "      <td>12349.0</td>\n",
       "      <td>1757.55</td>\n",
       "    </tr>\n",
       "    <tr>\n",
       "      <th>4</th>\n",
       "      <td>12350.0</td>\n",
       "      <td>334.40</td>\n",
       "    </tr>\n",
       "  </tbody>\n",
       "</table>\n",
       "</div>"
      ],
      "text/plain": [
       "  CustomerID   Amount\n",
       "0    12346.0     0.00\n",
       "1    12347.0  4310.00\n",
       "2    12348.0  1797.24\n",
       "3    12349.0  1757.55\n",
       "4    12350.0   334.40"
      ]
     },
     "execution_count": 10,
     "metadata": {},
     "output_type": "execute_result"
    }
   ],
   "source": [
    "# calcular el total de cada transaccion y guardamos en una nueva columna\n",
    "retail_df['Amount'] = retail_df['Quantity']*retail_df['UnitPrice']\n",
    "\n",
    "# calcular el gasto total por cliente\n",
    "rfm_m = retail_df.groupby('CustomerID')['Amount'].sum()\n",
    "\n",
    "# convertir serie en un dataframe\n",
    "rfm_m = rfm_m.reset_index()\n",
    "\n",
    "rfm_m.head()"
   ]
  },
  {
   "cell_type": "markdown",
   "id": "41281693",
   "metadata": {},
   "source": [
    "### _Frequency_"
   ]
  },
  {
   "cell_type": "code",
   "execution_count": 11,
   "id": "9cad0744",
   "metadata": {},
   "outputs": [
    {
     "data": {
      "text/html": [
       "<div>\n",
       "<style scoped>\n",
       "    .dataframe tbody tr th:only-of-type {\n",
       "        vertical-align: middle;\n",
       "    }\n",
       "\n",
       "    .dataframe tbody tr th {\n",
       "        vertical-align: top;\n",
       "    }\n",
       "\n",
       "    .dataframe thead th {\n",
       "        text-align: right;\n",
       "    }\n",
       "</style>\n",
       "<table border=\"1\" class=\"dataframe\">\n",
       "  <thead>\n",
       "    <tr style=\"text-align: right;\">\n",
       "      <th></th>\n",
       "      <th>CustomerID</th>\n",
       "      <th>Frequency</th>\n",
       "    </tr>\n",
       "  </thead>\n",
       "  <tbody>\n",
       "    <tr>\n",
       "      <th>0</th>\n",
       "      <td>12346.0</td>\n",
       "      <td>2</td>\n",
       "    </tr>\n",
       "    <tr>\n",
       "      <th>1</th>\n",
       "      <td>12347.0</td>\n",
       "      <td>182</td>\n",
       "    </tr>\n",
       "    <tr>\n",
       "      <th>2</th>\n",
       "      <td>12348.0</td>\n",
       "      <td>31</td>\n",
       "    </tr>\n",
       "    <tr>\n",
       "      <th>3</th>\n",
       "      <td>12349.0</td>\n",
       "      <td>73</td>\n",
       "    </tr>\n",
       "    <tr>\n",
       "      <th>4</th>\n",
       "      <td>12350.0</td>\n",
       "      <td>17</td>\n",
       "    </tr>\n",
       "  </tbody>\n",
       "</table>\n",
       "</div>"
      ],
      "text/plain": [
       "  CustomerID  Frequency\n",
       "0    12346.0          2\n",
       "1    12347.0        182\n",
       "2    12348.0         31\n",
       "3    12349.0         73\n",
       "4    12350.0         17"
      ]
     },
     "execution_count": 11,
     "metadata": {},
     "output_type": "execute_result"
    }
   ],
   "source": [
    "# contar la cantidad de facturas de cada cliente\n",
    "rfm_f = retail_df.groupby('CustomerID')['InvoiceNo'].count()\n",
    "\n",
    "# convertir serie en dataframe\n",
    "rfm_f = rfm_f.reset_index()\n",
    "\n",
    "# renombrar columnas para que sean claras\n",
    "rfm_f.columns = ['CustomerID', 'Frequency']\n",
    "\n",
    "rfm_f.head()"
   ]
  },
  {
   "cell_type": "markdown",
   "id": "8f704c03",
   "metadata": {},
   "source": [
    "### _Recency_"
   ]
  },
  {
   "cell_type": "code",
   "execution_count": 12,
   "id": "500c6ef0",
   "metadata": {},
   "outputs": [],
   "source": [
    "# convertir fecha y hora al tipo de dato adecuado\n",
    "retail_df['InvoiceDate'] = pd.to_datetime(retail_df['InvoiceDate'], format='%d-%m-%Y %H:%M')"
   ]
  },
  {
   "cell_type": "code",
   "execution_count": 13,
   "id": "55166ec6",
   "metadata": {},
   "outputs": [
    {
     "data": {
      "text/plain": [
       "Timestamp('2011-12-09 12:50:00')"
      ]
     },
     "execution_count": 13,
     "metadata": {},
     "output_type": "execute_result"
    }
   ],
   "source": [
    "# calcular la fecha maxima para conocer la fecha de la ultima transaccion\n",
    "max_date = max(retail_df['InvoiceDate'])\n",
    "max_date"
   ]
  },
  {
   "cell_type": "code",
   "execution_count": 14,
   "id": "1ebeecf9",
   "metadata": {},
   "outputs": [
    {
     "data": {
      "text/html": [
       "<div>\n",
       "<style scoped>\n",
       "    .dataframe tbody tr th:only-of-type {\n",
       "        vertical-align: middle;\n",
       "    }\n",
       "\n",
       "    .dataframe tbody tr th {\n",
       "        vertical-align: top;\n",
       "    }\n",
       "\n",
       "    .dataframe thead th {\n",
       "        text-align: right;\n",
       "    }\n",
       "</style>\n",
       "<table border=\"1\" class=\"dataframe\">\n",
       "  <thead>\n",
       "    <tr style=\"text-align: right;\">\n",
       "      <th></th>\n",
       "      <th>InvoiceNo</th>\n",
       "      <th>StockCode</th>\n",
       "      <th>Description</th>\n",
       "      <th>Quantity</th>\n",
       "      <th>InvoiceDate</th>\n",
       "      <th>UnitPrice</th>\n",
       "      <th>CustomerID</th>\n",
       "      <th>Country</th>\n",
       "      <th>Amount</th>\n",
       "      <th>Diff_dates</th>\n",
       "    </tr>\n",
       "  </thead>\n",
       "  <tbody>\n",
       "    <tr>\n",
       "      <th>0</th>\n",
       "      <td>536365</td>\n",
       "      <td>85123A</td>\n",
       "      <td>WHITE HANGING HEART T-LIGHT HOLDER</td>\n",
       "      <td>6</td>\n",
       "      <td>2010-12-01 08:26:00</td>\n",
       "      <td>2.55</td>\n",
       "      <td>17850.0</td>\n",
       "      <td>United Kingdom</td>\n",
       "      <td>15.30</td>\n",
       "      <td>373 days 04:24:00</td>\n",
       "    </tr>\n",
       "    <tr>\n",
       "      <th>1</th>\n",
       "      <td>536365</td>\n",
       "      <td>71053</td>\n",
       "      <td>WHITE METAL LANTERN</td>\n",
       "      <td>6</td>\n",
       "      <td>2010-12-01 08:26:00</td>\n",
       "      <td>3.39</td>\n",
       "      <td>17850.0</td>\n",
       "      <td>United Kingdom</td>\n",
       "      <td>20.34</td>\n",
       "      <td>373 days 04:24:00</td>\n",
       "    </tr>\n",
       "    <tr>\n",
       "      <th>2</th>\n",
       "      <td>536365</td>\n",
       "      <td>84406B</td>\n",
       "      <td>CREAM CUPID HEARTS COAT HANGER</td>\n",
       "      <td>8</td>\n",
       "      <td>2010-12-01 08:26:00</td>\n",
       "      <td>2.75</td>\n",
       "      <td>17850.0</td>\n",
       "      <td>United Kingdom</td>\n",
       "      <td>22.00</td>\n",
       "      <td>373 days 04:24:00</td>\n",
       "    </tr>\n",
       "    <tr>\n",
       "      <th>3</th>\n",
       "      <td>536365</td>\n",
       "      <td>84029G</td>\n",
       "      <td>KNITTED UNION FLAG HOT WATER BOTTLE</td>\n",
       "      <td>6</td>\n",
       "      <td>2010-12-01 08:26:00</td>\n",
       "      <td>3.39</td>\n",
       "      <td>17850.0</td>\n",
       "      <td>United Kingdom</td>\n",
       "      <td>20.34</td>\n",
       "      <td>373 days 04:24:00</td>\n",
       "    </tr>\n",
       "    <tr>\n",
       "      <th>4</th>\n",
       "      <td>536365</td>\n",
       "      <td>84029E</td>\n",
       "      <td>RED WOOLLY HOTTIE WHITE HEART.</td>\n",
       "      <td>6</td>\n",
       "      <td>2010-12-01 08:26:00</td>\n",
       "      <td>3.39</td>\n",
       "      <td>17850.0</td>\n",
       "      <td>United Kingdom</td>\n",
       "      <td>20.34</td>\n",
       "      <td>373 days 04:24:00</td>\n",
       "    </tr>\n",
       "  </tbody>\n",
       "</table>\n",
       "</div>"
      ],
      "text/plain": [
       "  InvoiceNo StockCode                          Description  Quantity  \\\n",
       "0    536365    85123A   WHITE HANGING HEART T-LIGHT HOLDER         6   \n",
       "1    536365     71053                  WHITE METAL LANTERN         6   \n",
       "2    536365    84406B       CREAM CUPID HEARTS COAT HANGER         8   \n",
       "3    536365    84029G  KNITTED UNION FLAG HOT WATER BOTTLE         6   \n",
       "4    536365    84029E       RED WOOLLY HOTTIE WHITE HEART.         6   \n",
       "\n",
       "          InvoiceDate  UnitPrice CustomerID         Country  Amount  \\\n",
       "0 2010-12-01 08:26:00       2.55    17850.0  United Kingdom   15.30   \n",
       "1 2010-12-01 08:26:00       3.39    17850.0  United Kingdom   20.34   \n",
       "2 2010-12-01 08:26:00       2.75    17850.0  United Kingdom   22.00   \n",
       "3 2010-12-01 08:26:00       3.39    17850.0  United Kingdom   20.34   \n",
       "4 2010-12-01 08:26:00       3.39    17850.0  United Kingdom   20.34   \n",
       "\n",
       "         Diff_dates  \n",
       "0 373 days 04:24:00  \n",
       "1 373 days 04:24:00  \n",
       "2 373 days 04:24:00  \n",
       "3 373 days 04:24:00  \n",
       "4 373 days 04:24:00  "
      ]
     },
     "execution_count": 14,
     "metadata": {},
     "output_type": "execute_result"
    }
   ],
   "source": [
    "# calcular la diferencia entre la fecha maxima y la fecha de cada transaccion\n",
    "# guardar en una nueva columna\n",
    "retail_df['Diff_dates'] = max_date - retail_df['InvoiceDate']\n",
    "retail_df.head()"
   ]
  },
  {
   "cell_type": "code",
   "execution_count": 15,
   "id": "1ce16375",
   "metadata": {},
   "outputs": [
    {
     "data": {
      "text/html": [
       "<div>\n",
       "<style scoped>\n",
       "    .dataframe tbody tr th:only-of-type {\n",
       "        vertical-align: middle;\n",
       "    }\n",
       "\n",
       "    .dataframe tbody tr th {\n",
       "        vertical-align: top;\n",
       "    }\n",
       "\n",
       "    .dataframe thead th {\n",
       "        text-align: right;\n",
       "    }\n",
       "</style>\n",
       "<table border=\"1\" class=\"dataframe\">\n",
       "  <thead>\n",
       "    <tr style=\"text-align: right;\">\n",
       "      <th></th>\n",
       "      <th>CustomerID</th>\n",
       "      <th>Diff_dates</th>\n",
       "    </tr>\n",
       "  </thead>\n",
       "  <tbody>\n",
       "    <tr>\n",
       "      <th>0</th>\n",
       "      <td>12346.0</td>\n",
       "      <td>325 days 02:33:00</td>\n",
       "    </tr>\n",
       "    <tr>\n",
       "      <th>1</th>\n",
       "      <td>12347.0</td>\n",
       "      <td>1 days 20:58:00</td>\n",
       "    </tr>\n",
       "    <tr>\n",
       "      <th>2</th>\n",
       "      <td>12348.0</td>\n",
       "      <td>74 days 23:37:00</td>\n",
       "    </tr>\n",
       "    <tr>\n",
       "      <th>3</th>\n",
       "      <td>12349.0</td>\n",
       "      <td>18 days 02:59:00</td>\n",
       "    </tr>\n",
       "    <tr>\n",
       "      <th>4</th>\n",
       "      <td>12350.0</td>\n",
       "      <td>309 days 20:49:00</td>\n",
       "    </tr>\n",
       "  </tbody>\n",
       "</table>\n",
       "</div>"
      ],
      "text/plain": [
       "  CustomerID        Diff_dates\n",
       "0    12346.0 325 days 02:33:00\n",
       "1    12347.0   1 days 20:58:00\n",
       "2    12348.0  74 days 23:37:00\n",
       "3    12349.0  18 days 02:59:00\n",
       "4    12350.0 309 days 20:49:00"
      ]
     },
     "execution_count": 15,
     "metadata": {},
     "output_type": "execute_result"
    }
   ],
   "source": [
    "# Calcular la fecha de la ultima transaccion para obtener la antiguedad de los clientes\n",
    "rfm_r = retail_df.groupby('CustomerID')['Diff_dates'].min()\n",
    "\n",
    "# convertir serie en dataframe\n",
    "rfm_r = rfm_r.reset_index()\n",
    "\n",
    "rfm_r.head()"
   ]
  },
  {
   "cell_type": "code",
   "execution_count": 16,
   "id": "1067175f",
   "metadata": {},
   "outputs": [
    {
     "data": {
      "text/html": [
       "<div>\n",
       "<style scoped>\n",
       "    .dataframe tbody tr th:only-of-type {\n",
       "        vertical-align: middle;\n",
       "    }\n",
       "\n",
       "    .dataframe tbody tr th {\n",
       "        vertical-align: top;\n",
       "    }\n",
       "\n",
       "    .dataframe thead th {\n",
       "        text-align: right;\n",
       "    }\n",
       "</style>\n",
       "<table border=\"1\" class=\"dataframe\">\n",
       "  <thead>\n",
       "    <tr style=\"text-align: right;\">\n",
       "      <th></th>\n",
       "      <th>CustomerID</th>\n",
       "      <th>Diff_dates</th>\n",
       "    </tr>\n",
       "  </thead>\n",
       "  <tbody>\n",
       "    <tr>\n",
       "      <th>0</th>\n",
       "      <td>12346.0</td>\n",
       "      <td>325</td>\n",
       "    </tr>\n",
       "    <tr>\n",
       "      <th>1</th>\n",
       "      <td>12347.0</td>\n",
       "      <td>1</td>\n",
       "    </tr>\n",
       "    <tr>\n",
       "      <th>2</th>\n",
       "      <td>12348.0</td>\n",
       "      <td>74</td>\n",
       "    </tr>\n",
       "    <tr>\n",
       "      <th>3</th>\n",
       "      <td>12349.0</td>\n",
       "      <td>18</td>\n",
       "    </tr>\n",
       "    <tr>\n",
       "      <th>4</th>\n",
       "      <td>12350.0</td>\n",
       "      <td>309</td>\n",
       "    </tr>\n",
       "  </tbody>\n",
       "</table>\n",
       "</div>"
      ],
      "text/plain": [
       "  CustomerID  Diff_dates\n",
       "0    12346.0         325\n",
       "1    12347.0           1\n",
       "2    12348.0          74\n",
       "3    12349.0          18\n",
       "4    12350.0         309"
      ]
     },
     "execution_count": 16,
     "metadata": {},
     "output_type": "execute_result"
    }
   ],
   "source": [
    "# Extraer solo el numero de dias\n",
    "rfm_r['Diff_dates'] = rfm_r['Diff_dates'].dt.days\n",
    "rfm_r.head()"
   ]
  },
  {
   "cell_type": "markdown",
   "id": "25d3d8c6",
   "metadata": {},
   "source": [
    "### _Unir variables_"
   ]
  },
  {
   "cell_type": "code",
   "execution_count": 17,
   "id": "ca71d359",
   "metadata": {},
   "outputs": [
    {
     "data": {
      "text/html": [
       "<div>\n",
       "<style scoped>\n",
       "    .dataframe tbody tr th:only-of-type {\n",
       "        vertical-align: middle;\n",
       "    }\n",
       "\n",
       "    .dataframe tbody tr th {\n",
       "        vertical-align: top;\n",
       "    }\n",
       "\n",
       "    .dataframe thead th {\n",
       "        text-align: right;\n",
       "    }\n",
       "</style>\n",
       "<table border=\"1\" class=\"dataframe\">\n",
       "  <thead>\n",
       "    <tr style=\"text-align: right;\">\n",
       "      <th></th>\n",
       "      <th>CustomerID</th>\n",
       "      <th>Monetary</th>\n",
       "      <th>Frequency</th>\n",
       "      <th>Recency</th>\n",
       "    </tr>\n",
       "  </thead>\n",
       "  <tbody>\n",
       "    <tr>\n",
       "      <th>0</th>\n",
       "      <td>12346.0</td>\n",
       "      <td>0.00</td>\n",
       "      <td>2</td>\n",
       "      <td>325</td>\n",
       "    </tr>\n",
       "    <tr>\n",
       "      <th>1</th>\n",
       "      <td>12347.0</td>\n",
       "      <td>4310.00</td>\n",
       "      <td>182</td>\n",
       "      <td>1</td>\n",
       "    </tr>\n",
       "    <tr>\n",
       "      <th>2</th>\n",
       "      <td>12348.0</td>\n",
       "      <td>1797.24</td>\n",
       "      <td>31</td>\n",
       "      <td>74</td>\n",
       "    </tr>\n",
       "    <tr>\n",
       "      <th>3</th>\n",
       "      <td>12349.0</td>\n",
       "      <td>1757.55</td>\n",
       "      <td>73</td>\n",
       "      <td>18</td>\n",
       "    </tr>\n",
       "    <tr>\n",
       "      <th>4</th>\n",
       "      <td>12350.0</td>\n",
       "      <td>334.40</td>\n",
       "      <td>17</td>\n",
       "      <td>309</td>\n",
       "    </tr>\n",
       "  </tbody>\n",
       "</table>\n",
       "</div>"
      ],
      "text/plain": [
       "  CustomerID  Monetary  Frequency  Recency\n",
       "0    12346.0      0.00          2      325\n",
       "1    12347.0   4310.00        182        1\n",
       "2    12348.0   1797.24         31       74\n",
       "3    12349.0   1757.55         73       18\n",
       "4    12350.0    334.40         17      309"
      ]
     },
     "execution_count": 17,
     "metadata": {},
     "output_type": "execute_result"
    }
   ],
   "source": [
    "rfm = pd.merge(rfm_m, rfm_f, on='CustomerID', how='inner')\n",
    "rfm = pd.merge(rfm, rfm_r, on='CustomerID', how='inner')\n",
    "\n",
    "# renombrar columnas\n",
    "rfm.columns = ['CustomerID', 'Monetary', 'Frequency', 'Recency']\n",
    "rfm.head()"
   ]
  },
  {
   "cell_type": "markdown",
   "id": "cdc95269",
   "metadata": {},
   "source": [
    "### _Tratar outliers_"
   ]
  },
  {
   "cell_type": "markdown",
   "id": "0e50ec32",
   "metadata": {},
   "source": [
    "Tratarémos los outliers ya que alteran la distribución de los datos como percatamos en los resúmenes estadísticos."
   ]
  },
  {
   "cell_type": "markdown",
   "id": "fd960c15",
   "metadata": {},
   "source": [
    "__Análisis de Outliers en Monetary, Frequency y Recency__"
   ]
  },
  {
   "cell_type": "code",
   "execution_count": 18,
   "id": "042b28d5",
   "metadata": {},
   "outputs": [
    {
     "data": {
      "image/png": "[encoded data removed]",
      "text/plain": [
       "<Figure size 720x576 with 1 Axes>"
      ]
     },
     "metadata": {
      "needs_background": "light"
     },
     "output_type": "display_data"
    }
   ],
   "source": [
    "# definimos las variables a analizar\n",
    "atributos = ['Monetary', 'Frequency', 'Recency']\n",
    "\n",
    "# ajustar tamano del grafico en pulgadas\n",
    "plt.rcParams['figure.figsize'] = [10, 8]\n",
    "\n",
    "# boxplot\n",
    "sns.boxplot(\n",
    "    data=rfm[atributos], \n",
    "    orient='v',         # orientacion del grafico\n",
    "    palette='Set1',     # paleta de colores\n",
    "    whis=1.5,           # limite del bigote. 1.5 veces el IQR\n",
    "    saturation=1,       # intensidad de color maximo\n",
    "    width=0.7           # ancho de la caja\n",
    "    )\n",
    "\n",
    "# propiedades del grafico\n",
    "plt.title('Distribucion de valores atipicos en las variables', fontsize=14, fontweight='bold')\n",
    "plt.ylabel('Rango', fontweight='bold')\n",
    "plt.xlabel('Atributos', fontweight='bold')\n",
    "plt.show()"
   ]
  },
  {
   "cell_type": "markdown",
   "id": "00f59a29",
   "metadata": {},
   "source": [
    "> _Monetary_ presenta una gran cantidad de outliers. La mayoría de sus datos se concentran cerca del eje inferior. Hay ciertos clientes que han gastado cantidades muy altas (mayores a 250.000) lo que genera una distribución muy sesgada.\n",
    "\n",
    "> _Frequency_ presenta algunos outliers. La mayoría de los clientes han comprado pocas veces. Unos pocos clientes compran muy frecuentemente (clientes leales).\n",
    "\n",
    "> _Recency_ presenta pocos outliers. La mayoría de los clientes hicieron su última compra en un rango cercano."
   ]
  },
  {
   "cell_type": "code",
   "execution_count": 19,
   "id": "bbf00f57",
   "metadata": {},
   "outputs": [
    {
     "name": "stdout",
     "output_type": "stream",
     "text": [
      "Registros totales de rfm:  4372\n"
     ]
    }
   ],
   "source": [
    "# cantidad de registros en rfm\n",
    "regis = rfm.shape[0]\n",
    "print('Registros totales de rfm: ', regis)"
   ]
  },
  {
   "cell_type": "markdown",
   "id": "629a74f3",
   "metadata": {},
   "source": [
    "__Remover outliers estadísticos en Monetary__"
   ]
  },
  {
   "cell_type": "code",
   "execution_count": 20,
   "id": "8654ac32",
   "metadata": {},
   "outputs": [
    {
     "name": "stdout",
     "output_type": "stream",
     "text": [
      "Registros totales de rfm sin outliers en Monetary:  4313\n",
      "Registros eliminados:  59\n",
      "Porcentaje eliminado:  1.35\n"
     ]
    }
   ],
   "source": [
    "# calcular el rango intercuartil\n",
    "Q1 = rfm.Monetary.quantile(0.05)\n",
    "Q3 = rfm.Monetary.quantile(0.95)\n",
    "IQR = Q3 - Q1\n",
    "\n",
    "# omitir clientes que esten fuera del rango de 1.5 veces IQR\n",
    "rfm = rfm[(rfm.Monetary >= Q1 - 1.5*IQR) & (rfm.Monetary <= Q3 + 1.5*IQR)]\n",
    "\n",
    "# cantidad de registros sin outliers en Monetary\n",
    "regis_m = rfm.shape[0]\n",
    "print('Registros totales de rfm sin outliers en Monetary: ', regis_m)\n",
    "print('Registros eliminados: ', regis - regis_m)\n",
    "print('Porcentaje eliminado: ', round(((regis - regis_m)/regis)*100, 2))"
   ]
  },
  {
   "cell_type": "markdown",
   "id": "c6364b16",
   "metadata": {},
   "source": [
    "__Remover outliers estadísticos en Recency__"
   ]
  },
  {
   "cell_type": "code",
   "execution_count": 21,
   "id": "e15ec54d",
   "metadata": {},
   "outputs": [
    {
     "name": "stdout",
     "output_type": "stream",
     "text": [
      "Registros totales de rfm sin outliers en Monetary y en Recency:  4313\n",
      "Registros eliminados:  0\n",
      "Porcentaje eliminado:  0.0\n"
     ]
    }
   ],
   "source": [
    "# calcular el rango intercuartil\n",
    "Q1 = rfm.Recency.quantile(0.05)\n",
    "Q3 = rfm.Recency.quantile(0.95)\n",
    "IQR = Q3 - Q1\n",
    "\n",
    "# omitir clientes que esten fuera del rango de 1.5 veces IQR\n",
    "rfm = rfm[(rfm.Recency >= Q1 - 1.5*IQR) & (rfm.Recency <= Q3 + 1.5*IQR)]\n",
    "\n",
    "# cantidad de registros sin outliers en Recency y monetary\n",
    "regis_mr = rfm.shape[0]\n",
    "print('Registros totales de rfm sin outliers en Monetary y en Recency: ', regis_mr)\n",
    "print('Registros eliminados: ', regis_m - regis_mr)\n",
    "print('Porcentaje eliminado: ', round(((regis_m - regis_mr)/regis_m)*100, 2))"
   ]
  },
  {
   "cell_type": "markdown",
   "id": "8a2ac1e3",
   "metadata": {},
   "source": [
    "__Remover outliers estadísticos en Frequency__"
   ]
  },
  {
   "cell_type": "code",
   "execution_count": 22,
   "id": "30e745b3",
   "metadata": {},
   "outputs": [
    {
     "name": "stdout",
     "output_type": "stream",
     "text": [
      "Registros totales libres de outliers:  4293\n",
      "Registros eliminados:  20\n",
      "Porcentaje eliminado:  0.46\n"
     ]
    }
   ],
   "source": [
    "# calcular el rango intercuartil\n",
    "Q1 = rfm.Frequency.quantile(0.05)\n",
    "Q3 = rfm.Frequency.quantile(0.95)\n",
    "IQR = Q3 - Q1\n",
    "\n",
    "# omitir clientes que esten fuera del rango de 1.5 veces IQR\n",
    "rfm = rfm[(rfm.Frequency >= Q1 - 1.5*IQR) & (rfm.Frequency <= Q3 + 1.5*IQR)]\n",
    "\n",
    "# cantidad de registros sin outliers en ningun atributo\n",
    "regis_mrf = rfm.shape[0]\n",
    "print('Registros totales libres de outliers: ', regis_mrf)\n",
    "print('Registros eliminados: ', regis_mr - regis_mrf)\n",
    "print('Porcentaje eliminado: ', round(((regis_mr - regis_mrf)/regis_mr)*100, 2))"
   ]
  },
  {
   "cell_type": "code",
   "execution_count": 23,
   "id": "6bd3de4c",
   "metadata": {},
   "outputs": [
    {
     "data": {
      "text/html": [
       "<div>\n",
       "<style scoped>\n",
       "    .dataframe tbody tr th:only-of-type {\n",
       "        vertical-align: middle;\n",
       "    }\n",
       "\n",
       "    .dataframe tbody tr th {\n",
       "        vertical-align: top;\n",
       "    }\n",
       "\n",
       "    .dataframe thead th {\n",
       "        text-align: right;\n",
       "    }\n",
       "</style>\n",
       "<table border=\"1\" class=\"dataframe\">\n",
       "  <thead>\n",
       "    <tr style=\"text-align: right;\">\n",
       "      <th></th>\n",
       "      <th>CustomerID</th>\n",
       "      <th>Monetary</th>\n",
       "      <th>Frequency</th>\n",
       "      <th>Recency</th>\n",
       "    </tr>\n",
       "  </thead>\n",
       "  <tbody>\n",
       "    <tr>\n",
       "      <th>0</th>\n",
       "      <td>12346.0</td>\n",
       "      <td>0.00</td>\n",
       "      <td>2</td>\n",
       "      <td>325</td>\n",
       "    </tr>\n",
       "    <tr>\n",
       "      <th>1</th>\n",
       "      <td>12347.0</td>\n",
       "      <td>4310.00</td>\n",
       "      <td>182</td>\n",
       "      <td>1</td>\n",
       "    </tr>\n",
       "    <tr>\n",
       "      <th>2</th>\n",
       "      <td>12348.0</td>\n",
       "      <td>1797.24</td>\n",
       "      <td>31</td>\n",
       "      <td>74</td>\n",
       "    </tr>\n",
       "    <tr>\n",
       "      <th>3</th>\n",
       "      <td>12349.0</td>\n",
       "      <td>1757.55</td>\n",
       "      <td>73</td>\n",
       "      <td>18</td>\n",
       "    </tr>\n",
       "    <tr>\n",
       "      <th>4</th>\n",
       "      <td>12350.0</td>\n",
       "      <td>334.40</td>\n",
       "      <td>17</td>\n",
       "      <td>309</td>\n",
       "    </tr>\n",
       "    <tr>\n",
       "      <th>...</th>\n",
       "      <td>...</td>\n",
       "      <td>...</td>\n",
       "      <td>...</td>\n",
       "      <td>...</td>\n",
       "    </tr>\n",
       "    <tr>\n",
       "      <th>4366</th>\n",
       "      <td>18278.0</td>\n",
       "      <td>173.90</td>\n",
       "      <td>9</td>\n",
       "      <td>73</td>\n",
       "    </tr>\n",
       "    <tr>\n",
       "      <th>4367</th>\n",
       "      <td>18280.0</td>\n",
       "      <td>180.60</td>\n",
       "      <td>10</td>\n",
       "      <td>277</td>\n",
       "    </tr>\n",
       "    <tr>\n",
       "      <th>4368</th>\n",
       "      <td>18281.0</td>\n",
       "      <td>80.82</td>\n",
       "      <td>7</td>\n",
       "      <td>180</td>\n",
       "    </tr>\n",
       "    <tr>\n",
       "      <th>4369</th>\n",
       "      <td>18282.0</td>\n",
       "      <td>176.60</td>\n",
       "      <td>13</td>\n",
       "      <td>7</td>\n",
       "    </tr>\n",
       "    <tr>\n",
       "      <th>4371</th>\n",
       "      <td>18287.0</td>\n",
       "      <td>1837.28</td>\n",
       "      <td>70</td>\n",
       "      <td>42</td>\n",
       "    </tr>\n",
       "  </tbody>\n",
       "</table>\n",
       "<p>4293 rows × 4 columns</p>\n",
       "</div>"
      ],
      "text/plain": [
       "     CustomerID  Monetary  Frequency  Recency\n",
       "0       12346.0      0.00          2      325\n",
       "1       12347.0   4310.00        182        1\n",
       "2       12348.0   1797.24         31       74\n",
       "3       12349.0   1757.55         73       18\n",
       "4       12350.0    334.40         17      309\n",
       "...         ...       ...        ...      ...\n",
       "4366    18278.0    173.90          9       73\n",
       "4367    18280.0    180.60         10      277\n",
       "4368    18281.0     80.82          7      180\n",
       "4369    18282.0    176.60         13        7\n",
       "4371    18287.0   1837.28         70       42\n",
       "\n",
       "[4293 rows x 4 columns]"
      ]
     },
     "execution_count": 23,
     "metadata": {},
     "output_type": "execute_result"
    }
   ],
   "source": [
    "rfm"
   ]
  },
  {
   "cell_type": "markdown",
   "id": "b062627a",
   "metadata": {},
   "source": [
    "### _Análisis de Correlación_"
   ]
  },
  {
   "cell_type": "code",
   "execution_count": 24,
   "id": "dca27e93",
   "metadata": {},
   "outputs": [
    {
     "data": {
      "image/png": "[encoded data removed]",
      "text/plain": [
       "<Figure size 1080x720 with 2 Axes>"
      ]
     },
     "metadata": {
      "needs_background": "light"
     },
     "output_type": "display_data"
    }
   ],
   "source": [
    "fig = plt.figure(figsize=(15,10))\n",
    "sns.heatmap(rfm.corr(), annot=True, cmap='coolwarm')\n",
    "plt.show()"
   ]
  },
  {
   "cell_type": "markdown",
   "id": "fdc94557",
   "metadata": {},
   "source": [
    "> Las variables, en general, no presentan alta correlación entre sí.\n",
    "\n",
    "> Podría ser un problema al implementar el modelo DBSCAN ya que requiere una correlación considerable entre la variables."
   ]
  },
  {
   "cell_type": "markdown",
   "id": "a1dcbe1e",
   "metadata": {},
   "source": [
    "### _Visualización de los datos_"
   ]
  },
  {
   "cell_type": "markdown",
   "id": "bd7285de",
   "metadata": {},
   "source": [
    "Vamos a visualizar las formas en que lo datos se encuentran mediante un scatterplot. Esto es importante para tener una idea de los modelos que podemos usar mas adelante"
   ]
  },
  {
   "cell_type": "code",
   "execution_count": 30,
   "id": "e1e75eed",
   "metadata": {},
   "outputs": [
    {
     "data": {
      "image/png": "[encoded data removed]",
      "text/plain": [
       "<Figure size 864x432 with 1 Axes>"
      ]
     },
     "metadata": {
      "needs_background": "light"
     },
     "output_type": "display_data"
    }
   ],
   "source": [
    "plt.figure(figsize=(12,6))\n",
    "sns.scatterplot(data=rfm, x='Recency', y='Frequency')\n",
    "plt.title('Clusters de clientes por Recency y Frequency')\n",
    "plt.xlabel('Recency')\n",
    "plt.ylabel('Frequency')\n",
    "plt.show()"
   ]
  },
  {
   "cell_type": "markdown",
   "id": "2361a26d",
   "metadata": {},
   "source": [
    "> Obervamos que gran parte de los datos se encuentran muy concentrados entre sí.\n",
    "\n",
    "> No presentan agrupaciones en formas específicas. "
   ]
  },
  {
   "cell_type": "markdown",
   "id": "71b6bd3f",
   "metadata": {},
   "source": [
    "### _Escalar variables_"
   ]
  },
  {
   "cell_type": "markdown",
   "id": "fe25c7f5",
   "metadata": {},
   "source": [
    "Este proceso es importante para que todas las variables tengan una misma escala."
   ]
  },
  {
   "cell_type": "code",
   "execution_count": 26,
   "id": "953b25f6",
   "metadata": {},
   "outputs": [
    {
     "data": {
      "text/plain": [
       "array([[-0.72373821, -0.75288754,  2.30161144],\n",
       "       [ 1.73161722,  1.04246665, -0.90646561],\n",
       "       [ 0.30012791, -0.46363604, -0.18365813],\n",
       "       ...,\n",
       "       [-0.67769602, -0.70301659,  0.86589794],\n",
       "       [-0.6231313 , -0.64317145, -0.84705678],\n",
       "       [ 0.32293822, -0.07464263, -0.50050524]])"
      ]
     },
     "execution_count": 26,
     "metadata": {},
     "output_type": "execute_result"
    }
   ],
   "source": [
    "# seleccionamos las variables del dataframe\n",
    "rfm_df = rfm[['Monetary', 'Frequency', 'Recency']]\n",
    "\n",
    "# instanciamos el escalador\n",
    "scaler = StandardScaler()\n",
    "\n",
    "# ajustamos el escalador a los datos\n",
    "rfm_df_scaled = scaler.fit_transform(rfm_df)\n",
    "rfm_df_scaled"
   ]
  },
  {
   "cell_type": "code",
   "execution_count": 27,
   "id": "4ccc0199",
   "metadata": {},
   "outputs": [
    {
     "data": {
      "text/html": [
       "<div>\n",
       "<style scoped>\n",
       "    .dataframe tbody tr th:only-of-type {\n",
       "        vertical-align: middle;\n",
       "    }\n",
       "\n",
       "    .dataframe tbody tr th {\n",
       "        vertical-align: top;\n",
       "    }\n",
       "\n",
       "    .dataframe thead th {\n",
       "        text-align: right;\n",
       "    }\n",
       "</style>\n",
       "<table border=\"1\" class=\"dataframe\">\n",
       "  <thead>\n",
       "    <tr style=\"text-align: right;\">\n",
       "      <th></th>\n",
       "      <th>Monetary</th>\n",
       "      <th>Frequency</th>\n",
       "      <th>Recency</th>\n",
       "    </tr>\n",
       "  </thead>\n",
       "  <tbody>\n",
       "    <tr>\n",
       "      <th>0</th>\n",
       "      <td>-0.723738</td>\n",
       "      <td>-0.752888</td>\n",
       "      <td>2.301611</td>\n",
       "    </tr>\n",
       "    <tr>\n",
       "      <th>1</th>\n",
       "      <td>1.731617</td>\n",
       "      <td>1.042467</td>\n",
       "      <td>-0.906466</td>\n",
       "    </tr>\n",
       "    <tr>\n",
       "      <th>2</th>\n",
       "      <td>0.300128</td>\n",
       "      <td>-0.463636</td>\n",
       "      <td>-0.183658</td>\n",
       "    </tr>\n",
       "    <tr>\n",
       "      <th>3</th>\n",
       "      <td>0.277517</td>\n",
       "      <td>-0.044720</td>\n",
       "      <td>-0.738141</td>\n",
       "    </tr>\n",
       "    <tr>\n",
       "      <th>4</th>\n",
       "      <td>-0.533235</td>\n",
       "      <td>-0.603275</td>\n",
       "      <td>2.143188</td>\n",
       "    </tr>\n",
       "  </tbody>\n",
       "</table>\n",
       "</div>"
      ],
      "text/plain": [
       "   Monetary  Frequency   Recency\n",
       "0 -0.723738  -0.752888  2.301611\n",
       "1  1.731617   1.042467 -0.906466\n",
       "2  0.300128  -0.463636 -0.183658\n",
       "3  0.277517  -0.044720 -0.738141\n",
       "4 -0.533235  -0.603275  2.143188"
      ]
     },
     "execution_count": 27,
     "metadata": {},
     "output_type": "execute_result"
    }
   ],
   "source": [
    "# convertimos serie en dataframe\n",
    "rfm_df_scaled = pd.DataFrame(rfm_df_scaled)\n",
    "rfm_df_scaled.columns = ['Monetary', 'Frequency', 'Recency']\n",
    "rfm_df_scaled.head()"
   ]
  },
  {
   "cell_type": "markdown",
   "id": "00a6e848",
   "metadata": {},
   "source": [
    "## Exportar Datos"
   ]
  },
  {
   "cell_type": "code",
   "execution_count": 28,
   "id": "135a851f",
   "metadata": {},
   "outputs": [],
   "source": [
    "# exportar datos de rfm originales\n",
    "rfm.to_csv('./data/rfm.csv', index=False)"
   ]
  },
  {
   "cell_type": "markdown",
   "id": "0cb68039",
   "metadata": {},
   "source": [
    "## Exportar datos escalados"
   ]
  },
  {
   "cell_type": "code",
   "execution_count": 29,
   "id": "84e39315",
   "metadata": {},
   "outputs": [],
   "source": [
    "# exportar datos de rfm escalados\n",
    "rfm_df_scaled.to_csv('./data/rfm_df_scaled.csv', index=False)"
   ]
  }
 ],
 "metadata": {
  "kernelspec": {
   "display_name": "data",
   "language": "python",
   "name": "python3"
  },
  "language_info": {
   "codemirror_mode": {
    "name": "ipython",
    "version": 3
   },
   "file_extension": ".py",
   "mimetype": "text/x-python",
   "name": "python",
   "nbconvert_exporter": "python",
   "pygments_lexer": "ipython3",
   "version": "3.10.8"
  }
 },
 "nbformat": 4,
 "nbformat_minor": 5
}
