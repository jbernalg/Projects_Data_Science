{
 "cells": [
  {
   "attachments": {},
   "cell_type": "markdown",
   "metadata": {},
   "source": [
    "# Imputacion basada en Modelos"
   ]
  },
  {
   "attachments": {},
   "cell_type": "markdown",
   "metadata": {},
   "source": [
    "## Preparacion del entorno"
   ]
  },
  {
   "attachments": {},
   "cell_type": "markdown",
   "metadata": {},
   "source": [
    "### Librerias"
   ]
  },
  {
   "cell_type": "code",
   "execution_count": 1,
   "metadata": {},
   "outputs": [],
   "source": [
    "import janitor  # limpiar datos\n",
    "import matplotlib.pyplot as plt # visualizacion de datos\n",
    "import missingno    # exploracion de valores faltantes\n",
    "import nhanes.load  # libreria con los datos a analizar\n",
    "import numpy as np  # calculos numericos\n",
    "import pandas as pd # trabajar con dataframe\n",
    "import scipy.stats  # trabjar con estadisticos\n",
    "import seaborn as sns   #   visualizacion estadistica\n",
    "# import session_info\n",
    "# sklearn contiene los modelos a utilizar\n",
    "import sklearn.compose\n",
    "import sklearn.impute\n",
    "import sklearn.preprocessing\n",
    "import statsmodels.api as sm\n",
    "import statsmodels.datasets\n",
    "import statsmodels.formula.api as smf\n",
    "\n",
    "from sklearn.ensemble import RandomForestRegressor\n",
    "from sklearn.experimental import enable_iterative_imputer\n",
    "from sklearn.kernel_approximation import Nystroem\n",
    "from sklearn.linear_model import BayesianRidge, Ridge\n",
    "from sklearn.neighbors import KNeighborsRegressor\n",
    "from statsmodels.graphics.mosaicplot import mosaic"
   ]
  },
  {
   "attachments": {},
   "cell_type": "markdown",
   "metadata": {},
   "source": [
    "### Configuracion de Graficas"
   ]
  },
  {
   "cell_type": "code",
   "execution_count": 2,
   "metadata": {},
   "outputs": [],
   "source": [
    "%matplotlib inline\n",
    "\n",
    "# tamaño de los graficos\n",
    "sns.set(\n",
    "    rc={\n",
    "        'figure.figsize':(8, 6)\n",
    "    }\n",
    ")\n",
    "\n",
    "# estilo de los graficos\n",
    "sns.set_style('whitegrid')"
   ]
  },
  {
   "attachments": {},
   "cell_type": "markdown",
   "metadata": {},
   "source": [
    "### Importar funciones personalizadas"
   ]
  },
  {
   "cell_type": "code",
   "execution_count": 3,
   "metadata": {},
   "outputs": [],
   "source": [
    "%run '../utils2.ipynb'"
   ]
  },
  {
   "attachments": {},
   "cell_type": "markdown",
   "metadata": {},
   "source": [
    "## Cargar datos preparados"
   ]
  },
  {
   "attachments": {},
   "cell_type": "markdown",
   "metadata": {},
   "source": []
  }
 ],
 "metadata": {
  "kernelspec": {
   "display_name": "data",
   "language": "python",
   "name": "python3"
  },
  "language_info": {
   "codemirror_mode": {
    "name": "ipython",
    "version": 3
   },
   "file_extension": ".py",
   "mimetype": "text/x-python",
   "name": "python",
   "nbconvert_exporter": "python",
   "pygments_lexer": "ipython3",
   "version": "3.10.8"
  },
  "orig_nbformat": 4
 },
 "nbformat": 4,
 "nbformat_minor": 2
}
