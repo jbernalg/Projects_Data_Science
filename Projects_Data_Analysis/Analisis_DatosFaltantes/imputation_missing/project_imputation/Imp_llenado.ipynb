{
 "cells": [
  {
   "attachments": {},
   "cell_type": "markdown",
   "metadata": {},
   "source": [
    "# Imputacion por Llenado"
   ]
  },
  {
   "attachments": {},
   "cell_type": "markdown",
   "metadata": {},
   "source": [
    "## Configuracion Entorno"
   ]
  },
  {
   "attachments": {},
   "cell_type": "markdown",
   "metadata": {},
   "source": [
    "### Librerias"
   ]
  },
  {
   "cell_type": "code",
   "execution_count": 32,
   "metadata": {},
   "outputs": [],
   "source": [
    "import janitor  # limpiar datos\n",
    "import matplotlib.pyplot as plt # visualizacion de datos\n",
    "import missingno    # exploracion de valores faltantes\n",
    "import nhanes.load  # libreria con los datos a analizar\n",
    "import numpy as np  # calculos numericos\n",
    "import pandas as pd # trabajar con dataframe\n",
    "import scipy.stats  # trabjar con estadisticos\n",
    "import seaborn as sns   #   visualizacion estadistica"
   ]
  },
  {
   "attachments": {},
   "cell_type": "markdown",
   "metadata": {},
   "source": [
    "### Configuracion Graficas"
   ]
  },
  {
   "cell_type": "code",
   "execution_count": 33,
   "metadata": {},
   "outputs": [],
   "source": [
    "%matplotlib inline\n",
    "\n",
    "# tamaño de los graficos\n",
    "sns.set(\n",
    "    rc={\n",
    "        'figure.figsize':(8, 6)\n",
    "    }\n",
    ")\n",
    "\n",
    "# estilo de los graficos\n",
    "sns.set_style('whitegrid')"
   ]
  },
  {
   "attachments": {},
   "cell_type": "markdown",
   "metadata": {},
   "source": [
    "### Cargar funciones personalizadas"
   ]
  },
  {
   "cell_type": "code",
   "execution_count": 34,
   "metadata": {},
   "outputs": [],
   "source": [
    "%run '../utils2.ipynb'"
   ]
  },
  {
   "attachments": {},
   "cell_type": "markdown",
   "metadata": {},
   "source": [
    "## Cargar Datos"
   ]
  },
  {
   "cell_type": "code",
   "execution_count": 35,
   "metadata": {},
   "outputs": [
    {
     "name": "stdout",
     "output_type": "stream",
     "text": [
      "12.25 %\n"
     ]
    }
   ],
   "source": [
    "%run descarga_carga_datos.ipynb"
   ]
  },
  {
   "attachments": {},
   "cell_type": "markdown",
   "metadata": {},
   "source": [
    "## Cargar Datos Tratados"
   ]
  },
  {
   "cell_type": "code",
   "execution_count": 36,
   "metadata": {},
   "outputs": [
    {
     "name": "stdout",
     "output_type": "stream",
     "text": [
      "12.25 %\n"
     ]
    }
   ],
   "source": [
    "%run tratamiento_v_categoricas.ipynb"
   ]
  },
  {
   "attachments": {},
   "cell_type": "markdown",
   "metadata": {},
   "source": [
    "## Imputacion hacia adelante"
   ]
  },
  {
   "attachments": {},
   "cell_type": "markdown",
   "metadata": {},
   "source": [
    "### Variables Numericas"
   ]
  },
  {
   "cell_type": "code",
   "execution_count": 37,
   "metadata": {},
   "outputs": [
    {
     "data": {
      "text/html": [
       "<div>\n",
       "<style scoped>\n",
       "    .dataframe tbody tr th:only-of-type {\n",
       "        vertical-align: middle;\n",
       "    }\n",
       "\n",
       "    .dataframe tbody tr th {\n",
       "        vertical-align: top;\n",
       "    }\n",
       "\n",
       "    .dataframe thead th {\n",
       "        text-align: right;\n",
       "    }\n",
       "</style>\n",
       "<table border=\"1\" class=\"dataframe\">\n",
       "  <thead>\n",
       "    <tr style=\"text-align: right;\">\n",
       "      <th></th>\n",
       "      <th>sugar_gm</th>\n",
       "      <th>minutes_sedentary</th>\n",
       "    </tr>\n",
       "    <tr>\n",
       "      <th>SEQN</th>\n",
       "      <th></th>\n",
       "      <th></th>\n",
       "    </tr>\n",
       "  </thead>\n",
       "  <tbody>\n",
       "    <tr>\n",
       "      <th>93705.0</th>\n",
       "      <td>43.04</td>\n",
       "      <td>300.0</td>\n",
       "    </tr>\n",
       "    <tr>\n",
       "      <th>93706.0</th>\n",
       "      <td>43.04</td>\n",
       "      <td>240.0</td>\n",
       "    </tr>\n",
       "    <tr>\n",
       "      <th>93709.0</th>\n",
       "      <td>43.04</td>\n",
       "      <td>600.0</td>\n",
       "    </tr>\n",
       "    <tr>\n",
       "      <th>93711.0</th>\n",
       "      <td>163.76</td>\n",
       "      <td>420.0</td>\n",
       "    </tr>\n",
       "    <tr>\n",
       "      <th>93712.0</th>\n",
       "      <td>207.67</td>\n",
       "      <td>120.0</td>\n",
       "    </tr>\n",
       "    <tr>\n",
       "      <th>...</th>\n",
       "      <td>...</td>\n",
       "      <td>...</td>\n",
       "    </tr>\n",
       "    <tr>\n",
       "      <th>102948.0</th>\n",
       "      <td>58.87</td>\n",
       "      <td>120.0</td>\n",
       "    </tr>\n",
       "    <tr>\n",
       "      <th>102949.0</th>\n",
       "      <td>58.87</td>\n",
       "      <td>60.0</td>\n",
       "    </tr>\n",
       "    <tr>\n",
       "      <th>102953.0</th>\n",
       "      <td>58.87</td>\n",
       "      <td>360.0</td>\n",
       "    </tr>\n",
       "    <tr>\n",
       "      <th>102954.0</th>\n",
       "      <td>87.58</td>\n",
       "      <td>600.0</td>\n",
       "    </tr>\n",
       "    <tr>\n",
       "      <th>102956.0</th>\n",
       "      <td>187.54</td>\n",
       "      <td>720.0</td>\n",
       "    </tr>\n",
       "  </tbody>\n",
       "</table>\n",
       "<p>5654 rows × 2 columns</p>\n",
       "</div>"
      ],
      "text/plain": [
       "          sugar_gm  minutes_sedentary\n",
       "SEQN                                 \n",
       "93705.0      43.04              300.0\n",
       "93706.0      43.04              240.0\n",
       "93709.0      43.04              600.0\n",
       "93711.0     163.76              420.0\n",
       "93712.0     207.67              120.0\n",
       "...            ...                ...\n",
       "102948.0     58.87              120.0\n",
       "102949.0     58.87               60.0\n",
       "102953.0     58.87              360.0\n",
       "102954.0     87.58              600.0\n",
       "102956.0    187.54              720.0\n",
       "\n",
       "[5654 rows x 2 columns]"
      ]
     },
     "execution_count": 37,
     "metadata": {},
     "output_type": "execute_result"
    }
   ],
   "source": [
    "# variables sugar_gm, minutes_sedentary (numericas)\n",
    "\n",
    "(\n",
    "    nhanes_df\n",
    "    .select_columns('sugar_gm', 'minutes_sedentary')\n",
    "    .fillna(method='ffill')\n",
    ")"
   ]
  },
  {
   "cell_type": "code",
   "execution_count": 38,
   "metadata": {},
   "outputs": [
    {
     "data": {
      "text/plain": [
       "94.21451892465537"
      ]
     },
     "execution_count": 38,
     "metadata": {},
     "output_type": "execute_result"
    }
   ],
   "source": [
    "# promedio de la variable sugar_gm\n",
    "\n",
    "(\n",
    "    nhanes_df\n",
    "    .select_columns(\"sugar_gm\", \"minutes_sedentary\")\n",
    "    .missing.bind_shadow_matrix2(True, False, suffix = \"_imp\")\n",
    "    .assign(\n",
    "        sugar_gm = lambda df: df.sugar_gm.fillna(method='ffill'),\n",
    "        minutes_sedentary = lambda df: df.minutes_sedentary.fillna(method='ffill')\n",
    "    )\n",
    "    .sugar_gm\n",
    "    .mean()\n",
    ")"
   ]
  },
  {
   "attachments": {},
   "cell_type": "markdown",
   "metadata": {},
   "source": [
    "El promedio de sugar_gm es diferente de la obtenida en la Imputacion de un unico valor (95.01)"
   ]
  },
  {
   "cell_type": "code",
   "execution_count": 39,
   "metadata": {},
   "outputs": [
    {
     "data": {
      "text/plain": [
       "391.31093031482135"
      ]
     },
     "execution_count": 39,
     "metadata": {},
     "output_type": "execute_result"
    }
   ],
   "source": [
    "# promedio de la variable minutes_sedentary\n",
    "\n",
    "(\n",
    "    nhanes_df\n",
    "    .select_columns(\"sugar_gm\", \"minutes_sedentary\")\n",
    "    .missing.bind_shadow_matrix2(True, False, suffix = \"_imp\")\n",
    "    .assign(\n",
    "        sugar_gm = lambda df: df.sugar_gm.fillna(method='ffill'),\n",
    "        minutes_sedentary = lambda df: df.minutes_sedentary.fillna(method='ffill')\n",
    "    )\n",
    "    .minutes_sedentary\n",
    "    .mean()\n",
    ")"
   ]
  },
  {
   "attachments": {},
   "cell_type": "markdown",
   "metadata": {},
   "source": [
    "### Visualizacion mediante un Scatterplot"
   ]
  },
  {
   "cell_type": "code",
   "execution_count": 40,
   "metadata": {},
   "outputs": [
    {
     "name": "stdout",
     "output_type": "stream",
     "text": [
      "Llenado hacia adelante\n"
     ]
    },
    {
     "data": {
      "image/png": "[encoded data removed]",
      "text/plain": [
       "<Figure size 576x576 with 3 Axes>"
      ]
     },
     "metadata": {},
     "output_type": "display_data"
    }
   ],
   "source": [
    "print('Llenado hacia adelante')\n",
    "(\n",
    "    nhanes_df\n",
    "    .select_columns(\"sugar_gm\", \"minutes_sedentary\")\n",
    "    .missing.bind_shadow_matrix2(True, False, suffix = \"_imp\")\n",
    "    .assign(\n",
    "        sugar_gm = lambda df: df.sugar_gm.fillna(method='ffill'),\n",
    "        minutes_sedentary = lambda df: df.minutes_sedentary.fillna(method='ffill')\n",
    "    )\n",
    "    .missing.scatter_imputation_plot(\n",
    "    y=\"sugar_gm\", \n",
    "    x=\"minutes_sedentary\",\n",
    "    show_marginal = True,   # muestra la distribucion a los costado\n",
    "    height = 8             # tamano del grafico\n",
    "    )\n",
    ");"
   ]
  },
  {
   "cell_type": "code",
   "execution_count": 54,
   "metadata": {},
   "outputs": [
    {
     "name": "stdout",
     "output_type": "stream",
     "text": [
      "La visualizacion mediante un scatterplot solo funciona para variables numericas. \n",
      "En este caso, vemos los datos imputados mucho mejor distribuidos. \n",
      "Las distribuciones de ambos valores, tanto los reales como los imputados, son muy similares \n",
      "lo que indica que la imputacion es buena.\n"
     ]
    }
   ],
   "source": [
    "print('''La visualizacion mediante un scatterplot solo funciona para variables numericas. \n",
    "En este caso, vemos los datos imputados mucho mejor distribuidos. \n",
    "Las distribuciones de ambos valores, tanto los reales como los imputados, son muy similares \n",
    "lo que indica que la imputacion es buena.''')"
   ]
  },
  {
   "attachments": {},
   "cell_type": "markdown",
   "metadata": {},
   "source": [
    "### Variables numericas - categoricas"
   ]
  },
  {
   "cell_type": "code",
   "execution_count": 41,
   "metadata": {},
   "outputs": [
    {
     "data": {
      "text/html": [
       "<div>\n",
       "<style scoped>\n",
       "    .dataframe tbody tr th:only-of-type {\n",
       "        vertical-align: middle;\n",
       "    }\n",
       "\n",
       "    .dataframe tbody tr th {\n",
       "        vertical-align: top;\n",
       "    }\n",
       "\n",
       "    .dataframe thead th {\n",
       "        text-align: right;\n",
       "    }\n",
       "</style>\n",
       "<table border=\"1\" class=\"dataframe\">\n",
       "  <thead>\n",
       "    <tr style=\"text-align: right;\">\n",
       "      <th></th>\n",
       "      <th>vigorous_work</th>\n",
       "      <th>sugar_gm</th>\n",
       "    </tr>\n",
       "    <tr>\n",
       "      <th>SEQN</th>\n",
       "      <th></th>\n",
       "      <th></th>\n",
       "    </tr>\n",
       "  </thead>\n",
       "  <tbody>\n",
       "    <tr>\n",
       "      <th>93705.0</th>\n",
       "      <td>0.0</td>\n",
       "      <td>43.04</td>\n",
       "    </tr>\n",
       "    <tr>\n",
       "      <th>93706.0</th>\n",
       "      <td>0.0</td>\n",
       "      <td>43.04</td>\n",
       "    </tr>\n",
       "    <tr>\n",
       "      <th>93709.0</th>\n",
       "      <td>0.0</td>\n",
       "      <td>43.04</td>\n",
       "    </tr>\n",
       "    <tr>\n",
       "      <th>93711.0</th>\n",
       "      <td>0.0</td>\n",
       "      <td>163.76</td>\n",
       "    </tr>\n",
       "    <tr>\n",
       "      <th>93712.0</th>\n",
       "      <td>1.0</td>\n",
       "      <td>207.67</td>\n",
       "    </tr>\n",
       "    <tr>\n",
       "      <th>...</th>\n",
       "      <td>...</td>\n",
       "      <td>...</td>\n",
       "    </tr>\n",
       "    <tr>\n",
       "      <th>102948.0</th>\n",
       "      <td>0.0</td>\n",
       "      <td>58.87</td>\n",
       "    </tr>\n",
       "    <tr>\n",
       "      <th>102949.0</th>\n",
       "      <td>1.0</td>\n",
       "      <td>58.87</td>\n",
       "    </tr>\n",
       "    <tr>\n",
       "      <th>102953.0</th>\n",
       "      <td>1.0</td>\n",
       "      <td>58.87</td>\n",
       "    </tr>\n",
       "    <tr>\n",
       "      <th>102954.0</th>\n",
       "      <td>0.0</td>\n",
       "      <td>87.58</td>\n",
       "    </tr>\n",
       "    <tr>\n",
       "      <th>102956.0</th>\n",
       "      <td>0.0</td>\n",
       "      <td>187.54</td>\n",
       "    </tr>\n",
       "  </tbody>\n",
       "</table>\n",
       "<p>5654 rows × 2 columns</p>\n",
       "</div>"
      ],
      "text/plain": [
       "          vigorous_work  sugar_gm\n",
       "SEQN                             \n",
       "93705.0             0.0     43.04\n",
       "93706.0             0.0     43.04\n",
       "93709.0             0.0     43.04\n",
       "93711.0             0.0    163.76\n",
       "93712.0             1.0    207.67\n",
       "...                 ...       ...\n",
       "102948.0            0.0     58.87\n",
       "102949.0            1.0     58.87\n",
       "102953.0            1.0     58.87\n",
       "102954.0            0.0     87.58\n",
       "102956.0            0.0    187.54\n",
       "\n",
       "[5654 rows x 2 columns]"
      ]
     },
     "execution_count": 41,
     "metadata": {},
     "output_type": "execute_result"
    }
   ],
   "source": [
    "# variables vigorous_work, sugar_gm\n",
    "\n",
    "(\n",
    "    nhanes_transformed_df\n",
    "    .select_columns('vigorous_work', 'sugar_gm')\n",
    "    .fillna(method='ffill')\n",
    ")"
   ]
  },
  {
   "attachments": {},
   "cell_type": "markdown",
   "metadata": {},
   "source": [
    "### Visualizacion mediante un scatterplot"
   ]
  },
  {
   "cell_type": "code",
   "execution_count": 42,
   "metadata": {},
   "outputs": [
    {
     "data": {
      "text/plain": [
       "<seaborn.axisgrid.JointGrid at 0x7f57bf6d61a0>"
      ]
     },
     "execution_count": 42,
     "metadata": {},
     "output_type": "execute_result"
    },
    {
     "data": {
      "image/png": "[encoded data removed]",
      "text/plain": [
       "<Figure size 576x576 with 3 Axes>"
      ]
     },
     "metadata": {},
     "output_type": "display_data"
    }
   ],
   "source": [
    "(\n",
    "    nhanes_transformed_df\n",
    "    .select_columns(\"vigorous_work\", \"sugar_gm\")\n",
    "    .missing.bind_shadow_matrix2(True, False, suffix = \"_imp\")\n",
    "    .assign(\n",
    "        vigorous_work = lambda df: df.vigorous_work.fillna(method='ffill'),\n",
    "        sugar_gm = lambda df: df.sugar_gm.fillna(method='ffill')\n",
    "    )\n",
    "    .missing.scatter_imputation_plot(\n",
    "    x=\"vigorous_work\", \n",
    "    y=\"sugar_gm\",\n",
    "    show_marginal = True,   # muestra la distribucion a los costado\n",
    "    height = 8             # tamano del grafico\n",
    "    )\n",
    ")"
   ]
  },
  {
   "cell_type": "code",
   "execution_count": 55,
   "metadata": {},
   "outputs": [
    {
     "name": "stdout",
     "output_type": "stream",
     "text": [
      "La grafica nos muestra que la distribucion de los valores imputados es similar a la de los valores\n",
      "reales. Ademas vemos que no sobrepasa a la distribucion real lo cual indica que es una buena \n",
      "imputacion. \n",
      "Tambien nos dice que hay muchos valores faltantes en la categoria de 'no vigorous_work\n"
     ]
    }
   ],
   "source": [
    "print('''La grafica nos muestra que la distribucion de los valores imputados es similar a la de los valores\n",
    "reales. Ademas vemos que no sobrepasa a la distribucion real lo cual indica que es una buena \n",
    "imputacion. \n",
    "Tambien nos dice que hay muchos valores faltantes en la categoria de 'no vigorous_work''')"
   ]
  },
  {
   "attachments": {},
   "cell_type": "markdown",
   "metadata": {},
   "source": [
    "## Imputacion hacia atras"
   ]
  },
  {
   "cell_type": "code",
   "execution_count": 50,
   "metadata": {},
   "outputs": [
    {
     "data": {
      "text/html": [
       "<div>\n",
       "<style scoped>\n",
       "    .dataframe tbody tr th:only-of-type {\n",
       "        vertical-align: middle;\n",
       "    }\n",
       "\n",
       "    .dataframe tbody tr th {\n",
       "        vertical-align: top;\n",
       "    }\n",
       "\n",
       "    .dataframe thead th {\n",
       "        text-align: right;\n",
       "    }\n",
       "</style>\n",
       "<table border=\"1\" class=\"dataframe\">\n",
       "  <thead>\n",
       "    <tr style=\"text-align: right;\">\n",
       "      <th></th>\n",
       "      <th>vigorous_recreational</th>\n",
       "      <th>sugar_gm</th>\n",
       "    </tr>\n",
       "    <tr>\n",
       "      <th>SEQN</th>\n",
       "      <th></th>\n",
       "      <th></th>\n",
       "    </tr>\n",
       "  </thead>\n",
       "  <tbody>\n",
       "    <tr>\n",
       "      <th>93705.0</th>\n",
       "      <td>0.0</td>\n",
       "      <td>43.04</td>\n",
       "    </tr>\n",
       "    <tr>\n",
       "      <th>93706.0</th>\n",
       "      <td>0.0</td>\n",
       "      <td>163.76</td>\n",
       "    </tr>\n",
       "    <tr>\n",
       "      <th>93709.0</th>\n",
       "      <td>0.0</td>\n",
       "      <td>163.76</td>\n",
       "    </tr>\n",
       "    <tr>\n",
       "      <th>93711.0</th>\n",
       "      <td>1.0</td>\n",
       "      <td>163.76</td>\n",
       "    </tr>\n",
       "    <tr>\n",
       "      <th>93712.0</th>\n",
       "      <td>1.0</td>\n",
       "      <td>207.67</td>\n",
       "    </tr>\n",
       "    <tr>\n",
       "      <th>...</th>\n",
       "      <td>...</td>\n",
       "      <td>...</td>\n",
       "    </tr>\n",
       "    <tr>\n",
       "      <th>102948.0</th>\n",
       "      <td>1.0</td>\n",
       "      <td>87.58</td>\n",
       "    </tr>\n",
       "    <tr>\n",
       "      <th>102949.0</th>\n",
       "      <td>0.0</td>\n",
       "      <td>87.58</td>\n",
       "    </tr>\n",
       "    <tr>\n",
       "      <th>102953.0</th>\n",
       "      <td>0.0</td>\n",
       "      <td>87.58</td>\n",
       "    </tr>\n",
       "    <tr>\n",
       "      <th>102954.0</th>\n",
       "      <td>0.0</td>\n",
       "      <td>87.58</td>\n",
       "    </tr>\n",
       "    <tr>\n",
       "      <th>102956.0</th>\n",
       "      <td>0.0</td>\n",
       "      <td>187.54</td>\n",
       "    </tr>\n",
       "  </tbody>\n",
       "</table>\n",
       "<p>5654 rows × 2 columns</p>\n",
       "</div>"
      ],
      "text/plain": [
       "          vigorous_recreational  sugar_gm\n",
       "SEQN                                     \n",
       "93705.0                     0.0     43.04\n",
       "93706.0                     0.0    163.76\n",
       "93709.0                     0.0    163.76\n",
       "93711.0                     1.0    163.76\n",
       "93712.0                     1.0    207.67\n",
       "...                         ...       ...\n",
       "102948.0                    1.0     87.58\n",
       "102949.0                    0.0     87.58\n",
       "102953.0                    0.0     87.58\n",
       "102954.0                    0.0     87.58\n",
       "102956.0                    0.0    187.54\n",
       "\n",
       "[5654 rows x 2 columns]"
      ]
     },
     "execution_count": 50,
     "metadata": {},
     "output_type": "execute_result"
    }
   ],
   "source": [
    "(\n",
    "    nhanes_transformed_df\n",
    "    .select_columns('vigorous_recreational', 'sugar_gm')\n",
    "    .fillna(method='bfill')\n",
    ")"
   ]
  },
  {
   "attachments": {},
   "cell_type": "markdown",
   "metadata": {},
   "source": [
    "#### visualizacion mediante un scatterplot"
   ]
  },
  {
   "cell_type": "code",
   "execution_count": 57,
   "metadata": {},
   "outputs": [
    {
     "name": "stdout",
     "output_type": "stream",
     "text": [
      "Llenado hacia atras\n"
     ]
    },
    {
     "data": {
      "image/png": "[encoded data removed]",
      "text/plain": [
       "<Figure size 576x576 with 3 Axes>"
      ]
     },
     "metadata": {},
     "output_type": "display_data"
    }
   ],
   "source": [
    "print('Llenado hacia atras')\n",
    "(\n",
    "    nhanes_transformed_df\n",
    "    .select_columns(\"sugar_gm\", \"vigorous_recreational\")\n",
    "    .missing.bind_shadow_matrix2(True, False, suffix = \"_imp\")\n",
    "    .assign(\n",
    "        sugar_gm = lambda df: df.sugar_gm.fillna(method='bfill'),\n",
    "        vigorous_recreational = lambda df: df.vigorous_recreational.fillna(method='bfill')\n",
    "    )\n",
    "    .missing.scatter_imputation_plot(\n",
    "    y=\"sugar_gm\", \n",
    "    x=\"vigorous_recreational\",\n",
    "    show_marginal = True,   # muestra la distribucion a los costado\n",
    "    height = 8             # tamano del grafico\n",
    "    )\n",
    ");"
   ]
  },
  {
   "cell_type": "code",
   "execution_count": 58,
   "metadata": {},
   "outputs": [
    {
     "name": "stdout",
     "output_type": "stream",
     "text": [
      "  En esta grafica vemos que la mayoria de los valores imputados pertenecen a la\n",
      "categoria de vigorosidad recreativa. La distribucion de los valores imputados es similar a la \n",
      "de los valores completos por lo que conserva la estructura de los datos. Es una imputacion aceptable\n"
     ]
    }
   ],
   "source": [
    "print('''  En esta grafica vemos que la mayoria de los valores imputados pertenecen a la\n",
    "categoria de vigorosidad recreativa. La distribucion de los valores imputados es similar a la \n",
    "de los valores completos por lo que conserva la estructura de los datos. Es una imputacion aceptable''')"
   ]
  }
 ],
 "metadata": {
  "kernelspec": {
   "display_name": "data",
   "language": "python",
   "name": "python3"
  },
  "language_info": {
   "codemirror_mode": {
    "name": "ipython",
    "version": 3
   },
   "file_extension": ".py",
   "mimetype": "text/x-python",
   "name": "python",
   "nbconvert_exporter": "python",
   "pygments_lexer": "ipython3",
   "version": "3.10.8"
  },
  "orig_nbformat": 4
 },
 "nbformat": 4,
 "nbformat_minor": 2
}
