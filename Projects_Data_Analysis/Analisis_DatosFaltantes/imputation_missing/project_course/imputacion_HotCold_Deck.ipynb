{
 "cells": [
  {
   "cell_type": "markdown",
   "metadata": {},
   "source": [
    "# Imputacion Hot Deck y Cold Deck"
   ]
  },
  {
   "cell_type": "markdown",
   "metadata": {},
   "source": [
    "Es un metodo de imputacion de tipo donante. Consiste en sustituir los valores faltantes por valores completos que estan antes o despues. Es muy util para aplicar sobre variables categoricas "
   ]
  },
  {
   "cell_type": "markdown",
   "metadata": {},
   "source": [
    "## Ventajas"
   ]
  },
  {
   "cell_type": "markdown",
   "metadata": {},
   "source": [
    "- Rapido y facil de implementar\n",
    "\n",
    "- Los datos imputados no son constantes, van a depender de los valores alrededor (arriba, abajo, a la derecha, a la izquierda)\n",
    "\n",
    "- Existen trucos para evitar romper las relaciones entre variables"
   ]
  },
  {
   "cell_type": "markdown",
   "metadata": {},
   "source": [
    "## Desventajas"
   ]
  },
  {
   "cell_type": "markdown",
   "metadata": {},
   "source": [
    "- Las relaciones multivariables pueden ser distorsionadas"
   ]
  }
 ],
 "metadata": {
  "language_info": {
   "name": "python"
  },
  "orig_nbformat": 4
 },
 "nbformat": 4,
 "nbformat_minor": 2
}
