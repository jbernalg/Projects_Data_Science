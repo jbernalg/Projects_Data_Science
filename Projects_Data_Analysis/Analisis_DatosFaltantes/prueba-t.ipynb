{
 "cells": [
  {
   "attachments": {},
   "cell_type": "markdown",
   "metadata": {},
   "source": [
    "# Distribucion T - Student"
   ]
  },
  {
   "attachments": {},
   "cell_type": "markdown",
   "metadata": {},
   "source": [
    "### Ejemplo 1: "
   ]
  },
  {
   "cell_type": "code",
   "execution_count": 1,
   "metadata": {},
   "outputs": [],
   "source": [
    "# librerias\n",
    "import numpy as np\n",
    "import matplotlib.pyplot as plt\n",
    "from scipy import stats"
   ]
  },
  {
   "cell_type": "code",
   "execution_count": 2,
   "metadata": {},
   "outputs": [],
   "source": [
    "# agregamos los valores de ingesta energetica\n",
    "ingesta = np.array([1256, 1307, 1347, 1476, 1527, 1557, 1626, 1796, 1826, 1997, 2095])\n",
    "\n",
    "# agregamos el valor ideal\n",
    "val_ideal = 1845"
   ]
  },
  {
   "cell_type": "code",
   "execution_count": 5,
   "metadata": {},
   "outputs": [
    {
     "data": {
      "text/plain": [
       "1619.090909090909"
      ]
     },
     "execution_count": 5,
     "metadata": {},
     "output_type": "execute_result"
    }
   ],
   "source": [
    "# calculamos la media de la muestra\n",
    "mean_mus = np.mean(ingesta)\n",
    "mean_mus"
   ]
  },
  {
   "cell_type": "code",
   "execution_count": 6,
   "metadata": {},
   "outputs": [
    {
     "data": {
      "text/plain": [
       "279.2025983208088"
      ]
     },
     "execution_count": 6,
     "metadata": {},
     "output_type": "execute_result"
    }
   ],
   "source": [
    "# tomamos un solo grado de libertad para simplificar el calculo de la desviacion de la muestra\n",
    "std_mus = ingesta.std(ddof=1)\n",
    "std_mus"
   ]
  },
  {
   "cell_type": "code",
   "execution_count": 11,
   "metadata": {},
   "outputs": [
    {
     "data": {
      "text/plain": [
       "-2.683555582154127"
      ]
     },
     "execution_count": 11,
     "metadata": {},
     "output_type": "execute_result"
    }
   ],
   "source": [
    "# calculamos la distribucion t mediante la formula\n",
    "t = (mean_mus - val_ideal)/(std_mus/np.sqrt(len(ingesta)))\n",
    "t"
   ]
  },
  {
   "cell_type": "code",
   "execution_count": 15,
   "metadata": {},
   "outputs": [],
   "source": [
    "# tamano de la variable x\n",
    "s = np.random.standard_t(10, 1000000)"
   ]
  },
  {
   "cell_type": "code",
   "execution_count": 16,
   "metadata": {},
   "outputs": [
    {
     "data": {
      "image/png": "[encoded data removed]",
      "text/plain": [
       "<Figure size 432x288 with 1 Axes>"
      ]
     },
     "metadata": {
      "needs_background": "light"
     },
     "output_type": "display_data"
    }
   ],
   "source": [
    "# Histograma T Student\n",
    "h = plt.hist(s, bins=100, density=True)"
   ]
  },
  {
   "cell_type": "code",
   "execution_count": 17,
   "metadata": {},
   "outputs": [
    {
     "data": {
      "text/plain": [
       "0.022956"
      ]
     },
     "execution_count": 17,
     "metadata": {},
     "output_type": "execute_result"
    }
   ],
   "source": [
    "# La grafica t student esta en alguna de las dos regiones criticas que se encuentran\n",
    "#  en ambos extremos de la distribucion?\n",
    "\n",
    "# comparamos  \n",
    "a = np.sum(np.abs(t) < np.abs(s))/float(len(s))\n",
    "a"
   ]
  },
  {
   "attachments": {},
   "cell_type": "markdown",
   "metadata": {},
   "source": [
    "La probabilidad para esta prueba de 2 hipotesis es aproximadamente de 2.29%  que es mas bajo que el umbral predeterminado de 5%.\n",
    "Por lo tanto, la probabilidad de observar valores extremos como nuestra ingesta ideal a que la hipotesis nula sea cierta es muy baja, por lo que se rechaza. La ingesta de estas mujeres no se desvia tanto del valor ideal"
   ]
  },
  {
   "cell_type": "code",
   "execution_count": 18,
   "metadata": {},
   "outputs": [
    {
     "data": {
      "text/plain": [
       "[<matplotlib.lines.Line2D at 0x7f45934dece0>]"
      ]
     },
     "execution_count": 18,
     "metadata": {},
     "output_type": "execute_result"
    },
    {
     "data": {
      "image/png": "[encoded data removed]",
      "text/plain": [
       "<Figure size 432x288 with 1 Axes>"
      ]
     },
     "metadata": {
      "needs_background": "light"
     },
     "output_type": "display_data"
    }
   ],
   "source": [
    "# grafica\n",
    "t = stats.t(10)\n",
    "x = np.linspace(t.ppf(0.01), t.ppf(0.99), 100)\n",
    "fp = t.pdf(x) # funcion de probabilidad t student\n",
    "plt.plot(x, fp)"
   ]
  },
  {
   "attachments": {},
   "cell_type": "markdown",
   "metadata": {},
   "source": [
    "### Ejemplo 2:"
   ]
  },
  {
   "cell_type": "code",
   "execution_count": 19,
   "metadata": {},
   "outputs": [],
   "source": [
    "# datos de muestra\n",
    "fertilizado = [28, 31, 30, 29, 32]\n",
    "no_fertilizado = [25, 27, 26, 28, 27]"
   ]
  },
  {
   "cell_type": "code",
   "execution_count": 22,
   "metadata": {},
   "outputs": [
    {
     "name": "stdout",
     "output_type": "stream",
     "text": [
      "t = 3.9000674757995486, p = 0.004544220794084778\n"
     ]
    }
   ],
   "source": [
    "# aplicar el t test sobre ambas muestras\n",
    "t_stadistico, p_value = stats.ttest_ind(fertilizado, no_fertilizado)\n",
    "print(f't = {t_stadistico}, p = {p_value}')"
   ]
  },
  {
   "attachments": {},
   "cell_type": "markdown",
   "metadata": {},
   "source": [
    "Como p es menor que 0.05 se rechaza la hipotesis nula, es decir, existe una diferencia significativa entre las medias de ambas muestras."
   ]
  },
  {
   "attachments": {},
   "cell_type": "markdown",
   "metadata": {},
   "source": [
    "### Ejemplo 3:"
   ]
  },
  {
   "cell_type": "code",
   "execution_count": 23,
   "metadata": {},
   "outputs": [],
   "source": [
    "# Sample data\n",
    "before = [8, 9, 7, 10, 6]\n",
    "after = [6, 5, 4, 7, 3]"
   ]
  },
  {
   "cell_type": "code",
   "execution_count": 24,
   "metadata": {},
   "outputs": [
    {
     "name": "stdout",
     "output_type": "stream",
     "text": [
      "t = 9.486832980505138, p = 0.0006889093649396111\n"
     ]
    }
   ],
   "source": [
    "# aplicando t test a ambas muestras\n",
    "# se utiliza ttest_rel ya que hace una comparacion de la media de una misma muestra\n",
    "# antes y despues\n",
    "\n",
    "t_stadistico, p_value = stats.ttest_rel(before, after)\n",
    "print(f't = {t_stadistico}, p = {p_value}')"
   ]
  },
  {
   "attachments": {},
   "cell_type": "markdown",
   "metadata": {},
   "source": [
    " En este caso, el valor p es inferior a 0,05, por lo que rechazamos la hipótesis nula y concluimos que existe una diferencia significativa entre las medias de los dos grupos."
   ]
  }
 ],
 "metadata": {
  "kernelspec": {
   "display_name": "data",
   "language": "python",
   "name": "python3"
  },
  "language_info": {
   "codemirror_mode": {
    "name": "ipython",
    "version": 3
   },
   "file_extension": ".py",
   "mimetype": "text/x-python",
   "name": "python",
   "nbconvert_exporter": "python",
   "pygments_lexer": "ipython3",
   "version": "3.10.8"
  },
  "orig_nbformat": 4
 },
 "nbformat": 4,
 "nbformat_minor": 2
}
