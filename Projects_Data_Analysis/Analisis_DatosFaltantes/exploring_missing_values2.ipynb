{
 "cells": [
  {
   "attachments": {},
   "cell_type": "markdown",
   "metadata": {},
   "source": [
    "# Analisis de Datos Faltantes sobre un Dataset de Boyas Oceanicas"
   ]
  },
  {
   "cell_type": "code",
   "execution_count": 1,
   "metadata": {},
   "outputs": [],
   "source": [
    "# Librerias\n",
    "import janitor\n",
    "import matplotlib.pyplot as plt\n",
    "import missingno\n",
    "import numpy as np\n",
    "import pandas as pd\n",
    "import pyreadr\n",
    "import seaborn as sns\n",
    "#import session_info\n",
    "import upsetplot"
   ]
  },
  {
   "cell_type": "code",
   "execution_count": 2,
   "metadata": {},
   "outputs": [],
   "source": [
    "# linea para correr el notebook utils\n",
    "%run utils.ipynb"
   ]
  },
  {
   "attachments": {},
   "cell_type": "markdown",
   "metadata": {},
   "source": [
    "## Cargar el conjunto de Datos desde una Web"
   ]
  },
  {
   "cell_type": "code",
   "execution_count": 3,
   "metadata": {},
   "outputs": [
    {
     "data": {
      "text/plain": [
       "dict_keys(['oceanbuoys_df', 'pedestrian_df', 'riskfactors_df'])"
      ]
     },
     "execution_count": 3,
     "metadata": {},
     "output_type": "execute_result"
    }
   ],
   "source": [
    "# Guardar la url en una variable\n",
    "datos_url = 'https://github.com/njtierney/naniar/raw/master/data/'\n",
    "\n",
    "# Almacenar los nombres de los archivos a descargar en una lista\n",
    "datasets_names = ('oceanbuoys', 'pedestrian', 'riskfactors')\n",
    "\n",
    "# Almacenar el tipo de extension en una variable\n",
    "extension = '.rda'\n",
    "\n",
    "# diccionario que almacena los archivos descargados\n",
    "datasets_dfs = {} \n",
    "\n",
    "for dataset_name in datasets_names:\n",
    "\n",
    "    dataset_file = f'{ dataset_name }{ extension }' # almacena el nombre de cada archivo con su respectiva extension\n",
    "    dataset_output_file = f'./data/{ dataset_file }' # ruta y nombre donde se guarda los archivos\n",
    "    dataset_url = f'{ datos_url }{ dataset_file }' # url de cada archivo a descargar\n",
    "\n",
    "    !wget -q -O { dataset_output_file } { dataset_url } # linea que descarga los archivos\n",
    "\n",
    "    # almacenar en el diccionario los archivos descargados\n",
    "    datasets_dfs[f'{ dataset_name }_df'] = pyreadr.read_r(dataset_output_file).get(dataset_name)\n",
    "\n",
    "# accede a las llaves del diccionario para verificar que los archivos se hayan cargado\n",
    "datasets_dfs.keys()"
   ]
  },
  {
   "attachments": {},
   "cell_type": "markdown",
   "metadata": {},
   "source": [
    "### Incluir el conjunto de datos en nuestro ambiente local"
   ]
  },
  {
   "cell_type": "code",
   "execution_count": 4,
   "metadata": {},
   "outputs": [],
   "source": [
    "locals().update(**datasets_dfs)\n",
    "# elimina el diccionario para dejar solamente los dataframes\n",
    "del datasets_dfs"
   ]
  },
  {
   "cell_type": "code",
   "execution_count": 5,
   "metadata": {},
   "outputs": [
    {
     "data": {
      "text/plain": [
       "(736, 8)"
      ]
     },
     "execution_count": 5,
     "metadata": {},
     "output_type": "execute_result"
    }
   ],
   "source": [
    "# carga del dataframe\n",
    "oceanbuoys_df.shape"
   ]
  },
  {
   "attachments": {},
   "cell_type": "markdown",
   "metadata": {},
   "source": [
    "## Configuracion de las Graficas"
   ]
  },
  {
   "cell_type": "code",
   "execution_count": 6,
   "metadata": {},
   "outputs": [],
   "source": [
    "%matplotlib inline\n",
    "\n",
    "# tamaño de los graficos\n",
    "sns.set(\n",
    "    rc={\n",
    "        'figure.figsize':(8, 8)\n",
    "    }\n",
    ")\n",
    "\n",
    "# estilo de los graficos\n",
    "sns.set_style('whitegrid')"
   ]
  },
  {
   "attachments": {},
   "cell_type": "markdown",
   "metadata": {},
   "source": [
    "## EDA de los datos"
   ]
  },
  {
   "cell_type": "code",
   "execution_count": 7,
   "metadata": {},
   "outputs": [
    {
     "data": {
      "text/html": [
       "<div>\n",
       "<style scoped>\n",
       "    .dataframe tbody tr th:only-of-type {\n",
       "        vertical-align: middle;\n",
       "    }\n",
       "\n",
       "    .dataframe tbody tr th {\n",
       "        vertical-align: top;\n",
       "    }\n",
       "\n",
       "    .dataframe thead th {\n",
       "        text-align: right;\n",
       "    }\n",
       "</style>\n",
       "<table border=\"1\" class=\"dataframe\">\n",
       "  <thead>\n",
       "    <tr style=\"text-align: right;\">\n",
       "      <th></th>\n",
       "      <th>year</th>\n",
       "      <th>latitude</th>\n",
       "      <th>longitude</th>\n",
       "      <th>sea_temp_c</th>\n",
       "      <th>air_temp_c</th>\n",
       "      <th>humidity</th>\n",
       "      <th>wind_ew</th>\n",
       "      <th>wind_ns</th>\n",
       "    </tr>\n",
       "  </thead>\n",
       "  <tbody>\n",
       "    <tr>\n",
       "      <th>0</th>\n",
       "      <td>1997.0</td>\n",
       "      <td>0.0</td>\n",
       "      <td>-110.0</td>\n",
       "      <td>27.590000</td>\n",
       "      <td>27.150000</td>\n",
       "      <td>79.599998</td>\n",
       "      <td>-6.4</td>\n",
       "      <td>5.4</td>\n",
       "    </tr>\n",
       "    <tr>\n",
       "      <th>1</th>\n",
       "      <td>1997.0</td>\n",
       "      <td>0.0</td>\n",
       "      <td>-110.0</td>\n",
       "      <td>27.549999</td>\n",
       "      <td>27.020000</td>\n",
       "      <td>75.800003</td>\n",
       "      <td>-5.3</td>\n",
       "      <td>5.3</td>\n",
       "    </tr>\n",
       "    <tr>\n",
       "      <th>2</th>\n",
       "      <td>1997.0</td>\n",
       "      <td>0.0</td>\n",
       "      <td>-110.0</td>\n",
       "      <td>27.570000</td>\n",
       "      <td>27.000000</td>\n",
       "      <td>76.500000</td>\n",
       "      <td>-5.1</td>\n",
       "      <td>4.5</td>\n",
       "    </tr>\n",
       "    <tr>\n",
       "      <th>3</th>\n",
       "      <td>1997.0</td>\n",
       "      <td>0.0</td>\n",
       "      <td>-110.0</td>\n",
       "      <td>27.620001</td>\n",
       "      <td>26.930000</td>\n",
       "      <td>76.199997</td>\n",
       "      <td>-4.9</td>\n",
       "      <td>2.5</td>\n",
       "    </tr>\n",
       "    <tr>\n",
       "      <th>4</th>\n",
       "      <td>1997.0</td>\n",
       "      <td>0.0</td>\n",
       "      <td>-110.0</td>\n",
       "      <td>27.650000</td>\n",
       "      <td>26.840000</td>\n",
       "      <td>76.400002</td>\n",
       "      <td>-3.5</td>\n",
       "      <td>4.1</td>\n",
       "    </tr>\n",
       "    <tr>\n",
       "      <th>...</th>\n",
       "      <td>...</td>\n",
       "      <td>...</td>\n",
       "      <td>...</td>\n",
       "      <td>...</td>\n",
       "      <td>...</td>\n",
       "      <td>...</td>\n",
       "      <td>...</td>\n",
       "      <td>...</td>\n",
       "    </tr>\n",
       "    <tr>\n",
       "      <th>731</th>\n",
       "      <td>1993.0</td>\n",
       "      <td>-2.0</td>\n",
       "      <td>-110.0</td>\n",
       "      <td>24.780001</td>\n",
       "      <td>24.620001</td>\n",
       "      <td>90.800003</td>\n",
       "      <td>-4.4</td>\n",
       "      <td>1.7</td>\n",
       "    </tr>\n",
       "    <tr>\n",
       "      <th>732</th>\n",
       "      <td>1993.0</td>\n",
       "      <td>-2.0</td>\n",
       "      <td>-110.0</td>\n",
       "      <td>24.879999</td>\n",
       "      <td>24.500000</td>\n",
       "      <td>91.099998</td>\n",
       "      <td>-3.0</td>\n",
       "      <td>0.2</td>\n",
       "    </tr>\n",
       "    <tr>\n",
       "      <th>733</th>\n",
       "      <td>1993.0</td>\n",
       "      <td>-2.0</td>\n",
       "      <td>-110.0</td>\n",
       "      <td>25.120001</td>\n",
       "      <td>24.889999</td>\n",
       "      <td>89.699997</td>\n",
       "      <td>-4.0</td>\n",
       "      <td>1.1</td>\n",
       "    </tr>\n",
       "    <tr>\n",
       "      <th>734</th>\n",
       "      <td>1993.0</td>\n",
       "      <td>-2.0</td>\n",
       "      <td>-110.0</td>\n",
       "      <td>25.160000</td>\n",
       "      <td>24.930000</td>\n",
       "      <td>89.500000</td>\n",
       "      <td>-4.3</td>\n",
       "      <td>2.5</td>\n",
       "    </tr>\n",
       "    <tr>\n",
       "      <th>735</th>\n",
       "      <td>1993.0</td>\n",
       "      <td>-2.0</td>\n",
       "      <td>-110.0</td>\n",
       "      <td>25.139999</td>\n",
       "      <td>24.770000</td>\n",
       "      <td>87.900002</td>\n",
       "      <td>-4.6</td>\n",
       "      <td>2.3</td>\n",
       "    </tr>\n",
       "  </tbody>\n",
       "</table>\n",
       "<p>736 rows × 8 columns</p>\n",
       "</div>"
      ],
      "text/plain": [
       "       year  latitude  longitude  sea_temp_c  air_temp_c   humidity  wind_ew  \\\n",
       "0    1997.0       0.0     -110.0   27.590000   27.150000  79.599998     -6.4   \n",
       "1    1997.0       0.0     -110.0   27.549999   27.020000  75.800003     -5.3   \n",
       "2    1997.0       0.0     -110.0   27.570000   27.000000  76.500000     -5.1   \n",
       "3    1997.0       0.0     -110.0   27.620001   26.930000  76.199997     -4.9   \n",
       "4    1997.0       0.0     -110.0   27.650000   26.840000  76.400002     -3.5   \n",
       "..      ...       ...        ...         ...         ...        ...      ...   \n",
       "731  1993.0      -2.0     -110.0   24.780001   24.620001  90.800003     -4.4   \n",
       "732  1993.0      -2.0     -110.0   24.879999   24.500000  91.099998     -3.0   \n",
       "733  1993.0      -2.0     -110.0   25.120001   24.889999  89.699997     -4.0   \n",
       "734  1993.0      -2.0     -110.0   25.160000   24.930000  89.500000     -4.3   \n",
       "735  1993.0      -2.0     -110.0   25.139999   24.770000  87.900002     -4.6   \n",
       "\n",
       "     wind_ns  \n",
       "0        5.4  \n",
       "1        5.3  \n",
       "2        4.5  \n",
       "3        2.5  \n",
       "4        4.1  \n",
       "..       ...  \n",
       "731      1.7  \n",
       "732      0.2  \n",
       "733      1.1  \n",
       "734      2.5  \n",
       "735      2.3  \n",
       "\n",
       "[736 rows x 8 columns]"
      ]
     },
     "execution_count": 7,
     "metadata": {},
     "output_type": "execute_result"
    }
   ],
   "source": [
    "oceanbuoys_df"
   ]
  },
  {
   "cell_type": "code",
   "execution_count": 8,
   "metadata": {},
   "outputs": [
    {
     "data": {
      "text/plain": [
       "year          float64\n",
       "latitude      float64\n",
       "longitude     float64\n",
       "sea_temp_c    float64\n",
       "air_temp_c    float64\n",
       "humidity      float64\n",
       "wind_ew       float64\n",
       "wind_ns       float64\n",
       "dtype: object"
      ]
     },
     "execution_count": 8,
     "metadata": {},
     "output_type": "execute_result"
    }
   ],
   "source": [
    "# Tipos de datos\n",
    "oceanbuoys_df.dtypes"
   ]
  },
  {
   "attachments": {},
   "cell_type": "markdown",
   "metadata": {},
   "source": [
    "Todas las variables son de tipo numerica flotante."
   ]
  },
  {
   "cell_type": "code",
   "execution_count": 9,
   "metadata": {},
   "outputs": [
    {
     "data": {
      "text/plain": [
       "year          False\n",
       "latitude      False\n",
       "longitude     False\n",
       "sea_temp_c     True\n",
       "air_temp_c     True\n",
       "humidity       True\n",
       "wind_ew       False\n",
       "wind_ns       False\n",
       "dtype: bool"
      ]
     },
     "execution_count": 9,
     "metadata": {},
     "output_type": "execute_result"
    }
   ],
   "source": [
    "# variables que contienen valores nulos\n",
    "(\n",
    "    oceanbuoys_df\n",
    "    .isna()\n",
    "    .any()\n",
    ")"
   ]
  },
  {
   "attachments": {},
   "cell_type": "markdown",
   "metadata": {},
   "source": [
    "Los valores nulos se concentran en las variables sea_temp_c, air_temp_c y humidity."
   ]
  },
  {
   "cell_type": "code",
   "execution_count": 10,
   "metadata": {},
   "outputs": [
    {
     "data": {
      "text/plain": [
       "year           0\n",
       "latitude       0\n",
       "longitude      0\n",
       "sea_temp_c     3\n",
       "air_temp_c    81\n",
       "humidity      93\n",
       "wind_ew        0\n",
       "wind_ns        0\n",
       "dtype: int64"
      ]
     },
     "execution_count": 10,
     "metadata": {},
     "output_type": "execute_result"
    }
   ],
   "source": [
    "# Cantidad de valores nulos por variable\n",
    "(\n",
    "    oceanbuoys_df\n",
    "    .isnull()\n",
    "    .sum()\n",
    ")"
   ]
  },
  {
   "attachments": {},
   "cell_type": "markdown",
   "metadata": {},
   "source": [
    "La mayor cantidad de valores nulos se concentran en air_temp_c y Humidity. Puede que haya alguna relacion entre estas variables."
   ]
  },
  {
   "cell_type": "code",
   "execution_count": 11,
   "metadata": {},
   "outputs": [
    {
     "data": {
      "text/plain": [
       "177"
      ]
     },
     "execution_count": 11,
     "metadata": {},
     "output_type": "execute_result"
    }
   ],
   "source": [
    "# numero total de valores nulos\n",
    "(\n",
    "    oceanbuoys_df\n",
    "    .isnull()\n",
    "    .sum()\n",
    "    .sum()\n",
    ")"
   ]
  },
  {
   "cell_type": "code",
   "execution_count": 12,
   "metadata": {},
   "outputs": [
    {
     "data": {
      "image/png": "[encoded data removed]",
      "text/plain": [
       "<Figure size 787.475x360 with 1 Axes>"
      ]
     },
     "metadata": {},
     "output_type": "display_data"
    }
   ],
   "source": [
    "# Visualizacion de la proporcion de valores nulos por cada variable\n",
    "(\n",
    "    oceanbuoys_df\n",
    "    .isnull()\n",
    "    .melt()\n",
    "    .pipe(\n",
    "        lambda df:(\n",
    "            sns.displot(\n",
    "                data=df,\n",
    "                y='variable',\n",
    "                hue='value',\n",
    "                multiple='fill',\n",
    "                aspect=2\n",
    "            )\n",
    "        )\n",
    "    )\n",
    ")\n",
    "plt.show()"
   ]
  },
  {
   "cell_type": "code",
   "execution_count": 13,
   "metadata": {},
   "outputs": [
    {
     "data": {
      "text/plain": [
       "(565, 8)"
      ]
     },
     "execution_count": 13,
     "metadata": {},
     "output_type": "execute_result"
    }
   ],
   "source": [
    "# Numero de observaciones perdidas si se eliminan los valores faltantes\n",
    "proof_oceanbuoys_df = (\n",
    "    oceanbuoys_df\n",
    "    .dropna()\n",
    ")\n",
    "proof_oceanbuoys_df.shape"
   ]
  },
  {
   "cell_type": "code",
   "execution_count": 14,
   "metadata": {},
   "outputs": [
    {
     "data": {
      "text/plain": [
       "(736, 8)"
      ]
     },
     "execution_count": 14,
     "metadata": {},
     "output_type": "execute_result"
    }
   ],
   "source": [
    "# numero de observaciones en el DF\n",
    "oceanbuoys_df.shape"
   ]
  },
  {
   "cell_type": "code",
   "execution_count": 15,
   "metadata": {},
   "outputs": [
    {
     "data": {
      "text/plain": [
       "171"
      ]
     },
     "execution_count": 15,
     "metadata": {},
     "output_type": "execute_result"
    }
   ],
   "source": [
    "# numero de observaciones eliminadas\n",
    "736 - 565"
   ]
  },
  {
   "cell_type": "code",
   "execution_count": 16,
   "metadata": {},
   "outputs": [
    {
     "data": {
      "text/plain": [
       "23.233695652173907"
      ]
     },
     "execution_count": 16,
     "metadata": {},
     "output_type": "execute_result"
    }
   ],
   "source": [
    "# porcentaje que representa el numero de observaciones eliminadas\n",
    "pct_of = 100 - (565/736)*100\n",
    "pct_of"
   ]
  },
  {
   "attachments": {},
   "cell_type": "markdown",
   "metadata": {},
   "source": [
    "El dataframe contiene 736 observaciones. Si se eliminan los registros con valores faltantes quedan un total de 565 observaciones, es decir, se sacrifican mas de 171 observaciones que corresponden al 23% del total en el dataframe. Esto indica que no es recomendable utilizar el Metodo de eliminacion por lista para el tratamiento de valores faltantes ya que se pierde mucha informacion. "
   ]
  },
  {
   "attachments": {},
   "cell_type": "markdown",
   "metadata": {},
   "source": [
    "### Resumen Estadistico de las variables"
   ]
  },
  {
   "cell_type": "code",
   "execution_count": 17,
   "metadata": {},
   "outputs": [
    {
     "data": {
      "text/html": [
       "<div>\n",
       "<style scoped>\n",
       "    .dataframe tbody tr th:only-of-type {\n",
       "        vertical-align: middle;\n",
       "    }\n",
       "\n",
       "    .dataframe tbody tr th {\n",
       "        vertical-align: top;\n",
       "    }\n",
       "\n",
       "    .dataframe thead th {\n",
       "        text-align: right;\n",
       "    }\n",
       "</style>\n",
       "<table border=\"1\" class=\"dataframe\">\n",
       "  <thead>\n",
       "    <tr style=\"text-align: right;\">\n",
       "      <th></th>\n",
       "      <th>year</th>\n",
       "      <th>latitude</th>\n",
       "      <th>longitude</th>\n",
       "      <th>sea_temp_c</th>\n",
       "      <th>air_temp_c</th>\n",
       "      <th>humidity</th>\n",
       "      <th>wind_ew</th>\n",
       "      <th>wind_ns</th>\n",
       "    </tr>\n",
       "  </thead>\n",
       "  <tbody>\n",
       "    <tr>\n",
       "      <th>count</th>\n",
       "      <td>736.00000</td>\n",
       "      <td>736.000000</td>\n",
       "      <td>736.0000</td>\n",
       "      <td>733.000000</td>\n",
       "      <td>655.000000</td>\n",
       "      <td>643.000000</td>\n",
       "      <td>736.000000</td>\n",
       "      <td>736.000000</td>\n",
       "    </tr>\n",
       "    <tr>\n",
       "      <th>mean</th>\n",
       "      <td>1995.00000</td>\n",
       "      <td>-1.375000</td>\n",
       "      <td>-102.5000</td>\n",
       "      <td>25.864952</td>\n",
       "      <td>25.029252</td>\n",
       "      <td>84.434992</td>\n",
       "      <td>-3.715897</td>\n",
       "      <td>2.635734</td>\n",
       "    </tr>\n",
       "    <tr>\n",
       "      <th>std</th>\n",
       "      <td>2.00136</td>\n",
       "      <td>1.654719</td>\n",
       "      <td>7.5051</td>\n",
       "      <td>2.448436</td>\n",
       "      <td>2.000025</td>\n",
       "      <td>4.589332</td>\n",
       "      <td>1.958802</td>\n",
       "      <td>2.109857</td>\n",
       "    </tr>\n",
       "    <tr>\n",
       "      <th>min</th>\n",
       "      <td>1993.00000</td>\n",
       "      <td>-5.000000</td>\n",
       "      <td>-110.0000</td>\n",
       "      <td>21.600000</td>\n",
       "      <td>21.420000</td>\n",
       "      <td>71.599998</td>\n",
       "      <td>-8.100000</td>\n",
       "      <td>-6.200000</td>\n",
       "    </tr>\n",
       "    <tr>\n",
       "      <th>25%</th>\n",
       "      <td>1993.00000</td>\n",
       "      <td>-2.000000</td>\n",
       "      <td>-110.0000</td>\n",
       "      <td>23.500000</td>\n",
       "      <td>23.260000</td>\n",
       "      <td>81.300003</td>\n",
       "      <td>-5.100000</td>\n",
       "      <td>1.500000</td>\n",
       "    </tr>\n",
       "    <tr>\n",
       "      <th>50%</th>\n",
       "      <td>1995.00000</td>\n",
       "      <td>-1.000000</td>\n",
       "      <td>-102.5000</td>\n",
       "      <td>26.549999</td>\n",
       "      <td>24.520000</td>\n",
       "      <td>85.199997</td>\n",
       "      <td>-3.900000</td>\n",
       "      <td>2.900000</td>\n",
       "    </tr>\n",
       "    <tr>\n",
       "      <th>75%</th>\n",
       "      <td>1997.00000</td>\n",
       "      <td>0.000000</td>\n",
       "      <td>-95.0000</td>\n",
       "      <td>28.209999</td>\n",
       "      <td>27.080000</td>\n",
       "      <td>88.099998</td>\n",
       "      <td>-2.600000</td>\n",
       "      <td>4.100000</td>\n",
       "    </tr>\n",
       "    <tr>\n",
       "      <th>max</th>\n",
       "      <td>1997.00000</td>\n",
       "      <td>0.000000</td>\n",
       "      <td>-95.0000</td>\n",
       "      <td>30.170000</td>\n",
       "      <td>28.500000</td>\n",
       "      <td>94.800003</td>\n",
       "      <td>4.300000</td>\n",
       "      <td>7.300000</td>\n",
       "    </tr>\n",
       "  </tbody>\n",
       "</table>\n",
       "</div>"
      ],
      "text/plain": [
       "             year    latitude  longitude  sea_temp_c  air_temp_c    humidity  \\\n",
       "count   736.00000  736.000000   736.0000  733.000000  655.000000  643.000000   \n",
       "mean   1995.00000   -1.375000  -102.5000   25.864952   25.029252   84.434992   \n",
       "std       2.00136    1.654719     7.5051    2.448436    2.000025    4.589332   \n",
       "min    1993.00000   -5.000000  -110.0000   21.600000   21.420000   71.599998   \n",
       "25%    1993.00000   -2.000000  -110.0000   23.500000   23.260000   81.300003   \n",
       "50%    1995.00000   -1.000000  -102.5000   26.549999   24.520000   85.199997   \n",
       "75%    1997.00000    0.000000   -95.0000   28.209999   27.080000   88.099998   \n",
       "max    1997.00000    0.000000   -95.0000   30.170000   28.500000   94.800003   \n",
       "\n",
       "          wind_ew     wind_ns  \n",
       "count  736.000000  736.000000  \n",
       "mean    -3.715897    2.635734  \n",
       "std      1.958802    2.109857  \n",
       "min     -8.100000   -6.200000  \n",
       "25%     -5.100000    1.500000  \n",
       "50%     -3.900000    2.900000  \n",
       "75%     -2.600000    4.100000  \n",
       "max      4.300000    7.300000  "
      ]
     },
     "execution_count": 17,
     "metadata": {},
     "output_type": "execute_result"
    }
   ],
   "source": [
    "oceanbuoys_df.describe()"
   ]
  },
  {
   "attachments": {},
   "cell_type": "markdown",
   "metadata": {},
   "source": [
    "## Analisis Basico de Valores Faltantes sobre el DF"
   ]
  },
  {
   "attachments": {},
   "cell_type": "markdown",
   "metadata": {},
   "source": [
    "### Calculo del Porcentaje de valores faltantes"
   ]
  },
  {
   "cell_type": "code",
   "execution_count": 18,
   "metadata": {},
   "outputs": [
    {
     "data": {
      "text/plain": [
       "5888"
      ]
     },
     "execution_count": 18,
     "metadata": {},
     "output_type": "execute_result"
    }
   ],
   "source": [
    "# cantidad de datos\n",
    "total = 736*8\n",
    "total"
   ]
  },
  {
   "cell_type": "code",
   "execution_count": 19,
   "metadata": {},
   "outputs": [
    {
     "data": {
      "text/plain": [
       "5711"
      ]
     },
     "execution_count": 19,
     "metadata": {},
     "output_type": "execute_result"
    }
   ],
   "source": [
    "# cantidad de valores completos\n",
    "v_complet = oceanbuoys_df.missing.number_complete()\n",
    "v_complet"
   ]
  },
  {
   "cell_type": "code",
   "execution_count": 20,
   "metadata": {},
   "outputs": [
    {
     "data": {
      "text/plain": [
       "177"
      ]
     },
     "execution_count": 20,
     "metadata": {},
     "output_type": "execute_result"
    }
   ],
   "source": [
    "# cantidad de valores faltantes\n",
    "v_mising = oceanbuoys_df.missing.number_missing()\n",
    "v_mising"
   ]
  },
  {
   "cell_type": "code",
   "execution_count": 21,
   "metadata": {},
   "outputs": [
    {
     "data": {
      "text/plain": [
       "3.09928208720014"
      ]
     },
     "execution_count": 21,
     "metadata": {},
     "output_type": "execute_result"
    }
   ],
   "source": [
    "# Porcentaje de valores faltantes en el DF\n",
    "pct_v = (v_mising/v_complet)*100\n",
    "pct_v"
   ]
  },
  {
   "attachments": {},
   "cell_type": "markdown",
   "metadata": {},
   "source": [
    "Alrededor del 3% de los datos corresponden a valores faltantes. Aunque no representa un numero amplio, vamos a aplicar todo el analisis requerido."
   ]
  },
  {
   "attachments": {},
   "cell_type": "markdown",
   "metadata": {},
   "source": [
    "### Estadistica de las variables segun los datos faltantes "
   ]
  },
  {
   "cell_type": "code",
   "execution_count": 22,
   "metadata": {},
   "outputs": [
    {
     "data": {
      "text/html": [
       "<div>\n",
       "<style scoped>\n",
       "    .dataframe tbody tr th:only-of-type {\n",
       "        vertical-align: middle;\n",
       "    }\n",
       "\n",
       "    .dataframe tbody tr th {\n",
       "        vertical-align: top;\n",
       "    }\n",
       "\n",
       "    .dataframe thead th {\n",
       "        text-align: right;\n",
       "    }\n",
       "</style>\n",
       "<table border=\"1\" class=\"dataframe\">\n",
       "  <thead>\n",
       "    <tr style=\"text-align: right;\">\n",
       "      <th></th>\n",
       "      <th>variable</th>\n",
       "      <th>n_missing</th>\n",
       "      <th>n_cases</th>\n",
       "      <th>pct_missing</th>\n",
       "    </tr>\n",
       "  </thead>\n",
       "  <tbody>\n",
       "    <tr>\n",
       "      <th>0</th>\n",
       "      <td>year</td>\n",
       "      <td>0</td>\n",
       "      <td>736</td>\n",
       "      <td>0.000000</td>\n",
       "    </tr>\n",
       "    <tr>\n",
       "      <th>1</th>\n",
       "      <td>latitude</td>\n",
       "      <td>0</td>\n",
       "      <td>736</td>\n",
       "      <td>0.000000</td>\n",
       "    </tr>\n",
       "    <tr>\n",
       "      <th>2</th>\n",
       "      <td>longitude</td>\n",
       "      <td>0</td>\n",
       "      <td>736</td>\n",
       "      <td>0.000000</td>\n",
       "    </tr>\n",
       "    <tr>\n",
       "      <th>3</th>\n",
       "      <td>sea_temp_c</td>\n",
       "      <td>3</td>\n",
       "      <td>736</td>\n",
       "      <td>0.407609</td>\n",
       "    </tr>\n",
       "    <tr>\n",
       "      <th>4</th>\n",
       "      <td>air_temp_c</td>\n",
       "      <td>81</td>\n",
       "      <td>736</td>\n",
       "      <td>11.005435</td>\n",
       "    </tr>\n",
       "    <tr>\n",
       "      <th>5</th>\n",
       "      <td>humidity</td>\n",
       "      <td>93</td>\n",
       "      <td>736</td>\n",
       "      <td>12.635870</td>\n",
       "    </tr>\n",
       "    <tr>\n",
       "      <th>6</th>\n",
       "      <td>wind_ew</td>\n",
       "      <td>0</td>\n",
       "      <td>736</td>\n",
       "      <td>0.000000</td>\n",
       "    </tr>\n",
       "    <tr>\n",
       "      <th>7</th>\n",
       "      <td>wind_ns</td>\n",
       "      <td>0</td>\n",
       "      <td>736</td>\n",
       "      <td>0.000000</td>\n",
       "    </tr>\n",
       "  </tbody>\n",
       "</table>\n",
       "</div>"
      ],
      "text/plain": [
       "     variable  n_missing  n_cases  pct_missing\n",
       "0        year          0      736     0.000000\n",
       "1    latitude          0      736     0.000000\n",
       "2   longitude          0      736     0.000000\n",
       "3  sea_temp_c          3      736     0.407609\n",
       "4  air_temp_c         81      736    11.005435\n",
       "5    humidity         93      736    12.635870\n",
       "6     wind_ew          0      736     0.000000\n",
       "7     wind_ns          0      736     0.000000"
      ]
     },
     "execution_count": 22,
     "metadata": {},
     "output_type": "execute_result"
    }
   ],
   "source": [
    "# estadistica de cada variable segun sus valores faltantes\n",
    "oceanbuoys_df.missing.missing_variable_summary()"
   ]
  },
  {
   "attachments": {},
   "cell_type": "markdown",
   "metadata": {},
   "source": [
    "En el resumen vemos que tanto air_temp_c como humidity son las variables con mayor cantidad de valores faltantes teniendo un 11% la primera y un 12.6% la segunda variable."
   ]
  },
  {
   "attachments": {},
   "cell_type": "markdown",
   "metadata": {},
   "source": [
    "### Estadistica de valores faltantes segun el numero de variables"
   ]
  },
  {
   "cell_type": "code",
   "execution_count": 23,
   "metadata": {},
   "outputs": [
    {
     "data": {
      "text/html": [
       "<div>\n",
       "<style scoped>\n",
       "    .dataframe tbody tr th:only-of-type {\n",
       "        vertical-align: middle;\n",
       "    }\n",
       "\n",
       "    .dataframe tbody tr th {\n",
       "        vertical-align: top;\n",
       "    }\n",
       "\n",
       "    .dataframe thead th {\n",
       "        text-align: right;\n",
       "    }\n",
       "</style>\n",
       "<table border=\"1\" class=\"dataframe\">\n",
       "  <thead>\n",
       "    <tr style=\"text-align: right;\">\n",
       "      <th></th>\n",
       "      <th>n_missing_in_variable</th>\n",
       "      <th>n_variables</th>\n",
       "      <th>pct_variables</th>\n",
       "    </tr>\n",
       "  </thead>\n",
       "  <tbody>\n",
       "    <tr>\n",
       "      <th>0</th>\n",
       "      <td>0</td>\n",
       "      <td>5</td>\n",
       "      <td>62.5</td>\n",
       "    </tr>\n",
       "    <tr>\n",
       "      <th>1</th>\n",
       "      <td>3</td>\n",
       "      <td>1</td>\n",
       "      <td>12.5</td>\n",
       "    </tr>\n",
       "    <tr>\n",
       "      <th>2</th>\n",
       "      <td>81</td>\n",
       "      <td>1</td>\n",
       "      <td>12.5</td>\n",
       "    </tr>\n",
       "    <tr>\n",
       "      <th>3</th>\n",
       "      <td>93</td>\n",
       "      <td>1</td>\n",
       "      <td>12.5</td>\n",
       "    </tr>\n",
       "  </tbody>\n",
       "</table>\n",
       "</div>"
      ],
      "text/plain": [
       "   n_missing_in_variable  n_variables  pct_variables\n",
       "0                      0            5           62.5\n",
       "1                      3            1           12.5\n",
       "2                     81            1           12.5\n",
       "3                     93            1           12.5"
      ]
     },
     "execution_count": 23,
     "metadata": {},
     "output_type": "execute_result"
    }
   ],
   "source": [
    "# estadistica de valores faltantes en funcion de las variables presentados en una Tabla\n",
    "oceanbuoys_df.missing.missing_variable_table()"
   ]
  },
  {
   "attachments": {},
   "cell_type": "markdown",
   "metadata": {},
   "source": [
    "La tabla indica que hay 5 variables que no tienen valores faltantes, 1 con solo 3 missing, 1 con 81 missing y 1 con 93 missing para un total de 8 variables."
   ]
  },
  {
   "attachments": {},
   "cell_type": "markdown",
   "metadata": {},
   "source": [
    "### Estadistica de valores faltantes para cada registro"
   ]
  },
  {
   "cell_type": "code",
   "execution_count": 24,
   "metadata": {},
   "outputs": [
    {
     "data": {
      "text/html": [
       "<div>\n",
       "<style scoped>\n",
       "    .dataframe tbody tr th:only-of-type {\n",
       "        vertical-align: middle;\n",
       "    }\n",
       "\n",
       "    .dataframe tbody tr th {\n",
       "        vertical-align: top;\n",
       "    }\n",
       "\n",
       "    .dataframe thead th {\n",
       "        text-align: right;\n",
       "    }\n",
       "</style>\n",
       "<table border=\"1\" class=\"dataframe\">\n",
       "  <thead>\n",
       "    <tr style=\"text-align: right;\">\n",
       "      <th></th>\n",
       "      <th>case</th>\n",
       "      <th>n_missing</th>\n",
       "      <th>pct_missing</th>\n",
       "    </tr>\n",
       "  </thead>\n",
       "  <tbody>\n",
       "    <tr>\n",
       "      <th>0</th>\n",
       "      <td>0</td>\n",
       "      <td>0</td>\n",
       "      <td>0.0</td>\n",
       "    </tr>\n",
       "    <tr>\n",
       "      <th>1</th>\n",
       "      <td>1</td>\n",
       "      <td>0</td>\n",
       "      <td>0.0</td>\n",
       "    </tr>\n",
       "    <tr>\n",
       "      <th>2</th>\n",
       "      <td>2</td>\n",
       "      <td>0</td>\n",
       "      <td>0.0</td>\n",
       "    </tr>\n",
       "    <tr>\n",
       "      <th>3</th>\n",
       "      <td>3</td>\n",
       "      <td>0</td>\n",
       "      <td>0.0</td>\n",
       "    </tr>\n",
       "    <tr>\n",
       "      <th>4</th>\n",
       "      <td>4</td>\n",
       "      <td>0</td>\n",
       "      <td>0.0</td>\n",
       "    </tr>\n",
       "    <tr>\n",
       "      <th>...</th>\n",
       "      <td>...</td>\n",
       "      <td>...</td>\n",
       "      <td>...</td>\n",
       "    </tr>\n",
       "    <tr>\n",
       "      <th>731</th>\n",
       "      <td>731</td>\n",
       "      <td>0</td>\n",
       "      <td>0.0</td>\n",
       "    </tr>\n",
       "    <tr>\n",
       "      <th>732</th>\n",
       "      <td>732</td>\n",
       "      <td>0</td>\n",
       "      <td>0.0</td>\n",
       "    </tr>\n",
       "    <tr>\n",
       "      <th>733</th>\n",
       "      <td>733</td>\n",
       "      <td>0</td>\n",
       "      <td>0.0</td>\n",
       "    </tr>\n",
       "    <tr>\n",
       "      <th>734</th>\n",
       "      <td>734</td>\n",
       "      <td>0</td>\n",
       "      <td>0.0</td>\n",
       "    </tr>\n",
       "    <tr>\n",
       "      <th>735</th>\n",
       "      <td>735</td>\n",
       "      <td>0</td>\n",
       "      <td>0.0</td>\n",
       "    </tr>\n",
       "  </tbody>\n",
       "</table>\n",
       "<p>736 rows × 3 columns</p>\n",
       "</div>"
      ],
      "text/plain": [
       "     case  n_missing  pct_missing\n",
       "0       0          0          0.0\n",
       "1       1          0          0.0\n",
       "2       2          0          0.0\n",
       "3       3          0          0.0\n",
       "4       4          0          0.0\n",
       "..    ...        ...          ...\n",
       "731   731          0          0.0\n",
       "732   732          0          0.0\n",
       "733   733          0          0.0\n",
       "734   734          0          0.0\n",
       "735   735          0          0.0\n",
       "\n",
       "[736 rows x 3 columns]"
      ]
     },
     "execution_count": 24,
     "metadata": {},
     "output_type": "execute_result"
    }
   ],
   "source": [
    "# cantidad de valores faltantes para cada registro\n",
    "oceanbuoys_df.missing.missing_case_summary()"
   ]
  },
  {
   "attachments": {},
   "cell_type": "markdown",
   "metadata": {},
   "source": [
    "### Estadistica tabulada de Registros con su correspondiente cantidad de valores faltantes"
   ]
  },
  {
   "cell_type": "code",
   "execution_count": 25,
   "metadata": {},
   "outputs": [
    {
     "data": {
      "text/html": [
       "<div>\n",
       "<style scoped>\n",
       "    .dataframe tbody tr th:only-of-type {\n",
       "        vertical-align: middle;\n",
       "    }\n",
       "\n",
       "    .dataframe tbody tr th {\n",
       "        vertical-align: top;\n",
       "    }\n",
       "\n",
       "    .dataframe thead th {\n",
       "        text-align: right;\n",
       "    }\n",
       "</style>\n",
       "<table border=\"1\" class=\"dataframe\">\n",
       "  <thead>\n",
       "    <tr style=\"text-align: right;\">\n",
       "      <th></th>\n",
       "      <th>n_missing_in_case</th>\n",
       "      <th>n_cases</th>\n",
       "      <th>pct_case</th>\n",
       "    </tr>\n",
       "  </thead>\n",
       "  <tbody>\n",
       "    <tr>\n",
       "      <th>0</th>\n",
       "      <td>0</td>\n",
       "      <td>565</td>\n",
       "      <td>76.766304</td>\n",
       "    </tr>\n",
       "    <tr>\n",
       "      <th>1</th>\n",
       "      <td>1</td>\n",
       "      <td>167</td>\n",
       "      <td>22.690217</td>\n",
       "    </tr>\n",
       "    <tr>\n",
       "      <th>2</th>\n",
       "      <td>2</td>\n",
       "      <td>2</td>\n",
       "      <td>0.271739</td>\n",
       "    </tr>\n",
       "    <tr>\n",
       "      <th>3</th>\n",
       "      <td>3</td>\n",
       "      <td>2</td>\n",
       "      <td>0.271739</td>\n",
       "    </tr>\n",
       "  </tbody>\n",
       "</table>\n",
       "</div>"
      ],
      "text/plain": [
       "   n_missing_in_case  n_cases   pct_case\n",
       "0                  0      565  76.766304\n",
       "1                  1      167  22.690217\n",
       "2                  2        2   0.271739\n",
       "3                  3        2   0.271739"
      ]
     },
     "execution_count": 25,
     "metadata": {},
     "output_type": "execute_result"
    }
   ],
   "source": [
    "# registros con su correpondiente cantidad de valores faltantes\n",
    "oceanbuoys_df.missing.missing_case_table()"
   ]
  },
  {
   "attachments": {},
   "cell_type": "markdown",
   "metadata": {},
   "source": [
    "la tabla indica que hay 565 registros que no poseen missing, 167 con solo 1 missing, 2 con 2 missing y 2 con solo 3 missing."
   ]
  },
  {
   "attachments": {},
   "cell_type": "markdown",
   "metadata": {},
   "source": [
    "### Estadisticas de valores faltantes por intervalos de registros para una variable"
   ]
  },
  {
   "cell_type": "code",
   "execution_count": 26,
   "metadata": {},
   "outputs": [
    {
     "data": {
      "text/html": [
       "<div>\n",
       "<style scoped>\n",
       "    .dataframe tbody tr th:only-of-type {\n",
       "        vertical-align: middle;\n",
       "    }\n",
       "\n",
       "    .dataframe tbody tr th {\n",
       "        vertical-align: top;\n",
       "    }\n",
       "\n",
       "    .dataframe thead th {\n",
       "        text-align: right;\n",
       "    }\n",
       "</style>\n",
       "<table border=\"1\" class=\"dataframe\">\n",
       "  <thead>\n",
       "    <tr style=\"text-align: right;\">\n",
       "      <th></th>\n",
       "      <th>span_counter</th>\n",
       "      <th>n_missing</th>\n",
       "      <th>n_complete</th>\n",
       "      <th>pct_missing</th>\n",
       "      <th>pct_complete</th>\n",
       "    </tr>\n",
       "  </thead>\n",
       "  <tbody>\n",
       "    <tr>\n",
       "      <th>0</th>\n",
       "      <td>0</td>\n",
       "      <td>0</td>\n",
       "      <td>50</td>\n",
       "      <td>0.0</td>\n",
       "      <td>100.0</td>\n",
       "    </tr>\n",
       "    <tr>\n",
       "      <th>1</th>\n",
       "      <td>1</td>\n",
       "      <td>0</td>\n",
       "      <td>50</td>\n",
       "      <td>0.0</td>\n",
       "      <td>100.0</td>\n",
       "    </tr>\n",
       "    <tr>\n",
       "      <th>2</th>\n",
       "      <td>2</td>\n",
       "      <td>0</td>\n",
       "      <td>50</td>\n",
       "      <td>0.0</td>\n",
       "      <td>100.0</td>\n",
       "    </tr>\n",
       "    <tr>\n",
       "      <th>3</th>\n",
       "      <td>3</td>\n",
       "      <td>0</td>\n",
       "      <td>50</td>\n",
       "      <td>0.0</td>\n",
       "      <td>100.0</td>\n",
       "    </tr>\n",
       "    <tr>\n",
       "      <th>4</th>\n",
       "      <td>4</td>\n",
       "      <td>0</td>\n",
       "      <td>50</td>\n",
       "      <td>0.0</td>\n",
       "      <td>100.0</td>\n",
       "    </tr>\n",
       "    <tr>\n",
       "      <th>5</th>\n",
       "      <td>5</td>\n",
       "      <td>0</td>\n",
       "      <td>50</td>\n",
       "      <td>0.0</td>\n",
       "      <td>100.0</td>\n",
       "    </tr>\n",
       "    <tr>\n",
       "      <th>6</th>\n",
       "      <td>6</td>\n",
       "      <td>0</td>\n",
       "      <td>50</td>\n",
       "      <td>0.0</td>\n",
       "      <td>100.0</td>\n",
       "    </tr>\n",
       "    <tr>\n",
       "      <th>7</th>\n",
       "      <td>7</td>\n",
       "      <td>0</td>\n",
       "      <td>50</td>\n",
       "      <td>0.0</td>\n",
       "      <td>100.0</td>\n",
       "    </tr>\n",
       "    <tr>\n",
       "      <th>8</th>\n",
       "      <td>8</td>\n",
       "      <td>0</td>\n",
       "      <td>50</td>\n",
       "      <td>0.0</td>\n",
       "      <td>100.0</td>\n",
       "    </tr>\n",
       "    <tr>\n",
       "      <th>9</th>\n",
       "      <td>9</td>\n",
       "      <td>41</td>\n",
       "      <td>9</td>\n",
       "      <td>82.0</td>\n",
       "      <td>18.0</td>\n",
       "    </tr>\n",
       "    <tr>\n",
       "      <th>10</th>\n",
       "      <td>10</td>\n",
       "      <td>50</td>\n",
       "      <td>0</td>\n",
       "      <td>100.0</td>\n",
       "      <td>0.0</td>\n",
       "    </tr>\n",
       "    <tr>\n",
       "      <th>11</th>\n",
       "      <td>11</td>\n",
       "      <td>2</td>\n",
       "      <td>48</td>\n",
       "      <td>4.0</td>\n",
       "      <td>96.0</td>\n",
       "    </tr>\n",
       "    <tr>\n",
       "      <th>12</th>\n",
       "      <td>12</td>\n",
       "      <td>0</td>\n",
       "      <td>50</td>\n",
       "      <td>0.0</td>\n",
       "      <td>100.0</td>\n",
       "    </tr>\n",
       "    <tr>\n",
       "      <th>13</th>\n",
       "      <td>13</td>\n",
       "      <td>0</td>\n",
       "      <td>50</td>\n",
       "      <td>0.0</td>\n",
       "      <td>100.0</td>\n",
       "    </tr>\n",
       "    <tr>\n",
       "      <th>14</th>\n",
       "      <td>14</td>\n",
       "      <td>0</td>\n",
       "      <td>36</td>\n",
       "      <td>0.0</td>\n",
       "      <td>100.0</td>\n",
       "    </tr>\n",
       "  </tbody>\n",
       "</table>\n",
       "</div>"
      ],
      "text/plain": [
       "    span_counter  n_missing  n_complete  pct_missing  pct_complete\n",
       "0              0          0          50          0.0         100.0\n",
       "1              1          0          50          0.0         100.0\n",
       "2              2          0          50          0.0         100.0\n",
       "3              3          0          50          0.0         100.0\n",
       "4              4          0          50          0.0         100.0\n",
       "5              5          0          50          0.0         100.0\n",
       "6              6          0          50          0.0         100.0\n",
       "7              7          0          50          0.0         100.0\n",
       "8              8          0          50          0.0         100.0\n",
       "9              9         41           9         82.0          18.0\n",
       "10            10         50           0        100.0           0.0\n",
       "11            11          2          48          4.0          96.0\n",
       "12            12          0          50          0.0         100.0\n",
       "13            13          0          50          0.0         100.0\n",
       "14            14          0          36          0.0         100.0"
      ]
     },
     "execution_count": 26,
     "metadata": {},
     "output_type": "execute_result"
    }
   ],
   "source": [
    "# estadistica de valores faltantes para intervalos de 10 registros de la variable humidity\n",
    "oceanbuoys_df.missing.missing_variable_span(variable='humidity',span_every=50)"
   ]
  },
  {
   "attachments": {},
   "cell_type": "markdown",
   "metadata": {},
   "source": [
    "La tabla anterior indica que el 82% de los datos de la variable humidity en el intervalo de 450 a 500 son valores faltantes. Mientras que todos los datos del intervalo que va de 500 a 550 son valores faltantes. De esta manera podemos apreciar los intervalos donde se concentran los missing."
   ]
  },
  {
   "attachments": {},
   "cell_type": "markdown",
   "metadata": {},
   "source": [
    "### Estadistica de intervalos consecutivos con valores faltantes y completos para una variable"
   ]
  },
  {
   "cell_type": "code",
   "execution_count": 27,
   "metadata": {},
   "outputs": [
    {
     "data": {
      "text/html": [
       "<div>\n",
       "<style scoped>\n",
       "    .dataframe tbody tr th:only-of-type {\n",
       "        vertical-align: middle;\n",
       "    }\n",
       "\n",
       "    .dataframe tbody tr th {\n",
       "        vertical-align: top;\n",
       "    }\n",
       "\n",
       "    .dataframe thead th {\n",
       "        text-align: right;\n",
       "    }\n",
       "</style>\n",
       "<table border=\"1\" class=\"dataframe\">\n",
       "  <thead>\n",
       "    <tr style=\"text-align: right;\">\n",
       "      <th></th>\n",
       "      <th>run_length</th>\n",
       "      <th>is_na</th>\n",
       "    </tr>\n",
       "  </thead>\n",
       "  <tbody>\n",
       "    <tr>\n",
       "      <th>0</th>\n",
       "      <td>459</td>\n",
       "      <td>complete</td>\n",
       "    </tr>\n",
       "    <tr>\n",
       "      <th>1</th>\n",
       "      <td>93</td>\n",
       "      <td>missing</td>\n",
       "    </tr>\n",
       "    <tr>\n",
       "      <th>2</th>\n",
       "      <td>184</td>\n",
       "      <td>complete</td>\n",
       "    </tr>\n",
       "  </tbody>\n",
       "</table>\n",
       "</div>"
      ],
      "text/plain": [
       "   run_length     is_na\n",
       "0         459  complete\n",
       "1          93   missing\n",
       "2         184  complete"
      ]
     },
     "execution_count": 27,
     "metadata": {},
     "output_type": "execute_result"
    }
   ],
   "source": [
    "# estadistica de intervalos consecutivos con valores faltantes y \n",
    "# completos para la variable humidity\n",
    "oceanbuoys_df.missing.missing_variable_run(variable='humidity')"
   ]
  },
  {
   "attachments": {},
   "cell_type": "markdown",
   "metadata": {},
   "source": [
    "La tabla indica que los primeros 459 registros de la variable humidity estan completos, los siguientes 93 registros possen missing y los restantes estan completos. Esto quiere decir que los missing de la variable estan concentrados en una zona particular lo que indica que no son missin aleatorios."
   ]
  },
  {
   "attachments": {},
   "cell_type": "markdown",
   "metadata": {},
   "source": [
    "## Visualizacion de Valores Faltantes"
   ]
  },
  {
   "attachments": {},
   "cell_type": "markdown",
   "metadata": {},
   "source": [
    "### Visualizacion mediante un grafico de Paleta"
   ]
  },
  {
   "cell_type": "code",
   "execution_count": 28,
   "metadata": {},
   "outputs": [
    {
     "data": {
      "image/png": "[encoded data removed]",
      "text/plain": [
       "<Figure size 576x576 with 1 Axes>"
      ]
     },
     "metadata": {},
     "output_type": "display_data"
    }
   ],
   "source": [
    "oceanbuoys_df.missing.missing_variable_plot()"
   ]
  },
  {
   "attachments": {},
   "cell_type": "markdown",
   "metadata": {},
   "source": [
    "La grafica ratifica que la variable con mayor numero de valores faltantes es humidity seguido de la variable air_temp_c"
   ]
  },
  {
   "attachments": {},
   "cell_type": "markdown",
   "metadata": {},
   "source": [
    "### Histograma de observaciones con datos faltantes"
   ]
  },
  {
   "cell_type": "code",
   "execution_count": 29,
   "metadata": {},
   "outputs": [
    {
     "data": {
      "image/png": "[encoded data removed]",
      "text/plain": [
       "<Figure size 360x360 with 1 Axes>"
      ]
     },
     "metadata": {},
     "output_type": "display_data"
    }
   ],
   "source": [
    "oceanbuoys_df.missing.missing_case_plot()"
   ]
  },
  {
   "attachments": {},
   "cell_type": "markdown",
   "metadata": {},
   "source": [
    "La grafica indica que hay mas de 500 observaciones con 1 solo missing y mas de 150 observaciones con 2 missing."
   ]
  },
  {
   "attachments": {},
   "cell_type": "markdown",
   "metadata": {},
   "source": [
    "### Visualizacion de valores faltantes en una variable por rangos consecutivos"
   ]
  },
  {
   "cell_type": "code",
   "execution_count": 30,
   "metadata": {},
   "outputs": [
    {
     "data": {
      "image/png": "[encoded data removed]",
      "text/plain": [
       "<Figure size 576x576 with 1 Axes>"
      ]
     },
     "metadata": {},
     "output_type": "display_data"
    }
   ],
   "source": [
    "# visualizacion de valores faltantes para la variable air_temp_c en rangos de 50\n",
    "(\n",
    "    oceanbuoys_df\n",
    "    .missing\n",
    "    .missing_variable_span_plot(\n",
    "        variable='air_temp_c', # variable a analizar\n",
    "        span_every=50, # rango\n",
    "        rot=0 # rotacion de las etiquetas\n",
    "    )\n",
    ")"
   ]
  },
  {
   "attachments": {},
   "cell_type": "markdown",
   "metadata": {},
   "source": [
    "Podemos concluir que mas del 80% de los datos del rango que va de 100 a 149 son datos faltantes. Tambien mas del 60% de los datos del rango que va de 150 a 199 son valores faltantes. Esto indica que para la variable air_temp_c los valores faltantes no son aleatorio sino que sigue cierto patron."
   ]
  },
  {
   "attachments": {},
   "cell_type": "markdown",
   "metadata": {},
   "source": [
    "### Visualizacion de valores faltantes en todas las variables"
   ]
  },
  {
   "cell_type": "code",
   "execution_count": 31,
   "metadata": {},
   "outputs": [
    {
     "data": {
      "text/plain": [
       "<AxesSubplot:>"
      ]
     },
     "execution_count": 31,
     "metadata": {},
     "output_type": "execute_result"
    },
    {
     "data": {
      "image/png": "[encoded data removed]",
      "text/plain": [
       "<Figure size 1728x720 with 3 Axes>"
      ]
     },
     "metadata": {},
     "output_type": "display_data"
    }
   ],
   "source": [
    "missingno.bar(df=oceanbuoys_df) # missigno es una funcion de pandas"
   ]
  },
  {
   "attachments": {},
   "cell_type": "markdown",
   "metadata": {},
   "source": [
    "Los espacios en blanco representan los valores faltantes. Claramente vemos que la moyr parte de missing se encuentran en las variables humidity y air_temp_c"
   ]
  },
  {
   "attachments": {},
   "cell_type": "markdown",
   "metadata": {},
   "source": [
    "### Visualizacion de valores faltantes en todas las variables mediante una matriz"
   ]
  },
  {
   "cell_type": "code",
   "execution_count": 32,
   "metadata": {},
   "outputs": [
    {
     "data": {
      "text/plain": [
       "<AxesSubplot:>"
      ]
     },
     "execution_count": 32,
     "metadata": {},
     "output_type": "execute_result"
    },
    {
     "data": {
      "image/png": "[encoded data removed]",
      "text/plain": [
       "<Figure size 1800x720 with 2 Axes>"
      ]
     },
     "metadata": {},
     "output_type": "display_data"
    }
   ],
   "source": [
    "missingno.matrix(df=oceanbuoys_df)"
   ]
  },
  {
   "attachments": {},
   "cell_type": "markdown",
   "metadata": {},
   "source": [
    "Al inicio del analisis teniamos la hipotesis de que podria ver alguna relacion entre los valores faltantes de las variables humidity y air_temp_c. Al ver a detalle la grafica encontramos que no tienen relacion alguna. En cambio, donde vemos que existe una relacion es entre los missing de air_temp_c y sea_temp_c ya que cuando falta uno de ellos, falta en la otra variable."
   ]
  },
  {
   "attachments": {},
   "cell_type": "markdown",
   "metadata": {},
   "source": [
    "### Visualizacion de apariciones conjuntas entre las variables mediantes un Upsetplot"
   ]
  },
  {
   "cell_type": "code",
   "execution_count": 33,
   "metadata": {},
   "outputs": [
    {
     "data": {
      "text/plain": [
       "{'matrix': <AxesSubplot:>,\n",
       " 'shading': <AxesSubplot:>,\n",
       " 'totals': <AxesSubplot:>,\n",
       " 'intersections': <AxesSubplot:ylabel='Intersection size'>}"
      ]
     },
     "execution_count": 33,
     "metadata": {},
     "output_type": "execute_result"
    },
    {
     "data": {
      "image/png": "[encoded data removed]",
      "text/plain": [
       "<Figure size 360x420 with 4 Axes>"
      ]
     },
     "metadata": {},
     "output_type": "display_data"
    }
   ],
   "source": [
    "(\n",
    "    oceanbuoys_df\n",
    "    .missing\n",
    "    .missing_upsetplot(\n",
    "        variables=None, # None indica para todas las variables\n",
    "        element_size = 30 # size del upsetplot\n",
    "    )\n",
    ")"
   ]
  },
  {
   "attachments": {},
   "cell_type": "markdown",
   "metadata": {},
   "source": [
    "El upsetplot indica que humidity alcanza casi las 100 observaciones con missing cuando las demas variables no poseen missing. Lo mismo ocurre para air_temp_c que alcanza las 80 observaciones con missing. Esto indica que no hay relacion entre los missing de ambas variables"
   ]
  },
  {
   "attachments": {},
   "cell_type": "markdown",
   "metadata": {},
   "source": [
    "## Determinacion del Tipo de Valores Faltantes"
   ]
  },
  {
   "attachments": {},
   "cell_type": "markdown",
   "metadata": {},
   "source": [
    "### Es de tipo MCAR?"
   ]
  },
  {
   "cell_type": "code",
   "execution_count": 34,
   "metadata": {},
   "outputs": [
    {
     "data": {
      "text/plain": [
       "<AxesSubplot:>"
      ]
     },
     "execution_count": 34,
     "metadata": {},
     "output_type": "execute_result"
    },
    {
     "data": {
      "image/png": "[encoded data removed]",
      "text/plain": [
       "<Figure size 1800x720 with 2 Axes>"
      ]
     },
     "metadata": {},
     "output_type": "display_data"
    }
   ],
   "source": [
    "# ordena las variables segun el numero de missing de mayor a menor\n",
    "(\n",
    "    oceanbuoys_df # df\n",
    "    .missing.sort_variables_by_missingness() # ordena las variables de mayor a menor cantidad de missing\n",
    "    .pipe(missingno.matrix) # muestra el resultado como una matriz\n",
    ")"
   ]
  },
  {
   "attachments": {},
   "cell_type": "markdown",
   "metadata": {},
   "source": [
    "Para este caso, vemos que las variables siguen un patron como en el caso de air_temp_c y sea_temp_c. Y ademas vemos que se encuentran agrupadas como es el caso de humidity y air_temp_c aunque no haya relacion entre ambas. Esto implica que los missing no estan localizados completamente al azar por lo que no son de tipo MCAR"
   ]
  },
  {
   "attachments": {},
   "cell_type": "markdown",
   "metadata": {},
   "source": [
    "### Es de tipo MAR?"
   ]
  },
  {
   "cell_type": "code",
   "execution_count": 35,
   "metadata": {},
   "outputs": [
    {
     "data": {
      "text/plain": [
       "<AxesSubplot:>"
      ]
     },
     "execution_count": 35,
     "metadata": {},
     "output_type": "execute_result"
    },
    {
     "data": {
      "image/png": "[encoded data removed]",
      "text/plain": [
       "<Figure size 1800x720 with 2 Axes>"
      ]
     },
     "metadata": {},
     "output_type": "display_data"
    }
   ],
   "source": [
    "# ordena los valores segun una variable\n",
    "(\n",
    "    oceanbuoys_df\n",
    "    .missing\n",
    "    .sort_variables_by_missingness()\n",
    "    .sort_values(by='sea_temp_c')\n",
    "    .pipe(missingno.matrix)\n",
    ")"
   ]
  },
  {
   "attachments": {},
   "cell_type": "markdown",
   "metadata": {},
   "source": [
    "Observamos que los valores faltantes de sea_temp_c dependen totalmente de air_temp_c por lo que son de tipo MAR"
   ]
  },
  {
   "attachments": {},
   "cell_type": "markdown",
   "metadata": {},
   "source": [
    "### Es de tipo MNAR?"
   ]
  },
  {
   "cell_type": "code",
   "execution_count": 36,
   "metadata": {},
   "outputs": [
    {
     "data": {
      "text/plain": [
       "<AxesSubplot:>"
      ]
     },
     "execution_count": 36,
     "metadata": {},
     "output_type": "execute_result"
    },
    {
     "data": {
      "image/png": "[encoded data removed]",
      "text/plain": [
       "<Figure size 1800x720 with 2 Axes>"
      ]
     },
     "metadata": {},
     "output_type": "display_data"
    }
   ],
   "source": [
    "# ordena los valores segun una variable\n",
    "(\n",
    "    oceanbuoys_df\n",
    "    .missing\n",
    "    .sort_variables_by_missingness()\n",
    "    .sort_values(by='humidity')\n",
    "    .pipe(missingno.matrix)\n",
    ")"
   ]
  },
  {
   "attachments": {},
   "cell_type": "markdown",
   "metadata": {},
   "source": [
    "La mayorias de valores faltantes de air_temp_c no dependen de humidity por lo que no son de tipo MNAR."
   ]
  },
  {
   "attachments": {},
   "cell_type": "markdown",
   "metadata": {},
   "source": [
    "Para explicar el patron de los datos se debe conocer con mayor profundidad el contexto de los mismo ya que este analisis solo permite encontrar el mecanismo de generacion de los datos faltantes para cada variable y no de manera general."
   ]
  },
  {
   "attachments": {},
   "cell_type": "markdown",
   "metadata": {},
   "source": [
    "## Comparacion y Visualizacion de Estadisticos mediante la Matriz de Sombra"
   ]
  },
  {
   "cell_type": "code",
   "execution_count": 38,
   "metadata": {},
   "outputs": [
    {
     "data": {
      "text/html": [
       "<div>\n",
       "<style scoped>\n",
       "    .dataframe tbody tr th:only-of-type {\n",
       "        vertical-align: middle;\n",
       "    }\n",
       "\n",
       "    .dataframe tbody tr th {\n",
       "        vertical-align: top;\n",
       "    }\n",
       "\n",
       "    .dataframe thead th {\n",
       "        text-align: right;\n",
       "    }\n",
       "</style>\n",
       "<table border=\"1\" class=\"dataframe\">\n",
       "  <thead>\n",
       "    <tr style=\"text-align: right;\">\n",
       "      <th></th>\n",
       "      <th>year</th>\n",
       "      <th>latitude</th>\n",
       "      <th>longitude</th>\n",
       "      <th>sea_temp_c</th>\n",
       "      <th>air_temp_c</th>\n",
       "      <th>humidity</th>\n",
       "      <th>wind_ew</th>\n",
       "      <th>wind_ns</th>\n",
       "      <th>year_NA</th>\n",
       "      <th>latitude_NA</th>\n",
       "      <th>longitude_NA</th>\n",
       "      <th>sea_temp_c_NA</th>\n",
       "      <th>air_temp_c_NA</th>\n",
       "      <th>humidity_NA</th>\n",
       "      <th>wind_ew_NA</th>\n",
       "      <th>wind_ns_NA</th>\n",
       "    </tr>\n",
       "  </thead>\n",
       "  <tbody>\n",
       "    <tr>\n",
       "      <th>0</th>\n",
       "      <td>1997.0</td>\n",
       "      <td>0.0</td>\n",
       "      <td>-110.0</td>\n",
       "      <td>27.590000</td>\n",
       "      <td>27.150000</td>\n",
       "      <td>79.599998</td>\n",
       "      <td>-6.4</td>\n",
       "      <td>5.4</td>\n",
       "      <td>Not missing</td>\n",
       "      <td>Not missing</td>\n",
       "      <td>Not missing</td>\n",
       "      <td>Not missing</td>\n",
       "      <td>Not missing</td>\n",
       "      <td>Not missing</td>\n",
       "      <td>Not missing</td>\n",
       "      <td>Not missing</td>\n",
       "    </tr>\n",
       "    <tr>\n",
       "      <th>1</th>\n",
       "      <td>1997.0</td>\n",
       "      <td>0.0</td>\n",
       "      <td>-110.0</td>\n",
       "      <td>27.549999</td>\n",
       "      <td>27.020000</td>\n",
       "      <td>75.800003</td>\n",
       "      <td>-5.3</td>\n",
       "      <td>5.3</td>\n",
       "      <td>Not missing</td>\n",
       "      <td>Not missing</td>\n",
       "      <td>Not missing</td>\n",
       "      <td>Not missing</td>\n",
       "      <td>Not missing</td>\n",
       "      <td>Not missing</td>\n",
       "      <td>Not missing</td>\n",
       "      <td>Not missing</td>\n",
       "    </tr>\n",
       "    <tr>\n",
       "      <th>2</th>\n",
       "      <td>1997.0</td>\n",
       "      <td>0.0</td>\n",
       "      <td>-110.0</td>\n",
       "      <td>27.570000</td>\n",
       "      <td>27.000000</td>\n",
       "      <td>76.500000</td>\n",
       "      <td>-5.1</td>\n",
       "      <td>4.5</td>\n",
       "      <td>Not missing</td>\n",
       "      <td>Not missing</td>\n",
       "      <td>Not missing</td>\n",
       "      <td>Not missing</td>\n",
       "      <td>Not missing</td>\n",
       "      <td>Not missing</td>\n",
       "      <td>Not missing</td>\n",
       "      <td>Not missing</td>\n",
       "    </tr>\n",
       "    <tr>\n",
       "      <th>3</th>\n",
       "      <td>1997.0</td>\n",
       "      <td>0.0</td>\n",
       "      <td>-110.0</td>\n",
       "      <td>27.620001</td>\n",
       "      <td>26.930000</td>\n",
       "      <td>76.199997</td>\n",
       "      <td>-4.9</td>\n",
       "      <td>2.5</td>\n",
       "      <td>Not missing</td>\n",
       "      <td>Not missing</td>\n",
       "      <td>Not missing</td>\n",
       "      <td>Not missing</td>\n",
       "      <td>Not missing</td>\n",
       "      <td>Not missing</td>\n",
       "      <td>Not missing</td>\n",
       "      <td>Not missing</td>\n",
       "    </tr>\n",
       "    <tr>\n",
       "      <th>4</th>\n",
       "      <td>1997.0</td>\n",
       "      <td>0.0</td>\n",
       "      <td>-110.0</td>\n",
       "      <td>27.650000</td>\n",
       "      <td>26.840000</td>\n",
       "      <td>76.400002</td>\n",
       "      <td>-3.5</td>\n",
       "      <td>4.1</td>\n",
       "      <td>Not missing</td>\n",
       "      <td>Not missing</td>\n",
       "      <td>Not missing</td>\n",
       "      <td>Not missing</td>\n",
       "      <td>Not missing</td>\n",
       "      <td>Not missing</td>\n",
       "      <td>Not missing</td>\n",
       "      <td>Not missing</td>\n",
       "    </tr>\n",
       "    <tr>\n",
       "      <th>...</th>\n",
       "      <td>...</td>\n",
       "      <td>...</td>\n",
       "      <td>...</td>\n",
       "      <td>...</td>\n",
       "      <td>...</td>\n",
       "      <td>...</td>\n",
       "      <td>...</td>\n",
       "      <td>...</td>\n",
       "      <td>...</td>\n",
       "      <td>...</td>\n",
       "      <td>...</td>\n",
       "      <td>...</td>\n",
       "      <td>...</td>\n",
       "      <td>...</td>\n",
       "      <td>...</td>\n",
       "      <td>...</td>\n",
       "    </tr>\n",
       "    <tr>\n",
       "      <th>731</th>\n",
       "      <td>1993.0</td>\n",
       "      <td>-2.0</td>\n",
       "      <td>-110.0</td>\n",
       "      <td>24.780001</td>\n",
       "      <td>24.620001</td>\n",
       "      <td>90.800003</td>\n",
       "      <td>-4.4</td>\n",
       "      <td>1.7</td>\n",
       "      <td>Not missing</td>\n",
       "      <td>Not missing</td>\n",
       "      <td>Not missing</td>\n",
       "      <td>Not missing</td>\n",
       "      <td>Not missing</td>\n",
       "      <td>Not missing</td>\n",
       "      <td>Not missing</td>\n",
       "      <td>Not missing</td>\n",
       "    </tr>\n",
       "    <tr>\n",
       "      <th>732</th>\n",
       "      <td>1993.0</td>\n",
       "      <td>-2.0</td>\n",
       "      <td>-110.0</td>\n",
       "      <td>24.879999</td>\n",
       "      <td>24.500000</td>\n",
       "      <td>91.099998</td>\n",
       "      <td>-3.0</td>\n",
       "      <td>0.2</td>\n",
       "      <td>Not missing</td>\n",
       "      <td>Not missing</td>\n",
       "      <td>Not missing</td>\n",
       "      <td>Not missing</td>\n",
       "      <td>Not missing</td>\n",
       "      <td>Not missing</td>\n",
       "      <td>Not missing</td>\n",
       "      <td>Not missing</td>\n",
       "    </tr>\n",
       "    <tr>\n",
       "      <th>733</th>\n",
       "      <td>1993.0</td>\n",
       "      <td>-2.0</td>\n",
       "      <td>-110.0</td>\n",
       "      <td>25.120001</td>\n",
       "      <td>24.889999</td>\n",
       "      <td>89.699997</td>\n",
       "      <td>-4.0</td>\n",
       "      <td>1.1</td>\n",
       "      <td>Not missing</td>\n",
       "      <td>Not missing</td>\n",
       "      <td>Not missing</td>\n",
       "      <td>Not missing</td>\n",
       "      <td>Not missing</td>\n",
       "      <td>Not missing</td>\n",
       "      <td>Not missing</td>\n",
       "      <td>Not missing</td>\n",
       "    </tr>\n",
       "    <tr>\n",
       "      <th>734</th>\n",
       "      <td>1993.0</td>\n",
       "      <td>-2.0</td>\n",
       "      <td>-110.0</td>\n",
       "      <td>25.160000</td>\n",
       "      <td>24.930000</td>\n",
       "      <td>89.500000</td>\n",
       "      <td>-4.3</td>\n",
       "      <td>2.5</td>\n",
       "      <td>Not missing</td>\n",
       "      <td>Not missing</td>\n",
       "      <td>Not missing</td>\n",
       "      <td>Not missing</td>\n",
       "      <td>Not missing</td>\n",
       "      <td>Not missing</td>\n",
       "      <td>Not missing</td>\n",
       "      <td>Not missing</td>\n",
       "    </tr>\n",
       "    <tr>\n",
       "      <th>735</th>\n",
       "      <td>1993.0</td>\n",
       "      <td>-2.0</td>\n",
       "      <td>-110.0</td>\n",
       "      <td>25.139999</td>\n",
       "      <td>24.770000</td>\n",
       "      <td>87.900002</td>\n",
       "      <td>-4.6</td>\n",
       "      <td>2.3</td>\n",
       "      <td>Not missing</td>\n",
       "      <td>Not missing</td>\n",
       "      <td>Not missing</td>\n",
       "      <td>Not missing</td>\n",
       "      <td>Not missing</td>\n",
       "      <td>Not missing</td>\n",
       "      <td>Not missing</td>\n",
       "      <td>Not missing</td>\n",
       "    </tr>\n",
       "  </tbody>\n",
       "</table>\n",
       "<p>736 rows × 16 columns</p>\n",
       "</div>"
      ],
      "text/plain": [
       "       year  latitude  longitude  sea_temp_c  air_temp_c   humidity  wind_ew  \\\n",
       "0    1997.0       0.0     -110.0   27.590000   27.150000  79.599998     -6.4   \n",
       "1    1997.0       0.0     -110.0   27.549999   27.020000  75.800003     -5.3   \n",
       "2    1997.0       0.0     -110.0   27.570000   27.000000  76.500000     -5.1   \n",
       "3    1997.0       0.0     -110.0   27.620001   26.930000  76.199997     -4.9   \n",
       "4    1997.0       0.0     -110.0   27.650000   26.840000  76.400002     -3.5   \n",
       "..      ...       ...        ...         ...         ...        ...      ...   \n",
       "731  1993.0      -2.0     -110.0   24.780001   24.620001  90.800003     -4.4   \n",
       "732  1993.0      -2.0     -110.0   24.879999   24.500000  91.099998     -3.0   \n",
       "733  1993.0      -2.0     -110.0   25.120001   24.889999  89.699997     -4.0   \n",
       "734  1993.0      -2.0     -110.0   25.160000   24.930000  89.500000     -4.3   \n",
       "735  1993.0      -2.0     -110.0   25.139999   24.770000  87.900002     -4.6   \n",
       "\n",
       "     wind_ns      year_NA  latitude_NA longitude_NA sea_temp_c_NA  \\\n",
       "0        5.4  Not missing  Not missing  Not missing   Not missing   \n",
       "1        5.3  Not missing  Not missing  Not missing   Not missing   \n",
       "2        4.5  Not missing  Not missing  Not missing   Not missing   \n",
       "3        2.5  Not missing  Not missing  Not missing   Not missing   \n",
       "4        4.1  Not missing  Not missing  Not missing   Not missing   \n",
       "..       ...          ...          ...          ...           ...   \n",
       "731      1.7  Not missing  Not missing  Not missing   Not missing   \n",
       "732      0.2  Not missing  Not missing  Not missing   Not missing   \n",
       "733      1.1  Not missing  Not missing  Not missing   Not missing   \n",
       "734      2.5  Not missing  Not missing  Not missing   Not missing   \n",
       "735      2.3  Not missing  Not missing  Not missing   Not missing   \n",
       "\n",
       "    air_temp_c_NA  humidity_NA   wind_ew_NA   wind_ns_NA  \n",
       "0     Not missing  Not missing  Not missing  Not missing  \n",
       "1     Not missing  Not missing  Not missing  Not missing  \n",
       "2     Not missing  Not missing  Not missing  Not missing  \n",
       "3     Not missing  Not missing  Not missing  Not missing  \n",
       "4     Not missing  Not missing  Not missing  Not missing  \n",
       "..            ...          ...          ...          ...  \n",
       "731   Not missing  Not missing  Not missing  Not missing  \n",
       "732   Not missing  Not missing  Not missing  Not missing  \n",
       "733   Not missing  Not missing  Not missing  Not missing  \n",
       "734   Not missing  Not missing  Not missing  Not missing  \n",
       "735   Not missing  Not missing  Not missing  Not missing  \n",
       "\n",
       "[736 rows x 16 columns]"
      ]
     },
     "execution_count": 38,
     "metadata": {},
     "output_type": "execute_result"
    }
   ],
   "source": [
    "# construccion de la Matriz de sombra de forma manual\n",
    "\n",
    "(\n",
    "    oceanbuoys_df\n",
    "    .isna()     # detecta los valores faltantes\n",
    "    .replace({  # reemplaza los valores booleanos por valores informativos\n",
    "        False:'Not missing',\n",
    "        True:'Missing'\n",
    "    })\n",
    "    .add_suffix('_NA')  # agrega el sufijo NA sobre cada variable nueva  \n",
    "    .pipe(\n",
    "        lambda shadow_matrix: pd.concat(    # crea la matriz de sombra y la concatena con la matriz de valores\n",
    "            [oceanbuoys_df, shadow_matrix],\n",
    "            axis='columns'\n",
    "        )\n",
    ")"
   ]
  },
  {
   "cell_type": "code",
   "execution_count": 39,
   "metadata": {},
   "outputs": [
    {
     "data": {
      "text/html": [
       "<div>\n",
       "<style scoped>\n",
       "    .dataframe tbody tr th:only-of-type {\n",
       "        vertical-align: middle;\n",
       "    }\n",
       "\n",
       "    .dataframe tbody tr th {\n",
       "        vertical-align: top;\n",
       "    }\n",
       "\n",
       "    .dataframe thead th {\n",
       "        text-align: right;\n",
       "    }\n",
       "</style>\n",
       "<table border=\"1\" class=\"dataframe\">\n",
       "  <thead>\n",
       "    <tr style=\"text-align: right;\">\n",
       "      <th></th>\n",
       "      <th>year</th>\n",
       "      <th>latitude</th>\n",
       "      <th>longitude</th>\n",
       "      <th>sea_temp_c</th>\n",
       "      <th>air_temp_c</th>\n",
       "      <th>humidity</th>\n",
       "      <th>wind_ew</th>\n",
       "      <th>wind_ns</th>\n",
       "      <th>sea_temp_c_NA</th>\n",
       "      <th>air_temp_c_NA</th>\n",
       "      <th>humidity_NA</th>\n",
       "    </tr>\n",
       "  </thead>\n",
       "  <tbody>\n",
       "    <tr>\n",
       "      <th>0</th>\n",
       "      <td>1997.0</td>\n",
       "      <td>0.0</td>\n",
       "      <td>-110.0</td>\n",
       "      <td>27.590000</td>\n",
       "      <td>27.150000</td>\n",
       "      <td>79.599998</td>\n",
       "      <td>-6.4</td>\n",
       "      <td>5.4</td>\n",
       "      <td>Not Missing</td>\n",
       "      <td>Not Missing</td>\n",
       "      <td>Not Missing</td>\n",
       "    </tr>\n",
       "    <tr>\n",
       "      <th>1</th>\n",
       "      <td>1997.0</td>\n",
       "      <td>0.0</td>\n",
       "      <td>-110.0</td>\n",
       "      <td>27.549999</td>\n",
       "      <td>27.020000</td>\n",
       "      <td>75.800003</td>\n",
       "      <td>-5.3</td>\n",
       "      <td>5.3</td>\n",
       "      <td>Not Missing</td>\n",
       "      <td>Not Missing</td>\n",
       "      <td>Not Missing</td>\n",
       "    </tr>\n",
       "    <tr>\n",
       "      <th>2</th>\n",
       "      <td>1997.0</td>\n",
       "      <td>0.0</td>\n",
       "      <td>-110.0</td>\n",
       "      <td>27.570000</td>\n",
       "      <td>27.000000</td>\n",
       "      <td>76.500000</td>\n",
       "      <td>-5.1</td>\n",
       "      <td>4.5</td>\n",
       "      <td>Not Missing</td>\n",
       "      <td>Not Missing</td>\n",
       "      <td>Not Missing</td>\n",
       "    </tr>\n",
       "    <tr>\n",
       "      <th>3</th>\n",
       "      <td>1997.0</td>\n",
       "      <td>0.0</td>\n",
       "      <td>-110.0</td>\n",
       "      <td>27.620001</td>\n",
       "      <td>26.930000</td>\n",
       "      <td>76.199997</td>\n",
       "      <td>-4.9</td>\n",
       "      <td>2.5</td>\n",
       "      <td>Not Missing</td>\n",
       "      <td>Not Missing</td>\n",
       "      <td>Not Missing</td>\n",
       "    </tr>\n",
       "    <tr>\n",
       "      <th>4</th>\n",
       "      <td>1997.0</td>\n",
       "      <td>0.0</td>\n",
       "      <td>-110.0</td>\n",
       "      <td>27.650000</td>\n",
       "      <td>26.840000</td>\n",
       "      <td>76.400002</td>\n",
       "      <td>-3.5</td>\n",
       "      <td>4.1</td>\n",
       "      <td>Not Missing</td>\n",
       "      <td>Not Missing</td>\n",
       "      <td>Not Missing</td>\n",
       "    </tr>\n",
       "    <tr>\n",
       "      <th>...</th>\n",
       "      <td>...</td>\n",
       "      <td>...</td>\n",
       "      <td>...</td>\n",
       "      <td>...</td>\n",
       "      <td>...</td>\n",
       "      <td>...</td>\n",
       "      <td>...</td>\n",
       "      <td>...</td>\n",
       "      <td>...</td>\n",
       "      <td>...</td>\n",
       "      <td>...</td>\n",
       "    </tr>\n",
       "    <tr>\n",
       "      <th>731</th>\n",
       "      <td>1993.0</td>\n",
       "      <td>-2.0</td>\n",
       "      <td>-110.0</td>\n",
       "      <td>24.780001</td>\n",
       "      <td>24.620001</td>\n",
       "      <td>90.800003</td>\n",
       "      <td>-4.4</td>\n",
       "      <td>1.7</td>\n",
       "      <td>Not Missing</td>\n",
       "      <td>Not Missing</td>\n",
       "      <td>Not Missing</td>\n",
       "    </tr>\n",
       "    <tr>\n",
       "      <th>732</th>\n",
       "      <td>1993.0</td>\n",
       "      <td>-2.0</td>\n",
       "      <td>-110.0</td>\n",
       "      <td>24.879999</td>\n",
       "      <td>24.500000</td>\n",
       "      <td>91.099998</td>\n",
       "      <td>-3.0</td>\n",
       "      <td>0.2</td>\n",
       "      <td>Not Missing</td>\n",
       "      <td>Not Missing</td>\n",
       "      <td>Not Missing</td>\n",
       "    </tr>\n",
       "    <tr>\n",
       "      <th>733</th>\n",
       "      <td>1993.0</td>\n",
       "      <td>-2.0</td>\n",
       "      <td>-110.0</td>\n",
       "      <td>25.120001</td>\n",
       "      <td>24.889999</td>\n",
       "      <td>89.699997</td>\n",
       "      <td>-4.0</td>\n",
       "      <td>1.1</td>\n",
       "      <td>Not Missing</td>\n",
       "      <td>Not Missing</td>\n",
       "      <td>Not Missing</td>\n",
       "    </tr>\n",
       "    <tr>\n",
       "      <th>734</th>\n",
       "      <td>1993.0</td>\n",
       "      <td>-2.0</td>\n",
       "      <td>-110.0</td>\n",
       "      <td>25.160000</td>\n",
       "      <td>24.930000</td>\n",
       "      <td>89.500000</td>\n",
       "      <td>-4.3</td>\n",
       "      <td>2.5</td>\n",
       "      <td>Not Missing</td>\n",
       "      <td>Not Missing</td>\n",
       "      <td>Not Missing</td>\n",
       "    </tr>\n",
       "    <tr>\n",
       "      <th>735</th>\n",
       "      <td>1993.0</td>\n",
       "      <td>-2.0</td>\n",
       "      <td>-110.0</td>\n",
       "      <td>25.139999</td>\n",
       "      <td>24.770000</td>\n",
       "      <td>87.900002</td>\n",
       "      <td>-4.6</td>\n",
       "      <td>2.3</td>\n",
       "      <td>Not Missing</td>\n",
       "      <td>Not Missing</td>\n",
       "      <td>Not Missing</td>\n",
       "    </tr>\n",
       "  </tbody>\n",
       "</table>\n",
       "<p>736 rows × 11 columns</p>\n",
       "</div>"
      ],
      "text/plain": [
       "       year  latitude  longitude  sea_temp_c  air_temp_c   humidity  wind_ew  \\\n",
       "0    1997.0       0.0     -110.0   27.590000   27.150000  79.599998     -6.4   \n",
       "1    1997.0       0.0     -110.0   27.549999   27.020000  75.800003     -5.3   \n",
       "2    1997.0       0.0     -110.0   27.570000   27.000000  76.500000     -5.1   \n",
       "3    1997.0       0.0     -110.0   27.620001   26.930000  76.199997     -4.9   \n",
       "4    1997.0       0.0     -110.0   27.650000   26.840000  76.400002     -3.5   \n",
       "..      ...       ...        ...         ...         ...        ...      ...   \n",
       "731  1993.0      -2.0     -110.0   24.780001   24.620001  90.800003     -4.4   \n",
       "732  1993.0      -2.0     -110.0   24.879999   24.500000  91.099998     -3.0   \n",
       "733  1993.0      -2.0     -110.0   25.120001   24.889999  89.699997     -4.0   \n",
       "734  1993.0      -2.0     -110.0   25.160000   24.930000  89.500000     -4.3   \n",
       "735  1993.0      -2.0     -110.0   25.139999   24.770000  87.900002     -4.6   \n",
       "\n",
       "     wind_ns sea_temp_c_NA air_temp_c_NA  humidity_NA  \n",
       "0        5.4   Not Missing   Not Missing  Not Missing  \n",
       "1        5.3   Not Missing   Not Missing  Not Missing  \n",
       "2        4.5   Not Missing   Not Missing  Not Missing  \n",
       "3        2.5   Not Missing   Not Missing  Not Missing  \n",
       "4        4.1   Not Missing   Not Missing  Not Missing  \n",
       "..       ...           ...           ...          ...  \n",
       "731      1.7   Not Missing   Not Missing  Not Missing  \n",
       "732      0.2   Not Missing   Not Missing  Not Missing  \n",
       "733      1.1   Not Missing   Not Missing  Not Missing  \n",
       "734      2.5   Not Missing   Not Missing  Not Missing  \n",
       "735      2.3   Not Missing   Not Missing  Not Missing  \n",
       "\n",
       "[736 rows x 11 columns]"
      ]
     },
     "execution_count": 39,
     "metadata": {},
     "output_type": "execute_result"
    }
   ],
   "source": [
    "# Construccion de la matriz de sombra mediante una funcion\n",
    "\n",
    "(\n",
    "    oceanbuoys_df\n",
    "    .missing\n",
    "    .bind_shadow_matrix(only_missing=True) # True para que aplique sobre las columnas con missing\n",
    ")"
   ]
  },
  {
   "attachments": {},
   "cell_type": "markdown",
   "metadata": {},
   "source": [
    "### Exploracion de estadisticos mediante la Matriz de sombra"
   ]
  },
  {
   "cell_type": "code",
   "execution_count": 49,
   "metadata": {},
   "outputs": [
    {
     "name": "stdout",
     "output_type": "stream",
     "text": [
      "Valores faltantes de la humedad en funcion de la temperatura del mar \n"
     ]
    },
    {
     "data": {
      "text/html": [
       "<div>\n",
       "<style scoped>\n",
       "    .dataframe tbody tr th:only-of-type {\n",
       "        vertical-align: middle;\n",
       "    }\n",
       "\n",
       "    .dataframe tbody tr th {\n",
       "        vertical-align: top;\n",
       "    }\n",
       "\n",
       "    .dataframe thead th {\n",
       "        text-align: right;\n",
       "    }\n",
       "</style>\n",
       "<table border=\"1\" class=\"dataframe\">\n",
       "  <thead>\n",
       "    <tr style=\"text-align: right;\">\n",
       "      <th></th>\n",
       "      <th>humidity_NA</th>\n",
       "      <th>count</th>\n",
       "      <th>mean</th>\n",
       "      <th>std</th>\n",
       "      <th>min</th>\n",
       "      <th>25%</th>\n",
       "      <th>50%</th>\n",
       "      <th>75%</th>\n",
       "      <th>max</th>\n",
       "    </tr>\n",
       "  </thead>\n",
       "  <tbody>\n",
       "    <tr>\n",
       "      <th>0</th>\n",
       "      <td>Missing</td>\n",
       "      <td>91.0</td>\n",
       "      <td>23.415934</td>\n",
       "      <td>1.137388</td>\n",
       "      <td>21.60</td>\n",
       "      <td>22.469999</td>\n",
       "      <td>23.370001</td>\n",
       "      <td>24.110000</td>\n",
       "      <td>26.379999</td>\n",
       "    </tr>\n",
       "    <tr>\n",
       "      <th>1</th>\n",
       "      <td>Not Missing</td>\n",
       "      <td>642.0</td>\n",
       "      <td>26.212087</td>\n",
       "      <td>2.385814</td>\n",
       "      <td>21.84</td>\n",
       "      <td>23.882499</td>\n",
       "      <td>27.455000</td>\n",
       "      <td>28.299999</td>\n",
       "      <td>30.170000</td>\n",
       "    </tr>\n",
       "  </tbody>\n",
       "</table>\n",
       "</div>"
      ],
      "text/plain": [
       "   humidity_NA  count       mean       std    min        25%        50%  \\\n",
       "0      Missing   91.0  23.415934  1.137388  21.60  22.469999  23.370001   \n",
       "1  Not Missing  642.0  26.212087  2.385814  21.84  23.882499  27.455000   \n",
       "\n",
       "         75%        max  \n",
       "0  24.110000  26.379999  \n",
       "1  28.299999  30.170000  "
      ]
     },
     "execution_count": 49,
     "metadata": {},
     "output_type": "execute_result"
    }
   ],
   "source": [
    "# Valores faltantes de la humedad en funcion de la temperatura del mar\n",
    "\n",
    "print('Valores faltantes de la humedad en funcion de la temperatura del mar ')\n",
    "(\n",
    "    oceanbuoys_df\n",
    "    .missing.bind_shadow_matrix(only_missing=True) # crea la matriz de sombra\n",
    "    .groupby(['humidity_NA'])                      # agrupar por la ausencia de la humedad\n",
    "    ['sea_temp_c']                                 # variable temperatura como referencia\n",
    "    .describe()\n",
    "    .reset_index()\n",
    ")"
   ]
  },
  {
   "attachments": {},
   "cell_type": "markdown",
   "metadata": {},
   "source": [
    "Aca podemos ver en la tabla que para los valores faltantes de la humedad en funcion de la temperatura del mar la media donde hay datos es de 23 y el valor maximo es de 26. Mientras que donde no hay datos la media es de 26 y el valor maximo de 30. Como la diferencia entre ambos valores no es tan grande indica que las variables tienen poca relacion."
   ]
  },
  {
   "cell_type": "code",
   "execution_count": 46,
   "metadata": {},
   "outputs": [
    {
     "name": "stdout",
     "output_type": "stream",
     "text": [
      "Valores faltantes de la humedad en funcion de la temperatura del aire \n"
     ]
    },
    {
     "data": {
      "text/html": [
       "<div>\n",
       "<style scoped>\n",
       "    .dataframe tbody tr th:only-of-type {\n",
       "        vertical-align: middle;\n",
       "    }\n",
       "\n",
       "    .dataframe tbody tr th {\n",
       "        vertical-align: top;\n",
       "    }\n",
       "\n",
       "    .dataframe thead th {\n",
       "        text-align: right;\n",
       "    }\n",
       "</style>\n",
       "<table border=\"1\" class=\"dataframe\">\n",
       "  <thead>\n",
       "    <tr style=\"text-align: right;\">\n",
       "      <th></th>\n",
       "      <th>humidity_NA</th>\n",
       "      <th>count</th>\n",
       "      <th>mean</th>\n",
       "      <th>std</th>\n",
       "      <th>min</th>\n",
       "      <th>25%</th>\n",
       "      <th>50%</th>\n",
       "      <th>75%</th>\n",
       "      <th>max</th>\n",
       "    </tr>\n",
       "  </thead>\n",
       "  <tbody>\n",
       "    <tr>\n",
       "      <th>0</th>\n",
       "      <td>Missing</td>\n",
       "      <td>90.0</td>\n",
       "      <td>23.067667</td>\n",
       "      <td>0.934387</td>\n",
       "      <td>21.420000</td>\n",
       "      <td>22.260000</td>\n",
       "      <td>22.950001</td>\n",
       "      <td>23.700001</td>\n",
       "      <td>24.959999</td>\n",
       "    </tr>\n",
       "    <tr>\n",
       "      <th>1</th>\n",
       "      <td>Not Missing</td>\n",
       "      <td>565.0</td>\n",
       "      <td>25.341717</td>\n",
       "      <td>1.946489</td>\n",
       "      <td>22.059999</td>\n",
       "      <td>23.450001</td>\n",
       "      <td>25.780001</td>\n",
       "      <td>27.190001</td>\n",
       "      <td>28.500000</td>\n",
       "    </tr>\n",
       "  </tbody>\n",
       "</table>\n",
       "</div>"
      ],
      "text/plain": [
       "   humidity_NA  count       mean       std        min        25%        50%  \\\n",
       "0      Missing   90.0  23.067667  0.934387  21.420000  22.260000  22.950001   \n",
       "1  Not Missing  565.0  25.341717  1.946489  22.059999  23.450001  25.780001   \n",
       "\n",
       "         75%        max  \n",
       "0  23.700001  24.959999  \n",
       "1  27.190001  28.500000  "
      ]
     },
     "execution_count": 46,
     "metadata": {},
     "output_type": "execute_result"
    }
   ],
   "source": [
    "# valores faltantes de la humedad en funcion de la temperatura del aire\n",
    "\n",
    "print('Valores faltantes de la humedad en funcion de la temperatura del aire ')\n",
    "(\n",
    "    oceanbuoys_df\n",
    "    .missing.bind_shadow_matrix(only_missing=True) # crea la matriz de sombra\n",
    "    .groupby(['humidity_NA'])                      # agrupar por la ausencia de la humedad\n",
    "    ['air_temp_c']                                 # variable temperatura como referencia\n",
    "    .describe()\n",
    "    .reset_index()\n",
    ")"
   ]
  },
  {
   "attachments": {},
   "cell_type": "markdown",
   "metadata": {},
   "source": [
    "Al igual que en el caso anterior, como los valores tanto de la media como del valor maximo son cercanos, amabas variables tienen poca relacion."
   ]
  },
  {
   "cell_type": "code",
   "execution_count": 48,
   "metadata": {},
   "outputs": [
    {
     "name": "stdout",
     "output_type": "stream",
     "text": [
      "Valores faltantes de la temperatura del aire en funcion de la temperatura del mar \n"
     ]
    },
    {
     "data": {
      "text/html": [
       "<div>\n",
       "<style scoped>\n",
       "    .dataframe tbody tr th:only-of-type {\n",
       "        vertical-align: middle;\n",
       "    }\n",
       "\n",
       "    .dataframe tbody tr th {\n",
       "        vertical-align: top;\n",
       "    }\n",
       "\n",
       "    .dataframe thead th {\n",
       "        text-align: right;\n",
       "    }\n",
       "</style>\n",
       "<table border=\"1\" class=\"dataframe\">\n",
       "  <thead>\n",
       "    <tr style=\"text-align: right;\">\n",
       "      <th></th>\n",
       "      <th>air_temp_c_NA</th>\n",
       "      <th>count</th>\n",
       "      <th>mean</th>\n",
       "      <th>std</th>\n",
       "      <th>min</th>\n",
       "      <th>25%</th>\n",
       "      <th>50%</th>\n",
       "      <th>75%</th>\n",
       "      <th>max</th>\n",
       "    </tr>\n",
       "  </thead>\n",
       "  <tbody>\n",
       "    <tr>\n",
       "      <th>0</th>\n",
       "      <td>Missing</td>\n",
       "      <td>78.0</td>\n",
       "      <td>28.412820</td>\n",
       "      <td>0.886468</td>\n",
       "      <td>24.15</td>\n",
       "      <td>27.765</td>\n",
       "      <td>28.385</td>\n",
       "      <td>28.9875</td>\n",
       "      <td>30.170000</td>\n",
       "    </tr>\n",
       "    <tr>\n",
       "      <th>1</th>\n",
       "      <td>Not Missing</td>\n",
       "      <td>655.0</td>\n",
       "      <td>25.561542</td>\n",
       "      <td>2.398097</td>\n",
       "      <td>21.60</td>\n",
       "      <td>23.420</td>\n",
       "      <td>24.740</td>\n",
       "      <td>28.0900</td>\n",
       "      <td>29.549999</td>\n",
       "    </tr>\n",
       "  </tbody>\n",
       "</table>\n",
       "</div>"
      ],
      "text/plain": [
       "  air_temp_c_NA  count       mean       std    min     25%     50%      75%  \\\n",
       "0       Missing   78.0  28.412820  0.886468  24.15  27.765  28.385  28.9875   \n",
       "1   Not Missing  655.0  25.561542  2.398097  21.60  23.420  24.740  28.0900   \n",
       "\n",
       "         max  \n",
       "0  30.170000  \n",
       "1  29.549999  "
      ]
     },
     "execution_count": 48,
     "metadata": {},
     "output_type": "execute_result"
    }
   ],
   "source": [
    "# valores faltantes de la temperatura del aire en funcion de la temperatura del mar\n",
    "\n",
    "print('Valores faltantes de la temperatura del aire en funcion de la temperatura del mar ')\n",
    "(\n",
    "    oceanbuoys_df\n",
    "    .missing.bind_shadow_matrix(only_missing=True) # crea la matriz de sombra\n",
    "    .groupby(['air_temp_c_NA'])                      # agrupar por los missing de air_temp_c\n",
    "    ['sea_temp_c']                                 # variable temperatura como referencia\n",
    "    .describe()\n",
    "    .reset_index()\n",
    ")"
   ]
  },
  {
   "attachments": {},
   "cell_type": "markdown",
   "metadata": {},
   "source": [
    "En este caso, ambas variables tienen poca relacion"
   ]
  },
  {
   "cell_type": "code",
   "execution_count": 50,
   "metadata": {},
   "outputs": [
    {
     "name": "stdout",
     "output_type": "stream",
     "text": [
      "Valores faltantes de la humedad en funcion de la latitud \n"
     ]
    },
    {
     "data": {
      "text/html": [
       "<div>\n",
       "<style scoped>\n",
       "    .dataframe tbody tr th:only-of-type {\n",
       "        vertical-align: middle;\n",
       "    }\n",
       "\n",
       "    .dataframe tbody tr th {\n",
       "        vertical-align: top;\n",
       "    }\n",
       "\n",
       "    .dataframe thead th {\n",
       "        text-align: right;\n",
       "    }\n",
       "</style>\n",
       "<table border=\"1\" class=\"dataframe\">\n",
       "  <thead>\n",
       "    <tr style=\"text-align: right;\">\n",
       "      <th></th>\n",
       "      <th>humidity_NA</th>\n",
       "      <th>count</th>\n",
       "      <th>mean</th>\n",
       "      <th>std</th>\n",
       "      <th>min</th>\n",
       "      <th>25%</th>\n",
       "      <th>50%</th>\n",
       "      <th>75%</th>\n",
       "      <th>max</th>\n",
       "    </tr>\n",
       "  </thead>\n",
       "  <tbody>\n",
       "    <tr>\n",
       "      <th>0</th>\n",
       "      <td>Missing</td>\n",
       "      <td>93.0</td>\n",
       "      <td>0.000000</td>\n",
       "      <td>0.000000</td>\n",
       "      <td>0.0</td>\n",
       "      <td>0.0</td>\n",
       "      <td>0.0</td>\n",
       "      <td>0.0</td>\n",
       "      <td>0.0</td>\n",
       "    </tr>\n",
       "    <tr>\n",
       "      <th>1</th>\n",
       "      <td>Not Missing</td>\n",
       "      <td>643.0</td>\n",
       "      <td>-1.573872</td>\n",
       "      <td>1.679657</td>\n",
       "      <td>-5.0</td>\n",
       "      <td>-2.0</td>\n",
       "      <td>-2.0</td>\n",
       "      <td>0.0</td>\n",
       "      <td>0.0</td>\n",
       "    </tr>\n",
       "  </tbody>\n",
       "</table>\n",
       "</div>"
      ],
      "text/plain": [
       "   humidity_NA  count      mean       std  min  25%  50%  75%  max\n",
       "0      Missing   93.0  0.000000  0.000000  0.0  0.0  0.0  0.0  0.0\n",
       "1  Not Missing  643.0 -1.573872  1.679657 -5.0 -2.0 -2.0  0.0  0.0"
      ]
     },
     "execution_count": 50,
     "metadata": {},
     "output_type": "execute_result"
    }
   ],
   "source": [
    "# valores faltantes de la humedad en funcion de la latitud\n",
    "\n",
    "print('Valores faltantes de la humedad en funcion de la latitud ')\n",
    "(\n",
    "    oceanbuoys_df\n",
    "    .missing.bind_shadow_matrix(only_missing=True) # crea la matriz de sombra\n",
    "    .groupby(['humidity_NA'])                      # agrupar por los missing de humedad\n",
    "    ['latitude']                                 # variable latitud como referencia\n",
    "    .describe()\n",
    "    .reset_index()\n",
    ")"
   ]
  }
 ],
 "metadata": {
  "kernelspec": {
   "display_name": "data",
   "language": "python",
   "name": "python3"
  },
  "language_info": {
   "codemirror_mode": {
    "name": "ipython",
    "version": 3
   },
   "file_extension": ".py",
   "mimetype": "text/x-python",
   "name": "python",
   "nbconvert_exporter": "python",
   "pygments_lexer": "ipython3",
   "version": "3.10.8"
  },
  "orig_nbformat": 4,
  "vscode": {
   "interpreter": {
    "hash": "8700f991acee7685058f9a56c7736eced6bd630c9083b6b688b4e6e79ecaa63b"
   }
  }
 },
 "nbformat": 4,
 "nbformat_minor": 2
}
