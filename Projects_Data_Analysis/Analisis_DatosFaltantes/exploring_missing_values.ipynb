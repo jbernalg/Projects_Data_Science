{
 "cells": [
  {
   "attachments": {},
   "cell_type": "markdown",
   "metadata": {},
   "source": [
    "## Análisis de Datos Faltantes  "
   ]
  },
  {
   "cell_type": "code",
   "execution_count": 6,
   "metadata": {},
   "outputs": [],
   "source": [
    "# Librerias\n",
    "import janitor\n",
    "import matplotlib.pyplot as plt\n",
    "import missingno\n",
    "import numpy as np\n",
    "import pandas as pd\n",
    "import pyreadr\n",
    "import seaborn as sns\n",
    "#import session_info\n",
    "import upsetplot"
   ]
  },
  {
   "cell_type": "code",
   "execution_count": 7,
   "metadata": {},
   "outputs": [],
   "source": [
    "# linea para correr el notebook utils\n",
    "%run utils.ipynb"
   ]
  },
  {
   "attachments": {},
   "cell_type": "markdown",
   "metadata": {},
   "source": [
    "### Datos. Descarga de archivos desde una URL"
   ]
  },
  {
   "attachments": {},
   "cell_type": "markdown",
   "metadata": {},
   "source": [
    "#### 1. Creamos unidades de informacion de los conjuntos de datos"
   ]
  },
  {
   "cell_type": "code",
   "execution_count": 8,
   "metadata": {},
   "outputs": [],
   "source": [
    "# Guardar la url en una variable\n",
    "datos_url = 'https://github.com/njtierney/naniar/raw/master/data/'\n",
    "\n",
    "# Almacenar los nombres de los archivos a descargar en una lista\n",
    "datasets_names = ('oceanbuoys', 'pedestrian', 'riskfactors')\n",
    "\n",
    "# Almacenar el tipo de extension en una variable\n",
    "extension = '.rda'"
   ]
  },
  {
   "attachments": {},
   "cell_type": "markdown",
   "metadata": {},
   "source": [
    "#### 2. Descargar y cargar los conjuntos de datos "
   ]
  },
  {
   "cell_type": "code",
   "execution_count": 9,
   "metadata": {},
   "outputs": [
    {
     "data": {
      "text/plain": [
       "dict_keys(['oceanbuoys_df', 'pedestrian_df', 'riskfactors_df'])"
      ]
     },
     "execution_count": 9,
     "metadata": {},
     "output_type": "execute_result"
    }
   ],
   "source": [
    "datasets_dfs = {} # diccionario que almacena los archivos descargados\n",
    "\n",
    "for dataset_name in datasets_names:\n",
    "\n",
    "    dataset_file = f'{ dataset_name }{ extension }' # almacena el nombre de cada archivo con su respectiva extension\n",
    "    dataset_output_file = f'./data/{ dataset_file }' # ruta y nombre donde se guarda los arhcivos\n",
    "    dataset_url = f'{ datos_url }{ dataset_file }' # url de cada archivo a descargar\n",
    "\n",
    "    !wget -q -O { dataset_output_file } { dataset_url } # linea que descarga los archivos\n",
    "\n",
    "    # almacenar en el diccionario los archivos descargados\n",
    "    datasets_dfs[f'{ dataset_name }_df'] = pyreadr.read_r(dataset_output_file).get(dataset_name)\n",
    "\n",
    "# accede a las llaves del diccionario para verificar que los archivos se hayan cargado\n",
    "datasets_dfs.keys()"
   ]
  },
  {
   "attachments": {},
   "cell_type": "markdown",
   "metadata": {},
   "source": [
    "#### 3. Incluir conjunto de datos en nuestro ambiente local"
   ]
  },
  {
   "cell_type": "code",
   "execution_count": 10,
   "metadata": {},
   "outputs": [],
   "source": [
    "locals().update(**datasets_dfs)\n",
    "del datasets_dfs # elimina el diccionario dejando los archivos df"
   ]
  },
  {
   "cell_type": "code",
   "execution_count": 11,
   "metadata": {},
   "outputs": [
    {
     "data": {
      "text/plain": [
       "((245, 34), (736, 8), (37700, 9))"
      ]
     },
     "execution_count": 11,
     "metadata": {},
     "output_type": "execute_result"
    }
   ],
   "source": [
    "riskfactors_df.shape, oceanbuoys_df.shape, pedestrian_df.shape"
   ]
  },
  {
   "attachments": {},
   "cell_type": "markdown",
   "metadata": {},
   "source": [
    "De esta manera podemos obtener varios archivos desde una URL y convertirlos en DataFrame para su procesamiento. El siguiente analisis de valores faltantes se haran sobre el dataframe de factores de riesgo "
   ]
  },
  {
   "attachments": {},
   "cell_type": "markdown",
   "metadata": {},
   "source": [
    "### Resumen Basico de Valores Faltantes"
   ]
  },
  {
   "cell_type": "code",
   "execution_count": 12,
   "metadata": {},
   "outputs": [
    {
     "data": {
      "text/plain": [
       "(245, 34)"
      ]
     },
     "execution_count": 12,
     "metadata": {},
     "output_type": "execute_result"
    }
   ],
   "source": [
    "# tamano del df\n",
    "riskfactors_df.shape"
   ]
  },
  {
   "cell_type": "code",
   "execution_count": 21,
   "metadata": {},
   "outputs": [
    {
     "data": {
      "text/plain": [
       "8330"
      ]
     },
     "execution_count": 21,
     "metadata": {},
     "output_type": "execute_result"
    }
   ],
   "source": [
    "# Cantidad de valores en el dataframe\n",
    "total = 245*34\n",
    "total"
   ]
  },
  {
   "cell_type": "code",
   "execution_count": 22,
   "metadata": {},
   "outputs": [
    {
     "data": {
      "text/plain": [
       "7144"
      ]
     },
     "execution_count": 22,
     "metadata": {},
     "output_type": "execute_result"
    }
   ],
   "source": [
    "# Cantidad de valores completos\n",
    "v_completo = riskfactors_df.missing.number_complete()\n",
    "v_completo"
   ]
  },
  {
   "cell_type": "code",
   "execution_count": 24,
   "metadata": {},
   "outputs": [
    {
     "data": {
      "text/plain": [
       "1186"
      ]
     },
     "execution_count": 24,
     "metadata": {},
     "output_type": "execute_result"
    }
   ],
   "source": [
    "# Cantidad de valores faltantes\n",
    "v_faltantes = riskfactors_df.missing.number_missing()\n",
    "v_faltantes"
   ]
  },
  {
   "cell_type": "code",
   "execution_count": 25,
   "metadata": {},
   "outputs": [
    {
     "data": {
      "text/plain": [
       "16.601343784994402"
      ]
     },
     "execution_count": 25,
     "metadata": {},
     "output_type": "execute_result"
    }
   ],
   "source": [
    "# Porcentaje de valores faltantes en el dataframe\n",
    "pct_v = (v_faltantes/v_completo)*100\n",
    "pct_v"
   ]
  },
  {
   "attachments": {},
   "cell_type": "markdown",
   "metadata": {},
   "source": [
    "Los calculos indican que el 16.6% de los datos son valores faltantes, lo cual puede llevar a resultados erroneos si no se toma en cuenta esta deficiencia en los datos."
   ]
  },
  {
   "cell_type": "code",
   "execution_count": 15,
   "metadata": {},
   "outputs": [
    {
     "data": {
      "text/html": [
       "<div>\n",
       "<style scoped>\n",
       "    .dataframe tbody tr th:only-of-type {\n",
       "        vertical-align: middle;\n",
       "    }\n",
       "\n",
       "    .dataframe tbody tr th {\n",
       "        vertical-align: top;\n",
       "    }\n",
       "\n",
       "    .dataframe thead th {\n",
       "        text-align: right;\n",
       "    }\n",
       "</style>\n",
       "<table border=\"1\" class=\"dataframe\">\n",
       "  <thead>\n",
       "    <tr style=\"text-align: right;\">\n",
       "      <th></th>\n",
       "      <th>variable</th>\n",
       "      <th>n_missing</th>\n",
       "      <th>n_cases</th>\n",
       "      <th>pct_missing</th>\n",
       "    </tr>\n",
       "  </thead>\n",
       "  <tbody>\n",
       "    <tr>\n",
       "      <th>0</th>\n",
       "      <td>state</td>\n",
       "      <td>0</td>\n",
       "      <td>245</td>\n",
       "      <td>0.000000</td>\n",
       "    </tr>\n",
       "    <tr>\n",
       "      <th>1</th>\n",
       "      <td>sex</td>\n",
       "      <td>0</td>\n",
       "      <td>245</td>\n",
       "      <td>0.000000</td>\n",
       "    </tr>\n",
       "    <tr>\n",
       "      <th>2</th>\n",
       "      <td>age</td>\n",
       "      <td>0</td>\n",
       "      <td>245</td>\n",
       "      <td>0.000000</td>\n",
       "    </tr>\n",
       "    <tr>\n",
       "      <th>3</th>\n",
       "      <td>weight_lbs</td>\n",
       "      <td>10</td>\n",
       "      <td>245</td>\n",
       "      <td>4.081633</td>\n",
       "    </tr>\n",
       "    <tr>\n",
       "      <th>4</th>\n",
       "      <td>height_inch</td>\n",
       "      <td>2</td>\n",
       "      <td>245</td>\n",
       "      <td>0.816327</td>\n",
       "    </tr>\n",
       "    <tr>\n",
       "      <th>5</th>\n",
       "      <td>bmi</td>\n",
       "      <td>11</td>\n",
       "      <td>245</td>\n",
       "      <td>4.489796</td>\n",
       "    </tr>\n",
       "    <tr>\n",
       "      <th>6</th>\n",
       "      <td>marital</td>\n",
       "      <td>1</td>\n",
       "      <td>245</td>\n",
       "      <td>0.408163</td>\n",
       "    </tr>\n",
       "    <tr>\n",
       "      <th>7</th>\n",
       "      <td>pregnant</td>\n",
       "      <td>215</td>\n",
       "      <td>245</td>\n",
       "      <td>87.755102</td>\n",
       "    </tr>\n",
       "    <tr>\n",
       "      <th>8</th>\n",
       "      <td>children</td>\n",
       "      <td>0</td>\n",
       "      <td>245</td>\n",
       "      <td>0.000000</td>\n",
       "    </tr>\n",
       "    <tr>\n",
       "      <th>9</th>\n",
       "      <td>education</td>\n",
       "      <td>1</td>\n",
       "      <td>245</td>\n",
       "      <td>0.408163</td>\n",
       "    </tr>\n",
       "    <tr>\n",
       "      <th>10</th>\n",
       "      <td>employment</td>\n",
       "      <td>0</td>\n",
       "      <td>245</td>\n",
       "      <td>0.000000</td>\n",
       "    </tr>\n",
       "    <tr>\n",
       "      <th>11</th>\n",
       "      <td>income</td>\n",
       "      <td>0</td>\n",
       "      <td>245</td>\n",
       "      <td>0.000000</td>\n",
       "    </tr>\n",
       "    <tr>\n",
       "      <th>12</th>\n",
       "      <td>veteran</td>\n",
       "      <td>3</td>\n",
       "      <td>245</td>\n",
       "      <td>1.224490</td>\n",
       "    </tr>\n",
       "    <tr>\n",
       "      <th>13</th>\n",
       "      <td>hispanic</td>\n",
       "      <td>2</td>\n",
       "      <td>245</td>\n",
       "      <td>0.816327</td>\n",
       "    </tr>\n",
       "    <tr>\n",
       "      <th>14</th>\n",
       "      <td>health_general</td>\n",
       "      <td>0</td>\n",
       "      <td>245</td>\n",
       "      <td>0.000000</td>\n",
       "    </tr>\n",
       "    <tr>\n",
       "      <th>15</th>\n",
       "      <td>health_physical</td>\n",
       "      <td>0</td>\n",
       "      <td>245</td>\n",
       "      <td>0.000000</td>\n",
       "    </tr>\n",
       "    <tr>\n",
       "      <th>16</th>\n",
       "      <td>health_mental</td>\n",
       "      <td>0</td>\n",
       "      <td>245</td>\n",
       "      <td>0.000000</td>\n",
       "    </tr>\n",
       "    <tr>\n",
       "      <th>17</th>\n",
       "      <td>health_poor</td>\n",
       "      <td>113</td>\n",
       "      <td>245</td>\n",
       "      <td>46.122449</td>\n",
       "    </tr>\n",
       "    <tr>\n",
       "      <th>18</th>\n",
       "      <td>health_cover</td>\n",
       "      <td>0</td>\n",
       "      <td>245</td>\n",
       "      <td>0.000000</td>\n",
       "    </tr>\n",
       "    <tr>\n",
       "      <th>19</th>\n",
       "      <td>provide_care</td>\n",
       "      <td>3</td>\n",
       "      <td>245</td>\n",
       "      <td>1.224490</td>\n",
       "    </tr>\n",
       "    <tr>\n",
       "      <th>20</th>\n",
       "      <td>activity_limited</td>\n",
       "      <td>3</td>\n",
       "      <td>245</td>\n",
       "      <td>1.224490</td>\n",
       "    </tr>\n",
       "    <tr>\n",
       "      <th>21</th>\n",
       "      <td>drink_any</td>\n",
       "      <td>2</td>\n",
       "      <td>245</td>\n",
       "      <td>0.816327</td>\n",
       "    </tr>\n",
       "    <tr>\n",
       "      <th>22</th>\n",
       "      <td>drink_days</td>\n",
       "      <td>134</td>\n",
       "      <td>245</td>\n",
       "      <td>54.693878</td>\n",
       "    </tr>\n",
       "    <tr>\n",
       "      <th>23</th>\n",
       "      <td>drink_average</td>\n",
       "      <td>135</td>\n",
       "      <td>245</td>\n",
       "      <td>55.102041</td>\n",
       "    </tr>\n",
       "    <tr>\n",
       "      <th>24</th>\n",
       "      <td>smoke_100</td>\n",
       "      <td>2</td>\n",
       "      <td>245</td>\n",
       "      <td>0.816327</td>\n",
       "    </tr>\n",
       "    <tr>\n",
       "      <th>25</th>\n",
       "      <td>smoke_days</td>\n",
       "      <td>128</td>\n",
       "      <td>245</td>\n",
       "      <td>52.244898</td>\n",
       "    </tr>\n",
       "    <tr>\n",
       "      <th>26</th>\n",
       "      <td>smoke_stop</td>\n",
       "      <td>212</td>\n",
       "      <td>245</td>\n",
       "      <td>86.530612</td>\n",
       "    </tr>\n",
       "    <tr>\n",
       "      <th>27</th>\n",
       "      <td>smoke_last</td>\n",
       "      <td>161</td>\n",
       "      <td>245</td>\n",
       "      <td>65.714286</td>\n",
       "    </tr>\n",
       "    <tr>\n",
       "      <th>28</th>\n",
       "      <td>diet_fruit</td>\n",
       "      <td>8</td>\n",
       "      <td>245</td>\n",
       "      <td>3.265306</td>\n",
       "    </tr>\n",
       "    <tr>\n",
       "      <th>29</th>\n",
       "      <td>diet_salad</td>\n",
       "      <td>8</td>\n",
       "      <td>245</td>\n",
       "      <td>3.265306</td>\n",
       "    </tr>\n",
       "    <tr>\n",
       "      <th>30</th>\n",
       "      <td>diet_potato</td>\n",
       "      <td>8</td>\n",
       "      <td>245</td>\n",
       "      <td>3.265306</td>\n",
       "    </tr>\n",
       "    <tr>\n",
       "      <th>31</th>\n",
       "      <td>diet_carrot</td>\n",
       "      <td>8</td>\n",
       "      <td>245</td>\n",
       "      <td>3.265306</td>\n",
       "    </tr>\n",
       "    <tr>\n",
       "      <th>32</th>\n",
       "      <td>diet_vegetable</td>\n",
       "      <td>8</td>\n",
       "      <td>245</td>\n",
       "      <td>3.265306</td>\n",
       "    </tr>\n",
       "    <tr>\n",
       "      <th>33</th>\n",
       "      <td>diet_juice</td>\n",
       "      <td>8</td>\n",
       "      <td>245</td>\n",
       "      <td>3.265306</td>\n",
       "    </tr>\n",
       "  </tbody>\n",
       "</table>\n",
       "</div>"
      ],
      "text/plain": [
       "            variable  n_missing  n_cases  pct_missing\n",
       "0              state          0      245     0.000000\n",
       "1                sex          0      245     0.000000\n",
       "2                age          0      245     0.000000\n",
       "3         weight_lbs         10      245     4.081633\n",
       "4        height_inch          2      245     0.816327\n",
       "5                bmi         11      245     4.489796\n",
       "6            marital          1      245     0.408163\n",
       "7           pregnant        215      245    87.755102\n",
       "8           children          0      245     0.000000\n",
       "9          education          1      245     0.408163\n",
       "10        employment          0      245     0.000000\n",
       "11            income          0      245     0.000000\n",
       "12           veteran          3      245     1.224490\n",
       "13          hispanic          2      245     0.816327\n",
       "14    health_general          0      245     0.000000\n",
       "15   health_physical          0      245     0.000000\n",
       "16     health_mental          0      245     0.000000\n",
       "17       health_poor        113      245    46.122449\n",
       "18      health_cover          0      245     0.000000\n",
       "19      provide_care          3      245     1.224490\n",
       "20  activity_limited          3      245     1.224490\n",
       "21         drink_any          2      245     0.816327\n",
       "22        drink_days        134      245    54.693878\n",
       "23     drink_average        135      245    55.102041\n",
       "24         smoke_100          2      245     0.816327\n",
       "25        smoke_days        128      245    52.244898\n",
       "26        smoke_stop        212      245    86.530612\n",
       "27        smoke_last        161      245    65.714286\n",
       "28        diet_fruit          8      245     3.265306\n",
       "29        diet_salad          8      245     3.265306\n",
       "30       diet_potato          8      245     3.265306\n",
       "31       diet_carrot          8      245     3.265306\n",
       "32    diet_vegetable          8      245     3.265306\n",
       "33        diet_juice          8      245     3.265306"
      ]
     },
     "execution_count": 15,
     "metadata": {},
     "output_type": "execute_result"
    }
   ],
   "source": [
    "# Estadistica por variable de valores faltantes\n",
    "riskfactors_df.missing.missing_variable_summary()"
   ]
  },
  {
   "cell_type": "code",
   "execution_count": 19,
   "metadata": {},
   "outputs": [
    {
     "data": {
      "text/html": [
       "<div>\n",
       "<style scoped>\n",
       "    .dataframe tbody tr th:only-of-type {\n",
       "        vertical-align: middle;\n",
       "    }\n",
       "\n",
       "    .dataframe tbody tr th {\n",
       "        vertical-align: top;\n",
       "    }\n",
       "\n",
       "    .dataframe thead th {\n",
       "        text-align: right;\n",
       "    }\n",
       "</style>\n",
       "<table border=\"1\" class=\"dataframe\">\n",
       "  <thead>\n",
       "    <tr style=\"text-align: right;\">\n",
       "      <th></th>\n",
       "      <th>n_missing_in_variable</th>\n",
       "      <th>n_variables</th>\n",
       "      <th>pct_variables</th>\n",
       "    </tr>\n",
       "  </thead>\n",
       "  <tbody>\n",
       "    <tr>\n",
       "      <th>0</th>\n",
       "      <td>0</td>\n",
       "      <td>10</td>\n",
       "      <td>29.411765</td>\n",
       "    </tr>\n",
       "    <tr>\n",
       "      <th>1</th>\n",
       "      <td>8</td>\n",
       "      <td>6</td>\n",
       "      <td>17.647059</td>\n",
       "    </tr>\n",
       "    <tr>\n",
       "      <th>2</th>\n",
       "      <td>2</td>\n",
       "      <td>4</td>\n",
       "      <td>11.764706</td>\n",
       "    </tr>\n",
       "    <tr>\n",
       "      <th>3</th>\n",
       "      <td>3</td>\n",
       "      <td>3</td>\n",
       "      <td>8.823529</td>\n",
       "    </tr>\n",
       "    <tr>\n",
       "      <th>4</th>\n",
       "      <td>1</td>\n",
       "      <td>2</td>\n",
       "      <td>5.882353</td>\n",
       "    </tr>\n",
       "    <tr>\n",
       "      <th>5</th>\n",
       "      <td>10</td>\n",
       "      <td>1</td>\n",
       "      <td>2.941176</td>\n",
       "    </tr>\n",
       "    <tr>\n",
       "      <th>6</th>\n",
       "      <td>11</td>\n",
       "      <td>1</td>\n",
       "      <td>2.941176</td>\n",
       "    </tr>\n",
       "    <tr>\n",
       "      <th>7</th>\n",
       "      <td>113</td>\n",
       "      <td>1</td>\n",
       "      <td>2.941176</td>\n",
       "    </tr>\n",
       "    <tr>\n",
       "      <th>8</th>\n",
       "      <td>128</td>\n",
       "      <td>1</td>\n",
       "      <td>2.941176</td>\n",
       "    </tr>\n",
       "    <tr>\n",
       "      <th>9</th>\n",
       "      <td>134</td>\n",
       "      <td>1</td>\n",
       "      <td>2.941176</td>\n",
       "    </tr>\n",
       "    <tr>\n",
       "      <th>10</th>\n",
       "      <td>135</td>\n",
       "      <td>1</td>\n",
       "      <td>2.941176</td>\n",
       "    </tr>\n",
       "    <tr>\n",
       "      <th>11</th>\n",
       "      <td>161</td>\n",
       "      <td>1</td>\n",
       "      <td>2.941176</td>\n",
       "    </tr>\n",
       "    <tr>\n",
       "      <th>12</th>\n",
       "      <td>212</td>\n",
       "      <td>1</td>\n",
       "      <td>2.941176</td>\n",
       "    </tr>\n",
       "    <tr>\n",
       "      <th>13</th>\n",
       "      <td>215</td>\n",
       "      <td>1</td>\n",
       "      <td>2.941176</td>\n",
       "    </tr>\n",
       "  </tbody>\n",
       "</table>\n",
       "</div>"
      ],
      "text/plain": [
       "    n_missing_in_variable  n_variables  pct_variables\n",
       "0                       0           10      29.411765\n",
       "1                       8            6      17.647059\n",
       "2                       2            4      11.764706\n",
       "3                       3            3       8.823529\n",
       "4                       1            2       5.882353\n",
       "5                      10            1       2.941176\n",
       "6                      11            1       2.941176\n",
       "7                     113            1       2.941176\n",
       "8                     128            1       2.941176\n",
       "9                     134            1       2.941176\n",
       "10                    135            1       2.941176\n",
       "11                    161            1       2.941176\n",
       "12                    212            1       2.941176\n",
       "13                    215            1       2.941176"
      ]
     },
     "execution_count": 19,
     "metadata": {},
     "output_type": "execute_result"
    }
   ],
   "source": [
    "# Estadistica de valores faltantes sobre las variables tabuladas\n",
    "riskfactors_df.missing.missing_variable_table()"
   ]
  }
 ],
 "metadata": {
  "kernelspec": {
   "display_name": "data",
   "language": "python",
   "name": "python3"
  },
  "language_info": {
   "codemirror_mode": {
    "name": "ipython",
    "version": 3
   },
   "file_extension": ".py",
   "mimetype": "text/x-python",
   "name": "python",
   "nbconvert_exporter": "python",
   "pygments_lexer": "ipython3",
   "version": "3.10.8"
  },
  "orig_nbformat": 4,
  "vscode": {
   "interpreter": {
    "hash": "8700f991acee7685058f9a56c7736eced6bd630c9083b6b688b4e6e79ecaa63b"
   }
  }
 },
 "nbformat": 4,
 "nbformat_minor": 2
}
