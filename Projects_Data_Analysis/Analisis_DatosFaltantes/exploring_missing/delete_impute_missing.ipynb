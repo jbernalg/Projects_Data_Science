{
 "cells": [
  {
   "cell_type": "markdown",
   "metadata": {},
   "source": [
    "# Eliminacion e Imputacion de Valores Faltantes"
   ]
  },
  {
   "cell_type": "markdown",
   "metadata": {},
   "source": [
    "## Librerias"
   ]
  },
  {
   "cell_type": "code",
   "execution_count": 11,
   "metadata": {},
   "outputs": [],
   "source": [
    "import pandas as pd\n",
    "import numpy as np\n",
    "import seaborn as sns\n",
    "import missingno"
   ]
  },
  {
   "cell_type": "markdown",
   "metadata": {},
   "source": [
    "## Cargar Datos"
   ]
  },
  {
   "cell_type": "markdown",
   "metadata": {},
   "source": [
    "Conjunto de datos referentes a encuestas de salud sobre la población de EE.UU. Archivo de tipo csv ubicado en la carpeta data. Contiene 34 variables y 245 observaciones"
   ]
  },
  {
   "cell_type": "code",
   "execution_count": 12,
   "metadata": {},
   "outputs": [
    {
     "data": {
      "text/html": [
       "<div>\n",
       "<style scoped>\n",
       "    .dataframe tbody tr th:only-of-type {\n",
       "        vertical-align: middle;\n",
       "    }\n",
       "\n",
       "    .dataframe tbody tr th {\n",
       "        vertical-align: top;\n",
       "    }\n",
       "\n",
       "    .dataframe thead th {\n",
       "        text-align: right;\n",
       "    }\n",
       "</style>\n",
       "<table border=\"1\" class=\"dataframe\">\n",
       "  <thead>\n",
       "    <tr style=\"text-align: right;\">\n",
       "      <th></th>\n",
       "      <th>state</th>\n",
       "      <th>sex</th>\n",
       "      <th>age</th>\n",
       "      <th>weight_lbs</th>\n",
       "      <th>height_inch</th>\n",
       "      <th>bmi</th>\n",
       "      <th>marital</th>\n",
       "      <th>pregnant</th>\n",
       "      <th>children</th>\n",
       "      <th>education</th>\n",
       "      <th>...</th>\n",
       "      <th>smoke_100</th>\n",
       "      <th>smoke_days</th>\n",
       "      <th>smoke_stop</th>\n",
       "      <th>smoke_last</th>\n",
       "      <th>diet_fruit</th>\n",
       "      <th>diet_salad</th>\n",
       "      <th>diet_potato</th>\n",
       "      <th>diet_carrot</th>\n",
       "      <th>diet_vegetable</th>\n",
       "      <th>diet_juice</th>\n",
       "    </tr>\n",
       "  </thead>\n",
       "  <tbody>\n",
       "    <tr>\n",
       "      <th>0</th>\n",
       "      <td>26</td>\n",
       "      <td>Female</td>\n",
       "      <td>49</td>\n",
       "      <td>190.0</td>\n",
       "      <td>64.0</td>\n",
       "      <td>32.68</td>\n",
       "      <td>Married</td>\n",
       "      <td>NaN</td>\n",
       "      <td>0</td>\n",
       "      <td>6.0</td>\n",
       "      <td>...</td>\n",
       "      <td>No</td>\n",
       "      <td>NaN</td>\n",
       "      <td>NaN</td>\n",
       "      <td>NaN</td>\n",
       "      <td>1095.0</td>\n",
       "      <td>261.0</td>\n",
       "      <td>104.0</td>\n",
       "      <td>156.0</td>\n",
       "      <td>521.0</td>\n",
       "      <td>12.0</td>\n",
       "    </tr>\n",
       "    <tr>\n",
       "      <th>1</th>\n",
       "      <td>40</td>\n",
       "      <td>Female</td>\n",
       "      <td>48</td>\n",
       "      <td>170.0</td>\n",
       "      <td>68.0</td>\n",
       "      <td>25.90</td>\n",
       "      <td>Divorced</td>\n",
       "      <td>NaN</td>\n",
       "      <td>0</td>\n",
       "      <td>5.0</td>\n",
       "      <td>...</td>\n",
       "      <td>No</td>\n",
       "      <td>NaN</td>\n",
       "      <td>NaN</td>\n",
       "      <td>NaN</td>\n",
       "      <td>52.0</td>\n",
       "      <td>209.0</td>\n",
       "      <td>52.0</td>\n",
       "      <td>0.0</td>\n",
       "      <td>52.0</td>\n",
       "      <td>0.0</td>\n",
       "    </tr>\n",
       "    <tr>\n",
       "      <th>2</th>\n",
       "      <td>72</td>\n",
       "      <td>Female</td>\n",
       "      <td>55</td>\n",
       "      <td>163.0</td>\n",
       "      <td>64.0</td>\n",
       "      <td>28.04</td>\n",
       "      <td>Married</td>\n",
       "      <td>NaN</td>\n",
       "      <td>0</td>\n",
       "      <td>4.0</td>\n",
       "      <td>...</td>\n",
       "      <td>No</td>\n",
       "      <td>NaN</td>\n",
       "      <td>NaN</td>\n",
       "      <td>NaN</td>\n",
       "      <td>36.0</td>\n",
       "      <td>156.0</td>\n",
       "      <td>52.0</td>\n",
       "      <td>24.0</td>\n",
       "      <td>24.0</td>\n",
       "      <td>24.0</td>\n",
       "    </tr>\n",
       "    <tr>\n",
       "      <th>3</th>\n",
       "      <td>42</td>\n",
       "      <td>Male</td>\n",
       "      <td>42</td>\n",
       "      <td>230.0</td>\n",
       "      <td>74.0</td>\n",
       "      <td>29.59</td>\n",
       "      <td>Married</td>\n",
       "      <td>NaN</td>\n",
       "      <td>1</td>\n",
       "      <td>6.0</td>\n",
       "      <td>...</td>\n",
       "      <td>No</td>\n",
       "      <td>NaN</td>\n",
       "      <td>NaN</td>\n",
       "      <td>NaN</td>\n",
       "      <td>NaN</td>\n",
       "      <td>NaN</td>\n",
       "      <td>NaN</td>\n",
       "      <td>NaN</td>\n",
       "      <td>NaN</td>\n",
       "      <td>NaN</td>\n",
       "    </tr>\n",
       "    <tr>\n",
       "      <th>4</th>\n",
       "      <td>32</td>\n",
       "      <td>Female</td>\n",
       "      <td>66</td>\n",
       "      <td>135.0</td>\n",
       "      <td>62.0</td>\n",
       "      <td>24.74</td>\n",
       "      <td>Widowed</td>\n",
       "      <td>NaN</td>\n",
       "      <td>0</td>\n",
       "      <td>5.0</td>\n",
       "      <td>...</td>\n",
       "      <td>Yes</td>\n",
       "      <td>Everyday</td>\n",
       "      <td>Yes</td>\n",
       "      <td>NaN</td>\n",
       "      <td>-7.0</td>\n",
       "      <td>261.0</td>\n",
       "      <td>209.0</td>\n",
       "      <td>261.0</td>\n",
       "      <td>365.0</td>\n",
       "      <td>104.0</td>\n",
       "    </tr>\n",
       "    <tr>\n",
       "      <th>...</th>\n",
       "      <td>...</td>\n",
       "      <td>...</td>\n",
       "      <td>...</td>\n",
       "      <td>...</td>\n",
       "      <td>...</td>\n",
       "      <td>...</td>\n",
       "      <td>...</td>\n",
       "      <td>...</td>\n",
       "      <td>...</td>\n",
       "      <td>...</td>\n",
       "      <td>...</td>\n",
       "      <td>...</td>\n",
       "      <td>...</td>\n",
       "      <td>...</td>\n",
       "      <td>...</td>\n",
       "      <td>...</td>\n",
       "      <td>...</td>\n",
       "      <td>...</td>\n",
       "      <td>...</td>\n",
       "      <td>...</td>\n",
       "      <td>...</td>\n",
       "    </tr>\n",
       "    <tr>\n",
       "      <th>240</th>\n",
       "      <td>10</td>\n",
       "      <td>Female</td>\n",
       "      <td>79</td>\n",
       "      <td>144.0</td>\n",
       "      <td>63.0</td>\n",
       "      <td>25.56</td>\n",
       "      <td>Widowed</td>\n",
       "      <td>NaN</td>\n",
       "      <td>0</td>\n",
       "      <td>4.0</td>\n",
       "      <td>...</td>\n",
       "      <td>No</td>\n",
       "      <td>NaN</td>\n",
       "      <td>NaN</td>\n",
       "      <td>NaN</td>\n",
       "      <td>-7.0</td>\n",
       "      <td>-7.0</td>\n",
       "      <td>-7.0</td>\n",
       "      <td>-7.0</td>\n",
       "      <td>-7.0</td>\n",
       "      <td>-7.0</td>\n",
       "    </tr>\n",
       "    <tr>\n",
       "      <th>241</th>\n",
       "      <td>46</td>\n",
       "      <td>Male</td>\n",
       "      <td>45</td>\n",
       "      <td>170.0</td>\n",
       "      <td>74.0</td>\n",
       "      <td>21.87</td>\n",
       "      <td>Divorced</td>\n",
       "      <td>NaN</td>\n",
       "      <td>2</td>\n",
       "      <td>4.0</td>\n",
       "      <td>...</td>\n",
       "      <td>No</td>\n",
       "      <td>NaN</td>\n",
       "      <td>NaN</td>\n",
       "      <td>NaN</td>\n",
       "      <td>52.0</td>\n",
       "      <td>52.0</td>\n",
       "      <td>52.0</td>\n",
       "      <td>24.0</td>\n",
       "      <td>52.0</td>\n",
       "      <td>24.0</td>\n",
       "    </tr>\n",
       "    <tr>\n",
       "      <th>242</th>\n",
       "      <td>15</td>\n",
       "      <td>Male</td>\n",
       "      <td>62</td>\n",
       "      <td>175.0</td>\n",
       "      <td>71.0</td>\n",
       "      <td>24.46</td>\n",
       "      <td>Divorced</td>\n",
       "      <td>NaN</td>\n",
       "      <td>0</td>\n",
       "      <td>6.0</td>\n",
       "      <td>...</td>\n",
       "      <td>Yes</td>\n",
       "      <td>Not@All</td>\n",
       "      <td>NaN</td>\n",
       "      <td>7.0</td>\n",
       "      <td>365.0</td>\n",
       "      <td>156.0</td>\n",
       "      <td>104.0</td>\n",
       "      <td>52.0</td>\n",
       "      <td>730.0</td>\n",
       "      <td>365.0</td>\n",
       "    </tr>\n",
       "    <tr>\n",
       "      <th>243</th>\n",
       "      <td>34</td>\n",
       "      <td>Female</td>\n",
       "      <td>62</td>\n",
       "      <td>138.0</td>\n",
       "      <td>64.0</td>\n",
       "      <td>23.74</td>\n",
       "      <td>Married</td>\n",
       "      <td>NaN</td>\n",
       "      <td>0</td>\n",
       "      <td>4.0</td>\n",
       "      <td>...</td>\n",
       "      <td>Yes</td>\n",
       "      <td>Everyday</td>\n",
       "      <td>No</td>\n",
       "      <td>NaN</td>\n",
       "      <td>730.0</td>\n",
       "      <td>0.0</td>\n",
       "      <td>24.0</td>\n",
       "      <td>156.0</td>\n",
       "      <td>104.0</td>\n",
       "      <td>0.0</td>\n",
       "    </tr>\n",
       "    <tr>\n",
       "      <th>244</th>\n",
       "      <td>18</td>\n",
       "      <td>Male</td>\n",
       "      <td>9</td>\n",
       "      <td>200.0</td>\n",
       "      <td>70.0</td>\n",
       "      <td>28.76</td>\n",
       "      <td>Married</td>\n",
       "      <td>NaN</td>\n",
       "      <td>0</td>\n",
       "      <td>4.0</td>\n",
       "      <td>...</td>\n",
       "      <td>Yes</td>\n",
       "      <td>Not@All</td>\n",
       "      <td>NaN</td>\n",
       "      <td>7.0</td>\n",
       "      <td>52.0</td>\n",
       "      <td>104.0</td>\n",
       "      <td>52.0</td>\n",
       "      <td>0.0</td>\n",
       "      <td>104.0</td>\n",
       "      <td>104.0</td>\n",
       "    </tr>\n",
       "  </tbody>\n",
       "</table>\n",
       "<p>245 rows × 34 columns</p>\n",
       "</div>"
      ],
      "text/plain": [
       "     state     sex  age  weight_lbs  height_inch    bmi   marital pregnant  \\\n",
       "0       26  Female   49       190.0         64.0  32.68   Married      NaN   \n",
       "1       40  Female   48       170.0         68.0  25.90  Divorced      NaN   \n",
       "2       72  Female   55       163.0         64.0  28.04   Married      NaN   \n",
       "3       42    Male   42       230.0         74.0  29.59   Married      NaN   \n",
       "4       32  Female   66       135.0         62.0  24.74   Widowed      NaN   \n",
       "..     ...     ...  ...         ...          ...    ...       ...      ...   \n",
       "240     10  Female   79       144.0         63.0  25.56   Widowed      NaN   \n",
       "241     46    Male   45       170.0         74.0  21.87  Divorced      NaN   \n",
       "242     15    Male   62       175.0         71.0  24.46  Divorced      NaN   \n",
       "243     34  Female   62       138.0         64.0  23.74   Married      NaN   \n",
       "244     18    Male    9       200.0         70.0  28.76   Married      NaN   \n",
       "\n",
       "     children  education  ...  smoke_100 smoke_days  smoke_stop smoke_last  \\\n",
       "0           0        6.0  ...         No        NaN         NaN        NaN   \n",
       "1           0        5.0  ...         No        NaN         NaN        NaN   \n",
       "2           0        4.0  ...         No        NaN         NaN        NaN   \n",
       "3           1        6.0  ...         No        NaN         NaN        NaN   \n",
       "4           0        5.0  ...        Yes   Everyday         Yes        NaN   \n",
       "..        ...        ...  ...        ...        ...         ...        ...   \n",
       "240         0        4.0  ...         No        NaN         NaN        NaN   \n",
       "241         2        4.0  ...         No        NaN         NaN        NaN   \n",
       "242         0        6.0  ...        Yes    Not@All         NaN        7.0   \n",
       "243         0        4.0  ...        Yes   Everyday          No        NaN   \n",
       "244         0        4.0  ...        Yes    Not@All         NaN        7.0   \n",
       "\n",
       "    diet_fruit  diet_salad  diet_potato  diet_carrot diet_vegetable diet_juice  \n",
       "0       1095.0       261.0        104.0        156.0          521.0       12.0  \n",
       "1         52.0       209.0         52.0          0.0           52.0        0.0  \n",
       "2         36.0       156.0         52.0         24.0           24.0       24.0  \n",
       "3          NaN         NaN          NaN          NaN            NaN        NaN  \n",
       "4         -7.0       261.0        209.0        261.0          365.0      104.0  \n",
       "..         ...         ...          ...          ...            ...        ...  \n",
       "240       -7.0        -7.0         -7.0         -7.0           -7.0       -7.0  \n",
       "241       52.0        52.0         52.0         24.0           52.0       24.0  \n",
       "242      365.0       156.0        104.0         52.0          730.0      365.0  \n",
       "243      730.0         0.0         24.0        156.0          104.0        0.0  \n",
       "244       52.0       104.0         52.0          0.0          104.0      104.0  \n",
       "\n",
       "[245 rows x 34 columns]"
      ]
     },
     "execution_count": 12,
     "metadata": {},
     "output_type": "execute_result"
    }
   ],
   "source": [
    "datos = pd.read_csv('./data/riskfactors.csv')\n",
    "\n",
    "df = pd.DataFrame(datos)\n",
    "\n",
    "df"
   ]
  },
  {
   "cell_type": "markdown",
   "metadata": {},
   "source": [
    "## Eliminacion por pares (Pairwise Deletion)"
   ]
  },
  {
   "cell_type": "markdown",
   "metadata": {},
   "source": [
    "Consiste en eliminar los valores faltantes de una variable. Pandas por defecto omite los valores faltantes de las variables a la hora de realizar un calculo. Veamos el siguiente ejemplo "
   ]
  },
  {
   "cell_type": "code",
   "execution_count": 13,
   "metadata": {},
   "outputs": [
    {
     "data": {
      "text/plain": [
       "10"
      ]
     },
     "execution_count": 13,
     "metadata": {},
     "output_type": "execute_result"
    }
   ],
   "source": [
    "# Cantidad de valores faltantes de la variable weight\n",
    "df.weight_lbs.isna().sum()"
   ]
  },
  {
   "cell_type": "code",
   "execution_count": 14,
   "metadata": {},
   "outputs": [
    {
     "data": {
      "text/plain": [
       "(245, 235)"
      ]
     },
     "execution_count": 14,
     "metadata": {},
     "output_type": "execute_result"
    }
   ],
   "source": [
    "# Cantidad de observaciones de weight VS cantidad de observaciones completas de weight\n",
    "df.weight_lbs.size, df.weight_lbs.count()"
   ]
  },
  {
   "cell_type": "markdown",
   "metadata": {},
   "source": [
    "El resultado indica que hay 245 observaciones para la variable weight de las cuales 235 estan completas."
   ]
  },
  {
   "cell_type": "code",
   "execution_count": 15,
   "metadata": {},
   "outputs": [
    {
     "data": {
      "text/plain": [
       "174.26808510638298"
      ]
     },
     "execution_count": 15,
     "metadata": {},
     "output_type": "execute_result"
    }
   ],
   "source": [
    "# calcular la media de la variable weight\n",
    "(\n",
    "    df\n",
    "    .weight_lbs\n",
    "    .mean()\n",
    ")"
   ]
  },
  {
   "cell_type": "markdown",
   "metadata": {},
   "source": [
    "A pesar que la variable weight posee 10 valores faltantes, Pandas realiza el calculo de la media omitiendo los valores faltantes."
   ]
  },
  {
   "cell_type": "markdown",
   "metadata": {},
   "source": [
    "## Eliminacion por caso completo (Listwise Deletion)"
   ]
  },
  {
   "cell_type": "markdown",
   "metadata": {},
   "source": [
    "Consiste en eliminar las observaciones o registros donde aparezcan un valor faltante en una o  varias variables seleccionadas. En lo que sigue, utilizaremos las variables weight y height"
   ]
  },
  {
   "cell_type": "markdown",
   "metadata": {},
   "source": [
    "### Listwise Deletion en funcion de una variable"
   ]
  },
  {
   "cell_type": "code",
   "execution_count": 16,
   "metadata": {},
   "outputs": [
    {
     "data": {
      "text/plain": [
       "(235, 34)"
      ]
     },
     "execution_count": 16,
     "metadata": {},
     "output_type": "execute_result"
    }
   ],
   "source": [
    "# eliminar los registros con valores faltantes en la variable weight\n",
    "(\n",
    "    df                          # Dataframe\n",
    "    .dropna(\n",
    "        subset=['weight_lbs'],  # variable seleccionada\n",
    "        how='any'               # modo de deteccion\n",
    "    )\n",
    ").shape                         # forma del DataFrame"
   ]
  },
  {
   "cell_type": "markdown",
   "metadata": {},
   "source": [
    "Observamos que fueron eliminados 10 registros los cuales tenian valores faltantes en la variable weight. Para visualizar la variable despues de eliminar los valores faltantes utilizamos el siguiente codigo:"
   ]
  },
  {
   "cell_type": "code",
   "execution_count": 20,
   "metadata": {},
   "outputs": [
    {
     "data": {
      "text/plain": [
       "<AxesSubplot:>"
      ]
     },
     "execution_count": 20,
     "metadata": {},
     "output_type": "execute_result"
    },
    {
     "data": {
      "image/png": "[encoded data removed]",
      "text/plain": [
       "<Figure size 1800x720 with 2 Axes>"
      ]
     },
     "metadata": {
      "needs_background": "light"
     },
     "output_type": "display_data"
    }
   ],
   "source": [
    "(\n",
    "    df                          # Dataframe\n",
    "    .dropna(\n",
    "        subset=['weight_lbs'],  # variable seleccionada\n",
    "        how='any'               # modo de deteccion\n",
    "    )\n",
    "    .loc[:,['weight_lbs']]\n",
    "    .pipe(missingno.matrix)\n",
    ")"
   ]
  },
  {
   "cell_type": "markdown",
   "metadata": {},
   "source": [
    "Notamos que la variable queda limpia de valores faltantes lista para ser trabajada"
   ]
  },
  {
   "cell_type": "markdown",
   "metadata": {},
   "source": [
    "### Listwise Deletion en funcion de dos variables"
   ]
  },
  {
   "cell_type": "markdown",
   "metadata": {},
   "source": [
    "Elimina las observaciones donde hayan valores faltantes en cualquiera de las dos variables seleccionadas"
   ]
  },
  {
   "cell_type": "code",
   "execution_count": 17,
   "metadata": {},
   "outputs": [
    {
     "data": {
      "text/plain": [
       "(234, 34)"
      ]
     },
     "execution_count": 17,
     "metadata": {},
     "output_type": "execute_result"
    }
   ],
   "source": [
    "# eliminar registros donde hayan valores faltantes en weight y height\n",
    "(\n",
    "    df                                          # Dataframe\n",
    "    .dropna(\n",
    "        subset=['weight_lbs', 'height_inch'],   # variables seleccionadas\n",
    "        how='any'                               # modo de deteccion\n",
    "    )\n",
    ").shape                                         # forma del Dataframe"
   ]
  },
  {
   "cell_type": "markdown",
   "metadata": {},
   "source": [
    "Vemos que fueron eliminados 11 registros con valores faltantes en weight y height. Para visualizar ambas variables despues de aplicar el metodo utilizamos el siguiente codigo:"
   ]
  },
  {
   "cell_type": "code",
   "execution_count": 19,
   "metadata": {},
   "outputs": [
    {
     "data": {
      "text/plain": [
       "<AxesSubplot:>"
      ]
     },
     "execution_count": 19,
     "metadata": {},
     "output_type": "execute_result"
    },
    {
     "data": {
      "image/png": "[encoded data removed]",
      "text/plain": [
       "<Figure size 1800x720 with 2 Axes>"
      ]
     },
     "metadata": {
      "needs_background": "light"
     },
     "output_type": "display_data"
    }
   ],
   "source": [
    "# Visualizacion de las variables despues de eliminar los registros\n",
    "(\n",
    "    df\n",
    "    .dropna(\n",
    "        subset=['weight_lbs', 'height_inch'], # variables seleccionadas\n",
    "        how='any'                             # modo de deteccion\n",
    "    )\n",
    "    .loc[:,['weight_lbs', 'height_inch']]     # variables a graficar\n",
    "    .pipe(missingno.matrix)                   # grafica de matriz para ambas variables\n",
    ")"
   ]
  },
  {
   "cell_type": "markdown",
   "metadata": {},
   "source": [
    "Claramente vemos que ambas variables quedan libres de valores faltantes."
   ]
  }
 ],
 "metadata": {
  "kernelspec": {
   "display_name": "data",
   "language": "python",
   "name": "python3"
  },
  "language_info": {
   "codemirror_mode": {
    "name": "ipython",
    "version": 3
   },
   "file_extension": ".py",
   "mimetype": "text/x-python",
   "name": "python",
   "nbconvert_exporter": "python",
   "pygments_lexer": "ipython3",
   "version": "3.10.8"
  },
  "orig_nbformat": 4
 },
 "nbformat": 4,
 "nbformat_minor": 2
}
