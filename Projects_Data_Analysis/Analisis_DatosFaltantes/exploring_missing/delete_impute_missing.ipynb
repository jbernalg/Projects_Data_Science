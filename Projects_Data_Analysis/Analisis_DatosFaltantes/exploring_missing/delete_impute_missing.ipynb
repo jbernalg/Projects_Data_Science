{
 "cells": [
  {
   "cell_type": "markdown",
   "metadata": {},
   "source": [
    "# Metodos basicos de Eliminacion e Imputacion de Valores Faltantes"
   ]
  },
  {
   "cell_type": "markdown",
   "metadata": {},
   "source": [
    "## Librerias"
   ]
  },
  {
   "cell_type": "code",
   "execution_count": 81,
   "metadata": {},
   "outputs": [],
   "source": [
    "import pandas as pd\n",
    "import numpy as np\n",
    "import seaborn as sns\n",
    "import missingno\n",
    "import pyreadr"
   ]
  },
  {
   "cell_type": "markdown",
   "metadata": {},
   "source": [
    "## Cargar Datos"
   ]
  },
  {
   "cell_type": "markdown",
   "metadata": {},
   "source": [
    "Conjunto de datos referentes a encuestas de salud sobre la población de EE.UU. Archivo de tipo csv ubicado en la carpeta data. Contiene 34 variables y 245 observaciones"
   ]
  },
  {
   "cell_type": "code",
   "execution_count": 82,
   "metadata": {},
   "outputs": [
    {
     "data": {
      "text/html": [
       "<div>\n",
       "<style scoped>\n",
       "    .dataframe tbody tr th:only-of-type {\n",
       "        vertical-align: middle;\n",
       "    }\n",
       "\n",
       "    .dataframe tbody tr th {\n",
       "        vertical-align: top;\n",
       "    }\n",
       "\n",
       "    .dataframe thead th {\n",
       "        text-align: right;\n",
       "    }\n",
       "</style>\n",
       "<table border=\"1\" class=\"dataframe\">\n",
       "  <thead>\n",
       "    <tr style=\"text-align: right;\">\n",
       "      <th></th>\n",
       "      <th>state</th>\n",
       "      <th>sex</th>\n",
       "      <th>age</th>\n",
       "      <th>weight_lbs</th>\n",
       "      <th>height_inch</th>\n",
       "      <th>bmi</th>\n",
       "      <th>marital</th>\n",
       "      <th>pregnant</th>\n",
       "      <th>children</th>\n",
       "      <th>education</th>\n",
       "      <th>...</th>\n",
       "      <th>smoke_100</th>\n",
       "      <th>smoke_days</th>\n",
       "      <th>smoke_stop</th>\n",
       "      <th>smoke_last</th>\n",
       "      <th>diet_fruit</th>\n",
       "      <th>diet_salad</th>\n",
       "      <th>diet_potato</th>\n",
       "      <th>diet_carrot</th>\n",
       "      <th>diet_vegetable</th>\n",
       "      <th>diet_juice</th>\n",
       "    </tr>\n",
       "  </thead>\n",
       "  <tbody>\n",
       "    <tr>\n",
       "      <th>0</th>\n",
       "      <td>26</td>\n",
       "      <td>Female</td>\n",
       "      <td>49</td>\n",
       "      <td>190.0</td>\n",
       "      <td>64.0</td>\n",
       "      <td>32.68</td>\n",
       "      <td>Married</td>\n",
       "      <td>NaN</td>\n",
       "      <td>0</td>\n",
       "      <td>6.0</td>\n",
       "      <td>...</td>\n",
       "      <td>No</td>\n",
       "      <td>NaN</td>\n",
       "      <td>NaN</td>\n",
       "      <td>NaN</td>\n",
       "      <td>1095.0</td>\n",
       "      <td>261.0</td>\n",
       "      <td>104.0</td>\n",
       "      <td>156.0</td>\n",
       "      <td>521.0</td>\n",
       "      <td>12.0</td>\n",
       "    </tr>\n",
       "    <tr>\n",
       "      <th>1</th>\n",
       "      <td>40</td>\n",
       "      <td>Female</td>\n",
       "      <td>48</td>\n",
       "      <td>170.0</td>\n",
       "      <td>68.0</td>\n",
       "      <td>25.90</td>\n",
       "      <td>Divorced</td>\n",
       "      <td>NaN</td>\n",
       "      <td>0</td>\n",
       "      <td>5.0</td>\n",
       "      <td>...</td>\n",
       "      <td>No</td>\n",
       "      <td>NaN</td>\n",
       "      <td>NaN</td>\n",
       "      <td>NaN</td>\n",
       "      <td>52.0</td>\n",
       "      <td>209.0</td>\n",
       "      <td>52.0</td>\n",
       "      <td>0.0</td>\n",
       "      <td>52.0</td>\n",
       "      <td>0.0</td>\n",
       "    </tr>\n",
       "    <tr>\n",
       "      <th>2</th>\n",
       "      <td>72</td>\n",
       "      <td>Female</td>\n",
       "      <td>55</td>\n",
       "      <td>163.0</td>\n",
       "      <td>64.0</td>\n",
       "      <td>28.04</td>\n",
       "      <td>Married</td>\n",
       "      <td>NaN</td>\n",
       "      <td>0</td>\n",
       "      <td>4.0</td>\n",
       "      <td>...</td>\n",
       "      <td>No</td>\n",
       "      <td>NaN</td>\n",
       "      <td>NaN</td>\n",
       "      <td>NaN</td>\n",
       "      <td>36.0</td>\n",
       "      <td>156.0</td>\n",
       "      <td>52.0</td>\n",
       "      <td>24.0</td>\n",
       "      <td>24.0</td>\n",
       "      <td>24.0</td>\n",
       "    </tr>\n",
       "    <tr>\n",
       "      <th>3</th>\n",
       "      <td>42</td>\n",
       "      <td>Male</td>\n",
       "      <td>42</td>\n",
       "      <td>230.0</td>\n",
       "      <td>74.0</td>\n",
       "      <td>29.59</td>\n",
       "      <td>Married</td>\n",
       "      <td>NaN</td>\n",
       "      <td>1</td>\n",
       "      <td>6.0</td>\n",
       "      <td>...</td>\n",
       "      <td>No</td>\n",
       "      <td>NaN</td>\n",
       "      <td>NaN</td>\n",
       "      <td>NaN</td>\n",
       "      <td>NaN</td>\n",
       "      <td>NaN</td>\n",
       "      <td>NaN</td>\n",
       "      <td>NaN</td>\n",
       "      <td>NaN</td>\n",
       "      <td>NaN</td>\n",
       "    </tr>\n",
       "    <tr>\n",
       "      <th>4</th>\n",
       "      <td>32</td>\n",
       "      <td>Female</td>\n",
       "      <td>66</td>\n",
       "      <td>135.0</td>\n",
       "      <td>62.0</td>\n",
       "      <td>24.74</td>\n",
       "      <td>Widowed</td>\n",
       "      <td>NaN</td>\n",
       "      <td>0</td>\n",
       "      <td>5.0</td>\n",
       "      <td>...</td>\n",
       "      <td>Yes</td>\n",
       "      <td>Everyday</td>\n",
       "      <td>Yes</td>\n",
       "      <td>NaN</td>\n",
       "      <td>-7.0</td>\n",
       "      <td>261.0</td>\n",
       "      <td>209.0</td>\n",
       "      <td>261.0</td>\n",
       "      <td>365.0</td>\n",
       "      <td>104.0</td>\n",
       "    </tr>\n",
       "    <tr>\n",
       "      <th>...</th>\n",
       "      <td>...</td>\n",
       "      <td>...</td>\n",
       "      <td>...</td>\n",
       "      <td>...</td>\n",
       "      <td>...</td>\n",
       "      <td>...</td>\n",
       "      <td>...</td>\n",
       "      <td>...</td>\n",
       "      <td>...</td>\n",
       "      <td>...</td>\n",
       "      <td>...</td>\n",
       "      <td>...</td>\n",
       "      <td>...</td>\n",
       "      <td>...</td>\n",
       "      <td>...</td>\n",
       "      <td>...</td>\n",
       "      <td>...</td>\n",
       "      <td>...</td>\n",
       "      <td>...</td>\n",
       "      <td>...</td>\n",
       "      <td>...</td>\n",
       "    </tr>\n",
       "    <tr>\n",
       "      <th>240</th>\n",
       "      <td>10</td>\n",
       "      <td>Female</td>\n",
       "      <td>79</td>\n",
       "      <td>144.0</td>\n",
       "      <td>63.0</td>\n",
       "      <td>25.56</td>\n",
       "      <td>Widowed</td>\n",
       "      <td>NaN</td>\n",
       "      <td>0</td>\n",
       "      <td>4.0</td>\n",
       "      <td>...</td>\n",
       "      <td>No</td>\n",
       "      <td>NaN</td>\n",
       "      <td>NaN</td>\n",
       "      <td>NaN</td>\n",
       "      <td>-7.0</td>\n",
       "      <td>-7.0</td>\n",
       "      <td>-7.0</td>\n",
       "      <td>-7.0</td>\n",
       "      <td>-7.0</td>\n",
       "      <td>-7.0</td>\n",
       "    </tr>\n",
       "    <tr>\n",
       "      <th>241</th>\n",
       "      <td>46</td>\n",
       "      <td>Male</td>\n",
       "      <td>45</td>\n",
       "      <td>170.0</td>\n",
       "      <td>74.0</td>\n",
       "      <td>21.87</td>\n",
       "      <td>Divorced</td>\n",
       "      <td>NaN</td>\n",
       "      <td>2</td>\n",
       "      <td>4.0</td>\n",
       "      <td>...</td>\n",
       "      <td>No</td>\n",
       "      <td>NaN</td>\n",
       "      <td>NaN</td>\n",
       "      <td>NaN</td>\n",
       "      <td>52.0</td>\n",
       "      <td>52.0</td>\n",
       "      <td>52.0</td>\n",
       "      <td>24.0</td>\n",
       "      <td>52.0</td>\n",
       "      <td>24.0</td>\n",
       "    </tr>\n",
       "    <tr>\n",
       "      <th>242</th>\n",
       "      <td>15</td>\n",
       "      <td>Male</td>\n",
       "      <td>62</td>\n",
       "      <td>175.0</td>\n",
       "      <td>71.0</td>\n",
       "      <td>24.46</td>\n",
       "      <td>Divorced</td>\n",
       "      <td>NaN</td>\n",
       "      <td>0</td>\n",
       "      <td>6.0</td>\n",
       "      <td>...</td>\n",
       "      <td>Yes</td>\n",
       "      <td>Not@All</td>\n",
       "      <td>NaN</td>\n",
       "      <td>7.0</td>\n",
       "      <td>365.0</td>\n",
       "      <td>156.0</td>\n",
       "      <td>104.0</td>\n",
       "      <td>52.0</td>\n",
       "      <td>730.0</td>\n",
       "      <td>365.0</td>\n",
       "    </tr>\n",
       "    <tr>\n",
       "      <th>243</th>\n",
       "      <td>34</td>\n",
       "      <td>Female</td>\n",
       "      <td>62</td>\n",
       "      <td>138.0</td>\n",
       "      <td>64.0</td>\n",
       "      <td>23.74</td>\n",
       "      <td>Married</td>\n",
       "      <td>NaN</td>\n",
       "      <td>0</td>\n",
       "      <td>4.0</td>\n",
       "      <td>...</td>\n",
       "      <td>Yes</td>\n",
       "      <td>Everyday</td>\n",
       "      <td>No</td>\n",
       "      <td>NaN</td>\n",
       "      <td>730.0</td>\n",
       "      <td>0.0</td>\n",
       "      <td>24.0</td>\n",
       "      <td>156.0</td>\n",
       "      <td>104.0</td>\n",
       "      <td>0.0</td>\n",
       "    </tr>\n",
       "    <tr>\n",
       "      <th>244</th>\n",
       "      <td>18</td>\n",
       "      <td>Male</td>\n",
       "      <td>9</td>\n",
       "      <td>200.0</td>\n",
       "      <td>70.0</td>\n",
       "      <td>28.76</td>\n",
       "      <td>Married</td>\n",
       "      <td>NaN</td>\n",
       "      <td>0</td>\n",
       "      <td>4.0</td>\n",
       "      <td>...</td>\n",
       "      <td>Yes</td>\n",
       "      <td>Not@All</td>\n",
       "      <td>NaN</td>\n",
       "      <td>7.0</td>\n",
       "      <td>52.0</td>\n",
       "      <td>104.0</td>\n",
       "      <td>52.0</td>\n",
       "      <td>0.0</td>\n",
       "      <td>104.0</td>\n",
       "      <td>104.0</td>\n",
       "    </tr>\n",
       "  </tbody>\n",
       "</table>\n",
       "<p>245 rows × 34 columns</p>\n",
       "</div>"
      ],
      "text/plain": [
       "     state     sex  age  weight_lbs  height_inch    bmi   marital pregnant  \\\n",
       "0       26  Female   49       190.0         64.0  32.68   Married      NaN   \n",
       "1       40  Female   48       170.0         68.0  25.90  Divorced      NaN   \n",
       "2       72  Female   55       163.0         64.0  28.04   Married      NaN   \n",
       "3       42    Male   42       230.0         74.0  29.59   Married      NaN   \n",
       "4       32  Female   66       135.0         62.0  24.74   Widowed      NaN   \n",
       "..     ...     ...  ...         ...          ...    ...       ...      ...   \n",
       "240     10  Female   79       144.0         63.0  25.56   Widowed      NaN   \n",
       "241     46    Male   45       170.0         74.0  21.87  Divorced      NaN   \n",
       "242     15    Male   62       175.0         71.0  24.46  Divorced      NaN   \n",
       "243     34  Female   62       138.0         64.0  23.74   Married      NaN   \n",
       "244     18    Male    9       200.0         70.0  28.76   Married      NaN   \n",
       "\n",
       "     children  education  ...  smoke_100 smoke_days  smoke_stop smoke_last  \\\n",
       "0           0        6.0  ...         No        NaN         NaN        NaN   \n",
       "1           0        5.0  ...         No        NaN         NaN        NaN   \n",
       "2           0        4.0  ...         No        NaN         NaN        NaN   \n",
       "3           1        6.0  ...         No        NaN         NaN        NaN   \n",
       "4           0        5.0  ...        Yes   Everyday         Yes        NaN   \n",
       "..        ...        ...  ...        ...        ...         ...        ...   \n",
       "240         0        4.0  ...         No        NaN         NaN        NaN   \n",
       "241         2        4.0  ...         No        NaN         NaN        NaN   \n",
       "242         0        6.0  ...        Yes    Not@All         NaN        7.0   \n",
       "243         0        4.0  ...        Yes   Everyday          No        NaN   \n",
       "244         0        4.0  ...        Yes    Not@All         NaN        7.0   \n",
       "\n",
       "    diet_fruit  diet_salad  diet_potato  diet_carrot diet_vegetable diet_juice  \n",
       "0       1095.0       261.0        104.0        156.0          521.0       12.0  \n",
       "1         52.0       209.0         52.0          0.0           52.0        0.0  \n",
       "2         36.0       156.0         52.0         24.0           24.0       24.0  \n",
       "3          NaN         NaN          NaN          NaN            NaN        NaN  \n",
       "4         -7.0       261.0        209.0        261.0          365.0      104.0  \n",
       "..         ...         ...          ...          ...            ...        ...  \n",
       "240       -7.0        -7.0         -7.0         -7.0           -7.0       -7.0  \n",
       "241       52.0        52.0         52.0         24.0           52.0       24.0  \n",
       "242      365.0       156.0        104.0         52.0          730.0      365.0  \n",
       "243      730.0         0.0         24.0        156.0          104.0        0.0  \n",
       "244       52.0       104.0         52.0          0.0          104.0      104.0  \n",
       "\n",
       "[245 rows x 34 columns]"
      ]
     },
     "execution_count": 82,
     "metadata": {},
     "output_type": "execute_result"
    }
   ],
   "source": [
    "datos = pd.read_csv('./data/riskfactors.csv')\n",
    "\n",
    "data_df = pd.DataFrame(datos)\n",
    "\n",
    "data_df"
   ]
  },
  {
   "cell_type": "markdown",
   "metadata": {},
   "source": [
    "## Configuracion de Graficos"
   ]
  },
  {
   "cell_type": "code",
   "execution_count": 83,
   "metadata": {},
   "outputs": [],
   "source": [
    "%matplotlib inline\n",
    "\n",
    "# tamaño de los graficos\n",
    "sns.set(\n",
    "    rc={\n",
    "        'figure.figsize':(8, 8)\n",
    "    }\n",
    ")\n",
    "\n",
    "# estilo de los graficos\n",
    "sns.set_style('whitegrid')"
   ]
  },
  {
   "cell_type": "markdown",
   "metadata": {},
   "source": [
    "## Importar metodos de otro Notebook"
   ]
  },
  {
   "cell_type": "code",
   "execution_count": 84,
   "metadata": {},
   "outputs": [],
   "source": [
    "%run utils.ipynb"
   ]
  },
  {
   "cell_type": "markdown",
   "metadata": {},
   "source": [
    "# Metodos de Eliminacion"
   ]
  },
  {
   "cell_type": "markdown",
   "metadata": {},
   "source": [
    "## Eliminacion por pares (Pairwise Deletion)"
   ]
  },
  {
   "cell_type": "markdown",
   "metadata": {},
   "source": [
    "Consiste en eliminar los valores faltantes de una variable. Pandas por defecto omite los valores faltantes de las variables a la hora de realizar un calculo. Veamos el siguiente ejemplo "
   ]
  },
  {
   "cell_type": "code",
   "execution_count": 85,
   "metadata": {},
   "outputs": [
    {
     "data": {
      "text/plain": [
       "10"
      ]
     },
     "execution_count": 85,
     "metadata": {},
     "output_type": "execute_result"
    }
   ],
   "source": [
    "# Cantidad de valores faltantes de la variable weight\n",
    "data_df.weight_lbs.isna().sum()"
   ]
  },
  {
   "cell_type": "code",
   "execution_count": 86,
   "metadata": {},
   "outputs": [
    {
     "data": {
      "text/plain": [
       "(245, 235)"
      ]
     },
     "execution_count": 86,
     "metadata": {},
     "output_type": "execute_result"
    }
   ],
   "source": [
    "# Cantidad de observaciones de weight VS cantidad de observaciones completas de weight\n",
    "data_df.weight_lbs.size, data_df.weight_lbs.count()"
   ]
  },
  {
   "cell_type": "markdown",
   "metadata": {},
   "source": [
    "El resultado indica que hay 245 observaciones para la variable weight de las cuales 235 estan completas."
   ]
  },
  {
   "cell_type": "code",
   "execution_count": 87,
   "metadata": {},
   "outputs": [
    {
     "data": {
      "text/plain": [
       "174.26808510638298"
      ]
     },
     "execution_count": 87,
     "metadata": {},
     "output_type": "execute_result"
    }
   ],
   "source": [
    "# calcular la media de la variable weight\n",
    "(\n",
    "    data_df\n",
    "    .weight_lbs\n",
    "    .mean()\n",
    ")"
   ]
  },
  {
   "cell_type": "markdown",
   "metadata": {},
   "source": [
    "A pesar que la variable weight posee 10 valores faltantes, Pandas realiza el calculo de la media omitiendo los valores faltantes."
   ]
  },
  {
   "cell_type": "markdown",
   "metadata": {},
   "source": [
    "## Eliminacion por caso completo (Listwise Deletion)"
   ]
  },
  {
   "cell_type": "markdown",
   "metadata": {},
   "source": [
    "Consiste en eliminar las observaciones o registros donde aparezcan un valor faltante en una o  varias variables seleccionadas. En lo que sigue, utilizaremos las variables weight y height"
   ]
  },
  {
   "cell_type": "markdown",
   "metadata": {},
   "source": [
    "### Listwise Deletion en funcion de una variable"
   ]
  },
  {
   "cell_type": "code",
   "execution_count": 88,
   "metadata": {},
   "outputs": [
    {
     "data": {
      "text/plain": [
       "(235, 34)"
      ]
     },
     "execution_count": 88,
     "metadata": {},
     "output_type": "execute_result"
    }
   ],
   "source": [
    "# eliminar los registros con valores faltantes en la variable weight\n",
    "(\n",
    "    data_df                          # Dataframe\n",
    "    .dropna(\n",
    "        subset=['weight_lbs'],  # variable seleccionada\n",
    "        how='any'               # modo de deteccion\n",
    "    )\n",
    ").shape                         # forma del DataFrame"
   ]
  },
  {
   "cell_type": "markdown",
   "metadata": {},
   "source": [
    "Observamos que fueron eliminados 10 registros los cuales tenian valores faltantes en la variable weight. Para visualizar la variable despues de eliminar los valores faltantes utilizamos el siguiente codigo:"
   ]
  },
  {
   "cell_type": "code",
   "execution_count": 89,
   "metadata": {},
   "outputs": [
    {
     "data": {
      "text/plain": [
       "<AxesSubplot:>"
      ]
     },
     "execution_count": 89,
     "metadata": {},
     "output_type": "execute_result"
    },
    {
     "data": {
      "image/png": "[encoded data removed]",
      "text/plain": [
       "<Figure size 1800x720 with 2 Axes>"
      ]
     },
     "metadata": {},
     "output_type": "display_data"
    }
   ],
   "source": [
    "(\n",
    "    data_df                          # Dataframe\n",
    "    .dropna(\n",
    "        subset=['weight_lbs'],  # variable seleccionada\n",
    "        how='any'               # modo de deteccion\n",
    "    )\n",
    "    .loc[:,['weight_lbs']]\n",
    "    .pipe(missingno.matrix)\n",
    ")"
   ]
  },
  {
   "cell_type": "markdown",
   "metadata": {},
   "source": [
    "Notamos que la variable queda limpia de valores faltantes lista para ser trabajada"
   ]
  },
  {
   "cell_type": "markdown",
   "metadata": {},
   "source": [
    "### Listwise Deletion en funcion de dos variables"
   ]
  },
  {
   "cell_type": "markdown",
   "metadata": {},
   "source": [
    "Elimina las observaciones donde hayan valores faltantes en cualquiera de las dos variables seleccionadas"
   ]
  },
  {
   "cell_type": "code",
   "execution_count": 90,
   "metadata": {},
   "outputs": [
    {
     "data": {
      "text/plain": [
       "(234, 34)"
      ]
     },
     "execution_count": 90,
     "metadata": {},
     "output_type": "execute_result"
    }
   ],
   "source": [
    "# eliminar registros donde hayan valores faltantes en weight y height\n",
    "(\n",
    "    data_df                                          # Dataframe\n",
    "    .dropna(\n",
    "        subset=['weight_lbs', 'height_inch'],   # variables seleccionadas\n",
    "        how='any'                               # modo de deteccion\n",
    "    )\n",
    ").shape                                         # forma del Dataframe"
   ]
  },
  {
   "cell_type": "markdown",
   "metadata": {},
   "source": [
    "Vemos que fueron eliminados 11 registros con valores faltantes en weight y height. Para visualizar ambas variables despues de aplicar el metodo utilizamos el siguiente codigo:"
   ]
  },
  {
   "cell_type": "code",
   "execution_count": 91,
   "metadata": {},
   "outputs": [
    {
     "data": {
      "text/plain": [
       "<AxesSubplot:>"
      ]
     },
     "execution_count": 91,
     "metadata": {},
     "output_type": "execute_result"
    },
    {
     "data": {
      "image/png": "[encoded data removed]",
      "text/plain": [
       "<Figure size 1800x720 with 2 Axes>"
      ]
     },
     "metadata": {},
     "output_type": "display_data"
    }
   ],
   "source": [
    "# Visualizacion de las variables despues de eliminar los registros\n",
    "(\n",
    "    data_df\n",
    "    .dropna(\n",
    "        subset=['weight_lbs', 'height_inch'], # variables seleccionadas\n",
    "        how='any'                             # modo de deteccion\n",
    "    )\n",
    "    .loc[:,['weight_lbs', 'height_inch']]     # variables a graficar\n",
    "    .pipe(missingno.matrix)                   # grafica de matriz para ambas variables\n",
    ")"
   ]
  },
  {
   "cell_type": "markdown",
   "metadata": {},
   "source": [
    "Claramente vemos que ambas variables quedan libres de valores faltantes."
   ]
  },
  {
   "cell_type": "markdown",
   "metadata": {},
   "source": [
    "### Listwise Deletion donde ambas variables contienen valores faltantes simultaneamente "
   ]
  },
  {
   "cell_type": "markdown",
   "metadata": {},
   "source": [
    "Elimina las observaciones donde ambas variables presentan valores faltantes en simultaneo. Puede ser muy util cuando se establece una dependencia entre los valores faltantes de ambas variables"
   ]
  },
  {
   "cell_type": "code",
   "execution_count": 92,
   "metadata": {},
   "outputs": [
    {
     "data": {
      "text/plain": [
       "(244, 34)"
      ]
     },
     "execution_count": 92,
     "metadata": {},
     "output_type": "execute_result"
    }
   ],
   "source": [
    "(\n",
    "    data_df                                     # Dataframe\n",
    "    .dropna(\n",
    "        subset=['weight_lbs', 'height_inch'],   # variables seleccionadas\n",
    "        how='all'                               # modo de deteccion\n",
    "    )\n",
    ").shape                                         # forma del Dataframe"
   ]
  },
  {
   "cell_type": "markdown",
   "metadata": {},
   "source": [
    "El resultado muestra que solo hay un registro donde ambas variables posee valores faltantes y es eliminado. Para visualizar lo que sucede procedemos como sigue:"
   ]
  },
  {
   "cell_type": "code",
   "execution_count": 93,
   "metadata": {},
   "outputs": [
    {
     "data": {
      "text/plain": [
       "<AxesSubplot:>"
      ]
     },
     "execution_count": 93,
     "metadata": {},
     "output_type": "execute_result"
    },
    {
     "data": {
      "image/png": "[encoded data removed]",
      "text/plain": [
       "<Figure size 1800x720 with 2 Axes>"
      ]
     },
     "metadata": {},
     "output_type": "display_data"
    }
   ],
   "source": [
    "(\n",
    "    data_df                                          # Dataframe\n",
    "    .dropna(\n",
    "        subset=['weight_lbs', 'height_inch'],   # variables seleccionadas\n",
    "        how='all'                               # modo de deteccion\n",
    "    )\n",
    "    .loc[:,['weight_lbs', 'height_inch']]\n",
    "    .pipe(missingno.matrix)\n",
    ")"
   ]
  },
  {
   "cell_type": "markdown",
   "metadata": {},
   "source": [
    "Las lineas blancas de la grafica representan los valores faltantes. Vemos como en este caso, siguen quedando valores faltantes a pesar de aplicar el metodo de eliminacion"
   ]
  },
  {
   "cell_type": "markdown",
   "metadata": {},
   "source": [
    "# Metodos de Imputacion"
   ]
  },
  {
   "cell_type": "markdown",
   "metadata": {},
   "source": [
    "La imputacion en general consiste en reemplazar los valores faltantes por algun valor, bien sea estadistico, algun valor por contexto o valores obtenidos mediante un modelo de Machine Learning. La sustitucion mediante valores provenientes de modelos de Machine Learning es un tema avanzado de imputacion que no sera tratado en este Notebook  "
   ]
  },
  {
   "cell_type": "markdown",
   "metadata": {},
   "source": [
    "## Imputacion con base en el contexto"
   ]
  },
  {
   "cell_type": "markdown",
   "metadata": {},
   "source": [
    "Consiste en conocer la estructura de los datos para luego completar las entradas vacias. Para explicar mejor el concepto, vamos a crear un DataFrame de prueba y aplicar este metodo."
   ]
  },
  {
   "cell_type": "code",
   "execution_count": 94,
   "metadata": {},
   "outputs": [
    {
     "data": {
      "text/html": [
       "<div>\n",
       "<style scoped>\n",
       "    .dataframe tbody tr th:only-of-type {\n",
       "        vertical-align: middle;\n",
       "    }\n",
       "\n",
       "    .dataframe tbody tr th {\n",
       "        vertical-align: top;\n",
       "    }\n",
       "\n",
       "    .dataframe thead th {\n",
       "        text-align: right;\n",
       "    }\n",
       "</style>\n",
       "<table border=\"1\" class=\"dataframe\">\n",
       "  <thead>\n",
       "    <tr style=\"text-align: right;\">\n",
       "      <th></th>\n",
       "      <th>name</th>\n",
       "      <th>time</th>\n",
       "      <th>value</th>\n",
       "    </tr>\n",
       "  </thead>\n",
       "  <tbody>\n",
       "    <tr>\n",
       "      <th>0</th>\n",
       "      <td>lynn</td>\n",
       "      <td>manana</td>\n",
       "      <td>350</td>\n",
       "    </tr>\n",
       "    <tr>\n",
       "      <th>1</th>\n",
       "      <td>NaN</td>\n",
       "      <td>tarde</td>\n",
       "      <td>310</td>\n",
       "    </tr>\n",
       "    <tr>\n",
       "      <th>2</th>\n",
       "      <td>zelia</td>\n",
       "      <td>manana</td>\n",
       "      <td>320</td>\n",
       "    </tr>\n",
       "    <tr>\n",
       "      <th>3</th>\n",
       "      <td>NaN</td>\n",
       "      <td>tarde</td>\n",
       "      <td>350</td>\n",
       "    </tr>\n",
       "    <tr>\n",
       "      <th>4</th>\n",
       "      <td>shadow</td>\n",
       "      <td>manana</td>\n",
       "      <td>310</td>\n",
       "    </tr>\n",
       "    <tr>\n",
       "      <th>5</th>\n",
       "      <td>NaN</td>\n",
       "      <td>tarde</td>\n",
       "      <td>320</td>\n",
       "    </tr>\n",
       "  </tbody>\n",
       "</table>\n",
       "</div>"
      ],
      "text/plain": [
       "     name    time value\n",
       "0    lynn  manana   350\n",
       "1     NaN   tarde   310\n",
       "2   zelia  manana   320\n",
       "3     NaN   tarde   350\n",
       "4  shadow  manana   310\n",
       "5     NaN   tarde   320"
      ]
     },
     "execution_count": 94,
     "metadata": {},
     "output_type": "execute_result"
    }
   ],
   "source": [
    "proof_df = pd.DataFrame(\n",
    "    data={\n",
    "        'name': ['lynn', np.nan, 'zelia', np.nan, 'shadow', np.nan],\n",
    "        'time': ['manana', 'tarde', 'manana', 'tarde', 'manana', 'tarde'],\n",
    "        'value': ['350', '310', '320', '350', '310', '320']\n",
    "    }\n",
    ")\n",
    "\n",
    "proof_df"
   ]
  },
  {
   "cell_type": "markdown",
   "metadata": {},
   "source": [
    "Vemos que el DataFrame posee valores faltantes en la variable name, las demas variables estan completas. Ademas, observamos que la variable time posee solo dos valores: manana y tarde. Una vez analizada la estructura, podemos deducir que los valores faltantes hacen referencia a los nombres que los anteceden. Esto pudo realizarse para agilizar la toma de los datos y evitar reescribir el nombre nuevamente el la siguiente linea.\n",
    "\n",
    "Para completar los valores faltantes utilizamos el metodo ffill de Pandas como sigue:"
   ]
  },
  {
   "cell_type": "code",
   "execution_count": 95,
   "metadata": {},
   "outputs": [
    {
     "data": {
      "text/html": [
       "<div>\n",
       "<style scoped>\n",
       "    .dataframe tbody tr th:only-of-type {\n",
       "        vertical-align: middle;\n",
       "    }\n",
       "\n",
       "    .dataframe tbody tr th {\n",
       "        vertical-align: top;\n",
       "    }\n",
       "\n",
       "    .dataframe thead th {\n",
       "        text-align: right;\n",
       "    }\n",
       "</style>\n",
       "<table border=\"1\" class=\"dataframe\">\n",
       "  <thead>\n",
       "    <tr style=\"text-align: right;\">\n",
       "      <th></th>\n",
       "      <th>name</th>\n",
       "      <th>time</th>\n",
       "      <th>value</th>\n",
       "    </tr>\n",
       "  </thead>\n",
       "  <tbody>\n",
       "    <tr>\n",
       "      <th>0</th>\n",
       "      <td>lynn</td>\n",
       "      <td>manana</td>\n",
       "      <td>350</td>\n",
       "    </tr>\n",
       "    <tr>\n",
       "      <th>1</th>\n",
       "      <td>lynn</td>\n",
       "      <td>tarde</td>\n",
       "      <td>310</td>\n",
       "    </tr>\n",
       "    <tr>\n",
       "      <th>2</th>\n",
       "      <td>zelia</td>\n",
       "      <td>manana</td>\n",
       "      <td>320</td>\n",
       "    </tr>\n",
       "    <tr>\n",
       "      <th>3</th>\n",
       "      <td>zelia</td>\n",
       "      <td>tarde</td>\n",
       "      <td>350</td>\n",
       "    </tr>\n",
       "    <tr>\n",
       "      <th>4</th>\n",
       "      <td>shadow</td>\n",
       "      <td>manana</td>\n",
       "      <td>310</td>\n",
       "    </tr>\n",
       "    <tr>\n",
       "      <th>5</th>\n",
       "      <td>shadow</td>\n",
       "      <td>tarde</td>\n",
       "      <td>320</td>\n",
       "    </tr>\n",
       "  </tbody>\n",
       "</table>\n",
       "</div>"
      ],
      "text/plain": [
       "     name    time value\n",
       "0    lynn  manana   350\n",
       "1    lynn   tarde   310\n",
       "2   zelia  manana   320\n",
       "3   zelia   tarde   350\n",
       "4  shadow  manana   310\n",
       "5  shadow   tarde   320"
      ]
     },
     "execution_count": 95,
     "metadata": {},
     "output_type": "execute_result"
    }
   ],
   "source": [
    "proof_df.ffill()"
   ]
  },
  {
   "cell_type": "markdown",
   "metadata": {},
   "source": [
    "## Imputacion de un unico valor"
   ]
  },
  {
   "cell_type": "markdown",
   "metadata": {},
   "source": [
    "Es util cuando el contexto no ayuda a completar los valores faltantes y sobretodo cuando tratamos con valores numericos debido a que se reemplaza por un estadistico. \n",
    "\n",
    "En lo que sigue, vamos a imputar los valores faltantes de las variables height y weight. Para ello creamos la matriz de sombra de ambas variables mediante el metodo externo bind_sahdow_matrix perteneciente al Notebook utils"
   ]
  },
  {
   "cell_type": "code",
   "execution_count": 96,
   "metadata": {},
   "outputs": [
    {
     "data": {
      "text/html": [
       "<div>\n",
       "<style scoped>\n",
       "    .dataframe tbody tr th:only-of-type {\n",
       "        vertical-align: middle;\n",
       "    }\n",
       "\n",
       "    .dataframe tbody tr th {\n",
       "        vertical-align: top;\n",
       "    }\n",
       "\n",
       "    .dataframe thead th {\n",
       "        text-align: right;\n",
       "    }\n",
       "</style>\n",
       "<table border=\"1\" class=\"dataframe\">\n",
       "  <thead>\n",
       "    <tr style=\"text-align: right;\">\n",
       "      <th></th>\n",
       "      <th>weight_lbs</th>\n",
       "      <th>height_inch</th>\n",
       "      <th>weight_lbs_NA</th>\n",
       "      <th>height_inch_NA</th>\n",
       "    </tr>\n",
       "  </thead>\n",
       "  <tbody>\n",
       "    <tr>\n",
       "      <th>0</th>\n",
       "      <td>190.0</td>\n",
       "      <td>64.0</td>\n",
       "      <td>False</td>\n",
       "      <td>False</td>\n",
       "    </tr>\n",
       "    <tr>\n",
       "      <th>1</th>\n",
       "      <td>170.0</td>\n",
       "      <td>68.0</td>\n",
       "      <td>False</td>\n",
       "      <td>False</td>\n",
       "    </tr>\n",
       "    <tr>\n",
       "      <th>2</th>\n",
       "      <td>163.0</td>\n",
       "      <td>64.0</td>\n",
       "      <td>False</td>\n",
       "      <td>False</td>\n",
       "    </tr>\n",
       "    <tr>\n",
       "      <th>3</th>\n",
       "      <td>230.0</td>\n",
       "      <td>74.0</td>\n",
       "      <td>False</td>\n",
       "      <td>False</td>\n",
       "    </tr>\n",
       "    <tr>\n",
       "      <th>4</th>\n",
       "      <td>135.0</td>\n",
       "      <td>62.0</td>\n",
       "      <td>False</td>\n",
       "      <td>False</td>\n",
       "    </tr>\n",
       "    <tr>\n",
       "      <th>...</th>\n",
       "      <td>...</td>\n",
       "      <td>...</td>\n",
       "      <td>...</td>\n",
       "      <td>...</td>\n",
       "    </tr>\n",
       "    <tr>\n",
       "      <th>240</th>\n",
       "      <td>144.0</td>\n",
       "      <td>63.0</td>\n",
       "      <td>False</td>\n",
       "      <td>False</td>\n",
       "    </tr>\n",
       "    <tr>\n",
       "      <th>241</th>\n",
       "      <td>170.0</td>\n",
       "      <td>74.0</td>\n",
       "      <td>False</td>\n",
       "      <td>False</td>\n",
       "    </tr>\n",
       "    <tr>\n",
       "      <th>242</th>\n",
       "      <td>175.0</td>\n",
       "      <td>71.0</td>\n",
       "      <td>False</td>\n",
       "      <td>False</td>\n",
       "    </tr>\n",
       "    <tr>\n",
       "      <th>243</th>\n",
       "      <td>138.0</td>\n",
       "      <td>64.0</td>\n",
       "      <td>False</td>\n",
       "      <td>False</td>\n",
       "    </tr>\n",
       "    <tr>\n",
       "      <th>244</th>\n",
       "      <td>200.0</td>\n",
       "      <td>70.0</td>\n",
       "      <td>False</td>\n",
       "      <td>False</td>\n",
       "    </tr>\n",
       "  </tbody>\n",
       "</table>\n",
       "<p>245 rows × 4 columns</p>\n",
       "</div>"
      ],
      "text/plain": [
       "     weight_lbs  height_inch  weight_lbs_NA  height_inch_NA\n",
       "0         190.0         64.0          False           False\n",
       "1         170.0         68.0          False           False\n",
       "2         163.0         64.0          False           False\n",
       "3         230.0         74.0          False           False\n",
       "4         135.0         62.0          False           False\n",
       "..          ...          ...            ...             ...\n",
       "240       144.0         63.0          False           False\n",
       "241       170.0         74.0          False           False\n",
       "242       175.0         71.0          False           False\n",
       "243       138.0         64.0          False           False\n",
       "244       200.0         70.0          False           False\n",
       "\n",
       "[245 rows x 4 columns]"
      ]
     },
     "execution_count": 96,
     "metadata": {},
     "output_type": "execute_result"
    }
   ],
   "source": [
    "# matriz tabular de las variables weight y height\n",
    "(\n",
    "    data_df                                 # DataFrame\n",
    "    .loc[:,['weight_lbs', 'height_inch']]   # Variables seleccionadas\n",
    "    .missing.bind_shadow_matrix(true_string=True, false_string=False)   # matriz de sombra\n",
    ")"
   ]
  },
  {
   "cell_type": "code",
   "execution_count": 97,
   "metadata": {},
   "outputs": [
    {
     "data": {
      "text/html": [
       "<div>\n",
       "<style scoped>\n",
       "    .dataframe tbody tr th:only-of-type {\n",
       "        vertical-align: middle;\n",
       "    }\n",
       "\n",
       "    .dataframe tbody tr th {\n",
       "        vertical-align: top;\n",
       "    }\n",
       "\n",
       "    .dataframe thead th {\n",
       "        text-align: right;\n",
       "    }\n",
       "</style>\n",
       "<table border=\"1\" class=\"dataframe\">\n",
       "  <thead>\n",
       "    <tr style=\"text-align: right;\">\n",
       "      <th></th>\n",
       "      <th>weight_lbs</th>\n",
       "      <th>height_inch</th>\n",
       "      <th>weight_lbs_NA</th>\n",
       "      <th>height_inch_NA</th>\n",
       "    </tr>\n",
       "  </thead>\n",
       "  <tbody>\n",
       "    <tr>\n",
       "      <th>0</th>\n",
       "      <td>190.0</td>\n",
       "      <td>64.0</td>\n",
       "      <td>False</td>\n",
       "      <td>False</td>\n",
       "    </tr>\n",
       "    <tr>\n",
       "      <th>1</th>\n",
       "      <td>170.0</td>\n",
       "      <td>68.0</td>\n",
       "      <td>False</td>\n",
       "      <td>False</td>\n",
       "    </tr>\n",
       "    <tr>\n",
       "      <th>2</th>\n",
       "      <td>163.0</td>\n",
       "      <td>64.0</td>\n",
       "      <td>False</td>\n",
       "      <td>False</td>\n",
       "    </tr>\n",
       "    <tr>\n",
       "      <th>3</th>\n",
       "      <td>230.0</td>\n",
       "      <td>74.0</td>\n",
       "      <td>False</td>\n",
       "      <td>False</td>\n",
       "    </tr>\n",
       "    <tr>\n",
       "      <th>4</th>\n",
       "      <td>135.0</td>\n",
       "      <td>62.0</td>\n",
       "      <td>False</td>\n",
       "      <td>False</td>\n",
       "    </tr>\n",
       "    <tr>\n",
       "      <th>...</th>\n",
       "      <td>...</td>\n",
       "      <td>...</td>\n",
       "      <td>...</td>\n",
       "      <td>...</td>\n",
       "    </tr>\n",
       "    <tr>\n",
       "      <th>240</th>\n",
       "      <td>144.0</td>\n",
       "      <td>63.0</td>\n",
       "      <td>False</td>\n",
       "      <td>False</td>\n",
       "    </tr>\n",
       "    <tr>\n",
       "      <th>241</th>\n",
       "      <td>170.0</td>\n",
       "      <td>74.0</td>\n",
       "      <td>False</td>\n",
       "      <td>False</td>\n",
       "    </tr>\n",
       "    <tr>\n",
       "      <th>242</th>\n",
       "      <td>175.0</td>\n",
       "      <td>71.0</td>\n",
       "      <td>False</td>\n",
       "      <td>False</td>\n",
       "    </tr>\n",
       "    <tr>\n",
       "      <th>243</th>\n",
       "      <td>138.0</td>\n",
       "      <td>64.0</td>\n",
       "      <td>False</td>\n",
       "      <td>False</td>\n",
       "    </tr>\n",
       "    <tr>\n",
       "      <th>244</th>\n",
       "      <td>200.0</td>\n",
       "      <td>70.0</td>\n",
       "      <td>False</td>\n",
       "      <td>False</td>\n",
       "    </tr>\n",
       "  </tbody>\n",
       "</table>\n",
       "<p>245 rows × 4 columns</p>\n",
       "</div>"
      ],
      "text/plain": [
       "     weight_lbs  height_inch  weight_lbs_NA  height_inch_NA\n",
       "0         190.0         64.0          False           False\n",
       "1         170.0         68.0          False           False\n",
       "2         163.0         64.0          False           False\n",
       "3         230.0         74.0          False           False\n",
       "4         135.0         62.0          False           False\n",
       "..          ...          ...            ...             ...\n",
       "240       144.0         63.0          False           False\n",
       "241       170.0         74.0          False           False\n",
       "242       175.0         71.0          False           False\n",
       "243       138.0         64.0          False           False\n",
       "244       200.0         70.0          False           False\n",
       "\n",
       "[245 rows x 4 columns]"
      ]
     },
     "execution_count": 97,
     "metadata": {},
     "output_type": "execute_result"
    }
   ],
   "source": [
    "# imputamos los valores de weight y height sin alterar los valores de la matriz de sombra\n",
    "(\n",
    "    data_df                                 # DataFrame\n",
    "    .loc[:,['weight_lbs', 'height_inch']]   # Variables seleccionadas\n",
    "    .missing.bind_shadow_matrix(true_string=True, false_string=False)   # matriz de sombra\n",
    "    .apply(                                 # imputacion de valores faltantes por la media\n",
    "        axis = 'rows',\n",
    "        func = lambda column: column.fillna(column.mean() if '_NA' not in column.name else column)\n",
    "    )\n",
    ")"
   ]
  },
  {
   "cell_type": "markdown",
   "metadata": {},
   "source": [
    "Una vez imputado los valores faltantes de weight y height por la media, pasamos a visualizar la imputacion para ubicar donde se concentran los valores imputados. Se procede como sigue:"
   ]
  },
  {
   "cell_type": "code",
   "execution_count": 98,
   "metadata": {},
   "outputs": [
    {
     "data": {
      "text/plain": [
       "<seaborn.axisgrid.FacetGrid at 0x7f2e6f546350>"
      ]
     },
     "execution_count": 98,
     "metadata": {},
     "output_type": "execute_result"
    },
    {
     "data": {
      "image/png": "[encoded data removed]",
      "text/plain": [
       "<Figure size 455.925x360 with 1 Axes>"
      ]
     },
     "metadata": {},
     "output_type": "display_data"
    }
   ],
   "source": [
    "# visualizacion de la imputacion de los valores faltantes para la variable weight\n",
    "(\n",
    "    data_df                                 # DataFrame\n",
    "    .loc[:,['weight_lbs', 'height_inch']]   # Variables seleccionadas\n",
    "    .missing.bind_shadow_matrix(true_string=True, false_string=False)   # matriz de sombra\n",
    "    .apply(                                 # imputacion de valores faltantes por la media\n",
    "        axis = 'rows',\n",
    "        func = lambda column: column.fillna(column.mean() if '_NA' not in column.name else column)\n",
    "    )\n",
    "    .pipe(                                  # Histograma\n",
    "        lambda df:(\n",
    "            sns.displot(\n",
    "                data=df,\n",
    "                x='weight_lbs',\n",
    "                hue='weight_lbs_NA'\n",
    "            )\n",
    "        )\n",
    "    )\n",
    ")"
   ]
  },
  {
   "cell_type": "markdown",
   "metadata": {},
   "source": [
    "La grafica nos muestra que los valores imputados se concentran en el medio de la distribucion de los datos, es decir, no altera la distribucion por lo que se considera una buena imputacion."
   ]
  },
  {
   "cell_type": "code",
   "execution_count": 99,
   "metadata": {},
   "outputs": [
    {
     "data": {
      "text/plain": [
       "<seaborn.axisgrid.FacetGrid at 0x7f2e6d3096f0>"
      ]
     },
     "execution_count": 99,
     "metadata": {},
     "output_type": "execute_result"
    },
    {
     "data": {
      "image/png": "[encoded data removed]",
      "text/plain": [
       "<Figure size 461.425x360 with 1 Axes>"
      ]
     },
     "metadata": {},
     "output_type": "display_data"
    }
   ],
   "source": [
    "# visualizacion de la imputacion de los valores faltantes para la variable height\n",
    "(\n",
    "    data_df                                 # DataFrame\n",
    "    .loc[:,['weight_lbs', 'height_inch']]   # Variables seleccionadas\n",
    "    .missing.bind_shadow_matrix(true_string=True, false_string=False)   # matriz de sombra\n",
    "    .apply(                                 # imputacion de valores faltantes por la media\n",
    "        axis = 'rows',\n",
    "        func = lambda column: column.fillna(column.mean() if '_NA' not in column.name else column)\n",
    "    )\n",
    "    .pipe(                                  # Histograma\n",
    "        lambda df:(\n",
    "            sns.displot(\n",
    "                data=df,\n",
    "                x='height_inch',\n",
    "                hue='height_inch_NA'\n",
    "            )\n",
    "        )\n",
    "    )\n",
    ")"
   ]
  },
  {
   "cell_type": "markdown",
   "metadata": {},
   "source": [
    "La grafica nos muestras que los valores imputados de la variable height estan concentrados en el centro de la distribucion lo que indica que ha sido una buena imputacion ya que no sesga los datos."
   ]
  },
  {
   "cell_type": "markdown",
   "metadata": {},
   "source": [
    "## Imputacion sobre Multiples Variables"
   ]
  },
  {
   "cell_type": "markdown",
   "metadata": {},
   "source": [
    "Consiste en imputar los valores faltantes de varias variables en un mismo porcedimiento. Para este caso, trabajamos con tres variables: weight, height y bmi. \n",
    "\n",
    "Para obtener un visualizacion relevante de los valores faltantes luego de ser imputados, agregamos una nueva columna de valores booleanos con True para los registros con valores faltantes en dos variables y False en caso contrario."
   ]
  },
  {
   "cell_type": "code",
   "execution_count": 100,
   "metadata": {},
   "outputs": [
    {
     "data": {
      "text/html": [
       "<div>\n",
       "<style scoped>\n",
       "    .dataframe tbody tr th:only-of-type {\n",
       "        vertical-align: middle;\n",
       "    }\n",
       "\n",
       "    .dataframe tbody tr th {\n",
       "        vertical-align: top;\n",
       "    }\n",
       "\n",
       "    .dataframe thead th {\n",
       "        text-align: right;\n",
       "    }\n",
       "</style>\n",
       "<table border=\"1\" class=\"dataframe\">\n",
       "  <thead>\n",
       "    <tr style=\"text-align: right;\">\n",
       "      <th></th>\n",
       "      <th>weight_lbs</th>\n",
       "      <th>height_inch</th>\n",
       "      <th>bmi</th>\n",
       "      <th>weight_lbs_NA</th>\n",
       "      <th>height_inch_NA</th>\n",
       "      <th>bmi_NA</th>\n",
       "      <th>imputed</th>\n",
       "    </tr>\n",
       "  </thead>\n",
       "  <tbody>\n",
       "    <tr>\n",
       "      <th>0</th>\n",
       "      <td>190.0</td>\n",
       "      <td>64.0</td>\n",
       "      <td>32.68</td>\n",
       "      <td>False</td>\n",
       "      <td>False</td>\n",
       "      <td>False</td>\n",
       "      <td>False</td>\n",
       "    </tr>\n",
       "    <tr>\n",
       "      <th>1</th>\n",
       "      <td>170.0</td>\n",
       "      <td>68.0</td>\n",
       "      <td>25.90</td>\n",
       "      <td>False</td>\n",
       "      <td>False</td>\n",
       "      <td>False</td>\n",
       "      <td>False</td>\n",
       "    </tr>\n",
       "    <tr>\n",
       "      <th>2</th>\n",
       "      <td>163.0</td>\n",
       "      <td>64.0</td>\n",
       "      <td>28.04</td>\n",
       "      <td>False</td>\n",
       "      <td>False</td>\n",
       "      <td>False</td>\n",
       "      <td>False</td>\n",
       "    </tr>\n",
       "    <tr>\n",
       "      <th>3</th>\n",
       "      <td>230.0</td>\n",
       "      <td>74.0</td>\n",
       "      <td>29.59</td>\n",
       "      <td>False</td>\n",
       "      <td>False</td>\n",
       "      <td>False</td>\n",
       "      <td>False</td>\n",
       "    </tr>\n",
       "    <tr>\n",
       "      <th>4</th>\n",
       "      <td>135.0</td>\n",
       "      <td>62.0</td>\n",
       "      <td>24.74</td>\n",
       "      <td>False</td>\n",
       "      <td>False</td>\n",
       "      <td>False</td>\n",
       "      <td>False</td>\n",
       "    </tr>\n",
       "    <tr>\n",
       "      <th>...</th>\n",
       "      <td>...</td>\n",
       "      <td>...</td>\n",
       "      <td>...</td>\n",
       "      <td>...</td>\n",
       "      <td>...</td>\n",
       "      <td>...</td>\n",
       "      <td>...</td>\n",
       "    </tr>\n",
       "    <tr>\n",
       "      <th>240</th>\n",
       "      <td>144.0</td>\n",
       "      <td>63.0</td>\n",
       "      <td>25.56</td>\n",
       "      <td>False</td>\n",
       "      <td>False</td>\n",
       "      <td>False</td>\n",
       "      <td>False</td>\n",
       "    </tr>\n",
       "    <tr>\n",
       "      <th>241</th>\n",
       "      <td>170.0</td>\n",
       "      <td>74.0</td>\n",
       "      <td>21.87</td>\n",
       "      <td>False</td>\n",
       "      <td>False</td>\n",
       "      <td>False</td>\n",
       "      <td>False</td>\n",
       "    </tr>\n",
       "    <tr>\n",
       "      <th>242</th>\n",
       "      <td>175.0</td>\n",
       "      <td>71.0</td>\n",
       "      <td>24.46</td>\n",
       "      <td>False</td>\n",
       "      <td>False</td>\n",
       "      <td>False</td>\n",
       "      <td>False</td>\n",
       "    </tr>\n",
       "    <tr>\n",
       "      <th>243</th>\n",
       "      <td>138.0</td>\n",
       "      <td>64.0</td>\n",
       "      <td>23.74</td>\n",
       "      <td>False</td>\n",
       "      <td>False</td>\n",
       "      <td>False</td>\n",
       "      <td>False</td>\n",
       "    </tr>\n",
       "    <tr>\n",
       "      <th>244</th>\n",
       "      <td>200.0</td>\n",
       "      <td>70.0</td>\n",
       "      <td>28.76</td>\n",
       "      <td>False</td>\n",
       "      <td>False</td>\n",
       "      <td>False</td>\n",
       "      <td>False</td>\n",
       "    </tr>\n",
       "  </tbody>\n",
       "</table>\n",
       "<p>245 rows × 7 columns</p>\n",
       "</div>"
      ],
      "text/plain": [
       "     weight_lbs  height_inch    bmi  weight_lbs_NA  height_inch_NA  bmi_NA  \\\n",
       "0         190.0         64.0  32.68          False           False   False   \n",
       "1         170.0         68.0  25.90          False           False   False   \n",
       "2         163.0         64.0  28.04          False           False   False   \n",
       "3         230.0         74.0  29.59          False           False   False   \n",
       "4         135.0         62.0  24.74          False           False   False   \n",
       "..          ...          ...    ...            ...             ...     ...   \n",
       "240       144.0         63.0  25.56          False           False   False   \n",
       "241       170.0         74.0  21.87          False           False   False   \n",
       "242       175.0         71.0  24.46          False           False   False   \n",
       "243       138.0         64.0  23.74          False           False   False   \n",
       "244       200.0         70.0  28.76          False           False   False   \n",
       "\n",
       "     imputed  \n",
       "0      False  \n",
       "1      False  \n",
       "2      False  \n",
       "3      False  \n",
       "4      False  \n",
       "..       ...  \n",
       "240    False  \n",
       "241    False  \n",
       "242    False  \n",
       "243    False  \n",
       "244    False  \n",
       "\n",
       "[245 rows x 7 columns]"
      ]
     },
     "execution_count": 100,
     "metadata": {},
     "output_type": "execute_result"
    }
   ],
   "source": [
    "# Matriz tabular de las variables weight, height y bmi\n",
    "(\n",
    "    data_df                                                 # DataFrame\n",
    "    .loc[:,['weight_lbs', 'height_inch', 'bmi']]            # Variables seleccionadas\n",
    "    .missing.bind_shadow_matrix(true_string=True, false_string=False) # matriz tabular\n",
    "    .apply(                                                 # imputacion de los valores por la media\n",
    "        axis='rows',\n",
    "        func=lambda column:column.fillna(column.mean() if '_NA' not in column.name else column)\n",
    "    )\n",
    "    .assign(                                                # nueva columna: imputed\n",
    "        imputed=lambda df: df.weight_lbs_NA | df.height_inch_NA\n",
    "    )\n",
    ")"
   ]
  },
  {
   "cell_type": "markdown",
   "metadata": {},
   "source": [
    "La tabla nos muestra la Matriz tabular de las tres variables junto a una nueva columna llamada imputed con True para observaciones con valores faltantes en las variables weight y height. Esta columna permitira visualizar los valores faltantes luego de la imputacion.\n",
    "\n",
    "Para obtener la visualizacion procedemos como sigue:"
   ]
  },
  {
   "cell_type": "code",
   "execution_count": 101,
   "metadata": {},
   "outputs": [
    {
     "data": {
      "text/plain": [
       "<AxesSubplot:xlabel='weight_lbs', ylabel='bmi'>"
      ]
     },
     "execution_count": 101,
     "metadata": {},
     "output_type": "execute_result"
    },
    {
     "data": {
      "image/png": "[encoded data removed]",
      "text/plain": [
       "<Figure size 576x576 with 1 Axes>"
      ]
     },
     "metadata": {},
     "output_type": "display_data"
    }
   ],
   "source": [
    "# Matriz tabular de las variables weight, height y bmi\n",
    "(\n",
    "    data_df                                                 # DataFrame\n",
    "    .loc[:,['weight_lbs', 'height_inch', 'bmi']]            # Variables seleccionadas\n",
    "    .missing.bind_shadow_matrix(true_string=True, false_string=False) # matriz tabular\n",
    "    .apply(                                                 # imputacion de los valores por la media\n",
    "        axis='rows',\n",
    "        func=lambda column:column.fillna(column.mean() if '_NA' not in column.name else column)\n",
    "    )\n",
    "    .assign(                                                # nueva columna: imputed\n",
    "        imputed=lambda df: df.weight_lbs_NA | df.bmi_NA\n",
    "    )\n",
    "    .pipe(                      # grafico scatterplot para dos variables\n",
    "        lambda df:(\n",
    "            sns.scatterplot(\n",
    "                data=df,\n",
    "                x='weight_lbs',\n",
    "                y='bmi',\n",
    "                hue='imputed'\n",
    "            )\n",
    "        )\n",
    "    )\n",
    ")"
   ]
  },
  {
   "cell_type": "markdown",
   "metadata": {},
   "source": [
    "La grafica nos muestra puntos azules indicando la presencia de valores en ambas variables mientras que los naranjas indican los valores imputados que como vemos se encuentran dentro del promedio de los valores. Como se ubican en el centro se considera una buena imputacion debido a que sesga los datos. "
   ]
  },
  {
   "cell_type": "markdown",
   "metadata": {},
   "source": [
    "## Visualizacion Multiple de Imputaciones"
   ]
  },
  {
   "cell_type": "markdown",
   "metadata": {},
   "source": [
    "Es una tecnica que permite visualizar, mediante histogramas, la imputacion de valores faltantes en varias variables. Es muy util para comparar los valores faltantes de las variables analizadas asi como determinar si se presentan algun sesgo una vez imputado los datos.\n",
    "\n",
    "Para ello debemos seguir los siguientes pasos:"
   ]
  },
  {
   "cell_type": "markdown",
   "metadata": {},
   "source": [
    "### 1. Crea la matriz tabular de las variables e imputa los valores faltantes"
   ]
  },
  {
   "cell_type": "code",
   "execution_count": 102,
   "metadata": {},
   "outputs": [
    {
     "data": {
      "text/html": [
       "<div>\n",
       "<style scoped>\n",
       "    .dataframe tbody tr th:only-of-type {\n",
       "        vertical-align: middle;\n",
       "    }\n",
       "\n",
       "    .dataframe tbody tr th {\n",
       "        vertical-align: top;\n",
       "    }\n",
       "\n",
       "    .dataframe thead th {\n",
       "        text-align: right;\n",
       "    }\n",
       "</style>\n",
       "<table border=\"1\" class=\"dataframe\">\n",
       "  <thead>\n",
       "    <tr style=\"text-align: right;\">\n",
       "      <th></th>\n",
       "      <th>weight_lbs</th>\n",
       "      <th>height_inch</th>\n",
       "      <th>bmi</th>\n",
       "      <th>weight_lbs_NA</th>\n",
       "      <th>height_inch_NA</th>\n",
       "      <th>bmi_NA</th>\n",
       "    </tr>\n",
       "  </thead>\n",
       "  <tbody>\n",
       "    <tr>\n",
       "      <th>0</th>\n",
       "      <td>190.0</td>\n",
       "      <td>64.0</td>\n",
       "      <td>32.68</td>\n",
       "      <td>False</td>\n",
       "      <td>False</td>\n",
       "      <td>False</td>\n",
       "    </tr>\n",
       "    <tr>\n",
       "      <th>1</th>\n",
       "      <td>170.0</td>\n",
       "      <td>68.0</td>\n",
       "      <td>25.90</td>\n",
       "      <td>False</td>\n",
       "      <td>False</td>\n",
       "      <td>False</td>\n",
       "    </tr>\n",
       "    <tr>\n",
       "      <th>2</th>\n",
       "      <td>163.0</td>\n",
       "      <td>64.0</td>\n",
       "      <td>28.04</td>\n",
       "      <td>False</td>\n",
       "      <td>False</td>\n",
       "      <td>False</td>\n",
       "    </tr>\n",
       "    <tr>\n",
       "      <th>3</th>\n",
       "      <td>230.0</td>\n",
       "      <td>74.0</td>\n",
       "      <td>29.59</td>\n",
       "      <td>False</td>\n",
       "      <td>False</td>\n",
       "      <td>False</td>\n",
       "    </tr>\n",
       "    <tr>\n",
       "      <th>4</th>\n",
       "      <td>135.0</td>\n",
       "      <td>62.0</td>\n",
       "      <td>24.74</td>\n",
       "      <td>False</td>\n",
       "      <td>False</td>\n",
       "      <td>False</td>\n",
       "    </tr>\n",
       "    <tr>\n",
       "      <th>...</th>\n",
       "      <td>...</td>\n",
       "      <td>...</td>\n",
       "      <td>...</td>\n",
       "      <td>...</td>\n",
       "      <td>...</td>\n",
       "      <td>...</td>\n",
       "    </tr>\n",
       "    <tr>\n",
       "      <th>240</th>\n",
       "      <td>144.0</td>\n",
       "      <td>63.0</td>\n",
       "      <td>25.56</td>\n",
       "      <td>False</td>\n",
       "      <td>False</td>\n",
       "      <td>False</td>\n",
       "    </tr>\n",
       "    <tr>\n",
       "      <th>241</th>\n",
       "      <td>170.0</td>\n",
       "      <td>74.0</td>\n",
       "      <td>21.87</td>\n",
       "      <td>False</td>\n",
       "      <td>False</td>\n",
       "      <td>False</td>\n",
       "    </tr>\n",
       "    <tr>\n",
       "      <th>242</th>\n",
       "      <td>175.0</td>\n",
       "      <td>71.0</td>\n",
       "      <td>24.46</td>\n",
       "      <td>False</td>\n",
       "      <td>False</td>\n",
       "      <td>False</td>\n",
       "    </tr>\n",
       "    <tr>\n",
       "      <th>243</th>\n",
       "      <td>138.0</td>\n",
       "      <td>64.0</td>\n",
       "      <td>23.74</td>\n",
       "      <td>False</td>\n",
       "      <td>False</td>\n",
       "      <td>False</td>\n",
       "    </tr>\n",
       "    <tr>\n",
       "      <th>244</th>\n",
       "      <td>200.0</td>\n",
       "      <td>70.0</td>\n",
       "      <td>28.76</td>\n",
       "      <td>False</td>\n",
       "      <td>False</td>\n",
       "      <td>False</td>\n",
       "    </tr>\n",
       "  </tbody>\n",
       "</table>\n",
       "<p>245 rows × 6 columns</p>\n",
       "</div>"
      ],
      "text/plain": [
       "     weight_lbs  height_inch    bmi  weight_lbs_NA  height_inch_NA  bmi_NA\n",
       "0         190.0         64.0  32.68          False           False   False\n",
       "1         170.0         68.0  25.90          False           False   False\n",
       "2         163.0         64.0  28.04          False           False   False\n",
       "3         230.0         74.0  29.59          False           False   False\n",
       "4         135.0         62.0  24.74          False           False   False\n",
       "..          ...          ...    ...            ...             ...     ...\n",
       "240       144.0         63.0  25.56          False           False   False\n",
       "241       170.0         74.0  21.87          False           False   False\n",
       "242       175.0         71.0  24.46          False           False   False\n",
       "243       138.0         64.0  23.74          False           False   False\n",
       "244       200.0         70.0  28.76          False           False   False\n",
       "\n",
       "[245 rows x 6 columns]"
      ]
     },
     "execution_count": 102,
     "metadata": {},
     "output_type": "execute_result"
    }
   ],
   "source": [
    "# matriz tabular e imputacion\n",
    "(\n",
    "    data_df                                                         # DataFrame\n",
    "    .loc[:,['weight_lbs', 'height_inch', 'bmi']]                    # variables seleccionadas     \n",
    "    .missing.bind_shadow_matrix(true_string=True, false_string=False) # matriz tabular\n",
    "    .apply(                                                     # imputacion por la media\n",
    "        axis='rows',\n",
    "        func = lambda column: column.fillna(column.mean() if '_NA' not in column.name else column)\n",
    "    )\n",
    ")"
   ]
  },
  {
   "cell_type": "markdown",
   "metadata": {},
   "source": [
    "### 2. Pivotear las variables de origen y colocar las variables con terminacion NA como indice"
   ]
  },
  {
   "cell_type": "code",
   "execution_count": 114,
   "metadata": {},
   "outputs": [
    {
     "data": {
      "text/html": [
       "<div>\n",
       "<style scoped>\n",
       "    .dataframe tbody tr th:only-of-type {\n",
       "        vertical-align: middle;\n",
       "    }\n",
       "\n",
       "    .dataframe tbody tr th {\n",
       "        vertical-align: top;\n",
       "    }\n",
       "\n",
       "    .dataframe thead th {\n",
       "        text-align: right;\n",
       "    }\n",
       "</style>\n",
       "<table border=\"1\" class=\"dataframe\">\n",
       "  <thead>\n",
       "    <tr style=\"text-align: right;\">\n",
       "      <th></th>\n",
       "      <th>weight_lbs_NA</th>\n",
       "      <th>height_inch_NA</th>\n",
       "      <th>bmi_NA</th>\n",
       "      <th>Variable</th>\n",
       "      <th>Value</th>\n",
       "    </tr>\n",
       "  </thead>\n",
       "  <tbody>\n",
       "    <tr>\n",
       "      <th>0</th>\n",
       "      <td>False</td>\n",
       "      <td>False</td>\n",
       "      <td>False</td>\n",
       "      <td>weight_lbs</td>\n",
       "      <td>190.00</td>\n",
       "    </tr>\n",
       "    <tr>\n",
       "      <th>1</th>\n",
       "      <td>False</td>\n",
       "      <td>False</td>\n",
       "      <td>False</td>\n",
       "      <td>weight_lbs</td>\n",
       "      <td>170.00</td>\n",
       "    </tr>\n",
       "    <tr>\n",
       "      <th>2</th>\n",
       "      <td>False</td>\n",
       "      <td>False</td>\n",
       "      <td>False</td>\n",
       "      <td>weight_lbs</td>\n",
       "      <td>163.00</td>\n",
       "    </tr>\n",
       "    <tr>\n",
       "      <th>3</th>\n",
       "      <td>False</td>\n",
       "      <td>False</td>\n",
       "      <td>False</td>\n",
       "      <td>weight_lbs</td>\n",
       "      <td>230.00</td>\n",
       "    </tr>\n",
       "    <tr>\n",
       "      <th>4</th>\n",
       "      <td>False</td>\n",
       "      <td>False</td>\n",
       "      <td>False</td>\n",
       "      <td>weight_lbs</td>\n",
       "      <td>135.00</td>\n",
       "    </tr>\n",
       "    <tr>\n",
       "      <th>...</th>\n",
       "      <td>...</td>\n",
       "      <td>...</td>\n",
       "      <td>...</td>\n",
       "      <td>...</td>\n",
       "      <td>...</td>\n",
       "    </tr>\n",
       "    <tr>\n",
       "      <th>730</th>\n",
       "      <td>False</td>\n",
       "      <td>False</td>\n",
       "      <td>False</td>\n",
       "      <td>bmi</td>\n",
       "      <td>25.56</td>\n",
       "    </tr>\n",
       "    <tr>\n",
       "      <th>731</th>\n",
       "      <td>False</td>\n",
       "      <td>False</td>\n",
       "      <td>False</td>\n",
       "      <td>bmi</td>\n",
       "      <td>21.87</td>\n",
       "    </tr>\n",
       "    <tr>\n",
       "      <th>732</th>\n",
       "      <td>False</td>\n",
       "      <td>False</td>\n",
       "      <td>False</td>\n",
       "      <td>bmi</td>\n",
       "      <td>24.46</td>\n",
       "    </tr>\n",
       "    <tr>\n",
       "      <th>733</th>\n",
       "      <td>False</td>\n",
       "      <td>False</td>\n",
       "      <td>False</td>\n",
       "      <td>bmi</td>\n",
       "      <td>23.74</td>\n",
       "    </tr>\n",
       "    <tr>\n",
       "      <th>734</th>\n",
       "      <td>False</td>\n",
       "      <td>False</td>\n",
       "      <td>False</td>\n",
       "      <td>bmi</td>\n",
       "      <td>28.76</td>\n",
       "    </tr>\n",
       "  </tbody>\n",
       "</table>\n",
       "<p>735 rows × 5 columns</p>\n",
       "</div>"
      ],
      "text/plain": [
       "     weight_lbs_NA  height_inch_NA  bmi_NA    Variable   Value\n",
       "0            False           False   False  weight_lbs  190.00\n",
       "1            False           False   False  weight_lbs  170.00\n",
       "2            False           False   False  weight_lbs  163.00\n",
       "3            False           False   False  weight_lbs  230.00\n",
       "4            False           False   False  weight_lbs  135.00\n",
       "..             ...             ...     ...         ...     ...\n",
       "730          False           False   False         bmi   25.56\n",
       "731          False           False   False         bmi   21.87\n",
       "732          False           False   False         bmi   24.46\n",
       "733          False           False   False         bmi   23.74\n",
       "734          False           False   False         bmi   28.76\n",
       "\n",
       "[735 rows x 5 columns]"
      ]
     },
     "execution_count": 114,
     "metadata": {},
     "output_type": "execute_result"
    }
   ],
   "source": [
    "# pivotear variables y pasar las variables con NA como las primeras columnas\n",
    "(\n",
    "    data_df                                                         # DataFrame\n",
    "    .loc[:,['weight_lbs', 'height_inch', 'bmi']]                    # variables seleccionadas     \n",
    "    .missing.bind_shadow_matrix(true_string=True, false_string=False) # matriz tabular\n",
    "    .apply(                                                         # imputacion por la media\n",
    "        axis='rows',\n",
    "        func = lambda column: column.fillna(column.mean() if '_NA' not in column.name else column)\n",
    "    )\n",
    "    .melt(                                                          \n",
    "        id_vars=['weight_lbs_NA', 'height_inch_NA', 'bmi_NA'], # colocar variables con NA de primero\n",
    "        value_vars=['weight_lbs', 'height_inch', 'bmi'],       # pivotear variables\n",
    "        var_name='Variable', \n",
    "        value_name='Value'\n",
    "    )\n",
    ")"
   ]
  },
  {
   "cell_type": "markdown",
   "metadata": {},
   "source": [
    "### 3. Colocar las columnas Variable y Value de indice y pivotear las variables con NA"
   ]
  },
  {
   "cell_type": "code",
   "execution_count": 116,
   "metadata": {},
   "outputs": [
    {
     "data": {
      "text/html": [
       "<div>\n",
       "<style scoped>\n",
       "    .dataframe tbody tr th:only-of-type {\n",
       "        vertical-align: middle;\n",
       "    }\n",
       "\n",
       "    .dataframe tbody tr th {\n",
       "        vertical-align: top;\n",
       "    }\n",
       "\n",
       "    .dataframe thead th {\n",
       "        text-align: right;\n",
       "    }\n",
       "</style>\n",
       "<table border=\"1\" class=\"dataframe\">\n",
       "  <thead>\n",
       "    <tr style=\"text-align: right;\">\n",
       "      <th></th>\n",
       "      <th>Variable</th>\n",
       "      <th>Value</th>\n",
       "      <th>variable_NA</th>\n",
       "      <th>value_NA</th>\n",
       "    </tr>\n",
       "  </thead>\n",
       "  <tbody>\n",
       "    <tr>\n",
       "      <th>0</th>\n",
       "      <td>weight_lbs</td>\n",
       "      <td>190.00</td>\n",
       "      <td>weight_lbs_NA</td>\n",
       "      <td>False</td>\n",
       "    </tr>\n",
       "    <tr>\n",
       "      <th>1</th>\n",
       "      <td>weight_lbs</td>\n",
       "      <td>170.00</td>\n",
       "      <td>weight_lbs_NA</td>\n",
       "      <td>False</td>\n",
       "    </tr>\n",
       "    <tr>\n",
       "      <th>2</th>\n",
       "      <td>weight_lbs</td>\n",
       "      <td>163.00</td>\n",
       "      <td>weight_lbs_NA</td>\n",
       "      <td>False</td>\n",
       "    </tr>\n",
       "    <tr>\n",
       "      <th>3</th>\n",
       "      <td>weight_lbs</td>\n",
       "      <td>230.00</td>\n",
       "      <td>weight_lbs_NA</td>\n",
       "      <td>False</td>\n",
       "    </tr>\n",
       "    <tr>\n",
       "      <th>4</th>\n",
       "      <td>weight_lbs</td>\n",
       "      <td>135.00</td>\n",
       "      <td>weight_lbs_NA</td>\n",
       "      <td>False</td>\n",
       "    </tr>\n",
       "    <tr>\n",
       "      <th>...</th>\n",
       "      <td>...</td>\n",
       "      <td>...</td>\n",
       "      <td>...</td>\n",
       "      <td>...</td>\n",
       "    </tr>\n",
       "    <tr>\n",
       "      <th>2200</th>\n",
       "      <td>bmi</td>\n",
       "      <td>25.56</td>\n",
       "      <td>bmi_NA</td>\n",
       "      <td>False</td>\n",
       "    </tr>\n",
       "    <tr>\n",
       "      <th>2201</th>\n",
       "      <td>bmi</td>\n",
       "      <td>21.87</td>\n",
       "      <td>bmi_NA</td>\n",
       "      <td>False</td>\n",
       "    </tr>\n",
       "    <tr>\n",
       "      <th>2202</th>\n",
       "      <td>bmi</td>\n",
       "      <td>24.46</td>\n",
       "      <td>bmi_NA</td>\n",
       "      <td>False</td>\n",
       "    </tr>\n",
       "    <tr>\n",
       "      <th>2203</th>\n",
       "      <td>bmi</td>\n",
       "      <td>23.74</td>\n",
       "      <td>bmi_NA</td>\n",
       "      <td>False</td>\n",
       "    </tr>\n",
       "    <tr>\n",
       "      <th>2204</th>\n",
       "      <td>bmi</td>\n",
       "      <td>28.76</td>\n",
       "      <td>bmi_NA</td>\n",
       "      <td>False</td>\n",
       "    </tr>\n",
       "  </tbody>\n",
       "</table>\n",
       "<p>2205 rows × 4 columns</p>\n",
       "</div>"
      ],
      "text/plain": [
       "        Variable   Value    variable_NA  value_NA\n",
       "0     weight_lbs  190.00  weight_lbs_NA     False\n",
       "1     weight_lbs  170.00  weight_lbs_NA     False\n",
       "2     weight_lbs  163.00  weight_lbs_NA     False\n",
       "3     weight_lbs  230.00  weight_lbs_NA     False\n",
       "4     weight_lbs  135.00  weight_lbs_NA     False\n",
       "...          ...     ...            ...       ...\n",
       "2200         bmi   25.56         bmi_NA     False\n",
       "2201         bmi   21.87         bmi_NA     False\n",
       "2202         bmi   24.46         bmi_NA     False\n",
       "2203         bmi   23.74         bmi_NA     False\n",
       "2204         bmi   28.76         bmi_NA     False\n",
       "\n",
       "[2205 rows x 4 columns]"
      ]
     },
     "execution_count": 116,
     "metadata": {},
     "output_type": "execute_result"
    }
   ],
   "source": [
    "(\n",
    "    data_df                                                         # DataFrame\n",
    "    .loc[:,['weight_lbs', 'height_inch', 'bmi']]                    # variables seleccionadas     \n",
    "    .missing.bind_shadow_matrix(true_string=True, false_string=False) # matriz tabular\n",
    "    .apply(                                                         # imputacion por la media\n",
    "        axis='rows',\n",
    "        func = lambda column: column.fillna(column.mean() if '_NA' not in column.name else column)\n",
    "    )\n",
    "    .melt(                                                          \n",
    "        id_vars=['weight_lbs_NA', 'height_inch_NA', 'bmi_NA'], # colocar variables con NA de indice\n",
    "        value_vars=['weight_lbs', 'height_inch', 'bmi'],       # pivotear variables\n",
    "        var_name='Variable', \n",
    "        value_name='Value'\n",
    "    )\n",
    "    .melt(                                              \n",
    "        id_vars=['Variable', 'Value'],                         # colocar Variable y Value como indice\n",
    "        value_vars=['weight_lbs_NA', 'height_inch_NA', 'bmi_NA'],   # pivotear variables con NA\n",
    "        var_name='variable_NA',\n",
    "        value_name='value_NA'\n",
    "    )\n",
    ")"
   ]
  },
  {
   "cell_type": "markdown",
   "metadata": {},
   "source": [
    "### 4. Crear nueva columna con True para observaciones donde los valores de Variable existan en variable_NA y False en caso contrario"
   ]
  },
  {
   "cell_type": "code",
   "execution_count": 117,
   "metadata": {},
   "outputs": [
    {
     "data": {
      "text/html": [
       "<div>\n",
       "<style scoped>\n",
       "    .dataframe tbody tr th:only-of-type {\n",
       "        vertical-align: middle;\n",
       "    }\n",
       "\n",
       "    .dataframe tbody tr th {\n",
       "        vertical-align: top;\n",
       "    }\n",
       "\n",
       "    .dataframe thead th {\n",
       "        text-align: right;\n",
       "    }\n",
       "</style>\n",
       "<table border=\"1\" class=\"dataframe\">\n",
       "  <thead>\n",
       "    <tr style=\"text-align: right;\">\n",
       "      <th></th>\n",
       "      <th>Variable</th>\n",
       "      <th>Value</th>\n",
       "      <th>variable_NA</th>\n",
       "      <th>value_NA</th>\n",
       "      <th>valid</th>\n",
       "    </tr>\n",
       "  </thead>\n",
       "  <tbody>\n",
       "    <tr>\n",
       "      <th>0</th>\n",
       "      <td>weight_lbs</td>\n",
       "      <td>190.00</td>\n",
       "      <td>weight_lbs_NA</td>\n",
       "      <td>False</td>\n",
       "      <td>True</td>\n",
       "    </tr>\n",
       "    <tr>\n",
       "      <th>1</th>\n",
       "      <td>weight_lbs</td>\n",
       "      <td>170.00</td>\n",
       "      <td>weight_lbs_NA</td>\n",
       "      <td>False</td>\n",
       "      <td>True</td>\n",
       "    </tr>\n",
       "    <tr>\n",
       "      <th>2</th>\n",
       "      <td>weight_lbs</td>\n",
       "      <td>163.00</td>\n",
       "      <td>weight_lbs_NA</td>\n",
       "      <td>False</td>\n",
       "      <td>True</td>\n",
       "    </tr>\n",
       "    <tr>\n",
       "      <th>3</th>\n",
       "      <td>weight_lbs</td>\n",
       "      <td>230.00</td>\n",
       "      <td>weight_lbs_NA</td>\n",
       "      <td>False</td>\n",
       "      <td>True</td>\n",
       "    </tr>\n",
       "    <tr>\n",
       "      <th>4</th>\n",
       "      <td>weight_lbs</td>\n",
       "      <td>135.00</td>\n",
       "      <td>weight_lbs_NA</td>\n",
       "      <td>False</td>\n",
       "      <td>True</td>\n",
       "    </tr>\n",
       "    <tr>\n",
       "      <th>...</th>\n",
       "      <td>...</td>\n",
       "      <td>...</td>\n",
       "      <td>...</td>\n",
       "      <td>...</td>\n",
       "      <td>...</td>\n",
       "    </tr>\n",
       "    <tr>\n",
       "      <th>2200</th>\n",
       "      <td>bmi</td>\n",
       "      <td>25.56</td>\n",
       "      <td>bmi_NA</td>\n",
       "      <td>False</td>\n",
       "      <td>True</td>\n",
       "    </tr>\n",
       "    <tr>\n",
       "      <th>2201</th>\n",
       "      <td>bmi</td>\n",
       "      <td>21.87</td>\n",
       "      <td>bmi_NA</td>\n",
       "      <td>False</td>\n",
       "      <td>True</td>\n",
       "    </tr>\n",
       "    <tr>\n",
       "      <th>2202</th>\n",
       "      <td>bmi</td>\n",
       "      <td>24.46</td>\n",
       "      <td>bmi_NA</td>\n",
       "      <td>False</td>\n",
       "      <td>True</td>\n",
       "    </tr>\n",
       "    <tr>\n",
       "      <th>2203</th>\n",
       "      <td>bmi</td>\n",
       "      <td>23.74</td>\n",
       "      <td>bmi_NA</td>\n",
       "      <td>False</td>\n",
       "      <td>True</td>\n",
       "    </tr>\n",
       "    <tr>\n",
       "      <th>2204</th>\n",
       "      <td>bmi</td>\n",
       "      <td>28.76</td>\n",
       "      <td>bmi_NA</td>\n",
       "      <td>False</td>\n",
       "      <td>True</td>\n",
       "    </tr>\n",
       "  </tbody>\n",
       "</table>\n",
       "<p>735 rows × 5 columns</p>\n",
       "</div>"
      ],
      "text/plain": [
       "        Variable   Value    variable_NA  value_NA  valid\n",
       "0     weight_lbs  190.00  weight_lbs_NA     False   True\n",
       "1     weight_lbs  170.00  weight_lbs_NA     False   True\n",
       "2     weight_lbs  163.00  weight_lbs_NA     False   True\n",
       "3     weight_lbs  230.00  weight_lbs_NA     False   True\n",
       "4     weight_lbs  135.00  weight_lbs_NA     False   True\n",
       "...          ...     ...            ...       ...    ...\n",
       "2200         bmi   25.56         bmi_NA     False   True\n",
       "2201         bmi   21.87         bmi_NA     False   True\n",
       "2202         bmi   24.46         bmi_NA     False   True\n",
       "2203         bmi   23.74         bmi_NA     False   True\n",
       "2204         bmi   28.76         bmi_NA     False   True\n",
       "\n",
       "[735 rows x 5 columns]"
      ]
     },
     "execution_count": 117,
     "metadata": {},
     "output_type": "execute_result"
    }
   ],
   "source": [
    "(\n",
    "    data_df                                                         # DataFrame\n",
    "    .loc[:,['weight_lbs', 'height_inch', 'bmi']]                    # variables seleccionadas     \n",
    "    .missing.bind_shadow_matrix(true_string=True, false_string=False) # matriz tabular\n",
    "    .apply(                                                         # imputacion por la media\n",
    "        axis='rows',\n",
    "        func = lambda column: column.fillna(column.mean() if '_NA' not in column.name else column)\n",
    "    )\n",
    "    .melt(                                                          \n",
    "        id_vars=['weight_lbs_NA', 'height_inch_NA', 'bmi_NA'], # colocar variables con NA de indice\n",
    "        value_vars=['weight_lbs', 'height_inch', 'bmi'],       # pivotear variables\n",
    "        var_name='Variable', \n",
    "        value_name='Value'\n",
    "    )\n",
    "    .melt(                                              \n",
    "        id_vars=['Variable', 'Value'],                         # colocar Variable y Value como indice\n",
    "        value_vars=['weight_lbs_NA', 'height_inch_NA', 'bmi_NA'],   # pivotear variables con NA\n",
    "        var_name='variable_NA',\n",
    "        value_name='value_NA'\n",
    "    )\n",
    "    .assign(\n",
    "        valid=lambda df: df.apply(axis='columns', func=lambda column: column.Variable in column.variable_NA)\n",
    "    )\n",
    "    .query('valid')\n",
    ")"
   ]
  },
  {
   "cell_type": "markdown",
   "metadata": {},
   "source": [
    "### 5. Crear los histogramas para cada variable"
   ]
  },
  {
   "cell_type": "code",
   "execution_count": 118,
   "metadata": {},
   "outputs": [
    {
     "data": {
      "text/plain": [
       "<seaborn.axisgrid.FacetGrid at 0x7f2e6cf60340>"
      ]
     },
     "execution_count": 118,
     "metadata": {},
     "output_type": "execute_result"
    },
    {
     "data": {
      "image/png": "[encoded data removed]",
      "text/plain": [
       "<Figure size 1147.47x360 with 3 Axes>"
      ]
     },
     "metadata": {},
     "output_type": "display_data"
    }
   ],
   "source": [
    "(\n",
    "    data_df                                                         # DataFrame\n",
    "    .loc[:,['weight_lbs', 'height_inch', 'bmi']]                    # variables seleccionadas     \n",
    "    .missing.bind_shadow_matrix(true_string=True, false_string=False) # matriz tabular\n",
    "    .apply(                                                         # imputacion por la media\n",
    "        axis='rows',\n",
    "        func = lambda column: column.fillna(column.mean() if '_NA' not in column.name else column)\n",
    "    )\n",
    "    .melt(                                                          \n",
    "        id_vars=['weight_lbs_NA', 'height_inch_NA', 'bmi_NA'], # colocar variables con NA de indice\n",
    "        value_vars=['weight_lbs', 'height_inch', 'bmi'],       # pivotear variables\n",
    "        var_name='Variable', \n",
    "        value_name='Value'\n",
    "    )\n",
    "    .melt(                                              \n",
    "        id_vars=['Variable', 'Value'],                         # colocar Variable y Value como indice\n",
    "        value_vars=['weight_lbs_NA', 'height_inch_NA', 'bmi_NA'],   # pivotear variables con NA\n",
    "        var_name='variable_NA',\n",
    "        value_name='value_NA'\n",
    "    )\n",
    "    .assign(\n",
    "        valid=lambda df: df.apply(axis='columns', func=lambda column: column.Variable in column.variable_NA)\n",
    "    )\n",
    "    .query('valid')\n",
    "    .pipe(\n",
    "        lambda df:(\n",
    "            sns.displot(\n",
    "                data=df,\n",
    "                x='Value',\n",
    "                hue='value_NA',\n",
    "                col='Variable',\n",
    "                common_bins=False,\n",
    "                facet_kws={\n",
    "                    'sharex':False,\n",
    "                    'sharey':False\n",
    "                }\n",
    "            )\n",
    "        )\n",
    "    )\n",
    ")"
   ]
  },
  {
   "cell_type": "markdown",
   "metadata": {},
   "source": [
    "Finalmente obtenemos los histogramas de cada variable donde el eje Y es independiente para cada grafica. Notamos como en casos anteriores, que la imputacion no altera la estructura de los datos lo cual es un indicativo de una buena imputacion."
   ]
  }
 ],
 "metadata": {
  "kernelspec": {
   "display_name": "data",
   "language": "python",
   "name": "python3"
  },
  "language_info": {
   "codemirror_mode": {
    "name": "ipython",
    "version": 3
   },
   "file_extension": ".py",
   "mimetype": "text/x-python",
   "name": "python",
   "nbconvert_exporter": "python",
   "pygments_lexer": "ipython3",
   "version": "3.10.8"
  },
  "orig_nbformat": 4
 },
 "nbformat": 4,
 "nbformat_minor": 2
}
