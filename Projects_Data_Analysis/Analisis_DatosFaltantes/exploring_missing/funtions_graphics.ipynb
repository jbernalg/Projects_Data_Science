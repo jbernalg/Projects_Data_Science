{
 "cells": [
  {
   "attachments": {},
   "cell_type": "markdown",
   "metadata": {},
   "source": [
    "# Funciones para Graficar Valores Faltantes"
   ]
  },
  {
   "cell_type": "code",
   "execution_count": 1,
   "metadata": {},
   "outputs": [],
   "source": [
    "# libreria\n",
    "import itertools\n",
    "import pandas as pd\n",
    "import upsetplot\n",
    "import numpy as np"
   ]
  },
  {
   "cell_type": "code",
   "execution_count": 2,
   "metadata": {},
   "outputs": [],
   "source": [
    "# manejo de errores\n",
    "try:\n",
    "    del pd.DataFrame.missing\n",
    "except AttributeError:\n",
    "    pass"
   ]
  },
  {
   "cell_type": "code",
   "execution_count": 4,
   "metadata": {},
   "outputs": [
    {
     "name": "stderr",
     "output_type": "stream",
     "text": [
      "/tmp/ipykernel_1592/1506925051.py:2: UserWarning: registration of accessor <class '__main__.MissingMethods'> under name 'missing' for type <class 'pandas.core.frame.DataFrame'> is overriding a preexisting attribute with the same name.\n",
      "  class MissingMethods:\n"
     ]
    }
   ],
   "source": [
    "@pd.api.extensions.register_dataframe_accessor(\"missing\")\n",
    "class MissingMethods:\n",
    "    \n",
    "    # constructor\n",
    "    def __init__(self, pandas_obj):\n",
    "        self._obj = pandas_obj\n",
    "\n",
    "    #-----------------las siguientes funciones aplican sobre dataframes----------------------\n",
    "\n",
    "    # grafica de paleta\n",
    "    def missing_variable_plot(self):\n",
    "        df = self._obj.missing.missing_variable_summary().sort_values(\"n_missing\")\n",
    "\n",
    "        plot_range = range(1, len(df.index) + 1)\n",
    "\n",
    "        plt.hlines(y=plot_range, xmin=0, xmax=df.n_missing, color=\"black\")\n",
    "\n",
    "        plt.plot(df.n_missing, plot_range, \"o\", color=\"black\")\n",
    "\n",
    "        plt.yticks(plot_range, df.variable)\n",
    "\n",
    "        plt.grid(axis=\"y\")\n",
    "\n",
    "        plt.xlabel(\"Number missing\")\n",
    "        plt.ylabel(\"Variable\")\n",
    "\n",
    "    # histograma de observaciones con valores faltantes.\n",
    "    def missing_case_plot(self):\n",
    "\n",
    "        df = self._obj.missing.missing_case_summary()\n",
    "\n",
    "        sns.displot(data=df, x=\"n_missing\", binwidth=1, color=\"black\")\n",
    "\n",
    "        plt.grid(axis=\"x\")\n",
    "        plt.xlabel(\"Number of missings in case\")\n",
    "        plt.ylabel(\"Number of cases\")\n",
    "\n",
    "    # histograma por rango de valores faltantes para una variable\n",
    "    def missing_variable_span_plot(\n",
    "        self, variable: str, span_every: int, rot: int = 0, figsize=None\n",
    "    ):\n",
    "\n",
    "        (\n",
    "            self._obj.missing.missing_variable_span(\n",
    "                variable=variable, span_every=span_every\n",
    "            ).plot.bar(\n",
    "                x=\"span_counter\",\n",
    "                y=[\"pct_missing\", \"pct_complete\"],\n",
    "                stacked=True,\n",
    "                width=1,\n",
    "                color=[\"black\", \"lightgray\"],\n",
    "                rot=rot,\n",
    "                figsize=figsize,\n",
    "            )\n",
    "        )\n",
    "\n",
    "        plt.xlabel(\"Span number\")\n",
    "        plt.ylabel(\"Percentage missing\")\n",
    "        plt.legend([\"Missing\", \"Present\"])\n",
    "        plt.title(\n",
    "            f\"Percentage of missing values\\nOver a repeating span of { span_every } \",\n",
    "            loc=\"left\",\n",
    "        )\n",
    "        plt.grid(False)\n",
    "        plt.margins(0)\n",
    "        plt.tight_layout(pad=0)\n",
    "\n",
    "    # upsetlplot entre las variables\n",
    "    def missing_upsetplot(self, variables: list[str] = None, **kwargs):\n",
    "\n",
    "        if variables is None:\n",
    "            variables = self._obj.columns.tolist()\n",
    "\n",
    "        return (\n",
    "            self._obj.isna()\n",
    "            .value_counts(variables)\n",
    "            .pipe(lambda df: upsetplot.plot(df, **kwargs))\n",
    "        )    "
   ]
  }
 ],
 "metadata": {
  "kernelspec": {
   "display_name": "data",
   "language": "python",
   "name": "python3"
  },
  "language_info": {
   "codemirror_mode": {
    "name": "ipython",
    "version": 3
   },
   "file_extension": ".py",
   "mimetype": "text/x-python",
   "name": "python",
   "nbconvert_exporter": "python",
   "pygments_lexer": "ipython3",
   "version": "3.10.8"
  },
  "orig_nbformat": 4
 },
 "nbformat": 4,
 "nbformat_minor": 2
}
