{
 "cells": [
  {
   "cell_type": "markdown",
   "metadata": {},
   "source": []
  },
  {
   "cell_type": "code",
   "execution_count": 13,
   "metadata": {},
   "outputs": [],
   "source": [
    "# Librerias\n",
    "import janitor\n",
    "import matplotlib.pyplot as plt\n",
    "import missingno\n",
    "import numpy as np\n",
    "import pandas as pd\n",
    "import pyreadr\n",
    "import seaborn as sns\n",
    "#import session_info\n",
    "import upsetplot"
   ]
  },
  {
   "cell_type": "code",
   "execution_count": 14,
   "metadata": {},
   "outputs": [],
   "source": [
    "# linea para correr el notebook utils\n",
    "%run utils.ipynb"
   ]
  },
  {
   "attachments": {},
   "cell_type": "markdown",
   "metadata": {},
   "source": [
    "## Cargar los datos desde la Web"
   ]
  },
  {
   "cell_type": "code",
   "execution_count": 15,
   "metadata": {},
   "outputs": [
    {
     "data": {
      "text/plain": [
       "dict_keys(['oceanbuoys_df', 'pedestrian_df', 'riskfactors_df'])"
      ]
     },
     "execution_count": 15,
     "metadata": {},
     "output_type": "execute_result"
    }
   ],
   "source": [
    "# Guardar la url en una variable\n",
    "datos_url = 'https://github.com/njtierney/naniar/raw/master/data/'\n",
    "\n",
    "# Almacenar los nombres de los archivos a descargar en una lista\n",
    "datasets_names = ('oceanbuoys', 'pedestrian', 'riskfactors')\n",
    "\n",
    "# Almacenar el tipo de extension en una variable\n",
    "extension = '.rda'\n",
    "\n",
    "# diccionario que almacena los archivos descargados\n",
    "datasets_dfs = {} \n",
    "\n",
    "for dataset_name in datasets_names:\n",
    "\n",
    "    dataset_file = f'{ dataset_name }{ extension }' # almacena el nombre de cada archivo con su respectiva extension\n",
    "    dataset_output_file = f'./data/{ dataset_file }' # ruta y nombre donde se guarda los archivos\n",
    "    dataset_url = f'{ datos_url }{ dataset_file }' # url de cada archivo a descargar\n",
    "\n",
    "    !wget -q -O { dataset_output_file } { dataset_url } # linea que descarga los archivos\n",
    "\n",
    "    # almacenar en el diccionario los archivos descargados\n",
    "    datasets_dfs[f'{ dataset_name }_df'] = pyreadr.read_r(dataset_output_file).get(dataset_name)\n",
    "\n",
    "# accede a las llaves del diccionario para verificar que los archivos se hayan cargado\n",
    "datasets_dfs.keys()"
   ]
  },
  {
   "attachments": {},
   "cell_type": "markdown",
   "metadata": {},
   "source": [
    "### Incluir los datos en el ambiente local"
   ]
  },
  {
   "cell_type": "code",
   "execution_count": 16,
   "metadata": {},
   "outputs": [],
   "source": [
    "locals().update(**datasets_dfs)\n",
    "# elimina el diccionario para dejar solamente los dataframes\n",
    "del datasets_dfs"
   ]
  },
  {
   "cell_type": "code",
   "execution_count": 17,
   "metadata": {},
   "outputs": [
    {
     "data": {
      "text/plain": [
       "(37700, 9)"
      ]
     },
     "execution_count": 17,
     "metadata": {},
     "output_type": "execute_result"
    }
   ],
   "source": [
    "# carga del dataframe\n",
    "pedestrian_df.shape"
   ]
  },
  {
   "attachments": {},
   "cell_type": "markdown",
   "metadata": {},
   "source": [
    "El dataframe contiene 37700 registros y 9 variables"
   ]
  },
  {
   "attachments": {},
   "cell_type": "markdown",
   "metadata": {},
   "source": [
    "## Configuracion de las graficas"
   ]
  },
  {
   "cell_type": "code",
   "execution_count": 25,
   "metadata": {},
   "outputs": [],
   "source": [
    "%matplotlib inline\n",
    "\n",
    "# tamaño de los graficos\n",
    "sns.set(\n",
    "    rc={\n",
    "        'figure.figsize':(8, 8)\n",
    "    }\n",
    ")\n",
    "\n",
    "# estilo de los graficos\n",
    "sns.set_style('whitegrid')"
   ]
  },
  {
   "attachments": {},
   "cell_type": "markdown",
   "metadata": {},
   "source": [
    "## EDA de los datos"
   ]
  },
  {
   "cell_type": "code",
   "execution_count": 18,
   "metadata": {},
   "outputs": [
    {
     "data": {
      "text/html": [
       "<div>\n",
       "<style scoped>\n",
       "    .dataframe tbody tr th:only-of-type {\n",
       "        vertical-align: middle;\n",
       "    }\n",
       "\n",
       "    .dataframe tbody tr th {\n",
       "        vertical-align: top;\n",
       "    }\n",
       "\n",
       "    .dataframe thead th {\n",
       "        text-align: right;\n",
       "    }\n",
       "</style>\n",
       "<table border=\"1\" class=\"dataframe\">\n",
       "  <thead>\n",
       "    <tr style=\"text-align: right;\">\n",
       "      <th></th>\n",
       "      <th>hourly_counts</th>\n",
       "      <th>date_time</th>\n",
       "      <th>year</th>\n",
       "      <th>month</th>\n",
       "      <th>month_day</th>\n",
       "      <th>week_day</th>\n",
       "      <th>hour</th>\n",
       "      <th>sensor_id</th>\n",
       "      <th>sensor_name</th>\n",
       "    </tr>\n",
       "  </thead>\n",
       "  <tbody>\n",
       "    <tr>\n",
       "      <th>0</th>\n",
       "      <td>883</td>\n",
       "      <td>2016-01-01 00:00:00</td>\n",
       "      <td>2016</td>\n",
       "      <td>January</td>\n",
       "      <td>1</td>\n",
       "      <td>Friday</td>\n",
       "      <td>0</td>\n",
       "      <td>2</td>\n",
       "      <td>Bourke Street Mall (South)</td>\n",
       "    </tr>\n",
       "    <tr>\n",
       "      <th>1</th>\n",
       "      <td>597</td>\n",
       "      <td>2016-01-01 01:00:00</td>\n",
       "      <td>2016</td>\n",
       "      <td>January</td>\n",
       "      <td>1</td>\n",
       "      <td>Friday</td>\n",
       "      <td>1</td>\n",
       "      <td>2</td>\n",
       "      <td>Bourke Street Mall (South)</td>\n",
       "    </tr>\n",
       "    <tr>\n",
       "      <th>2</th>\n",
       "      <td>294</td>\n",
       "      <td>2016-01-01 02:00:00</td>\n",
       "      <td>2016</td>\n",
       "      <td>January</td>\n",
       "      <td>1</td>\n",
       "      <td>Friday</td>\n",
       "      <td>2</td>\n",
       "      <td>2</td>\n",
       "      <td>Bourke Street Mall (South)</td>\n",
       "    </tr>\n",
       "    <tr>\n",
       "      <th>3</th>\n",
       "      <td>183</td>\n",
       "      <td>2016-01-01 03:00:00</td>\n",
       "      <td>2016</td>\n",
       "      <td>January</td>\n",
       "      <td>1</td>\n",
       "      <td>Friday</td>\n",
       "      <td>3</td>\n",
       "      <td>2</td>\n",
       "      <td>Bourke Street Mall (South)</td>\n",
       "    </tr>\n",
       "    <tr>\n",
       "      <th>4</th>\n",
       "      <td>118</td>\n",
       "      <td>2016-01-01 04:00:00</td>\n",
       "      <td>2016</td>\n",
       "      <td>January</td>\n",
       "      <td>1</td>\n",
       "      <td>Friday</td>\n",
       "      <td>4</td>\n",
       "      <td>2</td>\n",
       "      <td>Bourke Street Mall (South)</td>\n",
       "    </tr>\n",
       "    <tr>\n",
       "      <th>...</th>\n",
       "      <td>...</td>\n",
       "      <td>...</td>\n",
       "      <td>...</td>\n",
       "      <td>...</td>\n",
       "      <td>...</td>\n",
       "      <td>...</td>\n",
       "      <td>...</td>\n",
       "      <td>...</td>\n",
       "      <td>...</td>\n",
       "    </tr>\n",
       "    <tr>\n",
       "      <th>37695</th>\n",
       "      <td>349</td>\n",
       "      <td>2016-12-31 19:00:00</td>\n",
       "      <td>2016</td>\n",
       "      <td>December</td>\n",
       "      <td>31</td>\n",
       "      <td>Saturday</td>\n",
       "      <td>19</td>\n",
       "      <td>23</td>\n",
       "      <td>Spencer St-Collins St (South)</td>\n",
       "    </tr>\n",
       "    <tr>\n",
       "      <th>37696</th>\n",
       "      <td>337</td>\n",
       "      <td>2016-12-31 20:00:00</td>\n",
       "      <td>2016</td>\n",
       "      <td>December</td>\n",
       "      <td>31</td>\n",
       "      <td>Saturday</td>\n",
       "      <td>20</td>\n",
       "      <td>23</td>\n",
       "      <td>Spencer St-Collins St (South)</td>\n",
       "    </tr>\n",
       "    <tr>\n",
       "      <th>37697</th>\n",
       "      <td>356</td>\n",
       "      <td>2016-12-31 21:00:00</td>\n",
       "      <td>2016</td>\n",
       "      <td>December</td>\n",
       "      <td>31</td>\n",
       "      <td>Saturday</td>\n",
       "      <td>21</td>\n",
       "      <td>23</td>\n",
       "      <td>Spencer St-Collins St (South)</td>\n",
       "    </tr>\n",
       "    <tr>\n",
       "      <th>37698</th>\n",
       "      <td>459</td>\n",
       "      <td>2016-12-31 22:00:00</td>\n",
       "      <td>2016</td>\n",
       "      <td>December</td>\n",
       "      <td>31</td>\n",
       "      <td>Saturday</td>\n",
       "      <td>22</td>\n",
       "      <td>23</td>\n",
       "      <td>Spencer St-Collins St (South)</td>\n",
       "    </tr>\n",
       "    <tr>\n",
       "      <th>37699</th>\n",
       "      <td>422</td>\n",
       "      <td>2016-12-31 23:00:00</td>\n",
       "      <td>2016</td>\n",
       "      <td>December</td>\n",
       "      <td>31</td>\n",
       "      <td>Saturday</td>\n",
       "      <td>23</td>\n",
       "      <td>23</td>\n",
       "      <td>Spencer St-Collins St (South)</td>\n",
       "    </tr>\n",
       "  </tbody>\n",
       "</table>\n",
       "<p>37700 rows × 9 columns</p>\n",
       "</div>"
      ],
      "text/plain": [
       "      hourly_counts           date_time  year     month  month_day  week_day  \\\n",
       "0               883 2016-01-01 00:00:00  2016   January          1    Friday   \n",
       "1               597 2016-01-01 01:00:00  2016   January          1    Friday   \n",
       "2               294 2016-01-01 02:00:00  2016   January          1    Friday   \n",
       "3               183 2016-01-01 03:00:00  2016   January          1    Friday   \n",
       "4               118 2016-01-01 04:00:00  2016   January          1    Friday   \n",
       "...             ...                 ...   ...       ...        ...       ...   \n",
       "37695           349 2016-12-31 19:00:00  2016  December         31  Saturday   \n",
       "37696           337 2016-12-31 20:00:00  2016  December         31  Saturday   \n",
       "37697           356 2016-12-31 21:00:00  2016  December         31  Saturday   \n",
       "37698           459 2016-12-31 22:00:00  2016  December         31  Saturday   \n",
       "37699           422 2016-12-31 23:00:00  2016  December         31  Saturday   \n",
       "\n",
       "       hour  sensor_id                    sensor_name  \n",
       "0         0          2     Bourke Street Mall (South)  \n",
       "1         1          2     Bourke Street Mall (South)  \n",
       "2         2          2     Bourke Street Mall (South)  \n",
       "3         3          2     Bourke Street Mall (South)  \n",
       "4         4          2     Bourke Street Mall (South)  \n",
       "...     ...        ...                            ...  \n",
       "37695    19         23  Spencer St-Collins St (South)  \n",
       "37696    20         23  Spencer St-Collins St (South)  \n",
       "37697    21         23  Spencer St-Collins St (South)  \n",
       "37698    22         23  Spencer St-Collins St (South)  \n",
       "37699    23         23  Spencer St-Collins St (South)  \n",
       "\n",
       "[37700 rows x 9 columns]"
      ]
     },
     "execution_count": 18,
     "metadata": {},
     "output_type": "execute_result"
    }
   ],
   "source": [
    "# vista general del dataframe\n",
    "pedestrian_df"
   ]
  },
  {
   "cell_type": "code",
   "execution_count": 19,
   "metadata": {},
   "outputs": [
    {
     "data": {
      "text/plain": [
       "hourly_counts            object\n",
       "date_time        datetime64[ns]\n",
       "year                      int32\n",
       "month                  category\n",
       "month_day                 int32\n",
       "week_day               category\n",
       "hour                      int32\n",
       "sensor_id                 int32\n",
       "sensor_name              object\n",
       "dtype: object"
      ]
     },
     "execution_count": 19,
     "metadata": {},
     "output_type": "execute_result"
    }
   ],
   "source": [
    "# tipos de datos\n",
    "pedestrian_df.dtypes"
   ]
  },
  {
   "attachments": {},
   "cell_type": "markdown",
   "metadata": {},
   "source": [
    "Hay 4 variables de tipo entera, 2 categoricas, 2 de tipo objeto y 1 de tipo fecha"
   ]
  },
  {
   "cell_type": "code",
   "execution_count": 20,
   "metadata": {},
   "outputs": [
    {
     "data": {
      "text/plain": [
       "hourly_counts     True\n",
       "date_time        False\n",
       "year             False\n",
       "month            False\n",
       "month_day        False\n",
       "week_day         False\n",
       "hour             False\n",
       "sensor_id        False\n",
       "sensor_name      False\n",
       "dtype: bool"
      ]
     },
     "execution_count": 20,
     "metadata": {},
     "output_type": "execute_result"
    }
   ],
   "source": [
    "# variables que contienen valores nulos\n",
    "(\n",
    "    pedestrian_df\n",
    "    .isna()\n",
    "    .any()\n",
    ")"
   ]
  },
  {
   "attachments": {},
   "cell_type": "markdown",
   "metadata": {},
   "source": [
    "Tenemos valores faltantes solo en una variable. En este caso, para la variable 'conteo por horas'"
   ]
  },
  {
   "cell_type": "code",
   "execution_count": 21,
   "metadata": {},
   "outputs": [
    {
     "data": {
      "text/plain": [
       "hourly_counts    2548\n",
       "date_time           0\n",
       "year                0\n",
       "month               0\n",
       "month_day           0\n",
       "week_day            0\n",
       "hour                0\n",
       "sensor_id           0\n",
       "sensor_name         0\n",
       "dtype: int64"
      ]
     },
     "execution_count": 21,
     "metadata": {},
     "output_type": "execute_result"
    }
   ],
   "source": [
    "# cantidad de valores nulos por variables\n",
    "(\n",
    "    pedestrian_df\n",
    "    .isnull()\n",
    "    .sum()\n",
    ")"
   ]
  },
  {
   "attachments": {},
   "cell_type": "markdown",
   "metadata": {},
   "source": [
    "Hay 2548 missing en la variable conteo por horas"
   ]
  },
  {
   "cell_type": "code",
   "execution_count": 22,
   "metadata": {},
   "outputs": [
    {
     "data": {
      "text/plain": [
       "2548"
      ]
     },
     "execution_count": 22,
     "metadata": {},
     "output_type": "execute_result"
    }
   ],
   "source": [
    "# numero total de valores nulos\n",
    "(\n",
    "    pedestrian_df\n",
    "    .isnull()\n",
    "    .sum()\n",
    "    .sum()\n",
    ")"
   ]
  },
  {
   "cell_type": "code",
   "execution_count": 26,
   "metadata": {},
   "outputs": [
    {
     "data": {
      "text/plain": [
       "<seaborn.axisgrid.FacetGrid at 0x7f604437e350>"
      ]
     },
     "execution_count": 26,
     "metadata": {},
     "output_type": "execute_result"
    },
    {
     "data": {
      "image/png": "[encoded data removed]",
      "text/plain": [
       "<Figure size 787.475x360 with 1 Axes>"
      ]
     },
     "metadata": {},
     "output_type": "display_data"
    }
   ],
   "source": [
    "# visualizacion de la proporcion de valores nulos por cada variable\n",
    "\n",
    "(\n",
    "    pedestrian_df\n",
    "    .isnull()\n",
    "    .melt()\n",
    "    .pipe(\n",
    "        lambda df:(\n",
    "            sns.displot(\n",
    "                data=df,\n",
    "                y='variable',\n",
    "                hue='value',\n",
    "                multiple='fill',\n",
    "                aspect=2\n",
    "            )\n",
    "        )\n",
    "    )\n",
    ")"
   ]
  }
 ],
 "metadata": {
  "kernelspec": {
   "display_name": "data",
   "language": "python",
   "name": "python3"
  },
  "language_info": {
   "codemirror_mode": {
    "name": "ipython",
    "version": 3
   },
   "file_extension": ".py",
   "mimetype": "text/x-python",
   "name": "python",
   "nbconvert_exporter": "python",
   "pygments_lexer": "ipython3",
   "version": "3.10.8"
  },
  "orig_nbformat": 4
 },
 "nbformat": 4,
 "nbformat_minor": 2
}
