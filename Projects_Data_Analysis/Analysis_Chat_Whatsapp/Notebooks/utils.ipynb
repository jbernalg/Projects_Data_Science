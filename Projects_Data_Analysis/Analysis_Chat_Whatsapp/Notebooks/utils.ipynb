{
 "cells": [
  {
   "cell_type": "markdown",
   "metadata": {},
   "source": [
    "# Funciones para limpiar textos"
   ]
  },
  {
   "cell_type": "markdown",
   "metadata": {},
   "source": [
    "## Librerías"
   ]
  },
  {
   "cell_type": "code",
   "execution_count": 1,
   "metadata": {},
   "outputs": [],
   "source": [
    "import re\n",
    "import emoji\n",
    "import string\n",
    "from wordcloud import WordCloud , STOPWORDS , ImageColorGenerator\n",
    "import matplotlib.pyplot as plt"
   ]
  },
  {
   "cell_type": "markdown",
   "metadata": {},
   "source": [
    "## Funcion para eliminar tildes y convertir mayusculas en minusculas"
   ]
  },
  {
   "cell_type": "code",
   "execution_count": 2,
   "metadata": {},
   "outputs": [],
   "source": [
    "def delete_tilde(texto):\n",
    "    list_char = ['á','é','í','ó','ú','ü']\n",
    "    list_sust = ['a','e','i','o','u','u']\n",
    "\n",
    "    i = 0\n",
    "    for x in list_char:\n",
    "        if x in texto:\n",
    "            texto = texto.replace(x,list_sust[i])\n",
    "        i += 1\n",
    "\n",
    "    texto = texto.lower()    \n",
    "    return texto"
   ]
  },
  {
   "cell_type": "markdown",
   "metadata": {},
   "source": [
    "## Funcion para eliminar simbolos en un texto"
   ]
  },
  {
   "cell_type": "code",
   "execution_count": 3,
   "metadata": {},
   "outputs": [],
   "source": [
    "def remove_puntuation(texto):\n",
    "    texto = re.sub('[%s]'% re.escape(string.punctuation), '', texto)\n",
    "    return texto"
   ]
  },
  {
   "cell_type": "markdown",
   "metadata": {},
   "source": [
    "## Funcion que elimina palabras de poco interes en un texto"
   ]
  },
  {
   "cell_type": "code",
   "execution_count": 4,
   "metadata": {},
   "outputs": [],
   "source": [
    "def regex_word(texto):\n",
    "        word = ['\\s\\<(M|m)ultimedia\\somitido\\>', '\\somitido\\s', '\\smultimedia\\s','https?\\S*',\n",
    "        '(\\<Multimedia\\s)', '\\w+\\.vcf','\\(archivo\\sadjunto\\)',\n",
    "        'omitido\\>', '\\s{4}', '\\s{3}', '\\s{2}', '\\s[a-zA-Z]\\s',\n",
    "        '\\svcf', '\\s(p|P)\\s(m|M)\\s', '\\s(p|P)(m|M)\\s', '\\sp\\s',\n",
    "        '\\sm\\s', '\\sde\\s', '\\scon\\s', '\\sque\\s', '\\sla\\s',\n",
    "        '\\slo\\s', '\\spara\\s', '\\ses\\s', '\\sdel\\s', '\\spor\\s',\n",
    "        '\\sel\\s', '\\sen\\s', '\\slos\\s', '\\stu\\s', '\\ste\\s',\n",
    "        '[\\w\\._]{5,30}\\+?[\\w]{0,10}@[\\w\\.\\-]{3,}\\.\\w{2,5}',\n",
    "        '\\sun\\s', '\\sus\\s', 'su\\s', '\\s\\u200e', '\\u200e' '\\s\\s',\n",
    "        '\\s\\s\\s', '\\s\\u200e3', '\\s\\u200e2', '\\s\\.\\.\\.\\s', '/',\n",
    "        '\\s\\u200e4', '\\s\\u200e7', '\\s\\u200e8', '\\suna\\s',\n",
    "        'la\\s', '\\slas\\s', '\\sse\\s', '\\sal\\s','\\sle\\s',\n",
    "        '\\sbuenas\\s', '\\sbuenos\\s', '\\sdias\\s', '\\stardes\\s', '\\snoches\\s',\n",
    "        '\\sesta\\s', '\\spero\\s','\\sdia\\s', '\\sbuenas\\s', '\\spuede\\s', '\\spueden\\s',\n",
    "        '\\sson\\s', '\\shay\\s', '\\seste\\s', '\\scomo\\s', '\\salgun\\s', '\\salguien\\s',\n",
    "        '\\stodo\\s', '\\stodos\\s', '\\snos\\s', '\\squien\\s', '\\seso\\s', '\\sdesde\\s',\n",
    "        '\\sarchivo\\sadjunto\\s', 'gmailcom', '\\sdonde\\s', '\\shernan\\s', '\\slavadoras\\s',\n",
    "        'gracias', '\\selimino\\smensaje\\s', '\\snnnn\\s',\n",
    "        '\\sllll\\s', '\\slll/\\s', 'llll']\n",
    "\n",
    "        regexes = [re.compile(p) for p in word]\n",
    "\n",
    "        for regex in regexes:\n",
    "                patron = re.compile(regex)\n",
    "                texto = patron.sub(' ', texto)\n",
    "        return texto\n"
   ]
  },
  {
   "cell_type": "markdown",
   "metadata": {},
   "source": [
    "## Funcion que elimina emojis de un texto"
   ]
  },
  {
   "cell_type": "code",
   "execution_count": 5,
   "metadata": {},
   "outputs": [],
   "source": [
    "def delete_emoji(texto):\n",
    "    return emoji.replace_emoji(texto, replace='')"
   ]
  },
  {
   "cell_type": "markdown",
   "metadata": {},
   "source": [
    "## Funcion que crea una nube de palabras a partir de un dataframe"
   ]
  },
  {
   "cell_type": "code",
   "execution_count": 11,
   "metadata": {},
   "outputs": [],
   "source": [
    "def Nube_Words(df, fecha:str):\n",
    "\n",
    "    text = ' '.join(df['Message'])\n",
    "\n",
    "    # aplicando las funciones de limpieza\n",
    "    text = delete_emoji(text)\n",
    "    text = delete_tilde(text)\n",
    "    text = remove_puntuation(text)\n",
    "    text = regex_word(text)\n",
    "\n",
    "    # nube de palabras\n",
    "    wordcloud = WordCloud(stopwords=STOPWORDS, background_color='white').generate(text)\n",
    "    plt.figure(figsize=(10,5))\n",
    "    plt.imshow(wordcloud, interpolation='bilinear')\n",
    "    plt.axis('off')\n",
    "    plt.title(f'{fecha}')\n",
    "    plt.show()"
   ]
  }
 ],
 "metadata": {
  "kernelspec": {
   "display_name": "chat",
   "language": "python",
   "name": "python3"
  },
  "language_info": {
   "codemirror_mode": {
    "name": "ipython",
    "version": 3
   },
   "file_extension": ".py",
   "mimetype": "text/x-python",
   "name": "python",
   "nbconvert_exporter": "python",
   "pygments_lexer": "ipython3",
   "version": "3.10.6"
  },
  "orig_nbformat": 4,
  "vscode": {
   "interpreter": {
    "hash": "d7906b36b5aa9c0d0f11236ff8ca7120d986881bcc6f2322f10dbdbdae143863"
   }
  }
 },
 "nbformat": 4,
 "nbformat_minor": 2
}
