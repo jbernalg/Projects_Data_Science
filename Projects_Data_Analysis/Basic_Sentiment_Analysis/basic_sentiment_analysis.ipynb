{
 "cells": [
  {
   "cell_type": "markdown",
   "metadata": {},
   "source": [
    "# Álgebra Lineal en el Análisis de Sentimientos "
   ]
  },
  {
   "cell_type": "markdown",
   "metadata": {},
   "source": [
    "El proyecto consiste en crear un algoritmo que nos indique que tan positivo, neutral o negativo son una serie de tweets, utilizando conceptos de álgebra lineal.\n",
    "\n",
    "Vamos a utilizar el concepto de **Producto Interno** de vectores y sus propiedades para definir insight relevantes como la _Calidad del resultado_ y el _Score Sentimental_ que serán de mucha utilidad para determinar el sentimiento de cada tweet.\n",
    "\n",
    "En lo que sigue verémos un breve repaso de la teoría que implementarémos en el proyecto, la carga de los datos, limpieza de los mismos, una breve explicación del análisis que se va a realizar y finalmente la ejecución."
   ]
  },
  {
   "cell_type": "markdown",
   "metadata": {},
   "source": [
    "# Conceptos de Álgebra"
   ]
  },
  {
   "cell_type": "markdown",
   "metadata": {},
   "source": [
    "Vamos a dar un breve repaso por algunos conceptos de Álgebra Lineal que serán utilizados en el proyecto. En gran parte de ellos, se explica como implementarlo en Python utilizando la librería Numpy por lo que la importamos."
   ]
  },
  {
   "cell_type": "code",
   "execution_count": 17,
   "metadata": {},
   "outputs": [],
   "source": [
    "import numpy as np"
   ]
  },
  {
   "cell_type": "markdown",
   "metadata": {},
   "source": [
    "## Uno Vector"
   ]
  },
  {
   "cell_type": "markdown",
   "metadata": {},
   "source": [
    "Los *uno vectores* son $n$-vectores en los cuales todas las entradas son igual a uno. Algunas veces son representados como $\\mathbf{1}_{n}$ pero usualmente es denotado simplemente como $\\mathbf{1}$.  \n",
    "Un ejemplo sería el uno vector de dimensión 2: $\\mathbf{1} = (1,1)$.  \n",
    "\n",
    "Para crear un _uno vector_ en python procedemos como sigue:"
   ]
  },
  {
   "cell_type": "code",
   "execution_count": 18,
   "metadata": {},
   "outputs": [
    {
     "data": {
      "text/plain": [
       "array([1., 1., 1.])"
      ]
     },
     "execution_count": 18,
     "metadata": {},
     "output_type": "execute_result"
    }
   ],
   "source": [
    "# vector en 3D\n",
    "v_one = np.ones(3)\n",
    "v_one"
   ]
  },
  {
   "cell_type": "markdown",
   "metadata": {},
   "source": [
    "## Vectores Unitarios"
   ]
  },
  {
   "cell_type": "markdown",
   "metadata": {},
   "source": [
    "El *vector unitario* $\\mathbf{e}_{i}$ es aquel en donde todas las entradas son cero salvo la $i$-ésima.  \n",
    "Por ejemplo, si $\\mathbf{e}_{1}$, $\\mathbf{e}_{2}$ y $\\mathbf{e}_{3}$ son 3-vectores unitarios estos se ven como:\n",
    "$$\n",
    "\\mathbf{e}_{0} =  \\begin{bmatrix}1\\\\ 0\\\\ 0 \\end{bmatrix}, \\qquad \\mathbf{e}_{1} =  \\begin{bmatrix}0\\\\ 1\\\\ 0 \\end{bmatrix}, \\qquad \\mathbf{e}_{2} =  \\begin{bmatrix}0\\\\ 0\\\\ 1 \\end{bmatrix}\n",
    "$$\n",
    "Una forma de representar a los vectores unitarios es la siguiente:\n",
    "$$\n",
    "\\left(e_{i}\\right)_{j} =  \\left \\{ \\begin{matrix} 1 & \\text{si }i=j\n",
    "\\\\ 0 & \\text{si }i\\neq j\\end{matrix}\\right. \n",
    "$$"
   ]
  },
  {
   "cell_type": "markdown",
   "metadata": {},
   "source": [
    "## Transposición de Vectores"
   ]
  },
  {
   "cell_type": "markdown",
   "metadata": {},
   "source": [
    "Los vectores tienen dos formas de representarse:\n",
    "\n",
    "**Vector Columna**\n",
    "$$\n",
    "\\vec{a} = \\begin{bmatrix}a_{0}\\\\ a_{1}\\\\ \\vdots \\\\ a_{n-1}\\end{bmatrix} \n",
    "$$\n",
    "\n",
    "**Vector Renglón**\n",
    "$$\n",
    "\\vec{a} = [a_{0}\\; a_{1}\\; \\cdots \\; a_{n-1}]\n",
    "$$\n",
    "\n",
    "Por lo general, cuando se habla de un vector se refiere a un _vector columna_. La operación de _Transposición_ nos permite cambiar de vectores columnas a vectores renglón sin modificar al vector que se transponga. Retomemos el vector $\\vec{a}$, denotarémos como $\\vec{a}^{T}$ al vector transpuesto de $\\vec{a}$:\n",
    "\n",
    "$$\n",
    "\\vec{a}^{T} = \\begin{bmatrix}a_{0}\\\\ a_{1}\\\\ \\vdots \\\\ a_{n-1}\\end{bmatrix}^{T} = [a_{0}\\; a_{1}\\; \\cdots \\; a_{n-1}]\n",
    "$$\n",
    "\n",
    "La operación _transpuesta de un vector_ podemos realizarla en Python como sigue:\n"
   ]
  },
  {
   "cell_type": "code",
   "execution_count": 3,
   "metadata": {},
   "outputs": [
    {
     "data": {
      "text/plain": [
       "array([6, 1, 4])"
      ]
     },
     "execution_count": 3,
     "metadata": {},
     "output_type": "execute_result"
    }
   ],
   "source": [
    "a = np.array([6,1,4])\n",
    "tras = a.T\n",
    "tras"
   ]
  },
  {
   "cell_type": "markdown",
   "metadata": {},
   "source": [
    "### Propiedades de la Transposición"
   ]
  },
  {
   "cell_type": "markdown",
   "metadata": {},
   "source": [
    "- **Transposición de un vector transpuesto**: es posible transponer un vector transpuesto\n",
    "$$\n",
    "\\left(\\vec{a}^{T}\\right)^{T} = \\left(\\begin{bmatrix}a_{0}\\\\ a_{1}\\\\ \\vdots \\\\ a_{n-1}\\end{bmatrix}^{T}\\right)^{T} = [a_{0}\\; a_{1}\\; \\cdots \\; a_{n-1}]^{T} = \\begin{bmatrix}a_{0}\\\\ a_{1}\\\\ \\vdots \\\\ a_{n-1}\\end{bmatrix} = \\vec{a}\n",
    "$$\n",
    "\n",
    "\n",
    "- **Transposición y el Producto Interno**: Consideremos los vectores $\\vec{a}$ y $\\vec{b}$ ambos de la misma dimensión. Definimos la operación $\\vec{a}^{T}\\vec{b}$ como:\n",
    "\n",
    "$$\n",
    "\\vec{a}^{T}\\; \\vec{b} = [a_{0}\\; a_{1}\\; \\cdots \\; a_{n-1}]  \\begin{bmatrix}b_{0}\\\\ b_{1}\\\\ \\vdots \\\\ b_{n-1}\\end{bmatrix} = a_{0}b_{0} + a_{1}b_{1} + \\cdots + a_{n-1}b_{n-1} = \\displaystyle\\sum_{i=0}^{n-1} a_{i}b_{i}\n",
    "$$\n",
    "\n",
    "Lo cual coincide con la definición del producto interno. Así pues $<\\vec{a},\\vec{b}> = \\vec{a}\\cdot \\vec{b} = \\vec{a}^{T} \\;\\vec{b} = \\displaystyle\\sum_{i=0}^{n-1} a_{i}b_{i}$"
   ]
  },
  {
   "cell_type": "markdown",
   "metadata": {},
   "source": [
    "## Producto Interno"
   ]
  },
  {
   "cell_type": "markdown",
   "metadata": {},
   "source": [
    "El *Producto Interno* (Estandar) o simplemente *Producto Punto* de dos $n$-vectores $\\vec{a}, \\vec{b}$ se define como el escalar:\n",
    "\n",
    "$$\n",
    "<\\vec{a}, \\vec{b}> = \\vec{a} \\cdot \\vec{b} = a_{0}b_{1}+a_{1}b_{1}+\\cdots+a_{n-1}b_{n-1} = \\displaystyle\\sum_{i=0}^{n-1} a_{i}b_{i}\n",
    "$$\n",
    "\n",
    "que es la suma del producto de sus entradas."
   ]
  },
  {
   "cell_type": "markdown",
   "metadata": {},
   "source": [
    "Veamos cómo funciona en el siguiente ejemplo: si $\\vec{a}=(1,2,3)$ y $\\vec{b}=(4,5,6)$, entonces el producto punto será:\n",
    "\n",
    "$$\n",
    "\\vec{a}\\cdot\\vec{b} = (1,2,3)\\cdot(4,5,6) = 1\\cdot 4+2\\cdot 5+3\\cdot 6 = 4+10+18 = 32\n",
    "$$\n",
    "\n",
    "Para reproducir el ejemplo anterior en Python, procedemos como sigue:\n"
   ]
  },
  {
   "cell_type": "code",
   "execution_count": 2,
   "metadata": {},
   "outputs": [
    {
     "name": "stdout",
     "output_type": "stream",
     "text": [
      "32\n",
      "32\n"
     ]
    }
   ],
   "source": [
    "# creamos los vectores a y b\n",
    "a = np.array([1,2,3])\n",
    "b = np.array([4,5,6])\n",
    "\n",
    "# calculamos el producto punto\n",
    "a_b = np.dot(a,b)\n",
    "print(a_b)\n",
    "\n",
    "# calculo del producto punto con el operador @\n",
    "a_b = a.T@b\n",
    "print(a_b)"
   ]
  },
  {
   "cell_type": "markdown",
   "metadata": {},
   "source": [
    "## Propiedades del Producto Interno"
   ]
  },
  {
   "cell_type": "markdown",
   "metadata": {},
   "source": [
    "Sean $\\vec{a},\\vec{b}$ dos $n$-vectores y $\\alpha$ un escalar. El producto interno entre $\\vec{a}$ y $\\vec{b}$ cumple las siguientes propiedades:"
   ]
  },
  {
   "cell_type": "markdown",
   "metadata": {},
   "source": [
    "### **Conmutatividad:**"
   ]
  },
  {
   "cell_type": "markdown",
   "metadata": {},
   "source": [
    " $\\vec{a}^{T}\\vec{b} = \\displaystyle\\sum_{i=0}^{n-1} a_{i}b_{i} = \\displaystyle\\sum_{i=0}^{n-1} b_{i}a_{i} = \\vec{b}^{T}\\vec{a}$"
   ]
  },
  {
   "cell_type": "markdown",
   "metadata": {},
   "source": [
    "### **Asociatividad con multiplicación escalar:**"
   ]
  },
  {
   "cell_type": "markdown",
   "metadata": {},
   "source": [
    "$\\left(\\alpha \\vec{a}\\right)^{T}\\vec{b} = \\alpha\\left(\\vec{a}^{T}\\vec{b}\\right)$"
   ]
  },
  {
   "cell_type": "markdown",
   "metadata": {},
   "source": [
    "### **Distribución en la adición de vectores:**"
   ]
  },
  {
   "cell_type": "markdown",
   "metadata": {},
   "source": [
    "$\\left(\\vec{a} + \\vec{b}\\right)^{T}\\vec{c} = \\vec{a}^{T}\\vec{c} + \\vec{b}^{T}\\vec{c}$"
   ]
  },
  {
   "cell_type": "markdown",
   "metadata": {},
   "source": [
    "### **Proyección**"
   ]
  },
  {
   "cell_type": "markdown",
   "metadata": {},
   "source": [
    "Si $\\vec{a}$ es un $n$-vector entonces $\\hat{e}_{i}^{T}\\vec{a} = a_{i}$. \n",
    "\n",
    "_Ejemplo_: Tenemos el vector $$\\mathbf{a} =  \\begin{bmatrix}3\\\\ 2\\\\ 1 \\end{bmatrix}$$ y los siguientes vectores unitarios:\n",
    "\n",
    "\n",
    "$$\n",
    "\\mathbf{e}_{0} =  \\begin{bmatrix}1\\\\ 0\\\\ 0 \\end{bmatrix}, \\qquad \\mathbf{e}_{1} =  \\begin{bmatrix}0\\\\ 1\\\\ 0 \\end{bmatrix}, \\qquad \\mathbf{e}_{2} =  \\begin{bmatrix}0\\\\ 0\\\\ 1 \\end{bmatrix}\n",
    "$$ \n",
    "\n",
    "Entonces, segun la propiedad, tenemos:\n",
    "$$\n",
    "\\hat{e}_{0}^{T}\\vec{a} = [1,0,0]\\begin{bmatrix}3\\\\ 2\\\\ 1 \\end{bmatrix} = 3\n",
    "$$\n",
    "$$\n",
    "\\hat{e}_{1}^{T}\\vec{a} = [0,1,0]\\begin{bmatrix}3\\\\ 2\\\\ 1 \\end{bmatrix} = 2\n",
    "$$\n",
    "$$\n",
    "\\hat{e}_{2}^{T}\\vec{a} = [0,0,1]\\begin{bmatrix}3\\\\ 2\\\\ 1 \\end{bmatrix} = 1\n",
    "$$"
   ]
  },
  {
   "cell_type": "markdown",
   "metadata": {},
   "source": [
    "La forma de crear el ejemplo anterior en Python es mediante el producto punto. Veamos cómo realizarlo:"
   ]
  },
  {
   "cell_type": "code",
   "execution_count": 19,
   "metadata": {},
   "outputs": [
    {
     "name": "stdout",
     "output_type": "stream",
     "text": [
      "Proyeccion sobre el vector unitario e_0: 3\n",
      "Proyeccion sobre el vector unitario e_1: 2\n",
      "Proyeccion sobre el vector unitario e_2: 1\n"
     ]
    }
   ],
   "source": [
    "# creamos el vector y los vectores unitarios\n",
    "a = np.array([3,2,1])\n",
    "e_0 = np.array([1,0,0])\n",
    "e_1 = np.array([0,1,0])\n",
    "e_2 = np.array([0,0,1])\n",
    "\n",
    "# Proyeccion en la direccion e_0\n",
    "proy_e0 = e_0.T@a\n",
    "print(f'Proyeccion sobre el vector unitario e_0: {proy_e0}')\n",
    "\n",
    "# Proyeccion en la direccion e_1\n",
    "proy_e1 = e_1.T@a\n",
    "print(f'Proyeccion sobre el vector unitario e_1: {proy_e1}')\n",
    "\n",
    "# Proyeccion en la direccion e_2\n",
    "proy_e2 = e_2.T@a\n",
    "print(f'Proyeccion sobre el vector unitario e_2: {proy_e2}')"
   ]
  },
  {
   "cell_type": "markdown",
   "metadata": {},
   "source": [
    "### **Suma de elementos de un vector.**  "
   ]
  },
  {
   "cell_type": "markdown",
   "metadata": {},
   "source": [
    "$\\mathbf{1}^{T}a = a_{0}+a_{1}+\\cdots+a_{n-1}$\n",
    "\n",
    "Ejemplo: Tenemos el siguiente vector $$\\mathbf{a} =  \\begin{bmatrix}3\\\\ 2\\\\ 1 \\end{bmatrix}$$ Para sumar sus elementos, realizamos el producto punto entre el vector $a$ y el uno vector traspuesto \n",
    "$$\\mathbf{1} =  \\begin{bmatrix}1\\\\ 1\\\\ 1 \\end{bmatrix}$$"
   ]
  },
  {
   "cell_type": "markdown",
   "metadata": {},
   "source": [
    "- $\\mathbf{1}^{T}a = [1,1,1] \\begin{bmatrix}3\\\\ 2\\\\ 1 \\end{bmatrix} = 3 + 2 + 1 = 6$"
   ]
  },
  {
   "cell_type": "markdown",
   "metadata": {},
   "source": [
    "Para recrear el ejemplo anterior en Python procedemos como sigue:"
   ]
  },
  {
   "cell_type": "code",
   "execution_count": 4,
   "metadata": {},
   "outputs": [
    {
     "data": {
      "text/plain": [
       "6.0"
      ]
     },
     "execution_count": 4,
     "metadata": {},
     "output_type": "execute_result"
    }
   ],
   "source": [
    "# creamos los vectores uno vector y a con la misma dimension\n",
    "a = np.array([3,2,1])\n",
    "v_uno = np.ones(3)\n",
    "\n",
    "# Calculamos la suma de los elementos\n",
    "sum_ele = v_uno.T@a\n",
    "sum_ele"
   ]
  },
  {
   "cell_type": "markdown",
   "metadata": {},
   "source": [
    "### **Promedio de entradas de un vector.** "
   ]
  },
  {
   "cell_type": "markdown",
   "metadata": {},
   "source": [
    "$(\\mathbf{1}/n)^{T}\\vec{a} = (a_{0}+a_{1}+\\cdots+a_{n-1})/n$\n",
    "\n",
    "Ejemplo: Tenemos el siguiente vector $$\\mathbf{a} =  \\begin{bmatrix}3\\\\ 2\\\\ 1 \\end{bmatrix}$$ Para calcular el promedio de las entradas del vector se procede como sigue:\n",
    "\n",
    "- $(\\mathbf{1}/n)^{T}\\vec{a} = ([1,1,1])/3\\begin{bmatrix}3\\\\ 2\\\\ 1 \\end{bmatrix} = [1/3,1/3,1/3]\\begin{bmatrix}3\\\\ 2\\\\ 1 \\end{bmatrix} = 2$"
   ]
  },
  {
   "cell_type": "markdown",
   "metadata": {},
   "source": [
    "Vamos a realizar el ejemplo anterior en Python:"
   ]
  },
  {
   "cell_type": "code",
   "execution_count": 13,
   "metadata": {},
   "outputs": [
    {
     "data": {
      "text/plain": [
       "2"
      ]
     },
     "execution_count": 13,
     "metadata": {},
     "output_type": "execute_result"
    }
   ],
   "source": [
    "# creamos los vectores uno vector y a\n",
    "a = np.array([3,2,1])\n",
    "v_uno = np.ones(3)\n",
    "\n",
    "# calculamos el tamaño del vector a\n",
    "size_a = a.size\n",
    "\n",
    "# Calculamos el promedio de las entradas del vector a\n",
    "avg_a = round((v_uno/size_a).T@a)\n",
    "avg_a"
   ]
  },
  {
   "cell_type": "markdown",
   "metadata": {},
   "source": [
    "### **Suma de cuadrados de un vector.** "
   ]
  },
  {
   "cell_type": "markdown",
   "metadata": {},
   "source": [
    "$\\vec{a}^{T} \\;\\vec{a} = a_{0}^{2}+a_{1}^{2}+\\cdots+a_{n-1}^{2}$\n",
    "\n",
    "Ejemplo: Tenemos el siguiente vector $$\\mathbf{a} =  \\begin{bmatrix}3\\\\ 2\\\\ 1 \\end{bmatrix}$$ Para calcular la suma de los cuadrados de un vector se procede como sigue\n",
    "\n",
    "- $\\vec{a}^{T} \\;\\vec{a} = [3,2,1]\\begin{bmatrix}3\\\\ 2\\\\ 1 \\end{bmatrix} = 3\\cdot 3 + 2\\cdot 2 + 1\\cdot 1 = 9 + 4 + 1 = 14$"
   ]
  },
  {
   "cell_type": "markdown",
   "metadata": {},
   "source": [
    "Vamos a crear el ejemplo anterior en Python como sigue:"
   ]
  },
  {
   "cell_type": "code",
   "execution_count": 16,
   "metadata": {},
   "outputs": [
    {
     "data": {
      "text/plain": [
       "14"
      ]
     },
     "execution_count": 16,
     "metadata": {},
     "output_type": "execute_result"
    }
   ],
   "source": [
    "# creamos el vector a\n",
    "a = np.array([3,2,1])\n",
    "\n",
    "# calculamos la suma de los cuadrados\n",
    "sum_cu = a.T@a\n",
    "sum_cu"
   ]
  },
  {
   "cell_type": "markdown",
   "metadata": {},
   "source": [
    "# Carga de Datos"
   ]
  },
  {
   "cell_type": "markdown",
   "metadata": {},
   "source": [
    "Vamos a trabajar con un conjunto de tweet almacenados en el archivo _tweet.txt_ el cual, contiene un tweet por cada línea."
   ]
  },
  {
   "cell_type": "code",
   "execution_count": 22,
   "metadata": {},
   "outputs": [
    {
     "name": "stdout",
     "output_type": "stream",
     "text": [
      "7\n"
     ]
    }
   ],
   "source": [
    "# Cargamos el archivo e imprimos la cantidad de tweets\n",
    "with open('tweet.txt', 'r') as file:\n",
    "    lines = file.read().splitlines()\n",
    "    print(len(lines))"
   ]
  },
  {
   "cell_type": "code",
   "execution_count": 40,
   "metadata": {},
   "outputs": [
    {
     "data": {
      "text/plain": [
       "{1: 'Gran mexicano y excelente en su área, su muerte es una enorme perdida y debería ser luto nacional!!!',\n",
       " 2: 'Vaya señora que bueno que se asesora por alguien inteligente no por el ignorante del Gatt.',\n",
       " 3: 'Se me ocurre y sin ver todos los videos que me informéis por dónde empiezo. Entiendo que os tendría que decir quién soy y que quiero, vamos conocerme para asesorarme bien.',\n",
       " 4: 'Un saludo. Soy docente universitario, estoy intentando preparar mis clases en modo bien didáctico, (le llamo modo noticiero), descargue una plataforma gratuita de grabación y transmisión de vídeo, se llama Obs estudio!bueno la sigo remando con sus funciones pero sé que saldrá algo!',\n",
       " 5: 'La situación economica cada vez mas empeora, debemos hacer algo!',\n",
       " 6: 'La gripa esta afectando a toda mi familia.... Té de Jengibre urgente!!',\n",
       " 7: 'Las pinturas de Botero reflejan el arte de lo grotesco'}"
      ]
     },
     "execution_count": 40,
     "metadata": {},
     "output_type": "execute_result"
    }
   ],
   "source": [
    "# creamos un diccionario y le pasamos como clave, una lista con el numero que representa cada tweet\n",
    "diccionary = dict.fromkeys(range(1, len(lines)+1))\n",
    "\n",
    "# asignamos a cada numero, el tweet correspondiente\n",
    "i = 0\n",
    "for key in diccionary:\n",
    "    diccionary[key] = lines[i]\n",
    "    i += 1\n",
    "\n",
    "diccionary"
   ]
  },
  {
   "cell_type": "markdown",
   "metadata": {},
   "source": [
    "Ahora tenemos un Diccionario con los tweets que vamos a analizar"
   ]
  },
  {
   "cell_type": "markdown",
   "metadata": {},
   "source": [
    "# Limpieza de tweets"
   ]
  },
  {
   "cell_type": "markdown",
   "metadata": {},
   "source": [
    "Creamos una función que elimine caracteres no relevantes como signos de puntuación y vocales acentuadas, convierta todas las letras en minúscula y devuelva una lista de palabras. Esto lo realizamos para que al buscar en el tweet las palabras de interés, se evite la falta de coincidencia debido a un acento o a una letra en mayúscula."
   ]
  },
  {
   "cell_type": "code",
   "execution_count": 24,
   "metadata": {},
   "outputs": [],
   "source": [
    "def deleteChar(string):\n",
    "    \n",
    "    # letras en minuscula\n",
    "    string = string.lower()\n",
    "\n",
    "    # lista de signos de puntuacion\n",
    "    sign = [',', '.', ';', ':', '!', '?']\n",
    "\n",
    "    # diccionario con vocales acentuadas\n",
    "    acent = {\n",
    "        'á': 'a',\n",
    "        'é': 'e',\n",
    "        'í': 'i',\n",
    "        'ó': 'o',\n",
    "        'ú': 'u',\n",
    "        }\n",
    "    \n",
    "    # reemplazar signos de puntuacion\n",
    "    for char in sign:\n",
    "        string = string.replace(char,' ')\n",
    "\n",
    "    # reemplazar vocales acentuadas\n",
    "    for key in acent:\n",
    "        if key in string:\n",
    "            string = string.replace(key, acent[key])\n",
    "\n",
    "    # lista de palabras de la cadena\n",
    "    string = string.split(' ')\n",
    "\n",
    "    # lista de palabras como elementos\n",
    "    string = [x for x in string if x !='']\n",
    "\n",
    "    return string"
   ]
  },
  {
   "cell_type": "markdown",
   "metadata": {},
   "source": [
    "# Entendiendo el Análisis"
   ]
  },
  {
   "cell_type": "markdown",
   "metadata": {},
   "source": [
    "Vamos a explicar de qué se trata el análisis para comprender el procedimiento más delante. Supongamos que el tweet que vamos analizar es el siguiente: \n",
    "\n",
    "> _Gran mexicano y excelente en su área, su muerte es una enorme perdida y debería ser luto nacional!!!_. \n",
    "\n",
    "Vamos a buscar cadenas específicas en los tweets y contar la cantidad de veces que aparecen. Supongamos que las palabras objetivos son _muerte, perdida, luto, excelente, gran y positivo_. Construimos un vector de frecuencia $\\vec{w}$ con el conteo de las palabras objetivos que aparecen en el tweet.\n",
    "\n",
    "$$\n",
    "\\vec{w} = \\begin{bmatrix}1\\\\ 1 \\\\ 1\\\\ 1\\\\ 1 \\\\0 \\end{bmatrix}\n",
    "$$"
   ]
  },
  {
   "cell_type": "markdown",
   "metadata": {},
   "source": [
    "Clasificamos las palabras objetivos en sentimientos: _excelente, gran y positivo_ como **Positivas**; _perdida_ como **Neutra**; _muerte y luto_ como **Negativas**.\n",
    "\n",
    "Luego creamos un vector de frecuencia según el sentimiento $\\vec{s}$ el cual contiene en el primer elemento la cantidad de palabras _positivas_ en el tweet, en el segundo elemento la cantidad de palabras _neutras_ y en el tercer elemento la cantidad de palabras _negativas_. Nos queda:\n",
    "\n",
    "$$\n",
    "\\vec{s} = \\begin{bmatrix}2\\\\ 1 \\\\ 2\\end{bmatrix}\n",
    "$$"
   ]
  },
  {
   "cell_type": "markdown",
   "metadata": {},
   "source": [
    "A partir de $\\vec{s}$, podemos calcular _El promedio de las entradas de un vector de frecuencia según el sentimiento_ $avg(\\vec{s})$ que es una medida de la calidad de los resultados en función de los sentimientos encontrados en el tweet. Se calcula como sigue:\n",
    "\n",
    "$$avg(\\vec{s}) = (\\mathbf{1}/n)^{T}\\vec{s}$$\n",
    "\n",
    "donde $n$ es el tamaño del vector $\\vec{s}$"
   ]
  },
  {
   "cell_type": "markdown",
   "metadata": {},
   "source": [
    "También tenemos _El promedio de las entradas de un vectos de palabras_ $avg(\\vec{w})$ que representa el porcentaje de palabras de la base de datos definidas como positivas, negativas y neutras que hay en el tweet. Mientras más alto es este valor, mayor es la calidad de los resultados ya que el número de coincidencias es mayor. Se calcula de la siguiente manera:\n",
    "\n",
    "$$avg(\\vec{w}) = (\\mathbf{1}/n)^{T}\\vec{w}$$\n",
    "\n",
    "donde $n$ es el tamaño del vector $\\vec{w}$"
   ]
  },
  {
   "cell_type": "markdown",
   "metadata": {},
   "source": [
    "Otra métrica de mucha utilidad es el _Score Sentimental_ ($score(\\vec{s})$) que se interpreta como una medida de la emoción del tweet. Es una medida muy subjetiva ya que depende de las palabras consideradas como positivas, negativas y neutras. Mientras más palabras negativas hayan, el valor de esta medida se aproxima a -1 y mientras más palabras positivas hayan, el valor tiende a 1. Se calcula como sigue:\n",
    "\n",
    "$$score(\\vec{s}) = [1\\; 0\\; -1] \\begin{bmatrix} s_{0} \\\\ s_{1} \\\\s_{2} \\end{bmatrix}$$"
   ]
  },
  {
   "cell_type": "markdown",
   "metadata": {},
   "source": [
    "Siguiendo con el ejemplo, calculamos los promedios $avg(\\vec{w})$ y $avg(\\vec{s})$"
   ]
  },
  {
   "cell_type": "code",
   "execution_count": 25,
   "metadata": {},
   "outputs": [],
   "source": [
    "# importamos la libreria Numpy\n",
    "import numpy as np\n",
    "\n",
    "# definimos los vectores s y w\n",
    "w = np.array([1,1,1,1,1,0])\n",
    "s = np.array([2,1,2])"
   ]
  },
  {
   "cell_type": "code",
   "execution_count": 26,
   "metadata": {},
   "outputs": [
    {
     "name": "stdout",
     "output_type": "stream",
     "text": [
      "Avg(w): 0.833, Avg(s): 1.667\n"
     ]
    }
   ],
   "source": [
    "# calculamos los promedios\n",
    "avgw = round((np.ones(w.size)/float(w.size)).T@w, 3)\n",
    "avgs = round((np.ones(s.size)/float(s.size)).T@s, 3)\n",
    "\n",
    "print(f'Avg(w): {avgw}, Avg(s): {avgs}')"
   ]
  },
  {
   "cell_type": "markdown",
   "metadata": {},
   "source": [
    "El valor de $avg(\\vec{w})$ esta normalizado, es decir, su valor va de 0 a 1. El valor arrojado indica que 83% de las palabras objetivos están en el tweet lo que garantiza una alta calidad en los resultados del $score(\\vec{s})$.\n",
    "\n",
    "El valor de $avg(\\vec{s})$ debemos normalizarlo para darle una mejor interpretación. Procedemos a hacerlo:"
   ]
  },
  {
   "cell_type": "code",
   "execution_count": 27,
   "metadata": {},
   "outputs": [
    {
     "name": "stdout",
     "output_type": "stream",
     "text": [
      "Avg(s): 0.889\n"
     ]
    }
   ],
   "source": [
    "# asignamos a variables la cantidad de palabras positivas, negativas y neutras\n",
    "pos = 3\n",
    "neu = 1\n",
    "neg = 2\n",
    "\n",
    "# dividimos cada valor de s por la cantidad de palabras etiquetadas (postiva, negativa, neutra) correpondiente\n",
    "s = np.array([2/pos, 1/neu, 2/neg])\n",
    "\n",
    "# Calculamos nuevamente el promedio de s\n",
    "avgs = round((np.ones(s.size)/float(s.size)).T@s, 3)\n",
    "\n",
    "print(f'Avg(s): {avgs}')"
   ]
  },
  {
   "cell_type": "markdown",
   "metadata": {},
   "source": [
    "Ya con el valor de $avg(\\vec{s})$ normalizado, podemos interpretar que el 89% de las palabras categorizadas en diferentes sentimientos están contenidas en el tweet, lo que garantiza la calidad en el resultado del $score(\\vec{s})$. Ahora vamos a calcular el $score(\\vec{s})$"
   ]
  },
  {
   "cell_type": "code",
   "execution_count": 28,
   "metadata": {},
   "outputs": [
    {
     "name": "stdout",
     "output_type": "stream",
     "text": [
      "Score(s): -0.333\n"
     ]
    }
   ],
   "source": [
    "score = np.array([1,0,-1])\n",
    "scores = round(score.T@s, 3)\n",
    "\n",
    "print(f'Score(s): {scores}')"
   ]
  },
  {
   "cell_type": "markdown",
   "metadata": {},
   "source": [
    "El valor de $score$ arrojado es negativo cercano a cero, lo que indica que el tweet refleja un sentimiento negativo bajo. Combinando ambos resultados confirmamos la veracidad del resultado del $score$"
   ]
  },
  {
   "cell_type": "markdown",
   "metadata": {},
   "source": [
    "# Aplicando el Análisis"
   ]
  },
  {
   "cell_type": "markdown",
   "metadata": {},
   "source": [
    "El primer paso es seleccionar las palabras relacionadas a los sentimientos que buscamos estimar. Vamos a crear tres listas con palabras consideradas positivas, negativas y neutras. La elección de las palabras es muy subjetiva y depende del objetivo del investigador."
   ]
  },
  {
   "cell_type": "code",
   "execution_count": 29,
   "metadata": {},
   "outputs": [],
   "source": [
    "math_pos = [\"excelente\", \"gran\", \"quiero\", 'bien', 'positivo', 'bueno', 'inteligente']\n",
    "math_neu = ['aprender', 'estudio', 'didactico', 'hacer', 'algo', 'modo', 'saldra']\n",
    "math_neg = [\"muerte\", \"luto\", 'ignorante', 'perdida', 'grotesco', 'gripa', 'afectando', 'empeora']"
   ]
  },
  {
   "cell_type": "markdown",
   "metadata": {},
   "source": [
    "Ahora, vamos a crear una función que reciba los tweets junto a los conjuntos de palabras objetivos, los limpie y calcule los promedios $avg(\\vec{s})$, $avg(\\vec{w})$ y el $score(\\vec{s})$ para cada uno."
   ]
  },
  {
   "cell_type": "code",
   "execution_count": 37,
   "metadata": {},
   "outputs": [],
   "source": [
    "def Analys_Sentiment(string, pos:list, neu:list, neg:list):\n",
    "\n",
    "    # Creamos una lista con todas las palabras a buscar\n",
    "    match = pos + neu + neg\n",
    "\n",
    "    # limpiamos los datos de caracteres no deseados y convertimos el tweet en una lista\n",
    "    tweet_clear = deleteChar(string)\n",
    "\n",
    "    # contar elementos de match dentro del tweet y crear el vector w\n",
    "    # contar elementos positivos, negativos y neutros y crear el vector s\n",
    "    w = []\n",
    "    c_pos, c_neg, c_neu = 0,0,0\n",
    "\n",
    "    for ele in match:\n",
    "        count = 0\n",
    "        count = tweet_clear.count(ele)\n",
    "        w.append(count)\n",
    "\n",
    "        if count > 0 and ele in pos:\n",
    "            c_pos += 1\n",
    "        elif count > 0 and  ele in neg:\n",
    "            c_neg += 1\n",
    "        elif count > 0 and ele in neu:\n",
    "            c_neu += 1\n",
    "    \n",
    "    # convertimos w en vector\n",
    "    w = np.array(w)\n",
    "\n",
    "    # convertimos s en vector y normalizamos\n",
    "    s = np.array([c_pos/(len(pos)), c_neu/(len(neu)), c_neg/(len(neg))])\n",
    "\n",
    "    # calculamos avg(w)\n",
    "    avgw = round((np.ones(w.size)/float(w.size)).T@w, 3)\n",
    "\n",
    "    # calculamos avg(s)\n",
    "    avgs = round((np.ones(s.size)/float(s.size)).T@s, 3)\n",
    "\n",
    "    # calculamos el score sentimental\n",
    "    score = np.array([1,0,-1])\n",
    "    scores = round(score.T@s, 3)\n",
    "\n",
    "    # retornamos los resultados\n",
    "    return f'avg(w): {avgw}, avg(s): {avgs}, score: {scores}'\n",
    "\n"
   ]
  },
  {
   "cell_type": "markdown",
   "metadata": {},
   "source": [
    "Finalmente, creamos un diccionario con el mismo tamaño del diccionario que contiene los tweets y guardamos los resultados para cada tweet."
   ]
  },
  {
   "cell_type": "code",
   "execution_count": 39,
   "metadata": {},
   "outputs": [
    {
     "data": {
      "text/plain": [
       "{1: 'avg(w): 0.227, avg(s): 0.22, score: -0.089',\n",
       " 2: 'avg(w): 0.136, avg(s): 0.137, score: 0.161',\n",
       " 3: 'avg(w): 0.091, avg(s): 0.095, score: 0.286',\n",
       " 4: 'avg(w): 0.364, avg(s): 0.333, score: 0.286',\n",
       " 5: 'avg(w): 0.136, avg(s): 0.137, score: -0.125',\n",
       " 6: 'avg(w): 0.091, avg(s): 0.083, score: -0.25',\n",
       " 7: 'avg(w): 0.045, avg(s): 0.042, score: -0.125'}"
      ]
     },
     "execution_count": 39,
     "metadata": {},
     "output_type": "execute_result"
    }
   ],
   "source": [
    "# diccionario que guardara los resultados\n",
    "dict_resultados = dict.fromkeys(range(1,len(lines)+1))\n",
    "\n",
    "# recorremos cada tweet almacenado en diccionary, aplicamos la funcion antes creada\n",
    "# y guardamos los resultado en dict_resultados\n",
    "i = 1\n",
    "for valor in diccionary.values():\n",
    "    dict_resultados[i] = Analys_Sentiment(valor, math_pos, math_neu, math_neg)\n",
    "    i += 1\n",
    "\n",
    "# Mostramos los resultados\n",
    "dict_resultados"
   ]
  }
 ],
 "metadata": {
  "kernelspec": {
   "display_name": "data",
   "language": "python",
   "name": "python3"
  },
  "language_info": {
   "codemirror_mode": {
    "name": "ipython",
    "version": 3
   },
   "file_extension": ".py",
   "mimetype": "text/x-python",
   "name": "python",
   "nbconvert_exporter": "python",
   "pygments_lexer": "ipython3",
   "version": "3.10.8"
  }
 },
 "nbformat": 4,
 "nbformat_minor": 2
}
