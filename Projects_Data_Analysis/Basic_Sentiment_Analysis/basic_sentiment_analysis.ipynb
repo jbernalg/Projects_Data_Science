{
 "cells": [
  {
   "cell_type": "markdown",
   "metadata": {},
   "source": [
    "# Uso de Vectores en el Análisis de Sentimientos "
   ]
  },
  {
   "cell_type": "markdown",
   "metadata": {},
   "source": [
    "El proyecto consiste en crear un algoritmo que nos indique que tan positivo, neutral o negativo son una serie de tweets. Tambien puede aplicarse a comentarios de un tema en particular.\n",
    "\n",
    "Vamos a utilizar el concepto de **Producto Interno** de vectores y sus propiedades para definir insight relevantes como la _Calidad del resultado_ y el _Score Sentimental_ que seran de mucha utilidad para determinar el sentimiento de cada tweet.\n",
    "\n",
    "En lo que sigue verémos un breve repaso de la teoría que implementarémos en el proyecto."
   ]
  },
  {
   "cell_type": "markdown",
   "metadata": {},
   "source": [
    "## Producto Interno"
   ]
  },
  {
   "cell_type": "markdown",
   "metadata": {},
   "source": [
    "El *Producto Interno* (Estandar) o simplemente *Producto Punto* de dos $n$-vectores $\\vec{a}, \\vec{b}$ se define como el escalar:\n",
    "\n",
    "$$\n",
    "<\\vec{a}, \\vec{b}> = \\vec{a} \\cdot \\vec{b} = a_{0}b_{1}+a_{1}b_{1}+\\cdots+a_{n-1}b_{n-1} = \\displaystyle\\sum_{i=0}^{n-1} a_{i}b_{i}\n",
    "$$\n",
    "\n",
    "que es la suma del producto de sus entradas."
   ]
  }
 ],
 "metadata": {
  "language_info": {
   "name": "python"
  }
 },
 "nbformat": 4,
 "nbformat_minor": 2
}
