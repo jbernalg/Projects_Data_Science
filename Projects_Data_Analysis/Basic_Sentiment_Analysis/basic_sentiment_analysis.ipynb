{
 "cells": [
  {
   "cell_type": "markdown",
   "metadata": {},
   "source": [
    "# Uso de Vectores en el Análisis de Sentimientos "
   ]
  },
  {
   "cell_type": "markdown",
   "metadata": {},
   "source": [
    "El proyecto consiste en crear un algoritmo que nos indique que tan positivo, neutral o negativo son una serie de tweets. Tambien puede aplicarse a comentarios de un tema en particular.\n",
    "\n",
    "Vamos a utilizar el concepto de **Producto Interno** de vectores y sus propiedades para definir insight relevantes como la _Calidad del resultado_ y el _Score Sentimental_ que seran de mucha utilidad para determinar el sentimiento de cada tweet.\n",
    "\n",
    "En lo que sigue verémos un breve repaso de la teoría que implementarémos en el proyecto."
   ]
  },
  {
   "cell_type": "markdown",
   "metadata": {},
   "source": [
    "# Teoria de vectores a utilizar"
   ]
  },
  {
   "cell_type": "markdown",
   "metadata": {},
   "source": [
    "## Cero Vector"
   ]
  },
  {
   "cell_type": "markdown",
   "metadata": {},
   "source": [
    "Un *cero vector* es un vector en el cual todos los elementos son igual a cero. Algunas veces el cero vector de dimensión $n$ es escrito como $\\mathbf{0}_{n}$ pero usualmente es denotado simplemente como $\\mathbf{0}$.  \n",
    "Por ejemplo $\\mathbf{0} = (0,0)$"
   ]
  },
  {
   "cell_type": "markdown",
   "metadata": {},
   "source": [
    "## Uno Vector"
   ]
  },
  {
   "cell_type": "markdown",
   "metadata": {},
   "source": [
    "Los *uno vectores* son $n$-vectores en los cuales todas las entradas son igual a uno. Algunas veces son representados como $\\mathbf{1}_{n}$ pero usualmente es denotado simplemente como $\\mathbf{1}$.  \n",
    "Un ejemplo sería el uno vector de dimensión 2: $\\mathbf{1} = (1,1)$.  "
   ]
  },
  {
   "cell_type": "markdown",
   "metadata": {},
   "source": [
    "## Vectores Unitarios"
   ]
  },
  {
   "cell_type": "markdown",
   "metadata": {},
   "source": [
    "El *vector unitario* $\\mathbf{e}_{i}$ es aquel en donde todas las entradas son cero salvo la $i$-ésima.  \n",
    "Por ejemplo, si $\\mathbf{e}_{1}$, $\\mathbf{e}_{2}$ y $\\mathbf{e}_{3}$ son 3-vectores unitarios estos se ven como:\n",
    "$$\n",
    "\\mathbf{e}_{0} =  \\begin{bmatrix}1\\\\ 0\\\\ 0 \\end{bmatrix}, \\qquad \\mathbf{e}_{1} =  \\begin{bmatrix}0\\\\ 1\\\\ 0 \\end{bmatrix}, \\qquad \\mathbf{e}_{2} =  \\begin{bmatrix}0\\\\ 0\\\\ 1 \\end{bmatrix}\n",
    "$$\n",
    "Una forma de representar a los vectores unitarios es la siguiente:\n",
    "$$\n",
    "\\left(e_{i}\\right)_{j} =  \\left \\{ \\begin{matrix} 1 & \\text{si }i=j\n",
    "\\\\ 0 & \\text{si }i\\neq j\\end{matrix}\\right. \n",
    "$$"
   ]
  },
  {
   "cell_type": "markdown",
   "metadata": {},
   "source": [
    "## Producto Interno"
   ]
  },
  {
   "cell_type": "markdown",
   "metadata": {},
   "source": [
    "El *Producto Interno* (Estandar) o simplemente *Producto Punto* de dos $n$-vectores $\\vec{a}, \\vec{b}$ se define como el escalar:\n",
    "\n",
    "$$\n",
    "<\\vec{a}, \\vec{b}> = \\vec{a} \\cdot \\vec{b} = a_{0}b_{1}+a_{1}b_{1}+\\cdots+a_{n-1}b_{n-1} = \\displaystyle\\sum_{i=0}^{n-1} a_{i}b_{i}\n",
    "$$\n",
    "\n",
    "que es la suma del producto de sus entradas."
   ]
  },
  {
   "cell_type": "markdown",
   "metadata": {},
   "source": [
    "Veamos como funciona en el siguiente ejemplo: si $\\vec{a}=(1,2,3)$ y $\\vec{b}=(4,5,6)$, entonces el producto punto será:\n",
    "\n",
    "$$\n",
    "\\vec{a}\\cdot\\vec{b} = (1,2,3)\\cdot(4,5,6) = 1\\cdot 4+2\\cdot 5+3\\cdot 6 = 4+10+18 = 32\n",
    "$$\n"
   ]
  },
  {
   "cell_type": "markdown",
   "metadata": {},
   "source": [
    "## Transposición de Vectores"
   ]
  },
  {
   "cell_type": "markdown",
   "metadata": {},
   "source": [
    "Los vectores tienen dos formas de representarse:\n",
    "\n",
    "**Vector Columna**\n",
    "$$\n",
    "\\vec{a} = \\begin{bmatrix}a_{0}\\\\ a_{1}\\\\ \\vdots \\\\ a_{n-1}\\end{bmatrix} \n",
    "$$\n",
    "\n",
    "**Vector Renglón**\n",
    "$$\n",
    "\\vec{a} = [a_{0}\\; a_{1}\\; \\cdots \\; a_{n-1}]\n",
    "$$\n",
    "\n",
    "Por lo general, cuando se habla de un vector se refiere a un _vector columna_. La operacion de _Transposicion_ nos permite cambiar de vectores columnas a vectores renglón sin modificar al vector que se transponga. Retomemos el vector $\\vec{a}$, denotaremos como $\\vec{a}^{T}$ al vector transpuesto de $\\vec{a}$:\n",
    "\n",
    "$$\n",
    "\\vec{a}^{T} = \\begin{bmatrix}a_{0}\\\\ a_{1}\\\\ \\vdots \\\\ a_{n-1}\\end{bmatrix}^{T} = [a_{0}\\; a_{1}\\; \\cdots \\; a_{n-1}]\n",
    "$$\n"
   ]
  },
  {
   "cell_type": "markdown",
   "metadata": {},
   "source": [
    "### Propiedades de la Transposición"
   ]
  },
  {
   "cell_type": "markdown",
   "metadata": {},
   "source": [
    "- **Transposición de un vector transpuesto**: es posible transponer un vector transpuesto\n",
    "$$\n",
    "\\left(\\vec{a}^{T}\\right)^{T} = \\left(\\begin{bmatrix}a_{0}\\\\ a_{1}\\\\ \\vdots \\\\ a_{n-1}\\end{bmatrix}^{T}\\right)^{T} = [a_{0}\\; a_{1}\\; \\cdots \\; a_{n-1}]^{T} = \\begin{bmatrix}a_{0}\\\\ a_{1}\\\\ \\vdots \\\\ a_{n-1}\\end{bmatrix} = \\vec{a}\n",
    "$$\n",
    "\n",
    "\n",
    "- **Transposición y el Producto Interno**: Consideremos los vectores $\\vec{a}$ y $\\vec{b}$ ambos de la misma dimensión. Definimos la operación $\\vec{a}^{T}\\vec{b}$ como:\n",
    "\n",
    "$$\n",
    "\\vec{a}^{T}\\; \\vec{b} = [a_{0}\\; a_{1}\\; \\cdots \\; a_{n-1}]  \\begin{bmatrix}b_{0}\\\\ b_{1}\\\\ \\vdots \\\\ b_{n-1}\\end{bmatrix} = a_{0}b_{0} + a_{1}b_{1} + \\cdots + a_{n-1}b_{n-1} = \\displaystyle\\sum_{i=0}^{n-1} a_{i}b_{i}\n",
    "$$\n",
    "\n",
    "Lo cual coincide con la definición del producto interno. Así pues $<\\vec{a},\\vec{b}> = \\vec{a}\\cdot \\vec{b} = \\vec{a}^{T} \\;\\vec{b} = \\displaystyle\\sum_{i=0}^{n-1} a_{i}b_{i}$"
   ]
  },
  {
   "cell_type": "markdown",
   "metadata": {},
   "source": [
    "## Propiedades del Producto Interno"
   ]
  },
  {
   "cell_type": "markdown",
   "metadata": {},
   "source": [
    "Sean $\\vec{a},\\vec{b}$ dos $n$-vectores y $\\alpha$ un escalar. El producto interno entre $\\vec{a}$ y $\\vec{b}$ cumple las siguientes propiedades:"
   ]
  },
  {
   "cell_type": "markdown",
   "metadata": {},
   "source": [
    "### **Conmutatividad:**"
   ]
  },
  {
   "cell_type": "markdown",
   "metadata": {},
   "source": [
    " $\\vec{a}^{T}\\vec{b} = \\displaystyle\\sum_{i=0}^{n-1} a_{i}b_{i} = \\displaystyle\\sum_{i=0}^{n-1} b_{i}a_{i} = \\vec{b}^{T}\\vec{a}$"
   ]
  },
  {
   "cell_type": "markdown",
   "metadata": {},
   "source": [
    "### **Asociatividad con multiplicación escalar:**"
   ]
  },
  {
   "cell_type": "markdown",
   "metadata": {},
   "source": [
    "$\\left(\\alpha \\vec{a}\\right)^{T}\\vec{b} = \\alpha\\left(\\vec{a}^{T}\\vec{b}\\right)$"
   ]
  },
  {
   "cell_type": "markdown",
   "metadata": {},
   "source": [
    "### **Distribución en la adición de vectores:**"
   ]
  },
  {
   "cell_type": "markdown",
   "metadata": {},
   "source": [
    "$\\left(\\vec{a} + \\vec{b}\\right)^{T}\\vec{c} = \\vec{a}^{T}\\vec{c} + \\vec{b}^{T}\\vec{c}$"
   ]
  },
  {
   "cell_type": "markdown",
   "metadata": {},
   "source": [
    "### **Proyección**"
   ]
  },
  {
   "cell_type": "markdown",
   "metadata": {},
   "source": [
    "Si $\\vec{a}$ es un $n$-vector entonces $\\hat{e}_{i}^{T}\\vec{a} = a_{i}$. \n",
    "\n",
    "_Ejemplo_: Tenemos el vector $$\\mathbf{a} =  \\begin{bmatrix}3\\\\ 2\\\\ 1 \\end{bmatrix}$$ y los siguientes vectores unitarios:\n",
    "\n",
    "\n",
    "$$\n",
    "\\mathbf{e}_{0} =  \\begin{bmatrix}1\\\\ 0\\\\ 0 \\end{bmatrix}, \\qquad \\mathbf{e}_{1} =  \\begin{bmatrix}0\\\\ 1\\\\ 0 \\end{bmatrix}, \\qquad \\mathbf{e}_{2} =  \\begin{bmatrix}0\\\\ 0\\\\ 1 \\end{bmatrix}\n",
    "$$ \n",
    "\n",
    "Entonces, segun la propiedad, tenemos:\n",
    "$$\n",
    "\\hat{e}_{0}^{T}\\vec{a} = [1,0,0]\\begin{bmatrix}3\\\\ 2\\\\ 1 \\end{bmatrix} = 3\n",
    "$$\n",
    "$$\n",
    "\\hat{e}_{1}^{T}\\vec{a} = [0,1,0]\\begin{bmatrix}3\\\\ 2\\\\ 1 \\end{bmatrix} = 2\n",
    "$$\n",
    "$$\n",
    "\\hat{e}_{2}^{T}\\vec{a} = [0,0,1]\\begin{bmatrix}3\\\\ 2\\\\ 1 \\end{bmatrix} = 1\n",
    "$$"
   ]
  },
  {
   "cell_type": "markdown",
   "metadata": {},
   "source": [
    "### **Suma de elementos de un vector.**  "
   ]
  },
  {
   "cell_type": "markdown",
   "metadata": {},
   "source": [
    "$\\mathbf{1}^{T}a = a_{0}+a_{1}+\\cdots+a_{n-1}$\n",
    "\n",
    "Ejemplo: Tenemos el siguiente vector $$\\mathbf{a} =  \\begin{bmatrix}3\\\\ 2\\\\ 1 \\end{bmatrix}$$ Para sumar sus elementos, realizamos el producto punto entre el vector $a$ y el uno vector traspuesto \n",
    "$$\\mathbf{1} =  \\begin{bmatrix}1\\\\ 1\\\\ 1 \\end{bmatrix}$$"
   ]
  },
  {
   "cell_type": "markdown",
   "metadata": {},
   "source": [
    "- $\\mathbf{1}^{T}a = [1,1,1] \\begin{bmatrix}3\\\\ 2\\\\ 1 \\end{bmatrix} = 3 + 2 + 1 = 6$"
   ]
  },
  {
   "cell_type": "markdown",
   "metadata": {},
   "source": [
    "### **Promedio de entradas de un vector.** "
   ]
  },
  {
   "cell_type": "markdown",
   "metadata": {},
   "source": [
    "$(\\mathbf{1}/n)^{T}\\vec{a} = (a_{0}+a_{1}+\\cdots+a_{n-1})/n$\n",
    "\n",
    "Ejemplo: Tenemos el siguiente vector $$\\mathbf{a} =  \\begin{bmatrix}3\\\\ 2\\\\ 1 \\end{bmatrix}$$ Para calcular el promedio de las entradas del vector se procede como sigue:\n",
    "\n",
    "- $(\\mathbf{1}/n)^{T}\\vec{a} = ([1,1,1])/3\\begin{bmatrix}3\\\\ 2\\\\ 1 \\end{bmatrix} = [1/3,1/3,1/3]\\begin{bmatrix}3\\\\ 2\\\\ 1 \\end{bmatrix} = 2$"
   ]
  },
  {
   "cell_type": "markdown",
   "metadata": {},
   "source": [
    "### **Suma de cuadrados de un vector.** "
   ]
  },
  {
   "cell_type": "markdown",
   "metadata": {},
   "source": [
    "$\\vec{a}^{T} \\;\\vec{a} = a_{0}^{2}+a_{1}^{2}+\\cdots+a_{n-1}^{2}$\n",
    "\n",
    "Ejemplo: Tenemos el siguiente vector $$\\mathbf{a} =  \\begin{bmatrix}3\\\\ 2\\\\ 1 \\end{bmatrix}$$ Para calcular la suma de los cuadrados de un vector se procede como sigue\n",
    "\n",
    "- $\\vec{a}^{T} \\;\\vec{a} = [3,2,1]\\begin{bmatrix}3\\\\ 2\\\\ 1 \\end{bmatrix} = 3\\cdot 3 + 2\\cdot 2 + 1\\cdot 1 = 9 + 4 + 1 = 14$"
   ]
  },
  {
   "cell_type": "markdown",
   "metadata": {},
   "source": [
    "# Datos a tratar en el Proyecto"
   ]
  },
  {
   "cell_type": "markdown",
   "metadata": {},
   "source": [
    "Vamos a trabajar con un conjunto de tweet almacenados en un archivo .txt. Hay un tweet por cada linea del archivo. Vamos a cargalo "
   ]
  },
  {
   "cell_type": "code",
   "execution_count": null,
   "metadata": {
    "vscode": {
     "languageId": "plaintext"
    }
   },
   "outputs": [],
   "source": []
  }
 ],
 "metadata": {
  "language_info": {
   "name": "python"
  }
 },
 "nbformat": 4,
 "nbformat_minor": 2
}
