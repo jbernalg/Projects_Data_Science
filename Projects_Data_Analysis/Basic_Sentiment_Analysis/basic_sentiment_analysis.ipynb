{
 "cells": [
  {
   "cell_type": "markdown",
   "metadata": {},
   "source": [
    "# Uso de Vectores en el Análisis de Sentimientos "
   ]
  },
  {
   "cell_type": "markdown",
   "metadata": {},
   "source": [
    "El proyecto consiste en crear un algoritmo que nos indique que tan positivo, neutral o negativo son una serie de tweets. Tambien puede aplicarse a comentarios de un tema en particular.\n",
    "\n",
    "Vamos a utilizar el concepto de **Producto Interno** de vectores y sus propiedades para definir insight relevantes como la _Calidad del resultado_ y el _Score Sentimental_ que seran de mucha utilidad para determinar el sentimiento de cada tweet.\n",
    "\n",
    "En lo que sigue verémos un breve repaso de la teoría que implementarémos en el proyecto."
   ]
  },
  {
   "cell_type": "markdown",
   "metadata": {},
   "source": [
    "# Teoria de vectores a utilizar"
   ]
  },
  {
   "cell_type": "markdown",
   "metadata": {},
   "source": [
    "## Cero Vector"
   ]
  },
  {
   "cell_type": "markdown",
   "metadata": {},
   "source": [
    "Un *cero vector* es un vector en el cual todos los elementos son igual a cero. Algunas veces el cero vector de dimensión $n$ es escrito como $\\mathbf{0}_{n}$ pero usualmente es denotado simplemente como $\\mathbf{0}$.  \n",
    "Por ejemplo $\\mathbf{0} = (0,0)$"
   ]
  },
  {
   "cell_type": "markdown",
   "metadata": {},
   "source": [
    "## Uno Vector"
   ]
  },
  {
   "cell_type": "markdown",
   "metadata": {},
   "source": [
    "Los *uno vectores* son $n$-vectores en los cuales todas las entradas son igual a uno. Algunas veces son representados como $\\mathbf{1}_{n}$ pero usualmente es denotado simplemente como $\\mathbf{1}$.  \n",
    "Un ejemplo sería el uno vector de dimensión 2: $\\mathbf{1} = (1,1)$.  "
   ]
  },
  {
   "cell_type": "markdown",
   "metadata": {},
   "source": [
    "## Vectores Unitarios"
   ]
  },
  {
   "cell_type": "markdown",
   "metadata": {},
   "source": [
    "El *vector unitario* $\\mathbf{e}_{i}$ es aquel en donde todas las entradas son cero salvo la $i$-ésima.  \n",
    "Por ejemplo, si $\\mathbf{e}_{1}$, $\\mathbf{e}_{2}$ y $\\mathbf{e}_{3}$ son 3-vectores unitarios estos se ven como:\n",
    "$$\n",
    "\\mathbf{e}_{0} =  \\begin{bmatrix}1\\\\ 0\\\\ 0 \\end{bmatrix}, \\qquad \\mathbf{e}_{1} =  \\begin{bmatrix}0\\\\ 1\\\\ 0 \\end{bmatrix}, \\qquad \\mathbf{e}_{2} =  \\begin{bmatrix}0\\\\ 0\\\\ 1 \\end{bmatrix}\n",
    "$$\n",
    "Una forma de representar a los vectores unitarios es la siguiente:\n",
    "$$\n",
    "\\left(e_{i}\\right)_{j} =  \\left \\{ \\begin{matrix} 1 & \\text{si }i=j\n",
    "\\\\ 0 & \\text{si }i\\neq j\\end{matrix}\\right. \n",
    "$$"
   ]
  },
  {
   "cell_type": "markdown",
   "metadata": {},
   "source": [
    "## Producto Interno"
   ]
  },
  {
   "cell_type": "markdown",
   "metadata": {},
   "source": [
    "El *Producto Interno* (Estandar) o simplemente *Producto Punto* de dos $n$-vectores $\\vec{a}, \\vec{b}$ se define como el escalar:\n",
    "\n",
    "$$\n",
    "<\\vec{a}, \\vec{b}> = \\vec{a} \\cdot \\vec{b} = a_{0}b_{1}+a_{1}b_{1}+\\cdots+a_{n-1}b_{n-1} = \\displaystyle\\sum_{i=0}^{n-1} a_{i}b_{i}\n",
    "$$\n",
    "\n",
    "que es la suma del producto de sus entradas."
   ]
  },
  {
   "cell_type": "markdown",
   "metadata": {},
   "source": [
    "Veamos como funciona en el siguiente ejemplo: si $\\vec{a}=(1,2,3)$ y $\\vec{b}=(4,5,6)$, entonces el producto punto será:\n",
    "\n",
    "$$\n",
    "\\vec{a}\\cdot\\vec{b} = (1,2,3)\\cdot(4,5,6) = 1\\cdot 4+2\\cdot 5+3\\cdot 6 = 4+10+18 = 32\n",
    "$$\n"
   ]
  },
  {
   "cell_type": "markdown",
   "metadata": {},
   "source": [
    "## Transposición de Vectores"
   ]
  },
  {
   "cell_type": "markdown",
   "metadata": {},
   "source": [
    "Los vectores tienen dos formas de representarse:\n",
    "\n",
    "**Vector Columna**\n",
    "$$\n",
    "\\vec{a} = \\begin{bmatrix}a_{0}\\\\ a_{1}\\\\ \\vdots \\\\ a_{n-1}\\end{bmatrix} \n",
    "$$\n",
    "\n",
    "**Vector Renglón**\n",
    "$$\n",
    "\\vec{a} = [a_{0}\\; a_{1}\\; \\cdots \\; a_{n-1}]\n",
    "$$\n",
    "\n",
    "Por lo general, cuando se habla de un vector se refiere a un _vector columna_. La operacion de _Transposicion_ nos permite cambiar de vectores columnas a vectores renglón sin modificar al vector que se transponga. Retomemos el vector $\\vec{a}$, denotaremos como $\\vec{a}^{T}$ al vector transpuesto de $\\vec{a}$:\n",
    "\n",
    "$$\n",
    "\\vec{a}^{T} = \\begin{bmatrix}a_{0}\\\\ a_{1}\\\\ \\vdots \\\\ a_{n-1}\\end{bmatrix}^{T} = [a_{0}\\; a_{1}\\; \\cdots \\; a_{n-1}]\n",
    "$$\n"
   ]
  },
  {
   "cell_type": "markdown",
   "metadata": {},
   "source": [
    "### Propiedades de la Transposición"
   ]
  },
  {
   "cell_type": "markdown",
   "metadata": {},
   "source": [
    "- **Transposición de un vector transpuesto**: es posible transponer un vector transpuesto\n",
    "$$\n",
    "\\left(\\vec{a}^{T}\\right)^{T} = \\left(\\begin{bmatrix}a_{0}\\\\ a_{1}\\\\ \\vdots \\\\ a_{n-1}\\end{bmatrix}^{T}\\right)^{T} = [a_{0}\\; a_{1}\\; \\cdots \\; a_{n-1}]^{T} = \\begin{bmatrix}a_{0}\\\\ a_{1}\\\\ \\vdots \\\\ a_{n-1}\\end{bmatrix} = \\vec{a}\n",
    "$$\n",
    "\n",
    "\n",
    "- **Transposición y el Producto Interno**: Consideremos los vectores $\\vec{a}$ y $\\vec{b}$ ambos de la misma dimensión. Definimos la operación $\\vec{a}^{T}\\vec{b}$ como:\n",
    "\n",
    "$$\n",
    "\\vec{a}^{T}\\; \\vec{b} = [a_{0}\\; a_{1}\\; \\cdots \\; a_{n-1}]  \\begin{bmatrix}b_{0}\\\\ b_{1}\\\\ \\vdots \\\\ b_{n-1}\\end{bmatrix} = a_{0}b_{0} + a_{1}b_{1} + \\cdots + a_{n-1}b_{n-1} = \\displaystyle\\sum_{i=0}^{n-1} a_{i}b_{i}\n",
    "$$\n",
    "\n",
    "Lo cual coincide con la definición del producto interno. Así pues $<\\vec{a},\\vec{b}> = \\vec{a}\\cdot \\vec{b} = \\vec{a}^{T} \\;\\vec{b} = \\displaystyle\\sum_{i=0}^{n-1} a_{i}b_{i}$"
   ]
  },
  {
   "cell_type": "markdown",
   "metadata": {},
   "source": [
    "## Propiedades del Producto Interno"
   ]
  },
  {
   "cell_type": "markdown",
   "metadata": {},
   "source": [
    "Sean $\\vec{a},\\vec{b}$ dos $n$-vectores y $\\alpha$ un escalar. El producto interno entre $\\vec{a}$ y $\\vec{b}$ cumple las siguientes propiedades:"
   ]
  },
  {
   "cell_type": "markdown",
   "metadata": {},
   "source": [
    "### **Conmutatividad:**"
   ]
  },
  {
   "cell_type": "markdown",
   "metadata": {},
   "source": [
    " $\\vec{a}^{T}\\vec{b} = \\displaystyle\\sum_{i=0}^{n-1} a_{i}b_{i} = \\displaystyle\\sum_{i=0}^{n-1} b_{i}a_{i} = \\vec{b}^{T}\\vec{a}$"
   ]
  },
  {
   "cell_type": "markdown",
   "metadata": {},
   "source": [
    "### **Asociatividad con multiplicación escalar:**"
   ]
  },
  {
   "cell_type": "markdown",
   "metadata": {},
   "source": [
    "$\\left(\\alpha \\vec{a}\\right)^{T}\\vec{b} = \\alpha\\left(\\vec{a}^{T}\\vec{b}\\right)$"
   ]
  },
  {
   "cell_type": "markdown",
   "metadata": {},
   "source": [
    "### **Distribución en la adición de vectores:**"
   ]
  },
  {
   "cell_type": "markdown",
   "metadata": {},
   "source": [
    "$\\left(\\vec{a} + \\vec{b}\\right)^{T}\\vec{c} = \\vec{a}^{T}\\vec{c} + \\vec{b}^{T}\\vec{c}$"
   ]
  },
  {
   "cell_type": "markdown",
   "metadata": {},
   "source": [
    "### **Proyección**"
   ]
  },
  {
   "cell_type": "markdown",
   "metadata": {},
   "source": [
    "Si $\\vec{a}$ es un $n$-vector entonces $\\hat{e}_{i}^{T}\\vec{a} = a_{i}$. \n",
    "\n",
    "_Ejemplo_: Tenemos el vector $$\\mathbf{a} =  \\begin{bmatrix}3\\\\ 2\\\\ 1 \\end{bmatrix}$$ y los siguientes vectores unitarios:\n",
    "\n",
    "\n",
    "$$\n",
    "\\mathbf{e}_{0} =  \\begin{bmatrix}1\\\\ 0\\\\ 0 \\end{bmatrix}, \\qquad \\mathbf{e}_{1} =  \\begin{bmatrix}0\\\\ 1\\\\ 0 \\end{bmatrix}, \\qquad \\mathbf{e}_{2} =  \\begin{bmatrix}0\\\\ 0\\\\ 1 \\end{bmatrix}\n",
    "$$ \n",
    "\n",
    "Entonces, segun la propiedad, tenemos:\n",
    "$$\n",
    "\\hat{e}_{0}^{T}\\vec{a} = [1,0,0]\\begin{bmatrix}3\\\\ 2\\\\ 1 \\end{bmatrix} = 3\n",
    "$$\n",
    "$$\n",
    "\\hat{e}_{1}^{T}\\vec{a} = [0,1,0]\\begin{bmatrix}3\\\\ 2\\\\ 1 \\end{bmatrix} = 2\n",
    "$$\n",
    "$$\n",
    "\\hat{e}_{2}^{T}\\vec{a} = [0,0,1]\\begin{bmatrix}3\\\\ 2\\\\ 1 \\end{bmatrix} = 1\n",
    "$$"
   ]
  },
  {
   "cell_type": "markdown",
   "metadata": {},
   "source": [
    "### **Suma de elementos de un vector.**  "
   ]
  },
  {
   "cell_type": "markdown",
   "metadata": {},
   "source": [
    "$\\mathbf{1}^{T}a = a_{0}+a_{1}+\\cdots+a_{n-1}$\n",
    "\n",
    "Ejemplo: Tenemos el siguiente vector $$\\mathbf{a} =  \\begin{bmatrix}3\\\\ 2\\\\ 1 \\end{bmatrix}$$ Para sumar sus elementos, realizamos el producto punto entre el vector $a$ y el uno vector traspuesto \n",
    "$$\\mathbf{1} =  \\begin{bmatrix}1\\\\ 1\\\\ 1 \\end{bmatrix}$$"
   ]
  },
  {
   "cell_type": "markdown",
   "metadata": {},
   "source": [
    "- $\\mathbf{1}^{T}a = [1,1,1] \\begin{bmatrix}3\\\\ 2\\\\ 1 \\end{bmatrix} = 3 + 2 + 1 = 6$"
   ]
  },
  {
   "cell_type": "markdown",
   "metadata": {},
   "source": [
    "### **Promedio de entradas de un vector.** "
   ]
  },
  {
   "cell_type": "markdown",
   "metadata": {},
   "source": [
    "$(\\mathbf{1}/n)^{T}\\vec{a} = (a_{0}+a_{1}+\\cdots+a_{n-1})/n$\n",
    "\n",
    "Ejemplo: Tenemos el siguiente vector $$\\mathbf{a} =  \\begin{bmatrix}3\\\\ 2\\\\ 1 \\end{bmatrix}$$ Para calcular el promedio de las entradas del vector se procede como sigue:\n",
    "\n",
    "- $(\\mathbf{1}/n)^{T}\\vec{a} = ([1,1,1])/3\\begin{bmatrix}3\\\\ 2\\\\ 1 \\end{bmatrix} = [1/3,1/3,1/3]\\begin{bmatrix}3\\\\ 2\\\\ 1 \\end{bmatrix} = 2$"
   ]
  },
  {
   "cell_type": "markdown",
   "metadata": {},
   "source": [
    "### **Suma de cuadrados de un vector.** "
   ]
  },
  {
   "cell_type": "markdown",
   "metadata": {},
   "source": [
    "$\\vec{a}^{T} \\;\\vec{a} = a_{0}^{2}+a_{1}^{2}+\\cdots+a_{n-1}^{2}$\n",
    "\n",
    "Ejemplo: Tenemos el siguiente vector $$\\mathbf{a} =  \\begin{bmatrix}3\\\\ 2\\\\ 1 \\end{bmatrix}$$ Para calcular la suma de los cuadrados de un vector se procede como sigue\n",
    "\n",
    "- $\\vec{a}^{T} \\;\\vec{a} = [3,2,1]\\begin{bmatrix}3\\\\ 2\\\\ 1 \\end{bmatrix} = 3\\cdot 3 + 2\\cdot 2 + 1\\cdot 1 = 9 + 4 + 1 = 14$"
   ]
  },
  {
   "cell_type": "markdown",
   "metadata": {},
   "source": [
    "# Carga de Datos"
   ]
  },
  {
   "cell_type": "markdown",
   "metadata": {},
   "source": [
    "Vamos a trabajar con un conjunto de tweet almacenados en un archivo .txt. Hay un tweet por cada linea del archivo. Vamos a cargalo "
   ]
  },
  {
   "cell_type": "code",
   "execution_count": 10,
   "metadata": {},
   "outputs": [
    {
     "name": "stdout",
     "output_type": "stream",
     "text": [
      "7\n"
     ]
    }
   ],
   "source": [
    "# Cargamos el archivo e imprimos la cantidad de tweets\n",
    "with open('tweet.txt', 'r') as file:\n",
    "    lines = file.read().splitlines()\n",
    "    print(len(lines))"
   ]
  },
  {
   "cell_type": "code",
   "execution_count": 11,
   "metadata": {},
   "outputs": [
    {
     "data": {
      "text/plain": [
       "{1: 'Gran mexicano y excelente en su área, su muerte es una enorme perdida y debería ser luto nacional!!!',\n",
       " 2: 'Vaya señora que bueno que se asesora por alguien inteligente no por el ignorante del Gatt.',\n",
       " 3: 'Se me ocurre y sin ver todos los videos de Plazti que me informéis por dónde empiezo. Entiendo que os tendría que decir quién soy y que quiero, vamos conocerme para asesorarme bien.',\n",
       " 4: 'Un saludo. Soy docente universitario, estoy intentando preparar mis clases en modo bien didáctico, (le llamo modo noticiero), descargue una plataforma gratuita de grabación y transmisión de vídeo, se llama Obs estudio!bueno la sigo remando con sus funciones pero sé que saldrá algo!',\n",
       " 5: 'La situación economica cada vez mas empeora, debemos hacer algo!',\n",
       " 6: 'La gripa esta afectando a toda mi familia.... Té de Jengibre urgente!!',\n",
       " 7: 'Las pinturas de Botero reflejan el arte de lo grotesco'}"
      ]
     },
     "execution_count": 11,
     "metadata": {},
     "output_type": "execute_result"
    }
   ],
   "source": [
    "# creamos un diccionario y le pasamos como clave, una lista con el numero que representa cada tweet\n",
    "diccionary = dict.fromkeys([1,2,3,4,5,6,7])\n",
    "\n",
    "# asignamos a cada numero, el tweet correspondiente\n",
    "i = 0\n",
    "for key in diccionary:\n",
    "    diccionary[key] = lines[i]\n",
    "    i += 1\n",
    "\n",
    "diccionary"
   ]
  },
  {
   "cell_type": "markdown",
   "metadata": {},
   "source": [
    "Ahora tenemos un Diccionario con los tweets que vamos a analizar"
   ]
  },
  {
   "cell_type": "markdown",
   "metadata": {},
   "source": [
    "# Limpieza de tweets"
   ]
  },
  {
   "cell_type": "markdown",
   "metadata": {},
   "source": [
    "Creamos una funcion que elimine caracteres no relevantes como signos de puntuacion, vocales acentuadas y devuelva una lista de palabras de la cadena"
   ]
  },
  {
   "cell_type": "code",
   "execution_count": 12,
   "metadata": {},
   "outputs": [],
   "source": [
    "def deleteChar(string):\n",
    "    \n",
    "    # letras en minuscula\n",
    "    string = string.lower()\n",
    "\n",
    "    # lista de signos de puntuacion\n",
    "    sign = [',', '.', ';', ':', '!', '?']\n",
    "\n",
    "    # diccionario con vocales acentuadas\n",
    "    acent = {\n",
    "        'á': 'a',\n",
    "        'é': 'e',\n",
    "        'í': 'i',\n",
    "        'ó': 'o',\n",
    "        'ú': 'u',\n",
    "        }\n",
    "    \n",
    "    # reemplazar signos de puntuacion\n",
    "    for char in sign:\n",
    "        string = string.replace(char,' ')\n",
    "\n",
    "    # reemplazar vocales acentuadas\n",
    "    for key in acent:\n",
    "        if key in string:\n",
    "            string = string.replace(key, acent[key])\n",
    "\n",
    "    # lista de palabras de la cadena\n",
    "    string = string.split(' ')\n",
    "\n",
    "    # lista de palabras como elementos\n",
    "    string = [x for x in string if x !='']\n",
    "\n",
    "    return string"
   ]
  },
  {
   "cell_type": "markdown",
   "metadata": {},
   "source": [
    "Aplicamos la funcion a todos los values del diccionario que contiene los tweets."
   ]
  },
  {
   "cell_type": "code",
   "execution_count": 13,
   "metadata": {},
   "outputs": [
    {
     "data": {
      "text/plain": [
       "{1: ['gran',\n",
       "  'mexicano',\n",
       "  'y',\n",
       "  'excelente',\n",
       "  'en',\n",
       "  'su',\n",
       "  'area',\n",
       "  'su',\n",
       "  'muerte',\n",
       "  'es',\n",
       "  'una',\n",
       "  'enorme',\n",
       "  'perdida',\n",
       "  'y',\n",
       "  'deberia',\n",
       "  'ser',\n",
       "  'luto',\n",
       "  'nacional'],\n",
       " 2: ['vaya',\n",
       "  'señora',\n",
       "  'que',\n",
       "  'bueno',\n",
       "  'que',\n",
       "  'se',\n",
       "  'asesora',\n",
       "  'por',\n",
       "  'alguien',\n",
       "  'inteligente',\n",
       "  'no',\n",
       "  'por',\n",
       "  'el',\n",
       "  'ignorante',\n",
       "  'del',\n",
       "  'gatt'],\n",
       " 3: ['se',\n",
       "  'me',\n",
       "  'ocurre',\n",
       "  'y',\n",
       "  'sin',\n",
       "  'ver',\n",
       "  'todos',\n",
       "  'los',\n",
       "  'videos',\n",
       "  'de',\n",
       "  'plazti',\n",
       "  'que',\n",
       "  'me',\n",
       "  'informeis',\n",
       "  'por',\n",
       "  'donde',\n",
       "  'empiezo',\n",
       "  'entiendo',\n",
       "  'que',\n",
       "  'os',\n",
       "  'tendria',\n",
       "  'que',\n",
       "  'decir',\n",
       "  'quien',\n",
       "  'soy',\n",
       "  'y',\n",
       "  'que',\n",
       "  'quiero',\n",
       "  'vamos',\n",
       "  'conocerme',\n",
       "  'para',\n",
       "  'asesorarme',\n",
       "  'bien'],\n",
       " 4: ['un',\n",
       "  'saludo',\n",
       "  'soy',\n",
       "  'docente',\n",
       "  'universitario',\n",
       "  'estoy',\n",
       "  'intentando',\n",
       "  'preparar',\n",
       "  'mis',\n",
       "  'clases',\n",
       "  'en',\n",
       "  'modo',\n",
       "  'bien',\n",
       "  'didactico',\n",
       "  '(le',\n",
       "  'llamo',\n",
       "  'modo',\n",
       "  'noticiero)',\n",
       "  'descargue',\n",
       "  'una',\n",
       "  'plataforma',\n",
       "  'gratuita',\n",
       "  'de',\n",
       "  'grabacion',\n",
       "  'y',\n",
       "  'transmision',\n",
       "  'de',\n",
       "  'video',\n",
       "  'se',\n",
       "  'llama',\n",
       "  'obs',\n",
       "  'estudio',\n",
       "  'bueno',\n",
       "  'la',\n",
       "  'sigo',\n",
       "  'remando',\n",
       "  'con',\n",
       "  'sus',\n",
       "  'funciones',\n",
       "  'pero',\n",
       "  'se',\n",
       "  'que',\n",
       "  'saldra',\n",
       "  'algo'],\n",
       " 5: ['la',\n",
       "  'situacion',\n",
       "  'economica',\n",
       "  'cada',\n",
       "  'vez',\n",
       "  'mas',\n",
       "  'empeora',\n",
       "  'debemos',\n",
       "  'hacer',\n",
       "  'algo'],\n",
       " 6: ['la',\n",
       "  'gripa',\n",
       "  'esta',\n",
       "  'afectando',\n",
       "  'a',\n",
       "  'toda',\n",
       "  'mi',\n",
       "  'familia',\n",
       "  'te',\n",
       "  'de',\n",
       "  'jengibre',\n",
       "  'urgente'],\n",
       " 7: ['las',\n",
       "  'pinturas',\n",
       "  'de',\n",
       "  'botero',\n",
       "  'reflejan',\n",
       "  'el',\n",
       "  'arte',\n",
       "  'de',\n",
       "  'lo',\n",
       "  'grotesco']}"
      ]
     },
     "execution_count": 13,
     "metadata": {},
     "output_type": "execute_result"
    }
   ],
   "source": [
    "for i in range(1, len(diccionary)+1):\n",
    "    diccionary[i] = deleteChar(diccionary[i])\n",
    "\n",
    "diccionary"
   ]
  },
  {
   "cell_type": "markdown",
   "metadata": {},
   "source": [
    "Ahora, cada tweet en diccionary se convierte en una lista con sus palabras preprocesadas."
   ]
  },
  {
   "cell_type": "markdown",
   "metadata": {},
   "source": [
    "# Analisis de Sentimiento de los Tweets"
   ]
  },
  {
   "cell_type": "markdown",
   "metadata": {},
   "source": [
    "Lo siguiente es seleccionar un conjunto de palabras relacionadas al sentimiento que buscamos estimar. Vamos a crear tres listas con palabras consideradas positivas, negativas y neutras. La eleccion de las palabras es muy subjetiva y depende del objetivo de la investigacion."
   ]
  },
  {
   "cell_type": "code",
   "execution_count": 16,
   "metadata": {},
   "outputs": [],
   "source": [
    "math_pos = [\"excelente\", \"gran\", \"quiero\", 'bien', 'positivo', 'bueno', 'inteligente']\n",
    "math_neu = ['aprender', 'estudio', 'didactico', 'hacer', 'algo', 'modo', 'saldra']\n",
    "math_neg = [\"muerte\", \"luto\", 'ignorante', 'perdida', 'grotesco', 'gripa', 'afectando', 'empeora']"
   ]
  },
  {
   "cell_type": "markdown",
   "metadata": {},
   "source": [
    "Una vez elegida las palabras para cada sentimiento, creamos una nueva lista con todas ellas. Esto ayudara a estimar de todas las palabras que se buscan, cuales coinciden con los diferentes sentimientos"
   ]
  },
  {
   "cell_type": "code",
   "execution_count": 17,
   "metadata": {},
   "outputs": [
    {
     "data": {
      "text/plain": [
       "['excelente',\n",
       " 'gran',\n",
       " 'quiero',\n",
       " 'bien',\n",
       " 'positivo',\n",
       " 'bueno',\n",
       " 'inteligente',\n",
       " 'aprender',\n",
       " 'estudio',\n",
       " 'didactico',\n",
       " 'hacer',\n",
       " 'algo',\n",
       " 'modo',\n",
       " 'saldra',\n",
       " 'muerte',\n",
       " 'luto',\n",
       " 'ignorante',\n",
       " 'perdida',\n",
       " 'grotesco',\n",
       " 'gripa',\n",
       " 'afectando',\n",
       " 'empeora']"
      ]
     },
     "execution_count": 17,
     "metadata": {},
     "output_type": "execute_result"
    }
   ],
   "source": [
    "math = math_pos + math_neu + math_neg\n",
    "math"
   ]
  },
  {
   "cell_type": "markdown",
   "metadata": {},
   "source": [
    "Para explicar como funciona tal analisis, supongamos que el tweet que vamos analizar es el siguiente: \n",
    "\n",
    "_Gran mexicano y excelente en su área, su muerte es una enorme perdida y debería ser luto nacional!!!_. \n",
    "\n",
    "Vamos a buscar cadenas especificas en los tweets por lo que contamos la cantidad de veces que aparece cierta cadena. Supongamos que las palabras objetivos son _muerte, perdida, luto, excelente, gran y positivo_. Construimos un vector $\\vec{w}$ con el conteo de las palabras objetivos que aparecen en el tweet\n",
    "\n",
    "$$\n",
    "\\vec{w} = \\begin{bmatrix}1\\\\ 1 \\\\ 1\\\\ 1\\\\ 1 \\\\0 \\end{bmatrix}\n",
    "$$"
   ]
  },
  {
   "cell_type": "markdown",
   "metadata": {},
   "source": []
  }
 ],
 "metadata": {
  "kernelspec": {
   "display_name": "data",
   "language": "python",
   "name": "python3"
  },
  "language_info": {
   "codemirror_mode": {
    "name": "ipython",
    "version": 3
   },
   "file_extension": ".py",
   "mimetype": "text/x-python",
   "name": "python",
   "nbconvert_exporter": "python",
   "pygments_lexer": "ipython3",
   "version": "3.10.8"
  }
 },
 "nbformat": 4,
 "nbformat_minor": 2
}
