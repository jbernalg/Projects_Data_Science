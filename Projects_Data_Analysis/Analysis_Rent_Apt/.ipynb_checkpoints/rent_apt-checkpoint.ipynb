{
 "cells": [
  {
   "attachments": {
    "prueba2.jpg": {
     "image/jpeg": "[encoded data removed]"
    }
   },
   "cell_type": "markdown",
   "metadata": {},
   "source": [
    "![prueba2.jpg](attachment:prueba2.jpg)\n",
    "\n",
    "\n",
    "\n",
    "\n"
   ]
  },
  {
   "cell_type": "markdown",
   "metadata": {},
   "source": [
    "\n",
    "\n",
    "\n",
    "\n",
    "\n",
    "\n",
    "\n",
    "\n",
    "\n",
    "\n",
    "\n",
    "\n",
    "\n",
    "\n",
    "\n"
   ]
  },
  {
   "cell_type": "markdown",
   "metadata": {},
   "source": [
    "# Proyecto de optimización con Álgebra Lineal"
   ]
  },
  {
   "cell_type": "markdown",
   "metadata": {},
   "source": [
    "La optimización juega un papel crucial en una amplia gama de campos que van desde la ingeniería hasta la logística. Esto ha hecho que las técnicas de optimización basadas en el álgebra lineal se vuelvan indispensables. En este proyecto abordarémos un problema de optimización del mundo real utilizando los conceptos de **Norma** y **Distancia**.\n",
    "\n",
    "Ambos conceptos nos permiten medir y cuantificar la separación entre puntos, conjunto de puntos o funciones proporcionando una comprensión profunda de la estructura y la distribución de los datos, así como una base sólida para formular y resolver problemas de optimización para la toma de decisiones.\n",
    "\n",
    "Imagina que necesitamos arrendar un apartamento y tenemos tanta información de muchos de ellos que se nos dificulta organizar las citas, con lo cual, podríamos estar perdiendo una potencial oportunidad!. Te invito a continuar con la lectura donde te mostraré cómo implementar los conceptos de **Distancia** y **Norma** para dar solución a este problema."
   ]
  },
  {
   "cell_type": "markdown",
   "metadata": {},
   "source": [
    "# Conceptos de Álgebra"
   ]
  },
  {
   "cell_type": "markdown",
   "metadata": {},
   "source": [
    "## Norma"
   ]
  },
  {
   "cell_type": "markdown",
   "metadata": {},
   "source": [
    "La magnitud de un vector se define a través de la *norma Euclidiana* como sigue:\n",
    "\n",
    "$$\n",
    "||x|| = \\displaystyle\\sqrt{x_{0}^2 + x_{1}^2 + \\cdots + x_{n-1}^{2}} = \\displaystyle\\sqrt(x^Tx)\n",
    "$$\n",
    "\n",
    "Donde $x$ es un $n$-vector. Ejemplo, calculemos la magnitud del vector $x^T = [1,2,3]$\n",
    "\n",
    "$$\n",
    "||x|| = \\displaystyle\\sqrt{1^2 + 2^2 + 3^2} = \\sqrt{14} \\approx 3.74\n",
    "$$\n"
   ]
  },
  {
   "cell_type": "markdown",
   "metadata": {},
   "source": [
    "## Propiedades de la Norma"
   ]
  },
  {
   "cell_type": "markdown",
   "metadata": {},
   "source": [
    "Sean $x$, $y$ son $n$-vectores y $\\beta$ un escalar cualquiera, tenemos que la norma cumple:\n",
    "* Homogeneídad no negativa: $||\\beta x|| = |\\beta|\\cdot ||x||$\n",
    "\n",
    "* Desigualdad del triángulo: $||x+y|| \\le ||x|| + ||y||$ \n",
    "\n",
    "* No-negatividad: $||x||\\ge 0$ y además $||x|| = 0$ si y solamente si $x = \\mathbf{0}$"
   ]
  },
  {
   "cell_type": "markdown",
   "metadata": {},
   "source": [
    "## Distancia entre vectores"
   ]
  },
  {
   "cell_type": "markdown",
   "metadata": {},
   "source": [
    "Podemos usar la norma para definir la distancia entre dos vectores $\\mathbf{a}$ y $\\mathbf{b}$ como la norma de la diferencia de los vectores.\n",
    "\n",
    "$$\n",
    "dist(\\mathbf{a},\\mathbf{b}) = ||\\mathbf{a} - \\mathbf{b}|| = \\displaystyle\\sqrt{(a_{0}-b_{0})^2 + (a_{1}-b_{1})^2 + \\cdots + (a_{n-1}-b_{n-1})^2}\n",
    "$$\n",
    "\n",
    "Ejemplo, tenemos los vectores $\\mathbf{x}$ y $\\mathbf{y}$ en $\\mathbb{R}^2$\n",
    "\n",
    "$$\n",
    "\\mathbf{x} = \\begin{bmatrix} 2\\\\1 \\end{bmatrix},\\; \\qquad \\mathbf{y} = \\begin{bmatrix} 1\\\\2 \\end{bmatrix}\n",
    "$$\n",
    "\n",
    "Calculemos la distancia euclideana entre ambos vectores\n",
    "\n",
    "$||\\mathbf{x}-\\mathbf{y}||_{2} = \\displaystyle\\sqrt{(2-1)^{2} + (1-2)^{2}} = \\displaystyle\\sqrt{2}$. "
   ]
  },
  {
   "cell_type": "markdown",
   "metadata": {},
   "source": [
    "A esto se el llama _norma Euclidiana_ o *distancia Euclidiana*. Siempre que nuestro espacio admita una $\\mathbf{L^p}$-norma entonces podremos generalizar la norma anterior como:\n",
    "\n",
    "$$\n",
    "||x||_{p} = \\left(|x_{0}|^p + |x_{1}|^p + \\cdots + |x_{n-1}|^p\\right)^{1/p} \\qquad con \\;\\; 1\\le p\n",
    "$$"
   ]
  },
  {
   "cell_type": "markdown",
   "metadata": {},
   "source": [
    "Por eso es que la norma Euclidiana también es conocida como la *norma $L_{2}$*. Hay otras normas que recibe nombres:\n",
    "\n",
    "- Si $p=1$ tenemos la norma $L_{1}$ y esta es llamada _la métrica del taxista_ o _la métrica de Manhattan_. \n",
    "\n",
    "- Si tomamos $p \\to \\infty$ entonces tenemos $L_{\\infty}$ y esta es llamada _la métrica del máximo_. \n",
    "\n",
    "Es muy importante saber qué métrica estamos usando para medir distancias ya que la forma en la que medimos distancias está en total correspondencia con la configuración y la percepción el espacio. Por ejemplo, mientras que en la métrica Euclidiana la distancia corresponde a la más corta entre los dos vectores en el espacio plano, en el caso de la métrica del taxista, es la más corta pero no será el segmento más directo sino por _bloques_."
   ]
  },
  {
   "cell_type": "markdown",
   "metadata": {},
   "source": [
    "## Nocion de Distancia"
   ]
  },
  {
   "cell_type": "markdown",
   "metadata": {},
   "source": [
    "Es importante notar que a pesar de que medimos distancias no existen propiamente nociones de *cerca* y *lejos*. Si tomamos los siguientes $4$-vectores\n",
    "\n",
    "$$\n",
    "\\mathbf{u} = \\begin{bmatrix}1.8 \\\\ 2.8 \\\\ -3.7 \\\\ 4.7 \\end{bmatrix}, \\qquad  \\mathbf{v} = \\begin{bmatrix}0.6 \\\\ 2.1 \\\\ 1.9 \\\\ -1.4 \\end{bmatrix}, \\qquad \\mathbf{w} = \\begin{bmatrix}2.0 \\\\ 1.9 \\\\ -4.0 \\\\ 4.6 \\end{bmatrix}\n",
    "$$\n",
    "\n",
    "Tenemos que las distancia entre los vectores es:\n",
    "\n",
    "$$\n",
    "||\\mathbf{u}-\\mathbf{v}|| = 8.36, \\qquad ||\\mathbf{u}-\\mathbf{w}|| = 0.38, \\qquad ||\\mathbf{v}-\\mathbf{w}|| = 8.63\n",
    "$$\n",
    "\n",
    "De esta manera ya tenemos noción de cercano o lejos, de no ser porque comparamos no tendríamos estas nociones. "
   ]
  },
  {
   "cell_type": "markdown",
   "metadata": {},
   "source": [
    "# Análisis del problema"
   ]
  },
  {
   "cell_type": "markdown",
   "metadata": {},
   "source": [
    "El gran problema es que llegamos a recolectar tanta informacóon sobre anuncios y contactos que organizarnos para ir a las visitas puede parecer prácticamente imposible, dejando volar la oportunidad de un gran apartamento. La solución al problema de las citas, a través del álgebra lineal, consiste de los siguientes pasos: \n",
    "\n",
    "1.- Representar nuestro departamento ideal como un vector de características.\n",
    "\n",
    "2.- Construir el mismo vector para los apartamentos que ya tengamos localizados. \n",
    "\n",
    "3.- Calcular la distancia entre estos vectores y el vector que representa al departamento ideal.\n",
    "\n",
    "4.- Ordenar, de manera ascendente, las distancias y ya tendríamos una lista ordenada en prioridad de contacto y visita de apartamentos según nuestro apartamento ideal."
   ]
  },
  {
   "cell_type": "markdown",
   "metadata": {},
   "source": [
    "# Implementación de la Solución"
   ]
  },
  {
   "cell_type": "markdown",
   "metadata": {},
   "source": [
    "## Paso 1"
   ]
  },
  {
   "cell_type": "markdown",
   "metadata": {},
   "source": [
    "Supongamos que las características de nuestro apartamento ideal son las siguientes:\n",
    "- tamaño del apartamento\n",
    "- número de recámaras\n",
    "- número de baños\n",
    "- número de estacionamientos. \n",
    "\n",
    "El tamaño del apartamento regularmente se da en metros cuadrados (área), cantidad que tiende a variar mucho, lo cual introduce una gran volumen de ruido. Para resolver este problema vamos a catalogar los tamaños de apartametos en categorías:\n",
    "\n",
    "- 1 si el área es menor que 60 metros cuadrados.\n",
    "- 2 si el área es mayor o igual que 60 metros cuadrados pero menor que 80 metros cuadrados.\n",
    "- 3 si el área es mayor o igual que 80 metros cuadrados pero menor que 110 metros cuadrados.\n",
    "- 4 si el área es mayor o igual que 110 metros cuadrados pero menor que 130 metros cuadrados.\n",
    "- 5 si el área es mayor o igual que 130 metros cuadrados.\n",
    "\n",
    "Nuestro apartamento ideal viene dado por el siguiente vector:\n",
    "\n",
    "$$\n",
    "\\mathbf{I} = \\begin{bmatrix} 3\\\\ 2\\\\ 2\\\\1 \\end{bmatrix}\n",
    "$$\n",
    "\n",
    "donde: \n",
    "- El primer elemento con valor de 3 corresponde a la categoría de tamaño para un rango que va de los 80 a 110 metros cuadrados.\n",
    "- El segundo elemento con valor de 2 esta asociado a la cantidad de recamaras.\n",
    "- El tercer elemento con valor de 2 corresponde a la cantidad de baños.\n",
    "- El cuarto elemento con valor de 1 corresponde al número de estacionamiento.\n",
    "\n",
    "Representamos el vector del apartamento ideal en Python como sigue:"
   ]
  },
  {
   "cell_type": "code",
   "execution_count": 12,
   "metadata": {},
   "outputs": [
    {
     "data": {
      "text/plain": [
       "array([3, 2, 2, 1])"
      ]
     },
     "execution_count": 12,
     "metadata": {},
     "output_type": "execute_result"
    }
   ],
   "source": [
    "# importamos la libreria Numpy\n",
    "import numpy as np\n",
    "\n",
    "# Vector de apartamento ideal\n",
    "I = np.array([3,2,2,1])\n",
    "\n",
    "I"
   ]
  },
  {
   "cell_type": "markdown",
   "metadata": {},
   "source": [
    "## Paso 2"
   ]
  },
  {
   "cell_type": "markdown",
   "metadata": {},
   "source": [
    "Ahora imaginemos que tenemos la información de 5 apartamentos. Al hacer la conversión como la hecha con el apartamento ideal, obtenemos los siguientes vectores:\n",
    "\n",
    "$$\n",
    "\\mathbf{A_{1}} = \\begin{bmatrix}4 \\\\3 \\\\ 3\\\\3 \\end{bmatrix}, \\qquad \\mathbf{A_{2}} = \\begin{bmatrix}3 \\\\3 \\\\ 2\\\\1 \\end{bmatrix}, \\qquad \\mathbf{A_{3}} = \\begin{bmatrix}5 \\\\4 \\\\ 3\\\\0 \\end{bmatrix}, \\qquad \\mathbf{A_{4}} = \\begin{bmatrix}1 \\\\2 \\\\ 1\\\\0 \\end{bmatrix}, \\qquad  \\mathbf{A_{5}} = \\begin{bmatrix}2 \\\\1 \\\\ 1\\\\2 \\end{bmatrix}\n",
    "$$\n",
    "\n",
    "Representamos los vectores para cada apartamento en Python como sigue:"
   ]
  },
  {
   "cell_type": "code",
   "execution_count": 13,
   "metadata": {},
   "outputs": [
    {
     "name": "stdout",
     "output_type": "stream",
     "text": [
      "[4 3 3 3]\n",
      "[3 3 2 1]\n",
      "[5 4 3 0]\n",
      "[1 2 1 0]\n",
      "[2 1 1 0]\n"
     ]
    }
   ],
   "source": [
    "A_1 = np.array([4,3,3,3])\n",
    "A_2 = np.array([3,3,2,1])\n",
    "A_3 = np.array([5,4,3,0])\n",
    "A_4 = np.array([1,2,1,0])\n",
    "A_5 = np.array([2,1,1,0])\n",
    "\n",
    "print(A_1)\n",
    "print(A_2)\n",
    "print(A_3)\n",
    "print(A_4)\n",
    "print(A_5)"
   ]
  },
  {
   "cell_type": "markdown",
   "metadata": {},
   "source": [
    "## Paso 3"
   ]
  },
  {
   "cell_type": "markdown",
   "metadata": {},
   "source": [
    "En este punto, el problema se reduce en encontrar el vector más cercano al vector ideal. Básicamente si tenemos una colección de N $n$-vectores $z_{0},z_{1},\\dots,z_{N-1}$ vamos a decir que $z_{i}$ es el vecino más cercano del vector $x$ si \n",
    "\n",
    "$$\n",
    "||x-z_{i}|| \\le ||x - z_{j}|| \\quad con \\; \\; j = 0,\\dots, N-1\n",
    "$$\n",
    "\n",
    "Aca utilizamos la definición de **Norma**. Calculamos las distancias entre los vectores con la librería Pandas como sigue:"
   ]
  },
  {
   "cell_type": "code",
   "execution_count": 14,
   "metadata": {},
   "outputs": [
    {
     "name": "stdout",
     "output_type": "stream",
     "text": [
      "||I-A_1|| = 2.6457513110645907\n",
      "||I-A_2|| = 1.0\n",
      "||I-A_3|| = 3.1622776601683795\n",
      "||I-A_4|| = 2.449489742783178\n",
      "||I-A_5|| = 2.0\n"
     ]
    }
   ],
   "source": [
    "print('||I-A_1|| =', np.linalg.norm(I - A_1))\n",
    "print('||I-A_2|| =', np.linalg.norm(I - A_2))\n",
    "print('||I-A_3|| =', np.linalg.norm(I - A_3))\n",
    "print('||I-A_4|| =', np.linalg.norm(I - A_4))\n",
    "print('||I-A_5|| =', np.linalg.norm(I - A_5))"
   ]
  },
  {
   "cell_type": "markdown",
   "metadata": {},
   "source": [
    "## Paso 4"
   ]
  },
  {
   "cell_type": "markdown",
   "metadata": {},
   "source": [
    "Como el resultado anterior es realizado sobre pocos apartamentos podemos visualizar de inmediato, sin necesidad de ordenar, que el apartamento con distancia más pequeña que es el $A_{2}$. Sin embargo, para grandes cantidades esto podría ser un gran problema y aquí es importante ordenar las distancias de forma ascendente.\n",
    "\n",
    "Para lograrlo vamos a crear una función que solicite un vector de vectores, el cual contendrá todos los vectores de los apartamentos y aparte, el vector del apartamento ideal. La función devuelve un DataFrame con las distancias ordenadas."
   ]
  },
  {
   "cell_type": "code",
   "execution_count": 15,
   "metadata": {},
   "outputs": [
    {
     "data": {
      "text/plain": [
       "array([[4, 3, 3, 3],\n",
       "       [3, 3, 2, 1],\n",
       "       [5, 4, 3, 0],\n",
       "       [1, 2, 1, 0],\n",
       "       [2, 1, 1, 0]])"
      ]
     },
     "execution_count": 15,
     "metadata": {},
     "output_type": "execute_result"
    }
   ],
   "source": [
    "# Creamos un vector de vectores con las distancias de los apartamentos\n",
    "options = np.array([A_1,A_2,A_3,A_4,A_5])\n",
    "\n",
    "options"
   ]
  },
  {
   "cell_type": "code",
   "execution_count": 16,
   "metadata": {},
   "outputs": [],
   "source": [
    "# importamos la libreria Pandas\n",
    "import pandas as pd\n",
    "\n",
    "# Creamos la funcion\n",
    "def ordenation(options,ideal):\n",
    "    # creamos una lista vacia\n",
    "    results = []\n",
    "\n",
    "    # Contador\n",
    "    index = 0\n",
    "\n",
    "    # recorremos todos los vectores\n",
    "    for option in options:\n",
    "        index += 1\n",
    "\n",
    "        # Generamos un array con el nombre y la distancia\n",
    "        result = ['A_' + str(index), np.linalg.norm(ideal - option)]\n",
    "\n",
    "        # guardamos el array en la lista results\n",
    "        results.append(result)\n",
    "\n",
    "    # Crea un df con los resultados ordenados\n",
    "    df = pd.DataFrame(results, columns=['Departamento', 'Tasa']) #.nsmallest(1, 'Tasa')\n",
    "\n",
    "    # ordena los resultados de forma ascendente \n",
    "    df = df.sort_values(by='Tasa', ascending=True)\n",
    "\n",
    "    # Devuelve el dataframe\n",
    "    return df"
   ]
  },
  {
   "cell_type": "code",
   "execution_count": 17,
   "metadata": {},
   "outputs": [
    {
     "data": {
      "text/html": [
       "<div>\n",
       "<style scoped>\n",
       "    .dataframe tbody tr th:only-of-type {\n",
       "        vertical-align: middle;\n",
       "    }\n",
       "\n",
       "    .dataframe tbody tr th {\n",
       "        vertical-align: top;\n",
       "    }\n",
       "\n",
       "    .dataframe thead th {\n",
       "        text-align: right;\n",
       "    }\n",
       "</style>\n",
       "<table border=\"1\" class=\"dataframe\">\n",
       "  <thead>\n",
       "    <tr style=\"text-align: right;\">\n",
       "      <th></th>\n",
       "      <th>Departamento</th>\n",
       "      <th>Tasa</th>\n",
       "    </tr>\n",
       "  </thead>\n",
       "  <tbody>\n",
       "    <tr>\n",
       "      <th>1</th>\n",
       "      <td>A_2</td>\n",
       "      <td>1.000000</td>\n",
       "    </tr>\n",
       "    <tr>\n",
       "      <th>4</th>\n",
       "      <td>A_5</td>\n",
       "      <td>2.000000</td>\n",
       "    </tr>\n",
       "    <tr>\n",
       "      <th>3</th>\n",
       "      <td>A_4</td>\n",
       "      <td>2.449490</td>\n",
       "    </tr>\n",
       "    <tr>\n",
       "      <th>0</th>\n",
       "      <td>A_1</td>\n",
       "      <td>2.645751</td>\n",
       "    </tr>\n",
       "    <tr>\n",
       "      <th>2</th>\n",
       "      <td>A_3</td>\n",
       "      <td>3.162278</td>\n",
       "    </tr>\n",
       "  </tbody>\n",
       "</table>\n",
       "</div>"
      ],
      "text/plain": [
       "  Departamento      Tasa\n",
       "1          A_2  1.000000\n",
       "4          A_5  2.000000\n",
       "3          A_4  2.449490\n",
       "0          A_1  2.645751\n",
       "2          A_3  3.162278"
      ]
     },
     "execution_count": 17,
     "metadata": {},
     "output_type": "execute_result"
    }
   ],
   "source": [
    "# llamamos la funcion con los parametros indicados\n",
    "ordenation(options, I)"
   ]
  },
  {
   "cell_type": "markdown",
   "metadata": {},
   "source": [
    "De esta manera, ya tendremos la lista de los apartamentos a visitar ordenada en función de nuestras prioridades. Vemos que el apartamento que más se ajusta a lo que buscamos es el $A_{2}$ seguido del $A_{5}$. Ahora solo queda discutir las condiciones y un poco el precio para quedarnos con el indicado!"
   ]
  },
  {
   "cell_type": "markdown",
   "metadata": {},
   "source": [
    "# Características de mayor prioridad"
   ]
  },
  {
   "cell_type": "markdown",
   "metadata": {},
   "source": [
    "Imagina que de las características de nuestro apartamento ideal damos mayor relevancia al número de recamaras y al número de parqueaderos. Como podemos reflejar estas preferencias a la hora de ordenar las citas?. La respuesta es agregando una ponderación de importancia sobre cada característica.\n",
    "\n",
    "Para lograrlo, creamos un vector de ponderación con valores entre 0 y 1 para cada característica los cuales representan la importancia que le damos a cada una. Mientras más cercano a 1 mayor es la importancia dada:\n",
    "\n",
    "- Tamaño del apartamento: 0.3\n",
    "- Número de recamaras: 0.9\n",
    "- Número de baños: 0.4\n",
    "- Número de parqueaderos: 1\n",
    "\n",
    "Al número de recamaras y de parqueadero damos valores cercanos a 1. Creamos el vector con la librería Numpy como sigue: "
   ]
  },
  {
   "cell_type": "code",
   "execution_count": 18,
   "metadata": {},
   "outputs": [],
   "source": [
    "arr_pond = np.array([\n",
    "                     0.3, # tamano apartamento\n",
    "                     0.9, # numero de recamaras\n",
    "                     0.4, # numero de banos\n",
    "                     1    # numero de parqueaderos\n",
    "                     ])"
   ]
  },
  {
   "cell_type": "markdown",
   "metadata": {},
   "source": [
    "Lo siguiente es crear una función que pondere los valores de un vector con el vector de ponderación dado (arr_pond). Recuerda que el vector de ponderación debe tener las misma dimensiones que los demás vectores."
   ]
  },
  {
   "cell_type": "code",
   "execution_count": 22,
   "metadata": {},
   "outputs": [],
   "source": [
    "#Funcion de ponderacion de vectores\n",
    "def pond(vect, arr_pond=arr_pond):\n",
    "    return vect * arr_pond"
   ]
  },
  {
   "cell_type": "markdown",
   "metadata": {},
   "source": [
    "Finalmente, creamos una función como la del Paso 4 que refleje la ponderación de importancia."
   ]
  },
  {
   "cell_type": "code",
   "execution_count": 23,
   "metadata": {},
   "outputs": [],
   "source": [
    "# Funcion de ordenacion considerando ponderacion de importancia\n",
    "def ordenationPond(options,ideal):\n",
    "    \n",
    "    # creamos una lista vacia\n",
    "    results = []\n",
    "\n",
    "    # Contador\n",
    "    index = 0\n",
    "\n",
    "    # recorremos todos los vectores\n",
    "    for option in options:\n",
    "        index += 1\n",
    "\n",
    "        # Generamos un array con el nombre y la distancia\n",
    "        result = ['A_' + str(index), np.linalg.norm(pond(ideal) - pond(option))]\n",
    "\n",
    "        # guardamos el array en la lista results\n",
    "        results.append(result)\n",
    "\n",
    "    # Crea un df con los resultados ordenados\n",
    "    df = pd.DataFrame(results, columns=['Departamento', 'Tasa']) #.nsmallest(1, 'Tasa')\n",
    "\n",
    "    # ordena los resultados de forma ascendente \n",
    "    df = df.sort_values(by='Tasa', ascending=True)\n",
    "\n",
    "    # Devuelve el dataframe\n",
    "    return df"
   ]
  },
  {
   "cell_type": "markdown",
   "metadata": {},
   "source": [
    "Ahora, llamamos la función ordenationPond y le pasamos el vector de vectores de los apartamentos y el vector de nuestro apartamento ideal."
   ]
  },
  {
   "cell_type": "code",
   "execution_count": 24,
   "metadata": {},
   "outputs": [
    {
     "data": {
      "text/html": [
       "<div>\n",
       "<style scoped>\n",
       "    .dataframe tbody tr th:only-of-type {\n",
       "        vertical-align: middle;\n",
       "    }\n",
       "\n",
       "    .dataframe tbody tr th {\n",
       "        vertical-align: top;\n",
       "    }\n",
       "\n",
       "    .dataframe thead th {\n",
       "        text-align: right;\n",
       "    }\n",
       "</style>\n",
       "<table border=\"1\" class=\"dataframe\">\n",
       "  <thead>\n",
       "    <tr style=\"text-align: right;\">\n",
       "      <th></th>\n",
       "      <th>Departamento</th>\n",
       "      <th>Tasa</th>\n",
       "    </tr>\n",
       "  </thead>\n",
       "  <tbody>\n",
       "    <tr>\n",
       "      <th>1</th>\n",
       "      <td>A_2</td>\n",
       "      <td>0.900000</td>\n",
       "    </tr>\n",
       "    <tr>\n",
       "      <th>3</th>\n",
       "      <td>A_4</td>\n",
       "      <td>1.232883</td>\n",
       "    </tr>\n",
       "    <tr>\n",
       "      <th>4</th>\n",
       "      <td>A_5</td>\n",
       "      <td>1.435270</td>\n",
       "    </tr>\n",
       "    <tr>\n",
       "      <th>2</th>\n",
       "      <td>A_3</td>\n",
       "      <td>2.181742</td>\n",
       "    </tr>\n",
       "    <tr>\n",
       "      <th>0</th>\n",
       "      <td>A_1</td>\n",
       "      <td>2.249444</td>\n",
       "    </tr>\n",
       "  </tbody>\n",
       "</table>\n",
       "</div>"
      ],
      "text/plain": [
       "  Departamento      Tasa\n",
       "1          A_2  0.900000\n",
       "3          A_4  1.232883\n",
       "4          A_5  1.435270\n",
       "2          A_3  2.181742\n",
       "0          A_1  2.249444"
      ]
     },
     "execution_count": 24,
     "metadata": {},
     "output_type": "execute_result"
    }
   ],
   "source": [
    "ordenationPond(options,I)"
   ]
  },
  {
   "cell_type": "markdown",
   "metadata": {},
   "source": [
    "La lista de citas a cambiado. A pesar que el apartamento $A_{2}$ siguen siendo el que más se ajusta a lo que buscamos, el apartamento $A_{5}$ ya no es el siguiente sino que es el $A_{4}$."
   ]
  },
  {
   "cell_type": "markdown",
   "metadata": {},
   "source": [
    "# Conclusiones"
   ]
  },
  {
   "cell_type": "markdown",
   "metadata": {},
   "source": [
    "En este proyecto te mostré 👀 como un problema común de la vida diaria puede resolverse mediante conceptos de álgebra lineal (la Norma y la Distancia entre vectores) ➡. A pesar que el proyecto cuenta con poco datos, puede generalizarse a grandes cantidades 📊 y tambien puede adaptarse a problemas similares donde cuentes con las características de un objeto que puedas representar a traves de un vector ↗.\n",
    "\n",
    "A pesar de su reputación de compleja 😬, con este proyecto espero que hayas entendido el algebra lineal de forma sencilla mediante explicaciones detalladas y su directa aplicación 😉, y su gran relevancia en el campo de la ciencia de datos 🌍📈. Su uso va desde la representación y manipulación de datos hasta la modelización estadística, la reducción de dimensionalidad, métodos de optimización y el aprendizaje automatico. \n",
    "\n",
    "Espero que ya no imagines un signo de interrogación ❓ cuando te hablen de este tema y que te lleves una idea de su utilidad para que al enfrentarte con un problema similar 🤔 tengas una orientación de como abordarlo 👍. Gracias por llegar hasta el final y te invito a seguirme para que no te pierdas de más contenido sobre **Ciencia de Datos**."
   ]
  }
 ],
 "metadata": {
  "kernelspec": {
   "display_name": "Python 3 (ipykernel)",
   "language": "python",
   "name": "python3"
  },
  "language_info": {
   "codemirror_mode": {
    "name": "ipython",
    "version": 3
   },
   "file_extension": ".py",
   "mimetype": "text/x-python",
   "name": "python",
   "nbconvert_exporter": "python",
   "pygments_lexer": "ipython3",
   "version": "3.9.12"
  }
 },
 "nbformat": 4,
 "nbformat_minor": 2
}
