{
 "cells": [
  {
   "cell_type": "markdown",
   "metadata": {},
   "source": [
    "# Proyecto de optimización con Álgebra Lineal"
   ]
  },
  {
   "cell_type": "markdown",
   "metadata": {},
   "source": [
    "El álgebra lineal, una rama de las matemáticas un tanto compleja pero muy poderosa en áreas como la ingeniería, la ciencia y el Machine Learning. Entre los diferentes conceptos que maneja se encuentra el de **distancia**, utilizado para medir la separación entre dos puntos, conjuntos de puntos o funciones. \n",
    "\n",
    "Tal concepto es el que utilizarémos en el siguiente proyecto de optimización: Imagina que necesitamos arrendar un apartamento y tenemos tanta información de muchos de ellos que se nos dificulta organizar las citas, con lo cual, podríamos estar perdiendo una potencial oportunidad. La solución consiste en ordenar, según un orden de relevancia, las citas a partir de nuestro concepto de apartamento ideal. La **distancia** y la **norma** serán las herramientas que nos ayudarán a dar solución a este problema! Te invito a continuar con la lectura para \n"
   ]
  },
  {
   "cell_type": "markdown",
   "metadata": {},
   "source": [
    "# Conceptos de Algebra"
   ]
  },
  {
   "cell_type": "code",
   "execution_count": null,
   "metadata": {},
   "outputs": [],
   "source": []
  },
  {
   "cell_type": "markdown",
   "metadata": {},
   "source": [
    "# Análisis del problema"
   ]
  },
  {
   "cell_type": "markdown",
   "metadata": {},
   "source": [
    "El gran problema es que llegamos a recolectar tanta informacion sobre anuncios y contactos que organizarnos para ir a las visitas puede parecer prácticamte imposible, dejando volar la oportunidad de un gran apartamento. La solucion que podemos dar al problema de las citas, mediante el algebra lineal, la podemos dividir en los siguientes pasos: \n",
    "\n",
    "1.- Representar nuestro departamento ideal como un vector de caracteristicas\n",
    "\n",
    "2.- Construir el mismo vector para los apartamentos que ya tengamos localizados. \n",
    "\n",
    "3.- Calcular la distancia entre estos vectores y el vector que representa al departamento ideal.\n",
    "\n",
    "4.- Ordenar, de manera ascendente, las distancias y ya tendríamos una lista ordenada en prioridad de contacto y visita de apartamentos según nuestro apartamento ideal."
   ]
  },
  {
   "cell_type": "markdown",
   "metadata": {},
   "source": [
    "## Paso 1"
   ]
  },
  {
   "cell_type": "markdown",
   "metadata": {},
   "source": [
    "Supongamos que las características de nuestro apartamento ideal son las siguientes:\n",
    "- tamaño del apartamento\n",
    "- número de recámaras\n",
    "- número de baños\n",
    "- número de estacionamientos. \n",
    "\n",
    "El tamaño del apartamento regularmente se da en metros cuadrados (área), cantidad que tiende a variar mucho, lo cual introduce una gran volumen de ruido. Para resolver este problema vamos a catalogar los tamaños de apartametos en categorias:\n",
    "\n",
    "- 1 si el área es menor que 60 metros cuadrados\n",
    "- 2 si el área es mayor o igual que 60 metros cuadrados pero menor que 80 metros cuadrados\n",
    "- 3 si el área es mayor o igual que 80 metros cuadrados pero menor que 110 metros cuadrados\n",
    "- 4 si el área es mayor o igual que 110 metros cuadrados pero menor que 130 metros cuadrados\n",
    "- 5 si el área es mayor o igual que 130 metros cuadrados.\n",
    "\n",
    "Nuestro apartamento ideal viene dado por el siguiente vector:\n",
    "\n",
    "$$\n",
    "\\mathbf{I} = \\begin{bmatrix} 3\\\\ 2\\\\ 2\\\\1 \\end{bmatrix}\n",
    "$$\n",
    "\n",
    "donde: \n",
    "- El primer elemento con valor de 3 corresponde a la categoria de tamaño para un rango que va de los 80 a 110 metros cuadrados.\n",
    "- El segundo elemento con valor de 2 esta asociado a la cantidad de recamaras.\n",
    "- El tercer elemento con valor de 2 corresponde a la cantidad de baños.\n",
    "- El cuarto elemento con valor de 1 corresponde al numero de estacionamiento.\n",
    "\n",
    "Representamos el vector del apartamento ideal en Python como sigue:"
   ]
  },
  {
   "cell_type": "code",
   "execution_count": 2,
   "metadata": {},
   "outputs": [
    {
     "data": {
      "text/plain": [
       "array([3, 2, 2, 1])"
      ]
     },
     "execution_count": 2,
     "metadata": {},
     "output_type": "execute_result"
    }
   ],
   "source": [
    "# importamos la libreria Numpy\n",
    "import numpy as np\n",
    "\n",
    "# Vector de apartamento ideal\n",
    "I = np.array([3,2,2,1])\n",
    "\n",
    "I"
   ]
  },
  {
   "cell_type": "markdown",
   "metadata": {},
   "source": [
    "## Paso 2"
   ]
  },
  {
   "cell_type": "markdown",
   "metadata": {},
   "source": [
    "Ahora imaginemos que tenemos la informacion de 5 apartamentos. Al hacer la conversion como la hecha con el apartamento ideal, obtenemos los siguientes vectores:\n",
    "\n",
    "$$\n",
    "\\mathbf{A_{1}} = \\begin{bmatrix}4 \\\\3 \\\\ 3\\\\3 \\end{bmatrix}, \\qquad \\mathbf{A_{2}} = \\begin{bmatrix}3 \\\\3 \\\\ 2\\\\1 \\end{bmatrix}, \\qquad \\mathbf{A_{3}} = \\begin{bmatrix}5 \\\\4 \\\\ 3\\\\0 \\end{bmatrix}, \\qquad \\mathbf{A_{4}} = \\begin{bmatrix}1 \\\\2 \\\\ 1\\\\0 \\end{bmatrix}, \\qquad  \\mathbf{A_{5}} = \\begin{bmatrix}2 \\\\1 \\\\ 1\\\\2 \\end{bmatrix}\n",
    "$$\n",
    "\n",
    "Representamos los vectores para cada apartamento en Python como sigue:"
   ]
  },
  {
   "cell_type": "code",
   "execution_count": null,
   "metadata": {},
   "outputs": [],
   "source": []
  }
 ],
 "metadata": {
  "kernelspec": {
   "display_name": "Python 3",
   "language": "python",
   "name": "python3"
  },
  "language_info": {
   "codemirror_mode": {
    "name": "ipython",
    "version": 3
   },
   "file_extension": ".py",
   "mimetype": "text/x-python",
   "name": "python",
   "nbconvert_exporter": "python",
   "pygments_lexer": "ipython3",
   "version": "3.10.8"
  }
 },
 "nbformat": 4,
 "nbformat_minor": 2
}
