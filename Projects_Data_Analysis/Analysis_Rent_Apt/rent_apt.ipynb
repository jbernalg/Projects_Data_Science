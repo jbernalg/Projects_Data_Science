{
 "cells": [
  {
   "cell_type": "markdown",
   "metadata": {},
   "source": [
    "# Proyecto de optimización con Álgebra Lineal"
   ]
  },
  {
   "cell_type": "markdown",
   "metadata": {},
   "source": [
    "El álgebra lineal, una rama de las matemáticas un tanto compleja pero muy poderosa en áreas como la ingeniería, la ciencia y el Machine Learning. Entre los diferentes conceptos que maneja se encuentra el de **distancia**, utilizado para medir la separación entre dos puntos, conjuntos de puntos o funciones. \n",
    "\n",
    "Tal concepto es el que utilizarémos en el siguiente proyecto de optimización: Imagina que necesitamos arrendar un apartamento y tenemos tanta información de muchos de ellos que se nos dificulta organizar las citas, con lo cual, podríamos estar perdiendo una potencial oportunidad. La solución consiste en ordenar, según un orden de relevancia, las citas a partir de nuestro concepto de apartamento ideal. La **distancia** y la **norma** serán las herramientas que nos ayudarán a dar solución a este problema! Te invito a continuar con la lectura para \n"
   ]
  },
  {
   "cell_type": "markdown",
   "metadata": {},
   "source": [
    "# Conceptos de Algebra"
   ]
  },
  {
   "cell_type": "code",
   "execution_count": null,
   "metadata": {},
   "outputs": [],
   "source": []
  },
  {
   "cell_type": "markdown",
   "metadata": {},
   "source": [
    "# Análisis del problema"
   ]
  },
  {
   "cell_type": "markdown",
   "metadata": {},
   "source": [
    "El gran problema es que llegamos a recolectar tanta informacion sobre anuncios y contactos que organizarnos para ir a las visitas puede parecer prácticamente imposible, dejando volar la oportunidad de un gran apartamento. La solucion que podemos dar al problema de las citas, mediante el algebra lineal, la podemos dividir en los siguientes pasos: \n",
    "\n",
    "1.- Representar nuestro departamento ideal como un vector de caracteristicas\n",
    "\n",
    "2.- Construir el mismo vector para los apartamentos que ya tengamos localizados. \n",
    "\n",
    "3.- Calcular la distancia entre estos vectores y el vector que representa al departamento ideal.\n",
    "\n",
    "4.- Ordenar, de manera ascendente, las distancias y ya tendríamos una lista ordenada en prioridad de contacto y visita de apartamentos según nuestro apartamento ideal."
   ]
  },
  {
   "cell_type": "markdown",
   "metadata": {},
   "source": [
    "## Paso 1"
   ]
  },
  {
   "cell_type": "markdown",
   "metadata": {},
   "source": [
    "Supongamos que las características de nuestro apartamento ideal son las siguientes:\n",
    "- tamaño del apartamento\n",
    "- número de recámaras\n",
    "- número de baños\n",
    "- número de estacionamientos. \n",
    "\n",
    "El tamaño del apartamento regularmente se da en metros cuadrados (área), cantidad que tiende a variar mucho, lo cual introduce una gran volumen de ruido. Para resolver este problema vamos a catalogar los tamaños de apartametos en categorias:\n",
    "\n",
    "- 1 si el área es menor que 60 metros cuadrados\n",
    "- 2 si el área es mayor o igual que 60 metros cuadrados pero menor que 80 metros cuadrados\n",
    "- 3 si el área es mayor o igual que 80 metros cuadrados pero menor que 110 metros cuadrados\n",
    "- 4 si el área es mayor o igual que 110 metros cuadrados pero menor que 130 metros cuadrados\n",
    "- 5 si el área es mayor o igual que 130 metros cuadrados.\n",
    "\n",
    "Nuestro apartamento ideal viene dado por el siguiente vector:\n",
    "\n",
    "$$\n",
    "\\mathbf{I} = \\begin{bmatrix} 3\\\\ 2\\\\ 2\\\\1 \\end{bmatrix}\n",
    "$$\n",
    "\n",
    "donde: \n",
    "- El primer elemento con valor de 3 corresponde a la categoria de tamaño para un rango que va de los 80 a 110 metros cuadrados.\n",
    "- El segundo elemento con valor de 2 esta asociado a la cantidad de recamaras.\n",
    "- El tercer elemento con valor de 2 corresponde a la cantidad de baños.\n",
    "- El cuarto elemento con valor de 1 corresponde al numero de estacionamiento.\n",
    "\n",
    "Representamos el vector del apartamento ideal en Python como sigue:"
   ]
  },
  {
   "cell_type": "code",
   "execution_count": 2,
   "metadata": {},
   "outputs": [
    {
     "data": {
      "text/plain": [
       "array([3, 2, 2, 1])"
      ]
     },
     "execution_count": 2,
     "metadata": {},
     "output_type": "execute_result"
    }
   ],
   "source": [
    "# importamos la libreria Numpy\n",
    "import numpy as np\n",
    "\n",
    "# Vector de apartamento ideal\n",
    "I = np.array([3,2,2,1])\n",
    "\n",
    "I"
   ]
  },
  {
   "cell_type": "markdown",
   "metadata": {},
   "source": [
    "## Paso 2"
   ]
  },
  {
   "cell_type": "markdown",
   "metadata": {},
   "source": [
    "Ahora imaginemos que tenemos la informacion de 5 apartamentos. Al hacer la conversion como la hecha con el apartamento ideal, obtenemos los siguientes vectores:\n",
    "\n",
    "$$\n",
    "\\mathbf{A_{1}} = \\begin{bmatrix}4 \\\\3 \\\\ 3\\\\3 \\end{bmatrix}, \\qquad \\mathbf{A_{2}} = \\begin{bmatrix}3 \\\\3 \\\\ 2\\\\1 \\end{bmatrix}, \\qquad \\mathbf{A_{3}} = \\begin{bmatrix}5 \\\\4 \\\\ 3\\\\0 \\end{bmatrix}, \\qquad \\mathbf{A_{4}} = \\begin{bmatrix}1 \\\\2 \\\\ 1\\\\0 \\end{bmatrix}, \\qquad  \\mathbf{A_{5}} = \\begin{bmatrix}2 \\\\1 \\\\ 1\\\\2 \\end{bmatrix}\n",
    "$$\n",
    "\n",
    "Representamos los vectores para cada apartamento en Python como sigue:"
   ]
  },
  {
   "cell_type": "code",
   "execution_count": 6,
   "metadata": {},
   "outputs": [
    {
     "name": "stdout",
     "output_type": "stream",
     "text": [
      "[4 3 3 3]\n",
      "[3 3 2 1]\n",
      "[5 4 3 0]\n",
      "[1 2 1 0]\n",
      "[2 1 1 0]\n"
     ]
    }
   ],
   "source": [
    "A_1 = np.array([4,3,3,3])\n",
    "A_2 = np.array([3,3,2,1])\n",
    "A_3 = np.array([5,4,3,0])\n",
    "A_4 = np.array([1,2,1,0])\n",
    "A_5 = np.array([2,1,1,0])\n",
    "\n",
    "print(A_1)\n",
    "print(A_2)\n",
    "print(A_3)\n",
    "print(A_4)\n",
    "print(A_5)"
   ]
  },
  {
   "cell_type": "markdown",
   "metadata": {},
   "source": [
    "## Paso 3"
   ]
  },
  {
   "cell_type": "markdown",
   "metadata": {},
   "source": [
    "En este punto, el problema se reduce en encontrar el vector más cercano al vector ideal. Básicamente si tenemos una colección de N $n$-vectores $z_{0},z_{1},\\dots,z_{N-1}$ vamos a decir que $z_{i}$ es el vecino más cercano del vector $x$ si \n",
    "\n",
    "$$\n",
    "||x-z_{i}|| \\le ||x - z_{j}|| \\quad con \\; \\; j = 0,\\dots, N-1\n",
    "$$\n",
    "\n",
    "Aca utilizamos la definicion de norma. Calculamos las distancias entre los vectores con la libreria Pandas como sigue:"
   ]
  },
  {
   "cell_type": "code",
   "execution_count": 5,
   "metadata": {},
   "outputs": [
    {
     "name": "stdout",
     "output_type": "stream",
     "text": [
      "||I-A_1|| = 2.6457513110645907\n",
      "||I-A_2|| = 1.0\n",
      "||I-A_3|| = 3.1622776601683795\n",
      "||I-A_4|| = 2.449489742783178\n",
      "||I-A_5|| = 2.0\n"
     ]
    }
   ],
   "source": [
    "print('||I-A_1|| =', np.linalg.norm(I - A_1))\n",
    "print('||I-A_2|| =', np.linalg.norm(I - A_2))\n",
    "print('||I-A_3|| =', np.linalg.norm(I - A_3))\n",
    "print('||I-A_4|| =', np.linalg.norm(I - A_4))\n",
    "print('||I-A_5|| =', np.linalg.norm(I - A_5))"
   ]
  },
  {
   "cell_type": "markdown",
   "metadata": {},
   "source": [
    "## Paso 4"
   ]
  },
  {
   "cell_type": "markdown",
   "metadata": {},
   "source": [
    "Como el resultado anterior es realizado sobre pocos apartamentos podemos visualizar de inmediato, sin necesidad de ordenar, que el apartamento con distancia mas pequeña que es el $A_{2}$. Sin embargo, para grandes cantidades esto podria ser un gran problema y aqui es importante ordenar las distancias de forma ascendente.\n",
    "\n",
    "Para lograrlo vamos a crear una funcion que solicite un vector de vectores, el cual contendra todos los vectores de los apartamentos y aparte, el vector del apartamento ideal. La funcion devuelve un DataFrame con las distancias ordenadas."
   ]
  },
  {
   "cell_type": "code",
   "execution_count": 7,
   "metadata": {},
   "outputs": [
    {
     "data": {
      "text/plain": [
       "array([[4, 3, 3, 3],\n",
       "       [3, 3, 2, 1],\n",
       "       [5, 4, 3, 0],\n",
       "       [1, 2, 1, 0],\n",
       "       [2, 1, 1, 0]])"
      ]
     },
     "execution_count": 7,
     "metadata": {},
     "output_type": "execute_result"
    }
   ],
   "source": [
    "# Creamos un vector de vectores con las distancias de los apartamentos\n",
    "options = np.array([A_1,A_2,A_3,A_4,A_5])\n",
    "\n",
    "options"
   ]
  },
  {
   "cell_type": "code",
   "execution_count": 16,
   "metadata": {},
   "outputs": [],
   "source": [
    "# importamos la libreria Pandas\n",
    "import pandas as pd\n",
    "\n",
    "# Creamos la funcion\n",
    "def ordenation(options,ideal):\n",
    "    # creamos una lista vacia\n",
    "    results = []\n",
    "\n",
    "    # Contador\n",
    "    index = 0\n",
    "\n",
    "    # recorremos todos los vectores\n",
    "    for option in options:\n",
    "        index += 1\n",
    "\n",
    "        # Generamos un array con el nombre y la distancia\n",
    "        result = ['A_' + str(index), np.linalg.norm(ideal - option)]\n",
    "\n",
    "        # guardamos el array en la lista results\n",
    "        results.append(result)\n",
    "\n",
    "    # Crea un df con los resultados ordenados\n",
    "    df = pd.DataFrame(results, columns=['Departamento', 'Tasa']) #.nsmallest(1, 'Tasa')\n",
    "\n",
    "    # ordena los resultados de forma ascendente \n",
    "    df = df.sort_values(by='Tasa', ascending=True)\n",
    "\n",
    "    # Devuelve el dataframe\n",
    "    return df"
   ]
  },
  {
   "cell_type": "code",
   "execution_count": 17,
   "metadata": {},
   "outputs": [
    {
     "data": {
      "text/html": [
       "<div>\n",
       "<style scoped>\n",
       "    .dataframe tbody tr th:only-of-type {\n",
       "        vertical-align: middle;\n",
       "    }\n",
       "\n",
       "    .dataframe tbody tr th {\n",
       "        vertical-align: top;\n",
       "    }\n",
       "\n",
       "    .dataframe thead th {\n",
       "        text-align: right;\n",
       "    }\n",
       "</style>\n",
       "<table border=\"1\" class=\"dataframe\">\n",
       "  <thead>\n",
       "    <tr style=\"text-align: right;\">\n",
       "      <th></th>\n",
       "      <th>Departamento</th>\n",
       "      <th>Tasa</th>\n",
       "    </tr>\n",
       "  </thead>\n",
       "  <tbody>\n",
       "    <tr>\n",
       "      <th>1</th>\n",
       "      <td>A_2</td>\n",
       "      <td>1.000000</td>\n",
       "    </tr>\n",
       "    <tr>\n",
       "      <th>4</th>\n",
       "      <td>A_5</td>\n",
       "      <td>2.000000</td>\n",
       "    </tr>\n",
       "    <tr>\n",
       "      <th>3</th>\n",
       "      <td>A_4</td>\n",
       "      <td>2.449490</td>\n",
       "    </tr>\n",
       "    <tr>\n",
       "      <th>0</th>\n",
       "      <td>A_1</td>\n",
       "      <td>2.645751</td>\n",
       "    </tr>\n",
       "    <tr>\n",
       "      <th>2</th>\n",
       "      <td>A_3</td>\n",
       "      <td>3.162278</td>\n",
       "    </tr>\n",
       "  </tbody>\n",
       "</table>\n",
       "</div>"
      ],
      "text/plain": [
       "  Departamento      Tasa\n",
       "1          A_2  1.000000\n",
       "4          A_5  2.000000\n",
       "3          A_4  2.449490\n",
       "0          A_1  2.645751\n",
       "2          A_3  3.162278"
      ]
     },
     "execution_count": 17,
     "metadata": {},
     "output_type": "execute_result"
    }
   ],
   "source": [
    "# llamamos la funcion con los parametros indicados\n",
    "ordenation(options, I)"
   ]
  }
 ],
 "metadata": {
  "kernelspec": {
   "display_name": "Python 3",
   "language": "python",
   "name": "python3"
  },
  "language_info": {
   "codemirror_mode": {
    "name": "ipython",
    "version": 3
   },
   "file_extension": ".py",
   "mimetype": "text/x-python",
   "name": "python",
   "nbconvert_exporter": "python",
   "pygments_lexer": "ipython3",
   "version": "3.10.8"
  }
 },
 "nbformat": 4,
 "nbformat_minor": 2
}
