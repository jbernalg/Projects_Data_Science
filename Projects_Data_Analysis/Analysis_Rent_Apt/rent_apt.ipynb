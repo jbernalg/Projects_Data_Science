{
 "cells": [
  {
   "cell_type": "markdown",
   "metadata": {},
   "source": [
    "# Proyecto de optimización con Álgebra Lineal"
   ]
  },
  {
   "cell_type": "markdown",
   "metadata": {},
   "source": [
    "El álgebra lineal, una rama de las matemáticas un tanto compleja pero muy poderosa en áreas como la ingeniería, la ciencia y el Machine Learning. Entre los diferentes conceptos que maneja se encuentra el de **distancia**, utilizado para medir la separación entre dos puntos, conjuntos de puntos o funciones. \n",
    "\n",
    "Tal concepto es el que utilizarémos en el siguiente proyecto de optimización: Imagina que necesitamos arrendar un apartamento y tenemos tanta información de muchos de ellos que se nos dificulta organizar las citas, con lo cual, podríamos estar perdiendo una potencial oportunidad. La solución consiste en ordenar, según un orden de relevancia, las citas a partir de nuestro concepto de apartamento ideal. La **distancia** y la **norma** serán las herramientas que nos ayudarán a dar solución a este problema! Te invito a continuar con la lectura para \n"
   ]
  },
  {
   "cell_type": "markdown",
   "metadata": {},
   "source": [
    "# Conceptos de Algebra"
   ]
  },
  {
   "cell_type": "code",
   "execution_count": null,
   "metadata": {},
   "outputs": [],
   "source": []
  },
  {
   "cell_type": "markdown",
   "metadata": {},
   "source": [
    "# Análisis del problema"
   ]
  },
  {
   "cell_type": "markdown",
   "metadata": {},
   "source": [
    "El gran problema es que llegamos a recolectar tanta informacion sobre anuncios y contactos que organizarnos para ir a las visitas puede parecer prácticamte imposible, dejando volar la oportunidad de un gran apartamento. La solucion que podemos dar al problema de las citas, mediante el algebra lineal, la podemos dividir en los siguientes pasos: \n",
    "\n",
    "1.- Representar nuestro departamento ideal como un vector de caracteristicas\n",
    "\n",
    "2.- Construir el mismo vector para los apartamentos que ya tengamos localizados. \n",
    "\n",
    "3.- Calcular la distancia entre estos vectores y el vector que representa al departamento ideal.\n",
    "\n",
    "4.- Ordenar, de manera ascendente, las distancias y ya tendríamos una lista ordenada en prioridad de contacto y visita de apartamentos según nuestro apartamento ideal."
   ]
  },
  {
   "cell_type": "markdown",
   "metadata": {},
   "source": [
    "## Paso 1"
   ]
  },
  {
   "cell_type": "markdown",
   "metadata": {},
   "source": [
    "Supongamos que las características de nuestro apartamento ideal son las siguientes:\n",
    "- tamaño del apartamento\n",
    "- número de recámaras\n",
    "- número de baños\n",
    "- número de estacionamientos. \n",
    "\n",
    "Notemos que en el caso de tamaño del apartamento regularmente se nos da en metros cuadrados (área) pero el gran problema es que puede variar mucho y usar estos números tan grandes puede introducir una gran cantidad de ruido. Para resolver el problema anterior vamos a catalogar los tamaños de apartametos en categorias:\n",
    "\n",
    "1. Si el área es menor que 60 metros cuadrados\n",
    "2. Si el área es mayor o igual que 60 metros cuadrados pero menor que 80 metros cuadrados\n",
    "3. Si el área es mayor o igual que 80 metros cuadrados pero menor que 110 metros cuadrados\n",
    "4. Si el área es mayor o igual que 110 metros cuadrados pero menor que 130 metros cuadrados\n",
    "5. Si el área es mayor o igual que 130 metros cuadrados.\n",
    "\n",
    "Supongamos también que el orden de las características en el vector es categoria de tamaño, número de recámaras, número de baños y número estacionamientos. Nuestro apartamento ideal viene dado por el siguiente vector:"
   ]
  }
 ],
 "metadata": {
  "kernelspec": {
   "display_name": "Python 3",
   "language": "python",
   "name": "python3"
  },
  "language_info": {
   "name": "python",
   "version": "3.8.10"
  }
 },
 "nbformat": 4,
 "nbformat_minor": 2
}
