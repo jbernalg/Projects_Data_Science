{
 "cells": [
  {
   "cell_type": "markdown",
   "metadata": {},
   "source": [
    "# Optimizacion de Visitas de Apartamentos para arrendar con Algebra Lineal"
   ]
  },
  {
   "cell_type": "markdown",
   "metadata": {},
   "source": [
    "En el siguiente proyecto abordaremos un problema que se presenta cuando necesitamos arrendar un apartamento y tenemos tanta informacion de muchos de ellos que se nos dificulta organizar las citas e incluso perder una potencial oportunidad. Utilizaremos herramientas del Algebra Lineal como la Norma y la distancia entre vectores para organizar las citas segun un orden de relevancia y asi aprovechar la mejor oportunidad. "
   ]
  },
  {
   "cell_type": "markdown",
   "metadata": {},
   "source": [
    "# Conceptos de Algebra"
   ]
  },
  {
   "cell_type": "code",
   "execution_count": null,
   "metadata": {},
   "outputs": [],
   "source": []
  },
  {
   "cell_type": "markdown",
   "metadata": {},
   "source": [
    "# Entendiendo el Analisis"
   ]
  },
  {
   "cell_type": "markdown",
   "metadata": {},
   "source": [
    "Supongamos que estamos en búsqueda de alquilar un apartamento. Comenzamos buscando caracacterísticas como cantidad de recámaras, cantidad de baños, estacionamientos, zona y tamaño. Un problema es que algunas veces llegamos a colectar una gran cantidad de anuncios y contactos y organizarnos para ir a las visitas puede parecer prácticamte imposible y puede que dejemos escapar una gran oportunidad. Afortunadamente tenemos al Algebra Lineal de nuestro lado con la cual planteamos la siguiente solucion: vamos a representar nuestro departamento ideal como un vector de caracteristicas, construimos el mismo vector para los apartamentos que ya tengamos localizados y calculamos la distancia entre estos vectores y el vector que representa al departamento ideal. Los ordenamos de manera ascendente y ya tendríamos una lista ordenada en prioridad de contacto y visita de apartamentos según nuestro apartamento ideal.\n",
    "\n",
    "Para esto, supongamos que las características que queremos tomar en cuenta son tamaño del apartamento, número de recámaras, número de baños y número de estacionamientos. Notemos que en el caso de tamaño del apartamento regularmente se nos da en metros cuadrados (área) pero el gran problema es que puede variar mucho y usar estos números tan grandes puede introducir una gran cantidad de ruido. Para resolver el problema anterior vamos a catalogar los tamaños de apartametos en categorias:"
   ]
  },
  {
   "cell_type": "markdown",
   "metadata": {},
   "source": [
    "1. Si el área es menor que 60 metros cuadrados\n",
    "2. Si el área es mayor o igual que 60 metros cuadrados pero menor que 80 metros cuadrados\n",
    "3. Si el área es mayor o igual que 80 metros cuadrados pero menor que 110 metros cuadrados\n",
    "4. Si el área es mayor o igual que 110 metros cuadrados pero menor que 130 metros cuadrados\n",
    "5. Si el área es mayor o igual que 130 metros cuadrados.\n",
    "\n",
    "Supongamos también que el orden de las características en el vector es categoria de tamaño, número de recámaras, número de baños y número estacionamientos. Nuestro apartamento ideal viene dado por el siguiente vector:"
   ]
  }
 ],
 "metadata": {
  "language_info": {
   "name": "python"
  }
 },
 "nbformat": 4,
 "nbformat_minor": 2
}
