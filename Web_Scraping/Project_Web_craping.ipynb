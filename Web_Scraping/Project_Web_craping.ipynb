{
 "cells": [
  {
   "cell_type": "markdown",
   "id": "6e51a831",
   "metadata": {},
   "source": [
    "# __Web Scraping desde la Practica__"
   ]
  },
  {
   "cell_type": "markdown",
   "id": "9c9a5ddc",
   "metadata": {},
   "source": [
    "## Importar librerias"
   ]
  },
  {
   "cell_type": "code",
   "execution_count": 2,
   "id": "081aa3e0",
   "metadata": {},
   "outputs": [],
   "source": [
    "import requests\n",
    "from bs4 import BeautifulSoup\n",
    "import csv"
   ]
  },
  {
   "cell_type": "markdown",
   "id": "cf9376b5",
   "metadata": {},
   "source": [
    "## Hacer peticiones HTTP"
   ]
  },
  {
   "cell_type": "markdown",
   "id": "d1fc0f51",
   "metadata": {},
   "source": [
    "### Conceptos de interes\n",
    "\n",
    "#### _HTTP:_\n",
    "\n",
    "- Hypertext Transfer Protocol.\n",
    "- Es el protocolo de comunicación que permite las transferencias de información a través de archivos en la World Wide Web.\n",
    "\n",
    "#### _GET:_\n",
    "\n",
    "- Recupera datos del servidor.\n",
    "- Se usa para leer o consultar información. No modifica nada.\n",
    "\n",
    "#### _POST:_\n",
    "\n",
    "- Envia datos al servidor.\n",
    "- Se usa para crear nuevos recursos (por ejemplo, enviar un formulario)\n",
    "\n",
    "#### _PUT:_\n",
    "\n",
    "- Actualiza un recurso existente.\n",
    "- Reemplaza por completo el recurso con la nueva información enviada.\n",
    "\n",
    "#### _DELETE:_\n",
    "\n",
    "- Elimina un recurso del servidor.\n",
    "- Se usa para borrar datos específicos."
   ]
  },
  {
   "cell_type": "markdown",
   "id": "9db1a560",
   "metadata": {},
   "source": [
    "### Implementacion de peticiones"
   ]
  },
  {
   "cell_type": "code",
   "execution_count": 3,
   "id": "6ff68b5c",
   "metadata": {},
   "outputs": [],
   "source": [
    "# guardamos la url de la pagina a una variable\n",
    "url = 'https://books.toscrape.com/'\n",
    "\n",
    "# hacemos la peticion con request\n",
    "response = requests.get(url)"
   ]
  },
  {
   "cell_type": "code",
   "execution_count": 4,
   "id": "545af873",
   "metadata": {},
   "outputs": [
    {
     "name": "stdout",
     "output_type": "stream",
     "text": [
      "<Response [200]>\n"
     ]
    }
   ],
   "source": [
    "# verificar el codigo de estado\n",
    "print(response)"
   ]
  }
 ],
 "metadata": {
  "kernelspec": {
   "display_name": "scraping_env",
   "language": "python",
   "name": "python3"
  },
  "language_info": {
   "codemirror_mode": {
    "name": "ipython",
    "version": 3
   },
   "file_extension": ".py",
   "mimetype": "text/x-python",
   "name": "python",
   "nbconvert_exporter": "python",
   "pygments_lexer": "ipython3",
   "version": "3.10.18"
  }
 },
 "nbformat": 4,
 "nbformat_minor": 5
}
