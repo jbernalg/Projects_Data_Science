{
 "cells": [
  {
   "cell_type": "markdown",
   "metadata": {},
   "source": [
    "# Reto 7"
   ]
  },
  {
   "cell_type": "markdown",
   "metadata": {},
   "source": [
    "### 1. Crear un objeto de tipo ndarray, con números enteros entre 64 hasta 1024."
   ]
  },
  {
   "cell_type": "code",
   "execution_count": 1,
   "metadata": {},
   "outputs": [],
   "source": [
    "# importamos libreria de numpy\n",
    "import numpy as np"
   ]
  },
  {
   "cell_type": "code",
   "execution_count": 4,
   "metadata": {},
   "outputs": [
    {
     "data": {
      "text/plain": [
       "array([  64,   65,   66,   67,   68,   69,   70,   71,   72,   73,   74,\n",
       "         75,   76,   77,   78,   79,   80,   81,   82,   83,   84,   85,\n",
       "         86,   87,   88,   89,   90,   91,   92,   93,   94,   95,   96,\n",
       "         97,   98,   99,  100,  101,  102,  103,  104,  105,  106,  107,\n",
       "        108,  109,  110,  111,  112,  113,  114,  115,  116,  117,  118,\n",
       "        119,  120,  121,  122,  123,  124,  125,  126,  127,  128,  129,\n",
       "        130,  131,  132,  133,  134,  135,  136,  137,  138,  139,  140,\n",
       "        141,  142,  143,  144,  145,  146,  147,  148,  149,  150,  151,\n",
       "        152,  153,  154,  155,  156,  157,  158,  159,  160,  161,  162,\n",
       "        163,  164,  165,  166,  167,  168,  169,  170,  171,  172,  173,\n",
       "        174,  175,  176,  177,  178,  179,  180,  181,  182,  183,  184,\n",
       "        185,  186,  187,  188,  189,  190,  191,  192,  193,  194,  195,\n",
       "        196,  197,  198,  199,  200,  201,  202,  203,  204,  205,  206,\n",
       "        207,  208,  209,  210,  211,  212,  213,  214,  215,  216,  217,\n",
       "        218,  219,  220,  221,  222,  223,  224,  225,  226,  227,  228,\n",
       "        229,  230,  231,  232,  233,  234,  235,  236,  237,  238,  239,\n",
       "        240,  241,  242,  243,  244,  245,  246,  247,  248,  249,  250,\n",
       "        251,  252,  253,  254,  255,  256,  257,  258,  259,  260,  261,\n",
       "        262,  263,  264,  265,  266,  267,  268,  269,  270,  271,  272,\n",
       "        273,  274,  275,  276,  277,  278,  279,  280,  281,  282,  283,\n",
       "        284,  285,  286,  287,  288,  289,  290,  291,  292,  293,  294,\n",
       "        295,  296,  297,  298,  299,  300,  301,  302,  303,  304,  305,\n",
       "        306,  307,  308,  309,  310,  311,  312,  313,  314,  315,  316,\n",
       "        317,  318,  319,  320,  321,  322,  323,  324,  325,  326,  327,\n",
       "        328,  329,  330,  331,  332,  333,  334,  335,  336,  337,  338,\n",
       "        339,  340,  341,  342,  343,  344,  345,  346,  347,  348,  349,\n",
       "        350,  351,  352,  353,  354,  355,  356,  357,  358,  359,  360,\n",
       "        361,  362,  363,  364,  365,  366,  367,  368,  369,  370,  371,\n",
       "        372,  373,  374,  375,  376,  377,  378,  379,  380,  381,  382,\n",
       "        383,  384,  385,  386,  387,  388,  389,  390,  391,  392,  393,\n",
       "        394,  395,  396,  397,  398,  399,  400,  401,  402,  403,  404,\n",
       "        405,  406,  407,  408,  409,  410,  411,  412,  413,  414,  415,\n",
       "        416,  417,  418,  419,  420,  421,  422,  423,  424,  425,  426,\n",
       "        427,  428,  429,  430,  431,  432,  433,  434,  435,  436,  437,\n",
       "        438,  439,  440,  441,  442,  443,  444,  445,  446,  447,  448,\n",
       "        449,  450,  451,  452,  453,  454,  455,  456,  457,  458,  459,\n",
       "        460,  461,  462,  463,  464,  465,  466,  467,  468,  469,  470,\n",
       "        471,  472,  473,  474,  475,  476,  477,  478,  479,  480,  481,\n",
       "        482,  483,  484,  485,  486,  487,  488,  489,  490,  491,  492,\n",
       "        493,  494,  495,  496,  497,  498,  499,  500,  501,  502,  503,\n",
       "        504,  505,  506,  507,  508,  509,  510,  511,  512,  513,  514,\n",
       "        515,  516,  517,  518,  519,  520,  521,  522,  523,  524,  525,\n",
       "        526,  527,  528,  529,  530,  531,  532,  533,  534,  535,  536,\n",
       "        537,  538,  539,  540,  541,  542,  543,  544,  545,  546,  547,\n",
       "        548,  549,  550,  551,  552,  553,  554,  555,  556,  557,  558,\n",
       "        559,  560,  561,  562,  563,  564,  565,  566,  567,  568,  569,\n",
       "        570,  571,  572,  573,  574,  575,  576,  577,  578,  579,  580,\n",
       "        581,  582,  583,  584,  585,  586,  587,  588,  589,  590,  591,\n",
       "        592,  593,  594,  595,  596,  597,  598,  599,  600,  601,  602,\n",
       "        603,  604,  605,  606,  607,  608,  609,  610,  611,  612,  613,\n",
       "        614,  615,  616,  617,  618,  619,  620,  621,  622,  623,  624,\n",
       "        625,  626,  627,  628,  629,  630,  631,  632,  633,  634,  635,\n",
       "        636,  637,  638,  639,  640,  641,  642,  643,  644,  645,  646,\n",
       "        647,  648,  649,  650,  651,  652,  653,  654,  655,  656,  657,\n",
       "        658,  659,  660,  661,  662,  663,  664,  665,  666,  667,  668,\n",
       "        669,  670,  671,  672,  673,  674,  675,  676,  677,  678,  679,\n",
       "        680,  681,  682,  683,  684,  685,  686,  687,  688,  689,  690,\n",
       "        691,  692,  693,  694,  695,  696,  697,  698,  699,  700,  701,\n",
       "        702,  703,  704,  705,  706,  707,  708,  709,  710,  711,  712,\n",
       "        713,  714,  715,  716,  717,  718,  719,  720,  721,  722,  723,\n",
       "        724,  725,  726,  727,  728,  729,  730,  731,  732,  733,  734,\n",
       "        735,  736,  737,  738,  739,  740,  741,  742,  743,  744,  745,\n",
       "        746,  747,  748,  749,  750,  751,  752,  753,  754,  755,  756,\n",
       "        757,  758,  759,  760,  761,  762,  763,  764,  765,  766,  767,\n",
       "        768,  769,  770,  771,  772,  773,  774,  775,  776,  777,  778,\n",
       "        779,  780,  781,  782,  783,  784,  785,  786,  787,  788,  789,\n",
       "        790,  791,  792,  793,  794,  795,  796,  797,  798,  799,  800,\n",
       "        801,  802,  803,  804,  805,  806,  807,  808,  809,  810,  811,\n",
       "        812,  813,  814,  815,  816,  817,  818,  819,  820,  821,  822,\n",
       "        823,  824,  825,  826,  827,  828,  829,  830,  831,  832,  833,\n",
       "        834,  835,  836,  837,  838,  839,  840,  841,  842,  843,  844,\n",
       "        845,  846,  847,  848,  849,  850,  851,  852,  853,  854,  855,\n",
       "        856,  857,  858,  859,  860,  861,  862,  863,  864,  865,  866,\n",
       "        867,  868,  869,  870,  871,  872,  873,  874,  875,  876,  877,\n",
       "        878,  879,  880,  881,  882,  883,  884,  885,  886,  887,  888,\n",
       "        889,  890,  891,  892,  893,  894,  895,  896,  897,  898,  899,\n",
       "        900,  901,  902,  903,  904,  905,  906,  907,  908,  909,  910,\n",
       "        911,  912,  913,  914,  915,  916,  917,  918,  919,  920,  921,\n",
       "        922,  923,  924,  925,  926,  927,  928,  929,  930,  931,  932,\n",
       "        933,  934,  935,  936,  937,  938,  939,  940,  941,  942,  943,\n",
       "        944,  945,  946,  947,  948,  949,  950,  951,  952,  953,  954,\n",
       "        955,  956,  957,  958,  959,  960,  961,  962,  963,  964,  965,\n",
       "        966,  967,  968,  969,  970,  971,  972,  973,  974,  975,  976,\n",
       "        977,  978,  979,  980,  981,  982,  983,  984,  985,  986,  987,\n",
       "        988,  989,  990,  991,  992,  993,  994,  995,  996,  997,  998,\n",
       "        999, 1000, 1001, 1002, 1003, 1004, 1005, 1006, 1007, 1008, 1009,\n",
       "       1010, 1011, 1012, 1013, 1014, 1015, 1016, 1017, 1018, 1019, 1020,\n",
       "       1021, 1022, 1023, 1024])"
      ]
     },
     "execution_count": 4,
     "metadata": {},
     "output_type": "execute_result"
    }
   ],
   "source": [
    "# creamos el ndarray con numeros enteros desde 64 hasta 1024\n",
    "arreglo = np.arange(64, 1025)\n",
    "arreglo "
   ]
  },
  {
   "cell_type": "markdown",
   "metadata": {},
   "source": [
    "### 2. Redimensionar a una matriz bidimensional que tenga las 1024 observaciones, pero que su dimensión tenga tanto el mismo número de filas como de columnas, con la finalidad de obtener una cuadrada."
   ]
  },
  {
   "cell_type": "code",
   "execution_count": 6,
   "metadata": {},
   "outputs": [
    {
     "data": {
      "text/plain": [
       "array([[   1,    2,    3, ...,   30,   31,   32],\n",
       "       [  33,   34,   35, ...,   62,   63,   64],\n",
       "       [  65,   66,   67, ...,   94,   95,   96],\n",
       "       ...,\n",
       "       [ 929,  930,  931, ...,  958,  959,  960],\n",
       "       [ 961,  962,  963, ...,  990,  991,  992],\n",
       "       [ 993,  994,  995, ..., 1022, 1023, 1024]])"
      ]
     },
     "execution_count": 6,
     "metadata": {},
     "output_type": "execute_result"
    }
   ],
   "source": [
    "# creamos un ndarray con 1024 numero enteros\n",
    "arr = np.arange(1, 1025)\n",
    "\n",
    "# utilizamos el metodo reshape para redimensionar arr\n",
    "matriz = arr.reshape(32, 32)\n",
    "matriz"
   ]
  },
  {
   "cell_type": "markdown",
   "metadata": {},
   "source": [
    "### 3. Crear una columna de datos aleatorios de 30 observaciones o registros, en la que se escojan dichos registros desde una lista de 10 nombres. Se debe repetir el proceso anterior para crear un set de números de cédulas aleatorio para cada uno de los nombres."
   ]
  },
  {
   "cell_type": "code",
   "execution_count": 7,
   "metadata": {},
   "outputs": [
    {
     "data": {
      "text/plain": [
       "['Andres',\n",
       " 'Maria',\n",
       " 'Manuel',\n",
       " 'Daniel',\n",
       " 'Sarah',\n",
       " 'Cristian',\n",
       " 'Violetta',\n",
       " 'Lucia',\n",
       " 'Jackson',\n",
       " 'Jose']"
      ]
     },
     "execution_count": 7,
     "metadata": {},
     "output_type": "execute_result"
    }
   ],
   "source": [
    "# lista de nombres\n",
    "nombres =['Andres', 'Maria', 'Manuel', 'Daniel', 'Sarah', 'Cristian', 'Violetta', 'Lucia', 'Jackson', 'Jose']\n",
    "nombres"
   ]
  },
  {
   "cell_type": "code",
   "execution_count": 8,
   "metadata": {},
   "outputs": [
    {
     "data": {
      "text/plain": [
       "array(['Lucia', 'Daniel', 'Daniel', 'Violetta', 'Cristian', 'Jose',\n",
       "       'Maria', 'Daniel', 'Jackson', 'Maria', 'Sarah', 'Violetta',\n",
       "       'Andres', 'Manuel', 'Cristian', 'Lucia', 'Jose', 'Sarah', 'Daniel',\n",
       "       'Manuel', 'Manuel', 'Sarah', 'Lucia', 'Violetta', 'Lucia',\n",
       "       'Daniel', 'Sarah', 'Sarah', 'Jose', 'Maria'], dtype='<U8')"
      ]
     },
     "execution_count": 8,
     "metadata": {},
     "output_type": "execute_result"
    }
   ],
   "source": [
    "# columna de 30 observaciones aleatorias de los nombres\n",
    "col_nombres = np.random.choice(nombres, 30)\n",
    "col_nombres"
   ]
  },
  {
   "cell_type": "code",
   "execution_count": 9,
   "metadata": {},
   "outputs": [
    {
     "data": {
      "text/plain": [
       "array([16016767, 42856790, 22563033, 55473259, 29878835, 81732903,\n",
       "       90456468, 80603276, 93282221, 34015442, 46645162, 94841300,\n",
       "       61294191, 67284748, 11131370, 31204244, 25920452, 32125386,\n",
       "       92010516, 58205253, 23939173, 48441819, 86699993, 96482008,\n",
       "       56903825, 84137047, 58194130, 12398992, 45899471, 18605550])"
      ]
     },
     "execution_count": 9,
     "metadata": {},
     "output_type": "execute_result"
    }
   ],
   "source": [
    "# columna de cedulas aleatorias (entre 10 y 99 millones)\n",
    "col_cedulas = np.random.randint(10000000, 99000000, 30)\n",
    "col_cedulas"
   ]
  },
  {
   "cell_type": "markdown",
   "metadata": {},
   "source": [
    "### 4. Concatenar un nuevo vector con las observaciones de los nombres y cédulas."
   ]
  },
  {
   "cell_type": "code",
   "execution_count": 12,
   "metadata": {},
   "outputs": [
    {
     "data": {
      "text/plain": [
       "array([['Lucia', '16016767'],\n",
       "       ['Daniel', '42856790'],\n",
       "       ['Daniel', '22563033'],\n",
       "       ['Violetta', '55473259'],\n",
       "       ['Cristian', '29878835'],\n",
       "       ['Jose', '81732903'],\n",
       "       ['Maria', '90456468'],\n",
       "       ['Daniel', '80603276'],\n",
       "       ['Jackson', '93282221'],\n",
       "       ['Maria', '34015442'],\n",
       "       ['Sarah', '46645162'],\n",
       "       ['Violetta', '94841300'],\n",
       "       ['Andres', '61294191'],\n",
       "       ['Manuel', '67284748'],\n",
       "       ['Cristian', '11131370'],\n",
       "       ['Lucia', '31204244'],\n",
       "       ['Jose', '25920452'],\n",
       "       ['Sarah', '32125386'],\n",
       "       ['Daniel', '92010516'],\n",
       "       ['Manuel', '58205253'],\n",
       "       ['Manuel', '23939173'],\n",
       "       ['Sarah', '48441819'],\n",
       "       ['Lucia', '86699993'],\n",
       "       ['Violetta', '96482008'],\n",
       "       ['Lucia', '56903825'],\n",
       "       ['Daniel', '84137047'],\n",
       "       ['Sarah', '58194130'],\n",
       "       ['Sarah', '12398992'],\n",
       "       ['Jose', '45899471'],\n",
       "       ['Maria', '18605550']], dtype='<U21')"
      ]
     },
     "execution_count": 12,
     "metadata": {},
     "output_type": "execute_result"
    }
   ],
   "source": [
    "cols_concatenadas = np.column_stack((col_nombres, col_cedulas))\n",
    "cols_concatenadas"
   ]
  },
  {
   "cell_type": "markdown",
   "metadata": {},
   "source": [
    "### 5. Mostrar la posición del número más grande de las cédulas generadas del vector creado en el punto 4. Se debe investigar Slicing notation en numpy."
   ]
  },
  {
   "cell_type": "code",
   "execution_count": 13,
   "metadata": {},
   "outputs": [
    {
     "name": "stdout",
     "output_type": "stream",
     "text": [
      "Posicion del numero mas grande de cedula es: 23\n"
     ]
    }
   ],
   "source": [
    "# encontrar la posicion del numero de cedula mas grande\n",
    "pos_max_cedula = np.argmax(col_cedulas)\n",
    "print(f'Posicion del numero mas grande de cedula es: {pos_max_cedula}')"
   ]
  },
  {
   "cell_type": "code",
   "execution_count": 14,
   "metadata": {},
   "outputs": [
    {
     "name": "stdout",
     "output_type": "stream",
     "text": [
      "Nombre asociado: Violetta\n",
      "Cadula mas grande: 96482008\n"
     ]
    }
   ],
   "source": [
    "# Nombre y cedula correspondiente al valor maximo\n",
    "print(f'Nombre asociado: {cols_concatenadas[pos_max_cedula, 0]}')\n",
    "print(f'Cadula mas grande: {cols_concatenadas[pos_max_cedula, 1]}')"
   ]
  }
 ],
 "metadata": {
  "kernelspec": {
   "display_name": "data",
   "language": "python",
   "name": "python3"
  },
  "language_info": {
   "codemirror_mode": {
    "name": "ipython",
    "version": 3
   },
   "file_extension": ".py",
   "mimetype": "text/x-python",
   "name": "python",
   "nbconvert_exporter": "python",
   "pygments_lexer": "ipython3",
   "version": "3.10.8"
  }
 },
 "nbformat": 4,
 "nbformat_minor": 2
}
