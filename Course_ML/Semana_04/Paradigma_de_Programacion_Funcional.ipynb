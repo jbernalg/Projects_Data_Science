{
  "nbformat": 4,
  "nbformat_minor": 0,
  "metadata": {
    "colab": {
      "provenance": [],
      "collapsed_sections": [
        "vethXPhcEWZ8"
      ]
    },
    "kernelspec": {
      "name": "python3",
      "display_name": "Python 3"
    },
    "language_info": {
      "name": "python"
    }
  },
  "cells": [
    {
      "cell_type": "markdown",
      "metadata": {
        "id": "aoDBqnjf3KA1"
      },
      "source": [
        "# Paradigma de Programación Funcional"
      ]
    },
    {
      "cell_type": "markdown",
      "metadata": {
        "id": "fwBH_0di8g76"
      },
      "source": [
        "(Functional Programming)\n",
        "\n",
        "Un **paradigma de programación**, en pocas palabras, es un enfoque para resolver problemas mediante código.\n",
        "\n",
        "Los dos paradigmas de programación más populares son el paradigma de Programación Orientado a Objetos (POO o OOP en inglés) y el paradigma de Programación Funcional (PF o FP en inglés). La POO se ajusta mejor a situaciones donde tenemos una cantidad fija de operaciones en cosas (objetos); la programación funcional, por su parte, a situaciones donde tenemos una cantidad fija de cosas y la cantidad de operaciones (funciones) sobre ellas crecen."
      ]
    },
    {
      "cell_type": "markdown",
      "metadata": {
        "id": "2DPDibcFs50B"
      },
      "source": [
        "# Funciones\n",
        "\n",
        "Vamos a ver un ejemplo que que nos permitirá ilustrar las funciones y los problemas que resuelven:\n",
        "\n",
        "Una necesidad frecuente e importante en la vida diaria es conocer el número\n",
        "de **combinaciones** que se pueden construir con **n** elementos tomados en\n",
        "grupos de a **r**. Por ejemplo, si se tiene un equipo de baloncesto y se dispone\n",
        "de 8 jugadores, se busca determinar cuántas formaciones diferentes se\n",
        "pueden hacer.\n",
        "\n",
        "Matemáticamente la solución está dada por la fórmula:\n",
        "\n",
        "\\begin{align}\n",
        "C_{r}^{n} = \\frac{n!}{(n-r)!r!}\n",
        "\\end{align}\n",
        "\n",
        "Una forma de programar esta fórmula es la siguiente:\n"
      ]
    },
    {
      "cell_type": "code",
      "metadata": {
        "colab": {
          "base_uri": "https://localhost:8080/"
        },
        "id": "QZq7x1OO0dhD",
        "outputId": "0d9792c6-b46c-4a31-e90d-de24600e5765"
      },
      "source": [
        "# Se piden los datos al usuario\n",
        "n = int(input('Entre valor de n '))\n",
        "r = int(input('Entre valor de r '))\n",
        "\n",
        "# Se calcula el factorial de n\n",
        "fn = 1\n",
        "for i in range(1, n + 1):\n",
        "  fn = fn * i\n",
        "\n",
        "# Se calcula el factorial de r\n",
        "fr = 1\n",
        "for i in range(1, r + 1):\n",
        "  fr = fr * i\n",
        "\n",
        "# Se calcula el factorial de n - r\n",
        "fnr = 1\n",
        "for i in range(1, n - r + 1):\n",
        "  fnr = fnr * i\n",
        "\n",
        "# Se calculan las combinaciones\n",
        "nc = fn // fr // fnr\n",
        "\n",
        "# Se imprimen los resultados\n",
        "print(f'n = {n} \\nr = {r} \\nFactorial de n = {fn} \\nFactorial de r = {fr} \\n\\\n",
        "Factorial de n - r = {fnr} \\nNúmero de combinaciones = {nc}')"
      ],
      "execution_count": null,
      "outputs": [
        {
          "output_type": "stream",
          "name": "stdout",
          "text": [
            "Entre valor de n 8\n",
            "Entre valor de r 5\n",
            "n = 8 \n",
            "r = 5 \n",
            "Factorial de n = 40320 \n",
            "Factorial de r = 120 \n",
            "Factorial de n - r = 6 \n",
            "Número de combinaciones = 56\n"
          ]
        }
      ]
    },
    {
      "cell_type": "markdown",
      "metadata": {
        "id": "jnNt6zsHkLqw"
      },
      "source": [
        "Como se puede apreciar, el cálculo del factorial se realiza 3 veces. Cuando programamos siempre debemos buscar NO repetir código, esto una buena práctica ya que hace el código más mantenible y reusable. Hay diferentes formas de reusar el código, pero el paradigma de PF se enfoca principalmente en las **funciones**.\n",
        "\n",
        "Las funciones son un bloque de código, es decir, un conjunto de instrucciones que se ejecuta cuando se **invoca**; se le pueden pasar datos de entrada, llamados **parámetros** y puede **retornar** un dato como resultado."
      ]
    },
    {
      "cell_type": "code",
      "metadata": {
        "id": "TGwaf49GkKbT"
      },
      "source": [
        "# Ejemplo de función sin cuerpo\n",
        "def funcion():\n",
        "  pass\n",
        "\n",
        "# Ejemplo de función con parámetros y retorno\n",
        "def suma(x, y):\n",
        "  return x + y\n",
        "\n",
        "# Ejemplo de función sin parámetros ni retorno\n",
        "def hello():\n",
        "  print('Hello World!')"
      ],
      "execution_count": null,
      "outputs": []
    },
    {
      "cell_type": "markdown",
      "metadata": {
        "id": "uypl_Bz2oNLq"
      },
      "source": [
        "Como se puede ver en los ejemplos anteriores, para declarar una función en Python debemos:\n",
        "1. Usar la palabra reservada ```def```\n",
        "2. Nombrar la función (en nuestros ejemplos: suma o hello)\n",
        "3. Abrir y cerrar paréntesis, entre ellos se pueden definir **parámetros** si se requieren.\n",
        "4. El conjunto de instrucciones o la instrucción que contiene la función.\n",
        "5. Usar la palabra reservada ```return``` en caso de que se devuelva uno o más valores.\n",
        "\n",
        "\n"
      ]
    },
    {
      "cell_type": "markdown",
      "metadata": {
        "id": "kBW-CaEYK1UY"
      },
      "source": [
        "Ya declaramos las funciones, ¿cómo las usamos?, el uso de una función se llama invocación o llamado y para ello debemos:\n",
        "\n",
        "  1. Declarar una variable, en caso de querer almacernar el valor que retorna la función.\n",
        "  2. Escribir el nombre de la función.\n",
        "  3. Abrir y cerrar paréntesis, entre ellos se pueden ingresar argumentos que reciba la función.\n",
        "\n",
        "¿Qué es un argumento y qué lo diferencia de los parámetros?"
      ]
    },
    {
      "cell_type": "code",
      "metadata": {
        "colab": {
          "base_uri": "https://localhost:8080/"
        },
        "id": "YTp3i4IuLFZY",
        "outputId": "9381afea-bee1-4f36-ff7d-0dcf1eb25184"
      },
      "source": [
        "a = suma(3, 2)\n",
        "b = suma(1, a)\n",
        "c = funcion()\n",
        "d = hello()\n",
        "e = suma(str(suma(1, b)), str(c))\n",
        "print(f'{a}, {b}, {c}, {d}, {e}')"
      ],
      "execution_count": null,
      "outputs": [
        {
          "output_type": "stream",
          "name": "stdout",
          "text": [
            "Hello World!\n",
            "5, 6, None, None, 7None\n"
          ]
        }
      ]
    },
    {
      "cell_type": "markdown",
      "metadata": {
        "id": "hmI0bjyFOCLD"
      },
      "source": [
        "¿En qué parte del programa debo declarar las funciones?"
      ]
    },
    {
      "cell_type": "markdown",
      "metadata": {
        "id": "gD-BiA1xE2K6"
      },
      "source": [
        "Nota: En algunos textos, las funciones se conocen como subprogramas, este es un término más general y preciso ya que no todos los subprogramas son funciones, estas suelen se usadas para mapear valores, es decir, obtener un valor mediante otro, y los procedimientos pueden recibir valores también pero no suelen retornar nada. Es importante tener esto presente, aunque en Python (y enotros lengujes) a los subprogramas se le llamen funciones."
      ]
    },
    {
      "cell_type": "markdown",
      "metadata": {
        "id": "IUosNGo3al9e"
      },
      "source": [
        "### Parámetros"
      ]
    },
    {
      "cell_type": "markdown",
      "metadata": {
        "id": "stkAWAwEIdOt"
      },
      "source": [
        "Exploremos un poco más los parámetros.\n",
        "\n",
        "*   ¿La función cómo detecta cuál argumento corresponde a cuál parámetro?\n",
        "*   ¿Puedo invocar una función, con parámetros, sin darle argumentos?\n",
        "*   ¿Y si desconozco la cantidad de parámetros que necesitará mi función?\n",
        "\n"
      ]
    },
    {
      "cell_type": "code",
      "metadata": {
        "colab": {
          "base_uri": "https://localhost:8080/"
        },
        "id": "ywZ211q3INlM",
        "outputId": "e156cbb4-20a0-45ae-9264-d4b0a3509c5f"
      },
      "source": [
        "def resta(x, y):\n",
        "  return x - y\n",
        "\n",
        "a = 2\n",
        "b = 1\n",
        "print(resta(a, b), resta(b, a), resta(y=b, x=a))"
      ],
      "execution_count": null,
      "outputs": [
        {
          "output_type": "stream",
          "name": "stdout",
          "text": [
            "1 -1 1\n"
          ]
        }
      ]
    },
    {
      "cell_type": "markdown",
      "metadata": {
        "id": "MHnZA7EuaqJE"
      },
      "source": [
        "### Retorno\n",
        "\n"
      ]
    },
    {
      "cell_type": "code",
      "metadata": {
        "colab": {
          "base_uri": "https://localhost:8080/"
        },
        "id": "2mn3P9BcbrvT",
        "outputId": "bdfe59f7-2631-4777-eeea-b8b4e9ddec8e"
      },
      "source": [
        "def suma(x, y):\n",
        "  s = x + y\n",
        "  return s\n",
        "\n",
        "def suma1(x, y):\n",
        "  return x + y\n",
        "\n",
        "def suma2(*parametros):\n",
        "  return sum(parametros)\n",
        "\n",
        "def suma3(x, y):\n",
        "  return x, y, x + y\n",
        "\n",
        "suma(1, 2), suma1(1, 2), suma2(1, 2), suma3(1, 2)"
      ],
      "execution_count": null,
      "outputs": [
        {
          "output_type": "execute_result",
          "data": {
            "text/plain": [
              "(3, 3, 3, (1, 2, 3))"
            ]
          },
          "metadata": {},
          "execution_count": 31
        }
      ]
    },
    {
      "cell_type": "markdown",
      "metadata": {
        "id": "vethXPhcEWZ8"
      },
      "source": [
        "### Alcance de Variables\n",
        "\n",
        "Variables Locales y Globales"
      ]
    },
    {
      "cell_type": "markdown",
      "metadata": {
        "id": "k1O46-yRGk73"
      },
      "source": [
        "¿Qué valor se imprimirá?"
      ]
    },
    {
      "cell_type": "code",
      "metadata": {
        "colab": {
          "base_uri": "https://localhost:8080/"
        },
        "id": "6qnPRfcuoaEN",
        "outputId": "bd276b17-f76a-4b44-c5e8-89e5e6291775"
      },
      "source": [
        "def suma(x, y):\n",
        "  s = x + y\n",
        "  return s\n",
        "\n",
        "s = 9\n",
        "suma(1, 1)\n",
        "print(s)"
      ],
      "execution_count": null,
      "outputs": [
        {
          "output_type": "stream",
          "name": "stdout",
          "text": [
            "9\n"
          ]
        }
      ]
    },
    {
      "cell_type": "code",
      "metadata": {
        "id": "XjPq3PjuxwY1"
      },
      "source": [
        "def suma(x, y):\n",
        "  s = x + y\n",
        "  return s\n",
        "\n",
        "s = 9\n",
        "suma(1, 1)\n",
        "print(s)"
      ],
      "execution_count": null,
      "outputs": []
    },
    {
      "cell_type": "markdown",
      "metadata": {
        "id": "cRJB6NXGGMdA"
      },
      "source": [
        "¿El siguiente código funciona? **¡Ejecútalo!**"
      ]
    },
    {
      "cell_type": "code",
      "metadata": {
        "id": "Zna3wp3Ems_Y"
      },
      "source": [
        "def suma(x, y):\n",
        "  s = x + y\n",
        "  return s\n",
        "\n",
        "suma(1, 1)\n",
        "print(s)"
      ],
      "execution_count": null,
      "outputs": []
    },
    {
      "cell_type": "markdown",
      "metadata": {
        "id": "5euwr-kXxmXt"
      },
      "source": [
        "Se dice que las variables que se declaran dentro de una función, son **variables locales**, pues solo existen dentro de la función.\n",
        "\n",
        "Las variables que se declaran fuera de una función se conocen como **variables globales**. Hay un par de formas de usar variables globales dentro de una función, pasarla de argumento y usar la palabra reservada ```global``` dentro de la función."
      ]
    },
    {
      "cell_type": "code",
      "metadata": {
        "colab": {
          "base_uri": "https://localhost:8080/"
        },
        "id": "1RGl5yNR0WtA",
        "outputId": "dee36e97-5e54-481d-d088-f4a2af48fe25"
      },
      "source": [
        "def suma(x):\n",
        "  global s\n",
        "  s += x\n",
        "  return s\n",
        "\n",
        "s = 9\n",
        "suma(1)\n",
        "print(s)"
      ],
      "execution_count": null,
      "outputs": [
        {
          "output_type": "stream",
          "name": "stdout",
          "text": [
            "10\n"
          ]
        }
      ]
    },
    {
      "cell_type": "markdown",
      "metadata": {
        "id": "5QbJLs7B37i6"
      },
      "source": [
        "¡Ya conocemos bien los subprogramas en Python! 🥳🎉\n",
        "\n",
        "¿Cómo podemos mejorar el código de nuestro problema inicial?"
      ]
    },
    {
      "cell_type": "code",
      "metadata": {
        "colab": {
          "base_uri": "https://localhost:8080/"
        },
        "id": "i8g4U85Y4W5A",
        "outputId": "40906592-993a-48e6-f48b-94436d8d038b"
      },
      "source": [
        "# Función factorial retorna el factorial del parámtro n\n",
        "def factorial(n):\n",
        "  f = 1\n",
        "  for i in range(1, n + 1):\n",
        "    f = f * i\n",
        "  return f\n",
        "\n",
        "# Se piden los datos al usuario\n",
        "n = int(input('Entre valor de n '))\n",
        "r = int(input('Entre valor de r '))\n",
        "\n",
        "# Se calcula el factorial de n\n",
        "fn = factorial(n)\n",
        "\n",
        "# Se calcula el factorial de r\n",
        "fr = factorial(r)\n",
        "\n",
        "# Se calcula el factorial de n - r\n",
        "fnr = factorial(n - r)\n",
        "\n",
        "# Se calculan las combinaciones\n",
        "nc = fn // fr // fnr\n",
        "\n",
        "# Se imprimen los resultados\n",
        "print(f'n = {n} \\nr = {r} \\nFactorial de n = {fn} \\nFactorial de r = {fr} \\n\\\n",
        "Factorial de n - r = {fnr} \\nNúmero de combinaciones = {nc}')"
      ],
      "execution_count": null,
      "outputs": [
        {
          "output_type": "stream",
          "name": "stdout",
          "text": [
            "Entre valor de n 8\n",
            "Entre valor de r 5\n",
            "n = 8 \n",
            "r = 5 \n",
            "Factorial de n = 40320 \n",
            "Factorial de r = 120 \n",
            "Factorial de n - r = 6 \n",
            "Número de combinaciones = 56\n"
          ]
        }
      ]
    },
    {
      "cell_type": "markdown",
      "metadata": {
        "id": "jdtQkvo_Hp-Y"
      },
      "source": [
        "La combinación también es una operación, podemos hacer con ella otra función:"
      ]
    },
    {
      "cell_type": "code",
      "metadata": {
        "colab": {
          "base_uri": "https://localhost:8080/"
        },
        "id": "yYXy_vLvHpKq",
        "outputId": "df78c2ce-17a8-4292-84ed-c6df4f814ee3"
      },
      "source": [
        "# Función factorial retorna el factorial del parámtro n\n",
        "def factorial(n):\n",
        "  f = 1\n",
        "  for i in range(1, n + 1):\n",
        "    f = f * i\n",
        "  return f\n",
        "\n",
        "# Función combinacion retorna el número de combinaciones de:\n",
        "# n: cantidad de objetos del conjunto\n",
        "# r: número de objetos elegidos del conjunto\n",
        "def combinacion(n, r):\n",
        "  return factorial(n) // factorial(r) // factorial(n - r)\n",
        "\n",
        "# Se piden los datos al usuario\n",
        "n = int(input('Entre valor de n '))\n",
        "r1 = int(input('Entre valor de r1 '))\n",
        "r2 = int(input('Entre valor de r2 '))\n",
        "\n",
        "# Se calculan las combinaciones\n",
        "nc1 = combinacion(n, r1)\n",
        "nc2 = combinacion(n, r2)\n",
        "\n",
        "# Se imprimen los resultados\n",
        "print(f'n = {n} \\nr1 = {r1} \\nr2 = {r2} \\nNúmero de combinaciones con r1 \\\n",
        "= {nc1} \\nNúmero de combinaciones con r2 = {nc2}')"
      ],
      "execution_count": null,
      "outputs": [
        {
          "output_type": "stream",
          "name": "stdout",
          "text": [
            "Entre valor de n 8\n",
            "Entre valor de r1 5\n",
            "Entre valor de r2 2\n",
            "n = 8 \n",
            "r1 = 5 \n",
            "r2 = 2 \n",
            "Número de combinaciones con r1 = 56 \n",
            "Número de combinaciones con r2 = 28\n"
          ]
        }
      ]
    },
    {
      "cell_type": "markdown",
      "metadata": {
        "id": "mHMpyEw5NwjV"
      },
      "source": [
        "¿Por qué no podemos incluir el los valores de los factoriales en el mensaje del final como se hacía antes?"
      ]
    },
    {
      "cell_type": "markdown",
      "metadata": {
        "id": "UoYv-2S6Oi6y"
      },
      "source": [
        "Miremos otros conceptos que nos ofrece la programación funcional."
      ]
    },
    {
      "cell_type": "markdown",
      "metadata": {
        "id": "JZa3LZjS3yRi"
      },
      "source": [
        "# Funciones Puras"
      ]
    },
    {
      "cell_type": "markdown",
      "metadata": {
        "id": "vxC8TinsOdJb"
      },
      "source": [
        "PF recomienda crear funciones puras o deterministicas, esto es que las funciones siempre den un mismo resultado para una misma entrada."
      ]
    },
    {
      "cell_type": "code",
      "metadata": {
        "colab": {
          "base_uri": "https://localhost:8080/"
        },
        "id": "6u2ZsAxFS8H1",
        "outputId": "92f7bb71-2e5c-4678-e502-e56b61ca2fcf"
      },
      "source": [
        "def suma(x, y):\n",
        "  return x + y\n",
        "\n",
        "print(suma(2, 3))\n",
        "print(suma(5, 1))\n",
        "print(suma(9, 4))\n",
        "print(suma(2, 3))"
      ],
      "execution_count": null,
      "outputs": [
        {
          "output_type": "stream",
          "name": "stdout",
          "text": [
            "5\n",
            "6\n",
            "13\n",
            "5\n"
          ]
        }
      ]
    },
    {
      "cell_type": "markdown",
      "metadata": {
        "id": "DipnM2u9Vd4l"
      },
      "source": [
        "Miremos una función impura."
      ]
    },
    {
      "cell_type": "code",
      "metadata": {
        "colab": {
          "base_uri": "https://localhost:8080/"
        },
        "id": "xd57GJitViJ0",
        "outputId": "e040c8de-5c99-4aac-d506-dd5d1d5f1590"
      },
      "source": [
        "def suma(x, y):\n",
        "  global total\n",
        "  total += x + y\n",
        "  return total\n",
        "\n",
        "total = 0\n",
        "print(suma(2, 3))\n",
        "print(suma(2, 3))\n",
        "print(suma(2, 3))\n",
        "print(suma(2, 3))"
      ],
      "execution_count": null,
      "outputs": [
        {
          "output_type": "stream",
          "name": "stdout",
          "text": [
            "5\n",
            "10\n",
            "15\n",
            "20\n"
          ]
        }
      ]
    },
    {
      "cell_type": "markdown",
      "metadata": {
        "id": "tJU3FmodYEqd"
      },
      "source": [
        "Traten de evitar las variables globales y que todas sus funciones sean puras."
      ]
    },
    {
      "cell_type": "markdown",
      "metadata": {
        "id": "RBTh9klI4OKi"
      },
      "source": [
        "# Composición de Funciones"
      ]
    },
    {
      "cell_type": "markdown",
      "metadata": {
        "id": "hCZnXL1gYq0Z"
      },
      "source": [
        "La composición de funciones es cuando se crea una función usando otras. Esto ya lo hicimios creando la función ```combinacion``` usando la función ```factorial```. Veamos otro ejemplo:"
      ]
    },
    {
      "cell_type": "code",
      "metadata": {
        "colab": {
          "base_uri": "https://localhost:8080/"
        },
        "id": "qkW8Tfv8dUsb",
        "outputId": "52294933-4bca-406f-fabe-077ca9985fde"
      },
      "source": [
        "def al_cuadrado(n):\n",
        "  return n * n\n",
        "\n",
        "def suma_de_cuadrados(x, y):\n",
        "  return al_cuadrado(x) + al_cuadrado(y)\n",
        "\n",
        "def cuadrado_antecesor_mas_cuadrado_sucesor(n):\n",
        "  return suma_de_cuadrados(n-1, n+1)\n",
        "\n",
        "# 2^2 + 4^2 = 4 + 16 = 20\n",
        "cuadrado_antecesor_mas_cuadrado_sucesor(3)"
      ],
      "execution_count": null,
      "outputs": [
        {
          "output_type": "execute_result",
          "data": {
            "text/plain": [
              "20"
            ]
          },
          "metadata": {},
          "execution_count": 14
        }
      ]
    },
    {
      "cell_type": "markdown",
      "metadata": {
        "id": "-xKwzCxehV62"
      },
      "source": [
        "Este concepto nos incentiva a evitar funciones con muchas líneas de código y a que cada función haga una tarea específica para poder reutilizarla."
      ]
    },
    {
      "cell_type": "markdown",
      "metadata": {
        "id": "lQ-rQ7Sb5Oif"
      },
      "source": [
        "# Funciones de Alto Orden"
      ]
    },
    {
      "cell_type": "markdown",
      "metadata": {
        "id": "3qQIA6DUmYQn"
      },
      "source": [
        "Las funciones en PF son tratadas como variables, es decir, se pueden pasar como argumentos y retornadas. Este concepto lo veremos en acción en la siguiente sección de funcines lambda."
      ]
    },
    {
      "cell_type": "markdown",
      "metadata": {
        "id": "cBDb1EDz5a3X"
      },
      "source": [
        "# Funciones Lambda"
      ]
    },
    {
      "cell_type": "markdown",
      "metadata": {
        "id": "-EuJjJu8rq_y"
      },
      "source": [
        "Son funciones pequeñas, ya que solo pueden tener una instrucción o expresión; las funciones lambda también son conocidas como funciones anónimas debido a que no necesitan un nombre. Por ejemplo, la función suma como función lambda se vería así:"
      ]
    },
    {
      "cell_type": "code",
      "metadata": {
        "colab": {
          "base_uri": "https://localhost:8080/"
        },
        "id": "OdoSvzvKrpJV",
        "outputId": "02c4cb02-bfa1-4197-b760-8ed86e9a7e89"
      },
      "source": [
        "suma = lambda x, y: x + y\n",
        "\n",
        "suma(2, 1)"
      ],
      "execution_count": null,
      "outputs": [
        {
          "output_type": "execute_result",
          "data": {
            "text/plain": [
              "3"
            ]
          },
          "metadata": {},
          "execution_count": 22
        }
      ]
    },
    {
      "cell_type": "markdown",
      "metadata": {
        "id": "S7TFk3rotGXo"
      },
      "source": [
        "Para declararlas funciones lambda: ```lambda argumentos : instrucción```. Tenemos que usar la palabra reservada ```lambda``` escribir los argumentos y luego de \":\" la instrucción que queremos realizar con nuestra función.\n",
        "\n",
        "Estas funciones suelen usarse para funciones simples, cortas y que solo ser usarán una vez.\n",
        "\n",
        "En el siguiente ejemplo lo usaremos para crear funciones."
      ]
    },
    {
      "cell_type": "code",
      "metadata": {
        "colab": {
          "base_uri": "https://localhost:8080/"
        },
        "id": "nL0IVQj2xRmP",
        "outputId": "bac1f4c6-b1d5-4e53-a14e-b78a093ea44d"
      },
      "source": [
        "# Función  crea_funcion_cuadratica retorna la función f(x) = ax^2 + bx + c, donde a, b y c son parámetos\n",
        "def crea_funcion_cuadratica(a, b, c):\n",
        "  return lambda x: a*x**2 + b*x + c\n",
        "\n",
        "f = crea_funcion_cuadratica(2, 3, -5)\n",
        "print(f(0))\n",
        "print(f(1))\n",
        "print(f(2))\n",
        "print(crea_funcion_cuadratica(3, 0, 1)(2))"
      ],
      "execution_count": null,
      "outputs": [
        {
          "output_type": "stream",
          "name": "stdout",
          "text": [
            "-5\n",
            "0\n",
            "9\n",
            "13\n"
          ]
        }
      ]
    },
    {
      "cell_type": "markdown",
      "metadata": {
        "id": "PfIZ11MvwNpV"
      },
      "source": [
        "Miremos algunos usos de lambda como funciones de un solo uso.\n",
        "\n",
        "¿Cómo podemos ordenar la lista por longitud del nombre completo, en orden alfabético de los apellidos, o por la cantidad de veces que usa un caracter?"
      ]
    },
    {
      "cell_type": "code",
      "metadata": {
        "id": "BL5TxsS5gU7t",
        "colab": {
          "base_uri": "https://localhost:8080/"
        },
        "outputId": "2e2bba2b-896e-4a6a-d553-fa4eba48429f"
      },
      "source": [
        "autores_colombianos = ['Gabriel Camargo', 'Héctor Abad', 'Jorge Isaacs',\n",
        "                       'Rafael Pombo', 'Tomás Carrasquilla', 'José Asunción']\n",
        "\n",
        "autores_colombianos.sort()  # key=lambda nombre: len(nombre), key=lambda nombre: nombre.split(' ')[-1].lower(), key=lambda nombre: nombre.count('a')\n",
        "autores_colombianos"
      ],
      "execution_count": null,
      "outputs": [
        {
          "output_type": "execute_result",
          "data": {
            "text/plain": [
              "['Gabriel Camargo',\n",
              " 'Héctor Abad',\n",
              " 'Jorge Isaacs',\n",
              " 'José Asunción',\n",
              " 'Rafael Pombo',\n",
              " 'Tomás Carrasquilla']"
            ]
          },
          "metadata": {},
          "execution_count": 23
        }
      ]
    },
    {
      "cell_type": "markdown",
      "metadata": {
        "id": "cQ8Fhyi85Ky3"
      },
      "source": [
        "# Funciones Recursivas"
      ]
    },
    {
      "cell_type": "markdown",
      "metadata": {
        "id": "1vKLYlenxLaK"
      },
      "source": [
        "En la programación funcional se busca eliminar el uso de ciclos for.\n",
        "\n",
        "Una función recursiva es una función que en su definición se referencia a sí misma y tiene una condición de término o punto de parada.\n",
        "\n",
        "Vamos a convertir la función factorial que habíamos hecho, que es iterativa, en una función recursiva."
      ]
    },
    {
      "cell_type": "code",
      "metadata": {
        "id": "ToI4mtsF_D84"
      },
      "source": [
        "# Función factorial retorna el factorial del parámtro n\n",
        "def factorial(n):\n",
        "  f = 1\n",
        "  for i in range(1, n + 1):\n",
        "    f = f * i\n",
        "  return f"
      ],
      "execution_count": null,
      "outputs": []
    },
    {
      "cell_type": "code",
      "metadata": {
        "id": "AMcBU3pnxhXG"
      },
      "source": [
        "# Función recursiva factorial retorna el factorial del parámtro n\n",
        "def factorial(n):\n",
        "  if n == 1:\n",
        "    return n\n",
        "  else:\n",
        "    return n * factorial(n-1)"
      ],
      "execution_count": null,
      "outputs": []
    },
    {
      "cell_type": "markdown",
      "metadata": {
        "id": "RqzPFk8cDwCQ"
      },
      "source": [
        "Miremos el resultado del programa del problema que presentamos al inicio con paradigma de PF."
      ]
    },
    {
      "cell_type": "code",
      "metadata": {
        "colab": {
          "base_uri": "https://localhost:8080/"
        },
        "id": "zGGsnxBwvWNx",
        "outputId": "1a08a623-0274-4721-c800-316dbb8035a0"
      },
      "source": [
        "# Función recursiva factorial retorna el factorial del parámtro n\n",
        "def factorial(n):\n",
        "  if n == 1:\n",
        "    return n\n",
        "  else:\n",
        "    return n * factorial(n-1)\n",
        "\n",
        "# Función combinacion retorna el número de combinaciones de:\n",
        "# n: cantidad de objetos del conjunto\n",
        "# r: número de objetos elegidos del conjunto\n",
        "def combinacion(n, r):\n",
        "  return factorial(n) // factorial(r) // factorial(n - r)\n",
        "\n",
        "# Se piden los datos al usuario\n",
        "n = int(input('Entre valor de n '))\n",
        "r1 = int(input('Entre valor de r1 '))\n",
        "r2 = int(input('Entre valor de r2 '))\n",
        "\n",
        "# Se calculan las combinaciones\n",
        "nc1 = combinacion(n, r1)\n",
        "nc2 = combinacion(n, r2)\n",
        "\n",
        "# Se imprimen los resultados\n",
        "print(f'n = {n} \\nr1 = {r1} \\nr2 = {r2} \\nNúmero de combinaciones con r1 =\\\n",
        "{nc1} \\nNúmero de combinaciones con r2 = {nc2}')"
      ],
      "execution_count": null,
      "outputs": [
        {
          "output_type": "stream",
          "name": "stdout",
          "text": [
            "Entre valor de n 8\n",
            "Entre valor de r1 5\n",
            "Entre valor de r2 2\n",
            "n = 8 \n",
            "r1 = 5 \n",
            "r2 = 2 \n",
            "Número de combinaciones con r1 = 56 \n",
            "Número de combinaciones con r2 = 28\n"
          ]
        }
      ]
    },
    {
      "cell_type": "markdown",
      "metadata": {
        "id": "2OpdpOzJdTwp"
      },
      "source": [
        "# Funciones internas\n",
        "\n",
        "Hay situaciones donde requerimos usar funciones dentro de otras funciones que solo se usarán una vez, dado que hacen algo muy específico, y además son lo suficientemente complejas para usar funciones lambda, en estos casos podemos declarar una función dentro de otra.\n",
        "\n",
        "Usted requiere crear estructuras de datos anidadas y obtener algo como lo siguiente:\n",
        "\n",
        "3 listas dentro de otra\n",
        "\n",
        "\\[ \\[ ], \\[ ], \\[ ] ]\n",
        "\n",
        "Una solución sin usar PF sería:"
      ]
    },
    {
      "cell_type": "code",
      "metadata": {
        "colab": {
          "base_uri": "https://localhost:8080/"
        },
        "id": "Vkks_IGrdSiJ",
        "outputId": "a4963c92-6d2b-4f0a-b096-3a557e55ffe0"
      },
      "source": [
        "# Función que retorna una lista con n sublistas\n",
        "def crear_lista_anidada(n):\n",
        "    p = []\n",
        "    for i in range(n):\n",
        "        p.append([])\n",
        "    return p\n",
        "\n",
        "crear_lista_anidada(5)"
      ],
      "execution_count": null,
      "outputs": [
        {
          "output_type": "execute_result",
          "data": {
            "text/plain": [
              "[[], [], [], [], []]"
            ]
          },
          "metadata": {},
          "execution_count": 30
        }
      ]
    },
    {
      "cell_type": "markdown",
      "metadata": {
        "id": "X5YFvIM5dPn7"
      },
      "source": [
        "Usando funciones internas sería:"
      ]
    },
    {
      "cell_type": "code",
      "metadata": {
        "colab": {
          "base_uri": "https://localhost:8080/"
        },
        "id": "nWPbezVxfdWd",
        "outputId": "d3be4495-9b6b-4b3f-b4df-d984aaa223e9"
      },
      "source": [
        "# Función que retorna una lista con n sublistas\n",
        "def crear_lista_anidada(n):\n",
        "  p = []\n",
        "  def crear_sublistas(n):\n",
        "    if n == 0:\n",
        "      return p\n",
        "    p.append([])\n",
        "    crear_sublistas(n-1)\n",
        "  crear_sublistas(n)\n",
        "  return p\n",
        "\n",
        "crear_lista_anidada(5)"
      ],
      "execution_count": null,
      "outputs": [
        {
          "output_type": "execute_result",
          "data": {
            "text/plain": [
              "[[], [], [], [], []]"
            ]
          },
          "metadata": {},
          "execution_count": 1
        }
      ]
    },
    {
      "cell_type": "markdown",
      "metadata": {
        "id": "Ysqw-c9HbSJk"
      },
      "source": [
        "Como podemos observar, para reemplazar un ciclo por recursión, tuvimos que declarar una función dentro de otra. Sin embargo, una mejor forma de lograr este resultado sería:"
      ]
    },
    {
      "cell_type": "code",
      "metadata": {
        "colab": {
          "base_uri": "https://localhost:8080/"
        },
        "id": "dyvBlxbNbQgb",
        "outputId": "102c658b-735a-4b50-be02-1243d56c818e"
      },
      "source": [
        "# Función que retorna una lista con n sublistas, n es 1 por defecto\n",
        "def crear_lista_anidada(n):\n",
        "  return [[]] * n\n",
        "\n",
        "crear_lista_anidada(5)"
      ],
      "execution_count": null,
      "outputs": [
        {
          "output_type": "execute_result",
          "data": {
            "text/plain": [
              "[[], [], [], [], []]"
            ]
          },
          "metadata": {},
          "execution_count": 8
        }
      ]
    },
    {
      "cell_type": "markdown",
      "metadata": {
        "id": "PzRroWw1cuaa"
      },
      "source": [
        "# Funciones Map, Filter y Reduce\n",
        "\n",
        "Estas funciones de alto orden nos permiten transformar colecciones de datos de forma funcional.\n"
      ]
    },
    {
      "cell_type": "markdown",
      "metadata": {
        "id": "szE-6u1EzLWH"
      },
      "source": [
        "## Map\n",
        "\n",
        "La función Map la usamos cuando queremos ejecutar una función en cada elememto de la colección, así:"
      ]
    },
    {
      "cell_type": "code",
      "metadata": {
        "id": "tadIYoure42d",
        "colab": {
          "base_uri": "https://localhost:8080/"
        },
        "outputId": "3924eb9c-c562-40df-a1d1-f03c697a8099"
      },
      "source": [
        "def multiplica_por_2(i):\n",
        "  return i * 2\n",
        "\n",
        "coleccion = [0, 1, 2, 3]\n",
        "\n",
        "print(list(map(multiplica_por_2, coleccion)))\n",
        "print(list(map(lambda i: i * 2, coleccion)))"
      ],
      "execution_count": null,
      "outputs": [
        {
          "output_type": "stream",
          "name": "stdout",
          "text": [
            "[0, 2, 4, 6]\n",
            "[0, 2, 4, 6]\n"
          ]
        }
      ]
    },
    {
      "cell_type": "markdown",
      "metadata": {
        "id": "y9h-blCIueEM"
      },
      "source": [
        "Veamos que tenemos que pasarle a la función map una función o una referencia de una, en el segundo caso hay que tener cuidado de no poner los parentesis ya que eso invocaría la función y resultaría en un error; el segundo argumento es un iterable, es decir una estructura de datos que podemos recorrer; miremos también que estamos convirtiendo lo que nos retorna la función map en una lista para poder apreciarlo e imprimirlo, esto es porque invocar a la función map nos retorna un objeto map."
      ]
    },
    {
      "cell_type": "code",
      "metadata": {
        "colab": {
          "base_uri": "https://localhost:8080/"
        },
        "id": "DcakigEDwjQc",
        "outputId": "80bfe70a-1b10-4eff-df54-2ba127f50df9"
      },
      "source": [
        "map(multiplica_por_2, coleccion)"
      ],
      "execution_count": null,
      "outputs": [
        {
          "output_type": "execute_result",
          "data": {
            "text/plain": [
              "<map at 0x7fb9ad8d2790>"
            ]
          },
          "metadata": {},
          "execution_count": 2
        }
      ]
    },
    {
      "cell_type": "markdown",
      "metadata": {
        "id": "ZvGlJvolxxn0"
      },
      "source": [
        "Es importante notar el uso de estas funciones no modifican la colección."
      ]
    },
    {
      "cell_type": "code",
      "metadata": {
        "colab": {
          "base_uri": "https://localhost:8080/"
        },
        "id": "ZahVg39tx6iq",
        "outputId": "52dbfd95-c460-4747-d952-b42f8a73ec03"
      },
      "source": [
        "print(coleccion)\n",
        "print(list(map(multiplica_por_2, coleccion)))\n",
        "print(coleccion)"
      ],
      "execution_count": null,
      "outputs": [
        {
          "output_type": "stream",
          "name": "stdout",
          "text": [
            "[0, 1, 2, 3]\n",
            "[0, 2, 4, 6]\n",
            "[0, 1, 2, 3]\n"
          ]
        }
      ]
    },
    {
      "cell_type": "markdown",
      "metadata": {
        "id": "oJyOw4hYzSDm"
      },
      "source": [
        "## Filter\n",
        "\n",
        "Como lo dice su nombre, esta función va a filtrar la colección según la función que le pasemos como argumento, esta función debe de retornar valores booleanos, los elementos que cumplan la condición retornaran `True` y estos son los que quedarán en la colección resultante.\n",
        "\n",
        "En el siguiente ejemplo filtraremos los números pares."
      ]
    },
    {
      "cell_type": "code",
      "metadata": {
        "colab": {
          "base_uri": "https://localhost:8080/"
        },
        "id": "Jf0ZrPDMzUpd",
        "outputId": "a7892b5f-cf7c-4571-a878-bdf401cf1a3d"
      },
      "source": [
        "list(filter(lambda i: i % 2 == 0, coleccion))"
      ],
      "execution_count": null,
      "outputs": [
        {
          "output_type": "execute_result",
          "data": {
            "text/plain": [
              "[0, 2]"
            ]
          },
          "metadata": {},
          "execution_count": 6
        }
      ]
    },
    {
      "cell_type": "markdown",
      "metadata": {
        "id": "WIz-ZG2W2lUx"
      },
      "source": [
        "## Reduce\n",
        "\n",
        "Esta función, a diferencia de las anteriores, retorna un valor y se usa cuando necesitamos recorrer una estructura y acumular algún valor\n",
        "\n",
        "En el siguiente ejemplo calcularemos la suma de los elementos de nuestra colección:\n",
        "\n",
        "**OJO**, entenderá la primera línea de la siguiente celda cuando llegemos al módulo de librerías, por ahora solo tiene que saber que le permitirá usar la función reduce."
      ]
    },
    {
      "cell_type": "code",
      "metadata": {
        "colab": {
          "base_uri": "https://localhost:8080/"
        },
        "id": "lmbH2sry36x9",
        "outputId": "6d809763-a05b-43b9-838e-77ad92af463b"
      },
      "source": [
        "from functools import reduce\n",
        "reduce(lambda acumulado, i: acumulado + i, coleccion, 0)"
      ],
      "execution_count": null,
      "outputs": [
        {
          "output_type": "execute_result",
          "data": {
            "text/plain": [
              "6"
            ]
          },
          "metadata": {},
          "execution_count": 7
        }
      ]
    },
    {
      "cell_type": "markdown",
      "metadata": {
        "id": "5mTHvEfS472f"
      },
      "source": [
        "Como ha podido ver, las funciones lambda que pasamos a las funciones Map, Filter y Reduce, tienen un parámetro, que hemos llamado i, que repretenta el elemento de la coleccion, en el caso de Reduce también tenemos que añadir un parámetro para el valor que vamos acumulando. El tercer argumento de Reduce es el valor inicial del valor acumulado.\n",
        "\n",
        "Note que reduce retorna un valor, por esto no tenemos que convertirlo en otra estructura para visualizarlo."
      ]
    },
    {
      "cell_type": "markdown",
      "metadata": {
        "id": "KGDp_JYmXmjE"
      },
      "source": [
        "Más info:\n",
        "\n",
        "Guía de estilo de programación estandar de Python: https://pep8.org/\n",
        "\n",
        "Funciones de Python: https://docs.python.org/3/library/functions.html"
      ]
    },
    {
      "cell_type": "code",
      "source": [],
      "metadata": {
        "id": "pAgpvi6pjnxo"
      },
      "execution_count": null,
      "outputs": []
    }
  ]
}