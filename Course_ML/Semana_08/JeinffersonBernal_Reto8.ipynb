{
 "cells": [
  {
   "cell_type": "markdown",
   "metadata": {},
   "source": [
    "# Reto 8: Éxito ¿esfuerzo o suerte?\n",
    "\n",
    "En la última corte de astronautas de la NASA (National Aeronautics and Space Administration) alrededor de 18.300 personas de comenzaron el proceso de selección para ser astronauta, sin embargo, solo 11 personas llegarían a serlo. Es común pensar e incluso escuchar que algunas de esas personas llegarán a esos cargos exclusivamente por su suerte, o por su desempeño. Para probar estas afirmaciones:"
   ]
  },
  {
   "cell_type": "markdown",
   "metadata": {},
   "source": [
    "#### 1. Generar una lista de combinaciones de nombres y apellidos únicos para 18.300 participantes utilizando nombres y apellidos predeterminados."
   ]
  },
  {
   "cell_type": "code",
   "execution_count": 1,
   "metadata": {},
   "outputs": [],
   "source": [
    "# importar librerias\n",
    "import numpy as np\n",
    "import random\n",
    "import matplotlib.pyplot as plt"
   ]
  },
  {
   "cell_type": "code",
   "execution_count": 2,
   "metadata": {},
   "outputs": [
    {
     "data": {
      "text/plain": [
       "['Gabriela Gomez Hernandez',\n",
       " 'Sara Gomez Diaz',\n",
       " 'Sara Perez Diaz',\n",
       " 'Lucia Gonzalez Garcia',\n",
       " 'Gabriela Garcia Martinez',\n",
       " 'Andres Lopez Gonzalez',\n",
       " 'Manuel Perez Morales',\n",
       " 'Maria Garcia Morales',\n",
       " 'Maria Gonzalez Diaz',\n",
       " 'Gabriela Gomez Morales']"
      ]
     },
     "execution_count": 2,
     "metadata": {},
     "output_type": "execute_result"
    }
   ],
   "source": [
    "# lista de 10 nombres\n",
    "nombres = ['Andres', 'Maria', 'Manuel', 'Daniel', 'Sara', 'Cristian', 'Gabriela', 'Lucia', 'Fernanda', 'Jose']\n",
    "\n",
    "# lista de 10 apellidos\n",
    "apellidos = ['Perez', 'Gomez', 'Rodriguez', 'Garcia', 'Martinez', 'Lopez', 'Hernandez', 'Gonzalez', 'Diaz', 'Morales']\n",
    "\n",
    "# total de participantes\n",
    "tot_p = 18300\n",
    "\n",
    "# generar nombreas aleatorios\n",
    "participantes = [f'{random.choice(nombres)} {random.choice(apellidos)} {random.choice(apellidos)}' for _ in range(tot_p)]\n",
    "\n",
    "# mostrar primeros 10\n",
    "participantes[:10]"
   ]
  },
  {
   "cell_type": "markdown",
   "metadata": {},
   "source": [
    "#### 2. Genere dos números aleatorios entre 0 y 100 para cada participante (Los números siempre deben estar entre estos 2 valores) para el esfuerzo tome una distribución no uniforme (considere una campana de gauss o distribución normal) y para la suerte considere una distribución normal."
   ]
  },
  {
   "cell_type": "code",
   "execution_count": 3,
   "metadata": {},
   "outputs": [
    {
     "data": {
      "text/plain": [
       "18300"
      ]
     },
     "execution_count": 3,
     "metadata": {},
     "output_type": "execute_result"
    }
   ],
   "source": [
    "# generar valores aleatorios para Esfuerzo y Suerte\n",
    "\n",
    "# semilla para reproducibilidad de los datos\n",
    "np.random.seed(77)\n",
    "\n",
    "# generar datos de esfuerzo con distribucion normal (media=70, std=15)\n",
    "esfuerzo = np.random.normal(70,15,tot_p)\n",
    "esfuerzo = np.clip(esfuerzo, 0, 100)\n",
    "\n",
    "# verifiquemos la cantidad de numeros generados\n",
    "len(esfuerzo)"
   ]
  },
  {
   "cell_type": "code",
   "execution_count": 4,
   "metadata": {},
   "outputs": [
    {
     "data": {
      "text/plain": [
       "18300"
      ]
     },
     "execution_count": 4,
     "metadata": {},
     "output_type": "execute_result"
    }
   ],
   "source": [
    "# generamos valores de suerte con distribucion normal (media=50, std=10)\n",
    "suerte = np.random.normal(50,10, tot_p)\n",
    "suerte = np.clip(suerte, 0, 100)\n",
    "\n",
    "# verifiquemos la cantidad de numeros generados\n",
    "len(suerte)"
   ]
  }
 ],
 "metadata": {
  "kernelspec": {
   "display_name": "data",
   "language": "python",
   "name": "python3"
  },
  "language_info": {
   "codemirror_mode": {
    "name": "ipython",
    "version": 3
   },
   "file_extension": ".py",
   "mimetype": "text/x-python",
   "name": "python",
   "nbconvert_exporter": "python",
   "pygments_lexer": "ipython3",
   "version": "3.10.8"
  }
 },
 "nbformat": 4,
 "nbformat_minor": 2
}
