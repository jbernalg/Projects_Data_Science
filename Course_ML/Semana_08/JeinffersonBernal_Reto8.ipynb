{
 "cells": [
  {
   "cell_type": "markdown",
   "metadata": {},
   "source": [
    "# Reto 8: Éxito ¿esfuerzo o suerte?\n",
    "\n",
    "En la última corte de astronautas de la NASA (National Aeronautics and Space Administration) alrededor de 18.300 personas de comenzaron el proceso de selección para ser astronauta, sin embargo, solo 11 personas llegarían a serlo. Es común pensar e incluso escuchar que algunas de esas personas llegarán a esos cargos exclusivamente por su suerte, o por su desempeño. Para probar estas afirmaciones:"
   ]
  },
  {
   "cell_type": "markdown",
   "metadata": {},
   "source": [
    "#### 1. Generar una lista de combinaciones de nombres y apellidos únicos para 18.300 participantes utilizando nombres y apellidos predeterminados."
   ]
  },
  {
   "cell_type": "code",
   "execution_count": 1,
   "metadata": {},
   "outputs": [],
   "source": [
    "# importar librerias\n",
    "import numpy as np\n",
    "import random\n",
    "import matplotlib.pyplot as plt"
   ]
  },
  {
   "cell_type": "code",
   "execution_count": 2,
   "metadata": {},
   "outputs": [
    {
     "data": {
      "text/plain": [
       "['Gabriela Gomez Hernandez',\n",
       " 'Sara Gomez Diaz',\n",
       " 'Sara Perez Diaz',\n",
       " 'Lucia Gonzalez Garcia',\n",
       " 'Gabriela Garcia Martinez',\n",
       " 'Andres Lopez Gonzalez',\n",
       " 'Manuel Perez Morales',\n",
       " 'Maria Garcia Morales',\n",
       " 'Maria Gonzalez Diaz',\n",
       " 'Gabriela Gomez Morales']"
      ]
     },
     "execution_count": 2,
     "metadata": {},
     "output_type": "execute_result"
    }
   ],
   "source": [
    "# lista de 10 nombres\n",
    "nombres = ['Andres', 'Maria', 'Manuel', 'Daniel', 'Sara', 'Cristian', 'Gabriela', 'Lucia', 'Fernanda', 'Jose']\n",
    "\n",
    "# lista de 10 apellidos\n",
    "apellidos = ['Perez', 'Gomez', 'Rodriguez', 'Garcia', 'Martinez', 'Lopez', 'Hernandez', 'Gonzalez', 'Diaz', 'Morales']\n",
    "\n",
    "# total de participantes\n",
    "tot_p = 18300\n",
    "\n",
    "# generar nombreas aleatorios\n",
    "participantes = [f'{random.choice(nombres)} {random.choice(apellidos)} {random.choice(apellidos)}' for _ in range(tot_p)]\n",
    "\n",
    "# mostrar primeros 10\n",
    "participantes[:10]"
   ]
  },
  {
   "cell_type": "markdown",
   "metadata": {},
   "source": [
    "#### 2. Genere dos números aleatorios entre 0 y 100 para cada participante (Los números siempre deben estar entre estos 2 valores) para el esfuerzo tome una distribución no uniforme (considere una campana de gauss o distribución normal) y para la suerte considere una distribución normal."
   ]
  },
  {
   "cell_type": "code",
   "execution_count": 3,
   "metadata": {},
   "outputs": [
    {
     "data": {
      "text/plain": [
       "18300"
      ]
     },
     "execution_count": 3,
     "metadata": {},
     "output_type": "execute_result"
    }
   ],
   "source": [
    "# generar valores aleatorios para Esfuerzo y Suerte\n",
    "\n",
    "# semilla para reproducibilidad de los datos\n",
    "np.random.seed(77)\n",
    "\n",
    "# generar datos de esfuerzo con distribucion normal (media=70, std=15)\n",
    "esfuerzo = np.random.normal(70,15,tot_p)\n",
    "esfuerzo = np.clip(esfuerzo, 0, 100)\n",
    "\n",
    "# verifiquemos la cantidad de numeros generados\n",
    "len(esfuerzo)"
   ]
  },
  {
   "cell_type": "code",
   "execution_count": 4,
   "metadata": {},
   "outputs": [
    {
     "data": {
      "text/plain": [
       "18300"
      ]
     },
     "execution_count": 4,
     "metadata": {},
     "output_type": "execute_result"
    }
   ],
   "source": [
    "# generamos valores de suerte con distribucion normal (media=50, std=10)\n",
    "suerte = np.random.normal(50,10, tot_p)\n",
    "suerte = np.clip(suerte, 0, 100)\n",
    "\n",
    "# verifiquemos la cantidad de numeros generados\n",
    "len(suerte)"
   ]
  },
  {
   "cell_type": "markdown",
   "metadata": {},
   "source": [
    "#### 3. Pese las contribuciones de los participantes en donde el Éxito de un participante será:\n",
    "\n",
    "#### $$Exito=0.9*Esfuerzo+0.1*Suerte$$"
   ]
  },
  {
   "cell_type": "code",
   "execution_count": 5,
   "metadata": {},
   "outputs": [
    {
     "data": {
      "text/plain": [
       "array([70.09066113, 77.74694376, 61.27115519, 74.79315249, 75.44254879])"
      ]
     },
     "execution_count": 5,
     "metadata": {},
     "output_type": "execute_result"
    }
   ],
   "source": [
    "exito = 0.9 * esfuerzo + 0.1 * suerte\n",
    "# mostrar los 5 primeros valores\n",
    "exito[:5]"
   ]
  },
  {
   "cell_type": "markdown",
   "metadata": {},
   "source": [
    "#### 4. Determine los 11 primeros participantes que serán escogidos para ser astronautas. A partir de esto qué se puede decir de su distribución de la suerte ¿cuál es la media de la suerte que tienen?"
   ]
  },
  {
   "cell_type": "code",
   "execution_count": 8,
   "metadata": {},
   "outputs": [
    {
     "name": "stdout",
     "output_type": "stream",
     "text": [
      "Valores de Exito de los 11 participantes:  [96.99663414 97.02681326 97.12243327 97.13997309 97.19730381 97.31253438\n",
      " 97.41441204 97.45040789 97.54058292 97.80363184 97.94332416]\n",
      "\n",
      "Valores de suerte de los 11 con mayor exito:  [69.96634141 70.26813261 71.22433269 71.39973086 71.97303808 73.12534379\n",
      " 74.14412043 78.76620702 75.40582923 78.0363184  79.43324163]\n"
     ]
    }
   ],
   "source": [
    "# indice de los 11 con mayor exito\n",
    "index_to_11 = np.argsort(exito)[-11:]\n",
    "print('Valores de Exito de los 11 participantes: ',exito[index_to_11])\n",
    "print('')\n",
    "\n",
    "# suerte de lo 11 con mayor exito\n",
    "suerte_top_11 = suerte[index_to_11]\n",
    "print('Valores de suerte de los 11 con mayor exito: ', suerte_top_11)"
   ]
  },
  {
   "cell_type": "code",
   "execution_count": 9,
   "metadata": {},
   "outputs": [
    {
     "name": "stdout",
     "output_type": "stream",
     "text": [
      "La media de la suerte de los 11 seleccionados es:  73.97660328646106\n"
     ]
    }
   ],
   "source": [
    "# calculo de la media de la suerte los 11 seleccionados\n",
    "media_suerte_11 = np.mean(suerte_top_11)\n",
    "print('La media de la suerte de los 11 seleccionados es: ',media_suerte_11)"
   ]
  },
  {
   "cell_type": "markdown",
   "metadata": {},
   "source": [
    "#### 5. Repita este mismo proceso (utilice los mismos nombres que ya creó) tantas veces como sea posible (al menos 100 veces), incluso puede cambiar la distribución de esfuerzo en tipo y media. Tomando la media a través de las simulaciones realizadas de las medias de la suerte de cada uno de los 11 participantes, qué se puede inferir sobre la influencia de la suerte en el éxito."
   ]
  },
  {
   "cell_type": "code",
   "execution_count": 10,
   "metadata": {},
   "outputs": [
    {
     "data": {
      "text/plain": [
       "[69.72938022497515,\n",
       " 72.62835935412717,\n",
       " 73.98441433936078,\n",
       " 73.58906280202712,\n",
       " 71.54647664728698,\n",
       " 77.46410133755717,\n",
       " 76.47692793462586,\n",
       " 73.12309527148909,\n",
       " 74.30483800520709,\n",
       " 71.74254597896028,\n",
       " 72.61325599289152,\n",
       " 73.94453056059723,\n",
       " 71.16958033159985,\n",
       " 72.61299050127495,\n",
       " 77.33768286542058,\n",
       " 71.00374616537013,\n",
       " 74.23120590004238,\n",
       " 73.14001771115085,\n",
       " 72.3902848163169,\n",
       " 74.54149723463613,\n",
       " 72.18506996648125,\n",
       " 72.81638351249723,\n",
       " 73.93901334332368,\n",
       " 74.35031742726053,\n",
       " 72.93361837884277,\n",
       " 74.453574920979,\n",
       " 74.81158348733986,\n",
       " 71.29087970104501,\n",
       " 73.82971088458837,\n",
       " 73.03072299221009,\n",
       " 72.2968826580945,\n",
       " 72.08985121243671,\n",
       " 71.92643090190498,\n",
       " 73.39366520851958,\n",
       " 70.46546514787602,\n",
       " 71.25204513932286,\n",
       " 72.22639122457325,\n",
       " 75.31626068526496,\n",
       " 75.3322982448888,\n",
       " 76.72415103925776,\n",
       " 71.87609594942654,\n",
       " 76.20971102250331,\n",
       " 71.53442214799146,\n",
       " 74.20779440454258,\n",
       " 73.32812749667106,\n",
       " 72.4610063600301,\n",
       " 72.57320043963178,\n",
       " 76.2063806022717,\n",
       " 73.2319685818804,\n",
       " 75.44076379703398,\n",
       " 73.71754288719454,\n",
       " 73.37460692060439,\n",
       " 76.86929067278999,\n",
       " 72.15254749186457,\n",
       " 75.87218071304389,\n",
       " 76.59687016323882,\n",
       " 71.66160875811606,\n",
       " 71.41467754238515,\n",
       " 76.03693399704422,\n",
       " 75.89615552269099,\n",
       " 70.73939878190613,\n",
       " 71.79705851685362,\n",
       " 75.65015066878301,\n",
       " 74.13164855316553,\n",
       " 73.81234491526483,\n",
       " 71.8771420649244,\n",
       " 71.65632410996494,\n",
       " 72.7455087029436,\n",
       " 71.88561308821136,\n",
       " 72.58301747022146,\n",
       " 72.81096800453595,\n",
       " 74.2744186008172,\n",
       " 72.80891455158991,\n",
       " 74.39681597767881,\n",
       " 73.82025373776203,\n",
       " 73.4302431481233,\n",
       " 74.46533919165674,\n",
       " 72.68262540777728,\n",
       " 72.17143345179801,\n",
       " 72.25672685603807,\n",
       " 71.5209892750849,\n",
       " 72.14435783044742,\n",
       " 70.74311804296553,\n",
       " 71.67970867273571,\n",
       " 72.77955059137854,\n",
       " 71.84455075824255,\n",
       " 70.46730077409106,\n",
       " 71.95927337057377,\n",
       " 73.2482225675611,\n",
       " 74.0655408346633,\n",
       " 73.14813641280718,\n",
       " 74.38966041947475,\n",
       " 77.5893448035989,\n",
       " 72.42875213207115,\n",
       " 76.73232958112011,\n",
       " 72.49956628745313,\n",
       " 75.71038252870795,\n",
       " 73.93391925239743,\n",
       " 74.39718308421776,\n",
       " 72.62100730273181]"
      ]
     },
     "execution_count": 10,
     "metadata": {},
     "output_type": "execute_result"
    }
   ],
   "source": [
    "# cantidad sumulaciones\n",
    "simulaciones = 100\n",
    "# lista para almacenar la media de la suerte de cada simulacion\n",
    "medias_suerte_simulaciones = []\n",
    "\n",
    "for _ in range(simulaciones):\n",
    "\n",
    "    # Cambiar ligeramente la distribución de esfuerzo en cada simulación\n",
    "    esfuerzo_sim = np.random.normal(70, 15, tot_p)\n",
    "    esfuerzo_sim = np.clip(esfuerzo_sim, 0, 100)\n",
    "    \n",
    "    # Generar nueva suerte\n",
    "    suerte_sim = np.random.normal(50, 10, tot_p)\n",
    "    suerte_sim = np.clip(suerte_sim, 0, 100)\n",
    "    \n",
    "    # Calcular éxito para la simulación\n",
    "    exito_sim = 0.9 * esfuerzo_sim + 0.1 * suerte_sim\n",
    "    \n",
    "    # Determinar los 11 mejores de cada simulación\n",
    "    indices_top_11_sim = np.argsort(exito_sim)[-11:]\n",
    "    top_11_suerte_sim = suerte_sim[indices_top_11_sim]\n",
    "    \n",
    "    # Calcular la media de la suerte de los 11 seleccionados en la simulación\n",
    "    medias_suerte_simulaciones.append(np.mean(top_11_suerte_sim))\n",
    "\n",
    "# mostrar valores de media de la suerte\n",
    "medias_suerte_simulaciones"
   ]
  },
  {
   "cell_type": "markdown",
   "metadata": {},
   "source": [
    "#### 6. Haga un histograma de las medias de los 11 escogidos a lo largo de sus simulaciones."
   ]
  },
  {
   "cell_type": "code",
   "execution_count": 11,
   "metadata": {},
   "outputs": [
    {
     "data": {
      "image/png": "[encoded data removed]",
      "text/plain": [
       "<Figure size 432x288 with 1 Axes>"
      ]
     },
     "metadata": {
      "needs_background": "light"
     },
     "output_type": "display_data"
    }
   ],
   "source": [
    "plt.hist(medias_suerte_simulaciones, bins=15, color='skyblue', edgecolor='black')\n",
    "plt.title('Distribución de las Medias de la Suerte de los 11 Mejores')\n",
    "plt.xlabel('Media de la Suerte')\n",
    "plt.ylabel('Frecuencia')\n",
    "plt.show()"
   ]
  },
  {
   "cell_type": "markdown",
   "metadata": {},
   "source": [
    "#### Conclusiones"
   ]
  },
  {
   "cell_type": "markdown",
   "metadata": {},
   "source": [
    "Al observar los resultados graficados de las simulaciones, notamos cómo la distribución de la suerte influyen en el éxito de los participantes seleccionados. Aunque la contribución del esfuerzo es mucho mayor (la fórmula indica que es del 90%), la suerte tiene un papel importante en determinar los resultados finales debido a su variabilidad en cada simulación."
   ]
  }
 ],
 "metadata": {
  "kernelspec": {
   "display_name": "data",
   "language": "python",
   "name": "python3"
  },
  "language_info": {
   "codemirror_mode": {
    "name": "ipython",
    "version": 3
   },
   "file_extension": ".py",
   "mimetype": "text/x-python",
   "name": "python",
   "nbconvert_exporter": "python",
   "pygments_lexer": "ipython3",
   "version": "3.10.8"
  }
 },
 "nbformat": 4,
 "nbformat_minor": 2
}
