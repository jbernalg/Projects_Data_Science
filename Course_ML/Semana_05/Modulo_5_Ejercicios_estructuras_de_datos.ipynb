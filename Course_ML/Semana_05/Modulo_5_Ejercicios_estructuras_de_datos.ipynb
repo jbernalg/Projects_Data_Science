{
  "cells": [
    {
      "cell_type": "markdown",
      "metadata": {
        "id": "6wo5xvYWyYF7"
      },
      "source": [
        "# Ejercicios Tuplas\n"
      ]
    },
    {
      "cell_type": "markdown",
      "metadata": {
        "id": "O9ArbYbVPw4B"
      },
      "source": [
        "## Ejercicio 1\n",
        "Realize un metodo que imprima una tupla.\n"
      ]
    },
    {
      "cell_type": "code",
      "execution_count": 1,
      "metadata": {
        "id": "8vYkuOhAQEXY"
      },
      "outputs": [
        {
          "name": "stdout",
          "output_type": "stream",
          "text": [
            "('A', True, False, 0, 0.5)\n"
          ]
        }
      ],
      "source": [
        "A=(\"A\",True,False,0,0.5)\n",
        "#Inserte Codigo\n",
        "print(A)"
      ]
    },
    {
      "cell_type": "markdown",
      "metadata": {
        "id": "1QdQ2c0NOFop"
      },
      "source": [
        "## Ejercicio 2\n",
        " Diseñe un algoritmo que permita determinar si dos tuplas A y B son iguales implementando el metodo index."
      ]
    },
    {
      "cell_type": "code",
      "execution_count": 6,
      "metadata": {
        "id": "vFB1Lo-yOLYM"
      },
      "outputs": [
        {
          "name": "stdout",
          "output_type": "stream",
          "text": [
            "Las tuplas no son iguales\n"
          ]
        }
      ],
      "source": [
        "A=(\"A\",True,False,0,0.5)\n",
        "B=(\"A\",False,True,0.5,0)\n",
        "\n",
        "#Inserte codigo\n",
        "def tuplas_iguales(A, B):\n",
        "\n",
        "    # verificar si las tuplas tienen el mismo size\n",
        "    if len(A) != len(B):\n",
        "        return False\n",
        "    \n",
        "    # comparar elementos de cada tupla\n",
        "    for i in range(len(A)):\n",
        "        try:\n",
        "\n",
        "            if A[i] != B[B.index(A[i])]:\n",
        "                return False\n",
        "            \n",
        "        except ValueError:\n",
        "            return False\n",
        "    \n",
        "    return True\n",
        "\n",
        "prueba = tuplas_iguales\n",
        "\n",
        "if prueba == True:\n",
        "    print('Ambas tuplas son iguales')\n",
        "else:\n",
        "    print('Las tuplas no son iguales')\n"
      ]
    },
    {
      "cell_type": "markdown",
      "metadata": {
        "id": "65Wr-_dIOaI5"
      },
      "source": [
        "###Ejercicio 3\n",
        "\n",
        "Elabore un algoritmo reciba un tipo de dato como parámetro y permita filtar en una tupla A todos los elementos que coincidan con el tipo de dato enviado, la respuesta debe ser entregada como una tupla."
      ]
    },
    {
      "cell_type": "code",
      "execution_count": null,
      "metadata": {
        "id": "Vrq_F-7uOu2C"
      },
      "outputs": [],
      "source": [
        "A=(\"A\",True,False,0,0.5)\n",
        "parametro=input(\"Ingrese dato\")\n",
        "#Inserte Codigo"
      ]
    },
    {
      "cell_type": "markdown",
      "metadata": {
        "id": "lFC5S5qpPFQi"
      },
      "source": [
        "###Ejercicio 4\n",
        "Elabore un algoritmo que invierta una tupla:\n",
        "  <br>\n",
        "     4.1) Elabore el algoritmo usando  la clase List\n",
        "<br>\n",
        "4.2) Elabore el algoritmo **sin** usar la clase List"
      ]
    },
    {
      "cell_type": "code",
      "execution_count": null,
      "metadata": {
        "id": "RwnYwTnFPkb4"
      },
      "outputs": [],
      "source": [
        "#4.1\n",
        "A=(\"A\",True,False,0,0.5)\n",
        "#Inserte Codigo"
      ]
    },
    {
      "cell_type": "code",
      "execution_count": null,
      "metadata": {
        "id": "ask2svlEPsE4"
      },
      "outputs": [],
      "source": [
        "#4.2\n",
        "A=(\"A\",True,False,0,0.5)\n",
        "#Inserte Codigo"
      ]
    },
    {
      "cell_type": "markdown",
      "metadata": {
        "id": "GefTpWa6QJdo"
      },
      "source": [
        "###Ejercicio 5\n",
        "Un almacen de zapatos desea almacenar sus modelos de zapatos en un catalogo, para esto cada modelo de zapato dispone un nombre, una id, un precio, una cantidad en stock y un booleano que indica si el modelo se encuentra en distribucion.\n",
        "en esta prmiera parte comple el programa para guardar el modelo en una lista llamada catalogo, los zapatos deben modelarse por medio de tuplas."
      ]
    },
    {
      "cell_type": "markdown",
      "metadata": {
        "id": "Up4aiHRv2x_n"
      },
      "source": [
        "##Ejercicios Diccionarios\n",
        "\n"
      ]
    },
    {
      "cell_type": "markdown",
      "metadata": {
        "id": "3JmvJ6blzQlM"
      },
      "source": [
        "###Ejercicio 1\n",
        "Imprima el diccionario.\n",
        "\n"
      ]
    },
    {
      "cell_type": "code",
      "execution_count": null,
      "metadata": {
        "id": "pqGdZtRwzfy9"
      },
      "outputs": [],
      "source": [
        "carro =\t{\n",
        "  \"marca\": \"Ford\",\n",
        "  \"modelo\": \"Mustang\",\n",
        "  \"año\": 1964\n",
        "}\n",
        "#Completar"
      ]
    },
    {
      "cell_type": "markdown",
      "metadata": {
        "id": "gcaH_RF70Pj3"
      },
      "source": [
        "###Ejercicio 2\n",
        "Cambie el valor del \"año\" de 1964 a 2020."
      ]
    },
    {
      "cell_type": "code",
      "execution_count": null,
      "metadata": {
        "id": "xfJ_Xj3C0oWN"
      },
      "outputs": [],
      "source": [
        "carro =\t{\n",
        "  \"marca\": \"Ford\",\n",
        "  \"modelo\": \"Mustang\",\n",
        "  \"año\": 1964\n",
        "}\n",
        "# completar"
      ]
    },
    {
      "cell_type": "markdown",
      "metadata": {
        "id": "BhjFKbEp1GKs"
      },
      "source": [
        "###Ejercicio 3\n",
        "Agregue el par clave / valor \"color\": \"rojo\" al diccionario del automóvil."
      ]
    },
    {
      "cell_type": "code",
      "execution_count": null,
      "metadata": {
        "id": "TBdvm_vL1fW-"
      },
      "outputs": [],
      "source": [
        "carro =\t{\n",
        "  \"marca\": \"Ford\",\n",
        "  \"modelo\": \"Mustang\",\n",
        "  \"año\": 1964\n",
        "}\n",
        "# completar"
      ]
    },
    {
      "cell_type": "markdown",
      "metadata": {
        "id": "1fE3G3Le1u9B"
      },
      "source": [
        "###Ejercicio 4\n",
        "Utilice el método **pop()** para eliminar \"modelo\" del diccionario del automóvil."
      ]
    },
    {
      "cell_type": "code",
      "execution_count": null,
      "metadata": {
        "id": "oDAVosU-15pb"
      },
      "outputs": [],
      "source": [
        "carro =\t{\n",
        "  \"marca\": \"Ford\",\n",
        "  \"modelo\": \"Mustang\",\n",
        "  \"año\": 1964\n",
        "}\n",
        "# completar"
      ]
    },
    {
      "cell_type": "markdown",
      "metadata": {
        "id": "gQAVVkKH2B8k"
      },
      "source": [
        "###Ejercicio 5\n",
        "Utilice el método claro para vaciar el diccionario del automóvil."
      ]
    },
    {
      "cell_type": "code",
      "execution_count": null,
      "metadata": {
        "id": "d-jNXCkJ2F0R"
      },
      "outputs": [],
      "source": [
        "carro =\t{\n",
        "  \"marca\": \"Ford\",\n",
        "  \"modelo\": \"Mustang\",\n",
        "  \"año\": 1964\n",
        "}\n",
        "# completar"
      ]
    },
    {
      "cell_type": "markdown",
      "metadata": {
        "id": "zjQkx4rz8E2N"
      },
      "source": [
        "###Ejercicio 6\n",
        "Escribir un programa que guarde en una variable el diccionario `{'Peso':'$', 'Dolar':'$', 'Yen':'¥'}`, pregunte al usuario por una divisa y muestre su símbolo o un mensaje de aviso si la divisa no está en el diccionario."
      ]
    },
    {
      "cell_type": "markdown",
      "metadata": {
        "id": "FL-s1E6H9ndC"
      },
      "source": [
        "### Ejercicio 7\n",
        "\n",
        "Escribir un programa que pregunte al usuario su nombre, edad, dirección y teléfono y lo guarde en un diccionario. Despúes debe mostrar por pantalla el mensaje `<nombre> tiene <edad> años, vive en <dirección> y su número de teléfono es <teléfono>`."
      ]
    },
    {
      "cell_type": "markdown",
      "metadata": {
        "id": "baQTrimX9_kh"
      },
      "source": [
        "### Ejercicio 8\n",
        "\n",
        "Escribir un programa que guarde en un diccionario los precios de las frutas de la tabla, pregunte al usuario por una fruta, un número de kilos y muestre por pantalla el precio de ese número de kilos de fruta. Si la fruta no está en el diccionario debe mostrar un mensaje informando de ello.\n",
        "\n",
        "| Fruta | Precio (Kg)|\n",
        "|:-|:-:|\n",
        "|Aguacate | 5.000 |\n",
        "|Piña | 3.500|\n",
        "|Maracuya| 3.800|\n",
        "|Papaya | 3.300|"
      ]
    },
    {
      "cell_type": "markdown",
      "metadata": {
        "id": "juYC1Qzm-1h7"
      },
      "source": [
        "###Ejercicio 9\n",
        "\n",
        "Escribir un programa que almacene el diccionario con los créditos de las asignaturas de un curso `{'Matemáticas': 6, 'Física': 4, 'Química': 5}` y después muestre por pantalla los créditos de cada asignatura en el formato `<asignatura> tiene <créditos> créditos`, donde `<asignatura>` es cada una de las asignaturas del curso, y `<créditos>` son sus créditos. Al final debe mostrar también el número total de créditos del curso."
      ]
    },
    {
      "cell_type": "markdown",
      "metadata": {
        "id": "l8AOIj62_GYn"
      },
      "source": [
        "###Ejercicio 10\n",
        "\n",
        "Escribir un programa que gestione las facturas pendientes de cobro de una empresa. Las facturas se almacenarán en un diccionario donde la clave de cada factura será el número de factura y el valor el coste de la factura. El programa debe preguntar al usuario si quiere añadir una nueva factura, pagar una existente o terminar. Si desea añadir una nueva factura se preguntará por el número de factura y su coste y se añadirá al diccionario. Si se desea pagar una factura se preguntará por el número de factura y se eliminará del diccionario. Después de cada operación el programa debe mostrar por pantalla la cantidad cobrada hasta el momento y la cantidad pendiente de cobro."
      ]
    },
    {
      "cell_type": "code",
      "execution_count": null,
      "metadata": {
        "id": "YI23XxYo_I3J"
      },
      "outputs": [],
      "source": [
        "facturas = {}\n",
        "cobrado = 0\n",
        "pendiente = 0\n",
        "more = ''\n",
        "while more != 'T':\n",
        "    if more == 'A':\n",
        "        clave = input('Introduce el número de la factura: ')\n",
        "        coste = float() #completar\n",
        "        facturas[clave] = #completar\n",
        "        pendiente += coste\n",
        "    if more == 'P':\n",
        "        clave = input('Introduce el número de la factura a pagar: ')\n",
        "        coste = facturas.pop() #completar\n",
        "        cobrado += coste\n",
        "        pendiente -= coste\n",
        "    print('Recaudado:', cobrado)\n",
        "    print('Pendiente de cobro: ', pendiente)\n",
        "    more = input('¿Quieres añadir una nueva factura (A), pagarla (P) o terminar (T)? ')"
      ]
    },
    {
      "cell_type": "markdown",
      "metadata": {
        "id": "mhj_tOt-25zl"
      },
      "source": [
        "###Ejercicio 11\n",
        "Una Academia de Inglés quiere realizar el registro de profesores que entran a van a sus instalaciones a dictar las clases y te pidió realizar programa de Python que pida los nombres de los empleados y respectiva identificación, cada registro debe ir en un diccionario. Por ultimo debe imprimir los nombres y la identificación de todos los profesores registrados. Sugerencia: usar diccionarios anidados para guardar los nombres de todos los empleados"
      ]
    },
    {
      "cell_type": "code",
      "execution_count": null,
      "metadata": {
        "id": "nDPgxWdg3jn4"
      },
      "outputs": [],
      "source": [
        "profesores = {}\n",
        "iterador = 1\n",
        "profesor = {}  #Temp\n",
        "salir1 = False\n",
        "salir2 = False\n",
        "while salir1 != True:\n",
        "    while salir2 != True:\n",
        "        n =  # completar\n",
        "        i = 0\n",
        "        try:\n",
        "            i = int() # completar\n",
        "        except:\n",
        "            print(\"Solo números intente de nuevo\")\n",
        "            break\n",
        "        profesor[\"Nombre\"] = # completar\n",
        "        profesor[\"Cargo\"] = # completar\n",
        "        salir2 = True\n",
        "    salir2 = False\n",
        "    profesores[\"profesor\" + str(iterador)] = # completar.Hacer una copia de el diccionario \"profesor\"\n",
        "    iterador += 1\n",
        "    x = input(\"Cerrar ingreso de personal? responda S/N\")\n",
        "    if x == \"S\" or x == \"s\":\n",
        "        salir1 = True\n",
        "        print(profesores)"
      ]
    },
    {
      "cell_type": "markdown",
      "metadata": {
        "id": "OVwtI5xD6IVY"
      },
      "source": [
        "##Taller tuplas, listas y sets"
      ]
    },
    {
      "cell_type": "markdown",
      "metadata": {
        "id": "uhIpTUB24Gq6"
      },
      "source": [
        "Elabore un programa que sume todos los números dentro de una lista.\n",
        "* Lista: [1,2,3,4,5]\n",
        "* Output: La suma de los números en el vector es 15\n",
        "\n",
        "Elabore un programa que cuente cuántos elementos tiene una lista sin usar la función len().\n",
        "* Lista: [1,2,3,4,5]\n",
        "* Output: El vector tiene 5 elementos\n",
        "\n",
        "Realice un programa para multiplicar todos los elementos de una lista.\n",
        "* Lista: [1,2,3,4,5]\n",
        "* Output: La multiplicación de los números en el vector es 120\n",
        "\n",
        "Escriba un programa para obtener el mayor número en una lista.\n",
        "* Lista: [1,5,3,6,4]\n",
        "* Output: 5\n",
        "\n",
        "Escriba un programa para obtener el menor número en una lista.\n",
        "* Lista: [2,5,1,6,4]\n",
        "* Output: 1\n",
        "\n",
        "Realice un programa que elimine los números repetidos dentro de una lista.\n",
        "* Lista: [1,5,1,6,5]\n",
        "* Output: [1,5,6]\n",
        "\n",
        "Escriba un programa que duplique una lista.\n",
        "\n",
        "Escriba un programa que invierta el orden de los elementos de una lista.\n",
        "* Lista: [1,2,3,4,5]\n",
        "* Output: [5,4,3,2,1]\n",
        "\n",
        "Escriba un programa que compare dos listas y verifique si tienen algún elemento en común.\n",
        "* Listas: [1,3,5] [2,4,5]\n",
        "* Output: Los vectores tienen el elemento 5 en común\n",
        "\n",
        "Elabore un programa que agregue los elementos deseados a una tupla.\n",
        "* Tupla: (1,2,3)\n",
        "* Input: Ingrese un elemento para agregar a la tupla: 4\n",
        "* Output: (1,2,3,4)\n",
        "\n",
        "Elabore un programa de Python que convierta el contenido de una tupla en una sola cadena de texto.\n",
        "* Tupla: (‘H’,’o’,’l’,’a’)\n",
        "* Output: Hola\n",
        "\n",
        "Realice un programa que cuente cuántos elementos numéricos tiene una tupla.\n",
        "* Tupla: (1,’h’,’t’,2)\n",
        "* Output: La tupla tiene 2 elementos numéricos\n",
        "\n",
        "Realice un programa que cuente cuántos elementos tipo cadena de texto tiene una tupla.\n",
        "* Tupla: (1,’h’,’t’,2)\n",
        "* Output: La tupla tiene 2 elementos tipo cadena de texto\n",
        "\n",
        "Escriba un programa que multiplique solo los elementos numéricos de una tupla\n",
        "* Tupla: (1,’h’,’t’,2,3)\n",
        "* Output: El resultado de la multiplicación es 6\n",
        "\n",
        "Elabore un programa de Python que convierta el contenido numérico de una tupla en un solo número.\n",
        "* Tupla: (1,2,3,4)\n",
        "* Output: 1234\n",
        "\n",
        "Elabore un programa de Python que tenga un set con los elementos Audi, BMW, Mercedez Benz, Volvo y Volkswagen. Después pida al usuario que ingrese una marca de carro para comprobar si está en el set e imprima una respuesta positiva o negativa.\n",
        "* Set: {audi, bmw, mercedez benz, volvo,volkswagen}\n",
        "* Input: porsche\n",
        "* Output: El carro (está/no está) en el set.\n",
        "\n",
        "Elabore un programa de Python que tenga un set con los elementos Audi, BMW, Mercedez Benz, Volvo y Volkswagen. Después agregue un elemento al set, este elemento debe ser pedido por consola e imprima el set resultante.\n",
        "* Set: {audi, bmw, mercedez benz, volvo,volkswagen}\n",
        "* Input: porsche\n",
        "* Output: {audi, bmw, mercedez benz, volvo,volkswagen, porsche}\n",
        "\n",
        "Elabore un programa de Python que tenga un set con los elementos Audi, BMW, Mercedez Benz, Volvo y Volkswagen. Después pida al usuario que ingrese una marca de carro para sacarla del conjunto, debe probar con el método discard() para no generar un error, por último imprima el set.\n",
        "* Set: {audi, bmw, mercedez benz, volvo,volkswagen}\n",
        "* Input: porsche\n",
        "* Output: {audi, bmw, mercedez benz, volvo,volkswagen}\n",
        "* Input: audi\n",
        "* Output: {bmw, mercedez benz, volvo,volkswagen}\n",
        "\n"
      ]
    },
    {
      "cell_type": "markdown",
      "metadata": {
        "id": "N49T2ahInIk-"
      },
      "source": [
        "# Ejercicio Definitivo\n",
        "\n"
      ]
    },
    {
      "cell_type": "markdown",
      "metadata": {
        "id": "vS7FRU1XDebU"
      },
      "source": [
        "Sofía decide hacer un viaje en una larga carretera recta. En esta carretera hay seis pueblos y Sofía calcula la distancia en metros que hay entre dos pueblos adyacentes. Por ejemplo:\n",
        "\n",
        "\n",
        "* La distancia entre el pueblo 1 y el pueblo 2 es 3;\n",
        "* la distancia entre el pueblo 2 y el pueblo 3 es 10;\n",
        "* la distancia entre el pueblo 3 y el pueblo 4 es 12;\n",
        "* la distancia entre el pueblo 4 y el pueblo 5 es 5; y\n",
        "* la distancia entre el pueblo 5 y el pueblo 6 es 3.\n",
        "\n",
        "Sin embargo, Sofía quisiera una información más detallada de estas distancias, por lo que te pide que elabores un programa que dé un informe detallado de las distancia de un pueblo con cada uno de los otros pueblos. Por ejemplo, si fuera un informe del pueblo 1, sería:\n",
        "\n",
        "* 0, ya que la distancia del pueblo 1 al pueblo 1 es 0\n",
        "* 3, ya que la distancia entre el pueblo 1 y el pueblo 2 es 3\n",
        "* 13, ya que la distancia entre el pueblo 1 y el pueblo 3 es 3 + 10 = 13\n",
        "* 25, ya que la distancia entre el pueblo 1 y el pueblo 4 es 3 + 10 + 12 = 25\n",
        "* 30, ya que la distancia entre el pueblo 1 y el pueblo 5 es 3 + 10 + 12 + 5 = 30.\n",
        "* 33, ya que la distancia entre el pueblo 1 y el pueblo 6 es 3 + 10 + 12 + 5 + 3 = 33.\n",
        "\n",
        "El programa debe imprimir cada distancia de la siguiente manera:\n",
        "\n",
        "* Si la distancia entre el pueblo 1 y el pueblo 4 es 30, se debería imprimir en una línea:\n",
        "\n",
        ">`1 <-> 4: 30`\n",
        "\n",
        "Elabore el programa, teniendo en cuenta las siguientes distancias que calculó Sofía:\n",
        "\n",
        "* La distancia entre el pueblo 1 y el pueblo 2 es 11;\n",
        "* la distancia entre el pueblo 2 y el pueblo 3 es 9;\n",
        "* la distancia entre el pueblo 3 y el pueblo 4 es 30;\n",
        "* la distancia entre el pueblo 4 y el pueblo 5 es 22; y\n",
        "* la distancia entre el pueblo 5 y el pueblo 6 es 7."
      ]
    },
    {
      "cell_type": "code",
      "execution_count": null,
      "metadata": {
        "colab": {
          "base_uri": "https://localhost:8080/"
        },
        "id": "vMl1c5e4qcea",
        "outputId": "7f842a9f-75a8-4c70-c0b6-7ccf02d6a51d"
      },
      "outputs": [
        {
          "name": "stdout",
          "output_type": "stream",
          "text": [
            " 1 <-> 1: 0\n",
            " 1 <-> 2: 3\n",
            " 1 <-> 3: 13\n",
            " 1 <-> 4: 25\n",
            " 1 <-> 5: 30\n",
            " 1 <-> 6: 33\n",
            " 2 <-> 1: 3\n",
            " 2 <-> 2: 0\n",
            " 2 <-> 3: 10\n",
            " 2 <-> 4: 22\n",
            " 2 <-> 5: 27\n",
            " 2 <-> 6: 30\n",
            " 3 <-> 1: 13\n",
            " 3 <-> 2: 10\n",
            " 3 <-> 3: 0\n",
            " 3 <-> 4: 12\n",
            " 3 <-> 5: 17\n",
            " 3 <-> 6: 20\n",
            " 4 <-> 1: 25\n",
            " 4 <-> 2: 22\n",
            " 4 <-> 3: 12\n",
            " 4 <-> 4: 0\n",
            " 4 <-> 5: 5\n",
            " 4 <-> 6: 8\n",
            " 5 <-> 1: 30\n",
            " 5 <-> 2: 27\n",
            " 5 <-> 3: 17\n",
            " 5 <-> 4: 5\n",
            " 5 <-> 5: 0\n",
            " 5 <-> 6: 3\n"
          ]
        }
      ],
      "source": [
        "#@title Solución\n",
        "distancias = [3, 10, 12, 5, 3]\n",
        "for x in range(len(distancias)):\n",
        "  for y in range(len(distancias) + 1):\n",
        "    if y >= x:\n",
        "      print(f' {x+1} <-> {y+1}: {sum(distancias[x:y])}')\n",
        "    else:\n",
        "      print(f' {x+1} <-> {y+1}: {sum(distancias[y:x])}')\n"
      ]
    }
  ],
  "metadata": {
    "colab": {
      "provenance": []
    },
    "kernelspec": {
      "display_name": "Python 3",
      "name": "python3"
    },
    "language_info": {
      "codemirror_mode": {
        "name": "ipython",
        "version": 3
      },
      "file_extension": ".py",
      "mimetype": "text/x-python",
      "name": "python",
      "nbconvert_exporter": "python",
      "pygments_lexer": "ipython3",
      "version": "3.8.10"
    }
  },
  "nbformat": 4,
  "nbformat_minor": 0
}
