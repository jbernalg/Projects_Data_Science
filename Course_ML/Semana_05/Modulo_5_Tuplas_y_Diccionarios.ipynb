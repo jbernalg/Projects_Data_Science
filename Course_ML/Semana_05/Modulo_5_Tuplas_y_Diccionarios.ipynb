{
  "cells": [
    {
      "cell_type": "markdown",
      "metadata": {
        "id": "5Hq35UX0dB14"
      },
      "source": [
        "# Tuplas\n"
      ]
    },
    {
      "cell_type": "markdown",
      "metadata": {
        "id": "QwkB1xttdt6P"
      },
      "source": [
        "Son una de los cuatro tipos de datos ya construidos en Python, tiene similitud con el concepto de vector o arreglo definido anteriormente, la diferencia entre estos es que las tuplas **no pueden ser cambiadas.**\n",
        "\n"
      ]
    },
    {
      "cell_type": "markdown",
      "metadata": {
        "id": "LBSsnZOsfiER"
      },
      "source": [
        "## Declaracion\n",
        "Para  declarar una tupla se usan paréntesis, dentro de estos debe haber al menos un dato con unan coma seguida de este, en caso de no agregar la coma Python interpretara la variable como el dato guardado y no como una tupla."
      ]
    },
    {
      "cell_type": "code",
      "execution_count": 2,
      "metadata": {
        "colab": {
          "base_uri": "https://localhost:8080/"
        },
        "id": "x0hGVYBneg7w",
        "outputId": "3f17d4ff-794e-48dc-c312-8a81088a45be"
      },
      "outputs": [
        {
          "name": "stdout",
          "output_type": "stream",
          "text": [
            "<class 'tuple'>\n",
            "<class 'str'>\n"
          ]
        }
      ],
      "source": [
        "tupla1=(\"Esto es una tupla\",)\n",
        "tupla2=(\"Esto no es una tupla\")\n",
        "print(type(tupla1))\n",
        "print(type(tupla2))\n"
      ]
    },
    {
      "cell_type": "markdown",
      "metadata": {
        "id": "MNOW6mgdgoE5"
      },
      "source": [
        "## Tipos de Datos\n",
        "Otra diferencia con los Vectores consiste en que las tuplas pueden guardar más de un tipo de dato, también cabe mencionar que esta estructura acepta datos duplicados\n"
      ]
    },
    {
      "cell_type": "code",
      "execution_count": 3,
      "metadata": {
        "colab": {
          "base_uri": "https://localhost:8080/"
        },
        "id": "t_F9F1e3hiFH",
        "outputId": "65f677a7-deca-4e3e-d40e-3e4fd2824aa9"
      },
      "outputs": [
        {
          "name": "stdout",
          "output_type": "stream",
          "text": [
            "('uno', 2, 3.0)\n"
          ]
        }
      ],
      "source": [
        "tupla1=(\"uno\", 2,3.0)\n",
        "#Podemos ver que la tupla contiene datos del tipo string, int y float.\n",
        "print(tupla1)"
      ]
    },
    {
      "cell_type": "markdown",
      "metadata": {
        "id": "B-b7gJW2h5Nw"
      },
      "source": [
        "## Acceso a los elementos de una tupla\n",
        "Para acceder a los elementos de una tupla se maneja de forma similar a los vectores, una vez declarada la variable se puede acceder mediante un índice entre corchetes, el primer elemento siempre tiene índice 0"
      ]
    },
    {
      "cell_type": "code",
      "execution_count": 4,
      "metadata": {
        "colab": {
          "base_uri": "https://localhost:8080/"
        },
        "id": "sX5t-KzFiEkg",
        "outputId": "59972dc7-91c2-48be-d5d0-e2b25c0dcdbd"
      },
      "outputs": [
        {
          "name": "stdout",
          "output_type": "stream",
          "text": [
            "a\n"
          ]
        }
      ],
      "source": [
        "tupla1=(\"a\",\"b\",\"c\")\n",
        "print(tupla1[0])\n"
      ]
    },
    {
      "cell_type": "markdown",
      "metadata": {
        "id": "GWf-_ZzUi4w_"
      },
      "source": [
        "## Indices Negativos\n",
        "Podemos hacer uso de indices negativos comenzando desde el -1, esto valores cuentan de forma inversa los elementos de la tupla, siendo -1 el ultimo valor de esta y -2 el penultimo valor."
      ]
    },
    {
      "cell_type": "code",
      "execution_count": null,
      "metadata": {
        "colab": {
          "base_uri": "https://localhost:8080/"
        },
        "id": "fwefLKJ-jJun",
        "outputId": "3d463a65-ee67-4ac5-850b-8a2d52e5242b"
      },
      "outputs": [
        {
          "name": "stdout",
          "output_type": "stream",
          "text": [
            "a\n"
          ]
        }
      ],
      "source": [
        "tupla1=(\"a\",\"b\",\"c\")\n",
        "print(tupla1[-3])"
      ]
    },
    {
      "cell_type": "markdown",
      "metadata": {
        "id": "fAi0VXZeiSvQ"
      },
      "source": [
        "## Rangos o intervalos\n",
        " Dentro de las tuplas podemos formar intervalos, al definirlos se retorna un nuevo objeto de la clase tupla con los elementos hallados entre los indices asignados, para los intervalos **el límite inferior es inclusivo y el superior exclusivo.**\n",
        " <br>\n",
        " <br>\n",
        " **Si no se especifica alguno de los índices** se tomara desde el primer elemento para el caso del inferior, o hasta el ultimo elemento en caso de omitirse el superior, tambien podemos defirnir rangos con indices negativos.\n",
        "\n",
        "\n"
      ]
    },
    {
      "cell_type": "code",
      "execution_count": 5,
      "metadata": {
        "colab": {
          "base_uri": "https://localhost:8080/"
        },
        "id": "-aba0I6_jqKn",
        "outputId": "3f70beb9-21c1-487f-f0d8-46c538ae35aa"
      },
      "outputs": [
        {
          "name": "stdout",
          "output_type": "stream",
          "text": [
            "('a',)\n",
            "('a',)\n",
            "('b', 'c')\n",
            "('b',)\n"
          ]
        }
      ],
      "source": [
        "tupla1=(\"a\",\"b\",\"c\")\n",
        "print(tupla1[0:1])\n",
        "\n",
        " #Rango sin limite inferior\n",
        "tupla1=(\"a\",\"b\",\"c\")\n",
        "print(tupla1[:1])\n",
        "\n",
        " #Rango sin limite superior\n",
        "tupla1=(\"a\",\"b\",\"c\")\n",
        "print(tupla1[1:])\n",
        "\n",
        " #Rango con indices negativos\n",
        "tupla1=(\"a\",\"b\",\"c\")\n",
        "print(tupla1[-2:-1])"
      ]
    },
    {
      "cell_type": "markdown",
      "metadata": {
        "id": "-KcppMtxlphJ"
      },
      "source": [
        "## Modificar una tupla\n",
        "Como se menciono al inicio una caracteristica de las tuplas es que no pueden ser modificadas una vez declaradas, no obstante existen algunos métodos para hacer esto."
      ]
    },
    {
      "cell_type": "markdown",
      "metadata": {
        "id": "YEZR7GhAmlhL"
      },
      "source": [
        "### Operaciones con tuplas\n",
        "La primera forma con la cual se puede modificar una tupla es por medio de dos operadores.\n",
        "<br>\n",
        "<br>\n",
        " **el operador adición “+”**, permite la concatenación entre tuplas.\n",
        " <br>\n",
        "   **el operador “*”**, permite multiplicar el contenido de la tupla un número de veces. La multiplicacion se da con un valor entero.\n",
        "   <br>\n",
        "**Nota: La multiplicación no es aritmética! no cambiara el valor del contenido, hara copias del mismo**\n"
      ]
    },
    {
      "cell_type": "code",
      "execution_count": 6,
      "metadata": {
        "colab": {
          "base_uri": "https://localhost:8080/"
        },
        "id": "QbSyK0qvoiAK",
        "outputId": "173e670d-cd61-4499-e0b2-8c8e15b6b565"
      },
      "outputs": [
        {
          "name": "stdout",
          "output_type": "stream",
          "text": [
            "('a', 'b', 'c', 1, 2, 3)\n",
            "('a', 'b', 'c', 'a', 'b', 'c')\n"
          ]
        }
      ],
      "source": [
        "#Ejemplo de concatenacion\n",
        "tupla1=(\"a\",\"b\",\"c\")\n",
        "tupla2=(1,2,3)\n",
        "tupla3=tupla1+tupla2\n",
        "print(tupla3)\n",
        "\n",
        "#Ejemplo Multiplicacion\n",
        "tupla3=tupla1*2\n",
        "print(tupla3)\n",
        "\n"
      ]
    },
    {
      "cell_type": "markdown",
      "metadata": {
        "id": "vQCdhFsipaBJ"
      },
      "source": [
        "### Adicionar un elemento\n",
        "Como vimos en las operaciones podemos agregar un elemto a una tupla usando la concatenacion."
      ]
    },
    {
      "cell_type": "code",
      "execution_count": 7,
      "metadata": {
        "colab": {
          "base_uri": "https://localhost:8080/"
        },
        "id": "22NoQ7KlqORY",
        "outputId": "85f3e9e9-a526-460a-cc0c-acd827f48e58"
      },
      "outputs": [
        {
          "name": "stdout",
          "output_type": "stream",
          "text": [
            "('A', 1, True, 'b')\n"
          ]
        }
      ],
      "source": [
        "tupla1 = (\"A\", 1, True)\n",
        "y = ('b',)\n",
        "tupla1 += y\n",
        "\n",
        "print(tupla1)\n"
      ]
    },
    {
      "cell_type": "markdown",
      "metadata": {
        "id": "EL-jTwWLqv1o"
      },
      "source": [
        "### Remover/actualizar un elemento\n",
        "Lastimosamente **no hay forma directa** de remover un elemento de una tupla al igual que actualizar o reemplazar un elemento, no obstante podemos hacer esto **transformando la tupla en una lista** para la operación y posteriormente convirtiendo la lista en una tupla nuevamente.\n"
      ]
    },
    {
      "cell_type": "code",
      "execution_count": 8,
      "metadata": {
        "colab": {
          "base_uri": "https://localhost:8080/"
        },
        "id": "rksEhpgOrpS4",
        "outputId": "fcc38b63-2611-4fa0-c09e-c3221e47bab7"
      },
      "outputs": [
        {
          "name": "stdout",
          "output_type": "stream",
          "text": [
            "(1, True)\n",
            "('Cambio', 1, True)\n"
          ]
        }
      ],
      "source": [
        "\n",
        "#remover usando el metodo remove de la clase list\n",
        "tupla1 = (\"A\", 1, True)\n",
        "y = list(tupla1)\n",
        "y.remove(\"A\")\n",
        "tupla1=tuple(y)\n",
        "\n",
        "print(tupla1)\n",
        "\n",
        "#Actulizar usando un indice en la clase list\n",
        "tupla2 = (\"A\", 1, True)\n",
        "y = list(tupla2)\n",
        "y[0]=(\"Cambio\")\n",
        "tupla2=tuple(y)\n",
        "print(tupla2)\n"
      ]
    },
    {
      "cell_type": "markdown",
      "metadata": {
        "id": "WWdMQNwgtUQL"
      },
      "source": [
        "## Metodos para tuplas\n",
        "\n",
        "\n",
        "*   **len(tupla1)**, nos permite conocer la longitud de una tupla.\n",
        "*   **count(elemento)**, cuenta la cantidad de veces que se encuentra un elemento, enviado en el parametro, en la tupla.\n",
        "*   **index(elemento)**, retorna el indice donde fue encontrada el elemento enviado como parametro.\n",
        "\n",
        "\n",
        "\n"
      ]
    },
    {
      "cell_type": "code",
      "execution_count": 9,
      "metadata": {
        "colab": {
          "base_uri": "https://localhost:8080/"
        },
        "id": "3RpJKordui65",
        "outputId": "978e49dc-ec27-4729-be85-3b706e2c451f"
      },
      "outputs": [
        {
          "name": "stdout",
          "output_type": "stream",
          "text": [
            "3\n",
            "1\n",
            "1\n"
          ]
        }
      ],
      "source": [
        "tupla1 = (\"A\", 1, True)\n",
        "#Tamaño de la tupla\n",
        "print(len(tupla1))\n",
        "#uso del metodo count()\n",
        "print(tupla1.count(\"A\"))\n",
        "#Uso del metodo index\n",
        "print(tupla1.index(1))"
      ]
    },
    {
      "cell_type": "markdown",
      "metadata": {
        "id": "UbqXYbjovXaS"
      },
      "source": [
        "## Bucles o ciclos con tuplas\n",
        "Para recorre una tupla se realiza de la misma forma que un vector.\n",
        "<br>\n",
        "Podemos usar el ciclo for de las siguientes maneras:"
      ]
    },
    {
      "cell_type": "code",
      "execution_count": 10,
      "metadata": {
        "colab": {
          "base_uri": "https://localhost:8080/"
        },
        "id": "fptkux-6wHX9",
        "outputId": "86bbb109-7314-4564-fdd6-efeb98025384"
      },
      "outputs": [
        {
          "name": "stdout",
          "output_type": "stream",
          "text": [
            "a\n",
            "True\n",
            "1\n",
            "5.5\n",
            "Str\n"
          ]
        }
      ],
      "source": [
        "tupla1=('a',True,1,5.5,\"Str\")\n",
        "for x in tupla1:\n",
        "  print(x)"
      ]
    },
    {
      "cell_type": "markdown",
      "metadata": {
        "id": "gaID41wYwfAi"
      },
      "source": [
        "Esta primera forma recorre la tupla de forma automatica, tambien podemos usarlo por **medio de indices** de la siguinete manera:\n"
      ]
    },
    {
      "cell_type": "code",
      "execution_count": 11,
      "metadata": {
        "colab": {
          "base_uri": "https://localhost:8080/"
        },
        "id": "--NfcA0ewvwP",
        "outputId": "0c66988a-068e-4166-e713-6eb0434a292a"
      },
      "outputs": [
        {
          "name": "stdout",
          "output_type": "stream",
          "text": [
            "a\n",
            "True\n",
            "1\n",
            "5.5\n",
            "Str\n"
          ]
        }
      ],
      "source": [
        "tupla1=('a',True,1,5.5,\"Str\")\n",
        "for i in range(len(tupla1)):\n",
        "  print(tupla1[i])"
      ]
    },
    {
      "cell_type": "markdown",
      "metadata": {
        "id": "pAc0EI-hxexn"
      },
      "source": [
        "**El ciclo while** es muy similiar a este ultimo ejemplo del ciclo for, en el sentido que se mueve por medio de indices, para esto **se requiere declarar el indice fuera al ciclo y contar con el incremento dentro del ciclo.** esto con el fin de evitar ciclos infinitos.\n"
      ]
    },
    {
      "cell_type": "code",
      "execution_count": 12,
      "metadata": {
        "colab": {
          "base_uri": "https://localhost:8080/"
        },
        "id": "hnkEYE1zyCWR",
        "outputId": "c82cf1ae-9ba1-4793-aef2-ff9088f0c6ab"
      },
      "outputs": [
        {
          "name": "stdout",
          "output_type": "stream",
          "text": [
            "a\n",
            "True\n",
            "1\n",
            "5.5\n",
            "Str\n"
          ]
        }
      ],
      "source": [
        "tupla1=('a',True,1,5.5,\"Str\")\n",
        "i=0\n",
        "while i<len(tupla1):\n",
        "  print(tupla1[i])\n",
        "  i+=1"
      ]
    },
    {
      "cell_type": "markdown",
      "metadata": {
        "id": "914C9EugyQre"
      },
      "source": [
        "# Diccionarios"
      ]
    },
    {
      "cell_type": "markdown",
      "metadata": {
        "id": "7ImWC1hk0_dw"
      },
      "source": [
        "Los diccionarios en Python son un tipo de arreglo, un diccionarios es una colección ordenada (en la version 3.7) o desordenada (en la version 3.6 y anteriores), modificable y **que no admite datos duplicados.** Los diccionarios se escriben con llaves y tienen elementos formados por claves y valores.\n",
        "Se utilizan para guardar valores de datos en pares."
      ]
    },
    {
      "cell_type": "code",
      "execution_count": 13,
      "metadata": {
        "colab": {
          "base_uri": "https://localhost:8080/"
        },
        "id": "4hIK4ldS0THF",
        "outputId": "b7094bb0-bb82-4767-9064-3b0648159041"
      },
      "outputs": [
        {
          "name": "stdout",
          "output_type": "stream",
          "text": [
            "{'clave': 'valor', 'nombre': 'Python', 'version': 3.6, 'fecha_lanzamiento': 2016}\n"
          ]
        }
      ],
      "source": [
        "lenguaje1 = {\n",
        "    \"clave\" : \"valor\", # Primer elemento\n",
        "    \"nombre\" : \"Python\", #Segundo elemento\n",
        "    \"version\" : 3.6, #Tercer elemento\n",
        "    \"fecha_lanzamiento\" : 2016\n",
        "}\n",
        "print(lenguaje1)"
      ]
    },
    {
      "cell_type": "markdown",
      "metadata": {
        "id": "9xr8duIB0rQM"
      },
      "source": [
        "Los valores de un diccionario pueden ser cualquier tipo de dato: *enteros, decimales, texto, booleanos, listas, entre otros.*\n"
      ]
    },
    {
      "cell_type": "markdown",
      "metadata": {
        "id": "CPhcK1Pxdx-3"
      },
      "source": [
        "## Funciones primarias"
      ]
    },
    {
      "cell_type": "markdown",
      "metadata": {
        "id": "Vd4wDSaM1L4B"
      },
      "source": [
        "### Longitud de un diccionario\n",
        "\n",
        "Para determinar cuántos elementos tiene un diccionario, usaremos la función len()."
      ]
    },
    {
      "cell_type": "code",
      "execution_count": 14,
      "metadata": {
        "colab": {
          "base_uri": "https://localhost:8080/"
        },
        "id": "x6JNqEJ21WNh",
        "outputId": "0dc753bf-d793-4d51-864b-976275280a6d"
      },
      "outputs": [
        {
          "name": "stdout",
          "output_type": "stream",
          "text": [
            "4\n"
          ]
        }
      ],
      "source": [
        "print(len(lenguaje1))"
      ]
    },
    {
      "cell_type": "markdown",
      "metadata": {
        "id": "s02F1_ZD3ZS2"
      },
      "source": [
        "### Acceso a un elemento de un diccionario\n",
        "\n",
        "Se puede acceder a los elementos de un diccionario haciendo referencia a su nombre clave, entre corchetes.\n"
      ]
    },
    {
      "cell_type": "code",
      "execution_count": 15,
      "metadata": {
        "colab": {
          "base_uri": "https://localhost:8080/"
        },
        "id": "EGr7ubT034vL",
        "outputId": "448a3b04-8847-4453-a80f-f80df434e74b"
      },
      "outputs": [
        {
          "name": "stdout",
          "output_type": "stream",
          "text": [
            "Python\n"
          ]
        }
      ],
      "source": [
        "print(lenguaje1[\"nombre\"])"
      ]
    },
    {
      "cell_type": "markdown",
      "metadata": {
        "id": "1nkiKKb75fLa"
      },
      "source": [
        "También existe un método llamado get() que le dará el mismo resultado."
      ]
    },
    {
      "cell_type": "code",
      "execution_count": 16,
      "metadata": {
        "colab": {
          "base_uri": "https://localhost:8080/"
        },
        "id": "rr6SHMoa5k_L",
        "outputId": "448f6093-cee8-4229-bcdb-db2c5db8b8ed"
      },
      "outputs": [
        {
          "name": "stdout",
          "output_type": "stream",
          "text": [
            "Python\n"
          ]
        }
      ],
      "source": [
        "print(lenguaje1.get(\"nombre\"))"
      ]
    },
    {
      "cell_type": "markdown",
      "metadata": {
        "id": "KVBuj6Ua1oZC"
      },
      "source": [
        "### Tipo de dato de un diccionario\n",
        "\n",
        "Desde la perspectiva de Python, los diccionarios se definen como objetos con el tipo de datos 'dict'.\n"
      ]
    },
    {
      "cell_type": "code",
      "execution_count": 17,
      "metadata": {
        "colab": {
          "base_uri": "https://localhost:8080/"
        },
        "id": "5qeby-ji13A4",
        "outputId": "a4ac09ad-8779-42fc-c516-22142d574b63"
      },
      "outputs": [
        {
          "name": "stdout",
          "output_type": "stream",
          "text": [
            "<class 'dict'>\n"
          ]
        }
      ],
      "source": [
        "print(type(lenguaje1))"
      ]
    },
    {
      "cell_type": "markdown",
      "metadata": {
        "id": "JMmfQgwK2-xl"
      },
      "source": [
        "Con la misma funcion type() podemos conocer el tipo de dato del valor de cualquier clave."
      ]
    },
    {
      "cell_type": "code",
      "execution_count": 18,
      "metadata": {
        "colab": {
          "base_uri": "https://localhost:8080/"
        },
        "id": "iWHwXRPQ3Lya",
        "outputId": "97290f65-9705-4fb2-b475-bb8813ba2ce8"
      },
      "outputs": [
        {
          "name": "stdout",
          "output_type": "stream",
          "text": [
            "<class 'float'>\n"
          ]
        }
      ],
      "source": [
        "print(type(lenguaje1[\"version\"]))"
      ]
    },
    {
      "cell_type": "markdown",
      "metadata": {
        "id": "R8lQIFZTEK1O"
      },
      "source": [
        "### Agregar elementos a un diccionario\n",
        "\n",
        "La adición de un elemento al diccionario la realizamos utilizando una nueva clave de índice y asignándole un valor."
      ]
    },
    {
      "cell_type": "code",
      "execution_count": 19,
      "metadata": {
        "colab": {
          "base_uri": "https://localhost:8080/"
        },
        "id": "I327StgPEZCm",
        "outputId": "9d9f5eb9-27b3-4357-e0bb-bbaa7dac82db"
      },
      "outputs": [
        {
          "name": "stdout",
          "output_type": "stream",
          "text": [
            "{'clave': 'valor', 'nombre': 'Python', 'version': 3.6, 'fecha_lanzamiento': 2016, 'creador': 'Guido van Rossum'}\n"
          ]
        }
      ],
      "source": [
        "lenguaje1[\"creador\"] = \"Guido van Rossum\"\n",
        "print(lenguaje1)"
      ]
    },
    {
      "cell_type": "markdown",
      "metadata": {
        "id": "9WNfRLbiNEIl"
      },
      "source": [
        "### Remover elementos de un diccionario\n",
        "\n",
        "El método pop() elimina el elemento con el nombre de clave especificado."
      ]
    },
    {
      "cell_type": "code",
      "execution_count": 20,
      "metadata": {
        "colab": {
          "base_uri": "https://localhost:8080/"
        },
        "id": "a2XTsG6vObhf",
        "outputId": "ed5564b1-960f-4bab-de6c-3c847100b941"
      },
      "outputs": [
        {
          "name": "stdout",
          "output_type": "stream",
          "text": [
            "{'clave': 'valor', 'nombre': 'Python', 'version': 3.6, 'fecha_lanzamiento': 2016}\n"
          ]
        }
      ],
      "source": [
        "lenguaje1.pop(\"creador\")\n",
        "print(lenguaje1)"
      ]
    },
    {
      "cell_type": "markdown",
      "metadata": {
        "id": "ndLZcBx9O77Y"
      },
      "source": [
        "El método popitem() elimina el último elemento insertado (en las versiones anteriores a la 3.7, se elimina un elemento aleatorio en su lugar)."
      ]
    },
    {
      "cell_type": "code",
      "execution_count": 21,
      "metadata": {
        "colab": {
          "base_uri": "https://localhost:8080/"
        },
        "id": "6seA58YEQu3u",
        "outputId": "ec9c25dc-afee-4b69-ae53-c8f86cc98ffc"
      },
      "outputs": [
        {
          "name": "stdout",
          "output_type": "stream",
          "text": [
            "{'clave': 'valor', 'nombre': 'Python', 'version': 3.6}\n"
          ]
        }
      ],
      "source": [
        "lenguaje1 = {\n",
        "    \"clave\" : \"valor\", # Elemento\n",
        "    \"nombre\" : \"Python\",\n",
        "    \"version\" : 3.6,\n",
        "    \"fecha_lanzamiento\" : 2016\n",
        "}\n",
        "lenguaje1.popitem()\n",
        "print(lenguaje1)"
      ]
    },
    {
      "cell_type": "markdown",
      "metadata": {
        "id": "y4nKAodCQyI9"
      },
      "source": [
        "La palabra clave ***del*** elimina el elemento con el nombre de clave especificado.\n"
      ]
    },
    {
      "cell_type": "code",
      "execution_count": 22,
      "metadata": {
        "colab": {
          "base_uri": "https://localhost:8080/"
        },
        "id": "5W5M18_jRXQ1",
        "outputId": "413d2c2e-936f-4057-a35e-f1ce7c5b5353"
      },
      "outputs": [
        {
          "name": "stdout",
          "output_type": "stream",
          "text": [
            "{'clave': 'valor', 'nombre': 'Python'}\n"
          ]
        }
      ],
      "source": [
        "del lenguaje1[\"version\"]\n",
        "print(lenguaje1)"
      ]
    },
    {
      "cell_type": "markdown",
      "metadata": {
        "id": "U5QtUFTTR3E-"
      },
      "source": [
        "⚠ Cuidado ⚠ Recuerda siempre colocar la clave, de lo contrario se eliminará la variable.\n",
        "\n",
        "\n",
        "```\n",
        "del lenguaje1\n",
        "print(lenguaje1) #esto causará un error porque \"lenguaje1\" ya no existe. Inténtalo tú mismo!\n",
        "```\n",
        "\n"
      ]
    },
    {
      "cell_type": "markdown",
      "metadata": {
        "id": "5iN7rE2kThhT"
      },
      "source": [
        "El método clear() vacía el diccionario, no quedará ningun elemento."
      ]
    },
    {
      "cell_type": "code",
      "execution_count": 23,
      "metadata": {
        "colab": {
          "base_uri": "https://localhost:8080/"
        },
        "id": "8rMXLY-CUrPt",
        "outputId": "b32e52ec-274b-4bff-fe3d-28a677dba32c"
      },
      "outputs": [
        {
          "name": "stdout",
          "output_type": "stream",
          "text": [
            "None\n"
          ]
        }
      ],
      "source": [
        "print(lenguaje1.clear())"
      ]
    },
    {
      "cell_type": "markdown",
      "metadata": {
        "id": "wkbJrD-9BkX6"
      },
      "source": [
        "### Actualizar elementos de un diccionario\n",
        "\n",
        "Existen 2 formas de actualizar un diccionario.\n",
        "Primera forma."
      ]
    },
    {
      "cell_type": "code",
      "execution_count": 25,
      "metadata": {
        "colab": {
          "base_uri": "https://localhost:8080/"
        },
        "id": "lP0NbY2HCs4X",
        "outputId": "33024ddf-84c8-44ea-ba6e-b712c6484e98"
      },
      "outputs": [
        {
          "name": "stdout",
          "output_type": "stream",
          "text": [
            "{'clave': 'valor', 'nombre': 'Python', 'version': 3.0, 'fecha_lanzamiento': 2016}\n"
          ]
        }
      ],
      "source": [
        "lenguaje1 = {\n",
        "    \"clave\" : \"valor\", # Primer elemento\n",
        "    \"nombre\" : \"Python\", #Segundo elemento\n",
        "    \"version\" : 3.6, #Tercer elemento\n",
        "    \"fecha_lanzamiento\" : 2016\n",
        "}\n",
        "\n",
        "lenguaje1[\"version\"] = 3.0\n",
        "print(lenguaje1)"
      ]
    },
    {
      "cell_type": "markdown",
      "metadata": {
        "id": "KumjxNOGCv8W"
      },
      "source": [
        "La segunda forma es llamando al método update() que le dará el mismo resultado."
      ]
    },
    {
      "cell_type": "code",
      "execution_count": 26,
      "metadata": {
        "colab": {
          "base_uri": "https://localhost:8080/"
        },
        "id": "d1PS9_KJCNXj",
        "outputId": "d46e989d-2019-4d07-c6cc-a41ed14ac4be"
      },
      "outputs": [
        {
          "name": "stdout",
          "output_type": "stream",
          "text": [
            "{'clave': 'valor', 'nombre': 'Python', 'version': 3.6, 'fecha_lanzamiento': 2016}\n"
          ]
        }
      ],
      "source": [
        "lenguaje1.update({\"version\": 3.6})\n",
        "print(lenguaje1)"
      ]
    },
    {
      "cell_type": "markdown",
      "metadata": {
        "id": "BB2UjJIDXE2O"
      },
      "source": [
        "### ¿Cómo copiar un diccionario?\n",
        "\n",
        "No puede copiar un diccionario simplemente escribiendo\n",
        "\n",
        "```\n",
        "lenguaje1_copia = lenguaje1\n",
        "```\n",
        "\n",
        "porque *lenguaje1_copia* solo será una referencia a *lenguaje1*, y los cambios realizados en *lenguaje1* también se realizarán automáticamente en lenguaje1_copia.\n",
        "Existen distintas formas de copiar un diccionario, una forma es utilizar el método de diccionario incorporado copy()."
      ]
    },
    {
      "cell_type": "code",
      "execution_count": 27,
      "metadata": {
        "colab": {
          "base_uri": "https://localhost:8080/"
        },
        "id": "0Akk_i4bXEdY",
        "outputId": "cd2137f1-6010-43c4-9da9-d7fdf438af78"
      },
      "outputs": [
        {
          "name": "stdout",
          "output_type": "stream",
          "text": [
            "Original: {'clave': 'valor', 'nombre': 'Python', 'version': 3.6, 'fecha_lanzamiento': 2016}\n",
            "Copia: {'clave': 'valor', 'nombre': 'Python', 'version': 3.6, 'fecha_lanzamiento': 2016}\n"
          ]
        }
      ],
      "source": [
        "lenguaje1 = {\n",
        "    \"clave\" : \"valor\", # Elemento\n",
        "    \"nombre\" : \"Python\",\n",
        "    \"version\" : 3.6,\n",
        "    \"fecha_lanzamiento\" : 2016\n",
        "}\n",
        "lenguaje1_copia = lenguaje1.copy()\n",
        "print(f'Original: {lenguaje1}\\nCopia: {lenguaje1_copia}')"
      ]
    },
    {
      "cell_type": "markdown",
      "metadata": {
        "id": "9Z5nE8H7Yn3c"
      },
      "source": [
        "Otra forma de hacer una copia es usar la función incorporada dict()."
      ]
    },
    {
      "cell_type": "code",
      "execution_count": 28,
      "metadata": {
        "colab": {
          "base_uri": "https://localhost:8080/"
        },
        "id": "cIFdEyFsYrF6",
        "outputId": "86ff117c-65d9-43bb-c002-68feba00cd2a"
      },
      "outputs": [
        {
          "name": "stdout",
          "output_type": "stream",
          "text": [
            "Original: {'clave': 'valor', 'nombre': 'Python', 'version': 3.6, 'fecha_lanzamiento': 2016}\n",
            "Copia: {'clave': 'valor', 'nombre': 'Python', 'version': 3.6, 'fecha_lanzamiento': 2016}\n"
          ]
        }
      ],
      "source": [
        "lenguaje1_copia = dict(lenguaje1)\n",
        "print(f'Original: {lenguaje1}\\nCopia: {lenguaje1_copia}')"
      ]
    },
    {
      "cell_type": "markdown",
      "metadata": {
        "id": "zWOjBRpdeE4a"
      },
      "source": [
        "## Funciones secundarias"
      ]
    },
    {
      "cell_type": "markdown",
      "metadata": {
        "id": "BoXL_iU05ws4"
      },
      "source": [
        "### Obtener las claves de un diccionario\n",
        "\n",
        "El método keys() devolverá una lista de todas las claves del diccionario."
      ]
    },
    {
      "cell_type": "code",
      "execution_count": null,
      "metadata": {
        "colab": {
          "base_uri": "https://localhost:8080/"
        },
        "id": "s9w0ohLU6F_w",
        "outputId": "cf6c506e-9e53-4354-b847-82cfe1348359"
      },
      "outputs": [
        {
          "name": "stdout",
          "output_type": "stream",
          "text": [
            "dict_keys(['clave', 'nombre', 'version', 'fecha_lanzamiento'])\n"
          ]
        }
      ],
      "source": [
        "print(lenguaje1.keys())"
      ]
    },
    {
      "cell_type": "markdown",
      "metadata": {
        "id": "afAhGdjM6o4y"
      },
      "source": [
        "La lista de claves es una vista del diccionario, lo que significa que cualquier cambio realizado en el diccionario se reflejará en la lista de claves."
      ]
    },
    {
      "cell_type": "code",
      "execution_count": null,
      "metadata": {
        "colab": {
          "base_uri": "https://localhost:8080/"
        },
        "id": "OPbU8Ubf7CF4",
        "outputId": "1dbc4de6-2974-43bd-d178-6e31a776abae"
      },
      "outputs": [
        {
          "name": "stdout",
          "output_type": "stream",
          "text": [
            "dict_keys(['clave', 'nombre', 'version', 'fecha_lanzamiento', 'so_compatible'])\n"
          ]
        }
      ],
      "source": [
        "lenguaje1[\"so_compatible\"] = [\"Windows\", \"Linux/Unix\", \"Mac OS X\"] # so  = sietema operativo\n",
        "print(lenguaje1.keys())"
      ]
    },
    {
      "cell_type": "markdown",
      "metadata": {
        "id": "ieENgPBp-Tbu"
      },
      "source": [
        "### Obtener valores de un diccionario\n",
        "\n",
        "El método values ​​() devolverá una lista de todos los valores en el diccionario."
      ]
    },
    {
      "cell_type": "code",
      "execution_count": null,
      "metadata": {
        "colab": {
          "base_uri": "https://localhost:8080/"
        },
        "id": "vs-n2rtS-bls",
        "outputId": "61203346-8443-4852-9c45-b5520515e077"
      },
      "outputs": [
        {
          "name": "stdout",
          "output_type": "stream",
          "text": [
            "dict_values(['valor', 'Python', 3.6, 2016, ['Windows', 'Linux/Unix', 'Mac OS X']])\n"
          ]
        }
      ],
      "source": [
        "print(lenguaje1.values())"
      ]
    },
    {
      "cell_type": "markdown",
      "metadata": {
        "id": "giYuYbzS-m0K"
      },
      "source": [
        "La lista de valores es una vista del diccionario, lo que significa que cualquier cambio realizado en el diccionario se reflejará en la lista de valores."
      ]
    },
    {
      "cell_type": "code",
      "execution_count": null,
      "metadata": {
        "colab": {
          "base_uri": "https://localhost:8080/"
        },
        "id": "3uhZa9jT-qCw",
        "outputId": "148047f8-6673-4940-d6a0-98cb54b40af6"
      },
      "outputs": [
        {
          "name": "stdout",
          "output_type": "stream",
          "text": [
            "dict_values(['valor', 'Python', 3.7, 2016, ['Windows', 'Linux/Unix', 'Mac OS X']])\n"
          ]
        }
      ],
      "source": [
        "lenguaje1[\"version\"] = 3.7\n",
        "print(lenguaje1.values())"
      ]
    },
    {
      "cell_type": "markdown",
      "metadata": {
        "id": "tcyKcD7g_GvP"
      },
      "source": [
        "### Obtener los elementos de un diccionario\n",
        "\n",
        "El método items() devolverá cada elemento en un diccionario, como tuplas en una lista.\n"
      ]
    },
    {
      "cell_type": "code",
      "execution_count": null,
      "metadata": {
        "colab": {
          "base_uri": "https://localhost:8080/"
        },
        "id": "KN8hXu1A_fpx",
        "outputId": "806711d0-ea80-47ab-eaa7-46fc23f99f3b"
      },
      "outputs": [
        {
          "name": "stdout",
          "output_type": "stream",
          "text": [
            "dict_items([('clave', 'valor'), ('nombre', 'Python'), ('version', 3.7), ('fecha_lanzamiento', 2016), ('so_compatible', ['Windows', 'Linux/Unix', 'Mac OS X'])])\n"
          ]
        }
      ],
      "source": [
        "print(lenguaje1.items())"
      ]
    },
    {
      "cell_type": "markdown",
      "metadata": {
        "id": "swddhvll_evZ"
      },
      "source": [
        "La lista devuelta es una vista de los elementos del diccionario, lo que significa que cualquier cambio realizado en el diccionario se reflejará en la lista de elementos."
      ]
    },
    {
      "cell_type": "code",
      "execution_count": null,
      "metadata": {
        "colab": {
          "base_uri": "https://localhost:8080/"
        },
        "id": "JOPLimx3ADR2",
        "outputId": "38609039-da2a-4aa7-8922-8f15c990aa63"
      },
      "outputs": [
        {
          "name": "stdout",
          "output_type": "stream",
          "text": [
            "dict_items([('clave', 'valor'), ('nombre', 'Python'), ('version', 3.0), ('fecha_lanzamiento', 2016), ('so_compatible', ['Windows', 'Linux/Unix', 'Mac OS X'])])\n"
          ]
        }
      ],
      "source": [
        "lenguaje1[\"version\"] = 3.0\n",
        "print(lenguaje1.items())"
      ]
    },
    {
      "cell_type": "markdown",
      "metadata": {
        "id": "q9DV1X67AX3k"
      },
      "source": [
        "### ¿Cómo comprobar si una clave existe?\n",
        "\n",
        "Para determinar si una clave específica está presente en un diccionario, use la palabra clave in."
      ]
    },
    {
      "cell_type": "code",
      "execution_count": null,
      "metadata": {
        "colab": {
          "base_uri": "https://localhost:8080/"
        },
        "id": "kWcAlEEZAnHU",
        "outputId": "bac8119b-3b74-496f-f5c9-979cfc7c27a7"
      },
      "outputs": [
        {
          "name": "stdout",
          "output_type": "stream",
          "text": [
            "Si, fecha_lanzamiento es una clave en el diccionario\n"
          ]
        }
      ],
      "source": [
        "lenguaje1 = {\n",
        "    \"clave\" : \"valor\", # Elemento\n",
        "    \"nombre\" : \"Python\",\n",
        "    \"version\" : 3.6,\n",
        "    \"fecha_lanzamiento\" : 2016\n",
        "}\n",
        "x = \"fecha_lanzamiento\"\n",
        "if x in lenguaje1:\n",
        "  print(f'Si, {x} es una clave en el diccionario')\n",
        "else:\n",
        "  print(f'No, {x} no ha sido encontrada')"
      ]
    },
    {
      "cell_type": "markdown",
      "metadata": {
        "id": "R1394mWtbnnB"
      },
      "source": []
    },
    {
      "cell_type": "markdown",
      "metadata": {
        "id": "CJYSUCC5fj59"
      },
      "source": [
        "##Bucles o ciclos con diccionarios\n",
        "\n",
        "Puede recorrer un diccionario utilizando un bucle **for**.\n",
        "Al recorrer un diccionario, el valor de retorno son las claves del diccionario, pero también existen métodos para devolver los valores."
      ]
    },
    {
      "cell_type": "markdown",
      "metadata": {
        "id": "sJkqnooigygF"
      },
      "source": [
        "Imprimir todos los **nombres** de las claves en el diccionario, uno por uno"
      ]
    },
    {
      "cell_type": "code",
      "execution_count": null,
      "metadata": {
        "colab": {
          "base_uri": "https://localhost:8080/"
        },
        "id": "cE0kbb-tgtGu",
        "outputId": "bb6fa54f-078b-4ed4-8842-2e24885e6304"
      },
      "outputs": [
        {
          "name": "stdout",
          "output_type": "stream",
          "text": [
            "clave\n",
            "nombre\n",
            "version\n",
            "fecha_lanzamiento\n"
          ]
        }
      ],
      "source": [
        "for x in lenguaje1:\n",
        "  print(x)"
      ]
    },
    {
      "cell_type": "markdown",
      "metadata": {
        "id": "CZ72MS3Vg89Y"
      },
      "source": [
        "Imprima todos los **valores** en el diccionario, uno por uno"
      ]
    },
    {
      "cell_type": "code",
      "execution_count": null,
      "metadata": {
        "colab": {
          "base_uri": "https://localhost:8080/"
        },
        "id": "dGC-V1lBg9aG",
        "outputId": "9ab8e594-363f-4b14-aff2-f17066311121"
      },
      "outputs": [
        {
          "name": "stdout",
          "output_type": "stream",
          "text": [
            "valor\n",
            "Python\n",
            "3.6\n",
            "2016\n"
          ]
        }
      ],
      "source": [
        "for x in lenguaje1:\n",
        "  print(lenguaje1[x])"
      ]
    },
    {
      "cell_type": "markdown",
      "metadata": {
        "id": "gJqQRl-og-3-"
      },
      "source": [
        "También puede usar el método values​​() para devolver los **valores** de un diccionario"
      ]
    },
    {
      "cell_type": "code",
      "execution_count": null,
      "metadata": {
        "colab": {
          "base_uri": "https://localhost:8080/"
        },
        "id": "9OnY7u6Zg_Ti",
        "outputId": "e5fff92c-1ec4-4fe9-fe9a-c04561944da4"
      },
      "outputs": [
        {
          "name": "stdout",
          "output_type": "stream",
          "text": [
            "valor\n",
            "Python\n",
            "3.6\n",
            "2016\n"
          ]
        }
      ],
      "source": [
        "for x in lenguaje1.values():\n",
        "  print(x)"
      ]
    },
    {
      "cell_type": "markdown",
      "metadata": {
        "id": "Ic8JoClKhgcZ"
      },
      "source": [
        "Puede usar el método keys() para devolver las **claves** de un diccionario."
      ]
    },
    {
      "cell_type": "code",
      "execution_count": null,
      "metadata": {
        "colab": {
          "base_uri": "https://localhost:8080/"
        },
        "id": "O9bjVxfthhAp",
        "outputId": "ded2d6a2-4870-4e38-a8a3-90b7e0d38222"
      },
      "outputs": [
        {
          "name": "stdout",
          "output_type": "stream",
          "text": [
            "clave\n",
            "nombre\n",
            "version\n",
            "fecha_lanzamiento\n"
          ]
        }
      ],
      "source": [
        "for x in lenguaje1.keys():\n",
        "  print(x)"
      ]
    },
    {
      "cell_type": "markdown",
      "metadata": {
        "id": "0xFy9FtNhhix"
      },
      "source": [
        "Recorra las claves y los valores mediante el método items()"
      ]
    },
    {
      "cell_type": "code",
      "execution_count": null,
      "metadata": {
        "colab": {
          "base_uri": "https://localhost:8080/"
        },
        "id": "3-qM_qWzhh8b",
        "outputId": "24f83cfb-460e-41ec-d6fe-fb76bfe94697"
      },
      "outputs": [
        {
          "name": "stdout",
          "output_type": "stream",
          "text": [
            "clave valor\n",
            "nombre Python\n",
            "version 3.6\n",
            "fecha_lanzamiento 2016\n"
          ]
        }
      ],
      "source": [
        "for x, y in lenguaje1.items():\n",
        "  print(x, y)"
      ]
    },
    {
      "cell_type": "markdown",
      "metadata": {
        "id": "mlmr8TiniVtz"
      },
      "source": [
        "## Tabla de Funciones para diccionarios\n",
        "\n",
        "![Tabla.png](data:image/png;base64,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)"
      ]
    },
    {
      "cell_type": "markdown",
      "metadata": {
        "id": "npNG2FIXaJAV"
      },
      "source": [
        "##Diccionarios anidados\n",
        "\n",
        "Un diccionario puede contener diccionarios, esto se llama diccionarios anidados."
      ]
    },
    {
      "cell_type": "code",
      "execution_count": null,
      "metadata": {
        "id": "oL1llWMGafyV"
      },
      "outputs": [],
      "source": [
        "clase5B = {\n",
        "  \"estudiante1\" : {\n",
        "    \"nombre\" : \"Mayerli\",\n",
        "    \"ID\" : 204\n",
        "  },\n",
        "  \"estudiante2\" : {\n",
        "    \"nombre\" : \"Matias\",\n",
        "    \"ID\" : 207\n",
        "  },\n",
        "  \"estudiante3\" : {\n",
        "    \"nombre\" : \"Raul\",\n",
        "    \"ID\" : 211\n",
        "  }\n",
        "}"
      ]
    },
    {
      "cell_type": "markdown",
      "metadata": {
        "id": "6uZATfswc8Vh"
      },
      "source": [
        "O, si desea agregar tres diccionarios a un diccionario nuevo.\n",
        "Cree tres diccionarios, luego cree un diccionario que contendrá los otros tres diccionarios."
      ]
    },
    {
      "cell_type": "code",
      "execution_count": null,
      "metadata": {
        "id": "nsZ4qqIJbqbs"
      },
      "outputs": [],
      "source": [
        "estudiante1 = {\n",
        "  \"nombre\" : \"Mayerli\",\n",
        "  \"ID\" : 204\n",
        "}\n",
        "estudiante2 = {\n",
        "  \"nombre\" : \"Matias\",\n",
        "  \"ID\" : 207\n",
        "}\n",
        "estudiante3 = {\n",
        "  \"nombre\" : \"Raul\",\n",
        "  \"ID\" : 211\n",
        "}\n",
        "\n",
        "clase5B = {\n",
        "  \"estudiante1\" : estudiante1,\n",
        "  \"estudiante2\" : estudiante2,\n",
        "  \"estudiante3\" : estudiante3\n",
        "}"
      ]
    }
  ],
  "metadata": {
    "colab": {
      "provenance": []
    },
    "kernelspec": {
      "display_name": "Python 3",
      "name": "python3"
    },
    "language_info": {
      "codemirror_mode": {
        "name": "ipython",
        "version": 3
      },
      "file_extension": ".py",
      "mimetype": "text/x-python",
      "name": "python",
      "nbconvert_exporter": "python",
      "pygments_lexer": "ipython3",
      "version": "3.8.10"
    }
  },
  "nbformat": 4,
  "nbformat_minor": 0
}
