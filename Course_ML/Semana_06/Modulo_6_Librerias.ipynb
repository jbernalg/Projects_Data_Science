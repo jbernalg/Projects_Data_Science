{
  "cells": [
    {
      "cell_type": "markdown",
      "metadata": {
        "id": "bN9rRNbB9D9j"
      },
      "source": [
        "# Librerías en Python - Google Colab"
      ]
    },
    {
      "cell_type": "markdown",
      "metadata": {},
      "source": [
        "## Libreria propia de Python"
      ]
    },
    {
      "cell_type": "code",
      "execution_count": 2,
      "metadata": {},
      "outputs": [
        {
          "name": "stdout",
          "output_type": "stream",
          "text": [
            "hola\n"
          ]
        }
      ],
      "source": [
        "# Built - in Function\n",
        "# entrada\n",
        "A = input('Digite un mensaje: ')"
      ]
    },
    {
      "cell_type": "code",
      "execution_count": 3,
      "metadata": {},
      "outputs": [
        {
          "name": "stdout",
          "output_type": "stream",
          "text": [
            "hola\n"
          ]
        }
      ],
      "source": [
        "# imprimir\n",
        "print(A)"
      ]
    },
    {
      "cell_type": "code",
      "execution_count": 4,
      "metadata": {},
      "outputs": [
        {
          "data": {
            "text/plain": [
              "str"
            ]
          },
          "execution_count": 4,
          "metadata": {},
          "output_type": "execute_result"
        }
      ],
      "source": [
        "# tipo de dato\n",
        "type(A)"
      ]
    },
    {
      "cell_type": "markdown",
      "metadata": {
        "id": "bSMs6X38AKSh"
      },
      "source": [
        "## Importar y Modulos"
      ]
    },
    {
      "cell_type": "markdown",
      "metadata": {},
      "source": [
        "Importar una librería y todos sus métodos. En este caso, vamos a utilizar la libreria de Numpy"
      ]
    },
    {
      "cell_type": "code",
      "execution_count": 1,
      "metadata": {
        "id": "eMYM4Olc63EX"
      },
      "outputs": [],
      "source": [
        "# importar libreria y agregar un alias\n",
        "import numpy as np"
      ]
    },
    {
      "cell_type": "markdown",
      "metadata": {},
      "source": [
        "Puedes acceder a todos los métodos de la libreria _numpy_ utilizando el prefijo __np.__"
      ]
    },
    {
      "cell_type": "code",
      "execution_count": 2,
      "metadata": {
        "id": "UYqUKXoL9YYX"
      },
      "outputs": [],
      "source": [
        "#Creando una lista\n",
        "numeros = [3,5,1,7,9]"
      ]
    },
    {
      "cell_type": "code",
      "execution_count": 3,
      "metadata": {
        "id": "3d0tuNOs9z-i"
      },
      "outputs": [
        {
          "data": {
            "text/plain": [
              "array([3, 5, 1, 7, 9])"
            ]
          },
          "execution_count": 3,
          "metadata": {},
          "output_type": "execute_result"
        }
      ],
      "source": [
        "# Convertir la lista en un array con numpy\n",
        "arreglo = np.array(numeros)\n",
        "arreglo"
      ]
    },
    {
      "cell_type": "code",
      "execution_count": 4,
      "metadata": {},
      "outputs": [
        {
          "data": {
            "text/plain": [
              "25"
            ]
          },
          "execution_count": 4,
          "metadata": {},
          "output_type": "execute_result"
        }
      ],
      "source": [
        "# Sumar todos los elementos\n",
        "np.sum(arreglo)"
      ]
    },
    {
      "cell_type": "code",
      "execution_count": 5,
      "metadata": {},
      "outputs": [
        {
          "data": {
            "text/plain": [
              "5.0"
            ]
          },
          "execution_count": 5,
          "metadata": {},
          "output_type": "execute_result"
        }
      ],
      "source": [
        "# Calcular la media\n",
        "np.mean(arreglo)"
      ]
    },
    {
      "cell_type": "markdown",
      "metadata": {},
      "source": [
        "Para verificar el tipo de datos, puedes usar la función incorporada de Python _type()_. Esto te permitirá ver qué tipo de dato tiene una variable o resultado de una operación."
      ]
    },
    {
      "cell_type": "code",
      "execution_count": 6,
      "metadata": {
        "id": "ajHg5AEu9s_b"
      },
      "outputs": [
        {
          "data": {
            "text/plain": [
              "numpy.float64"
            ]
          },
          "execution_count": 6,
          "metadata": {},
          "output_type": "execute_result"
        }
      ],
      "source": [
        "#Verificando los tipos de datos en nuestras salidas\n",
        "type(np.mean(arreglo))"
      ]
    },
    {
      "cell_type": "markdown",
      "metadata": {},
      "source": [
        "La instrucción _from ... import_ se utiliza para importar módulos específicos o componentes de un módulo, lo que te permite acceder a ellos directamente sin necesidad de escribir el nombre completo del módulo."
      ]
    },
    {
      "cell_type": "code",
      "execution_count": 7,
      "metadata": {
        "id": "qVuG8e7q9tyy"
      },
      "outputs": [],
      "source": [
        "# importar solo los metodos array y linspace de Numpy\n",
        "from numpy import array, linspace"
      ]
    },
    {
      "cell_type": "code",
      "execution_count": 8,
      "metadata": {},
      "outputs": [
        {
          "data": {
            "text/plain": [
              "array([3, 6, 8, 1])"
            ]
          },
          "execution_count": 8,
          "metadata": {},
          "output_type": "execute_result"
        }
      ],
      "source": [
        "#Convertir lista en array\n",
        "array([3,6,8,1])"
      ]
    },
    {
      "cell_type": "code",
      "execution_count": 11,
      "metadata": {},
      "outputs": [
        {
          "data": {
            "text/plain": [
              "array([ 0. ,  2.5,  5. ,  7.5, 10. ])"
            ]
          },
          "execution_count": 11,
          "metadata": {},
          "output_type": "execute_result"
        }
      ],
      "source": [
        "# generar 5 numeros en intervalos iguales entre el 0 y 10\n",
        "linspace(0, 10, 5)"
      ]
    },
    {
      "cell_type": "markdown",
      "metadata": {},
      "source": [
        "## Referencias o Instanciación"
      ]
    },
    {
      "cell_type": "markdown",
      "metadata": {},
      "source": [
        "Podemos simplificar el nombre del metodo importado para mejorar la sintaxis"
      ]
    },
    {
      "cell_type": "code",
      "execution_count": 12,
      "metadata": {
        "id": "MXLiV9QF-igP"
      },
      "outputs": [],
      "source": [
        "from numpy import array as arr"
      ]
    },
    {
      "cell_type": "code",
      "execution_count": 13,
      "metadata": {},
      "outputs": [
        {
          "data": {
            "text/plain": [
              "array([2, 4, 1])"
            ]
          },
          "execution_count": 13,
          "metadata": {},
          "output_type": "execute_result"
        }
      ],
      "source": [
        "arr([2,4,1])"
      ]
    },
    {
      "cell_type": "markdown",
      "metadata": {},
      "source": [
        "- La ventaja de importar funciones específicas es que puedes mejorar la legibilidad del codigo. Es util solo cuando necesitas unas pocas funciones\n",
        "\n",
        "- La ventaja de importar todo con import es que tienes todas las funcionalidades de la libreria a tu alcance. La desventaja es que puede que importe más funciones de las necesarias, ocupando gran espacio."
      ]
    },
    {
      "cell_type": "markdown",
      "metadata": {
        "id": "D2XEQAHHA6Dy"
      },
      "source": [
        "### Ejercicio: referenciar o re-nombrar las siguientes librerías. (pandas, matplotlib, scipy)"
      ]
    },
    {
      "cell_type": "code",
      "execution_count": 1,
      "metadata": {
        "id": "Wp21cT37BE2S"
      },
      "outputs": [],
      "source": [
        "# Ejemplo de como renombrar las librerías\n",
        "import pandas as pd\n",
        "import matplotlib.pyplot as plt\n",
        "import scipy as sp"
      ]
    },
    {
      "cell_type": "markdown",
      "metadata": {
        "id": "Iq-P0CUIBfC2"
      },
      "source": [
        "Nota: Es importante aclarar, que la referencia o el proceso de re-nombrar una librería, puede colocarse cualquier nombre. No obstante, se busca que el nombre sea simple y coherente con el paquete o solución a utilizar."
      ]
    },
    {
      "cell_type": "code",
      "execution_count": 5,
      "metadata": {
        "id": "UChb33o0BQYl"
      },
      "outputs": [],
      "source": [
        "# Ejemplo de un mal proceso de renombrar una librería\n",
        "import numpy as random_name"
      ]
    },
    {
      "cell_type": "markdown",
      "metadata": {},
      "source": [
        "- __Falta de claridad__: Usar un alias como random_name no da ninguna pista sobre la librería que realmente se está utilizando.\n",
        "\n",
        "- __Dificultad en la lectura del código__: Otros desarrolladores (e incluso tú mismo en el futuro) tendrán problemas para entender rápidamente qué librería estás usando.\n",
        "\n",
        "- __Error potencial__: El nombre podría entrar en conflicto con variables o funciones que tengan un nombre similar, lo que aumenta la posibilidad de errores."
      ]
    },
    {
      "cell_type": "markdown",
      "metadata": {},
      "source": [
        "Nota: una mala práctica al renombrar una librería ocurre cuando el alias que se le da a la librería es ambiguo, demasiado largo, o no refleja su propósito."
      ]
    },
    {
      "cell_type": "code",
      "execution_count": 2,
      "metadata": {
        "id": "hAuXHgZoBzkQ"
      },
      "outputs": [],
      "source": [
        "import pandas as data_handling_library"
      ]
    },
    {
      "cell_type": "markdown",
      "metadata": {
        "id": "C554_xxJCCc9"
      },
      "source": [
        "- A pesar de que funciona sin problemas, no es una buena practica.\n",
        "\n",
        "- Lo mejor que se puede usar son dos o maximo 3 caracteres para renombrar\n",
        "\n"
      ]
    },
    {
      "cell_type": "code",
      "execution_count": 4,
      "metadata": {},
      "outputs": [],
      "source": [
        "import pandas as pd"
      ]
    },
    {
      "cell_type": "markdown",
      "metadata": {
        "id": "aagjwltTCZUq"
      },
      "source": [
        "## Instalación de Librerías"
      ]
    },
    {
      "cell_type": "code",
      "execution_count": null,
      "metadata": {
        "id": "rS5sGPbJCTGS"
      },
      "outputs": [],
      "source": [
        "#La instalación de librerias se realiza bajo el siguiente comando\n",
        "#!pip install nombreLibrería\n",
        "#Para este ejemplo, utilizaremos la librería pandas, la cual instalaremos\n"
      ]
    },
    {
      "cell_type": "code",
      "execution_count": null,
      "metadata": {
        "id": "STrRutO2C6s4"
      },
      "outputs": [],
      "source": [
        "#Para instalar una versión en especifico, se realiza con el comando\n",
        "#!pip install nombreLibreria==0.9.0\n"
      ]
    },
    {
      "cell_type": "markdown",
      "metadata": {
        "id": "f-IB6vVZD4R7"
      },
      "source": [
        "## Verificar versiones del stack de librerías en el entorno de trabajo"
      ]
    },
    {
      "cell_type": "code",
      "execution_count": null,
      "metadata": {
        "id": "HhOU72_8EDLU"
      },
      "outputs": [],
      "source": [
        "#Podremos consultar la lista del stack de pibrerias de nuestro entorno de ejecusión en google colab\n"
      ]
    },
    {
      "cell_type": "markdown",
      "metadata": {
        "id": "pwO1Uec6Ftfq"
      },
      "source": [
        "##Saber sobre una librería en específico"
      ]
    },
    {
      "cell_type": "code",
      "execution_count": null,
      "metadata": {
        "id": "fw6wA1TOE9d9"
      },
      "outputs": [],
      "source": [
        "#Podremos consultar sobre una librería en especifico con el comando help!!!\n",
        "#Para este caso, consultaremos información de la librería tensorflow\n"
      ]
    }
  ],
  "metadata": {
    "colab": {
      "provenance": []
    },
    "kernelspec": {
      "display_name": "Python 3",
      "name": "python3"
    },
    "language_info": {
      "codemirror_mode": {
        "name": "ipython",
        "version": 3
      },
      "file_extension": ".py",
      "mimetype": "text/x-python",
      "name": "python",
      "nbconvert_exporter": "python",
      "pygments_lexer": "ipython3",
      "version": "3.10.8"
    }
  },
  "nbformat": 4,
  "nbformat_minor": 0
}
