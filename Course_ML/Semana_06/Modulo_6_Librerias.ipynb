{
  "cells": [
    {
      "cell_type": "markdown",
      "metadata": {
        "id": "bN9rRNbB9D9j"
      },
      "source": [
        "# Librerías en Python - Google Colab"
      ]
    },
    {
      "cell_type": "markdown",
      "metadata": {},
      "source": [
        "## Libreria propia de Python"
      ]
    },
    {
      "cell_type": "code",
      "execution_count": 2,
      "metadata": {},
      "outputs": [
        {
          "name": "stdout",
          "output_type": "stream",
          "text": [
            "hola\n"
          ]
        }
      ],
      "source": [
        "# Built - in Function\n",
        "# entrada\n",
        "A = input('Digite un mensaje: ')"
      ]
    },
    {
      "cell_type": "code",
      "execution_count": 3,
      "metadata": {},
      "outputs": [
        {
          "name": "stdout",
          "output_type": "stream",
          "text": [
            "hola\n"
          ]
        }
      ],
      "source": [
        "# imprimir\n",
        "print(A)"
      ]
    },
    {
      "cell_type": "code",
      "execution_count": 4,
      "metadata": {},
      "outputs": [
        {
          "data": {
            "text/plain": [
              "str"
            ]
          },
          "execution_count": 4,
          "metadata": {},
          "output_type": "execute_result"
        }
      ],
      "source": [
        "# tipo de dato\n",
        "type(A)"
      ]
    },
    {
      "cell_type": "markdown",
      "metadata": {
        "id": "bSMs6X38AKSh"
      },
      "source": [
        "## Importar y Modulos"
      ]
    },
    {
      "cell_type": "code",
      "execution_count": 1,
      "metadata": {
        "id": "eMYM4Olc63EX"
      },
      "outputs": [],
      "source": [
        "# importar una librería y todos sus métodos\n",
        "import numpy"
      ]
    },
    {
      "cell_type": "code",
      "execution_count": 2,
      "metadata": {
        "id": "UYqUKXoL9YYX"
      },
      "outputs": [],
      "source": [
        "#Creando una lista\n",
        "numeros = [1,2,3,4,5]"
      ]
    },
    {
      "cell_type": "code",
      "execution_count": 3,
      "metadata": {
        "id": "3d0tuNOs9z-i"
      },
      "outputs": [
        {
          "data": {
            "text/plain": [
              "array([1, 2, 3, 4, 5])"
            ]
          },
          "execution_count": 3,
          "metadata": {},
          "output_type": "execute_result"
        }
      ],
      "source": [
        "#Creando un array con numpy y probando uno de sus metodos importados\n",
        "#Accediendo a metodo mediante nomenclatura del punto (.)\n",
        "numpy.array(numeros)"
      ]
    },
    {
      "cell_type": "code",
      "execution_count": 4,
      "metadata": {
        "id": "ajHg5AEu9s_b"
      },
      "outputs": [
        {
          "name": "stdout",
          "output_type": "stream",
          "text": [
            "<class 'numpy.ndarray'>\n"
          ]
        }
      ],
      "source": [
        "#Verificando los tipos de datos en nuestras salidas\n",
        "print(type(numpy.array(numeros)))"
      ]
    },
    {
      "cell_type": "code",
      "execution_count": null,
      "metadata": {
        "id": "qVuG8e7q9tyy"
      },
      "outputs": [],
      "source": [
        "#Como utilizar los modulos FROM y setencia IMPORT\n"
      ]
    },
    {
      "cell_type": "code",
      "execution_count": null,
      "metadata": {
        "id": "MXLiV9QF-igP"
      },
      "outputs": [],
      "source": [
        "#Simplificando un poco la sintaxis\n"
      ]
    },
    {
      "cell_type": "code",
      "execution_count": null,
      "metadata": {
        "id": "Uj_jhyVG-p8I"
      },
      "outputs": [],
      "source": [
        "#Importando todas sus propiedades y métodos\n",
        "\n",
        "#Desventajas en grandes proyectos"
      ]
    },
    {
      "cell_type": "code",
      "execution_count": null,
      "metadata": {
        "id": "AktPj3xl_t_x"
      },
      "outputs": [],
      "source": [
        "#Diferencias entre\n",
        "\n",
        "#vs\n",
        "\n",
        "#Son lo mismo!"
      ]
    },
    {
      "cell_type": "markdown",
      "metadata": {
        "id": "FLDX3t7iAT0E"
      },
      "source": [
        "## Referencias o Instanciación"
      ]
    },
    {
      "cell_type": "code",
      "execution_count": null,
      "metadata": {
        "id": "w0piJB6F_6H3"
      },
      "outputs": [],
      "source": [
        "#Se puede crear una referencia de la librería numpy mediante un nombre más simple\n",
        "#Basicamente es como si re-nombraramos la libreráa a un nombre sencillo\n"
      ]
    },
    {
      "cell_type": "markdown",
      "metadata": {
        "id": "D2XEQAHHA6Dy"
      },
      "source": [
        "### Ejercicio: referenciar o re-nombrar las siguientes librerías. (pandas, matplotlib, scipy)"
      ]
    },
    {
      "cell_type": "code",
      "execution_count": null,
      "metadata": {
        "id": "Wp21cT37BE2S"
      },
      "outputs": [],
      "source": [
        "# Ejemplo de como renombrar las librerías\n"
      ]
    },
    {
      "cell_type": "markdown",
      "metadata": {
        "id": "Iq-P0CUIBfC2"
      },
      "source": [
        "Nota: Es importante aclarar, que la referencia o el proceso de re-nombrar una librería, puede colocarse cualquier nombre. No obstante, se busca que el nombre sea simple y coherente con el paquete o solución a utilizar."
      ]
    },
    {
      "cell_type": "code",
      "execution_count": null,
      "metadata": {
        "id": "UChb33o0BQYl"
      },
      "outputs": [],
      "source": [
        "# Ejemplo de un mal proceso de renombrar una librería\n"
      ]
    },
    {
      "cell_type": "code",
      "execution_count": null,
      "metadata": {
        "id": "hAuXHgZoBzkQ"
      },
      "outputs": [],
      "source": [
        "#No es una buena practica\n"
      ]
    },
    {
      "cell_type": "code",
      "execution_count": null,
      "metadata": {
        "id": "bCVrS6K5B8Hn"
      },
      "outputs": [],
      "source": []
    },
    {
      "cell_type": "code",
      "execution_count": null,
      "metadata": {
        "id": "C554_xxJCCc9"
      },
      "outputs": [],
      "source": [
        "#A pesar de que funciona sin problemas, no es una buena practica\n"
      ]
    },
    {
      "cell_type": "code",
      "execution_count": null,
      "metadata": {
        "id": "hxdpT15nCF_7"
      },
      "outputs": [],
      "source": [
        "#Lo mejor que se puede usar son dos o maximo 3 caracteres para renombrar\n"
      ]
    },
    {
      "cell_type": "markdown",
      "metadata": {
        "id": "aagjwltTCZUq"
      },
      "source": [
        "## Instalación de Librerías"
      ]
    },
    {
      "cell_type": "code",
      "execution_count": null,
      "metadata": {
        "id": "rS5sGPbJCTGS"
      },
      "outputs": [],
      "source": [
        "#La instalación de librerias se realiza bajo el siguiente comando\n",
        "#!pip install nombreLibrería\n",
        "#Para este ejemplo, utilizaremos la librería pandas, la cual instalaremos\n"
      ]
    },
    {
      "cell_type": "code",
      "execution_count": null,
      "metadata": {
        "id": "STrRutO2C6s4"
      },
      "outputs": [],
      "source": [
        "#Para instalar una versión en especifico, se realiza con el comando\n",
        "#!pip install nombreLibreria==0.9.0\n"
      ]
    },
    {
      "cell_type": "markdown",
      "metadata": {
        "id": "f-IB6vVZD4R7"
      },
      "source": [
        "## Verificar versiones del stack de librerías en el entorno de trabajo"
      ]
    },
    {
      "cell_type": "code",
      "execution_count": null,
      "metadata": {
        "id": "HhOU72_8EDLU"
      },
      "outputs": [],
      "source": [
        "#Podremos consultar la lista del stack de pibrerias de nuestro entorno de ejecusión en google colab\n"
      ]
    },
    {
      "cell_type": "markdown",
      "metadata": {
        "id": "pwO1Uec6Ftfq"
      },
      "source": [
        "##Saber sobre una librería en específico"
      ]
    },
    {
      "cell_type": "code",
      "execution_count": null,
      "metadata": {
        "id": "fw6wA1TOE9d9"
      },
      "outputs": [],
      "source": [
        "#Podremos consultar sobre una librería en especifico con el comando help!!!\n",
        "#Para este caso, consultaremos información de la librería tensorflow\n"
      ]
    }
  ],
  "metadata": {
    "colab": {
      "provenance": []
    },
    "kernelspec": {
      "display_name": "Python 3",
      "name": "python3"
    },
    "language_info": {
      "codemirror_mode": {
        "name": "ipython",
        "version": 3
      },
      "file_extension": ".py",
      "mimetype": "text/x-python",
      "name": "python",
      "nbconvert_exporter": "python",
      "pygments_lexer": "ipython3",
      "version": "3.10.8"
    }
  },
  "nbformat": 4,
  "nbformat_minor": 0
}
