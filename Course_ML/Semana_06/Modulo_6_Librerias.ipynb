{
  "cells": [
    {
      "cell_type": "markdown",
      "metadata": {
        "id": "bN9rRNbB9D9j"
      },
      "source": [
        "# Librerías en Python - Google Colab"
      ]
    },
    {
      "cell_type": "markdown",
      "metadata": {},
      "source": [
        "## Libreria propia de Python"
      ]
    },
    {
      "cell_type": "code",
      "execution_count": 2,
      "metadata": {},
      "outputs": [
        {
          "name": "stdout",
          "output_type": "stream",
          "text": [
            "hola\n"
          ]
        }
      ],
      "source": [
        "# Built - in Function\n",
        "# entrada\n",
        "A = input('Digite un mensaje: ')"
      ]
    },
    {
      "cell_type": "code",
      "execution_count": 3,
      "metadata": {},
      "outputs": [
        {
          "name": "stdout",
          "output_type": "stream",
          "text": [
            "hola\n"
          ]
        }
      ],
      "source": [
        "# imprimir\n",
        "print(A)"
      ]
    },
    {
      "cell_type": "code",
      "execution_count": 4,
      "metadata": {},
      "outputs": [
        {
          "data": {
            "text/plain": [
              "str"
            ]
          },
          "execution_count": 4,
          "metadata": {},
          "output_type": "execute_result"
        }
      ],
      "source": [
        "# tipo de dato\n",
        "type(A)"
      ]
    },
    {
      "cell_type": "markdown",
      "metadata": {
        "id": "bSMs6X38AKSh"
      },
      "source": [
        "## Importar Modulo Propio"
      ]
    },
    {
      "cell_type": "code",
      "execution_count": 5,
      "metadata": {
        "id": "eMYM4Olc63EX"
      },
      "outputs": [],
      "source": [
        "# importar un modulo propio y todos sus métodos\n",
        "import MiModulo"
      ]
    },
    {
      "cell_type": "code",
      "execution_count": 6,
      "metadata": {
        "id": "UYqUKXoL9YYX"
      },
      "outputs": [
        {
          "data": {
            "text/plain": [
              "8"
            ]
          },
          "execution_count": 6,
          "metadata": {},
          "output_type": "execute_result"
        }
      ],
      "source": [
        "# suma de dos numeros\n",
        "MiModulo.suma(3,5)"
      ]
    },
    {
      "cell_type": "code",
      "execution_count": 7,
      "metadata": {
        "id": "3d0tuNOs9z-i"
      },
      "outputs": [
        {
          "data": {
            "text/plain": [
              "2"
            ]
          },
          "execution_count": 7,
          "metadata": {},
          "output_type": "execute_result"
        }
      ],
      "source": [
        "# resta de dos numeros\n",
        "MiModulo.resta(3,1)"
      ]
    },
    {
      "cell_type": "markdown",
      "metadata": {
        "id": "ajHg5AEu9s_b"
      },
      "source": [
        "## Importar solo componentes de interes del modulo propio"
      ]
    },
    {
      "cell_type": "code",
      "execution_count": 8,
      "metadata": {
        "id": "qVuG8e7q9tyy"
      },
      "outputs": [],
      "source": [
        "# importar solo la funcio suma\n",
        "from MiModulo import suma"
      ]
    },
    {
      "cell_type": "code",
      "execution_count": 9,
      "metadata": {
        "id": "MXLiV9QF-igP"
      },
      "outputs": [
        {
          "data": {
            "text/plain": [
              "36"
            ]
          },
          "execution_count": 9,
          "metadata": {},
          "output_type": "execute_result"
        }
      ],
      "source": [
        "# suma de dos numeros\n",
        "suma(34,2)"
      ]
    },
    {
      "cell_type": "markdown",
      "metadata": {
        "id": "Uj_jhyVG-p8I"
      },
      "source": [
        "## Importar todo el modulo con *"
      ]
    },
    {
      "cell_type": "code",
      "execution_count": 10,
      "metadata": {
        "id": "AktPj3xl_t_x"
      },
      "outputs": [],
      "source": [
        "from MiModulo import *"
      ]
    },
    {
      "cell_type": "code",
      "execution_count": 11,
      "metadata": {},
      "outputs": [
        {
          "data": {
            "text/plain": [
              "29"
            ]
          },
          "execution_count": 11,
          "metadata": {},
          "output_type": "execute_result"
        }
      ],
      "source": [
        "# sumar dos numeros\n",
        "suma(21, 8)"
      ]
    },
    {
      "cell_type": "code",
      "execution_count": 12,
      "metadata": {},
      "outputs": [
        {
          "data": {
            "text/plain": [
              "-9"
            ]
          },
          "execution_count": 12,
          "metadata": {},
          "output_type": "execute_result"
        }
      ],
      "source": [
        "# resta de dos numeros\n",
        "resta(14,23)"
      ]
    },
    {
      "cell_type": "markdown",
      "metadata": {
        "id": "FLDX3t7iAT0E"
      },
      "source": [
        "## Rutas y Uso de sys.path"
      ]
    },
    {
      "cell_type": "markdown",
      "metadata": {
        "id": "w0piJB6F_6H3"
      },
      "source": [
        "Normalmente los módulos que importamos están en la misma carpeta, pero es posible acceder también a módulos ubicados en una subcarpeta. \n",
        "\n",
        "En la carpeta 'Semana_05' se encuentra un modulo llamado '_ModuloMulti.py_' el cual contiene una funcion que multiplica dos numeros. Para importar dicho modulo en este proyecto procedemos como sigue:"
      ]
    },
    {
      "cell_type": "code",
      "execution_count": 15,
      "metadata": {
        "id": "Wp21cT37BE2S"
      },
      "outputs": [
        {
          "name": "stdout",
          "output_type": "stream",
          "text": [
            "['/home/jbernal/Data_Science/Course_ML/Semana_06', '/home/jbernal/anaconda3/envs/data/lib/python310.zip', '/home/jbernal/anaconda3/envs/data/lib/python3.10', '/home/jbernal/anaconda3/envs/data/lib/python3.10/lib-dynload', '', '/home/jbernal/anaconda3/envs/data/lib/python3.10/site-packages', '/home/jbernal/anaconda3/envs/data/lib/python3.10/site-packages/googletrans-2.3.0-py3.10.egg', '/home/jbernal/anaconda3/envs/data/lib/python3.10/site-packages/certifi-2022.12.7-py3.10.egg']\n"
          ]
        }
      ],
      "source": [
        "# manejador de rutas del sistema\n",
        "import sys\n",
        "# mostrar mi ruta actual\n",
        "print(sys.path)"
      ]
    },
    {
      "cell_type": "markdown",
      "metadata": {
        "id": "Iq-P0CUIBfC2"
      },
      "source": [
        "La carpeta de tu proyecto está incluida, pero ¿y si queremos importar un módulo en una ubicación distinta? Pues bien, podemos añadir al sys.path la ruta en la que queremos que Python busque."
      ]
    },
    {
      "cell_type": "code",
      "execution_count": 18,
      "metadata": {
        "id": "UChb33o0BQYl"
      },
      "outputs": [],
      "source": [
        "# agregamos la ruta de la carpeta donde se encuentra el modulo\n",
        "sys.path.append(r'/home/jbernal/Data_Science/Course_ML/Semana_05')\n",
        "# importamos el modulo\n",
        "import ModuloMulti\n"
      ]
    },
    {
      "cell_type": "code",
      "execution_count": 19,
      "metadata": {
        "id": "hAuXHgZoBzkQ"
      },
      "outputs": [
        {
          "data": {
            "text/plain": [
              "6"
            ]
          },
          "execution_count": 19,
          "metadata": {},
          "output_type": "execute_result"
        }
      ],
      "source": [
        "# utilizamos la funcion del modulo\n",
        "ModuloMulti.multi(2,3)"
      ]
    },
    {
      "cell_type": "code",
      "execution_count": null,
      "metadata": {
        "id": "bCVrS6K5B8Hn"
      },
      "outputs": [],
      "source": []
    },
    {
      "cell_type": "code",
      "execution_count": null,
      "metadata": {
        "id": "C554_xxJCCc9"
      },
      "outputs": [],
      "source": [
        "#A pesar de que funciona sin problemas, no es una buena practica\n"
      ]
    },
    {
      "cell_type": "code",
      "execution_count": null,
      "metadata": {
        "id": "hxdpT15nCF_7"
      },
      "outputs": [],
      "source": [
        "#Lo mejor que se puede usar son dos o maximo 3 caracteres para renombrar\n"
      ]
    },
    {
      "cell_type": "markdown",
      "metadata": {
        "id": "aagjwltTCZUq"
      },
      "source": [
        "## Instalación de Librerías"
      ]
    },
    {
      "cell_type": "code",
      "execution_count": null,
      "metadata": {
        "id": "rS5sGPbJCTGS"
      },
      "outputs": [],
      "source": [
        "#La instalación de librerias se realiza bajo el siguiente comando\n",
        "#!pip install nombreLibrería\n",
        "#Para este ejemplo, utilizaremos la librería pandas, la cual instalaremos\n"
      ]
    },
    {
      "cell_type": "code",
      "execution_count": null,
      "metadata": {
        "id": "STrRutO2C6s4"
      },
      "outputs": [],
      "source": [
        "#Para instalar una versión en especifico, se realiza con el comando\n",
        "#!pip install nombreLibreria==0.9.0\n"
      ]
    },
    {
      "cell_type": "markdown",
      "metadata": {
        "id": "f-IB6vVZD4R7"
      },
      "source": [
        "## Verificar versiones del stack de librerías en el entorno de trabajo"
      ]
    },
    {
      "cell_type": "code",
      "execution_count": null,
      "metadata": {
        "id": "HhOU72_8EDLU"
      },
      "outputs": [],
      "source": [
        "#Podremos consultar la lista del stack de pibrerias de nuestro entorno de ejecusión en google colab\n"
      ]
    },
    {
      "cell_type": "markdown",
      "metadata": {
        "id": "pwO1Uec6Ftfq"
      },
      "source": [
        "##Saber sobre una librería en específico"
      ]
    },
    {
      "cell_type": "code",
      "execution_count": null,
      "metadata": {
        "id": "fw6wA1TOE9d9"
      },
      "outputs": [],
      "source": [
        "#Podremos consultar sobre una librería en especifico con el comando help!!!\n",
        "#Para este caso, consultaremos información de la librería tensorflow\n"
      ]
    }
  ],
  "metadata": {
    "colab": {
      "provenance": []
    },
    "kernelspec": {
      "display_name": "Python 3",
      "name": "python3"
    },
    "language_info": {
      "codemirror_mode": {
        "name": "ipython",
        "version": 3
      },
      "file_extension": ".py",
      "mimetype": "text/x-python",
      "name": "python",
      "nbconvert_exporter": "python",
      "pygments_lexer": "ipython3",
      "version": "3.10.8"
    }
  },
  "nbformat": 4,
  "nbformat_minor": 0
}
