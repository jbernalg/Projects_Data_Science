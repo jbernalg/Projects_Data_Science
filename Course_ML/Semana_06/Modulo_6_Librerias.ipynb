{
  "cells": [
    {
      "cell_type": "markdown",
      "metadata": {
        "id": "bN9rRNbB9D9j"
      },
      "source": [
        "# Librerías en Python - Google Colab"
      ]
    },
    {
      "cell_type": "markdown",
      "metadata": {},
      "source": [
        "## Libreria propia de Python"
      ]
    },
    {
      "cell_type": "code",
      "execution_count": 2,
      "metadata": {},
      "outputs": [
        {
          "name": "stdout",
          "output_type": "stream",
          "text": [
            "hola\n"
          ]
        }
      ],
      "source": [
        "# Built - in Function\n",
        "# entrada\n",
        "A = input('Digite un mensaje: ')"
      ]
    },
    {
      "cell_type": "code",
      "execution_count": 3,
      "metadata": {},
      "outputs": [
        {
          "name": "stdout",
          "output_type": "stream",
          "text": [
            "hola\n"
          ]
        }
      ],
      "source": [
        "# imprimir\n",
        "print(A)"
      ]
    },
    {
      "cell_type": "code",
      "execution_count": 4,
      "metadata": {},
      "outputs": [
        {
          "data": {
            "text/plain": [
              "str"
            ]
          },
          "execution_count": 4,
          "metadata": {},
          "output_type": "execute_result"
        }
      ],
      "source": [
        "# tipo de dato\n",
        "type(A)"
      ]
    },
    {
      "cell_type": "markdown",
      "metadata": {
        "id": "bSMs6X38AKSh"
      },
      "source": [
        "## Importar Modulo Propio"
      ]
    },
    {
      "cell_type": "code",
      "execution_count": 5,
      "metadata": {
        "id": "eMYM4Olc63EX"
      },
      "outputs": [],
      "source": [
        "# importar un modulo propio y todos sus métodos\n",
        "import MiModulo"
      ]
    },
    {
      "cell_type": "code",
      "execution_count": 6,
      "metadata": {
        "id": "UYqUKXoL9YYX"
      },
      "outputs": [
        {
          "data": {
            "text/plain": [
              "8"
            ]
          },
          "execution_count": 6,
          "metadata": {},
          "output_type": "execute_result"
        }
      ],
      "source": [
        "# suma de dos numeros\n",
        "MiModulo.suma(3,5)"
      ]
    },
    {
      "cell_type": "code",
      "execution_count": 7,
      "metadata": {
        "id": "3d0tuNOs9z-i"
      },
      "outputs": [
        {
          "data": {
            "text/plain": [
              "2"
            ]
          },
          "execution_count": 7,
          "metadata": {},
          "output_type": "execute_result"
        }
      ],
      "source": [
        "# resta de dos numeros\n",
        "MiModulo.resta(3,1)"
      ]
    },
    {
      "cell_type": "markdown",
      "metadata": {
        "id": "ajHg5AEu9s_b"
      },
      "source": [
        "## Importar solo componentes de interes del modulo propio"
      ]
    },
    {
      "cell_type": "code",
      "execution_count": 8,
      "metadata": {
        "id": "qVuG8e7q9tyy"
      },
      "outputs": [],
      "source": [
        "# importar solo la funcio suma\n",
        "from MiModulo import suma"
      ]
    },
    {
      "cell_type": "code",
      "execution_count": 9,
      "metadata": {
        "id": "MXLiV9QF-igP"
      },
      "outputs": [
        {
          "data": {
            "text/plain": [
              "36"
            ]
          },
          "execution_count": 9,
          "metadata": {},
          "output_type": "execute_result"
        }
      ],
      "source": [
        "# suma de dos numeros\n",
        "suma(34,2)"
      ]
    },
    {
      "cell_type": "markdown",
      "metadata": {
        "id": "Uj_jhyVG-p8I"
      },
      "source": [
        "## Importar todo el modulo con *"
      ]
    },
    {
      "cell_type": "code",
      "execution_count": 10,
      "metadata": {
        "id": "AktPj3xl_t_x"
      },
      "outputs": [],
      "source": [
        "from MiModulo import *"
      ]
    },
    {
      "cell_type": "code",
      "execution_count": 11,
      "metadata": {},
      "outputs": [
        {
          "data": {
            "text/plain": [
              "29"
            ]
          },
          "execution_count": 11,
          "metadata": {},
          "output_type": "execute_result"
        }
      ],
      "source": [
        "# sumar dos numeros\n",
        "suma(21, 8)"
      ]
    },
    {
      "cell_type": "code",
      "execution_count": 12,
      "metadata": {},
      "outputs": [
        {
          "data": {
            "text/plain": [
              "-9"
            ]
          },
          "execution_count": 12,
          "metadata": {},
          "output_type": "execute_result"
        }
      ],
      "source": [
        "# resta de dos numeros\n",
        "resta(14,23)"
      ]
    },
    {
      "cell_type": "markdown",
      "metadata": {
        "id": "FLDX3t7iAT0E"
      },
      "source": [
        "## Rutas y Uso de sys.path"
      ]
    },
    {
      "cell_type": "markdown",
      "metadata": {
        "id": "w0piJB6F_6H3"
      },
      "source": [
        "Normalmente los módulos que importamos están en la misma carpeta, pero es posible acceder también a módulos ubicados en una subcarpeta. \n",
        "\n",
        "En la carpeta 'Semana_05' se encuentra un modulo llamado '_ModuloMulti.py_' el cual contiene una funcion que multiplica dos numeros. Para importar dicho modulo en este proyecto procedemos como sigue:"
      ]
    },
    {
      "cell_type": "code",
      "execution_count": 15,
      "metadata": {
        "id": "Wp21cT37BE2S"
      },
      "outputs": [
        {
          "name": "stdout",
          "output_type": "stream",
          "text": [
            "['/home/jbernal/Data_Science/Course_ML/Semana_06', '/home/jbernal/anaconda3/envs/data/lib/python310.zip', '/home/jbernal/anaconda3/envs/data/lib/python3.10', '/home/jbernal/anaconda3/envs/data/lib/python3.10/lib-dynload', '', '/home/jbernal/anaconda3/envs/data/lib/python3.10/site-packages', '/home/jbernal/anaconda3/envs/data/lib/python3.10/site-packages/googletrans-2.3.0-py3.10.egg', '/home/jbernal/anaconda3/envs/data/lib/python3.10/site-packages/certifi-2022.12.7-py3.10.egg']\n"
          ]
        }
      ],
      "source": [
        "# manejador de rutas del sistema\n",
        "import sys\n",
        "# mostrar mi ruta actual\n",
        "print(sys.path)"
      ]
    },
    {
      "cell_type": "markdown",
      "metadata": {
        "id": "Iq-P0CUIBfC2"
      },
      "source": [
        "La carpeta de tu proyecto está incluida, pero ¿y si queremos importar un módulo en una ubicación distinta? Pues bien, podemos añadir al sys.path la ruta en la que queremos que Python busque."
      ]
    },
    {
      "cell_type": "code",
      "execution_count": 18,
      "metadata": {
        "id": "UChb33o0BQYl"
      },
      "outputs": [],
      "source": [
        "# agregamos la ruta de la carpeta donde se encuentra el modulo\n",
        "sys.path.append(r'/home/jbernal/Data_Science/Course_ML/Semana_05')\n",
        "# importamos el modulo\n",
        "import ModuloMulti\n"
      ]
    },
    {
      "cell_type": "code",
      "execution_count": 19,
      "metadata": {
        "id": "hAuXHgZoBzkQ"
      },
      "outputs": [
        {
          "data": {
            "text/plain": [
              "6"
            ]
          },
          "execution_count": 19,
          "metadata": {},
          "output_type": "execute_result"
        }
      ],
      "source": [
        "# utilizamos la funcion del modulo\n",
        "ModuloMulti.multi(2,3)"
      ]
    },
    {
      "cell_type": "markdown",
      "metadata": {
        "id": "bCVrS6K5B8Hn"
      },
      "source": [
        "## Cambiar nombre de modulos con _as_"
      ]
    },
    {
      "cell_type": "code",
      "execution_count": 20,
      "metadata": {
        "id": "C554_xxJCCc9"
      },
      "outputs": [],
      "source": [
        "# importar MiModulo cambiando su nombre\n",
        "import MiModulo as M"
      ]
    },
    {
      "cell_type": "code",
      "execution_count": 21,
      "metadata": {
        "id": "hxdpT15nCF_7"
      },
      "outputs": [
        {
          "data": {
            "text/plain": [
              "-53"
            ]
          },
          "execution_count": 21,
          "metadata": {},
          "output_type": "execute_result"
        }
      ],
      "source": [
        "MiModulo.resta(23,76)"
      ]
    },
    {
      "cell_type": "markdown",
      "metadata": {
        "id": "aagjwltTCZUq"
      },
      "source": [
        "## Listando Directorios"
      ]
    },
    {
      "cell_type": "markdown",
      "metadata": {
        "id": "rS5sGPbJCTGS"
      },
      "source": [
        "La función _dir()_ nos permite ver los nombres (variables, funciones, clases, etc) existentes en nuestro namespace. Si probamos en un módulo vacío, podemos ver como tenemos varios nombres rodeados de __. Se trata de nombres que Python crea por debajo."
      ]
    },
    {
      "cell_type": "code",
      "execution_count": 23,
      "metadata": {
        "id": "STrRutO2C6s4"
      },
      "outputs": [
        {
          "data": {
            "text/plain": [
              "['In',\n",
              " 'M',\n",
              " 'MiModulo',\n",
              " 'ModuloMulti',\n",
              " 'Out',\n",
              " '_',\n",
              " '_11',\n",
              " '_12',\n",
              " '_14',\n",
              " '_19',\n",
              " '_21',\n",
              " '_3',\n",
              " '_6',\n",
              " '_7',\n",
              " '_9',\n",
              " '__',\n",
              " '___',\n",
              " '__builtin__',\n",
              " '__builtins__',\n",
              " '__doc__',\n",
              " '__loader__',\n",
              " '__name__',\n",
              " '__package__',\n",
              " '__spec__',\n",
              " '__vsc_ipynb_file__',\n",
              " '_dh',\n",
              " '_i',\n",
              " '_i1',\n",
              " '_i10',\n",
              " '_i11',\n",
              " '_i12',\n",
              " '_i13',\n",
              " '_i14',\n",
              " '_i15',\n",
              " '_i16',\n",
              " '_i17',\n",
              " '_i18',\n",
              " '_i19',\n",
              " '_i2',\n",
              " '_i20',\n",
              " '_i21',\n",
              " '_i22',\n",
              " '_i23',\n",
              " '_i3',\n",
              " '_i4',\n",
              " '_i5',\n",
              " '_i6',\n",
              " '_i7',\n",
              " '_i8',\n",
              " '_i9',\n",
              " '_ih',\n",
              " '_ii',\n",
              " '_iii',\n",
              " '_oh',\n",
              " 'exit',\n",
              " 'get_ipython',\n",
              " 'numeros',\n",
              " 'numpy',\n",
              " 'quit',\n",
              " 'resta',\n",
              " 'suma',\n",
              " 'sys']"
            ]
          },
          "execution_count": 23,
          "metadata": {},
          "output_type": "execute_result"
        }
      ],
      "source": [
        "dir()\n"
      ]
    },
    {
      "cell_type": "markdown",
      "metadata": {},
      "source": [
        "Los componentes del módulo externo tambien es mostrado por _dir()_: _suma_, _resta_, _multi_.\n",
        "\n",
        "El uso de dir() también acepta parámetros de entrada, por lo que podemos por ejemplo pasar nuestro modulo y nos dará más información sobre lo que contiene."
      ]
    },
    {
      "cell_type": "code",
      "execution_count": 31,
      "metadata": {},
      "outputs": [
        {
          "data": {
            "text/plain": [
              "['__builtins__',\n",
              " '__cached__',\n",
              " '__doc__',\n",
              " '__file__',\n",
              " '__loader__',\n",
              " '__name__',\n",
              " '__package__',\n",
              " '__spec__',\n",
              " 'multi']"
            ]
          },
          "execution_count": 31,
          "metadata": {},
          "output_type": "execute_result"
        }
      ],
      "source": [
        "# componentes del modulo ModuloMulti\n",
        "dir(ModuloMulti)"
      ]
    },
    {
      "cell_type": "code",
      "execution_count": 33,
      "metadata": {},
      "outputs": [
        {
          "data": {
            "text/plain": [
              "['__builtins__',\n",
              " '__cached__',\n",
              " '__doc__',\n",
              " '__file__',\n",
              " '__loader__',\n",
              " '__name__',\n",
              " '__package__',\n",
              " '__spec__',\n",
              " 'resta',\n",
              " 'suma']"
            ]
          },
          "execution_count": 33,
          "metadata": {},
          "output_type": "execute_result"
        }
      ],
      "source": [
        "# componentes del modulo MiModulo\n",
        "dir(MiModulo)"
      ]
    },
    {
      "cell_type": "markdown",
      "metadata": {
        "id": "f-IB6vVZD4R7"
      },
      "source": [
        "## Excepcion ImportError"
      ]
    },
    {
      "cell_type": "markdown",
      "metadata": {
        "id": "HhOU72_8EDLU"
      },
      "source": [
        "Importar un módulo puede lanzar una excepción, cuando se intenta importar un módulo que no ha sido encontrado. Se trata de ModuleNotFoundError.\n"
      ]
    },
    {
      "cell_type": "code",
      "execution_count": 34,
      "metadata": {},
      "outputs": [
        {
          "ename": "ModuleNotFoundError",
          "evalue": "No module named 'NuevoModulo'",
          "output_type": "error",
          "traceback": [
            "\u001b[0;31m---------------------------------------------------------------------------\u001b[0m",
            "\u001b[0;31mModuleNotFoundError\u001b[0m                       Traceback (most recent call last)",
            "Input \u001b[0;32mIn [34]\u001b[0m, in \u001b[0;36m<cell line: 1>\u001b[0;34m()\u001b[0m\n\u001b[0;32m----> 1\u001b[0m \u001b[38;5;28;01mimport\u001b[39;00m \u001b[38;5;21;01mNuevoModulo\u001b[39;00m\n",
            "\u001b[0;31mModuleNotFoundError\u001b[0m: No module named 'NuevoModulo'"
          ]
        }
      ],
      "source": [
        "import NuevoModulo"
      ]
    },
    {
      "cell_type": "markdown",
      "metadata": {},
      "source": [
        "Dicha excepción puede ser capturada para evitar la interrupción del programa de la siguiente manera:"
      ]
    },
    {
      "cell_type": "code",
      "execution_count": 35,
      "metadata": {},
      "outputs": [
        {
          "name": "stdout",
          "output_type": "stream",
          "text": [
            "Hubo un error: No module named 'NuevoModulo'\n"
          ]
        }
      ],
      "source": [
        "try:\n",
        "    import NuevoModulo\n",
        "except ModuleNotFoundError as e:\n",
        "    print(\"Hubo un error:\", e)"
      ]
    },
    {
      "cell_type": "markdown",
      "metadata": {
        "id": "pwO1Uec6Ftfq"
      },
      "source": [
        "## Modulos y Funcion Main"
      ]
    },
    {
      "cell_type": "markdown",
      "metadata": {
        "id": "fw6wA1TOE9d9"
      },
      "source": [
        "Un problema muy recurrente es cuando creamos un módulo con una función y añadimos algunas sentencias a ejecutar.\n",
        "\n",
        "El modulo _ModuloArtimetico.py_ es similar al descrito anteriormente. Vamos a importarlo y veamos lo que ocurre"
      ]
    },
    {
      "cell_type": "code",
      "execution_count": 36,
      "metadata": {},
      "outputs": [
        {
          "name": "stdout",
          "output_type": "stream",
          "text": [
            "9 234\n"
          ]
        }
      ],
      "source": [
        "import ModuloAritmetico"
      ]
    },
    {
      "cell_type": "markdown",
      "metadata": {},
      "source": [
        "Vemos que al importarlo, se ejecutan todas las sentencias y devuelve un resultado y esto puede no ser lo que queramos.\n",
        "\n",
        "Para evitar estos problemas, introducimos las sentencias del modulo en __main__. Con la siguiente modificación, al importar nuevamente el modulo, este fragmento ya no se ejecutará al ser el módulo main otro."
      ]
    },
    {
      "cell_type": "code",
      "execution_count": 37,
      "metadata": {},
      "outputs": [],
      "source": [
        "import ModuloAritmetico"
      ]
    },
    {
      "cell_type": "markdown",
      "metadata": {},
      "source": [
        "## Recargando Modulos"
      ]
    },
    {
      "cell_type": "markdown",
      "metadata": {},
      "source": [
        "Los módulos solamente son cargados una vez. Es decir, no importa el número de veces que llamemos a un modulo, sólo se importará una vez.\n",
        "\n",
        "Imaginemos que tenemos el siguiente módulo que imprime el siguiente contenido cuando es importado."
      ]
    },
    {
      "cell_type": "code",
      "execution_count": 39,
      "metadata": {},
      "outputs": [
        {
          "name": "stdout",
          "output_type": "stream",
          "text": [
            "Importando modulo\n"
          ]
        }
      ],
      "source": [
        "# Prueba_Modulo.py\n",
        "\n",
        "print(\"Importando modulo\")\n",
        "\n",
        "def suma(a, b):\n",
        "    return a + b\n",
        "\n",
        "def resta(a, b):\n",
        "    return a - b"
      ]
    },
    {
      "cell_type": "markdown",
      "metadata": {},
      "source": [
        "A pesar de que llamamos tres veces al import, sólo vemos una única vez el contenido del print."
      ]
    },
    {
      "cell_type": "code",
      "execution_count": 40,
      "metadata": {},
      "outputs": [
        {
          "name": "stdout",
          "output_type": "stream",
          "text": [
            "Importando modulo\n"
          ]
        }
      ],
      "source": [
        "import Prueba_Modulo\n",
        "import Prueba_Modulo\n",
        "import Prueba_Modulo"
      ]
    },
    {
      "cell_type": "markdown",
      "metadata": {},
      "source": [
        "Si queremos que el módulo sea recargado, tenemos que ser explícitos, haciendo uso de reload."
      ]
    },
    {
      "cell_type": "code",
      "execution_count": 41,
      "metadata": {},
      "outputs": [
        {
          "name": "stdout",
          "output_type": "stream",
          "text": [
            "Importando modulo\n",
            "Importando modulo\n"
          ]
        },
        {
          "data": {
            "text/plain": [
              "<module 'Prueba_Modulo' from '/home/jbernal/Data_Science/Course_ML/Semana_06/Prueba_Modulo.py'>"
            ]
          },
          "execution_count": 41,
          "metadata": {},
          "output_type": "execute_result"
        }
      ],
      "source": [
        "import Prueba_Modulo\n",
        "import importlib\n",
        "importlib.reload(Prueba_Modulo)\n",
        "importlib.reload(Prueba_Modulo)"
      ]
    }
  ],
  "metadata": {
    "colab": {
      "provenance": []
    },
    "kernelspec": {
      "display_name": "Python 3",
      "name": "python3"
    },
    "language_info": {
      "codemirror_mode": {
        "name": "ipython",
        "version": 3
      },
      "file_extension": ".py",
      "mimetype": "text/x-python",
      "name": "python",
      "nbconvert_exporter": "python",
      "pygments_lexer": "ipython3",
      "version": "3.10.8"
    }
  },
  "nbformat": 4,
  "nbformat_minor": 0
}
