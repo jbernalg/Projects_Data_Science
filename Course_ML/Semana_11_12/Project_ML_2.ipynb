{
 "cells": [
  {
   "cell_type": "markdown",
   "metadata": {},
   "source": [
    "# Modelo de agrupamiento"
   ]
  },
  {
   "cell_type": "markdown",
   "metadata": {},
   "source": [
    "### Librerias"
   ]
  },
  {
   "cell_type": "code",
   "execution_count": 19,
   "metadata": {},
   "outputs": [],
   "source": [
    "import pandas as pd\n",
    "import numpy as np\n",
    "import matplotlib.pyplot as plt\n",
    "%matplotlib inline\n",
    "import seaborn as sns\n",
    "import datetime as dt\n",
    "\n",
    "from scipy.stats import boxcox, zscore\n",
    "from scipy.special import inv_boxcox\n",
    "\n",
    "from sklearn.experimental import enable_iterative_imputer\n",
    "#from sklearn.impute import IterativeImputer\n",
    "from sklearn.preprocessing import StandardScaler, MinMaxScaler\n",
    "from sklearn.model_selection import GridSearchCV\n",
    "from sklearn.cluster import KMeans"
   ]
  },
  {
   "cell_type": "markdown",
   "metadata": {},
   "source": [
    "### Cargar Datos Procesados"
   ]
  },
  {
   "cell_type": "code",
   "execution_count": 20,
   "metadata": {},
   "outputs": [
    {
     "data": {
      "text/html": [
       "<div>\n",
       "<style scoped>\n",
       "    .dataframe tbody tr th:only-of-type {\n",
       "        vertical-align: middle;\n",
       "    }\n",
       "\n",
       "    .dataframe tbody tr th {\n",
       "        vertical-align: top;\n",
       "    }\n",
       "\n",
       "    .dataframe thead th {\n",
       "        text-align: right;\n",
       "    }\n",
       "</style>\n",
       "<table border=\"1\" class=\"dataframe\">\n",
       "  <thead>\n",
       "    <tr style=\"text-align: right;\">\n",
       "      <th></th>\n",
       "      <th>Education</th>\n",
       "      <th>Marital_Status</th>\n",
       "      <th>Income</th>\n",
       "      <th>Kids</th>\n",
       "      <th>Recency</th>\n",
       "      <th>Expenses</th>\n",
       "      <th>Cus_age</th>\n",
       "      <th>TotalPurchases</th>\n",
       "      <th>TotalAcceptedCamp</th>\n",
       "      <th>Complain</th>\n",
       "      <th>Response</th>\n",
       "    </tr>\n",
       "  </thead>\n",
       "  <tbody>\n",
       "    <tr>\n",
       "      <th>0</th>\n",
       "      <td>Universitario</td>\n",
       "      <td>Solo</td>\n",
       "      <td>58138.0</td>\n",
       "      <td>0</td>\n",
       "      <td>58</td>\n",
       "      <td>1617</td>\n",
       "      <td>55</td>\n",
       "      <td>25</td>\n",
       "      <td>0</td>\n",
       "      <td>0</td>\n",
       "      <td>1</td>\n",
       "    </tr>\n",
       "    <tr>\n",
       "      <th>1</th>\n",
       "      <td>Universitario</td>\n",
       "      <td>Solo</td>\n",
       "      <td>46344.0</td>\n",
       "      <td>2</td>\n",
       "      <td>38</td>\n",
       "      <td>27</td>\n",
       "      <td>60</td>\n",
       "      <td>6</td>\n",
       "      <td>0</td>\n",
       "      <td>0</td>\n",
       "      <td>0</td>\n",
       "    </tr>\n",
       "    <tr>\n",
       "      <th>2</th>\n",
       "      <td>Universitario</td>\n",
       "      <td>Pareja</td>\n",
       "      <td>71613.0</td>\n",
       "      <td>0</td>\n",
       "      <td>26</td>\n",
       "      <td>776</td>\n",
       "      <td>48</td>\n",
       "      <td>21</td>\n",
       "      <td>0</td>\n",
       "      <td>0</td>\n",
       "      <td>0</td>\n",
       "    </tr>\n",
       "    <tr>\n",
       "      <th>3</th>\n",
       "      <td>Universitario</td>\n",
       "      <td>Pareja</td>\n",
       "      <td>26646.0</td>\n",
       "      <td>1</td>\n",
       "      <td>26</td>\n",
       "      <td>53</td>\n",
       "      <td>30</td>\n",
       "      <td>8</td>\n",
       "      <td>0</td>\n",
       "      <td>0</td>\n",
       "      <td>0</td>\n",
       "    </tr>\n",
       "    <tr>\n",
       "      <th>4</th>\n",
       "      <td>Posgrado</td>\n",
       "      <td>Pareja</td>\n",
       "      <td>58293.0</td>\n",
       "      <td>1</td>\n",
       "      <td>94</td>\n",
       "      <td>422</td>\n",
       "      <td>33</td>\n",
       "      <td>19</td>\n",
       "      <td>0</td>\n",
       "      <td>0</td>\n",
       "      <td>0</td>\n",
       "    </tr>\n",
       "  </tbody>\n",
       "</table>\n",
       "</div>"
      ],
      "text/plain": [
       "       Education Marital_Status   Income  Kids  Recency  Expenses  Cus_age  \\\n",
       "0  Universitario           Solo  58138.0     0       58      1617       55   \n",
       "1  Universitario           Solo  46344.0     2       38        27       60   \n",
       "2  Universitario         Pareja  71613.0     0       26       776       48   \n",
       "3  Universitario         Pareja  26646.0     1       26        53       30   \n",
       "4       Posgrado         Pareja  58293.0     1       94       422       33   \n",
       "\n",
       "   TotalPurchases  TotalAcceptedCamp  Complain  Response  \n",
       "0              25                  0         0         1  \n",
       "1               6                  0         0         0  \n",
       "2              21                  0         0         0  \n",
       "3               8                  0         0         0  \n",
       "4              19                  0         0         0  "
      ]
     },
     "execution_count": 20,
     "metadata": {},
     "output_type": "execute_result"
    }
   ],
   "source": [
    "data = pd.read_csv('data_processing.csv')\n",
    "data.head()"
   ]
  },
  {
   "cell_type": "markdown",
   "metadata": {},
   "source": [
    "### Convertir variables categoricas a numericas"
   ]
  },
  {
   "cell_type": "markdown",
   "metadata": {},
   "source": [
    "Creamos una copia del dataframe"
   ]
  },
  {
   "cell_type": "code",
   "execution_count": 21,
   "metadata": {},
   "outputs": [],
   "source": [
    "df = data.copy()"
   ]
  },
  {
   "cell_type": "markdown",
   "metadata": {},
   "source": [
    "Seleccionamos las caracteristicas de tipo categorica"
   ]
  },
  {
   "cell_type": "code",
   "execution_count": 22,
   "metadata": {},
   "outputs": [
    {
     "data": {
      "text/plain": [
       "['Education', 'Marital_Status']"
      ]
     },
     "execution_count": 22,
     "metadata": {},
     "output_type": "execute_result"
    }
   ],
   "source": [
    "var_category = df.select_dtypes(include='object').columns.to_list()\n",
    "var_category"
   ]
  },
  {
   "cell_type": "markdown",
   "metadata": {},
   "source": [
    "convertimos a valores numericos"
   ]
  },
  {
   "cell_type": "code",
   "execution_count": 23,
   "metadata": {},
   "outputs": [
    {
     "data": {
      "text/html": [
       "<div>\n",
       "<style scoped>\n",
       "    .dataframe tbody tr th:only-of-type {\n",
       "        vertical-align: middle;\n",
       "    }\n",
       "\n",
       "    .dataframe tbody tr th {\n",
       "        vertical-align: top;\n",
       "    }\n",
       "\n",
       "    .dataframe thead th {\n",
       "        text-align: right;\n",
       "    }\n",
       "</style>\n",
       "<table border=\"1\" class=\"dataframe\">\n",
       "  <thead>\n",
       "    <tr style=\"text-align: right;\">\n",
       "      <th></th>\n",
       "      <th>Income</th>\n",
       "      <th>Kids</th>\n",
       "      <th>Recency</th>\n",
       "      <th>Expenses</th>\n",
       "      <th>Cus_age</th>\n",
       "      <th>TotalPurchases</th>\n",
       "      <th>TotalAcceptedCamp</th>\n",
       "      <th>Complain</th>\n",
       "      <th>Response</th>\n",
       "      <th>Education_Posgrado</th>\n",
       "      <th>Education_Universitario</th>\n",
       "      <th>Marital_Status_Solo</th>\n",
       "    </tr>\n",
       "  </thead>\n",
       "  <tbody>\n",
       "    <tr>\n",
       "      <th>0</th>\n",
       "      <td>58138.0</td>\n",
       "      <td>0</td>\n",
       "      <td>58</td>\n",
       "      <td>1617</td>\n",
       "      <td>55</td>\n",
       "      <td>25</td>\n",
       "      <td>0</td>\n",
       "      <td>0</td>\n",
       "      <td>1</td>\n",
       "      <td>0</td>\n",
       "      <td>1</td>\n",
       "      <td>1</td>\n",
       "    </tr>\n",
       "    <tr>\n",
       "      <th>1</th>\n",
       "      <td>46344.0</td>\n",
       "      <td>2</td>\n",
       "      <td>38</td>\n",
       "      <td>27</td>\n",
       "      <td>60</td>\n",
       "      <td>6</td>\n",
       "      <td>0</td>\n",
       "      <td>0</td>\n",
       "      <td>0</td>\n",
       "      <td>0</td>\n",
       "      <td>1</td>\n",
       "      <td>1</td>\n",
       "    </tr>\n",
       "    <tr>\n",
       "      <th>2</th>\n",
       "      <td>71613.0</td>\n",
       "      <td>0</td>\n",
       "      <td>26</td>\n",
       "      <td>776</td>\n",
       "      <td>48</td>\n",
       "      <td>21</td>\n",
       "      <td>0</td>\n",
       "      <td>0</td>\n",
       "      <td>0</td>\n",
       "      <td>0</td>\n",
       "      <td>1</td>\n",
       "      <td>0</td>\n",
       "    </tr>\n",
       "    <tr>\n",
       "      <th>3</th>\n",
       "      <td>26646.0</td>\n",
       "      <td>1</td>\n",
       "      <td>26</td>\n",
       "      <td>53</td>\n",
       "      <td>30</td>\n",
       "      <td>8</td>\n",
       "      <td>0</td>\n",
       "      <td>0</td>\n",
       "      <td>0</td>\n",
       "      <td>0</td>\n",
       "      <td>1</td>\n",
       "      <td>0</td>\n",
       "    </tr>\n",
       "    <tr>\n",
       "      <th>4</th>\n",
       "      <td>58293.0</td>\n",
       "      <td>1</td>\n",
       "      <td>94</td>\n",
       "      <td>422</td>\n",
       "      <td>33</td>\n",
       "      <td>19</td>\n",
       "      <td>0</td>\n",
       "      <td>0</td>\n",
       "      <td>0</td>\n",
       "      <td>1</td>\n",
       "      <td>0</td>\n",
       "      <td>0</td>\n",
       "    </tr>\n",
       "  </tbody>\n",
       "</table>\n",
       "</div>"
      ],
      "text/plain": [
       "    Income  Kids  Recency  Expenses  Cus_age  TotalPurchases  \\\n",
       "0  58138.0     0       58      1617       55              25   \n",
       "1  46344.0     2       38        27       60               6   \n",
       "2  71613.0     0       26       776       48              21   \n",
       "3  26646.0     1       26        53       30               8   \n",
       "4  58293.0     1       94       422       33              19   \n",
       "\n",
       "   TotalAcceptedCamp  Complain  Response  Education_Posgrado  \\\n",
       "0                  0         0         1                   0   \n",
       "1                  0         0         0                   0   \n",
       "2                  0         0         0                   0   \n",
       "3                  0         0         0                   0   \n",
       "4                  0         0         0                   1   \n",
       "\n",
       "   Education_Universitario  Marital_Status_Solo  \n",
       "0                        1                    1  \n",
       "1                        1                    1  \n",
       "2                        1                    0  \n",
       "3                        1                    0  \n",
       "4                        0                    0  "
      ]
     },
     "execution_count": 23,
     "metadata": {},
     "output_type": "execute_result"
    }
   ],
   "source": [
    "x_enconded = pd.get_dummies(df, columns=var_category, drop_first=True, dtype=int)\n",
    "x_enconded.head()"
   ]
  },
  {
   "cell_type": "markdown",
   "metadata": {},
   "source": [
    "Verificamos que todas las variables sean numericas"
   ]
  },
  {
   "cell_type": "code",
   "execution_count": 24,
   "metadata": {},
   "outputs": [
    {
     "name": "stdout",
     "output_type": "stream",
     "text": [
      "<class 'pandas.core.frame.DataFrame'>\n",
      "RangeIndex: 2016 entries, 0 to 2015\n",
      "Data columns (total 12 columns):\n",
      " #   Column                   Non-Null Count  Dtype  \n",
      "---  ------                   --------------  -----  \n",
      " 0   Income                   2016 non-null   float64\n",
      " 1   Kids                     2016 non-null   int64  \n",
      " 2   Recency                  2016 non-null   int64  \n",
      " 3   Expenses                 2016 non-null   int64  \n",
      " 4   Cus_age                  2016 non-null   int64  \n",
      " 5   TotalPurchases           2016 non-null   int64  \n",
      " 6   TotalAcceptedCamp        2016 non-null   int64  \n",
      " 7   Complain                 2016 non-null   int64  \n",
      " 8   Response                 2016 non-null   int64  \n",
      " 9   Education_Posgrado       2016 non-null   int64  \n",
      " 10  Education_Universitario  2016 non-null   int64  \n",
      " 11  Marital_Status_Solo      2016 non-null   int64  \n",
      "dtypes: float64(1), int64(11)\n",
      "memory usage: 189.1 KB\n"
     ]
    }
   ],
   "source": [
    "x_enconded.info()"
   ]
  },
  {
   "cell_type": "markdown",
   "metadata": {},
   "source": [
    "### Normalizar los datos"
   ]
  },
  {
   "cell_type": "code",
   "execution_count": 29,
   "metadata": {},
   "outputs": [
    {
     "data": {
      "text/plain": [
       "array([[ 0.31591844, -1.28171455,  0.31644558, ..., -0.78776823,\n",
       "         0.8288723 ,  1.33155544],\n",
       "       [-0.25541911,  1.40289484, -0.37357042, ..., -0.78776823,\n",
       "         0.8288723 ,  1.33155544],\n",
       "       [ 0.96868879, -1.28171455, -0.78758002, ..., -0.78776823,\n",
       "         0.8288723 , -0.7510014 ],\n",
       "       ...,\n",
       "       [ 0.25986981, -1.28171455,  1.45497198, ..., -0.78776823,\n",
       "         0.8288723 ,  1.33155544],\n",
       "       [ 0.8539756 ,  0.06059014, -1.40859442, ...,  1.2694089 ,\n",
       "        -1.20645846, -0.7510014 ],\n",
       "       [ 0.06067192,  1.40289484, -0.30456882, ...,  1.2694089 ,\n",
       "        -1.20645846, -0.7510014 ]])"
      ]
     },
     "execution_count": 29,
     "metadata": {},
     "output_type": "execute_result"
    }
   ],
   "source": [
    "# instanciamos el objeto StandarScaler\n",
    "scale = StandardScaler()\n",
    "# normalizamos los datos\n",
    "x_scaled = scale.fit_transform(x_enconded)\n",
    "# mostrar registros escalados\n",
    "x_scaled[:]"
   ]
  },
  {
   "cell_type": "code",
   "execution_count": null,
   "metadata": {},
   "outputs": [],
   "source": []
  }
 ],
 "metadata": {
  "kernelspec": {
   "display_name": "data",
   "language": "python",
   "name": "python3"
  },
  "language_info": {
   "codemirror_mode": {
    "name": "ipython",
    "version": 3
   },
   "file_extension": ".py",
   "mimetype": "text/x-python",
   "name": "python",
   "nbconvert_exporter": "python",
   "pygments_lexer": "ipython3",
   "version": "3.10.8"
  }
 },
 "nbformat": 4,
 "nbformat_minor": 2
}
