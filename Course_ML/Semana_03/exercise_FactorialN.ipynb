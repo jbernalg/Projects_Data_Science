{
 "cells": [
  {
   "cell_type": "markdown",
   "metadata": {},
   "source": [
    "### Elaborar un programa para calcular  y mostrar el factorial de un entero entrado por teclado"
   ]
  },
  {
   "cell_type": "code",
   "execution_count": 9,
   "metadata": {},
   "outputs": [
    {
     "name": "stdout",
     "output_type": "stream",
     "text": [
      "El factorial de 4 es 24\n"
     ]
    }
   ],
   "source": [
    "# solicitar numero\n",
    "num = int(input('Ingrese un numero entero positivo: '))\n",
    "\n",
    "# inicializar contador y bandera\n",
    "mult = 1\n",
    "band = num\n",
    "\n",
    "if num == 1:\n",
    "    print(f'El factorial de {num} es 1')\n",
    "else:\n",
    "    while band > 1:\n",
    "        mult *= band\n",
    "        band -= 1\n",
    "    print(f'El factorial de {num} es {mult}')"
   ]
  },
  {
   "cell_type": "code",
   "execution_count": null,
   "metadata": {},
   "outputs": [],
   "source": []
  },
  {
   "cell_type": "code",
   "execution_count": null,
   "metadata": {},
   "outputs": [],
   "source": []
  }
 ],
 "metadata": {
  "kernelspec": {
   "display_name": "Python 3",
   "language": "python",
   "name": "python3"
  },
  "language_info": {
   "codemirror_mode": {
    "name": "ipython",
    "version": 3
   },
   "file_extension": ".py",
   "mimetype": "text/x-python",
   "name": "python",
   "nbconvert_exporter": "python",
   "pygments_lexer": "ipython3",
   "version": "3.8.10"
  }
 },
 "nbformat": 4,
 "nbformat_minor": 2
}
