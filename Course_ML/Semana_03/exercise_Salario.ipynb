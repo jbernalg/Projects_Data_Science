{
 "cells": [
  {
   "cell_type": "markdown",
   "metadata": {},
   "source": [
    "### Verificar si un trabajador requiere aumento de acuerdo a su salario\n",
    "\n",
    "*Programa que verifica si el sueldo de un trabajador es menor a  1000 y de ser cierto, se le aumento el salario un 10%*"
   ]
  },
  {
   "cell_type": "code",
   "execution_count": null,
   "metadata": {},
   "outputs": [
    {
     "name": "stdout",
     "output_type": "stream",
     "text": [
      "Salario actual: 980.0, Aumento: 98.0, Nuevo salario 1078.0\n"
     ]
    }
   ],
   "source": [
    "# Solicitar salario\n",
    "salact = float(input('Ingrese el salario actual: '))\n",
    "\n",
    "# inicializamos la variable aumento\n",
    "aumento = 0\n",
    "\n",
    "# validamos que el sueldo sea menor a 1000\n",
    "if salact < 1000:\n",
    "    aumento = salact*0.1\n",
    "\n",
    "# agregamos el aumento al salario\n",
    "new_salact = aumento + salact\n",
    "\n",
    "# mostrar resultados\n",
    "print(f'Salario actual: {salact}, Aumento: {aumento}, Nuevo salario {new_salact}')\n"
   ]
  },
  {
   "cell_type": "markdown",
   "metadata": {},
   "source": [
    "Usando la componente Else"
   ]
  },
  {
   "cell_type": "code",
   "execution_count": 3,
   "metadata": {},
   "outputs": [
    {
     "name": "stdout",
     "output_type": "stream",
     "text": [
      "Salario actual: 400.0, Aumento: 40.0, Nuevo salario 440.0\n"
     ]
    }
   ],
   "source": [
    "# Solicitar salario\n",
    "salact = float(input('Ingrese el salario actual: '))\n",
    "\n",
    "if salact < 1000:\n",
    "    aumento = salact*0.1\n",
    "else:\n",
    "    aumento = 0\n",
    "\n",
    "new_salact = salact + aumento\n",
    "\n",
    "# mostrar resultados\n",
    "print(f'Salario actual: {salact}, Aumento: {aumento}, Nuevo salario {new_salact}')"
   ]
  },
  {
   "cell_type": "code",
   "execution_count": null,
   "metadata": {},
   "outputs": [],
   "source": []
  },
  {
   "cell_type": "markdown",
   "metadata": {},
   "source": [
    "### Leer dos enteros e imprimirlos en orden descendente\n",
    "\n",
    "*Es necesario utilizar else*"
   ]
  },
  {
   "cell_type": "code",
   "execution_count": 4,
   "metadata": {},
   "outputs": [
    {
     "name": "stdout",
     "output_type": "stream",
     "text": [
      "7 5\n"
     ]
    }
   ],
   "source": [
    "# solicitar primer numero\n",
    "a = int(input('Ingrese primer numero entero: '))\n",
    "\n",
    "# solicitar segundo numero\n",
    "b = int(input('Ingrese segundo numero entero: '))\n",
    "\n",
    "if a > b:\n",
    "    print(a, b)\n",
    "else:\n",
    "    print(b, a)"
   ]
  }
 ],
 "metadata": {
  "kernelspec": {
   "display_name": "Python 3",
   "language": "python",
   "name": "python3"
  },
  "language_info": {
   "codemirror_mode": {
    "name": "ipython",
    "version": 3
   },
   "file_extension": ".py",
   "mimetype": "text/x-python",
   "name": "python",
   "nbconvert_exporter": "python",
   "pygments_lexer": "ipython3",
   "version": "3.8.10"
  }
 },
 "nbformat": 4,
 "nbformat_minor": 2
}
