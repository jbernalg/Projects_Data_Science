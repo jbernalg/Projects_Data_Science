{
 "cells": [
  {
   "cell_type": "markdown",
   "metadata": {},
   "source": [
    "### Caracterizacion en base al genero, estatura y peso\n",
    "\n",
    "Se tiene un conjunto de personas, cada una con la siguiente informacion:\n",
    "\n",
    "- Genero: 0 representa femenino, 1 representa masculino\n",
    "- Peso en kilogramos\n",
    "- Estatura en centimetros\n",
    "\n",
    "Se requiere caracterizar sus aptitudes con base en el genero, estatura y peso.\n",
    "\n",
    "- Reina de belleza si mide mas de 180cm, pesa mas de 70Kg y es mujer.\n",
    "- Cantautor si mide mas de 180cm, pesa mas de 70Kg y es hombre.\n",
    "- Arbitro de futbol si mide mas de 180cm, y pesa menos de 70Kg.\n",
    "- Jugador de Parques si mide 180cm o menos."
   ]
  },
  {
   "cell_type": "code",
   "execution_count": 2,
   "metadata": {},
   "outputs": [
    {
     "name": "stdout",
     "output_type": "stream",
     "text": [
      "Arbitro de futbol\n"
     ]
    }
   ],
   "source": [
    "# solicite datos importantes\n",
    "nombre = input('Ingrese el nombre: ')\n",
    "genero = int(input('Cual es tu genero? \\n 0 para femenino, 1 para masculino: \\n'))\n",
    "estatura = float(input('Ingrese su estatura en cm: '))\n",
    "peso = float(input('Ingrese su Peso en Kg: '))\n",
    "\n",
    "if estatura > 180:\n",
    "    if peso > 70:\n",
    "        if genero == 0:\n",
    "            print('Reina de Belleza')\n",
    "        else:\n",
    "            print('Cantautor')\n",
    "    else:\n",
    "        print('Arbitro de futbol')\n",
    "else:\n",
    "    print('Jugador de Parques')"
   ]
  },
  {
   "cell_type": "code",
   "execution_count": null,
   "metadata": {},
   "outputs": [],
   "source": []
  }
 ],
 "metadata": {
  "kernelspec": {
   "display_name": "Python 3",
   "language": "python",
   "name": "python3"
  },
  "language_info": {
   "codemirror_mode": {
    "name": "ipython",
    "version": 3
   },
   "file_extension": ".py",
   "mimetype": "text/x-python",
   "name": "python",
   "nbconvert_exporter": "python",
   "pygments_lexer": "ipython3",
   "version": "3.8.10"
  }
 },
 "nbformat": 4,
 "nbformat_minor": 2
}
