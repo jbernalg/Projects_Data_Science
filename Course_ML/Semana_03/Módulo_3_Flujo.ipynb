{
  "cells": [
    {
      "cell_type": "markdown",
      "metadata": {
        "id": "yYBT71iNMDzQ"
      },
      "source": [
        "# Flujo\n",
        "El flujo es el orden en que se ejecutan las líneas de código.\n",
        "\n",
        "Una línea de código hace referencia a un renglón de la hoja donde escribimos el código.\n",
        "\n",
        "En Python, las líneas de código se ejecutan de arriba hacia abajo. Si no hay nada que interrumpa o modifique el orden de las instrucciones, la ejecución del programa se hará línea por línea.\n",
        "\n"
      ]
    },
    {
      "cell_type": "code",
      "execution_count": 2,
      "metadata": {},
      "outputs": [
        {
          "name": "stdout",
          "output_type": "stream",
          "text": [
            "Hola Mundo\n"
          ]
        }
      ],
      "source": [
        "print('Hola Mundo')"
      ]
    },
    {
      "cell_type": "code",
      "execution_count": 4,
      "metadata": {
        "colab": {
          "base_uri": "https://localhost:8080/"
        },
        "id": "R3ehr3WYNfTa",
        "outputId": "b1723de5-550f-471a-81a0-c9c18102c1c2"
      },
      "outputs": [
        {
          "name": "stdout",
          "output_type": "stream",
          "text": [
            "La suma de ambos números es 7\n"
          ]
        }
      ],
      "source": [
        "numero_1 = int(input('Introduce un número '))\n",
        "numero_2 = int(input('Introduce otro número '))\n",
        "numero_3 = numero_1 + numero_2\n",
        "print(f'La suma de ambos números es {numero_3}')"
      ]
    },
    {
      "cell_type": "markdown",
      "metadata": {
        "id": "Ct0kXGqIYod_"
      },
      "source": [
        "# Booleanos (bool)\n",
        "\n",
        "Es un dato que puede tener únicamente dos valores: falso o verdadero.\n",
        "\n",
        "Es muy útil a la hora de representar un dato que tenga dos estados."
      ]
    },
    {
      "cell_type": "code",
      "execution_count": 5,
      "metadata": {
        "colab": {
          "base_uri": "https://localhost:8080/"
        },
        "id": "Ly7pirR_aKDt",
        "outputId": "3be5c611-6922-41aa-f27b-059ae3171207"
      },
      "outputs": [
        {
          "data": {
            "text/plain": [
              "False"
            ]
          },
          "execution_count": 5,
          "metadata": {},
          "output_type": "execute_result"
        }
      ],
      "source": [
        "# Si no está lloviendo, ¿debo llevar paraguas?\n",
        "False"
      ]
    },
    {
      "cell_type": "code",
      "execution_count": 7,
      "metadata": {
        "colab": {
          "base_uri": "https://localhost:8080/"
        },
        "id": "7jBw_9rKaMMI",
        "outputId": "b355259a-e19f-47e0-f7ac-ca1f8e4564af"
      },
      "outputs": [
        {
          "data": {
            "text/plain": [
              "True"
            ]
          },
          "execution_count": 7,
          "metadata": {},
          "output_type": "execute_result"
        }
      ],
      "source": [
        "# Si saco cinco en todas las notas, ¿apruebo el curso?\n",
        "True"
      ]
    },
    {
      "cell_type": "code",
      "execution_count": 8,
      "metadata": {
        "colab": {
          "base_uri": "https://localhost:8080/"
        },
        "id": "zfJMcB8NaQ04",
        "outputId": "67657b3e-d319-4833-b122-1d941f8a3353"
      },
      "outputs": [
        {
          "data": {
            "text/plain": [
              "False"
            ]
          },
          "execution_count": 8,
          "metadata": {},
          "output_type": "execute_result"
        }
      ],
      "source": [
        "# Ocho es menor que cuatro\n",
        "bool()"
      ]
    },
    {
      "cell_type": "markdown",
      "metadata": {
        "id": "SZGT-Jj065dZ"
      },
      "source": [
        "# Condicionales\n",
        "Por el momento, hemos aprendido a manejar y modificar a los datos. Ahora: ¿cómo podemos tomar decisiones con ellos? Aquí es donde entran en juego los condicionales.\n",
        "\n",
        "Los condicionales ejecutan una serie de instrucciones dependiendo del cumplimiento de una condición: si la condición es verdadera, ejecuta lo especificado.\n",
        "\n",
        "Los condicionales **alteran el flujo del código**. Si la condición no se cumple, Python hará un salto a la siguiente línea de código que no esté **indentada**.\n",
        "\n",
        "La sintaxis de un condicional es la siguiente:\n",
        "\n",
        "1.   palabra clave *if*\n",
        "2.   condición\n",
        "3.   operador dos puntos (:)\n",
        "\n",
        "\n",
        "\n",
        "\n",
        "\n"
      ]
    },
    {
      "cell_type": "code",
      "execution_count": 9,
      "metadata": {
        "id": "0FamdpCC9v2n"
      },
      "outputs": [
        {
          "name": "stdout",
          "output_type": "stream",
          "text": [
            "Está lloviendo. Voy a sacar mi paraguas.\n"
          ]
        }
      ],
      "source": [
        "esta_lloviendo = True\n",
        "if esta_lloviendo:\n",
        "  print('Está lloviendo. Voy a sacar mi paraguas.')"
      ]
    },
    {
      "cell_type": "markdown",
      "metadata": {
        "id": "VsyhNf3k-Km_"
      },
      "source": [
        "# Indentación\n",
        "La indentación se refiere a los espacios en blanco en una linea de código. En la celda de arriba, decimos que la línea 3 está indentada.\n",
        "\n",
        "Python utiliza la indentación para delimitar **bloques de código**. Todo lo que esté indentado y después de un condicional hará parte del bloque de código, que será el conjunto de instrucciones supeditados al condicional.\n",
        "\n",
        "Indentamos una línea presionando la tecla espacio o la tecla TAB (preferiblemente con TAB).\n"
      ]
    },
    {
      "cell_type": "code",
      "execution_count": 10,
      "metadata": {
        "colab": {
          "base_uri": "https://localhost:8080/"
        },
        "id": "pPy0ALud-4ii",
        "outputId": "96242eea-90b4-4b7f-86bd-fa5272946e8a"
      },
      "outputs": [
        {
          "name": "stdout",
          "output_type": "stream",
          "text": [
            "Está lloviendo. Voy a sacar mi paraguas.\n",
            "Traje paraguas\n"
          ]
        }
      ],
      "source": [
        "esta_lloviendo = True\n",
        "if esta_lloviendo:\n",
        "  print('Está lloviendo. Voy a sacar mi paraguas.')\n",
        "print('Traje paraguas')"
      ]
    },
    {
      "cell_type": "markdown",
      "metadata": {
        "id": "1ZOSbwVa-_u7"
      },
      "source": [
        "Si **esta_lloviendo** es *False*, el condicional no ejecutará su bloque de instrucciones y el programa saltará a la ejecución de la línea 4."
      ]
    },
    {
      "cell_type": "code",
      "execution_count": 13,
      "metadata": {
        "colab": {
          "base_uri": "https://localhost:8080/"
        },
        "id": "-KBIERby--ld",
        "outputId": "a1ada6b7-8cbf-4df9-c88c-5cade0040484"
      },
      "outputs": [
        {
          "name": "stdout",
          "output_type": "stream",
          "text": [
            "Traje paraguas\n"
          ]
        }
      ],
      "source": [
        "esta_lloviendo = False\n",
        "if esta_lloviendo:\n",
        "  print('Está lloviendo. Voy a sacar mi paraguas.')\n",
        "print('Traje paraguas')"
      ]
    },
    {
      "cell_type": "markdown",
      "metadata": {
        "id": "uIHjqNFYs7iI"
      },
      "source": [
        "# Else y else if"
      ]
    },
    {
      "cell_type": "markdown",
      "metadata": {
        "id": "XQ9VbCrK-KEF"
      },
      "source": [
        "## Else\n",
        "Podemos ejecutar otro bloque de código en el caso de que la condición sea falsa. Para esto, usamos la sentencia **else**.\n"
      ]
    },
    {
      "cell_type": "code",
      "execution_count": null,
      "metadata": {
        "colab": {
          "base_uri": "https://localhost:8080/"
        },
        "id": "kMWAxA64_cUY",
        "outputId": "911ae6ef-ce5c-450b-c2ea-975e3b00bcb0"
      },
      "outputs": [
        {
          "name": "stdout",
          "output_type": "stream",
          "text": [
            "NO ESTÁ LLOVIENDO.\n",
            "Traje paraguas\n"
          ]
        }
      ],
      "source": [
        "esta_lloviendo = False\n",
        "if esta_lloviendo:\n",
        "  print('Está lloviendo. Voy a sacar mi paraguas.')\n",
        "else:\n",
        "  print('NO ESTÁ LLOVIENDO.')\n",
        "print('Traje paraguas')"
      ]
    },
    {
      "cell_type": "markdown",
      "metadata": {
        "id": "vzJrNR8etVlk"
      },
      "source": [
        "Si la condición sigue siendo falsa y queremos ejecutar otro bloque de código **supeditado a otra condición**, utilizamos la sentencia **elif**."
      ]
    },
    {
      "cell_type": "code",
      "execution_count": 14,
      "metadata": {
        "colab": {
          "base_uri": "https://localhost:8080/"
        },
        "id": "61dCa96ytPIA",
        "outputId": "2fafc827-3a96-4997-89ae-f7c0f17328ad"
      },
      "outputs": [
        {
          "name": "stdout",
          "output_type": "stream",
          "text": [
            "Está granizando. Mejor no salgo.\n"
          ]
        }
      ],
      "source": [
        "esta_lloviendo = False\n",
        "esta_granizando = True\n",
        "if esta_lloviendo:\n",
        "  print('Está lloviendo. Voy a sacar mi paraguas.')\n",
        "elif esta_granizando:\n",
        "  print('Está granizando. Mejor no salgo.')\n",
        "else:\n",
        "  print('NO ESTÁ LLOVIENDO NI GRANIZANDO.')"
      ]
    },
    {
      "cell_type": "markdown",
      "metadata": {
        "id": "CJlFLiBrI892"
      },
      "source": [
        "La sentencia **elif** puede usarse múltiples veces, mientras que **else** puede usarse una única vez por condicional.\n",
        "\n",
        "Ambas deben ir después de la sentencia **if**. Recordemos que solamente se ejecutará un bloque de código: ya sea un *if*, un *elif* o un *else*."
      ]
    },
    {
      "cell_type": "code",
      "execution_count": null,
      "metadata": {
        "colab": {
          "base_uri": "https://localhost:8080/"
        },
        "id": "4M5h7URFJSpW",
        "outputId": "f502acc7-65cd-43c8-bb09-ad10a3b06dbe"
      },
      "outputs": [
        {
          "name": "stdout",
          "output_type": "stream",
          "text": [
            "¿Está lloviendo?\n",
            "¿Está granizando?Y\n",
            "Está granizando. Mejor no salgo.\n"
          ]
        }
      ],
      "source": [
        "esta_lloviendo = bool(input('¿Está lloviendo?'))\n",
        "esta_granizando = bool(input('¿Está granizando?'))\n",
        "if esta_lloviendo:\n",
        "  print('Está lloviendo. Voy a sacar mi paraguas.')\n",
        "elif esta_granizando:\n",
        "  print('Está granizando. Mejor no salgo.')\n",
        "else:\n",
        "  print('NO ESTÁ LLOVIENDO NI GRANIZANDO.')"
      ]
    },
    {
      "cell_type": "markdown",
      "metadata": {
        "id": "kZPpi3JiJi2o"
      },
      "source": [
        "Convertir un dato de *string* a booleano funciona de la siguiente manera:\n",
        "\n",
        "\n",
        "1.   Si el *string* contiene al menos un carácter, será **True**.\n",
        "2.   Si el *string* no contiene caracteres, será **False**.\n",
        "\n"
      ]
    },
    {
      "cell_type": "markdown",
      "metadata": {
        "id": "BdYOBEmCBUlP"
      },
      "source": [
        "# Operadores relacionales\n",
        "Podemos evaluar la relación que existe entre datos por medio de operadores de relación, las cuales retornan un *bool*.\n"
      ]
    },
    {
      "cell_type": "markdown",
      "metadata": {
        "id": "ZaA2lAmqNEZH"
      },
      "source": [
        "## Operador de igualdad\n",
        "El operador de igualdad (==) evalúa si dos operandos son exactamente iguales.\n",
        "\n",
        "Si ambos operandos son iguales, devuelve **True**; si son diferentes, **False**."
      ]
    },
    {
      "cell_type": "code",
      "execution_count": 15,
      "metadata": {
        "colab": {
          "base_uri": "https://localhost:8080/"
        },
        "id": "cSOUETZtBUGJ",
        "outputId": "a6ac45c3-b08c-4c60-8e5b-438c5772d74d"
      },
      "outputs": [
        {
          "data": {
            "text/plain": [
              "True"
            ]
          },
          "execution_count": 15,
          "metadata": {},
          "output_type": "execute_result"
        }
      ],
      "source": [
        "5 == 5"
      ]
    },
    {
      "cell_type": "code",
      "execution_count": 16,
      "metadata": {
        "colab": {
          "base_uri": "https://localhost:8080/"
        },
        "id": "Vdp_6L9JNhY9",
        "outputId": "3e140bf8-5b66-4fe7-b098-9aadf46b31cd"
      },
      "outputs": [
        {
          "data": {
            "text/plain": [
              "False"
            ]
          },
          "execution_count": 16,
          "metadata": {},
          "output_type": "execute_result"
        }
      ],
      "source": [
        "'Gabriel' == 'gabriel' # Es sensible a las mayúsculas"
      ]
    },
    {
      "cell_type": "markdown",
      "metadata": {
        "id": "HtJ32TKBP41C"
      },
      "source": [
        "## Operador de diferencia\n",
        "El operador de diferencia (!=) evalúa si dos operandos **no** son iguales.\n",
        "\n",
        "Si ambos operandos **NO** son iguales, devuelve **True**; si son iguales, **False**."
      ]
    },
    {
      "cell_type": "code",
      "execution_count": 17,
      "metadata": {
        "colab": {
          "base_uri": "https://localhost:8080/"
        },
        "id": "MHwslIKeQHwW",
        "outputId": "b5ec4bef-179f-4f69-efc6-409ecb9a8180"
      },
      "outputs": [
        {
          "data": {
            "text/plain": [
              "False"
            ]
          },
          "execution_count": 17,
          "metadata": {},
          "output_type": "execute_result"
        }
      ],
      "source": [
        "17 != 17"
      ]
    },
    {
      "cell_type": "code",
      "execution_count": 18,
      "metadata": {
        "colab": {
          "base_uri": "https://localhost:8080/"
        },
        "id": "Nki-mrUpQJuS",
        "outputId": "8fd51d89-8791-42a1-c208-40e2b58ea5ba"
      },
      "outputs": [
        {
          "data": {
            "text/plain": [
              "True"
            ]
          },
          "execution_count": 18,
          "metadata": {},
          "output_type": "execute_result"
        }
      ],
      "source": [
        "'Gabriel' != 'Eduardo'"
      ]
    },
    {
      "cell_type": "markdown",
      "metadata": {
        "id": "-GddynqCQnGU"
      },
      "source": [
        "## Operador menor que\n",
        "El operador menor que (<) evalúa si el operando de la izquierda es menor que\n",
        "el operando de la derecha.\n",
        "\n",
        "Si el dato izquierdo es menor que el dato derecho, devuelve **True**; si es mayor o igual, **False**."
      ]
    },
    {
      "cell_type": "code",
      "execution_count": null,
      "metadata": {
        "colab": {
          "base_uri": "https://localhost:8080/"
        },
        "id": "bO69-aVPRSyg",
        "outputId": "628b4a5b-f1ee-4c39-927f-7c1f2f41145e"
      },
      "outputs": [
        {
          "data": {
            "text/plain": [
              "True"
            ]
          },
          "execution_count": 38,
          "metadata": {},
          "output_type": "execute_result"
        }
      ],
      "source": [
        "8 < 17"
      ]
    },
    {
      "cell_type": "code",
      "execution_count": null,
      "metadata": {
        "colab": {
          "base_uri": "https://localhost:8080/"
        },
        "id": "oHJhsJJGRYUO",
        "outputId": "b030db41-e522-4c0a-9cc3-59086844ae2a"
      },
      "outputs": [
        {
          "data": {
            "text/plain": [
              "False"
            ]
          },
          "execution_count": 39,
          "metadata": {},
          "output_type": "execute_result"
        }
      ],
      "source": [
        "2 < 2"
      ]
    },
    {
      "cell_type": "markdown",
      "metadata": {
        "id": "8QVYPh0XR1bk"
      },
      "source": [
        "## Operador menor igual que\n",
        "El operador menor igual que (<=) evalúa si el operando de la izquierda es menor o igual que el operando de la derecha.\n",
        "\n",
        "Si el dato izquierdo es menor o igual que el dato derecho, devuelve **True**; si es mayor, **False**."
      ]
    },
    {
      "cell_type": "code",
      "execution_count": null,
      "metadata": {
        "colab": {
          "base_uri": "https://localhost:8080/"
        },
        "id": "Lp2AwtTPR1bo",
        "outputId": "deca6fa2-0041-4dbc-bdbb-c0a897c0c4f5"
      },
      "outputs": [
        {
          "data": {
            "text/plain": [
              "False"
            ]
          },
          "execution_count": 33,
          "metadata": {},
          "output_type": "execute_result"
        }
      ],
      "source": [
        "21 <= 9"
      ]
    },
    {
      "cell_type": "code",
      "execution_count": null,
      "metadata": {
        "colab": {
          "base_uri": "https://localhost:8080/"
        },
        "id": "I3vYSkoiR1bo",
        "outputId": "03b34624-6949-442b-f1f5-66b91ca9a1ca"
      },
      "outputs": [
        {
          "data": {
            "text/plain": [
              "True"
            ]
          },
          "execution_count": 34,
          "metadata": {},
          "output_type": "execute_result"
        }
      ],
      "source": [
        "4 <= 4"
      ]
    },
    {
      "cell_type": "markdown",
      "metadata": {
        "id": "X_gz5ia8SCJ0"
      },
      "source": [
        "## Operador mayor que\n",
        "El operador mayor que (>) evalúa si el operando de la izquierda es mayor que\n",
        "el operando de la derecha.\n",
        "\n",
        "Si el dato izquierdo es mayor que el dato derecho, devuelve **True**; si es menor o igual, **False**."
      ]
    },
    {
      "cell_type": "code",
      "execution_count": null,
      "metadata": {
        "colab": {
          "base_uri": "https://localhost:8080/"
        },
        "id": "2kAVEsBYSCJ1",
        "outputId": "f21691e0-9ebe-4c93-dd5a-48daa2dbd3f6"
      },
      "outputs": [
        {
          "data": {
            "text/plain": [
              "True"
            ]
          },
          "execution_count": 36,
          "metadata": {},
          "output_type": "execute_result"
        }
      ],
      "source": [
        "21 > 9"
      ]
    },
    {
      "cell_type": "code",
      "execution_count": null,
      "metadata": {
        "colab": {
          "base_uri": "https://localhost:8080/"
        },
        "id": "76LejM8QSCJ1",
        "outputId": "6a48817d-9e61-428f-c642-571372877e6c"
      },
      "outputs": [
        {
          "data": {
            "text/plain": [
              "False"
            ]
          },
          "execution_count": 37,
          "metadata": {},
          "output_type": "execute_result"
        }
      ],
      "source": [
        "15 > 15"
      ]
    },
    {
      "cell_type": "markdown",
      "metadata": {
        "id": "r1PyUAsySirM"
      },
      "source": [
        "## Operador mayor igual que\n",
        "El operador mayor igual que (>=) evalúa si el operando de la izquierda es mayor o igual que el operando de la derecha.\n",
        "\n",
        "Si el dato izquierdo es mayor o igual que el dato derecho, devuelve **True**; si es menor, **False**."
      ]
    },
    {
      "cell_type": "code",
      "execution_count": null,
      "metadata": {
        "colab": {
          "base_uri": "https://localhost:8080/"
        },
        "id": "wGyMUORJSirM",
        "outputId": "d116b28d-ae59-4b16-c212-2c60cd9f9a11"
      },
      "outputs": [
        {
          "data": {
            "text/plain": [
              "True"
            ]
          },
          "execution_count": 42,
          "metadata": {},
          "output_type": "execute_result"
        }
      ],
      "source": [
        "37 >= 11"
      ]
    },
    {
      "cell_type": "code",
      "execution_count": null,
      "metadata": {
        "colab": {
          "base_uri": "https://localhost:8080/"
        },
        "id": "NlXD6TOzSirM",
        "outputId": "cd335566-c579-4bba-e587-8112ac994b3c"
      },
      "outputs": [
        {
          "data": {
            "text/plain": [
              "True"
            ]
          },
          "execution_count": 44,
          "metadata": {},
          "output_type": "execute_result"
        }
      ],
      "source": [
        "6 >= 6"
      ]
    },
    {
      "cell_type": "markdown",
      "metadata": {
        "id": "dvxdgISyeGtM"
      },
      "source": [
        "## Prioridad de operaciones\n",
        "Todos los operadores relacionales tienen el mismo nivel de prioridad, por lo que su evaluación dependerá de su orden en la expresión y los paréntesis.\n",
        "\n",
        "Podemos utilizar operadores aritméticos y relacionales en una misma expresión. Los operadores aritméticos se evaluarán primero **siempre**."
      ]
    },
    {
      "cell_type": "code",
      "execution_count": 20,
      "metadata": {
        "colab": {
          "base_uri": "https://localhost:8080/"
        },
        "id": "O2n-FuhIetF_",
        "outputId": "3cae2f45-af71-4bc3-b25b-432fb543b445"
      },
      "outputs": [
        {
          "data": {
            "text/plain": [
              "True"
            ]
          },
          "execution_count": 20,
          "metadata": {},
          "output_type": "execute_result"
        }
      ],
      "source": [
        "8 + 232 >= 1 * 0"
      ]
    },
    {
      "cell_type": "markdown",
      "metadata": {
        "id": "L1fQ0J-Neyxm"
      },
      "source": [
        "Aunque no es necesario, podemos agrupar las expresiones aritméticas entre paréntesis para evitar confusiones."
      ]
    },
    {
      "cell_type": "code",
      "execution_count": 21,
      "metadata": {
        "colab": {
          "base_uri": "https://localhost:8080/"
        },
        "id": "Jqve0_ZZe6dv",
        "outputId": "45dcaea9-3af2-4d6c-86c5-564dc91fee12"
      },
      "outputs": [
        {
          "data": {
            "text/plain": [
              "True"
            ]
          },
          "execution_count": 21,
          "metadata": {},
          "output_type": "execute_result"
        }
      ],
      "source": [
        "(8 + 232) >= (1 * 0)"
      ]
    },
    {
      "cell_type": "markdown",
      "metadata": {
        "id": "2vJ1EB9hTF_k"
      },
      "source": [
        "# Ejercicio\n",
        "Determinemos si un número entero es par o impar. De tal manera que si le pongo como entrada:\n",
        "\n",
        "```\n",
        "'5'\n",
        "```\n",
        "\n",
        "Me devuelva como salida:\n",
        "\n",
        "\n",
        "```\n",
        "'El número 5 es impar'\n",
        "```\n",
        "\n",
        "\n",
        "---\n",
        "\n",
        "Entrada:\n",
        "```\n",
        "'62'\n",
        "```\n",
        "\n",
        "Salida:\n",
        "\n",
        "\n",
        "```\n",
        "'El número 62 es par'\n",
        "```\n",
        "\n",
        "\n",
        "\n"
      ]
    },
    {
      "cell_type": "markdown",
      "metadata": {
        "id": "Abi8Pv-kTF_o"
      },
      "source": [
        "## Solución\n",
        "Para recibir una entrada, debemos utilizar la función *input*. Como la función *input* devuelve un *string*, debemos convertirlo a un *int*.\n",
        "\n",
        "El valor obtenido lo almacenaremos en una variable."
      ]
    },
    {
      "cell_type": "code",
      "execution_count": 23,
      "metadata": {
        "colab": {
          "base_uri": "https://localhost:8080/"
        },
        "id": "2mzond36TF_o",
        "outputId": "a090802f-cc5f-421e-9692-f47049bfca11"
      },
      "outputs": [],
      "source": [
        "numero = int(input('Ingrese el número: '))"
      ]
    },
    {
      "cell_type": "markdown",
      "metadata": {
        "id": "7is0DlmKTF_o"
      },
      "source": [
        "Ahora, ¿cómo determinamos si un número es par o no? Por su residuo: si un número par es dividido por dos, su residuo dará **cero**. Si es impar, **uno**.\n",
        "\n",
        "Para obtener el residuo usaremos el operador módulo (%)."
      ]
    },
    {
      "cell_type": "code",
      "execution_count": 24,
      "metadata": {
        "colab": {
          "base_uri": "https://localhost:8080/"
        },
        "id": "qA-xuDLLTF_o",
        "outputId": "a89f0040-b067-42be-ecfc-91d5228683e1"
      },
      "outputs": [
        {
          "data": {
            "text/plain": [
              "0"
            ]
          },
          "execution_count": 24,
          "metadata": {},
          "output_type": "execute_result"
        }
      ],
      "source": [
        "numero % 2"
      ]
    },
    {
      "cell_type": "markdown",
      "metadata": {
        "id": "AbILColXUhmn"
      },
      "source": [
        "¡Bien! Sabemos que el 32 es par. Sin embargo, queremos que nos imprima un mensaje diciendo que el número 32 es par.\n",
        "\n",
        "Para esto, debemos usar un condicional (if) y un operador de igualdad (==)."
      ]
    },
    {
      "cell_type": "code",
      "execution_count": null,
      "metadata": {
        "colab": {
          "base_uri": "https://localhost:8080/"
        },
        "id": "PjFRq0WjVA7Q",
        "outputId": "26408136-32d7-45fb-e2b7-be4da7fac8ee"
      },
      "outputs": [
        {
          "name": "stdout",
          "output_type": "stream",
          "text": [
            "El número 32 es par.\n"
          ]
        }
      ],
      "source": [
        "if(numero % 2 == 0):\n",
        "  print(f'El número {numero} es par.')"
      ]
    },
    {
      "cell_type": "markdown",
      "metadata": {
        "id": "NMYaWfVMVOU2"
      },
      "source": [
        "Por último, faltaría comprobar si el número es impar. Nosotros sabemos que si un número no es par, debe ser impar; por lo que usaremos la otra parte del condicional (else)."
      ]
    },
    {
      "cell_type": "code",
      "execution_count": null,
      "metadata": {
        "id": "8bRUnjBVVejY"
      },
      "outputs": [],
      "source": [
        "if(numero % 2 == 0):\n",
        "  print(f'El número {numero} es par.')\n",
        "else:\n",
        "  print(f'El número {numero} es impar.')"
      ]
    },
    {
      "cell_type": "markdown",
      "metadata": {
        "id": "ymFuWLGbTF_o"
      },
      "source": [
        "Con esto, hemos terminado el ejercicio. Ahora veremos la solución completa."
      ]
    },
    {
      "cell_type": "code",
      "execution_count": null,
      "metadata": {
        "colab": {
          "base_uri": "https://localhost:8080/"
        },
        "id": "36ybtYm-TF_o",
        "outputId": "5e982a8a-c7f2-418c-8643-c8a6ef789c13"
      },
      "outputs": [
        {
          "name": "stdout",
          "output_type": "stream",
          "text": [
            "Ingrese el número: 75\n",
            "El número 75 es impar.\n"
          ]
        }
      ],
      "source": [
        "numero = int(input('Ingrese el número: '))\n",
        "if(numero % 2 == 0):\n",
        "  print(f'El número {numero} es par.')\n",
        "else:\n",
        "  print(f'El número {numero} es impar.')"
      ]
    },
    {
      "cell_type": "markdown",
      "metadata": {
        "id": "WHDXYJnrWGU1"
      },
      "source": [
        "# Operadores lógicos\n",
        "Al acostumbrarse a los operadores relacionales, poco a poco surge la necesidad de saber si múltiples relaciones se cumplen a la vez.\n",
        "\n",
        "Como el resultado de una operación relacional es un booleano, un operador que evalúe una relación entre operandos booleanos se le conoce como operador lógico."
      ]
    },
    {
      "cell_type": "markdown",
      "metadata": {
        "id": "fJaiky_Qfnbd"
      },
      "source": [
        "## NOT\n",
        "El operador lógico NOT (not) evalúa que un valor sea False. En otras palabras, devuelve el valor inverso del booleano.\n",
        "\n",
        "Cuando el valor es False, devuelve **True**; y si es True, devuelve **False**."
      ]
    },
    {
      "cell_type": "code",
      "execution_count": 25,
      "metadata": {
        "colab": {
          "base_uri": "https://localhost:8080/"
        },
        "id": "ukDRkROSgkMd",
        "outputId": "5b7b0da1-5302-4563-c5c8-eb7cba7bd755"
      },
      "outputs": [
        {
          "data": {
            "text/plain": [
              "True"
            ]
          },
          "execution_count": 25,
          "metadata": {},
          "output_type": "execute_result"
        }
      ],
      "source": [
        "not False"
      ]
    },
    {
      "cell_type": "code",
      "execution_count": 26,
      "metadata": {
        "colab": {
          "base_uri": "https://localhost:8080/"
        },
        "id": "fTu1IA7GgmId",
        "outputId": "1d20e315-4831-432c-c4f0-68cc546f6012"
      },
      "outputs": [
        {
          "data": {
            "text/plain": [
              "False"
            ]
          },
          "execution_count": 26,
          "metadata": {},
          "output_type": "execute_result"
        }
      ],
      "source": [
        "not (6 > 3)"
      ]
    },
    {
      "cell_type": "markdown",
      "metadata": {
        "id": "e_k87OGvXroB"
      },
      "source": [
        "## AND\n",
        "El operador lógico AND (and) evalúa que ambos valores sean *True*.\n",
        "\n",
        "Si ambos valores son True, devuelve *True*; si al menos uno de los dos valores es False, devuelve *False*."
      ]
    },
    {
      "cell_type": "code",
      "execution_count": null,
      "metadata": {
        "colab": {
          "base_uri": "https://localhost:8080/"
        },
        "id": "KHiR44ddYGHA",
        "outputId": "5f8b2d40-3197-4729-8ee0-1c4845bb3389"
      },
      "outputs": [
        {
          "data": {
            "text/plain": [
              "True"
            ]
          },
          "execution_count": 1,
          "metadata": {},
          "output_type": "execute_result"
        }
      ],
      "source": [
        "(5 > 3) and (18 > 4)"
      ]
    },
    {
      "cell_type": "code",
      "execution_count": null,
      "metadata": {
        "colab": {
          "base_uri": "https://localhost:8080/"
        },
        "id": "jmtEfWLaYOqa",
        "outputId": "81060cb5-7fc9-480e-ff45-4d82a887fea6"
      },
      "outputs": [
        {
          "name": "stdout",
          "output_type": "stream",
          "text": [
            "(False, True) -> False\n"
          ]
        }
      ],
      "source": [
        "cond_uno = 'Gabriel' == 'Eduardo'\n",
        "cond_dos = 8 >= 8\n",
        "print(f'({cond_uno}, {cond_dos}) -> {cond_uno and cond_dos}')"
      ]
    },
    {
      "cell_type": "markdown",
      "metadata": {
        "id": "TaLaMR5-Y0w-"
      },
      "source": [
        "## OR\n",
        "El operador lógico OR (or) evalúa que al menos uno de los valores sea *True*.\n",
        "\n",
        "Si al menos uno de los valores es True, devuelve *True*; si todos los valores son False, devuelve *False*."
      ]
    },
    {
      "cell_type": "code",
      "execution_count": null,
      "metadata": {
        "colab": {
          "base_uri": "https://localhost:8080/"
        },
        "id": "6b9XG5yhZHXL",
        "outputId": "1f5c2aaf-2714-45e0-f529-44f81c4a3f21"
      },
      "outputs": [
        {
          "data": {
            "text/plain": [
              "True"
            ]
          },
          "execution_count": 4,
          "metadata": {},
          "output_type": "execute_result"
        }
      ],
      "source": [
        "(243 < 1) or (645 < 1) or (543 > 10)"
      ]
    },
    {
      "cell_type": "code",
      "execution_count": null,
      "metadata": {
        "colab": {
          "base_uri": "https://localhost:8080/"
        },
        "id": "cHzYlN3IZTCd",
        "outputId": "7b280c83-a5f2-4d97-fd01-18a3ceeb0042"
      },
      "outputs": [
        {
          "data": {
            "text/plain": [
              "True"
            ]
          },
          "execution_count": 14,
          "metadata": {},
          "output_type": "execute_result"
        }
      ],
      "source": [
        "(25 > 3) or True and False"
      ]
    },
    {
      "cell_type": "markdown",
      "metadata": {
        "id": "oCbl-Ce2aar5"
      },
      "source": [
        "El operador **and** tiene prioridad sobre **or**.\n",
        "\n",
        "Primero se calculará el valor de la expresión **'True and False'**, y luego se evaluará su resultado con el operando **'25 > 3'** y el operador **'or'**.\n",
        "\n",
        "Si deseamos que Python evalúe primero **'25 > 3 or True'** y luego su resultado con **'and False'**, debemos agrupar la primera expresión entre paréntesis."
      ]
    },
    {
      "cell_type": "code",
      "execution_count": null,
      "metadata": {
        "colab": {
          "base_uri": "https://localhost:8080/"
        },
        "id": "YE9t3eiZbCO9",
        "outputId": "eb6d9547-4741-4fa1-a294-d4e0cb740fac"
      },
      "outputs": [
        {
          "data": {
            "text/plain": [
              "False"
            ]
          },
          "execution_count": 15,
          "metadata": {},
          "output_type": "execute_result"
        }
      ],
      "source": [
        "((25 > 3) or True) and False"
      ]
    },
    {
      "cell_type": "markdown",
      "metadata": {
        "id": "INTz4Dlbgs5H"
      },
      "source": [
        "## Prioridad de operaciones\n",
        "\n",
        "El orden de prioridad entre todas las operaciones es el siguiente:\n",
        "\n",
        "1.   Operaciones aritméticas.\n",
        "2.   Operaciones relacionales.\n",
        "3.   Operaciones lógicas.\n",
        "\n",
        "En los operadores lógicos, su orden de prioridad sería:\n",
        "\n",
        "1.   NOT\n",
        "2.   AND\n",
        "3.   OR\n",
        "\n",
        "¡Recuerden que los paréntesis afectarán su orden de prioridad!\n",
        "\n",
        "\n",
        "\n"
      ]
    },
    {
      "cell_type": "markdown",
      "metadata": {
        "id": "GXpF4f-IplQS"
      },
      "source": [
        "# Condicionales y operadores lógicos\n",
        "Podemos utilizar los operadores lógicos para elaborar condiciones más específicas. Por ejemplo, un condicional que determine si un número es múltiplo de 2 o 3."
      ]
    },
    {
      "cell_type": "code",
      "execution_count": 27,
      "metadata": {
        "colab": {
          "base_uri": "https://localhost:8080/"
        },
        "id": "ZTeRwYTtpzzi",
        "outputId": "7ade6fba-dc67-41dd-9075-60e417ade6f4"
      },
      "outputs": [
        {
          "name": "stdout",
          "output_type": "stream",
          "text": [
            "El número 9 es múltiplo de dos o de tres\n"
          ]
        }
      ],
      "source": [
        "numero = int(input())\n",
        "if numero % 2 == 0 or numero % 3 == 0:\n",
        "  print(f'El número {numero} es múltiplo de dos o de tres')"
      ]
    },
    {
      "cell_type": "markdown",
      "metadata": {
        "id": "DEoErh6ZqGP7"
      },
      "source": [
        "Es posible **anidar** condicionales, es decir, añadir un condicional dentro de otro condicional."
      ]
    },
    {
      "cell_type": "code",
      "execution_count": 28,
      "metadata": {
        "colab": {
          "base_uri": "https://localhost:8080/"
        },
        "id": "Wm1DRWe0qT1a",
        "outputId": "3fe0d991-050d-4adf-bbee-fc5d41a77806"
      },
      "outputs": [
        {
          "name": "stdout",
          "output_type": "stream",
          "text": [
            "El número 6 es múltiplo de dos o de tres\n"
          ]
        }
      ],
      "source": [
        "numero = int(input())\n",
        "if numero % 2 == 0 or numero % 3 == 0:\n",
        "  if numero % 2 == 0 and numero % 3 != 0:\n",
        "    print(f'El número {numero} es múltiplo de dos y no de tres')\n",
        "  else:\n",
        "    print(f'El número {numero} es múltiplo de dos o de tres')"
      ]
    },
    {
      "cell_type": "markdown",
      "metadata": {
        "id": "Vv7sNgU-SKqE"
      },
      "source": [
        "El bloque de código del *if* anidado tendrá otro **nivel de indentación**.\n",
        "\n",
        "* Para crear un segundo nivel de indentación presionamos la tecla TAB dos veces.\n",
        "\n",
        "* Para crear un enésimo nivel de indentación presionamos la tecla TAB enésimas veces.\n",
        "\n",
        "Los niveles de indentación se distiguen por la cantidad de espacios en blanco. Si una línea está al mismo nivel que otra, debe tener la misma cantidad de espacios en blanco."
      ]
    },
    {
      "cell_type": "markdown",
      "metadata": {
        "id": "lK4s9W6Xb-4J"
      },
      "source": [
        "# Operador ternario\n",
        "El operador ternario nos permite simplificar la asignación de un dato a través de un condicional. Por ejemplo, si queremos imprimir si un número es impar o no, lo hacemos a través de un condicional."
      ]
    },
    {
      "cell_type": "code",
      "execution_count": 30,
      "metadata": {
        "colab": {
          "base_uri": "https://localhost:8080/"
        },
        "id": "mmy0mHKTeqQa",
        "outputId": "12e285a7-eca4-4101-eddd-6395dc02ab06"
      },
      "outputs": [
        {
          "name": "stdout",
          "output_type": "stream",
          "text": [
            "El número es impar\n"
          ]
        }
      ],
      "source": [
        "numero = 7\n",
        "if numero % 2 == 1:\n",
        "  print('El número es impar')\n",
        "else:\n",
        "  print('El numero es par')"
      ]
    },
    {
      "cell_type": "markdown",
      "metadata": {
        "id": "MXwBDQTue5N4"
      },
      "source": [
        "Con el operador ternario, podemos simplificarlo en una línea de código.\n",
        "\n"
      ]
    },
    {
      "cell_type": "code",
      "execution_count": 31,
      "metadata": {
        "colab": {
          "base_uri": "https://localhost:8080/"
        },
        "id": "BmHa3eb0e38d",
        "outputId": "a5a00f25-1b81-4093-e832-7160ebdaa5df"
      },
      "outputs": [
        {
          "name": "stdout",
          "output_type": "stream",
          "text": [
            "El número es impar\n"
          ]
        }
      ],
      "source": [
        "print('El número es impar' if numero % 2 == 1 else 'El número es par')"
      ]
    },
    {
      "cell_type": "markdown",
      "metadata": {
        "id": "cf_Ya-YRghGP"
      },
      "source": [
        "La sintaxis del operador ternario es la siguiente:\n",
        "\n",
        "* **[valor en caso de que la condición sea verdadera] `if` [condición]  `else` [valor en caso de que la condición sea falsa]**"
      ]
    },
    {
      "cell_type": "markdown",
      "metadata": {
        "id": "HnXz49z7fNQk"
      },
      "source": [
        "Lo podemos usar para asignar valores a variables."
      ]
    },
    {
      "cell_type": "code",
      "execution_count": 32,
      "metadata": {
        "colab": {
          "base_uri": "https://localhost:8080/",
          "height": 35
        },
        "id": "Giuy_zZUfes_",
        "outputId": "081a54e0-6e05-420a-8eb6-717a9c11c000"
      },
      "outputs": [
        {
          "data": {
            "text/plain": [
              "'No quiero chocolate'"
            ]
          },
          "execution_count": 32,
          "metadata": {},
          "output_type": "execute_result"
        }
      ],
      "source": [
        "quiero_chocolate = False\n",
        "mensaje = 'Sí. quiero chocolate' if quiero_chocolate == True else 'No quiero chocolate'\n",
        "mensaje"
      ]
    },
    {
      "cell_type": "markdown",
      "metadata": {
        "id": "QcCTs68Afkd2"
      },
      "source": [
        "En una condición, si estamos comparando una variable booleana, no es necesario relacionarla con True a través el operador de igualdad (==). Podemos prescindir de `== True` y dará el mismo resultado."
      ]
    },
    {
      "cell_type": "code",
      "execution_count": 33,
      "metadata": {
        "colab": {
          "base_uri": "https://localhost:8080/",
          "height": 35
        },
        "id": "Oi6oCfWogRQy",
        "outputId": "851ca1c9-8ba6-42ed-bb09-aad043dc9d0f"
      },
      "outputs": [
        {
          "data": {
            "text/plain": [
              "'Sí. quiero chocolate'"
            ]
          },
          "execution_count": 33,
          "metadata": {},
          "output_type": "execute_result"
        }
      ],
      "source": [
        "quiero_chocolate = True\n",
        "mensaje = 'Sí. quiero chocolate' if quiero_chocolate else 'No quiero chocolate'\n",
        "mensaje"
      ]
    },
    {
      "cell_type": "markdown",
      "metadata": {
        "id": "8hpbB79Kg_lB"
      },
      "source": [
        "Si queremos expresar `== False`, podemos anteponer el operador de negación (not) en la variable booleana."
      ]
    },
    {
      "cell_type": "code",
      "execution_count": 34,
      "metadata": {
        "colab": {
          "base_uri": "https://localhost:8080/",
          "height": 35
        },
        "id": "SH7KLmlwhU7U",
        "outputId": "3caa1531-01b4-4edc-fb62-3f8cc226dcac"
      },
      "outputs": [
        {
          "data": {
            "text/plain": [
              "'No quiero chocolate'"
            ]
          },
          "execution_count": 34,
          "metadata": {},
          "output_type": "execute_result"
        }
      ],
      "source": [
        "quiero_chocolate = True\n",
        "mensaje = 'Sí. quiero chocolate' if not quiero_chocolate else 'No quiero chocolate'\n",
        "mensaje"
      ]
    },
    {
      "cell_type": "markdown",
      "metadata": {
        "id": "NpIMDBC2Rn9k"
      },
      "source": [
        "# Bucles\n",
        "Los condicionales nos permiten ejecutar o saltar un bloque de código supeditado a una condición. ¿Qué hay acerca de la repetición de código? ¿Podemos escribir una sola línea de código y ejecutarla múltiples veces? La respuesta es sí: con un bucle.\n",
        "\n",
        "Los bucles en Python se ven representados por la sentencia *for* y la sentencia *while*.\n"
      ]
    },
    {
      "cell_type": "markdown",
      "metadata": {
        "id": "gKXiSqI2NZ3g"
      },
      "source": [
        "# For\n",
        "La sentencia *for* nos permite analizar cada elemento de una secuencia. Una secuencia es un conjunto de elementos de un mismo tipo. Por ejemplo, un *string* es una secuencia de caracteres.\n",
        "\n",
        "La sintaxis de un *for* es la siguiente:\n",
        "\n",
        "1.  palabra clave *for*\n",
        "2.  variable iteradora\n",
        "3.  palabra clave *in*\n",
        "4.  secuencia\n",
        "3.  operador dos puntos (:)"
      ]
    },
    {
      "cell_type": "code",
      "execution_count": 35,
      "metadata": {
        "colab": {
          "base_uri": "https://localhost:8080/"
        },
        "id": "bazSQuyv2tLS",
        "outputId": "41e2a774-9c49-458f-b065-04c109099ebe"
      },
      "outputs": [
        {
          "name": "stdout",
          "output_type": "stream",
          "text": [
            "H\n",
            "o\n",
            "l\n",
            "a\n",
            " \n",
            "M\n",
            "u\n",
            "n\n",
            "d\n",
            "o\n"
          ]
        }
      ],
      "source": [
        "for car in 'Hola Mundo':\n",
        "  print(car)"
      ]
    },
    {
      "cell_type": "markdown",
      "metadata": {
        "id": "gX_abSGC2oR1"
      },
      "source": [
        "Las instrucciones de *for* se indentan y se ejecutarán varias veces hasta que se termine de procesar la secuencia. Cada ejecución se conoce como una **iteración**, y cada elemento de la secuencia se ve representado en la **variable iteradora**."
      ]
    },
    {
      "cell_type": "code",
      "execution_count": 36,
      "metadata": {
        "colab": {
          "base_uri": "https://localhost:8080/"
        },
        "id": "LD9FSzriJG1P",
        "outputId": "fb9dc7db-ab18-4b7f-bed3-056360b50140"
      },
      "outputs": [
        {
          "name": "stdout",
          "output_type": "stream",
          "text": [
            "Carácter número 1: H\n",
            "Carácter número 2: o\n",
            "Carácter número 3: l\n",
            "Carácter número 4: a\n",
            "Carácter número 5:  \n",
            "Carácter número 6: M\n",
            "Carácter número 7: u\n",
            "Carácter número 8: n\n",
            "Carácter número 9: d\n",
            "Carácter número 10: o\n"
          ]
        }
      ],
      "source": [
        "contador = 1\n",
        "for car in 'Hola Mundo':\n",
        "  print(f'Carácter número {contador}: {car}')\n",
        "  contador += 1"
      ]
    },
    {
      "cell_type": "markdown",
      "metadata": {
        "id": "Zxdwr0jJOYMw"
      },
      "source": [
        "## Función range\n",
        "La función *range* devuelve una secuencia de números enteros. Posee tres parámetros:\n",
        "\n",
        "`range(start,stop,step)`\n",
        "\n",
        "1.   **start**: es el primer número de la secuencia.\n",
        "2.   **stop**: determina el último número de la secuencia tomando su número anterior. Si **stop** es **3**, el último número será **2**.\n",
        "3.   **step**: valor añadido a un número de la secuencia para generar el siguiente. Si **step** es **2**, la secuencia irá de dos en dos.\n",
        "\n",
        "Los parámetros `start` y `step` son opcionales, pero `stop` es obligatorio. Por lo que range podría ser usado como:\n",
        "\n",
        "`range(stop)`\n",
        "\n",
        "En este caso, `start` adquiere el valor `0` y `step` el valor `1`. También es posible definir `start`y `stop` sin definir `step`:\n",
        "\n",
        "`range(start, stop)`\n",
        "\n"
      ]
    },
    {
      "cell_type": "code",
      "execution_count": 37,
      "metadata": {
        "colab": {
          "base_uri": "https://localhost:8080/"
        },
        "id": "W8vsn-LEOIuB",
        "outputId": "e8d94a66-7e30-4f4c-cbb1-6090400893d8"
      },
      "outputs": [
        {
          "name": "stdout",
          "output_type": "stream",
          "text": [
            "0\n",
            "1\n",
            "2\n",
            "3\n",
            "4\n",
            "5\n",
            "6\n",
            "7\n",
            "8\n",
            "9\n"
          ]
        }
      ],
      "source": [
        "for i in range(10):\n",
        "  print(i)"
      ]
    },
    {
      "cell_type": "code",
      "execution_count": 38,
      "metadata": {
        "colab": {
          "base_uri": "https://localhost:8080/"
        },
        "id": "R_mm8Fi_QmrU",
        "outputId": "ad51ab99-8091-4ce0-e4a5-e0cc7f9ef5b3"
      },
      "outputs": [
        {
          "name": "stdout",
          "output_type": "stream",
          "text": [
            "1\n",
            "6\n",
            "11\n",
            "16\n"
          ]
        }
      ],
      "source": [
        "for i in range(1, 20, 5):\n",
        "  print(i)"
      ]
    },
    {
      "cell_type": "markdown",
      "metadata": {
        "id": "H245GgOxRPjC"
      },
      "source": [
        "La cantidad de números en la secuencia de **range** determina el **número de iteraciones**. En la celda anterior, el número de iteraciones fue 4."
      ]
    },
    {
      "cell_type": "markdown",
      "metadata": {
        "id": "ac5fEra0FUCl"
      },
      "source": [
        "# While\n",
        "La sentencia *while* nos permite ejecutar instrucciones múltiples veces si una condición se cumple.\n",
        "\n",
        "La sintaxis de un *while* es la siguiente:\n",
        "\n",
        "1.  palabra clave *while*\n",
        "2.  condición\n",
        "3.  operador dos puntos (:)"
      ]
    },
    {
      "cell_type": "code",
      "execution_count": 39,
      "metadata": {
        "colab": {
          "base_uri": "https://localhost:8080/"
        },
        "id": "EOQkZOGbGPuK",
        "outputId": "6c277a03-c642-462d-8619-d6f37e2dedb2"
      },
      "outputs": [
        {
          "name": "stdout",
          "output_type": "stream",
          "text": [
            "1\n",
            "2\n",
            "4\n",
            "8\n",
            "16\n",
            "32\n",
            "64\n",
            "128\n",
            "256\n"
          ]
        }
      ],
      "source": [
        "numero = 1\n",
        "while numero <= 256:\n",
        "  print(numero)\n",
        "  numero *= 2"
      ]
    },
    {
      "cell_type": "markdown",
      "metadata": {
        "id": "FbOdKd42U1PX"
      },
      "source": [
        "# Break\n",
        "La sentencia *break* la usamos cuando queremos **detener completamente las iteraciones de un bucle**, sea *for* o sea *while*.\n",
        "\n",
        "*Break* hará que el programa salte a una línea de código que se encuentre fuera del bucle.\n",
        "\n",
        "Se define escribiendo la palabra `break` en una línea de código."
      ]
    },
    {
      "cell_type": "code",
      "execution_count": 40,
      "metadata": {
        "colab": {
          "base_uri": "https://localhost:8080/"
        },
        "id": "yUfBV0MdVu-0",
        "outputId": "ffb9e821-2f06-40f4-95b9-e3680e774c3b"
      },
      "outputs": [
        {
          "name": "stdout",
          "output_type": "stream",
          "text": [
            "1\n",
            "2\n",
            "4\n",
            "8\n"
          ]
        }
      ],
      "source": [
        "numero = 1\n",
        "while numero <= 256:\n",
        "  print(numero)\n",
        "  if numero == 8:\n",
        "    break\n",
        "  numero *= 2"
      ]
    },
    {
      "cell_type": "markdown",
      "metadata": {
        "id": "GlBAK5IYWCag"
      },
      "source": [
        "Si utilizamos *break* fuera de un bucle, Python generará un `SyntaxError`. Recordemos que el *break* se utiliza únicamente para **detener bucles**."
      ]
    },
    {
      "cell_type": "code",
      "execution_count": 41,
      "metadata": {
        "colab": {
          "base_uri": "https://localhost:8080/",
          "height": 129
        },
        "id": "MbIKlgDcWPIK",
        "outputId": "006c1273-2e11-43ca-f62f-c37efe7ffd42"
      },
      "outputs": [
        {
          "ename": "SyntaxError",
          "evalue": "'break' outside loop (1328634869.py, line 2)",
          "output_type": "error",
          "traceback": [
            "\u001b[0;36m  Input \u001b[0;32mIn [41]\u001b[0;36m\u001b[0m\n\u001b[0;31m    break\u001b[0m\n\u001b[0m    ^\u001b[0m\n\u001b[0;31mSyntaxError\u001b[0m\u001b[0;31m:\u001b[0m 'break' outside loop\n"
          ]
        }
      ],
      "source": [
        "if True:\n",
        "  break"
      ]
    },
    {
      "cell_type": "markdown",
      "metadata": {
        "id": "_-pf0Ad-jIba"
      },
      "source": [
        "Es posible anidar bucles. Sin embargo, la sentencia `break` se aplicará en el bucle donde se encuentre indentado."
      ]
    },
    {
      "cell_type": "code",
      "execution_count": 42,
      "metadata": {
        "colab": {
          "base_uri": "https://localhost:8080/"
        },
        "id": "iY58MMaVjUWb",
        "outputId": "32b04824-3ad0-418c-fb2d-59a03ad2e11e"
      },
      "outputs": [
        {
          "name": "stdout",
          "output_type": "stream",
          "text": [
            "0\n",
            "1\n"
          ]
        }
      ],
      "source": [
        "esta_granizando = True\n",
        "for i in range(2):\n",
        "  while esta_granizando:\n",
        "    break\n",
        "    print('¡Está granizando!')\n",
        "  print(i)"
      ]
    },
    {
      "cell_type": "markdown",
      "metadata": {
        "id": "MpbtMtCwWXcd"
      },
      "source": [
        "# Continue\n",
        "La sentencia *continue* la usamos cuando queremos **saltar una iteración del bucle**, sea *for* o sea *while*.\n",
        "\n",
        "*Continue* hará que el programa salte a la primera línea de código del bucle.\n",
        "\n",
        "Se define escribiendo la palabra `continue` en una línea de código."
      ]
    },
    {
      "cell_type": "code",
      "execution_count": 43,
      "metadata": {
        "colab": {
          "base_uri": "https://localhost:8080/"
        },
        "id": "JxFHKc_lX8TC",
        "outputId": "a9aac082-f3d9-44b6-fe07-8ee5c075444d"
      },
      "outputs": [
        {
          "name": "stdout",
          "output_type": "stream",
          "text": [
            "1\n",
            "2\n",
            "8\n",
            "16\n",
            "32\n",
            "64\n",
            "128\n",
            "256\n"
          ]
        }
      ],
      "source": [
        "numero = 1\n",
        "while numero <= 256:\n",
        "  if numero == 4:\n",
        "    numero *= 2\n",
        "    continue\n",
        "  print(numero)\n",
        "  numero *= 2"
      ]
    },
    {
      "cell_type": "markdown",
      "metadata": {
        "id": "ahj9mRhgL31x"
      },
      "source": [
        "## Bucle infinito\n",
        "Un **bucle infinito** es un bloque de código que se ejecuta infinitas veces."
      ]
    },
    {
      "cell_type": "code",
      "execution_count": null,
      "metadata": {
        "id": "D9h-hktpNBHp"
      },
      "outputs": [],
      "source": [
        "numero = 1\n",
        "while numero <= 256:\n",
        "  print(numero)"
      ]
    },
    {
      "cell_type": "markdown",
      "metadata": {
        "id": "29AMN9R7UXO2"
      },
      "source": [
        "Usado de manera adecuada, el bucle infinito nos permite realizar programas útiles, como el menú de una aplicación."
      ]
    },
    {
      "cell_type": "code",
      "execution_count": 44,
      "metadata": {
        "colab": {
          "base_uri": "https://localhost:8080/"
        },
        "id": "3J-NxSvQUh00",
        "outputId": "a57aba7c-0c11-4b06-ff80-4bd8b1de8c94"
      },
      "outputs": [
        {
          "name": "stdout",
          "output_type": "stream",
          "text": [
            "\n",
            "  1. Diga 4\n",
            "  2. Salir\n",
            "  3. Repetir menú\n",
            "  \n"
          ]
        },
        {
          "name": "stdout",
          "output_type": "stream",
          "text": [
            "\n",
            "  1. Diga 4\n",
            "  2. Salir\n",
            "  3. Repetir menú\n",
            "  \n"
          ]
        }
      ],
      "source": [
        "while True:\n",
        "  print('''\n",
        "  1. Diga 4\n",
        "  2. Salir\n",
        "  3. Repetir menú\n",
        "  ''')\n",
        "  opcion = int(input('Introduce una opción: '))\n",
        "  if opcion == 1:\n",
        "    print(4)\n",
        "    continue\n",
        "  elif opcion == 2:\n",
        "    break\n",
        "  elif opcion == 3:\n",
        "    continue\n"
      ]
    }
  ],
  "metadata": {
    "colab": {
      "collapsed_sections": [
        "yYBT71iNMDzQ",
        "Ct0kXGqIYod_",
        "BdYOBEmCBUlP",
        "WHDXYJnrWGU1"
      ],
      "provenance": []
    },
    "kernelspec": {
      "display_name": "Python 3",
      "name": "python3"
    },
    "language_info": {
      "codemirror_mode": {
        "name": "ipython",
        "version": 3
      },
      "file_extension": ".py",
      "mimetype": "text/x-python",
      "name": "python",
      "nbconvert_exporter": "python",
      "pygments_lexer": "ipython3",
      "version": "3.8.10"
    }
  },
  "nbformat": 4,
  "nbformat_minor": 0
}
