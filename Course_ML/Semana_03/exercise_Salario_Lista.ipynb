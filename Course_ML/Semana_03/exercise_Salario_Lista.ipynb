{
 "cells": [
  {
   "cell_type": "markdown",
   "metadata": {},
   "source": [
    "### Determinar el nuevo salario de una persona en una lista de empleados "
   ]
  },
  {
   "cell_type": "code",
   "execution_count": 1,
   "metadata": {},
   "outputs": [
    {
     "name": "stdout",
     "output_type": "stream",
     "text": [
      "Nombre: Jose, \tSalario: 2300.0, \tAumento: 0, \tNuevo Salario: 2300.0\n",
      "Nombre: Pedro, \tSalario: 1078.0, \tAumento: 98.0, \tNuevo Salario: 1078.0\n"
     ]
    }
   ],
   "source": [
    "# solicitar nombre\n",
    "name = input('Ingrese el nombre del empleado: ')\n",
    "\n",
    "# entrar al ciclo mientras el nombre no sea vacio\n",
    "while name != '':\n",
    "    salario = float(input(f'{name}, ingrese su salario: '))\n",
    "    aumento = 0\n",
    "    if salario < 1000:\n",
    "        aumento = salario*0.1\n",
    "    newSalario = salario + aumento\n",
    "    print(f'Nombre: {name}, \\tSalario: {newSalario}, \\tAumento: {aumento}, \\tNuevo Salario: {newSalario}')\n",
    "    name = input('Ingrese el nombre del empleado: ')\n",
    "\n",
    "# aviso de fin del ciclo\n",
    "print('Terminado!')"
   ]
  },
  {
   "cell_type": "code",
   "execution_count": null,
   "metadata": {},
   "outputs": [],
   "source": []
  },
  {
   "cell_type": "code",
   "execution_count": null,
   "metadata": {},
   "outputs": [],
   "source": []
  }
 ],
 "metadata": {
  "kernelspec": {
   "display_name": "Python 3",
   "language": "python",
   "name": "python3"
  },
  "language_info": {
   "codemirror_mode": {
    "name": "ipython",
    "version": 3
   },
   "file_extension": ".py",
   "mimetype": "text/x-python",
   "name": "python",
   "nbconvert_exporter": "python",
   "pygments_lexer": "ipython3",
   "version": "3.8.10"
  }
 },
 "nbformat": 4,
 "nbformat_minor": 2
}
