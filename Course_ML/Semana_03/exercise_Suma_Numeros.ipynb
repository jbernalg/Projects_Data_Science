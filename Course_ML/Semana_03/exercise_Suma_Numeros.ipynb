{
 "cells": [
  {
   "cell_type": "markdown",
   "metadata": {},
   "source": [
    "## Sumar los numeros del 1 al N"
   ]
  },
  {
   "cell_type": "code",
   "execution_count": 4,
   "metadata": {},
   "outputs": [
    {
     "name": "stdout",
     "output_type": "stream",
     "text": [
      "La suma factorial de 4 da como resultado 10\n"
     ]
    }
   ],
   "source": [
    "# solicitar numero\n",
    "n = int(input('Ingrese un numero entero mayor a 1: '))\n",
    "\n",
    "# inicializar contador y bandera\n",
    "contador = band = 0\n",
    "\n",
    "# Realizar la suma\n",
    "while band < n:\n",
    "    band += 1\n",
    "    contador += band\n",
    "\n",
    "# mostrar resultado\n",
    "print(f'La suma factorial de {n} da como resultado {contador}')"
   ]
  },
  {
   "cell_type": "code",
   "execution_count": null,
   "metadata": {},
   "outputs": [],
   "source": []
  },
  {
   "cell_type": "code",
   "execution_count": null,
   "metadata": {},
   "outputs": [],
   "source": []
  }
 ],
 "metadata": {
  "kernelspec": {
   "display_name": "Python 3",
   "language": "python",
   "name": "python3"
  },
  "language_info": {
   "codemirror_mode": {
    "name": "ipython",
    "version": 3
   },
   "file_extension": ".py",
   "mimetype": "text/x-python",
   "name": "python",
   "nbconvert_exporter": "python",
   "pygments_lexer": "ipython3",
   "version": "3.8.10"
  }
 },
 "nbformat": 4,
 "nbformat_minor": 2
}
