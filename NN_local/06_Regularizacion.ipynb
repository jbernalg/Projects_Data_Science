{
  "cells": [
    {
      "cell_type": "markdown",
      "id": "j9LL0xnHyqoB",
      "metadata": {
        "id": "j9LL0xnHyqoB"
      },
      "source": [
        "# **Regularización**\n"
      ]
    },
    {
      "cell_type": "markdown",
      "id": "eac71fa0",
      "metadata": {},
      "source": [
        "En modelos de inteligencia artificial, la regularización es el proceso matemático consistente en agregar información para resolver un problema mal planteado o para evitar el overfitting. En otras palabras, la regularización es la agregación de algunos parámetros, llamados penalización, para mejorar el rendimiento de los modelos de IA y evitar problemas como el sobreajuste, es decir, ayudan a mejorar el proceso de generalización de los modelos de IA.\n",
        "\n",
        "Consiste en agregar un término a la función de costo para penalizar modelos con parámetros muy grandes o complejos, previniendo el sobreajuste."
      ]
    },
    {
      "cell_type": "markdown",
      "id": "ded08c7f",
      "metadata": {},
      "source": [
        "# **Tecnicas de regularización comunes**"
      ]
    },
    {
      "cell_type": "markdown",
      "id": "hC_tvc_o3o6Q",
      "metadata": {
        "id": "hC_tvc_o3o6Q"
      },
      "source": [
        "## **1.- Regularización L1 o Lasso:** "
      ]
    },
    {
      "cell_type": "markdown",
      "id": "e83280ee",
      "metadata": {},
      "source": [
        "Agrega un termino de penallizacion a la funcion de perdida del modelo, que es proporcional a la suma de los valores absolutos de los pesos __w__.  Este concepto se puede aplicar a las redes neuronales artificiales, pero también se puede aplicar a otros algoritmos de IA, como regresiones lineales, polinómicas y logística, máquinas de soporte vectorial, etc. Y en términos matemáticos se representaría así:"
      ]
    },
    {
      "cell_type": "markdown",
      "id": "157eb8b0",
      "metadata": {},
      "source": [
        "#### $$\\frac{1}{N}\\displaystyle\\sum_{j=1}^{N}|w_j|$$"
      ]
    },
    {
      "cell_type": "markdown",
      "id": "ab7490e0",
      "metadata": {},
      "source": [
        "Al aplicarlo a una funcion de perdida $J$ queda de la siguiente manera:\n",
        "\n",
        "#### $$J_{total} = J_{original} + \\lambda \\cdot \\frac{1}{N}\\displaystyle\\sum_{j=1}^{N}|w_j|$$\n",
        "\n",
        "Donde:\n",
        "\n",
        "- $J_{original}$ es la funcion de perdida original.\n",
        "- $\\lambda$ es el hiperparametro de regularizacion, que controla la magnitud de la penalizacion\n",
        "- $w_{j}$ son los pesos del modelo"
      ]
    },
    {
      "cell_type": "markdown",
      "id": "3a7d08a5",
      "metadata": {},
      "source": [
        "### L1 aplicado a una funcion de perdida"
      ]
    },
    {
      "cell_type": "markdown",
      "id": "f9438836",
      "metadata": {},
      "source": [
        "Si agregamos esta penalizacion a la funcion de perdida __Error cuadratico medio__, quedaria:\n",
        "\n",
        "#### $$J = \\frac{1}{M}\\displaystyle\\sum_{i=1}^{M}(y_i\\ - \\ f(x_i))^2 + \\lambda \\cdot \\frac{1}{N}\\displaystyle\\sum_{j=1}^{N}|w_j|$$"
      ]
    },
    {
      "cell_type": "markdown",
      "id": "415c8Wz-P166",
      "metadata": {
        "id": "415c8Wz-P166"
      },
      "source": [
        "### Cuando usar la regularizacion Lasso "
      ]
    },
    {
      "cell_type": "markdown",
      "id": "1c84b6a1",
      "metadata": {},
      "source": [
        "L1 es de ayuda cuando hay sospecha de que varias de las variables de entrada sean irrelevantes, es decir, aportan poco o nada a la solución del problema. \n",
        "\n",
        "Al usar L1 , se está favoreciendo que la solución sea poco densa. Es decir, que algunos de los coeficientes terminen valiendo 0. Esto puede ser muy útil para determinar cuáles de los atributos de entrada son los más relevantes y que influyan en la obtención de modelos que generalice mejor.\n",
        "\n",
        "Lasso es muy útil en este sentido, pues hace la selección de atributos de entrada y funciona mejor cuando las variables no están muy correlacionadas entre sí."
      ]
    },
    {
      "cell_type": "code",
      "execution_count": null,
      "id": "ErFAVDWVQbhW",
      "metadata": {
        "id": "ErFAVDWVQbhW"
      },
      "outputs": [],
      "source": []
    },
    {
      "cell_type": "markdown",
      "id": "7GOEXRXb31dj",
      "metadata": {
        "id": "7GOEXRXb31dj"
      },
      "source": [
        "## **2.- Regularización L2 (Ridge):** "
      ]
    },
    {
      "cell_type": "markdown",
      "id": "c7d1ab1b",
      "metadata": {},
      "source": [
        "Tecnica que agrega una penalizacion a la funcion de perdida que depende del cuadrado de los pesos __w__ del modelo.\n",
        "\n",
        "La penalización fuerza a los pesos a tener valores más pequeños, lo que evita que el modelo dependa demasiado de características particulares de los datos de entrenamiento (reduciendo el sobreajuste).\n",
        "\n",
        "Al igual que ocurría en L1, L2 se puede aplicar a varias técnicas de ML. En terminos matematicos, se representa como sigue:\n",
        "\n",
        "#### $$\\lambda \\cdot \\displaystyle \\frac{1}{2 \\cdot N} \\cdot \\displaystyle\\sum_{j=1}^{N}w_j^2$$"
      ]
    },
    {
      "cell_type": "markdown",
      "metadata": {},
      "source": [
        "### L2 aplicado a una funcion de perdida"
      ]
    },
    {
      "cell_type": "markdown",
      "metadata": {},
      "source": [
        "Al agregar esta regularizacion a la funcion de perdida __Error Cuadratico Medio__, quedaria:\n",
        "\n",
        "#### $$J = \\frac{1}{M}\\displaystyle\\sum_{i=1}^{M}(y_i\\ - \\ f(x_i))^2 + \\lambda \\cdot \\displaystyle \\frac{1}{2 \\cdot N} \\cdot \\displaystyle\\sum_{j=1}^{N}w_j^2$$"
      ]
    },
    {
      "cell_type": "markdown",
      "id": "3UefiqabQCVB",
      "metadata": {
        "id": "3UefiqabQCVB"
      },
      "source": [
        "### Cuando usar la regularizacion Ridge"
      ]
    },
    {
      "cell_type": "markdown",
      "id": "CdmUVL5tQajI",
      "metadata": {
        "id": "CdmUVL5tQajI"
      },
      "source": [
        "Se recomienda usar esta regularización L2 cuando existen sospechas de que varias de las variables de entrada estén correlacionadas entre ellas. 𝑅𝑖𝑑𝑔𝑒 hace que los coeficientes acaben siendo más pequeños. Esta disminución de los coeficientes minimiza el efecto de la correlación entre los atributos de entrada y hace que el modelo generalice mejor.\n",
        "\n",
        "Esta L2 funciona mejor cuando la mayoría de los atributos son relevantes."
      ]
    },
    {
      "cell_type": "markdown",
      "id": "N8HKjlLTQLZr",
      "metadata": {
        "id": "N8HKjlLTQLZr"
      },
      "source": [
        "## **3.- Regularización $ElasticNet\\ (L1\\ y\\ L2)$**"
      ]
    },
    {
      "cell_type": "markdown",
      "id": "fc1ecdfc",
      "metadata": {},
      "source": [
        "Elastic Net es una técnica de regularización que combina L1 (Lasso) y L2 (Ridge) para mejorar la estabilidad y la capacidad de selección de características de un modelo de IA.\n",
        "\n",
        "Utiliza un parametro $r$ que indica la importancia relativa que pueden tener _Lasso_ y _Ridge_ respectivamente.\n",
        "\n",
        "#### $$C = r \\cdot Lasso + (1-r) \\cdot Ridge$$"
      ]
    },
    {
      "cell_type": "markdown",
      "id": "-RNnnu2AQUzV",
      "metadata": {
        "id": "-RNnnu2AQUzV"
      },
      "source": [
        "### ElasticNet aplicado a una funcion de perdida"
      ]
    },
    {
      "cell_type": "markdown",
      "id": "2d85613b",
      "metadata": {},
      "source": [
        "Para este caso, aplicamos la regularizacion $C$ a la funcion de perdida __Error Cuadratico Medio__, la cual se expresa como sigue:"
      ]
    },
    {
      "cell_type": "markdown",
      "id": "Zpk8ekTCQV6P",
      "metadata": {
        "id": "Zpk8ekTCQV6P"
      },
      "source": [
        "#### $$J = \\frac{1}{M}\\displaystyle\\sum_{i=1}^{M}(y_i\\ - \\ f(x_i))^2 + r \\cdot \\lambda \\frac{1}{N}\\displaystyle\\sum_{j=1}^{N}|w_j| + (1-r) \\cdot \\lambda \\frac{1}{2N}\\displaystyle\\sum_{j=1}^{N}w_j^2$$"
      ]
    },
    {
      "cell_type": "markdown",
      "id": "2q-trK3xQy1G",
      "metadata": {
        "id": "2q-trK3xQy1G"
      },
      "source": [
        "> Si $r=1$, entonces el tercer termino de la ecuacion se hace cero y la regularizacion e vuelve L1."
      ]
    },
    {
      "cell_type": "markdown",
      "id": "j0fmHUYsQ39h",
      "metadata": {
        "id": "j0fmHUYsQ39h"
      },
      "source": [
        "![elasticnetL1.png](data:image/png;base64,iVBORw0KGgoAAAANSUhEUgAAA7wAAACECAYAAACzgidqAAAAAXNSR0IArs4c6QAAAARnQU1BAACxjwv8YQUAAAAJcEhZcwAAEnQAABJ0Ad5mH3gAAEVTSURBVHhe7d1/aFv33if4d3Y6oEALNqSDDClUIRkq0w6RaYZIPHkgMu4SmVyITLoTi5RpnZZJ5fbZRk7uba3mj1TOcyex0t3WaqG1EqZBDtxihW2wAgmWYVOksC2WeRqisAlR2AYspgELbiCCJw/a7zk6x5ZtydZvHUnv1+VcHx2rjq1zzud8P9+fWzICiIiIiKjl/Pct/0HZIyJqLn/O/E9lrzL/i/KViIiIiIiIqKUw4SUiIiIiIqKWxISXiIiIiIiIWhITXiIiIiIiImpJnLSKiIiIqEXlm7SqWhPBEBFVSy1jFVt4iYiIiIiIqCUx4SUiIiIiIqKWxISXiIiIiIiIWhITXiIiIiIiImpJTHiJiIiIiIioJTHhJSIiIqKSSDOqqhsRkZYx4SUiIiKioq1Ncpn8EpGWMeElIiIioqpg8ktEWsOEl4iIiIiqjokvEWkBE14iIiIiKtqfM/9T2SsOW32JqJGY8BIRERFRSaSkt9TEV8Lkl6g5tNK9uiUjKPtERERE1ELyFVbLSVSLUW7BuFa/DxGVZqN7uNb3aS1jFRNeIiIiohZVz4Q3F5NfouZQ7L3azAkvuzQTERERUVVJBdVyCqtSoVfdiKg22u0+Y8JLWY9jCM+F4P/Ygi1btmQ3kxcx5dsFPY1izKy8f0sX+j+bQmgujOijtPIGIiLSlCfxbLw/0YsuNd6b88X7FBI/hxG+Oob+Lul9OzDwRTbGxx4zxlNx1MS3kuSXqNmk5XJ1EN63dyhl5C3o+jAkouoaz5OIiZgaujQMi/S+rl4c+zoo/tsw4k+U91RJJUluOfevlrBLM612e0wUfNzKCydmliZg61BerpNG9AsrLKej2ZfvTmPpoh0F305ERBqSwJR9BxxXpX09nD/FMXEwXwRPYurtLrh2ziJx1gqdcpSaQ77CrRYKr+Umss1e8KZ2E4V7iwVj8r4Z47EIXLvlF2tEMSbeF7n4EDPvGpRj1VHuvSap5/1Wy1jFFl5aJZmYV/Yk04g9UHbzSN/2wqUmu4K9z8Jkl4ioWaQTmJeTXUkSvrP+/L160ncx/yPg2G9hsktVIxVkyynMSoVidSPSvAd3RSqrimL8uzytvBLxvjCssO+rTrJbyX2i3pvVSja1gAkv5Ujjbiyo7EuSuJtIKvtrPI3Cc3wCCb3yGiZYjMsviIhI6+7FRAHLDudH5uzr2+PwX8tTFLsTRUC8r8fIdJeqr5LCNRNf0rpUXMRZvRPO49kycvJbD/wL8u4qyVhYvM+K7p3KgTIwyS2MCS/liCF6GbCf9WBQOTJ1L6Hs5Uojes6JsH0EQ2qOqx+AJW8XDSIi0qLEbxHE+mxwiZjvkmN5Er7T61t5E6IglhTvM29XDhDVSLmF7koK+kS1FP/FBxy1Y/yEBzb5SBQjXwXXtPKmcfeXKfE+M0zKkWJVcu2Xe781Iya8tELqTpG0wnbYhm41kf0tIYpAq6V/9sB5cwDeAx2IqrVUZdykRETUKCnEo0Ho93XD8KIVzjPZohgWRuC7mlsUSyJ2K5x9n3KEqB7KLYhXkgAQVVcMkWuA3dQN3U4HXCeVwvWlta288WyDk/Q+5chGKrnG2ynJzcWEl5Ylfwkp3Sm6YOxTDv54F6vaeJ+G4T4cxsCXLhgXpe5wWcXepEREpAVxRL4FBnYb5VeGoy6MKmUx/5mcVt70XUREQcyxl1Wa1BiVFNCZ+FJDPRJxdkEd8qeD9QO1lTe2upX3wXy2wWmP2tq0HpPcyjDhJYUyflduqdXDYFILN3EkHim74j3hMw5EPvTCtReYv+VTjm98kxIRkcYsRBCCHRaTMtWgzorhC/bs/sIIPFeUvj0cv0saUm7BvZJkgahcqd8iCOYO+dvpgPuMUr6+5IHvdnZ5t0Ljdyu9bts9yc3FhJcUyvhdpaXWsNOSPYwg5u9nb8j0TTcct4bhO2kW78l2v5BVOMieiIjqKxmPILbbAmPOuFz9IZHoKgWz4Dk/oiL0c/wuaVW5hflKkwiiYsUXpoFDJmT70Uh0ML87gmzVYgzuC0Ek84zfrUaSy0R3NSa8lKWO31VaajuMJljlPXFLPloEnoQw8k4Ew1+7YJIyYrn7Rfb7HL9LRNRMUpi/FQQOWlbHbp0ZzjNOyE+BBTfGr8ay43f393D8LmlWJQV8Jr5UOzFEgknYzcbVS3ZuHxSJrjIz/o/j8N+OyA1Ifz3/X/B/lnk9VnIPtAsmvCRTx+/2qC212w3LBaHw/SimTg9h/mMfXG9mu7XJ3S/kPWBwD8fvElGbS0bhP9WPsTnltabFEbsKOPestDuoOg4OYWRvdj94bggeafzum+vfR6RF5Rb81cSXyW9jpR6E4B10YOqBcqCZPVbG776xvrrQdNQNp14kuXiMF8z/BS8kX1a+U7xyr/V2xYSXhJXxu8vFGp0BPYeU/fMOOGLD8H1iUhJbpfuFzAqrieN3iahNPYlhSiS6O7osOHY+hKXn2SEgmrYQwXTSCpNxVbuDwgTnGZfSyhtDDIOiwMYqTWo+5SYDTH7rL/04LBLdbhh39WPkShLPlOPNLBWLICjKyKbXlAMK+dp6+b/iFSa5dcWEl4Ts+N3VLbUGGF5XdmGGR+3KLMu+X5bbKkxE1C6kRPe0A45TPgSuhlbPZq9x8vjdDWK3rs8JzwHlRZ8osLFOk5pYJUkCE9/akhPdDwcwfNoP/1x83TKYzUwev3vUgm5Rdlavo3KupUquX1rBhJeU2n4TenatLtXod2WH1ZvPrnRllsnvV/ZzW4WJiNpE6nkH7KcDCFycxPQ3LuVoM0ghcjMoT6RSeFyuAY6To3IrL8fvUispN3moJGGhQtLifz1wfjONyYsBzJxRZ45pBTH836f/DX+9/N/wP5jkagIT3raVQnwujPBVLwYOj4hbM4bwtSDC4ljscfYdhl09wF6P0pVZfb8Px45L71dc9sJ7VRz/ObGynhgRUYvr0BugeyG7r3upM7ujYelHURHfQ/CfGIDzkjgQDcC/QezW7R+G9zDH71LrKjehYPJbLTp0bO9Y7lm49cV8QyyaS+pOWLk2/lflSGmY5NbOloyg7BMREVGpbo9hi9kt77puPMN4X06PGKIGy5eYsVCdX7lJLD/PyiWvDKBrMCj2rJi8P4uhJhouV0nlB6+dFbWMVWzhJSIiIqK2JxWu1a0U2VY9tvq2k0rOebnXGZWPCS8RERERUY5yE5JKEiHStkrOLZPcxmLCS0RERESURyWJChPf5scktzUw4SUiIiIi2kS5CUwlSRPVXyXnq9xrhGqLCS8RERERUQnKTWoqSaaodio9L0xytY0JLxERERFRGdREp5LklxqnGkluOeee6osJLxERERFRhcpNgNSki8lvfVTyeZd7jqmxmPC2g0dTcHRtwZYtDdpOhZFWfhUiIqoBxnkiTSk3KaokGaPCKvlc1XP59lQfuvLFvzptIzcZZcvFhLcdvDoI/w8u6JWXRETUYhjniTRJTZYqSX6pPNVIcnPPm+GIH4GTjLLNiAlvm9D1eRA8Y1ZeEVFVPY0j+MUxWHYpNbFd3eg/NYX4U+X7RHXAOE+kbfmSqGJUkri1m0o+q83Pjw7W00F49iovqWkw4a2nVBxTp/qx44uocqCedDB/7sN4wZvUhPFYBplMmdvfl7AYn8XkJ1a2MFB7eRrFWF83Bn64i60GK6x7DUAyjtB5B7r7xhBl0kt1wzhP1CzKSXwllSR0raqSz2TzJHeNF80Y/XYcBasW3xzHfL74WeT2bGkRd8OTcO1nlK0mJrz18DyJ6KUR9Bq74TgfQkI5XH8muK4EMJj3Hoph5MAIwuUWzl/sgP41K4YuzCJ+ywMr71NqC2lEv3RiZs8MHt6PYPbGLGajD7Ek7gH5YXjbDc+PjbvjqR0xzhM1k5ITrhztnvhW8veX+5nLdrsQmBrMX/H36whsFcxpoOvQw7h/COPhOCJnWblYLUx4ay6N2M15dBz0YOK0VTnWQK8OwvtVgZs06UXviSBSystydfzDKCYvFPg3iFpJKozAN1Z4ztpgUA5JpHvAd84k74fmYkjKe0R1wjhP1JTKTX7VxK8dkt9K/tZyP998DEe88B3NHwGT53sxfLXiKAvzp5PwFvg3tCmF6NfD6H+jS5loawcs73kRfaJ8u4GY8NacDqYDNhi36dDZ0aEcayz9YX/hcV7fD8DxfeUtUlIg8B5WXhC1qkcJpM85YX1ReZ3DZLZld9KcVbHlPX+m7GgH4zxRcys3MaskIWykZ8+VnTwq+ZuqmeSupof9m8Ljef12B/wPlBdlM2DwrBd25ZW2JTD1jhGWs2Gku7ph3W8Un1BC7uFqecOBqUfK2xqECW9b0sF80lfwJg19cAy+e8qLsolAcHyUtf/U2nY7MXk0t203xwtb5S96kxT0qXWlEb0RUvaB8J24stdojPNEraCShK15El+RGF0LKvthRH9LaTTJXeNFM1xfK0OY1gnh2Ic+VPxE2G6H81PtR9nklRG4UiOYv383O7wrfBeLCWV4TXIKru8au3QdE952pTNhtOA4rzCG91cwzkuhM1vhUPaJ2k3y97vi//UY2mvMHqCWkn4Qgu+8G8O2bli+iClHgdgJG7oHR+C9FETscYNb95sqzicROtGL3rd64b2tHGoKMfjE79z71rGGt2BQ6ys3kaskeayl1G0/vOdH4HjDAsePwF/xsrztsv9H5R3FK/ezqZTuzdHC43lvDsNa8RrlOlj2a700HUPgXBqeCy6Ycnu8vToI3zdD8m7yUrTy5L8CNUh4Ewh96RUXsFQQ2KH04V697bANw31eeo9fE/2625a4ED2FxmAlvXCcqfAm1YmC4FFlv0ypX30YPh9taK0Q5XieRPjrYQyYlXt7lwXHxPkpZqRKI89l6uowjl2KVzxusXgpRK5PAQc8GNqvU45RK9HttMF50oOJ0MM1s2wu4u7UOFzv2mHaroFz3wRxXpV6HEb4ZhiLf2+miJ9GSvzO4ZuJDbtkNqcUYiLee38u4nwko/Cf6sfYnPK6jaQXfDh2OoRknc9/ucmdlpLfjr1DeH7qB/ynO/8mJ7qlalSSu5bhiKfgWNvkeQfcNyuLabo3LBhU9jXpySIW33bDsVN5naPDZM12yU5K0bJxapDwGmD7xAWXXBCYxvhu5bDCfvEhHoYm4DkpvWcI5m3KN6ghpEW0g59nJ9dZSxp0P1DROC89DKb8P3tzKYRP98PxkwHuT8xgyqABj0IY3teF3o/n0XVqFs/+PgvXA6mQY4H72kapZOPPZcehCYxu82HA7kNskxatqiTHD6bhv2TG+NmhVZNZUR08TyB4ohddUuXqe0FOGCZoN86TZj0Jw21zYHqnG65/2CBqP4lll1vskio/Q1h63kyVFdWh2+3EhD2OIdMwQg1oxKkk6WtU4ltJ0l3J31s7Bgx+E8TompwnKwnvWwOVjefVG9CT92drxDYbxj8tUL57Qfl61NjQ8lBtuzSnl7C4oOzLXHAeYfFPW3Qwn9ponNdwRTep8bAfs293K6+KJQqs7/XA/dyFwBkb9OrNQo2TjmHsSD98t/UYnApg4pABunsxZEfc6NHxYqECkXbOpeHgBCYPR2DbZG3cUpLj/BKY+syNDvE5ubT8gGpJaUTPDGDgy7Cc6CYueRBY9QxqV1qM86RZj4I4ZnYDnwTgOZC/1UpOdE874BDXVeBqI5db1Abdbhemv++Cp8GT85SbDFaSgJaikn9De0nuGi+a4f52g/G8H/sruE+McHw/C0czjpBKJhARX2z7Tfl7GtVJbRNeUSAOK7uy41b0sKlOe6RFtC9PQplTdg1xk+5zI1xmpa1uuwnWN/UltOpJs7xZ4Hw+Cv9nVmhjXmuKfeuEWxpXd8ADj1pp9aYLkdgsIvE4PHm77WrvXMotXbYZWN7e+MFTbHK8nki4vnBg4o0g/Kzcq78FH1w3BzC7eBcBuXtZTFyfbOOVaSrOk2Y9moLD7MSzU364+wpH7dTzDthPBxC4OInpb1zK0fam2zuKwAXAZa58bHw1lJsgVjv5reTnqX+DphPdHPI18F3+KIvrx2D5rNwhJDro37RqY5hMiWJz00jqXXAdbmyZqKYJb+K3iChurLCbjUxgtGrnECYKDbpPjsFxuj6zq8W+dMBx0wrPaQeMeZZ6oQZ4EoTvRFTetR/tX9UlRb/bCvNr+e9qbZ5LHcyf+zC+tPmDp9jkOFfiyhDczzwIfV6frtvJayPyJD+957Pnp93FbobR/6ULVr1xeSmHyKPF7DdJM3GeSlWvCb1i8B5xINzngeeoccMY1qE3QKf02NG91JndIfHc8MF/KIDeEp4btVZJ0lhuotpOSe5ahvcnlArX9ZL/XPl43qbyNIzAhUU4v3PnXb6xnmqY8KYQj6pTjEtMsLzBFg8tkwP18QI36fleOK7UuKVkwQunSKxsp0bg2Mm2Aq1I3QrBL+/ZMWDOf32so+lzaYLzjAsQD56NC4/FJ8eSxI/H0H+9H5Nn17dmpx4kapNIPE3Ik/yE/3jGREUkBenXPHDuVa637UZYdoujbTimcCMNj/NUlnpM6BX70omR2zaMnHDAwEdwmTpgO+GB7foxjGjwXio3mSwmgS3mPYWU+3tpkwGDF/xw5q9ZhPctB6YeKy9bWhrRcyOIfBjE+MHGN3fWMOGNI3ZV2ZXZ5MIHaZkI1OcKL6IdHByqwiLahSQxdXYEUZFUOQ6Z6tI6RsVIYPr7bLqL3RYYX83ubkz751LXN4BhfRLu05vVwheXHKdvj+HYZSMC3wyun5ThkXjwXdRKXX8r08N80JRT2dCFrl3KLuVoZJwnzXo8BY/Uk+ewA/bdfAJXZGc/HIele2m87GEC9VBugpmb2OZupWqtJHcNaRKnq4XG8wbh+EA7PQBqRerx5ng0gkCderxtpnYJ74O7COdWbh0XhWVllzRss0W0942JRKYGFgIY/1F8PWCDuaikimopnUohlUog9JkDx64rB/uMMMjHUxu3JjbFuTTD+qEeuHkM/p+VQwVslhxLyW7/ITcSf4QwYs92O1zZLNhhcKP7T9amrcSRr4VHMYTnQpj6Ooi4evKl6+OSF17pWP3We6JqaFScJ82KXRmXJyG09ZkbOpOqdqTlZ13yXlTEviD832YnwpMloyIWith3SRzLuxSRHtZD0oAKL3w/ai2tSSFx3Yfht8WzSV4qdAf+r3f/jH/8oz6JZ0snuWvo9rrgO5s/ysrjeb9o3SgrNwJct2ImXyNAg9Qs4U3+Elo1YZXVxPG7i4+VwPev2S9ateEi2kk37BUvor1e9Nq4PN7bZO5GV/bQ5tKiIJ6MIyo9jL4O501GUr9OwXfeh6lfWSIvWkokbp2d6Ozcgf5/zgnI5/vFMXHc6Fs1Nn+tss6l6ukmybT4/qYJd5GMuwfkr2NToU2WINogOX4cxJBIdqXKvcTtbJfD1VsUid0jsBVoTdO0ByF4z3vhOWFDp6EHvdZ+OG6l0Sky9/SCF/1GcX28N4KRjwfQfVaLYz+fAS23Lmr1NCLOV9XzNBILIUx9IQqOVm+BmJRC6JRa+eSA/55yWBaHf1DEKFHo75L+e03/sbUWReiCHLVheaPkqN1yUrf9Ivb54HnHiC6jRcS+AbifbJXvlcS1YVi6LHB8LGLfe71wXMqf0OrFfyct1hX8KiSuNI1IRTFmNWKHzYOlPh/m/zWDpVtDwKURcd6zSyr9OfMveOXwH/gL/lD+o+polyR3NR1MnwYKj+c9bcdIg8bzpp+IsvNVH4b/1I3hQstKLvgwoFber5nfITU3hv5d2QqTY1dXd92XGwE+AzzfDK2bvyX9KFHZko8VqFHCm8bd2Orxu7Y9lef4ySsD4sOVPuAqbG/VrztB6p54KJ8/Bucp5ZH8hQvHvg4i/GtSswWKjRfR7sXw1WpesjFEgtkbpuf1jSfKkKR/9mL41IhcQ2ns6haFnQEc+1gUZubWfJrJIJx7HOK9w3DsscHL5UmK02HDRCaDTGYR00eVY7Aj8Lt0TGyLowVahiSlnUs8TSJ+Owj/6WEMmHdgy0udMFjHEF17eT2NY0paW1V8X0q6t9oqv387XjHIBRJ8G8b8JjdiweR4u/hcFpXPpdAWc2X/nWaz0wbXSRfcRyzKAcDaZ4b+0RSGDowgtPoZpzmJK264Vg2robXqG+erQ4r/x+wWdP37rdhh6odD6nmxP5tcrJOKIHReqXz6rRvdrynHJakEYlficqtdcm4EgVtafRrXwUIE0/L93AMj589Ax94hOfY5D64steXYa5IL8o4/+Yrr/fCqEXLk/DWIiBaGCDwVye4BC9xzSZjPiGfu+yZ0vCD+1n9wYuRd8f2kD+7LMfE3+rM9tIT/Z+pfsjsVaM9EN5cBg2e8GMxfswjvW8MI1m3tZmmNegd6RaK69WVRdrYPw3dNXKemAhOPzvkRVCrvO4zdq8pziYVphOTrOgH/tzMr5TGpfPDZIlwXRTlx7SRVqTA8InFeUl7WW40S3jiil5VdmRWm3AdNm+l4zYbBk5OILBeCI5j8yK7xZRyyi2gXGuflt4sEs1pB/HEcESUZLbye6wrdP7gwcW4cEz/NI3hGTb2SGLseWV2BoDfAsl+NMlEuT1Kq9F1E1Pu4zwbzdmV/IyWey3RqEYvPOmAwW2B8+Zl8LDnnhv3j4Er3MRFKpz60wqGsrSrRbxNJr7Jftm1dSlcbL6KbVIaUkhy3mvgdta+OHtadKYwdcSH18XjOGsN6jIqClKZi2QM/hgencq4hyq+Ocb5KpPg/GQzAe0g5IEjJSD7pX8LwKfs4al6dFHfY4LkxCqvyiEg80V5yXy/JuLqiRoeI2/IOIYV4TI19g7B0hjB0aAY9X3nk2d+zRNluf4HGnI5OpYdTGKFfGh2Jkgh+aM8uLbjbA+/J3DGV4vn7RvbOiEWn4Tnjxv+Gl/FXsf3nwf8kH69EueN7W8qrg/AXHM/rx8A79WqAM8B+IYDZS6PKa6Fg2S6B+etqvxkrbHtWZ+ym9wOYfFe59m8ms89aaf3uPgfCf8Th/UDtWbOydRt7ET+weqWPeqpNwvtgfs343eqsv6s/5MfS0lJ1tr85GvahNw1pnNeXG4zzOlKoG1mJHifksUPSTWUsaWpIHcxHh1cePjdja7oOmeC8EVG6k5hgMeatYqNCFqIIKLv6fd3F3S8lnkt5/c79VlgPDMLzk3quxOP5shMTSou9vLzR/WFEljLIPMvev4mL9vxdMUuxTb/8N80nNimQlJAct5bch94A8LMTM7Ygpj91wXMpgPFz45gMxwqsw9wgUkvG0WMiQlFR6hXnqyqFxeUSohPWPfmuvzQiN73KvnjXvp51lTIdfR5MfzMk76tL7LSjxAOlR540T4OGbuWGSoty7LfKfp8B8YsjgEgWJj4axfiNCRH7JjD9WwBDO5X3rKOHvi+7F3xQr/6E+aWueeC8nH3G2T4ehHnNOe7SG+QE968/foeXrr+sHK2uSia3agXSeF7vcgPNGtePYeDL+kXZ1NJK5Z7pQE/+st2DMKZuKvu7behZe52/aMTQxWmMSxXfojCmS8cwdmRAriBN3lGHdK3e4skhOPoaVw6vScKbjIk/TtmXVG38rq4DHR3V2hjViyEvov3DSn3mKo/nEblTea146o8K1sl81YAeZRcLi1ha2/r2ggFmkaxhtwPWRswSLo0zViZ6qmyrf7OiVNurpoGFWlDWquhcirA7eGJEaYVJYuxyCIlfx+A80YXAlVGYpSCixICqFE51W6GuHhlPbvJ7l5IcV0120pSNtqWnyluVsc0bbelyxrOm4oipDz39NCaCVng/ybYO6HYPyt3+hpZ7UZQihfAX/dixpQvdHwSrWLudRvRLV7Ylg4pWjzhfVQ/mEVIrng5b0JOvgJGWujMr+7AX7LbXsccqV5p2v9K4gtjmz4klPFPu3+yEghttpT4rRBzR4FLVm/+dxW1lxT3JvdhKOfY3PyaeeOA5kn0KGPqcIvY5YX99o5LtVmxVv/374uqhMMV6EsaYbQe2dHXjWNmTXyUw/a1PeZYPYejgSnqjJqD/Y/CWcqR4alflcrort2fyKy1zGEDgsPJyjcVYpE6TP6Yxf0vt96LHgDl/2S4xN7V8/evtBYaMSA1JUvDcZ0CXzoTRqNqLtdA2Cfu27H/ZCDVIeNO4+8uUsi+pzvhdrck7LrjGW6MYjo7nGXSvh/MbH5wbBvzipJ9WliQZlgNIAsl1YyFiCF4Mw37Ksf6GfS4lFLVNJJNXh7ITPVW6vR2oYlJQjCTiUbXGsVALynqVnUthtx3OA8r+pRH0HpmAYWocg0XP9lzeOY0vLon/cgOlJMfVIk2Ile9ayNmkZFH27QC68nw/d3OvHeNehFVdQpNJWE4Nrx+XU4b03Dgcp0PSHYv49wPwFpo0o0TJH4dgP13ezJf5Ym4jtkapdZyvptxJMeVx5cp+rtT1KSy37240JENOiAbzLrkmJV1lJ0wl2Pw5IRIeZTy67+2uPN/P3dwlLoUjYmbdxhAWKwpv3r+t9K2cuCdJiGtsuc0t2YXhE/b8LWHFeLRUxrjFNMIXHHBfF0/+ZBz+t70IlRMmF4LwqSstHLbi/svlJ5tScitNZiVtuTFLPVbORFfq75L78+qxNYYBg+cC68fz6p3wXXDCWJcwG8sZcuqAOW9DkCg3f7PSbLlhg8e/il/fZMwbg7WmBgkvx++2HgPMfSsT10jMnwbgOaSFQlAH9MsFlSASaxbzTl3zYzztwcihtbdjAv4/iSRGFCTcP5f3QGxpqXlElIkrCrag1IQBA+9nuxhK5yhh8i7Xqm9OFBA+M4hzKn7G5dpVD2yaHLeQlfG7wu5891E1VOlnPpqC62N13K4eg1MB5IxUok1pOc7nSmH+ljopZqEK9Rj855T1w4WC3faE1G8RBPtEOWXNZZiec8MgEibD21N1rmykxssdvyscHsHQ3gb3CpSuzzIqX2JzgeUxuX/98X9Xjhav1JbccpNf+fdTtpb2qhn9+5R9mRmjP3jq1/K5oE5QJxQYbiqXm5eHbm3U4BFD5JpIiN9sjkVnq5/w1mj8rqxq3UOlrbIia/7m+tpujSLPTPiOWsAQcffoJPyfWau2zFTHtkp6AOhEgrNSUln8I6cKNB2F7/Q0Bs44141ZkbobderFvyu2riImVyqX/sh03nNZ8nZjqGCBrRZyW/ZM5uJr7yo7l1kdBwbhUvZxv7SuYFIFhl6c265tantscfRaHL+3fRDT+a6FnG1xSumGenIWz/J8P3cb7yv1Os8dv5t/7Fe5dPtHEDhjE9e0AbaTXjj3VxpNEvB/6MCU8uzRH/XCc7i0azHfZ9aIrVFqHeerJndspX4AljwtFHKBbblbuwmO/YVaKFKIXPfBdsS6Pr6+1IluEfi2bu9Y7t1RK5s/JxaXu0K6bjzL8/3cbRzWku7T3EpjrRBJQN6/rfSt9Lgn5F5j4okyerzCOSPKer7oYD0RgOeAuDKlGfMviMSjxKRIajm9cWJNK0CRCiW5+T7jQlspiXKu3OQ338+txtYYaUS/cMChNiaIq2rwOz/cffWLsrk9F+z7evLE9xj8Z9Uu8MJxGyyFfr2FMALJUdj21a4MXU3lJ7zJGIKXvPBdCSORUyKt2fhdoWrdQ6Wt7l1Em5Q0xfgh98o0/Ltd8F9Yv7ZWJXTifGQfJiK5UccklqDr1ZVWicXUSsehxGUP3F0euA7muwL1sF98iMziLJyNGNurcbkz8xYa45FPpedSkr4TRUTZx0IA4aInidLBJBK/xcxDTBwoLep0GwzyuNRiaDI5rgUR48Pq+N01Y78q1wHr5zN4KM7VzLnBCuNJthBxTO22t3sUQWmx+2RCO+tfal0d4nzV5Eymt27mZcnTKMZP5xTYCiTFssch+L/Nf23r3nRhdjGDh1/ZtJf0V1VOpfHvqfLGmrYa8QxavsZ2j2Cg0kn5XjeUvia9ZJsVoyFRTrk/g/EjRSzzJ6hdhKWtVH/BPrzye3lJ6kbUxLecn1vu36JFiSurh9yYTvrhe7+481odSURvqmW79TMvS6Ry80jOHBj5k2KJeO5eE3fJiYESK9gap7yE93EQDlMPBt4bwfBgL3YY1TEja8fvbjBlOzWBBKZOu5ZbTeRa13Nu2Krd9WKnSZr/VYhj8Y/SW971r6x0pwg+Un5ZUYAb+WAJnjMbzMZdhzG8zSm3Za/QGI8CKjyXUmHV+9EEDB85lYJsDON/W73g+cZKOKfJRdxVdk2vFl8cKSU5bmbp3yJYjubH7SW3LtRL+mcPnMuFCDM837qz44zTz1h4L0qd4nyV5E6mt37mZVEIO+dEyGAXf4UiX1KsiF0ZR+LMUMG/tV5jeBvN8Ho2auNenokf21AitrIEnukda8HrZ2OLSChzQVl31faZUUmSu+fkv8vbBTl1L16T+Flu8lvJ36gJokzqPpGzVN7eUYyfqnNlWu5QtXwzL0vl5ndEkru85Fv+pFj2JAT/aQNGjhS4O6SJNDUWS8pKeJO3AjkPRyGZEIVM8TUdQThn/K7+uBMDBadsL13VuodKW527iDYfpeuFMpW9+PRr1/WiwwiTMn1//HEZEwK92LnyQLq/KAKKKMCdciDxuReuN9c+ZpKIXhJ/x5+2YMu/3wrjt2wDWudxFCG1Za/UIQkVnUtxzX3pwoTJD99XQ3AoiXbyUhiRDQNnGvFrfng/6MGWLVvR+XFo5aGykadLyvvs6DFu8keWmRw3s/ivy20ccB3SYNdWiTSx1+Gx5S5atu8CGFXH2j1JruptJF0nsStBxFmgz1HHOF8VuZVxdljeWP17pm+6Yf/eCs+7xuXW6sE93fmTDVG481ywwHM8d01S8TPuiILc+WPo2bIFWztF8qy5CZ2qr8NoEkVbSXzdPBjtJ4nYrZVWMOfB8tJdpJewJN9W4rN9o/rPjEoSQDXh/Kdf/gnu87lPyxSeyfExBv+7IlbKx2qnnMRXUsnf3hDSUnlHVobcQD+IyUvuulcir5qE8uDamZezw4LS3w3BphyBXpT/8uZw4rnxlQd3L7gxmG8ywAd+9L/Uic433Ihq6HlbVsKre3H1zWv7zgO7XtwqN4Pw55xQb71rL7TguQiWc2GELg3DsjwjXA+8m3bLlAoeFuX9W9D1JzemrocRvp0Q36m/1LWRVV0vpMlLatf1woCeA9lbL3S/jI7megOW23hFYjJ/eQSOWy6Mn1pdkMnSw/zuEPqVZKpZBtvXUzo+r6ylW86QhPLPpdxS900P/GekuGGC/cNsEQzJMfiuqoFF3CfnRxBcVSjTwXhwCPZ92Sos6z6T0q16Y+lEPJsQHdhgBldVKclxSxCJxZz6mbs0OkYnganPnDnjdgOYeD9PNaZcCSY8CYnrKI3Odjh9RapvnK+C3GWyRNQ35I49lbplvxPB8FUPep6uFNXzLzckVYq6YPhhfF3rru51G4YOK2N680xm1ZJ29sAmPxNDSPwuHynN82fKTgtI30VEbbjpG4S13Eabx4lsRZxIGsyvV+eOqiTRk1pwf//p/11JMOXeVNIwBj0Gj6pLkoURnIsjcWUc03bxXFSO1pqa+FaS/GpXCqFT9pyl8qRJqnwYeq3+UTZ3Ekr7rtzAlq34dG+TnqGdSCozwsvLDSm7ueSy2q9OBD4pUBmk60SXuG/0r3RBp6GHSVkJb4coXE7krL2oeyGNxNwYHB8o42bEDe656i9hKZEW8oIepv1W2N51oF85JNWWJX7fuHNI+rYXruWCxxB8Fz0YPGCFdW8Duk+KgoNTPZeSvaPwnKhtC4/poDNbq3Q1ttxaUzR9F7qVXdwcRr8o9Lh+8MBacPxZdma59kleShO7rbbslbekWHHnMo3YpWEMvDeG0L0U4leHRaLqhzWnAGrYP7hc0xg84cLUvSRi3w/B/dwB27oEVfyMqJSm62F9o7jfWQ3+9nwT1qxRUnLcCnLH71Zz4sEqin2Z0zKpd8J/YTD/ebwcwMy9OKZOOIEjtqIqQ9pCA+J8xZ6msNJvZKvyVRB/y7E+F3Ah28KfWym/9Pc1VcYiGfa/04uZvjA8BSY0kmduFl/1+7o3jQ2twQT7x9loG1wo9QksCss3Qsq+SJnuNHmvqZzxuxvN7r2ZVDy7jq/p/QFYKhgLX0mSm00i/z+89dUeOe75RCyU13pNhjE2KCVhetguhOTx+k4lMIY+6MaOEyjcVbXGyk1+K/mcailxxYmhb5ejLMyfejDSoB406ac59/YLavxMIfrP/bCH+rNzX4iMQ6cOY0s9w9qqrNRNN6wngfEfNuglu92OyfsZLIbVoWnaUOakVSY4b8Qw+5UTdpGQBd8TN4jVj6U3huC6OIOH8dmVbmXt6nEC88quZPrOBq1dUk3bJzkThhy2wtKo8VON6nqxcwDO4yLi3gsgckc5VjQ9DMtjDsTV+XmwYEFG9mAeIanFfbcFxnZIXkoSQySonPzdDlhLGb+rKuZcPhbn6D0fguLa6jd2otvuA86sOW/qz5Ekp+AwdsF2qx+Tn5rWVwItz6o5UOQyaErXyN0uOKVZMDdRSnLcCnLH7xaetKJxpBmFnSfUiGmG5+r6ljpsE4U5eSeIY8ZuOJ54MKq5JXYaRCNd7Eq23ZgzAdU0Zm7GEZXW6zZPQHchgoCyhFmH2bZcgPeeHoH/dgKpRzGEroxhwDyM+KFZBAq2ZKcxfyvb8W9gd/v0ADIcdMqfWXwqUlRX1vSDEHzn3Ri2dcPyxUpBOnbChu7BEXgvBRF73HzjB1bG75Y2YeNq6jVkh/OdPM+rIlSSvK1OGHUwfTSDSMiDoSc+WDu3YMs+N+a3uzFzP46ZT8Tvt80G13cu2KTW7J12TFz3w66BslE5ia9EK8mvPPP94Mq43UbPfG/c7VT2xFPx6gxi90Lwvt0De9SG0M1RZY19E6zvKG37Irkd/ucQ4skk4reD8H3QC8v3XfBd92z+rNDgGF5pPCvVwLMbLmne85Xt6HRmUfneas8ykc9NGb1ev/xe04V55Xv19iwze3Ll9xAFyczojSXle3VwfzIjCqgZfB5RDhRrKTNzXPmd93oykb8rhwtY+smZfW/J/04bUM+B2GwXHyoHy7DpuVzMzHxizYjyVQY7bRnnxXlxFvP4eyQzfsAgfh99xvpJIHO30LmNjWdE0SSDQ4FMMb/1s6hHvF+fGZwq5t0PM5N94mfvdmVm/1AOacTilD17LZ+cFXdvmxDXxOhu8TdLf7fYzGfnC/ztzzLzX9kzIgXKGA54NHfuGqfBcb6gxUzgcPZ3ct0ofDU/iwcyroNGOXYY9lozQ2emM/N5zu2z+HTG8641Y94p/UxDxtw3lHFdnMk83PRPnc+My9eXPRNIKIc2FMl45M/Rmpm8rxyquuI+m0L+ipfXbfk8/M4m/xujt5QDVJ7fAxm7+BzNZyIlxeV856nYrV3k+9uL2eru77MZlz57z8rb3lENPIOWMpFzQ9mYqDdmrIedmYnwYp5rVLzvK2fGvj8bZ/WvWzP24+OZQDR/FrPs90hm8uKoUobUZzy/KMdLUMtzt0X6P3EyqMqiX3TB8tswPDo33PJ4EA9EMW3dmIj0z25YTm6Fo28aI3ItqR6e6CJG92a/X0+JKw5YcmqjbBfmMS3V/imv6yH2pQU9J7Zi8v4shooeO5NG6OOt6P9xEIFoYJOu9GmET21F73nA+dMSJvIuWdS+klcG0DUYFJehEzO/TVQ0U2t557I8ie97seODMEzimp0vNK5kWQJTb++ASzeJyHdDMGxygUu1tBbzBIxTKy1IWpG67Yf/VgrYboXzSH3v1XaTuO5F8A6wGPMjcCW+0hVYMIvrLlLwuksjdtknr0+/9r/Vvz4Ixzs98jgp4yGlhaXGtBDn80uK+7JLXqNSWmu2rPVTq+GBH727jiG8exzzMVcRXfKiGNtigRvWGsa6lDzZYuQJ0NXnxODu0j6bfC1d+VvOYvCaezDy0iQecmLPMqURPW2B5aYNs9c2bwmrpBWynNbPWkrO+THxYwjhm0FEHwCGvVaYTHY4TzthVXpcbC6B0JdBxJ8vYv6HAKburIq0GI9F4FJ6eZT72b0tPrfaXtuijPGOJWcyQJv4vafF790OT+go3CIejsGF2WelrgleSqwqg5z2UpVlW4Ss3z3MzJ9Va9LtmcDvyrdVckuFOeOJzmdbkOT3uTKzpVfgVkxq8RLJuPI7IKM/Olm4Na1c92cy4+dmNmmBe5gJHBWf2YHJolrqJEtBZ0YPfUYksMqRjcxnPHKtW7G1961sKfMwOpuJ3Fc/N3HdHsief5u4ditX+rksz2Jm+mj29y6mZeLhD/YSalvF33A4ez88bMB9Sdr0cGow2ztB3fTOzExR19OzzMxH2f+m1NafatBOnM+nslbMaln822D28ym6B1A9WngrU1KrSSKQGRTPyOo8A9rPs1ujGZN+MDMZL3wN5zsfxW6a9Pe7mcl3pZ5YK7Fl9abP2L8q1BNnI0oZIudn6Y/PrOsNlu9zKnarvmeZyBlzzu+szwx+d7fqsf7hT+OZ8Z80eI+qve0OB0REL10tz1GZY3hpQ/KyLtnJc7p2KjPNIoi7j5RdWRrhM3aE7V64XltcmXnycA+6610JtHYM8d5RBC4MwVjBRAv5JOa8GJnbbKkaAwa/CcKTdsNyKs/6q/Lauanl41Lrm83ug+FMEOPFtNY+mJdbWuTxu9tiCF0vY1boFhE7b8UOcy8su5yQhu2mb0/Bd118Y68HnqPVqP/c5FxWy/Ksmk5YXksgfDVW8N9K/TwGxzdGTF8pbrxiQprx+/fs/bBZSzC1D8MBh7LetCLpg+dyMZP9iCtTXtfVjuF3880iX0OaivNalcbdX7Kj1517jEjcDCL2VH7ZPl4dhP+qB+nTFozcrFnUbk3STOHvJjB0bf0svFLLlbqVSh3LqrUW3awEpj604th1HQZPTmI6PIvZ8AwCX7lgX+7tkETw4x44ruS21hbDANvhVZEWyW898K9Z9aSSz6fcc1LI6gloUaOZ70U55+sRhDW4ZFril5A8WanJbNTcBJFMeGsgu6yLA+bdgH5Xz3KXqHhiJbmS1gt03BoWBRAzkLM2lrXPXOeLRApWuVOm2zFRk8lLpEQkDP3u/NOcr/KiGaM/heFJikLll7nJSwzefVvR2dkJg3UMwatu9B9yI3E0gMDnxRUe1ZkT8XIC/hMhdCpL2bSfFBYTSgH9IwesCMEjCsOxvU7MXBmFqVrRueC5rKJ7yjnFIkJnfUia8nfPlGYXHDgHeERhzv7q5n9gqckxtZE7kZX1DBXRc/4i1myNIyJNrlb3CfM0GOc1aWXZo8WbHviemGCqcoVAM9DtHcXMnAeL7wzAu8Cktxjpe3443oug/6oPzjezle+tm+SuSF0TCd79AQRuRhA4NwT7fius+20Y/Ggc0/eXMPvpykC+4An/Bis35Bf/ZV2kxfh3IVGCyW/5c7v1gXKkOJWcq2VShYcok65MQDtRm0mqHoQRvKmH6VWtRdkU4rFsacy2Z/PBIPXGhLcG5GVd1JbaV42wZA8j+Juypu7TMNzSeoFfu+RZ0eK/qpPgF7+kSnWkEfvnnKU9xL8/+J2nNuuDSTfodaBnV5HLLL1oxNAPcXhe8KD/i2j2c0stIqEU2JJzInmxjyFxYBqRHwosR5KHrrNDvFcP4zYDHGfVWenaUQdsp2bgOmiE/ut+kfh7kLRN4+7NCdiqvZxYvnNZTS92waCXWt0MsHzgyTuGO3l1GCMLVgSCo0WNJSo1Oab2EvtFWoZFD/PenId6Ma28CxHI/6V97aL/taThOK85HeiSgslOGwzmIXg0Nma/nnSvDSEQ90B3th9jt5n0biT9qw/DF7fCHZzA72/8x5ZPclckMP31PIbOiOfu6/nSug5YzwYweUB5mZxB5J6yXxRlCUm9WW5AUuVr5V1LitF/wb/D82j5rb4lncN0bP3M92eq34NGkrgVFM+RHhhe0ViUXV4twwnL6/IRTeGkVVWXgP+tHZg6/BCz70sPy+zrY1KtcZ80EcQA4h8a4XklhLC8vErO98sc5F0uqTuw1bxSG2X+dBahs7WYMl2aKMqA3vNd8EQjpS9ZJXUBfCG7m/jxGPo/9iP+og2uM+NwHzHW4Pelmsk5l3VVwr8rJcfuB3Z4PrFC34jflTROnVxJxOuEBVOGAfiV72w22Zs6KVw9J8xrmjgvpNXhKroOdDRRxqz+3roXO6DTYMzIV3AvKalqVNxuIuUkuKrmSXDXeOBH/4VOBL6xbxhPEpcHsOMdaWXrEiekezyFgVccCJ6cxUPzFHbYlyMt9MdnEP/GVuDfVWO0iMdLIh7nvKnc87TxOUoj+oUVluWuzGaM3gjBU4v1dp+GMbKrF169B5HoKMxaipO/jqFrjxvJQwE8DBbfEJWr4li1AbbwVps6fteknuouGNSaKWnNwCtuDMWG4VNnxUzGEFbH7x611G/87pquF7VcHyz9swcj56VqLwMM28v4A3MetIbDk7i7mEHm/gzGmew2n0YVmkr4d/UHJzB5kskuFZC+i/kfxVepF8+rdjjPFdvKm8L8LanQZ4fljTpFrmaK84KuQyS60qalQlwR1N9bi8luVTAW5iUVztWtVFIhXt2aVroTjg8KJZ0rDLt6lD19SfdIdnigiJimbhgOOTFebCtvah4RKUYfssC45pcr93Pf6FwnrgzBvpzsSj1o/HDXItmVEutzI/BKYXaXiLMai5PqGtamfUZ0LYQQWjVvUeMx4a2y5fG7y835OhjesCv7XjgG5+WuzOoYyfRvEWSnyACs+0ziVqmHBPwfru564TntqEnXC6lraP/hsey4jT5poij5MJF2sXBHG7kThTQIRZ2Uw/SuB86cwB09F0A470RHccSuii/S+N1qDxvIi3GeqNo2Snw2U26ypVmv20tcIsuC7l3Fvz873M8Ei1GOtBg648wpI0cxPlVgMsx7MUyLL1LitVErY7nnYtU18MCP4Zxl3vRHpUk/qz1JlSSF8Ol+2OXlS0W+IJ4/dao2LdLK+N3O++Izud4Ja12ec8Vjwltl8vjdNS21BoNR2QPMZ31wvbnyTfn9stxW4VqSul44cEyajVdmxugPPgztrOLt+TSJ+NwUxga7YXxrLDsrsuRV7dVIERGVQq3FXp6UY5sNQ6dyVlhPeuG9kmf29wd3s7HwYD3G7zLOE1XLqgSnRC2X5JYh+fvd7M7hAZiLnqwvgfk5OdLCorTsdhwcwsje7L4ked6LwAPlRY7Eb2ti9CYqOUf/fden+Ee8nH2hzHxfzfiXTsYRvjIGxxtG9H6R/bskBhFntRVmdejcJnIYvRF6gwPjn9Z5FYIiMOGtqhgiwSRMInFd1VK7vRtyG+9ez0pXZln2/Vm5rcK1s7rrhSSKsbc6sWXLluptL3Wh2+qA+0p8+eaUWI3NOpEJEZFErcVePSmH6ah7VStv6LRvXStv8peQPJu4tNxNrTHOE1WGSW61qEt96eE8ait+XGdKmTH9uAUrEdOEoc9yW3lDcH+3tpU3iejN9TG6WOWeu7+KpPevt7/DLy//h/zxssxta1c3egfdmLqzKsrCqLlaRR3MZx4is3gXgZNmTQ43ZMJbBak7YYTngvC+PYCRBZHG3gwhOCeOLSgX6KsG9MAMj9KVOXUv+37fe075/VkBeL8MiuNRJArNt16pR1MYyel6UW/G12rRzYOIqE7UWSj7TKvHhm2TJtGzKS+Eda28otAXk0ajWWFaO6is2hjnicrCJLcG0hGEL2e7+rpKGNeaVpbrtJpWd93tOOiCR531WVjXyqvOsbA2Rpeh3PMpJ7/KVhtGGKvZW6dNcJbmdvE0irE+S846jPVmxUR8Fs7XlJdERM1mwYse0wgWz85j8dM13eXU2TPVTFPvwuz9cVjlMbMxjHX1wK0fx3zMVbsuzYzzlEe+BI6J2YpyElwVP8eNJb7vx47THZic85e0FFrsyx70nFiE55dFjL6pHFSkb47A8JZ3uVJPf3IWiXPWbEWbMlNw14V5zH9S/Uhb7rXyF/yh7FVB3wTu3nDmtHy3jlrGKrbwtoUEpj60N7AQJDHVaaIWIqLaSPwWkSdmGng9T8e8F61wFmrlfTCfHeMqtTpkj9QA4zxRsaSCtbqVSm35Y7K7iUdTcJ9eys4fUNK63wnEb8mRFqad2SO5dH3Ogq286hwL1tdrE2n/nPg/8C/6P0pOYKva6rt748m4KD8mvG0gccUN1+VGdXBT9IkblD0wiKhppRCPbryskOGIC648Y3mTohAmjSob3NNds+6+jPNEG2OSW0dSbxMRD3GmjCV6UnFEpBnt8ywrlGWA4xNXnrG8ScRuyZFWxOhaBKIEpk67lme+l5LeclpuK01+rbs4T0I5mPC2uPTtMTgaOJ5LpX/TgC5ln4io+RSxrJDUynt2bStvDPPypC1WWE2rpjOsGsZ5ovyY5DZCAsGPhxD5UxC+98sY01/EskJ5W3kX5hG5LF70WVH9UJud+d6Rp1JRTXwrSX6Lp4d5J6NsOTiGl4iIaDMP/OjddQzhk7N4po4XyycdhtvQizG1XKQ3w6yPIpr0YH5xtA5LEhGtli/Za+UkrpzkVsXktlJSYmiF65kHobPWsmbrTXzfix0fhOG68QzjfYXT5fScGwbr2MpY3r1mdN2O5p9joQHKvQ7b+RqsZaxiCy8REdEmiu6WrLNiaFUrr0h2pdn4j5pbcpIRIi2QCsrqViqpQK1uVInKk10RMIvulqzbP7S6lVcku9LIX8eb2oi05V5TlVzLVBgTXiIiog2pa0kW1y3ZcMQNz27lhcJuqt34XaJ2VEliwCS32tKIfTkA97MRBD7bONlNzIWRu2jbKum7JXRLNsBx2rOm14wdPUZtRdpKrjUmvtXDhJeIiGhDcUSlQpjeiu48s4auozNj6JRdeSGxwranNuN3idpNJUkAk9zaSFwZguM3OyY+s8MgL8WWnzTfwPDc1sJj/e9EERBf9Pu6i5qJWLd3CCOHlReSPhvM25V9DSo3+VWveSa/5eMYXiIioo2o43ePz2DpG1txXfXSUYyZLXBL3Zn1HkQWR2HOfoeorvIVkpst6aukoM8Et7YSVxywDMZgOTkEy0bzL/0Rge98Gq7fpuF8PX8rrDp+1/nTEiYOFtcpWkqiLWa33J1ZfyaCxc+bK9Ly2l5Ry1jFhJeIiKigFMKnrej9QhSnNpuwao3U1WPotPtL/u+IqqlZE14mAtqXuDYMx598iCqvN3U4gId/G8zfepsKw72/F2ML2HTCqtVSCL7XiYFLpf532lPuNd8q1zsTXmouyTC8J4YxfzCMwBF24yOiJvMgBO/VuNhZxPwPAUzdWZ4HFNb3h2Db1Sl3b3YeNW2SxMbgNfUgcmoR0y0XC1OIX/Fg5HQn3PfZeq1lzZTwMsltHulfx2Dd4y4+2RXsPzzE9NGVdDdxzYvgPbHzxzz8l6cQXw61Vgy9b4PxJaBrvxODb26SxC540WOKYOT3aQxquEtzKdox+WXCS9X1NIXUCx3oqHYlWCqB0PcjGD4VlCcksE+1YiGPiKhZpJFKAR1VDvbJ236Mf+aGd04qnXoQyTDh1TKtJ7xMcqmppUWZ+rkoU28wdrkcapx9ee7flCOla7b7o5axipNWtZsHfvS/1InON9yIppVjVZFA+GYSPR/5MfGRcoiIiBokjfBnBnR2GjBwWaqCrI70ryHMdwzA840bVuUYUamkgq26lUoqAKsbUUPJ666LMvWuAUw9UI5VQW6cvYE/8Bf8E/6xjOu93HusFTHhbTe6TnTtBPSvdEFX1Up/A6yHzdDrOtC50aQFRERUF52d3dBjK7q2dSpHKqd70wbbax3QvdhZ5jqb1K4qSXIlTHJJe0Sya9QDL3aho4oBsVCcLbeyp9J7rxUw4W032+2YvJ/BYti5Zu0yIiJqHTqYTs5iMfMQEweYmlLjVCPJLbWAT1QXOhNc4UVk7k/Atk05Vifl3hftmvwy4W1H0hjeqnZnJiIiLUqnUmC4p3qrpFDNJJeaizRXQuOibCX3Szslvkx428XjKPyX3OjfsgVbXjLCd0c5TkRELSV50wv3h73YIeL9VqNPXp+SqF6Y5FLrSyL8pRvDb+3Ali1bYfxaG1G23PtITXxbOfllwtsutpsx9G6/0o3ZAfPr8o4seWVA3LAiES5xG7ut/AAiItIMfZ8L7kMmebZ8HDUrcT+KsTxxfNPt7SlRtCOqvnIL50SNp4f1Ezfsu7MTAjr2qoMEtRNny723WjX55bJE7URep2wEscMBLP5tUNyuWanbfvhvpZRXxTMecsG2U3mRI/rFFlhOc1kiIqJGiX7RJeJwMicOJxA6H4S0unBJtlkw9K55/QRVj6cw8IoDQS5LpHn5Cq61TDI3KigzuaXWIZLbLgvcSTsCy+v/ajvOlpvE1uu+rWWsYsLbRhLf92LHB2GYLsxj/pPaTVnFhJeIqJES8L+1A8duWjF5fxZDeSomK8aEt2nUO+GV5P6bTHKpJT3wo3fXMYT7JvHwxhAMyuGqqmGc1WLyW8tYxS7NbSOFeCws79n2cH5mIqKW9TiK0E3xVW9Fdy2SXaJNSIVUdSNqRclfQpBK1fp93bVJdmus3PtTSkrVrZmwhbddpMMY2doLL5yYWZqALaffBLs0ExG1jtS1YXT+yQecnMWzc1Zkl1xnl+Z2VctWE6L2lELow070fwu4bjzDeF82yjZ7nC03ia1WPKllrGLC2y5+HUPXHjeShwJ4GBxcVRslTVrVNRhUXhXPE81gdK/yIgcTXiKixlHH7w7+bRGBw2oMliZTscCtvCramjkfljHhbRpMeImqTR2/O4jpxQDsywGydeJsqclvNWJKLWMVuzS3iUQsLM8AZ9pnRNdCCKFH2eMS/ZFpSPUepW75kl0iImqkGCJBKdpbYTXlFp/MGM0Txzfd8hXCiIja2UIE01KY7bNiVZhtoTgrJZqtVDHGhLctrIzf7bzvx/D1TlhflV/WQAqL2VnagefPlB0iIqqLR3FEFsRXvRU9tRy/+2QR2VDPOE9E7SXxW0Re31y/v6e243c1EGfVxLfZk18mvG1Bh85t4pbUG6E3ODD+qVkZ01VNaSR/DcJ/wgHnpeyR4KlhuK+EEL5X+vhgIiIqXUoUxOQBKkfNMMpHquxJHKErXhw7PiIX+IAxuN7zITgXQzItHyAiamEpxKPZYYCON2sSZTUbZwslv82QDHMMLxERUUtQJ1LRYzScgGd/9as2qflwDC9RFaVCGO7sh08/itmEB1aG2arhGF4iIiJa72kMU+e9mFpIA0/CCH4rju0dwQCTXSKiqkgvTMF7fgqxpyLfnQvCJ46ZTw0w2W0iTHiJiIiaVPL6OBynRjBxK4bot+Pw660Y/9oJrrZORFQNSYQuODByagKRO1H4zvmh3z8O33FG2WbChJeIiKhJ6c0OuA4YkPzKBVeiH9NzM3C9yWYHIqLq0MNyxAXbziS8n7iQsE0j/JMLJobZpsIxvEREREQtimN4iagZcAwvERERERERUYmY8BIREREREVFLYsJLRERERERELYkJLxEREREREbUkTlpFRERE1KLyTQRDRNQMOGkVERERERER0QaY8BIREREREVFLYsJLRERERERELYkJLxEREREREbUkTlpFRERERERELYktvERERERERNSSmPASERERERFRS2LCS0RERERERC2JCS8RERERERG1JCa8RERERERE1IKA/x93PIU0NCN+MwAAAABJRU5ErkJggg==)"
      ]
    },
    {
      "cell_type": "markdown",
      "id": "TmHJZ5K_Rby-",
      "metadata": {
        "id": "TmHJZ5K_Rby-"
      },
      "source": [
        "> Si $r=0$, entonces el segundo termino de la ecuacion anterior e hace cero y la regularizacion se convierte en solo L2"
      ]
    },
    {
      "cell_type": "markdown",
      "id": "aowaNRciRgFI",
      "metadata": {
        "id": "aowaNRciRgFI"
      },
      "source": [
        "![elasticnetL2.png](data:image/png;base64,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)"
      ]
    },
    {
      "cell_type": "code",
      "execution_count": null,
      "id": "jU3-AoDu3oMb",
      "metadata": {
        "id": "jU3-AoDu3oMb"
      },
      "outputs": [],
      "source": []
    },
    {
      "cell_type": "markdown",
      "id": "dsYtrPXL12DM",
      "metadata": {
        "id": "dsYtrPXL12DM"
      },
      "source": [
        "#### **Técnicas comunes de regularización en redes neuronales**\n",
        "* **Dropout:**\n",
        "Funciona desconectando neuronas de manera aleatoria durante el entrenamiento para evitar que el modelo dependa demasiado de neuronas específicas.\n",
        "\n",
        "\n",
        "* **Early Stopping:**\n",
        "Detiene el entrenamiento antes de que el modelo sobreentrene, utilizando los datos de validación.\n",
        "\n",
        "\n",
        "* **Batch Normalization:**\n",
        "Explicación de cómo la normalización de lotes ayuda a estabilizar el entrenamiento de redes neuronales profundas."
      ]
    },
    {
      "cell_type": "code",
      "execution_count": null,
      "id": "ej0Qs6K6fuuQ",
      "metadata": {
        "id": "ej0Qs6K6fuuQ"
      },
      "outputs": [],
      "source": [
        "from tensorflow.keras.models import Sequential\n",
        "from tensorflow.keras.layers import Dense, Dropout\n",
        "from tensorflow.keras.datasets import mnist\n",
        "from tensorflow.keras.utils import to_categorical\n",
        "\n",
        "# Cargar el dataset MNIST\n",
        "(X_train, y_train), (X_test, y_test) = mnist.load_data()\n",
        "X_train = X_train.reshape(X_train.shape[0], 28*28).astype('float32') / 255\n",
        "X_test = X_test.reshape(X_test.shape[0], 28*28).astype('float32') / 255\n",
        "y_train = to_categorical(y_train, 10)\n",
        "y_test = to_categorical(y_test, 10)\n",
        "\n",
        "# Crear el modelo con Dropout\n",
        "model = Sequential()\n",
        "model.add(Dense(512, activation='relu', input_shape=(28*28,)))\n",
        "model.add(Dropout(0.5))  # Regularización con Dropout\n",
        "model.add(Dense(512, activation='relu'))\n",
        "model.add(Dropout(0.5))  # Regularización con Dropout\n",
        "model.add(Dense(10, activation='softmax'))\n",
        "\n",
        "# Compilar el modelo\n",
        "model.compile(loss='categorical_crossentropy', optimizer='adam', metrics=['accuracy'])\n",
        "\n",
        "# Entrenar el modelo\n",
        "model.fit(X_train, y_train, epochs=20, batch_size=128, validation_split=0.2, verbose=1)\n",
        "\n",
        "# Evaluar el modelo\n",
        "score = model.evaluate(X_test, y_test, verbose=0)\n",
        "print('Test loss:', score[0])\n",
        "print('Test accuracy:', score[1])\n"
      ]
    },
    {
      "cell_type": "code",
      "execution_count": null,
      "id": "1be8d972",
      "metadata": {
        "id": "1be8d972"
      },
      "outputs": [],
      "source": []
    }
  ],
  "metadata": {
    "colab": {
      "provenance": []
    },
    "kernelspec": {
      "display_name": "tf_cpu_3.10",
      "language": "python",
      "name": "python3"
    },
    "language_info": {
      "codemirror_mode": {
        "name": "ipython",
        "version": 3
      },
      "file_extension": ".py",
      "mimetype": "text/x-python",
      "name": "python",
      "nbconvert_exporter": "python",
      "pygments_lexer": "ipython3",
      "version": "3.10.15"
    }
  },
  "nbformat": 4,
  "nbformat_minor": 5
}
