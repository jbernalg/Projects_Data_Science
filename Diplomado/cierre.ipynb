{
 "cells": [
  {
   "cell_type": "markdown",
   "metadata": {},
   "source": [
    "# Conclusiones"
   ]
  },
  {
   "cell_type": "markdown",
   "metadata": {},
   "source": [
    "## Modulo 1"
   ]
  },
  {
   "cell_type": "markdown",
   "metadata": {},
   "source": [
    "Python es un lenguaje orientado a objetos, por lo cual debe entenderse que al programar, se debe pensar en que cada instrucción probablemente tenga algún tipo de comportamiento especial que puede ser reutilizado, como por ejemplo, la acción de encendido o apagado de una máquina como un auto, o como una estufa, una nevera, un televisor, entre otros, o el abrir y cerrar de una puerta o ventana. Estas acciones son conocidas como métodos, y las características que puedan tener, como el material, tamaño o color, son conocidos como atributos.\n",
    "\n",
    "Python implementa tipos de datos que son conjuntos de números como listas, tuplas y diccionarios, los cuales son los más empleados a la hora de compartir información entre aplicaciones y similitud con un formato conocido como JSON."
   ]
  },
  {
   "cell_type": "markdown",
   "metadata": {},
   "source": [
    "## Modulo 2"
   ]
  },
  {
   "cell_type": "markdown",
   "metadata": {},
   "source": [
    "Al manejar archivos de texto o cualquier otro tipo de archivo como CSV o Excel, se recomienda hacerlo dentro de un bloque with para asegurar el cierre correcto del archivo después de haber leído o escrito datos. Los modificadores que contiene un archivo de tipo texto en su apertura son modo de lectura r, modo de sobreescritura w, el cual elimina el contenido anterior y lo reemplaza por el nuevo, y modo de escritura anidada a, el cual no elimina el contenido anterior, sino que anida o suma el nuevo contenido.\n",
    "\n",
    "De forma práctica se recomienda implementar el uso del formato JSON al momento de compartir datos con otros programas, aplicaciones o APIs, tanto por su sencillez como por su compatibilidad con el tipo de datos dict (diccionario) de Python. Recuerde que en este tipo de dato los datos están encerrados entre corchetes y pueden almacenar en su valor todo tipo de dato como listas, tuplas, textos, números y otros diccionarios."
   ]
  },
  {
   "cell_type": "markdown",
   "metadata": {},
   "source": [
    "## Modulo 3"
   ]
  },
  {
   "cell_type": "markdown",
   "metadata": {},
   "source": [
    "Aunque también se pueden crear las bases de datos con código, se recomienda hacerlo desde el sitio web por facilidad, crear el usuario o usuarios que tendrán acceso a esta y sus privilegios. Inicialmente, bastará con utilizar una base de datos compartida (shared FREE), pero si requiere implementarlo en un proyecto real, debe inclinarse por usar un servicio dedicado (dedicated) que es el aconsejado para producción.\n",
    "\n",
    "Python ha simplificado en gran medida el acceso a las bases de datos y en este caso, a una base de datos NoSQL. Recuerde que la mejor manera es trabajar con los datos tipo diccionario o JSON para tener compatibilidad con la base de datos MongoDB.\n",
    "\n",
    "Métodos como .insert_many( ) o .find( ) de la biblioteca pymongo facilitan al programador la mayoría de tareas relacionadas con bases de datos. De esta manera, al recuperar los datos, podrá trabajarlos con índices de clave como sucede con los diccionarios para realizar las consultas que se requieran."
   ]
  },
  {
   "cell_type": "markdown",
   "metadata": {},
   "source": [
    "## Modulo 4"
   ]
  },
  {
   "cell_type": "markdown",
   "metadata": {},
   "source": [
    "Pandas y Numpy suelen combinarse a la hora de trabajar con datos para su procesamiento. En definitiva, Pandas se puede implementar para facilitar el cargue de datos desde diferentes fuentes de archivos como JSON, CSV o Excel, en tablas propias que se denominan DataFrames. Se recomienda que se realice el cargue desde un solo tipo de fuente, simplemente por comodidad a la hora de desarrollar códigos.\n",
    "\n",
    "El punto clave es la transformación o escalado de datos de forma binaria y la persistencia de modelos, puesto que se busca entrenar un clasificador para posteriormente usarlo con datos nuevos. Recuerda que los datos nuevos deben tener la misma estructura que los datos que se encuentran en el clasificador, por lo cual se emplean métodos como fit_transform( ) de la clase MinMaxScaler o la técnica de one hot enconding"
   ]
  }
 ],
 "metadata": {
  "language_info": {
   "name": "python"
  }
 },
 "nbformat": 4,
 "nbformat_minor": 2
}
