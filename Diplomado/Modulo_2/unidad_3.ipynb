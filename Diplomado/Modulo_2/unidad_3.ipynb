{
 "cells": [
  {
   "cell_type": "markdown",
   "metadata": {},
   "source": [
    "# Pasos y Procesos"
   ]
  },
  {
   "cell_type": "markdown",
   "metadata": {},
   "source": [
    "¿De qué manera deberán estar los datos organizados en los archivos csv para que el código de Saray funcione correctamente? Recuerda que el propósito es realizar la carga de todos los datos para posteriormente procesarlos y encontrar los mejores resultados, los mejores promedios."
   ]
  },
  {
   "cell_type": "code",
   "execution_count": 12,
   "metadata": {},
   "outputs": [
    {
     "data": {
      "text/plain": [
       "{'programacionI': ['2.4'], 'calculoI': ['5'], 'fisicaI': ['4']}"
      ]
     },
     "execution_count": 12,
     "metadata": {},
     "output_type": "execute_result"
    }
   ],
   "source": [
    "import csv\n",
    "# diccionario que almacenara las notas de cada materia\n",
    "datos = {\n",
    "    'programacionI':[],\n",
    "    'calculoI':[],\n",
    "    'fisicaI':[]\n",
    "}\n",
    "\n",
    "with open('programacionI.csv', encoding='utf8') as notas:\n",
    "    csv_datos = csv.reader(notas)\n",
    "    for nota in csv_datos:\n",
    "        datos['programacionI'].append(nota[1])\n",
    "\n",
    "with open('calculoI.csv', encoding='utf8') as notas:\n",
    "    csv_datos = csv.reader(notas)\n",
    "    for nota in csv_datos:\n",
    "        datos['calculoI'].append(nota[1])\n",
    "\n",
    "with open('fisicaI.csv', encoding='utf8') as notas:\n",
    "    csv_datos = csv.reader(notas)\n",
    "    for nota in csv_datos:\n",
    "        datos['fisicaI'].append(nota[1])\n",
    "\n",
    "datos"
   ]
  },
  {
   "cell_type": "markdown",
   "metadata": {},
   "source": [
    "El codigo solo esta almacenando en el diccionario las notas de un solo estudiante y se requiere las notas de cada materia de todos los estudiantes. Para solucionarlo, modificamos el codigo como sigue:"
   ]
  },
  {
   "cell_type": "code",
   "execution_count": 14,
   "metadata": {},
   "outputs": [
    {
     "data": {
      "text/plain": [
       "{'programacionI': ['3', '2.4', '4', '0.9'],\n",
       " 'calculoI': ['2.3', '5', '1.3', '3.2'],\n",
       " 'fisicaI': ['2.5', '4', '4.5', '3.8']}"
      ]
     },
     "execution_count": 14,
     "metadata": {},
     "output_type": "execute_result"
    }
   ],
   "source": [
    "import csv\n",
    "\n",
    "# diccionario que almacenara las notas de cada materia\n",
    "datos = {\n",
    "    'programacionI':[],\n",
    "    'calculoI':[],\n",
    "    'fisicaI':[]\n",
    "}\n",
    "\n",
    "with open ('programacionI.csv', encoding='utf8') as notas:\n",
    "    csv_datos = csv.reader(notas)   \n",
    "    for nota in csv_datos:\n",
    "        for i in nota:\n",
    "            datos['programacionI'].append(i)\n",
    "\n",
    "with open ('calculoI.csv', encoding='utf8') as notas:\n",
    "    csv_datos = csv.reader(notas)   \n",
    "    for nota in csv_datos:\n",
    "        for i in nota:\n",
    "            datos['calculoI'].append(i)\n",
    "\n",
    "with open ('fisicaI.csv', encoding='utf8') as notas:\n",
    "    csv_datos = csv.reader(notas)   \n",
    "    for nota in csv_datos:\n",
    "        for i in nota:\n",
    "            datos['fisicaI'].append(i)\n",
    "\n",
    "datos\n"
   ]
  },
  {
   "cell_type": "markdown",
   "metadata": {},
   "source": [
    "Tambien podemos agregar el semestre al que pertenecen las notas al colocar como clave el semestre en el diccionario"
   ]
  },
  {
   "cell_type": "code",
   "execution_count": 15,
   "metadata": {},
   "outputs": [
    {
     "data": {
      "text/plain": [
       "{'semestreI': {'programacionI': ['3', '2.4', '4', '0.9'],\n",
       "  'calculoI': ['2.3', '5', '1.3', '3.2'],\n",
       "  'fisicaI': ['2.5', '4', '4.5', '3.8']}}"
      ]
     },
     "execution_count": 15,
     "metadata": {},
     "output_type": "execute_result"
    }
   ],
   "source": [
    "import csv\n",
    "\n",
    "# diccionario que almacenara las notas de cada materia\n",
    "datos = {\n",
    "    'semestreI':{\n",
    "        'programacionI':[],\n",
    "        'calculoI':[],\n",
    "        'fisicaI':[]\n",
    "    }\n",
    "}\n",
    "\n",
    "with open ('programacionI.csv', encoding='utf8') as notas:\n",
    "    csv_datos = csv.reader(notas)   \n",
    "    for nota in csv_datos:\n",
    "        for i in nota:\n",
    "            datos['semestreI']['programacionI'].append(i)\n",
    "\n",
    "with open ('calculoI.csv', encoding='utf8') as notas:\n",
    "    csv_datos = csv.reader(notas)   \n",
    "    for nota in csv_datos:\n",
    "        for i in nota:\n",
    "            datos['semestreI']['calculoI'].append(i)\n",
    "\n",
    "with open ('fisicaI.csv', encoding='utf8') as notas:\n",
    "    csv_datos = csv.reader(notas)   \n",
    "    for nota in csv_datos:\n",
    "        for i in nota:\n",
    "            datos['semestreI']['fisicaI'].append(i)\n",
    "\n",
    "datos\n"
   ]
  }
 ],
 "metadata": {
  "kernelspec": {
   "display_name": "data",
   "language": "python",
   "name": "python3"
  },
  "language_info": {
   "codemirror_mode": {
    "name": "ipython",
    "version": 3
   },
   "file_extension": ".py",
   "mimetype": "text/x-python",
   "name": "python",
   "nbconvert_exporter": "python",
   "pygments_lexer": "ipython3",
   "version": "3.10.8"
  }
 },
 "nbformat": 4,
 "nbformat_minor": 2
}
