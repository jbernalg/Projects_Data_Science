{
 "cells": [
  {
   "cell_type": "markdown",
   "metadata": {},
   "source": [
    "# Ejercicios"
   ]
  },
  {
   "cell_type": "markdown",
   "metadata": {},
   "source": [
    "## Ejercicio 1"
   ]
  },
  {
   "cell_type": "markdown",
   "metadata": {},
   "source": [
    "Verifica que el siguiente codigo agrega el elemento 3 de la lista al archivo .txt"
   ]
  },
  {
   "cell_type": "code",
   "execution_count": 1,
   "metadata": {},
   "outputs": [
    {
     "ename": "TypeError",
     "evalue": "write() argument must be str, not int",
     "output_type": "error",
     "traceback": [
      "\u001b[0;31m---------------------------------------------------------------------------\u001b[0m",
      "\u001b[0;31mTypeError\u001b[0m                                 Traceback (most recent call last)",
      "\u001b[1;32m/home/jbernal/Data_Science/Diplomado/Modulo_2/exercise.ipynb Cell 1\u001b[0m line \u001b[0;36m<cell line: 3>\u001b[0;34m()\u001b[0m\n\u001b[1;32m      <a href='vscode-notebook-cell://wsl%2Bubuntu/home/jbernal/Data_Science/Diplomado/Modulo_2/exercise.ipynb#W0sdnNjb2RlLXJlbW90ZQ%3D%3D?line=0'>1</a>\u001b[0m lista \u001b[39m=\u001b[39m [\u001b[39m30\u001b[39m,\u001b[39m25\u001b[39m,\u001b[39m15\u001b[39m,\u001b[39m5\u001b[39m,\u001b[39m40\u001b[39m,\u001b[39m60\u001b[39m]\n\u001b[1;32m      <a href='vscode-notebook-cell://wsl%2Bubuntu/home/jbernal/Data_Science/Diplomado/Modulo_2/exercise.ipynb#W0sdnNjb2RlLXJlbW90ZQ%3D%3D?line=2'>3</a>\u001b[0m \u001b[39mwith\u001b[39;00m \u001b[39mopen\u001b[39m(\u001b[39m'\u001b[39m\u001b[39mdatos.txt\u001b[39m\u001b[39m'\u001b[39m, \u001b[39m'\u001b[39m\u001b[39ma\u001b[39m\u001b[39m'\u001b[39m) \u001b[39mas\u001b[39;00m file:\n\u001b[0;32m----> <a href='vscode-notebook-cell://wsl%2Bubuntu/home/jbernal/Data_Science/Diplomado/Modulo_2/exercise.ipynb#W0sdnNjb2RlLXJlbW90ZQ%3D%3D?line=3'>4</a>\u001b[0m     file\u001b[39m.\u001b[39;49mwrite(lista[\u001b[39m2\u001b[39;49m])\n",
      "\u001b[0;31mTypeError\u001b[0m: write() argument must be str, not int"
     ]
    }
   ],
   "source": [
    "lista = [30,25,15,5,40,60]\n",
    "\n",
    "with open('datos.txt', 'a') as file:\n",
    "    file.write(lista[2])"
   ]
  },
  {
   "cell_type": "markdown",
   "metadata": {},
   "source": [
    "## Ejercicio 2"
   ]
  },
  {
   "cell_type": "markdown",
   "metadata": {},
   "source": [
    "El siguiente codigo imprime correctamente los datos del archivo notas.json?"
   ]
  },
  {
   "cell_type": "code",
   "execution_count": 2,
   "metadata": {},
   "outputs": [
    {
     "name": "stdout",
     "output_type": "stream",
     "text": [
      "{'nombre': 'Francisco Alvarez', 'Física': 3.5, 'Química': 4.7, 'Artes': 3.9}\n",
      "{'nombre': 'Juan Gonzalez', 'Física': 4.1, 'Química': 3.8, 'Artes': 4.5}\n",
      "{'nombre': 'Mauricio Castro', 'Física': 3.2, 'Química': 3.4, 'Artes': 4.7}\n",
      "{'nombre': 'Saray Lozano', 'Física': 4.5, 'Química': 4.3, 'Artes': 4.8}\n",
      "{'nombre': 'Viviana Cáceres', 'Física': 3.9, 'Química': 4, 'Artes': 3.6}\n"
     ]
    }
   ],
   "source": [
    "import json\n",
    "\n",
    "with open('notas.json', encoding='utf-8') as archivo:\n",
    "    datos = json.load(archivo)\n",
    "    for d in datos:\n",
    "        print(d)"
   ]
  },
  {
   "cell_type": "markdown",
   "metadata": {},
   "source": [
    "## Ejercicio 3"
   ]
  },
  {
   "cell_type": "markdown",
   "metadata": {},
   "source": [
    "Verifica que el siguiente codigo imprima las notas solo de quimica"
   ]
  },
  {
   "cell_type": "code",
   "execution_count": 4,
   "metadata": {},
   "outputs": [
    {
     "name": "stdout",
     "output_type": "stream",
     "text": [
      "[4.7, 3.8, 3.4, 4.3, 4.0]\n"
     ]
    }
   ],
   "source": [
    "import xlrd\n",
    "lista = []\n",
    "\n",
    "with xlrd.open_workbook('notas.xls') as excel:\n",
    "    for hoja in excel.sheets():\n",
    "        for fila in range(1, hoja.nrows):\n",
    "            dato = hoja.col(2)[fila].value\n",
    "            lista.append(dato)\n",
    "\n",
    "print(lista)"
   ]
  },
  {
   "cell_type": "markdown",
   "metadata": {},
   "source": [
    "## Ejercicio 4"
   ]
  },
  {
   "cell_type": "markdown",
   "metadata": {},
   "source": [
    "Que realiza el indice 0 en el siguiente codigo"
   ]
  },
  {
   "cell_type": "code",
   "execution_count": 5,
   "metadata": {},
   "outputs": [
    {
     "data": {
      "text/plain": [
       "dict_keys(['help', 'success', 'result'])"
      ]
     },
     "execution_count": 5,
     "metadata": {},
     "output_type": "execute_result"
    }
   ],
   "source": [
    "import requests\n",
    "\n",
    "url = \"https://datosabiertos.bogota.gov.co/api/3/action/datastore_search?resource_id=b64ba3c4-9e41-41b8-b3fd-2da21d627558\"\n",
    "r = requests.get(url)\n",
    "datos = r.json().keys()\n",
    "datos"
   ]
  },
  {
   "cell_type": "code",
   "execution_count": 12,
   "metadata": {},
   "outputs": [
    {
     "data": {
      "text/plain": [
       "dict_keys(['EDAD', 'FECHA_DIAGNOSTICO', 'CASO', 'FUENTE_O_TIPO_DE_CONTAGIO', 'SEXO', 'CIUDAD', 'FECHA_DE_INICIO_DE_SINTOMAS', 'UBICACION', '_id', 'ESTADO', 'LOCALIDAD_ASIS', 'UNI_MED'])"
      ]
     },
     "execution_count": 12,
     "metadata": {},
     "output_type": "execute_result"
    }
   ],
   "source": [
    "r.json()['result']['records'][0].keys()"
   ]
  },
  {
   "cell_type": "markdown",
   "metadata": {},
   "source": [
    "El valor de la clave records es una lista"
   ]
  }
 ],
 "metadata": {
  "kernelspec": {
   "display_name": "data",
   "language": "python",
   "name": "python3"
  },
  "language_info": {
   "codemirror_mode": {
    "name": "ipython",
    "version": 3
   },
   "file_extension": ".py",
   "mimetype": "text/x-python",
   "name": "python",
   "nbconvert_exporter": "python",
   "pygments_lexer": "ipython3",
   "version": "3.10.8"
  }
 },
 "nbformat": 4,
 "nbformat_minor": 2
}
