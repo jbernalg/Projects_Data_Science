{
 "cells": [
  {
   "cell_type": "markdown",
   "metadata": {},
   "source": [
    "# Lectura de Ficheros"
   ]
  },
  {
   "cell_type": "markdown",
   "metadata": {},
   "source": [
    "## Generando nuestro primer archivo de texto"
   ]
  },
  {
   "cell_type": "code",
   "execution_count": 1,
   "metadata": {},
   "outputs": [],
   "source": [
    "with open('datos.txt', 'w') as d:\n",
    "    d.write('10,20,30')"
   ]
  },
  {
   "cell_type": "markdown",
   "metadata": {},
   "source": [
    "La instruccion **with** nos asegura que el proceso de crear el objeto con la clase **open**, se cerrara automaticamente. En caso de no usar estas instrucciones, el codigo debe escribirse como sigue:"
   ]
  },
  {
   "cell_type": "code",
   "execution_count": 2,
   "metadata": {},
   "outputs": [],
   "source": [
    "# instanciamos el objeto con la clase open\n",
    "d = open('datos2.txt', 'w')\n",
    "\n",
    "# utilizamos el metodo write para agregar contenido al archivo\n",
    "d.write('40,50,60')\n",
    "\n",
    "# cerramos el archivo\n",
    "d.close()"
   ]
  },
  {
   "cell_type": "markdown",
   "metadata": {},
   "source": [
    "## Modos de apertura del archivo"
   ]
  },
  {
   "cell_type": "markdown",
   "metadata": {},
   "source": [
    "Al crear el objeto con la clase __open__ se le pasa como argumento dos datos, el primero es el nombre del archivo y el segundo el modo de apertura.\n",
    "\n",
    "- __w__: indica al programa que abra el archivo en forma de escritura.\n",
    "\n",
    "- __r__: indica al programa que abra ela archivo en forma de lectura.\n",
    "\n",
    "- __a__: permite agregar datos al archivo sin borrar los ya existentes."
   ]
  },
  {
   "cell_type": "markdown",
   "metadata": {},
   "source": [
    "## Recuperar el contenido de un archivo en una variable"
   ]
  },
  {
   "cell_type": "code",
   "execution_count": 3,
   "metadata": {},
   "outputs": [
    {
     "name": "stdout",
     "output_type": "stream",
     "text": [
      "10,20,30\n"
     ]
    }
   ],
   "source": [
    "with open('datos.txt', 'r') as d:\n",
    "    data = d.read()\n",
    "    print(data)"
   ]
  },
  {
   "cell_type": "markdown",
   "metadata": {},
   "source": [
    "- El metodo __read()__ permite cargar en la variable data todos los datos contenidos en un archivo.\n",
    "\n",
    "- El metodo __readline()__ permite leer varias lineas en un archivo"
   ]
  },
  {
   "cell_type": "markdown",
   "metadata": {},
   "source": [
    "## Ejercicios"
   ]
  },
  {
   "cell_type": "markdown",
   "metadata": {},
   "source": [
    "### 1. Crea un archivo con los 20 primeros datos de la expresion matematica y luego recupera los datos en una lista"
   ]
  },
  {
   "cell_type": "code",
   "execution_count": 4,
   "metadata": {},
   "outputs": [],
   "source": [
    "# Creamos el archivo con los datos de la siguiente expresion\n",
    "# X**2 + 4X\n",
    "\n",
    "# creamos una variables con 20 valores a pasar en la ecuacion\n",
    "n = range(20)\n",
    "\n",
    "# creamos el archivo en modo w ya que empezamos desde cero el archivo\n",
    "# recuerda que con w los datos nuevos reemplazan a los datos antiguos\n",
    "with open('datos.txt', 'w') as d:\n",
    "    for x in n:\n",
    "        y = x**2 + 4*x\n",
    "        # todos los datos deben ser convertidos a String\n",
    "        d.write(str(y))\n",
    "        # agregamos un salto de linea por dato agregado\n",
    "        d.write('\\n')"
   ]
  },
  {
   "cell_type": "code",
   "execution_count": 5,
   "metadata": {},
   "outputs": [
    {
     "name": "stdout",
     "output_type": "stream",
     "text": [
      "['0', '5', '12', '21', '32', '45', '60', '77', '96', '117', '140', '165', '192', '221', '252', '285', '320', '357', '396', '437']\n"
     ]
    }
   ],
   "source": [
    "# Recuperamos todos los datos en una lista\n",
    "lista = []\n",
    "n = range(20)\n",
    "\n",
    "# abrimos el archivo en modo lectura (r) para obtener la informacion\n",
    "with open('datos.txt', 'r') as d:\n",
    "    for y in n:\n",
    "        # lee linea por linea\n",
    "        temp = d.readline()\n",
    "        # limpia el caracter escape de cada linea\n",
    "        temp = temp.strip()\n",
    "        # agrega cada linea a la lista\n",
    "        lista.append(temp)\n",
    "\n",
    "print(lista)"
   ]
  },
  {
   "cell_type": "markdown",
   "metadata": {},
   "source": [
    "### 2. Crea un archivo con los 30 primeros datos de la expresion matematica x + 10 - 4k, donde k = 10"
   ]
  },
  {
   "cell_type": "code",
   "execution_count": 6,
   "metadata": {},
   "outputs": [],
   "source": [
    "n = range(30)\n",
    "k = 10\n",
    "\n",
    "with open('datos2.txt', 'w') as d:\n",
    "    for x in n:\n",
    "        y = x + 10 - 4*k\n",
    "        d.write(str(y))\n",
    "        d.write('\\n')"
   ]
  },
  {
   "cell_type": "markdown",
   "metadata": {},
   "source": [
    "# Archivos csv"
   ]
  },
  {
   "cell_type": "markdown",
   "metadata": {},
   "source": [
    "## **Obtener los datos de una columna de un csv**"
   ]
  },
  {
   "cell_type": "code",
   "execution_count": 7,
   "metadata": {},
   "outputs": [
    {
     "name": "stdout",
     "output_type": "stream",
     "text": [
      "['Física', '3,5', '4,1', '3,2', '4,5', '3,9']\n"
     ]
    }
   ],
   "source": [
    "import csv\n",
    "lista = []\n",
    "\n",
    "with open('notas.csv', encoding='utf8') as notas:\n",
    "    csv_datos = csv.reader(notas)\n",
    "    for i in csv_datos:\n",
    "        fisica = i[1]\n",
    "        lista.append(fisica)\n",
    "\n",
    "print(lista)"
   ]
  },
  {
   "cell_type": "markdown",
   "metadata": {},
   "source": [
    "- el modificador **encoding = 'utf8'** permite que los caracteres especiales sean leidos correctamente.\n",
    "\n",
    "- Llamamos la clase **csv** para crear un objetoy emplear sus metodos para extraer los datos que necesitamos de dicho archivo.\n",
    "\n",
    "- Cargamos todos los datos en el nuevo objeto **csv_datos**  mediante el metodo **.reader()**\n",
    "\n",
    "- Utilizamos el bucle For para obtener todos los valores de la columna Fisica incluso el nombre. Para obtener solo los valores utilizamos el metodo **.DictReader()** que reconoce el primer dato como un encabezado."
   ]
  },
  {
   "cell_type": "markdown",
   "metadata": {},
   "source": [
    "## **Obtener solo los datos de la columna Fisica**"
   ]
  },
  {
   "cell_type": "code",
   "execution_count": 8,
   "metadata": {},
   "outputs": [
    {
     "name": "stdout",
     "output_type": "stream",
     "text": [
      "['3,5', '4,1', '3,2', '4,5', '3,9']\n"
     ]
    }
   ],
   "source": [
    "import csv\n",
    "lista = []\n",
    "\n",
    "with open('notas.csv', encoding='utf8') as notas:\n",
    "    csv_datos = csv.DictReader(notas)\n",
    "    for i in csv_datos:\n",
    "        fisica = i['Física']\n",
    "        lista.append(fisica)\n",
    "\n",
    "print(lista)"
   ]
  },
  {
   "cell_type": "markdown",
   "metadata": {},
   "source": [
    "- El metodo **DictReader** crea un diccionario con los datos del archivo csv utlizando como llave los valores de la primera columna que son los titulos. Esto hace que sea mas facil acceder a los datos mediante el nombre de la columna."
   ]
  },
  {
   "cell_type": "markdown",
   "metadata": {},
   "source": [
    "## **Convertir los datos a numericos**"
   ]
  },
  {
   "cell_type": "code",
   "execution_count": 9,
   "metadata": {},
   "outputs": [
    {
     "name": "stdout",
     "output_type": "stream",
     "text": [
      "[3.5, 4.1, 3.2, 4.5, 3.9]\n"
     ]
    }
   ],
   "source": [
    "import csv\n",
    "lista = []\n",
    "\n",
    "with open('notas.csv', encoding='utf8') as notas:\n",
    "    csv_datos = csv.DictReader(notas)\n",
    "    for i in csv_datos:\n",
    "        fisica = i['Física'].replace(',', '.')\n",
    "        lista.append(float(fisica))\n",
    "\n",
    "print(lista)"
   ]
  },
  {
   "cell_type": "markdown",
   "metadata": {},
   "source": [
    "- Utilizamos el metodo **replace()** de la clase **str** para sustituir las comas por puntos ya que el separador de decimales en Python son los puntos..\n",
    "\n",
    "- utilizamos la funcion **float()** para convertir los datos a tipo float."
   ]
  },
  {
   "cell_type": "markdown",
   "metadata": {},
   "source": [
    "# Archivo Excel"
   ]
  },
  {
   "cell_type": "markdown",
   "metadata": {},
   "source": [
    "## **Imprimir los valores del archivo Excel**"
   ]
  },
  {
   "cell_type": "code",
   "execution_count": 10,
   "metadata": {},
   "outputs": [
    {
     "name": "stdout",
     "output_type": "stream",
     "text": [
      "[text:'nombre', text:'Física', text:'Química', text:'Artes']\n",
      "[text:'Francisco Alvarez', number:3.5, number:4.7, number:3.9]\n",
      "[text:'Juan Gonzalez', number:4.1, number:3.8, number:4.5]\n",
      "[text:'Mauricio Castro', number:3.2, number:3.4, number:4.7]\n",
      "[text:'Saray Lozano', number:4.5, number:4.3, number:4.8]\n",
      "[text:'Viviana Cáceres', number:3.9, number:4.0, number:3.6]\n"
     ]
    }
   ],
   "source": [
    "import xlrd\n",
    "\n",
    "with xlrd.open_workbook('notas.xls') as excel:\n",
    "    for hoja in excel.sheets():\n",
    "        for fila in range(hoja.nrows):\n",
    "            print(hoja.row(fila))"
   ]
  },
  {
   "cell_type": "markdown",
   "metadata": {},
   "source": [
    "- El metodo **.open_workbook()** permtie acceder a la ruta donde esta el archivo Excel.\n",
    "\n",
    "- El metodo **.sheets()** devuelve una lista con todos los nombres de las hojas dentro del libro de Excel.\n",
    "\n",
    "- El atributo **nrows** devuelve el numero de filas que contienen datos\n",
    "\n",
    "- El metodo **.row()** recupera la informacion de cada fila en una lista"
   ]
  },
  {
   "cell_type": "markdown",
   "metadata": {},
   "source": [
    "## **Imprimir los datos de la columna Artes**"
   ]
  },
  {
   "cell_type": "code",
   "execution_count": 11,
   "metadata": {},
   "outputs": [
    {
     "name": "stdout",
     "output_type": "stream",
     "text": [
      "[text:'Artes', number:3.9, number:4.5, number:4.7, number:4.8, number:3.6]\n"
     ]
    }
   ],
   "source": [
    "import xlrd\n",
    "\n",
    "with xlrd.open_workbook('notas.xls') as excel:\n",
    "    for hoja in excel.sheets():\n",
    "        print(hoja.col(3))"
   ]
  },
  {
   "cell_type": "markdown",
   "metadata": {},
   "source": [
    "## **Obtener solo los datos de la columna Artes**"
   ]
  },
  {
   "cell_type": "code",
   "execution_count": 16,
   "metadata": {},
   "outputs": [
    {
     "name": "stdout",
     "output_type": "stream",
     "text": [
      "[3.9, 4.5, 4.7, 4.8, 3.6]\n"
     ]
    }
   ],
   "source": [
    "import xlrd\n",
    "lista = []\n",
    "\n",
    "with xlrd.open_workbook('notas.xls') as excel:\n",
    "    for hoja in excel.sheets():\n",
    "        for fila in range(1, hoja.nrows):\n",
    "            dato = hoja.col(3)[fila].value\n",
    "            lista.append(dato)\n",
    "\n",
    "print(lista)"
   ]
  },
  {
   "cell_type": "markdown",
   "metadata": {},
   "source": [
    "# Conclusiones"
   ]
  },
  {
   "cell_type": "markdown",
   "metadata": {},
   "source": [
    "Al manejar archivos de texto o cualquier otro tipo de archivo como CSV o Excel, se \n",
    "recomienda hacerlo dentro de un bloque **with** para asegurar el cierre correcto del archivo después de haber leído o escrito datos. \n",
    "\n",
    "Los modificadores que contiene un archivo de tipo texto en su apertura son modo de lectura r, modo de sobreescritura w, el cual elimina el contenido anterior y lo reemplaza por el nuevo, y modo de escritura anidada a, el cual no elimina el contenido anterior, sino que anida o suma el nuevo contenido"
   ]
  },
  {
   "cell_type": "markdown",
   "metadata": {},
   "source": [
    "# Lectura Recomendada"
   ]
  },
  {
   "cell_type": "markdown",
   "metadata": {},
   "source": [
    "[Formato de Archivo](https://docs.python.org/es/3.8/library/fileformats.html)"
   ]
  }
 ],
 "metadata": {
  "kernelspec": {
   "display_name": "data",
   "language": "python",
   "name": "python3"
  },
  "language_info": {
   "codemirror_mode": {
    "name": "ipython",
    "version": 3
   },
   "file_extension": ".py",
   "mimetype": "text/x-python",
   "name": "python",
   "nbconvert_exporter": "python",
   "pygments_lexer": "ipython3",
   "version": "3.10.8"
  }
 },
 "nbformat": 4,
 "nbformat_minor": 2
}
