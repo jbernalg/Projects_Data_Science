{
 "cells": [
  {
   "cell_type": "markdown",
   "metadata": {},
   "source": [
    "# Lectura de Ficheros"
   ]
  },
  {
   "cell_type": "markdown",
   "metadata": {},
   "source": [
    "## Generando nuestro primer archivo de texto"
   ]
  },
  {
   "cell_type": "code",
   "execution_count": 1,
   "metadata": {},
   "outputs": [],
   "source": [
    "with open('datos.txt', 'w') as d:\n",
    "    d.write('10,20,30')"
   ]
  },
  {
   "cell_type": "markdown",
   "metadata": {},
   "source": [
    "La instruccion **with** nos asegura que el proceso de crear el objeto con la clase **open**, se cerrara automaticamente. En caso de no usar estas instrucciones, el codigo debe escribirse como sigue:"
   ]
  },
  {
   "cell_type": "code",
   "execution_count": 2,
   "metadata": {},
   "outputs": [],
   "source": [
    "# instanciamos el objeto con la clase open\n",
    "d = open('datos2.txt', 'w')\n",
    "\n",
    "# utilizamos el metodo write para agregar contenido al archivo\n",
    "d.write('40,50,60')\n",
    "\n",
    "# cerramos el archivo\n",
    "d.close()"
   ]
  },
  {
   "cell_type": "markdown",
   "metadata": {},
   "source": [
    "## Modos de apertura del archivo"
   ]
  },
  {
   "cell_type": "markdown",
   "metadata": {},
   "source": [
    "Al crear el objeto con la clase __open__ se le pasa como argumento dos datos, el primero es el nombre del archivo y el segundo el modo de apertura.\n",
    "\n",
    "- __w__: indica al programa que abra el archivo en forma de escritura.\n",
    "\n",
    "- __r__: indica al programa que abra ela archivo en forma de lectura.\n",
    "\n",
    "- __a__: permite agregar datos al archivo sin borrar los ya existentes."
   ]
  },
  {
   "cell_type": "markdown",
   "metadata": {},
   "source": [
    "## Recuperar el contenido de un archivo en una variable"
   ]
  },
  {
   "cell_type": "code",
   "execution_count": 3,
   "metadata": {},
   "outputs": [
    {
     "name": "stdout",
     "output_type": "stream",
     "text": [
      "10,20,30\n"
     ]
    }
   ],
   "source": [
    "with open('datos.txt', 'r') as d:\n",
    "    data = d.read()\n",
    "    print(data)"
   ]
  },
  {
   "cell_type": "markdown",
   "metadata": {},
   "source": [
    "- El metodo __read()__ permite cargar en la variable data todos los datos contenidos en un archivo.\n",
    "\n",
    "- El metodo __readline()__ permite leer varias lineas en un archivo"
   ]
  },
  {
   "cell_type": "markdown",
   "metadata": {},
   "source": [
    "## Ejercicios"
   ]
  },
  {
   "cell_type": "markdown",
   "metadata": {},
   "source": [
    "### 1. Crea un archivo con los 20 primeros datos de la expresion matematica y luego recupera los datos en una lista"
   ]
  },
  {
   "cell_type": "code",
   "execution_count": 4,
   "metadata": {},
   "outputs": [],
   "source": [
    "# Creamos el archivo con los datos de la siguiente expresion\n",
    "# X**2 + 4X\n",
    "\n",
    "# creamos una variables con 20 valores a pasar en la ecuacion\n",
    "n = range(20)\n",
    "\n",
    "# creamos el archivo en modo w ya que empezamos desde cero el archivo\n",
    "# recuerda que con w los datos nuevos reemplazan a los datos antiguos\n",
    "with open('datos.txt', 'w') as d:\n",
    "    for x in n:\n",
    "        y = x**2 + 4*x\n",
    "        # todos los datos deben ser convertidos a String\n",
    "        d.write(str(y))\n",
    "        # agregamos un salto de linea por dato agregado\n",
    "        d.write('\\n')"
   ]
  },
  {
   "cell_type": "code",
   "execution_count": 5,
   "metadata": {},
   "outputs": [
    {
     "name": "stdout",
     "output_type": "stream",
     "text": [
      "['0', '5', '12', '21', '32', '45', '60', '77', '96', '117', '140', '165', '192', '221', '252', '285', '320', '357', '396', '437']\n"
     ]
    }
   ],
   "source": [
    "# Recuperamos todos los datos en una lista\n",
    "lista = []\n",
    "n = range(20)\n",
    "\n",
    "# abrimos el archivo en modo lectura (r) para obtener la informacion\n",
    "with open('datos.txt', 'r') as d:\n",
    "    for y in n:\n",
    "        # lee linea por linea\n",
    "        temp = d.readline()\n",
    "        # limpia el caracter escape de cada linea\n",
    "        temp = temp.strip()\n",
    "        # agrega cada linea a la lista\n",
    "        lista.append(temp)\n",
    "\n",
    "print(lista)"
   ]
  }
 ],
 "metadata": {
  "kernelspec": {
   "display_name": "data",
   "language": "python",
   "name": "python3"
  },
  "language_info": {
   "codemirror_mode": {
    "name": "ipython",
    "version": 3
   },
   "file_extension": ".py",
   "mimetype": "text/x-python",
   "name": "python",
   "nbconvert_exporter": "python",
   "pygments_lexer": "ipython3",
   "version": "3.10.8"
  }
 },
 "nbformat": 4,
 "nbformat_minor": 2
}
