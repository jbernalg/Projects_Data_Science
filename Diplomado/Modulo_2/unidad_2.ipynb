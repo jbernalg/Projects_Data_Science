{
 "cells": [
  {
   "cell_type": "markdown",
   "metadata": {},
   "source": [
    "# Archivos JSON"
   ]
  },
  {
   "cell_type": "markdown",
   "metadata": {},
   "source": [
    "Tiene mucha similitud con los diccionarios, porque son objetos de parejas de datos donde uno de ellos es la clave y el otro el valor. JSON (Javascript Object Notation) es un estandar para compartir datos mediante APIS. El formato es el siguiente:"
   ]
  },
  {
   "cell_type": "code",
   "execution_count": 3,
   "metadata": {},
   "outputs": [
    {
     "data": {
      "text/plain": [
       "\"\\n[\\n    {'clave1':valor, 'clave2':valor},\\n    {'clave1':valor, 'clave2':valor},\\n    {'clave1':valor, 'clave2':valor}\\n]\\n\""
      ]
     },
     "execution_count": 3,
     "metadata": {},
     "output_type": "execute_result"
    }
   ],
   "source": [
    "'''\n",
    "[\n",
    "    {'clave1':valor, 'clave2':valor},\n",
    "    {'clave1':valor, 'clave2':valor},\n",
    "    {'clave1':valor, 'clave2':valor}\n",
    "]\n",
    "'''"
   ]
  },
  {
   "cell_type": "markdown",
   "metadata": {},
   "source": [
    "En esencia, es una lista que contiene como elementos diccionarios."
   ]
  },
  {
   "cell_type": "markdown",
   "metadata": {},
   "source": [
    "## **Obtener los datos de un archivo JSON**"
   ]
  },
  {
   "cell_type": "code",
   "execution_count": 4,
   "metadata": {},
   "outputs": [
    {
     "name": "stdout",
     "output_type": "stream",
     "text": [
      "[{'nombre': 'Francisco Alvarez', 'Física': 3.5, 'Química': 4.7, 'Artes': 3.9}, {'nombre': 'Juan Gonzalez', 'Física': 4.1, 'Química': 3.8, 'Artes': 4.5}, {'nombre': 'Mauricio Castro', 'Física': 3.2, 'Química': 3.4, 'Artes': 4.7}, {'nombre': 'Saray Lozano', 'Física': 4.5, 'Química': 4.3, 'Artes': 4.8}, {'nombre': 'Viviana Cáceres', 'Física': 3.9, 'Química': 4, 'Artes': 3.6}]\n"
     ]
    }
   ],
   "source": [
    "import json\n",
    "\n",
    "with open('notas.json', encoding='utf8') as archivo:\n",
    "    datos = json.load(archivo)\n",
    "    print(datos)"
   ]
  },
  {
   "cell_type": "markdown",
   "metadata": {},
   "source": [
    "- Utilizamos el metodo **.load()** de la clase **json** que permite obtener todo los datos del archivo."
   ]
  },
  {
   "cell_type": "markdown",
   "metadata": {},
   "source": [
    "## **Obtener solo los datos de la columna Quimica**"
   ]
  },
  {
   "cell_type": "code",
   "execution_count": 5,
   "metadata": {},
   "outputs": [
    {
     "name": "stdout",
     "output_type": "stream",
     "text": [
      "4.7\n",
      "3.8\n",
      "3.4\n",
      "4.3\n",
      "4\n"
     ]
    }
   ],
   "source": [
    "import json\n",
    "lista = []\n",
    "\n",
    "with open('notas.json', encoding='utf8') as archivo:\n",
    "    datos = json.load(archivo)\n",
    "    for d in range(len(datos)):\n",
    "        print(datos[d]['Química'])"
   ]
  },
  {
   "cell_type": "markdown",
   "metadata": {},
   "source": [
    "- Utilizamos el indexado por numero y llave dentro de un bucle for para extraer solo los datos de la columna Quimica. El archivo JSON primero es una **Lista** y luego un **Diccionario**.\n",
    "\n",
    "- La funcion **len()** se utiliza para conocer el tamano de la lista\n",
    "\n",
    "- El objeto **Range()** se utliza para crear el rango de elementos para este bucle."
   ]
  },
  {
   "cell_type": "markdown",
   "metadata": {},
   "source": [
    "# Archivos XML"
   ]
  },
  {
   "cell_type": "markdown",
   "metadata": {},
   "source": [
    "Es un lenguaje que almacena datos en etiquetas, algo muy similar a la estructura HTML (eXtensible Markup Language). Las etiquetas tienen una caracteristica especial y es su apertura y cierre. Su estructura principal es la siguiente:"
   ]
  },
  {
   "cell_type": "code",
   "execution_count": 6,
   "metadata": {},
   "outputs": [
    {
     "data": {
      "text/plain": [
       "'\\n<xml>\\n    <nombre>Saray Lozano</nombre>\\n    <fisica>4.5</fisica>\\n</xml>\\n'"
      ]
     },
     "execution_count": 6,
     "metadata": {},
     "output_type": "execute_result"
    }
   ],
   "source": [
    "'''\n",
    "<xml>\n",
    "    <nombre>Saray Lozano</nombre>\n",
    "    <fisica>4.5</fisica>\n",
    "</xml>\n",
    "'''"
   ]
  },
  {
   "cell_type": "markdown",
   "metadata": {},
   "source": [
    "- Un documento XML tiene una estructura de etiquetas donde una abre y otra cierra el contenido de un dato y puede entenderse como bloques o cajas que contienen a su vez otros bloques de etiquetas con datos.\n",
    "\n",
    "- En Python la biblioteca XML tiene cuatro paquetes que son: dom, parsers, etree y sax. PAra nuestro caso, utilizaremos el paquete **etree**"
   ]
  },
  {
   "cell_type": "markdown",
   "metadata": {},
   "source": [
    "## **Obtener los datos de la columna Quimica del Archivo XML**"
   ]
  },
  {
   "cell_type": "code",
   "execution_count": 7,
   "metadata": {},
   "outputs": [
    {
     "name": "stdout",
     "output_type": "stream",
     "text": [
      "4.7\n",
      "3.8\n",
      "3.4\n",
      "4.3\n",
      "4\n"
     ]
    }
   ],
   "source": [
    "import xml.etree.ElementTree as x\n",
    "\n",
    "archivo = x.parse('notas.xml')\n",
    "datos = archivo.getroot()\n",
    "for fila in datos:\n",
    "    print(fila[2].text)"
   ]
  },
  {
   "cell_type": "markdown",
   "metadata": {},
   "source": [
    "- Utilizamos el metodo **.parse()** para crear un objeto de la clase **ElementTree**\n",
    "\n",
    "- Utilizamos el metodo **.getroot()** para crear otro objeto de la clase **Element** y obtener los datos del objeto creado con **.parse()**\n",
    "\n",
    "- Obtuvimos el contenido del objeto **datos** mediante el atributo **.text**"
   ]
  },
  {
   "cell_type": "markdown",
   "metadata": {},
   "source": [
    "# Recoleccion de Datos mediante APIs"
   ]
  },
  {
   "cell_type": "markdown",
   "metadata": {},
   "source": [
    "La mayoria de las app comparten datos mediante APIs (Application Programing Interface) que son bibliotecas que ofrecen ciertas funciones para que otras app puedan acceder a ellas.\n",
    "\n",
    "Existe un protocolo denominado API REST empleado para enviar y recibir datos en formato XML y JSON por medio del protocolo HTTP. Esto lo realiza a traves de cuatro funciones que son POST, GET, PUT y DELETE.\n",
    "\n",
    "Algunas APIs son publicas y no necesitan de claves privadas o TOKENS especiales para su acceso"
   ]
  },
  {
   "cell_type": "markdown",
   "metadata": {},
   "source": [
    "## Acediendo a la API de la NASA"
   ]
  },
  {
   "cell_type": "code",
   "execution_count": 1,
   "metadata": {},
   "outputs": [
    {
     "data": {
      "text/plain": [
       "'https://apod.nasa.gov/apod/image/2311/uhz1_1024.jpg'"
      ]
     },
     "execution_count": 1,
     "metadata": {},
     "output_type": "execute_result"
    }
   ],
   "source": [
    "import requests\n",
    "\n",
    "url = 'https://api.nasa.gov/planetary/apod?api_key=DEMO_KEY'\n",
    "r = requests.get(url)\n",
    "r.json()['url']"
   ]
  },
  {
   "cell_type": "markdown",
   "metadata": {},
   "source": [
    "- Llamamos a la libreria **requests** para hacer peticiones a paginas web.\n",
    "\n",
    "- Creamos un objeto **requests** y utilizamos el metodo **get()** para obtener los datos de la url dada.\n",
    "\n",
    "- Usamos el metodo **.json()** para cargar los datos en formato json.\n",
    "\n",
    "- Utilizamos el indice **['url']** para indicar la peticion que deseamos obtener."
   ]
  },
  {
   "cell_type": "markdown",
   "metadata": {},
   "source": [
    "## Obtener los indices disponibles por la API"
   ]
  },
  {
   "cell_type": "markdown",
   "metadata": {},
   "source": [
    "Cada API tiene su propia documentacion y es muy importante leerla, pues cada una tendra sus propios indices y tambien metodos y atributos para dar informacion especifica. En el caso anterior, para conocer todos los indices disponibles para usar, se emplea el siguiente codigo usando el metodo **.keys()**"
   ]
  },
  {
   "cell_type": "code",
   "execution_count": 2,
   "metadata": {},
   "outputs": [
    {
     "data": {
      "text/plain": [
       "dict_keys(['date', 'explanation', 'hdurl', 'media_type', 'service_version', 'title', 'url'])"
      ]
     },
     "execution_count": 2,
     "metadata": {},
     "output_type": "execute_result"
    }
   ],
   "source": [
    "import requests\n",
    "\n",
    "url = 'https://api.nasa.gov/planetary/apod?api_key=DEMO_KEY'\n",
    "r = requests.get(url)\n",
    "r.json().keys()"
   ]
  },
  {
   "cell_type": "markdown",
   "metadata": {},
   "source": [
    "- **Obtener una explicacion de la imagen**"
   ]
  },
  {
   "cell_type": "code",
   "execution_count": 3,
   "metadata": {},
   "outputs": [
    {
     "data": {
      "text/plain": [
       "\"Dominated by dark matter, massive cluster of galaxies Abell 2744 is known to some as Pandora's Cluster. It lies 3.5 billion light-years away toward the constellation Sculptor. Using the galaxy cluster's enormous mass as a gravitational lens to warp spacetime and magnify even more distant objects directly behind it, astronomers have found a background galaxy, UHZ1, at a remarkable redshift of Z=10.1. That puts UHZ1 far beyond Abell 2744, at a distance of 13.2 billion light-years, seen when our universe was about 3 percent of its current age. UHZ1 is identified in the insets of this composited image combining X-rays (purple hues) from the spacebased Chandra X-ray Observatory and infrared light from the James Webb Space Telescope. The X-ray emission from UHZ1 detected in the Chandra data is the telltale signature of a growing supermassive black hole at the center of the ultra high redshift galaxy.  That makes UHZ1's growing black hole the most distant black hole ever detected in X-rays, a result that now hints at how and when the first supermassive black holes in the universe formed.\""
      ]
     },
     "execution_count": 3,
     "metadata": {},
     "output_type": "execute_result"
    }
   ],
   "source": [
    "r.json()['explanation']"
   ]
  },
  {
   "cell_type": "markdown",
   "metadata": {},
   "source": [
    "- **Obtener titulo de la imagen**"
   ]
  },
  {
   "cell_type": "code",
   "execution_count": 4,
   "metadata": {},
   "outputs": [
    {
     "data": {
      "text/plain": [
       "'UHZ1: Distant Galaxy and Black Hole'"
      ]
     },
     "execution_count": 4,
     "metadata": {},
     "output_type": "execute_result"
    }
   ],
   "source": [
    "r.json()['title']"
   ]
  },
  {
   "cell_type": "markdown",
   "metadata": {},
   "source": [
    "- **Obtener la fecha en que fue tomada la imagen**"
   ]
  },
  {
   "cell_type": "code",
   "execution_count": 5,
   "metadata": {},
   "outputs": [
    {
     "data": {
      "text/plain": [
       "'2023-11-10'"
      ]
     },
     "execution_count": 5,
     "metadata": {},
     "output_type": "execute_result"
    }
   ],
   "source": [
    "r.json()['date']"
   ]
  },
  {
   "cell_type": "markdown",
   "metadata": {},
   "source": [
    "## Accediendo a la API de datos abiertos de Bogota"
   ]
  },
  {
   "cell_type": "code",
   "execution_count": 7,
   "metadata": {},
   "outputs": [],
   "source": [
    "import requests\n",
    "\n",
    "#url = 'https://datosabiertos.bogota.gov.co/dataset/numero-de-casos-confirmados-por-el-laboratorio-de-covid-19-bogota-d-c'\n",
    "#r = requests.get(url)\n",
    "#datos = r.json().keys()"
   ]
  },
  {
   "cell_type": "markdown",
   "metadata": {},
   "source": [
    "# Serializacion de Datos"
   ]
  },
  {
   "cell_type": "markdown",
   "metadata": {},
   "source": [
    "En el desarrollo de algoritmos en Ciencia de Datos, necesitamos guardar y recuperar cierto modelos como una secuencia de bytes que compacta los mismos. La forma de serializar y deserializar objetos es la siguiente:"
   ]
  },
  {
   "cell_type": "code",
   "execution_count": 8,
   "metadata": {},
   "outputs": [
    {
     "data": {
      "text/plain": [
       "['notas.pkl']"
      ]
     },
     "execution_count": 8,
     "metadata": {},
     "output_type": "execute_result"
    }
   ],
   "source": [
    "# Serializar datos\n",
    "\n",
    "import joblib\n",
    "# imaginemos que el siguiente conjunto de datos es el modelo\n",
    "datos = ['nombre', 'asignatura', 'calificacion']\n",
    "# serializacion\n",
    "joblib.dump(datos, 'notas.pkl')"
   ]
  },
  {
   "cell_type": "code",
   "execution_count": 9,
   "metadata": {},
   "outputs": [
    {
     "data": {
      "text/plain": [
       "['nombre', 'asignatura', 'calificacion']"
      ]
     },
     "execution_count": 9,
     "metadata": {},
     "output_type": "execute_result"
    }
   ],
   "source": [
    "# Deserializar datos\n",
    "\n",
    "carga = joblib.load('notas.pkl')\n",
    "carga"
   ]
  },
  {
   "cell_type": "markdown",
   "metadata": {},
   "source": [
    "- El metodo **.dump()** se encarga de serializar los datos y guardarlos.\n",
    "\n",
    "- El metodo **.load()** se encarga de recuperar los datos para su nuevo uso."
   ]
  },
  {
   "cell_type": "markdown",
   "metadata": {},
   "source": [
    "# Conclusiones"
   ]
  },
  {
   "cell_type": "markdown",
   "metadata": {},
   "source": [
    "- Se recomienda implementar el uso del formato JSON al momento de compartir datos con otros programas, aplicaciones o APIs, tanto por su sencillez como por su compatibilidad con el tipo de datos dict (diccionario) de Python. \n",
    "\n",
    "- En este tipo de dato (JSON) los datos están encerrados entre corchetes y pueden almacenar en su \n",
    "valor todo tipo de dato como listas, tuplas, textos, números y otros diccionarios.\n",
    "\n",
    "- Es importante que al manejar APIs, se cuente con el TOKEN que permite acceder a la aplicación sin la necesidad de entregar usuarios y contraseñas en los códigos. Algunos de estos TOKENs tienen caducidad de tiempo, lo que hace que su implementación sea muy viable en términos de seguridad."
   ]
  },
  {
   "cell_type": "markdown",
   "metadata": {},
   "source": [
    "# Lectura Recomendada"
   ]
  },
  {
   "cell_type": "markdown",
   "metadata": {},
   "source": [
    "Lee el siguiente articulo en informate sobre: Persistencia de datos, Python, JSON, CSV\n",
    "[Lectura Recomendada](https://docs.python.org/es/3.8/library/csv.html)"
   ]
  }
 ],
 "metadata": {
  "kernelspec": {
   "display_name": "data",
   "language": "python",
   "name": "python3"
  },
  "language_info": {
   "codemirror_mode": {
    "name": "ipython",
    "version": 3
   },
   "file_extension": ".py",
   "mimetype": "text/x-python",
   "name": "python",
   "nbconvert_exporter": "python",
   "pygments_lexer": "ipython3",
   "version": "3.10.8"
  }
 },
 "nbformat": 4,
 "nbformat_minor": 2
}
