{
 "cells": [
  {
   "cell_type": "markdown",
   "metadata": {},
   "source": [
    "# Archivos JSON"
   ]
  },
  {
   "cell_type": "markdown",
   "metadata": {},
   "source": [
    "Tiene mucha similitud con los diccionarios, porque son objetos de parejas de datos donde uno de ellos es la clave y el otro el valor. JSON (Javascript Object Notation) es un estandar para compartir datos mediante APIS. El formato es el siguiente:"
   ]
  },
  {
   "cell_type": "code",
   "execution_count": 3,
   "metadata": {},
   "outputs": [
    {
     "data": {
      "text/plain": [
       "\"\\n[\\n    {'clave1':valor, 'clave2':valor},\\n    {'clave1':valor, 'clave2':valor},\\n    {'clave1':valor, 'clave2':valor}\\n]\\n\""
      ]
     },
     "execution_count": 3,
     "metadata": {},
     "output_type": "execute_result"
    }
   ],
   "source": [
    "'''\n",
    "[\n",
    "    {'clave1':valor, 'clave2':valor},\n",
    "    {'clave1':valor, 'clave2':valor},\n",
    "    {'clave1':valor, 'clave2':valor}\n",
    "]\n",
    "'''"
   ]
  },
  {
   "cell_type": "markdown",
   "metadata": {},
   "source": [
    "En esencia, es una lista que contiene como elementos diccionarios."
   ]
  },
  {
   "cell_type": "markdown",
   "metadata": {},
   "source": [
    "## **Obtener los datos de un archivo JSON**"
   ]
  },
  {
   "cell_type": "code",
   "execution_count": 4,
   "metadata": {},
   "outputs": [
    {
     "name": "stdout",
     "output_type": "stream",
     "text": [
      "[{'nombre': 'Francisco Alvarez', 'Física': 3.5, 'Química': 4.7, 'Artes': 3.9}, {'nombre': 'Juan Gonzalez', 'Física': 4.1, 'Química': 3.8, 'Artes': 4.5}, {'nombre': 'Mauricio Castro', 'Física': 3.2, 'Química': 3.4, 'Artes': 4.7}, {'nombre': 'Saray Lozano', 'Física': 4.5, 'Química': 4.3, 'Artes': 4.8}, {'nombre': 'Viviana Cáceres', 'Física': 3.9, 'Química': 4, 'Artes': 3.6}]\n"
     ]
    }
   ],
   "source": [
    "import json\n",
    "\n",
    "with open('notas.json', encoding='utf8') as archivo:\n",
    "    datos = json.load(archivo)\n",
    "    print(datos)"
   ]
  },
  {
   "cell_type": "markdown",
   "metadata": {},
   "source": [
    "- Utilizamos el metodo **.load()** de la clase **json** que permite obtener todo los datos del archivo."
   ]
  },
  {
   "cell_type": "markdown",
   "metadata": {},
   "source": [
    "## **Obtener solo los datos de la columna Quimica**"
   ]
  },
  {
   "cell_type": "code",
   "execution_count": 5,
   "metadata": {},
   "outputs": [
    {
     "name": "stdout",
     "output_type": "stream",
     "text": [
      "4.7\n",
      "3.8\n",
      "3.4\n",
      "4.3\n",
      "4\n"
     ]
    }
   ],
   "source": [
    "import json\n",
    "lista = []\n",
    "\n",
    "with open('notas.json', encoding='utf8') as archivo:\n",
    "    datos = json.load(archivo)\n",
    "    for d in range(len(datos)):\n",
    "        print(datos[d]['Química'])"
   ]
  },
  {
   "cell_type": "markdown",
   "metadata": {},
   "source": [
    "- Utilizamos el indexado por numero y llave dentro de un bucle for para extraer solo los datos de la columna Quimica. El archivo JSON primero es una **Lista** y luego un **Diccionario**.\n",
    "\n",
    "- La funcion **len()** se utiliza para conocer el tamano de la lista\n",
    "\n",
    "- El objeto **Range()** se utliza para crear el rango de elementos para este bucle."
   ]
  }
 ],
 "metadata": {
  "kernelspec": {
   "display_name": "data",
   "language": "python",
   "name": "python3"
  },
  "language_info": {
   "codemirror_mode": {
    "name": "ipython",
    "version": 3
   },
   "file_extension": ".py",
   "mimetype": "text/x-python",
   "name": "python",
   "nbconvert_exporter": "python",
   "pygments_lexer": "ipython3",
   "version": "3.10.8"
  }
 },
 "nbformat": 4,
 "nbformat_minor": 2
}
