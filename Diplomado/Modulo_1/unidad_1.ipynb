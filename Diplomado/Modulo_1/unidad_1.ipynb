{
 "cells": [
  {
   "cell_type": "markdown",
   "metadata": {},
   "source": [
    "# Repaso de Python"
   ]
  },
  {
   "cell_type": "markdown",
   "metadata": {},
   "source": [
    "## Ejercicios Basicos"
   ]
  },
  {
   "cell_type": "code",
   "execution_count": 1,
   "metadata": {},
   "outputs": [
    {
     "name": "stdout",
     "output_type": "stream",
     "text": [
      "5\n"
     ]
    }
   ],
   "source": [
    "# Suma\n",
    "print(2+3)"
   ]
  },
  {
   "cell_type": "code",
   "execution_count": 2,
   "metadata": {},
   "outputs": [
    {
     "name": "stdout",
     "output_type": "stream",
     "text": [
      "Hola Mundo!\n"
     ]
    }
   ],
   "source": [
    "#  impresion\n",
    "print('Hola Mundo!')"
   ]
  },
  {
   "cell_type": "code",
   "execution_count": 3,
   "metadata": {},
   "outputs": [
    {
     "name": "stdout",
     "output_type": "stream",
     "text": [
      "12\n"
     ]
    }
   ],
   "source": [
    "# Multiplicacion \n",
    "print(3 * 4)"
   ]
  },
  {
   "cell_type": "code",
   "execution_count": 4,
   "metadata": {},
   "outputs": [
    {
     "name": "stdout",
     "output_type": "stream",
     "text": [
      "3.3333333333333335\n"
     ]
    }
   ],
   "source": [
    "# division\n",
    "print(10 / 3)"
   ]
  },
  {
   "cell_type": "code",
   "execution_count": 5,
   "metadata": {},
   "outputs": [
    {
     "name": "stdout",
     "output_type": "stream",
     "text": [
      "3\n"
     ]
    }
   ],
   "source": [
    "# division entera\n",
    "print(10 // 3)"
   ]
  },
  {
   "cell_type": "code",
   "execution_count": 6,
   "metadata": {},
   "outputs": [
    {
     "name": "stdout",
     "output_type": "stream",
     "text": [
      "2\n"
     ]
    }
   ],
   "source": [
    "# resto\n",
    "print(20 % 6)"
   ]
  },
  {
   "cell_type": "code",
   "execution_count": 7,
   "metadata": {},
   "outputs": [
    {
     "name": "stdout",
     "output_type": "stream",
     "text": [
      "PROGRAMACION PARA CIENCIA DE DATOS\n"
     ]
    }
   ],
   "source": [
    "# convertir texto en mayuscula\n",
    "print('programacion para ciencia de datos'.upper())"
   ]
  },
  {
   "cell_type": "code",
   "execution_count": 8,
   "metadata": {},
   "outputs": [
    {
     "name": "stdout",
     "output_type": "stream",
     "text": [
      "programacion en python\n"
     ]
    }
   ],
   "source": [
    "# unir texto\n",
    "print('programacion '+'en python')"
   ]
  },
  {
   "cell_type": "code",
   "execution_count": 9,
   "metadata": {},
   "outputs": [
    {
     "name": "stdout",
     "output_type": "stream",
     "text": [
      "['Ciencia', 'de', 'Datos']\n"
     ]
    }
   ],
   "source": [
    "# separar palabras de un texto\n",
    "print('Ciencia de Datos'.split())"
   ]
  },
  {
   "cell_type": "code",
   "execution_count": 10,
   "metadata": {},
   "outputs": [
    {
     "data": {
      "text/plain": [
       "3.84"
      ]
     },
     "execution_count": 10,
     "metadata": {},
     "output_type": "execute_result"
    }
   ],
   "source": [
    "# operacion\n",
    "result = 3 + 4 * 7 * (5 -2) / (10**2)\n",
    "result"
   ]
  },
  {
   "cell_type": "markdown",
   "metadata": {},
   "source": [
    "## Variables"
   ]
  },
  {
   "cell_type": "markdown",
   "metadata": {},
   "source": [
    "Es simplemente un espacio en memoria que se usara temporalmente para almacenar algun tipo de dato. Utiliza el simbolo = para realizar esta almacenamiento temporal"
   ]
  },
  {
   "cell_type": "code",
   "execution_count": 11,
   "metadata": {},
   "outputs": [
    {
     "name": "stdout",
     "output_type": "stream",
     "text": [
      "22\n"
     ]
    }
   ],
   "source": [
    "# variable\n",
    "edad = 22\n",
    "print(edad)"
   ]
  },
  {
   "cell_type": "markdown",
   "metadata": {},
   "source": [
    "Utiliza la funcion type() para determinar el tipo de dato contenido en una variable"
   ]
  },
  {
   "cell_type": "code",
   "execution_count": 12,
   "metadata": {},
   "outputs": [
    {
     "data": {
      "text/plain": [
       "int"
      ]
     },
     "execution_count": 12,
     "metadata": {},
     "output_type": "execute_result"
    }
   ],
   "source": [
    "# Tipo de Dato\n",
    "type(edad)"
   ]
  },
  {
   "cell_type": "markdown",
   "metadata": {},
   "source": [
    "Las variables pueden almacenar resultados de distintas operaciones aritmeticas o de objetos"
   ]
  },
  {
   "cell_type": "code",
   "execution_count": 13,
   "metadata": {},
   "outputs": [
    {
     "name": "stdout",
     "output_type": "stream",
     "text": [
      "12\n",
      "CIENCIA DE DATOS\n"
     ]
    }
   ],
   "source": [
    "suma = 5 + 7\n",
    "print(suma)\n",
    "\n",
    "nombre = 'Ciencia de Datos'\n",
    "print(nombre.upper())"
   ]
  },
  {
   "cell_type": "markdown",
   "metadata": {},
   "source": [
    "## Creacion de Variables"
   ]
  },
  {
   "cell_type": "markdown",
   "metadata": {},
   "source": [
    "Las variables deben cumplir con ciertas reglas para ser creadas:"
   ]
  },
  {
   "cell_type": "code",
   "execution_count": 14,
   "metadata": {},
   "outputs": [
    {
     "name": "stdout",
     "output_type": "stream",
     "text": [
      "12 10 3.14\n"
     ]
    }
   ],
   "source": [
    "# empiezan con una letra o un guion bajo\n",
    "ancho = 12\n",
    "Altura = 10\n",
    "_radio = 3.14\n",
    "\n",
    "print(ancho, Altura, _radio)"
   ]
  },
  {
   "cell_type": "code",
   "execution_count": 16,
   "metadata": {},
   "outputs": [
    {
     "name": "stdout",
     "output_type": "stream",
     "text": [
      "Manuela 24\n"
     ]
    }
   ],
   "source": [
    "# pueden contener despues otras letras, numeros o el guion bajo\n",
    "primer_nombre = 'Manuela'\n",
    "horas_dias2 = 24\n",
    "\n",
    "print(primer_nombre, horas_dias2)"
   ]
  },
  {
   "cell_type": "markdown",
   "metadata": {},
   "source": [
    "Los nombres de las variables son **Case Sensitive** lo que quiere decir que es sensible a letras mayusculas. Ejemplo, la variable Altura sera diferente a la variable ALTURA o altura. "
   ]
  },
  {
   "cell_type": "markdown",
   "metadata": {},
   "source": [
    "## Ejercicios a Resolver"
   ]
  },
  {
   "cell_type": "markdown",
   "metadata": {},
   "source": [
    "* $\n",
    "y = x^2 + 4x + 10, x = 5\n",
    "$"
   ]
  },
  {
   "cell_type": "code",
   "execution_count": 19,
   "metadata": {},
   "outputs": [
    {
     "name": "stdout",
     "output_type": "stream",
     "text": [
      "y = 55\n"
     ]
    }
   ],
   "source": [
    "x = 5\n",
    "y = x**2 + 4*x +10\n",
    "print('y =',y)"
   ]
  },
  {
   "cell_type": "markdown",
   "metadata": {},
   "source": [
    "* $ y = 3x^2 + 5x - 50, x = -15$ "
   ]
  },
  {
   "cell_type": "code",
   "execution_count": 20,
   "metadata": {},
   "outputs": [
    {
     "name": "stdout",
     "output_type": "stream",
     "text": [
      "y = 550\n"
     ]
    }
   ],
   "source": [
    "x = -15\n",
    "y = 3*x**2 + 5*x - 50\n",
    "print('y =',y)"
   ]
  },
  {
   "cell_type": "markdown",
   "metadata": {},
   "source": [
    "* $ y = 2x^3 - 4x + 10 - 6*7 , x = 35$ "
   ]
  },
  {
   "cell_type": "code",
   "execution_count": 21,
   "metadata": {},
   "outputs": [
    {
     "name": "stdout",
     "output_type": "stream",
     "text": [
      "y = 85578\n"
     ]
    }
   ],
   "source": [
    "x = 35\n",
    "y = 2*x**3 - 4*x + 10 - 6*7\n",
    "print('y =',y)"
   ]
  },
  {
   "cell_type": "markdown",
   "metadata": {},
   "source": [
    "* $ y = ((10 + 3)^4) - (600 / 200)$ "
   ]
  },
  {
   "cell_type": "code",
   "execution_count": 22,
   "metadata": {},
   "outputs": [
    {
     "name": "stdout",
     "output_type": "stream",
     "text": [
      "y = 28558.0\n"
     ]
    }
   ],
   "source": [
    "y = (10 + 3)**4 - (600/200)\n",
    "print('y =',y)"
   ]
  },
  {
   "cell_type": "markdown",
   "metadata": {},
   "source": [
    "* $ y = x^m - 7k + 10, x = 5, m = 3, k = 8$ "
   ]
  },
  {
   "cell_type": "code",
   "execution_count": 23,
   "metadata": {},
   "outputs": [
    {
     "name": "stdout",
     "output_type": "stream",
     "text": [
      "y = 79\n"
     ]
    }
   ],
   "source": [
    "x, m, k = 5, 3, 8\n",
    "y = x**m - 7*k + 10\n",
    "print('y =',y)"
   ]
  },
  {
   "cell_type": "markdown",
   "metadata": {},
   "source": [
    "## Programacion Estructurada vs Programacion Orientada a Objetos"
   ]
  },
  {
   "cell_type": "markdown",
   "metadata": {},
   "source": [
    "En _la_ _Programcion_ _Estructurada_ o secuencial, el codigo se ejecuta linea tras linea. Toma instrucciones de forma jerarquica y las va ejecutanto una por una."
   ]
  },
  {
   "cell_type": "code",
   "execution_count": 24,
   "metadata": {},
   "outputs": [
    {
     "name": "stdout",
     "output_type": "stream",
     "text": [
      "Fin del programa\n"
     ]
    }
   ],
   "source": [
    "# ejemplo programacion estructurada\n",
    "edad = 20\n",
    "\n",
    "if edad < 19:\n",
    "    print('La edad es menor a 19')\n",
    "\n",
    "print('Fin del programa')"
   ]
  },
  {
   "cell_type": "code",
   "execution_count": 26,
   "metadata": {},
   "outputs": [],
   "source": [
    "# ejemplo POO\n",
    "# Padre e hijo tienen cada uno un auto y se desea describir sus caracteristicas:\n",
    "\n",
    "# color del auto del padre\n",
    "auto_padre_color = 'rojo'\n",
    "\n",
    "# modelo del auto del hijo\n",
    "auto_hijo_modelo = 2020\n",
    "\n",
    "# imprimamos el modelo del auto del padre\n",
    "#print(auto_padre_modelo)\n",
    "#>> name 'auto_padre_modelo' is not defined"
   ]
  },
  {
   "cell_type": "markdown",
   "metadata": {},
   "source": [
    "El codigo anterior arroja un error debido a que la variable auto_padre_modelo no ha sido definida. te imaginas cuantas variables tendriamos que crear para describir las caracteristicas de cada auto, incluso para cada nuevo auto que ingrese al programa?\n",
    "\n",
    "_La_ _Programacion_ _Orientada_ _a_ _Objetos_ nos ahorra la creacion de nuevas variables por medio de la capacidad de crear nuevos objetos a partir de una plantilla que se conoce con el nombre de Clase.\n",
    "\n",
    "De hecho, al crear variables donde definimos nombres, estamos creando nuevos objetos de tipo texto **(str)** y estos estan heredando todos sus atributos y metodos. Veamos el siguiente ejemplo:"
   ]
  },
  {
   "cell_type": "code",
   "execution_count": 27,
   "metadata": {},
   "outputs": [
    {
     "name": "stdout",
     "output_type": "stream",
     "text": [
      "RICARDO JOSE PEREZ PEREZ\n"
     ]
    }
   ],
   "source": [
    "nombres = 'Ricardo Jose'\n",
    "apellidos = 'Perez Perez'\n",
    "\n",
    "print(nombres.upper(), apellidos.upper())\n",
    "# ambas variables tienen la capacidad de usar el metodo upper ya que pertenencen a la clase String"
   ]
  },
  {
   "cell_type": "markdown",
   "metadata": {},
   "source": [
    "### Solucion del error anterior mediante POO"
   ]
  },
  {
   "cell_type": "markdown",
   "metadata": {},
   "source": [
    "Para obtener el modelo del auto del padre debemos crear una clase llamada Auto"
   ]
  },
  {
   "cell_type": "code",
   "execution_count": 28,
   "metadata": {},
   "outputs": [],
   "source": [
    "# definimos el nombre de la clase Auto\n",
    "class Auto:\n",
    "    '''\n",
    "    Creamos los atributos de la clase,\n",
    "    Por defecto llevan la palabra reservada self\n",
    "    '''\n",
    "    def __init__(self, modelo, color):\n",
    "        self.modelo = modelo\n",
    "        self.color = color\n",
    "\n",
    "    def ver_modelo(self):\n",
    "        print(self.modelo)\n",
    "\n",
    "    def ver_color(self):\n",
    "        print(self.color)"
   ]
  },
  {
   "cell_type": "markdown",
   "metadata": {},
   "source": [
    "* **__init__(self)** : es un metodo por defecto que sirve para construir inicialmente los objetos de la clase y pasar atributos desde su creacion. Ejemplo, **padre = Auto(2018, 'blanco')** indica que el auto del padre sera blanco y de modelo 2018.\n",
    "\n",
    "* **ver_modelo(self)** : tiene como proposito mostrar como mensaje el valor contenido en el atributo modelo.\n",
    "\n",
    "* **ver_color(self)** : Tiene como proposito mostrar como mensaje el valor contenido en el atributo color.\n",
    "\n",
    "* La palabra reservada **self** es obligatoria para que Python desarrolle los metodos correctamente."
   ]
  },
  {
   "cell_type": "code",
   "execution_count": 30,
   "metadata": {},
   "outputs": [
    {
     "name": "stdout",
     "output_type": "stream",
     "text": [
      "2018\n",
      "rojo\n"
     ]
    }
   ],
   "source": [
    "# Creamos los objetos instanciados de la clase Auto\n",
    "padre = Auto(2018, 'blanco')\n",
    "hijo = Auto(2022, 'rojo')\n",
    "\n",
    "# mostrar el modelo del auto del padre\n",
    "padre.ver_modelo()\n",
    "\n",
    "# Mostrar el color del auto del hijo\n",
    "hijo.ver_color()"
   ]
  },
  {
   "cell_type": "markdown",
   "metadata": {},
   "source": [
    "## Herencia"
   ]
  },
  {
   "cell_type": "markdown",
   "metadata": {},
   "source": [
    "Puedes crear clase de objetos que puedan heredar tanto los atributos como los metodos para no tener que definir nuevamente alguno de estos."
   ]
  },
  {
   "cell_type": "code",
   "execution_count": 31,
   "metadata": {},
   "outputs": [],
   "source": [
    "# Creacion de una clase maquina para a partir de ella crear otras clases\n",
    "class Maquina:\n",
    "    def __init__(self) -> None:\n",
    "        pass\n",
    "\n",
    "    def encender(self):\n",
    "        print('Encendiendo...')\n",
    "\n",
    "    def apagar(self):\n",
    "        print('apagando...')"
   ]
  },
  {
   "cell_type": "code",
   "execution_count": 32,
   "metadata": {},
   "outputs": [],
   "source": [
    "# Creacion de las clases auto y computador a partir de la clase maquina\n",
    "class Auto(Maquina):\n",
    "    pass\n",
    "\n",
    "class Computador(Maquina):\n",
    "    pass"
   ]
  },
  {
   "cell_type": "code",
   "execution_count": 33,
   "metadata": {},
   "outputs": [
    {
     "name": "stdout",
     "output_type": "stream",
     "text": [
      "Encendiendo...\n"
     ]
    }
   ],
   "source": [
    "# utilizando los metodos de la clase maquina en un objeto instanciado de la clase Computador\n",
    "pc_portatil = Computador()\n",
    "pc_portatil.encender()"
   ]
  },
  {
   "cell_type": "markdown",
   "metadata": {},
   "source": [
    "* La palabra reservada **pass** se usa para dejar parte del codigo sin definir.\n",
    "\n",
    "* Al heredar, se usa el nombre de la clase que se va a heredar (**class Computador(Maquina)**) para que herede todos los atributos y metodos que tenga la clase (**class Maquina**). De esta manera, la clase Computador hereda el metodo encender de Maquina y al crear el objeto **pc_portatil** este puede utlizar el metodo **encender()**"
   ]
  },
  {
   "cell_type": "markdown",
   "metadata": {},
   "source": [
    "## Lectura Recomendada"
   ]
  },
  {
   "cell_type": "markdown",
   "metadata": {},
   "source": [
    "Te dejamos la siguiente lectura para que estes al dia con Python: [Que hay de nuevo en Python](https://docs.python.org/es/3.8/whatsnew/index.html)"
   ]
  }
 ],
 "metadata": {
  "kernelspec": {
   "display_name": "data",
   "language": "python",
   "name": "python3"
  },
  "language_info": {
   "codemirror_mode": {
    "name": "ipython",
    "version": 3
   },
   "file_extension": ".py",
   "mimetype": "text/x-python",
   "name": "python",
   "nbconvert_exporter": "python",
   "pygments_lexer": "ipython3",
   "version": "3.10.8"
  }
 },
 "nbformat": 4,
 "nbformat_minor": 2
}
