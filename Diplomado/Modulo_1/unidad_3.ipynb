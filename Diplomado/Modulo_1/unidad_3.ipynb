{
 "cells": [
  {
   "cell_type": "markdown",
   "metadata": {},
   "source": [
    "# Pasos y Procesos"
   ]
  },
  {
   "cell_type": "markdown",
   "metadata": {},
   "source": [
    "Usualmente los datos se almacenan temporalmente en variables cuando se carga un programa. Imagina que cada vez que se necesite asignar un documento a un usuario tendriamos que crear nuevas variables. Para resolver el problema recurrimos a la Programacion Orientada a Objetos."
   ]
  },
  {
   "cell_type": "code",
   "execution_count": 19,
   "metadata": {},
   "outputs": [],
   "source": [
    "# clase Persona\n",
    "class Persona:\n",
    "    def __init__(self, nombre, id):\n",
    "        self.nombre = nombre.upper()\n",
    "        self.id = id\n",
    "        self.rol = ''\n",
    "\n",
    "    def verDatos(self):\n",
    "        pass\n",
    "\n",
    "    def actualizarDatos(self):\n",
    "        pass\n"
   ]
  },
  {
   "cell_type": "code",
   "execution_count": 20,
   "metadata": {},
   "outputs": [],
   "source": [
    "# clase Estudiante con las caracteristicas de Persona\n",
    "class Estudiante(Persona):\n",
    "    def __init__(self, nombre, id):\n",
    "        super().__init__(nombre, id)\n",
    "        self.rol = 'estudiante'"
   ]
  },
  {
   "cell_type": "code",
   "execution_count": 21,
   "metadata": {},
   "outputs": [],
   "source": [
    "# clase Docente con las caracteristicas de Persona\n",
    "class Docente(Persona):\n",
    "    def __init__(self, nombre, id):\n",
    "        super().__init__(nombre, id)\n",
    "        self.rol = 'docente'"
   ]
  },
  {
   "cell_type": "code",
   "execution_count": 22,
   "metadata": {},
   "outputs": [
    {
     "name": "stdout",
     "output_type": "stream",
     "text": [
      "[<__main__.Estudiante object at 0x7fa27454c070>, <__main__.Estudiante object at 0x7fa27454c0d0>, <__main__.Estudiante object at 0x7fa27454e680>]\n"
     ]
    }
   ],
   "source": [
    "# creamos una lista para almacenar los diferentes usuarios\n",
    "usuarios = []\n",
    "\n",
    "usuarios.append(Estudiante('Miguel', '38838211'))\n",
    "usuarios.append(Estudiante('Manuela', '37837211'))\n",
    "usuarios.append(Estudiante('Lisa', '38838200'))\n",
    "\n",
    "# imprimimos los usuarios\n",
    "print(usuarios)"
   ]
  }
 ],
 "metadata": {
  "kernelspec": {
   "display_name": "data",
   "language": "python",
   "name": "python3"
  },
  "language_info": {
   "codemirror_mode": {
    "name": "ipython",
    "version": 3
   },
   "file_extension": ".py",
   "mimetype": "text/x-python",
   "name": "python",
   "nbconvert_exporter": "python",
   "pygments_lexer": "ipython3",
   "version": "3.10.8"
  }
 },
 "nbformat": 4,
 "nbformat_minor": 2
}
