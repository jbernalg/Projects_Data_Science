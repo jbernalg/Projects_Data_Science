{
 "cells": [
  {
   "cell_type": "markdown",
   "metadata": {},
   "source": [
    "# Codigos en Python para MongoBD"
   ]
  },
  {
   "cell_type": "markdown",
   "metadata": {},
   "source": [
    "## Agregar datos a una Base de Datos en MongoDB"
   ]
  },
  {
   "cell_type": "code",
   "execution_count": 1,
   "metadata": {},
   "outputs": [
    {
     "name": "stdout",
     "output_type": "stream",
     "text": [
      "Requirement already satisfied: pymongo in /home/jbernal/anaconda3/envs/data/lib/python3.10/site-packages (4.6.0)\n",
      "Requirement already satisfied: dnspython in /home/jbernal/anaconda3/envs/data/lib/python3.10/site-packages (2.4.2)\n"
     ]
    }
   ],
   "source": [
    "# descargar librerias necesarias\n",
    "!pip install pymongo dnspython"
   ]
  },
  {
   "cell_type": "code",
   "execution_count": 2,
   "metadata": {},
   "outputs": [
    {
     "ename": "AttributeError",
     "evalue": "module 'httpcore' has no attribute 'CloseError'",
     "output_type": "error",
     "traceback": [
      "\u001b[0;31m---------------------------------------------------------------------------\u001b[0m",
      "\u001b[0;31mAttributeError\u001b[0m                            Traceback (most recent call last)",
      "\u001b[1;32m/home/jbernal/Data_Science/Diplomado/Modulo_3/unidad_2.ipynb Cell 4\u001b[0m line \u001b[0;36m<cell line: 2>\u001b[0;34m()\u001b[0m\n\u001b[1;32m      <a href='vscode-notebook-cell://wsl%2Bubuntu/home/jbernal/Data_Science/Diplomado/Modulo_3/unidad_2.ipynb#W3sdnNjb2RlLXJlbW90ZQ%3D%3D?line=0'>1</a>\u001b[0m \u001b[39m# importamos las clases y librerias requeridas\u001b[39;00m\n\u001b[0;32m----> <a href='vscode-notebook-cell://wsl%2Bubuntu/home/jbernal/Data_Science/Diplomado/Modulo_3/unidad_2.ipynb#W3sdnNjb2RlLXJlbW90ZQ%3D%3D?line=1'>2</a>\u001b[0m \u001b[39mfrom\u001b[39;00m \u001b[39mpymongo\u001b[39;00m \u001b[39mimport\u001b[39;00m MongoClient\n\u001b[1;32m      <a href='vscode-notebook-cell://wsl%2Bubuntu/home/jbernal/Data_Science/Diplomado/Modulo_3/unidad_2.ipynb#W3sdnNjb2RlLXJlbW90ZQ%3D%3D?line=2'>3</a>\u001b[0m \u001b[39mimport\u001b[39;00m \u001b[39mjson\u001b[39;00m\n",
      "File \u001b[0;32m~/anaconda3/envs/data/lib/python3.10/site-packages/pymongo/__init__.py:93\u001b[0m, in \u001b[0;36m<module>\u001b[0;34m\u001b[0m\n\u001b[1;32m     91\u001b[0m \u001b[39mfrom\u001b[39;00m \u001b[39mpymongo\u001b[39;00m\u001b[39m.\u001b[39;00m\u001b[39mcommon\u001b[39;00m \u001b[39mimport\u001b[39;00m MAX_SUPPORTED_WIRE_VERSION, MIN_SUPPORTED_WIRE_VERSION\n\u001b[1;32m     92\u001b[0m \u001b[39mfrom\u001b[39;00m \u001b[39mpymongo\u001b[39;00m\u001b[39m.\u001b[39;00m\u001b[39mcursor\u001b[39;00m \u001b[39mimport\u001b[39;00m CursorType\n\u001b[0;32m---> 93\u001b[0m \u001b[39mfrom\u001b[39;00m \u001b[39mpymongo\u001b[39;00m\u001b[39m.\u001b[39;00m\u001b[39mmongo_client\u001b[39;00m \u001b[39mimport\u001b[39;00m MongoClient\n\u001b[1;32m     94\u001b[0m \u001b[39mfrom\u001b[39;00m \u001b[39mpymongo\u001b[39;00m\u001b[39m.\u001b[39;00m\u001b[39moperations\u001b[39;00m \u001b[39mimport\u001b[39;00m (\n\u001b[1;32m     95\u001b[0m     DeleteMany,\n\u001b[1;32m     96\u001b[0m     DeleteOne,\n\u001b[0;32m   (...)\u001b[0m\n\u001b[1;32m    101\u001b[0m     UpdateOne,\n\u001b[1;32m    102\u001b[0m )\n\u001b[1;32m    103\u001b[0m \u001b[39mfrom\u001b[39;00m \u001b[39mpymongo\u001b[39;00m\u001b[39m.\u001b[39;00m\u001b[39mread_preferences\u001b[39;00m \u001b[39mimport\u001b[39;00m ReadPreference\n",
      "File \u001b[0;32m~/anaconda3/envs/data/lib/python3.10/site-packages/pymongo/mongo_client.py:62\u001b[0m, in \u001b[0;36m<module>\u001b[0;34m\u001b[0m\n\u001b[1;32m     60\u001b[0m \u001b[39mfrom\u001b[39;00m \u001b[39mbson\u001b[39;00m\u001b[39m.\u001b[39;00m\u001b[39mson\u001b[39;00m \u001b[39mimport\u001b[39;00m SON\n\u001b[1;32m     61\u001b[0m \u001b[39mfrom\u001b[39;00m \u001b[39mbson\u001b[39;00m\u001b[39m.\u001b[39;00m\u001b[39mtimestamp\u001b[39;00m \u001b[39mimport\u001b[39;00m Timestamp\n\u001b[0;32m---> 62\u001b[0m \u001b[39mfrom\u001b[39;00m \u001b[39mpymongo\u001b[39;00m \u001b[39mimport\u001b[39;00m (\n\u001b[1;32m     63\u001b[0m     _csot,\n\u001b[1;32m     64\u001b[0m     client_session,\n\u001b[1;32m     65\u001b[0m     common,\n\u001b[1;32m     66\u001b[0m     database,\n\u001b[1;32m     67\u001b[0m     helpers,\n\u001b[1;32m     68\u001b[0m     message,\n\u001b[1;32m     69\u001b[0m     periodic_executor,\n\u001b[1;32m     70\u001b[0m     uri_parser,\n\u001b[1;32m     71\u001b[0m )\n\u001b[1;32m     72\u001b[0m \u001b[39mfrom\u001b[39;00m \u001b[39mpymongo\u001b[39;00m\u001b[39m.\u001b[39;00m\u001b[39mchange_stream\u001b[39;00m \u001b[39mimport\u001b[39;00m ChangeStream, ClusterChangeStream\n\u001b[1;32m     73\u001b[0m \u001b[39mfrom\u001b[39;00m \u001b[39mpymongo\u001b[39;00m\u001b[39m.\u001b[39;00m\u001b[39mclient_options\u001b[39;00m \u001b[39mimport\u001b[39;00m ClientOptions\n",
      "File \u001b[0;32m~/anaconda3/envs/data/lib/python3.10/site-packages/pymongo/uri_parser.py:43\u001b[0m, in \u001b[0;36m<module>\u001b[0;34m\u001b[0m\n\u001b[1;32m     35\u001b[0m \u001b[39mfrom\u001b[39;00m \u001b[39mpymongo\u001b[39;00m\u001b[39m.\u001b[39;00m\u001b[39mcommon\u001b[39;00m \u001b[39mimport\u001b[39;00m (\n\u001b[1;32m     36\u001b[0m     INTERNAL_URI_OPTION_NAME_MAP,\n\u001b[1;32m     37\u001b[0m     SRV_SERVICE_NAME,\n\u001b[0;32m   (...)\u001b[0m\n\u001b[1;32m     40\u001b[0m     get_validated_options,\n\u001b[1;32m     41\u001b[0m )\n\u001b[1;32m     42\u001b[0m \u001b[39mfrom\u001b[39;00m \u001b[39mpymongo\u001b[39;00m\u001b[39m.\u001b[39;00m\u001b[39merrors\u001b[39;00m \u001b[39mimport\u001b[39;00m ConfigurationError, InvalidURI\n\u001b[0;32m---> 43\u001b[0m \u001b[39mfrom\u001b[39;00m \u001b[39mpymongo\u001b[39;00m\u001b[39m.\u001b[39;00m\u001b[39msrv_resolver\u001b[39;00m \u001b[39mimport\u001b[39;00m _HAVE_DNSPYTHON, _SrvResolver\n\u001b[1;32m     44\u001b[0m \u001b[39mfrom\u001b[39;00m \u001b[39mpymongo\u001b[39;00m\u001b[39m.\u001b[39;00m\u001b[39mtypings\u001b[39;00m \u001b[39mimport\u001b[39;00m _Address\n\u001b[1;32m     46\u001b[0m \u001b[39mif\u001b[39;00m TYPE_CHECKING:\n",
      "File \u001b[0;32m~/anaconda3/envs/data/lib/python3.10/site-packages/pymongo/srv_resolver.py:23\u001b[0m, in \u001b[0;36m<module>\u001b[0;34m\u001b[0m\n\u001b[1;32m     20\u001b[0m \u001b[39mfrom\u001b[39;00m \u001b[39mtyping\u001b[39;00m \u001b[39mimport\u001b[39;00m Any, Optional, Union\n\u001b[1;32m     22\u001b[0m \u001b[39mtry\u001b[39;00m:\n\u001b[0;32m---> 23\u001b[0m     \u001b[39mfrom\u001b[39;00m \u001b[39mdns\u001b[39;00m \u001b[39mimport\u001b[39;00m resolver\n\u001b[1;32m     25\u001b[0m     _HAVE_DNSPYTHON \u001b[39m=\u001b[39m \u001b[39mTrue\u001b[39;00m\n\u001b[1;32m     26\u001b[0m \u001b[39mexcept\u001b[39;00m \u001b[39mImportError\u001b[39;00m:\n",
      "File \u001b[0;32m~/anaconda3/envs/data/lib/python3.10/site-packages/dns/resolver.py:30\u001b[0m, in \u001b[0;36m<module>\u001b[0;34m\u001b[0m\n\u001b[1;32m     27\u001b[0m \u001b[39mfrom\u001b[39;00m \u001b[39mtyping\u001b[39;00m \u001b[39mimport\u001b[39;00m Any, Dict, Iterator, List, Optional, Sequence, Tuple, Union\n\u001b[1;32m     28\u001b[0m \u001b[39mfrom\u001b[39;00m \u001b[39murllib\u001b[39;00m\u001b[39m.\u001b[39;00m\u001b[39mparse\u001b[39;00m \u001b[39mimport\u001b[39;00m urlparse\n\u001b[0;32m---> 30\u001b[0m \u001b[39mimport\u001b[39;00m \u001b[39mdns\u001b[39;00m\u001b[39m.\u001b[39;00m\u001b[39m_ddr\u001b[39;00m\n\u001b[1;32m     31\u001b[0m \u001b[39mimport\u001b[39;00m \u001b[39mdns\u001b[39;00m\u001b[39m.\u001b[39;00m\u001b[39medns\u001b[39;00m\n\u001b[1;32m     32\u001b[0m \u001b[39mimport\u001b[39;00m \u001b[39mdns\u001b[39;00m\u001b[39m.\u001b[39;00m\u001b[39mexception\u001b[39;00m\n",
      "File \u001b[0;32m~/anaconda3/envs/data/lib/python3.10/site-packages/dns/_ddr.py:12\u001b[0m, in \u001b[0;36m<module>\u001b[0;34m\u001b[0m\n\u001b[1;32m     10\u001b[0m \u001b[39mimport\u001b[39;00m \u001b[39mdns\u001b[39;00m\u001b[39m.\u001b[39;00m\u001b[39minet\u001b[39;00m\n\u001b[1;32m     11\u001b[0m \u001b[39mimport\u001b[39;00m \u001b[39mdns\u001b[39;00m\u001b[39m.\u001b[39;00m\u001b[39mname\u001b[39;00m\n\u001b[0;32m---> 12\u001b[0m \u001b[39mimport\u001b[39;00m \u001b[39mdns\u001b[39;00m\u001b[39m.\u001b[39;00m\u001b[39mnameserver\u001b[39;00m\n\u001b[1;32m     13\u001b[0m \u001b[39mimport\u001b[39;00m \u001b[39mdns\u001b[39;00m\u001b[39m.\u001b[39;00m\u001b[39mquery\u001b[39;00m\n\u001b[1;32m     14\u001b[0m \u001b[39mimport\u001b[39;00m \u001b[39mdns\u001b[39;00m\u001b[39m.\u001b[39;00m\u001b[39mrdtypes\u001b[39;00m\u001b[39m.\u001b[39;00m\u001b[39msvcbbase\u001b[39;00m\n",
      "File \u001b[0;32m~/anaconda3/envs/data/lib/python3.10/site-packages/dns/nameserver.py:5\u001b[0m, in \u001b[0;36m<module>\u001b[0;34m\u001b[0m\n\u001b[1;32m      2\u001b[0m \u001b[39mfrom\u001b[39;00m \u001b[39murllib\u001b[39;00m\u001b[39m.\u001b[39;00m\u001b[39mparse\u001b[39;00m \u001b[39mimport\u001b[39;00m urlparse\n\u001b[1;32m      4\u001b[0m \u001b[39mimport\u001b[39;00m \u001b[39mdns\u001b[39;00m\u001b[39m.\u001b[39;00m\u001b[39masyncbackend\u001b[39;00m\n\u001b[0;32m----> 5\u001b[0m \u001b[39mimport\u001b[39;00m \u001b[39mdns\u001b[39;00m\u001b[39m.\u001b[39;00m\u001b[39masyncquery\u001b[39;00m\n\u001b[1;32m      6\u001b[0m \u001b[39mimport\u001b[39;00m \u001b[39mdns\u001b[39;00m\u001b[39m.\u001b[39;00m\u001b[39minet\u001b[39;00m\n\u001b[1;32m      7\u001b[0m \u001b[39mimport\u001b[39;00m \u001b[39mdns\u001b[39;00m\u001b[39m.\u001b[39;00m\u001b[39mmessage\u001b[39;00m\n",
      "File \u001b[0;32m~/anaconda3/envs/data/lib/python3.10/site-packages/dns/asyncquery.py:38\u001b[0m, in \u001b[0;36m<module>\u001b[0;34m\u001b[0m\n\u001b[1;32m     36\u001b[0m \u001b[39mimport\u001b[39;00m \u001b[39mdns\u001b[39;00m\u001b[39m.\u001b[39;00m\u001b[39mtransaction\u001b[39;00m\n\u001b[1;32m     37\u001b[0m \u001b[39mfrom\u001b[39;00m \u001b[39mdns\u001b[39;00m\u001b[39m.\u001b[39;00m\u001b[39m_asyncbackend\u001b[39;00m \u001b[39mimport\u001b[39;00m NullContext\n\u001b[0;32m---> 38\u001b[0m \u001b[39mfrom\u001b[39;00m \u001b[39mdns\u001b[39;00m\u001b[39m.\u001b[39;00m\u001b[39mquery\u001b[39;00m \u001b[39mimport\u001b[39;00m (\n\u001b[1;32m     39\u001b[0m     BadResponse,\n\u001b[1;32m     40\u001b[0m     NoDOH,\n\u001b[1;32m     41\u001b[0m     NoDOQ,\n\u001b[1;32m     42\u001b[0m     UDPMode,\n\u001b[1;32m     43\u001b[0m     _compute_times,\n\u001b[1;32m     44\u001b[0m     _have_http2,\n\u001b[1;32m     45\u001b[0m     _matches_destination,\n\u001b[1;32m     46\u001b[0m     _remaining,\n\u001b[1;32m     47\u001b[0m     have_doh,\n\u001b[1;32m     48\u001b[0m     ssl,\n\u001b[1;32m     49\u001b[0m )\n\u001b[1;32m     51\u001b[0m \u001b[39mif\u001b[39;00m have_doh:\n\u001b[1;32m     52\u001b[0m     \u001b[39mimport\u001b[39;00m \u001b[39mhttpx\u001b[39;00m\n",
      "File \u001b[0;32m~/anaconda3/envs/data/lib/python3.10/site-packages/dns/query.py:65\u001b[0m, in \u001b[0;36m<module>\u001b[0;34m\u001b[0m\n\u001b[1;32m     63\u001b[0m \u001b[39mimport\u001b[39;00m \u001b[39mhttpcore\u001b[39;00m\n\u001b[1;32m     64\u001b[0m \u001b[39mimport\u001b[39;00m \u001b[39mhttpcore\u001b[39;00m\u001b[39m.\u001b[39;00m\u001b[39m_backends\u001b[39;00m\u001b[39m.\u001b[39;00m\u001b[39msync\u001b[39;00m\n\u001b[0;32m---> 65\u001b[0m \u001b[39mimport\u001b[39;00m \u001b[39mhttpx\u001b[39;00m\n\u001b[1;32m     67\u001b[0m _CoreNetworkBackend \u001b[39m=\u001b[39m httpcore\u001b[39m.\u001b[39mNetworkBackend\n\u001b[1;32m     68\u001b[0m _CoreSyncStream \u001b[39m=\u001b[39m httpcore\u001b[39m.\u001b[39m_backends\u001b[39m.\u001b[39msync\u001b[39m.\u001b[39mSyncStream\n",
      "File \u001b[0;32m~/anaconda3/envs/data/lib/python3.10/site-packages/httpx/__init__.py:2\u001b[0m, in \u001b[0;36m<module>\u001b[0;34m\u001b[0m\n\u001b[1;32m      1\u001b[0m \u001b[39mfrom\u001b[39;00m \u001b[39m.\u001b[39;00m\u001b[39m__version__\u001b[39;00m \u001b[39mimport\u001b[39;00m __description__, __title__, __version__\n\u001b[0;32m----> 2\u001b[0m \u001b[39mfrom\u001b[39;00m \u001b[39m.\u001b[39;00m\u001b[39m_api\u001b[39;00m \u001b[39mimport\u001b[39;00m delete, get, head, options, patch, post, put, request, stream\n\u001b[1;32m      3\u001b[0m \u001b[39mfrom\u001b[39;00m \u001b[39m.\u001b[39;00m\u001b[39m_auth\u001b[39;00m \u001b[39mimport\u001b[39;00m Auth, BasicAuth, DigestAuth\n\u001b[1;32m      4\u001b[0m \u001b[39mfrom\u001b[39;00m \u001b[39m.\u001b[39;00m\u001b[39m_client\u001b[39;00m \u001b[39mimport\u001b[39;00m AsyncClient, Client\n",
      "File \u001b[0;32m~/anaconda3/envs/data/lib/python3.10/site-packages/httpx/_api.py:3\u001b[0m, in \u001b[0;36m<module>\u001b[0;34m\u001b[0m\n\u001b[1;32m      1\u001b[0m \u001b[39mimport\u001b[39;00m \u001b[39mtyping\u001b[39;00m\n\u001b[0;32m----> 3\u001b[0m \u001b[39mfrom\u001b[39;00m \u001b[39m.\u001b[39;00m\u001b[39m_client\u001b[39;00m \u001b[39mimport\u001b[39;00m Client, StreamContextManager\n\u001b[1;32m      4\u001b[0m \u001b[39mfrom\u001b[39;00m \u001b[39m.\u001b[39;00m\u001b[39m_config\u001b[39;00m \u001b[39mimport\u001b[39;00m DEFAULT_TIMEOUT_CONFIG\n\u001b[1;32m      5\u001b[0m \u001b[39mfrom\u001b[39;00m \u001b[39m.\u001b[39;00m\u001b[39m_models\u001b[39;00m \u001b[39mimport\u001b[39;00m Request, Response\n",
      "File \u001b[0;32m~/anaconda3/envs/data/lib/python3.10/site-packages/httpx/_client.py:8\u001b[0m, in \u001b[0;36m<module>\u001b[0;34m\u001b[0m\n\u001b[1;32m      5\u001b[0m \u001b[39mimport\u001b[39;00m \u001b[39mhstspreload\u001b[39;00m\n\u001b[1;32m      6\u001b[0m \u001b[39mimport\u001b[39;00m \u001b[39mhttpcore\u001b[39;00m\n\u001b[0;32m----> 8\u001b[0m \u001b[39mfrom\u001b[39;00m \u001b[39m.\u001b[39;00m\u001b[39m_auth\u001b[39;00m \u001b[39mimport\u001b[39;00m Auth, BasicAuth, FunctionAuth\n\u001b[1;32m      9\u001b[0m \u001b[39mfrom\u001b[39;00m \u001b[39m.\u001b[39;00m\u001b[39m_config\u001b[39;00m \u001b[39mimport\u001b[39;00m (\n\u001b[1;32m     10\u001b[0m     DEFAULT_MAX_REDIRECTS,\n\u001b[1;32m     11\u001b[0m     DEFAULT_POOL_LIMITS,\n\u001b[0;32m   (...)\u001b[0m\n\u001b[1;32m     18\u001b[0m     UnsetType,\n\u001b[1;32m     19\u001b[0m )\n\u001b[1;32m     20\u001b[0m \u001b[39mfrom\u001b[39;00m \u001b[39m.\u001b[39;00m\u001b[39m_content_streams\u001b[39;00m \u001b[39mimport\u001b[39;00m ContentStream\n",
      "File \u001b[0;32m~/anaconda3/envs/data/lib/python3.10/site-packages/httpx/_auth.py:9\u001b[0m, in \u001b[0;36m<module>\u001b[0;34m\u001b[0m\n\u001b[1;32m      6\u001b[0m \u001b[39mfrom\u001b[39;00m \u001b[39mbase64\u001b[39;00m \u001b[39mimport\u001b[39;00m b64encode\n\u001b[1;32m      7\u001b[0m \u001b[39mfrom\u001b[39;00m \u001b[39murllib\u001b[39;00m\u001b[39m.\u001b[39;00m\u001b[39mrequest\u001b[39;00m \u001b[39mimport\u001b[39;00m parse_http_list\n\u001b[0;32m----> 9\u001b[0m \u001b[39mfrom\u001b[39;00m \u001b[39m.\u001b[39;00m\u001b[39m_exceptions\u001b[39;00m \u001b[39mimport\u001b[39;00m ProtocolError, RequestBodyUnavailable\n\u001b[1;32m     10\u001b[0m \u001b[39mfrom\u001b[39;00m \u001b[39m.\u001b[39;00m\u001b[39m_models\u001b[39;00m \u001b[39mimport\u001b[39;00m Request, Response\n\u001b[1;32m     11\u001b[0m \u001b[39mfrom\u001b[39;00m \u001b[39m.\u001b[39;00m\u001b[39m_utils\u001b[39;00m \u001b[39mimport\u001b[39;00m to_bytes, to_str, unquote\n",
      "File \u001b[0;32m~/anaconda3/envs/data/lib/python3.10/site-packages/httpx/_exceptions.py:43\u001b[0m, in \u001b[0;36m<module>\u001b[0;34m\u001b[0m\n\u001b[1;32m     41\u001b[0m WriteError \u001b[39m=\u001b[39m httpcore\u001b[39m.\u001b[39mWriteError\n\u001b[1;32m     42\u001b[0m ConnectError \u001b[39m=\u001b[39m httpcore\u001b[39m.\u001b[39mConnectError\n\u001b[0;32m---> 43\u001b[0m CloseError \u001b[39m=\u001b[39m httpcore\u001b[39m.\u001b[39;49mCloseError\n\u001b[1;32m     46\u001b[0m \u001b[39m# Other transport exceptions...\u001b[39;00m\n\u001b[1;32m     48\u001b[0m ProxyError \u001b[39m=\u001b[39m httpcore\u001b[39m.\u001b[39mProxyError\n",
      "\u001b[0;31mAttributeError\u001b[0m: module 'httpcore' has no attribute 'CloseError'"
     ]
    }
   ],
   "source": [
    "# importamos las clases y librerias requeridas\n",
    "from pymongo import MongoClient\n",
    "import json"
   ]
  },
  {
   "cell_type": "code",
   "execution_count": null,
   "metadata": {},
   "outputs": [
    {
     "data": {
      "text/plain": [
       "InsertManyResult([ObjectId('655caaca3e26a5e2f5b6bc32'), ObjectId('655caaca3e26a5e2f5b6bc33'), ObjectId('655caaca3e26a5e2f5b6bc34'), ObjectId('655caaca3e26a5e2f5b6bc35'), ObjectId('655caaca3e26a5e2f5b6bc36')], acknowledged=True)"
      ]
     },
     "execution_count": 5,
     "metadata": {},
     "output_type": "execute_result"
    }
   ],
   "source": [
    "# Creamos la coleccion de datos\n",
    "# agregamos el enlace de la BD cambiando la palabra <password> por la contraseña\n",
    "client  = MongoClient('mongodb+srv://ciencia:<password>@cluster0.mazqfmq.mongodb.net/?retryWrites=true&w=majority')\n",
    "\n",
    "# conectamos con la coleccion de datos creada\n",
    "coleccion = client.ciencia.datos\n",
    "\n",
    "# cargamos el arhcivo json\n",
    "with open('notas.json', encoding='utf-8') as archivo:\n",
    "    datosJson = json.load(archivo)\n",
    "\n",
    "# insertamos los datos del archivo a la base de datos\n",
    "coleccion.insert_many(datosJson)"
   ]
  },
  {
   "cell_type": "markdown",
   "metadata": {},
   "source": [
    "- Importamos directamente la clase **.MongoClient()** suprimiendo la palabra **pymongo**\n",
    "\n",
    "- Es importante que los datos en el archivo **notas.json** esten en formato JSON o diccionario.\n",
    "\n",
    "- El metodo **.insert_many()** permite cargar los datos del archivo a la base de datos."
   ]
  },
  {
   "cell_type": "markdown",
   "metadata": {},
   "source": [
    "## Consultas Simples"
   ]
  },
  {
   "cell_type": "markdown",
   "metadata": {},
   "source": [
    "Para realizar consultas, es importante primero que existan datos. Luego de esto se puede mantener la conexion o simplemente inciar una nueva. "
   ]
  },
  {
   "cell_type": "code",
   "execution_count": null,
   "metadata": {},
   "outputs": [],
   "source": [
    "# creamos una nueva conexion mediante el siguiente codigo\n",
    "\n",
    "# Creamos la coleccion de datos\n",
    "# agregamos el enlace de la BD cambiando la palabra <password> por la contraseña\n",
    "client  = MongoClient('mongodb+srv://ciencia:<password>@cluster0.mazqfmq.mongodb.net/?retryWrites=true&w=majority')\n",
    "\n",
    "# conectamos con la coleccion de datos creada\n",
    "coleccion = client.ciencia.datos\n"
   ]
  },
  {
   "cell_type": "code",
   "execution_count": null,
   "metadata": {},
   "outputs": [
    {
     "name": "stdout",
     "output_type": "stream",
     "text": [
      "{'_id': ObjectId('655caaca3e26a5e2f5b6bc32'), 'nombre': 'Francisco Alvarez', 'Física': 3.5, 'Química': 4.7, 'Artes': 3.9}\n",
      "{'_id': ObjectId('655caaca3e26a5e2f5b6bc33'), 'nombre': 'Juan Gonzalez', 'Física': 4.1, 'Química': 3.8, 'Artes': 4.5}\n",
      "{'_id': ObjectId('655caaca3e26a5e2f5b6bc34'), 'nombre': 'Mauricio Castro', 'Física': 3.2, 'Química': 3.4, 'Artes': 4.7}\n",
      "{'_id': ObjectId('655caaca3e26a5e2f5b6bc35'), 'nombre': 'Saray Lozano', 'Física': 4.5, 'Química': 4.3, 'Artes': 4.8}\n",
      "{'_id': ObjectId('655caaca3e26a5e2f5b6bc36'), 'nombre': 'Viviana Cáceres', 'Física': 3.9, 'Química': 4, 'Artes': 3.6}\n"
     ]
    }
   ],
   "source": [
    "# recuperar todos los datos subidos en la BD\n",
    "datos = coleccion.find()\n",
    "\n",
    "# mostrar datos\n",
    "for d in datos:\n",
    "    print(d)"
   ]
  },
  {
   "cell_type": "markdown",
   "metadata": {},
   "source": [
    "- El metodod **.find()** permite traer toda la informacion de la BD en un objeto pymongo y puede ser trabajado como diccionarios. Ahora tenemos los datos en un objeto al cual podremos realizar filtrados."
   ]
  },
  {
   "cell_type": "code",
   "execution_count": null,
   "metadata": {},
   "outputs": [
    {
     "name": "stdout",
     "output_type": "stream",
     "text": [
      "3.5\n",
      "4.1\n",
      "3.2\n",
      "4.5\n",
      "3.9\n"
     ]
    }
   ],
   "source": [
    "# obtener las notas de Fisica de todos los alumnos\n",
    "\n",
    "# recuperar todos los datos subidos en la BD\n",
    "datos = coleccion.find()\n",
    "\n",
    "# imprimir datos\n",
    "for d in datos:\n",
    "    print(d['Física'])"
   ]
  },
  {
   "cell_type": "markdown",
   "metadata": {},
   "source": [
    "## Conclusiones"
   ]
  },
  {
   "cell_type": "markdown",
   "metadata": {},
   "source": [
    "Python ha simplificado en gran medida el acceso a las bases de datos y en este caso,a una base de datos NoSQL. Recuerde que la \n",
    "mejor manera es trabajar con los datos tipo diccionario o JSON para tener compatibilidad con la base de datos MongoDB. Métodos\n",
    "como **.insert_many()** o **.find()** de la biblioteca pymongo facilitan al programador la mayoría de tareas relacionadas con bases de datos. De esta manera, al recuperar los datos, podrá trabajarlos con índices de clave como sucede con los diccionarios para realizar las consultas que se requieran."
   ]
  },
  {
   "cell_type": "markdown",
   "metadata": {},
   "source": [
    "## Lecturas Recomendadas"
   ]
  },
  {
   "cell_type": "markdown",
   "metadata": {},
   "source": [
    "- [Que es MongoDB](https://www.mongodb.com/es/what-is-mongodb)\n",
    "\n",
    "- [Bienvenidos a MongoDB](https://www.mongodb.com/docs/#welcome-to-the-mongodb-documentation)"
   ]
  }
 ],
 "metadata": {
  "kernelspec": {
   "display_name": "Python 3 (ipykernel)",
   "language": "python",
   "name": "python3"
  },
  "language_info": {
   "codemirror_mode": {
    "name": "ipython",
    "version": 3
   },
   "file_extension": ".py",
   "mimetype": "text/x-python",
   "name": "python",
   "nbconvert_exporter": "python",
   "pygments_lexer": "ipython3",
   "version": "3.10.8"
  }
 },
 "nbformat": 4,
 "nbformat_minor": 2
}
