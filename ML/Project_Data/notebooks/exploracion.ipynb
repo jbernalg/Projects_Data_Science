{
 "cells": [
  {
   "cell_type": "markdown",
   "id": "e57189f5",
   "metadata": {},
   "source": [
    "# __Explorar datos preprocesados__"
   ]
  },
  {
   "cell_type": "code",
   "execution_count": 1,
   "id": "9280847b",
   "metadata": {},
   "outputs": [],
   "source": [
    "# visualizacion de informacion\n",
    "%matplotlib inline\n",
    "import pandas as pd"
   ]
  },
  {
   "cell_type": "code",
   "execution_count": 2,
   "id": "bd8dd668",
   "metadata": {},
   "outputs": [
    {
     "data": {
      "text/html": [
       "<div>\n",
       "<style scoped>\n",
       "    .dataframe tbody tr th:only-of-type {\n",
       "        vertical-align: middle;\n",
       "    }\n",
       "\n",
       "    .dataframe tbody tr th {\n",
       "        vertical-align: top;\n",
       "    }\n",
       "\n",
       "    .dataframe thead th {\n",
       "        text-align: right;\n",
       "    }\n",
       "</style>\n",
       "<table border=\"1\" class=\"dataframe\">\n",
       "  <thead>\n",
       "    <tr style=\"text-align: right;\">\n",
       "      <th></th>\n",
       "      <th>NUM BEN</th>\n",
       "      <th>BENEFICIARIO</th>\n",
       "      <th>RFC</th>\n",
       "      <th>FACTURA</th>\n",
       "      <th>CONTRATO</th>\n",
       "      <th>CONCEPTO</th>\n",
       "      <th>TIPO</th>\n",
       "      <th># OP</th>\n",
       "      <th>FECHA</th>\n",
       "      <th>IMPORTE</th>\n",
       "      <th>SHEET</th>\n",
       "    </tr>\n",
       "  </thead>\n",
       "  <tbody>\n",
       "    <tr>\n",
       "      <th>0</th>\n",
       "      <td>110152</td>\n",
       "      <td>LLANTAS Y SERVICIOS SERNA ANAHUAC,S.A. DE C.V.</td>\n",
       "      <td>LSS841015DV3</td>\n",
       "      <td>LLS AF8458-158008-3972</td>\n",
       "      <td>OT. 20204373</td>\n",
       "      <td>REEMPLAZO E INSTALACION DE AMORTIGUADORES (DEL...</td>\n",
       "      <td>TR</td>\n",
       "      <td>1019110.0</td>\n",
       "      <td>2020-12-11</td>\n",
       "      <td>14911.80</td>\n",
       "      <td>GASTOS VARIOS</td>\n",
       "    </tr>\n",
       "    <tr>\n",
       "      <th>1</th>\n",
       "      <td>110152</td>\n",
       "      <td>LLANTAS Y SERVICIOS SERNA ANAHUAC,S.A. DE C.V.</td>\n",
       "      <td>LSS841015DV3</td>\n",
       "      <td>LLS PF6916-158008-4041</td>\n",
       "      <td>OT. 20204425</td>\n",
       "      <td>REEMPLAZO E INSTALACION DE OCHO BIRLOS Y NUEVE...</td>\n",
       "      <td>TR</td>\n",
       "      <td>1019110.0</td>\n",
       "      <td>2020-12-11</td>\n",
       "      <td>2528.80</td>\n",
       "      <td>GASTOS VARIOS</td>\n",
       "    </tr>\n",
       "    <tr>\n",
       "      <th>2</th>\n",
       "      <td>110152</td>\n",
       "      <td>LLANTAS Y SERVICIOS SERNA ANAHUAC,S.A. DE C.V.</td>\n",
       "      <td>LSS841015DV3</td>\n",
       "      <td>LLS PF6917-158008-3975</td>\n",
       "      <td>OT. 20204376</td>\n",
       "      <td>REEMPLAZO DE DOS RINES  (17). PATRIMONIO 80383...</td>\n",
       "      <td>TR</td>\n",
       "      <td>1019110.0</td>\n",
       "      <td>2020-12-11</td>\n",
       "      <td>8500.02</td>\n",
       "      <td>GASTOS VARIOS</td>\n",
       "    </tr>\n",
       "    <tr>\n",
       "      <th>3</th>\n",
       "      <td>110152</td>\n",
       "      <td>LLANTAS Y SERVICIOS SERNA ANAHUAC,S.A. DE C.V.</td>\n",
       "      <td>LSS841015DV3</td>\n",
       "      <td>LLS PF7004-158008-3971</td>\n",
       "      <td>OT. 20204374</td>\n",
       "      <td>REEMPLAZO DE  DOS RINES  (14). PATRIMONIO 8007...</td>\n",
       "      <td>TR</td>\n",
       "      <td>1019110.0</td>\n",
       "      <td>2020-12-11</td>\n",
       "      <td>2400.01</td>\n",
       "      <td>GASTOS VARIOS</td>\n",
       "    </tr>\n",
       "    <tr>\n",
       "      <th>4</th>\n",
       "      <td>110152</td>\n",
       "      <td>LLANTAS Y SERVICIOS SERNA ANAHUAC,S.A. DE C.V.</td>\n",
       "      <td>LSS841015DV3</td>\n",
       "      <td>LLS PF7137-158008-4554</td>\n",
       "      <td>OT. 20205130</td>\n",
       "      <td>REEMPLAZO E INSTALACION DE RIN 14. PATRIMONIO ...</td>\n",
       "      <td>TR</td>\n",
       "      <td>299001496.0</td>\n",
       "      <td>2020-12-23</td>\n",
       "      <td>1537.00</td>\n",
       "      <td>GASTOS VARIOS</td>\n",
       "    </tr>\n",
       "  </tbody>\n",
       "</table>\n",
       "</div>"
      ],
      "text/plain": [
       "   NUM BEN                                    BENEFICIARIO           RFC  \\\n",
       "0   110152  LLANTAS Y SERVICIOS SERNA ANAHUAC,S.A. DE C.V.  LSS841015DV3   \n",
       "1   110152  LLANTAS Y SERVICIOS SERNA ANAHUAC,S.A. DE C.V.  LSS841015DV3   \n",
       "2   110152  LLANTAS Y SERVICIOS SERNA ANAHUAC,S.A. DE C.V.  LSS841015DV3   \n",
       "3   110152  LLANTAS Y SERVICIOS SERNA ANAHUAC,S.A. DE C.V.  LSS841015DV3   \n",
       "4   110152  LLANTAS Y SERVICIOS SERNA ANAHUAC,S.A. DE C.V.  LSS841015DV3   \n",
       "\n",
       "                  FACTURA      CONTRATO  \\\n",
       "0  LLS AF8458-158008-3972  OT. 20204373   \n",
       "1  LLS PF6916-158008-4041  OT. 20204425   \n",
       "2  LLS PF6917-158008-3975  OT. 20204376   \n",
       "3  LLS PF7004-158008-3971  OT. 20204374   \n",
       "4  LLS PF7137-158008-4554  OT. 20205130   \n",
       "\n",
       "                                            CONCEPTO TIPO         # OP  \\\n",
       "0  REEMPLAZO E INSTALACION DE AMORTIGUADORES (DEL...   TR    1019110.0   \n",
       "1  REEMPLAZO E INSTALACION DE OCHO BIRLOS Y NUEVE...   TR    1019110.0   \n",
       "2  REEMPLAZO DE DOS RINES  (17). PATRIMONIO 80383...   TR    1019110.0   \n",
       "3  REEMPLAZO DE  DOS RINES  (14). PATRIMONIO 8007...   TR    1019110.0   \n",
       "4  REEMPLAZO E INSTALACION DE RIN 14. PATRIMONIO ...   TR  299001496.0   \n",
       "\n",
       "        FECHA   IMPORTE          SHEET  \n",
       "0  2020-12-11  14911.80  GASTOS VARIOS  \n",
       "1  2020-12-11   2528.80  GASTOS VARIOS  \n",
       "2  2020-12-11   8500.02  GASTOS VARIOS  \n",
       "3  2020-12-11   2400.01  GASTOS VARIOS  \n",
       "4  2020-12-23   1537.00  GASTOS VARIOS  "
      ]
     },
     "execution_count": 2,
     "metadata": {},
     "output_type": "execute_result"
    }
   ],
   "source": [
    "# cargar datos preprocesados\n",
    "compras_df = pd.read_csv('../data_out/clean_compras.csv')\n",
    "compras_df.head()"
   ]
  },
  {
   "cell_type": "markdown",
   "id": "45c2b526",
   "metadata": {},
   "source": [
    "## Visualizacion general del dataset"
   ]
  },
  {
   "cell_type": "code",
   "execution_count": 3,
   "id": "10b4e66c",
   "metadata": {},
   "outputs": [
    {
     "data": {
      "text/plain": [
       "Index(['NUM BEN', 'BENEFICIARIO', 'RFC', 'FACTURA', 'CONTRATO', 'CONCEPTO',\n",
       "       'TIPO', '# OP', 'FECHA', 'IMPORTE', 'SHEET'],\n",
       "      dtype='object')"
      ]
     },
     "execution_count": 3,
     "metadata": {},
     "output_type": "execute_result"
    }
   ],
   "source": [
    "# lista de nombre de las columnas\n",
    "compras_df.columns"
   ]
  },
  {
   "cell_type": "code",
   "execution_count": 4,
   "id": "89b214dd",
   "metadata": {},
   "outputs": [
    {
     "data": {
      "text/plain": [
       "NUM BEN           int64\n",
       "BENEFICIARIO     object\n",
       "RFC              object\n",
       "FACTURA          object\n",
       "CONTRATO         object\n",
       "CONCEPTO         object\n",
       "TIPO             object\n",
       "# OP            float64\n",
       "FECHA            object\n",
       "IMPORTE         float64\n",
       "SHEET            object\n",
       "dtype: object"
      ]
     },
     "execution_count": 4,
     "metadata": {},
     "output_type": "execute_result"
    }
   ],
   "source": [
    "# comprobar el tipo de dato de las variables\n",
    "compras_df.dtypes"
   ]
  },
  {
   "cell_type": "code",
   "execution_count": 5,
   "id": "b9fb4f90",
   "metadata": {},
   "outputs": [
    {
     "data": {
      "text/html": [
       "<div>\n",
       "<style scoped>\n",
       "    .dataframe tbody tr th:only-of-type {\n",
       "        vertical-align: middle;\n",
       "    }\n",
       "\n",
       "    .dataframe tbody tr th {\n",
       "        vertical-align: top;\n",
       "    }\n",
       "\n",
       "    .dataframe thead th {\n",
       "        text-align: right;\n",
       "    }\n",
       "</style>\n",
       "<table border=\"1\" class=\"dataframe\">\n",
       "  <thead>\n",
       "    <tr style=\"text-align: right;\">\n",
       "      <th></th>\n",
       "      <th>NUM BEN</th>\n",
       "      <th># OP</th>\n",
       "      <th>IMPORTE</th>\n",
       "    </tr>\n",
       "  </thead>\n",
       "  <tbody>\n",
       "    <tr>\n",
       "      <th>count</th>\n",
       "      <td>1540.000000</td>\n",
       "      <td>1.540000e+03</td>\n",
       "      <td>1.540000e+03</td>\n",
       "    </tr>\n",
       "    <tr>\n",
       "      <th>mean</th>\n",
       "      <td>203914.777273</td>\n",
       "      <td>1.920050e+08</td>\n",
       "      <td>6.263179e+05</td>\n",
       "    </tr>\n",
       "    <tr>\n",
       "      <th>std</th>\n",
       "      <td>92435.932025</td>\n",
       "      <td>1.411189e+08</td>\n",
       "      <td>4.666912e+06</td>\n",
       "    </tr>\n",
       "    <tr>\n",
       "      <th>min</th>\n",
       "      <td>110152.000000</td>\n",
       "      <td>1.019042e+06</td>\n",
       "      <td>8.600000e-01</td>\n",
       "    </tr>\n",
       "    <tr>\n",
       "      <th>25%</th>\n",
       "      <td>116223.000000</td>\n",
       "      <td>1.019144e+06</td>\n",
       "      <td>2.987000e+03</td>\n",
       "    </tr>\n",
       "    <tr>\n",
       "      <th>50%</th>\n",
       "      <td>203013.000000</td>\n",
       "      <td>2.980000e+08</td>\n",
       "      <td>1.235584e+04</td>\n",
       "    </tr>\n",
       "    <tr>\n",
       "      <th>75%</th>\n",
       "      <td>311250.000000</td>\n",
       "      <td>3.000001e+08</td>\n",
       "      <td>1.130583e+05</td>\n",
       "    </tr>\n",
       "    <tr>\n",
       "      <th>max</th>\n",
       "      <td>370012.000000</td>\n",
       "      <td>6.040001e+08</td>\n",
       "      <td>1.267303e+08</td>\n",
       "    </tr>\n",
       "  </tbody>\n",
       "</table>\n",
       "</div>"
      ],
      "text/plain": [
       "             NUM BEN          # OP       IMPORTE\n",
       "count    1540.000000  1.540000e+03  1.540000e+03\n",
       "mean   203914.777273  1.920050e+08  6.263179e+05\n",
       "std     92435.932025  1.411189e+08  4.666912e+06\n",
       "min    110152.000000  1.019042e+06  8.600000e-01\n",
       "25%    116223.000000  1.019144e+06  2.987000e+03\n",
       "50%    203013.000000  2.980000e+08  1.235584e+04\n",
       "75%    311250.000000  3.000001e+08  1.130583e+05\n",
       "max    370012.000000  6.040001e+08  1.267303e+08"
      ]
     },
     "execution_count": 5,
     "metadata": {},
     "output_type": "execute_result"
    }
   ],
   "source": [
    "# resumen estadistico de las variables numericas\n",
    "compras_df.describe()"
   ]
  },
  {
   "cell_type": "code",
   "execution_count": 6,
   "id": "b1c4f0d7",
   "metadata": {},
   "outputs": [
    {
     "data": {
      "text/html": [
       "<div>\n",
       "<style scoped>\n",
       "    .dataframe tbody tr th:only-of-type {\n",
       "        vertical-align: middle;\n",
       "    }\n",
       "\n",
       "    .dataframe tbody tr th {\n",
       "        vertical-align: top;\n",
       "    }\n",
       "\n",
       "    .dataframe thead th {\n",
       "        text-align: right;\n",
       "    }\n",
       "</style>\n",
       "<table border=\"1\" class=\"dataframe\">\n",
       "  <thead>\n",
       "    <tr style=\"text-align: right;\">\n",
       "      <th></th>\n",
       "      <th>BENEFICIARIO</th>\n",
       "      <th>RFC</th>\n",
       "      <th>FACTURA</th>\n",
       "      <th>CONTRATO</th>\n",
       "      <th>CONCEPTO</th>\n",
       "      <th>TIPO</th>\n",
       "      <th>FECHA</th>\n",
       "      <th>SHEET</th>\n",
       "    </tr>\n",
       "  </thead>\n",
       "  <tbody>\n",
       "    <tr>\n",
       "      <th>count</th>\n",
       "      <td>1540</td>\n",
       "      <td>1540</td>\n",
       "      <td>1540</td>\n",
       "      <td>1540</td>\n",
       "      <td>1540</td>\n",
       "      <td>1540</td>\n",
       "      <td>1540</td>\n",
       "      <td>1540</td>\n",
       "    </tr>\n",
       "    <tr>\n",
       "      <th>unique</th>\n",
       "      <td>301</td>\n",
       "      <td>301</td>\n",
       "      <td>1540</td>\n",
       "      <td>656</td>\n",
       "      <td>1396</td>\n",
       "      <td>2</td>\n",
       "      <td>21</td>\n",
       "      <td>5</td>\n",
       "    </tr>\n",
       "    <tr>\n",
       "      <th>top</th>\n",
       "      <td>CAMARA MEXICANA DE LA INDUSTRIA DE LA CONSTRUC...</td>\n",
       "      <td>CMI970416U95</td>\n",
       "      <td>LLS AF8458-158008-3972</td>\n",
       "      <td>NO APLICA</td>\n",
       "      <td>SERVICIOS FUNERARIOS ASISTENCIA SOCIAL DIF</td>\n",
       "      <td>TR</td>\n",
       "      <td>2020-12-04</td>\n",
       "      <td>CONTRATISTAS Y FDO FED</td>\n",
       "    </tr>\n",
       "    <tr>\n",
       "      <th>freq</th>\n",
       "      <td>266</td>\n",
       "      <td>266</td>\n",
       "      <td>1</td>\n",
       "      <td>238</td>\n",
       "      <td>27</td>\n",
       "      <td>1395</td>\n",
       "      <td>521</td>\n",
       "      <td>724</td>\n",
       "    </tr>\n",
       "  </tbody>\n",
       "</table>\n",
       "</div>"
      ],
      "text/plain": [
       "                                             BENEFICIARIO           RFC  \\\n",
       "count                                                1540          1540   \n",
       "unique                                                301           301   \n",
       "top     CAMARA MEXICANA DE LA INDUSTRIA DE LA CONSTRUC...  CMI970416U95   \n",
       "freq                                                  266           266   \n",
       "\n",
       "                       FACTURA   CONTRATO  \\\n",
       "count                     1540       1540   \n",
       "unique                    1540        656   \n",
       "top     LLS AF8458-158008-3972  NO APLICA   \n",
       "freq                         1        238   \n",
       "\n",
       "                                          CONCEPTO  TIPO       FECHA  \\\n",
       "count                                         1540  1540        1540   \n",
       "unique                                        1396     2          21   \n",
       "top     SERVICIOS FUNERARIOS ASISTENCIA SOCIAL DIF    TR  2020-12-04   \n",
       "freq                                            27  1395         521   \n",
       "\n",
       "                         SHEET  \n",
       "count                     1540  \n",
       "unique                       5  \n",
       "top     CONTRATISTAS Y FDO FED  \n",
       "freq                       724  "
      ]
     },
     "execution_count": 6,
     "metadata": {},
     "output_type": "execute_result"
    }
   ],
   "source": [
    "# resumen estadistico de las variables categoricas\n",
    "compras_df.describe(include='object')"
   ]
  },
  {
   "cell_type": "code",
   "execution_count": 7,
   "id": "c62966b1",
   "metadata": {},
   "outputs": [],
   "source": [
    "# seleccionar variables con las que vamos a trabajar\n",
    "compras_df = compras_df[['BENEFICIARIO', 'FACTURA', 'CONTRATO', 'CONCEPTO', 'TIPO', '# OP', 'FECHA', 'IMPORTE', 'SHEET']]"
   ]
  },
  {
   "cell_type": "markdown",
   "id": "de238ae6",
   "metadata": {},
   "source": [
    "## Analisis unidimensional de las variables"
   ]
  },
  {
   "cell_type": "code",
   "execution_count": 8,
   "id": "17641ee5",
   "metadata": {},
   "outputs": [
    {
     "data": {
      "text/plain": [
       "CONTRATISTAS Y FDO FED    724\n",
       "GASTOS VARIOS             690\n",
       "COMUNICACION               71\n",
       "SERV. PERS.                46\n",
       "SERV PPROF                  9\n",
       "Name: SHEET, dtype: int64"
      ]
     },
     "execution_count": 8,
     "metadata": {},
     "output_type": "execute_result"
    }
   ],
   "source": [
    "# conteo de los valores de SHEET\n",
    "compras_df['SHEET'].value_counts()"
   ]
  },
  {
   "cell_type": "code",
   "execution_count": 9,
   "id": "e143dec9",
   "metadata": {},
   "outputs": [
    {
     "data": {
      "text/plain": [
       "1396"
      ]
     },
     "execution_count": 9,
     "metadata": {},
     "output_type": "execute_result"
    }
   ],
   "source": [
    "# valores unicos de la variable CONCEPTO\n",
    "len(compras_df['CONCEPTO'].unique())"
   ]
  },
  {
   "cell_type": "code",
   "execution_count": 10,
   "id": "912b26de",
   "metadata": {},
   "outputs": [
    {
     "data": {
      "text/plain": [
       "CAMARA MEXICANA DE LA INDUSTRIA DE LA CONSTRUCCION    266\n",
       "AUTOKAM REGIOMONTANA,S.A.DE C.V.                      101\n",
       "CAR ONE MONTERREY, S.A. DE C.V.                        78\n",
       "PEREZ RIOS RAMIRO                                      58\n",
       "S.I.M.E.P.R.O.D.E.                                     50\n",
       "INTERASFALTOS, S.A. DE C.V.                            45\n",
       "GRUPO COYOTE MONTERREY, S.A. DE C.V.                   43\n",
       "SERVICIO TECNICO CHURUBUSCO, S.A. DE C.V.              30\n",
       "CFE SUMINISTRADOR DE SERVICIOS BASICOS                 29\n",
       "CORDERO MACIAS SILVESTRE GUADALUPE                     27\n",
       "Name: BENEFICIARIO, dtype: int64"
      ]
     },
     "execution_count": 10,
     "metadata": {},
     "output_type": "execute_result"
    }
   ],
   "source": [
    "# primero 10 valores de la variable BENEFICIARIO\n",
    "compras_df['BENEFICIARIO'].value_counts()[0:10]"
   ]
  },
  {
   "cell_type": "code",
   "execution_count": 11,
   "id": "ca21e1a1",
   "metadata": {},
   "outputs": [
    {
     "data": {
      "text/plain": [
       "<AxesSubplot:>"
      ]
     },
     "execution_count": 11,
     "metadata": {},
     "output_type": "execute_result"
    },
    {
     "data": {
      "image/png": "[encoded data removed]",
      "text/plain": [
       "<Figure size 432x288 with 1 Axes>"
      ]
     },
     "metadata": {
      "needs_background": "light"
     },
     "output_type": "display_data"
    }
   ],
   "source": [
    "# comportamiento del IMPORTE\n",
    "compras_df['IMPORTE'].hist()"
   ]
  },
  {
   "cell_type": "code",
   "execution_count": 12,
   "id": "2974d790",
   "metadata": {},
   "outputs": [
    {
     "data": {
      "text/plain": [
       "<AxesSubplot:>"
      ]
     },
     "execution_count": 12,
     "metadata": {},
     "output_type": "execute_result"
    },
    {
     "data": {
      "image/png": "[encoded data removed]",
      "text/plain": [
       "<Figure size 432x288 with 1 Axes>"
      ]
     },
     "metadata": {
      "needs_background": "light"
     },
     "output_type": "display_data"
    }
   ],
   "source": [
    "# obtener solo los valores centrales de IMPORTE\n",
    "compras_df[compras_df['IMPORTE'] < compras_df['IMPORTE'].quantile(0.95)]['IMPORTE'].hist()"
   ]
  },
  {
   "cell_type": "code",
   "execution_count": 13,
   "id": "d3b441f4",
   "metadata": {},
   "outputs": [
    {
     "data": {
      "text/plain": [
       "<AxesSubplot:>"
      ]
     },
     "execution_count": 13,
     "metadata": {},
     "output_type": "execute_result"
    },
    {
     "data": {
      "image/png": "[encoded data removed]",
      "text/plain": [
       "<Figure size 432x288 with 1 Axes>"
      ]
     },
     "metadata": {
      "needs_background": "light"
     },
     "output_type": "display_data"
    }
   ],
   "source": [
    "# obtener solo los valores centrales de IMPORTE\n",
    "compras_df[compras_df['IMPORTE'] < compras_df['IMPORTE'].quantile(0.95)]['IMPORTE'].hist(bins=50)"
   ]
  },
  {
   "cell_type": "code",
   "execution_count": 14,
   "id": "0ed21982",
   "metadata": {},
   "outputs": [
    {
     "data": {
      "text/html": [
       "<div>\n",
       "<style scoped>\n",
       "    .dataframe tbody tr th:only-of-type {\n",
       "        vertical-align: middle;\n",
       "    }\n",
       "\n",
       "    .dataframe tbody tr th {\n",
       "        vertical-align: top;\n",
       "    }\n",
       "\n",
       "    .dataframe thead th {\n",
       "        text-align: right;\n",
       "    }\n",
       "</style>\n",
       "<table border=\"1\" class=\"dataframe\">\n",
       "  <thead>\n",
       "    <tr style=\"text-align: right;\">\n",
       "      <th></th>\n",
       "      <th>BENEFICIARIO</th>\n",
       "      <th>FACTURA</th>\n",
       "      <th>CONTRATO</th>\n",
       "      <th>CONCEPTO</th>\n",
       "      <th>TIPO</th>\n",
       "      <th># OP</th>\n",
       "      <th>FECHA</th>\n",
       "      <th>IMPORTE</th>\n",
       "      <th>SHEET</th>\n",
       "    </tr>\n",
       "  </thead>\n",
       "  <tbody>\n",
       "    <tr>\n",
       "      <th>0</th>\n",
       "      <td>LLANTAS Y SERVICIOS SERNA ANAHUAC,S.A. DE C.V.</td>\n",
       "      <td>LLS AF8458-158008-3972</td>\n",
       "      <td>OT. 20204373</td>\n",
       "      <td>REEMPLAZO E INSTALACION DE AMORTIGUADORES (DEL...</td>\n",
       "      <td>TR</td>\n",
       "      <td>1019110.0</td>\n",
       "      <td>2020-12-11</td>\n",
       "      <td>14911.80</td>\n",
       "      <td>GASTOS VARIOS</td>\n",
       "    </tr>\n",
       "    <tr>\n",
       "      <th>1</th>\n",
       "      <td>LLANTAS Y SERVICIOS SERNA ANAHUAC,S.A. DE C.V.</td>\n",
       "      <td>LLS PF6916-158008-4041</td>\n",
       "      <td>OT. 20204425</td>\n",
       "      <td>REEMPLAZO E INSTALACION DE OCHO BIRLOS Y NUEVE...</td>\n",
       "      <td>TR</td>\n",
       "      <td>1019110.0</td>\n",
       "      <td>2020-12-11</td>\n",
       "      <td>2528.80</td>\n",
       "      <td>GASTOS VARIOS</td>\n",
       "    </tr>\n",
       "    <tr>\n",
       "      <th>2</th>\n",
       "      <td>LLANTAS Y SERVICIOS SERNA ANAHUAC,S.A. DE C.V.</td>\n",
       "      <td>LLS PF6917-158008-3975</td>\n",
       "      <td>OT. 20204376</td>\n",
       "      <td>REEMPLAZO DE DOS RINES  (17). PATRIMONIO 80383...</td>\n",
       "      <td>TR</td>\n",
       "      <td>1019110.0</td>\n",
       "      <td>2020-12-11</td>\n",
       "      <td>8500.02</td>\n",
       "      <td>GASTOS VARIOS</td>\n",
       "    </tr>\n",
       "    <tr>\n",
       "      <th>3</th>\n",
       "      <td>LLANTAS Y SERVICIOS SERNA ANAHUAC,S.A. DE C.V.</td>\n",
       "      <td>LLS PF7004-158008-3971</td>\n",
       "      <td>OT. 20204374</td>\n",
       "      <td>REEMPLAZO DE  DOS RINES  (14). PATRIMONIO 8007...</td>\n",
       "      <td>TR</td>\n",
       "      <td>1019110.0</td>\n",
       "      <td>2020-12-11</td>\n",
       "      <td>2400.01</td>\n",
       "      <td>GASTOS VARIOS</td>\n",
       "    </tr>\n",
       "    <tr>\n",
       "      <th>4</th>\n",
       "      <td>LLANTAS Y SERVICIOS SERNA ANAHUAC,S.A. DE C.V.</td>\n",
       "      <td>LLS PF7137-158008-4554</td>\n",
       "      <td>OT. 20205130</td>\n",
       "      <td>REEMPLAZO E INSTALACION DE RIN 14. PATRIMONIO ...</td>\n",
       "      <td>TR</td>\n",
       "      <td>299001496.0</td>\n",
       "      <td>2020-12-23</td>\n",
       "      <td>1537.00</td>\n",
       "      <td>GASTOS VARIOS</td>\n",
       "    </tr>\n",
       "  </tbody>\n",
       "</table>\n",
       "</div>"
      ],
      "text/plain": [
       "                                     BENEFICIARIO                 FACTURA  \\\n",
       "0  LLANTAS Y SERVICIOS SERNA ANAHUAC,S.A. DE C.V.  LLS AF8458-158008-3972   \n",
       "1  LLANTAS Y SERVICIOS SERNA ANAHUAC,S.A. DE C.V.  LLS PF6916-158008-4041   \n",
       "2  LLANTAS Y SERVICIOS SERNA ANAHUAC,S.A. DE C.V.  LLS PF6917-158008-3975   \n",
       "3  LLANTAS Y SERVICIOS SERNA ANAHUAC,S.A. DE C.V.  LLS PF7004-158008-3971   \n",
       "4  LLANTAS Y SERVICIOS SERNA ANAHUAC,S.A. DE C.V.  LLS PF7137-158008-4554   \n",
       "\n",
       "       CONTRATO                                           CONCEPTO TIPO  \\\n",
       "0  OT. 20204373  REEMPLAZO E INSTALACION DE AMORTIGUADORES (DEL...   TR   \n",
       "1  OT. 20204425  REEMPLAZO E INSTALACION DE OCHO BIRLOS Y NUEVE...   TR   \n",
       "2  OT. 20204376  REEMPLAZO DE DOS RINES  (17). PATRIMONIO 80383...   TR   \n",
       "3  OT. 20204374  REEMPLAZO DE  DOS RINES  (14). PATRIMONIO 8007...   TR   \n",
       "4  OT. 20205130  REEMPLAZO E INSTALACION DE RIN 14. PATRIMONIO ...   TR   \n",
       "\n",
       "          # OP       FECHA   IMPORTE          SHEET  \n",
       "0    1019110.0  2020-12-11  14911.80  GASTOS VARIOS  \n",
       "1    1019110.0  2020-12-11   2528.80  GASTOS VARIOS  \n",
       "2    1019110.0  2020-12-11   8500.02  GASTOS VARIOS  \n",
       "3    1019110.0  2020-12-11   2400.01  GASTOS VARIOS  \n",
       "4  299001496.0  2020-12-23   1537.00  GASTOS VARIOS  "
      ]
     },
     "execution_count": 14,
     "metadata": {},
     "output_type": "execute_result"
    }
   ],
   "source": [
    "# obtener los primeros registros filtrados\n",
    "compras_df[compras_df['IMPORTE'] < compras_df['IMPORTE'].quantile(0.95)].head()"
   ]
  },
  {
   "cell_type": "markdown",
   "id": "b612c112",
   "metadata": {},
   "source": [
    "## Analisis multidimensional de las variables"
   ]
  },
  {
   "cell_type": "code",
   "execution_count": 15,
   "id": "fea30e2d",
   "metadata": {},
   "outputs": [
    {
     "data": {
      "text/plain": [
       "BENEFICIARIO\n",
       "235 PROYECTOS, S.A. DE C.V.                   1649292.36\n",
       "ABC Y CONSTRUCCIONES, SA. DE CV.              1311087.90\n",
       "ACEROS Y OVEROLLINGS DE MEXICO, SA. DE CV.       5914.30\n",
       "ADQUISICIONES INTELIGENTES, S.A. DE C.V.      2132196.00\n",
       "ALIANZA AUTOMOTRIZ RIVERO, SA. DE CV.          450859.52\n",
       "                                                 ...    \n",
       "VILLARREAL CARDENAS JUAN IGNACIO                 3733.13\n",
       "VILLARREAL CARDENAS NANCY ESTHER                81461.14\n",
       "VILLARREAL DE LEON BERTHA                       11004.05\n",
       "VIVERO EL ESCORIAL, S.A. DE C.V.              2511255.46\n",
       "ZAPATA CHAVIRA HOMERO ARTURO                    28350.00\n",
       "Name: IMPORTE, Length: 301, dtype: float64"
      ]
     },
     "execution_count": 15,
     "metadata": {},
     "output_type": "execute_result"
    }
   ],
   "source": [
    "# proveedores o beneficiarios con pagos mas grandes\n",
    "sum_importe_beneficiario = compras_df.groupby('BENEFICIARIO').sum()['IMPORTE']\n",
    "sum_importe_beneficiario"
   ]
  },
  {
   "cell_type": "code",
   "execution_count": 17,
   "id": "0276c253",
   "metadata": {},
   "outputs": [
    {
     "data": {
      "text/plain": [
       "<AxesSubplot:ylabel='BENEFICIARIO'>"
      ]
     },
     "execution_count": 17,
     "metadata": {},
     "output_type": "execute_result"
    },
    {
     "data": {
      "image/png": "[encoded data removed]",
      "text/plain": [
       "<Figure size 432x288 with 1 Axes>"
      ]
     },
     "metadata": {
      "needs_background": "light"
     },
     "output_type": "display_data"
    }
   ],
   "source": [
    "sum_importe_beneficiario.reset_index().sort_values(by='IMPORTE', ascending=False).iloc[0:10].plot(\n",
    "        kind='barh', \n",
    "        x='BENEFICIARIO', \n",
    "        y='IMPORTE'\n",
    "        )"
   ]
  },
  {
   "cell_type": "code",
   "execution_count": 18,
   "id": "497ad090",
   "metadata": {},
   "outputs": [
    {
     "data": {
      "text/plain": [
       "SHEET\n",
       "COMUNICACION              109705.343662\n",
       "CONTRATISTAS Y FDO FED    474566.765787\n",
       "GASTOS VARIOS             881659.731797\n",
       "SERV PPROF                229592.166667\n",
       "SERV. PERS.                59623.405217\n",
       "Name: IMPORTE, dtype: float64"
      ]
     },
     "execution_count": 18,
     "metadata": {},
     "output_type": "execute_result"
    }
   ],
   "source": [
    "# gasto promedio por hoja\n",
    "mean_importe_sheet = compras_df.groupby('SHEET').mean()['IMPORTE']\n",
    "mean_importe_sheet"
   ]
  },
  {
   "cell_type": "code",
   "execution_count": 21,
   "id": "bdcfc44b",
   "metadata": {},
   "outputs": [
    {
     "data": {
      "text/plain": [
       "<AxesSubplot:ylabel='SHEET'>"
      ]
     },
     "execution_count": 21,
     "metadata": {},
     "output_type": "execute_result"
    },
    {
     "data": {
      "image/png": "[encoded data removed]",
      "text/plain": [
       "<Figure size 432x288 with 1 Axes>"
      ]
     },
     "metadata": {
      "needs_background": "light"
     },
     "output_type": "display_data"
    }
   ],
   "source": [
    "mean_importe_sheet.reset_index().sort_values(by='IMPORTE', ascending=False).plot(\n",
    "    kind='barh',\n",
    "    x='SHEET',\n",
    "    y='IMPORTE'\n",
    ")"
   ]
  },
  {
   "cell_type": "markdown",
   "id": "d0bb4c58",
   "metadata": {},
   "source": [
    "## Analisis de texto"
   ]
  }
 ],
 "metadata": {
  "kernelspec": {
   "display_name": "data",
   "language": "python",
   "name": "python3"
  },
  "language_info": {
   "codemirror_mode": {
    "name": "ipython",
    "version": 3
   },
   "file_extension": ".py",
   "mimetype": "text/x-python",
   "name": "python",
   "nbconvert_exporter": "python",
   "pygments_lexer": "ipython3",
   "version": "3.10.8"
  }
 },
 "nbformat": 4,
 "nbformat_minor": 5
}
