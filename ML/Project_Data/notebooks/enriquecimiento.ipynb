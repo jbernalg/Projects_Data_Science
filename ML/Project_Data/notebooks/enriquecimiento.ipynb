{
 "cells": [
  {
   "cell_type": "markdown",
   "id": "c92abcb0",
   "metadata": {},
   "source": [
    "# __Enriquecimiento de la data__"
   ]
  }
 ],
 "metadata": {
  "language_info": {
   "name": "python"
  }
 },
 "nbformat": 4,
 "nbformat_minor": 5
}
