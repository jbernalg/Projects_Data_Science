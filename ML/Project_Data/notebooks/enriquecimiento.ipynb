{
 "cells": [
  {
   "cell_type": "markdown",
   "id": "c92abcb0",
   "metadata": {},
   "source": [
    "# __Enriquecimiento de la data__"
   ]
  },
  {
   "cell_type": "markdown",
   "id": "6d5011f9",
   "metadata": {},
   "source": [
    "## Librerias"
   ]
  },
  {
   "cell_type": "code",
   "execution_count": 1,
   "id": "85e1bc40",
   "metadata": {},
   "outputs": [],
   "source": [
    "%matplotlib inline\n",
    "import pandas as pd"
   ]
  },
  {
   "cell_type": "markdown",
   "id": "7c5c48ea",
   "metadata": {},
   "source": [
    "## Cargar datos"
   ]
  },
  {
   "cell_type": "code",
   "execution_count": 2,
   "id": "5e0cef6b",
   "metadata": {},
   "outputs": [
    {
     "data": {
      "text/plain": [
       "NUM BEN           int64\n",
       "BENEFICIARIO     object\n",
       "RFC              object\n",
       "FACTURA          object\n",
       "CONTRATO         object\n",
       "CONCEPTO         object\n",
       "TIPO             object\n",
       "# OP            float64\n",
       "FECHA            object\n",
       "IMPORTE         float64\n",
       "SHEET            object\n",
       "dtype: object"
      ]
     },
     "execution_count": 2,
     "metadata": {},
     "output_type": "execute_result"
    }
   ],
   "source": [
    "compras_df = pd.read_csv('../data_out/clean_compras.csv')\n",
    "compras_df.dtypes"
   ]
  },
  {
   "cell_type": "markdown",
   "id": "7b64d849",
   "metadata": {},
   "source": [
    "## Expansion de los datos que tenemos"
   ]
  },
  {
   "cell_type": "markdown",
   "id": "aff38d18",
   "metadata": {},
   "source": [
    "Convertimos la variable FECHA a tipo tiempo"
   ]
  },
  {
   "cell_type": "code",
   "execution_count": 5,
   "id": "aee8104c",
   "metadata": {},
   "outputs": [
    {
     "data": {
      "text/plain": [
       "NUM BEN                  int64\n",
       "BENEFICIARIO            object\n",
       "RFC                     object\n",
       "FACTURA                 object\n",
       "CONTRATO                object\n",
       "CONCEPTO                object\n",
       "TIPO                    object\n",
       "# OP                   float64\n",
       "FECHA           datetime64[ns]\n",
       "IMPORTE                float64\n",
       "SHEET                   object\n",
       "dtype: object"
      ]
     },
     "execution_count": 5,
     "metadata": {},
     "output_type": "execute_result"
    }
   ],
   "source": [
    "compras_df['FECHA'] = pd.to_datetime(compras_df['FECHA'])\n",
    "compras_df.dtypes"
   ]
  },
  {
   "cell_type": "markdown",
   "id": "25a9e838",
   "metadata": {},
   "source": [
    "Obtener fecha en formato dia, mes, ano. Esto nos puede ayudar a modelar una clasificacion del comportamiento de otras variables en el tiempo."
   ]
  },
  {
   "cell_type": "markdown",
   "id": "7af0ccd8",
   "metadata": {},
   "source": [
    "## Proyeccion entre variables "
   ]
  },
  {
   "cell_type": "markdown",
   "id": "f4141e97",
   "metadata": {},
   "source": [
    "## Traer informacion externa"
   ]
  }
 ],
 "metadata": {
  "kernelspec": {
   "display_name": "base",
   "language": "python",
   "name": "python3"
  },
  "language_info": {
   "codemirror_mode": {
    "name": "ipython",
    "version": 3
   },
   "file_extension": ".py",
   "mimetype": "text/x-python",
   "name": "python",
   "nbconvert_exporter": "python",
   "pygments_lexer": "ipython3",
   "version": "3.9.12"
  }
 },
 "nbformat": 4,
 "nbformat_minor": 5
}
