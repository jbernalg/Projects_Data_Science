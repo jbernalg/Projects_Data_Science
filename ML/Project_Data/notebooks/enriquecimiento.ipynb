{
 "cells": [
  {
   "cell_type": "markdown",
   "id": "c92abcb0",
   "metadata": {},
   "source": [
    "# __Enriquecimiento de la data__"
   ]
  },
  {
   "cell_type": "markdown",
   "id": "6d5011f9",
   "metadata": {},
   "source": [
    "## Librerias"
   ]
  },
  {
   "cell_type": "code",
   "execution_count": 1,
   "id": "85e1bc40",
   "metadata": {},
   "outputs": [],
   "source": [
    "%matplotlib inline\n",
    "import pandas as pd"
   ]
  },
  {
   "cell_type": "markdown",
   "id": "7c5c48ea",
   "metadata": {},
   "source": [
    "## Cargar datos"
   ]
  },
  {
   "cell_type": "code",
   "execution_count": 2,
   "id": "5e0cef6b",
   "metadata": {},
   "outputs": [
    {
     "data": {
      "text/plain": [
       "NUM BEN           int64\n",
       "BENEFICIARIO     object\n",
       "RFC              object\n",
       "FACTURA          object\n",
       "CONTRATO         object\n",
       "CONCEPTO         object\n",
       "TIPO             object\n",
       "# OP            float64\n",
       "FECHA            object\n",
       "IMPORTE         float64\n",
       "SHEET            object\n",
       "dtype: object"
      ]
     },
     "execution_count": 2,
     "metadata": {},
     "output_type": "execute_result"
    }
   ],
   "source": [
    "compras_df = pd.read_csv('../data_out/clean_compras.csv')\n",
    "compras_df.dtypes"
   ]
  },
  {
   "cell_type": "markdown",
   "id": "7b64d849",
   "metadata": {},
   "source": [
    "## Expansion de los datos que tenemos"
   ]
  },
  {
   "cell_type": "markdown",
   "id": "aff38d18",
   "metadata": {},
   "source": [
    "Convertimos la variable FECHA a tipo tiempo"
   ]
  },
  {
   "cell_type": "code",
   "execution_count": 5,
   "id": "aee8104c",
   "metadata": {},
   "outputs": [
    {
     "data": {
      "text/plain": [
       "NUM BEN                  int64\n",
       "BENEFICIARIO            object\n",
       "RFC                     object\n",
       "FACTURA                 object\n",
       "CONTRATO                object\n",
       "CONCEPTO                object\n",
       "TIPO                    object\n",
       "# OP                   float64\n",
       "FECHA           datetime64[ns]\n",
       "IMPORTE                float64\n",
       "SHEET                   object\n",
       "dtype: object"
      ]
     },
     "execution_count": 5,
     "metadata": {},
     "output_type": "execute_result"
    }
   ],
   "source": [
    "compras_df['FECHA'] = pd.to_datetime(compras_df['FECHA'])\n",
    "compras_df.dtypes"
   ]
  },
  {
   "cell_type": "markdown",
   "id": "25a9e838",
   "metadata": {},
   "source": [
    "Obtener fecha en formato dia, mes, ano. Esto nos puede ayudar a modelar una clasificacion del comportamiento de otras variables en el tiempo."
   ]
  },
  {
   "cell_type": "code",
   "execution_count": 6,
   "id": "ec753d1a",
   "metadata": {},
   "outputs": [],
   "source": [
    "compras_df['DIA'] = compras_df['FECHA'].dt.day\n",
    "compras_df['MES'] = compras_df['FECHA'].dt.month\n",
    "compras_df['YEAR'] = compras_df['FECHA'].dt.year"
   ]
  },
  {
   "cell_type": "code",
   "execution_count": 7,
   "id": "e8e60999",
   "metadata": {},
   "outputs": [
    {
     "data": {
      "text/html": [
       "<div>\n",
       "<style scoped>\n",
       "    .dataframe tbody tr th:only-of-type {\n",
       "        vertical-align: middle;\n",
       "    }\n",
       "\n",
       "    .dataframe tbody tr th {\n",
       "        vertical-align: top;\n",
       "    }\n",
       "\n",
       "    .dataframe thead th {\n",
       "        text-align: right;\n",
       "    }\n",
       "</style>\n",
       "<table border=\"1\" class=\"dataframe\">\n",
       "  <thead>\n",
       "    <tr style=\"text-align: right;\">\n",
       "      <th></th>\n",
       "      <th>NUM BEN</th>\n",
       "      <th>BENEFICIARIO</th>\n",
       "      <th>RFC</th>\n",
       "      <th>FACTURA</th>\n",
       "      <th>CONTRATO</th>\n",
       "      <th>CONCEPTO</th>\n",
       "      <th>TIPO</th>\n",
       "      <th># OP</th>\n",
       "      <th>FECHA</th>\n",
       "      <th>IMPORTE</th>\n",
       "      <th>SHEET</th>\n",
       "      <th>DIA</th>\n",
       "      <th>MES</th>\n",
       "      <th>YEAR</th>\n",
       "    </tr>\n",
       "  </thead>\n",
       "  <tbody>\n",
       "    <tr>\n",
       "      <th>0</th>\n",
       "      <td>110152</td>\n",
       "      <td>LLANTAS Y SERVICIOS SERNA ANAHUAC,S.A. DE C.V.</td>\n",
       "      <td>LSS841015DV3</td>\n",
       "      <td>LLS AF8458-158008-3972</td>\n",
       "      <td>OT. 20204373</td>\n",
       "      <td>REEMPLAZO E INSTALACION DE AMORTIGUADORES (DEL...</td>\n",
       "      <td>TR</td>\n",
       "      <td>1019110.0</td>\n",
       "      <td>2020-12-11</td>\n",
       "      <td>14911.80</td>\n",
       "      <td>GASTOS VARIOS</td>\n",
       "      <td>11</td>\n",
       "      <td>12</td>\n",
       "      <td>2020</td>\n",
       "    </tr>\n",
       "    <tr>\n",
       "      <th>1</th>\n",
       "      <td>110152</td>\n",
       "      <td>LLANTAS Y SERVICIOS SERNA ANAHUAC,S.A. DE C.V.</td>\n",
       "      <td>LSS841015DV3</td>\n",
       "      <td>LLS PF6916-158008-4041</td>\n",
       "      <td>OT. 20204425</td>\n",
       "      <td>REEMPLAZO E INSTALACION DE OCHO BIRLOS Y NUEVE...</td>\n",
       "      <td>TR</td>\n",
       "      <td>1019110.0</td>\n",
       "      <td>2020-12-11</td>\n",
       "      <td>2528.80</td>\n",
       "      <td>GASTOS VARIOS</td>\n",
       "      <td>11</td>\n",
       "      <td>12</td>\n",
       "      <td>2020</td>\n",
       "    </tr>\n",
       "    <tr>\n",
       "      <th>2</th>\n",
       "      <td>110152</td>\n",
       "      <td>LLANTAS Y SERVICIOS SERNA ANAHUAC,S.A. DE C.V.</td>\n",
       "      <td>LSS841015DV3</td>\n",
       "      <td>LLS PF6917-158008-3975</td>\n",
       "      <td>OT. 20204376</td>\n",
       "      <td>REEMPLAZO DE DOS RINES  (17). PATRIMONIO 80383...</td>\n",
       "      <td>TR</td>\n",
       "      <td>1019110.0</td>\n",
       "      <td>2020-12-11</td>\n",
       "      <td>8500.02</td>\n",
       "      <td>GASTOS VARIOS</td>\n",
       "      <td>11</td>\n",
       "      <td>12</td>\n",
       "      <td>2020</td>\n",
       "    </tr>\n",
       "    <tr>\n",
       "      <th>3</th>\n",
       "      <td>110152</td>\n",
       "      <td>LLANTAS Y SERVICIOS SERNA ANAHUAC,S.A. DE C.V.</td>\n",
       "      <td>LSS841015DV3</td>\n",
       "      <td>LLS PF7004-158008-3971</td>\n",
       "      <td>OT. 20204374</td>\n",
       "      <td>REEMPLAZO DE  DOS RINES  (14). PATRIMONIO 8007...</td>\n",
       "      <td>TR</td>\n",
       "      <td>1019110.0</td>\n",
       "      <td>2020-12-11</td>\n",
       "      <td>2400.01</td>\n",
       "      <td>GASTOS VARIOS</td>\n",
       "      <td>11</td>\n",
       "      <td>12</td>\n",
       "      <td>2020</td>\n",
       "    </tr>\n",
       "    <tr>\n",
       "      <th>4</th>\n",
       "      <td>110152</td>\n",
       "      <td>LLANTAS Y SERVICIOS SERNA ANAHUAC,S.A. DE C.V.</td>\n",
       "      <td>LSS841015DV3</td>\n",
       "      <td>LLS PF7137-158008-4554</td>\n",
       "      <td>OT. 20205130</td>\n",
       "      <td>REEMPLAZO E INSTALACION DE RIN 14. PATRIMONIO ...</td>\n",
       "      <td>TR</td>\n",
       "      <td>299001496.0</td>\n",
       "      <td>2020-12-23</td>\n",
       "      <td>1537.00</td>\n",
       "      <td>GASTOS VARIOS</td>\n",
       "      <td>23</td>\n",
       "      <td>12</td>\n",
       "      <td>2020</td>\n",
       "    </tr>\n",
       "  </tbody>\n",
       "</table>\n",
       "</div>"
      ],
      "text/plain": [
       "   NUM BEN                                    BENEFICIARIO           RFC  \\\n",
       "0   110152  LLANTAS Y SERVICIOS SERNA ANAHUAC,S.A. DE C.V.  LSS841015DV3   \n",
       "1   110152  LLANTAS Y SERVICIOS SERNA ANAHUAC,S.A. DE C.V.  LSS841015DV3   \n",
       "2   110152  LLANTAS Y SERVICIOS SERNA ANAHUAC,S.A. DE C.V.  LSS841015DV3   \n",
       "3   110152  LLANTAS Y SERVICIOS SERNA ANAHUAC,S.A. DE C.V.  LSS841015DV3   \n",
       "4   110152  LLANTAS Y SERVICIOS SERNA ANAHUAC,S.A. DE C.V.  LSS841015DV3   \n",
       "\n",
       "                  FACTURA      CONTRATO  \\\n",
       "0  LLS AF8458-158008-3972  OT. 20204373   \n",
       "1  LLS PF6916-158008-4041  OT. 20204425   \n",
       "2  LLS PF6917-158008-3975  OT. 20204376   \n",
       "3  LLS PF7004-158008-3971  OT. 20204374   \n",
       "4  LLS PF7137-158008-4554  OT. 20205130   \n",
       "\n",
       "                                            CONCEPTO TIPO         # OP  \\\n",
       "0  REEMPLAZO E INSTALACION DE AMORTIGUADORES (DEL...   TR    1019110.0   \n",
       "1  REEMPLAZO E INSTALACION DE OCHO BIRLOS Y NUEVE...   TR    1019110.0   \n",
       "2  REEMPLAZO DE DOS RINES  (17). PATRIMONIO 80383...   TR    1019110.0   \n",
       "3  REEMPLAZO DE  DOS RINES  (14). PATRIMONIO 8007...   TR    1019110.0   \n",
       "4  REEMPLAZO E INSTALACION DE RIN 14. PATRIMONIO ...   TR  299001496.0   \n",
       "\n",
       "       FECHA   IMPORTE          SHEET  DIA  MES  YEAR  \n",
       "0 2020-12-11  14911.80  GASTOS VARIOS   11   12  2020  \n",
       "1 2020-12-11   2528.80  GASTOS VARIOS   11   12  2020  \n",
       "2 2020-12-11   8500.02  GASTOS VARIOS   11   12  2020  \n",
       "3 2020-12-11   2400.01  GASTOS VARIOS   11   12  2020  \n",
       "4 2020-12-23   1537.00  GASTOS VARIOS   23   12  2020  "
      ]
     },
     "execution_count": 7,
     "metadata": {},
     "output_type": "execute_result"
    }
   ],
   "source": [
    "compras_df.head()"
   ]
  },
  {
   "cell_type": "markdown",
   "id": "7af0ccd8",
   "metadata": {},
   "source": [
    "## Proyeccion entre variables "
   ]
  },
  {
   "cell_type": "code",
   "execution_count": 8,
   "id": "c1eba07b",
   "metadata": {},
   "outputs": [],
   "source": [
    "beneficiario_sales = compras_df['BENEFICIARIO'].value_counts().to_dict()"
   ]
  },
  {
   "cell_type": "code",
   "execution_count": 9,
   "id": "890c0152",
   "metadata": {},
   "outputs": [
    {
     "data": {
      "text/plain": [
       "['CAMARA MEXICANA DE LA INDUSTRIA DE LA CONSTRUCCION',\n",
       " 'AUTOKAM REGIOMONTANA,S.A.DE C.V.',\n",
       " 'CAR ONE MONTERREY, S.A. DE C.V.',\n",
       " 'PEREZ RIOS RAMIRO',\n",
       " 'S.I.M.E.P.R.O.D.E.']"
      ]
     },
     "execution_count": 9,
     "metadata": {},
     "output_type": "execute_result"
    }
   ],
   "source": [
    "# mostrar los primeros 5 valores de beneficiario_sales\n",
    "list(beneficiario_sales.keys())[0:5]"
   ]
  },
  {
   "cell_type": "code",
   "execution_count": 11,
   "id": "1012e346",
   "metadata": {},
   "outputs": [
    {
     "data": {
      "text/plain": [
       "0    13\n",
       "1    13\n",
       "2    13\n",
       "3    13\n",
       "4    13\n",
       "Name: BENEFICIARIO_SALES, dtype: int64"
      ]
     },
     "execution_count": 11,
     "metadata": {},
     "output_type": "execute_result"
    }
   ],
   "source": [
    "# proyeccion de beneficiarios por ventas\n",
    "compras_df['BENEFICIARIO_SALES'] = compras_df['BENEFICIARIO'].apply(lambda x: beneficiario_sales[x])\n",
    "compras_df.BENEFICIARIO_SALES.head()"
   ]
  },
  {
   "cell_type": "code",
   "execution_count": 12,
   "id": "c34604e5",
   "metadata": {},
   "outputs": [
    {
     "data": {
      "text/plain": [
       "SHEET\n",
       "COMUNICACION              109705.343662\n",
       "CONTRATISTAS Y FDO FED    474566.765787\n",
       "GASTOS VARIOS             881659.731797\n",
       "SERV PPROF                229592.166667\n",
       "SERV. PERS.                59623.405217\n",
       "Name: IMPORTE, dtype: float64"
      ]
     },
     "execution_count": 12,
     "metadata": {},
     "output_type": "execute_result"
    }
   ],
   "source": [
    "# proyeccion de ventas por tipo de hoja\n",
    "sheet_mean_compras = compras_df.groupby('SHEET')['IMPORTE'].mean()\n",
    "sheet_mean_compras"
   ]
  },
  {
   "cell_type": "code",
   "execution_count": 13,
   "id": "3d4d53ad",
   "metadata": {},
   "outputs": [
    {
     "data": {
      "text/plain": [
       "0    881659.731797\n",
       "1    881659.731797\n",
       "2    881659.731797\n",
       "3    881659.731797\n",
       "4    881659.731797\n",
       "Name: IMPORTE_GASTO_PROMEDIO, dtype: float64"
      ]
     },
     "execution_count": 13,
     "metadata": {},
     "output_type": "execute_result"
    }
   ],
   "source": [
    "compras_df['IMPORTE_GASTO_PROMEDIO'] = compras_df['SHEET'].apply(lambda x: sheet_mean_compras[x])\n",
    "compras_df.IMPORTE_GASTO_PROMEDIO.head()"
   ]
  },
  {
   "cell_type": "markdown",
   "id": "f4141e97",
   "metadata": {},
   "source": [
    "## Traer informacion externa"
   ]
  },
  {
   "cell_type": "markdown",
   "id": "cd6efa2a",
   "metadata": {},
   "source": [
    "Vamos a utilizar una herramienta que nos permite a traves del nombre del beneficiario, verificar si tiene pagina en Linkedin.\n",
    "\n",
    "La herramienta se llama _PhantomBuster_. Una vez pasado los beneficiarios, obtenemos un archivo csv con una columna indicativa sobre el resultado encontrado. En algunos casos, no encuentra el resultado, lo que indica que tal beneficiario no tiene pagina en Linkedin. Con esta informacion podemos crear una nueva variable en el df"
   ]
  },
  {
   "cell_type": "code",
   "execution_count": 14,
   "id": "012dd417",
   "metadata": {},
   "outputs": [],
   "source": [
    "# archivo con los nombres de los beneiciarios\n",
    "pd.DataFrame(compras_df['BENEFICIARIO'].unique()).to_csv('../data_out/unique_beneficiarios.csv', index=None)"
   ]
  },
  {
   "cell_type": "markdown",
   "id": "0abce5ce",
   "metadata": {},
   "source": [
    "Este archivo, se le pasa a la herramienta y esta nos devuelve un csv con la informacion requerida. Vamos a cargar el archivo llamado _linkedin_mty.csv_"
   ]
  },
  {
   "cell_type": "code",
   "execution_count": 15,
   "id": "dc8c1b91",
   "metadata": {},
   "outputs": [
    {
     "data": {
      "text/html": [
       "<div>\n",
       "<style scoped>\n",
       "    .dataframe tbody tr th:only-of-type {\n",
       "        vertical-align: middle;\n",
       "    }\n",
       "\n",
       "    .dataframe tbody tr th {\n",
       "        vertical-align: top;\n",
       "    }\n",
       "\n",
       "    .dataframe thead th {\n",
       "        text-align: right;\n",
       "    }\n",
       "</style>\n",
       "<table border=\"1\" class=\"dataframe\">\n",
       "  <thead>\n",
       "    <tr style=\"text-align: right;\">\n",
       "      <th></th>\n",
       "      <th>url</th>\n",
       "      <th>description</th>\n",
       "      <th>title</th>\n",
       "      <th>query</th>\n",
       "      <th>timestamp</th>\n",
       "      <th>error</th>\n",
       "    </tr>\n",
       "  </thead>\n",
       "  <tbody>\n",
       "    <tr>\n",
       "      <th>0</th>\n",
       "      <td>https://www.linkedin.com/in/rosa-lorena-valdez...</td>\n",
       "      <td>Ve el perfil de Rosa Lorena Valdez Miranda en ...</td>\n",
       "      <td>Rosa Lorena Valdez Miranda - Analista de Deuda...</td>\n",
       "      <td>Rosa Lorena Valdez Miranda</td>\n",
       "      <td>2021-03-08T13:06:25.587Z</td>\n",
       "      <td>NaN</td>\n",
       "    </tr>\n",
       "    <tr>\n",
       "      <th>1</th>\n",
       "      <td>https://www.linkedin.com/in/roque-ya%C3%B1ez-r...</td>\n",
       "      <td>Ve el perfil de Roque Yañez Ramos en LinkedIn,...</td>\n",
       "      <td>Roque Yañez Ramos - Síndico Primero - Gobierno...</td>\n",
       "      <td>Roque Yañez Ramos</td>\n",
       "      <td>2021-03-08T13:06:52.599Z</td>\n",
       "      <td>NaN</td>\n",
       "    </tr>\n",
       "    <tr>\n",
       "      <th>2</th>\n",
       "      <td>https://www.linkedin.com/in/perla-cordova-vill...</td>\n",
       "      <td>Ve el perfil de Perla Cordova Villegas en Link...</td>\n",
       "      <td>Perla Cordova Villegas - Profesor de Tiempo Co...</td>\n",
       "      <td>Laura Perla Cordova Rodriguez</td>\n",
       "      <td>2021-03-08T13:07:18.940Z</td>\n",
       "      <td>NaN</td>\n",
       "    </tr>\n",
       "    <tr>\n",
       "      <th>3</th>\n",
       "      <td>https://www.linkedin.com/in/lauren-coronado-b3...</td>\n",
       "      <td>View Lauren Coronado’s profile on LinkedIn, th...</td>\n",
       "      <td>Lauren Coronado - Substitute Teacher - IRVING ...</td>\n",
       "      <td>Rosa Ofelia Coronado Flores</td>\n",
       "      <td>2021-03-08T13:07:45.390Z</td>\n",
       "      <td>NaN</td>\n",
       "    </tr>\n",
       "    <tr>\n",
       "      <th>4</th>\n",
       "      <td>https://www.linkedin.com/in/alvaro-palomo</td>\n",
       "      <td>Ve el perfil de Alvaro Palomo Osuna en LinkedI...</td>\n",
       "      <td>Alvaro Palomo Osuna - Jefe de proyecto .NET - ...</td>\n",
       "      <td>Alvaro Flores Palomo</td>\n",
       "      <td>2021-03-08T13:08:11.744Z</td>\n",
       "      <td>NaN</td>\n",
       "    </tr>\n",
       "    <tr>\n",
       "      <th>...</th>\n",
       "      <td>...</td>\n",
       "      <td>...</td>\n",
       "      <td>...</td>\n",
       "      <td>...</td>\n",
       "      <td>...</td>\n",
       "      <td>...</td>\n",
       "    </tr>\n",
       "    <tr>\n",
       "      <th>315</th>\n",
       "      <td>https://www.linkedin.com/in/fernando-mijangos-...</td>\n",
       "      <td>Fernando Mijangos | Mérida, Yucatán, México | ...</td>\n",
       "      <td>Fernando Mijangos - Gerente Administrativo - D...</td>\n",
       "      <td>MIJANGOS DE JESUS FERNANDO</td>\n",
       "      <td>2021-07-23T19:37:32.917Z</td>\n",
       "      <td>NaN</td>\n",
       "    </tr>\n",
       "    <tr>\n",
       "      <th>316</th>\n",
       "      <td>https://www.linkedin.com/in/jos%C3%A9-arturo-m...</td>\n",
       "      <td>José Arturo Moreno | México, México | 500+ con...</td>\n",
       "      <td>José Arturo Moreno - México, México | Perfil p...</td>\n",
       "      <td>MORENO GARCIA JOSE ARTURO</td>\n",
       "      <td>2021-07-23T19:37:57.780Z</td>\n",
       "      <td>NaN</td>\n",
       "    </tr>\n",
       "    <tr>\n",
       "      <th>317</th>\n",
       "      <td>https://www.linkedin.com/in/sebastian-hernande...</td>\n",
       "      <td>Sebastian Hernandez Sanchez | Bluffton, South ...</td>\n",
       "      <td>Sebastian Hernandez Sanchez - Law Clerk - Devi...</td>\n",
       "      <td>SANCHEZ HERNANDEZ SEBASTIAN</td>\n",
       "      <td>2021-07-23T19:38:23.951Z</td>\n",
       "      <td>NaN</td>\n",
       "    </tr>\n",
       "    <tr>\n",
       "      <th>318</th>\n",
       "      <td>https://www.linkedin.com/in/fredy-marcelo-diaz...</td>\n",
       "      <td>Ve el perfil de Fredy Marcelo Diaz Segovia en ...</td>\n",
       "      <td>Fredy Marcelo Diaz Segovia - Universidad Santo...</td>\n",
       "      <td>SEGOVIA PAEZ MARCELO</td>\n",
       "      <td>2021-07-23T19:38:49.698Z</td>\n",
       "      <td>NaN</td>\n",
       "    </tr>\n",
       "    <tr>\n",
       "      <th>319</th>\n",
       "      <td>https://www.linkedin.com/in/kevin-alfonso-garc...</td>\n",
       "      <td>Ve el perfil de Kevin Alfonso Garcia Tovar en ...</td>\n",
       "      <td>Kevin Alfonso Garcia Tovar - vendedor de produ...</td>\n",
       "      <td>TOVAR CEDILLO JAVIER ALFONSO</td>\n",
       "      <td>2021-07-23T19:39:15.608Z</td>\n",
       "      <td>NaN</td>\n",
       "    </tr>\n",
       "  </tbody>\n",
       "</table>\n",
       "<p>320 rows × 6 columns</p>\n",
       "</div>"
      ],
      "text/plain": [
       "                                                   url  \\\n",
       "0    https://www.linkedin.com/in/rosa-lorena-valdez...   \n",
       "1    https://www.linkedin.com/in/roque-ya%C3%B1ez-r...   \n",
       "2    https://www.linkedin.com/in/perla-cordova-vill...   \n",
       "3    https://www.linkedin.com/in/lauren-coronado-b3...   \n",
       "4            https://www.linkedin.com/in/alvaro-palomo   \n",
       "..                                                 ...   \n",
       "315  https://www.linkedin.com/in/fernando-mijangos-...   \n",
       "316  https://www.linkedin.com/in/jos%C3%A9-arturo-m...   \n",
       "317  https://www.linkedin.com/in/sebastian-hernande...   \n",
       "318  https://www.linkedin.com/in/fredy-marcelo-diaz...   \n",
       "319  https://www.linkedin.com/in/kevin-alfonso-garc...   \n",
       "\n",
       "                                           description  \\\n",
       "0    Ve el perfil de Rosa Lorena Valdez Miranda en ...   \n",
       "1    Ve el perfil de Roque Yañez Ramos en LinkedIn,...   \n",
       "2    Ve el perfil de Perla Cordova Villegas en Link...   \n",
       "3    View Lauren Coronado’s profile on LinkedIn, th...   \n",
       "4    Ve el perfil de Alvaro Palomo Osuna en LinkedI...   \n",
       "..                                                 ...   \n",
       "315  Fernando Mijangos | Mérida, Yucatán, México | ...   \n",
       "316  José Arturo Moreno | México, México | 500+ con...   \n",
       "317  Sebastian Hernandez Sanchez | Bluffton, South ...   \n",
       "318  Ve el perfil de Fredy Marcelo Diaz Segovia en ...   \n",
       "319  Ve el perfil de Kevin Alfonso Garcia Tovar en ...   \n",
       "\n",
       "                                                 title  \\\n",
       "0    Rosa Lorena Valdez Miranda - Analista de Deuda...   \n",
       "1    Roque Yañez Ramos - Síndico Primero - Gobierno...   \n",
       "2    Perla Cordova Villegas - Profesor de Tiempo Co...   \n",
       "3    Lauren Coronado - Substitute Teacher - IRVING ...   \n",
       "4    Alvaro Palomo Osuna - Jefe de proyecto .NET - ...   \n",
       "..                                                 ...   \n",
       "315  Fernando Mijangos - Gerente Administrativo - D...   \n",
       "316  José Arturo Moreno - México, México | Perfil p...   \n",
       "317  Sebastian Hernandez Sanchez - Law Clerk - Devi...   \n",
       "318  Fredy Marcelo Diaz Segovia - Universidad Santo...   \n",
       "319  Kevin Alfonso Garcia Tovar - vendedor de produ...   \n",
       "\n",
       "                             query                 timestamp error  \n",
       "0       Rosa Lorena Valdez Miranda  2021-03-08T13:06:25.587Z   NaN  \n",
       "1                Roque Yañez Ramos  2021-03-08T13:06:52.599Z   NaN  \n",
       "2    Laura Perla Cordova Rodriguez  2021-03-08T13:07:18.940Z   NaN  \n",
       "3      Rosa Ofelia Coronado Flores  2021-03-08T13:07:45.390Z   NaN  \n",
       "4             Alvaro Flores Palomo  2021-03-08T13:08:11.744Z   NaN  \n",
       "..                             ...                       ...   ...  \n",
       "315     MIJANGOS DE JESUS FERNANDO  2021-07-23T19:37:32.917Z   NaN  \n",
       "316      MORENO GARCIA JOSE ARTURO  2021-07-23T19:37:57.780Z   NaN  \n",
       "317    SANCHEZ HERNANDEZ SEBASTIAN  2021-07-23T19:38:23.951Z   NaN  \n",
       "318           SEGOVIA PAEZ MARCELO  2021-07-23T19:38:49.698Z   NaN  \n",
       "319   TOVAR CEDILLO JAVIER ALFONSO  2021-07-23T19:39:15.608Z   NaN  \n",
       "\n",
       "[320 rows x 6 columns]"
      ]
     },
     "execution_count": 15,
     "metadata": {},
     "output_type": "execute_result"
    }
   ],
   "source": [
    "linkedin_mty = pd.read_csv('../data_in/linkedin_mty.csv')\n",
    "linkedin_mty"
   ]
  }
 ],
 "metadata": {
  "kernelspec": {
   "display_name": "base",
   "language": "python",
   "name": "python3"
  },
  "language_info": {
   "codemirror_mode": {
    "name": "ipython",
    "version": 3
   },
   "file_extension": ".py",
   "mimetype": "text/x-python",
   "name": "python",
   "nbconvert_exporter": "python",
   "pygments_lexer": "ipython3",
   "version": "3.9.12"
  }
 },
 "nbformat": 4,
 "nbformat_minor": 5
}
