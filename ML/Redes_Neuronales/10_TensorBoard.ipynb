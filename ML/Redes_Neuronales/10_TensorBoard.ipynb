{
 "cells": [
  {
   "cell_type": "markdown",
   "metadata": {},
   "source": [
    "# __Modelos en TensorBoard__"
   ]
  },
  {
   "cell_type": "markdown",
   "metadata": {},
   "source": [
    "### Cargar Datos"
   ]
  },
  {
   "cell_type": "code",
   "execution_count": 8,
   "metadata": {},
   "outputs": [],
   "source": [
    "# librerias\n",
    "import numpy as np\n",
    "%matplotlib inline\n",
    "import matplotlib.pyplot as plt\n",
    "import matplotlib.image as mpimg\n",
    "import string\n",
    "import tensorflow as tf\n",
    "\n",
    "from tensorflow.keras import regularizers\n",
    "\n",
    "# libreria para trabajar con las bases de datos \n",
    "from tensorflow.keras.preprocessing.image import ImageDataGenerator"
   ]
  },
  {
   "cell_type": "code",
   "execution_count": 9,
   "metadata": {},
   "outputs": [
    {
     "name": "stdout",
     "output_type": "stream",
     "text": [
      "Found 27455 images belonging to 24 classes.\n",
      "Found 1425 images belonging to 24 classes.\n",
      "Found 7172 images belonging to 24 classes.\n"
     ]
    },
    {
     "data": {
      "image/png": "[encoded data removed]",
      "text/plain": [
       "<Figure size 1000x1000 with 5 Axes>"
      ]
     },
     "metadata": {},
     "output_type": "display_data"
    }
   ],
   "source": [
    "# ruta de los archivos\n",
    "train_dir = './sign-language-img/Train'\n",
    "test_dir = './sign-language-img/Test'\n",
    "\n",
    "# data generator\n",
    "train_datagen = ImageDataGenerator(rescale=1/255)\n",
    "test_datagen = ImageDataGenerator(rescale=1/255, validation_split=0.2)\n",
    "\n",
    "# generator para test, training y validation\n",
    "# para datos de entrenamiento\n",
    "train_generator = train_datagen.flow_from_directory(\n",
    "    train_dir,\n",
    "    target_size = (28, 28),\n",
    "    batch_size = 128,\n",
    "    class_mode = 'categorical',\n",
    "    color_mode = 'grayscale',\n",
    "    subset = 'training'\n",
    ")\n",
    "\n",
    "# para datos de validacion\n",
    "validation_generator = test_datagen.flow_from_directory(\n",
    "    test_dir,\n",
    "    target_size = (28, 28),\n",
    "    batch_size = 128,\n",
    "    class_mode = 'categorical',\n",
    "    color_mode = 'grayscale',\n",
    "    subset = 'validation'\n",
    ")\n",
    "\n",
    "# para datos de prueba\n",
    "test_generator = test_datagen.flow_from_directory(\n",
    "    test_dir,\n",
    "    target_size = (28, 28),\n",
    "    batch_size = 128,\n",
    "    class_mode = 'categorical',\n",
    "    color_mode = 'grayscale'\n",
    ")\n",
    "\n",
    "# clases\n",
    "classes = [char for char in string.ascii_uppercase if char != 'J' if char != 'Z']\n",
    "\n",
    "# funcion para mostrar las imagenes\n",
    "def plotImages(images_arr):\n",
    "    fig, axes = plt.subplots(1, 5, figsize = (10, 10))\n",
    "    axes = axes.flatten()\n",
    "\n",
    "    for img, ax in zip(images_arr, axes):\n",
    "        ax.imshow(img[:,:,0])\n",
    "        ax.axis('off')\n",
    "\n",
    "    plt.tight_layout()\n",
    "    plt.show()\n",
    "\n",
    "# mostrar 5 imagenes\n",
    "sample_training_images, _ = next(train_generator)\n",
    "plotImages(sample_training_images[:5])"
   ]
  },
  {
   "cell_type": "markdown",
   "metadata": {},
   "source": [
    "### Modelo a trabajar"
   ]
  },
  {
   "cell_type": "code",
   "execution_count": 10,
   "metadata": {},
   "outputs": [],
   "source": [
    "# funcion para generalizar la creacion del modelo\n",
    "def get_model():\n",
    "    model = tf.keras.models.Sequential([\n",
    "        tf.keras.layers.Conv2D(75, (3,3), activation='relu', input_shape=(28, 28, 1)),\n",
    "        tf.keras.layers.MaxPool2D((2,2)),\n",
    "        tf.keras.layers.Flatten(),\n",
    "        tf.keras.layers.Dense(256, kernel_regularizer = regularizers.l2(1e-5), activation='relu'),\n",
    "        tf.keras.layers.Dropout(0.2),\n",
    "        tf.keras.layers.Dense(128, kernel_regularizer = regularizers.l2(1e-5), activation='relu'),\n",
    "        tf.keras.layers.Dropout(0.2),\n",
    "        tf.keras.layers.Dense(len(classes), activation='softmax')\n",
    "    ])\n",
    "    return model"
   ]
  },
  {
   "cell_type": "markdown",
   "metadata": {},
   "source": [
    "### Aplicamos TensorBoard"
   ]
  },
  {
   "cell_type": "markdown",
   "metadata": {},
   "source": [
    "Importaremos el callback de TensorBoard y el módulo nativo de time de Python."
   ]
  },
  {
   "cell_type": "code",
   "execution_count": 11,
   "metadata": {},
   "outputs": [],
   "source": [
    "from tensorflow.keras.callbacks import TensorBoard\n",
    "from time import time"
   ]
  },
  {
   "cell_type": "markdown",
   "metadata": {},
   "source": [
    "Generaremos un modelo con nuestra función generadora genérica y lo compilaremos con la configuración usual"
   ]
  },
  {
   "cell_type": "code",
   "execution_count": 12,
   "metadata": {},
   "outputs": [],
   "source": [
    "model_tensorboard = get_model()\n",
    "model_tensorboard.compile(\n",
    "    optimizer='adam',\n",
    "    loss='categorical_crossentropy',\n",
    "    metrics=['accuracy']\n",
    ")"
   ]
  },
  {
   "cell_type": "markdown",
   "metadata": {},
   "source": [
    "Antes de entrenar el modelo crearemos el callback de TensorBoard al que le especificaremos la ruta donde deberá guardar los registros."
   ]
  },
  {
   "cell_type": "code",
   "execution_count": 13,
   "metadata": {},
   "outputs": [],
   "source": [
    "callback_tensorboard = TensorBoard(log_dir='logs/{}'.format(time()))"
   ]
  },
  {
   "cell_type": "markdown",
   "metadata": {},
   "source": [
    "Entrenaremos el modelo agregando el TensorBoard como callback."
   ]
  },
  {
   "cell_type": "code",
   "execution_count": 14,
   "metadata": {},
   "outputs": [
    {
     "name": "stdout",
     "output_type": "stream",
     "text": [
      "Epoch 1/20\n",
      "215/215 [==============================] - 75s 339ms/step - loss: 1.7052 - accuracy: 0.4860 - val_loss: 0.8029 - val_accuracy: 0.7319\n",
      "Epoch 2/20\n",
      "215/215 [==============================] - 46s 214ms/step - loss: 0.3820 - accuracy: 0.8861 - val_loss: 0.5670 - val_accuracy: 0.8182\n",
      "Epoch 3/20\n",
      "215/215 [==============================] - 45s 207ms/step - loss: 0.1469 - accuracy: 0.9663 - val_loss: 0.5952 - val_accuracy: 0.8344\n",
      "Epoch 4/20\n",
      "215/215 [==============================] - 45s 208ms/step - loss: 0.0890 - accuracy: 0.9828 - val_loss: 0.5901 - val_accuracy: 0.8484\n",
      "Epoch 5/20\n",
      "215/215 [==============================] - 57s 264ms/step - loss: 0.0642 - accuracy: 0.9897 - val_loss: 0.6134 - val_accuracy: 0.8575\n",
      "Epoch 6/20\n",
      "215/215 [==============================] - 47s 220ms/step - loss: 0.0522 - accuracy: 0.9928 - val_loss: 0.5649 - val_accuracy: 0.8498\n",
      "Epoch 7/20\n",
      "215/215 [==============================] - 44s 206ms/step - loss: 0.0466 - accuracy: 0.9946 - val_loss: 0.6127 - val_accuracy: 0.8512\n",
      "Epoch 8/20\n",
      "215/215 [==============================] - 45s 208ms/step - loss: 0.0447 - accuracy: 0.9943 - val_loss: 0.7114 - val_accuracy: 0.8477\n",
      "Epoch 9/20\n",
      "215/215 [==============================] - 46s 213ms/step - loss: 0.0407 - accuracy: 0.9959 - val_loss: 0.6516 - val_accuracy: 0.8533\n",
      "Epoch 10/20\n",
      "215/215 [==============================] - 45s 210ms/step - loss: 0.0394 - accuracy: 0.9961 - val_loss: 0.6712 - val_accuracy: 0.8540\n",
      "Epoch 11/20\n",
      "215/215 [==============================] - 58s 269ms/step - loss: 0.0367 - accuracy: 0.9968 - val_loss: 0.7372 - val_accuracy: 0.8533\n",
      "Epoch 12/20\n",
      "215/215 [==============================] - 56s 262ms/step - loss: 0.0339 - accuracy: 0.9972 - val_loss: 0.7437 - val_accuracy: 0.8561\n",
      "Epoch 13/20\n",
      "215/215 [==============================] - 48s 221ms/step - loss: 0.0329 - accuracy: 0.9975 - val_loss: 0.7316 - val_accuracy: 0.8604\n",
      "Epoch 14/20\n",
      "215/215 [==============================] - 50s 232ms/step - loss: 0.0368 - accuracy: 0.9962 - val_loss: 0.7930 - val_accuracy: 0.8526\n",
      "Epoch 15/20\n",
      "215/215 [==============================] - 48s 225ms/step - loss: 0.0349 - accuracy: 0.9969 - val_loss: 0.7266 - val_accuracy: 0.8618\n",
      "Epoch 16/20\n",
      "215/215 [==============================] - 48s 224ms/step - loss: 0.0328 - accuracy: 0.9973 - val_loss: 0.7241 - val_accuracy: 0.8568\n",
      "Epoch 17/20\n",
      "215/215 [==============================] - 50s 234ms/step - loss: 0.0318 - accuracy: 0.9973 - val_loss: 0.8181 - val_accuracy: 0.8484\n",
      "Epoch 18/20\n",
      "215/215 [==============================] - 46s 213ms/step - loss: 0.0334 - accuracy: 0.9969 - val_loss: 0.7219 - val_accuracy: 0.8646\n",
      "Epoch 19/20\n",
      "215/215 [==============================] - 47s 218ms/step - loss: 0.0320 - accuracy: 0.9975 - val_loss: 0.7732 - val_accuracy: 0.8604\n",
      "Epoch 20/20\n",
      "215/215 [==============================] - 48s 222ms/step - loss: 0.0318 - accuracy: 0.9974 - val_loss: 0.7600 - val_accuracy: 0.8512\n"
     ]
    }
   ],
   "source": [
    "history_tensorboard = model_tensorboard.fit(\n",
    "    train_generator,\n",
    "    epochs=20,\n",
    "    callbacks=[callback_tensorboard],\n",
    "    validation_data=validation_generator\n",
    ")"
   ]
  },
  {
   "cell_type": "markdown",
   "metadata": {},
   "source": [
    "### Analisis y publicacion de resultados"
   ]
  },
  {
   "cell_type": "markdown",
   "metadata": {},
   "source": [
    "Usaremos los comandos mágicos de IPython para cargar TensorBoard. Una vez cargado, le indicaremos el directorio del que debe extraer los resultados para analizarlos."
   ]
  },
  {
   "cell_type": "code",
   "execution_count": 16,
   "metadata": {},
   "outputs": [
    {
     "name": "stdout",
     "output_type": "stream",
     "text": [
      "The tensorboard extension is already loaded. To reload it, use:\n",
      "  %reload_ext tensorboard\n"
     ]
    },
    {
     "data": {
      "text/plain": [
       "Reusing TensorBoard on port 6006 (pid 3538), started 0:01:52 ago. (Use '!kill 3538' to kill it.)"
      ]
     },
     "metadata": {},
     "output_type": "display_data"
    },
    {
     "data": {
      "text/html": [
       "\n",
       "      <iframe id=\"tensorboard-frame-d4fae6cc32e0f9f1\" width=\"100%\" height=\"800\" frameborder=\"0\">\n",
       "      </iframe>\n",
       "      <script>\n",
       "        (function() {\n",
       "          const frame = document.getElementById(\"tensorboard-frame-d4fae6cc32e0f9f1\");\n",
       "          const url = new URL(\"http://localhost\");\n",
       "          const port = 6006;\n",
       "          if (port) {\n",
       "            url.port = port;\n",
       "          }\n",
       "          frame.src = url;\n",
       "        })();\n",
       "      </script>\n",
       "    "
      ],
      "text/plain": [
       "<IPython.core.display.HTML object>"
      ]
     },
     "metadata": {},
     "output_type": "display_data"
    }
   ],
   "source": [
    "%load_ext tensorboard\n",
    "%tensorboard --logdir logs"
   ]
  }
 ],
 "metadata": {
  "kernelspec": {
   "display_name": "tf_cpu",
   "language": "python",
   "name": "python3"
  },
  "language_info": {
   "codemirror_mode": {
    "name": "ipython",
    "version": 3
   },
   "file_extension": ".py",
   "mimetype": "text/x-python",
   "name": "python",
   "nbconvert_exporter": "python",
   "pygments_lexer": "ipython3",
   "version": "3.9.20"
  }
 },
 "nbformat": 4,
 "nbformat_minor": 2
}
