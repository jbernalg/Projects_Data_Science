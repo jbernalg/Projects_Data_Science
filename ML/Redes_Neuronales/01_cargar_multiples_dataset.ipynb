{
 "cells": [
  {
   "cell_type": "markdown",
   "metadata": {},
   "source": [
    "# Carga de Bases de Datos"
   ]
  },
  {
   "cell_type": "markdown",
   "metadata": {},
   "source": [
    "Vamos a importar los archivos que serviran de ejemplo para cargar diferentes bases de datos"
   ]
  },
  {
   "cell_type": "code",
   "execution_count": null,
   "metadata": {},
   "outputs": [],
   "source": [
    "# librerias para trabajar con el sistema operativo y descomprimir archivos\n",
    "import os\n",
    "import zipfile"
   ]
  },
  {
   "cell_type": "markdown",
   "metadata": {},
   "source": [
    "Descargar desde la nube de Google los repositorios con los que vamos a trabajar\n",
    "- wget para extraer el archivo.\n",
    "- --no-check-certificate para omitir certificaciones.\n",
    "- -O /ruta/databasesLoadData.zip para guardar la salida en una carpeta en ruta con el nombre de _databasesLoadData.zip_"
   ]
  },
  {
   "cell_type": "code",
   "execution_count": 4,
   "metadata": {},
   "outputs": [
    {
     "name": "stdout",
     "output_type": "stream",
     "text": [
      "--2024-10-30 11:45:15--  https://storage.googleapis.com/platzi-tf2/databasesLoadData.zip\n",
      "Resolving storage.googleapis.com (storage.googleapis.com)... 142.250.78.59, 142.250.78.91, 142.250.78.123, ...\n",
      "Connecting to storage.googleapis.com (storage.googleapis.com)|142.250.78.59|:443... connected.\n",
      "HTTP request sent, awaiting response... 200 OK\n",
      "Length: 71662510 (68M) [application/zip]\n",
      "Saving to: ‘/home/jbernal/Data_Science/ML/Redes_Neuronales/databasesLoadData.zip’\n",
      "\n",
      "/home/jbernal/Data_ 100%[===================>]  68.34M   862KB/s    in 72s     \n",
      "\n",
      "2024-10-30 11:46:28 (969 KB/s) - ‘/home/jbernal/Data_Science/ML/Redes_Neuronales/databasesLoadData.zip’ saved [71662510/71662510]\n",
      "\n"
     ]
    }
   ],
   "source": [
    "!wget --no-check-certificate https://storage.googleapis.com/platzi-tf2/databasesLoadData.zip \\\n",
    "    -O /home/jbernal/Data_Science/ML/Redes_Neuronales/databasesLoadData.zip"
   ]
  },
  {
   "cell_type": "markdown",
   "metadata": {},
   "source": [
    "- Guardamos la ruta del archivo en una variable\n",
    "- Creamos una referencia en memoria del archivo comprimido en modo lectura\n",
    "- Extraemos el contenido y lo nombramos de la misma forma sin extension dado que sera un directorio.\n",
    "- Cerramos la instancia"
   ]
  },
  {
   "cell_type": "code",
   "execution_count": 5,
   "metadata": {},
   "outputs": [],
   "source": [
    "local_zip = '/home/jbernal/Data_Science/ML/Redes_Neuronales/databasesLoadData.zip'\n",
    "zip_ref = zipfile.ZipFile(local_zip, 'r')\n",
    "zip_ref.extractall('/home/jbernal/Data_Science/ML/Redes_Neuronales/')\n",
    "zip_ref.close()"
   ]
  },
  {
   "cell_type": "markdown",
   "metadata": {},
   "source": [
    "## Archivos JSON"
   ]
  },
  {
   "cell_type": "markdown",
   "metadata": {},
   "source": [
    "Vamos a trabajar con el json contenido en la carpeta _sign_mnist_json_. Para ello, importamos las librerias\n",
    "\n",
    "- json para trabjar con erchivos en este formato\n",
    "- codecs para descomprimir archivos\n",
    "- requet para hacer peticiones a la nube\n",
    "- librerias para el procesamiento de las imagenes: numpy, PIL, matplotlib\n",
    "- BytesIO para trabajar bytes"
   ]
  },
  {
   "cell_type": "code",
   "execution_count": 6,
   "metadata": {},
   "outputs": [],
   "source": [
    "import json\n",
    "import codecs\n",
    "import requests\n",
    "from io import BytesIO\n",
    "import numpy as np\n",
    "import matplotlib.pyplot as plt"
   ]
  },
  {
   "cell_type": "markdown",
   "metadata": {},
   "source": [
    "Guardamos la ruta del archivo en una variable"
   ]
  },
  {
   "cell_type": "code",
   "execution_count": 7,
   "metadata": {},
   "outputs": [],
   "source": [
    "url = './sign_mnist_json/data.json'"
   ]
  },
  {
   "cell_type": "markdown",
   "metadata": {},
   "source": [
    "Deserializamos el json para manejar mejor su contenido"
   ]
  },
  {
   "cell_type": "code",
   "execution_count": 8,
   "metadata": {},
   "outputs": [],
   "source": [
    "# lista para almacenar los registros del json\n",
    "data_json = []\n",
    "\n",
    "# abrimos el archivo con codecs\n",
    "with codecs.open(url, 'rU', 'utf-8') as js:\n",
    "    # almacenamos cada registro en la lista\n",
    "    for line in js:\n",
    "        data_json.append(json.loads(line))"
   ]
  },
  {
   "cell_type": "markdown",
   "metadata": {},
   "source": [
    "Cantidad de imagenes contenida en la lista"
   ]
  },
  {
   "cell_type": "code",
   "execution_count": 9,
   "metadata": {},
   "outputs": [
    {
     "name": "stdout",
     "output_type": "stream",
     "text": [
      "Cantidad de imagenes encontradas: 9\n"
     ]
    }
   ],
   "source": [
    "print(f'Cantidad de imagenes encontradas: {len(data_json)}')"
   ]
  },
  {
   "cell_type": "markdown",
   "metadata": {},
   "source": [
    "Mostramos el contenido de cualquier imagen, en este caso de la imagen con indice 3"
   ]
  },
  {
   "cell_type": "code",
   "execution_count": 10,
   "metadata": {},
   "outputs": [
    {
     "data": {
      "text/plain": [
       "{'content': 'https://storage.googleapis.com/platzi-tf2/img_mnist/58_A.jpg',\n",
       " 'label': 'a'}"
      ]
     },
     "execution_count": 10,
     "metadata": {},
     "output_type": "execute_result"
    }
   ],
   "source": [
    "data_json[3]"
   ]
  }
 ],
 "metadata": {
  "kernelspec": {
   "display_name": "tf_cpu",
   "language": "python",
   "name": "python3"
  },
  "language_info": {
   "codemirror_mode": {
    "name": "ipython",
    "version": 3
   },
   "file_extension": ".py",
   "mimetype": "text/x-python",
   "name": "python",
   "nbconvert_exporter": "python",
   "pygments_lexer": "ipython3",
   "version": "3.9.20"
  }
 },
 "nbformat": 4,
 "nbformat_minor": 2
}
