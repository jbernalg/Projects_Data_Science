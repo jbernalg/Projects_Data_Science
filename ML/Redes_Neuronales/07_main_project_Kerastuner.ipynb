{
 "cells": [
  {
   "cell_type": "markdown",
   "metadata": {},
   "source": [
    "# KerasTuner para la construccion del mejor modelo"
   ]
  },
  {
   "cell_type": "markdown",
   "metadata": {},
   "source": [
    "### Cargar datos"
   ]
  },
  {
   "cell_type": "code",
   "execution_count": 1,
   "metadata": {},
   "outputs": [
    {
     "name": "stderr",
     "output_type": "stream",
     "text": [
      "2024-11-07 10:10:23.753634: I external/local_xla/xla/tsl/cuda/cudart_stub.cc:32] Could not find cuda drivers on your machine, GPU will not be used.\n",
      "2024-11-07 10:10:23.785156: I external/local_xla/xla/tsl/cuda/cudart_stub.cc:32] Could not find cuda drivers on your machine, GPU will not be used.\n",
      "2024-11-07 10:10:23.824509: E external/local_xla/xla/stream_executor/cuda/cuda_fft.cc:477] Unable to register cuFFT factory: Attempting to register factory for plugin cuFFT when one has already been registered\n",
      "WARNING: All log messages before absl::InitializeLog() is called are written to STDERR\n",
      "E0000 00:00:1730992223.880780   14500 cuda_dnn.cc:8310] Unable to register cuDNN factory: Attempting to register factory for plugin cuDNN when one has already been registered\n",
      "E0000 00:00:1730992223.895582   14500 cuda_blas.cc:1418] Unable to register cuBLAS factory: Attempting to register factory for plugin cuBLAS when one has already been registered\n",
      "2024-11-07 10:10:24.166919: I tensorflow/core/platform/cpu_feature_guard.cc:210] This TensorFlow binary is optimized to use available CPU instructions in performance-critical operations.\n",
      "To enable the following instructions: AVX2 FMA, in other operations, rebuild TensorFlow with the appropriate compiler flags.\n"
     ]
    }
   ],
   "source": [
    "# librerias\n",
    "import numpy as np\n",
    "%matplotlib inline\n",
    "import matplotlib.pyplot as plt\n",
    "import matplotlib.image as mpimg\n",
    "import string\n",
    "import tensorflow as tf\n",
    "\n",
    "from tensorflow.keras import regularizers\n",
    "\n",
    "# libreria para trabajar con las bases de datos \n",
    "from tensorflow.keras.preprocessing.image import ImageDataGenerator"
   ]
  },
  {
   "cell_type": "code",
   "execution_count": 2,
   "metadata": {},
   "outputs": [
    {
     "name": "stdout",
     "output_type": "stream",
     "text": [
      "Found 27455 images belonging to 24 classes.\n",
      "Found 1425 images belonging to 24 classes.\n",
      "Found 7172 images belonging to 24 classes.\n"
     ]
    },
    {
     "data": {
      "image/png": "[encoded data removed]",
      "text/plain": [
       "<Figure size 1000x1000 with 5 Axes>"
      ]
     },
     "metadata": {},
     "output_type": "display_data"
    }
   ],
   "source": [
    "# ruta de los archivos\n",
    "train_dir = './sign-language-img/Train'\n",
    "test_dir = './sign-language-img/Test'\n",
    "\n",
    "# data generator\n",
    "train_datagen = ImageDataGenerator(rescale=1/255)\n",
    "test_datagen = ImageDataGenerator(rescale=1/255, validation_split=0.2)\n",
    "\n",
    "# generator para test, training y validation\n",
    "# para datos de entrenamiento\n",
    "train_generator = train_datagen.flow_from_directory(\n",
    "    train_dir,\n",
    "    target_size = (28, 28),\n",
    "    batch_size = 128,\n",
    "    class_mode = 'categorical',\n",
    "    color_mode = 'grayscale',\n",
    "    subset = 'training'\n",
    ")\n",
    "\n",
    "# para daros de validacion\n",
    "validation_generator = test_datagen.flow_from_directory(\n",
    "    test_dir,\n",
    "    target_size = (28, 28),\n",
    "    batch_size = 128,\n",
    "    class_mode = 'categorical',\n",
    "    color_mode = 'grayscale',\n",
    "    subset = 'validation'\n",
    ")\n",
    "\n",
    "# para daros de prueba\n",
    "test_generator = test_datagen.flow_from_directory(\n",
    "    test_dir,\n",
    "    target_size = (28, 28),\n",
    "    batch_size = 128,\n",
    "    class_mode = 'categorical',\n",
    "    color_mode = 'grayscale'\n",
    ")\n",
    "\n",
    "# clases\n",
    "classes = [char for char in string.ascii_uppercase if char != 'J' if char != 'Z']\n",
    "\n",
    "# funcion para mostrar las imagenes\n",
    "def plotImages(images_arr):\n",
    "    fig, axes = plt.subplots(1, 5, figsize = (10, 10))\n",
    "    axes = axes.flatten()\n",
    "\n",
    "    for img, ax in zip(images_arr, axes):\n",
    "        ax.imshow(img[:,:,0])\n",
    "        ax.axis('off')\n",
    "\n",
    "    plt.tight_layout()\n",
    "    plt.show()\n",
    "\n",
    "# mostrar 5 imagenes\n",
    "sample_training_images, _ = next(train_generator)\n",
    "plotImages(sample_training_images[:5])"
   ]
  },
  {
   "cell_type": "markdown",
   "metadata": {},
   "source": [
    "### Modelo a trabajar"
   ]
  },
  {
   "cell_type": "markdown",
   "metadata": {},
   "source": [
    "El modelo con el que vamos a trabajar es el mismo con el que hemos venido trabajando. Vamos a definirlo"
   ]
  },
  {
   "cell_type": "code",
   "execution_count": 3,
   "metadata": {},
   "outputs": [],
   "source": [
    "# funcion para generalizar la creacion del modelo\n",
    "def get_model():\n",
    "    model = tf.keras.models.Sequential([\n",
    "        tf.keras.layers.Conv2D(75, (3,3), activation='relu'),\n",
    "        tf.keras.layers.MaxPool2D((2,2)),\n",
    "        tf.keras.layers.Flatten(),\n",
    "        tf.keras.layers.Dense(256, kernel_regularizer = regularizers.l2(1e-5), activation='relu'),\n",
    "        tf.keras.layers.Dropout(0.2),\n",
    "        tf.keras.layers.Dense(128, kernel_regularizer = regularizers.l2(1e-5), activation='relu'),\n",
    "        tf.keras.layers.Dropout(0.2),\n",
    "        tf.keras.layers.Dense(len(classes), activation='softmax')\n",
    "    ])\n",
    "    return model"
   ]
  },
  {
   "cell_type": "markdown",
   "metadata": {},
   "source": [
    "### Implementando Autotuner"
   ]
  },
  {
   "cell_type": "markdown",
   "metadata": {},
   "source": [
    "Vamos a cargar la libreria kerastuner y keras"
   ]
  },
  {
   "cell_type": "code",
   "execution_count": 4,
   "metadata": {},
   "outputs": [
    {
     "name": "stderr",
     "output_type": "stream",
     "text": [
      "/tmp/ipykernel_14500/2517507747.py:1: DeprecationWarning: `import kerastuner` is deprecated, please use `import keras_tuner`.\n",
      "  import kerastuner as kt\n"
     ]
    }
   ],
   "source": [
    "import kerastuner as kt\n",
    "from tensorflow import keras"
   ]
  },
  {
   "cell_type": "markdown",
   "metadata": {},
   "source": [
    "Para esta ocasión crearemos un nuevo constructor de modelos, este recibirá como parámetros un objeto tuner que determinará las variaciones de diferentes hiperparámetros.\n",
    "\n",
    "- Arquitectura general, donde agregaremos una capa de convolución, Max Pooling y aplanamiento de manera fija\n",
    "\n",
    "- Primer variable del constructor: La cantidad de neuronas en la siguiente capa oculta, se inicializará en 16 e incrementará hasta 32 dando saltos de 8 en 8.\n",
    "\n",
    "- La capa oculta sera de 32 neuronas.\n",
    "\n",
    "- La cantidad de neuronas de la siguiente capa será el objeto iterador. El resto de la red se mantendrá estable.\n",
    "\n",
    "- Variaciones en el learning rate, donde empezaremos el modelo con 3 posibles learning rate: 0.01, 0.001 y 0.0001.\n",
    "\n",
    "- Al momento de compilar el modelo definiremos Adam como optimizador, sin embargo, llamaremos directamente a la clase y le entregaremos el objeto iterador. El resto de parámetros seguirán iguales."
   ]
  },
  {
   "cell_type": "code",
   "execution_count": 5,
   "metadata": {},
   "outputs": [],
   "source": [
    "def constructor_modelos(hp):\n",
    "    model = tf.keras.models.Sequential()\n",
    "    model.add(tf.keras.layers.Conv2D(75, (3,3), activation='relu', input_shape = (28,28,1)))\n",
    "    model.add(tf.keras.layers.MaxPool2D((2,2)))\n",
    "    model.add(tf.keras.layers.Flatten())\n",
    "\n",
    "    hp_units = hp.Int('units', min_value=8, max_value=32, step=8)\n",
    "    model.add(tf.keras.layers.Dense(units=hp_units, activation='relu', kernel_regularizer=regularizers.l2(1e-5)))\n",
    "    model.add(tf.keras.layers.Dropout(0.2))\n",
    "    model.add(tf.keras.layers.Dense(32, activation='relu', kernel_regularizer=regularizers.l2(1e-5)))\n",
    "    model.add(tf.keras.layers.Dropout(0.2))\n",
    "    model.add(tf.keras.layers.Dense(len(classes), activation='softmax'))\n",
    "\n",
    "    hp_learning_rate = hp.Choice('learning_rate', values=[1e-2, 1e-3, 1e-4])\n",
    "    model.compile(optimizer=keras.optimizers.Adam(\n",
    "        learning_rate=hp_learning_rate), \n",
    "        loss='categorical_crossentropy', \n",
    "        metrics=['accuracy'])\n",
    "    return model"
   ]
  },
  {
   "cell_type": "markdown",
   "metadata": {},
   "source": [
    "Esta función será la materia prima del tuner, el cual hará pruebas con todas las combinatorias para encontrar el modelo más optimo."
   ]
  },
  {
   "cell_type": "markdown",
   "metadata": {},
   "source": [
    "### Buscando la mejor configuracion para tu modelo"
   ]
  },
  {
   "cell_type": "markdown",
   "metadata": {},
   "source": [
    "Con el generador de modelos definido podremos crear el tuner que iterará a través de la configuración expuesta.\n",
    "\n",
    "Crearemos una instancia Hyperband (que será el objeto que iterará en las configuraciones). Sus parametros seran:\n",
    "\n",
    "- Función generador\n",
    "- Métrica objetivo (en este caso será val_accuracy para medir la precisión real del modelo)\n",
    "- Máximo de 5 épocas\n",
    "- factor de 2\n",
    "- directorio de carga\n",
    "- nombre de proyecto."
   ]
  },
  {
   "cell_type": "code",
   "execution_count": 6,
   "metadata": {},
   "outputs": [
    {
     "name": "stderr",
     "output_type": "stream",
     "text": [
      "2024-11-07 10:10:34.050070: E external/local_xla/xla/stream_executor/cuda/cuda_driver.cc:152] failed call to cuInit: INTERNAL: CUDA error: Failed call to cuInit: UNKNOWN ERROR (303)\n",
      "/home/jbernal/anaconda3/envs/tf_cpu/lib/python3.9/site-packages/keras/src/layers/convolutional/base_conv.py:107: UserWarning: Do not pass an `input_shape`/`input_dim` argument to a layer. When using Sequential models, prefer using an `Input(shape)` object as the first layer in the model instead.\n",
      "  super().__init__(activity_regularizer=activity_regularizer, **kwargs)\n"
     ]
    }
   ],
   "source": [
    "tuner = kt.Hyperband(\n",
    "    constructor_modelos,\n",
    "    objective = 'val_accuracy',\n",
    "    max_epochs = 5,\n",
    "    factor = 2,\n",
    "    directory = './',\n",
    "    project_name = 'tuner_project'\n",
    ")"
   ]
  },
  {
   "cell_type": "markdown",
   "metadata": {},
   "source": [
    "Con en tuner generado, podremos empezar nuestra búsqueda. Entregamos al método:\n",
    "- el dataset\n",
    "- las épocas máximas\n",
    "- los datos de validación\n",
    "\n",
    "Empezamos el entrenamiento y esperamos a que se complete. Guardaremos el mejor desempeño en la variable best_hps"
   ]
  },
  {
   "cell_type": "code",
   "execution_count": 7,
   "metadata": {},
   "outputs": [
    {
     "name": "stdout",
     "output_type": "stream",
     "text": [
      "Trial 19 Complete [00h 02m 47s]\n",
      "val_accuracy: 0.5431578755378723\n",
      "\n",
      "Best val_accuracy So Far: 0.6715789437294006\n",
      "Total elapsed time: 00h 27m 39s\n"
     ]
    }
   ],
   "source": [
    "tuner.search(\n",
    "    train_generator, \n",
    "    epochs=10, \n",
    "    validation_data= validation_generator\n",
    "    )\n",
    "\n",
    "best_hps = tuner.get_best_hyperparameters(num_trials=1)[0]"
   ]
  },
  {
   "cell_type": "markdown",
   "metadata": {},
   "source": [
    "Para obtener las mejores configuraciones haremos uso del método get"
   ]
  },
  {
   "cell_type": "code",
   "execution_count": 9,
   "metadata": {},
   "outputs": [
    {
     "name": "stdout",
     "output_type": "stream",
     "text": [
      "24\n"
     ]
    }
   ],
   "source": [
    "# numero de neuronas optimas\n",
    "print(best_hps.get('units'))"
   ]
  },
  {
   "cell_type": "code",
   "execution_count": 10,
   "metadata": {},
   "outputs": [
    {
     "name": "stdout",
     "output_type": "stream",
     "text": [
      "0.01\n"
     ]
    }
   ],
   "source": [
    "# tasa de aprendizaje optimo\n",
    "print(best_hps.get('learning_rate'))"
   ]
  },
  {
   "cell_type": "markdown",
   "metadata": {},
   "source": [
    "> El mejor modelo posee 24 neuronas y una taza de aprendizaje de 0.01"
   ]
  },
  {
   "cell_type": "markdown",
   "metadata": {},
   "source": [
    "### Creando un modelo a partir de la mejor configuracion"
   ]
  },
  {
   "cell_type": "markdown",
   "metadata": {},
   "source": [
    "Con los mejores hiperparámetros encontrados podremos construir un modelo optimizado, esto lo haremos con el método hypermodel.build de tuner que recibirá la configuración como argumento.\n",
    "\n",
    "Ahora tenemos un modelo listo para ser entrenado, agregaremos el callback de early stopping para evitar sobre entrenamientos innecesarios."
   ]
  },
  {
   "cell_type": "code",
   "execution_count": 11,
   "metadata": {},
   "outputs": [],
   "source": [
    "callback_early = tf.keras.callbacks.EarlyStopping(\n",
    "    monitor='loss',\n",
    "    patience=3,\n",
    "    mode='auto'\n",
    ")"
   ]
  },
  {
   "cell_type": "code",
   "execution_count": 13,
   "metadata": {},
   "outputs": [
    {
     "name": "stdout",
     "output_type": "stream",
     "text": [
      "Epoch 1/20\n",
      "\u001b[1m215/215\u001b[0m \u001b[32m━━━━━━━━━━━━━━━━━━━━\u001b[0m\u001b[37m\u001b[0m \u001b[1m39s\u001b[0m 163ms/step - accuracy: 0.0403 - loss: 3.2564 - val_accuracy: 0.0225 - val_loss: 3.2069\n",
      "Epoch 2/20\n",
      "\u001b[1m215/215\u001b[0m \u001b[32m━━━━━━━━━━━━━━━━━━━━\u001b[0m\u001b[37m\u001b[0m \u001b[1m34s\u001b[0m 159ms/step - accuracy: 0.0493 - loss: 3.1789 - val_accuracy: 0.0196 - val_loss: 3.2028\n",
      "Epoch 3/20\n",
      "\u001b[1m215/215\u001b[0m \u001b[32m━━━━━━━━━━━━━━━━━━━━\u001b[0m\u001b[37m\u001b[0m \u001b[1m40s\u001b[0m 155ms/step - accuracy: 0.0447 - loss: 3.1782 - val_accuracy: 0.0225 - val_loss: 3.2027\n"
     ]
    }
   ],
   "source": [
    "hypermodel = tuner.hypermodel.build(best_hps)\n",
    "\n",
    "history_hypermodel = hypermodel.fit(\n",
    "    train_generator,\n",
    "    epochs = 20,\n",
    "    callbacks = [callback_early],\n",
    "    validation_data = validation_generator\n",
    ")"
   ]
  },
  {
   "cell_type": "markdown",
   "metadata": {},
   "source": [
    "> El early sttoping detecto que no estaba mejorando el modelo en cada epoca por lo que detuvo el entrenamiento.\n",
    "\n",
    "> El modelo alcanza un valor 0.0447 en accuracy de entrenamiento\n",
    "\n"
   ]
  }
 ],
 "metadata": {
  "kernelspec": {
   "display_name": "tf_cpu",
   "language": "python",
   "name": "python3"
  },
  "language_info": {
   "codemirror_mode": {
    "name": "ipython",
    "version": 3
   },
   "file_extension": ".py",
   "mimetype": "text/x-python",
   "name": "python",
   "nbconvert_exporter": "python",
   "pygments_lexer": "ipython3",
   "version": "3.9.20"
  }
 },
 "nbformat": 4,
 "nbformat_minor": 2
}
