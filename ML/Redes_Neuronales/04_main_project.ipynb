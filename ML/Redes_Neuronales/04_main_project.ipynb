{
 "cells": [
  {
   "cell_type": "markdown",
   "metadata": {},
   "source": [
    "# Proyecto del Curso"
   ]
  },
  {
   "cell_type": "markdown",
   "metadata": {},
   "source": [
    "### Cargar los datos"
   ]
  },
  {
   "cell_type": "markdown",
   "metadata": {},
   "source": [
    "Vamos a trabajar con un dataset de lenguajes de señas. Para ello, vamos a descargar los datos de la nube de Google"
   ]
  },
  {
   "cell_type": "code",
   "execution_count": 1,
   "metadata": {},
   "outputs": [
    {
     "name": "stdout",
     "output_type": "stream",
     "text": [
      "--2024-11-01 09:08:46--  https://storage.googleapis.com/platzi-tf2/sign-language-img.zip\n",
      "Resolving storage.googleapis.com (storage.googleapis.com)... 142.251.132.91, 142.251.132.123, 142.251.132.155, ...\n",
      "Connecting to storage.googleapis.com (storage.googleapis.com)|142.251.132.91|:443... connected.\n",
      "HTTP request sent, awaiting response... 200 OK\n",
      "Length: 24265584 (23M) [application/zip]\n",
      "Saving to: ‘sign-language-img.zip’\n",
      "\n",
      "sign-language-img.z 100%[===================>]  23.14M  1.50MB/s    in 20s     \n",
      "\n",
      "2024-11-01 09:09:07 (1.15 MB/s) - ‘sign-language-img.zip’ saved [24265584/24265584]\n",
      "\n",
      "--2024-11-01 09:09:07--  http://%20-o/\n",
      "Resolving  -o ( -o)... failed: Name or service not known.\n",
      "wget: unable to resolve host address ‘ -o’\n",
      "--2024-11-01 09:09:07--  http://./sign-language-img.zip\n",
      "Resolving . (.)... failed: No address associated with hostname.\n",
      "wget: unable to resolve host address ‘.’\n",
      "FINISHED --2024-11-01 09:09:07--\n",
      "Total wall clock time: 21s\n",
      "Downloaded: 1 files, 23M in 20s (1.15 MB/s)\n"
     ]
    }
   ],
   "source": [
    "!wget --no-check-certificate https://storage.googleapis.com/platzi-tf2/sign-language-img.zip \\ -O ./sign-language-img.zip"
   ]
  },
  {
   "cell_type": "markdown",
   "metadata": {},
   "source": [
    "Una vez descargado el archivo .zip en nuestro entorno local, procedemos a  descomprimirlo"
   ]
  },
  {
   "cell_type": "code",
   "execution_count": 2,
   "metadata": {},
   "outputs": [],
   "source": [
    "import os\n",
    "import zipfile"
   ]
  },
  {
   "cell_type": "code",
   "execution_count": null,
   "metadata": {},
   "outputs": [],
   "source": [
    "# ruta donde se encuentra el .zip\n",
    "path_zip = './sign-language-img.zip'\n",
    "\n",
    "# obtencion de los archivos de zip\n",
    "zip_ref = zipfile.ZipFile(path_zip, 'r')\n",
    "zip_ref.extractall('./sign-language-img')\n",
    "zip_ref.close()"
   ]
  },
  {
   "cell_type": "markdown",
   "metadata": {},
   "source": [
    "La estructura del dataset constará en 2 directorios principales: Test y Train, donde para cada clase (letra en señas) tendremos un directorio con sus respectivos ejemplos."
   ]
  },
  {
   "cell_type": "markdown",
   "metadata": {},
   "source": [
    "### Cargar el dataset con Keras dataset generator"
   ]
  },
  {
   "cell_type": "markdown",
   "metadata": {},
   "source": [
    "Procedemos a cargar las librerias necesarias."
   ]
  },
  {
   "cell_type": "code",
   "execution_count": 4,
   "metadata": {},
   "outputs": [],
   "source": [
    "import numpy as np\n",
    "%matplotlib inline\n",
    "import matplotlib.pyplot as plt\n",
    "import matplotlib.image as mpimg\n",
    "import string\n",
    "import tensorflow as tf\n",
    "\n",
    "# libreria para trabajar con las bases de datos \n",
    "from tensorflow.keras.preprocessing.image import ImageDataGenerator"
   ]
  },
  {
   "cell_type": "markdown",
   "metadata": {},
   "source": [
    "Cargamos las rutas donde se encuentra nuestro dataset"
   ]
  },
  {
   "cell_type": "code",
   "execution_count": 5,
   "metadata": {},
   "outputs": [],
   "source": [
    "train_dir = './sign-language-img/Train'\n",
    "test_dir = './sign-language-img/Test'"
   ]
  }
 ],
 "metadata": {
  "kernelspec": {
   "display_name": "tf_cpu",
   "language": "python",
   "name": "python3"
  },
  "language_info": {
   "codemirror_mode": {
    "name": "ipython",
    "version": 3
   },
   "file_extension": ".py",
   "mimetype": "text/x-python",
   "name": "python",
   "nbconvert_exporter": "python",
   "pygments_lexer": "ipython3",
   "version": "3.9.20"
  }
 },
 "nbformat": 4,
 "nbformat_minor": 2
}
