{
 "cells": [
  {
   "cell_type": "markdown",
   "id": "ff01801e",
   "metadata": {},
   "source": [
    "# Funciones para evaluar los supuestos de la Regresion Lineal"
   ]
  },
  {
   "cell_type": "code",
   "execution_count": 1,
   "id": "74b6c233",
   "metadata": {},
   "outputs": [],
   "source": [
    "# librerias\n",
    "import seaborn as sns\n",
    "import matplotlib.pyplot as plt\n",
    "from scipy import stats\n",
    "import statsmodels as sms\n",
    "from statsmodels.stats.outliers_influence import variance_inflation_factor"
   ]
  },
  {
   "cell_type": "code",
   "execution_count": 1,
   "id": "ff2ef1fd",
   "metadata": {},
   "outputs": [],
   "source": [
    "# Media de los residuales\n",
    "def Med_residual(model_entrenado):\n",
    "    '''\n",
    "    Calcula la media de los residuos del modelo. Solicita como parametro\n",
    "    el modelo entrenado\n",
    "    '''\n",
    "    resid_val = model_entrenado.resid\n",
    "    print(resid_val.mean())\n",
    "    \n",
    "# Normalidad\n",
    "def Norm_residuales(model_entrenado, X_test, y_test):\n",
    "    '''\n",
    "    Muestra la grafica Q-Q de los residuales asi como los resultados de la\n",
    "    prueba Shapiro Wilk. Requiere como parametro el modelo entrenado\n",
    "    '''\n",
    "    #resid_val = model_entrenado.resid\n",
    "    y_pred = model_entrenado.predict(X_test)\n",
    "    residuales = y_test - y_pred\n",
    "    \n",
    "    sm.qqplot(residuales, line='s')\n",
    "    plt.title('Grafico Q-Q', fontsize=16);\n",
    "    \n",
    "    print(stats.shapiro(residuales))\n",
    "    \n",
    "# Linealidad\n",
    "def Linealidad(model_entrenado, X_train, y_train):\n",
    "    '''\n",
    "    Grafica los valores observados con los valores predichos por el modelo. Requiere\n",
    "    como parametro el modelo entrenado y los datos con los que fue entrenado el modelo (y_train)\n",
    "    '''\n",
    "    predict_val = model_entrenado.predict(X_train)\n",
    "    \n",
    "    fig, ax = plt.subplots(figsize=(7,4))\n",
    "    sns.regplot(x=predict_val, y=y_train, lowess=True, line_kws={'color':'red'})\n",
    "    ax.set_title('Valores predichos vs observados', fontsize=16);\n",
    "    ax.set_xlabel('Predicciones', fontsize=13)\n",
    "    ax.set_ylabel('Valores Reales', fontsize=13);\n",
    "    \n",
    "# Homocedasticidad\n",
    "def Homocedasticidad(model_entrenado):\n",
    "    '''\n",
    "    Evalua la igualdad de varianza de los residuales mostrando una grafica de dispersion\n",
    "    entre los valores predichos y los residuales. Ademas, muestra el p-value obtenido de\n",
    "    la prueba Breush - Pagan para contrastar la evaluacion. Requiere como parametro el\n",
    "    modelo entrenado\n",
    "    '''\n",
    "    # valores residuales estandarizados\n",
    "    resid_stand = model_entrenado.get_influence().resid_studentized_internal\n",
    "    # valores de la prediccion del modelo\n",
    "    predict_val = model_entrenado.predict()\n",
    "    # grafico\n",
    "    sns.regplot(x=predict_val, y=resid_stand, lowess=True, line_kws={'color':'red'})\n",
    "    plt.title('Valores predichos vs Residuales');\n",
    "    \n",
    "    # prueba de Breush-Pragan\n",
    "    resid_val = model_entrenado.resid\n",
    "    BP_test = sms.stats.diagnostic.het_breuschpagan(resid_val, model_entrenado.model.exog)\n",
    "    print('\\nBreush - Pagan Test: p-value=', BP_test[1])\n",
    "    \n",
    "# Multicolinealidad\n",
    "def Multicolinealidad(X):\n",
    "    '''\n",
    "    Examina la multicolinealidad de las variables con la metrica VIF.\n",
    "    Requiere como parametro los datos de las variables predictoras\n",
    "    '''\n",
    "    # Columna para el intercepto\n",
    "    X_constant = sm.add_constant(X)\n",
    "    # calculo de vif\n",
    "    vif = [variance_inflation_factor(X_constant.values, i) for i in range(X_constant.shape[1])]\n",
    "    return pd.DataFrame({'vif': vif[1:]}, index=X.columns).T"
   ]
  },
  {
   "cell_type": "code",
   "execution_count": null,
   "id": "27bcbe7c",
   "metadata": {},
   "outputs": [],
   "source": []
  },
  {
   "cell_type": "code",
   "execution_count": null,
   "id": "8e08eddd",
   "metadata": {},
   "outputs": [],
   "source": []
  }
 ],
 "metadata": {
  "kernelspec": {
   "display_name": "Python 3 (ipykernel)",
   "language": "python",
   "name": "python3"
  },
  "language_info": {
   "codemirror_mode": {
    "name": "ipython",
    "version": 3
   },
   "file_extension": ".py",
   "mimetype": "text/x-python",
   "name": "python",
   "nbconvert_exporter": "python",
   "pygments_lexer": "ipython3",
   "version": "3.9.12"
  }
 },
 "nbformat": 4,
 "nbformat_minor": 5
}
