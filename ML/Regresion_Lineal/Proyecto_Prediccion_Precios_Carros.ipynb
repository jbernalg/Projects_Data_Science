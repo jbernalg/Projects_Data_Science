{
 "cells": [
  {
   "cell_type": "markdown",
   "id": "71344dd8",
   "metadata": {},
   "source": [
    "# Prediccion de Precios de Carros"
   ]
  },
  {
   "cell_type": "markdown",
   "id": "125a3b21",
   "metadata": {},
   "source": [
    "Creacion de un modelo de Machine Learning para predecir los precios de los carros en el mercado estadounidense. El objetivo es ayudar a nuevos integrantes a comprender factores de precios importantes en este mercado."
   ]
  },
  {
   "cell_type": "markdown",
   "id": "fd6b9400",
   "metadata": {},
   "source": [
    "# Seccion 1. Analisis y exploracion de los datos"
   ]
  },
  {
   "cell_type": "markdown",
   "id": "9a7ff41c",
   "metadata": {},
   "source": [
    "## Librerias"
   ]
  },
  {
   "cell_type": "code",
   "execution_count": 438,
   "id": "2711f1ad",
   "metadata": {},
   "outputs": [],
   "source": [
    "import numpy as np\n",
    "import pandas as pd\n",
    "import matplotlib.pyplot as plt\n",
    "import seaborn as sns\n",
    "%matplotlib inline"
   ]
  },
  {
   "cell_type": "markdown",
   "id": "639f8a72",
   "metadata": {},
   "source": [
    "## Gestion de advertencias"
   ]
  },
  {
   "cell_type": "code",
   "execution_count": 439,
   "id": "9bb52ddc",
   "metadata": {},
   "outputs": [],
   "source": [
    "import warnings\n",
    "\n",
    "# ignora advertencias sobre funcionalidades que se van a dejar de usar\n",
    "warnings.simplefilter(action='ignore', category=FutureWarning)\n",
    "\n",
    "# ignora advertencias sobre problemas en tiempo de ejecucion\n",
    "warnings.filterwarnings('ignore', category=RuntimeWarning)"
   ]
  },
  {
   "cell_type": "markdown",
   "id": "e059a9f9",
   "metadata": {},
   "source": [
    "## Cargar datos"
   ]
  },
  {
   "cell_type": "code",
   "execution_count": 440,
   "id": "2ddeb123",
   "metadata": {},
   "outputs": [
    {
     "data": {
      "text/html": [
       "<div>\n",
       "<style scoped>\n",
       "    .dataframe tbody tr th:only-of-type {\n",
       "        vertical-align: middle;\n",
       "    }\n",
       "\n",
       "    .dataframe tbody tr th {\n",
       "        vertical-align: top;\n",
       "    }\n",
       "\n",
       "    .dataframe thead th {\n",
       "        text-align: right;\n",
       "    }\n",
       "</style>\n",
       "<table border=\"1\" class=\"dataframe\">\n",
       "  <thead>\n",
       "    <tr style=\"text-align: right;\">\n",
       "      <th></th>\n",
       "      <th>car_ID</th>\n",
       "      <th>symboling</th>\n",
       "      <th>CarName</th>\n",
       "      <th>fueltype</th>\n",
       "      <th>aspiration</th>\n",
       "      <th>doornumber</th>\n",
       "      <th>carbody</th>\n",
       "      <th>drivewheel</th>\n",
       "      <th>enginelocation</th>\n",
       "      <th>wheelbase</th>\n",
       "      <th>...</th>\n",
       "      <th>enginesize</th>\n",
       "      <th>fuelsystem</th>\n",
       "      <th>boreratio</th>\n",
       "      <th>stroke</th>\n",
       "      <th>compressionratio</th>\n",
       "      <th>horsepower</th>\n",
       "      <th>peakrpm</th>\n",
       "      <th>citympg</th>\n",
       "      <th>highwaympg</th>\n",
       "      <th>price</th>\n",
       "    </tr>\n",
       "  </thead>\n",
       "  <tbody>\n",
       "    <tr>\n",
       "      <th>0</th>\n",
       "      <td>1</td>\n",
       "      <td>3</td>\n",
       "      <td>alfa-romero giulia</td>\n",
       "      <td>gas</td>\n",
       "      <td>std</td>\n",
       "      <td>two</td>\n",
       "      <td>convertible</td>\n",
       "      <td>rwd</td>\n",
       "      <td>front</td>\n",
       "      <td>88.6</td>\n",
       "      <td>...</td>\n",
       "      <td>130</td>\n",
       "      <td>mpfi</td>\n",
       "      <td>3.47</td>\n",
       "      <td>2.68</td>\n",
       "      <td>9.0</td>\n",
       "      <td>111</td>\n",
       "      <td>5000</td>\n",
       "      <td>21</td>\n",
       "      <td>27</td>\n",
       "      <td>13495.0</td>\n",
       "    </tr>\n",
       "    <tr>\n",
       "      <th>1</th>\n",
       "      <td>2</td>\n",
       "      <td>3</td>\n",
       "      <td>alfa-romero stelvio</td>\n",
       "      <td>gas</td>\n",
       "      <td>std</td>\n",
       "      <td>two</td>\n",
       "      <td>convertible</td>\n",
       "      <td>rwd</td>\n",
       "      <td>front</td>\n",
       "      <td>88.6</td>\n",
       "      <td>...</td>\n",
       "      <td>130</td>\n",
       "      <td>mpfi</td>\n",
       "      <td>3.47</td>\n",
       "      <td>2.68</td>\n",
       "      <td>9.0</td>\n",
       "      <td>111</td>\n",
       "      <td>5000</td>\n",
       "      <td>21</td>\n",
       "      <td>27</td>\n",
       "      <td>16500.0</td>\n",
       "    </tr>\n",
       "    <tr>\n",
       "      <th>2</th>\n",
       "      <td>3</td>\n",
       "      <td>1</td>\n",
       "      <td>alfa-romero Quadrifoglio</td>\n",
       "      <td>gas</td>\n",
       "      <td>std</td>\n",
       "      <td>two</td>\n",
       "      <td>hatchback</td>\n",
       "      <td>rwd</td>\n",
       "      <td>front</td>\n",
       "      <td>94.5</td>\n",
       "      <td>...</td>\n",
       "      <td>152</td>\n",
       "      <td>mpfi</td>\n",
       "      <td>2.68</td>\n",
       "      <td>3.47</td>\n",
       "      <td>9.0</td>\n",
       "      <td>154</td>\n",
       "      <td>5000</td>\n",
       "      <td>19</td>\n",
       "      <td>26</td>\n",
       "      <td>16500.0</td>\n",
       "    </tr>\n",
       "    <tr>\n",
       "      <th>3</th>\n",
       "      <td>4</td>\n",
       "      <td>2</td>\n",
       "      <td>audi 100 ls</td>\n",
       "      <td>gas</td>\n",
       "      <td>std</td>\n",
       "      <td>four</td>\n",
       "      <td>sedan</td>\n",
       "      <td>fwd</td>\n",
       "      <td>front</td>\n",
       "      <td>99.8</td>\n",
       "      <td>...</td>\n",
       "      <td>109</td>\n",
       "      <td>mpfi</td>\n",
       "      <td>3.19</td>\n",
       "      <td>3.40</td>\n",
       "      <td>10.0</td>\n",
       "      <td>102</td>\n",
       "      <td>5500</td>\n",
       "      <td>24</td>\n",
       "      <td>30</td>\n",
       "      <td>13950.0</td>\n",
       "    </tr>\n",
       "    <tr>\n",
       "      <th>4</th>\n",
       "      <td>5</td>\n",
       "      <td>2</td>\n",
       "      <td>audi 100ls</td>\n",
       "      <td>gas</td>\n",
       "      <td>std</td>\n",
       "      <td>four</td>\n",
       "      <td>sedan</td>\n",
       "      <td>4wd</td>\n",
       "      <td>front</td>\n",
       "      <td>99.4</td>\n",
       "      <td>...</td>\n",
       "      <td>136</td>\n",
       "      <td>mpfi</td>\n",
       "      <td>3.19</td>\n",
       "      <td>3.40</td>\n",
       "      <td>8.0</td>\n",
       "      <td>115</td>\n",
       "      <td>5500</td>\n",
       "      <td>18</td>\n",
       "      <td>22</td>\n",
       "      <td>17450.0</td>\n",
       "    </tr>\n",
       "  </tbody>\n",
       "</table>\n",
       "<p>5 rows × 26 columns</p>\n",
       "</div>"
      ],
      "text/plain": [
       "   car_ID  symboling                   CarName fueltype aspiration doornumber  \\\n",
       "0       1          3        alfa-romero giulia      gas        std        two   \n",
       "1       2          3       alfa-romero stelvio      gas        std        two   \n",
       "2       3          1  alfa-romero Quadrifoglio      gas        std        two   \n",
       "3       4          2               audi 100 ls      gas        std       four   \n",
       "4       5          2                audi 100ls      gas        std       four   \n",
       "\n",
       "       carbody drivewheel enginelocation  wheelbase  ...  enginesize  \\\n",
       "0  convertible        rwd          front       88.6  ...         130   \n",
       "1  convertible        rwd          front       88.6  ...         130   \n",
       "2    hatchback        rwd          front       94.5  ...         152   \n",
       "3        sedan        fwd          front       99.8  ...         109   \n",
       "4        sedan        4wd          front       99.4  ...         136   \n",
       "\n",
       "   fuelsystem  boreratio  stroke compressionratio horsepower  peakrpm citympg  \\\n",
       "0        mpfi       3.47    2.68              9.0        111     5000      21   \n",
       "1        mpfi       3.47    2.68              9.0        111     5000      21   \n",
       "2        mpfi       2.68    3.47              9.0        154     5000      19   \n",
       "3        mpfi       3.19    3.40             10.0        102     5500      24   \n",
       "4        mpfi       3.19    3.40              8.0        115     5500      18   \n",
       "\n",
       "   highwaympg    price  \n",
       "0          27  13495.0  \n",
       "1          27  16500.0  \n",
       "2          26  16500.0  \n",
       "3          30  13950.0  \n",
       "4          22  17450.0  \n",
       "\n",
       "[5 rows x 26 columns]"
      ]
     },
     "execution_count": 440,
     "metadata": {},
     "output_type": "execute_result"
    }
   ],
   "source": [
    "df = pd.read_csv('CarPrice_Assignment.csv')\n",
    "df.head()"
   ]
  },
  {
   "cell_type": "code",
   "execution_count": 441,
   "id": "bdf06fa1",
   "metadata": {},
   "outputs": [
    {
     "name": "stdout",
     "output_type": "stream",
     "text": [
      "<class 'pandas.core.frame.DataFrame'>\n",
      "RangeIndex: 205 entries, 0 to 204\n",
      "Data columns (total 26 columns):\n",
      " #   Column            Non-Null Count  Dtype  \n",
      "---  ------            --------------  -----  \n",
      " 0   car_ID            205 non-null    int64  \n",
      " 1   symboling         205 non-null    int64  \n",
      " 2   CarName           205 non-null    object \n",
      " 3   fueltype          205 non-null    object \n",
      " 4   aspiration        205 non-null    object \n",
      " 5   doornumber        205 non-null    object \n",
      " 6   carbody           205 non-null    object \n",
      " 7   drivewheel        205 non-null    object \n",
      " 8   enginelocation    205 non-null    object \n",
      " 9   wheelbase         205 non-null    float64\n",
      " 10  carlength         205 non-null    float64\n",
      " 11  carwidth          205 non-null    float64\n",
      " 12  carheight         205 non-null    float64\n",
      " 13  curbweight        205 non-null    int64  \n",
      " 14  enginetype        205 non-null    object \n",
      " 15  cylindernumber    205 non-null    object \n",
      " 16  enginesize        205 non-null    int64  \n",
      " 17  fuelsystem        205 non-null    object \n",
      " 18  boreratio         205 non-null    float64\n",
      " 19  stroke            205 non-null    float64\n",
      " 20  compressionratio  205 non-null    float64\n",
      " 21  horsepower        205 non-null    int64  \n",
      " 22  peakrpm           205 non-null    int64  \n",
      " 23  citympg           205 non-null    int64  \n",
      " 24  highwaympg        205 non-null    int64  \n",
      " 25  price             205 non-null    float64\n",
      "dtypes: float64(8), int64(8), object(10)\n",
      "memory usage: 41.8+ KB\n"
     ]
    }
   ],
   "source": [
    "# resumen por variable\n",
    "df.info()"
   ]
  },
  {
   "cell_type": "markdown",
   "id": "47fbc0b8",
   "metadata": {},
   "source": [
    "> Las 26 variables estan libres de valores faltantes. Existen 205 registros"
   ]
  },
  {
   "cell_type": "markdown",
   "id": "925f88fe",
   "metadata": {},
   "source": [
    "## Entendiendo las variables predictoras"
   ]
  },
  {
   "cell_type": "markdown",
   "id": "026c0a2e",
   "metadata": {},
   "source": [
    "### **Symboling**\n",
    "\n",
    "Hace referencia al riesgo del auto y va en una escala de -2 a 3,siendo el -2 menos riesgoso y 3 mas riesgoso."
   ]
  },
  {
   "cell_type": "code",
   "execution_count": 442,
   "id": "e4b152b5",
   "metadata": {},
   "outputs": [
    {
     "data": {
      "text/plain": [
       " 0    67\n",
       " 1    54\n",
       " 2    32\n",
       " 3    27\n",
       "-1    22\n",
       "-2     3\n",
       "Name: symboling, dtype: int64"
      ]
     },
     "execution_count": 442,
     "metadata": {},
     "output_type": "execute_result"
    }
   ],
   "source": [
    "# Categorias de la variable Symboling\n",
    "df['symboling'].value_counts()"
   ]
  },
  {
   "cell_type": "code",
   "execution_count": 443,
   "id": "5c9a4cfd",
   "metadata": {
    "scrolled": true
   },
   "outputs": [
    {
     "data": {
      "text/plain": [
       " 0    32.682927\n",
       " 1    26.341463\n",
       " 2    15.609756\n",
       " 3    13.170732\n",
       "-1    10.731707\n",
       "-2     1.463415\n",
       "Name: symboling, dtype: float64"
      ]
     },
     "execution_count": 443,
     "metadata": {},
     "output_type": "execute_result"
    }
   ],
   "source": [
    "# porcentaje de las diferentes categorias de symboling\n",
    "df['symboling'].value_counts(normalize=True)*100"
   ]
  },
  {
   "cell_type": "markdown",
   "id": "2d46541c",
   "metadata": {},
   "source": [
    "- La mayoria de los carros son 0, 1, 2, es decir con un riesgo considerable\n",
    "\n",
    "- Son pocos los carros con bajo riesgo (-2)"
   ]
  },
  {
   "cell_type": "markdown",
   "id": "8b175011",
   "metadata": {},
   "source": [
    "### **Aspiration**\n",
    "\n",
    "Es una propiedad del motor (de combustion interna) que muestra si la ingesta de oxigeno es estandar (presion atmosferica) o mediante turbocompresor (entrada de oxigeno a presion)"
   ]
  },
  {
   "cell_type": "code",
   "execution_count": 444,
   "id": "3375926b",
   "metadata": {},
   "outputs": [
    {
     "data": {
      "text/plain": [
       "std      81.95122\n",
       "turbo    18.04878\n",
       "Name: aspiration, dtype: float64"
      ]
     },
     "execution_count": 444,
     "metadata": {},
     "output_type": "execute_result"
    }
   ],
   "source": [
    "# categorias de la variable aspiration\n",
    "df['aspiration'].value_counts(normalize=True)*100"
   ]
  },
  {
   "cell_type": "markdown",
   "id": "8c625861",
   "metadata": {},
   "source": [
    "- El 81.9% de los carros son de ingesta de oxigeno estandar\n",
    "- El 18.1% son de turbocompresor"
   ]
  },
  {
   "cell_type": "markdown",
   "id": "0a259832",
   "metadata": {},
   "source": [
    "### **Drivewheel**\n",
    "\n",
    "Hace referencia a la rueda de traccion del carro: rueda delantera (frontwheel), rueda trasera (rear wheel) o traccion en las cuatro ruedas (four-wheel drive)."
   ]
  },
  {
   "cell_type": "code",
   "execution_count": 445,
   "id": "5a8559f4",
   "metadata": {},
   "outputs": [
    {
     "data": {
      "text/plain": [
       "fwd    58.536585\n",
       "rwd    37.073171\n",
       "4wd     4.390244\n",
       "Name: drivewheel, dtype: float64"
      ]
     },
     "execution_count": 445,
     "metadata": {},
     "output_type": "execute_result"
    }
   ],
   "source": [
    "df['drivewheel'].value_counts(normalize=True)*100"
   ]
  },
  {
   "cell_type": "markdown",
   "id": "7ac43f98",
   "metadata": {},
   "source": [
    "- El 58.3% de los carros son de traccion delantera\n",
    "- El 37.1% son de traccion trasera\n",
    "- El 4.4% son de traccion en las 4 ruedas."
   ]
  },
  {
   "cell_type": "markdown",
   "id": "d2cf209e",
   "metadata": {},
   "source": [
    "### **Wheelbase**\n",
    "\n",
    "Es la distancia entre el centro de las ruedas delanteras y traseras."
   ]
  },
  {
   "cell_type": "code",
   "execution_count": 446,
   "id": "580f6ae1",
   "metadata": {},
   "outputs": [
    {
     "data": {
      "image/png": "[encoded data removed]",
      "text/plain": [
       "<Figure size 720x432 with 1 Axes>"
      ]
     },
     "metadata": {
      "needs_background": "light"
     },
     "output_type": "display_data"
    }
   ],
   "source": [
    "# como es una variable numerica, veamos su distribucion\n",
    "plt.figure(figsize=(10, 6))\n",
    "sns.distplot(df['wheelbase'])\n",
    "plt.grid(True)\n",
    "plt.xlabel('Distancia entre ejes', fontsize= 14)\n",
    "plt.ylabel('Densidad', fontsize= 14)\n",
    "plt.title('Distribucion de probabilidad de la distancia entre ejes', fontsize= 19);"
   ]
  },
  {
   "cell_type": "markdown",
   "id": "09de8183",
   "metadata": {},
   "source": [
    "- La mayoria de los carros tienen una distancia entre ejes entre 92.5 y 97.5 "
   ]
  },
  {
   "cell_type": "markdown",
   "id": "ad76471b",
   "metadata": {},
   "source": [
    "### **Curbweight**\n",
    "\n",
    "Peso del carro sin ocupantes ni equipajes"
   ]
  },
  {
   "cell_type": "code",
   "execution_count": 447,
   "id": "504c69e0",
   "metadata": {
    "scrolled": true
   },
   "outputs": [
    {
     "data": {
      "image/png": "[encoded data removed]",
      "text/plain": [
       "<Figure size 720x432 with 1 Axes>"
      ]
     },
     "metadata": {
      "needs_background": "light"
     },
     "output_type": "display_data"
    }
   ],
   "source": [
    "# ditribucion\n",
    "plt.figure(figsize=(10, 6))\n",
    "sns.distplot(df['curbweight'])\n",
    "plt.grid(True)\n",
    "plt.xlabel('Peso Neto del carro', fontsize= 14)\n",
    "plt.ylabel('Densidad', fontsize= 14)\n",
    "plt.title('Peso', fontsize= 19);"
   ]
  },
  {
   "cell_type": "markdown",
   "id": "ae9de0e2",
   "metadata": {},
   "source": [
    "- La mayoria de los carros pesan entre 2000 y 2500."
   ]
  },
  {
   "cell_type": "markdown",
   "id": "6d7ac08d",
   "metadata": {},
   "source": [
    "### **Stroke**\n",
    "\n",
    "Es el volumen del motor (distancia recorrida por el piston en cada ciclo)"
   ]
  },
  {
   "cell_type": "code",
   "execution_count": 448,
   "id": "e6b548da",
   "metadata": {},
   "outputs": [
    {
     "data": {
      "image/png": "[encoded data removed]",
      "text/plain": [
       "<Figure size 720x432 with 1 Axes>"
      ]
     },
     "metadata": {
      "needs_background": "light"
     },
     "output_type": "display_data"
    }
   ],
   "source": [
    "# distribucion\n",
    "plt.figure(figsize=(10, 6))\n",
    "sns.distplot(df['stroke'])\n",
    "plt.grid(True)\n",
    "plt.xlabel('Volumen', fontsize= 14)\n",
    "plt.ylabel('Densidad', fontsize= 14)\n",
    "plt.title('Volumen del motor de los carros', fontsize= 19);"
   ]
  },
  {
   "cell_type": "markdown",
   "id": "2c2f53de",
   "metadata": {},
   "source": [
    "- Hay una gran cantidad de carros con volumen de motor de 3.4."
   ]
  },
  {
   "cell_type": "markdown",
   "id": "ec1f7a70",
   "metadata": {},
   "source": [
    "### **Compression ration**\n",
    "\n",
    "Relacion de volumen de la camara de compresion de mayor a menor capacidad"
   ]
  },
  {
   "cell_type": "code",
   "execution_count": 449,
   "id": "ec112434",
   "metadata": {},
   "outputs": [
    {
     "data": {
      "image/png": "[encoded data removed]",
      "text/plain": [
       "<Figure size 720x432 with 1 Axes>"
      ]
     },
     "metadata": {
      "needs_background": "light"
     },
     "output_type": "display_data"
    }
   ],
   "source": [
    "# ditribucion\n",
    "plt.figure(figsize=(10, 6))\n",
    "sns.distplot(df['compressionratio'])\n",
    "plt.grid(True)\n",
    "plt.xlabel('Relacion de compresion', fontsize= 14)\n",
    "plt.ylabel('Densidad', fontsize= 14)\n",
    "plt.title('Relacion de compresion de los carros', fontsize= 19);"
   ]
  },
  {
   "cell_type": "markdown",
   "id": "06886a6e",
   "metadata": {},
   "source": [
    "- La mayoria de los carros tienen una relacion de compresion de 7.5 a 10.0\n",
    "- Hay unos pocos con relacion de compresion entre 20 y 22.5\n",
    "- En estos dos rangos se encuentran todos los carros."
   ]
  },
  {
   "cell_type": "markdown",
   "id": "5b482026",
   "metadata": {},
   "source": [
    "## Entendiendo variable objetivo"
   ]
  },
  {
   "cell_type": "markdown",
   "id": "abd32122",
   "metadata": {},
   "source": [
    "Estamos interesados en predecir el precio de los carros, por tanto, la variable objetivo es *Price*.  Vamos a visualizar la variable en un histograma y en un grafico de densidad."
   ]
  },
  {
   "cell_type": "code",
   "execution_count": 450,
   "id": "a846fccd",
   "metadata": {},
   "outputs": [
    {
     "data": {
      "image/png": "[encoded data removed]",
      "text/plain": [
       "<Figure size 1080x360 with 2 Axes>"
      ]
     },
     "metadata": {
      "needs_background": "light"
     },
     "output_type": "display_data"
    }
   ],
   "source": [
    "# tamano de los graficos y cantidad de grilla\n",
    "fig, ax= plt.subplots(1,2,figsize=(15,5))\n",
    "\n",
    "# Histograma\n",
    "sns.distplot(df['price'], norm_hist=False, kde=False, ax=ax[0], color='blue')\n",
    "ax[0].set_xlabel('Precio Carros')\n",
    "ax[0].set_ylabel('Cantidad de carros',size=12)\n",
    "ax[0].set_title('Conteo de carros por precio',size=15,weight=\"bold\")\n",
    "\n",
    "# Grafico de densidad\n",
    "sns.distplot(df['price'], kde=True, ax=ax[1], color='green')\n",
    "ax[1].set_xlabel('Precio Carros')\n",
    "ax[1].set_ylabel('Frecuencia relativa de Carros', size=12)\n",
    "ax[1].set_title('Frecuencia relativa de carros por precio', size=15, weight='bold');"
   ]
  },
  {
   "cell_type": "markdown",
   "id": "fbd1a10c",
   "metadata": {},
   "source": [
    "- El precio tiene un sesgo positivo. Sin embargo, la mayoria de los carros tienen precios bajos.\n",
    "\n",
    "- Entre 105 y 107 carros tienen un precio inferior a 10.000. Representan mas del 50%.\n",
    "\n",
    "- Entre 68 y 70 carros tienen precio entre 10.000 y 20.000. Representan cerca del 35%.\n",
    "\n",
    "- Alrededor del 85% de los carro tienen un precio entre 5.000 y 20.000 dolares.\n",
    "\n",
    "- El grafico derecho sugiere que hay 2 distribuciones, una para carros con precios entre 5.000 y 25.000 y otra para carros de mas de 25.000"
   ]
  },
  {
   "cell_type": "code",
   "execution_count": null,
   "id": "0fc8c966",
   "metadata": {},
   "outputs": [],
   "source": []
  },
  {
   "cell_type": "markdown",
   "id": "1c343544",
   "metadata": {},
   "source": [
    "# Seccion 2. Exploracion de los Datos"
   ]
  },
  {
   "cell_type": "markdown",
   "id": "fbbe02d9",
   "metadata": {},
   "source": [
    "## Relacion entre variables"
   ]
  },
  {
   "cell_type": "markdown",
   "id": "d22395c6",
   "metadata": {},
   "source": [
    "Veamos como se relacionan las variables predictoras con la variable objetivo."
   ]
  },
  {
   "cell_type": "code",
   "execution_count": 451,
   "id": "9ddf0e02",
   "metadata": {},
   "outputs": [
    {
     "data": {
      "text/html": [
       "<div>\n",
       "<style scoped>\n",
       "    .dataframe tbody tr th:only-of-type {\n",
       "        vertical-align: middle;\n",
       "    }\n",
       "\n",
       "    .dataframe tbody tr th {\n",
       "        vertical-align: top;\n",
       "    }\n",
       "\n",
       "    .dataframe thead th {\n",
       "        text-align: right;\n",
       "    }\n",
       "</style>\n",
       "<table border=\"1\" class=\"dataframe\">\n",
       "  <thead>\n",
       "    <tr style=\"text-align: right;\">\n",
       "      <th></th>\n",
       "      <th>car_ID</th>\n",
       "      <th>symboling</th>\n",
       "      <th>wheelbase</th>\n",
       "      <th>carlength</th>\n",
       "      <th>carwidth</th>\n",
       "      <th>carheight</th>\n",
       "      <th>curbweight</th>\n",
       "      <th>enginesize</th>\n",
       "      <th>boreratio</th>\n",
       "      <th>stroke</th>\n",
       "      <th>compressionratio</th>\n",
       "      <th>horsepower</th>\n",
       "      <th>peakrpm</th>\n",
       "      <th>citympg</th>\n",
       "      <th>highwaympg</th>\n",
       "      <th>price</th>\n",
       "    </tr>\n",
       "  </thead>\n",
       "  <tbody>\n",
       "    <tr>\n",
       "      <th>0</th>\n",
       "      <td>1</td>\n",
       "      <td>3</td>\n",
       "      <td>88.6</td>\n",
       "      <td>168.8</td>\n",
       "      <td>64.1</td>\n",
       "      <td>48.8</td>\n",
       "      <td>2548</td>\n",
       "      <td>130</td>\n",
       "      <td>3.47</td>\n",
       "      <td>2.68</td>\n",
       "      <td>9.0</td>\n",
       "      <td>111</td>\n",
       "      <td>5000</td>\n",
       "      <td>21</td>\n",
       "      <td>27</td>\n",
       "      <td>13495.0</td>\n",
       "    </tr>\n",
       "    <tr>\n",
       "      <th>1</th>\n",
       "      <td>2</td>\n",
       "      <td>3</td>\n",
       "      <td>88.6</td>\n",
       "      <td>168.8</td>\n",
       "      <td>64.1</td>\n",
       "      <td>48.8</td>\n",
       "      <td>2548</td>\n",
       "      <td>130</td>\n",
       "      <td>3.47</td>\n",
       "      <td>2.68</td>\n",
       "      <td>9.0</td>\n",
       "      <td>111</td>\n",
       "      <td>5000</td>\n",
       "      <td>21</td>\n",
       "      <td>27</td>\n",
       "      <td>16500.0</td>\n",
       "    </tr>\n",
       "    <tr>\n",
       "      <th>2</th>\n",
       "      <td>3</td>\n",
       "      <td>1</td>\n",
       "      <td>94.5</td>\n",
       "      <td>171.2</td>\n",
       "      <td>65.5</td>\n",
       "      <td>52.4</td>\n",
       "      <td>2823</td>\n",
       "      <td>152</td>\n",
       "      <td>2.68</td>\n",
       "      <td>3.47</td>\n",
       "      <td>9.0</td>\n",
       "      <td>154</td>\n",
       "      <td>5000</td>\n",
       "      <td>19</td>\n",
       "      <td>26</td>\n",
       "      <td>16500.0</td>\n",
       "    </tr>\n",
       "    <tr>\n",
       "      <th>3</th>\n",
       "      <td>4</td>\n",
       "      <td>2</td>\n",
       "      <td>99.8</td>\n",
       "      <td>176.6</td>\n",
       "      <td>66.2</td>\n",
       "      <td>54.3</td>\n",
       "      <td>2337</td>\n",
       "      <td>109</td>\n",
       "      <td>3.19</td>\n",
       "      <td>3.40</td>\n",
       "      <td>10.0</td>\n",
       "      <td>102</td>\n",
       "      <td>5500</td>\n",
       "      <td>24</td>\n",
       "      <td>30</td>\n",
       "      <td>13950.0</td>\n",
       "    </tr>\n",
       "    <tr>\n",
       "      <th>4</th>\n",
       "      <td>5</td>\n",
       "      <td>2</td>\n",
       "      <td>99.4</td>\n",
       "      <td>176.6</td>\n",
       "      <td>66.4</td>\n",
       "      <td>54.3</td>\n",
       "      <td>2824</td>\n",
       "      <td>136</td>\n",
       "      <td>3.19</td>\n",
       "      <td>3.40</td>\n",
       "      <td>8.0</td>\n",
       "      <td>115</td>\n",
       "      <td>5500</td>\n",
       "      <td>18</td>\n",
       "      <td>22</td>\n",
       "      <td>17450.0</td>\n",
       "    </tr>\n",
       "  </tbody>\n",
       "</table>\n",
       "</div>"
      ],
      "text/plain": [
       "   car_ID  symboling  wheelbase  carlength  carwidth  carheight  curbweight  \\\n",
       "0       1          3       88.6      168.8      64.1       48.8        2548   \n",
       "1       2          3       88.6      168.8      64.1       48.8        2548   \n",
       "2       3          1       94.5      171.2      65.5       52.4        2823   \n",
       "3       4          2       99.8      176.6      66.2       54.3        2337   \n",
       "4       5          2       99.4      176.6      66.4       54.3        2824   \n",
       "\n",
       "   enginesize  boreratio  stroke  compressionratio  horsepower  peakrpm  \\\n",
       "0         130       3.47    2.68               9.0         111     5000   \n",
       "1         130       3.47    2.68               9.0         111     5000   \n",
       "2         152       2.68    3.47               9.0         154     5000   \n",
       "3         109       3.19    3.40              10.0         102     5500   \n",
       "4         136       3.19    3.40               8.0         115     5500   \n",
       "\n",
       "   citympg  highwaympg    price  \n",
       "0       21          27  13495.0  \n",
       "1       21          27  16500.0  \n",
       "2       19          26  16500.0  \n",
       "3       24          30  13950.0  \n",
       "4       18          22  17450.0  "
      ]
     },
     "execution_count": 451,
     "metadata": {},
     "output_type": "execute_result"
    }
   ],
   "source": [
    "# seleccionar variables predictoras numericas\n",
    "df_numeric = df.select_dtypes(include=['float64', 'int64'])\n",
    "df_numeric.head()"
   ]
  },
  {
   "cell_type": "markdown",
   "id": "ad85c3e9",
   "metadata": {},
   "source": [
    "Eliminamos la variable *symboling* debido a que es de tipo categorica y *car_ID* ya que es un indice de los registros"
   ]
  },
  {
   "cell_type": "code",
   "execution_count": 452,
   "id": "850d7169",
   "metadata": {},
   "outputs": [
    {
     "data": {
      "text/html": [
       "<div>\n",
       "<style scoped>\n",
       "    .dataframe tbody tr th:only-of-type {\n",
       "        vertical-align: middle;\n",
       "    }\n",
       "\n",
       "    .dataframe tbody tr th {\n",
       "        vertical-align: top;\n",
       "    }\n",
       "\n",
       "    .dataframe thead th {\n",
       "        text-align: right;\n",
       "    }\n",
       "</style>\n",
       "<table border=\"1\" class=\"dataframe\">\n",
       "  <thead>\n",
       "    <tr style=\"text-align: right;\">\n",
       "      <th></th>\n",
       "      <th>wheelbase</th>\n",
       "      <th>carlength</th>\n",
       "      <th>carwidth</th>\n",
       "      <th>carheight</th>\n",
       "      <th>curbweight</th>\n",
       "      <th>enginesize</th>\n",
       "      <th>boreratio</th>\n",
       "      <th>stroke</th>\n",
       "      <th>compressionratio</th>\n",
       "      <th>horsepower</th>\n",
       "      <th>peakrpm</th>\n",
       "      <th>citympg</th>\n",
       "      <th>highwaympg</th>\n",
       "      <th>price</th>\n",
       "    </tr>\n",
       "  </thead>\n",
       "  <tbody>\n",
       "    <tr>\n",
       "      <th>0</th>\n",
       "      <td>88.6</td>\n",
       "      <td>168.8</td>\n",
       "      <td>64.1</td>\n",
       "      <td>48.8</td>\n",
       "      <td>2548</td>\n",
       "      <td>130</td>\n",
       "      <td>3.47</td>\n",
       "      <td>2.68</td>\n",
       "      <td>9.0</td>\n",
       "      <td>111</td>\n",
       "      <td>5000</td>\n",
       "      <td>21</td>\n",
       "      <td>27</td>\n",
       "      <td>13495.0</td>\n",
       "    </tr>\n",
       "    <tr>\n",
       "      <th>1</th>\n",
       "      <td>88.6</td>\n",
       "      <td>168.8</td>\n",
       "      <td>64.1</td>\n",
       "      <td>48.8</td>\n",
       "      <td>2548</td>\n",
       "      <td>130</td>\n",
       "      <td>3.47</td>\n",
       "      <td>2.68</td>\n",
       "      <td>9.0</td>\n",
       "      <td>111</td>\n",
       "      <td>5000</td>\n",
       "      <td>21</td>\n",
       "      <td>27</td>\n",
       "      <td>16500.0</td>\n",
       "    </tr>\n",
       "    <tr>\n",
       "      <th>2</th>\n",
       "      <td>94.5</td>\n",
       "      <td>171.2</td>\n",
       "      <td>65.5</td>\n",
       "      <td>52.4</td>\n",
       "      <td>2823</td>\n",
       "      <td>152</td>\n",
       "      <td>2.68</td>\n",
       "      <td>3.47</td>\n",
       "      <td>9.0</td>\n",
       "      <td>154</td>\n",
       "      <td>5000</td>\n",
       "      <td>19</td>\n",
       "      <td>26</td>\n",
       "      <td>16500.0</td>\n",
       "    </tr>\n",
       "    <tr>\n",
       "      <th>3</th>\n",
       "      <td>99.8</td>\n",
       "      <td>176.6</td>\n",
       "      <td>66.2</td>\n",
       "      <td>54.3</td>\n",
       "      <td>2337</td>\n",
       "      <td>109</td>\n",
       "      <td>3.19</td>\n",
       "      <td>3.40</td>\n",
       "      <td>10.0</td>\n",
       "      <td>102</td>\n",
       "      <td>5500</td>\n",
       "      <td>24</td>\n",
       "      <td>30</td>\n",
       "      <td>13950.0</td>\n",
       "    </tr>\n",
       "    <tr>\n",
       "      <th>4</th>\n",
       "      <td>99.4</td>\n",
       "      <td>176.6</td>\n",
       "      <td>66.4</td>\n",
       "      <td>54.3</td>\n",
       "      <td>2824</td>\n",
       "      <td>136</td>\n",
       "      <td>3.19</td>\n",
       "      <td>3.40</td>\n",
       "      <td>8.0</td>\n",
       "      <td>115</td>\n",
       "      <td>5500</td>\n",
       "      <td>18</td>\n",
       "      <td>22</td>\n",
       "      <td>17450.0</td>\n",
       "    </tr>\n",
       "  </tbody>\n",
       "</table>\n",
       "</div>"
      ],
      "text/plain": [
       "   wheelbase  carlength  carwidth  carheight  curbweight  enginesize  \\\n",
       "0       88.6      168.8      64.1       48.8        2548         130   \n",
       "1       88.6      168.8      64.1       48.8        2548         130   \n",
       "2       94.5      171.2      65.5       52.4        2823         152   \n",
       "3       99.8      176.6      66.2       54.3        2337         109   \n",
       "4       99.4      176.6      66.4       54.3        2824         136   \n",
       "\n",
       "   boreratio  stroke  compressionratio  horsepower  peakrpm  citympg  \\\n",
       "0       3.47    2.68               9.0         111     5000       21   \n",
       "1       3.47    2.68               9.0         111     5000       21   \n",
       "2       2.68    3.47               9.0         154     5000       19   \n",
       "3       3.19    3.40              10.0         102     5500       24   \n",
       "4       3.19    3.40               8.0         115     5500       18   \n",
       "\n",
       "   highwaympg    price  \n",
       "0          27  13495.0  \n",
       "1          27  16500.0  \n",
       "2          26  16500.0  \n",
       "3          30  13950.0  \n",
       "4          22  17450.0  "
      ]
     },
     "execution_count": 452,
     "metadata": {},
     "output_type": "execute_result"
    }
   ],
   "source": [
    "df_numeric = df_numeric.drop(['symboling', 'car_ID'], axis=1)\n",
    "df_numeric.head()"
   ]
  },
  {
   "cell_type": "markdown",
   "id": "77cd4de3",
   "metadata": {},
   "source": [
    "Cruzemos todas las variables entre si mediante graficos de dispersion para observar el tipo de relacion con la variable objetivo."
   ]
  },
  {
   "cell_type": "code",
   "execution_count": 453,
   "id": "962d4cee",
   "metadata": {},
   "outputs": [
    {
     "data": {
      "image/png": "[encoded data removed]",
      "text/plain": [
       "<Figure size 1080x1800 with 14 Axes>"
      ]
     },
     "metadata": {
      "needs_background": "light"
     },
     "output_type": "display_data"
    }
   ],
   "source": [
    "# Número de columnas predictoras\n",
    "num_cols = len(df_numeric.columns) - 1\n",
    "# Número de filas necesarias para una grilla de 3 columnas\n",
    "num_rows = (num_cols + 2) // 3  \n",
    "# Crear una grilla de subplots\n",
    "fig, axes = plt.subplots(num_rows, 3, figsize=(15, 5 * num_rows)) \n",
    "\n",
    "# Aplanar los ejes para facilitar la iteración\n",
    "axes = axes.flatten()\n",
    "\n",
    "for i, col in enumerate(df_numeric.columns):  \n",
    "    # grafico de dispersion de cada variable objetivo con price    \n",
    "    sns.scatterplot(x=df_numeric[col], y=df_numeric['price'], ax=axes[i])\n",
    "    axes[i].set_title(f'Grafico de Dispersion de Price vs {col}')\n",
    "\n",
    "# Eliminar cualquier subplot vacío\n",
    "for j in range(i + 1, len(axes)):\n",
    "    fig.delaxes(axes[j])\n",
    "\n",
    "plt.tight_layout()\n",
    "plt.show()"
   ]
  },
  {
   "cell_type": "markdown",
   "id": "e376d674",
   "metadata": {},
   "source": [
    "- Las variables que presentan una relacion lineal con *Price* son: ancho del carro (carwidth), peso en vacio (curbweight), tamaño del motor (enginesize), caballos de fuerza (horsepower), perforacion (boreration) y mpg en ciudad (citympg) \n",
    "\n",
    "- Las demas variables no tienen relaciones lineales fuertes con el precio o ningun tipo de relacion.\n",
    " "
   ]
  },
  {
   "cell_type": "code",
   "execution_count": null,
   "id": "0dc3e8a1",
   "metadata": {},
   "outputs": [],
   "source": []
  },
  {
   "cell_type": "markdown",
   "id": "aead9644",
   "metadata": {},
   "source": [
    "## Matriz de Correlacion"
   ]
  },
  {
   "cell_type": "markdown",
   "id": "332959b7",
   "metadata": {},
   "source": [
    "Veamos, analiticamente, la relacion lineal entre las variables mediante la matriz de correlacion "
   ]
  },
  {
   "cell_type": "code",
   "execution_count": 454,
   "id": "7af5a081",
   "metadata": {},
   "outputs": [
    {
     "data": {
      "image/png": "[encoded data removed]",
      "text/plain": [
       "<Figure size 1080x576 with 2 Axes>"
      ]
     },
     "metadata": {
      "needs_background": "light"
     },
     "output_type": "display_data"
    }
   ],
   "source": [
    "corr = df_numeric.corr()\n",
    "plt.figure(figsize=(15,8))\n",
    "sns.heatmap(corr, annot=True, cmap='YlGnBu');"
   ]
  },
  {
   "cell_type": "markdown",
   "id": "ed845f3f",
   "metadata": {},
   "source": [
    "### Conclusiones:\n",
    "\n",
    "**1.- Variable dependiente con las variables independientes**\n",
    "> Las variables con correlacion positiva con Price son enginesize, curbweight, horsepower y carwidth. Todas estas variables  representan el tamano, peso y potencia del motor del carro.\n",
    "\n",
    "> Las variables con correlacion negativa  con Price son citympg y highwaympg. Esto sugiere que los carros con alto kilometraje pueden caer en la categoria de 'Economicos'. Es decir, los carros de bajo precio tienen en su mayoria mpg altos.\n",
    "\n",
    "**2.- Correlacion entre variables independientes**\n",
    "> Debemos tener en cuenta que muchas variables independientes estan correlacionadas. Esto indica un problema de multicolinealidad que podria perjudicar el rendimiento del modelo. Variables como wheelbase, carlength, curbweight, enginesize, entre otros son medidas de tamaño y peso y estan correlacionados positivamente."
   ]
  },
  {
   "cell_type": "code",
   "execution_count": null,
   "id": "e28b88e2",
   "metadata": {},
   "outputs": [],
   "source": []
  },
  {
   "cell_type": "markdown",
   "id": "5eefbd7b",
   "metadata": {},
   "source": [
    "# Seccion 3: Limpieza de Datos"
   ]
  },
  {
   "cell_type": "markdown",
   "id": "284311bd",
   "metadata": {},
   "source": [
    "## Conversion de variables"
   ]
  },
  {
   "cell_type": "code",
   "execution_count": 455,
   "id": "782c797a",
   "metadata": {},
   "outputs": [
    {
     "name": "stdout",
     "output_type": "stream",
     "text": [
      "<class 'pandas.core.frame.DataFrame'>\n",
      "RangeIndex: 205 entries, 0 to 204\n",
      "Data columns (total 26 columns):\n",
      " #   Column            Non-Null Count  Dtype  \n",
      "---  ------            --------------  -----  \n",
      " 0   car_ID            205 non-null    int64  \n",
      " 1   symboling         205 non-null    int64  \n",
      " 2   CarName           205 non-null    object \n",
      " 3   fueltype          205 non-null    object \n",
      " 4   aspiration        205 non-null    object \n",
      " 5   doornumber        205 non-null    object \n",
      " 6   carbody           205 non-null    object \n",
      " 7   drivewheel        205 non-null    object \n",
      " 8   enginelocation    205 non-null    object \n",
      " 9   wheelbase         205 non-null    float64\n",
      " 10  carlength         205 non-null    float64\n",
      " 11  carwidth          205 non-null    float64\n",
      " 12  carheight         205 non-null    float64\n",
      " 13  curbweight        205 non-null    int64  \n",
      " 14  enginetype        205 non-null    object \n",
      " 15  cylindernumber    205 non-null    object \n",
      " 16  enginesize        205 non-null    int64  \n",
      " 17  fuelsystem        205 non-null    object \n",
      " 18  boreratio         205 non-null    float64\n",
      " 19  stroke            205 non-null    float64\n",
      " 20  compressionratio  205 non-null    float64\n",
      " 21  horsepower        205 non-null    int64  \n",
      " 22  peakrpm           205 non-null    int64  \n",
      " 23  citympg           205 non-null    int64  \n",
      " 24  highwaympg        205 non-null    int64  \n",
      " 25  price             205 non-null    float64\n",
      "dtypes: float64(8), int64(8), object(10)\n",
      "memory usage: 41.8+ KB\n"
     ]
    }
   ],
   "source": [
    "# veamos un resumen de cada variable\n",
    "df.info()"
   ]
  },
  {
   "cell_type": "markdown",
   "id": "a59be547",
   "metadata": {},
   "source": [
    "La variable *symboling* es de tipo numerica. Sin embargo, ya vimos que es una variable categorica por lo que debemos cambiar su tipo. "
   ]
  },
  {
   "cell_type": "code",
   "execution_count": 456,
   "id": "9d37ba29",
   "metadata": {},
   "outputs": [
    {
     "name": "stdout",
     "output_type": "stream",
     "text": [
      "<class 'pandas.core.frame.DataFrame'>\n",
      "RangeIndex: 205 entries, 0 to 204\n",
      "Data columns (total 26 columns):\n",
      " #   Column            Non-Null Count  Dtype  \n",
      "---  ------            --------------  -----  \n",
      " 0   car_ID            205 non-null    int64  \n",
      " 1   symboling         205 non-null    object \n",
      " 2   CarName           205 non-null    object \n",
      " 3   fueltype          205 non-null    object \n",
      " 4   aspiration        205 non-null    object \n",
      " 5   doornumber        205 non-null    object \n",
      " 6   carbody           205 non-null    object \n",
      " 7   drivewheel        205 non-null    object \n",
      " 8   enginelocation    205 non-null    object \n",
      " 9   wheelbase         205 non-null    float64\n",
      " 10  carlength         205 non-null    float64\n",
      " 11  carwidth          205 non-null    float64\n",
      " 12  carheight         205 non-null    float64\n",
      " 13  curbweight        205 non-null    int64  \n",
      " 14  enginetype        205 non-null    object \n",
      " 15  cylindernumber    205 non-null    object \n",
      " 16  enginesize        205 non-null    int64  \n",
      " 17  fuelsystem        205 non-null    object \n",
      " 18  boreratio         205 non-null    float64\n",
      " 19  stroke            205 non-null    float64\n",
      " 20  compressionratio  205 non-null    float64\n",
      " 21  horsepower        205 non-null    int64  \n",
      " 22  peakrpm           205 non-null    int64  \n",
      " 23  citympg           205 non-null    int64  \n",
      " 24  highwaympg        205 non-null    int64  \n",
      " 25  price             205 non-null    float64\n",
      "dtypes: float64(8), int64(7), object(11)\n",
      "memory usage: 41.8+ KB\n"
     ]
    }
   ],
   "source": [
    "# convertir symboling a categorica\n",
    "df['symboling'] = df['symboling'].astype('object')\n",
    "df.info()"
   ]
  },
  {
   "cell_type": "markdown",
   "id": "433bbdd1",
   "metadata": {},
   "source": [
    "### Arreglar valores de variables"
   ]
  },
  {
   "cell_type": "markdown",
   "id": "61fd7a02",
   "metadata": {},
   "source": [
    "Veamos los nombres de los carros *CarName*"
   ]
  },
  {
   "cell_type": "code",
   "execution_count": 457,
   "id": "83382112",
   "metadata": {},
   "outputs": [
    {
     "data": {
      "text/plain": [
       "0            alfa-romero giulia\n",
       "1           alfa-romero stelvio\n",
       "2      alfa-romero Quadrifoglio\n",
       "3                   audi 100 ls\n",
       "4                    audi 100ls\n",
       "                 ...           \n",
       "200             volvo 145e (sw)\n",
       "201                 volvo 144ea\n",
       "202                 volvo 244dl\n",
       "203                   volvo 246\n",
       "204                 volvo 264gl\n",
       "Name: CarName, Length: 205, dtype: object"
      ]
     },
     "execution_count": 457,
     "metadata": {},
     "output_type": "execute_result"
    }
   ],
   "source": [
    "df['CarName']"
   ]
  },
  {
   "cell_type": "markdown",
   "id": "22bde89c",
   "metadata": {},
   "source": [
    "Vamos a obtener solamente el nombre de la marca de carro. Para ello, creamos una nueva columna y obtendremos solo la primera palabra de cada valor que corresponde a la marca."
   ]
  },
  {
   "cell_type": "code",
   "execution_count": 458,
   "id": "42a11074",
   "metadata": {},
   "outputs": [
    {
     "data": {
      "text/plain": [
       "0    alfa-romero\n",
       "1    alfa-romero\n",
       "2    alfa-romero\n",
       "3           audi\n",
       "4           audi\n",
       "Name: CarName, dtype: object"
      ]
     },
     "execution_count": 458,
     "metadata": {},
     "output_type": "execute_result"
    }
   ],
   "source": [
    "name_car = df['CarName'].apply(lambda x: x.split(' ')[0])\n",
    "name_car[:5]"
   ]
  },
  {
   "cell_type": "markdown",
   "id": "071361b7",
   "metadata": {},
   "source": [
    "Agregamos la nueva columna al DataFrame y verificamos los valores de marcas unicas."
   ]
  },
  {
   "cell_type": "code",
   "execution_count": 459,
   "id": "c0f4d3f4",
   "metadata": {},
   "outputs": [
    {
     "data": {
      "text/plain": [
       "toyota         31\n",
       "nissan         17\n",
       "mazda          15\n",
       "honda          13\n",
       "mitsubishi     13\n",
       "subaru         12\n",
       "peugeot        11\n",
       "volvo          11\n",
       "volkswagen      9\n",
       "dodge           9\n",
       "buick           8\n",
       "bmw             8\n",
       "audi            7\n",
       "plymouth        7\n",
       "saab            6\n",
       "isuzu           4\n",
       "porsche         4\n",
       "alfa-romero     3\n",
       "chevrolet       3\n",
       "jaguar          3\n",
       "vw              2\n",
       "maxda           2\n",
       "renault         2\n",
       "toyouta         1\n",
       "vokswagen       1\n",
       "Nissan          1\n",
       "mercury         1\n",
       "porcshce        1\n",
       "Name: car_company, dtype: int64"
      ]
     },
     "execution_count": 459,
     "metadata": {},
     "output_type": "execute_result"
    }
   ],
   "source": [
    "df['car_company'] = name_car\n",
    "df['car_company'].value_counts()"
   ]
  },
  {
   "cell_type": "markdown",
   "id": "1893fb54",
   "metadata": {},
   "source": [
    "Observamos que hay marcas de carros duplicadas como *toyota* y *toyouta*. Vamos a corregir la ortografia de las marcas "
   ]
  },
  {
   "cell_type": "code",
   "execution_count": 460,
   "id": "944c10a9",
   "metadata": {},
   "outputs": [
    {
     "data": {
      "text/plain": [
       "toyota         32\n",
       "nissan         18\n",
       "mazda          17\n",
       "mitsubishi     13\n",
       "honda          13\n",
       "volkswagen     12\n",
       "subaru         12\n",
       "peugeot        11\n",
       "volvo          11\n",
       "dodge           9\n",
       "buick           8\n",
       "bmw             8\n",
       "audi            7\n",
       "plymouth        7\n",
       "saab            6\n",
       "porsche         5\n",
       "isuzu           4\n",
       "jaguar          3\n",
       "chevrolet       3\n",
       "alfa-romero     3\n",
       "renault         2\n",
       "mercury         1\n",
       "Name: car_company, dtype: int64"
      ]
     },
     "execution_count": 460,
     "metadata": {},
     "output_type": "execute_result"
    }
   ],
   "source": [
    "# volkswagen\n",
    "df.loc[(df['car_company']=='vw')|(df['car_company']=='vokswagen'), \"car_company\"] = \"volkswagen\"\n",
    "\n",
    "# porsche\n",
    "df.loc[(df['car_company']=='porcshce'), 'car_company'] = 'porsche'\n",
    "\n",
    "# toyota\n",
    "df.loc[(df['car_company']=='toyouta'), 'car_company'] = 'toyota'\n",
    "\n",
    "# nissan\n",
    "df.loc[(df['car_company']=='Nissan'), 'car_company'] = 'nissan'\n",
    "\n",
    "# mazda \n",
    "df.loc[(df['car_company']=='maxda'), 'car_company'] = 'mazda'\n",
    "\n",
    "# veriquemos nuevamente los valores unicos\n",
    "df['car_company'].value_counts()"
   ]
  },
  {
   "cell_type": "markdown",
   "id": "964d2ef4",
   "metadata": {},
   "source": [
    "Ya estan completamente corregidos. Ahora, eliminamos la columna *CarName* ya que no nos proporcina informacion de interes"
   ]
  },
  {
   "cell_type": "code",
   "execution_count": 461,
   "id": "158ad393",
   "metadata": {},
   "outputs": [
    {
     "name": "stdout",
     "output_type": "stream",
     "text": [
      "<class 'pandas.core.frame.DataFrame'>\n",
      "RangeIndex: 205 entries, 0 to 204\n",
      "Data columns (total 26 columns):\n",
      " #   Column            Non-Null Count  Dtype  \n",
      "---  ------            --------------  -----  \n",
      " 0   car_ID            205 non-null    int64  \n",
      " 1   symboling         205 non-null    object \n",
      " 2   fueltype          205 non-null    object \n",
      " 3   aspiration        205 non-null    object \n",
      " 4   doornumber        205 non-null    object \n",
      " 5   carbody           205 non-null    object \n",
      " 6   drivewheel        205 non-null    object \n",
      " 7   enginelocation    205 non-null    object \n",
      " 8   wheelbase         205 non-null    float64\n",
      " 9   carlength         205 non-null    float64\n",
      " 10  carwidth          205 non-null    float64\n",
      " 11  carheight         205 non-null    float64\n",
      " 12  curbweight        205 non-null    int64  \n",
      " 13  enginetype        205 non-null    object \n",
      " 14  cylindernumber    205 non-null    object \n",
      " 15  enginesize        205 non-null    int64  \n",
      " 16  fuelsystem        205 non-null    object \n",
      " 17  boreratio         205 non-null    float64\n",
      " 18  stroke            205 non-null    float64\n",
      " 19  compressionratio  205 non-null    float64\n",
      " 20  horsepower        205 non-null    int64  \n",
      " 21  peakrpm           205 non-null    int64  \n",
      " 22  citympg           205 non-null    int64  \n",
      " 23  highwaympg        205 non-null    int64  \n",
      " 24  price             205 non-null    float64\n",
      " 25  car_company       205 non-null    object \n",
      "dtypes: float64(8), int64(7), object(11)\n",
      "memory usage: 41.8+ KB\n"
     ]
    }
   ],
   "source": [
    "# eliminar CarName\n",
    "df = df.drop('CarName', axis=1)\n",
    "df.info()"
   ]
  },
  {
   "cell_type": "code",
   "execution_count": null,
   "id": "80022515",
   "metadata": {},
   "outputs": [],
   "source": []
  },
  {
   "cell_type": "markdown",
   "id": "0e59bdf8",
   "metadata": {},
   "source": [
    "# Seccion 4: Preparacion de los datos"
   ]
  },
  {
   "cell_type": "markdown",
   "id": "30bd64ec",
   "metadata": {},
   "source": [
    "Separamos las variables predictoras y la variable objetivo"
   ]
  },
  {
   "cell_type": "code",
   "execution_count": 462,
   "id": "ab7ebb33",
   "metadata": {},
   "outputs": [],
   "source": [
    "# variables predictoras\n",
    "X = df.drop(columns=['price', 'car_ID'])\n",
    "\n",
    "# variable objetivo\n",
    "y = df['price']"
   ]
  },
  {
   "cell_type": "code",
   "execution_count": 463,
   "id": "aeeb7843",
   "metadata": {},
   "outputs": [
    {
     "data": {
      "text/html": [
       "<div>\n",
       "<style scoped>\n",
       "    .dataframe tbody tr th:only-of-type {\n",
       "        vertical-align: middle;\n",
       "    }\n",
       "\n",
       "    .dataframe tbody tr th {\n",
       "        vertical-align: top;\n",
       "    }\n",
       "\n",
       "    .dataframe thead th {\n",
       "        text-align: right;\n",
       "    }\n",
       "</style>\n",
       "<table border=\"1\" class=\"dataframe\">\n",
       "  <thead>\n",
       "    <tr style=\"text-align: right;\">\n",
       "      <th></th>\n",
       "      <th>symboling</th>\n",
       "      <th>fueltype</th>\n",
       "      <th>aspiration</th>\n",
       "      <th>doornumber</th>\n",
       "      <th>carbody</th>\n",
       "      <th>drivewheel</th>\n",
       "      <th>enginelocation</th>\n",
       "      <th>wheelbase</th>\n",
       "      <th>carlength</th>\n",
       "      <th>carwidth</th>\n",
       "      <th>...</th>\n",
       "      <th>enginesize</th>\n",
       "      <th>fuelsystem</th>\n",
       "      <th>boreratio</th>\n",
       "      <th>stroke</th>\n",
       "      <th>compressionratio</th>\n",
       "      <th>horsepower</th>\n",
       "      <th>peakrpm</th>\n",
       "      <th>citympg</th>\n",
       "      <th>highwaympg</th>\n",
       "      <th>car_company</th>\n",
       "    </tr>\n",
       "  </thead>\n",
       "  <tbody>\n",
       "    <tr>\n",
       "      <th>0</th>\n",
       "      <td>3</td>\n",
       "      <td>gas</td>\n",
       "      <td>std</td>\n",
       "      <td>two</td>\n",
       "      <td>convertible</td>\n",
       "      <td>rwd</td>\n",
       "      <td>front</td>\n",
       "      <td>88.6</td>\n",
       "      <td>168.8</td>\n",
       "      <td>64.1</td>\n",
       "      <td>...</td>\n",
       "      <td>130</td>\n",
       "      <td>mpfi</td>\n",
       "      <td>3.47</td>\n",
       "      <td>2.68</td>\n",
       "      <td>9.0</td>\n",
       "      <td>111</td>\n",
       "      <td>5000</td>\n",
       "      <td>21</td>\n",
       "      <td>27</td>\n",
       "      <td>alfa-romero</td>\n",
       "    </tr>\n",
       "    <tr>\n",
       "      <th>1</th>\n",
       "      <td>3</td>\n",
       "      <td>gas</td>\n",
       "      <td>std</td>\n",
       "      <td>two</td>\n",
       "      <td>convertible</td>\n",
       "      <td>rwd</td>\n",
       "      <td>front</td>\n",
       "      <td>88.6</td>\n",
       "      <td>168.8</td>\n",
       "      <td>64.1</td>\n",
       "      <td>...</td>\n",
       "      <td>130</td>\n",
       "      <td>mpfi</td>\n",
       "      <td>3.47</td>\n",
       "      <td>2.68</td>\n",
       "      <td>9.0</td>\n",
       "      <td>111</td>\n",
       "      <td>5000</td>\n",
       "      <td>21</td>\n",
       "      <td>27</td>\n",
       "      <td>alfa-romero</td>\n",
       "    </tr>\n",
       "    <tr>\n",
       "      <th>2</th>\n",
       "      <td>1</td>\n",
       "      <td>gas</td>\n",
       "      <td>std</td>\n",
       "      <td>two</td>\n",
       "      <td>hatchback</td>\n",
       "      <td>rwd</td>\n",
       "      <td>front</td>\n",
       "      <td>94.5</td>\n",
       "      <td>171.2</td>\n",
       "      <td>65.5</td>\n",
       "      <td>...</td>\n",
       "      <td>152</td>\n",
       "      <td>mpfi</td>\n",
       "      <td>2.68</td>\n",
       "      <td>3.47</td>\n",
       "      <td>9.0</td>\n",
       "      <td>154</td>\n",
       "      <td>5000</td>\n",
       "      <td>19</td>\n",
       "      <td>26</td>\n",
       "      <td>alfa-romero</td>\n",
       "    </tr>\n",
       "    <tr>\n",
       "      <th>3</th>\n",
       "      <td>2</td>\n",
       "      <td>gas</td>\n",
       "      <td>std</td>\n",
       "      <td>four</td>\n",
       "      <td>sedan</td>\n",
       "      <td>fwd</td>\n",
       "      <td>front</td>\n",
       "      <td>99.8</td>\n",
       "      <td>176.6</td>\n",
       "      <td>66.2</td>\n",
       "      <td>...</td>\n",
       "      <td>109</td>\n",
       "      <td>mpfi</td>\n",
       "      <td>3.19</td>\n",
       "      <td>3.40</td>\n",
       "      <td>10.0</td>\n",
       "      <td>102</td>\n",
       "      <td>5500</td>\n",
       "      <td>24</td>\n",
       "      <td>30</td>\n",
       "      <td>audi</td>\n",
       "    </tr>\n",
       "    <tr>\n",
       "      <th>4</th>\n",
       "      <td>2</td>\n",
       "      <td>gas</td>\n",
       "      <td>std</td>\n",
       "      <td>four</td>\n",
       "      <td>sedan</td>\n",
       "      <td>4wd</td>\n",
       "      <td>front</td>\n",
       "      <td>99.4</td>\n",
       "      <td>176.6</td>\n",
       "      <td>66.4</td>\n",
       "      <td>...</td>\n",
       "      <td>136</td>\n",
       "      <td>mpfi</td>\n",
       "      <td>3.19</td>\n",
       "      <td>3.40</td>\n",
       "      <td>8.0</td>\n",
       "      <td>115</td>\n",
       "      <td>5500</td>\n",
       "      <td>18</td>\n",
       "      <td>22</td>\n",
       "      <td>audi</td>\n",
       "    </tr>\n",
       "  </tbody>\n",
       "</table>\n",
       "<p>5 rows × 24 columns</p>\n",
       "</div>"
      ],
      "text/plain": [
       "  symboling fueltype aspiration doornumber      carbody drivewheel  \\\n",
       "0         3      gas        std        two  convertible        rwd   \n",
       "1         3      gas        std        two  convertible        rwd   \n",
       "2         1      gas        std        two    hatchback        rwd   \n",
       "3         2      gas        std       four        sedan        fwd   \n",
       "4         2      gas        std       four        sedan        4wd   \n",
       "\n",
       "  enginelocation  wheelbase  carlength  carwidth  ...  enginesize  fuelsystem  \\\n",
       "0          front       88.6      168.8      64.1  ...         130        mpfi   \n",
       "1          front       88.6      168.8      64.1  ...         130        mpfi   \n",
       "2          front       94.5      171.2      65.5  ...         152        mpfi   \n",
       "3          front       99.8      176.6      66.2  ...         109        mpfi   \n",
       "4          front       99.4      176.6      66.4  ...         136        mpfi   \n",
       "\n",
       "  boreratio stroke  compressionratio horsepower  peakrpm  citympg  highwaympg  \\\n",
       "0      3.47   2.68               9.0        111     5000       21          27   \n",
       "1      3.47   2.68               9.0        111     5000       21          27   \n",
       "2      2.68   3.47               9.0        154     5000       19          26   \n",
       "3      3.19   3.40              10.0        102     5500       24          30   \n",
       "4      3.19   3.40               8.0        115     5500       18          22   \n",
       "\n",
       "   car_company  \n",
       "0  alfa-romero  \n",
       "1  alfa-romero  \n",
       "2  alfa-romero  \n",
       "3         audi  \n",
       "4         audi  \n",
       "\n",
       "[5 rows x 24 columns]"
      ]
     },
     "execution_count": 463,
     "metadata": {},
     "output_type": "execute_result"
    }
   ],
   "source": [
    "X.head()"
   ]
  },
  {
   "cell_type": "code",
   "execution_count": 464,
   "id": "f423caee",
   "metadata": {},
   "outputs": [
    {
     "data": {
      "text/plain": [
       "0    13495.0\n",
       "1    16500.0\n",
       "2    16500.0\n",
       "3    13950.0\n",
       "4    17450.0\n",
       "Name: price, dtype: float64"
      ]
     },
     "execution_count": 464,
     "metadata": {},
     "output_type": "execute_result"
    }
   ],
   "source": [
    "y.head()"
   ]
  },
  {
   "cell_type": "markdown",
   "id": "dd82cdc9",
   "metadata": {},
   "source": [
    "Seleccionamos del grupo de variables predictoras, las variables categoricas"
   ]
  },
  {
   "cell_type": "code",
   "execution_count": 465,
   "id": "bf3871ff",
   "metadata": {},
   "outputs": [
    {
     "data": {
      "text/html": [
       "<div>\n",
       "<style scoped>\n",
       "    .dataframe tbody tr th:only-of-type {\n",
       "        vertical-align: middle;\n",
       "    }\n",
       "\n",
       "    .dataframe tbody tr th {\n",
       "        vertical-align: top;\n",
       "    }\n",
       "\n",
       "    .dataframe thead th {\n",
       "        text-align: right;\n",
       "    }\n",
       "</style>\n",
       "<table border=\"1\" class=\"dataframe\">\n",
       "  <thead>\n",
       "    <tr style=\"text-align: right;\">\n",
       "      <th></th>\n",
       "      <th>symboling</th>\n",
       "      <th>fueltype</th>\n",
       "      <th>aspiration</th>\n",
       "      <th>doornumber</th>\n",
       "      <th>carbody</th>\n",
       "      <th>drivewheel</th>\n",
       "      <th>enginelocation</th>\n",
       "      <th>enginetype</th>\n",
       "      <th>cylindernumber</th>\n",
       "      <th>fuelsystem</th>\n",
       "      <th>car_company</th>\n",
       "    </tr>\n",
       "  </thead>\n",
       "  <tbody>\n",
       "    <tr>\n",
       "      <th>0</th>\n",
       "      <td>3</td>\n",
       "      <td>gas</td>\n",
       "      <td>std</td>\n",
       "      <td>two</td>\n",
       "      <td>convertible</td>\n",
       "      <td>rwd</td>\n",
       "      <td>front</td>\n",
       "      <td>dohc</td>\n",
       "      <td>four</td>\n",
       "      <td>mpfi</td>\n",
       "      <td>alfa-romero</td>\n",
       "    </tr>\n",
       "    <tr>\n",
       "      <th>1</th>\n",
       "      <td>3</td>\n",
       "      <td>gas</td>\n",
       "      <td>std</td>\n",
       "      <td>two</td>\n",
       "      <td>convertible</td>\n",
       "      <td>rwd</td>\n",
       "      <td>front</td>\n",
       "      <td>dohc</td>\n",
       "      <td>four</td>\n",
       "      <td>mpfi</td>\n",
       "      <td>alfa-romero</td>\n",
       "    </tr>\n",
       "    <tr>\n",
       "      <th>2</th>\n",
       "      <td>1</td>\n",
       "      <td>gas</td>\n",
       "      <td>std</td>\n",
       "      <td>two</td>\n",
       "      <td>hatchback</td>\n",
       "      <td>rwd</td>\n",
       "      <td>front</td>\n",
       "      <td>ohcv</td>\n",
       "      <td>six</td>\n",
       "      <td>mpfi</td>\n",
       "      <td>alfa-romero</td>\n",
       "    </tr>\n",
       "    <tr>\n",
       "      <th>3</th>\n",
       "      <td>2</td>\n",
       "      <td>gas</td>\n",
       "      <td>std</td>\n",
       "      <td>four</td>\n",
       "      <td>sedan</td>\n",
       "      <td>fwd</td>\n",
       "      <td>front</td>\n",
       "      <td>ohc</td>\n",
       "      <td>four</td>\n",
       "      <td>mpfi</td>\n",
       "      <td>audi</td>\n",
       "    </tr>\n",
       "    <tr>\n",
       "      <th>4</th>\n",
       "      <td>2</td>\n",
       "      <td>gas</td>\n",
       "      <td>std</td>\n",
       "      <td>four</td>\n",
       "      <td>sedan</td>\n",
       "      <td>4wd</td>\n",
       "      <td>front</td>\n",
       "      <td>ohc</td>\n",
       "      <td>five</td>\n",
       "      <td>mpfi</td>\n",
       "      <td>audi</td>\n",
       "    </tr>\n",
       "  </tbody>\n",
       "</table>\n",
       "</div>"
      ],
      "text/plain": [
       "  symboling fueltype aspiration doornumber      carbody drivewheel  \\\n",
       "0         3      gas        std        two  convertible        rwd   \n",
       "1         3      gas        std        two  convertible        rwd   \n",
       "2         1      gas        std        two    hatchback        rwd   \n",
       "3         2      gas        std       four        sedan        fwd   \n",
       "4         2      gas        std       four        sedan        4wd   \n",
       "\n",
       "  enginelocation enginetype cylindernumber fuelsystem  car_company  \n",
       "0          front       dohc           four       mpfi  alfa-romero  \n",
       "1          front       dohc           four       mpfi  alfa-romero  \n",
       "2          front       ohcv            six       mpfi  alfa-romero  \n",
       "3          front        ohc           four       mpfi         audi  \n",
       "4          front        ohc           five       mpfi         audi  "
      ]
     },
     "execution_count": 465,
     "metadata": {},
     "output_type": "execute_result"
    }
   ],
   "source": [
    "cars_categorical = X.select_dtypes(include=['object'])\n",
    "cars_categorical.head()"
   ]
  },
  {
   "cell_type": "markdown",
   "id": "30914a0d",
   "metadata": {},
   "source": [
    "Hay 11 variables categoricas que son predictoras. Ahora creamos variables ficticias para cada variable categorica seleccionada"
   ]
  },
  {
   "cell_type": "code",
   "execution_count": 466,
   "id": "5fb9d595",
   "metadata": {},
   "outputs": [
    {
     "data": {
      "text/html": [
       "<div>\n",
       "<style scoped>\n",
       "    .dataframe tbody tr th:only-of-type {\n",
       "        vertical-align: middle;\n",
       "    }\n",
       "\n",
       "    .dataframe tbody tr th {\n",
       "        vertical-align: top;\n",
       "    }\n",
       "\n",
       "    .dataframe thead th {\n",
       "        text-align: right;\n",
       "    }\n",
       "</style>\n",
       "<table border=\"1\" class=\"dataframe\">\n",
       "  <thead>\n",
       "    <tr style=\"text-align: right;\">\n",
       "      <th></th>\n",
       "      <th>symboling_-1</th>\n",
       "      <th>symboling_0</th>\n",
       "      <th>symboling_1</th>\n",
       "      <th>symboling_2</th>\n",
       "      <th>symboling_3</th>\n",
       "      <th>fueltype_gas</th>\n",
       "      <th>aspiration_turbo</th>\n",
       "      <th>doornumber_two</th>\n",
       "      <th>carbody_hardtop</th>\n",
       "      <th>carbody_hatchback</th>\n",
       "      <th>...</th>\n",
       "      <th>car_company_nissan</th>\n",
       "      <th>car_company_peugeot</th>\n",
       "      <th>car_company_plymouth</th>\n",
       "      <th>car_company_porsche</th>\n",
       "      <th>car_company_renault</th>\n",
       "      <th>car_company_saab</th>\n",
       "      <th>car_company_subaru</th>\n",
       "      <th>car_company_toyota</th>\n",
       "      <th>car_company_volkswagen</th>\n",
       "      <th>car_company_volvo</th>\n",
       "    </tr>\n",
       "  </thead>\n",
       "  <tbody>\n",
       "    <tr>\n",
       "      <th>0</th>\n",
       "      <td>0</td>\n",
       "      <td>0</td>\n",
       "      <td>0</td>\n",
       "      <td>0</td>\n",
       "      <td>1</td>\n",
       "      <td>1</td>\n",
       "      <td>0</td>\n",
       "      <td>1</td>\n",
       "      <td>0</td>\n",
       "      <td>0</td>\n",
       "      <td>...</td>\n",
       "      <td>0</td>\n",
       "      <td>0</td>\n",
       "      <td>0</td>\n",
       "      <td>0</td>\n",
       "      <td>0</td>\n",
       "      <td>0</td>\n",
       "      <td>0</td>\n",
       "      <td>0</td>\n",
       "      <td>0</td>\n",
       "      <td>0</td>\n",
       "    </tr>\n",
       "    <tr>\n",
       "      <th>1</th>\n",
       "      <td>0</td>\n",
       "      <td>0</td>\n",
       "      <td>0</td>\n",
       "      <td>0</td>\n",
       "      <td>1</td>\n",
       "      <td>1</td>\n",
       "      <td>0</td>\n",
       "      <td>1</td>\n",
       "      <td>0</td>\n",
       "      <td>0</td>\n",
       "      <td>...</td>\n",
       "      <td>0</td>\n",
       "      <td>0</td>\n",
       "      <td>0</td>\n",
       "      <td>0</td>\n",
       "      <td>0</td>\n",
       "      <td>0</td>\n",
       "      <td>0</td>\n",
       "      <td>0</td>\n",
       "      <td>0</td>\n",
       "      <td>0</td>\n",
       "    </tr>\n",
       "    <tr>\n",
       "      <th>2</th>\n",
       "      <td>0</td>\n",
       "      <td>0</td>\n",
       "      <td>1</td>\n",
       "      <td>0</td>\n",
       "      <td>0</td>\n",
       "      <td>1</td>\n",
       "      <td>0</td>\n",
       "      <td>1</td>\n",
       "      <td>0</td>\n",
       "      <td>1</td>\n",
       "      <td>...</td>\n",
       "      <td>0</td>\n",
       "      <td>0</td>\n",
       "      <td>0</td>\n",
       "      <td>0</td>\n",
       "      <td>0</td>\n",
       "      <td>0</td>\n",
       "      <td>0</td>\n",
       "      <td>0</td>\n",
       "      <td>0</td>\n",
       "      <td>0</td>\n",
       "    </tr>\n",
       "    <tr>\n",
       "      <th>3</th>\n",
       "      <td>0</td>\n",
       "      <td>0</td>\n",
       "      <td>0</td>\n",
       "      <td>1</td>\n",
       "      <td>0</td>\n",
       "      <td>1</td>\n",
       "      <td>0</td>\n",
       "      <td>0</td>\n",
       "      <td>0</td>\n",
       "      <td>0</td>\n",
       "      <td>...</td>\n",
       "      <td>0</td>\n",
       "      <td>0</td>\n",
       "      <td>0</td>\n",
       "      <td>0</td>\n",
       "      <td>0</td>\n",
       "      <td>0</td>\n",
       "      <td>0</td>\n",
       "      <td>0</td>\n",
       "      <td>0</td>\n",
       "      <td>0</td>\n",
       "    </tr>\n",
       "    <tr>\n",
       "      <th>4</th>\n",
       "      <td>0</td>\n",
       "      <td>0</td>\n",
       "      <td>0</td>\n",
       "      <td>1</td>\n",
       "      <td>0</td>\n",
       "      <td>1</td>\n",
       "      <td>0</td>\n",
       "      <td>0</td>\n",
       "      <td>0</td>\n",
       "      <td>0</td>\n",
       "      <td>...</td>\n",
       "      <td>0</td>\n",
       "      <td>0</td>\n",
       "      <td>0</td>\n",
       "      <td>0</td>\n",
       "      <td>0</td>\n",
       "      <td>0</td>\n",
       "      <td>0</td>\n",
       "      <td>0</td>\n",
       "      <td>0</td>\n",
       "      <td>0</td>\n",
       "    </tr>\n",
       "  </tbody>\n",
       "</table>\n",
       "<p>5 rows × 55 columns</p>\n",
       "</div>"
      ],
      "text/plain": [
       "   symboling_-1  symboling_0  symboling_1  symboling_2  symboling_3  \\\n",
       "0             0            0            0            0            1   \n",
       "1             0            0            0            0            1   \n",
       "2             0            0            1            0            0   \n",
       "3             0            0            0            1            0   \n",
       "4             0            0            0            1            0   \n",
       "\n",
       "   fueltype_gas  aspiration_turbo  doornumber_two  carbody_hardtop  \\\n",
       "0             1                 0               1                0   \n",
       "1             1                 0               1                0   \n",
       "2             1                 0               1                0   \n",
       "3             1                 0               0                0   \n",
       "4             1                 0               0                0   \n",
       "\n",
       "   carbody_hatchback  ...  car_company_nissan  car_company_peugeot  \\\n",
       "0                  0  ...                   0                    0   \n",
       "1                  0  ...                   0                    0   \n",
       "2                  1  ...                   0                    0   \n",
       "3                  0  ...                   0                    0   \n",
       "4                  0  ...                   0                    0   \n",
       "\n",
       "   car_company_plymouth  car_company_porsche  car_company_renault  \\\n",
       "0                     0                    0                    0   \n",
       "1                     0                    0                    0   \n",
       "2                     0                    0                    0   \n",
       "3                     0                    0                    0   \n",
       "4                     0                    0                    0   \n",
       "\n",
       "   car_company_saab  car_company_subaru  car_company_toyota  \\\n",
       "0                 0                   0                   0   \n",
       "1                 0                   0                   0   \n",
       "2                 0                   0                   0   \n",
       "3                 0                   0                   0   \n",
       "4                 0                   0                   0   \n",
       "\n",
       "   car_company_volkswagen  car_company_volvo  \n",
       "0                       0                  0  \n",
       "1                       0                  0  \n",
       "2                       0                  0  \n",
       "3                       0                  0  \n",
       "4                       0                  0  \n",
       "\n",
       "[5 rows x 55 columns]"
      ]
     },
     "execution_count": 466,
     "metadata": {},
     "output_type": "execute_result"
    }
   ],
   "source": [
    "# variables ficticias de las categoricas\n",
    "cars_dummies = pd.get_dummies(cars_categorical, drop_first=True)\n",
    "cars_dummies.head()"
   ]
  },
  {
   "cell_type": "markdown",
   "id": "78b13f55",
   "metadata": {},
   "source": [
    "De las 11 variables categoricas, obtuvimos un total de 55 variables ficticias. Ahora eliminamos las variables categoricas del DataFrame"
   ]
  },
  {
   "cell_type": "code",
   "execution_count": 467,
   "id": "49f928ad",
   "metadata": {},
   "outputs": [
    {
     "data": {
      "text/html": [
       "<div>\n",
       "<style scoped>\n",
       "    .dataframe tbody tr th:only-of-type {\n",
       "        vertical-align: middle;\n",
       "    }\n",
       "\n",
       "    .dataframe tbody tr th {\n",
       "        vertical-align: top;\n",
       "    }\n",
       "\n",
       "    .dataframe thead th {\n",
       "        text-align: right;\n",
       "    }\n",
       "</style>\n",
       "<table border=\"1\" class=\"dataframe\">\n",
       "  <thead>\n",
       "    <tr style=\"text-align: right;\">\n",
       "      <th></th>\n",
       "      <th>wheelbase</th>\n",
       "      <th>carlength</th>\n",
       "      <th>carwidth</th>\n",
       "      <th>carheight</th>\n",
       "      <th>curbweight</th>\n",
       "      <th>enginesize</th>\n",
       "      <th>boreratio</th>\n",
       "      <th>stroke</th>\n",
       "      <th>compressionratio</th>\n",
       "      <th>horsepower</th>\n",
       "      <th>peakrpm</th>\n",
       "      <th>citympg</th>\n",
       "      <th>highwaympg</th>\n",
       "    </tr>\n",
       "  </thead>\n",
       "  <tbody>\n",
       "    <tr>\n",
       "      <th>0</th>\n",
       "      <td>88.6</td>\n",
       "      <td>168.8</td>\n",
       "      <td>64.1</td>\n",
       "      <td>48.8</td>\n",
       "      <td>2548</td>\n",
       "      <td>130</td>\n",
       "      <td>3.47</td>\n",
       "      <td>2.68</td>\n",
       "      <td>9.0</td>\n",
       "      <td>111</td>\n",
       "      <td>5000</td>\n",
       "      <td>21</td>\n",
       "      <td>27</td>\n",
       "    </tr>\n",
       "    <tr>\n",
       "      <th>1</th>\n",
       "      <td>88.6</td>\n",
       "      <td>168.8</td>\n",
       "      <td>64.1</td>\n",
       "      <td>48.8</td>\n",
       "      <td>2548</td>\n",
       "      <td>130</td>\n",
       "      <td>3.47</td>\n",
       "      <td>2.68</td>\n",
       "      <td>9.0</td>\n",
       "      <td>111</td>\n",
       "      <td>5000</td>\n",
       "      <td>21</td>\n",
       "      <td>27</td>\n",
       "    </tr>\n",
       "    <tr>\n",
       "      <th>2</th>\n",
       "      <td>94.5</td>\n",
       "      <td>171.2</td>\n",
       "      <td>65.5</td>\n",
       "      <td>52.4</td>\n",
       "      <td>2823</td>\n",
       "      <td>152</td>\n",
       "      <td>2.68</td>\n",
       "      <td>3.47</td>\n",
       "      <td>9.0</td>\n",
       "      <td>154</td>\n",
       "      <td>5000</td>\n",
       "      <td>19</td>\n",
       "      <td>26</td>\n",
       "    </tr>\n",
       "    <tr>\n",
       "      <th>3</th>\n",
       "      <td>99.8</td>\n",
       "      <td>176.6</td>\n",
       "      <td>66.2</td>\n",
       "      <td>54.3</td>\n",
       "      <td>2337</td>\n",
       "      <td>109</td>\n",
       "      <td>3.19</td>\n",
       "      <td>3.40</td>\n",
       "      <td>10.0</td>\n",
       "      <td>102</td>\n",
       "      <td>5500</td>\n",
       "      <td>24</td>\n",
       "      <td>30</td>\n",
       "    </tr>\n",
       "    <tr>\n",
       "      <th>4</th>\n",
       "      <td>99.4</td>\n",
       "      <td>176.6</td>\n",
       "      <td>66.4</td>\n",
       "      <td>54.3</td>\n",
       "      <td>2824</td>\n",
       "      <td>136</td>\n",
       "      <td>3.19</td>\n",
       "      <td>3.40</td>\n",
       "      <td>8.0</td>\n",
       "      <td>115</td>\n",
       "      <td>5500</td>\n",
       "      <td>18</td>\n",
       "      <td>22</td>\n",
       "    </tr>\n",
       "  </tbody>\n",
       "</table>\n",
       "</div>"
      ],
      "text/plain": [
       "   wheelbase  carlength  carwidth  carheight  curbweight  enginesize  \\\n",
       "0       88.6      168.8      64.1       48.8        2548         130   \n",
       "1       88.6      168.8      64.1       48.8        2548         130   \n",
       "2       94.5      171.2      65.5       52.4        2823         152   \n",
       "3       99.8      176.6      66.2       54.3        2337         109   \n",
       "4       99.4      176.6      66.4       54.3        2824         136   \n",
       "\n",
       "   boreratio  stroke  compressionratio  horsepower  peakrpm  citympg  \\\n",
       "0       3.47    2.68               9.0         111     5000       21   \n",
       "1       3.47    2.68               9.0         111     5000       21   \n",
       "2       2.68    3.47               9.0         154     5000       19   \n",
       "3       3.19    3.40              10.0         102     5500       24   \n",
       "4       3.19    3.40               8.0         115     5500       18   \n",
       "\n",
       "   highwaympg  \n",
       "0          27  \n",
       "1          27  \n",
       "2          26  \n",
       "3          30  \n",
       "4          22  "
      ]
     },
     "execution_count": 467,
     "metadata": {},
     "output_type": "execute_result"
    }
   ],
   "source": [
    "X = X.drop(columns=cars_categorical)\n",
    "X.head()"
   ]
  },
  {
   "cell_type": "markdown",
   "id": "dbdd08f0",
   "metadata": {},
   "source": [
    "Vemos que quedan 13 variables de tipo numerica en las variables predictoras. Ahora, vamos a juntar las variables predictoras que quedaron con las variables ficticias correspondiente a las categoricas."
   ]
  },
  {
   "cell_type": "code",
   "execution_count": 468,
   "id": "4552f61d",
   "metadata": {},
   "outputs": [
    {
     "data": {
      "text/html": [
       "<div>\n",
       "<style scoped>\n",
       "    .dataframe tbody tr th:only-of-type {\n",
       "        vertical-align: middle;\n",
       "    }\n",
       "\n",
       "    .dataframe tbody tr th {\n",
       "        vertical-align: top;\n",
       "    }\n",
       "\n",
       "    .dataframe thead th {\n",
       "        text-align: right;\n",
       "    }\n",
       "</style>\n",
       "<table border=\"1\" class=\"dataframe\">\n",
       "  <thead>\n",
       "    <tr style=\"text-align: right;\">\n",
       "      <th></th>\n",
       "      <th>wheelbase</th>\n",
       "      <th>carlength</th>\n",
       "      <th>carwidth</th>\n",
       "      <th>carheight</th>\n",
       "      <th>curbweight</th>\n",
       "      <th>enginesize</th>\n",
       "      <th>boreratio</th>\n",
       "      <th>stroke</th>\n",
       "      <th>compressionratio</th>\n",
       "      <th>horsepower</th>\n",
       "      <th>...</th>\n",
       "      <th>car_company_nissan</th>\n",
       "      <th>car_company_peugeot</th>\n",
       "      <th>car_company_plymouth</th>\n",
       "      <th>car_company_porsche</th>\n",
       "      <th>car_company_renault</th>\n",
       "      <th>car_company_saab</th>\n",
       "      <th>car_company_subaru</th>\n",
       "      <th>car_company_toyota</th>\n",
       "      <th>car_company_volkswagen</th>\n",
       "      <th>car_company_volvo</th>\n",
       "    </tr>\n",
       "  </thead>\n",
       "  <tbody>\n",
       "    <tr>\n",
       "      <th>0</th>\n",
       "      <td>88.6</td>\n",
       "      <td>168.8</td>\n",
       "      <td>64.1</td>\n",
       "      <td>48.8</td>\n",
       "      <td>2548</td>\n",
       "      <td>130</td>\n",
       "      <td>3.47</td>\n",
       "      <td>2.68</td>\n",
       "      <td>9.0</td>\n",
       "      <td>111</td>\n",
       "      <td>...</td>\n",
       "      <td>0</td>\n",
       "      <td>0</td>\n",
       "      <td>0</td>\n",
       "      <td>0</td>\n",
       "      <td>0</td>\n",
       "      <td>0</td>\n",
       "      <td>0</td>\n",
       "      <td>0</td>\n",
       "      <td>0</td>\n",
       "      <td>0</td>\n",
       "    </tr>\n",
       "    <tr>\n",
       "      <th>1</th>\n",
       "      <td>88.6</td>\n",
       "      <td>168.8</td>\n",
       "      <td>64.1</td>\n",
       "      <td>48.8</td>\n",
       "      <td>2548</td>\n",
       "      <td>130</td>\n",
       "      <td>3.47</td>\n",
       "      <td>2.68</td>\n",
       "      <td>9.0</td>\n",
       "      <td>111</td>\n",
       "      <td>...</td>\n",
       "      <td>0</td>\n",
       "      <td>0</td>\n",
       "      <td>0</td>\n",
       "      <td>0</td>\n",
       "      <td>0</td>\n",
       "      <td>0</td>\n",
       "      <td>0</td>\n",
       "      <td>0</td>\n",
       "      <td>0</td>\n",
       "      <td>0</td>\n",
       "    </tr>\n",
       "    <tr>\n",
       "      <th>2</th>\n",
       "      <td>94.5</td>\n",
       "      <td>171.2</td>\n",
       "      <td>65.5</td>\n",
       "      <td>52.4</td>\n",
       "      <td>2823</td>\n",
       "      <td>152</td>\n",
       "      <td>2.68</td>\n",
       "      <td>3.47</td>\n",
       "      <td>9.0</td>\n",
       "      <td>154</td>\n",
       "      <td>...</td>\n",
       "      <td>0</td>\n",
       "      <td>0</td>\n",
       "      <td>0</td>\n",
       "      <td>0</td>\n",
       "      <td>0</td>\n",
       "      <td>0</td>\n",
       "      <td>0</td>\n",
       "      <td>0</td>\n",
       "      <td>0</td>\n",
       "      <td>0</td>\n",
       "    </tr>\n",
       "    <tr>\n",
       "      <th>3</th>\n",
       "      <td>99.8</td>\n",
       "      <td>176.6</td>\n",
       "      <td>66.2</td>\n",
       "      <td>54.3</td>\n",
       "      <td>2337</td>\n",
       "      <td>109</td>\n",
       "      <td>3.19</td>\n",
       "      <td>3.40</td>\n",
       "      <td>10.0</td>\n",
       "      <td>102</td>\n",
       "      <td>...</td>\n",
       "      <td>0</td>\n",
       "      <td>0</td>\n",
       "      <td>0</td>\n",
       "      <td>0</td>\n",
       "      <td>0</td>\n",
       "      <td>0</td>\n",
       "      <td>0</td>\n",
       "      <td>0</td>\n",
       "      <td>0</td>\n",
       "      <td>0</td>\n",
       "    </tr>\n",
       "    <tr>\n",
       "      <th>4</th>\n",
       "      <td>99.4</td>\n",
       "      <td>176.6</td>\n",
       "      <td>66.4</td>\n",
       "      <td>54.3</td>\n",
       "      <td>2824</td>\n",
       "      <td>136</td>\n",
       "      <td>3.19</td>\n",
       "      <td>3.40</td>\n",
       "      <td>8.0</td>\n",
       "      <td>115</td>\n",
       "      <td>...</td>\n",
       "      <td>0</td>\n",
       "      <td>0</td>\n",
       "      <td>0</td>\n",
       "      <td>0</td>\n",
       "      <td>0</td>\n",
       "      <td>0</td>\n",
       "      <td>0</td>\n",
       "      <td>0</td>\n",
       "      <td>0</td>\n",
       "      <td>0</td>\n",
       "    </tr>\n",
       "  </tbody>\n",
       "</table>\n",
       "<p>5 rows × 68 columns</p>\n",
       "</div>"
      ],
      "text/plain": [
       "   wheelbase  carlength  carwidth  carheight  curbweight  enginesize  \\\n",
       "0       88.6      168.8      64.1       48.8        2548         130   \n",
       "1       88.6      168.8      64.1       48.8        2548         130   \n",
       "2       94.5      171.2      65.5       52.4        2823         152   \n",
       "3       99.8      176.6      66.2       54.3        2337         109   \n",
       "4       99.4      176.6      66.4       54.3        2824         136   \n",
       "\n",
       "   boreratio  stroke  compressionratio  horsepower  ...  car_company_nissan  \\\n",
       "0       3.47    2.68               9.0         111  ...                   0   \n",
       "1       3.47    2.68               9.0         111  ...                   0   \n",
       "2       2.68    3.47               9.0         154  ...                   0   \n",
       "3       3.19    3.40              10.0         102  ...                   0   \n",
       "4       3.19    3.40               8.0         115  ...                   0   \n",
       "\n",
       "   car_company_peugeot  car_company_plymouth  car_company_porsche  \\\n",
       "0                    0                     0                    0   \n",
       "1                    0                     0                    0   \n",
       "2                    0                     0                    0   \n",
       "3                    0                     0                    0   \n",
       "4                    0                     0                    0   \n",
       "\n",
       "   car_company_renault  car_company_saab  car_company_subaru  \\\n",
       "0                    0                 0                   0   \n",
       "1                    0                 0                   0   \n",
       "2                    0                 0                   0   \n",
       "3                    0                 0                   0   \n",
       "4                    0                 0                   0   \n",
       "\n",
       "   car_company_toyota  car_company_volkswagen  car_company_volvo  \n",
       "0                   0                       0                  0  \n",
       "1                   0                       0                  0  \n",
       "2                   0                       0                  0  \n",
       "3                   0                       0                  0  \n",
       "4                   0                       0                  0  \n",
       "\n",
       "[5 rows x 68 columns]"
      ]
     },
     "execution_count": 468,
     "metadata": {},
     "output_type": "execute_result"
    }
   ],
   "source": [
    "dfX = pd.merge(X, cars_dummies, left_index=True, right_index=True)\n",
    "dfX.head()"
   ]
  },
  {
   "cell_type": "code",
   "execution_count": 469,
   "id": "d407b818",
   "metadata": {},
   "outputs": [
    {
     "data": {
      "text/plain": [
       "Index(['wheelbase', 'carlength', 'carwidth', 'carheight', 'curbweight',\n",
       "       'enginesize', 'boreratio', 'stroke', 'compressionratio', 'horsepower',\n",
       "       'peakrpm', 'citympg', 'highwaympg', 'symboling_-1', 'symboling_0',\n",
       "       'symboling_1', 'symboling_2', 'symboling_3', 'fueltype_gas',\n",
       "       'aspiration_turbo', 'doornumber_two', 'carbody_hardtop',\n",
       "       'carbody_hatchback', 'carbody_sedan', 'carbody_wagon', 'drivewheel_fwd',\n",
       "       'drivewheel_rwd', 'enginelocation_rear', 'enginetype_dohcv',\n",
       "       'enginetype_l', 'enginetype_ohc', 'enginetype_ohcf', 'enginetype_ohcv',\n",
       "       'enginetype_rotor', 'cylindernumber_five', 'cylindernumber_four',\n",
       "       'cylindernumber_six', 'cylindernumber_three', 'cylindernumber_twelve',\n",
       "       'cylindernumber_two', 'fuelsystem_2bbl', 'fuelsystem_4bbl',\n",
       "       'fuelsystem_idi', 'fuelsystem_mfi', 'fuelsystem_mpfi',\n",
       "       'fuelsystem_spdi', 'fuelsystem_spfi', 'car_company_audi',\n",
       "       'car_company_bmw', 'car_company_buick', 'car_company_chevrolet',\n",
       "       'car_company_dodge', 'car_company_honda', 'car_company_isuzu',\n",
       "       'car_company_jaguar', 'car_company_mazda', 'car_company_mercury',\n",
       "       'car_company_mitsubishi', 'car_company_nissan', 'car_company_peugeot',\n",
       "       'car_company_plymouth', 'car_company_porsche', 'car_company_renault',\n",
       "       'car_company_saab', 'car_company_subaru', 'car_company_toyota',\n",
       "       'car_company_volkswagen', 'car_company_volvo'],\n",
       "      dtype='object')"
      ]
     },
     "execution_count": 469,
     "metadata": {},
     "output_type": "execute_result"
    }
   ],
   "source": [
    "# nombre de las columnas\n",
    "dfX.columns"
   ]
  },
  {
   "cell_type": "code",
   "execution_count": null,
   "id": "5516d5a2",
   "metadata": {},
   "outputs": [],
   "source": []
  },
  {
   "cell_type": "markdown",
   "id": "03322b2d",
   "metadata": {},
   "source": [
    "# Seccion 5: Escalando las variables"
   ]
  },
  {
   "cell_type": "markdown",
   "id": "ab592945",
   "metadata": {},
   "source": [
    "Escalamos las variables para facilitar la interpretacion de los coeficientes. Con esto buscamos que las variables posean valores entre -1 y 1."
   ]
  },
  {
   "cell_type": "code",
   "execution_count": 470,
   "id": "215f1ed4",
   "metadata": {
    "scrolled": true
   },
   "outputs": [
    {
     "data": {
      "text/html": [
       "<div>\n",
       "<style scoped>\n",
       "    .dataframe tbody tr th:only-of-type {\n",
       "        vertical-align: middle;\n",
       "    }\n",
       "\n",
       "    .dataframe tbody tr th {\n",
       "        vertical-align: top;\n",
       "    }\n",
       "\n",
       "    .dataframe thead th {\n",
       "        text-align: right;\n",
       "    }\n",
       "</style>\n",
       "<table border=\"1\" class=\"dataframe\">\n",
       "  <thead>\n",
       "    <tr style=\"text-align: right;\">\n",
       "      <th></th>\n",
       "      <th>wheelbase</th>\n",
       "      <th>carlength</th>\n",
       "      <th>carwidth</th>\n",
       "      <th>carheight</th>\n",
       "      <th>curbweight</th>\n",
       "      <th>enginesize</th>\n",
       "      <th>boreratio</th>\n",
       "      <th>stroke</th>\n",
       "      <th>compressionratio</th>\n",
       "      <th>horsepower</th>\n",
       "      <th>...</th>\n",
       "      <th>car_company_nissan</th>\n",
       "      <th>car_company_peugeot</th>\n",
       "      <th>car_company_plymouth</th>\n",
       "      <th>car_company_porsche</th>\n",
       "      <th>car_company_renault</th>\n",
       "      <th>car_company_saab</th>\n",
       "      <th>car_company_subaru</th>\n",
       "      <th>car_company_toyota</th>\n",
       "      <th>car_company_volkswagen</th>\n",
       "      <th>car_company_volvo</th>\n",
       "    </tr>\n",
       "  </thead>\n",
       "  <tbody>\n",
       "    <tr>\n",
       "      <th>0</th>\n",
       "      <td>-1.690772</td>\n",
       "      <td>-0.426521</td>\n",
       "      <td>-0.844782</td>\n",
       "      <td>-2.020417</td>\n",
       "      <td>-0.014566</td>\n",
       "      <td>0.074449</td>\n",
       "      <td>0.519071</td>\n",
       "      <td>-1.839377</td>\n",
       "      <td>-0.288349</td>\n",
       "      <td>0.174483</td>\n",
       "      <td>...</td>\n",
       "      <td>-0.310253</td>\n",
       "      <td>-0.23812</td>\n",
       "      <td>-0.188025</td>\n",
       "      <td>-0.158114</td>\n",
       "      <td>-0.099258</td>\n",
       "      <td>-0.17364</td>\n",
       "      <td>-0.249351</td>\n",
       "      <td>-0.430083</td>\n",
       "      <td>-0.249351</td>\n",
       "      <td>-0.23812</td>\n",
       "    </tr>\n",
       "    <tr>\n",
       "      <th>1</th>\n",
       "      <td>-1.690772</td>\n",
       "      <td>-0.426521</td>\n",
       "      <td>-0.844782</td>\n",
       "      <td>-2.020417</td>\n",
       "      <td>-0.014566</td>\n",
       "      <td>0.074449</td>\n",
       "      <td>0.519071</td>\n",
       "      <td>-1.839377</td>\n",
       "      <td>-0.288349</td>\n",
       "      <td>0.174483</td>\n",
       "      <td>...</td>\n",
       "      <td>-0.310253</td>\n",
       "      <td>-0.23812</td>\n",
       "      <td>-0.188025</td>\n",
       "      <td>-0.158114</td>\n",
       "      <td>-0.099258</td>\n",
       "      <td>-0.17364</td>\n",
       "      <td>-0.249351</td>\n",
       "      <td>-0.430083</td>\n",
       "      <td>-0.249351</td>\n",
       "      <td>-0.23812</td>\n",
       "    </tr>\n",
       "    <tr>\n",
       "      <th>2</th>\n",
       "      <td>-0.708596</td>\n",
       "      <td>-0.231513</td>\n",
       "      <td>-0.190566</td>\n",
       "      <td>-0.543527</td>\n",
       "      <td>0.514882</td>\n",
       "      <td>0.604046</td>\n",
       "      <td>-2.404880</td>\n",
       "      <td>0.685946</td>\n",
       "      <td>-0.288349</td>\n",
       "      <td>1.264536</td>\n",
       "      <td>...</td>\n",
       "      <td>-0.310253</td>\n",
       "      <td>-0.23812</td>\n",
       "      <td>-0.188025</td>\n",
       "      <td>-0.158114</td>\n",
       "      <td>-0.099258</td>\n",
       "      <td>-0.17364</td>\n",
       "      <td>-0.249351</td>\n",
       "      <td>-0.430083</td>\n",
       "      <td>-0.249351</td>\n",
       "      <td>-0.23812</td>\n",
       "    </tr>\n",
       "    <tr>\n",
       "      <th>3</th>\n",
       "      <td>0.173698</td>\n",
       "      <td>0.207256</td>\n",
       "      <td>0.136542</td>\n",
       "      <td>0.235942</td>\n",
       "      <td>-0.420797</td>\n",
       "      <td>-0.431076</td>\n",
       "      <td>-0.517266</td>\n",
       "      <td>0.462183</td>\n",
       "      <td>-0.035973</td>\n",
       "      <td>-0.053668</td>\n",
       "      <td>...</td>\n",
       "      <td>-0.310253</td>\n",
       "      <td>-0.23812</td>\n",
       "      <td>-0.188025</td>\n",
       "      <td>-0.158114</td>\n",
       "      <td>-0.099258</td>\n",
       "      <td>-0.17364</td>\n",
       "      <td>-0.249351</td>\n",
       "      <td>-0.430083</td>\n",
       "      <td>-0.249351</td>\n",
       "      <td>-0.23812</td>\n",
       "    </tr>\n",
       "    <tr>\n",
       "      <th>4</th>\n",
       "      <td>0.107110</td>\n",
       "      <td>0.207256</td>\n",
       "      <td>0.230001</td>\n",
       "      <td>0.235942</td>\n",
       "      <td>0.516807</td>\n",
       "      <td>0.218885</td>\n",
       "      <td>-0.517266</td>\n",
       "      <td>0.462183</td>\n",
       "      <td>-0.540725</td>\n",
       "      <td>0.275883</td>\n",
       "      <td>...</td>\n",
       "      <td>-0.310253</td>\n",
       "      <td>-0.23812</td>\n",
       "      <td>-0.188025</td>\n",
       "      <td>-0.158114</td>\n",
       "      <td>-0.099258</td>\n",
       "      <td>-0.17364</td>\n",
       "      <td>-0.249351</td>\n",
       "      <td>-0.430083</td>\n",
       "      <td>-0.249351</td>\n",
       "      <td>-0.23812</td>\n",
       "    </tr>\n",
       "  </tbody>\n",
       "</table>\n",
       "<p>5 rows × 68 columns</p>\n",
       "</div>"
      ],
      "text/plain": [
       "   wheelbase  carlength  carwidth  carheight  curbweight  enginesize  \\\n",
       "0  -1.690772  -0.426521 -0.844782  -2.020417   -0.014566    0.074449   \n",
       "1  -1.690772  -0.426521 -0.844782  -2.020417   -0.014566    0.074449   \n",
       "2  -0.708596  -0.231513 -0.190566  -0.543527    0.514882    0.604046   \n",
       "3   0.173698   0.207256  0.136542   0.235942   -0.420797   -0.431076   \n",
       "4   0.107110   0.207256  0.230001   0.235942    0.516807    0.218885   \n",
       "\n",
       "   boreratio    stroke  compressionratio  horsepower  ...  car_company_nissan  \\\n",
       "0   0.519071 -1.839377         -0.288349    0.174483  ...           -0.310253   \n",
       "1   0.519071 -1.839377         -0.288349    0.174483  ...           -0.310253   \n",
       "2  -2.404880  0.685946         -0.288349    1.264536  ...           -0.310253   \n",
       "3  -0.517266  0.462183         -0.035973   -0.053668  ...           -0.310253   \n",
       "4  -0.517266  0.462183         -0.540725    0.275883  ...           -0.310253   \n",
       "\n",
       "   car_company_peugeot  car_company_plymouth  car_company_porsche  \\\n",
       "0             -0.23812             -0.188025            -0.158114   \n",
       "1             -0.23812             -0.188025            -0.158114   \n",
       "2             -0.23812             -0.188025            -0.158114   \n",
       "3             -0.23812             -0.188025            -0.158114   \n",
       "4             -0.23812             -0.188025            -0.158114   \n",
       "\n",
       "   car_company_renault  car_company_saab  car_company_subaru  \\\n",
       "0            -0.099258          -0.17364           -0.249351   \n",
       "1            -0.099258          -0.17364           -0.249351   \n",
       "2            -0.099258          -0.17364           -0.249351   \n",
       "3            -0.099258          -0.17364           -0.249351   \n",
       "4            -0.099258          -0.17364           -0.249351   \n",
       "\n",
       "   car_company_toyota  car_company_volkswagen  car_company_volvo  \n",
       "0           -0.430083               -0.249351           -0.23812  \n",
       "1           -0.430083               -0.249351           -0.23812  \n",
       "2           -0.430083               -0.249351           -0.23812  \n",
       "3           -0.430083               -0.249351           -0.23812  \n",
       "4           -0.430083               -0.249351           -0.23812  \n",
       "\n",
       "[5 rows x 68 columns]"
      ]
     },
     "execution_count": 470,
     "metadata": {},
     "output_type": "execute_result"
    }
   ],
   "source": [
    "# libreria para escalar\n",
    "from sklearn.preprocessing import scale\n",
    "\n",
    "# almacenar los nombres de las columnas en una variable para recuperarlos nuevamente\n",
    "cols = dfX.columns\n",
    "# al escalar el df se convierte en un array de numpy\n",
    "dfX_scaled = pd.DataFrame(scale(dfX))\n",
    "# recuperamos los nombres de las variables\n",
    "dfX_scaled.columns = cols\n",
    "\n",
    "dfX_scaled.head()"
   ]
  },
  {
   "cell_type": "markdown",
   "id": "f52949d4",
   "metadata": {},
   "source": [
    "Verifiquemos que todas las variables numericas tengan media de cero o cercano a cero y desviacion estandar de 1"
   ]
  },
  {
   "cell_type": "code",
   "execution_count": 471,
   "id": "e44b9063",
   "metadata": {},
   "outputs": [
    {
     "data": {
      "text/html": [
       "<div>\n",
       "<style scoped>\n",
       "    .dataframe tbody tr th:only-of-type {\n",
       "        vertical-align: middle;\n",
       "    }\n",
       "\n",
       "    .dataframe tbody tr th {\n",
       "        vertical-align: top;\n",
       "    }\n",
       "\n",
       "    .dataframe thead th {\n",
       "        text-align: right;\n",
       "    }\n",
       "</style>\n",
       "<table border=\"1\" class=\"dataframe\">\n",
       "  <thead>\n",
       "    <tr style=\"text-align: right;\">\n",
       "      <th></th>\n",
       "      <th>wheelbase</th>\n",
       "      <th>carlength</th>\n",
       "      <th>carwidth</th>\n",
       "      <th>carheight</th>\n",
       "      <th>curbweight</th>\n",
       "      <th>enginesize</th>\n",
       "      <th>boreratio</th>\n",
       "      <th>stroke</th>\n",
       "      <th>compressionratio</th>\n",
       "      <th>horsepower</th>\n",
       "      <th>...</th>\n",
       "      <th>car_company_nissan</th>\n",
       "      <th>car_company_peugeot</th>\n",
       "      <th>car_company_plymouth</th>\n",
       "      <th>car_company_porsche</th>\n",
       "      <th>car_company_renault</th>\n",
       "      <th>car_company_saab</th>\n",
       "      <th>car_company_subaru</th>\n",
       "      <th>car_company_toyota</th>\n",
       "      <th>car_company_volkswagen</th>\n",
       "      <th>car_company_volvo</th>\n",
       "    </tr>\n",
       "  </thead>\n",
       "  <tbody>\n",
       "    <tr>\n",
       "      <th>count</th>\n",
       "      <td>2.050000e+02</td>\n",
       "      <td>2.050000e+02</td>\n",
       "      <td>2.050000e+02</td>\n",
       "      <td>2.050000e+02</td>\n",
       "      <td>2.050000e+02</td>\n",
       "      <td>2.050000e+02</td>\n",
       "      <td>2.050000e+02</td>\n",
       "      <td>2.050000e+02</td>\n",
       "      <td>2.050000e+02</td>\n",
       "      <td>2.050000e+02</td>\n",
       "      <td>...</td>\n",
       "      <td>2.050000e+02</td>\n",
       "      <td>2.050000e+02</td>\n",
       "      <td>2.050000e+02</td>\n",
       "      <td>2.050000e+02</td>\n",
       "      <td>2.050000e+02</td>\n",
       "      <td>2.050000e+02</td>\n",
       "      <td>2.050000e+02</td>\n",
       "      <td>2.050000e+02</td>\n",
       "      <td>2.050000e+02</td>\n",
       "      <td>2.050000e+02</td>\n",
       "    </tr>\n",
       "    <tr>\n",
       "      <th>mean</th>\n",
       "      <td>-1.496906e-15</td>\n",
       "      <td>3.730349e-15</td>\n",
       "      <td>9.964929e-16</td>\n",
       "      <td>-4.408398e-16</td>\n",
       "      <td>9.910771e-17</td>\n",
       "      <td>5.415722e-19</td>\n",
       "      <td>2.267021e-15</td>\n",
       "      <td>2.126483e-15</td>\n",
       "      <td>-3.115394e-16</td>\n",
       "      <td>1.914458e-16</td>\n",
       "      <td>...</td>\n",
       "      <td>-6.228080e-17</td>\n",
       "      <td>-4.947262e-16</td>\n",
       "      <td>-5.524037e-17</td>\n",
       "      <td>3.076130e-16</td>\n",
       "      <td>-1.252386e-16</td>\n",
       "      <td>-1.437874e-16</td>\n",
       "      <td>8.529762e-17</td>\n",
       "      <td>-7.251652e-16</td>\n",
       "      <td>-6.452833e-16</td>\n",
       "      <td>3.552714e-16</td>\n",
       "    </tr>\n",
       "    <tr>\n",
       "      <th>std</th>\n",
       "      <td>1.002448e+00</td>\n",
       "      <td>1.002448e+00</td>\n",
       "      <td>1.002448e+00</td>\n",
       "      <td>1.002448e+00</td>\n",
       "      <td>1.002448e+00</td>\n",
       "      <td>1.002448e+00</td>\n",
       "      <td>1.002448e+00</td>\n",
       "      <td>1.002448e+00</td>\n",
       "      <td>1.002448e+00</td>\n",
       "      <td>1.002448e+00</td>\n",
       "      <td>...</td>\n",
       "      <td>1.002448e+00</td>\n",
       "      <td>1.002448e+00</td>\n",
       "      <td>1.002448e+00</td>\n",
       "      <td>1.002448e+00</td>\n",
       "      <td>1.002448e+00</td>\n",
       "      <td>1.002448e+00</td>\n",
       "      <td>1.002448e+00</td>\n",
       "      <td>1.002448e+00</td>\n",
       "      <td>1.002448e+00</td>\n",
       "      <td>1.002448e+00</td>\n",
       "    </tr>\n",
       "    <tr>\n",
       "      <th>min</th>\n",
       "      <td>-2.023713e+00</td>\n",
       "      <td>-2.677244e+00</td>\n",
       "      <td>-2.620512e+00</td>\n",
       "      <td>-2.430664e+00</td>\n",
       "      <td>-2.055348e+00</td>\n",
       "      <td>-1.586561e+00</td>\n",
       "      <td>-2.923049e+00</td>\n",
       "      <td>-3.789311e+00</td>\n",
       "      <td>-7.931011e-01</td>\n",
       "      <td>-1.422573e+00</td>\n",
       "      <td>...</td>\n",
       "      <td>-3.102526e-01</td>\n",
       "      <td>-2.381198e-01</td>\n",
       "      <td>-1.880254e-01</td>\n",
       "      <td>-1.581139e-01</td>\n",
       "      <td>-9.925833e-02</td>\n",
       "      <td>-1.736397e-01</td>\n",
       "      <td>-2.493515e-01</td>\n",
       "      <td>-4.300827e-01</td>\n",
       "      <td>-2.493515e-01</td>\n",
       "      <td>-2.381198e-01</td>\n",
       "    </tr>\n",
       "    <tr>\n",
       "      <th>25%</th>\n",
       "      <td>-7.085959e-01</td>\n",
       "      <td>-6.296552e-01</td>\n",
       "      <td>-8.447824e-01</td>\n",
       "      <td>-7.076263e-01</td>\n",
       "      <td>-7.904486e-01</td>\n",
       "      <td>-7.199469e-01</td>\n",
       "      <td>-6.653141e-01</td>\n",
       "      <td>-4.648342e-01</td>\n",
       "      <td>-3.892993e-01</td>\n",
       "      <td>-8.648707e-01</td>\n",
       "      <td>...</td>\n",
       "      <td>-3.102526e-01</td>\n",
       "      <td>-2.381198e-01</td>\n",
       "      <td>-1.880254e-01</td>\n",
       "      <td>-1.581139e-01</td>\n",
       "      <td>-9.925833e-02</td>\n",
       "      <td>-1.736397e-01</td>\n",
       "      <td>-2.493515e-01</td>\n",
       "      <td>-4.300827e-01</td>\n",
       "      <td>-2.493515e-01</td>\n",
       "      <td>-2.381198e-01</td>\n",
       "    </tr>\n",
       "    <tr>\n",
       "      <th>50%</th>\n",
       "      <td>-2.924196e-01</td>\n",
       "      <td>-6.900603e-02</td>\n",
       "      <td>-1.905661e-01</td>\n",
       "      <td>1.538927e-01</td>\n",
       "      <td>-2.725519e-01</td>\n",
       "      <td>-1.662771e-01</td>\n",
       "      <td>-7.312136e-02</td>\n",
       "      <td>1.105560e-01</td>\n",
       "      <td>-2.883489e-01</td>\n",
       "      <td>-2.311186e-01</td>\n",
       "      <td>...</td>\n",
       "      <td>-3.102526e-01</td>\n",
       "      <td>-2.381198e-01</td>\n",
       "      <td>-1.880254e-01</td>\n",
       "      <td>-1.581139e-01</td>\n",
       "      <td>-9.925833e-02</td>\n",
       "      <td>-1.736397e-01</td>\n",
       "      <td>-2.493515e-01</td>\n",
       "      <td>-4.300827e-01</td>\n",
       "      <td>-2.493515e-01</td>\n",
       "      <td>-2.381198e-01</td>\n",
       "    </tr>\n",
       "    <tr>\n",
       "      <th>75%</th>\n",
       "      <td>6.065210e-01</td>\n",
       "      <td>7.354037e-01</td>\n",
       "      <td>4.636501e-01</td>\n",
       "      <td>7.282388e-01</td>\n",
       "      <td>7.305117e-01</td>\n",
       "      <td>3.392475e-01</td>\n",
       "      <td>9.262039e-01</td>\n",
       "      <td>4.941494e-01</td>\n",
       "      <td>-1.873985e-01</td>\n",
       "      <td>3.012332e-01</td>\n",
       "      <td>...</td>\n",
       "      <td>-3.102526e-01</td>\n",
       "      <td>-2.381198e-01</td>\n",
       "      <td>-1.880254e-01</td>\n",
       "      <td>-1.581139e-01</td>\n",
       "      <td>-9.925833e-02</td>\n",
       "      <td>-1.736397e-01</td>\n",
       "      <td>-2.493515e-01</td>\n",
       "      <td>-4.300827e-01</td>\n",
       "      <td>-2.493515e-01</td>\n",
       "      <td>-2.381198e-01</td>\n",
       "    </tr>\n",
       "    <tr>\n",
       "      <th>max</th>\n",
       "      <td>3.686225e+00</td>\n",
       "      <td>2.766741e+00</td>\n",
       "      <td>2.987056e+00</td>\n",
       "      <td>2.492302e+00</td>\n",
       "      <td>2.907988e+00</td>\n",
       "      <td>4.792679e+00</td>\n",
       "      <td>2.258638e+00</td>\n",
       "      <td>2.923575e+00</td>\n",
       "      <td>3.244916e+00</td>\n",
       "      <td>4.661448e+00</td>\n",
       "      <td>...</td>\n",
       "      <td>3.223180e+00</td>\n",
       "      <td>4.199567e+00</td>\n",
       "      <td>5.318432e+00</td>\n",
       "      <td>6.324555e+00</td>\n",
       "      <td>1.007472e+01</td>\n",
       "      <td>5.759051e+00</td>\n",
       "      <td>4.010403e+00</td>\n",
       "      <td>2.325134e+00</td>\n",
       "      <td>4.010403e+00</td>\n",
       "      <td>4.199567e+00</td>\n",
       "    </tr>\n",
       "  </tbody>\n",
       "</table>\n",
       "<p>8 rows × 68 columns</p>\n",
       "</div>"
      ],
      "text/plain": [
       "          wheelbase     carlength      carwidth     carheight    curbweight  \\\n",
       "count  2.050000e+02  2.050000e+02  2.050000e+02  2.050000e+02  2.050000e+02   \n",
       "mean  -1.496906e-15  3.730349e-15  9.964929e-16 -4.408398e-16  9.910771e-17   \n",
       "std    1.002448e+00  1.002448e+00  1.002448e+00  1.002448e+00  1.002448e+00   \n",
       "min   -2.023713e+00 -2.677244e+00 -2.620512e+00 -2.430664e+00 -2.055348e+00   \n",
       "25%   -7.085959e-01 -6.296552e-01 -8.447824e-01 -7.076263e-01 -7.904486e-01   \n",
       "50%   -2.924196e-01 -6.900603e-02 -1.905661e-01  1.538927e-01 -2.725519e-01   \n",
       "75%    6.065210e-01  7.354037e-01  4.636501e-01  7.282388e-01  7.305117e-01   \n",
       "max    3.686225e+00  2.766741e+00  2.987056e+00  2.492302e+00  2.907988e+00   \n",
       "\n",
       "         enginesize     boreratio        stroke  compressionratio  \\\n",
       "count  2.050000e+02  2.050000e+02  2.050000e+02      2.050000e+02   \n",
       "mean   5.415722e-19  2.267021e-15  2.126483e-15     -3.115394e-16   \n",
       "std    1.002448e+00  1.002448e+00  1.002448e+00      1.002448e+00   \n",
       "min   -1.586561e+00 -2.923049e+00 -3.789311e+00     -7.931011e-01   \n",
       "25%   -7.199469e-01 -6.653141e-01 -4.648342e-01     -3.892993e-01   \n",
       "50%   -1.662771e-01 -7.312136e-02  1.105560e-01     -2.883489e-01   \n",
       "75%    3.392475e-01  9.262039e-01  4.941494e-01     -1.873985e-01   \n",
       "max    4.792679e+00  2.258638e+00  2.923575e+00      3.244916e+00   \n",
       "\n",
       "         horsepower  ...  car_company_nissan  car_company_peugeot  \\\n",
       "count  2.050000e+02  ...        2.050000e+02         2.050000e+02   \n",
       "mean   1.914458e-16  ...       -6.228080e-17        -4.947262e-16   \n",
       "std    1.002448e+00  ...        1.002448e+00         1.002448e+00   \n",
       "min   -1.422573e+00  ...       -3.102526e-01        -2.381198e-01   \n",
       "25%   -8.648707e-01  ...       -3.102526e-01        -2.381198e-01   \n",
       "50%   -2.311186e-01  ...       -3.102526e-01        -2.381198e-01   \n",
       "75%    3.012332e-01  ...       -3.102526e-01        -2.381198e-01   \n",
       "max    4.661448e+00  ...        3.223180e+00         4.199567e+00   \n",
       "\n",
       "       car_company_plymouth  car_company_porsche  car_company_renault  \\\n",
       "count          2.050000e+02         2.050000e+02         2.050000e+02   \n",
       "mean          -5.524037e-17         3.076130e-16        -1.252386e-16   \n",
       "std            1.002448e+00         1.002448e+00         1.002448e+00   \n",
       "min           -1.880254e-01        -1.581139e-01        -9.925833e-02   \n",
       "25%           -1.880254e-01        -1.581139e-01        -9.925833e-02   \n",
       "50%           -1.880254e-01        -1.581139e-01        -9.925833e-02   \n",
       "75%           -1.880254e-01        -1.581139e-01        -9.925833e-02   \n",
       "max            5.318432e+00         6.324555e+00         1.007472e+01   \n",
       "\n",
       "       car_company_saab  car_company_subaru  car_company_toyota  \\\n",
       "count      2.050000e+02        2.050000e+02        2.050000e+02   \n",
       "mean      -1.437874e-16        8.529762e-17       -7.251652e-16   \n",
       "std        1.002448e+00        1.002448e+00        1.002448e+00   \n",
       "min       -1.736397e-01       -2.493515e-01       -4.300827e-01   \n",
       "25%       -1.736397e-01       -2.493515e-01       -4.300827e-01   \n",
       "50%       -1.736397e-01       -2.493515e-01       -4.300827e-01   \n",
       "75%       -1.736397e-01       -2.493515e-01       -4.300827e-01   \n",
       "max        5.759051e+00        4.010403e+00        2.325134e+00   \n",
       "\n",
       "       car_company_volkswagen  car_company_volvo  \n",
       "count            2.050000e+02       2.050000e+02  \n",
       "mean            -6.452833e-16       3.552714e-16  \n",
       "std              1.002448e+00       1.002448e+00  \n",
       "min             -2.493515e-01      -2.381198e-01  \n",
       "25%             -2.493515e-01      -2.381198e-01  \n",
       "50%             -2.493515e-01      -2.381198e-01  \n",
       "75%             -2.493515e-01      -2.381198e-01  \n",
       "max              4.010403e+00       4.199567e+00  \n",
       "\n",
       "[8 rows x 68 columns]"
      ]
     },
     "execution_count": 471,
     "metadata": {},
     "output_type": "execute_result"
    }
   ],
   "source": [
    "dfX_scaled.describe()"
   ]
  },
  {
   "cell_type": "markdown",
   "id": "680777f3",
   "metadata": {},
   "source": [
    "Ahora, dividimos los datos en dos grupos: entrenamiento y de prueba"
   ]
  },
  {
   "cell_type": "code",
   "execution_count": 472,
   "id": "9fd86e43",
   "metadata": {},
   "outputs": [],
   "source": [
    "# libreria para dividir los datos\n",
    "from sklearn.model_selection import train_test_split\n",
    "\n",
    "# divimos los datos en 70% de entrenamiento y 30% de prueba\n",
    "X_train, X_test, y_train, y_test = train_test_split(dfX_scaled, y, train_size=0.7, test_size=0.3, random_state=100)\n"
   ]
  },
  {
   "cell_type": "code",
   "execution_count": null,
   "id": "3eb7f6ab",
   "metadata": {},
   "outputs": [],
   "source": []
  },
  {
   "cell_type": "markdown",
   "id": "a184e67b",
   "metadata": {},
   "source": [
    "# Seccion 6: Construccion del Modelo y evaluacion de desempeño"
   ]
  },
  {
   "cell_type": "markdown",
   "id": "b14f5b2f",
   "metadata": {},
   "source": [
    "Dado que la variable dependiente *Price* parece estar relacionado lienalmente con la mayoria de las variables predictoras, vamos a utilizar la Regresion Lineal. Creamos un modelo de regresion lineal que utilice todas las variables."
   ]
  },
  {
   "cell_type": "code",
   "execution_count": 473,
   "id": "a20a48f4",
   "metadata": {},
   "outputs": [],
   "source": [
    "# librerias para crear un modelo de regresion lineal\n",
    "from sklearn import linear_model\n",
    "from sklearn.linear_model import LinearRegression\n",
    "\n",
    "# creamos el modelo\n",
    "lm = LinearRegression()\n",
    "# entrenamos el modelo con los datos de entrenamiento\n",
    "lm = lm.fit(X_train, y_train)"
   ]
  },
  {
   "cell_type": "markdown",
   "id": "b6b29ca2",
   "metadata": {},
   "source": [
    "Evaluamos el desempeno del modelo mediante el calculo de las metricas que se hara a traves de la siguiente funcion:"
   ]
  },
  {
   "cell_type": "code",
   "execution_count": 474,
   "id": "b616cf0c",
   "metadata": {},
   "outputs": [],
   "source": [
    "def Metricas_Modelo(model_train, model_name, X_train, y_train, X_test, y_test, descrip=' '):\n",
    "    '''\n",
    "    Funcion que permite calcular R-cuadrado y RMSE del modelo entrenado que se le pasa\n",
    "    tanto para los datos de entrenamiento como los de prueba. Los parametros solicitados\n",
    "    son:\n",
    "    - model_train: objeto que contiene el modelo entrenado con los datos de entrenamiento\n",
    "    - model_name: nombre del modelo para distinguirlo del resto\n",
    "    - X_train: variables predictoras de entrenamiento\n",
    "    - y_train: variable objetivo de entrenamiento\n",
    "    - X_test: variables predictoras de prueba\n",
    "    - y_test: variable objetivo de entrenamiento\n",
    "    - descrip: mensaje para describir el modelo\n",
    "    '''\n",
    "    \n",
    "    # generamos la prediccion del modelo con los datos de entrenamiento\n",
    "    pred_train = model_train.predict(sm.add_constant(X_train))\n",
    "    \n",
    "    # metricas para los datos de entrenamiento\n",
    "    r_train = r2_score(y_train, pred_train)\n",
    "    MSE_train = mean_squared_error(y_train, pred_train)\n",
    "    RMSE_train = (MSE_train)**0.5\n",
    "    \n",
    "    # generamos prediccion con datos de prueba\n",
    "    Xnew = sm.add_constant(X_test)\n",
    "    pred_test = model_train.predict(Xnew)\n",
    "    \n",
    "    # metricas para los datos de prueba\n",
    "    r_test = r2_score(y_test, pred_test)\n",
    "    MSE_test = mean_squared_error(y_test, pred_test)\n",
    "    RMSE_test = (MSE_test)**0.5\n",
    "    \n",
    "    # creamos un diccionario con las metricas del modelo\n",
    "    dict_metrics = {\n",
    "        'Modelo': model_name,\n",
    "        'R-cuadrado_train': [r_train.round(3)],\n",
    "        'RMSE_train': [RMSE_train.round(3)],\n",
    "        'R-cuadrado_test': [r_test.round(3)],\n",
    "        'RMSE_test': [RMSE_test.round(3)],\n",
    "        'Descripcion': descrip\n",
    "    }\n",
    "    \n",
    "    # retornamos un dataframe con las metricas del modelo\n",
    "    return pd.DataFrame(dict_metrics)"
   ]
  },
  {
   "cell_type": "markdown",
   "id": "4a6f4d40",
   "metadata": {},
   "source": [
    "Creamos una descripcion del modelo para luego pasarla, junto con los demas parametros requeridos, a la funcion antes creada. "
   ]
  },
  {
   "cell_type": "code",
   "execution_count": 475,
   "id": "2305dc4a",
   "metadata": {},
   "outputs": [
    {
     "data": {
      "text/html": [
       "<div>\n",
       "<style scoped>\n",
       "    .dataframe tbody tr th:only-of-type {\n",
       "        vertical-align: middle;\n",
       "    }\n",
       "\n",
       "    .dataframe tbody tr th {\n",
       "        vertical-align: top;\n",
       "    }\n",
       "\n",
       "    .dataframe thead th {\n",
       "        text-align: right;\n",
       "    }\n",
       "</style>\n",
       "<table border=\"1\" class=\"dataframe\">\n",
       "  <thead>\n",
       "    <tr style=\"text-align: right;\">\n",
       "      <th></th>\n",
       "      <th>Modelo</th>\n",
       "      <th>R-cuadrado_train</th>\n",
       "      <th>RMSE_train</th>\n",
       "      <th>R-cuadrado_test</th>\n",
       "      <th>RMSE_test</th>\n",
       "      <th>Descripcion</th>\n",
       "    </tr>\n",
       "  </thead>\n",
       "  <tbody>\n",
       "    <tr>\n",
       "      <th>0</th>\n",
       "      <td>Modelo 1</td>\n",
       "      <td>0.976</td>\n",
       "      <td>1213.002</td>\n",
       "      <td>0.838</td>\n",
       "      <td>3365.465</td>\n",
       "      <td>Todas las variables</td>\n",
       "    </tr>\n",
       "  </tbody>\n",
       "</table>\n",
       "</div>"
      ],
      "text/plain": [
       "     Modelo  R-cuadrado_train  RMSE_train  R-cuadrado_test  RMSE_test  \\\n",
       "0  Modelo 1             0.976    1213.002            0.838   3365.465   \n",
       "\n",
       "           Descripcion  \n",
       "0  Todas las variables  "
      ]
     },
     "execution_count": 475,
     "metadata": {},
     "output_type": "execute_result"
    }
   ],
   "source": [
    "descripcion = 'Todas las variables'\n",
    "metricas_modelo1 = Metricas_Modelo(lm, 'Modelo 1', X_train, y_train, X_test, y_test, descripcion)\n",
    "metricas_modelo1"
   ]
  },
  {
   "cell_type": "markdown",
   "id": "6592c0f8",
   "metadata": {},
   "source": [
    "> El alto valor de R cuadrado en el entrenamiento y su amplia diferencia con el R cuadrado de los datos de prueba indica un sobreajuste del modelo. Vamos a utlizar la eliminacion recursiva de caracteristicas para reducir la dimensionalidad y asi reducir el overfitting."
   ]
  },
  {
   "cell_type": "code",
   "execution_count": null,
   "id": "d2202bf0",
   "metadata": {},
   "outputs": [],
   "source": []
  },
  {
   "cell_type": "markdown",
   "id": "3869971b",
   "metadata": {},
   "source": [
    "# Seccion 7: Seleccion de variables usando RFE"
   ]
  },
  {
   "cell_type": "markdown",
   "id": "14fe498d",
   "metadata": {},
   "source": [
    "Vamos a determinar el numero optimo de variables. Recordemos que tenemos 67 variables predictoras. Lo que hacemos es crear modelos con diferentes variables predictoras seleccionadas por RFE iniciando en 4 hasta llegar a 68 variables y a cada modelo se calcula las respectivas metricas. Todo ello, lo haremos mediante la siguiente funcion."
   ]
  },
  {
   "cell_type": "code",
   "execution_count": 476,
   "id": "e3e89421",
   "metadata": {},
   "outputs": [],
   "source": [
    "from sklearn.feature_selection import RFE\n",
    "\n",
    "def Modelos_Metricas_RFE(n_inicial, n_final, X_train, y_train, X_test, y_test):\n",
    "    \n",
    "    for n_features in  range(n_inicial, n_final):\n",
    "        \n",
    "        # creamos el modelo\n",
    "        lm = LinearRegression()\n",
    "        # especificamos la cantidad de variables en RFE\n",
    "        rfe_n = RFE(estimator=lm, n_features_to_select=n_features)\n",
    "         # ajustar el modelo RFE con n variables\n",
    "        rfe_n.fit(X_train, y_train)\n",
    "        # guardamos variables seleccionadas por rfe_n\n",
    "        col_n = X_train.columns[rfe_n.support_]\n",
    "        # seleccionamos los datos de entrenamiento y de prueba para las n variables seleccionadas\n",
    "        X_train_rfe_n = X_train[col_n]\n",
    "        X_test_rfe_n = X_test[col_n]\n",
    "         # agrega una constante al modelo que representa el intercepto\n",
    "        X_train_rfe_n = sm.add_constant(X_train_rfe_n)\n",
    "        X_test_rfe_n = sm.add_constant(X_test_rfe_n, has_constant='add')\n",
    "        # entrenamos un nuevo modelo con los datos de entrenamiento\n",
    "        lm_n = lm.fit(X_train_rfe_n, y_train)\n",
    "        \n",
    "         \n",
    "        if (n_features - n_inicial) == 0: \n",
    "            Modelos_RFE = Metricas_Modelo(lm_n, f'{n_features} variables', X_train_rfe_n, y_train, X_test_rfe_n, y_test, n_features)\n",
    "        else:\n",
    "            Modelos_RFE_s = Metricas_Modelo(lm_n,f'{n_features} variables' , X_train_rfe_n, y_train, X_test_rfe_n, y_test, n_features)            \n",
    "            Modelos_RFE = pd.concat([Modelos_RFE, Modelos_RFE_s], ignore_index=True)\n",
    "            \n",
    "    return Modelos_RFE\n",
    "        "
   ]
  },
  {
   "cell_type": "code",
   "execution_count": 477,
   "id": "854db55b",
   "metadata": {},
   "outputs": [
    {
     "data": {
      "text/html": [
       "<div>\n",
       "<style scoped>\n",
       "    .dataframe tbody tr th:only-of-type {\n",
       "        vertical-align: middle;\n",
       "    }\n",
       "\n",
       "    .dataframe tbody tr th {\n",
       "        vertical-align: top;\n",
       "    }\n",
       "\n",
       "    .dataframe thead th {\n",
       "        text-align: right;\n",
       "    }\n",
       "</style>\n",
       "<table border=\"1\" class=\"dataframe\">\n",
       "  <thead>\n",
       "    <tr style=\"text-align: right;\">\n",
       "      <th></th>\n",
       "      <th>Modelo</th>\n",
       "      <th>R-cuadrado_train</th>\n",
       "      <th>RMSE_train</th>\n",
       "      <th>R-cuadrado_test</th>\n",
       "      <th>RMSE_test</th>\n",
       "      <th>Descripcion</th>\n",
       "    </tr>\n",
       "  </thead>\n",
       "  <tbody>\n",
       "    <tr>\n",
       "      <th>0</th>\n",
       "      <td>4 variables</td>\n",
       "      <td>0.837</td>\n",
       "      <td>3139.984</td>\n",
       "      <td>0.865</td>\n",
       "      <td>3072.217</td>\n",
       "      <td>4</td>\n",
       "    </tr>\n",
       "    <tr>\n",
       "      <th>1</th>\n",
       "      <td>5 variables</td>\n",
       "      <td>0.886</td>\n",
       "      <td>2621.196</td>\n",
       "      <td>0.888</td>\n",
       "      <td>2799.293</td>\n",
       "      <td>5</td>\n",
       "    </tr>\n",
       "    <tr>\n",
       "      <th>2</th>\n",
       "      <td>6 variables</td>\n",
       "      <td>0.891</td>\n",
       "      <td>2571.205</td>\n",
       "      <td>0.885</td>\n",
       "      <td>2836.086</td>\n",
       "      <td>6</td>\n",
       "    </tr>\n",
       "    <tr>\n",
       "      <th>3</th>\n",
       "      <td>7 variables</td>\n",
       "      <td>0.896</td>\n",
       "      <td>2505.390</td>\n",
       "      <td>0.887</td>\n",
       "      <td>2814.680</td>\n",
       "      <td>7</td>\n",
       "    </tr>\n",
       "    <tr>\n",
       "      <th>4</th>\n",
       "      <td>8 variables</td>\n",
       "      <td>0.907</td>\n",
       "      <td>2368.638</td>\n",
       "      <td>0.898</td>\n",
       "      <td>2673.842</td>\n",
       "      <td>8</td>\n",
       "    </tr>\n",
       "    <tr>\n",
       "      <th>...</th>\n",
       "      <td>...</td>\n",
       "      <td>...</td>\n",
       "      <td>...</td>\n",
       "      <td>...</td>\n",
       "      <td>...</td>\n",
       "      <td>...</td>\n",
       "    </tr>\n",
       "    <tr>\n",
       "      <th>57</th>\n",
       "      <td>61 variables</td>\n",
       "      <td>0.839</td>\n",
       "      <td>3124.898</td>\n",
       "      <td>0.722</td>\n",
       "      <td>4412.391</td>\n",
       "      <td>61</td>\n",
       "    </tr>\n",
       "    <tr>\n",
       "      <th>58</th>\n",
       "      <td>62 variables</td>\n",
       "      <td>0.889</td>\n",
       "      <td>2588.682</td>\n",
       "      <td>0.837</td>\n",
       "      <td>3376.433</td>\n",
       "      <td>62</td>\n",
       "    </tr>\n",
       "    <tr>\n",
       "      <th>59</th>\n",
       "      <td>63 variables</td>\n",
       "      <td>0.889</td>\n",
       "      <td>2589.020</td>\n",
       "      <td>0.828</td>\n",
       "      <td>3475.265</td>\n",
       "      <td>63</td>\n",
       "    </tr>\n",
       "    <tr>\n",
       "      <th>60</th>\n",
       "      <td>64 variables</td>\n",
       "      <td>0.788</td>\n",
       "      <td>3583.097</td>\n",
       "      <td>0.721</td>\n",
       "      <td>4421.512</td>\n",
       "      <td>64</td>\n",
       "    </tr>\n",
       "    <tr>\n",
       "      <th>61</th>\n",
       "      <td>65 variables</td>\n",
       "      <td>0.747</td>\n",
       "      <td>3916.724</td>\n",
       "      <td>0.591</td>\n",
       "      <td>5352.761</td>\n",
       "      <td>65</td>\n",
       "    </tr>\n",
       "  </tbody>\n",
       "</table>\n",
       "<p>62 rows × 6 columns</p>\n",
       "</div>"
      ],
      "text/plain": [
       "          Modelo  R-cuadrado_train  RMSE_train  R-cuadrado_test  RMSE_test  \\\n",
       "0    4 variables             0.837    3139.984            0.865   3072.217   \n",
       "1    5 variables             0.886    2621.196            0.888   2799.293   \n",
       "2    6 variables             0.891    2571.205            0.885   2836.086   \n",
       "3    7 variables             0.896    2505.390            0.887   2814.680   \n",
       "4    8 variables             0.907    2368.638            0.898   2673.842   \n",
       "..           ...               ...         ...              ...        ...   \n",
       "57  61 variables             0.839    3124.898            0.722   4412.391   \n",
       "58  62 variables             0.889    2588.682            0.837   3376.433   \n",
       "59  63 variables             0.889    2589.020            0.828   3475.265   \n",
       "60  64 variables             0.788    3583.097            0.721   4421.512   \n",
       "61  65 variables             0.747    3916.724            0.591   5352.761   \n",
       "\n",
       "    Descripcion  \n",
       "0             4  \n",
       "1             5  \n",
       "2             6  \n",
       "3             7  \n",
       "4             8  \n",
       "..          ...  \n",
       "57           61  \n",
       "58           62  \n",
       "59           63  \n",
       "60           64  \n",
       "61           65  \n",
       "\n",
       "[62 rows x 6 columns]"
      ]
     },
     "execution_count": 477,
     "metadata": {},
     "output_type": "execute_result"
    }
   ],
   "source": [
    "df_RFE = Modelos_Metricas_RFE(4, 66, X_train, y_train, X_test, y_test)\n",
    "df_RFE"
   ]
  },
  {
   "cell_type": "markdown",
   "id": "0d38b31d",
   "metadata": {},
   "source": [
    "Una vez que hemos evaluado el modelo desde 4 variables hasta 30 y obtenido de cada uno sus metricas, vamos a graficar R cuadrado y RMSE en funcion de la cantidad de variables para determinar el numero optimo de variables para el modelo de regresion"
   ]
  },
  {
   "cell_type": "code",
   "execution_count": 478,
   "id": "055f722d",
   "metadata": {},
   "outputs": [
    {
     "data": {
      "image/png": "[encoded data removed]",
      "text/plain": [
       "<Figure size 936x648 with 2 Axes>"
      ]
     },
     "metadata": {
      "needs_background": "light"
     },
     "output_type": "display_data"
    }
   ],
   "source": [
    "# librerias para personalizar las etiquetas\n",
    "import matplotlib.ticker as plticker\n",
    "\n",
    "# grilla\n",
    "fig, ax = plt.subplots(2, 1, figsize=(13, 9))\n",
    "\n",
    "# grafico de R cuadrado\n",
    "ax[0].plot(df_RFE['Descripcion'], df_RFE['R-cuadrado_train'], 'b', label='R cuadrado para datos de entrenamiento')\n",
    "ax[0].plot(df_RFE['Descripcion'], df_RFE['R-cuadrado_test'], 'g', label='R cuadrado para datos de prueba')\n",
    "ax[0].set_xlabel('Cantidad de variables')\n",
    "ax[0].legend(loc='lower left')\n",
    "loc = plticker.MultipleLocator(base=1)\n",
    "ax[0].xaxis.set_major_locator(loc)\n",
    "ax[0].grid(True)\n",
    "# grafico de RMSE\n",
    "ax[1].plot(df_RFE['Descripcion'], df_RFE['RMSE_train'], 'b',label=\"RMSE para datos de entrenamiento\")\n",
    "ax[1].plot(df_RFE['Descripcion'], df_RFE['RMSE_test'], 'g',label=\"RMSE para datos de prueba\")\n",
    "ax[1].set_xlabel('Cantidad de variables')\n",
    "ax[1].legend(loc='upper left')\n",
    "plt.xticks(np.arange(0, 70, step=1))\n",
    "ax[1].grid(True);\n"
   ]
  },
  {
   "cell_type": "markdown",
   "id": "d1a142fc",
   "metadata": {},
   "source": [
    "> El R cuadrado para datos de prueba alcanza su punto maximo en 13 variables predictoras y en este punto el modelo se generaliza bien ya que el R cuadrado para datos de entrenamiento esta muy cerca del de prueba. El R cuadrado de entrenamiento mas alla de 13 variables sigue aumentando de valor pero el modelo pierde generalizacion.\n",
    "\n",
    "> El RMSE para datos de prueba es el mas bajo con 13 variables. Mientras que el RMSE para datos de entrenamiento siguen disminuyendo mas alla de 13 variables pero nuevamente existe un equilibrio entre la cantidad de variables seleccionadas y el rendimiento el modelo. Por tanto, nos quedamos con las 13 variables"
   ]
  },
  {
   "cell_type": "code",
   "execution_count": null,
   "id": "e15710ae",
   "metadata": {},
   "outputs": [],
   "source": []
  },
  {
   "cell_type": "markdown",
   "id": "00a2e469",
   "metadata": {},
   "source": [
    "# Seccion 8: Construir un modelo con las variables optimas"
   ]
  },
  {
   "cell_type": "markdown",
   "id": "53609b40",
   "metadata": {},
   "source": [
    "A partir de las 13 variables optimas seleccionadas por RFE, construimos un nuevo modelo de regresion lineal. Primero, vamos a seleccionar las 13 variables dadas por RFE"
   ]
  },
  {
   "cell_type": "code",
   "execution_count": 479,
   "id": "1b65e658",
   "metadata": {},
   "outputs": [
    {
     "data": {
      "text/plain": [
       "Index(['carwidth', 'curbweight', 'enginesize', 'boreratio', 'stroke',\n",
       "       'enginelocation_rear', 'enginetype_rotor', 'cylindernumber_five',\n",
       "       'cylindernumber_four', 'cylindernumber_twelve', 'cylindernumber_two',\n",
       "       'car_company_bmw', 'car_company_porsche'],\n",
       "      dtype='object')"
      ]
     },
     "execution_count": 479,
     "metadata": {},
     "output_type": "execute_result"
    }
   ],
   "source": [
    "# objeto de la Regresion\n",
    "lm = LinearRegression()\n",
    "# aplicar RFE al modelo anterior\n",
    "rfe = RFE(estimator=lm, n_features_to_select=13)\n",
    "# ajustar el modelo a todos los datos de entrenamiento\n",
    "rfe.fit(X_train, y_train)\n",
    "# obtener los nombres de las 13 variables optimas\n",
    "col = X_train.columns[rfe.support_]\n",
    "# mostras nombre de las 13 variables\n",
    "col"
   ]
  },
  {
   "cell_type": "markdown",
   "id": "7ea2a0ad",
   "metadata": {},
   "source": [
    "Una vez identificadas las 13 variables, vamos a separar sus datos en nuevas variables"
   ]
  },
  {
   "cell_type": "code",
   "execution_count": 480,
   "id": "ff3984dc",
   "metadata": {},
   "outputs": [
    {
     "data": {
      "text/html": [
       "<div>\n",
       "<style scoped>\n",
       "    .dataframe tbody tr th:only-of-type {\n",
       "        vertical-align: middle;\n",
       "    }\n",
       "\n",
       "    .dataframe tbody tr th {\n",
       "        vertical-align: top;\n",
       "    }\n",
       "\n",
       "    .dataframe thead th {\n",
       "        text-align: right;\n",
       "    }\n",
       "</style>\n",
       "<table border=\"1\" class=\"dataframe\">\n",
       "  <thead>\n",
       "    <tr style=\"text-align: right;\">\n",
       "      <th></th>\n",
       "      <th>const</th>\n",
       "      <th>carwidth</th>\n",
       "      <th>curbweight</th>\n",
       "      <th>enginesize</th>\n",
       "      <th>boreratio</th>\n",
       "      <th>stroke</th>\n",
       "      <th>enginelocation_rear</th>\n",
       "      <th>enginetype_rotor</th>\n",
       "      <th>cylindernumber_five</th>\n",
       "      <th>cylindernumber_four</th>\n",
       "      <th>cylindernumber_twelve</th>\n",
       "      <th>cylindernumber_two</th>\n",
       "      <th>car_company_bmw</th>\n",
       "      <th>car_company_porsche</th>\n",
       "    </tr>\n",
       "  </thead>\n",
       "  <tbody>\n",
       "    <tr>\n",
       "      <th>122</th>\n",
       "      <td>1.0</td>\n",
       "      <td>-0.984972</td>\n",
       "      <td>-0.701886</td>\n",
       "      <td>-0.695874</td>\n",
       "      <td>-1.331531</td>\n",
       "      <td>-0.081241</td>\n",
       "      <td>-0.121867</td>\n",
       "      <td>-0.141069</td>\n",
       "      <td>-0.23812</td>\n",
       "      <td>0.537874</td>\n",
       "      <td>-0.070014</td>\n",
       "      <td>-0.141069</td>\n",
       "      <td>-0.201517</td>\n",
       "      <td>-0.158114</td>\n",
       "    </tr>\n",
       "    <tr>\n",
       "      <th>125</th>\n",
       "      <td>1.0</td>\n",
       "      <td>1.117866</td>\n",
       "      <td>0.428245</td>\n",
       "      <td>0.579974</td>\n",
       "      <td>2.258638</td>\n",
       "      <td>-0.464834</td>\n",
       "      <td>-0.121867</td>\n",
       "      <td>-0.141069</td>\n",
       "      <td>-0.23812</td>\n",
       "      <td>0.537874</td>\n",
       "      <td>-0.070014</td>\n",
       "      <td>-0.141069</td>\n",
       "      <td>-0.201517</td>\n",
       "      <td>6.324555</td>\n",
       "    </tr>\n",
       "    <tr>\n",
       "      <th>166</th>\n",
       "      <td>1.0</td>\n",
       "      <td>-0.891512</td>\n",
       "      <td>-0.492032</td>\n",
       "      <td>-0.695874</td>\n",
       "      <td>-0.332206</td>\n",
       "      <td>-0.560733</td>\n",
       "      <td>-0.121867</td>\n",
       "      <td>-0.141069</td>\n",
       "      <td>-0.23812</td>\n",
       "      <td>0.537874</td>\n",
       "      <td>-0.070014</td>\n",
       "      <td>-0.141069</td>\n",
       "      <td>-0.201517</td>\n",
       "      <td>-0.158114</td>\n",
       "    </tr>\n",
       "    <tr>\n",
       "      <th>1</th>\n",
       "      <td>1.0</td>\n",
       "      <td>-0.844782</td>\n",
       "      <td>-0.014566</td>\n",
       "      <td>0.074449</td>\n",
       "      <td>0.519071</td>\n",
       "      <td>-1.839377</td>\n",
       "      <td>-0.121867</td>\n",
       "      <td>-0.141069</td>\n",
       "      <td>-0.23812</td>\n",
       "      <td>0.537874</td>\n",
       "      <td>-0.070014</td>\n",
       "      <td>-0.141069</td>\n",
       "      <td>-0.201517</td>\n",
       "      <td>-0.158114</td>\n",
       "    </tr>\n",
       "    <tr>\n",
       "      <th>199</th>\n",
       "      <td>1.0</td>\n",
       "      <td>0.603839</td>\n",
       "      <td>1.157921</td>\n",
       "      <td>0.074449</td>\n",
       "      <td>1.074252</td>\n",
       "      <td>-0.336970</td>\n",
       "      <td>-0.121867</td>\n",
       "      <td>-0.141069</td>\n",
       "      <td>-0.23812</td>\n",
       "      <td>0.537874</td>\n",
       "      <td>-0.070014</td>\n",
       "      <td>-0.141069</td>\n",
       "      <td>-0.201517</td>\n",
       "      <td>-0.158114</td>\n",
       "    </tr>\n",
       "  </tbody>\n",
       "</table>\n",
       "</div>"
      ],
      "text/plain": [
       "     const  carwidth  curbweight  enginesize  boreratio    stroke  \\\n",
       "122    1.0 -0.984972   -0.701886   -0.695874  -1.331531 -0.081241   \n",
       "125    1.0  1.117866    0.428245    0.579974   2.258638 -0.464834   \n",
       "166    1.0 -0.891512   -0.492032   -0.695874  -0.332206 -0.560733   \n",
       "1      1.0 -0.844782   -0.014566    0.074449   0.519071 -1.839377   \n",
       "199    1.0  0.603839    1.157921    0.074449   1.074252 -0.336970   \n",
       "\n",
       "     enginelocation_rear  enginetype_rotor  cylindernumber_five  \\\n",
       "122            -0.121867         -0.141069             -0.23812   \n",
       "125            -0.121867         -0.141069             -0.23812   \n",
       "166            -0.121867         -0.141069             -0.23812   \n",
       "1              -0.121867         -0.141069             -0.23812   \n",
       "199            -0.121867         -0.141069             -0.23812   \n",
       "\n",
       "     cylindernumber_four  cylindernumber_twelve  cylindernumber_two  \\\n",
       "122             0.537874              -0.070014           -0.141069   \n",
       "125             0.537874              -0.070014           -0.141069   \n",
       "166             0.537874              -0.070014           -0.141069   \n",
       "1               0.537874              -0.070014           -0.141069   \n",
       "199             0.537874              -0.070014           -0.141069   \n",
       "\n",
       "     car_company_bmw  car_company_porsche  \n",
       "122        -0.201517            -0.158114  \n",
       "125        -0.201517             6.324555  \n",
       "166        -0.201517            -0.158114  \n",
       "1          -0.201517            -0.158114  \n",
       "199        -0.201517            -0.158114  "
      ]
     },
     "execution_count": 480,
     "metadata": {},
     "output_type": "execute_result"
    }
   ],
   "source": [
    "# seleccionar datos de prueba y de entrenamiento de las 13 variables\n",
    "X_train_13 = X_train[col]\n",
    "X_test_13 = X_test[col]\n",
    "\n",
    "# agregar una constante al modelo que representa el intercepto\n",
    "X_train_13 = sm.add_constant(X_train_13, has_constant='add')\n",
    "X_test_13 = sm.add_constant(X_test_13, has_constant='add')\n",
    "\n",
    "# mostrar las variables junto a sus valores seleccionadas por RFE\n",
    "X_train_13.head()"
   ]
  },
  {
   "cell_type": "markdown",
   "id": "58d0fa9e",
   "metadata": {},
   "source": [
    "Entrenamos un modelo de regresion lineal con los nuevos datos"
   ]
  },
  {
   "cell_type": "code",
   "execution_count": 481,
   "id": "b04376f0",
   "metadata": {},
   "outputs": [],
   "source": [
    "# creamos el modelo\n",
    "lm_2 = LinearRegression()\n",
    "# entrenamos el modelo con los datos de entrenamiento\n",
    "lm_2 = lm_2.fit(X_train_13, y_train)"
   ]
  },
  {
   "cell_type": "markdown",
   "id": "d56a9c6a",
   "metadata": {},
   "source": [
    "Calculamos las metricas del modelo tanto para datos de entrenamiento como de prueba"
   ]
  },
  {
   "cell_type": "code",
   "execution_count": 482,
   "id": "f8bf5a47",
   "metadata": {
    "scrolled": true
   },
   "outputs": [
    {
     "data": {
      "text/html": [
       "<div>\n",
       "<style scoped>\n",
       "    .dataframe tbody tr th:only-of-type {\n",
       "        vertical-align: middle;\n",
       "    }\n",
       "\n",
       "    .dataframe tbody tr th {\n",
       "        vertical-align: top;\n",
       "    }\n",
       "\n",
       "    .dataframe thead th {\n",
       "        text-align: right;\n",
       "    }\n",
       "</style>\n",
       "<table border=\"1\" class=\"dataframe\">\n",
       "  <thead>\n",
       "    <tr style=\"text-align: right;\">\n",
       "      <th></th>\n",
       "      <th>Modelo</th>\n",
       "      <th>R-cuadrado_train</th>\n",
       "      <th>RMSE_train</th>\n",
       "      <th>R-cuadrado_test</th>\n",
       "      <th>RMSE_test</th>\n",
       "      <th>Descripcion</th>\n",
       "    </tr>\n",
       "  </thead>\n",
       "  <tbody>\n",
       "    <tr>\n",
       "      <th>0</th>\n",
       "      <td>Modelo 2</td>\n",
       "      <td>0.917</td>\n",
       "      <td>2237.426</td>\n",
       "      <td>0.914</td>\n",
       "      <td>2455.655</td>\n",
       "      <td>13 variables</td>\n",
       "    </tr>\n",
       "  </tbody>\n",
       "</table>\n",
       "</div>"
      ],
      "text/plain": [
       "     Modelo  R-cuadrado_train  RMSE_train  R-cuadrado_test  RMSE_test  \\\n",
       "0  Modelo 2             0.917    2237.426            0.914   2455.655   \n",
       "\n",
       "    Descripcion  \n",
       "0  13 variables  "
      ]
     },
     "execution_count": 482,
     "metadata": {},
     "output_type": "execute_result"
    }
   ],
   "source": [
    "metricas_modelo2 = Metricas_Modelo(lm_2, 'Modelo 2', X_train_13, y_train, X_test_13, y_test, '13 variables')\n",
    "metricas_modelo2"
   ]
  },
  {
   "cell_type": "markdown",
   "id": "7d23979c",
   "metadata": {},
   "source": [
    "Concatenamos este resultado con los del modelo 1 en un dataframe para hacer una mejor comparacion"
   ]
  },
  {
   "cell_type": "code",
   "execution_count": 483,
   "id": "3aa2a19a",
   "metadata": {},
   "outputs": [
    {
     "data": {
      "text/html": [
       "<div>\n",
       "<style scoped>\n",
       "    .dataframe tbody tr th:only-of-type {\n",
       "        vertical-align: middle;\n",
       "    }\n",
       "\n",
       "    .dataframe tbody tr th {\n",
       "        vertical-align: top;\n",
       "    }\n",
       "\n",
       "    .dataframe thead th {\n",
       "        text-align: right;\n",
       "    }\n",
       "</style>\n",
       "<table border=\"1\" class=\"dataframe\">\n",
       "  <thead>\n",
       "    <tr style=\"text-align: right;\">\n",
       "      <th></th>\n",
       "      <th>Modelo</th>\n",
       "      <th>R-cuadrado_train</th>\n",
       "      <th>RMSE_train</th>\n",
       "      <th>R-cuadrado_test</th>\n",
       "      <th>RMSE_test</th>\n",
       "      <th>Descripcion</th>\n",
       "    </tr>\n",
       "  </thead>\n",
       "  <tbody>\n",
       "    <tr>\n",
       "      <th>0</th>\n",
       "      <td>Modelo 1</td>\n",
       "      <td>0.976</td>\n",
       "      <td>1213.002</td>\n",
       "      <td>0.838</td>\n",
       "      <td>3365.465</td>\n",
       "      <td>Todas las variables</td>\n",
       "    </tr>\n",
       "    <tr>\n",
       "      <th>1</th>\n",
       "      <td>Modelo 2</td>\n",
       "      <td>0.917</td>\n",
       "      <td>2237.426</td>\n",
       "      <td>0.914</td>\n",
       "      <td>2455.655</td>\n",
       "      <td>13 variables</td>\n",
       "    </tr>\n",
       "  </tbody>\n",
       "</table>\n",
       "</div>"
      ],
      "text/plain": [
       "     Modelo  R-cuadrado_train  RMSE_train  R-cuadrado_test  RMSE_test  \\\n",
       "0  Modelo 1             0.976    1213.002            0.838   3365.465   \n",
       "1  Modelo 2             0.917    2237.426            0.914   2455.655   \n",
       "\n",
       "           Descripcion  \n",
       "0  Todas las variables  \n",
       "1         13 variables  "
      ]
     },
     "execution_count": 483,
     "metadata": {},
     "output_type": "execute_result"
    }
   ],
   "source": [
    "df_Modelos = pd.concat([metricas_modelo1, metricas_modelo2], ignore_index=True)\n",
    "df_Modelos"
   ]
  },
  {
   "cell_type": "markdown",
   "id": "998be372",
   "metadata": {},
   "source": [
    "> Los valores de R cuadrado son altos y cercanos en el modelo 2.\n",
    "\n",
    "> Los valores de RMSE se acercan mucho entre si lo que indica que el modelo generaliza bien.\n"
   ]
  },
  {
   "cell_type": "markdown",
   "id": "9e2e9414",
   "metadata": {},
   "source": [
    "### Visualizacion del comportamiento de las predicciones con los valores reales\n",
    "\n",
    "Vamos a calcular las predicciones del modelo 2 con los datos de entrenamiento y de prueba para luego usarlos visualmente para entender el desempeno del modelo"
   ]
  },
  {
   "cell_type": "code",
   "execution_count": 484,
   "id": "2d3a0cf2",
   "metadata": {},
   "outputs": [],
   "source": [
    "# predicciones para los datos de entrenamiento\n",
    "y_train_pred_13 = lm_2.predict(X_train_13)\n",
    "# predicciones para los datos de prueba\n",
    "y_test_pred_13 = lm_2.predict(X_test_13)"
   ]
  },
  {
   "cell_type": "markdown",
   "id": "dfdd80d3",
   "metadata": {},
   "source": [
    "Mediante el siguiente grafico, comparamos las predicciones con los valores reales para ver su comportamiento."
   ]
  },
  {
   "cell_type": "code",
   "execution_count": 485,
   "id": "55d56c65",
   "metadata": {},
   "outputs": [
    {
     "data": {
      "image/png": "[encoded data removed]",
      "text/plain": [
       "<Figure size 1080x432 with 1 Axes>"
      ]
     },
     "metadata": {},
     "output_type": "display_data"
    }
   ],
   "source": [
    "# estilo del grafico\n",
    "plt.style.use('ggplot')\n",
    "# tamano del grafico\n",
    "fig, ax = plt.subplots(figsize=(15,6))\n",
    "# graficos de linea\n",
    "sns.lineplot(x=y_test.index, y=y_test, label='Reales', color='blue', ax=ax)\n",
    "sns.lineplot(x=y_test.index, y=y_test_pred_13, label='Predicciones', color='red', ax=ax)\n",
    "ax.set_title('Precio: Reales vs Predicciones')\n",
    "ax.set_ylabel('Price')\n",
    "ax.set_xlabel('Indice');"
   ]
  },
  {
   "cell_type": "markdown",
   "id": "7d0afc19",
   "metadata": {},
   "source": [
    "> Vemos que las predicciones se asemeja mucho a gran parte del comportamiento de los datos reales lo que muestra la calidad del modelo."
   ]
  },
  {
   "cell_type": "code",
   "execution_count": null,
   "id": "1ad53ad8",
   "metadata": {},
   "outputs": [],
   "source": []
  },
  {
   "cell_type": "markdown",
   "id": "e84a9c27",
   "metadata": {},
   "source": [
    "# Seccion 9: Validar los Supuestos de la regresion lineal"
   ]
  },
  {
   "cell_type": "markdown",
   "id": "48a2a2e6",
   "metadata": {},
   "source": [
    "## Linealidad\n",
    "Para detectar la linealidad, inspeccionamos el grafico de valores observados vs predichos o de los residuos frente a los valores predichos. El resultado esperado para que se cumpla la linealidad es que los puntos se distribuyan simetricamente alrededor de una lineal diagonal en el primer grafico o uniformemente alrededor de una linea horizontal en el ultimo."
   ]
  },
  {
   "cell_type": "code",
   "execution_count": 516,
   "id": "1bd31e7a",
   "metadata": {},
   "outputs": [],
   "source": [
    "# importamos las funciones para evaluar los supuestos\n",
    "%run Funciones_Supuestos.ipynb"
   ]
  },
  {
   "cell_type": "code",
   "execution_count": 509,
   "id": "964978a1",
   "metadata": {},
   "outputs": [
    {
     "data": {
      "image/png": "[encoded data removed]",
      "text/plain": [
       "<Figure size 504x288 with 1 Axes>"
      ]
     },
     "metadata": {},
     "output_type": "display_data"
    }
   ],
   "source": [
    "Linealidad(lm_2, X_train_13, y_train)"
   ]
  },
  {
   "cell_type": "markdown",
   "id": "38a3b1f6",
   "metadata": {},
   "source": [
    "> La primera grafica muestra que la mayoria de los puntos estan cerca de la diagonal, sin embargo alguno se alejan lo cual es un problema para la linealidad.\n",
    "\n",
    "> La segunda grafica no proporciona una evidencia concluyente de que los residuos esten dispersos uniformemente alrededor de la linea cero. Los valores aumentan con el aumento de los valores predichos, por tanto no se puede confirmar que se cumpla el supuesto de linealidad. La presencia de valores atipicos puede estar afectando la linealidad: puntos fuera del rango -6000 a 6000 podrian ser valores atipicos influyentes."
   ]
  },
  {
   "cell_type": "markdown",
   "id": "54a640a0",
   "metadata": {},
   "source": [
    "## Normalidad\n",
    "\n",
    "Cuando este supuesto es violado, surgen problemas al calcular los intervalos de confianza y diversas pruebas de significancia para los coeficientes. Cuando la distribucion del error se aleja significativamente de la gaussiana, los invervalos de confianza pueden ser demasiado amplios o estrechos. Algunas posibles razones de la anormalidad en los residuos son:\n",
    "\n",
    "> Presencia de outlier.\n",
    "\n",
    "> Presencia de otros problemas con los supuestos.\n",
    "\n",
    "> Otro modelo podria ser mas adecuado para el problema."
   ]
  },
  {
   "cell_type": "markdown",
   "id": "2d7c6b3e",
   "metadata": {},
   "source": [
    "Vamos a evaluar la Normalidad de los residuos a traves de un Grafico Q-Q y 4 pruebas estadisticas con la siguiente funcion:"
   ]
  },
  {
   "cell_type": "code",
   "execution_count": 517,
   "id": "6e980236",
   "metadata": {},
   "outputs": [
    {
     "name": "stdout",
     "output_type": "stream",
     "text": [
      "ShapiroResult(statistic=0.9751099348068237, pvalue=0.2389710694551468)\n"
     ]
    },
    {
     "data": {
      "image/png": "[encoded data removed]",
      "text/plain": [
       "<Figure size 432x288 with 1 Axes>"
      ]
     },
     "metadata": {},
     "output_type": "display_data"
    }
   ],
   "source": [
    "Norm_residuales(lm_2, X_test_13, y_test)"
   ]
  },
  {
   "cell_type": "markdown",
   "id": "9cfd5338",
   "metadata": {},
   "source": [
    "> La grafica muestra que los residuales se ajustan muy bien en la mayoria de la diagonal excepto en los extremos. Ademas, el p-value indica que no cumple con el supuesto de normalidad.\n",
    "\n",
    "> En las pruebas estadisticas vemos que el p-value de jb, sw y ks son menores al umbral (0.05). Ademas el p-value de ad es mayor a 0.05. Todos estos resultados indican que se rechaza la hipotesis nula de que los errores tienen una distribucion normal.\n",
    "\n",
    "El motivo de estos resultados podrian ser la presencia de valores atipicos."
   ]
  },
  {
   "cell_type": "code",
   "execution_count": null,
   "id": "3e3f4826",
   "metadata": {},
   "outputs": [],
   "source": []
  },
  {
   "cell_type": "markdown",
   "id": "9eb2b4d0",
   "metadata": {},
   "source": [
    "# Seccion 10: Identificacion de outliers y puntos de gran influencia"
   ]
  },
  {
   "cell_type": "markdown",
   "id": "b35417c7",
   "metadata": {},
   "source": [
    "Vamos a crear una funcion que nos permita detectar valores atipicos o puntos de gran influencia en los datos."
   ]
  },
  {
   "cell_type": "code",
   "execution_count": null,
   "id": "3589290d",
   "metadata": {},
   "outputs": [],
   "source": [
    "def prueba_influencia_outlier(modelo, cantidad_obs_buscadas):\n",
    "    '''\n",
    "    Funcion que detecta un numero de observaciones de gran influencia para el modelo\n",
    "    parametros: el modelo entrenado (*modelo*) y la cantidad de observaciones buscadas (*cantidad_obs_buscadas*)\n",
    "    '''\n",
    "    \n",
    "    # obtener influencia de cada obs\n",
    "    influencia = modelo.get_influence()\n",
    "    # calcular valores de apalancamiento de cada obs\n",
    "    leverage = influencia.hat_matrix_diag\n",
    "    # calcular la distancia de cook de cada obs\n",
    "    cooks_d = influencia.cooks_distance\n",
    "    # calcular residuos estandarizados internos: residuales/std de residuales\n",
    "    standarized_residuals = influencia.resid_studentized_internal\n",
    "    # calcular residuos studentizados externos\n",
    "    studentized_residuals = influencia.resid_studentized_external\n",
    "    \n",
    "    # Grafico de residuos estandarizados vs apalancamienta\n",
    "    plot_lm = plt.figure(figsize=(15,5))\n",
    "    plt.scatter(leverage, standarized_residuals, alpha=0.5)\n",
    "    sns.regplot(leverage, standarized_residuals, scatter=False, ci=False, lowess=True,\n",
    "               line_kws={'color': 'red', 'lw': 1, 'alpha': 0.8})\n",
    "    plot_lm.axes[0].set_xlim(0, max(leverage) + 0.01)\n",
    "    plot_lm.axes[0].set_ylim(-10, 6)\n",
    "    plot_lm.axes[0].set_title('Residuales Estandarizados vs Apalancamiento', fontsize=16)\n",
    "    plot_lm.axes[0].set_xlabel('Apalancamiento', fontsize=13)\n",
    "    plot_lm.axes[0].set_ylabel('Residuales Estandarizados', fontsize=13)\n",
    "    \n",
    "    # identificar las obs mas influyentes\n",
    "    # ordena las obs por su distancia de cook en orden descendente\n",
    "    leverage_obs = np.flip(np.argsort(cooks_d)[0], 0)[:cantidad_obs_buscadas]\n",
    "    # etiqueta las obs mas influyentes\n",
    "    for i in leverage_obs:\n",
    "        plot_lm.axes[0].annotate(i, xy=(leverage[i], studentized_residuals[i]))\n",
    "        \n",
    "    # funcion que traza los contornos de la distancia de cook\n",
    "    def graph(formula, x_range, label=None):\n",
    "        x = x_range\n",
    "        y = formula(x)\n",
    "        plt.plot(x, y, label=label, lw=1, ls='--', color='red')\n",
    "        \n",
    "    # numero de parametros del modelo\n",
    "    p = len(lm_sm.params)\n",
    "    \n",
    "    # trazar la linea de contorno de cook\n",
    "    graph(lambda x: np.sqrt((0.5*p*(1-x))/x), np.linspace(0.001, max(leverage), 50), 'Distancia de Cook')\n",
    "    plt.legend(loc='upper right')"
   ]
  },
  {
   "cell_type": "markdown",
   "id": "3cc934fa",
   "metadata": {},
   "source": [
    "Veamos las 10 observaciones mas influyentes"
   ]
  },
  {
   "cell_type": "code",
   "execution_count": null,
   "id": "9259e52c",
   "metadata": {
    "scrolled": true
   },
   "outputs": [],
   "source": [
    "prueba_influencia_outlier(lm_sm, cantidad_obs_buscadas=10)"
   ]
  },
  {
   "cell_type": "markdown",
   "id": "6e16b6e7",
   "metadata": {},
   "source": [
    "> Encontramos que las observaciones 16 y 91 estan por encima de la linea de distancia de cook, por lo que deben eliminarse. El punto 24, a pesar de estar por debajo de la linea de distancia de cook, tiene un alto residuo por lo que lo eliminamos tambien."
   ]
  },
  {
   "cell_type": "markdown",
   "id": "af5d324b",
   "metadata": {},
   "source": [
    "Ahora, removemos los outliers antes detectados"
   ]
  },
  {
   "cell_type": "code",
   "execution_count": null,
   "id": "b7f7a79e",
   "metadata": {},
   "outputs": [],
   "source": [
    "X_train_no_out = X_train.drop(index=[16,24,91])\n",
    "y_train_no_out = y_train.drop(index=[16,24,91])\n",
    "\n",
    "X_train_no_out.head()"
   ]
  },
  {
   "cell_type": "code",
   "execution_count": null,
   "id": "d0b00fae",
   "metadata": {},
   "outputs": [],
   "source": []
  },
  {
   "cell_type": "markdown",
   "id": "ab3b7d8b",
   "metadata": {},
   "source": [
    "# Seccion 11: Construir un modelo con los nuevos datos seleccionando las variables con RFE."
   ]
  },
  {
   "cell_type": "markdown",
   "id": "d430de35",
   "metadata": {},
   "source": [
    "Vamos a determinar el numero optimo de variables con RFE, realizado anteriormente pero esta vez utilizando el nuevo conjunto de datos *X_train_no_out, y_train_no_out*"
   ]
  },
  {
   "cell_type": "code",
   "execution_count": null,
   "id": "34419f2f",
   "metadata": {},
   "outputs": [],
   "source": [
    "# libreria para seleccion de variables\n",
    "from sklearn.feature_selection import RFE\n",
    "import statsmodels.api as sm\n",
    "\n",
    "# lista de variables optimas: entre 4 y 30\n",
    "n_features_list = list(range(4,31))\n",
    "# lista para almacenar el R cuadrado ajustado de cada cantidad de variable\n",
    "train_adjusted_r2 = []\n",
    "# lista para almacenar el r cuadrado de los datos de entrenamiento\n",
    "train_r2 = []\n",
    "# lista para almacenar el r cuadrado de los datos de prueba\n",
    "test_r2 = []\n",
    "# lista para almacenar el RMSE de los datos de entrenamiento\n",
    "train_RMSE = []\n",
    "# lista para almacenar el RMSE de los datos de prueba\n",
    "test_RMSE = []\n",
    "\n",
    "# Vamos entrenando el modelo iniciando en 4 variables hasta llegar a 30\n",
    "# y guardamos cada metrica resultante\n",
    "for n_features in range(4, 31):\n",
    "    \n",
    "    # RFE con n variables\n",
    "    lm = LinearRegression()\n",
    "    \n",
    "    # Especificar el numero de variables\n",
    "    rfe_n = RFE(estimator=lm, n_features_to_select=n_features)\n",
    "    \n",
    "    # ajustar el modelo RFE con n variables\n",
    "    rfe_n.fit(X_train_no_out, y_train_no_out)\n",
    "    \n",
    "    # seleccionando variables seleccionadas por rfe_n\n",
    "    col_n = X_train_no_out.columns[rfe_n.support_]\n",
    "    # support_: retorna una matriz de booleanos para indicar si se selecciono un atributo con RFE\n",
    "    \n",
    "    # seleccionamos los datos de entrenamiento y de prueba para las n variables seleccionadas\n",
    "    X_train_rfe_n = X_train_no_out[col_n]\n",
    "    X_test_rfe_n = X_test[col_n]\n",
    "    \n",
    "    # agrega una constante al modelo que representa el intercepto\n",
    "    X_train_rfe_n = sm.add_constant(X_train_rfe_n, has_constant='add')\n",
    "    X_test_rfe_n = sm.add_constant(X_test_rfe_n, has_constant='add')\n",
    "    \n",
    "    # ajustar el modelo de regresion lineal con n variables\n",
    "    lm_n = sm.OLS(y_train_no_out, X_train_rfe_n).fit()\n",
    "    \n",
    "    # creamos las predicciones para los datos de entrenamiento y de prueba\n",
    "    y_pred_test = lm_n.predict(X_test_rfe_n)\n",
    "    y_pred_train = lm_n.predict(X_train_rfe_n)\n",
    "    \n",
    "    # ---- Calculo de las metricas\n",
    "    \n",
    "    # R cuadrado\n",
    "    train_adjusted_r2.append(lm_n.rsquared_adj)\n",
    "    train_r2.append(lm_n.rsquared)\n",
    "    test_r2.append(r2_score(y_test, y_pred_test))\n",
    "    \n",
    "    # RMSE\n",
    "    error_test = y_pred_test - y_test\n",
    "    error_train = y_pred_train - y_train_no_out\n",
    "    \n",
    "    test_RMSE.append(((error_test**2).mean())**0.5)\n",
    "    train_RMSE.append(((error_train**2).mean())**0.5)"
   ]
  },
  {
   "cell_type": "markdown",
   "id": "e575ff4c",
   "metadata": {},
   "source": [
    "Una vez que hemos evaluado el modelo desde 4 variables hasta 30 y obtenido de cada uno sus metricas, vamos a graficar R cuadrado y RMSE en funcion de la cantidad de variables para determinar el numero optimo de variables para el modelo de regresion."
   ]
  },
  {
   "cell_type": "code",
   "execution_count": null,
   "id": "47a11ca2",
   "metadata": {
    "scrolled": false
   },
   "outputs": [],
   "source": [
    "# librerias para personalizar las etiquetas\n",
    "import matplotlib.ticker as plticker\n",
    "\n",
    "# grilla\n",
    "fig, ax = plt.subplots(2, 1, figsize=(13, 9))\n",
    "plt.subplots_adjust(hspace = 0.3)\n",
    "\n",
    "# grafico de R cuadrado\n",
    "ax[0].plot(n_features_list, train_r2, 'b', label='R cuadrado para datos de entrenamiento')\n",
    "ax[0].plot(n_features_list, test_r2, 'g', label='R cuadrado para datos de prueba')\n",
    "ax[0].set_xlabel('Cantidad de variables')\n",
    "ax[0].legend(loc='upper left')\n",
    "loc = plticker.MultipleLocator(base=1)\n",
    "ax[0].xaxis.set_major_locator(loc)\n",
    "ax[0].grid(True)\n",
    "# grafico de RMSE\n",
    "ax[1].plot(n_features_list, train_RMSE, 'b',label=\"RMSE para datos de entrenamiento\")\n",
    "ax[1].plot(n_features_list, test_RMSE, 'g',label=\"RMSE para datos de prueba\")\n",
    "ax[1].set_xlabel('Cantidad de variables')\n",
    "ax[1].legend(loc='upper left')\n",
    "plt.xticks(np.arange(0, 31, step=1))\n",
    "ax[1].grid(True);\n"
   ]
  },
  {
   "cell_type": "markdown",
   "id": "fdf84f98",
   "metadata": {},
   "source": [
    "> La diferencia entre R cuadrado y RMSE tanto de prueba como de entrenamiento es muy alta lo que indica un alto sobreajuste que hace que el modelo no generalice bien y por tanto genere malas predicciones. No se puede seleccionar una cantidad optima de variables.\n",
    "\n",
    "Para remediar el sobreajuste entre los datos de entrenamiento y de prueba, vamos a realizar una validacion cruzada de K-Fold para intentar determinar el numero optimo de caracteristicas a utilizar por el modelo."
   ]
  },
  {
   "cell_type": "code",
   "execution_count": null,
   "id": "2e7eb3fa",
   "metadata": {},
   "outputs": [],
   "source": []
  },
  {
   "cell_type": "markdown",
   "id": "6f2f741d",
   "metadata": {},
   "source": [
    "# Seccion 12: Pre-procesamiento de los datos antes de la validacion cruzada."
   ]
  },
  {
   "cell_type": "markdown",
   "id": "b973b8c0",
   "metadata": {},
   "source": [
    "Removemos los outliers del datframe tanto de X como de y"
   ]
  },
  {
   "cell_type": "code",
   "execution_count": null,
   "id": "8aa7087c",
   "metadata": {},
   "outputs": [],
   "source": [
    "X_new_cv = dfX_scaled.drop(index=[16,24,91])\n",
    "y_new_cv = y.drop(index=[16,24,91])"
   ]
  },
  {
   "cell_type": "markdown",
   "id": "dc49061d",
   "metadata": {},
   "source": [
    "Restablecemos el indice para que este en el orden correcto al usar K-Fold."
   ]
  },
  {
   "cell_type": "code",
   "execution_count": null,
   "id": "e0617629",
   "metadata": {},
   "outputs": [],
   "source": [
    "X_new_cv.reset_index(inplace=True, drop=True)\n",
    "X_new_cv.head()"
   ]
  },
  {
   "cell_type": "code",
   "execution_count": null,
   "id": "8f7cba93",
   "metadata": {},
   "outputs": [],
   "source": [
    "y_new_cv.reset_index(drop=True, inplace=True)\n",
    "y_new_cv.head()"
   ]
  },
  {
   "cell_type": "markdown",
   "id": "b5f3964b",
   "metadata": {},
   "source": [
    "Verificamos las dimensiones de los datos"
   ]
  },
  {
   "cell_type": "code",
   "execution_count": null,
   "id": "8600446d",
   "metadata": {},
   "outputs": [],
   "source": [
    "print(X_new_cv.shape, y_new_cv.shape)"
   ]
  },
  {
   "cell_type": "code",
   "execution_count": null,
   "id": "1c605ab2",
   "metadata": {},
   "outputs": [],
   "source": []
  },
  {
   "cell_type": "markdown",
   "id": "50488fd5",
   "metadata": {},
   "source": [
    "# Seccion 13: Aplicando validacion cruzada K-Fold"
   ]
  },
  {
   "cell_type": "markdown",
   "id": "bbd61818",
   "metadata": {},
   "source": [
    "Vamos a evaluar como varia el rendimiento de un modelo de regresion lineal al seleccionar diferentes cantidades de caracteristicas utilizando RFE y validacion cruzada. Las metricas de rendimiento (R cuadrado y RMSE) se calculan para cada numero de caracteristicas"
   ]
  },
  {
   "cell_type": "code",
   "execution_count": null,
   "id": "fcedddb4",
   "metadata": {},
   "outputs": [],
   "source": [
    "# libreria para utlizar la validacion cruzada\n",
    "from sklearn.model_selection import KFold\n",
    "\n",
    "# definir parametros de la validacion cruzada\n",
    "K=5 # numero de pliegues\n",
    "\n",
    "# configurando validacion cruzada\n",
    "# shuffle para barajar los datos\n",
    "# semilla para reproducibilidad\n",
    "kf = KFold(n_splits=K, shuffle=True, random_state=42) \n",
    "\n",
    "# iterar sobre un rango de 5 a 30 caracteristicas\n",
    "for n_features in range(5, 31):\n",
    "    # inicializar las listas que almacenan las metricas\n",
    "    train_RMSE = []\n",
    "    test_RMSE = []\n",
    "    train_r2 = []\n",
    "    test_r2 = []\n",
    "    \n",
    "    # realizar la validacion cruzada dividiedno los datos en conjuntos de entrenamiento y prueba de cada pliegue\n",
    "    for train, test in kf.split(X_new_cv):\n",
    "        # creacion del modelo\n",
    "        lm = LinearRegression()\n",
    "        # objeto RFE\n",
    "        rfe_n = RFE(estimator=lm, n_features_to_select=n_features)\n",
    "        # entrenar el modelo con RFE\n",
    "        rfe_n.fit(X_new_cv.loc[train], y_new_cv[train])\n",
    "        \n",
    "        # calcular predicciones\n",
    "        y_pred_train = rfe_n.predict(X_new_cv.loc[train])\n",
    "        y_pred_test = rfe_n.predict(X_new_cv.loc[test])\n",
    "        \n",
    "        # Calcular metricas\n",
    "        # R cuadrado\n",
    "        train_r2.append(r2_score(y_pred_train, y_new_cv[train]))\n",
    "        test_r2.append(r2_score(y_pred_test, y_new_cv[test]))\n",
    "        \n",
    "        # RMSE\n",
    "        error_train = y_pred_train - y_new_cv[train]\n",
    "        error_test = y_pred_test - y_new_cv[test]\n",
    "        rmse_train = ((error_train**2).mean())**0.5\n",
    "        rmse_test = ((error_test**2)).mean()**0.5\n",
    "        \n",
    "        # guadrar metricas\n",
    "        train_RMSE.append(rmse_train)\n",
    "        test_RMSE.append(rmse_test)\n",
    "\n",
    "    # calcular el cociente de RMSE entre el conjunto de prueba y de entrenamiento\n",
    "    test_times_train = np.mean(test_RMSE) / np.mean(train_RMSE)\n",
    "    \n",
    "    # generar reporte\n",
    "    print('n_features:{:1} |train_R2:{:2} |test_R2:{:3} |mean(rmse_train):{:4} |mean(rmse_test):{:5} |RMSE(test/train):{}'.\n",
    "      format(n_features, round(np.mean(train_r2), 4), round(np.mean(test_r2), 4),\n",
    "             round(np.mean(train_RMSE), 0),\n",
    "             round(np.mean(test_RMSE), 0), round(test_times_train, 2)))"
   ]
  },
  {
   "cell_type": "markdown",
   "id": "50d9e535",
   "metadata": {},
   "source": [
    "> El modelo se sobreajusta a media que aumentamos el numero de caracteristicas (se refleja en la diferencia entre R cuadrado y RMSE en los datos de prueba y de entrenamiento)\n",
    "\n",
    "> En el modelo con 5 caracteristicas, el rmse_test es un 25% mas que rmse_train, lo que significa que las predicciones sobre los datos de prueba son un 25% mas inexactas. En el modelo con 6 caracteristicas el rmse_test es un 33% mas que rmse_train.\n",
    "\n",
    "> Para modelos entrenados con mas de 6 caracteristicas, esta diferencia es de mas de 35% lo que supone un sobreajuste masivo.\n",
    "\n",
    "Para determinar el numero de caracteristicas optimas, que puede estar entre 5 y 6, analizamos la multicolinealidad en ambos casos."
   ]
  },
  {
   "cell_type": "code",
   "execution_count": null,
   "id": "4b22a62e",
   "metadata": {},
   "outputs": [],
   "source": []
  },
  {
   "cell_type": "markdown",
   "id": "d79619ae",
   "metadata": {},
   "source": [
    "# Posible explicacion del Sobreajuste"
   ]
  },
  {
   "cell_type": "markdown",
   "id": "b118f09b",
   "metadata": {},
   "source": [
    "Debido a que solo hay 200 observaciones y un total de 68 caracteristicas, no podemos esperar un modelo muy exacto. Segun Jim Frost por cada caracteristicas debe haber al menos entre 10 y 15 observaciones en un modelo lineal. Esto indica que, como minimo, deben haber 680 observaciones en este caso, las cuales no existen lo que lleva a que cada caracteristica no este adecuadamente representada y esto refleja el alto sobreajuste."
   ]
  },
  {
   "cell_type": "code",
   "execution_count": null,
   "id": "256f7b6e",
   "metadata": {},
   "outputs": [],
   "source": []
  },
  {
   "cell_type": "markdown",
   "id": "53a5aa69",
   "metadata": {},
   "source": [
    "# Seccion14: Analisis de Multicolinealidad"
   ]
  },
  {
   "cell_type": "markdown",
   "id": "ed1e96f2",
   "metadata": {},
   "source": [
    "Creamos un modelo de regresion lineal de 6 variables con los datos tratados"
   ]
  },
  {
   "cell_type": "code",
   "execution_count": null,
   "id": "d06287e7",
   "metadata": {},
   "outputs": [],
   "source": [
    "# objeto del modelo\n",
    "lm = LinearRegression()\n",
    "# objeto RFE de 6 variables\n",
    "rfe = RFE(estimator=lm, n_features_to_select=6)\n",
    "# ajustar el modelo RFE con los datos tratados\n",
    "rfe.fit(X_new_cv, y_new_cv)\n",
    "# nombre de las 6 variables seleccionadas\n",
    "col = X_new_cv.columns[rfe.support_]\n",
    "# agrupamos las 6 variables selecciondas\n",
    "X_final = X_new_cv[col]\n",
    "# agregamos la constantes del temrino intercepto\n",
    "X_final = sm.add_constant(X_final, has_constant='add')\n",
    "# entrenamos el modelo con OLS y lo ajustamos\n",
    "lm_sm = sm.OLS(y_new_cv, X_final).fit()\n",
    "\n",
    "lm_sm.summary()"
   ]
  },
  {
   "cell_type": "markdown",
   "id": "71ab7fac",
   "metadata": {},
   "source": [
    "> Observamos que todos las variables son significativas para el modelo."
   ]
  },
  {
   "cell_type": "markdown",
   "id": "8a2788fd",
   "metadata": {},
   "source": [
    "## Multicolinealidad de las variables seleccionadas"
   ]
  },
  {
   "cell_type": "markdown",
   "id": "a046c419",
   "metadata": {},
   "source": [
    "Definimos una variable que calcule la varianza de los factores inflacionarios (VIF) de cada variable seleccionada."
   ]
  },
  {
   "cell_type": "code",
   "execution_count": null,
   "id": "38d69b03",
   "metadata": {},
   "outputs": [],
   "source": [
    "from statsmodels.tools.tools import add_constant\n",
    "from statsmodels.regression.linear_model import OLS\n",
    "\n",
    "def vif(X_df):\n",
    "    '''\n",
    "    parametro X_df: son las caracteristicas a las cuales se les calcula VIF\n",
    "    '''\n",
    "    # agregamos la constante del intercepto\n",
    "    X_df = add_constant(X_df)\n",
    "    # calculo de VIF para cada variable\n",
    "    vifs = pd.Series(\n",
    "        [1/(1 - OLS(X_df[col].values,\n",
    "        X_df.loc[:, X_df.columns != col].values).fit().rsquared) for col in X_df],\n",
    "        index=X_df.columns,\n",
    "        name='VIF'\n",
    "    )\n",
    "    \n",
    "    return vifs"
   ]
  },
  {
   "cell_type": "code",
   "execution_count": null,
   "id": "af31be9c",
   "metadata": {},
   "outputs": [],
   "source": [
    "# obtener el VIF de las 6 variables seleccionadas\n",
    "vif(X_final)"
   ]
  },
  {
   "cell_type": "markdown",
   "id": "26e4666d",
   "metadata": {},
   "source": [
    "> Curbweight esta altamente correlacionado con Carwidth con un coeficiente de correlacion de 0.87. Ademas su alto valor de VIF (7.6971) nos indica que podemos eliminarla"
   ]
  },
  {
   "cell_type": "code",
   "execution_count": null,
   "id": "177d7fe2",
   "metadata": {},
   "outputs": [],
   "source": [
    "X_final = X_final.loc[:, X_final.columns != 'curbweight']\n",
    "X_final.head()"
   ]
  },
  {
   "cell_type": "code",
   "execution_count": null,
   "id": "bde7f789",
   "metadata": {},
   "outputs": [],
   "source": []
  },
  {
   "cell_type": "markdown",
   "id": "9fdddf73",
   "metadata": {},
   "source": [
    "# Seccion 15: Ajuste del modelo nuevamente"
   ]
  },
  {
   "cell_type": "code",
   "execution_count": null,
   "id": "0f46d829",
   "metadata": {},
   "outputs": [],
   "source": [
    "# ajuste del modelo con 5 caracteristicas\n",
    "lm_sm = sm.OLS(y_new_cv, X_final).fit()\n",
    "# generar predicciones del nuevo modelo\n",
    "y_prediccion = lm_sm.predict(X_final)\n",
    "# calculo de RMSE\n",
    "error = y_prediccion - y_new_cv\n",
    "\n",
    "print('RMSE is: {}'.format(((error**2).mean())**0.5))\n",
    "lm_sm.summary()\n"
   ]
  },
  {
   "cell_type": "markdown",
   "id": "979b7b3a",
   "metadata": {},
   "source": [
    "> Este modelo tiene una mejoria en comparacion con los anteriores\n",
    "\n",
    "Vamos a comparar las predicciones con los valores reales para ver su comportamiento."
   ]
  },
  {
   "cell_type": "code",
   "execution_count": null,
   "id": "36160417",
   "metadata": {},
   "outputs": [],
   "source": [
    "fig, ax = plt.subplots(figsize=(15,6))\n",
    "sns.lineplot(x=y_new_cv.index, y=y_new_cv, label='Reales', color='blue', ax=ax)\n",
    "sns.lineplot(x=y_new_cv.index, y=y_prediccion, label='Predicciones', color='red', ax=ax)\n",
    "ax.set_title('Precio: Reales vs Predicciones', fontsize=16)\n",
    "ax.set_ylabel('Precio', fontsize=13);"
   ]
  },
  {
   "cell_type": "markdown",
   "id": "2f2b4e30",
   "metadata": {},
   "source": [
    "> El grafico muestra que las predicciones omiten los valores reales en ciertas zonas y es el precio a pagar para que el modelo generalice bien y funcione correctamente con datos nuevos (compensacion de sesgo-varianza)"
   ]
  },
  {
   "cell_type": "code",
   "execution_count": null,
   "id": "ea3100e2",
   "metadata": {},
   "outputs": [],
   "source": []
  },
  {
   "cell_type": "markdown",
   "id": "d1c1598b",
   "metadata": {},
   "source": [
    "# Seccion 16: Evaluacion de supuestos para el nuevo modelo"
   ]
  },
  {
   "cell_type": "markdown",
   "id": "ca2aaaf6",
   "metadata": {},
   "source": [
    "## Linealidad"
   ]
  },
  {
   "cell_type": "code",
   "execution_count": null,
   "id": "bf245e35",
   "metadata": {},
   "outputs": [],
   "source": [
    "linealidad(lm_sm, y_new_cv)"
   ]
  },
  {
   "cell_type": "markdown",
   "id": "4ca077d8",
   "metadata": {},
   "source": [
    "> El comportamiento lineal es mucho mejor en este modelo.\n",
    "\n",
    "> Los residuos se ven un poco dispersos uniformemente frente a los valores previstos"
   ]
  },
  {
   "cell_type": "markdown",
   "id": "0c2e512a",
   "metadata": {},
   "source": [
    "## Normalidad"
   ]
  },
  {
   "cell_type": "code",
   "execution_count": null,
   "id": "30a33253",
   "metadata": {
    "scrolled": true
   },
   "outputs": [],
   "source": [
    "normalidad(lm_sm)"
   ]
  },
  {
   "cell_type": "code",
   "execution_count": null,
   "id": "3a61708d",
   "metadata": {},
   "outputs": [],
   "source": []
  },
  {
   "cell_type": "markdown",
   "id": "f60f63ba",
   "metadata": {},
   "source": [
    "## Prueba de puntos de influencia"
   ]
  },
  {
   "cell_type": "code",
   "execution_count": null,
   "id": "4cf48409",
   "metadata": {},
   "outputs": [],
   "source": [
    "prueba_influencia_outlier(lm_sm, cantidad_obs_buscadas=10)"
   ]
  }
 ],
 "metadata": {
  "kernelspec": {
   "display_name": "Python 3 (ipykernel)",
   "language": "python",
   "name": "python3"
  },
  "language_info": {
   "codemirror_mode": {
    "name": "ipython",
    "version": 3
   },
   "file_extension": ".py",
   "mimetype": "text/x-python",
   "name": "python",
   "nbconvert_exporter": "python",
   "pygments_lexer": "ipython3",
   "version": "3.9.12"
  }
 },
 "nbformat": 4,
 "nbformat_minor": 5
}
