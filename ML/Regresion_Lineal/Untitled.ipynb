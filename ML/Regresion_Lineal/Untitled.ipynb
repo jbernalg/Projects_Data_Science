{
 "cells": [
  {
   "cell_type": "markdown",
   "id": "81cc884d",
   "metadata": {},
   "source": [
    "# Clasificador de funciones con eliminacion recursiva (RFE)"
   ]
  },
  {
   "cell_type": "markdown",
   "id": "c3f4158e",
   "metadata": {},
   "source": [
    "Es una tecnica utilizada para seleccionar las caracteristicas mas importantes de un conjunto de datos. Su objetivo es eliminar las caracteristicas menos relevantes, mejorando asi el rendimiento del modelo y reduciendo su complejidad.\n",
    "\n",
    "Generalmente, RFE se aplica a modelos que pueden proporcionar alguna medida de la importancia de las caracteristicas como los modelos lineales o arboles de decision. Entre los modelos donde se puede aplicar tenemos:\n",
    "\n",
    "- Regresion Lineal\n",
    "- Regresion Logistica\n",
    "- Arboles de decision\n",
    "- Bosques aleatorios\n",
    "- Maquina de vectores de soporte\n",
    "- Entre otros..."
   ]
  },
  {
   "cell_type": "markdown",
   "id": "893ed5d8",
   "metadata": {},
   "source": [
    "# Como funciona RFE?"
   ]
  },
  {
   "cell_type": "markdown",
   "id": "f4783d7c",
   "metadata": {},
   "source": [
    "   1. **Entrenamiento inicial**: Entrena un modelo utilizando todas las caracteristicas (Variables predictoras)\n",
    "    \n",
    "    \n",
    "   2. **Evaluacion de Importancia**: Evalua la importancia de cada caracteristica. Esta importancia se puede medir de diferentes maneras dependiendo del modelo utilizado (coeficientes de la regresion lineal)\n",
    "   \n",
    "    \n",
    "   3. **Eliminacion de Caracteristicas**: Elimina las caracteristicas menos importantes para el modelo\n",
    "   \n",
    "   \n",
    "   4. **Repeticion de pasos**: Repite los pasos de 1 a 3 hasta alcanzar un numero predefinido de caracteristicas."
   ]
  },
  {
   "cell_type": "code",
   "execution_count": null,
   "id": "7f39446e",
   "metadata": {},
   "outputs": [],
   "source": []
  },
  {
   "cell_type": "markdown",
   "id": "270f7119",
   "metadata": {},
   "source": [
    "# Aplicacion de RFE sobre un modelo de Regresion Lineal"
   ]
  },
  {
   "cell_type": "markdown",
   "id": "2c757c38",
   "metadata": {},
   "source": [
    "Supongamos que tenemos un conjunto de 5 caracteristicas y vamos a usar RFE para seleccionar las 3 caracteristicas mas importantes. Generamos el conjunto de datos de prueba"
   ]
  },
  {
   "cell_type": "code",
   "execution_count": 1,
   "id": "ea69da1e",
   "metadata": {},
   "outputs": [],
   "source": [
    "# Generamos datos de prueba\n",
    "import numpy as np\n",
    "import pandas as pd\n",
    "\n",
    "# semilla\n",
    "np.random.seed(0)\n",
    "\n",
    "# 5 caracteristicas\n",
    "X = pd.DataFrame({\n",
    "    'feature_1': np.random.rand(100),\n",
    "    'feature_2': np.random.rand(100),\n",
    "    'feature_3': np.random.rand(100),\n",
    "    'feature_4': np.random.rand(100),\n",
    "    'feature_5': np.random.rand(100)\n",
    "})\n",
    "\n",
    "# variable objetivo\n",
    "# la asociamos linealmente con 3 de las 5 caracteristicas\n",
    "y = 3*X['feature_2'] + 2*X['feature_5'] + X['feature_1'] + np.random.rand(100)"
   ]
  },
  {
   "cell_type": "code",
   "execution_count": 3,
   "id": "da242a47",
   "metadata": {},
   "outputs": [
    {
     "data": {
      "text/html": [
       "<div>\n",
       "<style scoped>\n",
       "    .dataframe tbody tr th:only-of-type {\n",
       "        vertical-align: middle;\n",
       "    }\n",
       "\n",
       "    .dataframe tbody tr th {\n",
       "        vertical-align: top;\n",
       "    }\n",
       "\n",
       "    .dataframe thead th {\n",
       "        text-align: right;\n",
       "    }\n",
       "</style>\n",
       "<table border=\"1\" class=\"dataframe\">\n",
       "  <thead>\n",
       "    <tr style=\"text-align: right;\">\n",
       "      <th></th>\n",
       "      <th>feature_1</th>\n",
       "      <th>feature_2</th>\n",
       "      <th>feature_3</th>\n",
       "      <th>feature_4</th>\n",
       "      <th>feature_5</th>\n",
       "      <th>target</th>\n",
       "    </tr>\n",
       "  </thead>\n",
       "  <tbody>\n",
       "    <tr>\n",
       "      <th>0</th>\n",
       "      <td>0.548814</td>\n",
       "      <td>0.677817</td>\n",
       "      <td>0.311796</td>\n",
       "      <td>0.906555</td>\n",
       "      <td>0.401260</td>\n",
       "      <td>3.695163</td>\n",
       "    </tr>\n",
       "    <tr>\n",
       "      <th>1</th>\n",
       "      <td>0.715189</td>\n",
       "      <td>0.270008</td>\n",
       "      <td>0.696343</td>\n",
       "      <td>0.774047</td>\n",
       "      <td>0.929291</td>\n",
       "      <td>3.756831</td>\n",
       "    </tr>\n",
       "    <tr>\n",
       "      <th>2</th>\n",
       "      <td>0.602763</td>\n",
       "      <td>0.735194</td>\n",
       "      <td>0.377752</td>\n",
       "      <td>0.333145</td>\n",
       "      <td>0.099615</td>\n",
       "      <td>3.532546</td>\n",
       "    </tr>\n",
       "    <tr>\n",
       "      <th>3</th>\n",
       "      <td>0.544883</td>\n",
       "      <td>0.962189</td>\n",
       "      <td>0.179604</td>\n",
       "      <td>0.081101</td>\n",
       "      <td>0.945302</td>\n",
       "      <td>6.072647</td>\n",
       "    </tr>\n",
       "    <tr>\n",
       "      <th>4</th>\n",
       "      <td>0.423655</td>\n",
       "      <td>0.248753</td>\n",
       "      <td>0.024679</td>\n",
       "      <td>0.407241</td>\n",
       "      <td>0.869489</td>\n",
       "      <td>3.242399</td>\n",
       "    </tr>\n",
       "  </tbody>\n",
       "</table>\n",
       "</div>"
      ],
      "text/plain": [
       "   feature_1  feature_2  feature_3  feature_4  feature_5    target\n",
       "0   0.548814   0.677817   0.311796   0.906555   0.401260  3.695163\n",
       "1   0.715189   0.270008   0.696343   0.774047   0.929291  3.756831\n",
       "2   0.602763   0.735194   0.377752   0.333145   0.099615  3.532546\n",
       "3   0.544883   0.962189   0.179604   0.081101   0.945302  6.072647\n",
       "4   0.423655   0.248753   0.024679   0.407241   0.869489  3.242399"
      ]
     },
     "execution_count": 3,
     "metadata": {},
     "output_type": "execute_result"
    }
   ],
   "source": [
    "# juntamos los datos en un dataframe para mejorar la visualizacion de los datos\n",
    "df = pd.DataFrame(X, columns=[f'feature_{i+1}' for i in range(X.shape[1])])\n",
    "df['target'] = y\n",
    "df.head()"
   ]
  },
  {
   "cell_type": "markdown",
   "id": "9a8c669b",
   "metadata": {},
   "source": [
    "### 1.- Entrenamiento inicial\n",
    "Entrenamos el modelo de regresion lineal con todas las caracteristicas y calculamos la importancia de cada una."
   ]
  },
  {
   "cell_type": "code",
   "execution_count": 7,
   "id": "d504d64d",
   "metadata": {},
   "outputs": [],
   "source": [
    "# libreria para usar la regresion lineal\n",
    "from sklearn.linear_model import LinearRegression\n",
    "\n",
    "# funcion para entrena el modelo\n",
    "def train_model(X, y):\n",
    "    model = LinearRegression()\n",
    "    return model.fit(X,y)"
   ]
  },
  {
   "cell_type": "code",
   "execution_count": 8,
   "id": "c924f2e1",
   "metadata": {},
   "outputs": [],
   "source": [
    "# entrenamos el modelo\n",
    "modelo = train_model(X, y)"
   ]
  },
  {
   "cell_type": "markdown",
   "id": "6a9b0169",
   "metadata": {},
   "source": [
    "### 2.- Evaluacion de importancia\n",
    "Para el caso de la regresion, debemos obtener los coeficientes de cada caracteristicas una vez entrenado el modelo."
   ]
  },
  {
   "cell_type": "code",
   "execution_count": 9,
   "id": "6fc49e04",
   "metadata": {},
   "outputs": [],
   "source": [
    "# funcion para obtener los coeficientes de cada caracteristica\n",
    "def evaluate_model(model):\n",
    "    coeficientes = model.coef_\n",
    "    return coeficientes"
   ]
  },
  {
   "cell_type": "code",
   "execution_count": 10,
   "id": "3cdb2c17",
   "metadata": {},
   "outputs": [
    {
     "data": {
      "text/plain": [
       "array([1.0169788 , 2.96313024, 0.01281724, 0.04742558, 1.94336239])"
      ]
     },
     "execution_count": 10,
     "metadata": {},
     "output_type": "execute_result"
    }
   ],
   "source": [
    "# coeficiente de las caracteristicas\n",
    "coefi = evaluate_model(modelo)\n",
    "coefi"
   ]
  },
  {
   "cell_type": "markdown",
   "id": "7ae781be",
   "metadata": {},
   "source": [
    "### 3.- Eliminacion de caracteristicas\n",
    "Identificamos la caracteristica con el coeficiente mas pequeño (el valor absoluto) y la eliminamos"
   ]
  },
  {
   "cell_type": "code",
   "execution_count": 11,
   "id": "6e0ede27",
   "metadata": {},
   "outputs": [],
   "source": [
    "# funcion que determina la caracteristica con menor valor de coeficiente y la elimina\n",
    "def remove_feature(X, coeficientes):\n",
    "    # indice del coficiente mas pequeño\n",
    "    min_indice = np.argmin(np.abs(coeficientes))\n",
    "    # nombre de la caracteristica correspondiente al indice anterior\n",
    "    feature_remove = X.columns[min_indice]\n",
    "    # eliminar caracteristica\n",
    "    X = X.drop(columns=[feature_remove])\n",
    "    # retornar matriz de caracteristica y nombre de la caracteristica eliminada\n",
    "    return X, feature_remove\n",
    "    "
   ]
  },
  {
   "cell_type": "code",
   "execution_count": 12,
   "id": "84711072",
   "metadata": {},
   "outputs": [
    {
     "name": "stdout",
     "output_type": "stream",
     "text": [
      "feature_3\n",
      "Index(['feature_1', 'feature_2', 'feature_4', 'feature_5'], dtype='object')\n"
     ]
    }
   ],
   "source": [
    "# eliminamos la caracteristica menos importante\n",
    "X, feature_remove = remove_feature(X, coefi)\n",
    "print(feature_remove)\n",
    "print(X.columns)"
   ]
  },
  {
   "cell_type": "code",
   "execution_count": null,
   "id": "5c1c86fd",
   "metadata": {},
   "outputs": [],
   "source": []
  }
 ],
 "metadata": {
  "kernelspec": {
   "display_name": "Python 3 (ipykernel)",
   "language": "python",
   "name": "python3"
  },
  "language_info": {
   "codemirror_mode": {
    "name": "ipython",
    "version": 3
   },
   "file_extension": ".py",
   "mimetype": "text/x-python",
   "name": "python",
   "nbconvert_exporter": "python",
   "pygments_lexer": "ipython3",
   "version": "3.9.12"
  }
 },
 "nbformat": 4,
 "nbformat_minor": 5
}
