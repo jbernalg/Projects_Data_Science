{
 "cells": [
  {
   "cell_type": "markdown",
   "id": "497a0ace",
   "metadata": {},
   "source": [
    "# Prediccion de Precios de Carros"
   ]
  },
  {
   "cell_type": "markdown",
   "id": "ac5da953",
   "metadata": {},
   "source": [
    "Creacion de un modelo de Machine Learning para predecir los precios de los carros en el mercado estadounidense. El objetivo es ayudar a nuevos integrantes a comprender factores de precios importantes en este mercado."
   ]
  },
  {
   "cell_type": "markdown",
   "id": "c3654007",
   "metadata": {},
   "source": [
    "# Seccion 1. Analisis y exploracion de los datos"
   ]
  },
  {
   "cell_type": "markdown",
   "id": "cd5a98be",
   "metadata": {},
   "source": [
    "## Librerias"
   ]
  },
  {
   "cell_type": "code",
   "execution_count": 18,
   "id": "416f2da3",
   "metadata": {},
   "outputs": [],
   "source": [
    "import numpy as np\n",
    "import pandas as pd\n",
    "import matplotlib.pyplot as plt\n",
    "import seaborn as sns"
   ]
  },
  {
   "cell_type": "markdown",
   "id": "edd45041",
   "metadata": {},
   "source": [
    "## Gestion de advertencias"
   ]
  },
  {
   "cell_type": "code",
   "execution_count": 19,
   "id": "352ac866",
   "metadata": {},
   "outputs": [],
   "source": [
    "import warnings\n",
    "\n",
    "# ignora advertencias sobre funcionalidades que se van a dejar de usar\n",
    "warnings.simplefilter(action='ignore', category=FutureWarning)\n",
    "\n",
    "# ignora advertencias sobre problemas en tiempo de ejecucion\n",
    "warnings.filterwarnings('ignore', category=RuntimeWarning)"
   ]
  },
  {
   "cell_type": "markdown",
   "id": "ec01b6a0",
   "metadata": {},
   "source": [
    "## Cargar datos"
   ]
  },
  {
   "cell_type": "code",
   "execution_count": 20,
   "id": "a2213ce4",
   "metadata": {},
   "outputs": [
    {
     "data": {
      "text/html": [
       "<div>\n",
       "<style scoped>\n",
       "    .dataframe tbody tr th:only-of-type {\n",
       "        vertical-align: middle;\n",
       "    }\n",
       "\n",
       "    .dataframe tbody tr th {\n",
       "        vertical-align: top;\n",
       "    }\n",
       "\n",
       "    .dataframe thead th {\n",
       "        text-align: right;\n",
       "    }\n",
       "</style>\n",
       "<table border=\"1\" class=\"dataframe\">\n",
       "  <thead>\n",
       "    <tr style=\"text-align: right;\">\n",
       "      <th></th>\n",
       "      <th>car_ID</th>\n",
       "      <th>symboling</th>\n",
       "      <th>CarName</th>\n",
       "      <th>fueltype</th>\n",
       "      <th>aspiration</th>\n",
       "      <th>doornumber</th>\n",
       "      <th>carbody</th>\n",
       "      <th>drivewheel</th>\n",
       "      <th>enginelocation</th>\n",
       "      <th>wheelbase</th>\n",
       "      <th>...</th>\n",
       "      <th>enginesize</th>\n",
       "      <th>fuelsystem</th>\n",
       "      <th>boreratio</th>\n",
       "      <th>stroke</th>\n",
       "      <th>compressionratio</th>\n",
       "      <th>horsepower</th>\n",
       "      <th>peakrpm</th>\n",
       "      <th>citympg</th>\n",
       "      <th>highwaympg</th>\n",
       "      <th>price</th>\n",
       "    </tr>\n",
       "  </thead>\n",
       "  <tbody>\n",
       "    <tr>\n",
       "      <th>0</th>\n",
       "      <td>1</td>\n",
       "      <td>3</td>\n",
       "      <td>alfa-romero giulia</td>\n",
       "      <td>gas</td>\n",
       "      <td>std</td>\n",
       "      <td>two</td>\n",
       "      <td>convertible</td>\n",
       "      <td>rwd</td>\n",
       "      <td>front</td>\n",
       "      <td>88.6</td>\n",
       "      <td>...</td>\n",
       "      <td>130</td>\n",
       "      <td>mpfi</td>\n",
       "      <td>3.47</td>\n",
       "      <td>2.68</td>\n",
       "      <td>9.0</td>\n",
       "      <td>111</td>\n",
       "      <td>5000</td>\n",
       "      <td>21</td>\n",
       "      <td>27</td>\n",
       "      <td>13495.0</td>\n",
       "    </tr>\n",
       "    <tr>\n",
       "      <th>1</th>\n",
       "      <td>2</td>\n",
       "      <td>3</td>\n",
       "      <td>alfa-romero stelvio</td>\n",
       "      <td>gas</td>\n",
       "      <td>std</td>\n",
       "      <td>two</td>\n",
       "      <td>convertible</td>\n",
       "      <td>rwd</td>\n",
       "      <td>front</td>\n",
       "      <td>88.6</td>\n",
       "      <td>...</td>\n",
       "      <td>130</td>\n",
       "      <td>mpfi</td>\n",
       "      <td>3.47</td>\n",
       "      <td>2.68</td>\n",
       "      <td>9.0</td>\n",
       "      <td>111</td>\n",
       "      <td>5000</td>\n",
       "      <td>21</td>\n",
       "      <td>27</td>\n",
       "      <td>16500.0</td>\n",
       "    </tr>\n",
       "    <tr>\n",
       "      <th>2</th>\n",
       "      <td>3</td>\n",
       "      <td>1</td>\n",
       "      <td>alfa-romero Quadrifoglio</td>\n",
       "      <td>gas</td>\n",
       "      <td>std</td>\n",
       "      <td>two</td>\n",
       "      <td>hatchback</td>\n",
       "      <td>rwd</td>\n",
       "      <td>front</td>\n",
       "      <td>94.5</td>\n",
       "      <td>...</td>\n",
       "      <td>152</td>\n",
       "      <td>mpfi</td>\n",
       "      <td>2.68</td>\n",
       "      <td>3.47</td>\n",
       "      <td>9.0</td>\n",
       "      <td>154</td>\n",
       "      <td>5000</td>\n",
       "      <td>19</td>\n",
       "      <td>26</td>\n",
       "      <td>16500.0</td>\n",
       "    </tr>\n",
       "    <tr>\n",
       "      <th>3</th>\n",
       "      <td>4</td>\n",
       "      <td>2</td>\n",
       "      <td>audi 100 ls</td>\n",
       "      <td>gas</td>\n",
       "      <td>std</td>\n",
       "      <td>four</td>\n",
       "      <td>sedan</td>\n",
       "      <td>fwd</td>\n",
       "      <td>front</td>\n",
       "      <td>99.8</td>\n",
       "      <td>...</td>\n",
       "      <td>109</td>\n",
       "      <td>mpfi</td>\n",
       "      <td>3.19</td>\n",
       "      <td>3.40</td>\n",
       "      <td>10.0</td>\n",
       "      <td>102</td>\n",
       "      <td>5500</td>\n",
       "      <td>24</td>\n",
       "      <td>30</td>\n",
       "      <td>13950.0</td>\n",
       "    </tr>\n",
       "    <tr>\n",
       "      <th>4</th>\n",
       "      <td>5</td>\n",
       "      <td>2</td>\n",
       "      <td>audi 100ls</td>\n",
       "      <td>gas</td>\n",
       "      <td>std</td>\n",
       "      <td>four</td>\n",
       "      <td>sedan</td>\n",
       "      <td>4wd</td>\n",
       "      <td>front</td>\n",
       "      <td>99.4</td>\n",
       "      <td>...</td>\n",
       "      <td>136</td>\n",
       "      <td>mpfi</td>\n",
       "      <td>3.19</td>\n",
       "      <td>3.40</td>\n",
       "      <td>8.0</td>\n",
       "      <td>115</td>\n",
       "      <td>5500</td>\n",
       "      <td>18</td>\n",
       "      <td>22</td>\n",
       "      <td>17450.0</td>\n",
       "    </tr>\n",
       "  </tbody>\n",
       "</table>\n",
       "<p>5 rows × 26 columns</p>\n",
       "</div>"
      ],
      "text/plain": [
       "   car_ID  symboling                   CarName fueltype aspiration doornumber  \\\n",
       "0       1          3        alfa-romero giulia      gas        std        two   \n",
       "1       2          3       alfa-romero stelvio      gas        std        two   \n",
       "2       3          1  alfa-romero Quadrifoglio      gas        std        two   \n",
       "3       4          2               audi 100 ls      gas        std       four   \n",
       "4       5          2                audi 100ls      gas        std       four   \n",
       "\n",
       "       carbody drivewheel enginelocation  wheelbase  ...  enginesize  \\\n",
       "0  convertible        rwd          front       88.6  ...         130   \n",
       "1  convertible        rwd          front       88.6  ...         130   \n",
       "2    hatchback        rwd          front       94.5  ...         152   \n",
       "3        sedan        fwd          front       99.8  ...         109   \n",
       "4        sedan        4wd          front       99.4  ...         136   \n",
       "\n",
       "   fuelsystem  boreratio  stroke compressionratio horsepower  peakrpm citympg  \\\n",
       "0        mpfi       3.47    2.68              9.0        111     5000      21   \n",
       "1        mpfi       3.47    2.68              9.0        111     5000      21   \n",
       "2        mpfi       2.68    3.47              9.0        154     5000      19   \n",
       "3        mpfi       3.19    3.40             10.0        102     5500      24   \n",
       "4        mpfi       3.19    3.40              8.0        115     5500      18   \n",
       "\n",
       "   highwaympg    price  \n",
       "0          27  13495.0  \n",
       "1          27  16500.0  \n",
       "2          26  16500.0  \n",
       "3          30  13950.0  \n",
       "4          22  17450.0  \n",
       "\n",
       "[5 rows x 26 columns]"
      ]
     },
     "execution_count": 20,
     "metadata": {},
     "output_type": "execute_result"
    }
   ],
   "source": [
    "df = pd.read_csv('CarPrice_Assignment.csv')\n",
    "df.head()"
   ]
  },
  {
   "cell_type": "code",
   "execution_count": 21,
   "id": "953b89f0",
   "metadata": {},
   "outputs": [
    {
     "name": "stdout",
     "output_type": "stream",
     "text": [
      "<class 'pandas.core.frame.DataFrame'>\n",
      "RangeIndex: 205 entries, 0 to 204\n",
      "Data columns (total 26 columns):\n",
      " #   Column            Non-Null Count  Dtype  \n",
      "---  ------            --------------  -----  \n",
      " 0   car_ID            205 non-null    int64  \n",
      " 1   symboling         205 non-null    int64  \n",
      " 2   CarName           205 non-null    object \n",
      " 3   fueltype          205 non-null    object \n",
      " 4   aspiration        205 non-null    object \n",
      " 5   doornumber        205 non-null    object \n",
      " 6   carbody           205 non-null    object \n",
      " 7   drivewheel        205 non-null    object \n",
      " 8   enginelocation    205 non-null    object \n",
      " 9   wheelbase         205 non-null    float64\n",
      " 10  carlength         205 non-null    float64\n",
      " 11  carwidth          205 non-null    float64\n",
      " 12  carheight         205 non-null    float64\n",
      " 13  curbweight        205 non-null    int64  \n",
      " 14  enginetype        205 non-null    object \n",
      " 15  cylindernumber    205 non-null    object \n",
      " 16  enginesize        205 non-null    int64  \n",
      " 17  fuelsystem        205 non-null    object \n",
      " 18  boreratio         205 non-null    float64\n",
      " 19  stroke            205 non-null    float64\n",
      " 20  compressionratio  205 non-null    float64\n",
      " 21  horsepower        205 non-null    int64  \n",
      " 22  peakrpm           205 non-null    int64  \n",
      " 23  citympg           205 non-null    int64  \n",
      " 24  highwaympg        205 non-null    int64  \n",
      " 25  price             205 non-null    float64\n",
      "dtypes: float64(8), int64(8), object(10)\n",
      "memory usage: 41.8+ KB\n"
     ]
    }
   ],
   "source": [
    "# resumen por variable\n",
    "df.info()"
   ]
  },
  {
   "cell_type": "markdown",
   "id": "90dff910",
   "metadata": {},
   "source": [
    "> Las 26 variables estan libres de valores faltantes. Existen 205 registros"
   ]
  },
  {
   "cell_type": "markdown",
   "id": "5e2e0c36",
   "metadata": {},
   "source": [
    "## Entendiendo las variables predictoras"
   ]
  },
  {
   "cell_type": "markdown",
   "id": "062471de",
   "metadata": {},
   "source": [
    "### **Symboling**\n",
    "\n",
    "Hace referencia al riesgo del auto y va en una escala de -2 a 3,siendo el -2 menos riesgoso y 3 mas riesgoso."
   ]
  },
  {
   "cell_type": "code",
   "execution_count": 22,
   "id": "5c4e591d",
   "metadata": {},
   "outputs": [
    {
     "data": {
      "text/plain": [
       " 0    67\n",
       " 1    54\n",
       " 2    32\n",
       " 3    27\n",
       "-1    22\n",
       "-2     3\n",
       "Name: symboling, dtype: int64"
      ]
     },
     "execution_count": 22,
     "metadata": {},
     "output_type": "execute_result"
    }
   ],
   "source": [
    "# Categorias de la variable Symboling\n",
    "df['symboling'].value_counts()"
   ]
  },
  {
   "cell_type": "code",
   "execution_count": 23,
   "id": "f603440a",
   "metadata": {
    "scrolled": true
   },
   "outputs": [
    {
     "data": {
      "text/plain": [
       " 0    32.682927\n",
       " 1    26.341463\n",
       " 2    15.609756\n",
       " 3    13.170732\n",
       "-1    10.731707\n",
       "-2     1.463415\n",
       "Name: symboling, dtype: float64"
      ]
     },
     "execution_count": 23,
     "metadata": {},
     "output_type": "execute_result"
    }
   ],
   "source": [
    "# porcentaje de las diferentes categorias de symboling\n",
    "df['symboling'].value_counts(normalize=True)*100"
   ]
  },
  {
   "cell_type": "markdown",
   "id": "8118a9b5",
   "metadata": {},
   "source": [
    "- La mayoria de los carros son 0, 1, 2, es decir con un riesgo considerable\n",
    "\n",
    "- Son pocos los carros con bajo riesgo (-2)"
   ]
  },
  {
   "cell_type": "markdown",
   "id": "07d5f873",
   "metadata": {},
   "source": [
    "### **Aspiration**\n",
    "\n",
    "Es una propiedad del motor (de combustion interna) que muestra si la ingesta de oxigeno es estandar (presion atmosferica) o mediante turbocompresor (entrada de oxigeno a presion)"
   ]
  },
  {
   "cell_type": "code",
   "execution_count": 24,
   "id": "4af9d984",
   "metadata": {},
   "outputs": [
    {
     "data": {
      "text/plain": [
       "std      81.95122\n",
       "turbo    18.04878\n",
       "Name: aspiration, dtype: float64"
      ]
     },
     "execution_count": 24,
     "metadata": {},
     "output_type": "execute_result"
    }
   ],
   "source": [
    "# categorias de la variable aspiration\n",
    "df['aspiration'].value_counts(normalize=True)*100"
   ]
  },
  {
   "cell_type": "markdown",
   "id": "6421beef",
   "metadata": {},
   "source": [
    "- El 81.9% de los carros son de ingesta de oxigeno estandar\n",
    "- El 18.1% son de turbocompresor"
   ]
  },
  {
   "cell_type": "markdown",
   "id": "88e35cc6",
   "metadata": {},
   "source": [
    "### **Drivewheel**\n",
    "\n",
    "Hace referencia a la rueda de traccion del carro: rueda delantera (frontwheel), rueda trasera (rear wheel) o traccion en las cuatro ruedas (four-wheel drive)."
   ]
  },
  {
   "cell_type": "code",
   "execution_count": 25,
   "id": "69f41bf2",
   "metadata": {},
   "outputs": [
    {
     "data": {
      "text/plain": [
       "fwd    58.536585\n",
       "rwd    37.073171\n",
       "4wd     4.390244\n",
       "Name: drivewheel, dtype: float64"
      ]
     },
     "execution_count": 25,
     "metadata": {},
     "output_type": "execute_result"
    }
   ],
   "source": [
    "df['drivewheel'].value_counts(normalize=True)*100"
   ]
  },
  {
   "cell_type": "markdown",
   "id": "bed3b751",
   "metadata": {},
   "source": [
    "- El 58.3% de los carros son de traccion delantera\n",
    "- El 37.1% son de traccion trasera\n",
    "- El 4.4% son de traccion en las 4 ruedas."
   ]
  },
  {
   "cell_type": "markdown",
   "id": "39a1e0b1",
   "metadata": {},
   "source": [
    "### **Wheelbase**\n",
    "\n",
    "Es la distancia entre el centro de las ruedas delanteras y traseras."
   ]
  },
  {
   "cell_type": "code",
   "execution_count": 27,
   "id": "c9ab2217",
   "metadata": {},
   "outputs": [
    {
     "data": {
      "image/png": "[encoded data removed]",
      "text/plain": [
       "<Figure size 720x432 with 1 Axes>"
      ]
     },
     "metadata": {
      "needs_background": "light"
     },
     "output_type": "display_data"
    }
   ],
   "source": [
    "# como es una variable numerica, veamos su distribucion\n",
    "plt.figure(figsize=(10, 6))\n",
    "sns.distplot(df['wheelbase'])\n",
    "plt.grid(True)\n",
    "plt.xlabel('Distancia entre ejes', fontsize= 14)\n",
    "plt.ylabel('Densidad', fontsize= 14)\n",
    "plt.title('Distribucion de probabilidad de la distancia entre ejes', fontsize= 19);"
   ]
  },
  {
   "cell_type": "markdown",
   "id": "32f463c6",
   "metadata": {},
   "source": [
    "- La mayoria de los carros tienen una distancia entre ejes entre 92.5 y 97.5 "
   ]
  },
  {
   "cell_type": "markdown",
   "id": "69576bdd",
   "metadata": {},
   "source": [
    "### **Curbweight**\n",
    "\n",
    "Peso del carro sin ocupantes ni equipajes"
   ]
  },
  {
   "cell_type": "code",
   "execution_count": 28,
   "id": "8e43a539",
   "metadata": {
    "scrolled": true
   },
   "outputs": [
    {
     "data": {
      "image/png": "[encoded data removed]",
      "text/plain": [
       "<Figure size 720x432 with 1 Axes>"
      ]
     },
     "metadata": {
      "needs_background": "light"
     },
     "output_type": "display_data"
    }
   ],
   "source": [
    "# ditribucion\n",
    "plt.figure(figsize=(10, 6))\n",
    "sns.distplot(df['curbweight'])\n",
    "plt.grid(True)\n",
    "plt.xlabel('Peso Neto del carro', fontsize= 14)\n",
    "plt.ylabel('Densidad', fontsize= 14)\n",
    "plt.title('Peso', fontsize= 19);"
   ]
  },
  {
   "cell_type": "markdown",
   "id": "98e51535",
   "metadata": {},
   "source": [
    "- La mayoria de los carros pesan entre 2000 y 2500."
   ]
  },
  {
   "cell_type": "markdown",
   "id": "65d48463",
   "metadata": {},
   "source": [
    "### **Stroke**\n",
    "\n",
    "Es el volumen del motor (distancia recorrida por el piston en cada ciclo)"
   ]
  },
  {
   "cell_type": "code",
   "execution_count": 35,
   "id": "74486795",
   "metadata": {},
   "outputs": [
    {
     "data": {
      "image/png": "[encoded data removed]",
      "text/plain": [
       "<Figure size 720x432 with 1 Axes>"
      ]
     },
     "metadata": {
      "needs_background": "light"
     },
     "output_type": "display_data"
    }
   ],
   "source": [
    "# distribucion\n",
    "plt.figure(figsize=(10, 6))\n",
    "sns.distplot(df['stroke'])\n",
    "plt.grid(True)\n",
    "plt.xlabel('Volumen', fontsize= 14)\n",
    "plt.ylabel('Densidad', fontsize= 14)\n",
    "plt.title('Volumen del motor de los carros', fontsize= 19);"
   ]
  },
  {
   "cell_type": "markdown",
   "id": "70b7c573",
   "metadata": {},
   "source": [
    "- Hay una gran cantidad de carros con volumen de motor de 3.4."
   ]
  },
  {
   "cell_type": "code",
   "execution_count": null,
   "id": "3409f5b5",
   "metadata": {},
   "outputs": [],
   "source": []
  },
  {
   "cell_type": "code",
   "execution_count": null,
   "id": "1d003e07",
   "metadata": {},
   "outputs": [],
   "source": []
  },
  {
   "cell_type": "code",
   "execution_count": null,
   "id": "00398cae",
   "metadata": {},
   "outputs": [],
   "source": []
  },
  {
   "cell_type": "code",
   "execution_count": null,
   "id": "4fc855a9",
   "metadata": {},
   "outputs": [],
   "source": []
  }
 ],
 "metadata": {
  "kernelspec": {
   "display_name": "Python 3 (ipykernel)",
   "language": "python",
   "name": "python3"
  },
  "language_info": {
   "codemirror_mode": {
    "name": "ipython",
    "version": 3
   },
   "file_extension": ".py",
   "mimetype": "text/x-python",
   "name": "python",
   "nbconvert_exporter": "python",
   "pygments_lexer": "ipython3",
   "version": "3.9.12"
  }
 },
 "nbformat": 4,
 "nbformat_minor": 5
}
