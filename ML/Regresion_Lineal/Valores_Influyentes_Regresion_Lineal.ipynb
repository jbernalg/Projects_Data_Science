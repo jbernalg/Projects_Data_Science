{
 "cells": [
  {
   "cell_type": "markdown",
   "id": "3bd370f5",
   "metadata": {},
   "source": [
    "# Valores de gran influencia en la Regresión Lineal"
   ]
  },
  {
   "cell_type": "markdown",
   "id": "7088b3d4",
   "metadata": {},
   "source": [
    "Son valores que cambian considerablemente el ajuste de la Regresion Lineal en los datos. No estan necesariamente asociados con residuos grandes.\n",
    "\n",
    "Veamos un ejemplo para entenderlo mejor"
   ]
  },
  {
   "cell_type": "code",
   "execution_count": 9,
   "id": "18867354",
   "metadata": {},
   "outputs": [],
   "source": [
    "# librerias\n",
    "%matplotlib inline\n",
    "# libreria para crear una regresion a partir de puntos dados\n",
    "from scipy.stats import linregress\n",
    "import numpy as np\n",
    "import matplotlib.pyplot as plt"
   ]
  },
  {
   "cell_type": "markdown",
   "id": "05868a21",
   "metadata": {},
   "source": [
    "Consideremos el siguiente conjunto de datos"
   ]
  },
  {
   "cell_type": "code",
   "execution_count": 4,
   "id": "627f1911",
   "metadata": {},
   "outputs": [],
   "source": [
    "# creamos una semilla para la reproducibilidad del experimento\n",
    "np.random.seed(5)"
   ]
  },
  {
   "cell_type": "code",
   "execution_count": 5,
   "id": "dd0df3c6",
   "metadata": {},
   "outputs": [],
   "source": [
    "# creamos 25 valores de X\n",
    "x = np.random.normal(size=25)\n",
    "\n",
    "# creamos 25 valores de Y relacionado de manera lineal con X\n",
    "y = -(x/5) + np.random.normal(size=25)\n",
    "\n",
    "# asignamos un outiler a los datos\n",
    "x[0] = 8\n",
    "y[0] = 8"
   ]
  },
  {
   "cell_type": "markdown",
   "id": "ecbee290",
   "metadata": {},
   "source": [
    "Creamos una funcion que calcula las coordenadas de una linea recta basada en la pendiente y el intercepto para trazar una linea recta en un grafico"
   ]
  },
  {
   "cell_type": "code",
   "execution_count": 6,
   "id": "64621b47",
   "metadata": {},
   "outputs": [],
   "source": [
    "def coord_linea(pendiente, intercepto, ax):\n",
    "    '''\n",
    "    Calcula las coordenadas de una linea basado en la pendiente y el intercepto\n",
    "    '''\n",
    "    # obtener los limites del eje x\n",
    "    x_vals = np.array(ax.get_xlim())\n",
    "    \n",
    "    # Devolver los valores de x e y\n",
    "    return x_vals, intercepto + pendiente*x_vals"
   ]
  },
  {
   "cell_type": "markdown",
   "id": "9a2cafe3",
   "metadata": {},
   "source": [
    "Ahora, graficamos todos los puntos y trazamos su respectiva linea de regresion"
   ]
  },
  {
   "cell_type": "code",
   "execution_count": 12,
   "id": "c78e24e9",
   "metadata": {},
   "outputs": [
    {
     "data": {
      "image/png": "[encoded data removed]",
      "text/plain": [
       "<Figure size 504x360 with 1 Axes>"
      ]
     },
     "metadata": {
      "needs_background": "light"
     },
     "output_type": "display_data"
    }
   ],
   "source": [
    "# tamano de la grafica \n",
    "fig, ax = plt.subplots(figsize = (7,5))\n",
    "# grafico de dispersion\n",
    "ax.scatter(x,y)\n",
    "# calculo de la reegresion en los puntos\n",
    "pendiente, intercepto, _, _, _ = linregress(x, y)\n",
    "# grafica de la linea de regresion\n",
    "ax.plot(*coord_linea(pendiente, intercepto, ax))\n",
    "plt.tight_layout();"
   ]
  },
  {
   "cell_type": "markdown",
   "id": "dc14f708",
   "metadata": {},
   "source": [
    "Notamos que los datos se agrupan en cierta zona a excepcion del outlier que se encuentra en la esquina superior derecha. Este outlier hace que la linea de regresion tenga pendiente positiva.\n",
    "\n",
    "Ahora, vamos a omitir el punto outlier y trazar nuevamente la respectiva linea de regresion"
   ]
  },
  {
   "cell_type": "code",
   "execution_count": 15,
   "id": "c919420d",
   "metadata": {},
   "outputs": [
    {
     "data": {
      "image/png": "[encoded data removed]",
      "text/plain": [
       "<Figure size 504x360 with 1 Axes>"
      ]
     },
     "metadata": {
      "needs_background": "light"
     },
     "output_type": "display_data"
    }
   ],
   "source": [
    "# tamano de la grafica \n",
    "fig, ax = plt.subplots(figsize = (7,5))\n",
    "# grafico de dispersion\n",
    "ax.scatter(x,y)\n",
    "# calculo de la regresion en los puntos sin considerar el outlier\n",
    "pendiente2, intercepto2, _, _, _ = linregress(x[1:], y[1:])\n",
    "#grafica de la linea de regresion\n",
    "ax.plot(*coord_linea(pendiente2, intercepto2, ax), '--', c='red')\n",
    "plt.tight_layout();"
   ]
  },
  {
   "cell_type": "markdown",
   "id": "88013cfc",
   "metadata": {},
   "source": [
    "En este caso, vemos que la regresion se ajusta mejor a la mayoria de los datos teniendo una pendiente negativa. De esta forma vemos que el outlier, en este caso, tiene una gran influencia sobre la regresion"
   ]
  }
 ],
 "metadata": {
  "kernelspec": {
   "display_name": "Python 3 (ipykernel)",
   "language": "python",
   "name": "python3"
  },
  "language_info": {
   "codemirror_mode": {
    "name": "ipython",
    "version": 3
   },
   "file_extension": ".py",
   "mimetype": "text/x-python",
   "name": "python",
   "nbconvert_exporter": "python",
   "pygments_lexer": "ipython3",
   "version": "3.9.12"
  }
 },
 "nbformat": 4,
 "nbformat_minor": 5
}
