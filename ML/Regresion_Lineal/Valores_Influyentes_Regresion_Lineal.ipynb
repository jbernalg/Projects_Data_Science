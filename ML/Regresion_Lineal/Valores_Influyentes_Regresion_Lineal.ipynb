{
 "cells": [
  {
   "cell_type": "markdown",
   "id": "70c577cf",
   "metadata": {},
   "source": [
    "# Valores de gran influencia en la Regresión Lineal"
   ]
  },
  {
   "cell_type": "markdown",
   "id": "647e436e",
   "metadata": {},
   "source": [
    "Son valores que cambian considerablemente el ajuste de la Regresion Lineal en los datos. No estan necesariamente asociados con residuos grandes.\n",
    "\n",
    "Veamos un ejemplo para entenderlo mejor"
   ]
  },
  {
   "cell_type": "code",
   "execution_count": 203,
   "id": "ac442d5c",
   "metadata": {},
   "outputs": [],
   "source": [
    "# librerias\n",
    "%matplotlib inline\n",
    "# libreria para crear una regresion a partir de puntos dados\n",
    "from scipy.stats import linregress\n",
    "import numpy as np\n",
    "import matplotlib.pyplot as plt\n",
    "import pandas as pd\n",
    "import statsmodels.api as sm"
   ]
  },
  {
   "cell_type": "markdown",
   "id": "db4f1c3c",
   "metadata": {},
   "source": [
    "Consideremos el siguiente conjunto de datos"
   ]
  },
  {
   "cell_type": "code",
   "execution_count": 204,
   "id": "3635af77",
   "metadata": {},
   "outputs": [],
   "source": [
    "# creamos una semilla para la reproducibilidad del experimento\n",
    "np.random.seed(5)"
   ]
  },
  {
   "cell_type": "code",
   "execution_count": 205,
   "id": "e3187ab0",
   "metadata": {},
   "outputs": [],
   "source": [
    "# creamos 25 valores de X\n",
    "x = np.random.normal(size=25)\n",
    "\n",
    "# creamos 25 valores de Y relacionado de manera lineal con X\n",
    "y = -(x/5) + np.random.normal(size=25)\n",
    "\n",
    "# asignamos un outiler a los datos\n",
    "x[0] = 8\n",
    "y[0] = 8"
   ]
  },
  {
   "cell_type": "markdown",
   "id": "2b0b47f1",
   "metadata": {},
   "source": [
    "Creamos una funcion que calcula las coordenadas de una linea recta basada en la pendiente y el intercepto para trazar una linea recta en un grafico"
   ]
  },
  {
   "cell_type": "code",
   "execution_count": 206,
   "id": "da6dc67f",
   "metadata": {},
   "outputs": [],
   "source": [
    "def coord_linea(pendiente, intercepto, ax):\n",
    "    '''\n",
    "    Calcula las coordenadas de una linea basado en la pendiente y el intercepto\n",
    "    '''\n",
    "    # obtener los limites del eje x\n",
    "    x_vals = np.array(ax.get_xlim())\n",
    "    \n",
    "    # Devolver los valores de x e y\n",
    "    return x_vals, intercepto + pendiente*x_vals"
   ]
  },
  {
   "cell_type": "markdown",
   "id": "a046c9c4",
   "metadata": {},
   "source": [
    "Ahora, graficamos todos los puntos y trazamos su respectiva linea de regresion"
   ]
  },
  {
   "cell_type": "code",
   "execution_count": 207,
   "id": "12fdaf94",
   "metadata": {},
   "outputs": [
    {
     "data": {
      "image/png": "[encoded data removed]",
      "text/plain": [
       "<Figure size 504x360 with 1 Axes>"
      ]
     },
     "metadata": {
      "needs_background": "light"
     },
     "output_type": "display_data"
    }
   ],
   "source": [
    "# tamano de la grafica \n",
    "fig, ax = plt.subplots(figsize = (7,5))\n",
    "# grafico de dispersion\n",
    "ax.scatter(x,y)\n",
    "# calculo de la reegresion en los puntos\n",
    "pendiente, intercepto, _, _, _ = linregress(x, y)\n",
    "# grafica de la linea de regresion\n",
    "ax.plot(*coord_linea(pendiente, intercepto, ax))\n",
    "plt.tight_layout();"
   ]
  },
  {
   "cell_type": "markdown",
   "id": "ae7f06e0",
   "metadata": {},
   "source": [
    "Notamos que los datos se agrupan en cierta zona a excepcion del outlier que se encuentra en la esquina superior derecha. Este outlier hace que la linea de regresion tenga pendiente positiva.\n",
    "\n",
    "Ahora, vamos a omitir el punto outlier y trazar nuevamente la respectiva linea de regresion"
   ]
  },
  {
   "cell_type": "code",
   "execution_count": 208,
   "id": "b7fb6100",
   "metadata": {},
   "outputs": [
    {
     "data": {
      "image/png": "[encoded data removed]",
      "text/plain": [
       "<Figure size 504x360 with 1 Axes>"
      ]
     },
     "metadata": {
      "needs_background": "light"
     },
     "output_type": "display_data"
    }
   ],
   "source": [
    "# tamano de la grafica \n",
    "fig, ax = plt.subplots(figsize = (7,5))\n",
    "# grafico de dispersion\n",
    "ax.scatter(x,y)\n",
    "# calculo de la regresion en los puntos sin considerar el outlier\n",
    "pendiente2, intercepto2, _, _, _ = linregress(x[1:], y[1:])\n",
    "#grafica de la linea de regresion\n",
    "ax.plot(*coord_linea(pendiente2, intercepto2, ax), '--', c='red')\n",
    "plt.tight_layout();"
   ]
  },
  {
   "cell_type": "markdown",
   "id": "b1370d11",
   "metadata": {},
   "source": [
    "En este caso, vemos que la regresion se ajusta mejor a la mayoria de los datos teniendo una pendiente negativa. De esta forma vemos que el outlier, en este caso, tiene una gran influencia sobre la regresion"
   ]
  },
  {
   "cell_type": "code",
   "execution_count": null,
   "id": "9752237e",
   "metadata": {},
   "outputs": [],
   "source": []
  },
  {
   "cell_type": "markdown",
   "id": "30aabe62",
   "metadata": {},
   "source": [
    "## Apalancamiento"
   ]
  },
  {
   "cell_type": "markdown",
   "id": "70749a4d",
   "metadata": {},
   "source": [
    "Mide la distancia de un punto de datos respecto al centro del espacio de variables predictoras. Los puntos de datos con alto apalancamiento tienen un mayor potencial para influir en los coeficientes de regresion debido a que estan alejados de la media de los predictores. \n",
    "\n",
    "Para obtener los puntos de apalancamiento de un conjunto de datos utilizamos los *Hat Value* que son los elementos diagonales de la *Matriz de hat* **(H)**. La *Matriz de Hat* se calcula mediante la siguiente formula:\n",
    "\n",
    "$$H = X(X^{T}X)^{-1}X^{T}$$\n",
    "\n",
    "donde:\n",
    "\n",
    "- $X$ es la matriz de caracteristicas.\n",
    "- $X^T$ es la traspuesta de $X$.\n",
    "- $(X^{T}X)^{-1}$ es la inversa de $X^{T}X$"
   ]
  },
  {
   "cell_type": "markdown",
   "id": "1cc79c32",
   "metadata": {},
   "source": [
    "Antes de calcular la *Matriz de Hat* debemos definir lo que es la matriz de caracteristicas. Es una matriz que contiene los valores de las variables predictoras para todas las observaciones en un conjunto de datos, que se denota por $X$. Cada fila de $X$ representa una observacion y cada columna una variable predictora.\n",
    "\n",
    "Si hay $n$ observaciones y $p$ variables predictoras, la matriz de caracteristicas tendra un tamano de $n(p+1)$. La primera columna de $X$ contiene unos parametros para el termino de intercepto."
   ]
  },
  {
   "cell_type": "markdown",
   "id": "b651212e",
   "metadata": {},
   "source": [
    "### **Obtener los Hat Values de forma manual**\n",
    "Vamos a calcular los *Hat values* para un conjunto de datos de 10 observaciones y dos variables predictoras de forma manual"
   ]
  },
  {
   "cell_type": "code",
   "execution_count": 209,
   "id": "6b280df5",
   "metadata": {},
   "outputs": [
    {
     "data": {
      "text/html": [
       "<div>\n",
       "<style scoped>\n",
       "    .dataframe tbody tr th:only-of-type {\n",
       "        vertical-align: middle;\n",
       "    }\n",
       "\n",
       "    .dataframe tbody tr th {\n",
       "        vertical-align: top;\n",
       "    }\n",
       "\n",
       "    .dataframe thead th {\n",
       "        text-align: right;\n",
       "    }\n",
       "</style>\n",
       "<table border=\"1\" class=\"dataframe\">\n",
       "  <thead>\n",
       "    <tr style=\"text-align: right;\">\n",
       "      <th></th>\n",
       "      <th>0</th>\n",
       "      <th>1</th>\n",
       "    </tr>\n",
       "  </thead>\n",
       "  <tbody>\n",
       "    <tr>\n",
       "      <th>2.012218</th>\n",
       "      <td>0.374540</td>\n",
       "      <td>0.950714</td>\n",
       "    </tr>\n",
       "    <tr>\n",
       "      <th>3.707546</th>\n",
       "      <td>0.731994</td>\n",
       "      <td>0.598658</td>\n",
       "    </tr>\n",
       "    <tr>\n",
       "      <th>-0.127979</th>\n",
       "      <td>0.156019</td>\n",
       "      <td>0.155995</td>\n",
       "    </tr>\n",
       "    <tr>\n",
       "      <th>0.494299</th>\n",
       "      <td>0.058084</td>\n",
       "      <td>0.866176</td>\n",
       "    </tr>\n",
       "    <tr>\n",
       "      <th>4.685139</th>\n",
       "      <td>0.601115</td>\n",
       "      <td>0.708073</td>\n",
       "    </tr>\n",
       "    <tr>\n",
       "      <th>1.775797</th>\n",
       "      <td>0.020584</td>\n",
       "      <td>0.969910</td>\n",
       "    </tr>\n",
       "    <tr>\n",
       "      <th>2.989534</th>\n",
       "      <td>0.832443</td>\n",
       "      <td>0.212339</td>\n",
       "    </tr>\n",
       "    <tr>\n",
       "      <th>-0.512464</th>\n",
       "      <td>0.181825</td>\n",
       "      <td>0.183405</td>\n",
       "    </tr>\n",
       "    <tr>\n",
       "      <th>1.417857</th>\n",
       "      <td>0.304242</td>\n",
       "      <td>0.524756</td>\n",
       "    </tr>\n",
       "    <tr>\n",
       "      <th>1.989216</th>\n",
       "      <td>0.431945</td>\n",
       "      <td>0.291229</td>\n",
       "    </tr>\n",
       "  </tbody>\n",
       "</table>\n",
       "</div>"
      ],
      "text/plain": [
       "                  0         1\n",
       " 2.012218  0.374540  0.950714\n",
       " 3.707546  0.731994  0.598658\n",
       "-0.127979  0.156019  0.155995\n",
       " 0.494299  0.058084  0.866176\n",
       " 4.685139  0.601115  0.708073\n",
       " 1.775797  0.020584  0.969910\n",
       " 2.989534  0.832443  0.212339\n",
       "-0.512464  0.181825  0.183405\n",
       " 1.417857  0.304242  0.524756\n",
       " 1.989216  0.431945  0.291229"
      ]
     },
     "execution_count": 209,
     "metadata": {},
     "output_type": "execute_result"
    }
   ],
   "source": [
    "# ----------------generamos datos de ejemplo\n",
    "\n",
    "# semilla\n",
    "np.random.seed(42)\n",
    "\n",
    "# numero de observaciones\n",
    "n = 10\n",
    "\n",
    "# generamos los valores aleatorios entre 0 y 1 de dos variables predictoras\n",
    "X = np.random.rand(n, 2)\n",
    "\n",
    "# Generamos los valores de la variable objetivo utilizando una combinacion lineal de las dos variables predictoras\n",
    "# agregamos ruido aleatorio que sigue una D. normal\n",
    "y = 3*X[:, 0] + 2*X[:, 1] + np.random.randn(n)\n",
    "\n",
    "# visualizamos los datos en un DataFrame\n",
    "data = pd.DataFrame(X,y)\n",
    "data"
   ]
  },
  {
   "cell_type": "code",
   "execution_count": 210,
   "id": "ffea265c",
   "metadata": {},
   "outputs": [
    {
     "data": {
      "text/plain": [
       "array([[ 0.28855531,  0.17628608, -0.11160712,  0.20403219,  0.20834643,\n",
       "         0.24681763,  0.01133721, -0.09519126,  0.08077469, -0.00935115],\n",
       "       [ 0.17628608,  0.31479274, -0.09138118, -0.01812641,  0.26054845,\n",
       "        -0.02055277,  0.30164213, -0.0718099 ,  0.05932126,  0.08927961],\n",
       "       [-0.11160712, -0.09138118,  0.39829974,  0.07538201, -0.0887087 ,\n",
       "         0.03871541,  0.06291945,  0.3724417 ,  0.14049524,  0.20344346],\n",
       "       [ 0.20403219, -0.01812641,  0.07538201,  0.29695829,  0.05811202,\n",
       "         0.33775649, -0.15581051,  0.07317641,  0.11805162,  0.01046792],\n",
       "       [ 0.20834643,  0.26054845, -0.0887087 ,  0.05811202,  0.23631874,\n",
       "         0.07017311,  0.1997692 , -0.07107127,  0.06807559,  0.05843643],\n",
       "       [ 0.24681763, -0.02055277,  0.03871541,  0.33775649,  0.07017311,\n",
       "         0.39038106, -0.20141567,  0.03884733,  0.11721958, -0.01794216],\n",
       "       [ 0.01133721,  0.30164213,  0.06291945, -0.15581051,  0.1997692 ,\n",
       "        -0.20141567,  0.44840042,  0.07189694,  0.06655459,  0.19470624],\n",
       "       [-0.09519126, -0.0718099 ,  0.3724417 ,  0.07317641, -0.07107127,\n",
       "         0.03884733,  0.07189694,  0.34892176,  0.13650864,  0.19627966],\n",
       "       [ 0.08077469,  0.05932126,  0.14049524,  0.11805162,  0.06807559,\n",
       "         0.11721958,  0.06655459,  0.13650864,  0.10784536,  0.10515343],\n",
       "       [-0.00935115,  0.08927961,  0.20344346,  0.01046792,  0.05843643,\n",
       "        -0.01794216,  0.19470624,  0.19627966,  0.10515343,  0.16952657]])"
      ]
     },
     "execution_count": 210,
     "metadata": {},
     "output_type": "execute_result"
    }
   ],
   "source": [
    "# -----------Calculo de H\n",
    "\n",
    "# agregamos una columna de unos a la matriz de caracteristicas que representen el termino intercepto\n",
    "X = np.hstack((np.ones((n,1)), X))\n",
    "\n",
    "# calculamos el termino X^T * X\n",
    "X_traspuesta_X = np.dot(X.T, X)\n",
    "\n",
    "# calculamos la inversa de X^T * X\n",
    "X_traspuesta_X_inv = np.linalg.inv(X_traspuesta_X)\n",
    "\n",
    "# calculamos la matriz de hat\n",
    "H = np.dot(np.dot(X, X_traspuesta_X_inv), X.T)\n",
    "\n",
    "# mostrar valores de H\n",
    "H"
   ]
  },
  {
   "cell_type": "code",
   "execution_count": 211,
   "id": "35266629",
   "metadata": {},
   "outputs": [
    {
     "data": {
      "text/plain": [
       "array([0.28855531, 0.31479274, 0.39829974, 0.29695829, 0.23631874,\n",
       "       0.39038106, 0.44840042, 0.34892176, 0.10784536, 0.16952657])"
      ]
     },
     "execution_count": 211,
     "metadata": {},
     "output_type": "execute_result"
    }
   ],
   "source": [
    "# ---------- Extraer los hat values de la matriz H\n",
    "hat_values = np.diag(H)\n",
    "hat_values"
   ]
  },
  {
   "cell_type": "markdown",
   "id": "153a0afa",
   "metadata": {},
   "source": [
    "### **Obtener los Hat Values con statsmodels**\n",
    "Vamos a obtener los *hat values* para los datos del ejemplo anterior"
   ]
  },
  {
   "cell_type": "code",
   "execution_count": 212,
   "id": "1b0e9473",
   "metadata": {},
   "outputs": [],
   "source": [
    "# ----------------generamos datos de ejemplo\n",
    "\n",
    "# semilla\n",
    "np.random.seed(42)\n",
    "\n",
    "# numero de observaciones\n",
    "n = 10\n",
    "\n",
    "# generamos los valores aleatorios entre 0 y 1 de dos variables predictoras\n",
    "X = np.random.rand(n, 2)\n",
    "\n",
    "# Generamos los valores de la variable objetivo utilizando una combinacion lineal de las dos variables predictoras\n",
    "# agregamos ruido aleatorio que sigue una D. normal\n",
    "y = 3*X[:, 0] + 2*X[:, 1] + np.random.randn(n)"
   ]
  },
  {
   "cell_type": "code",
   "execution_count": 213,
   "id": "a37112bc",
   "metadata": {},
   "outputs": [
    {
     "data": {
      "text/plain": [
       "array([0.28855531, 0.31479274, 0.39829974, 0.29695829, 0.23631874,\n",
       "       0.39038106, 0.44840042, 0.34892176, 0.10784536, 0.16952657])"
      ]
     },
     "execution_count": 213,
     "metadata": {},
     "output_type": "execute_result"
    }
   ],
   "source": [
    "# ---- Calculo de hat values\n",
    "\n",
    "# agregamos una columa de unos a la matriz de caracteristicas para incluir el temrino de intercepto\n",
    "X = sm.add_constant(X)\n",
    "\n",
    "# ajustamos los datos a un modelo de regresion lineal\n",
    "model = sm.OLS(y, X).fit()\n",
    "\n",
    "# obtenemos los hat values para cada observacion\n",
    "influence = model.get_influence()\n",
    "hat_values = influence.hat_matrix_diag\n",
    "hat_values"
   ]
  },
  {
   "cell_type": "markdown",
   "id": "0cd6a77e",
   "metadata": {},
   "source": [
    "> De esta manera, obtenemos los hat values de formas"
   ]
  },
  {
   "cell_type": "markdown",
   "id": "f013804c",
   "metadata": {},
   "source": [
    "### **Visualizacion de los hat values**\n",
    "Una vez obtenido los hat values, podemos graficarlo para determinar, de manera visual, aquellas observaciones con alto apalancamiento"
   ]
  },
  {
   "cell_type": "code",
   "execution_count": 214,
   "id": "1679306f",
   "metadata": {},
   "outputs": [
    {
     "data": {
      "image/png": "[encoded data removed]",
      "text/plain": [
       "<Figure size 720x432 with 1 Axes>"
      ]
     },
     "metadata": {
      "needs_background": "light"
     },
     "output_type": "display_data"
    }
   ],
   "source": [
    "plt.figure(figsize=(10, 6))\n",
    "plt.bar(range(1, 11), hat_values, color='blue', alpha=0.7)\n",
    "plt.xlabel('Observación')\n",
    "plt.ylabel('Hat Value')\n",
    "plt.title('Hat Values de cada observacion')\n",
    "plt.xticks(range(1, 11));  # Asegurar que las etiquetas del eje x muestren los índices de las observaciones"
   ]
  },
  {
   "cell_type": "markdown",
   "id": "fbb43c79",
   "metadata": {},
   "source": [
    "> La grafica indica que las observaciones 3, 6 y 7 son puntos con alto apalancamiento"
   ]
  },
  {
   "cell_type": "code",
   "execution_count": null,
   "id": "5fa0f649",
   "metadata": {},
   "outputs": [],
   "source": []
  },
  {
   "cell_type": "markdown",
   "id": "b8aa5faf",
   "metadata": {},
   "source": [
    "## Distancia de Cook"
   ]
  },
  {
   "cell_type": "markdown",
   "id": "8d6676d4",
   "metadata": {},
   "source": [
    "Es una metrica util para identificar observaciones influyentes en el ajuste del modelo que combina el apalancamiento y el tamano del residuo. Recordemos que el residuo es la distancia entre un valor real y la linea de regresion. Esta metrica analiza el cambio de los coeficientes de la regresion al omitir una observacion especifica. La distancia de Cook para la i-esima observacion se define como:\n",
    "\n",
    "$$D_{i} = \\frac{\\sum_{j=1}^{N}(y_{j} - y_{j(i)})}{p\\cdot\\widehat{\\sigma}^2} \\cdot \\frac{h_{i}}{(1-h_i)^2}$$\n",
    "\n",
    "Donde:\n",
    "- $y_j$ es el valor predicho para la j-esima observacion utilizando el modelo.\n",
    "- $y_{j(i)}$ es el valor predicho para la j-esima observacion utilizando el modelo sin la i-esima obervacion.\n",
    "- $p$ es el numero de variables predictoras en el modelo incluido el intercepto.\n",
    "- $\\widehat{\\sigma}^2$ es la varianza residual estimada del modelo.\n",
    "- $h_i$  es el hat value para la i-esima obervacion."
   ]
  },
  {
   "cell_type": "markdown",
   "id": "e8b76ad5",
   "metadata": {},
   "source": [
    "### **Obtener la Distancia de Cook de forma manual**\n",
    "Supongamos que tenemos un conjunto de datos con una variable predictora $X$ y una variable objetivo $y$. Veamos como calcular la distancia de Cook mediante una funcion personalizada."
   ]
  },
  {
   "cell_type": "code",
   "execution_count": 215,
   "id": "e178232d",
   "metadata": {},
   "outputs": [],
   "source": [
    "# funcion que calcula la distancia de cook\n",
    "def Dist_Cook(X, y, y_pred):\n",
    "    '''\n",
    "    X: matriz de caracteristicas\n",
    "    y: variable objetivo\n",
    "    y_pred: predicciones del modelo de regresion lineal\n",
    "    '''\n",
    "    \n",
    "    # n: numero de observaciones. p: numero de variables predictoras    \n",
    "    n, p = X.shape\n",
    "    \n",
    "    # calcular los hat values de las observaciones\n",
    "    H = X @ np.linalg.inv(X.T @ X) @ X.T\n",
    "    hat_values = np.diag(H)\n",
    "    \n",
    "    # calcular residuos del modelo\n",
    "    residuos = y - y_pred\n",
    "    \n",
    "    # calcular la varianza residual estimada\n",
    "    varianza =  np.sum(residuos**2) / (n - p)\n",
    "    \n",
    "    # calculo de la distancia de cook por medio de la formula\n",
    "    cooks_d = (residuos**2 / (p * varianza)) * (hat_values / (1 - hat_values)**2)\n",
    "    \n",
    "    # retornar array con las distancias de cooks de cada observacion\n",
    "    return cooks_d"
   ]
  },
  {
   "cell_type": "markdown",
   "id": "d64fe5ab",
   "metadata": {},
   "source": [
    "Generemos los datos de ejemplo a los que se les va a calcular la distancia de cook."
   ]
  },
  {
   "cell_type": "code",
   "execution_count": 216,
   "id": "20b8ddcb",
   "metadata": {},
   "outputs": [],
   "source": [
    "# semilla \n",
    "np.random.seed(42)\n",
    "\n",
    "# 20 valores de la variable X\n",
    "X = np.random.rand(20, 1)\n",
    "\n",
    "# 20 valores de la variable y relacionados con X de forma lineal\n",
    "# se agrega ruido aleatorio normal\n",
    "y = 2*X[:, 0] + np.random.randn(20)"
   ]
  },
  {
   "cell_type": "markdown",
   "id": "1cabba32",
   "metadata": {},
   "source": [
    "Calculemos la distancia de cook para todas las observaciones con la funcion antes definida."
   ]
  },
  {
   "cell_type": "code",
   "execution_count": 217,
   "id": "a306238e",
   "metadata": {},
   "outputs": [
    {
     "data": {
      "text/plain": [
       "array([0.02139906, 0.1146324 , 0.01573758, 0.04572117, 0.18076846,\n",
       "       0.00085448, 0.00194765, 0.0998175 , 0.00157854, 0.01547689,\n",
       "       0.15519899, 0.14654433, 0.00176218, 0.00122277, 0.01444876,\n",
       "       0.25418375, 0.00135222, 0.0191031 , 0.03795174, 0.04646406])"
      ]
     },
     "execution_count": 217,
     "metadata": {},
     "output_type": "execute_result"
    }
   ],
   "source": [
    "# agregamos columna de unos a la matriz de caracteristicas\n",
    "X = sm.add_constant(X)\n",
    "\n",
    "# ajustamos el modelo de regresion lineal\n",
    "model = sm.OLS(y, X).fit()\n",
    "\n",
    "# obtenemos las predicciones del modelo\n",
    "y_pred = model.predict(X)\n",
    "\n",
    "# calculamos distancia de cook\n",
    "cooks = Dist_Cook(X, y, y_pred)\n",
    "\n",
    "cooks"
   ]
  },
  {
   "cell_type": "markdown",
   "id": "3175ed66",
   "metadata": {},
   "source": [
    "> El array nos muestra los valores de la distancia de Cook para cada observacion"
   ]
  },
  {
   "cell_type": "markdown",
   "id": "13a750a1",
   "metadata": {},
   "source": [
    "### **Visualizacion de las observaciones con su respectiva distancia de Cook**"
   ]
  },
  {
   "cell_type": "markdown",
   "id": "8a8bccbb",
   "metadata": {},
   "source": [
    "Ahora visualicemos las distancias de cooks de las observaciones"
   ]
  },
  {
   "cell_type": "code",
   "execution_count": 218,
   "id": "897ea15e",
   "metadata": {
    "scrolled": true
   },
   "outputs": [
    {
     "data": {
      "image/png": "[encoded data removed]",
      "text/plain": [
       "<Figure size 720x432 with 1 Axes>"
      ]
     },
     "metadata": {
      "needs_background": "light"
     },
     "output_type": "display_data"
    }
   ],
   "source": [
    "# Visualizar la distancia de Cook\n",
    "plt.figure(figsize=(10, 6))\n",
    "plt.stem(np.arange(len(cooks)), cooks, basefmt=\" \", use_line_collection=True)\n",
    "plt.axhline(y=1, color='r', linestyle='--')  # Línea de referencia en y=1\n",
    "plt.xlabel('Observación')\n",
    "plt.ylabel('Distancia de Cook')\n",
    "plt.title('Distancia de Cook para cada observación');"
   ]
  },
  {
   "cell_type": "markdown",
   "id": "e7327492",
   "metadata": {},
   "source": [
    "> De las 20 observaciones vemos algunas con una distancia de cook considerable. Ahora necesitamos un limite por encima del cual se consideran observaciones de gran influencia."
   ]
  },
  {
   "cell_type": "markdown",
   "id": "a751f546",
   "metadata": {},
   "source": [
    "### **Cómo determinar qué valores con distancias de Cook tienen una influencia muy alta sobre el modelo?**\n",
    "\n",
    "Una regla general es que una observacion tiene una gran influencia si la distancia de Cook es superior a:\n",
    "\n",
    "$$\\frac{4}{n-p-1}$$\n",
    "\n",
    "Donde:\n",
    "- n es el numero de observaciones.\n",
    "- p es el numero de variables predictoras\n",
    "\n",
    "Analicemos del ejemplo anterior, si existen observaciones con alta influencia para el modelo de regresion lineal"
   ]
  },
  {
   "cell_type": "code",
   "execution_count": 219,
   "id": "9218ce7f",
   "metadata": {
    "scrolled": true
   },
   "outputs": [
    {
     "name": "stdout",
     "output_type": "stream",
     "text": [
      "Observaciones influyentes (distancia de Cook > 0.24): [15]\n"
     ]
    }
   ],
   "source": [
    "# n numero de observaciones, p: numero de variables predictoras\n",
    "n, p = X.shape\n",
    "\n",
    "# calculo del limite \n",
    "lim = 4/(n-p-1)\n",
    "lim = round(lim, 2)\n",
    "\n",
    "influyentes = np.where(cooks > lim)[0]\n",
    "print(f\"Observaciones influyentes (distancia de Cook > {lim}): {influyentes}\")"
   ]
  },
  {
   "cell_type": "markdown",
   "id": "97caf516",
   "metadata": {},
   "source": [
    "> El resultado muestra, para este conjunto de datos que la observacion numero 15 posee una distancia de cook superior al limite, por tanto, se considera de gran influencia para el modelo."
   ]
  },
  {
   "cell_type": "markdown",
   "id": "0b425487",
   "metadata": {},
   "source": [
    "### **Obtener la Distancia de Cook con la libreria StatsModel**\n",
    "Por suerte, tenemos la libreria stastmodel de Python que nos arroja las distancias de cooks para todas las observaciones de forma directa, ahorrandonos algunos calculos y lineas de codigo.\n",
    "\n",
    "Tomemos como ejemplo el conjunto de datos del ejemplo anterior"
   ]
  },
  {
   "cell_type": "code",
   "execution_count": 220,
   "id": "eb735c80",
   "metadata": {},
   "outputs": [],
   "source": [
    "# semilla \n",
    "np.random.seed(42)\n",
    "\n",
    "# 20 valores de la variable X\n",
    "X = np.random.rand(20, 1)\n",
    "\n",
    "# 20 valores de la variable y relacionados con X de forma lineal\n",
    "# se agrega ruido aleatorio normal\n",
    "y = 2*X[:, 0] + np.random.randn(20)"
   ]
  },
  {
   "cell_type": "markdown",
   "id": "223285b6",
   "metadata": {},
   "source": [
    "Calculamos la distancia de cook con la libreria"
   ]
  },
  {
   "cell_type": "code",
   "execution_count": 221,
   "id": "42ee40bb",
   "metadata": {},
   "outputs": [
    {
     "data": {
      "text/plain": [
       "array([0.02139906, 0.1146324 , 0.01573758, 0.04572117, 0.18076846,\n",
       "       0.00085448, 0.00194765, 0.0998175 , 0.00157854, 0.01547689,\n",
       "       0.15519899, 0.14654433, 0.00176218, 0.00122277, 0.01444876,\n",
       "       0.25418375, 0.00135222, 0.0191031 , 0.03795174, 0.04646406])"
      ]
     },
     "execution_count": 221,
     "metadata": {},
     "output_type": "execute_result"
    }
   ],
   "source": [
    "# agregamos la columna de unos en la matriz de caracteristicas\n",
    "X = sm.add_constant(X)\n",
    "\n",
    "# ajustamos el modelo de regresion lineal a los datos\n",
    "model = sm.OLS(y,X).fit()\n",
    "\n",
    "# obtenemos un diagnostico de influencia de todas las observaciones\n",
    "influencia = model.get_influence()\n",
    "\n",
    "# calculamos las distancias de cook de las observaciones\n",
    "cook_d = influencia.cooks_distance[0]\n",
    "\n",
    "cook_d"
   ]
  },
  {
   "cell_type": "markdown",
   "id": "aba89b47",
   "metadata": {},
   "source": [
    "> Vemos que el calculo de esta forma arroja los mismo resultados que de forma manual, con la diferencia que se utiliza menos codigo y calculo\n",
    "\n",
    "Ahora, veamos la grafica de las observaciones con su respectiva distancia de cook"
   ]
  },
  {
   "cell_type": "code",
   "execution_count": 222,
   "id": "0d2c0e19",
   "metadata": {
    "scrolled": true
   },
   "outputs": [
    {
     "data": {
      "image/png": "[encoded data removed]",
      "text/plain": [
       "<Figure size 720x432 with 1 Axes>"
      ]
     },
     "metadata": {
      "needs_background": "light"
     },
     "output_type": "display_data"
    }
   ],
   "source": [
    "# Visualizar la distancia de Cook\n",
    "plt.figure(figsize=(10, 6))\n",
    "plt.stem(np.arange(len(cook_d)), cook_d, basefmt=\" \", use_line_collection=True)\n",
    "plt.axhline(y=1, color='r', linestyle='--')  # Línea de referencia en y=1\n",
    "plt.xlabel('Observación')\n",
    "plt.ylabel('Distancia de Cook')\n",
    "plt.title('Distancia de Cook para cada observación');"
   ]
  },
  {
   "cell_type": "code",
   "execution_count": null,
   "id": "a4566e44",
   "metadata": {},
   "outputs": [],
   "source": []
  },
  {
   "cell_type": "markdown",
   "id": "9eff74d4",
   "metadata": {},
   "source": [
    "## Diagrama de Influencia"
   ]
  },
  {
   "cell_type": "markdown",
   "id": "50179c88",
   "metadata": {},
   "source": [
    "Es una herramienta visual utilizada para identificar observaciones que tienen un gran impacto en el ajuste del modelo de regresion lineal. Combinan la informacion de los residuos estandarizados, los valores de apalancamiento (hat values) y la Distancia de Cook para visualizar qué tan influyentes son las observaciones individuales en el modelo.\n",
    "\n",
    "Veamos como crear este diagrama con la libreria statsmodel"
   ]
  },
  {
   "cell_type": "markdown",
   "id": "ae76b54a",
   "metadata": {},
   "source": [
    "### **Diagrama de influencia con StatsModel**\n",
    "Tomemos como ejemplo, los datos del ejemplo anterior"
   ]
  },
  {
   "cell_type": "code",
   "execution_count": 223,
   "id": "115a67de",
   "metadata": {},
   "outputs": [],
   "source": [
    "# semilla \n",
    "np.random.seed(42)\n",
    "\n",
    "# 20 valores de la variable X\n",
    "X = np.random.rand(20, 1)\n",
    "\n",
    "# 20 valores de la variable y relacionados con X de forma lineal\n",
    "# se agrega ruido aleatorio normal\n",
    "y = 2*X[:, 0] + np.random.randn(20)"
   ]
  },
  {
   "cell_type": "markdown",
   "id": "bfbb3f86",
   "metadata": {},
   "source": [
    "Ahora creamos el diagrama"
   ]
  },
  {
   "cell_type": "code",
   "execution_count": 225,
   "id": "b832fba5",
   "metadata": {
    "scrolled": true
   },
   "outputs": [
    {
     "data": {
      "image/png": "[encoded data removed]",
      "text/plain": [
       "<Figure size 864x576 with 1 Axes>"
      ]
     },
     "metadata": {
      "needs_background": "light"
     },
     "output_type": "display_data"
    }
   ],
   "source": [
    "# agregamos columna de unos en la matriz de caracteristicas que representa el intercepto\n",
    "X = sm.add_constant(X)\n",
    "\n",
    "# ajustamos el modelo de regresion a los datos\n",
    "model = sm.OLS(y, X).fit()\n",
    "\n",
    "# diagrama de influencia\n",
    "fig, ax = plt.subplots(figsize=(12, 8))\n",
    "sm.graphics.influence_plot(model, ax=ax, criterion=\"cooks\");"
   ]
  },
  {
   "cell_type": "markdown",
   "id": "436f25e0",
   "metadata": {},
   "source": [
    "Ahora interpretemos el grafico:\n",
    "\n",
    "- Observaciones con valores altos en *x* tienen un alto hat value y, por tanto, tienen el potencial de influir significativamente en el ajuste del modelo.\n",
    "\n",
    "- Observaciones con valores altos en *y* tienen residuos grandes, lo cual indica un mal ajuste del modelo para esas observaciones.\n",
    "\n",
    "- El tamaño del punto representa la distancia de Cook. Punto grandes indican una mayor influencia en los coeficientes del modelo."
   ]
  },
  {
   "cell_type": "code",
   "execution_count": null,
   "id": "a7e947be",
   "metadata": {},
   "outputs": [],
   "source": []
  },
  {
   "cell_type": "code",
   "execution_count": null,
   "id": "f4338ccb",
   "metadata": {},
   "outputs": [],
   "source": []
  }
 ],
 "metadata": {
  "kernelspec": {
   "display_name": "Python 3 (ipykernel)",
   "language": "python",
   "name": "python3"
  },
  "language_info": {
   "codemirror_mode": {
    "name": "ipython",
    "version": 3
   },
   "file_extension": ".py",
   "mimetype": "text/x-python",
   "name": "python",
   "nbconvert_exporter": "python",
   "pygments_lexer": "ipython3",
   "version": "3.9.12"
  }
 },
 "nbformat": 4,
 "nbformat_minor": 5
}
