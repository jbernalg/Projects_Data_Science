{
 "cells": [
  {
   "cell_type": "markdown",
   "id": "70c577cf",
   "metadata": {},
   "source": [
    "# Valores de gran influencia en la Regresión Lineal"
   ]
  },
  {
   "cell_type": "markdown",
   "id": "647e436e",
   "metadata": {},
   "source": [
    "Son valores que cambian considerablemente el ajuste de la Regresión Lineal. No están necesariamente asociados con residuos grandes. Detectarlos y omitirlos es el trabajo a realizar para mejorar las predicciones en un modelo de regresión lineal.\n",
    "\n",
    "Veamos un ejemplo para entenderlo mejor"
   ]
  },
  {
   "cell_type": "markdown",
   "id": "b11604bc",
   "metadata": {},
   "source": [
    "## Librerias a utilizar"
   ]
  },
  {
   "cell_type": "code",
   "execution_count": 2,
   "id": "ac442d5c",
   "metadata": {},
   "outputs": [],
   "source": [
    "# librerias\n",
    "%matplotlib inline\n",
    "# libreria para crear una regresion a partir de puntos dados\n",
    "from scipy.stats import linregress\n",
    "import numpy as np\n",
    "import matplotlib.pyplot as plt\n",
    "import pandas as pd\n",
    "import statsmodels.api as sm"
   ]
  },
  {
   "cell_type": "markdown",
   "id": "f28710c8",
   "metadata": {},
   "source": [
    "## Un breve ejemplo"
   ]
  },
  {
   "cell_type": "markdown",
   "id": "db4f1c3c",
   "metadata": {},
   "source": [
    "Consideremos el siguiente conjunto de datos creados aleatoriamente con una variable predictora *X* y la variable objetivo *y*"
   ]
  },
  {
   "cell_type": "code",
   "execution_count": 3,
   "id": "3635af77",
   "metadata": {},
   "outputs": [],
   "source": [
    "# creamos una semilla para la reproducibilidad del experimento\n",
    "np.random.seed(5)"
   ]
  },
  {
   "cell_type": "code",
   "execution_count": 4,
   "id": "e3187ab0",
   "metadata": {},
   "outputs": [],
   "source": [
    "# creamos 25 valores de X\n",
    "x = np.random.normal(size=25)\n",
    "\n",
    "# creamos 25 valores de Y relacionado de manera lineal con X\n",
    "y = -(x/5) + np.random.normal(size=25)\n",
    "\n",
    "# asignamos un outiler a los datos\n",
    "x[0] = 8\n",
    "y[0] = 8"
   ]
  },
  {
   "cell_type": "markdown",
   "id": "2b0b47f1",
   "metadata": {},
   "source": [
    "Para graficar los puntos, creamos una función que calcula las coordenadas de una línea recta basada en la pendiente y el intercepto."
   ]
  },
  {
   "cell_type": "code",
   "execution_count": 5,
   "id": "da6dc67f",
   "metadata": {},
   "outputs": [],
   "source": [
    "def coord_linea(pendiente, intercepto, ax):\n",
    "    '''\n",
    "    Calcula las coordenadas de una linea basado en la pendiente y el intercepto\n",
    "    '''\n",
    "    # obtener los limites del eje x\n",
    "    x_vals = np.array(ax.get_xlim())\n",
    "    \n",
    "    # Devolver los valores de x e y\n",
    "    return x_vals, intercepto + pendiente*x_vals"
   ]
  },
  {
   "cell_type": "markdown",
   "id": "a046c9c4",
   "metadata": {},
   "source": [
    "Ahora, graficamos todos los puntos y su respectiva línea de regresión."
   ]
  },
  {
   "cell_type": "code",
   "execution_count": 6,
   "id": "12fdaf94",
   "metadata": {},
   "outputs": [
    {
     "data": {
      "image/png": "[encoded data removed]",
      "text/plain": [
       "<Figure size 504x360 with 1 Axes>"
      ]
     },
     "metadata": {
      "needs_background": "light"
     },
     "output_type": "display_data"
    }
   ],
   "source": [
    "# tamano de la grafica \n",
    "fig, ax = plt.subplots(figsize = (7,5))\n",
    "# grafico de dispersion\n",
    "ax.scatter(x,y)\n",
    "# calculo de la reegresion en los puntos\n",
    "pendiente, intercepto, _, _, _ = linregress(x, y)\n",
    "# grafica de la linea de regresion\n",
    "ax.plot(*coord_linea(pendiente, intercepto, ax))\n",
    "plt.tight_layout();"
   ]
  },
  {
   "cell_type": "markdown",
   "id": "ae7f06e0",
   "metadata": {},
   "source": [
    "Notamos que los datos se agrupan en cierta zona a excepción del punto (8,8) que se encuentra en la esquina superior derecha. Este punto hace que la línea de regresión tenga pendiente positiva.\n",
    "\n",
    "Ahora, vamos a omitir el dicho punto y trazar nuevamente la respectiva línea de regresión."
   ]
  },
  {
   "cell_type": "code",
   "execution_count": 7,
   "id": "b7fb6100",
   "metadata": {},
   "outputs": [
    {
     "data": {
      "image/png": "[encoded data removed]",
      "text/plain": [
       "<Figure size 504x360 with 1 Axes>"
      ]
     },
     "metadata": {
      "needs_background": "light"
     },
     "output_type": "display_data"
    }
   ],
   "source": [
    "# tamano de la grafica \n",
    "fig, ax = plt.subplots(figsize = (7,5))\n",
    "# grafico de dispersion\n",
    "ax.scatter(x,y)\n",
    "# calculo de la regresion en los puntos sin considerar el outlier\n",
    "pendiente2, intercepto2, _, _, _ = linregress(x[1:], y[1:])\n",
    "#grafica de la linea de regresion\n",
    "ax.plot(*coord_linea(pendiente2, intercepto2, ax), '--', c='red')\n",
    "plt.tight_layout();"
   ]
  },
  {
   "cell_type": "markdown",
   "id": "b1370d11",
   "metadata": {},
   "source": [
    "En este caso, vemos que la regresión se ajusta mejor a la mayoría de los datos teniendo una pendiente negativa. De esta forma vemos que el outlier, en este caso, tiene una gran influencia sobre la regresión.\n",
    "\n",
    "Existen diferentes técnicas para encontrar los puntos de gran influencia. En lo que sigue te presento los 3 más importantes implementados de manera manual y tambien utilizando Python."
   ]
  },
  {
   "cell_type": "code",
   "execution_count": null,
   "id": "9752237e",
   "metadata": {},
   "outputs": [],
   "source": []
  },
  {
   "cell_type": "markdown",
   "id": "30aabe62",
   "metadata": {},
   "source": [
    "## **1.- Apalancamiento (Hat Values)**"
   ]
  },
  {
   "cell_type": "markdown",
   "id": "70749a4d",
   "metadata": {},
   "source": [
    "Mide la distancia de un punto de datos respecto al centro del espacio de variables predictoras. Para obtenerlos, utilizamos los *Hat Value* que son los elementos diagonales de la *Matriz de hat* **(H)**. La *Matriz de Hat* se calcula mediante la siguiente fórmula:\n",
    "\n",
    "$$H = X(X^{T}X)^{-1}X^{T}$$\n",
    "\n",
    "donde:\n",
    "\n",
    "- $X$ es la matriz de características.\n",
    "- $X^T$ es la traspuesta de $X$.\n",
    "- $(X^{T}X)^{-1}$ es la inversa de $X^{T}X$\n",
    "\n",
    "Los puntos de datos con alto apalancamiento tienen un mayor potencial para influir en los coeficientes de regresión debido a que están alejados de la media de los predictores. "
   ]
  },
  {
   "cell_type": "markdown",
   "id": "1cc79c32",
   "metadata": {},
   "source": [
    "Para entender la *Matriz de Hat* debemos conocer la matriz de características: matriz que contiene los valores de las variables predictoras para todas las observaciones en un conjunto de datos y se denota por $X$. Cada fila representa una observación y cada columna una variable predictora.\n",
    "\n",
    "Si hay $n$ observaciones y $p$ variables predictoras, la matriz de características tendrá un tamaño de $n(p+1)$. Es decir, la matriz contiene una columna extra que será la primera columna en $X$ y contiene los parámetros para el término de intercepto."
   ]
  },
  {
   "cell_type": "markdown",
   "id": "b651212e",
   "metadata": {},
   "source": [
    "### *Obtener los Hat Values de forma manual*\n",
    "Vamos a calcular los *Hat values* para un conjunto de datos de 10 observaciones, dos variables predictoras y la variable objetivo de forma manual."
   ]
  },
  {
   "cell_type": "markdown",
   "id": "19f41eac",
   "metadata": {},
   "source": [
    "**Generamos los datos de ejemplo**"
   ]
  },
  {
   "cell_type": "code",
   "execution_count": 8,
   "id": "6b280df5",
   "metadata": {},
   "outputs": [
    {
     "data": {
      "text/html": [
       "<div>\n",
       "<style scoped>\n",
       "    .dataframe tbody tr th:only-of-type {\n",
       "        vertical-align: middle;\n",
       "    }\n",
       "\n",
       "    .dataframe tbody tr th {\n",
       "        vertical-align: top;\n",
       "    }\n",
       "\n",
       "    .dataframe thead th {\n",
       "        text-align: right;\n",
       "    }\n",
       "</style>\n",
       "<table border=\"1\" class=\"dataframe\">\n",
       "  <thead>\n",
       "    <tr style=\"text-align: right;\">\n",
       "      <th></th>\n",
       "      <th>0</th>\n",
       "      <th>1</th>\n",
       "    </tr>\n",
       "  </thead>\n",
       "  <tbody>\n",
       "    <tr>\n",
       "      <th>2.012218</th>\n",
       "      <td>0.374540</td>\n",
       "      <td>0.950714</td>\n",
       "    </tr>\n",
       "    <tr>\n",
       "      <th>3.707546</th>\n",
       "      <td>0.731994</td>\n",
       "      <td>0.598658</td>\n",
       "    </tr>\n",
       "    <tr>\n",
       "      <th>-0.127979</th>\n",
       "      <td>0.156019</td>\n",
       "      <td>0.155995</td>\n",
       "    </tr>\n",
       "    <tr>\n",
       "      <th>0.494299</th>\n",
       "      <td>0.058084</td>\n",
       "      <td>0.866176</td>\n",
       "    </tr>\n",
       "    <tr>\n",
       "      <th>4.685139</th>\n",
       "      <td>0.601115</td>\n",
       "      <td>0.708073</td>\n",
       "    </tr>\n",
       "    <tr>\n",
       "      <th>1.775797</th>\n",
       "      <td>0.020584</td>\n",
       "      <td>0.969910</td>\n",
       "    </tr>\n",
       "    <tr>\n",
       "      <th>2.989534</th>\n",
       "      <td>0.832443</td>\n",
       "      <td>0.212339</td>\n",
       "    </tr>\n",
       "    <tr>\n",
       "      <th>-0.512464</th>\n",
       "      <td>0.181825</td>\n",
       "      <td>0.183405</td>\n",
       "    </tr>\n",
       "    <tr>\n",
       "      <th>1.417857</th>\n",
       "      <td>0.304242</td>\n",
       "      <td>0.524756</td>\n",
       "    </tr>\n",
       "    <tr>\n",
       "      <th>1.989216</th>\n",
       "      <td>0.431945</td>\n",
       "      <td>0.291229</td>\n",
       "    </tr>\n",
       "  </tbody>\n",
       "</table>\n",
       "</div>"
      ],
      "text/plain": [
       "                  0         1\n",
       " 2.012218  0.374540  0.950714\n",
       " 3.707546  0.731994  0.598658\n",
       "-0.127979  0.156019  0.155995\n",
       " 0.494299  0.058084  0.866176\n",
       " 4.685139  0.601115  0.708073\n",
       " 1.775797  0.020584  0.969910\n",
       " 2.989534  0.832443  0.212339\n",
       "-0.512464  0.181825  0.183405\n",
       " 1.417857  0.304242  0.524756\n",
       " 1.989216  0.431945  0.291229"
      ]
     },
     "execution_count": 8,
     "metadata": {},
     "output_type": "execute_result"
    }
   ],
   "source": [
    "# semilla\n",
    "np.random.seed(42)\n",
    "\n",
    "# numero de observaciones\n",
    "n = 10\n",
    "\n",
    "# generamos los valores aleatorios entre 0 y 1 de dos variables predictoras\n",
    "X = np.random.rand(n, 2)\n",
    "\n",
    "# Generamos los valores de la variable objetivo utilizando una combinacion lineal de las dos variables predictoras\n",
    "# agregamos ruido aleatorio que sigue una D. normal\n",
    "y = 3*X[:, 0] + 2*X[:, 1] + np.random.randn(n)\n",
    "\n",
    "# visualizamos los datos en un DataFrame\n",
    "data = pd.DataFrame(X,y)\n",
    "data"
   ]
  },
  {
   "cell_type": "markdown",
   "id": "12672b2f",
   "metadata": {},
   "source": [
    "**Calculamos la matriz de Hat para el conjunto de datos dado**"
   ]
  },
  {
   "cell_type": "code",
   "execution_count": 9,
   "id": "ffea265c",
   "metadata": {},
   "outputs": [
    {
     "data": {
      "text/plain": [
       "array([[ 0.28855531,  0.17628608, -0.11160712,  0.20403219,  0.20834643,\n",
       "         0.24681763,  0.01133721, -0.09519126,  0.08077469, -0.00935115],\n",
       "       [ 0.17628608,  0.31479274, -0.09138118, -0.01812641,  0.26054845,\n",
       "        -0.02055277,  0.30164213, -0.0718099 ,  0.05932126,  0.08927961],\n",
       "       [-0.11160712, -0.09138118,  0.39829974,  0.07538201, -0.0887087 ,\n",
       "         0.03871541,  0.06291945,  0.3724417 ,  0.14049524,  0.20344346],\n",
       "       [ 0.20403219, -0.01812641,  0.07538201,  0.29695829,  0.05811202,\n",
       "         0.33775649, -0.15581051,  0.07317641,  0.11805162,  0.01046792],\n",
       "       [ 0.20834643,  0.26054845, -0.0887087 ,  0.05811202,  0.23631874,\n",
       "         0.07017311,  0.1997692 , -0.07107127,  0.06807559,  0.05843643],\n",
       "       [ 0.24681763, -0.02055277,  0.03871541,  0.33775649,  0.07017311,\n",
       "         0.39038106, -0.20141567,  0.03884733,  0.11721958, -0.01794216],\n",
       "       [ 0.01133721,  0.30164213,  0.06291945, -0.15581051,  0.1997692 ,\n",
       "        -0.20141567,  0.44840042,  0.07189694,  0.06655459,  0.19470624],\n",
       "       [-0.09519126, -0.0718099 ,  0.3724417 ,  0.07317641, -0.07107127,\n",
       "         0.03884733,  0.07189694,  0.34892176,  0.13650864,  0.19627966],\n",
       "       [ 0.08077469,  0.05932126,  0.14049524,  0.11805162,  0.06807559,\n",
       "         0.11721958,  0.06655459,  0.13650864,  0.10784536,  0.10515343],\n",
       "       [-0.00935115,  0.08927961,  0.20344346,  0.01046792,  0.05843643,\n",
       "        -0.01794216,  0.19470624,  0.19627966,  0.10515343,  0.16952657]])"
      ]
     },
     "execution_count": 9,
     "metadata": {},
     "output_type": "execute_result"
    }
   ],
   "source": [
    "# agregamos una columna de unos a la matriz de caracteristicas que representen el termino intercepto\n",
    "X = np.hstack((np.ones((n,1)), X))\n",
    "\n",
    "# calculamos el termino X^T * X\n",
    "X_traspuesta_X = np.dot(X.T, X)\n",
    "\n",
    "# calculamos la inversa de X^T * X\n",
    "X_traspuesta_X_inv = np.linalg.inv(X_traspuesta_X)\n",
    "\n",
    "# calculamos la matriz de hat mediante la formula\n",
    "H = np.dot(np.dot(X, X_traspuesta_X_inv), X.T)\n",
    "\n",
    "# mostrar valores de H\n",
    "H"
   ]
  },
  {
   "cell_type": "markdown",
   "id": "252367d5",
   "metadata": {},
   "source": [
    "**Obtenemos los hat values de la matriz H**"
   ]
  },
  {
   "cell_type": "code",
   "execution_count": 10,
   "id": "35266629",
   "metadata": {},
   "outputs": [
    {
     "data": {
      "text/plain": [
       "array([0.28855531, 0.31479274, 0.39829974, 0.29695829, 0.23631874,\n",
       "       0.39038106, 0.44840042, 0.34892176, 0.10784536, 0.16952657])"
      ]
     },
     "execution_count": 10,
     "metadata": {},
     "output_type": "execute_result"
    }
   ],
   "source": [
    "# los hat values son los valores de la diagonal de la matriz hat\n",
    "hat_values = np.diag(H)\n",
    "hat_values"
   ]
  },
  {
   "cell_type": "markdown",
   "id": "0eb98013",
   "metadata": {},
   "source": [
    "> El resultado es un array con los hat values para cada una de las 10 observaciones."
   ]
  },
  {
   "cell_type": "markdown",
   "id": "153a0afa",
   "metadata": {},
   "source": [
    "### *Obtener los Hat Values con Python*\n",
    "Vamos a obtener los *hat values* para los datos del ejemplo anterior utilizando la librería StatsModels de Python. Para ello, se requiere que el modelo de regresión esté entrenado previamente. Veamos el procedimiento:"
   ]
  },
  {
   "cell_type": "markdown",
   "id": "430003b6",
   "metadata": {},
   "source": [
    "**Generamos los datos de ejemplo**"
   ]
  },
  {
   "cell_type": "code",
   "execution_count": 11,
   "id": "1b0e9473",
   "metadata": {},
   "outputs": [],
   "source": [
    "# semilla\n",
    "np.random.seed(42)\n",
    "\n",
    "# numero de observaciones\n",
    "n = 10\n",
    "\n",
    "# generamos los valores aleatorios entre 0 y 1 de dos variables predictoras\n",
    "X = np.random.rand(n, 2)\n",
    "\n",
    "# Generamos los valores de la variable objetivo utilizando una combinacion lineal de las dos variables predictoras\n",
    "# agregamos ruido aleatorio que sigue una D. normal\n",
    "y = 3*X[:, 0] + 2*X[:, 1] + np.random.randn(n)"
   ]
  },
  {
   "cell_type": "markdown",
   "id": "08f6d0be",
   "metadata": {},
   "source": [
    "**Obtenemos los hat values**"
   ]
  },
  {
   "cell_type": "code",
   "execution_count": 12,
   "id": "a37112bc",
   "metadata": {},
   "outputs": [
    {
     "data": {
      "text/plain": [
       "array([0.28855531, 0.31479274, 0.39829974, 0.29695829, 0.23631874,\n",
       "       0.39038106, 0.44840042, 0.34892176, 0.10784536, 0.16952657])"
      ]
     },
     "execution_count": 12,
     "metadata": {},
     "output_type": "execute_result"
    }
   ],
   "source": [
    "# agregamos una columna de unos a la matriz de caracteristicas para incluir el temrino de intercepto\n",
    "X = sm.add_constant(X)\n",
    "\n",
    "# ajustamos los datos a un modelo de regresion lineal\n",
    "model = sm.OLS(y, X).fit()\n",
    "\n",
    "# obtenemos los hat values para cada observacion\n",
    "influence = model.get_influence()\n",
    "hat_values = influence.hat_matrix_diag\n",
    "hat_values"
   ]
  },
  {
   "cell_type": "markdown",
   "id": "0cd6a77e",
   "metadata": {},
   "source": [
    "> Al igual que en el caso anterior, obtenemos los hat values para cada observación pero esta vez con menos pasos y menos líneas de código."
   ]
  },
  {
   "cell_type": "markdown",
   "id": "f013804c",
   "metadata": {},
   "source": [
    "### *Visualización de los Hat Values*\n",
    "Una vez obtenido los hat values, podemos graficarlo para determinar, de manera más fácil, aquellas observaciones con alto apalancamiento."
   ]
  },
  {
   "cell_type": "code",
   "execution_count": 13,
   "id": "1679306f",
   "metadata": {},
   "outputs": [
    {
     "data": {
      "image/png": "[encoded data removed]",
      "text/plain": [
       "<Figure size 720x432 with 1 Axes>"
      ]
     },
     "metadata": {
      "needs_background": "light"
     },
     "output_type": "display_data"
    }
   ],
   "source": [
    "# tamano del grafico\n",
    "plt.figure(figsize=(10, 6))\n",
    "# grafico de barra\n",
    "plt.bar(range(1, 11), hat_values, color='blue', alpha=0.7)\n",
    "plt.xlabel('Observación')\n",
    "plt.ylabel('Hat Value')\n",
    "plt.title('Hat Values de cada observacion')\n",
    "plt.xticks(range(1, 11));  # Asegurar que las etiquetas del eje x muestren los índices de las observaciones"
   ]
  },
  {
   "cell_type": "markdown",
   "id": "fbb43c79",
   "metadata": {},
   "source": [
    "> La gráfica indica que las observaciones 3, 6 y 7 son puntos con alto apalancamiento para el ajuste del modelo."
   ]
  },
  {
   "cell_type": "code",
   "execution_count": null,
   "id": "5fa0f649",
   "metadata": {},
   "outputs": [],
   "source": []
  },
  {
   "cell_type": "markdown",
   "id": "b8aa5faf",
   "metadata": {},
   "source": [
    "## **2.- Distancia de Cook**"
   ]
  },
  {
   "cell_type": "markdown",
   "id": "8d6676d4",
   "metadata": {},
   "source": [
    "Es una métrica útil para identificar observaciones influyentes en el ajuste del modelo que combina el apalancamiento y el tamaño del residuo de cada observación. Recordemos que el residuo es la distancia entre un valor real y la línea de regresión. Esta métrica analiza el cambio de los coeficientes de la regresión al omitir una observación específica. La distancia de Cook para la i-ésima observación se define como:\n",
    "\n",
    "$$D_{i} = \\frac{\\sum_{j=1}^{N}(y_{j} - y_{j(i)})}{p\\cdot\\widehat{\\sigma}^2} \\cdot \\frac{h_{i}}{(1-h_i)^2}$$\n",
    "\n",
    "Donde:\n",
    "- $y_j$ es el valor predicho para la j-ésima observación utilizando el modelo.\n",
    "- $y_{j(i)}$ es el valor predicho para la j-ésima observación utilizando el modelo sin la i-ésima obervación.\n",
    "- $p$ es el número de variables predictoras en el modelo incluido el intercepto.\n",
    "- $\\widehat{\\sigma}^2$ es la varianza residual estimada del modelo.\n",
    "- $h_i$  es el hat value para la i-ésima obervación.\n",
    "\n",
    "Es importante destacar que para calcular la distancia de Cook se requiere tener el modelo de regresión ya entrenado para así obtener la varianza residual y los residuos de cada observación, valores requeridos por la fórmula. Veamos el procedimiento"
   ]
  },
  {
   "cell_type": "markdown",
   "id": "e8b76ad5",
   "metadata": {},
   "source": [
    "### *Obtener la Distancia de Cook de forma manual*\n",
    "Vamos a trabajar sobre un conjunto de datos generados aleatoriamente con una variable predictora $X$ y una variable objetivo $y$. Veamos cómo calcular la distancia de Cook de todas las observaciones mediante una función personalizada."
   ]
  },
  {
   "cell_type": "code",
   "execution_count": 14,
   "id": "5152d974",
   "metadata": {},
   "outputs": [],
   "source": [
    "# funcion que calcula la distancia de cook de todas las observaciones al mismo tiempo\n",
    "def Dist_Cook(X, y, y_pred):\n",
    "    '''\n",
    "    X: matriz de caracteristicas\n",
    "    y: variable objetivo\n",
    "    y_pred: predicciones del modelo de regresion lineal\n",
    "    '''\n",
    "    \n",
    "    # n: numero de observaciones. p: numero de variables predictoras    \n",
    "    n, p = X.shape\n",
    "    \n",
    "    # calcular los hat values de las observaciones\n",
    "    H = X @ np.linalg.inv(X.T @ X) @ X.T\n",
    "    hat_values = np.diag(H)\n",
    "    \n",
    "    # calcular residuos del modelo\n",
    "    residuos = y - y_pred\n",
    "    \n",
    "    # calcular la varianza residual estimada\n",
    "    varianza =  np.sum(residuos**2) / (n - p)\n",
    "    \n",
    "    # calcular la distancia de cook por medio de la formula\n",
    "    cooks_d = (residuos**2 / (p * varianza)) * (hat_values / (1 - hat_values)**2)\n",
    "    \n",
    "    # retornar array con las distancias de cooks de cada observacion\n",
    "    return cooks_d"
   ]
  },
  {
   "cell_type": "markdown",
   "id": "8f2dc5ac",
   "metadata": {},
   "source": [
    "**Una vez creada la función, generamos los datos de ejemplo.**"
   ]
  },
  {
   "cell_type": "code",
   "execution_count": 15,
   "id": "92bb167d",
   "metadata": {},
   "outputs": [],
   "source": [
    "# semilla \n",
    "np.random.seed(42)\n",
    "\n",
    "# 20 valores de la variable X\n",
    "X = np.random.rand(20, 1)\n",
    "\n",
    "# 20 valores de la variable y relacionados con X de forma lineal\n",
    "# se agrega ruido aleatorio normal\n",
    "y = 2*X[:, 0] + np.random.randn(20)"
   ]
  },
  {
   "cell_type": "markdown",
   "id": "6ad244a4",
   "metadata": {},
   "source": [
    "**Calculamos la distancia de cook para todas las observaciones con la función antes definida.**"
   ]
  },
  {
   "cell_type": "code",
   "execution_count": 16,
   "id": "1a43445d",
   "metadata": {},
   "outputs": [
    {
     "data": {
      "text/plain": [
       "array([0.02139906, 0.1146324 , 0.01573758, 0.04572117, 0.18076846,\n",
       "       0.00085448, 0.00194765, 0.0998175 , 0.00157854, 0.01547689,\n",
       "       0.15519899, 0.14654433, 0.00176218, 0.00122277, 0.01444876,\n",
       "       0.25418375, 0.00135222, 0.0191031 , 0.03795174, 0.04646406])"
      ]
     },
     "execution_count": 16,
     "metadata": {},
     "output_type": "execute_result"
    }
   ],
   "source": [
    "# agregamos columna de unos a la matriz de caracteristicas\n",
    "X = sm.add_constant(X)\n",
    "\n",
    "# ajustamos el modelo de regresion lineal\n",
    "model = sm.OLS(y, X).fit()\n",
    "\n",
    "# obtenemos las predicciones del modelo\n",
    "y_pred = model.predict(X)\n",
    "\n",
    "# calculamos distancia de cook\n",
    "cooks = Dist_Cook(X, y, y_pred)\n",
    "\n",
    "cooks"
   ]
  },
  {
   "cell_type": "markdown",
   "id": "33bc3ada",
   "metadata": {},
   "source": [
    "> El array nos muestra los valores de la distancia de Cook para cada observacion"
   ]
  },
  {
   "cell_type": "markdown",
   "id": "2132d208",
   "metadata": {},
   "source": [
    "### **Visualizacion de las observaciones con su respectiva distancia de Cook**"
   ]
  },
  {
   "cell_type": "markdown",
   "id": "d0d7318d",
   "metadata": {},
   "source": [
    "Ahora visualicemos las distancias de cooks de las observaciones"
   ]
  },
  {
   "cell_type": "code",
   "execution_count": 17,
   "id": "e3579d71",
   "metadata": {
    "scrolled": true
   },
   "outputs": [
    {
     "data": {
      "image/png": "[encoded data removed]",
      "text/plain": [
       "<Figure size 720x432 with 1 Axes>"
      ]
     },
     "metadata": {
      "needs_background": "light"
     },
     "output_type": "display_data"
    }
   ],
   "source": [
    "# Visualizar la distancia de Cook\n",
    "plt.figure(figsize=(10, 6))\n",
    "plt.stem(np.arange(len(cooks)), cooks, basefmt=\" \", use_line_collection=True)\n",
    "plt.axhline(y=1, color='r', linestyle='--')  # Línea de referencia en y=1\n",
    "plt.xlabel('Observación')\n",
    "plt.ylabel('Distancia de Cook')\n",
    "plt.title('Distancia de Cook para cada observación');"
   ]
  },
  {
   "cell_type": "markdown",
   "id": "2813b612",
   "metadata": {},
   "source": [
    "> De las 20 observaciones vemos algunas con una distancia de cook considerable. Ahora necesitamos un limite por encima del cual se consideran observaciones de gran influencia."
   ]
  },
  {
   "cell_type": "markdown",
   "id": "d5ee0521",
   "metadata": {},
   "source": [
    "### **Cómo determinar qué valores con distancias de Cook tienen una influencia muy alta sobre el modelo?**\n",
    "\n",
    "Una regla general es que una observacion tiene una gran influencia si la distancia de Cook es superior a:\n",
    "\n",
    "$$\\frac{4}{n-p-1}$$\n",
    "\n",
    "Donde:\n",
    "- n es el numero de observaciones.\n",
    "- p es el numero de variables predictoras\n",
    "\n",
    "Analicemos del ejemplo anterior, si existen observaciones con alta influencia para el modelo de regresion lineal"
   ]
  },
  {
   "cell_type": "code",
   "execution_count": 18,
   "id": "3a7de28a",
   "metadata": {
    "scrolled": true
   },
   "outputs": [
    {
     "name": "stdout",
     "output_type": "stream",
     "text": [
      "Observaciones influyentes (distancia de Cook > 0.24): [15]\n"
     ]
    }
   ],
   "source": [
    "# n numero de observaciones, p: numero de variables predictoras\n",
    "n, p = X.shape\n",
    "\n",
    "# calculo del limite \n",
    "lim = 4/(n-p-1)\n",
    "lim = round(lim, 2)\n",
    "\n",
    "influyentes = np.where(cooks > lim)[0]\n",
    "print(f\"Observaciones influyentes (distancia de Cook > {lim}): {influyentes}\")"
   ]
  },
  {
   "cell_type": "markdown",
   "id": "0cd356c1",
   "metadata": {},
   "source": [
    "> El resultado muestra, para este conjunto de datos que la observacion numero 15 posee una distancia de cook superior al limite, por tanto, se considera de gran influencia para el modelo."
   ]
  },
  {
   "cell_type": "markdown",
   "id": "1b54f60d",
   "metadata": {},
   "source": [
    "### **Obtener la Distancia de Cook con la libreria StatsModel**\n",
    "Por suerte, tenemos la libreria stastmodel de Python que nos arroja las distancias de cooks para todas las observaciones de forma directa, ahorrandonos algunos calculos y lineas de codigo.\n",
    "\n",
    "Tomemos como ejemplo el conjunto de datos del ejemplo anterior"
   ]
  },
  {
   "cell_type": "code",
   "execution_count": 19,
   "id": "499ad306",
   "metadata": {},
   "outputs": [],
   "source": [
    "# semilla \n",
    "np.random.seed(42)\n",
    "\n",
    "# 20 valores de la variable X\n",
    "X = np.random.rand(20, 1)\n",
    "\n",
    "# 20 valores de la variable y relacionados con X de forma lineal\n",
    "# se agrega ruido aleatorio normal\n",
    "y = 2*X[:, 0] + np.random.randn(20)"
   ]
  },
  {
   "cell_type": "markdown",
   "id": "2d8cd457",
   "metadata": {},
   "source": [
    "Calculamos la distancia de cook con la libreria"
   ]
  },
  {
   "cell_type": "code",
   "execution_count": 20,
   "id": "1a0d422b",
   "metadata": {},
   "outputs": [
    {
     "data": {
      "text/plain": [
       "array([0.02139906, 0.1146324 , 0.01573758, 0.04572117, 0.18076846,\n",
       "       0.00085448, 0.00194765, 0.0998175 , 0.00157854, 0.01547689,\n",
       "       0.15519899, 0.14654433, 0.00176218, 0.00122277, 0.01444876,\n",
       "       0.25418375, 0.00135222, 0.0191031 , 0.03795174, 0.04646406])"
      ]
     },
     "execution_count": 20,
     "metadata": {},
     "output_type": "execute_result"
    }
   ],
   "source": [
    "# agregamos la columna de unos en la matriz de caracteristicas\n",
    "X = sm.add_constant(X)\n",
    "\n",
    "# ajustamos el modelo de regresion lineal a los datos\n",
    "model = sm.OLS(y,X).fit()\n",
    "\n",
    "# obtenemos un diagnostico de influencia de todas las observaciones\n",
    "influencia = model.get_influence()\n",
    "\n",
    "# calculamos las distancias de cook de las observaciones\n",
    "cook_d = influencia.cooks_distance[0]\n",
    "\n",
    "cook_d"
   ]
  },
  {
   "cell_type": "markdown",
   "id": "d66f6d65",
   "metadata": {},
   "source": [
    "> Vemos que el calculo de esta forma arroja los mismo resultados que de forma manual, con la diferencia que se utiliza menos codigo y calculo\n",
    "\n",
    "Ahora, veamos la grafica de las observaciones con su respectiva distancia de cook"
   ]
  },
  {
   "cell_type": "code",
   "execution_count": 21,
   "id": "5f34b85a",
   "metadata": {
    "scrolled": true
   },
   "outputs": [
    {
     "data": {
      "image/png": "[encoded data removed]",
      "text/plain": [
       "<Figure size 720x432 with 1 Axes>"
      ]
     },
     "metadata": {
      "needs_background": "light"
     },
     "output_type": "display_data"
    }
   ],
   "source": [
    "# Visualizar la distancia de Cook\n",
    "plt.figure(figsize=(10, 6))\n",
    "plt.stem(np.arange(len(cook_d)), cook_d, basefmt=\" \", use_line_collection=True)\n",
    "plt.axhline(y=1, color='r', linestyle='--')  # Línea de referencia en y=1\n",
    "plt.xlabel('Observación')\n",
    "plt.ylabel('Distancia de Cook')\n",
    "plt.title('Distancia de Cook para cada observación');"
   ]
  },
  {
   "cell_type": "code",
   "execution_count": null,
   "id": "6ac1936f",
   "metadata": {},
   "outputs": [],
   "source": []
  },
  {
   "cell_type": "markdown",
   "id": "cee54c3e",
   "metadata": {},
   "source": [
    "## Diagrama de Influencia"
   ]
  },
  {
   "cell_type": "markdown",
   "id": "439d54a2",
   "metadata": {},
   "source": [
    "Es una herramienta visual utilizada para identificar observaciones que tienen un gran impacto en el ajuste del modelo de regresion lineal. Combinan la informacion de los residuos estandarizados, los valores de apalancamiento (hat values) y la Distancia de Cook para visualizar qué tan influyentes son las observaciones individuales en el modelo.\n",
    "\n",
    "Veamos como crear este diagrama con la libreria statsmodel"
   ]
  },
  {
   "cell_type": "markdown",
   "id": "9ae39544",
   "metadata": {},
   "source": [
    "### **Diagrama de influencia con StatsModel**\n",
    "Tomemos como ejemplo, los datos del ejemplo anterior"
   ]
  },
  {
   "cell_type": "code",
   "execution_count": 22,
   "id": "1930dfb6",
   "metadata": {},
   "outputs": [],
   "source": [
    "# semilla \n",
    "np.random.seed(42)\n",
    "\n",
    "# 20 valores de la variable X\n",
    "X = np.random.rand(20, 1)\n",
    "\n",
    "# 20 valores de la variable y relacionados con X de forma lineal\n",
    "# se agrega ruido aleatorio normal\n",
    "y = 2*X[:, 0] + np.random.randn(20)"
   ]
  },
  {
   "cell_type": "markdown",
   "id": "142a6e84",
   "metadata": {},
   "source": [
    "Ahora creamos el diagrama"
   ]
  },
  {
   "cell_type": "code",
   "execution_count": 23,
   "id": "b0601635",
   "metadata": {
    "scrolled": true
   },
   "outputs": [
    {
     "data": {
      "image/png": "[encoded data removed]",
      "text/plain": [
       "<Figure size 864x576 with 1 Axes>"
      ]
     },
     "metadata": {
      "needs_background": "light"
     },
     "output_type": "display_data"
    }
   ],
   "source": [
    "# agregamos columna de unos en la matriz de caracteristicas que representa el intercepto\n",
    "X = sm.add_constant(X)\n",
    "\n",
    "# ajustamos el modelo de regresion a los datos\n",
    "model = sm.OLS(y, X).fit()\n",
    "\n",
    "# diagrama de influencia\n",
    "fig, ax = plt.subplots(figsize=(12, 8))\n",
    "influence_plot = sm.graphics.influence_plot(model, ax=ax, criterion=\"cooks\", alpha=0.05)\n",
    "\n",
    "# Obtener los valores de apalancamiento y residuos estandarizados\n",
    "influence = model.get_influence()\n",
    "leverage = influence.hat_matrix_diag\n",
    "standardized_residuals = influence.resid_studentized_internal\n",
    "\n",
    "# Añadir etiquetas de número de observación\n",
    "for i in range(len(X)):\n",
    "    ax.text(leverage[i], standardized_residuals[i], str(i), fontsize=14, ha='right')\n",
    "\n",
    "plt.show()\n",
    "\n"
   ]
  },
  {
   "cell_type": "markdown",
   "id": "49971374",
   "metadata": {},
   "source": [
    "Ahora interpretemos el grafico:\n",
    "\n",
    "- Observaciones con valores altos en *x* tienen un alto hat value y, por tanto, tienen el potencial de influir significativamente en el ajuste del modelo.\n",
    "\n",
    "- Observaciones con valores altos en *y* tienen residuos grandes, lo cual indica un mal ajuste del modelo para esas observaciones.\n",
    "\n",
    "- El tamaño del punto representa la distancia de Cook. Punto grandes indican una mayor influencia en los coeficientes del modelo."
   ]
  },
  {
   "cell_type": "code",
   "execution_count": null,
   "id": "7f0c60a4",
   "metadata": {},
   "outputs": [],
   "source": []
  },
  {
   "cell_type": "markdown",
   "id": "35b79037",
   "metadata": {},
   "source": [
    "## Conclusiones"
   ]
  },
  {
   "cell_type": "markdown",
   "id": "029660b6",
   "metadata": {},
   "source": [
    "Debemos tener en cuenta que la identificacion de observaciones influyentes es util para pequenos conjuntos de datos. Para regresiones con muchos registros, es poco probable que una sola observacion tenga el peso suficiente para causar influencia extrema en el ajuste, aunque los valores atipicos si pueden tener dicha influencia.\n",
    "\n",
    "Para fines de deteccion de anomalias, la identificacion de observaciones influyentes puede ser muy util"
   ]
  }
 ],
 "metadata": {
  "kernelspec": {
   "display_name": "Python 3 (ipykernel)",
   "language": "python",
   "name": "python3"
  },
  "language_info": {
   "codemirror_mode": {
    "name": "ipython",
    "version": 3
   },
   "file_extension": ".py",
   "mimetype": "text/x-python",
   "name": "python",
   "nbconvert_exporter": "python",
   "pygments_lexer": "ipython3",
   "version": "3.9.12"
  }
 },
 "nbformat": 4,
 "nbformat_minor": 5
}
