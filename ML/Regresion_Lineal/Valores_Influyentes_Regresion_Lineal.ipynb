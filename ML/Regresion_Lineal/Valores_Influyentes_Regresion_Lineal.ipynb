{
 "cells": [
  {
   "cell_type": "markdown",
   "id": "3f971cc9",
   "metadata": {},
   "source": [
    "# Valores de gran influencia en la Regresión Lineal"
   ]
  },
  {
   "cell_type": "markdown",
   "id": "81630a12",
   "metadata": {},
   "source": [
    "Son valores que cambian considerablemente el ajuste de la Regresion Lineal en los datos. No estan necesariamente asociados con residuos grandes.\n",
    "\n",
    "Veamos un ejemplo para entenderlo mejor"
   ]
  },
  {
   "cell_type": "code",
   "execution_count": 25,
   "id": "175e3dcb",
   "metadata": {},
   "outputs": [],
   "source": [
    "# librerias\n",
    "%matplotlib inline\n",
    "# libreria para crear una regresion a partir de puntos dados\n",
    "from scipy.stats import linregress\n",
    "import numpy as np\n",
    "import matplotlib.pyplot as plt\n",
    "import pandas as pd"
   ]
  },
  {
   "cell_type": "markdown",
   "id": "bd8b6661",
   "metadata": {},
   "source": [
    "Consideremos el siguiente conjunto de datos"
   ]
  },
  {
   "cell_type": "code",
   "execution_count": 4,
   "id": "70583f51",
   "metadata": {},
   "outputs": [],
   "source": [
    "# creamos una semilla para la reproducibilidad del experimento\n",
    "np.random.seed(5)"
   ]
  },
  {
   "cell_type": "code",
   "execution_count": 5,
   "id": "a7fcfebf",
   "metadata": {},
   "outputs": [],
   "source": [
    "# creamos 25 valores de X\n",
    "x = np.random.normal(size=25)\n",
    "\n",
    "# creamos 25 valores de Y relacionado de manera lineal con X\n",
    "y = -(x/5) + np.random.normal(size=25)\n",
    "\n",
    "# asignamos un outiler a los datos\n",
    "x[0] = 8\n",
    "y[0] = 8"
   ]
  },
  {
   "cell_type": "markdown",
   "id": "b88a70ca",
   "metadata": {},
   "source": [
    "Creamos una funcion que calcula las coordenadas de una linea recta basada en la pendiente y el intercepto para trazar una linea recta en un grafico"
   ]
  },
  {
   "cell_type": "code",
   "execution_count": 6,
   "id": "a4bbc799",
   "metadata": {},
   "outputs": [],
   "source": [
    "def coord_linea(pendiente, intercepto, ax):\n",
    "    '''\n",
    "    Calcula las coordenadas de una linea basado en la pendiente y el intercepto\n",
    "    '''\n",
    "    # obtener los limites del eje x\n",
    "    x_vals = np.array(ax.get_xlim())\n",
    "    \n",
    "    # Devolver los valores de x e y\n",
    "    return x_vals, intercepto + pendiente*x_vals"
   ]
  },
  {
   "cell_type": "markdown",
   "id": "04f52d5c",
   "metadata": {},
   "source": [
    "Ahora, graficamos todos los puntos y trazamos su respectiva linea de regresion"
   ]
  },
  {
   "cell_type": "code",
   "execution_count": 12,
   "id": "44d532ae",
   "metadata": {},
   "outputs": [
    {
     "data": {
      "image/png": "[encoded data removed]",
      "text/plain": [
       "<Figure size 504x360 with 1 Axes>"
      ]
     },
     "metadata": {
      "needs_background": "light"
     },
     "output_type": "display_data"
    }
   ],
   "source": [
    "# tamano de la grafica \n",
    "fig, ax = plt.subplots(figsize = (7,5))\n",
    "# grafico de dispersion\n",
    "ax.scatter(x,y)\n",
    "# calculo de la reegresion en los puntos\n",
    "pendiente, intercepto, _, _, _ = linregress(x, y)\n",
    "# grafica de la linea de regresion\n",
    "ax.plot(*coord_linea(pendiente, intercepto, ax))\n",
    "plt.tight_layout();"
   ]
  },
  {
   "cell_type": "markdown",
   "id": "788cb250",
   "metadata": {},
   "source": [
    "Notamos que los datos se agrupan en cierta zona a excepcion del outlier que se encuentra en la esquina superior derecha. Este outlier hace que la linea de regresion tenga pendiente positiva.\n",
    "\n",
    "Ahora, vamos a omitir el punto outlier y trazar nuevamente la respectiva linea de regresion"
   ]
  },
  {
   "cell_type": "code",
   "execution_count": 15,
   "id": "90c877f9",
   "metadata": {},
   "outputs": [
    {
     "data": {
      "image/png": "[encoded data removed]",
      "text/plain": [
       "<Figure size 504x360 with 1 Axes>"
      ]
     },
     "metadata": {
      "needs_background": "light"
     },
     "output_type": "display_data"
    }
   ],
   "source": [
    "# tamano de la grafica \n",
    "fig, ax = plt.subplots(figsize = (7,5))\n",
    "# grafico de dispersion\n",
    "ax.scatter(x,y)\n",
    "# calculo de la regresion en los puntos sin considerar el outlier\n",
    "pendiente2, intercepto2, _, _, _ = linregress(x[1:], y[1:])\n",
    "#grafica de la linea de regresion\n",
    "ax.plot(*coord_linea(pendiente2, intercepto2, ax), '--', c='red')\n",
    "plt.tight_layout();"
   ]
  },
  {
   "cell_type": "markdown",
   "id": "4d39c4d9",
   "metadata": {},
   "source": [
    "En este caso, vemos que la regresion se ajusta mejor a la mayoria de los datos teniendo una pendiente negativa. De esta forma vemos que el outlier, en este caso, tiene una gran influencia sobre la regresion"
   ]
  },
  {
   "cell_type": "code",
   "execution_count": null,
   "id": "fbbdae05",
   "metadata": {},
   "outputs": [],
   "source": []
  },
  {
   "cell_type": "markdown",
   "id": "dc5bdd71",
   "metadata": {},
   "source": [
    "## Apalancamiento"
   ]
  },
  {
   "cell_type": "markdown",
   "id": "3b4ec026",
   "metadata": {},
   "source": [
    "Mide la distancia de un punto de datos respecto al centro del espacio de variables predictoras. Los puntos de datos con alto apalancamiento tienen un mayor potencial para influir en los coeficientes de regresion debido a que estan alejados de la media de los predictores. \n",
    "\n",
    "Para obtener los puntos de apalancamiento de un conjunto de datos utilizamos los *Hat Value* que son los elementos diagonales de la *Matriz de hat* **(H)**. La *Matriz de Hat* se calcula mediante la siguiente formula:\n",
    "\n",
    "$$H = X(X^{T}X)^{-1}X^{T}$$\n",
    "\n",
    "donde:\n",
    "\n",
    "- $X$ es la matriz de caracteristicas.\n",
    "- $X^T$ es la traspuesta de $X$.\n",
    "- $(X^{T}X)^{-1}$ es la inversa de $X^{T}X$"
   ]
  },
  {
   "cell_type": "markdown",
   "id": "6457f696",
   "metadata": {},
   "source": [
    "Antes de calcular la *Matriz de Hat* debemos definir lo que es la matriz de caracteristicas. Es una matriz que contiene los valores de las variables predictoras para todas las observaciones en un conjunto de datos, que se denota por $X$. Cada fila de $X$ representa una observacion y cada columna una variable predictora.\n",
    "\n",
    "Si hay $n$ observaciones y $p$ variables predictoras, la matriz de caracteristicas tendra un tamano de $n(p+1)$. La primera columna de $X$ contiene unos parametros para el termino de intercepto."
   ]
  },
  {
   "cell_type": "markdown",
   "id": "277c8be4",
   "metadata": {},
   "source": [
    "### **Obtener los Hat Values de forma manual**\n",
    "Vamos a calcular los *Hat values* para un conjunto de datos de 10 observaciones y dos variables predictoras de forma manual"
   ]
  },
  {
   "cell_type": "code",
   "execution_count": 26,
   "id": "41fbd55a",
   "metadata": {},
   "outputs": [
    {
     "data": {
      "text/html": [
       "<div>\n",
       "<style scoped>\n",
       "    .dataframe tbody tr th:only-of-type {\n",
       "        vertical-align: middle;\n",
       "    }\n",
       "\n",
       "    .dataframe tbody tr th {\n",
       "        vertical-align: top;\n",
       "    }\n",
       "\n",
       "    .dataframe thead th {\n",
       "        text-align: right;\n",
       "    }\n",
       "</style>\n",
       "<table border=\"1\" class=\"dataframe\">\n",
       "  <thead>\n",
       "    <tr style=\"text-align: right;\">\n",
       "      <th></th>\n",
       "      <th>0</th>\n",
       "      <th>1</th>\n",
       "    </tr>\n",
       "  </thead>\n",
       "  <tbody>\n",
       "    <tr>\n",
       "      <th>2.012218</th>\n",
       "      <td>0.374540</td>\n",
       "      <td>0.950714</td>\n",
       "    </tr>\n",
       "    <tr>\n",
       "      <th>3.707546</th>\n",
       "      <td>0.731994</td>\n",
       "      <td>0.598658</td>\n",
       "    </tr>\n",
       "    <tr>\n",
       "      <th>-0.127979</th>\n",
       "      <td>0.156019</td>\n",
       "      <td>0.155995</td>\n",
       "    </tr>\n",
       "    <tr>\n",
       "      <th>0.494299</th>\n",
       "      <td>0.058084</td>\n",
       "      <td>0.866176</td>\n",
       "    </tr>\n",
       "    <tr>\n",
       "      <th>4.685139</th>\n",
       "      <td>0.601115</td>\n",
       "      <td>0.708073</td>\n",
       "    </tr>\n",
       "    <tr>\n",
       "      <th>1.775797</th>\n",
       "      <td>0.020584</td>\n",
       "      <td>0.969910</td>\n",
       "    </tr>\n",
       "    <tr>\n",
       "      <th>2.989534</th>\n",
       "      <td>0.832443</td>\n",
       "      <td>0.212339</td>\n",
       "    </tr>\n",
       "    <tr>\n",
       "      <th>-0.512464</th>\n",
       "      <td>0.181825</td>\n",
       "      <td>0.183405</td>\n",
       "    </tr>\n",
       "    <tr>\n",
       "      <th>1.417857</th>\n",
       "      <td>0.304242</td>\n",
       "      <td>0.524756</td>\n",
       "    </tr>\n",
       "    <tr>\n",
       "      <th>1.989216</th>\n",
       "      <td>0.431945</td>\n",
       "      <td>0.291229</td>\n",
       "    </tr>\n",
       "  </tbody>\n",
       "</table>\n",
       "</div>"
      ],
      "text/plain": [
       "                  0         1\n",
       " 2.012218  0.374540  0.950714\n",
       " 3.707546  0.731994  0.598658\n",
       "-0.127979  0.156019  0.155995\n",
       " 0.494299  0.058084  0.866176\n",
       " 4.685139  0.601115  0.708073\n",
       " 1.775797  0.020584  0.969910\n",
       " 2.989534  0.832443  0.212339\n",
       "-0.512464  0.181825  0.183405\n",
       " 1.417857  0.304242  0.524756\n",
       " 1.989216  0.431945  0.291229"
      ]
     },
     "execution_count": 26,
     "metadata": {},
     "output_type": "execute_result"
    }
   ],
   "source": [
    "# ----------------generamos datos de ejemplo\n",
    "\n",
    "# semilla\n",
    "np.random.seed(42)\n",
    "\n",
    "# numero de observaciones\n",
    "n = 10\n",
    "\n",
    "# generamos los valores aleatorios entre 0 y 1 de dos variables predictoras\n",
    "X = np.random.rand(n, 2)\n",
    "\n",
    "# Generamos los valores de la variable objetivo utilizando una combinacion lineal de las dos variables predictoras\n",
    "# agregamos ruido aleatorio que sigue una D. normal\n",
    "y = 3*X[:, 0] + 2*X[:, 1] + np.random.randn(n)\n",
    "\n",
    "# visualizamos los datos en un DataFrame\n",
    "data = pd.DataFrame(X,y)\n",
    "data"
   ]
  },
  {
   "cell_type": "code",
   "execution_count": 27,
   "id": "9467df8e",
   "metadata": {},
   "outputs": [
    {
     "data": {
      "text/plain": [
       "array([[ 0.28855531,  0.17628608, -0.11160712,  0.20403219,  0.20834643,\n",
       "         0.24681763,  0.01133721, -0.09519126,  0.08077469, -0.00935115],\n",
       "       [ 0.17628608,  0.31479274, -0.09138118, -0.01812641,  0.26054845,\n",
       "        -0.02055277,  0.30164213, -0.0718099 ,  0.05932126,  0.08927961],\n",
       "       [-0.11160712, -0.09138118,  0.39829974,  0.07538201, -0.0887087 ,\n",
       "         0.03871541,  0.06291945,  0.3724417 ,  0.14049524,  0.20344346],\n",
       "       [ 0.20403219, -0.01812641,  0.07538201,  0.29695829,  0.05811202,\n",
       "         0.33775649, -0.15581051,  0.07317641,  0.11805162,  0.01046792],\n",
       "       [ 0.20834643,  0.26054845, -0.0887087 ,  0.05811202,  0.23631874,\n",
       "         0.07017311,  0.1997692 , -0.07107127,  0.06807559,  0.05843643],\n",
       "       [ 0.24681763, -0.02055277,  0.03871541,  0.33775649,  0.07017311,\n",
       "         0.39038106, -0.20141567,  0.03884733,  0.11721958, -0.01794216],\n",
       "       [ 0.01133721,  0.30164213,  0.06291945, -0.15581051,  0.1997692 ,\n",
       "        -0.20141567,  0.44840042,  0.07189694,  0.06655459,  0.19470624],\n",
       "       [-0.09519126, -0.0718099 ,  0.3724417 ,  0.07317641, -0.07107127,\n",
       "         0.03884733,  0.07189694,  0.34892176,  0.13650864,  0.19627966],\n",
       "       [ 0.08077469,  0.05932126,  0.14049524,  0.11805162,  0.06807559,\n",
       "         0.11721958,  0.06655459,  0.13650864,  0.10784536,  0.10515343],\n",
       "       [-0.00935115,  0.08927961,  0.20344346,  0.01046792,  0.05843643,\n",
       "        -0.01794216,  0.19470624,  0.19627966,  0.10515343,  0.16952657]])"
      ]
     },
     "execution_count": 27,
     "metadata": {},
     "output_type": "execute_result"
    }
   ],
   "source": [
    "# -----------Calculo de H\n",
    "\n",
    "# agregamos una columna de unos a la matriz de caracteristicas que representen el termino intercepto\n",
    "X = np.hstack((np.ones((n,1)), X))\n",
    "\n",
    "# calculamos el termino X^T * X\n",
    "X_traspuesta_X = np.dot(X.T, X)\n",
    "\n",
    "# calculamos la inversa de X^T * X\n",
    "X_traspuesta_X_inv = np.linalg.inv(X_traspuesta_X)\n",
    "\n",
    "# calculamos la matriz de hat\n",
    "H = np.dot(np.dot(X, X_traspuesta_X_inv), X.T)\n",
    "\n",
    "# mostrar valores de H\n",
    "H"
   ]
  },
  {
   "cell_type": "code",
   "execution_count": 28,
   "id": "25f3ad96",
   "metadata": {},
   "outputs": [
    {
     "data": {
      "text/plain": [
       "array([0.28855531, 0.31479274, 0.39829974, 0.29695829, 0.23631874,\n",
       "       0.39038106, 0.44840042, 0.34892176, 0.10784536, 0.16952657])"
      ]
     },
     "execution_count": 28,
     "metadata": {},
     "output_type": "execute_result"
    }
   ],
   "source": [
    "# ---------- Extraer los hat values de la matriz H\n",
    "hat_values = np.diag(H)\n",
    "hat_values"
   ]
  },
  {
   "cell_type": "markdown",
   "id": "808caef1",
   "metadata": {},
   "source": [
    "### **Obtener los Hat Values con statsmodels**\n",
    "Vamos a obtener los *hat values* para los datos del ejemplo anterior"
   ]
  },
  {
   "cell_type": "code",
   "execution_count": 29,
   "id": "8c633cce",
   "metadata": {},
   "outputs": [],
   "source": [
    "# ----------------generamos datos de ejemplo\n",
    "\n",
    "# semilla\n",
    "np.random.seed(42)\n",
    "\n",
    "# numero de observaciones\n",
    "n = 10\n",
    "\n",
    "# generamos los valores aleatorios entre 0 y 1 de dos variables predictoras\n",
    "X = np.random.rand(n, 2)\n",
    "\n",
    "# Generamos los valores de la variable objetivo utilizando una combinacion lineal de las dos variables predictoras\n",
    "# agregamos ruido aleatorio que sigue una D. normal\n",
    "y = 3*X[:, 0] + 2*X[:, 1] + np.random.randn(n)"
   ]
  },
  {
   "cell_type": "code",
   "execution_count": 30,
   "id": "0f6743d5",
   "metadata": {},
   "outputs": [
    {
     "data": {
      "text/plain": [
       "array([0.28855531, 0.31479274, 0.39829974, 0.29695829, 0.23631874,\n",
       "       0.39038106, 0.44840042, 0.34892176, 0.10784536, 0.16952657])"
      ]
     },
     "execution_count": 30,
     "metadata": {},
     "output_type": "execute_result"
    }
   ],
   "source": [
    "# ---- Calculo de hat values\n",
    "\n",
    "# agregamos una columa de unos a la matriz de caracteristicas para incluir el temrino de intercepto\n",
    "X = sm.add_constant(X)\n",
    "\n",
    "# ajustamos los datos a un modelo de regresion lineal\n",
    "model = sm.OLS(y, X).fit()\n",
    "\n",
    "# obtenemos los hat values para cada observacion\n",
    "influence = model.get_influence()\n",
    "hat_values = influence.hat_matrix_diag\n",
    "hat_values"
   ]
  },
  {
   "cell_type": "markdown",
   "id": "df891d74",
   "metadata": {},
   "source": [
    "> De esta manera, obtenemos los hat values de formas"
   ]
  },
  {
   "cell_type": "markdown",
   "id": "96d616ac",
   "metadata": {},
   "source": [
    "### **Visualizacion de los hat values**\n",
    "Una vez obtenido los hat values, podemos graficarlo para determinar, de manera visual, aquellas observaciones con alto apalancamiento"
   ]
  },
  {
   "cell_type": "code",
   "execution_count": 31,
   "id": "782f4040",
   "metadata": {},
   "outputs": [
    {
     "data": {
      "image/png": "[encoded data removed]",
      "text/plain": [
       "<Figure size 720x432 with 1 Axes>"
      ]
     },
     "metadata": {
      "needs_background": "light"
     },
     "output_type": "display_data"
    }
   ],
   "source": [
    "plt.figure(figsize=(10, 6))\n",
    "plt.bar(range(1, 11), hat_values, color='blue', alpha=0.7)\n",
    "plt.xlabel('Observación')\n",
    "plt.ylabel('Hat Value')\n",
    "plt.title('Hat Values de cada observacion')\n",
    "plt.xticks(range(1, 11));  # Asegurar que las etiquetas del eje x muestren los índices de las observaciones"
   ]
  },
  {
   "cell_type": "markdown",
   "id": "bfa5004c",
   "metadata": {},
   "source": [
    "> La grafica indica que las observaciones 3, 6 y 7 son puntos con alto apalancamiento"
   ]
  },
  {
   "cell_type": "code",
   "execution_count": null,
   "id": "4d8c172d",
   "metadata": {},
   "outputs": [],
   "source": []
  },
  {
   "cell_type": "markdown",
   "id": "c9a9d6bc",
   "metadata": {},
   "source": [
    "## Distancia de Cook"
   ]
  },
  {
   "cell_type": "markdown",
   "id": "de231075",
   "metadata": {},
   "source": []
  },
  {
   "cell_type": "code",
   "execution_count": null,
   "id": "6e52647f",
   "metadata": {},
   "outputs": [],
   "source": []
  },
  {
   "cell_type": "code",
   "execution_count": null,
   "id": "d16b9794",
   "metadata": {},
   "outputs": [],
   "source": []
  },
  {
   "cell_type": "code",
   "execution_count": null,
   "id": "be00cd95",
   "metadata": {},
   "outputs": [],
   "source": []
  }
 ],
 "metadata": {
  "kernelspec": {
   "display_name": "Python 3 (ipykernel)",
   "language": "python",
   "name": "python3"
  },
  "language_info": {
   "codemirror_mode": {
    "name": "ipython",
    "version": 3
   },
   "file_extension": ".py",
   "mimetype": "text/x-python",
   "name": "python",
   "nbconvert_exporter": "python",
   "pygments_lexer": "ipython3",
   "version": "3.9.12"
  }
 },
 "nbformat": 4,
 "nbformat_minor": 5
}
