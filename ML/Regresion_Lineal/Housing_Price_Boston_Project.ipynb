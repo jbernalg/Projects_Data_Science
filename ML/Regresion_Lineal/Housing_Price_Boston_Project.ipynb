{
 "cells": [
  {
   "cell_type": "markdown",
   "id": "7c94303a",
   "metadata": {},
   "source": [
    "# Proyecto sobre los precios de las casas en Boston"
   ]
  },
  {
   "cell_type": "code",
   "execution_count": null,
   "id": "8ef63539",
   "metadata": {},
   "outputs": [],
   "source": []
  },
  {
   "cell_type": "markdown",
   "id": "9c86b2ff",
   "metadata": {},
   "source": [
    "Puntos a tratar:\n",
    "- Descripcion del dataset\n",
    "- Analisis exploratorio\n",
    "- Correlacion\n",
    "- Multicolinealidad\n",
    "- Analisis missing\n",
    "- Ajuste del modelo\n",
    "- Prueba de supuestos del modelo"
   ]
  },
  {
   "cell_type": "markdown",
   "id": "f3f9c727",
   "metadata": {},
   "source": [
    "## Cargar datos"
   ]
  },
  {
   "cell_type": "code",
   "execution_count": 1,
   "id": "584050bd",
   "metadata": {},
   "outputs": [],
   "source": [
    "# librerias\n",
    "import pandas as pd\n",
    "from sklearn.datasets import load_boston"
   ]
  },
  {
   "cell_type": "code",
   "execution_count": 2,
   "id": "54144c63",
   "metadata": {},
   "outputs": [
    {
     "name": "stdout",
     "output_type": "stream",
     "text": [
      ".. _boston_dataset:\n",
      "\n",
      "Boston house prices dataset\n",
      "---------------------------\n",
      "\n",
      "**Data Set Characteristics:**  \n",
      "\n",
      "    :Number of Instances: 506 \n",
      "\n",
      "    :Number of Attributes: 13 numeric/categorical predictive. Median Value (attribute 14) is usually the target.\n",
      "\n",
      "    :Attribute Information (in order):\n",
      "        - CRIM     per capita crime rate by town\n",
      "        - ZN       proportion of residential land zoned for lots over 25,000 sq.ft.\n",
      "        - INDUS    proportion of non-retail business acres per town\n",
      "        - CHAS     Charles River dummy variable (= 1 if tract bounds river; 0 otherwise)\n",
      "        - NOX      nitric oxides concentration (parts per 10 million)\n",
      "        - RM       average number of rooms per dwelling\n",
      "        - AGE      proportion of owner-occupied units built prior to 1940\n",
      "        - DIS      weighted distances to five Boston employment centres\n",
      "        - RAD      index of accessibility to radial highways\n",
      "        - TAX      full-value property-tax rate per $10,000\n",
      "        - PTRATIO  pupil-teacher ratio by town\n",
      "        - B        1000(Bk - 0.63)^2 where Bk is the proportion of black people by town\n",
      "        - LSTAT    % lower status of the population\n",
      "        - MEDV     Median value of owner-occupied homes in $1000's\n",
      "\n",
      "    :Missing Attribute Values: None\n",
      "\n",
      "    :Creator: Harrison, D. and Rubinfeld, D.L.\n",
      "\n",
      "This is a copy of UCI ML housing dataset.\n",
      "https://archive.ics.uci.edu/ml/machine-learning-databases/housing/\n",
      "\n",
      "\n",
      "This dataset was taken from the StatLib library which is maintained at Carnegie Mellon University.\n",
      "\n",
      "The Boston house-price data of Harrison, D. and Rubinfeld, D.L. 'Hedonic\n",
      "prices and the demand for clean air', J. Environ. Economics & Management,\n",
      "vol.5, 81-102, 1978.   Used in Belsley, Kuh & Welsch, 'Regression diagnostics\n",
      "...', Wiley, 1980.   N.B. Various transformations are used in the table on\n",
      "pages 244-261 of the latter.\n",
      "\n",
      "The Boston house-price data has been used in many machine learning papers that address regression\n",
      "problems.   \n",
      "     \n",
      ".. topic:: References\n",
      "\n",
      "   - Belsley, Kuh & Welsch, 'Regression diagnostics: Identifying Influential Data and Sources of Collinearity', Wiley, 1980. 244-261.\n",
      "   - Quinlan,R. (1993). Combining Instance-Based and Model-Based Learning. In Proceedings on the Tenth International Conference of Machine Learning, 236-243, University of Massachusetts, Amherst. Morgan Kaufmann.\n",
      "\n"
     ]
    },
    {
     "name": "stderr",
     "output_type": "stream",
     "text": [
      "/home/jbernal/anaconda3/lib/python3.9/site-packages/sklearn/utils/deprecation.py:87: FutureWarning: Function load_boston is deprecated; `load_boston` is deprecated in 1.0 and will be removed in 1.2.\n",
      "\n",
      "    The Boston housing prices dataset has an ethical problem. You can refer to\n",
      "    the documentation of this function for further details.\n",
      "\n",
      "    The scikit-learn maintainers therefore strongly discourage the use of this\n",
      "    dataset unless the purpose of the code is to study and educate about\n",
      "    ethical issues in data science and machine learning.\n",
      "\n",
      "    In this special case, you can fetch the dataset from the original\n",
      "    source::\n",
      "\n",
      "        import pandas as pd\n",
      "        import numpy as np\n",
      "\n",
      "\n",
      "        data_url = \"http://lib.stat.cmu.edu/datasets/boston\"\n",
      "        raw_df = pd.read_csv(data_url, sep=\"\\s+\", skiprows=22, header=None)\n",
      "        data = np.hstack([raw_df.values[::2, :], raw_df.values[1::2, :2]])\n",
      "        target = raw_df.values[1::2, 2]\n",
      "\n",
      "    Alternative datasets include the California housing dataset (i.e.\n",
      "    :func:`~sklearn.datasets.fetch_california_housing`) and the Ames housing\n",
      "    dataset. You can load the datasets as follows::\n",
      "\n",
      "        from sklearn.datasets import fetch_california_housing\n",
      "        housing = fetch_california_housing()\n",
      "\n",
      "    for the California housing dataset and::\n",
      "\n",
      "        from sklearn.datasets import fetch_openml\n",
      "        housing = fetch_openml(name=\"house_prices\", as_frame=True)\n",
      "\n",
      "    for the Ames housing dataset.\n",
      "    \n",
      "  warnings.warn(msg, category=FutureWarning)\n"
     ]
    }
   ],
   "source": [
    "# cargar datos\n",
    "boston = load_boston()\n",
    "print(boston.DESCR)"
   ]
  },
  {
   "cell_type": "markdown",
   "id": "0f8ae7eb",
   "metadata": {},
   "source": [
    "De la descripcion de los datos vemos que hay 506 registros y 14 variables. Se suele utilizar como variable objetivo a *MEDV*. Los datos no contienen valores faltantes.\n",
    "\n",
    "El objetivo es crear un modelo que prediga el Precio promedio de una casa *MEDV* segun algunas caracteristicas de la misma."
   ]
  },
  {
   "cell_type": "code",
   "execution_count": 3,
   "id": "e2477d14",
   "metadata": {},
   "outputs": [
    {
     "data": {
      "text/html": [
       "<div>\n",
       "<style scoped>\n",
       "    .dataframe tbody tr th:only-of-type {\n",
       "        vertical-align: middle;\n",
       "    }\n",
       "\n",
       "    .dataframe tbody tr th {\n",
       "        vertical-align: top;\n",
       "    }\n",
       "\n",
       "    .dataframe thead th {\n",
       "        text-align: right;\n",
       "    }\n",
       "</style>\n",
       "<table border=\"1\" class=\"dataframe\">\n",
       "  <thead>\n",
       "    <tr style=\"text-align: right;\">\n",
       "      <th></th>\n",
       "      <th>CRIM</th>\n",
       "      <th>ZN</th>\n",
       "      <th>INDUS</th>\n",
       "      <th>CHAS</th>\n",
       "      <th>NOX</th>\n",
       "      <th>RM</th>\n",
       "      <th>AGE</th>\n",
       "      <th>DIS</th>\n",
       "      <th>RAD</th>\n",
       "      <th>TAX</th>\n",
       "      <th>PTRATIO</th>\n",
       "      <th>B</th>\n",
       "      <th>LSTAT</th>\n",
       "    </tr>\n",
       "  </thead>\n",
       "  <tbody>\n",
       "    <tr>\n",
       "      <th>0</th>\n",
       "      <td>0.00632</td>\n",
       "      <td>18.0</td>\n",
       "      <td>2.31</td>\n",
       "      <td>0.0</td>\n",
       "      <td>0.538</td>\n",
       "      <td>6.575</td>\n",
       "      <td>65.2</td>\n",
       "      <td>4.0900</td>\n",
       "      <td>1.0</td>\n",
       "      <td>296.0</td>\n",
       "      <td>15.3</td>\n",
       "      <td>396.90</td>\n",
       "      <td>4.98</td>\n",
       "    </tr>\n",
       "    <tr>\n",
       "      <th>1</th>\n",
       "      <td>0.02731</td>\n",
       "      <td>0.0</td>\n",
       "      <td>7.07</td>\n",
       "      <td>0.0</td>\n",
       "      <td>0.469</td>\n",
       "      <td>6.421</td>\n",
       "      <td>78.9</td>\n",
       "      <td>4.9671</td>\n",
       "      <td>2.0</td>\n",
       "      <td>242.0</td>\n",
       "      <td>17.8</td>\n",
       "      <td>396.90</td>\n",
       "      <td>9.14</td>\n",
       "    </tr>\n",
       "    <tr>\n",
       "      <th>2</th>\n",
       "      <td>0.02729</td>\n",
       "      <td>0.0</td>\n",
       "      <td>7.07</td>\n",
       "      <td>0.0</td>\n",
       "      <td>0.469</td>\n",
       "      <td>7.185</td>\n",
       "      <td>61.1</td>\n",
       "      <td>4.9671</td>\n",
       "      <td>2.0</td>\n",
       "      <td>242.0</td>\n",
       "      <td>17.8</td>\n",
       "      <td>392.83</td>\n",
       "      <td>4.03</td>\n",
       "    </tr>\n",
       "    <tr>\n",
       "      <th>3</th>\n",
       "      <td>0.03237</td>\n",
       "      <td>0.0</td>\n",
       "      <td>2.18</td>\n",
       "      <td>0.0</td>\n",
       "      <td>0.458</td>\n",
       "      <td>6.998</td>\n",
       "      <td>45.8</td>\n",
       "      <td>6.0622</td>\n",
       "      <td>3.0</td>\n",
       "      <td>222.0</td>\n",
       "      <td>18.7</td>\n",
       "      <td>394.63</td>\n",
       "      <td>2.94</td>\n",
       "    </tr>\n",
       "    <tr>\n",
       "      <th>4</th>\n",
       "      <td>0.06905</td>\n",
       "      <td>0.0</td>\n",
       "      <td>2.18</td>\n",
       "      <td>0.0</td>\n",
       "      <td>0.458</td>\n",
       "      <td>7.147</td>\n",
       "      <td>54.2</td>\n",
       "      <td>6.0622</td>\n",
       "      <td>3.0</td>\n",
       "      <td>222.0</td>\n",
       "      <td>18.7</td>\n",
       "      <td>396.90</td>\n",
       "      <td>5.33</td>\n",
       "    </tr>\n",
       "  </tbody>\n",
       "</table>\n",
       "</div>"
      ],
      "text/plain": [
       "      CRIM    ZN  INDUS  CHAS    NOX     RM   AGE     DIS  RAD    TAX  \\\n",
       "0  0.00632  18.0   2.31   0.0  0.538  6.575  65.2  4.0900  1.0  296.0   \n",
       "1  0.02731   0.0   7.07   0.0  0.469  6.421  78.9  4.9671  2.0  242.0   \n",
       "2  0.02729   0.0   7.07   0.0  0.469  7.185  61.1  4.9671  2.0  242.0   \n",
       "3  0.03237   0.0   2.18   0.0  0.458  6.998  45.8  6.0622  3.0  222.0   \n",
       "4  0.06905   0.0   2.18   0.0  0.458  7.147  54.2  6.0622  3.0  222.0   \n",
       "\n",
       "   PTRATIO       B  LSTAT  \n",
       "0     15.3  396.90   4.98  \n",
       "1     17.8  396.90   9.14  \n",
       "2     17.8  392.83   4.03  \n",
       "3     18.7  394.63   2.94  \n",
       "4     18.7  396.90   5.33  "
      ]
     },
     "execution_count": 3,
     "metadata": {},
     "output_type": "execute_result"
    }
   ],
   "source": [
    "# variables predictoras en formato dataframe\n",
    "X_orig = pd.DataFrame(boston.data, columns=boston.feature_names)\n",
    "X_orig.head()"
   ]
  },
  {
   "cell_type": "code",
   "execution_count": 4,
   "id": "9e78c2b3",
   "metadata": {},
   "outputs": [
    {
     "data": {
      "text/plain": [
       "0    24.0\n",
       "1    21.6\n",
       "2    34.7\n",
       "3    33.4\n",
       "4    36.2\n",
       "Name: MEDV, dtype: float64"
      ]
     },
     "execution_count": 4,
     "metadata": {},
     "output_type": "execute_result"
    }
   ],
   "source": [
    "# variable objetivo en formato de Serie\n",
    "y_orig = pd.Series(boston.target, name='MEDV')\n",
    "y_orig[0:5]"
   ]
  },
  {
   "cell_type": "markdown",
   "id": "d9e59144",
   "metadata": {},
   "source": [
    "## Datos de entrenamiento y de prueba"
   ]
  },
  {
   "cell_type": "code",
   "execution_count": 5,
   "id": "cca94ef2",
   "metadata": {},
   "outputs": [],
   "source": [
    "# librerias de visualizacion\n",
    "# muestra el grafico debajo del codigo\n",
    "%matplotlib inline  \n",
    "import seaborn as sns\n",
    "import matplotlib.pyplot as plt"
   ]
  },
  {
   "cell_type": "code",
   "execution_count": 6,
   "id": "d04dc051",
   "metadata": {},
   "outputs": [],
   "source": [
    "# Libreria para dividir los datos\n",
    "from sklearn.model_selection import train_test_split"
   ]
  },
  {
   "cell_type": "code",
   "execution_count": 7,
   "id": "dd11661c",
   "metadata": {},
   "outputs": [],
   "source": [
    "# Creamos los dos conjuntos de datos\n",
    "# divide los datos en 75% para entrenamiento y 25% para prueba\n",
    "X_train, X_test, y_train, y_test = train_test_split(X_orig, y_orig, random_state=1)"
   ]
  },
  {
   "cell_type": "code",
   "execution_count": 8,
   "id": "4ca5da59",
   "metadata": {},
   "outputs": [
    {
     "data": {
      "text/html": [
       "<div>\n",
       "<style scoped>\n",
       "    .dataframe tbody tr th:only-of-type {\n",
       "        vertical-align: middle;\n",
       "    }\n",
       "\n",
       "    .dataframe tbody tr th {\n",
       "        vertical-align: top;\n",
       "    }\n",
       "\n",
       "    .dataframe thead th {\n",
       "        text-align: right;\n",
       "    }\n",
       "</style>\n",
       "<table border=\"1\" class=\"dataframe\">\n",
       "  <thead>\n",
       "    <tr style=\"text-align: right;\">\n",
       "      <th></th>\n",
       "      <th>CRIM</th>\n",
       "      <th>ZN</th>\n",
       "      <th>INDUS</th>\n",
       "      <th>CHAS</th>\n",
       "      <th>NOX</th>\n",
       "      <th>RM</th>\n",
       "      <th>AGE</th>\n",
       "      <th>DIS</th>\n",
       "      <th>RAD</th>\n",
       "      <th>TAX</th>\n",
       "      <th>PTRATIO</th>\n",
       "      <th>B</th>\n",
       "      <th>LSTAT</th>\n",
       "      <th>MEDV</th>\n",
       "    </tr>\n",
       "  </thead>\n",
       "  <tbody>\n",
       "    <tr>\n",
       "      <th>502</th>\n",
       "      <td>0.04527</td>\n",
       "      <td>0.0</td>\n",
       "      <td>11.93</td>\n",
       "      <td>0.0</td>\n",
       "      <td>0.573</td>\n",
       "      <td>6.120</td>\n",
       "      <td>76.7</td>\n",
       "      <td>2.2875</td>\n",
       "      <td>1.0</td>\n",
       "      <td>273.0</td>\n",
       "      <td>21.0</td>\n",
       "      <td>396.90</td>\n",
       "      <td>9.08</td>\n",
       "      <td>20.6</td>\n",
       "    </tr>\n",
       "    <tr>\n",
       "      <th>172</th>\n",
       "      <td>0.13914</td>\n",
       "      <td>0.0</td>\n",
       "      <td>4.05</td>\n",
       "      <td>0.0</td>\n",
       "      <td>0.510</td>\n",
       "      <td>5.572</td>\n",
       "      <td>88.5</td>\n",
       "      <td>2.5961</td>\n",
       "      <td>5.0</td>\n",
       "      <td>296.0</td>\n",
       "      <td>16.6</td>\n",
       "      <td>396.90</td>\n",
       "      <td>14.69</td>\n",
       "      <td>23.1</td>\n",
       "    </tr>\n",
       "    <tr>\n",
       "      <th>80</th>\n",
       "      <td>0.04113</td>\n",
       "      <td>25.0</td>\n",
       "      <td>4.86</td>\n",
       "      <td>0.0</td>\n",
       "      <td>0.426</td>\n",
       "      <td>6.727</td>\n",
       "      <td>33.5</td>\n",
       "      <td>5.4007</td>\n",
       "      <td>4.0</td>\n",
       "      <td>281.0</td>\n",
       "      <td>19.0</td>\n",
       "      <td>396.90</td>\n",
       "      <td>5.29</td>\n",
       "      <td>28.0</td>\n",
       "    </tr>\n",
       "    <tr>\n",
       "      <th>46</th>\n",
       "      <td>0.18836</td>\n",
       "      <td>0.0</td>\n",
       "      <td>6.91</td>\n",
       "      <td>0.0</td>\n",
       "      <td>0.448</td>\n",
       "      <td>5.786</td>\n",
       "      <td>33.3</td>\n",
       "      <td>5.1004</td>\n",
       "      <td>3.0</td>\n",
       "      <td>233.0</td>\n",
       "      <td>17.9</td>\n",
       "      <td>396.90</td>\n",
       "      <td>14.15</td>\n",
       "      <td>20.0</td>\n",
       "    </tr>\n",
       "    <tr>\n",
       "      <th>318</th>\n",
       "      <td>0.40202</td>\n",
       "      <td>0.0</td>\n",
       "      <td>9.90</td>\n",
       "      <td>0.0</td>\n",
       "      <td>0.544</td>\n",
       "      <td>6.382</td>\n",
       "      <td>67.2</td>\n",
       "      <td>3.5325</td>\n",
       "      <td>4.0</td>\n",
       "      <td>304.0</td>\n",
       "      <td>18.4</td>\n",
       "      <td>395.21</td>\n",
       "      <td>10.36</td>\n",
       "      <td>23.1</td>\n",
       "    </tr>\n",
       "  </tbody>\n",
       "</table>\n",
       "</div>"
      ],
      "text/plain": [
       "        CRIM    ZN  INDUS  CHAS    NOX     RM   AGE     DIS  RAD    TAX  \\\n",
       "502  0.04527   0.0  11.93   0.0  0.573  6.120  76.7  2.2875  1.0  273.0   \n",
       "172  0.13914   0.0   4.05   0.0  0.510  5.572  88.5  2.5961  5.0  296.0   \n",
       "80   0.04113  25.0   4.86   0.0  0.426  6.727  33.5  5.4007  4.0  281.0   \n",
       "46   0.18836   0.0   6.91   0.0  0.448  5.786  33.3  5.1004  3.0  233.0   \n",
       "318  0.40202   0.0   9.90   0.0  0.544  6.382  67.2  3.5325  4.0  304.0   \n",
       "\n",
       "     PTRATIO       B  LSTAT  MEDV  \n",
       "502     21.0  396.90   9.08  20.6  \n",
       "172     16.6  396.90  14.69  23.1  \n",
       "80      19.0  396.90   5.29  28.0  \n",
       "46      17.9  396.90  14.15  20.0  \n",
       "318     18.4  395.21  10.36  23.1  "
      ]
     },
     "execution_count": 8,
     "metadata": {},
     "output_type": "execute_result"
    }
   ],
   "source": [
    "# juntamos los datos entrenamiento en un datframe para futuros tratamientos\n",
    "df = pd.concat([X_train, y_train], axis=1)\n",
    "df.head()"
   ]
  },
  {
   "cell_type": "markdown",
   "id": "92ffc7ed",
   "metadata": {},
   "source": [
    "## EDA"
   ]
  },
  {
   "cell_type": "markdown",
   "id": "70459636",
   "metadata": {},
   "source": [
    "**Los datos de entrenamiento contienen valores nulos?**"
   ]
  },
  {
   "cell_type": "code",
   "execution_count": 9,
   "id": "e3597e02",
   "metadata": {},
   "outputs": [
    {
     "data": {
      "text/plain": [
       "CRIM       0\n",
       "ZN         0\n",
       "INDUS      0\n",
       "CHAS       0\n",
       "NOX        0\n",
       "RM         0\n",
       "AGE        0\n",
       "DIS        0\n",
       "RAD        0\n",
       "TAX        0\n",
       "PTRATIO    0\n",
       "B          0\n",
       "LSTAT      0\n",
       "dtype: int64"
      ]
     },
     "execution_count": 9,
     "metadata": {},
     "output_type": "execute_result"
    }
   ],
   "source": [
    "X_train.isna().sum()"
   ]
  },
  {
   "cell_type": "code",
   "execution_count": 10,
   "id": "95c5b296",
   "metadata": {},
   "outputs": [
    {
     "data": {
      "text/plain": [
       "0"
      ]
     },
     "execution_count": 10,
     "metadata": {},
     "output_type": "execute_result"
    }
   ],
   "source": [
    "y_train.isna().sum()"
   ]
  },
  {
   "cell_type": "markdown",
   "id": "020884c0",
   "metadata": {},
   "source": [
    "No poseen valores faltantes"
   ]
  },
  {
   "cell_type": "markdown",
   "id": "d2c8a04c",
   "metadata": {},
   "source": [
    "**Resumen estadistico de las variables predictoras**"
   ]
  },
  {
   "cell_type": "code",
   "execution_count": 11,
   "id": "09533966",
   "metadata": {},
   "outputs": [
    {
     "data": {
      "text/html": [
       "<div>\n",
       "<style scoped>\n",
       "    .dataframe tbody tr th:only-of-type {\n",
       "        vertical-align: middle;\n",
       "    }\n",
       "\n",
       "    .dataframe tbody tr th {\n",
       "        vertical-align: top;\n",
       "    }\n",
       "\n",
       "    .dataframe thead th {\n",
       "        text-align: right;\n",
       "    }\n",
       "</style>\n",
       "<table border=\"1\" class=\"dataframe\">\n",
       "  <thead>\n",
       "    <tr style=\"text-align: right;\">\n",
       "      <th></th>\n",
       "      <th>CRIM</th>\n",
       "      <th>ZN</th>\n",
       "      <th>INDUS</th>\n",
       "      <th>CHAS</th>\n",
       "      <th>NOX</th>\n",
       "      <th>RM</th>\n",
       "      <th>AGE</th>\n",
       "      <th>DIS</th>\n",
       "      <th>RAD</th>\n",
       "      <th>TAX</th>\n",
       "      <th>PTRATIO</th>\n",
       "      <th>B</th>\n",
       "      <th>LSTAT</th>\n",
       "    </tr>\n",
       "  </thead>\n",
       "  <tbody>\n",
       "    <tr>\n",
       "      <th>count</th>\n",
       "      <td>379.000000</td>\n",
       "      <td>379.000000</td>\n",
       "      <td>379.000000</td>\n",
       "      <td>379.000000</td>\n",
       "      <td>379.000000</td>\n",
       "      <td>379.000000</td>\n",
       "      <td>379.000000</td>\n",
       "      <td>379.000000</td>\n",
       "      <td>379.000000</td>\n",
       "      <td>379.000000</td>\n",
       "      <td>379.000000</td>\n",
       "      <td>379.000000</td>\n",
       "      <td>379.000000</td>\n",
       "    </tr>\n",
       "    <tr>\n",
       "      <th>mean</th>\n",
       "      <td>3.805183</td>\n",
       "      <td>11.521108</td>\n",
       "      <td>11.220053</td>\n",
       "      <td>0.081794</td>\n",
       "      <td>0.554073</td>\n",
       "      <td>6.255726</td>\n",
       "      <td>68.751451</td>\n",
       "      <td>3.824433</td>\n",
       "      <td>9.525066</td>\n",
       "      <td>405.182058</td>\n",
       "      <td>18.478100</td>\n",
       "      <td>358.304802</td>\n",
       "      <td>12.936174</td>\n",
       "    </tr>\n",
       "    <tr>\n",
       "      <th>std</th>\n",
       "      <td>9.375846</td>\n",
       "      <td>23.492644</td>\n",
       "      <td>6.875362</td>\n",
       "      <td>0.274413</td>\n",
       "      <td>0.117825</td>\n",
       "      <td>0.687415</td>\n",
       "      <td>28.276504</td>\n",
       "      <td>2.138449</td>\n",
       "      <td>8.734550</td>\n",
       "      <td>169.483657</td>\n",
       "      <td>2.141433</td>\n",
       "      <td>89.601791</td>\n",
       "      <td>7.243381</td>\n",
       "    </tr>\n",
       "    <tr>\n",
       "      <th>min</th>\n",
       "      <td>0.006320</td>\n",
       "      <td>0.000000</td>\n",
       "      <td>0.460000</td>\n",
       "      <td>0.000000</td>\n",
       "      <td>0.385000</td>\n",
       "      <td>3.561000</td>\n",
       "      <td>6.000000</td>\n",
       "      <td>1.129600</td>\n",
       "      <td>1.000000</td>\n",
       "      <td>187.000000</td>\n",
       "      <td>12.600000</td>\n",
       "      <td>0.320000</td>\n",
       "      <td>1.730000</td>\n",
       "    </tr>\n",
       "    <tr>\n",
       "      <th>25%</th>\n",
       "      <td>0.083475</td>\n",
       "      <td>0.000000</td>\n",
       "      <td>5.255000</td>\n",
       "      <td>0.000000</td>\n",
       "      <td>0.447500</td>\n",
       "      <td>5.875000</td>\n",
       "      <td>45.050000</td>\n",
       "      <td>2.094450</td>\n",
       "      <td>4.000000</td>\n",
       "      <td>277.000000</td>\n",
       "      <td>17.400000</td>\n",
       "      <td>376.125000</td>\n",
       "      <td>7.165000</td>\n",
       "    </tr>\n",
       "    <tr>\n",
       "      <th>50%</th>\n",
       "      <td>0.245220</td>\n",
       "      <td>0.000000</td>\n",
       "      <td>9.690000</td>\n",
       "      <td>0.000000</td>\n",
       "      <td>0.538000</td>\n",
       "      <td>6.172000</td>\n",
       "      <td>79.200000</td>\n",
       "      <td>3.317500</td>\n",
       "      <td>5.000000</td>\n",
       "      <td>329.000000</td>\n",
       "      <td>19.100000</td>\n",
       "      <td>392.040000</td>\n",
       "      <td>11.970000</td>\n",
       "    </tr>\n",
       "    <tr>\n",
       "      <th>75%</th>\n",
       "      <td>3.683390</td>\n",
       "      <td>17.750000</td>\n",
       "      <td>18.100000</td>\n",
       "      <td>0.000000</td>\n",
       "      <td>0.624000</td>\n",
       "      <td>6.611000</td>\n",
       "      <td>94.050000</td>\n",
       "      <td>5.108550</td>\n",
       "      <td>24.000000</td>\n",
       "      <td>666.000000</td>\n",
       "      <td>20.200000</td>\n",
       "      <td>396.220000</td>\n",
       "      <td>17.135000</td>\n",
       "    </tr>\n",
       "    <tr>\n",
       "      <th>max</th>\n",
       "      <td>88.976200</td>\n",
       "      <td>100.000000</td>\n",
       "      <td>27.740000</td>\n",
       "      <td>1.000000</td>\n",
       "      <td>0.871000</td>\n",
       "      <td>8.780000</td>\n",
       "      <td>100.000000</td>\n",
       "      <td>12.126500</td>\n",
       "      <td>24.000000</td>\n",
       "      <td>711.000000</td>\n",
       "      <td>22.000000</td>\n",
       "      <td>396.900000</td>\n",
       "      <td>37.970000</td>\n",
       "    </tr>\n",
       "  </tbody>\n",
       "</table>\n",
       "</div>"
      ],
      "text/plain": [
       "             CRIM          ZN       INDUS        CHAS         NOX          RM  \\\n",
       "count  379.000000  379.000000  379.000000  379.000000  379.000000  379.000000   \n",
       "mean     3.805183   11.521108   11.220053    0.081794    0.554073    6.255726   \n",
       "std      9.375846   23.492644    6.875362    0.274413    0.117825    0.687415   \n",
       "min      0.006320    0.000000    0.460000    0.000000    0.385000    3.561000   \n",
       "25%      0.083475    0.000000    5.255000    0.000000    0.447500    5.875000   \n",
       "50%      0.245220    0.000000    9.690000    0.000000    0.538000    6.172000   \n",
       "75%      3.683390   17.750000   18.100000    0.000000    0.624000    6.611000   \n",
       "max     88.976200  100.000000   27.740000    1.000000    0.871000    8.780000   \n",
       "\n",
       "              AGE         DIS         RAD         TAX     PTRATIO           B  \\\n",
       "count  379.000000  379.000000  379.000000  379.000000  379.000000  379.000000   \n",
       "mean    68.751451    3.824433    9.525066  405.182058   18.478100  358.304802   \n",
       "std     28.276504    2.138449    8.734550  169.483657    2.141433   89.601791   \n",
       "min      6.000000    1.129600    1.000000  187.000000   12.600000    0.320000   \n",
       "25%     45.050000    2.094450    4.000000  277.000000   17.400000  376.125000   \n",
       "50%     79.200000    3.317500    5.000000  329.000000   19.100000  392.040000   \n",
       "75%     94.050000    5.108550   24.000000  666.000000   20.200000  396.220000   \n",
       "max    100.000000   12.126500   24.000000  711.000000   22.000000  396.900000   \n",
       "\n",
       "            LSTAT  \n",
       "count  379.000000  \n",
       "mean    12.936174  \n",
       "std      7.243381  \n",
       "min      1.730000  \n",
       "25%      7.165000  \n",
       "50%     11.970000  \n",
       "75%     17.135000  \n",
       "max     37.970000  "
      ]
     },
     "execution_count": 11,
     "metadata": {},
     "output_type": "execute_result"
    }
   ],
   "source": [
    "X_train.describe()"
   ]
  },
  {
   "cell_type": "markdown",
   "id": "64e9e7de",
   "metadata": {},
   "source": [
    "- El promedio de la tasa de criminalidad es de 3.8, con una desviacion estandar de 9.37. Esta gran diferencia entre ambas metricas indican que los datos se encuentran muy dispersos. El valor minimo y maximo va de 0.006 a 88.9 lo que indica que hay zonas mucho mas seguras que otras.\n",
    "\n",
    "- La distribucion de las zonas industriales tienen un comportamiento normal centrando gran parte de las zonas alrededor de la media.\n",
    "\n",
    "- CHAS es una variable binaria e indica que el 8% de casas estan cercanas al rio. Como solo posee como valor cero y uno, al promediar nos da la proporcion de unos.\n",
    "\n",
    "- La proporcion de casas ocupadas por los duenos"
   ]
  },
  {
   "cell_type": "markdown",
   "id": "e752ce69",
   "metadata": {},
   "source": [
    "**Resumen estadistico de la variable objetivo**"
   ]
  },
  {
   "cell_type": "code",
   "execution_count": 12,
   "id": "7322b14e",
   "metadata": {},
   "outputs": [
    {
     "data": {
      "text/plain": [
       "count    379.000000\n",
       "mean      22.344591\n",
       "std        8.920931\n",
       "min        5.000000\n",
       "25%       17.100000\n",
       "50%       20.800000\n",
       "75%       25.000000\n",
       "max       50.000000\n",
       "Name: MEDV, dtype: float64"
      ]
     },
     "execution_count": 12,
     "metadata": {},
     "output_type": "execute_result"
    }
   ],
   "source": [
    "y_train.describe()"
   ]
  },
  {
   "cell_type": "markdown",
   "id": "898ca6de",
   "metadata": {},
   "source": [
    "- Indica que el promedio del precio de las casas es de 22.000 con un valor minimo y maximo de 5000 y 50.000 respectivamente"
   ]
  },
  {
   "cell_type": "markdown",
   "id": "5361d223",
   "metadata": {},
   "source": [
    "**Analisis de Correlacion**\n",
    "\n",
    "Veamos la correlacion entre las variables predictoras"
   ]
  },
  {
   "cell_type": "code",
   "execution_count": 13,
   "id": "61c883df",
   "metadata": {},
   "outputs": [
    {
     "data": {
      "text/html": [
       "<div>\n",
       "<style scoped>\n",
       "    .dataframe tbody tr th:only-of-type {\n",
       "        vertical-align: middle;\n",
       "    }\n",
       "\n",
       "    .dataframe tbody tr th {\n",
       "        vertical-align: top;\n",
       "    }\n",
       "\n",
       "    .dataframe thead th {\n",
       "        text-align: right;\n",
       "    }\n",
       "</style>\n",
       "<table border=\"1\" class=\"dataframe\">\n",
       "  <thead>\n",
       "    <tr style=\"text-align: right;\">\n",
       "      <th></th>\n",
       "      <th>CRIM</th>\n",
       "      <th>ZN</th>\n",
       "      <th>INDUS</th>\n",
       "      <th>CHAS</th>\n",
       "      <th>NOX</th>\n",
       "      <th>RM</th>\n",
       "      <th>AGE</th>\n",
       "      <th>DIS</th>\n",
       "      <th>RAD</th>\n",
       "      <th>TAX</th>\n",
       "      <th>PTRATIO</th>\n",
       "      <th>B</th>\n",
       "      <th>LSTAT</th>\n",
       "    </tr>\n",
       "  </thead>\n",
       "  <tbody>\n",
       "    <tr>\n",
       "      <th>CRIM</th>\n",
       "      <td>1.000000</td>\n",
       "      <td>-0.195484</td>\n",
       "      <td>0.389041</td>\n",
       "      <td>-0.064685</td>\n",
       "      <td>0.403533</td>\n",
       "      <td>-0.206140</td>\n",
       "      <td>0.348293</td>\n",
       "      <td>-0.370307</td>\n",
       "      <td>0.607924</td>\n",
       "      <td>0.570912</td>\n",
       "      <td>0.282849</td>\n",
       "      <td>-0.372070</td>\n",
       "      <td>0.442998</td>\n",
       "    </tr>\n",
       "    <tr>\n",
       "      <th>ZN</th>\n",
       "      <td>-0.195484</td>\n",
       "      <td>1.000000</td>\n",
       "      <td>-0.544895</td>\n",
       "      <td>-0.035765</td>\n",
       "      <td>-0.520324</td>\n",
       "      <td>0.336601</td>\n",
       "      <td>-0.588529</td>\n",
       "      <td>0.700130</td>\n",
       "      <td>-0.318524</td>\n",
       "      <td>-0.312923</td>\n",
       "      <td>-0.403056</td>\n",
       "      <td>0.169418</td>\n",
       "      <td>-0.420601</td>\n",
       "    </tr>\n",
       "    <tr>\n",
       "      <th>INDUS</th>\n",
       "      <td>0.389041</td>\n",
       "      <td>-0.544895</td>\n",
       "      <td>1.000000</td>\n",
       "      <td>0.036735</td>\n",
       "      <td>0.768276</td>\n",
       "      <td>-0.388148</td>\n",
       "      <td>0.646452</td>\n",
       "      <td>-0.713545</td>\n",
       "      <td>0.586062</td>\n",
       "      <td>0.704795</td>\n",
       "      <td>0.387252</td>\n",
       "      <td>-0.353812</td>\n",
       "      <td>0.598079</td>\n",
       "    </tr>\n",
       "    <tr>\n",
       "      <th>CHAS</th>\n",
       "      <td>-0.064685</td>\n",
       "      <td>-0.035765</td>\n",
       "      <td>0.036735</td>\n",
       "      <td>1.000000</td>\n",
       "      <td>0.098402</td>\n",
       "      <td>0.101530</td>\n",
       "      <td>0.067883</td>\n",
       "      <td>-0.092186</td>\n",
       "      <td>-0.009136</td>\n",
       "      <td>-0.044917</td>\n",
       "      <td>-0.119846</td>\n",
       "      <td>0.046263</td>\n",
       "      <td>-0.047730</td>\n",
       "    </tr>\n",
       "    <tr>\n",
       "      <th>NOX</th>\n",
       "      <td>0.403533</td>\n",
       "      <td>-0.520324</td>\n",
       "      <td>0.768276</td>\n",
       "      <td>0.098402</td>\n",
       "      <td>1.000000</td>\n",
       "      <td>-0.325283</td>\n",
       "      <td>0.726234</td>\n",
       "      <td>-0.764939</td>\n",
       "      <td>0.608815</td>\n",
       "      <td>0.670951</td>\n",
       "      <td>0.189482</td>\n",
       "      <td>-0.388886</td>\n",
       "      <td>0.598603</td>\n",
       "    </tr>\n",
       "    <tr>\n",
       "      <th>RM</th>\n",
       "      <td>-0.206140</td>\n",
       "      <td>0.336601</td>\n",
       "      <td>-0.388148</td>\n",
       "      <td>0.101530</td>\n",
       "      <td>-0.325283</td>\n",
       "      <td>1.000000</td>\n",
       "      <td>-0.286281</td>\n",
       "      <td>0.248623</td>\n",
       "      <td>-0.200272</td>\n",
       "      <td>-0.267035</td>\n",
       "      <td>-0.355134</td>\n",
       "      <td>0.136416</td>\n",
       "      <td>-0.611438</td>\n",
       "    </tr>\n",
       "    <tr>\n",
       "      <th>AGE</th>\n",
       "      <td>0.348293</td>\n",
       "      <td>-0.588529</td>\n",
       "      <td>0.646452</td>\n",
       "      <td>0.067883</td>\n",
       "      <td>0.726234</td>\n",
       "      <td>-0.286281</td>\n",
       "      <td>1.000000</td>\n",
       "      <td>-0.752379</td>\n",
       "      <td>0.456785</td>\n",
       "      <td>0.509776</td>\n",
       "      <td>0.278642</td>\n",
       "      <td>-0.290676</td>\n",
       "      <td>0.637677</td>\n",
       "    </tr>\n",
       "    <tr>\n",
       "      <th>DIS</th>\n",
       "      <td>-0.370307</td>\n",
       "      <td>0.700130</td>\n",
       "      <td>-0.713545</td>\n",
       "      <td>-0.092186</td>\n",
       "      <td>-0.764939</td>\n",
       "      <td>0.248623</td>\n",
       "      <td>-0.752379</td>\n",
       "      <td>1.000000</td>\n",
       "      <td>-0.490342</td>\n",
       "      <td>-0.537312</td>\n",
       "      <td>-0.241096</td>\n",
       "      <td>0.286775</td>\n",
       "      <td>-0.510071</td>\n",
       "    </tr>\n",
       "    <tr>\n",
       "      <th>RAD</th>\n",
       "      <td>0.607924</td>\n",
       "      <td>-0.318524</td>\n",
       "      <td>0.586062</td>\n",
       "      <td>-0.009136</td>\n",
       "      <td>0.608815</td>\n",
       "      <td>-0.200272</td>\n",
       "      <td>0.456785</td>\n",
       "      <td>-0.490342</td>\n",
       "      <td>1.000000</td>\n",
       "      <td>0.919322</td>\n",
       "      <td>0.465916</td>\n",
       "      <td>-0.442095</td>\n",
       "      <td>0.475813</td>\n",
       "    </tr>\n",
       "    <tr>\n",
       "      <th>TAX</th>\n",
       "      <td>0.570912</td>\n",
       "      <td>-0.312923</td>\n",
       "      <td>0.704795</td>\n",
       "      <td>-0.044917</td>\n",
       "      <td>0.670951</td>\n",
       "      <td>-0.267035</td>\n",
       "      <td>0.509776</td>\n",
       "      <td>-0.537312</td>\n",
       "      <td>0.919322</td>\n",
       "      <td>1.000000</td>\n",
       "      <td>0.464998</td>\n",
       "      <td>-0.439585</td>\n",
       "      <td>0.525850</td>\n",
       "    </tr>\n",
       "    <tr>\n",
       "      <th>PTRATIO</th>\n",
       "      <td>0.282849</td>\n",
       "      <td>-0.403056</td>\n",
       "      <td>0.387252</td>\n",
       "      <td>-0.119846</td>\n",
       "      <td>0.189482</td>\n",
       "      <td>-0.355134</td>\n",
       "      <td>0.278642</td>\n",
       "      <td>-0.241096</td>\n",
       "      <td>0.465916</td>\n",
       "      <td>0.464998</td>\n",
       "      <td>1.000000</td>\n",
       "      <td>-0.160742</td>\n",
       "      <td>0.365036</td>\n",
       "    </tr>\n",
       "    <tr>\n",
       "      <th>B</th>\n",
       "      <td>-0.372070</td>\n",
       "      <td>0.169418</td>\n",
       "      <td>-0.353812</td>\n",
       "      <td>0.046263</td>\n",
       "      <td>-0.388886</td>\n",
       "      <td>0.136416</td>\n",
       "      <td>-0.290676</td>\n",
       "      <td>0.286775</td>\n",
       "      <td>-0.442095</td>\n",
       "      <td>-0.439585</td>\n",
       "      <td>-0.160742</td>\n",
       "      <td>1.000000</td>\n",
       "      <td>-0.369842</td>\n",
       "    </tr>\n",
       "    <tr>\n",
       "      <th>LSTAT</th>\n",
       "      <td>0.442998</td>\n",
       "      <td>-0.420601</td>\n",
       "      <td>0.598079</td>\n",
       "      <td>-0.047730</td>\n",
       "      <td>0.598603</td>\n",
       "      <td>-0.611438</td>\n",
       "      <td>0.637677</td>\n",
       "      <td>-0.510071</td>\n",
       "      <td>0.475813</td>\n",
       "      <td>0.525850</td>\n",
       "      <td>0.365036</td>\n",
       "      <td>-0.369842</td>\n",
       "      <td>1.000000</td>\n",
       "    </tr>\n",
       "  </tbody>\n",
       "</table>\n",
       "</div>"
      ],
      "text/plain": [
       "             CRIM        ZN     INDUS      CHAS       NOX        RM       AGE  \\\n",
       "CRIM     1.000000 -0.195484  0.389041 -0.064685  0.403533 -0.206140  0.348293   \n",
       "ZN      -0.195484  1.000000 -0.544895 -0.035765 -0.520324  0.336601 -0.588529   \n",
       "INDUS    0.389041 -0.544895  1.000000  0.036735  0.768276 -0.388148  0.646452   \n",
       "CHAS    -0.064685 -0.035765  0.036735  1.000000  0.098402  0.101530  0.067883   \n",
       "NOX      0.403533 -0.520324  0.768276  0.098402  1.000000 -0.325283  0.726234   \n",
       "RM      -0.206140  0.336601 -0.388148  0.101530 -0.325283  1.000000 -0.286281   \n",
       "AGE      0.348293 -0.588529  0.646452  0.067883  0.726234 -0.286281  1.000000   \n",
       "DIS     -0.370307  0.700130 -0.713545 -0.092186 -0.764939  0.248623 -0.752379   \n",
       "RAD      0.607924 -0.318524  0.586062 -0.009136  0.608815 -0.200272  0.456785   \n",
       "TAX      0.570912 -0.312923  0.704795 -0.044917  0.670951 -0.267035  0.509776   \n",
       "PTRATIO  0.282849 -0.403056  0.387252 -0.119846  0.189482 -0.355134  0.278642   \n",
       "B       -0.372070  0.169418 -0.353812  0.046263 -0.388886  0.136416 -0.290676   \n",
       "LSTAT    0.442998 -0.420601  0.598079 -0.047730  0.598603 -0.611438  0.637677   \n",
       "\n",
       "              DIS       RAD       TAX   PTRATIO         B     LSTAT  \n",
       "CRIM    -0.370307  0.607924  0.570912  0.282849 -0.372070  0.442998  \n",
       "ZN       0.700130 -0.318524 -0.312923 -0.403056  0.169418 -0.420601  \n",
       "INDUS   -0.713545  0.586062  0.704795  0.387252 -0.353812  0.598079  \n",
       "CHAS    -0.092186 -0.009136 -0.044917 -0.119846  0.046263 -0.047730  \n",
       "NOX     -0.764939  0.608815  0.670951  0.189482 -0.388886  0.598603  \n",
       "RM       0.248623 -0.200272 -0.267035 -0.355134  0.136416 -0.611438  \n",
       "AGE     -0.752379  0.456785  0.509776  0.278642 -0.290676  0.637677  \n",
       "DIS      1.000000 -0.490342 -0.537312 -0.241096  0.286775 -0.510071  \n",
       "RAD     -0.490342  1.000000  0.919322  0.465916 -0.442095  0.475813  \n",
       "TAX     -0.537312  0.919322  1.000000  0.464998 -0.439585  0.525850  \n",
       "PTRATIO -0.241096  0.465916  0.464998  1.000000 -0.160742  0.365036  \n",
       "B        0.286775 -0.442095 -0.439585 -0.160742  1.000000 -0.369842  \n",
       "LSTAT   -0.510071  0.475813  0.525850  0.365036 -0.369842  1.000000  "
      ]
     },
     "execution_count": 13,
     "metadata": {},
     "output_type": "execute_result"
    }
   ],
   "source": [
    "X_train.corr()"
   ]
  },
  {
   "cell_type": "markdown",
   "id": "5b883788",
   "metadata": {},
   "source": [
    "- Hay una alta correlacion entre CRIM y RAD (60.7%).\n",
    "- Hay una alta correlacion entre INDUS Y TAX (70.4%).\n",
    "- Hay una alta correlacion entre TAX y RAD (91.9%).\n",
    "- Notemos que los impuestos (TAX) estan muy correlacionado con las zonas industriales (INDUS) y con la distancia a las autopistas (RAD). Debemos investigar si existe colinealidad entre ellas para luego ser tratada.\n",
    "\n",
    "Ahora vamos a visualizar la correlacion entre todas las variables mediante un mapa de calor"
   ]
  },
  {
   "cell_type": "code",
   "execution_count": 14,
   "id": "fc2944e2",
   "metadata": {},
   "outputs": [
    {
     "data": {
      "text/plain": [
       "<AxesSubplot:>"
      ]
     },
     "execution_count": 14,
     "metadata": {},
     "output_type": "execute_result"
    },
    {
     "data": {
      "image/png": "[encoded data removed]",
      "text/plain": [
       "<Figure size 720x576 with 2 Axes>"
      ]
     },
     "metadata": {
      "needs_background": "light"
     },
     "output_type": "display_data"
    }
   ],
   "source": [
    "# mapa de calor\n",
    "plt.figure(figsize=(10, 8)) \n",
    "sns.heatmap(df.corr(), annot=True)"
   ]
  },
  {
   "cell_type": "markdown",
   "id": "cf117d93",
   "metadata": {},
   "source": [
    "Vemos una alta correlacion de la variable objetivo (Precio promedio de las casas MEDV) con:\n",
    "- Las zonas industriales (INDUS) de -0.49.\n",
    "- El estatus mas bajo de la poblacion (LSTAT). Tiene la mayor correlacion (de -0.74)\n",
    "- La concentracion de oxido nitrico (NOX) de -0.46.\n",
    "- El numero de habitaciones por vivienda (RM) de 0.65."
   ]
  },
  {
   "cell_type": "markdown",
   "id": "fbe1a984",
   "metadata": {},
   "source": [
    "**Visualizacion de relaciones entre las variables**\n",
    "\n",
    "Vamos a contrastar cada variable contra las demas para observar su comportamiento mediante graficas"
   ]
  },
  {
   "cell_type": "code",
   "execution_count": 15,
   "id": "c60ea8a5",
   "metadata": {},
   "outputs": [],
   "source": [
    "#sns.pairplot(df)"
   ]
  },
  {
   "cell_type": "markdown",
   "id": "9a1a55ba",
   "metadata": {},
   "source": [
    "Los graficos nos muestran que hay algunas variables con fuerte correlacion como son aquellas que presentan un comportamiento lineal. Nuestro interes radica en las relaciones con la variable objetivo MEDV. Podemos oservar un comportamiento lineal con  INDUS, RM, PTRATIO Y LSTAT"
   ]
  },
  {
   "cell_type": "markdown",
   "id": "4e26146a",
   "metadata": {},
   "source": [
    "**Visualizacion de la Distribucion de variables predictoras**\n",
    "\n",
    "En este caso no consideramos la variable CHAS ya que se trata de una variable binaria y la variable objetivo MEDV"
   ]
  },
  {
   "cell_type": "code",
   "execution_count": 16,
   "id": "d3747bd4",
   "metadata": {},
   "outputs": [
    {
     "data": {
      "image/png": "[encoded data removed]",
      "text/plain": [
       "<Figure size 1440x1440 with 12 Axes>"
      ]
     },
     "metadata": {
      "needs_background": "light"
     },
     "output_type": "display_data"
    }
   ],
   "source": [
    "(df.drop(['CHAS', 'MEDV'], axis=1)).hist(figsize=(20, 20), layout=(4, 3), grid=False);"
   ]
  },
  {
   "cell_type": "markdown",
   "id": "fbf34cfe",
   "metadata": {},
   "source": [
    "Reconozcamos aquellas variables que poseen una distribucion cercana a la normal ya que son mas faciles de implementar en el modelo.\n",
    "- RM presenta un comportamiento cercano al normal\n",
    "- ZN presenta valores extremos entre 60 y 100 lo cual podria afectar el rendimiento del modelo.\n",
    "- B tambien presenta valores extremos entre 0 y 100\n",
    "- LSTAT presenta mucho valores pequenos y pocos valores grandes decreciendo de forma continua"
   ]
  },
  {
   "cell_type": "markdown",
   "id": "a70e85f5",
   "metadata": {},
   "source": [
    "**Analisis de la variable Binaria**\n",
    "\n",
    "Veamos como se comportan ambos grupos en funcion de MEDV"
   ]
  },
  {
   "cell_type": "code",
   "execution_count": 17,
   "id": "cee5031d",
   "metadata": {},
   "outputs": [
    {
     "data": {
      "image/png": "[encoded data removed]",
      "text/plain": [
       "<Figure size 432x288 with 1 Axes>"
      ]
     },
     "metadata": {
      "needs_background": "light"
     },
     "output_type": "display_data"
    }
   ],
   "source": [
    "plt.figure(figsize=(6,4))\n",
    "\n",
    "sns.histplot(y_train[X_train.CHAS==1], kde=True, label='Si', color='red')\n",
    "sns.histplot(y_train[X_train.CHAS==0], kde=True, label='No', color='blue')\n",
    "\n",
    "plt.xlabel('MEDV', labelpad=13)\n",
    "plt.ylabel('Frecuencia', labelpad=13)\n",
    "\n",
    "plt.title('Valor medio por CHAS')\n",
    "plt.legend();"
   ]
  },
  {
   "cell_type": "markdown",
   "id": "66b1f676",
   "metadata": {},
   "source": [
    "Vemos que las distribuciones de ambos grupos no presenta mayor diferencia respecto a MEDV. De esta forma concluimos que CHAS no es significativa para MEDV y no debe tomarse en cuenta para el modelo"
   ]
  },
  {
   "cell_type": "markdown",
   "id": "efbfcd87",
   "metadata": {},
   "source": [
    "**Visualizacion de la distribucion de la variable predictora**"
   ]
  },
  {
   "cell_type": "code",
   "execution_count": 18,
   "id": "6349a442",
   "metadata": {},
   "outputs": [
    {
     "data": {
      "text/plain": [
       "<AxesSubplot:>"
      ]
     },
     "execution_count": 18,
     "metadata": {},
     "output_type": "execute_result"
    },
    {
     "data": {
      "image/png": "[encoded data removed]",
      "text/plain": [
       "<Figure size 432x288 with 1 Axes>"
      ]
     },
     "metadata": {
      "needs_background": "light"
     },
     "output_type": "display_data"
    }
   ],
   "source": [
    "y_train.hist()"
   ]
  },
  {
   "cell_type": "markdown",
   "id": "5048d6a6",
   "metadata": {},
   "source": [
    "La ditribucion presenta valores extremos a partir de 40 lo cual podria afectar el modelo. Analicemos con mas detalles los valores extremo mediante un grafico de caja"
   ]
  },
  {
   "cell_type": "code",
   "execution_count": 19,
   "id": "ff8888bc",
   "metadata": {},
   "outputs": [
    {
     "data": {
      "image/png": "[encoded data removed]",
      "text/plain": [
       "<Figure size 432x288 with 1 Axes>"
      ]
     },
     "metadata": {
      "needs_background": "light"
     },
     "output_type": "display_data"
    }
   ],
   "source": [
    "sns.boxplot(x=y_train);"
   ]
  },
  {
   "cell_type": "markdown",
   "id": "3e40ae99",
   "metadata": {},
   "source": [
    "El grafico claramente nos muestra valores extremos a partir de 38. Este conjunto de datos debe ser tratado o eliminado para que no afecte el ajuste del modelo"
   ]
  },
  {
   "cell_type": "markdown",
   "id": "a298a21c",
   "metadata": {},
   "source": [
    "## Ajuste del Modelo Lineal"
   ]
  },
  {
   "cell_type": "code",
   "execution_count": 20,
   "id": "b1f8a300",
   "metadata": {},
   "outputs": [],
   "source": [
    "# trabajamos con la libreria statsmodel\n",
    "import statsmodels.api as sm"
   ]
  },
  {
   "cell_type": "markdown",
   "id": "7a74fa89",
   "metadata": {},
   "source": [
    "Agrega una columna de unos a la matriz X_train para calcular el intercepto en el modelo de Regresion Lineal"
   ]
  },
  {
   "cell_type": "code",
   "execution_count": 21,
   "id": "82a29ce2",
   "metadata": {},
   "outputs": [],
   "source": [
    "X_constant = sm.add_constant(X_train)"
   ]
  },
  {
   "cell_type": "markdown",
   "id": "690a0af9",
   "metadata": {},
   "source": [
    "Crea un modelo de regresion lineal ordinaria (OLS) pasandole la variable objetivo y la matriz de caracteristicas aumentada y luego se ajusta el modelo mediante fit()"
   ]
  },
  {
   "cell_type": "code",
   "execution_count": 22,
   "id": "177ed7ff",
   "metadata": {},
   "outputs": [],
   "source": [
    "lin_reg = sm.OLS(y_train, X_constant).fit()"
   ]
  },
  {
   "cell_type": "markdown",
   "id": "4a725d00",
   "metadata": {},
   "source": [
    "Crea un resumen detallado del modelo"
   ]
  },
  {
   "cell_type": "code",
   "execution_count": 23,
   "id": "c85ef826",
   "metadata": {},
   "outputs": [
    {
     "data": {
      "text/html": [
       "<table class=\"simpletable\">\n",
       "<caption>OLS Regression Results</caption>\n",
       "<tr>\n",
       "  <th>Dep. Variable:</th>          <td>MEDV</td>       <th>  R-squared:         </th> <td>   0.717</td>\n",
       "</tr>\n",
       "<tr>\n",
       "  <th>Model:</th>                   <td>OLS</td>       <th>  Adj. R-squared:    </th> <td>   0.707</td>\n",
       "</tr>\n",
       "<tr>\n",
       "  <th>Method:</th>             <td>Least Squares</td>  <th>  F-statistic:       </th> <td>   71.07</td>\n",
       "</tr>\n",
       "<tr>\n",
       "  <th>Date:</th>             <td>Sat, 18 May 2024</td> <th>  Prob (F-statistic):</th> <td>1.72e-91</td>\n",
       "</tr>\n",
       "<tr>\n",
       "  <th>Time:</th>                 <td>09:30:22</td>     <th>  Log-Likelihood:    </th> <td> -1127.6</td>\n",
       "</tr>\n",
       "<tr>\n",
       "  <th>No. Observations:</th>      <td>   379</td>      <th>  AIC:               </th> <td>   2283.</td>\n",
       "</tr>\n",
       "<tr>\n",
       "  <th>Df Residuals:</th>          <td>   365</td>      <th>  BIC:               </th> <td>   2338.</td>\n",
       "</tr>\n",
       "<tr>\n",
       "  <th>Df Model:</th>              <td>    13</td>      <th>                     </th>     <td> </td>   \n",
       "</tr>\n",
       "<tr>\n",
       "  <th>Covariance Type:</th>      <td>nonrobust</td>    <th>                     </th>     <td> </td>   \n",
       "</tr>\n",
       "</table>\n",
       "<table class=\"simpletable\">\n",
       "<tr>\n",
       "     <td></td>        <th>coef</th>     <th>std err</th>      <th>t</th>      <th>P>|t|</th>  <th>[0.025</th>    <th>0.975]</th>  \n",
       "</tr>\n",
       "<tr>\n",
       "  <th>const</th>   <td>   45.1925</td> <td>    6.005</td> <td>    7.526</td> <td> 0.000</td> <td>   33.385</td> <td>   57.000</td>\n",
       "</tr>\n",
       "<tr>\n",
       "  <th>CRIM</th>    <td>   -0.1144</td> <td>    0.035</td> <td>   -3.276</td> <td> 0.001</td> <td>   -0.183</td> <td>   -0.046</td>\n",
       "</tr>\n",
       "<tr>\n",
       "  <th>ZN</th>      <td>    0.0571</td> <td>    0.017</td> <td>    3.332</td> <td> 0.001</td> <td>    0.023</td> <td>    0.091</td>\n",
       "</tr>\n",
       "<tr>\n",
       "  <th>INDUS</th>   <td>    0.0383</td> <td>    0.071</td> <td>    0.540</td> <td> 0.590</td> <td>   -0.101</td> <td>    0.178</td>\n",
       "</tr>\n",
       "<tr>\n",
       "  <th>CHAS</th>    <td>    2.4285</td> <td>    0.940</td> <td>    2.584</td> <td> 0.010</td> <td>    0.580</td> <td>    4.277</td>\n",
       "</tr>\n",
       "<tr>\n",
       "  <th>NOX</th>     <td>  -21.2326</td> <td>    4.453</td> <td>   -4.768</td> <td> 0.000</td> <td>  -29.990</td> <td>  -12.476</td>\n",
       "</tr>\n",
       "<tr>\n",
       "  <th>RM</th>      <td>    2.8772</td> <td>    0.497</td> <td>    5.786</td> <td> 0.000</td> <td>    1.899</td> <td>    3.855</td>\n",
       "</tr>\n",
       "<tr>\n",
       "  <th>AGE</th>     <td>    0.0069</td> <td>    0.016</td> <td>    0.437</td> <td> 0.662</td> <td>   -0.024</td> <td>    0.038</td>\n",
       "</tr>\n",
       "<tr>\n",
       "  <th>DIS</th>     <td>   -1.4716</td> <td>    0.240</td> <td>   -6.129</td> <td> 0.000</td> <td>   -1.944</td> <td>   -0.999</td>\n",
       "</tr>\n",
       "<tr>\n",
       "  <th>RAD</th>     <td>    0.3058</td> <td>    0.081</td> <td>    3.758</td> <td> 0.000</td> <td>    0.146</td> <td>    0.466</td>\n",
       "</tr>\n",
       "<tr>\n",
       "  <th>TAX</th>     <td>   -0.0107</td> <td>    0.005</td> <td>   -2.305</td> <td> 0.022</td> <td>   -0.020</td> <td>   -0.002</td>\n",
       "</tr>\n",
       "<tr>\n",
       "  <th>PTRATIO</th> <td>   -0.9961</td> <td>    0.159</td> <td>   -6.284</td> <td> 0.000</td> <td>   -1.308</td> <td>   -0.684</td>\n",
       "</tr>\n",
       "<tr>\n",
       "  <th>B</th>       <td>    0.0063</td> <td>    0.003</td> <td>    1.950</td> <td> 0.052</td> <td>-5.46e-05</td> <td>    0.013</td>\n",
       "</tr>\n",
       "<tr>\n",
       "  <th>LSTAT</th>   <td>   -0.5574</td> <td>    0.059</td> <td>   -9.382</td> <td> 0.000</td> <td>   -0.674</td> <td>   -0.441</td>\n",
       "</tr>\n",
       "</table>\n",
       "<table class=\"simpletable\">\n",
       "<tr>\n",
       "  <th>Omnibus:</th>       <td>149.481</td> <th>  Durbin-Watson:     </th> <td>   1.868</td> \n",
       "</tr>\n",
       "<tr>\n",
       "  <th>Prob(Omnibus):</th> <td> 0.000</td>  <th>  Jarque-Bera (JB):  </th> <td> 669.903</td> \n",
       "</tr>\n",
       "<tr>\n",
       "  <th>Skew:</th>          <td> 1.668</td>  <th>  Prob(JB):          </th> <td>3.41e-146</td>\n",
       "</tr>\n",
       "<tr>\n",
       "  <th>Kurtosis:</th>      <td> 8.593</td>  <th>  Cond. No.          </th> <td>1.51e+04</td> \n",
       "</tr>\n",
       "</table><br/><br/>Notes:<br/>[1] Standard Errors assume that the covariance matrix of the errors is correctly specified.<br/>[2] The condition number is large, 1.51e+04. This might indicate that there are<br/>strong multicollinearity or other numerical problems."
      ],
      "text/plain": [
       "<class 'statsmodels.iolib.summary.Summary'>\n",
       "\"\"\"\n",
       "                            OLS Regression Results                            \n",
       "==============================================================================\n",
       "Dep. Variable:                   MEDV   R-squared:                       0.717\n",
       "Model:                            OLS   Adj. R-squared:                  0.707\n",
       "Method:                 Least Squares   F-statistic:                     71.07\n",
       "Date:                Sat, 18 May 2024   Prob (F-statistic):           1.72e-91\n",
       "Time:                        09:30:22   Log-Likelihood:                -1127.6\n",
       "No. Observations:                 379   AIC:                             2283.\n",
       "Df Residuals:                     365   BIC:                             2338.\n",
       "Df Model:                          13                                         \n",
       "Covariance Type:            nonrobust                                         \n",
       "==============================================================================\n",
       "                 coef    std err          t      P>|t|      [0.025      0.975]\n",
       "------------------------------------------------------------------------------\n",
       "const         45.1925      6.005      7.526      0.000      33.385      57.000\n",
       "CRIM          -0.1144      0.035     -3.276      0.001      -0.183      -0.046\n",
       "ZN             0.0571      0.017      3.332      0.001       0.023       0.091\n",
       "INDUS          0.0383      0.071      0.540      0.590      -0.101       0.178\n",
       "CHAS           2.4285      0.940      2.584      0.010       0.580       4.277\n",
       "NOX          -21.2326      4.453     -4.768      0.000     -29.990     -12.476\n",
       "RM             2.8772      0.497      5.786      0.000       1.899       3.855\n",
       "AGE            0.0069      0.016      0.437      0.662      -0.024       0.038\n",
       "DIS           -1.4716      0.240     -6.129      0.000      -1.944      -0.999\n",
       "RAD            0.3058      0.081      3.758      0.000       0.146       0.466\n",
       "TAX           -0.0107      0.005     -2.305      0.022      -0.020      -0.002\n",
       "PTRATIO       -0.9961      0.159     -6.284      0.000      -1.308      -0.684\n",
       "B              0.0063      0.003      1.950      0.052   -5.46e-05       0.013\n",
       "LSTAT         -0.5574      0.059     -9.382      0.000      -0.674      -0.441\n",
       "==============================================================================\n",
       "Omnibus:                      149.481   Durbin-Watson:                   1.868\n",
       "Prob(Omnibus):                  0.000   Jarque-Bera (JB):              669.903\n",
       "Skew:                           1.668   Prob(JB):                    3.41e-146\n",
       "Kurtosis:                       8.593   Cond. No.                     1.51e+04\n",
       "==============================================================================\n",
       "\n",
       "Notes:\n",
       "[1] Standard Errors assume that the covariance matrix of the errors is correctly specified.\n",
       "[2] The condition number is large, 1.51e+04. This might indicate that there are\n",
       "strong multicollinearity or other numerical problems.\n",
       "\"\"\""
      ]
     },
     "execution_count": 23,
     "metadata": {},
     "output_type": "execute_result"
    }
   ],
   "source": [
    "lin_reg.summary()"
   ]
  },
  {
   "cell_type": "markdown",
   "id": "7202ce08",
   "metadata": {},
   "source": [
    "- Lo primero es verificar si el modelo es significativo. Para ello acudimos al valor de F-statistic el cual arroja un valor muy pequeno que esta por debajo del p-value(0.01) por tanto, decimos que el modelo es significativo.\n",
    "\n",
    "- Para comparar modelos entre si, nos guiamos por los valores de AIC y BIC (Criterio de Informacion Akaike y Criterio de Informacion Bayesiano respectivamente). Mientras mas pequeno sea, mejor es el ajuste del modelo\n",
    "\n",
    "- El R cuadrado indica la proporcion de variabilidad de la variable objetivo que es explicado por las variables predictoras. El resultado es que el 72% de los datos puede ser explicado por el modelo.\n",
    "\n",
    "- Las variables con p-value menor a 0.05 son significativas para el modelo. En este caso, tenemos que las variables INDUS, AGE y B no son significativas al modelo. Recordemos que INDUS tiene una alta correlacion con TAX.\n",
    "\n",
    "- Vemos que el valor de Durbin-Watson es de 1.8, muy cercano a 2 lo que indica que no hay autocorrelacion entre los residuos."
   ]
  },
  {
   "cell_type": "markdown",
   "id": "c2a9205b",
   "metadata": {},
   "source": [
    "**Conceptos importantes**\n",
    "\n",
    "1. AIC: es una medida de calidad del ajuste de un modelo que penaliza la complejidad del modelo. Cuanto menor sea, mejor se considera el ajuste del modelo. Se calcula de la siguiente manera:\n",
    "    $\n",
    "    AIC=−2×log(L)+2×k\n",
    "    $\n",
    "    - $L$ es la funcion de verosimilitud del modelo que mide la probabilidad de observar los datos dadas las estimaciones del modelo. \n",
    "    - $k$ es el numero de parametros estimados en el modelo\n",
    "    \n",
    "2. BIC: es similar a AIC pero utiliza una penalizacion mas fuerte para modelos con un mayor numero de parametros. Se calcula como sigue:\n",
    "    \n",
    "    $\n",
    "    BIC=−2×log(L)+k×log(n)\n",
    "    $\n",
    "    - $n$ es el numero de observaciones en los datos\n",
    "    \n",
    "3. Los residuales son el grado de libertad y se calcula como sigue:\n",
    "    $\n",
    "    Residuales = Observaciones - N_parametros - 1\n",
    "    $\n",
    "    \n",
    "4. La estadistica de Durbin-Watson: es una metrica utilizada para evaluar la autocorrelacion de los residuos de un modelo de regresion lineal. Se refiere a la correlacion entre los residuos en diferentes puntos en el tiempo o en diferentes observaciones consecutivas. El estadistico de prueba denotado por $d$ se calcula de la siguiente manera:\n",
    "\n",
    "    $\n",
    "    d=\\frac{\\sum_{i=1}^{N}(e_i-e_{i-1})^{2}}{\\sum_{i=1}^{N}(e_i)^{2}}\n",
    "    $\n",
    "\n",
    "    donde $N$ es el numero de observaciones y $e_i$ es el i-esimo residual del modelo. su valor oscila entre 0 y 4. En general, si $d$ es menor que 1.5 o mayor que 2.5, entonces existe un problema de autocorrelacion grave. Por otro lado, si d esta entre 1.5 y 2.5, entonces la autocorrelacion no es motivo de preocupacion. "
   ]
  },
  {
   "cell_type": "markdown",
   "id": "5289c3fe",
   "metadata": {},
   "source": [
    "## Evaluacion de los Supuestos del Modelo"
   ]
  },
  {
   "cell_type": "markdown",
   "id": "85a23046",
   "metadata": {},
   "source": [
    "Vamos a evaluar:\n",
    "- La media de los residuales igual a cero\n",
    "- La linealidad\n",
    "- La independencia\n",
    "- La normalidad\n",
    "- La igualdad de varianza"
   ]
  },
  {
   "cell_type": "markdown",
   "id": "9bb7c798",
   "metadata": {},
   "source": [
    "### Media de los residuales\n",
    "\n",
    "Para evaluar todos los supuestos, utilizamos los residuales que son la diferencia entre los valores esperados y los observados. El valor de todos los residuales debe ser cero o muy pequeno para asegurarnos que el modelo se ajusta bien a los datos."
   ]
  },
  {
   "cell_type": "code",
   "execution_count": 24,
   "id": "c844666d",
   "metadata": {},
   "outputs": [],
   "source": [
    "# obtenemos los residuos del modelo\n",
    "resid_val = lin_reg.resid\n",
    "\n",
    "# obtenemos los valores de prediccion del modelo\n",
    "predic_val = lin_reg.predict()"
   ]
  },
  {
   "cell_type": "code",
   "execution_count": 25,
   "id": "e18e76d2",
   "metadata": {},
   "outputs": [
    {
     "data": {
      "text/plain": [
       "1.9685220911559505e-15"
      ]
     },
     "execution_count": 25,
     "metadata": {},
     "output_type": "execute_result"
    }
   ],
   "source": [
    "# Calculamos la media de los residuos\n",
    "resid_val.mean()\n"
   ]
  },
  {
   "cell_type": "markdown",
   "id": "27a3037f",
   "metadata": {},
   "source": [
    "A pesar que la media de los residuales es muy cercano a cero, este resultado puede ser engañoso debido a que el modelo puede sobreajustarse a los datos. No va a tener un valor predictivo fuerte frente a nuevos datos."
   ]
  },
  {
   "cell_type": "markdown",
   "id": "f283604d",
   "metadata": {},
   "source": [
    "### Normalidad de los residuales y Prueba de Shapiro-Wilk\n",
    "\n",
    "Para probar la normalidad de los residuales trazamos un grafico Q-Q y observamos su comportamiento"
   ]
  },
  {
   "cell_type": "code",
   "execution_count": 26,
   "id": "c0986e59",
   "metadata": {},
   "outputs": [],
   "source": [
    "# importamos librerias\n",
    "from scipy import stats"
   ]
  },
  {
   "cell_type": "code",
   "execution_count": 27,
   "id": "29dfb518",
   "metadata": {},
   "outputs": [
    {
     "data": {
      "image/png": "[encoded data removed]",
      "text/plain": [
       "<Figure size 432x288 with 1 Axes>"
      ]
     },
     "execution_count": 27,
     "metadata": {},
     "output_type": "execute_result"
    },
    {
     "data": {
      "image/png": "[encoded data removed]",
      "text/plain": [
       "<Figure size 432x288 with 1 Axes>"
      ]
     },
     "metadata": {
      "needs_background": "light"
     },
     "output_type": "display_data"
    }
   ],
   "source": [
    "# grafico Q-Q\n",
    "sm.qqplot(resid_val, line='s')"
   ]
  },
  {
   "cell_type": "markdown",
   "id": "c81df841",
   "metadata": {},
   "source": [
    "Vemos que los residuales no presentan mucha normalidad. Para comprobarlo vamos a utilizar el prueba Shapiro-Wilk"
   ]
  },
  {
   "cell_type": "code",
   "execution_count": 28,
   "id": "0296e47c",
   "metadata": {},
   "outputs": [
    {
     "data": {
      "text/plain": [
       "ShapiroResult(statistic=0.8845531940460205, pvalue=2.8586837868196523e-16)"
      ]
     },
     "execution_count": 28,
     "metadata": {},
     "output_type": "execute_result"
    }
   ],
   "source": [
    "stats.shapiro(lin_reg.resid)"
   ]
  },
  {
   "cell_type": "markdown",
   "id": "c6b24892",
   "metadata": {},
   "source": [
    "Vemos que p-values es menor a 0.05 por tanto, rechazamos la hipotesis nula la cual indica que los residuos se distribuyen de manera normal. \n",
    "\n",
    "Este supuesto no es cumplido por los datos"
   ]
  },
  {
   "cell_type": "markdown",
   "id": "ce691b0b",
   "metadata": {},
   "source": [
    "### Linealidad\n",
    "\n",
    "Se consigue analizando el comportamiento del grafico de dispersion entre los valores observados y los valores predichos. "
   ]
  },
  {
   "cell_type": "code",
   "execution_count": 29,
   "id": "820fdf28",
   "metadata": {},
   "outputs": [
    {
     "data": {
      "image/png": "[encoded data removed]",
      "text/plain": [
       "<Figure size 432x288 with 1 Axes>"
      ]
     },
     "metadata": {
      "needs_background": "light"
     },
     "output_type": "display_data"
    }
   ],
   "source": [
    "# regplot permite crear un grafico de dispersion con una linea de regresion ajustada\n",
    "sns.regplot(x=predic_val, y=y_train, lowess=True, line_kws={'color':'red'})\n",
    "plt.title('Valores predichos vs observados');\n",
    "\n",
    "# lowess: indica que se debe ajustar una linea de regresion utilizando un suavizado local de minimos cuadrados\n",
    "# line_kws: especifica el colo de la linea"
   ]
  },
  {
   "cell_type": "markdown",
   "id": "56a50462",
   "metadata": {},
   "source": [
    "Notamos que los valores extremos estan afectando la linealidad del modelo por tanto, deben ser tratados"
   ]
  },
  {
   "cell_type": "markdown",
   "id": "a2ec73f0",
   "metadata": {},
   "source": [
    "### Igualdad de varianza: Homocedasticidad\n",
    "\n",
    "Para evaluar la homocedasticidad, analizamos el comportamiento del grafico de dispersion entre los valores predichos y los residuales."
   ]
  },
  {
   "cell_type": "code",
   "execution_count": 30,
   "id": "5b915e2d",
   "metadata": {},
   "outputs": [
    {
     "data": {
      "image/png": "[encoded data removed]",
      "text/plain": [
       "<Figure size 432x288 with 1 Axes>"
      ]
     },
     "metadata": {
      "needs_background": "light"
     },
     "output_type": "display_data"
    }
   ],
   "source": [
    "sns.regplot(x=predic_val, y=resid_val, lowess=True, line_kws={'color':'red'})\n",
    "plt.title('Valores predichos vs Residuales');"
   ]
  },
  {
   "cell_type": "markdown",
   "id": "e5f6e2e4",
   "metadata": {},
   "source": [
    "Para mostrar que hay igualdad de varianza los datos no deben seguir ningun patron, deben estar distribuidos de manera homogenea alrededor del cero en un rango uniforme.\n",
    "\n",
    "Dicho esto, vemos que la homogeneidad de los puntos en el rango de 0 a 15 es diferente a los puntos en el rango de 0 a -15.\n",
    "\n",
    "Para mejorar la visualizacion, es recomendable utilizar los valores residuales estandarizados!"
   ]
  },
  {
   "cell_type": "code",
   "execution_count": 31,
   "id": "ca4d1c7c",
   "metadata": {},
   "outputs": [
    {
     "data": {
      "image/png": "[encoded data removed]",
      "text/plain": [
       "<Figure size 432x288 with 1 Axes>"
      ]
     },
     "metadata": {
      "needs_background": "light"
     },
     "output_type": "display_data"
    }
   ],
   "source": [
    "resid_stand = lin_reg.get_influence().resid_studentized_internal\n",
    "# get.influence(): devuelve un objeto que proporciona informacion sobre la influencia de cada observacion en el ajuste del modelo\n",
    "# resid_studentized_internal: devuelve los residuos estandarizados del modelo que sin una medida de cuanto se desvian los residuos de la media\n",
    "\n",
    "sns.regplot(x=predic_val, y=resid_stand, lowess=True, line_kws={'color':'red'})\n",
    "plt.title('Valores predichos vs Residuales');"
   ]
  },
  {
   "cell_type": "markdown",
   "id": "e6a40ca4",
   "metadata": {},
   "source": [
    "Muestra mejor la diferencia entre ambos rangos, esta vez de 0 a 3 y de 0 a -3. Estos resultados indican que no se cumple la igualdad de varianza.\n",
    "\n",
    "Para verlo explicitamente, utilizamos la prueba de Breush-Pagan la cual nos arroja un valor que indica si cumple o no con la homocedasticidad"
   ]
  },
  {
   "cell_type": "code",
   "execution_count": 32,
   "id": "f8094e3d",
   "metadata": {},
   "outputs": [
    {
     "name": "stdout",
     "output_type": "stream",
     "text": [
      "(51.45901922174534, 1.6719426732536012e-06, 4.41108444161675, 5.922839619576887e-07)\n",
      "\n",
      "Breush - Pagan Test: p-value= 1.6719426732536012e-06\n"
     ]
    }
   ],
   "source": [
    "import statsmodels as sms\n",
    "\n",
    "BP_test = sms.stats.diagnostic.het_breuschpagan(resid_val, lin_reg.model.exog)\n",
    "\n",
    "print(BP_test)\n",
    "print('\\nBreush - Pagan Test: p-value=', BP_test[1])"
   ]
  },
  {
   "cell_type": "markdown",
   "id": "13c1bc49",
   "metadata": {},
   "source": [
    "el valor de p-value es menor a 0.05 por tanto, se rechaza la hipotesis que los datos cumplen con la homocedasticidad.\n",
    "\n",
    "Como mejorar estos resultado? podemos implementar lo siguiente:\n",
    "- Transformar la variable dependiente.\n",
    "- Redefinir la variable dependiente.\n",
    "- Utilizar otro tipo de regresion.\n",
    "- Eliminar outliers.\n",
    "- Tratamiento de puntos de mucha influencia"
   ]
  },
  {
   "cell_type": "markdown",
   "id": "ccaa64b5",
   "metadata": {},
   "source": [
    "## Eliminacion de Outliers en la variable objetivo\n",
    "\n",
    "Vamos a eliminar los valores extremos de la variable objetivo. Para ello, calculamos el rango que contiene el 99% de los datos. Fuera de ese rango se encuentran los outliers. \n",
    "\n",
    "Recordemos que este rango va desde la media mas 3 desviaciones estandar (limite superior) hasta la media menos 3 desviaciones estandar (limite inferior)"
   ]
  },
  {
   "cell_type": "code",
   "execution_count": 33,
   "id": "7501acde",
   "metadata": {},
   "outputs": [
    {
     "data": {
      "text/plain": [
       "(379, 13)"
      ]
     },
     "execution_count": 33,
     "metadata": {},
     "output_type": "execute_result"
    }
   ],
   "source": [
    "# observamos la cantidad de registros de entrenamiento\n",
    "X_train.shape"
   ]
  },
  {
   "cell_type": "code",
   "execution_count": 34,
   "id": "68c9da48",
   "metadata": {},
   "outputs": [
    {
     "name": "stdout",
     "output_type": "stream",
     "text": [
      "Limite superior:  49.107383436006884\n",
      "Limite inferior:  -4.418201377959392\n"
     ]
    }
   ],
   "source": [
    "# Calculo del limite superior\n",
    "p3 = y_train.mean() + 3*y_train.std()\n",
    "\n",
    "# Calculo del limite inferior\n",
    "p1 = y_train.mean() - 3*y_train.std()\n",
    "\n",
    "# mostrar rango\n",
    "print('Limite superior: ',p3)\n",
    "print('Limite inferior: ',p1)"
   ]
  },
  {
   "cell_type": "markdown",
   "id": "1f94eed7",
   "metadata": {},
   "source": [
    "Notamos que el limite inferior es negativo. Sin embargo, no existe precio medio de las casas negativo, por tanto, esto se interpreta como que no hay outiliers del lado izquierdo"
   ]
  },
  {
   "cell_type": "code",
   "execution_count": 35,
   "id": "90631fab",
   "metadata": {},
   "outputs": [
    {
     "name": "stdout",
     "output_type": "stream",
     "text": [
      "        CRIM    ZN  INDUS  CHAS    NOX     RM    AGE     DIS   RAD    TAX  \\\n",
      "161  1.46336   0.0  19.58   0.0  0.605  7.489   90.8  1.9709   5.0  403.0   \n",
      "186  0.05602   0.0   2.46   0.0  0.488  7.831   53.6  3.1992   3.0  193.0   \n",
      "372  8.26725   0.0  18.10   1.0  0.668  5.875   89.6  1.1296  24.0  666.0   \n",
      "283  0.01501  90.0   1.21   1.0  0.401  7.923   24.8  5.8850   1.0  198.0   \n",
      "163  1.51902   0.0  19.58   1.0  0.605  8.375   93.9  2.1620   5.0  403.0   \n",
      "368  4.89822   0.0  18.10   0.0  0.631  4.970  100.0  1.3325  24.0  666.0   \n",
      "369  5.66998   0.0  18.10   1.0  0.631  6.683   96.8  1.3567  24.0  666.0   \n",
      "166  2.01019   0.0  19.58   0.0  0.605  7.929   96.2  2.0459   5.0  403.0   \n",
      "195  0.01381  80.0   0.46   0.0  0.422  7.875   32.0  5.6484   4.0  255.0   \n",
      "371  9.23230   0.0  18.10   0.0  0.631  6.216  100.0  1.1691  24.0  666.0   \n",
      "\n",
      "     PTRATIO       B  LSTAT  \n",
      "161     14.7  374.43   1.73  \n",
      "186     17.8  392.63   4.45  \n",
      "372     20.2  347.88   8.88  \n",
      "283     13.6  395.52   3.16  \n",
      "163     14.7  388.45   3.32  \n",
      "368     20.2  375.52   3.26  \n",
      "369     20.2  375.33   3.73  \n",
      "166     14.7  369.30   3.70  \n",
      "195     14.4  394.23   2.97  \n",
      "371     20.2  366.15   9.53  \n"
     ]
    }
   ],
   "source": [
    "# mostrar registros con outliers\n",
    "print(X_train[(y_train > p3) | (y_train < p1)])"
   ]
  },
  {
   "cell_type": "markdown",
   "id": "153b4c34",
   "metadata": {},
   "source": [
    "Vemos que existen 10 registros que se consideran outliers.\n",
    "\n",
    "Para seleccionar los registros sin outliers, tenemos dos formas de hacerlo:\n",
    "\n",
    "1. Seleccion de registros usando la Desviacion Estandar\n",
    "2. Seleccion de registros usando IQR"
   ]
  },
  {
   "cell_type": "code",
   "execution_count": 36,
   "id": "6a496ddd",
   "metadata": {},
   "outputs": [
    {
     "name": "stdout",
     "output_type": "stream",
     "text": [
      "(369, 13) (369,)\n"
     ]
    }
   ],
   "source": [
    "# Usando la desviacion estandar\n",
    "X_out = X_train[(y_train <= p3) & (y_train >= p1)]\n",
    "y_out = y_train[(y_train <= p3) & (y_train >= p1)]\n",
    "\n",
    "print(X_out.shape, y_out.shape)"
   ]
  },
  {
   "cell_type": "markdown",
   "id": "7d4aa24b",
   "metadata": {},
   "source": [
    "La cantidad de registros limpios de outliers usando la desviacion estandar es de 369"
   ]
  },
  {
   "cell_type": "code",
   "execution_count": 37,
   "id": "13fe5fc6",
   "metadata": {},
   "outputs": [
    {
     "data": {
      "text/html": [
       "<div>\n",
       "<style scoped>\n",
       "    .dataframe tbody tr th:only-of-type {\n",
       "        vertical-align: middle;\n",
       "    }\n",
       "\n",
       "    .dataframe tbody tr th {\n",
       "        vertical-align: top;\n",
       "    }\n",
       "\n",
       "    .dataframe thead th {\n",
       "        text-align: right;\n",
       "    }\n",
       "</style>\n",
       "<table border=\"1\" class=\"dataframe\">\n",
       "  <thead>\n",
       "    <tr style=\"text-align: right;\">\n",
       "      <th></th>\n",
       "      <th>CRIM</th>\n",
       "      <th>ZN</th>\n",
       "      <th>INDUS</th>\n",
       "      <th>CHAS</th>\n",
       "      <th>NOX</th>\n",
       "      <th>RM</th>\n",
       "      <th>AGE</th>\n",
       "      <th>DIS</th>\n",
       "      <th>RAD</th>\n",
       "      <th>TAX</th>\n",
       "      <th>PTRATIO</th>\n",
       "      <th>B</th>\n",
       "      <th>LSTAT</th>\n",
       "    </tr>\n",
       "  </thead>\n",
       "  <tbody>\n",
       "    <tr>\n",
       "      <th>180</th>\n",
       "      <td>0.06588</td>\n",
       "      <td>0.0</td>\n",
       "      <td>2.46</td>\n",
       "      <td>0.0</td>\n",
       "      <td>0.4880</td>\n",
       "      <td>7.765</td>\n",
       "      <td>83.3</td>\n",
       "      <td>2.7410</td>\n",
       "      <td>3.0</td>\n",
       "      <td>193.0</td>\n",
       "      <td>17.8</td>\n",
       "      <td>395.56</td>\n",
       "      <td>7.56</td>\n",
       "    </tr>\n",
       "    <tr>\n",
       "      <th>98</th>\n",
       "      <td>0.08187</td>\n",
       "      <td>0.0</td>\n",
       "      <td>2.89</td>\n",
       "      <td>0.0</td>\n",
       "      <td>0.4450</td>\n",
       "      <td>7.820</td>\n",
       "      <td>36.9</td>\n",
       "      <td>3.4952</td>\n",
       "      <td>2.0</td>\n",
       "      <td>276.0</td>\n",
       "      <td>18.0</td>\n",
       "      <td>393.53</td>\n",
       "      <td>3.57</td>\n",
       "    </tr>\n",
       "    <tr>\n",
       "      <th>161</th>\n",
       "      <td>1.46336</td>\n",
       "      <td>0.0</td>\n",
       "      <td>19.58</td>\n",
       "      <td>0.0</td>\n",
       "      <td>0.6050</td>\n",
       "      <td>7.489</td>\n",
       "      <td>90.8</td>\n",
       "      <td>1.9709</td>\n",
       "      <td>5.0</td>\n",
       "      <td>403.0</td>\n",
       "      <td>14.7</td>\n",
       "      <td>374.43</td>\n",
       "      <td>1.73</td>\n",
       "    </tr>\n",
       "    <tr>\n",
       "      <th>157</th>\n",
       "      <td>1.22358</td>\n",
       "      <td>0.0</td>\n",
       "      <td>19.58</td>\n",
       "      <td>0.0</td>\n",
       "      <td>0.6050</td>\n",
       "      <td>6.943</td>\n",
       "      <td>97.4</td>\n",
       "      <td>1.8773</td>\n",
       "      <td>5.0</td>\n",
       "      <td>403.0</td>\n",
       "      <td>14.7</td>\n",
       "      <td>363.43</td>\n",
       "      <td>4.59</td>\n",
       "    </tr>\n",
       "    <tr>\n",
       "      <th>186</th>\n",
       "      <td>0.05602</td>\n",
       "      <td>0.0</td>\n",
       "      <td>2.46</td>\n",
       "      <td>0.0</td>\n",
       "      <td>0.4880</td>\n",
       "      <td>7.831</td>\n",
       "      <td>53.6</td>\n",
       "      <td>3.1992</td>\n",
       "      <td>3.0</td>\n",
       "      <td>193.0</td>\n",
       "      <td>17.8</td>\n",
       "      <td>392.63</td>\n",
       "      <td>4.45</td>\n",
       "    </tr>\n",
       "    <tr>\n",
       "      <th>372</th>\n",
       "      <td>8.26725</td>\n",
       "      <td>0.0</td>\n",
       "      <td>18.10</td>\n",
       "      <td>1.0</td>\n",
       "      <td>0.6680</td>\n",
       "      <td>5.875</td>\n",
       "      <td>89.6</td>\n",
       "      <td>1.1296</td>\n",
       "      <td>24.0</td>\n",
       "      <td>666.0</td>\n",
       "      <td>20.2</td>\n",
       "      <td>347.88</td>\n",
       "      <td>8.88</td>\n",
       "    </tr>\n",
       "    <tr>\n",
       "      <th>256</th>\n",
       "      <td>0.01538</td>\n",
       "      <td>90.0</td>\n",
       "      <td>3.75</td>\n",
       "      <td>0.0</td>\n",
       "      <td>0.3940</td>\n",
       "      <td>7.454</td>\n",
       "      <td>34.2</td>\n",
       "      <td>6.3361</td>\n",
       "      <td>3.0</td>\n",
       "      <td>244.0</td>\n",
       "      <td>15.9</td>\n",
       "      <td>386.34</td>\n",
       "      <td>3.11</td>\n",
       "    </tr>\n",
       "    <tr>\n",
       "      <th>283</th>\n",
       "      <td>0.01501</td>\n",
       "      <td>90.0</td>\n",
       "      <td>1.21</td>\n",
       "      <td>1.0</td>\n",
       "      <td>0.4010</td>\n",
       "      <td>7.923</td>\n",
       "      <td>24.8</td>\n",
       "      <td>5.8850</td>\n",
       "      <td>1.0</td>\n",
       "      <td>198.0</td>\n",
       "      <td>13.6</td>\n",
       "      <td>395.52</td>\n",
       "      <td>3.16</td>\n",
       "    </tr>\n",
       "    <tr>\n",
       "      <th>163</th>\n",
       "      <td>1.51902</td>\n",
       "      <td>0.0</td>\n",
       "      <td>19.58</td>\n",
       "      <td>1.0</td>\n",
       "      <td>0.6050</td>\n",
       "      <td>8.375</td>\n",
       "      <td>93.9</td>\n",
       "      <td>2.1620</td>\n",
       "      <td>5.0</td>\n",
       "      <td>403.0</td>\n",
       "      <td>14.7</td>\n",
       "      <td>388.45</td>\n",
       "      <td>3.32</td>\n",
       "    </tr>\n",
       "    <tr>\n",
       "      <th>228</th>\n",
       "      <td>0.29819</td>\n",
       "      <td>0.0</td>\n",
       "      <td>6.20</td>\n",
       "      <td>0.0</td>\n",
       "      <td>0.5040</td>\n",
       "      <td>7.686</td>\n",
       "      <td>17.0</td>\n",
       "      <td>3.3751</td>\n",
       "      <td>8.0</td>\n",
       "      <td>307.0</td>\n",
       "      <td>17.4</td>\n",
       "      <td>377.51</td>\n",
       "      <td>3.92</td>\n",
       "    </tr>\n",
       "    <tr>\n",
       "      <th>97</th>\n",
       "      <td>0.12083</td>\n",
       "      <td>0.0</td>\n",
       "      <td>2.89</td>\n",
       "      <td>0.0</td>\n",
       "      <td>0.4450</td>\n",
       "      <td>8.069</td>\n",
       "      <td>76.0</td>\n",
       "      <td>3.4952</td>\n",
       "      <td>2.0</td>\n",
       "      <td>276.0</td>\n",
       "      <td>18.0</td>\n",
       "      <td>396.90</td>\n",
       "      <td>4.21</td>\n",
       "    </tr>\n",
       "    <tr>\n",
       "      <th>182</th>\n",
       "      <td>0.09103</td>\n",
       "      <td>0.0</td>\n",
       "      <td>2.46</td>\n",
       "      <td>0.0</td>\n",
       "      <td>0.4880</td>\n",
       "      <td>7.155</td>\n",
       "      <td>92.2</td>\n",
       "      <td>2.7006</td>\n",
       "      <td>3.0</td>\n",
       "      <td>193.0</td>\n",
       "      <td>17.8</td>\n",
       "      <td>394.12</td>\n",
       "      <td>4.82</td>\n",
       "    </tr>\n",
       "    <tr>\n",
       "      <th>368</th>\n",
       "      <td>4.89822</td>\n",
       "      <td>0.0</td>\n",
       "      <td>18.10</td>\n",
       "      <td>0.0</td>\n",
       "      <td>0.6310</td>\n",
       "      <td>4.970</td>\n",
       "      <td>100.0</td>\n",
       "      <td>1.3325</td>\n",
       "      <td>24.0</td>\n",
       "      <td>666.0</td>\n",
       "      <td>20.2</td>\n",
       "      <td>375.52</td>\n",
       "      <td>3.26</td>\n",
       "    </tr>\n",
       "    <tr>\n",
       "      <th>202</th>\n",
       "      <td>0.02177</td>\n",
       "      <td>82.5</td>\n",
       "      <td>2.03</td>\n",
       "      <td>0.0</td>\n",
       "      <td>0.4150</td>\n",
       "      <td>7.610</td>\n",
       "      <td>15.7</td>\n",
       "      <td>6.2700</td>\n",
       "      <td>2.0</td>\n",
       "      <td>348.0</td>\n",
       "      <td>14.7</td>\n",
       "      <td>395.38</td>\n",
       "      <td>3.11</td>\n",
       "    </tr>\n",
       "    <tr>\n",
       "      <th>262</th>\n",
       "      <td>0.52014</td>\n",
       "      <td>20.0</td>\n",
       "      <td>3.97</td>\n",
       "      <td>0.0</td>\n",
       "      <td>0.6470</td>\n",
       "      <td>8.398</td>\n",
       "      <td>91.5</td>\n",
       "      <td>2.2885</td>\n",
       "      <td>5.0</td>\n",
       "      <td>264.0</td>\n",
       "      <td>13.0</td>\n",
       "      <td>386.86</td>\n",
       "      <td>5.91</td>\n",
       "    </tr>\n",
       "    <tr>\n",
       "      <th>253</th>\n",
       "      <td>0.36894</td>\n",
       "      <td>22.0</td>\n",
       "      <td>5.86</td>\n",
       "      <td>0.0</td>\n",
       "      <td>0.4310</td>\n",
       "      <td>8.259</td>\n",
       "      <td>8.4</td>\n",
       "      <td>8.9067</td>\n",
       "      <td>7.0</td>\n",
       "      <td>330.0</td>\n",
       "      <td>19.1</td>\n",
       "      <td>396.90</td>\n",
       "      <td>3.54</td>\n",
       "    </tr>\n",
       "    <tr>\n",
       "      <th>369</th>\n",
       "      <td>5.66998</td>\n",
       "      <td>0.0</td>\n",
       "      <td>18.10</td>\n",
       "      <td>1.0</td>\n",
       "      <td>0.6310</td>\n",
       "      <td>6.683</td>\n",
       "      <td>96.8</td>\n",
       "      <td>1.3567</td>\n",
       "      <td>24.0</td>\n",
       "      <td>666.0</td>\n",
       "      <td>20.2</td>\n",
       "      <td>375.33</td>\n",
       "      <td>3.73</td>\n",
       "    </tr>\n",
       "    <tr>\n",
       "      <th>190</th>\n",
       "      <td>0.09068</td>\n",
       "      <td>45.0</td>\n",
       "      <td>3.44</td>\n",
       "      <td>0.0</td>\n",
       "      <td>0.4370</td>\n",
       "      <td>6.951</td>\n",
       "      <td>21.5</td>\n",
       "      <td>6.4798</td>\n",
       "      <td>5.0</td>\n",
       "      <td>398.0</td>\n",
       "      <td>15.2</td>\n",
       "      <td>377.68</td>\n",
       "      <td>5.10</td>\n",
       "    </tr>\n",
       "    <tr>\n",
       "      <th>166</th>\n",
       "      <td>2.01019</td>\n",
       "      <td>0.0</td>\n",
       "      <td>19.58</td>\n",
       "      <td>0.0</td>\n",
       "      <td>0.6050</td>\n",
       "      <td>7.929</td>\n",
       "      <td>96.2</td>\n",
       "      <td>2.0459</td>\n",
       "      <td>5.0</td>\n",
       "      <td>403.0</td>\n",
       "      <td>14.7</td>\n",
       "      <td>369.30</td>\n",
       "      <td>3.70</td>\n",
       "    </tr>\n",
       "    <tr>\n",
       "      <th>195</th>\n",
       "      <td>0.01381</td>\n",
       "      <td>80.0</td>\n",
       "      <td>0.46</td>\n",
       "      <td>0.0</td>\n",
       "      <td>0.4220</td>\n",
       "      <td>7.875</td>\n",
       "      <td>32.0</td>\n",
       "      <td>5.6484</td>\n",
       "      <td>4.0</td>\n",
       "      <td>255.0</td>\n",
       "      <td>14.4</td>\n",
       "      <td>394.23</td>\n",
       "      <td>2.97</td>\n",
       "    </tr>\n",
       "    <tr>\n",
       "      <th>282</th>\n",
       "      <td>0.06129</td>\n",
       "      <td>20.0</td>\n",
       "      <td>3.33</td>\n",
       "      <td>1.0</td>\n",
       "      <td>0.4429</td>\n",
       "      <td>7.645</td>\n",
       "      <td>49.7</td>\n",
       "      <td>5.2119</td>\n",
       "      <td>5.0</td>\n",
       "      <td>216.0</td>\n",
       "      <td>14.9</td>\n",
       "      <td>377.07</td>\n",
       "      <td>3.01</td>\n",
       "    </tr>\n",
       "    <tr>\n",
       "      <th>226</th>\n",
       "      <td>0.38214</td>\n",
       "      <td>0.0</td>\n",
       "      <td>6.20</td>\n",
       "      <td>0.0</td>\n",
       "      <td>0.5040</td>\n",
       "      <td>8.040</td>\n",
       "      <td>86.5</td>\n",
       "      <td>3.2157</td>\n",
       "      <td>8.0</td>\n",
       "      <td>307.0</td>\n",
       "      <td>17.4</td>\n",
       "      <td>387.38</td>\n",
       "      <td>3.13</td>\n",
       "    </tr>\n",
       "    <tr>\n",
       "      <th>371</th>\n",
       "      <td>9.23230</td>\n",
       "      <td>0.0</td>\n",
       "      <td>18.10</td>\n",
       "      <td>0.0</td>\n",
       "      <td>0.6310</td>\n",
       "      <td>6.216</td>\n",
       "      <td>100.0</td>\n",
       "      <td>1.1691</td>\n",
       "      <td>24.0</td>\n",
       "      <td>666.0</td>\n",
       "      <td>20.2</td>\n",
       "      <td>366.15</td>\n",
       "      <td>9.53</td>\n",
       "    </tr>\n",
       "    <tr>\n",
       "      <th>280</th>\n",
       "      <td>0.03578</td>\n",
       "      <td>20.0</td>\n",
       "      <td>3.33</td>\n",
       "      <td>0.0</td>\n",
       "      <td>0.4429</td>\n",
       "      <td>7.820</td>\n",
       "      <td>64.5</td>\n",
       "      <td>4.6947</td>\n",
       "      <td>5.0</td>\n",
       "      <td>216.0</td>\n",
       "      <td>14.9</td>\n",
       "      <td>387.31</td>\n",
       "      <td>3.76</td>\n",
       "    </tr>\n",
       "    <tr>\n",
       "      <th>405</th>\n",
       "      <td>67.92080</td>\n",
       "      <td>0.0</td>\n",
       "      <td>18.10</td>\n",
       "      <td>0.0</td>\n",
       "      <td>0.6930</td>\n",
       "      <td>5.683</td>\n",
       "      <td>100.0</td>\n",
       "      <td>1.4254</td>\n",
       "      <td>24.0</td>\n",
       "      <td>666.0</td>\n",
       "      <td>20.2</td>\n",
       "      <td>384.97</td>\n",
       "      <td>22.98</td>\n",
       "    </tr>\n",
       "    <tr>\n",
       "      <th>398</th>\n",
       "      <td>38.35180</td>\n",
       "      <td>0.0</td>\n",
       "      <td>18.10</td>\n",
       "      <td>0.0</td>\n",
       "      <td>0.6930</td>\n",
       "      <td>5.453</td>\n",
       "      <td>100.0</td>\n",
       "      <td>1.4896</td>\n",
       "      <td>24.0</td>\n",
       "      <td>666.0</td>\n",
       "      <td>20.2</td>\n",
       "      <td>396.90</td>\n",
       "      <td>30.59</td>\n",
       "    </tr>\n",
       "    <tr>\n",
       "      <th>203</th>\n",
       "      <td>0.03510</td>\n",
       "      <td>95.0</td>\n",
       "      <td>2.68</td>\n",
       "      <td>0.0</td>\n",
       "      <td>0.4161</td>\n",
       "      <td>7.853</td>\n",
       "      <td>33.2</td>\n",
       "      <td>5.1180</td>\n",
       "      <td>4.0</td>\n",
       "      <td>224.0</td>\n",
       "      <td>14.7</td>\n",
       "      <td>392.78</td>\n",
       "      <td>3.81</td>\n",
       "    </tr>\n",
       "  </tbody>\n",
       "</table>\n",
       "</div>"
      ],
      "text/plain": [
       "         CRIM    ZN  INDUS  CHAS     NOX     RM    AGE     DIS   RAD    TAX  \\\n",
       "180   0.06588   0.0   2.46   0.0  0.4880  7.765   83.3  2.7410   3.0  193.0   \n",
       "98    0.08187   0.0   2.89   0.0  0.4450  7.820   36.9  3.4952   2.0  276.0   \n",
       "161   1.46336   0.0  19.58   0.0  0.6050  7.489   90.8  1.9709   5.0  403.0   \n",
       "157   1.22358   0.0  19.58   0.0  0.6050  6.943   97.4  1.8773   5.0  403.0   \n",
       "186   0.05602   0.0   2.46   0.0  0.4880  7.831   53.6  3.1992   3.0  193.0   \n",
       "372   8.26725   0.0  18.10   1.0  0.6680  5.875   89.6  1.1296  24.0  666.0   \n",
       "256   0.01538  90.0   3.75   0.0  0.3940  7.454   34.2  6.3361   3.0  244.0   \n",
       "283   0.01501  90.0   1.21   1.0  0.4010  7.923   24.8  5.8850   1.0  198.0   \n",
       "163   1.51902   0.0  19.58   1.0  0.6050  8.375   93.9  2.1620   5.0  403.0   \n",
       "228   0.29819   0.0   6.20   0.0  0.5040  7.686   17.0  3.3751   8.0  307.0   \n",
       "97    0.12083   0.0   2.89   0.0  0.4450  8.069   76.0  3.4952   2.0  276.0   \n",
       "182   0.09103   0.0   2.46   0.0  0.4880  7.155   92.2  2.7006   3.0  193.0   \n",
       "368   4.89822   0.0  18.10   0.0  0.6310  4.970  100.0  1.3325  24.0  666.0   \n",
       "202   0.02177  82.5   2.03   0.0  0.4150  7.610   15.7  6.2700   2.0  348.0   \n",
       "262   0.52014  20.0   3.97   0.0  0.6470  8.398   91.5  2.2885   5.0  264.0   \n",
       "253   0.36894  22.0   5.86   0.0  0.4310  8.259    8.4  8.9067   7.0  330.0   \n",
       "369   5.66998   0.0  18.10   1.0  0.6310  6.683   96.8  1.3567  24.0  666.0   \n",
       "190   0.09068  45.0   3.44   0.0  0.4370  6.951   21.5  6.4798   5.0  398.0   \n",
       "166   2.01019   0.0  19.58   0.0  0.6050  7.929   96.2  2.0459   5.0  403.0   \n",
       "195   0.01381  80.0   0.46   0.0  0.4220  7.875   32.0  5.6484   4.0  255.0   \n",
       "282   0.06129  20.0   3.33   1.0  0.4429  7.645   49.7  5.2119   5.0  216.0   \n",
       "226   0.38214   0.0   6.20   0.0  0.5040  8.040   86.5  3.2157   8.0  307.0   \n",
       "371   9.23230   0.0  18.10   0.0  0.6310  6.216  100.0  1.1691  24.0  666.0   \n",
       "280   0.03578  20.0   3.33   0.0  0.4429  7.820   64.5  4.6947   5.0  216.0   \n",
       "405  67.92080   0.0  18.10   0.0  0.6930  5.683  100.0  1.4254  24.0  666.0   \n",
       "398  38.35180   0.0  18.10   0.0  0.6930  5.453  100.0  1.4896  24.0  666.0   \n",
       "203   0.03510  95.0   2.68   0.0  0.4161  7.853   33.2  5.1180   4.0  224.0   \n",
       "\n",
       "     PTRATIO       B  LSTAT  \n",
       "180     17.8  395.56   7.56  \n",
       "98      18.0  393.53   3.57  \n",
       "161     14.7  374.43   1.73  \n",
       "157     14.7  363.43   4.59  \n",
       "186     17.8  392.63   4.45  \n",
       "372     20.2  347.88   8.88  \n",
       "256     15.9  386.34   3.11  \n",
       "283     13.6  395.52   3.16  \n",
       "163     14.7  388.45   3.32  \n",
       "228     17.4  377.51   3.92  \n",
       "97      18.0  396.90   4.21  \n",
       "182     17.8  394.12   4.82  \n",
       "368     20.2  375.52   3.26  \n",
       "202     14.7  395.38   3.11  \n",
       "262     13.0  386.86   5.91  \n",
       "253     19.1  396.90   3.54  \n",
       "369     20.2  375.33   3.73  \n",
       "190     15.2  377.68   5.10  \n",
       "166     14.7  369.30   3.70  \n",
       "195     14.4  394.23   2.97  \n",
       "282     14.9  377.07   3.01  \n",
       "226     17.4  387.38   3.13  \n",
       "371     20.2  366.15   9.53  \n",
       "280     14.9  387.31   3.76  \n",
       "405     20.2  384.97  22.98  \n",
       "398     20.2  396.90  30.59  \n",
       "203     14.7  392.78   3.81  "
      ]
     },
     "execution_count": 37,
     "metadata": {},
     "output_type": "execute_result"
    }
   ],
   "source": [
    "# Usando IQR\n",
    "# calcula IQR\n",
    "pct_25 = y_train.quantile(0.25)\n",
    "pct_75 = y_train.quantile(0.75)\n",
    "iqr = pct_75 - pct_25\n",
    "\n",
    "# encontrar los limites superior e inferior\n",
    "upper_limit = pct_75 + 1.5*iqr\n",
    "lower_limit = pct_25 - 1.5*iqr\n",
    "\n",
    "# mostrar los registros con outliers\n",
    "X_train[(y_train > upper_limit) | (y_train < lower_limit)]"
   ]
  },
  {
   "cell_type": "code",
   "execution_count": 38,
   "id": "bc2dda0d",
   "metadata": {},
   "outputs": [
    {
     "name": "stdout",
     "output_type": "stream",
     "text": [
      "(352, 13) (352,)\n"
     ]
    }
   ],
   "source": [
    "# ahora, seleccionamos los registros sin outliers\n",
    "X_out2 = X_train[(y_train <= upper_limit) & (y_train >= lower_limit)]\n",
    "y_out2 = y_train[(y_train <= upper_limit) & (y_train >= lower_limit)]\n",
    "\n",
    "# mostrar registros con outliers\n",
    "print(X_out2.shape, y_out2.shape)"
   ]
  },
  {
   "cell_type": "markdown",
   "id": "4006e305",
   "metadata": {},
   "source": [
    "Ahora vemos que los registros libres de outliers son 352, 17 menos que utilizando la desviacion estandar. Esto se debe a que ambos procedimientos difieren en cuanto al calculo de los limites, siendo IQR mas preciso y el mas utilizado en la literatura"
   ]
  },
  {
   "cell_type": "markdown",
   "id": "cfa8aed0",
   "metadata": {},
   "source": [
    "## Eliminar variables con alto VIF\n",
    "\n",
    "VIF o factor de influencia de la varianza es una metrica utilizada para determinar aquellas variables con alta multicolinealidad. Si encontramos dos variables mayores a 5 indica que una se explica por la otra y por tanto podemos quedarnos con una de ellas para la regresion "
   ]
  },
  {
   "cell_type": "code",
   "execution_count": 39,
   "id": "4204d2cd",
   "metadata": {},
   "outputs": [
    {
     "data": {
      "text/html": [
       "<div>\n",
       "<style scoped>\n",
       "    .dataframe tbody tr th:only-of-type {\n",
       "        vertical-align: middle;\n",
       "    }\n",
       "\n",
       "    .dataframe tbody tr th {\n",
       "        vertical-align: top;\n",
       "    }\n",
       "\n",
       "    .dataframe thead th {\n",
       "        text-align: right;\n",
       "    }\n",
       "</style>\n",
       "<table border=\"1\" class=\"dataframe\">\n",
       "  <thead>\n",
       "    <tr style=\"text-align: right;\">\n",
       "      <th></th>\n",
       "      <th>CRIM</th>\n",
       "      <th>ZN</th>\n",
       "      <th>INDUS</th>\n",
       "      <th>CHAS</th>\n",
       "      <th>NOX</th>\n",
       "      <th>RM</th>\n",
       "      <th>AGE</th>\n",
       "      <th>DIS</th>\n",
       "      <th>RAD</th>\n",
       "      <th>TAX</th>\n",
       "      <th>PTRATIO</th>\n",
       "      <th>B</th>\n",
       "      <th>LSTAT</th>\n",
       "    </tr>\n",
       "  </thead>\n",
       "  <tbody>\n",
       "    <tr>\n",
       "      <th>vif</th>\n",
       "      <td>1.73723</td>\n",
       "      <td>2.627307</td>\n",
       "      <td>3.856971</td>\n",
       "      <td>1.077297</td>\n",
       "      <td>4.458539</td>\n",
       "      <td>1.892447</td>\n",
       "      <td>3.235926</td>\n",
       "      <td>4.269367</td>\n",
       "      <td>8.179646</td>\n",
       "      <td>9.982152</td>\n",
       "      <td>1.866287</td>\n",
       "      <td>1.348138</td>\n",
       "      <td>2.99954</td>\n",
       "    </tr>\n",
       "  </tbody>\n",
       "</table>\n",
       "</div>"
      ],
      "text/plain": [
       "        CRIM        ZN     INDUS      CHAS       NOX        RM       AGE  \\\n",
       "vif  1.73723  2.627307  3.856971  1.077297  4.458539  1.892447  3.235926   \n",
       "\n",
       "          DIS       RAD       TAX   PTRATIO         B    LSTAT  \n",
       "vif  4.269367  8.179646  9.982152  1.866287  1.348138  2.99954  "
      ]
     },
     "execution_count": 39,
     "metadata": {},
     "output_type": "execute_result"
    }
   ],
   "source": [
    "# importamos metodo\n",
    "from statsmodels.stats.outliers_influence import variance_inflation_factor\n",
    "\n",
    "# calculo de vif\n",
    "vif = [variance_inflation_factor(X_constant.values, i) for i in range(X_constant.shape[1])]\n",
    "pd.DataFrame({'vif': vif[1:]}, index=X_out2.columns).T"
   ]
  },
  {
   "cell_type": "markdown",
   "id": "5e48443a",
   "metadata": {},
   "source": [
    "Vemos que RAD y TAX poseen valores de vif mayores a 5. Esto indica que estan muy relacionadas por lo que procedemos a eliminar una de ellas. Pero cual eliminar? Veamos la correlacion de ambas variables con la variable objetivo para tomar la decision mas acertada"
   ]
  },
  {
   "cell_type": "code",
   "execution_count": 40,
   "id": "2a4f9a93",
   "metadata": {},
   "outputs": [
    {
     "data": {
      "text/html": [
       "<div>\n",
       "<style scoped>\n",
       "    .dataframe tbody tr th:only-of-type {\n",
       "        vertical-align: middle;\n",
       "    }\n",
       "\n",
       "    .dataframe tbody tr th {\n",
       "        vertical-align: top;\n",
       "    }\n",
       "\n",
       "    .dataframe thead th {\n",
       "        text-align: right;\n",
       "    }\n",
       "</style>\n",
       "<table border=\"1\" class=\"dataframe\">\n",
       "  <thead>\n",
       "    <tr style=\"text-align: right;\">\n",
       "      <th></th>\n",
       "      <th>TAX</th>\n",
       "      <th>RAD</th>\n",
       "      <th>MEDV</th>\n",
       "    </tr>\n",
       "  </thead>\n",
       "  <tbody>\n",
       "    <tr>\n",
       "      <th>TAX</th>\n",
       "      <td>1.000000</td>\n",
       "      <td>0.918772</td>\n",
       "      <td>-0.575629</td>\n",
       "    </tr>\n",
       "    <tr>\n",
       "      <th>RAD</th>\n",
       "      <td>0.918772</td>\n",
       "      <td>1.000000</td>\n",
       "      <td>-0.491530</td>\n",
       "    </tr>\n",
       "    <tr>\n",
       "      <th>MEDV</th>\n",
       "      <td>-0.575629</td>\n",
       "      <td>-0.491530</td>\n",
       "      <td>1.000000</td>\n",
       "    </tr>\n",
       "  </tbody>\n",
       "</table>\n",
       "</div>"
      ],
      "text/plain": [
       "           TAX       RAD      MEDV\n",
       "TAX   1.000000  0.918772 -0.575629\n",
       "RAD   0.918772  1.000000 -0.491530\n",
       "MEDV -0.575629 -0.491530  1.000000"
      ]
     },
     "execution_count": 40,
     "metadata": {},
     "output_type": "execute_result"
    }
   ],
   "source": [
    "# correlacion con MEDV\n",
    "pd.concat([X_out2[['TAX','RAD']], y_out2], axis=1).corr()"
   ]
  },
  {
   "cell_type": "markdown",
   "id": "b2efa2a4",
   "metadata": {},
   "source": [
    "El resultado muestra que TAX tiene una mayor correlacion con MEDV por lo que eliminamos la variable RAD. Sin embargo, hay que considerar la relacion de RAD con las demas variables para ver si es conveniente omitirla de la regresion"
   ]
  },
  {
   "cell_type": "code",
   "execution_count": 41,
   "id": "d3cd63d2",
   "metadata": {},
   "outputs": [
    {
     "data": {
      "text/html": [
       "<div>\n",
       "<style scoped>\n",
       "    .dataframe tbody tr th:only-of-type {\n",
       "        vertical-align: middle;\n",
       "    }\n",
       "\n",
       "    .dataframe tbody tr th {\n",
       "        vertical-align: top;\n",
       "    }\n",
       "\n",
       "    .dataframe thead th {\n",
       "        text-align: right;\n",
       "    }\n",
       "</style>\n",
       "<table border=\"1\" class=\"dataframe\">\n",
       "  <thead>\n",
       "    <tr style=\"text-align: right;\">\n",
       "      <th></th>\n",
       "      <th>CRIM</th>\n",
       "      <th>ZN</th>\n",
       "      <th>INDUS</th>\n",
       "      <th>CHAS</th>\n",
       "      <th>NOX</th>\n",
       "      <th>RM</th>\n",
       "      <th>AGE</th>\n",
       "      <th>DIS</th>\n",
       "      <th>RAD</th>\n",
       "      <th>TAX</th>\n",
       "      <th>PTRATIO</th>\n",
       "      <th>B</th>\n",
       "      <th>LSTAT</th>\n",
       "    </tr>\n",
       "  </thead>\n",
       "  <tbody>\n",
       "    <tr>\n",
       "      <th>CRIM</th>\n",
       "      <td>1.000000</td>\n",
       "      <td>-0.195484</td>\n",
       "      <td>0.389041</td>\n",
       "      <td>-0.064685</td>\n",
       "      <td>0.403533</td>\n",
       "      <td>-0.206140</td>\n",
       "      <td>0.348293</td>\n",
       "      <td>-0.370307</td>\n",
       "      <td>0.607924</td>\n",
       "      <td>0.570912</td>\n",
       "      <td>0.282849</td>\n",
       "      <td>-0.372070</td>\n",
       "      <td>0.442998</td>\n",
       "    </tr>\n",
       "    <tr>\n",
       "      <th>ZN</th>\n",
       "      <td>-0.195484</td>\n",
       "      <td>1.000000</td>\n",
       "      <td>-0.544895</td>\n",
       "      <td>-0.035765</td>\n",
       "      <td>-0.520324</td>\n",
       "      <td>0.336601</td>\n",
       "      <td>-0.588529</td>\n",
       "      <td>0.700130</td>\n",
       "      <td>-0.318524</td>\n",
       "      <td>-0.312923</td>\n",
       "      <td>-0.403056</td>\n",
       "      <td>0.169418</td>\n",
       "      <td>-0.420601</td>\n",
       "    </tr>\n",
       "    <tr>\n",
       "      <th>INDUS</th>\n",
       "      <td>0.389041</td>\n",
       "      <td>-0.544895</td>\n",
       "      <td>1.000000</td>\n",
       "      <td>0.036735</td>\n",
       "      <td>0.768276</td>\n",
       "      <td>-0.388148</td>\n",
       "      <td>0.646452</td>\n",
       "      <td>-0.713545</td>\n",
       "      <td>0.586062</td>\n",
       "      <td>0.704795</td>\n",
       "      <td>0.387252</td>\n",
       "      <td>-0.353812</td>\n",
       "      <td>0.598079</td>\n",
       "    </tr>\n",
       "    <tr>\n",
       "      <th>CHAS</th>\n",
       "      <td>-0.064685</td>\n",
       "      <td>-0.035765</td>\n",
       "      <td>0.036735</td>\n",
       "      <td>1.000000</td>\n",
       "      <td>0.098402</td>\n",
       "      <td>0.101530</td>\n",
       "      <td>0.067883</td>\n",
       "      <td>-0.092186</td>\n",
       "      <td>-0.009136</td>\n",
       "      <td>-0.044917</td>\n",
       "      <td>-0.119846</td>\n",
       "      <td>0.046263</td>\n",
       "      <td>-0.047730</td>\n",
       "    </tr>\n",
       "    <tr>\n",
       "      <th>NOX</th>\n",
       "      <td>0.403533</td>\n",
       "      <td>-0.520324</td>\n",
       "      <td>0.768276</td>\n",
       "      <td>0.098402</td>\n",
       "      <td>1.000000</td>\n",
       "      <td>-0.325283</td>\n",
       "      <td>0.726234</td>\n",
       "      <td>-0.764939</td>\n",
       "      <td>0.608815</td>\n",
       "      <td>0.670951</td>\n",
       "      <td>0.189482</td>\n",
       "      <td>-0.388886</td>\n",
       "      <td>0.598603</td>\n",
       "    </tr>\n",
       "    <tr>\n",
       "      <th>RM</th>\n",
       "      <td>-0.206140</td>\n",
       "      <td>0.336601</td>\n",
       "      <td>-0.388148</td>\n",
       "      <td>0.101530</td>\n",
       "      <td>-0.325283</td>\n",
       "      <td>1.000000</td>\n",
       "      <td>-0.286281</td>\n",
       "      <td>0.248623</td>\n",
       "      <td>-0.200272</td>\n",
       "      <td>-0.267035</td>\n",
       "      <td>-0.355134</td>\n",
       "      <td>0.136416</td>\n",
       "      <td>-0.611438</td>\n",
       "    </tr>\n",
       "    <tr>\n",
       "      <th>AGE</th>\n",
       "      <td>0.348293</td>\n",
       "      <td>-0.588529</td>\n",
       "      <td>0.646452</td>\n",
       "      <td>0.067883</td>\n",
       "      <td>0.726234</td>\n",
       "      <td>-0.286281</td>\n",
       "      <td>1.000000</td>\n",
       "      <td>-0.752379</td>\n",
       "      <td>0.456785</td>\n",
       "      <td>0.509776</td>\n",
       "      <td>0.278642</td>\n",
       "      <td>-0.290676</td>\n",
       "      <td>0.637677</td>\n",
       "    </tr>\n",
       "    <tr>\n",
       "      <th>DIS</th>\n",
       "      <td>-0.370307</td>\n",
       "      <td>0.700130</td>\n",
       "      <td>-0.713545</td>\n",
       "      <td>-0.092186</td>\n",
       "      <td>-0.764939</td>\n",
       "      <td>0.248623</td>\n",
       "      <td>-0.752379</td>\n",
       "      <td>1.000000</td>\n",
       "      <td>-0.490342</td>\n",
       "      <td>-0.537312</td>\n",
       "      <td>-0.241096</td>\n",
       "      <td>0.286775</td>\n",
       "      <td>-0.510071</td>\n",
       "    </tr>\n",
       "    <tr>\n",
       "      <th>RAD</th>\n",
       "      <td>0.607924</td>\n",
       "      <td>-0.318524</td>\n",
       "      <td>0.586062</td>\n",
       "      <td>-0.009136</td>\n",
       "      <td>0.608815</td>\n",
       "      <td>-0.200272</td>\n",
       "      <td>0.456785</td>\n",
       "      <td>-0.490342</td>\n",
       "      <td>1.000000</td>\n",
       "      <td>0.919322</td>\n",
       "      <td>0.465916</td>\n",
       "      <td>-0.442095</td>\n",
       "      <td>0.475813</td>\n",
       "    </tr>\n",
       "    <tr>\n",
       "      <th>TAX</th>\n",
       "      <td>0.570912</td>\n",
       "      <td>-0.312923</td>\n",
       "      <td>0.704795</td>\n",
       "      <td>-0.044917</td>\n",
       "      <td>0.670951</td>\n",
       "      <td>-0.267035</td>\n",
       "      <td>0.509776</td>\n",
       "      <td>-0.537312</td>\n",
       "      <td>0.919322</td>\n",
       "      <td>1.000000</td>\n",
       "      <td>0.464998</td>\n",
       "      <td>-0.439585</td>\n",
       "      <td>0.525850</td>\n",
       "    </tr>\n",
       "    <tr>\n",
       "      <th>PTRATIO</th>\n",
       "      <td>0.282849</td>\n",
       "      <td>-0.403056</td>\n",
       "      <td>0.387252</td>\n",
       "      <td>-0.119846</td>\n",
       "      <td>0.189482</td>\n",
       "      <td>-0.355134</td>\n",
       "      <td>0.278642</td>\n",
       "      <td>-0.241096</td>\n",
       "      <td>0.465916</td>\n",
       "      <td>0.464998</td>\n",
       "      <td>1.000000</td>\n",
       "      <td>-0.160742</td>\n",
       "      <td>0.365036</td>\n",
       "    </tr>\n",
       "    <tr>\n",
       "      <th>B</th>\n",
       "      <td>-0.372070</td>\n",
       "      <td>0.169418</td>\n",
       "      <td>-0.353812</td>\n",
       "      <td>0.046263</td>\n",
       "      <td>-0.388886</td>\n",
       "      <td>0.136416</td>\n",
       "      <td>-0.290676</td>\n",
       "      <td>0.286775</td>\n",
       "      <td>-0.442095</td>\n",
       "      <td>-0.439585</td>\n",
       "      <td>-0.160742</td>\n",
       "      <td>1.000000</td>\n",
       "      <td>-0.369842</td>\n",
       "    </tr>\n",
       "    <tr>\n",
       "      <th>LSTAT</th>\n",
       "      <td>0.442998</td>\n",
       "      <td>-0.420601</td>\n",
       "      <td>0.598079</td>\n",
       "      <td>-0.047730</td>\n",
       "      <td>0.598603</td>\n",
       "      <td>-0.611438</td>\n",
       "      <td>0.637677</td>\n",
       "      <td>-0.510071</td>\n",
       "      <td>0.475813</td>\n",
       "      <td>0.525850</td>\n",
       "      <td>0.365036</td>\n",
       "      <td>-0.369842</td>\n",
       "      <td>1.000000</td>\n",
       "    </tr>\n",
       "  </tbody>\n",
       "</table>\n",
       "</div>"
      ],
      "text/plain": [
       "             CRIM        ZN     INDUS      CHAS       NOX        RM       AGE  \\\n",
       "CRIM     1.000000 -0.195484  0.389041 -0.064685  0.403533 -0.206140  0.348293   \n",
       "ZN      -0.195484  1.000000 -0.544895 -0.035765 -0.520324  0.336601 -0.588529   \n",
       "INDUS    0.389041 -0.544895  1.000000  0.036735  0.768276 -0.388148  0.646452   \n",
       "CHAS    -0.064685 -0.035765  0.036735  1.000000  0.098402  0.101530  0.067883   \n",
       "NOX      0.403533 -0.520324  0.768276  0.098402  1.000000 -0.325283  0.726234   \n",
       "RM      -0.206140  0.336601 -0.388148  0.101530 -0.325283  1.000000 -0.286281   \n",
       "AGE      0.348293 -0.588529  0.646452  0.067883  0.726234 -0.286281  1.000000   \n",
       "DIS     -0.370307  0.700130 -0.713545 -0.092186 -0.764939  0.248623 -0.752379   \n",
       "RAD      0.607924 -0.318524  0.586062 -0.009136  0.608815 -0.200272  0.456785   \n",
       "TAX      0.570912 -0.312923  0.704795 -0.044917  0.670951 -0.267035  0.509776   \n",
       "PTRATIO  0.282849 -0.403056  0.387252 -0.119846  0.189482 -0.355134  0.278642   \n",
       "B       -0.372070  0.169418 -0.353812  0.046263 -0.388886  0.136416 -0.290676   \n",
       "LSTAT    0.442998 -0.420601  0.598079 -0.047730  0.598603 -0.611438  0.637677   \n",
       "\n",
       "              DIS       RAD       TAX   PTRATIO         B     LSTAT  \n",
       "CRIM    -0.370307  0.607924  0.570912  0.282849 -0.372070  0.442998  \n",
       "ZN       0.700130 -0.318524 -0.312923 -0.403056  0.169418 -0.420601  \n",
       "INDUS   -0.713545  0.586062  0.704795  0.387252 -0.353812  0.598079  \n",
       "CHAS    -0.092186 -0.009136 -0.044917 -0.119846  0.046263 -0.047730  \n",
       "NOX     -0.764939  0.608815  0.670951  0.189482 -0.388886  0.598603  \n",
       "RM       0.248623 -0.200272 -0.267035 -0.355134  0.136416 -0.611438  \n",
       "AGE     -0.752379  0.456785  0.509776  0.278642 -0.290676  0.637677  \n",
       "DIS      1.000000 -0.490342 -0.537312 -0.241096  0.286775 -0.510071  \n",
       "RAD     -0.490342  1.000000  0.919322  0.465916 -0.442095  0.475813  \n",
       "TAX     -0.537312  0.919322  1.000000  0.464998 -0.439585  0.525850  \n",
       "PTRATIO -0.241096  0.465916  0.464998  1.000000 -0.160742  0.365036  \n",
       "B        0.286775 -0.442095 -0.439585 -0.160742  1.000000 -0.369842  \n",
       "LSTAT   -0.510071  0.475813  0.525850  0.365036 -0.369842  1.000000  "
      ]
     },
     "execution_count": 41,
     "metadata": {},
     "output_type": "execute_result"
    }
   ],
   "source": [
    "X_train.corr()"
   ]
  },
  {
   "cell_type": "markdown",
   "id": "8f45056d",
   "metadata": {},
   "source": [
    "La tabla muestra que la correlacion para INDUS es mayor en TAX que en RAD. Lo mismo sucede en las variables CHAS, NOX, RM, AGE y LSTAT. Esto indica que la variable que realmente debemos eliminar es TAX en vez de RAD"
   ]
  },
  {
   "cell_type": "code",
   "execution_count": 42,
   "id": "6f239490",
   "metadata": {},
   "outputs": [
    {
     "data": {
      "text/html": [
       "<div>\n",
       "<style scoped>\n",
       "    .dataframe tbody tr th:only-of-type {\n",
       "        vertical-align: middle;\n",
       "    }\n",
       "\n",
       "    .dataframe tbody tr th {\n",
       "        vertical-align: top;\n",
       "    }\n",
       "\n",
       "    .dataframe thead th {\n",
       "        text-align: right;\n",
       "    }\n",
       "</style>\n",
       "<table border=\"1\" class=\"dataframe\">\n",
       "  <thead>\n",
       "    <tr style=\"text-align: right;\">\n",
       "      <th></th>\n",
       "      <th>CRIM</th>\n",
       "      <th>ZN</th>\n",
       "      <th>INDUS</th>\n",
       "      <th>CHAS</th>\n",
       "      <th>NOX</th>\n",
       "      <th>RM</th>\n",
       "      <th>AGE</th>\n",
       "      <th>DIS</th>\n",
       "      <th>RAD</th>\n",
       "      <th>PTRATIO</th>\n",
       "      <th>B</th>\n",
       "      <th>LSTAT</th>\n",
       "    </tr>\n",
       "  </thead>\n",
       "  <tbody>\n",
       "    <tr>\n",
       "      <th>502</th>\n",
       "      <td>0.04527</td>\n",
       "      <td>0.0</td>\n",
       "      <td>11.93</td>\n",
       "      <td>0.0</td>\n",
       "      <td>0.573</td>\n",
       "      <td>6.120</td>\n",
       "      <td>76.7</td>\n",
       "      <td>2.2875</td>\n",
       "      <td>1.0</td>\n",
       "      <td>21.0</td>\n",
       "      <td>396.90</td>\n",
       "      <td>9.08</td>\n",
       "    </tr>\n",
       "    <tr>\n",
       "      <th>172</th>\n",
       "      <td>0.13914</td>\n",
       "      <td>0.0</td>\n",
       "      <td>4.05</td>\n",
       "      <td>0.0</td>\n",
       "      <td>0.510</td>\n",
       "      <td>5.572</td>\n",
       "      <td>88.5</td>\n",
       "      <td>2.5961</td>\n",
       "      <td>5.0</td>\n",
       "      <td>16.6</td>\n",
       "      <td>396.90</td>\n",
       "      <td>14.69</td>\n",
       "    </tr>\n",
       "    <tr>\n",
       "      <th>80</th>\n",
       "      <td>0.04113</td>\n",
       "      <td>25.0</td>\n",
       "      <td>4.86</td>\n",
       "      <td>0.0</td>\n",
       "      <td>0.426</td>\n",
       "      <td>6.727</td>\n",
       "      <td>33.5</td>\n",
       "      <td>5.4007</td>\n",
       "      <td>4.0</td>\n",
       "      <td>19.0</td>\n",
       "      <td>396.90</td>\n",
       "      <td>5.29</td>\n",
       "    </tr>\n",
       "    <tr>\n",
       "      <th>46</th>\n",
       "      <td>0.18836</td>\n",
       "      <td>0.0</td>\n",
       "      <td>6.91</td>\n",
       "      <td>0.0</td>\n",
       "      <td>0.448</td>\n",
       "      <td>5.786</td>\n",
       "      <td>33.3</td>\n",
       "      <td>5.1004</td>\n",
       "      <td>3.0</td>\n",
       "      <td>17.9</td>\n",
       "      <td>396.90</td>\n",
       "      <td>14.15</td>\n",
       "    </tr>\n",
       "    <tr>\n",
       "      <th>318</th>\n",
       "      <td>0.40202</td>\n",
       "      <td>0.0</td>\n",
       "      <td>9.90</td>\n",
       "      <td>0.0</td>\n",
       "      <td>0.544</td>\n",
       "      <td>6.382</td>\n",
       "      <td>67.2</td>\n",
       "      <td>3.5325</td>\n",
       "      <td>4.0</td>\n",
       "      <td>18.4</td>\n",
       "      <td>395.21</td>\n",
       "      <td>10.36</td>\n",
       "    </tr>\n",
       "  </tbody>\n",
       "</table>\n",
       "</div>"
      ],
      "text/plain": [
       "        CRIM    ZN  INDUS  CHAS    NOX     RM   AGE     DIS  RAD  PTRATIO  \\\n",
       "502  0.04527   0.0  11.93   0.0  0.573  6.120  76.7  2.2875  1.0     21.0   \n",
       "172  0.13914   0.0   4.05   0.0  0.510  5.572  88.5  2.5961  5.0     16.6   \n",
       "80   0.04113  25.0   4.86   0.0  0.426  6.727  33.5  5.4007  4.0     19.0   \n",
       "46   0.18836   0.0   6.91   0.0  0.448  5.786  33.3  5.1004  3.0     17.9   \n",
       "318  0.40202   0.0   9.90   0.0  0.544  6.382  67.2  3.5325  4.0     18.4   \n",
       "\n",
       "          B  LSTAT  \n",
       "502  396.90   9.08  \n",
       "172  396.90  14.69  \n",
       "80   396.90   5.29  \n",
       "46   396.90  14.15  \n",
       "318  395.21  10.36  "
      ]
     },
     "execution_count": 42,
     "metadata": {},
     "output_type": "execute_result"
    }
   ],
   "source": [
    "# eliminar TAX de los datos\n",
    "X2 = X_out2.drop('TAX', axis=1)\n",
    "X2.head()"
   ]
  },
  {
   "cell_type": "markdown",
   "id": "31ec5139",
   "metadata": {},
   "source": [
    "## Ajuste nuevo modelo"
   ]
  },
  {
   "cell_type": "code",
   "execution_count": 43,
   "id": "1090e4e0",
   "metadata": {},
   "outputs": [
    {
     "data": {
      "text/html": [
       "<table class=\"simpletable\">\n",
       "<caption>OLS Regression Results</caption>\n",
       "<tr>\n",
       "  <th>Dep. Variable:</th>          <td>MEDV</td>       <th>  R-squared:         </th> <td>   0.763</td>\n",
       "</tr>\n",
       "<tr>\n",
       "  <th>Model:</th>                   <td>OLS</td>       <th>  Adj. R-squared:    </th> <td>   0.754</td>\n",
       "</tr>\n",
       "<tr>\n",
       "  <th>Method:</th>             <td>Least Squares</td>  <th>  F-statistic:       </th> <td>   90.80</td>\n",
       "</tr>\n",
       "<tr>\n",
       "  <th>Date:</th>             <td>Sat, 18 May 2024</td> <th>  Prob (F-statistic):</th> <td>4.28e-98</td>\n",
       "</tr>\n",
       "<tr>\n",
       "  <th>Time:</th>                 <td>09:30:24</td>     <th>  Log-Likelihood:    </th> <td> -901.27</td>\n",
       "</tr>\n",
       "<tr>\n",
       "  <th>No. Observations:</th>      <td>   352</td>      <th>  AIC:               </th> <td>   1829.</td>\n",
       "</tr>\n",
       "<tr>\n",
       "  <th>Df Residuals:</th>          <td>   339</td>      <th>  BIC:               </th> <td>   1879.</td>\n",
       "</tr>\n",
       "<tr>\n",
       "  <th>Df Model:</th>              <td>    12</td>      <th>                     </th>     <td> </td>   \n",
       "</tr>\n",
       "<tr>\n",
       "  <th>Covariance Type:</th>      <td>nonrobust</td>    <th>                     </th>     <td> </td>   \n",
       "</tr>\n",
       "</table>\n",
       "<table class=\"simpletable\">\n",
       "<tr>\n",
       "     <td></td>        <th>coef</th>     <th>std err</th>      <th>t</th>      <th>P>|t|</th>  <th>[0.025</th>    <th>0.975]</th>  \n",
       "</tr>\n",
       "<tr>\n",
       "  <th>const</th>   <td>   42.9822</td> <td>    4.175</td> <td>   10.296</td> <td> 0.000</td> <td>   34.771</td> <td>   51.194</td>\n",
       "</tr>\n",
       "<tr>\n",
       "  <th>CRIM</th>    <td>   -0.1033</td> <td>    0.026</td> <td>   -4.034</td> <td> 0.000</td> <td>   -0.154</td> <td>   -0.053</td>\n",
       "</tr>\n",
       "<tr>\n",
       "  <th>ZN</th>      <td>    0.0311</td> <td>    0.012</td> <td>    2.608</td> <td> 0.010</td> <td>    0.008</td> <td>    0.055</td>\n",
       "</tr>\n",
       "<tr>\n",
       "  <th>INDUS</th>   <td>   -0.1069</td> <td>    0.045</td> <td>   -2.359</td> <td> 0.019</td> <td>   -0.196</td> <td>   -0.018</td>\n",
       "</tr>\n",
       "<tr>\n",
       "  <th>CHAS</th>    <td>    1.5411</td> <td>    0.668</td> <td>    2.306</td> <td> 0.022</td> <td>    0.227</td> <td>    2.855</td>\n",
       "</tr>\n",
       "<tr>\n",
       "  <th>NOX</th>     <td>  -15.5863</td> <td>    2.994</td> <td>   -5.206</td> <td> 0.000</td> <td>  -21.476</td> <td>   -9.697</td>\n",
       "</tr>\n",
       "<tr>\n",
       "  <th>RM</th>      <td>    1.6676</td> <td>    0.382</td> <td>    4.365</td> <td> 0.000</td> <td>    0.916</td> <td>    2.419</td>\n",
       "</tr>\n",
       "<tr>\n",
       "  <th>AGE</th>     <td>   -0.0206</td> <td>    0.011</td> <td>   -1.854</td> <td> 0.065</td> <td>   -0.042</td> <td>    0.001</td>\n",
       "</tr>\n",
       "<tr>\n",
       "  <th>DIS</th>     <td>   -1.0091</td> <td>    0.167</td> <td>   -6.042</td> <td> 0.000</td> <td>   -1.338</td> <td>   -0.681</td>\n",
       "</tr>\n",
       "<tr>\n",
       "  <th>RAD</th>     <td>    0.0811</td> <td>    0.032</td> <td>    2.497</td> <td> 0.013</td> <td>    0.017</td> <td>    0.145</td>\n",
       "</tr>\n",
       "<tr>\n",
       "  <th>PTRATIO</th> <td>   -0.8186</td> <td>    0.107</td> <td>   -7.620</td> <td> 0.000</td> <td>   -1.030</td> <td>   -0.607</td>\n",
       "</tr>\n",
       "<tr>\n",
       "  <th>B</th>       <td>    0.0055</td> <td>    0.002</td> <td>    2.538</td> <td> 0.012</td> <td>    0.001</td> <td>    0.010</td>\n",
       "</tr>\n",
       "<tr>\n",
       "  <th>LSTAT</th>   <td>   -0.3613</td> <td>    0.043</td> <td>   -8.461</td> <td> 0.000</td> <td>   -0.445</td> <td>   -0.277</td>\n",
       "</tr>\n",
       "</table>\n",
       "<table class=\"simpletable\">\n",
       "<tr>\n",
       "  <th>Omnibus:</th>       <td>31.108</td> <th>  Durbin-Watson:     </th> <td>   2.049</td>\n",
       "</tr>\n",
       "<tr>\n",
       "  <th>Prob(Omnibus):</th> <td> 0.000</td> <th>  Jarque-Bera (JB):  </th> <td>  42.800</td>\n",
       "</tr>\n",
       "<tr>\n",
       "  <th>Skew:</th>          <td> 0.634</td> <th>  Prob(JB):          </th> <td>5.08e-10</td>\n",
       "</tr>\n",
       "<tr>\n",
       "  <th>Kurtosis:</th>      <td> 4.144</td> <th>  Cond. No.          </th> <td>1.02e+04</td>\n",
       "</tr>\n",
       "</table><br/><br/>Notes:<br/>[1] Standard Errors assume that the covariance matrix of the errors is correctly specified.<br/>[2] The condition number is large, 1.02e+04. This might indicate that there are<br/>strong multicollinearity or other numerical problems."
      ],
      "text/plain": [
       "<class 'statsmodels.iolib.summary.Summary'>\n",
       "\"\"\"\n",
       "                            OLS Regression Results                            \n",
       "==============================================================================\n",
       "Dep. Variable:                   MEDV   R-squared:                       0.763\n",
       "Model:                            OLS   Adj. R-squared:                  0.754\n",
       "Method:                 Least Squares   F-statistic:                     90.80\n",
       "Date:                Sat, 18 May 2024   Prob (F-statistic):           4.28e-98\n",
       "Time:                        09:30:24   Log-Likelihood:                -901.27\n",
       "No. Observations:                 352   AIC:                             1829.\n",
       "Df Residuals:                     339   BIC:                             1879.\n",
       "Df Model:                          12                                         \n",
       "Covariance Type:            nonrobust                                         \n",
       "==============================================================================\n",
       "                 coef    std err          t      P>|t|      [0.025      0.975]\n",
       "------------------------------------------------------------------------------\n",
       "const         42.9822      4.175     10.296      0.000      34.771      51.194\n",
       "CRIM          -0.1033      0.026     -4.034      0.000      -0.154      -0.053\n",
       "ZN             0.0311      0.012      2.608      0.010       0.008       0.055\n",
       "INDUS         -0.1069      0.045     -2.359      0.019      -0.196      -0.018\n",
       "CHAS           1.5411      0.668      2.306      0.022       0.227       2.855\n",
       "NOX          -15.5863      2.994     -5.206      0.000     -21.476      -9.697\n",
       "RM             1.6676      0.382      4.365      0.000       0.916       2.419\n",
       "AGE           -0.0206      0.011     -1.854      0.065      -0.042       0.001\n",
       "DIS           -1.0091      0.167     -6.042      0.000      -1.338      -0.681\n",
       "RAD            0.0811      0.032      2.497      0.013       0.017       0.145\n",
       "PTRATIO       -0.8186      0.107     -7.620      0.000      -1.030      -0.607\n",
       "B              0.0055      0.002      2.538      0.012       0.001       0.010\n",
       "LSTAT         -0.3613      0.043     -8.461      0.000      -0.445      -0.277\n",
       "==============================================================================\n",
       "Omnibus:                       31.108   Durbin-Watson:                   2.049\n",
       "Prob(Omnibus):                  0.000   Jarque-Bera (JB):               42.800\n",
       "Skew:                           0.634   Prob(JB):                     5.08e-10\n",
       "Kurtosis:                       4.144   Cond. No.                     1.02e+04\n",
       "==============================================================================\n",
       "\n",
       "Notes:\n",
       "[1] Standard Errors assume that the covariance matrix of the errors is correctly specified.\n",
       "[2] The condition number is large, 1.02e+04. This might indicate that there are\n",
       "strong multicollinearity or other numerical problems.\n",
       "\"\"\""
      ]
     },
     "execution_count": 43,
     "metadata": {},
     "output_type": "execute_result"
    }
   ],
   "source": [
    "# libreria\n",
    "import statsmodels.api as sm\n",
    "\n",
    "# Columna para el intercepto\n",
    "X_constant = sm.add_constant(X2)\n",
    "\n",
    "# entrenamiento del modelo\n",
    "lin_reg_2 = sm.OLS(y_out2, X_constant).fit()\n",
    "\n",
    "# resumen de las metricas del modelo\n",
    "lin_reg_2.summary()"
   ]
  },
  {
   "cell_type": "markdown",
   "id": "466afe1c",
   "metadata": {},
   "source": [
    "- Hay una mejoria en cuanto al R cuadrado y en las metricas AIC y BIC (son mas pequenas que las del primer modelo).\n",
    "\n",
    "- Tambien vemos que solo tenemos una variable que es significativa (P > 0.05) y es AGE."
   ]
  },
  {
   "cell_type": "markdown",
   "id": "78e34c23",
   "metadata": {},
   "source": [
    "## Evaluacion de los Supuestos del nuevo Modelo"
   ]
  },
  {
   "cell_type": "markdown",
   "id": "c796c68b",
   "metadata": {},
   "source": [
    "### Media de los residuales"
   ]
  },
  {
   "cell_type": "code",
   "execution_count": 44,
   "id": "31ff1d6b",
   "metadata": {},
   "outputs": [
    {
     "data": {
      "text/plain": [
       "-2.773538974245391e-14"
      ]
     },
     "execution_count": 44,
     "metadata": {},
     "output_type": "execute_result"
    }
   ],
   "source": [
    "# residuos del nuevo modelo\n",
    "resid_val2 = lin_reg_2.resid\n",
    "\n",
    "# predicciones del nuevo modelo\n",
    "predic_val2 = lin_reg_2.predict()\n",
    "\n",
    "# media de los residuos: debe acercarse a cero\n",
    "lin_reg_2.resid.mean()"
   ]
  },
  {
   "cell_type": "markdown",
   "id": "5f4d5182",
   "metadata": {},
   "source": [
    "Vemos que la media de los residuales es muy cercano a cero, por lo que se cumple el primer supuesto"
   ]
  },
  {
   "cell_type": "markdown",
   "id": "672cd529",
   "metadata": {},
   "source": [
    "### Normalidad de los residuales "
   ]
  },
  {
   "cell_type": "code",
   "execution_count": 45,
   "id": "71f5570c",
   "metadata": {},
   "outputs": [
    {
     "data": {
      "image/png": "[encoded data removed]",
      "text/plain": [
       "<Figure size 432x288 with 1 Axes>"
      ]
     },
     "metadata": {
      "needs_background": "light"
     },
     "output_type": "display_data"
    }
   ],
   "source": [
    "# Grafico Q-Q\n",
    "sm.qqplot(resid_val2, line='s');"
   ]
  },
  {
   "cell_type": "markdown",
   "id": "a48bb7ef",
   "metadata": {},
   "source": [
    "Vemos que los puntos se ajustan cada vez mas a la linea. Sin embargo, aun existen puntos extremos que se alejan por lo que deben ser tratados"
   ]
  },
  {
   "cell_type": "markdown",
   "id": "3f3cee42",
   "metadata": {},
   "source": [
    "### Prueba de Shapiro-Wilk"
   ]
  },
  {
   "cell_type": "code",
   "execution_count": 46,
   "id": "59b9343f",
   "metadata": {},
   "outputs": [
    {
     "data": {
      "text/plain": [
       "ShapiroResult(statistic=0.972791314125061, pvalue=3.5171874515071977e-06)"
      ]
     },
     "execution_count": 46,
     "metadata": {},
     "output_type": "execute_result"
    }
   ],
   "source": [
    "stats.shapiro(lin_reg_2.resid)"
   ]
  },
  {
   "cell_type": "markdown",
   "id": "a911bbe1",
   "metadata": {},
   "source": [
    "El valor de p-value indica que los residuos siguen sin cumplir la condicion de normalidad"
   ]
  },
  {
   "cell_type": "markdown",
   "id": "72b55f55",
   "metadata": {},
   "source": [
    "### Linealidad"
   ]
  },
  {
   "cell_type": "code",
   "execution_count": 47,
   "id": "e2c69492",
   "metadata": {},
   "outputs": [
    {
     "data": {
      "text/plain": [
       "Text(0.5, 1.0, 'Valores predichos vs observados')"
      ]
     },
     "execution_count": 47,
     "metadata": {},
     "output_type": "execute_result"
    },
    {
     "data": {
      "image/png": "[encoded data removed]",
      "text/plain": [
       "<Figure size 432x288 with 1 Axes>"
      ]
     },
     "metadata": {
      "needs_background": "light"
     },
     "output_type": "display_data"
    }
   ],
   "source": [
    "sns.regplot(x=predic_val2, y=y_out2, lowess=True, line_kws={'color': 'red'})\n",
    "plt.title('Valores predichos vs observados')"
   ]
  },
  {
   "cell_type": "markdown",
   "id": "22befc00",
   "metadata": {},
   "source": [
    "Ha mejorado la linea recta en comparacion con el modelo anterior"
   ]
  },
  {
   "cell_type": "markdown",
   "id": "8fe2f4cd",
   "metadata": {},
   "source": [
    "### Igualdad de varianza"
   ]
  },
  {
   "cell_type": "code",
   "execution_count": 48,
   "id": "c787652e",
   "metadata": {},
   "outputs": [
    {
     "data": {
      "image/png": "[encoded data removed]",
      "text/plain": [
       "<Figure size 432x288 with 1 Axes>"
      ]
     },
     "metadata": {
      "needs_background": "light"
     },
     "output_type": "display_data"
    }
   ],
   "source": [
    "sns.regplot(x=predic_val2, y=resid_val2, lowess=True, line_kws={'color': 'red'})\n",
    "plt.title('Valores predichos vs residuales');"
   ]
  },
  {
   "cell_type": "markdown",
   "id": "ae9c7276",
   "metadata": {},
   "source": [
    "Hay una mejoria en la distribucion de los datos alrededor del cero. Ahora vamos a estadarizar los datos para ver los punto en un rango entre -3 y 3"
   ]
  },
  {
   "cell_type": "code",
   "execution_count": 49,
   "id": "a8dd28c4",
   "metadata": {},
   "outputs": [
    {
     "data": {
      "image/png": "[encoded data removed]",
      "text/plain": [
       "<Figure size 432x288 with 1 Axes>"
      ]
     },
     "metadata": {
      "needs_background": "light"
     },
     "output_type": "display_data"
    }
   ],
   "source": [
    "resid_stand2 = lin_reg_2.get_influence().resid_studentized_internal\n",
    "\n",
    "sns.regplot(x=predic_val2, y=resid_stand2, lowess=True, line_kws={'color':'red'})\n",
    "plt.title('Valores predichos vs Residuales');"
   ]
  },
  {
   "cell_type": "markdown",
   "id": "2f40d65e",
   "metadata": {},
   "source": [
    "Claramente hay una mejoria en cuanto a la dispersion de los puntos aun cuando hay presencia de algunos puntos por encima de 3. Para confirmar el resultado, procedemos a aplicar la prueba de Breush-Pagan"
   ]
  },
  {
   "cell_type": "code",
   "execution_count": 50,
   "id": "6caa1394",
   "metadata": {},
   "outputs": [
    {
     "name": "stdout",
     "output_type": "stream",
     "text": [
      "(17.94735035691691, 0.11729852205539593, 1.5177626883804625, 0.11567920926824235)\n",
      "\n",
      "Breush - Pagan Test: p-value= 0.11729852205539593\n"
     ]
    }
   ],
   "source": [
    "BP_test2 = sms.stats.diagnostic.het_breuschpagan(resid_val2, lin_reg_2.model.exog)\n",
    "\n",
    "print(BP_test2)\n",
    "print('\\nBreush - Pagan Test: p-value=', BP_test2[1])"
   ]
  },
  {
   "cell_type": "markdown",
   "id": "8ceb511d",
   "metadata": {},
   "source": [
    "Como p-value es mayor a 0.05 se cumple la hipotesis nula la cual indica que se cumple la homocedasticidad"
   ]
  },
  {
   "cell_type": "markdown",
   "id": "e2724886",
   "metadata": {},
   "source": [
    "## Leverage points: Apalancamiento\n",
    "\n",
    "Son puntos que afectan el desempeno del modelo."
   ]
  },
  {
   "cell_type": "markdown",
   "id": "030f5f4c",
   "metadata": {},
   "source": [
    " Vamos a utilizar la distancia de cook que es una medida que evalua la influencia de cada observacion en los resultados del modelo. Indica cuanto cambiarian los coeficientes de la regresion lineal si una observacion se eliminara del conjunto.\n",
    "\n",
    "La formula de la distancia de cook es la siguiente:\n",
    "\n",
    "$\n",
    "D_i =\\frac{r^{2}}{p\\cdot MSE\\cdot h_i}\n",
    "$\n",
    "\n",
    "donde:\n",
    "- $r$ es i-esimo residual\n",
    "- $p$ es el numero de coeficientes en la regresion lineal\n",
    "- $MSE$ es el error cuadratico medio\n",
    "- $h_i$ es el factor de apalancamiento y se define como:\n",
    "\n",
    "$\n",
    "h_i = \\frac{1}{n} + \\frac{(X_i - \\overline{X})^{2}}{\\sum_{k=1}^{n}(X_k-X)^{2}}\n",
    "$\n",
    "\n",
    "Una observacion con una distancia de cook mayor que $4/(n)$ se considera una observacion influyente donde $n$ es el numero de observaciones."
   ]
  },
  {
   "cell_type": "code",
   "execution_count": 51,
   "id": "0529dc48",
   "metadata": {},
   "outputs": [
    {
     "data": {
      "image/png": "[encoded data removed]",
      "text/plain": [
       "<Figure size 864x576 with 1 Axes>"
      ]
     },
     "metadata": {
      "needs_background": "light"
     },
     "output_type": "display_data"
    }
   ],
   "source": [
    "fig, ax = plt.subplots(figsize=(12,8))\n",
    "sm.graphics.influence_plot(lin_reg_2, alpha=0.05, ax=ax, criterion='cooks');"
   ]
  },
  {
   "cell_type": "markdown",
   "id": "32181e1b",
   "metadata": {},
   "source": [
    "- Las observaciones con valores de H leverage altos, tienen un gran alto impacto en los coeficientes. Se considera valores altos, aquellos mayores a $2p/n$ donde $p$ es el numero de coeficientes y $n$ es el numero total de observaciones. En nuestra regresion, $p=13$ y $n=352$ por lo que al hacer el calculo nos arroja un umbral de 0.07. Todos los puntos mayores a dicho umbral se pueden considerar puntos de apalancamiento. \n",
    "\n",
    "\n",
    "- Como los puntos en el grafico se escalan en funcion de la distancia de Cook, los mas grandes tienen un mayor impacto en el modelo. Entonces, todos aquellos que estan por encima de 3 en los residuales estandarizados se consideran puntos de apalancamiento debido a su gran tamano."
   ]
  },
  {
   "cell_type": "markdown",
   "id": "e3cb1850",
   "metadata": {},
   "source": [
    "Para encontrar de manera cuantitativa los puntos de apalancamiento, procedemos como sigue:"
   ]
  },
  {
   "cell_type": "code",
   "execution_count": 52,
   "id": "fc6397f9",
   "metadata": {},
   "outputs": [
    {
     "data": {
      "text/plain": [
       "(array([1.62518619e-05, 1.00080529e-07, 1.45608061e-04, 4.81861710e-04,\n",
       "        5.58390525e-06, 5.28267678e-04, 1.03921173e-03, 1.54119395e-04,\n",
       "        1.27387105e-02, 2.00405610e-03, 3.71820639e-04, 4.07957581e-03,\n",
       "        2.56700940e-04, 9.49043342e-04, 2.98042304e-04, 1.76842134e-03,\n",
       "        9.89968698e-04, 1.47276497e-03, 8.29492389e-06, 1.29809708e-03,\n",
       "        2.79902503e-04, 3.80844373e-03, 6.99413252e-03, 1.09839813e-04,\n",
       "        4.26018158e-05, 2.10480142e-03, 3.99942910e-03, 9.85358678e-04,\n",
       "        2.22135014e-01, 1.44725833e-04, 1.79207253e-03, 5.61053718e-04,\n",
       "        3.66438061e-02, 1.04015023e-03, 8.71610568e-04, 1.69925151e-03,\n",
       "        1.57901779e-03, 2.22167712e-03, 4.83011078e-04, 1.12218344e-04,\n",
       "        4.13042593e-05, 1.60790045e-04, 1.33555007e-03, 2.44530629e-04,\n",
       "        1.52852215e-04, 6.08139455e-04, 2.32359580e-04, 5.52286959e-05,\n",
       "        4.33058591e-03, 3.87729761e-04, 6.90700523e-05, 2.11883474e-03,\n",
       "        9.72399227e-04, 5.11594802e-04, 3.22544093e-04, 2.79756182e-03,\n",
       "        2.13373513e-05, 1.89325400e-02, 3.83417682e-04, 3.84830006e-03,\n",
       "        7.43958328e-05, 4.84718013e-04, 1.81547073e-04, 8.61771575e-03,\n",
       "        1.86061533e-02, 1.36587338e-03, 6.56500712e-04, 4.63236647e-04,\n",
       "        8.21374902e-02, 2.39992954e-03, 1.03491046e-04, 6.17079233e-04,\n",
       "        2.10456864e-03, 2.84391010e-03, 3.93313076e-04, 9.92346519e-04,\n",
       "        8.74084750e-04, 1.85603031e-03, 2.06058478e-05, 8.72404435e-05,\n",
       "        1.35094332e-04, 3.32261891e-04, 1.92580287e-07, 3.76839425e-03,\n",
       "        2.90154185e-04, 2.88391505e-04, 1.43169600e-03, 5.40015786e-05,\n",
       "        5.97910757e-04, 3.09121398e-04, 1.24496300e-04, 9.11127571e-04,\n",
       "        3.03347778e-03, 3.19377859e-03, 4.60628631e-03, 3.41326010e-05,\n",
       "        2.98961703e-03, 1.89600725e-03, 1.12597446e-05, 6.03398182e-03,\n",
       "        5.59777396e-05, 4.66488128e-03, 1.47886559e-04, 2.26276055e-04,\n",
       "        4.23999617e-04, 3.07853065e-03, 1.71742273e-04, 2.28235000e-05,\n",
       "        9.03413202e-04, 5.22467065e-04, 2.34957512e-04, 2.75584865e-04,\n",
       "        5.07064417e-04, 6.84215085e-03, 5.28936330e-04, 3.72654242e-04,\n",
       "        7.66498476e-04, 5.07617166e-03, 6.82132817e-03, 2.99963766e-03,\n",
       "        8.54296486e-04, 8.01001181e-04, 2.79585663e-04, 1.76578151e-03,\n",
       "        4.17470403e-03, 1.07885200e-04, 1.69412957e-04, 9.30404849e-04,\n",
       "        2.04537412e-03, 2.65542028e-02, 3.70081316e-03, 1.85251672e-03,\n",
       "        1.96548180e-04, 2.71696161e-03, 1.74643151e-03, 8.82436251e-05,\n",
       "        5.77268221e-03, 1.67242400e-05, 8.49951928e-04, 1.26840229e-04,\n",
       "        4.09927566e-04, 6.45058255e-06, 5.11659822e-04, 1.14636821e-02,\n",
       "        1.22226393e-03, 4.52540351e-04, 6.83080939e-04, 1.41559111e-03,\n",
       "        1.78537407e-04, 5.47934405e-06, 1.83358059e-03, 4.57024320e-04,\n",
       "        4.89101293e-03, 1.09017507e-03, 1.69860357e-02, 2.58381662e-06,\n",
       "        1.51229184e-05, 1.61539684e-03, 3.71082066e-02, 1.89090480e-02,\n",
       "        5.85251144e-04, 3.73497123e-04, 5.02292171e-03, 1.17354735e-03,\n",
       "        1.11592139e-02, 7.01745348e-03, 1.26178520e-03, 1.79013042e-03,\n",
       "        2.19939198e-03, 2.38124020e-04, 6.89716299e-03, 8.18024849e-04,\n",
       "        5.23442396e-03, 1.87906905e-03, 1.49483383e-03, 9.28129536e-04,\n",
       "        2.07494672e-03, 5.80705206e-04, 1.27368954e-03, 3.87706987e-04,\n",
       "        1.30945583e-03, 3.65460299e-04, 1.07544059e-02, 7.43641000e-05,\n",
       "        1.57726111e-04, 4.19708958e-03, 2.45624853e-05, 5.50265226e-04,\n",
       "        9.41917984e-04, 2.24865412e-04, 4.25154188e-05, 5.22622318e-05,\n",
       "        3.00307176e-03, 4.06881594e-04, 2.65456378e-03, 2.83813611e-03,\n",
       "        4.93044401e-04, 7.08992655e-03, 1.20405057e-02, 8.41578516e-03,\n",
       "        8.20884704e-05, 2.05513205e-02, 2.98383954e-03, 1.99945147e-04,\n",
       "        8.06670117e-05, 1.08114010e-03, 5.55598103e-03, 8.34410079e-04,\n",
       "        3.47319243e-04, 7.29514003e-04, 4.91153151e-04, 3.42928172e-04,\n",
       "        1.68803274e-03, 1.00800482e-02, 1.64949684e-03, 2.56471529e-02,\n",
       "        1.42063914e-04, 1.26281230e-04, 5.92102128e-04, 3.90720120e-04,\n",
       "        2.42850124e-02, 2.67750445e-04, 1.55125592e-05, 2.44920725e-03,\n",
       "        2.15859414e-05, 5.65081960e-09, 1.78310144e-02, 1.75188720e-02,\n",
       "        1.68131961e-04, 6.88463797e-04, 8.11332305e-03, 4.84391864e-03,\n",
       "        1.40503687e-03, 2.91516667e-04, 1.71515523e-03, 6.68220608e-04,\n",
       "        3.12901009e-03, 1.27757361e-04, 6.65197965e-03, 5.26971898e-04,\n",
       "        8.85577847e-05, 2.14665486e-04, 6.35688048e-05, 3.38607429e-03,\n",
       "        7.51416475e-04, 3.26519851e-03, 9.36413430e-04, 1.78444202e-03,\n",
       "        5.21478922e-04, 2.15414406e-07, 2.37486095e-04, 1.06584899e-02,\n",
       "        3.34436301e-04, 4.86234706e-04, 5.22198000e-05, 9.61808611e-05,\n",
       "        1.17557558e-05, 8.95195834e-03, 1.55697337e-03, 2.01393763e-04,\n",
       "        3.71829744e-04, 8.33693654e-04, 1.51344608e-03, 2.08385129e-03,\n",
       "        1.37201029e-02, 8.28884069e-04, 1.04551925e-03, 2.40257082e-03,\n",
       "        2.82226190e-04, 4.91860037e-03, 2.49029441e-03, 5.76327008e-04,\n",
       "        2.18017300e-04, 1.29564244e-03, 1.03289660e-02, 3.09157002e-04,\n",
       "        5.52830565e-03, 2.61989756e-03, 2.37117087e-03, 9.59306549e-03,\n",
       "        7.21523307e-04, 1.16069716e-04, 2.78922142e-03, 6.57555123e-03,\n",
       "        1.16327415e-01, 4.94407754e-04, 4.36143325e-05, 5.44041870e-02,\n",
       "        1.38842503e-07, 7.14957201e-06, 1.45753856e-05, 1.40015023e-04,\n",
       "        8.70364097e-04, 3.92771074e-08, 8.60279208e-04, 9.95811872e-07,\n",
       "        1.08514738e-02, 1.08028107e-03, 1.90370937e-05, 7.48049623e-04,\n",
       "        2.06784661e-03, 2.95104218e-04, 9.28372236e-04, 3.26877919e-03,\n",
       "        7.02147126e-04, 2.53490583e-04, 3.72087776e-04, 1.75986534e-02,\n",
       "        3.42923975e-03, 2.11769724e-05, 2.72913514e-04, 4.59744367e-04,\n",
       "        3.36273276e-04, 2.96700913e-04, 2.24765833e-05, 1.84394928e-06,\n",
       "        1.85754565e-02, 1.09942113e-03, 1.95207136e-02, 7.87753688e-06,\n",
       "        3.45262234e-03, 1.85458102e-03, 3.43619259e-04, 2.04646308e-04,\n",
       "        1.42216409e-03, 7.84966831e-04, 4.23129815e-03, 3.54979336e-03,\n",
       "        9.85959168e-03, 3.21673060e-03, 8.80384556e-04, 2.63106759e-03,\n",
       "        3.32435292e-03, 4.59466039e-03, 4.02449558e-03, 5.87389437e-04,\n",
       "        3.72536110e-03, 2.76064119e-04, 2.55398267e-03, 2.40170157e-04,\n",
       "        6.58896148e-05, 5.61448274e-05, 1.46181279e-08, 5.43053351e-04,\n",
       "        1.20287592e-05, 1.62450477e-03, 2.63087180e-03, 4.38053652e-03,\n",
       "        1.07842544e-03, 3.77598609e-03, 1.28750624e-06, 6.15675513e-04]),\n",
       " array([1.        , 1.        , 1.        , 1.        , 1.        ,\n",
       "        1.        , 1.        , 1.        , 1.        , 1.        ,\n",
       "        1.        , 1.        , 1.        , 1.        , 1.        ,\n",
       "        1.        , 1.        , 1.        , 1.        , 1.        ,\n",
       "        1.        , 1.        , 1.        , 1.        , 1.        ,\n",
       "        1.        , 1.        , 1.        , 0.99820124, 1.        ,\n",
       "        1.        , 1.        , 0.99999996, 1.        , 1.        ,\n",
       "        1.        , 1.        , 1.        , 1.        , 1.        ,\n",
       "        1.        , 1.        , 1.        , 1.        , 1.        ,\n",
       "        1.        , 1.        , 1.        , 1.        , 1.        ,\n",
       "        1.        , 1.        , 1.        , 1.        , 1.        ,\n",
       "        1.        , 1.        , 1.        , 1.        , 1.        ,\n",
       "        1.        , 1.        , 1.        , 1.        , 1.        ,\n",
       "        1.        , 1.        , 1.        , 0.99999377, 1.        ,\n",
       "        1.        , 1.        , 1.        , 1.        , 1.        ,\n",
       "        1.        , 1.        , 1.        , 1.        , 1.        ,\n",
       "        1.        , 1.        , 1.        , 1.        , 1.        ,\n",
       "        1.        , 1.        , 1.        , 1.        , 1.        ,\n",
       "        1.        , 1.        , 1.        , 1.        , 1.        ,\n",
       "        1.        , 1.        , 1.        , 1.        , 1.        ,\n",
       "        1.        , 1.        , 1.        , 1.        , 1.        ,\n",
       "        1.        , 1.        , 1.        , 1.        , 1.        ,\n",
       "        1.        , 1.        , 1.        , 1.        , 1.        ,\n",
       "        1.        , 1.        , 1.        , 1.        , 1.        ,\n",
       "        1.        , 1.        , 1.        , 1.        , 1.        ,\n",
       "        1.        , 1.        , 1.        , 1.        , 0.99999999,\n",
       "        1.        , 1.        , 1.        , 1.        , 1.        ,\n",
       "        1.        , 1.        , 1.        , 1.        , 1.        ,\n",
       "        1.        , 1.        , 1.        , 1.        , 1.        ,\n",
       "        1.        , 1.        , 1.        , 1.        , 1.        ,\n",
       "        1.        , 1.        , 1.        , 1.        , 1.        ,\n",
       "        1.        , 1.        , 1.        , 0.99999995, 1.        ,\n",
       "        1.        , 1.        , 1.        , 1.        , 1.        ,\n",
       "        1.        , 1.        , 1.        , 1.        , 1.        ,\n",
       "        1.        , 1.        , 1.        , 1.        , 1.        ,\n",
       "        1.        , 1.        , 1.        , 1.        , 1.        ,\n",
       "        1.        , 1.        , 1.        , 1.        , 1.        ,\n",
       "        1.        , 1.        , 1.        , 1.        , 1.        ,\n",
       "        1.        , 1.        , 1.        , 1.        , 1.        ,\n",
       "        1.        , 1.        , 1.        , 1.        , 1.        ,\n",
       "        1.        , 1.        , 1.        , 1.        , 1.        ,\n",
       "        1.        , 1.        , 1.        , 1.        , 1.        ,\n",
       "        1.        , 1.        , 1.        , 1.        , 1.        ,\n",
       "        1.        , 1.        , 1.        , 1.        , 1.        ,\n",
       "        1.        , 1.        , 1.        , 1.        , 1.        ,\n",
       "        1.        , 1.        , 1.        , 1.        , 1.        ,\n",
       "        1.        , 1.        , 1.        , 1.        , 1.        ,\n",
       "        1.        , 1.        , 1.        , 1.        , 1.        ,\n",
       "        1.        , 1.        , 1.        , 1.        , 1.        ,\n",
       "        1.        , 1.        , 1.        , 1.        , 1.        ,\n",
       "        1.        , 1.        , 1.        , 1.        , 1.        ,\n",
       "        1.        , 1.        , 1.        , 1.        , 1.        ,\n",
       "        1.        , 1.        , 1.        , 1.        , 1.        ,\n",
       "        1.        , 1.        , 1.        , 1.        , 1.        ,\n",
       "        1.        , 1.        , 1.        , 1.        , 1.        ,\n",
       "        1.        , 1.        , 1.        , 1.        , 1.        ,\n",
       "        1.        , 1.        , 1.        , 1.        , 0.99995091,\n",
       "        1.        , 1.        , 0.9999995 , 1.        , 1.        ,\n",
       "        1.        , 1.        , 1.        , 1.        , 1.        ,\n",
       "        1.        , 1.        , 1.        , 1.        , 1.        ,\n",
       "        1.        , 1.        , 1.        , 1.        , 1.        ,\n",
       "        1.        , 1.        , 1.        , 1.        , 1.        ,\n",
       "        1.        , 1.        , 1.        , 1.        , 1.        ,\n",
       "        1.        , 1.        , 1.        , 1.        , 1.        ,\n",
       "        1.        , 1.        , 1.        , 1.        , 1.        ,\n",
       "        1.        , 1.        , 1.        , 1.        , 1.        ,\n",
       "        1.        , 1.        , 1.        , 1.        , 1.        ,\n",
       "        1.        , 1.        , 1.        , 1.        , 1.        ,\n",
       "        1.        , 1.        , 1.        , 1.        , 1.        ,\n",
       "        1.        , 1.        , 1.        , 1.        , 1.        ,\n",
       "        1.        , 1.        ]))"
      ]
     },
     "execution_count": 52,
     "metadata": {},
     "output_type": "execute_result"
    }
   ],
   "source": [
    "# creamos una instancia de los valores de influencia del modelo\n",
    "influence = lin_reg_2.get_influence()\n",
    "\n",
    "# obtenemos la distancia cook de cada observacion\n",
    "cooks = influence.cooks_distance\n",
    "\n",
    "# observamos los valores\n",
    "cooks"
   ]
  },
  {
   "cell_type": "markdown",
   "id": "6e799158",
   "metadata": {},
   "source": [
    "Se nos muestra una matriz de valores para la distancia cook de cada observacion seguida de una matriz de p-value correspondientes."
   ]
  },
  {
   "cell_type": "code",
   "execution_count": 53,
   "id": "4ac1621d",
   "metadata": {},
   "outputs": [
    {
     "data": {
      "image/png": "[encoded data removed]",
      "text/plain": [
       "<Figure size 432x288 with 1 Axes>"
      ]
     },
     "metadata": {
      "needs_background": "light"
     },
     "output_type": "display_data"
    }
   ],
   "source": [
    "# Graficamos los valores de cook vs una de las variables, en este caso AGE\n",
    "plt.scatter(X2.AGE, cooks[0]) # cooks[0]: distancias; cooks[1]: p-value\n",
    "plt.xlabel('X (Valores de AGE)')\n",
    "plt.ylabel('Distancia de Cook');"
   ]
  },
  {
   "cell_type": "markdown",
   "id": "ad9a2693",
   "metadata": {},
   "source": [
    "Si calculamos el umbral de la distancia de cook ($4/n$) obtenemos un valor de 0.01 lo cual indicaria, segun la grafica, que gran parte de las observaciones se consideran puntos de apalancamiento. Sin embargo, esto estaria alejado de la realidad, por lo que un valor mas acertado seria 0.05. Como vemos hay ciertos valores de AGE mayores a 0.05 que se consideran de apalancamiento"
   ]
  },
  {
   "cell_type": "markdown",
   "id": "649367c9",
   "metadata": {},
   "source": [
    "Probemos con la variable RAD"
   ]
  },
  {
   "cell_type": "code",
   "execution_count": 54,
   "id": "a0b12bcc",
   "metadata": {},
   "outputs": [
    {
     "data": {
      "image/png": "[encoded data removed]",
      "text/plain": [
       "<Figure size 432x288 with 1 Axes>"
      ]
     },
     "metadata": {
      "needs_background": "light"
     },
     "output_type": "display_data"
    }
   ],
   "source": [
    "plt.scatter(X2.RAD, cooks[0]) # cooks[0]: distancias; cooks[1]: p-value\n",
    "plt.xlabel('X (Valores de RAD)')\n",
    "plt.ylabel('Distancia de Cook');"
   ]
  },
  {
   "cell_type": "markdown",
   "id": "8fb7398a",
   "metadata": {},
   "source": [
    "La grafica nos muestra solo 4 observaciones que pueden considerarse puntos de gran influencia.\n",
    "\n",
    "Ahora, vamos a encontrar aquellas observaciones cuya distancia de cook sea mayor a 0.05"
   ]
  },
  {
   "cell_type": "code",
   "execution_count": 55,
   "id": "794fb9f4",
   "metadata": {},
   "outputs": [
    {
     "data": {
      "text/html": [
       "<div>\n",
       "<style scoped>\n",
       "    .dataframe tbody tr th:only-of-type {\n",
       "        vertical-align: middle;\n",
       "    }\n",
       "\n",
       "    .dataframe tbody tr th {\n",
       "        vertical-align: top;\n",
       "    }\n",
       "\n",
       "    .dataframe thead th {\n",
       "        text-align: right;\n",
       "    }\n",
       "</style>\n",
       "<table border=\"1\" class=\"dataframe\">\n",
       "  <thead>\n",
       "    <tr style=\"text-align: right;\">\n",
       "      <th></th>\n",
       "      <th>CRIM</th>\n",
       "      <th>ZN</th>\n",
       "      <th>INDUS</th>\n",
       "      <th>CHAS</th>\n",
       "      <th>NOX</th>\n",
       "      <th>RM</th>\n",
       "      <th>AGE</th>\n",
       "      <th>DIS</th>\n",
       "      <th>RAD</th>\n",
       "      <th>PTRATIO</th>\n",
       "      <th>B</th>\n",
       "      <th>LSTAT</th>\n",
       "    </tr>\n",
       "  </thead>\n",
       "  <tbody>\n",
       "    <tr>\n",
       "      <th>365</th>\n",
       "      <td>4.55587</td>\n",
       "      <td>0.0</td>\n",
       "      <td>18.10</td>\n",
       "      <td>0.0</td>\n",
       "      <td>0.7180</td>\n",
       "      <td>3.561</td>\n",
       "      <td>87.9</td>\n",
       "      <td>1.6132</td>\n",
       "      <td>24.0</td>\n",
       "      <td>20.2</td>\n",
       "      <td>354.70</td>\n",
       "      <td>7.12</td>\n",
       "    </tr>\n",
       "    <tr>\n",
       "      <th>412</th>\n",
       "      <td>18.81100</td>\n",
       "      <td>0.0</td>\n",
       "      <td>18.10</td>\n",
       "      <td>0.0</td>\n",
       "      <td>0.5970</td>\n",
       "      <td>4.628</td>\n",
       "      <td>100.0</td>\n",
       "      <td>1.5539</td>\n",
       "      <td>24.0</td>\n",
       "      <td>20.2</td>\n",
       "      <td>28.79</td>\n",
       "      <td>34.37</td>\n",
       "    </tr>\n",
       "    <tr>\n",
       "      <th>367</th>\n",
       "      <td>13.52220</td>\n",
       "      <td>0.0</td>\n",
       "      <td>18.10</td>\n",
       "      <td>0.0</td>\n",
       "      <td>0.6310</td>\n",
       "      <td>3.863</td>\n",
       "      <td>100.0</td>\n",
       "      <td>1.5106</td>\n",
       "      <td>24.0</td>\n",
       "      <td>20.2</td>\n",
       "      <td>131.42</td>\n",
       "      <td>13.33</td>\n",
       "    </tr>\n",
       "    <tr>\n",
       "      <th>64</th>\n",
       "      <td>0.01951</td>\n",
       "      <td>17.5</td>\n",
       "      <td>1.38</td>\n",
       "      <td>0.0</td>\n",
       "      <td>0.4161</td>\n",
       "      <td>7.104</td>\n",
       "      <td>59.5</td>\n",
       "      <td>9.2229</td>\n",
       "      <td>3.0</td>\n",
       "      <td>18.6</td>\n",
       "      <td>393.24</td>\n",
       "      <td>8.05</td>\n",
       "    </tr>\n",
       "  </tbody>\n",
       "</table>\n",
       "</div>"
      ],
      "text/plain": [
       "         CRIM    ZN  INDUS  CHAS     NOX     RM    AGE     DIS   RAD  PTRATIO  \\\n",
       "365   4.55587   0.0  18.10   0.0  0.7180  3.561   87.9  1.6132  24.0     20.2   \n",
       "412  18.81100   0.0  18.10   0.0  0.5970  4.628  100.0  1.5539  24.0     20.2   \n",
       "367  13.52220   0.0  18.10   0.0  0.6310  3.863  100.0  1.5106  24.0     20.2   \n",
       "64    0.01951  17.5   1.38   0.0  0.4161  7.104   59.5  9.2229   3.0     18.6   \n",
       "\n",
       "          B  LSTAT  \n",
       "365  354.70   7.12  \n",
       "412   28.79  34.37  \n",
       "367  131.42  13.33  \n",
       "64   393.24   8.05  "
      ]
     },
     "execution_count": 55,
     "metadata": {},
     "output_type": "execute_result"
    }
   ],
   "source": [
    "# seleccion de observaciones con cook mayores a 0.05\n",
    "X2[cooks[0] > 0.050]"
   ]
  },
  {
   "cell_type": "markdown",
   "id": "99f7412d",
   "metadata": {},
   "source": [
    "Hay 4 observaciones consideradas puntos de influencia. Mostremos los valores de la variable objetivo correspondiente a tales observaciones"
   ]
  },
  {
   "cell_type": "code",
   "execution_count": 56,
   "id": "7ef550d7",
   "metadata": {},
   "outputs": [
    {
     "data": {
      "text/plain": [
       "365    27.5\n",
       "412    17.9\n",
       "367    23.1\n",
       "64     33.0\n",
       "Name: MEDV, dtype: float64"
      ]
     },
     "execution_count": 56,
     "metadata": {},
     "output_type": "execute_result"
    }
   ],
   "source": [
    "y_out2[cooks[0] > 0.050]"
   ]
  },
  {
   "cell_type": "markdown",
   "id": "fd05d092",
   "metadata": {},
   "source": [
    " Antes de eliminar, debemos analizar porqué estas observaciones son puntos de apalancamiento.\n",
    " \n",
    " - Tres de ellas comparten el mismo nivel de industrializacion alrededor (INDUS)\n",
    " - No se encuentran cerca de la rivera del rio (CHAS)\n",
    " - 2 de ellas son ocupadas por los duenos totalmente (AGE)\n",
    " - 3 de ellas poseen la misma distancia a la autopista (RAD)\n",
    " - El precio varia de acuerdo al indice de criminalidad (CRIM). A mayor indice, mas economicas son.\n",
    " - Poseen la misma proporcion de alumnos-maestros (PTRATIO)\n",
    " \n",
    " "
   ]
  },
  {
   "cell_type": "markdown",
   "id": "8df2d380",
   "metadata": {},
   "source": [
    "Creamos un nuevo dataset omitiendo los puntos de influencia antes detectados"
   ]
  },
  {
   "cell_type": "code",
   "execution_count": 57,
   "id": "74de9790",
   "metadata": {},
   "outputs": [
    {
     "name": "stdout",
     "output_type": "stream",
     "text": [
      "(348, 12) (348,)\n"
     ]
    }
   ],
   "source": [
    "# definimos k\n",
    "k = cooks[0] > 0.050\n",
    "\n",
    "# tercer dataset\n",
    "# variables predictoras\n",
    "X3 = X2.loc[k != 1,:]\n",
    "# variable objetivo\n",
    "y3 = y_out2[k != 1]\n",
    "\n",
    "print(X3.shape, y3.shape)"
   ]
  },
  {
   "cell_type": "markdown",
   "id": "bb14d9af",
   "metadata": {},
   "source": [
    "## Ajuste tercer modelo"
   ]
  },
  {
   "cell_type": "code",
   "execution_count": 58,
   "id": "612eff93",
   "metadata": {},
   "outputs": [
    {
     "data": {
      "text/html": [
       "<table class=\"simpletable\">\n",
       "<caption>OLS Regression Results</caption>\n",
       "<tr>\n",
       "  <th>Dep. Variable:</th>          <td>MEDV</td>       <th>  R-squared:         </th> <td>   0.796</td> \n",
       "</tr>\n",
       "<tr>\n",
       "  <th>Model:</th>                   <td>OLS</td>       <th>  Adj. R-squared:    </th> <td>   0.789</td> \n",
       "</tr>\n",
       "<tr>\n",
       "  <th>Method:</th>             <td>Least Squares</td>  <th>  F-statistic:       </th> <td>   108.9</td> \n",
       "</tr>\n",
       "<tr>\n",
       "  <th>Date:</th>             <td>Sat, 18 May 2024</td> <th>  Prob (F-statistic):</th> <td>9.04e-108</td>\n",
       "</tr>\n",
       "<tr>\n",
       "  <th>Time:</th>                 <td>09:30:26</td>     <th>  Log-Likelihood:    </th> <td> -864.22</td> \n",
       "</tr>\n",
       "<tr>\n",
       "  <th>No. Observations:</th>      <td>   348</td>      <th>  AIC:               </th> <td>   1754.</td> \n",
       "</tr>\n",
       "<tr>\n",
       "  <th>Df Residuals:</th>          <td>   335</td>      <th>  BIC:               </th> <td>   1805.</td> \n",
       "</tr>\n",
       "<tr>\n",
       "  <th>Df Model:</th>              <td>    12</td>      <th>                     </th>     <td> </td>    \n",
       "</tr>\n",
       "<tr>\n",
       "  <th>Covariance Type:</th>      <td>nonrobust</td>    <th>                     </th>     <td> </td>    \n",
       "</tr>\n",
       "</table>\n",
       "<table class=\"simpletable\">\n",
       "<tr>\n",
       "     <td></td>        <th>coef</th>     <th>std err</th>      <th>t</th>      <th>P>|t|</th>  <th>[0.025</th>    <th>0.975]</th>  \n",
       "</tr>\n",
       "<tr>\n",
       "  <th>const</th>   <td>   32.4389</td> <td>    4.303</td> <td>    7.539</td> <td> 0.000</td> <td>   23.975</td> <td>   40.903</td>\n",
       "</tr>\n",
       "<tr>\n",
       "  <th>CRIM</th>    <td>   -0.0957</td> <td>    0.024</td> <td>   -4.021</td> <td> 0.000</td> <td>   -0.142</td> <td>   -0.049</td>\n",
       "</tr>\n",
       "<tr>\n",
       "  <th>ZN</th>      <td>    0.0259</td> <td>    0.011</td> <td>    2.306</td> <td> 0.022</td> <td>    0.004</td> <td>    0.048</td>\n",
       "</tr>\n",
       "<tr>\n",
       "  <th>INDUS</th>   <td>   -0.0982</td> <td>    0.042</td> <td>   -2.340</td> <td> 0.020</td> <td>   -0.181</td> <td>   -0.016</td>\n",
       "</tr>\n",
       "<tr>\n",
       "  <th>CHAS</th>    <td>    1.4596</td> <td>    0.619</td> <td>    2.358</td> <td> 0.019</td> <td>    0.242</td> <td>    2.677</td>\n",
       "</tr>\n",
       "<tr>\n",
       "  <th>NOX</th>     <td>  -13.3328</td> <td>    2.817</td> <td>   -4.734</td> <td> 0.000</td> <td>  -18.873</td> <td>   -7.793</td>\n",
       "</tr>\n",
       "<tr>\n",
       "  <th>RM</th>      <td>    2.8891</td> <td>    0.415</td> <td>    6.961</td> <td> 0.000</td> <td>    2.073</td> <td>    3.706</td>\n",
       "</tr>\n",
       "<tr>\n",
       "  <th>AGE</th>     <td>   -0.0351</td> <td>    0.011</td> <td>   -3.333</td> <td> 0.001</td> <td>   -0.056</td> <td>   -0.014</td>\n",
       "</tr>\n",
       "<tr>\n",
       "  <th>DIS</th>     <td>   -1.0022</td> <td>    0.159</td> <td>   -6.307</td> <td> 0.000</td> <td>   -1.315</td> <td>   -0.690</td>\n",
       "</tr>\n",
       "<tr>\n",
       "  <th>RAD</th>     <td>    0.0377</td> <td>    0.031</td> <td>    1.220</td> <td> 0.223</td> <td>   -0.023</td> <td>    0.099</td>\n",
       "</tr>\n",
       "<tr>\n",
       "  <th>PTRATIO</th> <td>   -0.7767</td> <td>    0.100</td> <td>   -7.790</td> <td> 0.000</td> <td>   -0.973</td> <td>   -0.581</td>\n",
       "</tr>\n",
       "<tr>\n",
       "  <th>B</th>       <td>    0.0082</td> <td>    0.002</td> <td>    3.971</td> <td> 0.000</td> <td>    0.004</td> <td>    0.012</td>\n",
       "</tr>\n",
       "<tr>\n",
       "  <th>LSTAT</th>   <td>   -0.2729</td> <td>    0.044</td> <td>   -6.272</td> <td> 0.000</td> <td>   -0.358</td> <td>   -0.187</td>\n",
       "</tr>\n",
       "</table>\n",
       "<table class=\"simpletable\">\n",
       "<tr>\n",
       "  <th>Omnibus:</th>       <td>12.509</td> <th>  Durbin-Watson:     </th> <td>   2.114</td>\n",
       "</tr>\n",
       "<tr>\n",
       "  <th>Prob(Omnibus):</th> <td> 0.002</td> <th>  Jarque-Bera (JB):  </th> <td>  16.282</td>\n",
       "</tr>\n",
       "<tr>\n",
       "  <th>Skew:</th>          <td> 0.314</td> <th>  Prob(JB):          </th> <td>0.000291</td>\n",
       "</tr>\n",
       "<tr>\n",
       "  <th>Kurtosis:</th>      <td> 3.853</td> <th>  Cond. No.          </th> <td>1.11e+04</td>\n",
       "</tr>\n",
       "</table><br/><br/>Notes:<br/>[1] Standard Errors assume that the covariance matrix of the errors is correctly specified.<br/>[2] The condition number is large, 1.11e+04. This might indicate that there are<br/>strong multicollinearity or other numerical problems."
      ],
      "text/plain": [
       "<class 'statsmodels.iolib.summary.Summary'>\n",
       "\"\"\"\n",
       "                            OLS Regression Results                            \n",
       "==============================================================================\n",
       "Dep. Variable:                   MEDV   R-squared:                       0.796\n",
       "Model:                            OLS   Adj. R-squared:                  0.789\n",
       "Method:                 Least Squares   F-statistic:                     108.9\n",
       "Date:                Sat, 18 May 2024   Prob (F-statistic):          9.04e-108\n",
       "Time:                        09:30:26   Log-Likelihood:                -864.22\n",
       "No. Observations:                 348   AIC:                             1754.\n",
       "Df Residuals:                     335   BIC:                             1805.\n",
       "Df Model:                          12                                         \n",
       "Covariance Type:            nonrobust                                         \n",
       "==============================================================================\n",
       "                 coef    std err          t      P>|t|      [0.025      0.975]\n",
       "------------------------------------------------------------------------------\n",
       "const         32.4389      4.303      7.539      0.000      23.975      40.903\n",
       "CRIM          -0.0957      0.024     -4.021      0.000      -0.142      -0.049\n",
       "ZN             0.0259      0.011      2.306      0.022       0.004       0.048\n",
       "INDUS         -0.0982      0.042     -2.340      0.020      -0.181      -0.016\n",
       "CHAS           1.4596      0.619      2.358      0.019       0.242       2.677\n",
       "NOX          -13.3328      2.817     -4.734      0.000     -18.873      -7.793\n",
       "RM             2.8891      0.415      6.961      0.000       2.073       3.706\n",
       "AGE           -0.0351      0.011     -3.333      0.001      -0.056      -0.014\n",
       "DIS           -1.0022      0.159     -6.307      0.000      -1.315      -0.690\n",
       "RAD            0.0377      0.031      1.220      0.223      -0.023       0.099\n",
       "PTRATIO       -0.7767      0.100     -7.790      0.000      -0.973      -0.581\n",
       "B              0.0082      0.002      3.971      0.000       0.004       0.012\n",
       "LSTAT         -0.2729      0.044     -6.272      0.000      -0.358      -0.187\n",
       "==============================================================================\n",
       "Omnibus:                       12.509   Durbin-Watson:                   2.114\n",
       "Prob(Omnibus):                  0.002   Jarque-Bera (JB):               16.282\n",
       "Skew:                           0.314   Prob(JB):                     0.000291\n",
       "Kurtosis:                       3.853   Cond. No.                     1.11e+04\n",
       "==============================================================================\n",
       "\n",
       "Notes:\n",
       "[1] Standard Errors assume that the covariance matrix of the errors is correctly specified.\n",
       "[2] The condition number is large, 1.11e+04. This might indicate that there are\n",
       "strong multicollinearity or other numerical problems.\n",
       "\"\"\""
      ]
     },
     "execution_count": 58,
     "metadata": {},
     "output_type": "execute_result"
    }
   ],
   "source": [
    "X_constant = sm.add_constant(X3)\n",
    "lin_reg_3 = sm.OLS(y3, X_constant).fit()\n",
    "lin_reg_3.summary()"
   ]
  },
  {
   "cell_type": "markdown",
   "id": "2be5e4fa",
   "metadata": {},
   "source": [
    "- Vemos una mejoria en cuanto al R cuadrado: segundo modelo de 0.763, tercer modelo de 0.796\n",
    "- Las metricas AIC y BIC disminuyen lo cual es bueno para el modelo: segundo modelo(AIC:1829, BIC:1879), tercer modelo(AIC:1754, BIC:1805)\n",
    "- En el segundo modelo la varible AGE estaba siendo no significativa. Ahora es RAD, la que estaba en disputa con TAX en cuanto a la correlacion con todas las variables predictoras, la que no es significativa\n",
    "- El valor de la prueba Durbin-Watson es de 2.1, cercano a 2, lo que indica que no hay correlacion entre los residuos."
   ]
  },
  {
   "cell_type": "markdown",
   "id": "1a407003",
   "metadata": {},
   "source": [
    "## Evaluacion de los supuestos del Tercer Modelo"
   ]
  },
  {
   "cell_type": "markdown",
   "id": "fe79d907",
   "metadata": {},
   "source": [
    "### Multicolinealidad con VIF"
   ]
  },
  {
   "cell_type": "code",
   "execution_count": 62,
   "id": "f39c03f0",
   "metadata": {},
   "outputs": [
    {
     "data": {
      "text/html": [
       "<div>\n",
       "<style scoped>\n",
       "    .dataframe tbody tr th:only-of-type {\n",
       "        vertical-align: middle;\n",
       "    }\n",
       "\n",
       "    .dataframe tbody tr th {\n",
       "        vertical-align: top;\n",
       "    }\n",
       "\n",
       "    .dataframe thead th {\n",
       "        text-align: right;\n",
       "    }\n",
       "</style>\n",
       "<table border=\"1\" class=\"dataframe\">\n",
       "  <thead>\n",
       "    <tr style=\"text-align: right;\">\n",
       "      <th></th>\n",
       "      <th>CRIM</th>\n",
       "      <th>ZN</th>\n",
       "      <th>INDUS</th>\n",
       "      <th>CHAS</th>\n",
       "      <th>NOX</th>\n",
       "      <th>RM</th>\n",
       "      <th>AGE</th>\n",
       "      <th>DIS</th>\n",
       "      <th>RAD</th>\n",
       "      <th>PTRATIO</th>\n",
       "      <th>B</th>\n",
       "      <th>LSTAT</th>\n",
       "    </tr>\n",
       "  </thead>\n",
       "  <tbody>\n",
       "    <tr>\n",
       "      <th>vif</th>\n",
       "      <td>1.768827</td>\n",
       "      <td>2.541613</td>\n",
       "      <td>3.217636</td>\n",
       "      <td>1.056042</td>\n",
       "      <td>4.455494</td>\n",
       "      <td>2.116839</td>\n",
       "      <td>3.443869</td>\n",
       "      <td>4.539599</td>\n",
       "      <td>2.873556</td>\n",
       "      <td>1.706112</td>\n",
       "      <td>1.379091</td>\n",
       "      <td>3.657491</td>\n",
       "    </tr>\n",
       "  </tbody>\n",
       "</table>\n",
       "</div>"
      ],
      "text/plain": [
       "         CRIM        ZN     INDUS      CHAS       NOX        RM       AGE  \\\n",
       "vif  1.768827  2.541613  3.217636  1.056042  4.455494  2.116839  3.443869   \n",
       "\n",
       "          DIS       RAD   PTRATIO         B     LSTAT  \n",
       "vif  4.539599  2.873556  1.706112  1.379091  3.657491  "
      ]
     },
     "execution_count": 62,
     "metadata": {},
     "output_type": "execute_result"
    }
   ],
   "source": [
    "vif = [variance_inflation_factor(X_constant.values, i) for i in range(X_constant.shape[1])]\n",
    "pd.DataFrame({'vif': vif[1:]}, index=X3.columns).T"
   ]
  },
  {
   "cell_type": "markdown",
   "id": "7dce64fe",
   "metadata": {},
   "source": [
    "Vemos que ninguna de las variables presenta un valor de vif mayor a 5. Si comparamos el valor de RAD con el valor del modelo anterior, notamos que ha bajado considerablemente y por tanto ya no es significativa para el modelo"
   ]
  },
  {
   "cell_type": "markdown",
   "id": "d63b5825",
   "metadata": {},
   "source": [
    "### Homocedasticidad"
   ]
  },
  {
   "cell_type": "code",
   "execution_count": 64,
   "id": "02bd5ff3",
   "metadata": {},
   "outputs": [
    {
     "data": {
      "image/png": "[encoded data removed]",
      "text/plain": [
       "<Figure size 432x288 with 1 Axes>"
      ]
     },
     "metadata": {
      "needs_background": "light"
     },
     "output_type": "display_data"
    }
   ],
   "source": [
    "resid_val3 = lin_reg_3.resid\n",
    "predic_val3 = lin_reg_3.predict()\n",
    "\n",
    "resid_stand3 = lin_reg_3.get_influence().resid_studentized_internal\n",
    "\n",
    "sns.regplot(x=predic_val3, y=resid_stand3, lowess=True, line_kws={'color': 'red'})\n",
    "plt.title('Valores predichos vs residuales');"
   ]
  },
  {
   "cell_type": "markdown",
   "id": "b987b1d2",
   "metadata": {},
   "source": [
    "Vemos cierta mejoria en la distribucion de los datos alrededor del cero en el rango entre 3 y -3"
   ]
  }
 ],
 "metadata": {
  "kernelspec": {
   "display_name": "Python 3 (ipykernel)",
   "language": "python",
   "name": "python3"
  },
  "language_info": {
   "codemirror_mode": {
    "name": "ipython",
    "version": 3
   },
   "file_extension": ".py",
   "mimetype": "text/x-python",
   "name": "python",
   "nbconvert_exporter": "python",
   "pygments_lexer": "ipython3",
   "version": "3.9.12"
  }
 },
 "nbformat": 4,
 "nbformat_minor": 5
}
