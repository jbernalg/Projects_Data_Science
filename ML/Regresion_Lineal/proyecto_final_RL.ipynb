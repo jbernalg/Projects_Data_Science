{
  "nbformat": 4,
  "nbformat_minor": 0,
  "metadata": {
    "colab": {
      "name": "Proyecto Final Template.ipynb",
      "provenance": [],
      "collapsed_sections": []
    },
    "kernelspec": {
      "name": "python3",
      "display_name": "Python 3"
    },
    "language_info": {
      "name": "python"
    }
  },
  "cells": [
    {
      "cell_type": "markdown",
      "metadata": {
        "id": "IaWagVBlrUgp"
      },
      "source": [
        "# Regresión lineal: predecir los gastos médicos de pacientes\n",
        "---"
      ]
    },
    {
      "cell_type": "markdown",
      "metadata": {
        "id": "yFghp46jvs_T"
      },
      "source": [
        "Para este ejercicio utilizaremos los datos presentados en [este](https://www.kaggle.com/mirichoi0218/insurance) dataset de Kaggle en el cual se presentan datos de seguros médicos. \n"
      ]
    },
    {
      "cell_type": "markdown",
      "source": [
        "## Descarga e instalación de librerías"
      ],
      "metadata": {
        "id": "4UrKs0DgVEQQ"
      }
    },
    {
      "cell_type": "markdown",
      "metadata": {
        "id": "fYUwO-muhfFW"
      },
      "source": [
        "Lo primero que se hará es descargar la librería **[regressors](https://pypi.org/project/regressors/)** que ayudará a hacer un análisis más profundo sobre la regresión lineal."
      ]
    },
    {
      "cell_type": "code",
      "metadata": {
        "id": "OvBNL6ite32w"
      },
      "source": [
        ""
      ],
      "execution_count": null,
      "outputs": []
    },
    {
      "cell_type": "code",
      "metadata": {
        "id": "MmK5HvDcvsBQ"
      },
      "source": [
        ""
      ],
      "execution_count": null,
      "outputs": []
    },
    {
      "cell_type": "markdown",
      "metadata": {
        "id": "CmT14hghhpnx"
      },
      "source": [
        "## Descargando los datos\n",
        "Descarguemos los datos y veamos cómo se ven."
      ]
    },
    {
      "cell_type": "code",
      "metadata": {
        "id": "tvuw5k4p7X5A"
      },
      "source": [
        ""
      ],
      "execution_count": null,
      "outputs": []
    },
    {
      "cell_type": "markdown",
      "metadata": {
        "id": "Co9JvxLVH1IO"
      },
      "source": [
        "## Analizando los datos\n",
        "Se observará cómo se distribuyen los datos de la variable a predecir."
      ]
    },
    {
      "cell_type": "code",
      "metadata": {
        "id": "sipb4uXehuJg"
      },
      "source": [
        ""
      ],
      "execution_count": null,
      "outputs": []
    },
    {
      "cell_type": "markdown",
      "metadata": {
        "id": "K5g5QrfEF3rP"
      },
      "source": [
        "Algo que analizar, según este gráfico, es entender qué está pasando con los datos arriba de los 50,000. Parece haber muy pocos datos de este lado."
      ]
    },
    {
      "cell_type": "code",
      "metadata": {
        "id": "xFnOj_nsFY7k"
      },
      "source": [
        ""
      ],
      "execution_count": null,
      "outputs": []
    },
    {
      "cell_type": "markdown",
      "metadata": {
        "id": "4PEeh4yXGvrf"
      },
      "source": [
        "En este caso, al ser pocos datos (6 de 1338), eliminaremos estos datos atípicos. A modo didáctico producen más ruido en la predicción que se está intentando hacer en este ejercicio. \n",
        "\n",
        "Sin embargo es importante aclarar que **NO SE DEBEN ELIMINAR** datos atípicos sin antes conocer a alguien que conozca o sea experto en los datos para que pueda guiarnos mejor sobre ellos."
      ]
    },
    {
      "cell_type": "markdown",
      "metadata": {
        "id": "752MF9tch9kZ"
      },
      "source": [
        "## Viendo correlaciones\n",
        "Ahora entendamos nuestros datos, viendo cómo se distribuyen y correlacionan. "
      ]
    },
    {
      "cell_type": "code",
      "metadata": {
        "id": "XuJpp5wV8dDe"
      },
      "source": [
        ""
      ],
      "execution_count": null,
      "outputs": []
    },
    {
      "cell_type": "markdown",
      "metadata": {
        "id": "XA8ubtfbiSaI"
      },
      "source": [
        "Puntos interesantes a ver:\n",
        "\n",
        "- Hay 3 grupos de personas diferentes que se clasifican en edad / cargos, esto puede ser un punto a analizar después.\n",
        "\n",
        "En general los valores se distribuyen de manera esperada. Con valores extremos en el caso de los cargos, sin embargo esto es de esperarse pues los cargos en los hospitales pueden variar mucho por quedarse un día más en el hospital o incluso por procedimientos extras.\n",
        "\n",
        "- Parece que los datos están limpios, la variable de índice de masa corporal se distribuye de manera normal o gausiana, lo cual sería esperado en un índice de este tipo."
      ]
    },
    {
      "cell_type": "code",
      "metadata": {
        "id": "ToWhiu7J8gMe"
      },
      "source": [
        ""
      ],
      "execution_count": null,
      "outputs": []
    },
    {
      "cell_type": "markdown",
      "metadata": {
        "id": "shLVp1ABjUS8"
      },
      "source": [
        "## Utilizando las demás variables\n",
        "Las demás variables son variables categoricas, sexo, fumador, región. Para poder utilizarlas utilizaremos la función get_dummies de pandas. \n",
        "\n",
        "Ahora la verás en acción"
      ]
    },
    {
      "cell_type": "code",
      "metadata": {
        "id": "DTWOy4bI-8nw"
      },
      "source": [
        ""
      ],
      "execution_count": null,
      "outputs": []
    },
    {
      "cell_type": "markdown",
      "metadata": {
        "id": "5XtUoEsXI6yF"
      },
      "source": [
        "## Creando modelos \n",
        "Primero se usará un modelo con todas las variables."
      ]
    },
    {
      "cell_type": "code",
      "metadata": {
        "id": "tCurIuamkomn"
      },
      "source": [
        ""
      ],
      "execution_count": null,
      "outputs": []
    },
    {
      "cell_type": "code",
      "metadata": {
        "id": "_a-wSACvU6QO"
      },
      "source": [
        ""
      ],
      "execution_count": null,
      "outputs": []
    },
    {
      "cell_type": "markdown",
      "metadata": {
        "id": "xx9k4RifkoIH"
      },
      "source": [
        "## Funciones de métricas\n",
        "El siguiente punto es calcular las métricas del modelo."
      ]
    },
    {
      "cell_type": "code",
      "metadata": {
        "id": "34PT8XdR8gPx"
      },
      "source": [
        ""
      ],
      "execution_count": null,
      "outputs": []
    },
    {
      "cell_type": "markdown",
      "metadata": {
        "id": "XKdwcVtuksXw"
      },
      "source": [
        "El siguiente código muestra un resumen general de los resultados."
      ]
    },
    {
      "cell_type": "code",
      "metadata": {
        "id": "ku9BpienkrV7"
      },
      "source": [
        ""
      ],
      "execution_count": null,
      "outputs": []
    },
    {
      "cell_type": "markdown",
      "metadata": {
        "id": "BmIOjK4mIrl3"
      },
      "source": [
        "Finalmente tenemos la función que calcula los residuales. Es importante notar que es una simple resta entre los valores reales y los predichos."
      ]
    },
    {
      "cell_type": "code",
      "metadata": {
        "id": "hFQCPcP_1q1q"
      },
      "source": [
        "\n"
      ],
      "execution_count": null,
      "outputs": []
    },
    {
      "cell_type": "markdown",
      "metadata": {
        "id": "e09lorZOloGy"
      },
      "source": [
        "## Segundo modelo\n",
        "Estos resultados de arriba son buenos, pero se pueden mejorar. Intentaremos hacer algunas transformaciones sobre las variables que pueden ser de utilidad."
      ]
    },
    {
      "cell_type": "code",
      "metadata": {
        "id": "OhIsEkP4fTRL"
      },
      "source": [
        ""
      ],
      "execution_count": null,
      "outputs": []
    },
    {
      "cell_type": "markdown",
      "metadata": {
        "id": "-kQE361cJJNd"
      },
      "source": [
        "Analizando el segundo modelo"
      ]
    },
    {
      "cell_type": "code",
      "metadata": {
        "id": "Rw2-p6ccllQn"
      },
      "source": [
        ""
      ],
      "execution_count": null,
      "outputs": []
    },
    {
      "cell_type": "code",
      "metadata": {
        "id": "JruawnsG19rW"
      },
      "source": [
        ""
      ],
      "execution_count": null,
      "outputs": []
    },
    {
      "cell_type": "code",
      "metadata": {
        "id": "KTngFQdzWyRJ"
      },
      "source": [
        ""
      ],
      "execution_count": null,
      "outputs": []
    },
    {
      "cell_type": "code",
      "metadata": {
        "id": "TNGgo1lMXI1k"
      },
      "source": [
        ""
      ],
      "execution_count": null,
      "outputs": []
    },
    {
      "cell_type": "code",
      "metadata": {
        "id": "WcuURYx922SL"
      },
      "source": [
        ""
      ],
      "execution_count": null,
      "outputs": []
    }
  ]
}