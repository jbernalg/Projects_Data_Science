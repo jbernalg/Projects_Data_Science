{
 "cells": [
  {
   "cell_type": "markdown",
   "metadata": {
    "id": "fzD1Jz4ZnAxi"
   },
   "source": [
    "# Primer clustering con scikit-learn"
   ]
  },
  {
   "cell_type": "markdown",
   "metadata": {
    "id": "vz-QFKkYnNp9"
   },
   "source": [
    "## Importar librerías y carga de datos de prueba"
   ]
  },
  {
   "cell_type": "code",
   "execution_count": null,
   "metadata": {
    "collapsed": true,
    "id": "MjQatiU-jugT"
   },
   "outputs": [],
   "source": [
    "from sklearn.datasets import make_blobs # datasets de prueba\n",
    "import pandas as pd\n",
    "import matplotlib.pyplot as plt"
   ]
  },
  {
   "cell_type": "markdown",
   "metadata": {},
   "source": [
    "La librería make_blobs de sklearn se utiliza para generar conjuntos de datos sintéticos para problemas de clustering. Permite crear puntos de datos distribuidos en varias \"blobs\" o grupos, facilitando la visualización y la prueba de algoritmos de clustering como K-means. Puedes especificar el número de clusters, la cantidad de muestras y la variación de los datos, lo que te permite experimentar con diferentes configuraciones de datos de manera efectiva."
   ]
  },
  {
   "cell_type": "code",
   "execution_count": 2,
   "metadata": {
    "id": "j6RvMSvdn4Hu"
   },
   "outputs": [],
   "source": [
    "# crear 100 datapoints con 4 clusters, 2 features definiendo la desviacion\n",
    "# estandar de cada cluster\n",
    "x, y = make_blobs(n_samples=100, centers=4, n_features=2, cluster_std=[1,1.5,2,2], random_state=7)"
   ]
  },
  {
   "cell_type": "code",
   "execution_count": 3,
   "metadata": {},
   "outputs": [
    {
     "data": {
      "text/plain": [
       "array([[ -3.38426057,   5.22173974],\n",
       "       [ -1.83623836,  -7.73538367],\n",
       "       [ -7.45617621,   6.19887436],\n",
       "       [ -1.78504307,   1.60974874],\n",
       "       [-10.1249098 ,   6.1338052 ],\n",
       "       [  1.0146433 ,   4.0453507 ],\n",
       "       [ -0.70092735,  -6.98196818],\n",
       "       [  8.99757441,  -2.30228718],\n",
       "       [ -7.9192539 ,   5.72225675],\n",
       "       [  1.9445622 ,  -7.43742299],\n",
       "       [ -0.93442649,  -7.78820426],\n",
       "       [ 11.48819121,   1.33719026],\n",
       "       [ -2.86067816, -11.24623446],\n",
       "       [ -7.90577233,   4.84553865],\n",
       "       [ -2.24228315,   4.38550238],\n",
       "       [  0.56928691, -10.0571088 ],\n",
       "       [  0.6237701 ,  -6.12033956],\n",
       "       [  8.32594634,   0.04535295],\n",
       "       [ -2.11937574, -10.1833945 ],\n",
       "       [ -6.70767333,   5.26896209],\n",
       "       [ -2.52855036,   5.03085908],\n",
       "       [ -8.19937429,   4.07185131],\n",
       "       [ -8.86097416,   7.62744807],\n",
       "       [  0.25552915, -12.26658908],\n",
       "       [  7.09274235,   1.13571881],\n",
       "       [ -8.51922024,   4.14769715],\n",
       "       [  9.58876813,  -2.81738008],\n",
       "       [  9.01302463,  -0.87700276],\n",
       "       [  2.43497366,  -6.59786336],\n",
       "       [ -1.25017865,   4.35580836],\n",
       "       [ -3.34438441,  -6.52894746],\n",
       "       [ -0.15955326,  -6.65074692],\n",
       "       [ -1.06884281,   6.62666284],\n",
       "       [ -1.61175122,  -8.17436194],\n",
       "       [  2.18722279, -10.1737727 ],\n",
       "       [ -8.37240023,   5.85095358],\n",
       "       [  9.60427972,  -0.08821978],\n",
       "       [ -8.60621141,   5.2888995 ],\n",
       "       [ -0.60856145,   3.08398657],\n",
       "       [ -8.20442258,   5.07377123],\n",
       "       [ -3.09016602,  -7.04152693],\n",
       "       [ -1.38123132,   7.0186095 ],\n",
       "       [ -0.73385405,   5.57184343],\n",
       "       [ 12.99525034,  -0.14633618],\n",
       "       [  2.15810511,   5.77286255],\n",
       "       [  9.73610009,  -1.90312369],\n",
       "       [ -8.87906207,   3.31006074],\n",
       "       [ -7.63310097,   5.41838944],\n",
       "       [ 11.67168684,   1.90168239],\n",
       "       [ -9.67805406,   7.06035147],\n",
       "       [  7.40382045,  -2.89493453],\n",
       "       [  3.74252062, -11.55352462],\n",
       "       [  5.65583404,   1.51657898],\n",
       "       [ -2.71731016,  -7.09666856],\n",
       "       [ -3.02220325,   2.89427834],\n",
       "       [ -6.56181535,   5.83567769],\n",
       "       [ -0.40869769,   5.48424704],\n",
       "       [ -4.08286174,  -4.43138623],\n",
       "       [ -0.50231258,   3.61509515],\n",
       "       [ -0.64449683,   2.30462107],\n",
       "       [ -1.68210598,   2.69933042],\n",
       "       [ -1.85814896,  -8.82152863],\n",
       "       [ -1.80695006,   3.13451827],\n",
       "       [ 10.53704107,   1.49429741],\n",
       "       [ -8.09071236,   7.8459709 ],\n",
       "       [  8.98382251,   1.36953411],\n",
       "       [ -8.4747246 ,   3.84365154],\n",
       "       [  9.17207761,   2.16450563],\n",
       "       [  8.26357965,   4.26507189],\n",
       "       [ -1.52585634,   3.58314883],\n",
       "       [ -9.09926319,   5.42682758],\n",
       "       [ 10.83401591,   1.03116336],\n",
       "       [ -6.82313452,   5.75271138],\n",
       "       [ -8.71658329,   4.14513443],\n",
       "       [  8.13768385,   1.76216825],\n",
       "       [  8.49808274,  -1.47400737],\n",
       "       [ 11.74366784,   4.1986779 ],\n",
       "       [  8.51784557,   1.18936152],\n",
       "       [ -1.37077276,  -7.39303673],\n",
       "       [  1.06255408,   5.47343085],\n",
       "       [  1.02316241,   4.15020411],\n",
       "       [ -1.37397855,   6.25893244],\n",
       "       [ -7.42443766,   5.18190153],\n",
       "       [ -3.79908848,  -7.28615161],\n",
       "       [  8.77901728,  -0.92192787],\n",
       "       [ -0.49422339,  -6.28301921],\n",
       "       [ 12.41323255,   1.08360538],\n",
       "       [-10.18217342,   3.79527719],\n",
       "       [-10.53824902,   4.93621651],\n",
       "       [ -1.74499091,   3.76141358],\n",
       "       [  1.90011281,  -8.26484561],\n",
       "       [ -0.24975682,   5.81083201],\n",
       "       [ -7.96853484,   5.33701943],\n",
       "       [  0.97508467,  -6.33439636],\n",
       "       [  9.40816251,   2.33252103],\n",
       "       [  7.07275521,  -0.25993704],\n",
       "       [ -2.6268734 ,  -7.22856996],\n",
       "       [ -1.52109856,   1.80228428],\n",
       "       [ -9.21638774,   6.67084598],\n",
       "       [ -1.68138223,   6.41463135]])"
      ]
     },
     "execution_count": 3,
     "metadata": {},
     "output_type": "execute_result"
    }
   ],
   "source": [
    "# verificamos los valores de x\n",
    "x"
   ]
  },
  {
   "cell_type": "markdown",
   "metadata": {},
   "source": [
    "> Notamos que los valores de x estan constituido por dos features"
   ]
  },
  {
   "cell_type": "code",
   "execution_count": 4,
   "metadata": {},
   "outputs": [
    {
     "data": {
      "text/plain": [
       "array([1, 3, 0, 1, 0, 1, 3, 2, 0, 3, 3, 2, 3, 0, 1, 3, 3, 2, 3, 0, 1, 0,\n",
       "       0, 3, 2, 0, 2, 2, 3, 1, 3, 3, 1, 3, 3, 0, 2, 0, 1, 0, 3, 1, 1, 2,\n",
       "       1, 2, 0, 0, 2, 0, 2, 3, 2, 3, 1, 0, 1, 3, 1, 1, 1, 3, 1, 2, 0, 2,\n",
       "       0, 2, 2, 1, 0, 2, 0, 0, 2, 2, 2, 2, 3, 1, 1, 1, 0, 3, 2, 3, 2, 0,\n",
       "       0, 1, 3, 1, 0, 3, 2, 2, 3, 1, 0, 1])"
      ]
     },
     "execution_count": 4,
     "metadata": {},
     "output_type": "execute_result"
    }
   ],
   "source": [
    "# verificamos los valores de y\n",
    "y"
   ]
  },
  {
   "cell_type": "markdown",
   "metadata": {},
   "source": [
    "> Los valores de y van de 0 a 3 lo cual corresponden a los 4 centroides. "
   ]
  },
  {
   "cell_type": "markdown",
   "metadata": {},
   "source": [
    "Ahora, creamos un dataframe con los datos antes definidos."
   ]
  },
  {
   "cell_type": "code",
   "execution_count": 6,
   "metadata": {
    "id": "FpcmDTALjugX",
    "pycharm": {
     "name": "#%%\n"
    }
   },
   "outputs": [],
   "source": [
    "df_blobls = pd.DataFrame({\n",
    "    'x1': x[:,0], # feature 1\n",
    "    'x2':x[:,1],  # feature 2\n",
    "    'y':y         # valores de cluster\n",
    "})"
   ]
  },
  {
   "cell_type": "code",
   "execution_count": 7,
   "metadata": {
    "colab": {
     "base_uri": "https://localhost:8080/",
     "height": 423
    },
    "executionInfo": {
     "elapsed": 8,
     "status": "ok",
     "timestamp": 1660066053403,
     "user": {
      "displayName": "Carlos Alarcón",
      "userId": "15349885202925550395"
     },
     "user_tz": 300
    },
    "id": "mpL2GKf2pbX7",
    "outputId": "c5baf1ba-7756-47e5-f742-f5a9244b76b1"
   },
   "outputs": [
    {
     "data": {
      "text/html": [
       "<div>\n",
       "<style scoped>\n",
       "    .dataframe tbody tr th:only-of-type {\n",
       "        vertical-align: middle;\n",
       "    }\n",
       "\n",
       "    .dataframe tbody tr th {\n",
       "        vertical-align: top;\n",
       "    }\n",
       "\n",
       "    .dataframe thead th {\n",
       "        text-align: right;\n",
       "    }\n",
       "</style>\n",
       "<table border=\"1\" class=\"dataframe\">\n",
       "  <thead>\n",
       "    <tr style=\"text-align: right;\">\n",
       "      <th></th>\n",
       "      <th>x1</th>\n",
       "      <th>x2</th>\n",
       "      <th>y</th>\n",
       "    </tr>\n",
       "  </thead>\n",
       "  <tbody>\n",
       "    <tr>\n",
       "      <th>0</th>\n",
       "      <td>-3.384261</td>\n",
       "      <td>5.221740</td>\n",
       "      <td>1</td>\n",
       "    </tr>\n",
       "    <tr>\n",
       "      <th>1</th>\n",
       "      <td>-1.836238</td>\n",
       "      <td>-7.735384</td>\n",
       "      <td>3</td>\n",
       "    </tr>\n",
       "    <tr>\n",
       "      <th>2</th>\n",
       "      <td>-7.456176</td>\n",
       "      <td>6.198874</td>\n",
       "      <td>0</td>\n",
       "    </tr>\n",
       "    <tr>\n",
       "      <th>3</th>\n",
       "      <td>-1.785043</td>\n",
       "      <td>1.609749</td>\n",
       "      <td>1</td>\n",
       "    </tr>\n",
       "    <tr>\n",
       "      <th>4</th>\n",
       "      <td>-10.124910</td>\n",
       "      <td>6.133805</td>\n",
       "      <td>0</td>\n",
       "    </tr>\n",
       "    <tr>\n",
       "      <th>...</th>\n",
       "      <td>...</td>\n",
       "      <td>...</td>\n",
       "      <td>...</td>\n",
       "    </tr>\n",
       "    <tr>\n",
       "      <th>95</th>\n",
       "      <td>7.072755</td>\n",
       "      <td>-0.259937</td>\n",
       "      <td>2</td>\n",
       "    </tr>\n",
       "    <tr>\n",
       "      <th>96</th>\n",
       "      <td>-2.626873</td>\n",
       "      <td>-7.228570</td>\n",
       "      <td>3</td>\n",
       "    </tr>\n",
       "    <tr>\n",
       "      <th>97</th>\n",
       "      <td>-1.521099</td>\n",
       "      <td>1.802284</td>\n",
       "      <td>1</td>\n",
       "    </tr>\n",
       "    <tr>\n",
       "      <th>98</th>\n",
       "      <td>-9.216388</td>\n",
       "      <td>6.670846</td>\n",
       "      <td>0</td>\n",
       "    </tr>\n",
       "    <tr>\n",
       "      <th>99</th>\n",
       "      <td>-1.681382</td>\n",
       "      <td>6.414631</td>\n",
       "      <td>1</td>\n",
       "    </tr>\n",
       "  </tbody>\n",
       "</table>\n",
       "<p>100 rows × 3 columns</p>\n",
       "</div>"
      ],
      "text/plain": [
       "           x1        x2  y\n",
       "0   -3.384261  5.221740  1\n",
       "1   -1.836238 -7.735384  3\n",
       "2   -7.456176  6.198874  0\n",
       "3   -1.785043  1.609749  1\n",
       "4  -10.124910  6.133805  0\n",
       "..        ...       ... ..\n",
       "95   7.072755 -0.259937  2\n",
       "96  -2.626873 -7.228570  3\n",
       "97  -1.521099  1.802284  1\n",
       "98  -9.216388  6.670846  0\n",
       "99  -1.681382  6.414631  1\n",
       "\n",
       "[100 rows x 3 columns]"
      ]
     },
     "execution_count": 7,
     "metadata": {},
     "output_type": "execute_result"
    }
   ],
   "source": [
    "df_blobls"
   ]
  },
  {
   "cell_type": "markdown",
   "metadata": {},
   "source": [
    "> Tenemos los valores de las features 1 y 2 y a que cluster pertenecen. Vamos a utilizar los valores de __y__ para comprobar los datos mas no para crear los clusteres ya que no es una tarea de clasificacion."
   ]
  },
  {
   "cell_type": "markdown",
   "metadata": {},
   "source": [
    "Definimos una funcion que nos permita visualizar los clusteres en 2D."
   ]
  },
  {
   "cell_type": "code",
   "execution_count": null,
   "metadata": {
    "id": "GtnxxFgOphvA"
   },
   "outputs": [],
   "source": [
    "# parametros: x(df con los puntos), y(etiqueta de los clusters), ax(eje donde se grafican)\n",
    "def plot_2d_clusters(x,y,ax):\n",
    "    # se obtienen las etiquetas unicas de los cluters\n",
    "    y_uniques = pd.Series(y).unique()\n",
    "    # se recorre cada etiqueta unica\n",
    "    for _ in y_uniques:\n",
    "        # filtra los puntos de la etiqueta actual y lo grafica\n",
    "        x[y==_].plot(\n",
    "            title=f'{len(y_uniques)} Clusters',\n",
    "            kind='scatter',\n",
    "            x='x1',\n",
    "            y='x2',\n",
    "            marker = f'${_}$',\n",
    "            ax = ax\n",
    "        )"
   ]
  },
  {
   "cell_type": "code",
   "execution_count": 9,
   "metadata": {
    "colab": {
     "base_uri": "https://localhost:8080/",
     "height": 621
    },
    "executionInfo": {
     "elapsed": 976,
     "status": "ok",
     "timestamp": 1660066399535,
     "user": {
      "displayName": "Carlos Alarcón",
      "userId": "15349885202925550395"
     },
     "user_tz": 300
    },
    "id": "1pi_Bq2dqYsd",
    "outputId": "74559702-c044-4bbf-b8e5-598e2cc2493c"
   },
   "outputs": [
    {
     "data": {
      "image/png": "[encoded data removed]",
      "text/plain": [
       "<Figure size 1080x720 with 1 Axes>"
      ]
     },
     "metadata": {
      "needs_background": "light"
     },
     "output_type": "display_data"
    }
   ],
   "source": [
    "fig, ax = plt.subplots(1,1, figsize=(15,10))\n",
    "x, y = df_blobls[['x1','x2']], df_blobls['y']\n",
    "plot_2d_clusters(x,y,ax)"
   ]
  },
  {
   "cell_type": "markdown",
   "metadata": {},
   "source": [
    "> Vemos la formacion de 4 cluster donde se agrupan los datos. "
   ]
  },
  {
   "cell_type": "markdown",
   "metadata": {},
   "source": [
    "Otra forma de visualizar los cluster es la siguiente:"
   ]
  },
  {
   "cell_type": "code",
   "execution_count": 11,
   "metadata": {},
   "outputs": [
    {
     "data": {
      "image/png": "[encoded data removed]",
      "text/plain": [
       "<Figure size 402.375x360 with 1 Axes>"
      ]
     },
     "metadata": {
      "needs_background": "light"
     },
     "output_type": "display_data"
    }
   ],
   "source": [
    "import seaborn as sns\n",
    "\n",
    "sns.lmplot(\n",
    "    x='x1', \n",
    "    y='x2', \n",
    "    hue='y', \n",
    "    data=df_blobls,\n",
    "    fit_reg=False\n",
    "    );"
   ]
  },
  {
   "cell_type": "markdown",
   "metadata": {
    "id": "ACOk5xy-nWLp"
   },
   "source": [
    "## Aplicando clustering"
   ]
  },
  {
   "cell_type": "code",
   "execution_count": null,
   "metadata": {
    "id": "ioUYacAdjugX",
    "pycharm": {
     "name": "#%%\n"
    }
   },
   "outputs": [],
   "source": [
    "from sklearn.cluster import KMeans"
   ]
  },
  {
   "cell_type": "code",
   "execution_count": null,
   "metadata": {
    "id": "7rPKKi3pjugY",
    "pycharm": {
     "name": "#%%\n"
    }
   },
   "outputs": [],
   "source": [
    "kmeans = KMeans(n_clusters=5, random_state=7)"
   ]
  },
  {
   "cell_type": "code",
   "execution_count": null,
   "metadata": {
    "id": "6PJ0A7WQjugZ",
    "pycharm": {
     "name": "#%%\n"
    }
   },
   "outputs": [],
   "source": [
    "y_pred = kmeans.fit_predict(x)"
   ]
  },
  {
   "cell_type": "code",
   "execution_count": null,
   "metadata": {
    "colab": {
     "base_uri": "https://localhost:8080/",
     "height": 740
    },
    "executionInfo": {
     "elapsed": 669,
     "status": "ok",
     "timestamp": 1660066816334,
     "user": {
      "displayName": "Carlos Alarcón",
      "userId": "15349885202925550395"
     },
     "user_tz": 300
    },
    "id": "3qPslFpzrZAH",
    "outputId": "8e82afa1-b84d-473a-a872-7df5466c5801"
   },
   "outputs": [
    {
     "data": {
      "text/plain": [
       "Text(0.5, 1.0, 'Kmeans 5 Clusters')"
      ]
     },
     "execution_count": 23,
     "metadata": {},
     "output_type": "execute_result"
    },
    {
     "data": {
      "image/png": "[encoded data removed]",
      "text/plain": [
       "<Figure size 1440x864 with 2 Axes>"
      ]
     },
     "metadata": {
      "needs_background": "light"
     },
     "output_type": "display_data"
    }
   ],
   "source": [
    "fig, axs = plt.subplots(1,2, figsize=(20,12))\n",
    "plot_2d_clusters(x,y,axs[0])\n",
    "plot_2d_clusters(x,y_pred,axs[1])\n",
    "\n",
    "axs[0].set_title(f'Actual {axs[0].get_title()}')\n",
    "axs[1].set_title(f'Kmeans {axs[1].get_title()}')\n",
    "\n"
   ]
  }
 ],
 "metadata": {
  "colab": {
   "provenance": []
  },
  "kernelspec": {
   "display_name": "data",
   "language": "python",
   "name": "python3"
  },
  "language_info": {
   "codemirror_mode": {
    "name": "ipython",
    "version": 3
   },
   "file_extension": ".py",
   "mimetype": "text/x-python",
   "name": "python",
   "nbconvert_exporter": "python",
   "pygments_lexer": "ipython3",
   "version": "3.10.8"
  }
 },
 "nbformat": 4,
 "nbformat_minor": 0
}
