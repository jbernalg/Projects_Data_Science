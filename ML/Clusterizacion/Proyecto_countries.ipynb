{
 "cells": [
  {
   "cell_type": "markdown",
   "metadata": {
    "id": "D3fY1KlmmAA7"
   },
   "source": [
    "# __Proyecto de clustering de segmentación de países por datos socio-económicos__"
   ]
  },
  {
   "cell_type": "markdown",
   "metadata": {
    "id": "uCQkviehl_mB"
   },
   "source": [
    "## Importar librerías"
   ]
  },
  {
   "cell_type": "code",
   "execution_count": 27,
   "metadata": {
    "collapsed": true,
    "id": "XVZ2HBuNlyRj"
   },
   "outputs": [],
   "source": [
    "import pandas as pd\n",
    "import numpy as np\n",
    "import matplotlib.pyplot as plt\n",
    "import seaborn as  sns"
   ]
  },
  {
   "cell_type": "markdown",
   "metadata": {
    "id": "zxdgzvp1mFPu"
   },
   "source": [
    "## Carga de datos"
   ]
  },
  {
   "cell_type": "code",
   "execution_count": 28,
   "metadata": {
    "id": "fnCZNLs4lyRl",
    "pycharm": {
     "name": "#%%\n"
    }
   },
   "outputs": [
    {
     "data": {
      "text/html": [
       "<div>\n",
       "<style scoped>\n",
       "    .dataframe tbody tr th:only-of-type {\n",
       "        vertical-align: middle;\n",
       "    }\n",
       "\n",
       "    .dataframe tbody tr th {\n",
       "        vertical-align: top;\n",
       "    }\n",
       "\n",
       "    .dataframe thead th {\n",
       "        text-align: right;\n",
       "    }\n",
       "</style>\n",
       "<table border=\"1\" class=\"dataframe\">\n",
       "  <thead>\n",
       "    <tr style=\"text-align: right;\">\n",
       "      <th></th>\n",
       "      <th>country</th>\n",
       "      <th>child_mort</th>\n",
       "      <th>exports</th>\n",
       "      <th>health</th>\n",
       "      <th>imports</th>\n",
       "      <th>income</th>\n",
       "      <th>inflation</th>\n",
       "      <th>life_expec</th>\n",
       "      <th>total_fer</th>\n",
       "      <th>gdpp</th>\n",
       "    </tr>\n",
       "  </thead>\n",
       "  <tbody>\n",
       "    <tr>\n",
       "      <th>0</th>\n",
       "      <td>Afghanistan</td>\n",
       "      <td>90.2</td>\n",
       "      <td>10.0</td>\n",
       "      <td>7.58</td>\n",
       "      <td>44.9</td>\n",
       "      <td>1610</td>\n",
       "      <td>9.44</td>\n",
       "      <td>56.2</td>\n",
       "      <td>5.82</td>\n",
       "      <td>553</td>\n",
       "    </tr>\n",
       "    <tr>\n",
       "      <th>1</th>\n",
       "      <td>Albania</td>\n",
       "      <td>16.6</td>\n",
       "      <td>28.0</td>\n",
       "      <td>6.55</td>\n",
       "      <td>48.6</td>\n",
       "      <td>9930</td>\n",
       "      <td>4.49</td>\n",
       "      <td>76.3</td>\n",
       "      <td>1.65</td>\n",
       "      <td>4090</td>\n",
       "    </tr>\n",
       "    <tr>\n",
       "      <th>2</th>\n",
       "      <td>Algeria</td>\n",
       "      <td>27.3</td>\n",
       "      <td>38.4</td>\n",
       "      <td>4.17</td>\n",
       "      <td>31.4</td>\n",
       "      <td>12900</td>\n",
       "      <td>16.10</td>\n",
       "      <td>76.5</td>\n",
       "      <td>2.89</td>\n",
       "      <td>4460</td>\n",
       "    </tr>\n",
       "    <tr>\n",
       "      <th>3</th>\n",
       "      <td>Angola</td>\n",
       "      <td>119.0</td>\n",
       "      <td>62.3</td>\n",
       "      <td>2.85</td>\n",
       "      <td>42.9</td>\n",
       "      <td>5900</td>\n",
       "      <td>22.40</td>\n",
       "      <td>60.1</td>\n",
       "      <td>6.16</td>\n",
       "      <td>3530</td>\n",
       "    </tr>\n",
       "    <tr>\n",
       "      <th>4</th>\n",
       "      <td>Antigua and Barbuda</td>\n",
       "      <td>10.3</td>\n",
       "      <td>45.5</td>\n",
       "      <td>6.03</td>\n",
       "      <td>58.9</td>\n",
       "      <td>19100</td>\n",
       "      <td>1.44</td>\n",
       "      <td>76.8</td>\n",
       "      <td>2.13</td>\n",
       "      <td>12200</td>\n",
       "    </tr>\n",
       "  </tbody>\n",
       "</table>\n",
       "</div>"
      ],
      "text/plain": [
       "               country  child_mort  exports  health  imports  income  \\\n",
       "0          Afghanistan        90.2     10.0    7.58     44.9    1610   \n",
       "1              Albania        16.6     28.0    6.55     48.6    9930   \n",
       "2              Algeria        27.3     38.4    4.17     31.4   12900   \n",
       "3               Angola       119.0     62.3    2.85     42.9    5900   \n",
       "4  Antigua and Barbuda        10.3     45.5    6.03     58.9   19100   \n",
       "\n",
       "   inflation  life_expec  total_fer   gdpp  \n",
       "0       9.44        56.2       5.82    553  \n",
       "1       4.49        76.3       1.65   4090  \n",
       "2      16.10        76.5       2.89   4460  \n",
       "3      22.40        60.1       6.16   3530  \n",
       "4       1.44        76.8       2.13  12200  "
      ]
     },
     "execution_count": 28,
     "metadata": {},
     "output_type": "execute_result"
    }
   ],
   "source": [
    "df_country = pd.read_csv('Country-data.csv')\n",
    "df_country.head()"
   ]
  },
  {
   "cell_type": "code",
   "execution_count": 29,
   "metadata": {},
   "outputs": [
    {
     "data": {
      "text/plain": [
       "(167, 10)"
      ]
     },
     "execution_count": 29,
     "metadata": {},
     "output_type": "execute_result"
    }
   ],
   "source": [
    "df_country.shape"
   ]
  },
  {
   "cell_type": "markdown",
   "metadata": {},
   "source": [
    "> El dataset esta constituido por 10 columnas y 167 filas"
   ]
  },
  {
   "cell_type": "markdown",
   "metadata": {},
   "source": [
    "## Conociendo los datos"
   ]
  },
  {
   "cell_type": "markdown",
   "metadata": {},
   "source": [
    "La organizacion HELP International es una ONG humanitaria internacional comprometida a combatir la pobreza y proporcionar a la población de los países atrasados ​​servicios básicos y socorro en tiempos de desastres y calamidades naturales.\n",
    "\n",
    "HELP International ha logrado recaudar alrededor de 10 millones de dólares. Ahora, el director ejecutivo de la ONG debe decidir cómo utilizar este dinero de forma estratégica y eficaz. Por lo tanto, debe elegir los países que más necesitan ayuda. Por lo tanto, su trabajo como científico de datos consiste en categorizar los países utilizando factores socioeconómicos y sanitarios que determinan su desarrollo general. A continuación, debe sugerir los países en los que el director ejecutivo debe centrarse más."
   ]
  },
  {
   "cell_type": "markdown",
   "metadata": {},
   "source": [
    "El dataset con el que se cuenta tiene la siguiente informacion:\n",
    "\n",
    "- _country_: pais.\n",
    "\n",
    "- _child_mort_: Muerte de niños menores de 5 años por cada 1000 nacidos vivos.\n",
    "\n",
    "- _exports_: Exportaciones de bienes y servicios per cápita. Expresadas como porcentaje del PIB per cápita.\n",
    "\n",
    "- _health_: Gasto total en salud per cápita. Expresado como porcentaje del PIB per cápita.\n",
    "\n",
    "- _imports_: Importaciones de bienes y servicios per cápita. Expresadas como porcentaje del PIB per cápita.\n",
    "\n",
    "- _income_: Ingreso neto por persona.\n",
    "\n",
    "- _inflation_: La medición de la tasa de crecimiento anual del PIB total.\n",
    "\n",
    "- _life_expec_: El número promedio de años que viviría un recién nacido si los patrones de mortalidad actuales se mantuvieran\n",
    "\n",
    "- _total_fer_: El número de hijos que tendría cada mujer si las tasas actuales de fertilidad por edad se mantuvieran iguales.\n",
    "\n",
    "- _gdpp_: El PIB per cápita. Se calcula dividiendo el PIB total entre la población total."
   ]
  },
  {
   "cell_type": "markdown",
   "metadata": {
    "collapsed": false,
    "id": "H0djcf3HlyRn",
    "pycharm": {
     "name": "#%% md\n"
    }
   },
   "source": [
    "## Manejando valores nulos"
   ]
  },
  {
   "cell_type": "code",
   "execution_count": 30,
   "metadata": {
    "colab": {
     "base_uri": "https://localhost:8080/"
    },
    "executionInfo": {
     "elapsed": 3,
     "status": "ok",
     "timestamp": 1660234004330,
     "user": {
      "displayName": "Carlos Alarcón",
      "userId": "15349885202925550395"
     },
     "user_tz": 300
    },
    "id": "y7KqEwLUlyRp",
    "outputId": "c340a03d-ec5d-472c-c38c-081af6f8faf5",
    "pycharm": {
     "name": "#%%\n"
    }
   },
   "outputs": [
    {
     "name": "stdout",
     "output_type": "stream",
     "text": [
      "<class 'pandas.core.frame.DataFrame'>\n",
      "RangeIndex: 167 entries, 0 to 166\n",
      "Data columns (total 10 columns):\n",
      " #   Column      Non-Null Count  Dtype  \n",
      "---  ------      --------------  -----  \n",
      " 0   country     167 non-null    object \n",
      " 1   child_mort  167 non-null    float64\n",
      " 2   exports     167 non-null    float64\n",
      " 3   health      167 non-null    float64\n",
      " 4   imports     167 non-null    float64\n",
      " 5   income      167 non-null    int64  \n",
      " 6   inflation   167 non-null    float64\n",
      " 7   life_expec  167 non-null    float64\n",
      " 8   total_fer   167 non-null    float64\n",
      " 9   gdpp        167 non-null    int64  \n",
      "dtypes: float64(7), int64(2), object(1)\n",
      "memory usage: 13.2+ KB\n"
     ]
    }
   ],
   "source": [
    "df_country.info()"
   ]
  },
  {
   "cell_type": "markdown",
   "metadata": {},
   "source": [
    "> Todas las variables estan en formato numerico excepto country.\n",
    "\n",
    "> Todas las variables poseen 167 valores lo que indica que no hay valores nulos."
   ]
  },
  {
   "cell_type": "code",
   "execution_count": 31,
   "metadata": {},
   "outputs": [
    {
     "data": {
      "text/plain": [
       "country       0\n",
       "child_mort    0\n",
       "exports       0\n",
       "health        0\n",
       "imports       0\n",
       "income        0\n",
       "inflation     0\n",
       "life_expec    0\n",
       "total_fer     0\n",
       "gdpp          0\n",
       "dtype: int64"
      ]
     },
     "execution_count": 31,
     "metadata": {},
     "output_type": "execute_result"
    }
   ],
   "source": [
    "# Verificar cuantas variables presentan valores nulos\n",
    "df_country.isnull().sum()"
   ]
  },
  {
   "cell_type": "markdown",
   "metadata": {},
   "source": [
    "> Se evidencia que todas las variables estan libres de valores nulos."
   ]
  },
  {
   "cell_type": "markdown",
   "metadata": {
    "collapsed": false,
    "id": "wc4M7ekZlyRq",
    "pycharm": {
     "name": "#%% md\n"
    }
   },
   "source": [
    "## Validando duplicados"
   ]
  },
  {
   "cell_type": "code",
   "execution_count": 32,
   "metadata": {
    "colab": {
     "base_uri": "https://localhost:8080/",
     "height": 49
    },
    "executionInfo": {
     "elapsed": 204,
     "status": "ok",
     "timestamp": 1660234030624,
     "user": {
      "displayName": "Carlos Alarcón",
      "userId": "15349885202925550395"
     },
     "user_tz": 300
    },
    "id": "fxmD3e8dlyRq",
    "outputId": "1cb16fb9-c7d7-42aa-cd3b-239c35315021",
    "pycharm": {
     "name": "#%%\n"
    }
   },
   "outputs": [
    {
     "data": {
      "text/html": [
       "<div>\n",
       "<style scoped>\n",
       "    .dataframe tbody tr th:only-of-type {\n",
       "        vertical-align: middle;\n",
       "    }\n",
       "\n",
       "    .dataframe tbody tr th {\n",
       "        vertical-align: top;\n",
       "    }\n",
       "\n",
       "    .dataframe thead th {\n",
       "        text-align: right;\n",
       "    }\n",
       "</style>\n",
       "<table border=\"1\" class=\"dataframe\">\n",
       "  <thead>\n",
       "    <tr style=\"text-align: right;\">\n",
       "      <th></th>\n",
       "      <th>country</th>\n",
       "      <th>child_mort</th>\n",
       "      <th>exports</th>\n",
       "      <th>health</th>\n",
       "      <th>imports</th>\n",
       "      <th>income</th>\n",
       "      <th>inflation</th>\n",
       "      <th>life_expec</th>\n",
       "      <th>total_fer</th>\n",
       "      <th>gdpp</th>\n",
       "    </tr>\n",
       "  </thead>\n",
       "  <tbody>\n",
       "  </tbody>\n",
       "</table>\n",
       "</div>"
      ],
      "text/plain": [
       "Empty DataFrame\n",
       "Columns: [country, child_mort, exports, health, imports, income, inflation, life_expec, total_fer, gdpp]\n",
       "Index: []"
      ]
     },
     "execution_count": 32,
     "metadata": {},
     "output_type": "execute_result"
    }
   ],
   "source": [
    "# eleccionamos todos los registros duplicados\n",
    "df_country[df_country.duplicated()]"
   ]
  },
  {
   "cell_type": "markdown",
   "metadata": {},
   "source": [
    "> No se presentan registros duplicados en el dataset"
   ]
  },
  {
   "cell_type": "markdown",
   "metadata": {
    "collapsed": false,
    "id": "isUGB9jAlyRr",
    "pycharm": {
     "name": "#%% md\n"
    }
   },
   "source": [
    "## Análisis de distribución"
   ]
  },
  {
   "cell_type": "markdown",
   "metadata": {},
   "source": [
    "Analicemos la distribucion de los datos para detectar outliers estadisticos. Vamos a seleccionar todas las variables que no sean de tipo object"
   ]
  },
  {
   "cell_type": "code",
   "execution_count": 33,
   "metadata": {
    "colab": {
     "base_uri": "https://localhost:8080/",
     "height": 1000
    },
    "executionInfo": {
     "elapsed": 1727,
     "status": "ok",
     "timestamp": 1660234150628,
     "user": {
      "displayName": "Carlos Alarcón",
      "userId": "15349885202925550395"
     },
     "user_tz": 300
    },
    "id": "6x7dbKPUlyRs",
    "outputId": "73428f2e-c628-41b7-ebd1-57be823bfecf",
    "pycharm": {
     "name": "#%%\n"
    }
   },
   "outputs": [
    {
     "data": {
      "text/plain": [
       "Index(['child_mort', 'exports', 'health', 'imports', 'income', 'inflation',\n",
       "       'life_expec', 'total_fer', 'gdpp'],\n",
       "      dtype='object')"
      ]
     },
     "execution_count": 33,
     "metadata": {},
     "output_type": "execute_result"
    }
   ],
   "source": [
    "int_cols = df_country.select_dtypes(exclude='object').columns\n",
    "int_cols"
   ]
  },
  {
   "cell_type": "markdown",
   "metadata": {
    "colab": {
     "base_uri": "https://localhost:8080/",
     "height": 596
    },
    "executionInfo": {
     "elapsed": 1315,
     "status": "ok",
     "timestamp": 1660234344814,
     "user": {
      "displayName": "Carlos Alarcón",
      "userId": "15349885202925550395"
     },
     "user_tz": 300
    },
    "id": "WZhGRTrslyRt",
    "outputId": "a5e54a49-045e-4191-a173-b942806e6a55",
    "pycharm": {
     "name": "#%%\n"
    }
   },
   "source": [
    "Graficamos la distribucion de cada variable mediante un boxplot."
   ]
  },
  {
   "cell_type": "code",
   "execution_count": 34,
   "metadata": {},
   "outputs": [
    {
     "data": {
      "image/png": "[encoded data removed]",
      "text/plain": [
       "<Figure size 1080x1080 with 9 Axes>"
      ]
     },
     "metadata": {
      "needs_background": "light"
     },
     "output_type": "display_data"
    }
   ],
   "source": [
    "num_plots = len(int_cols)\n",
    "\n",
    "# Número de filas deseadas para la grilla\n",
    "rows = 3  \n",
    "# Número de columnas deseadas para la grilla\n",
    "cols = num_plots // rows + (num_plots % rows > 0)  \n",
    "\n",
    "# Ajusta el tamaño de la figura según tus necesidades\n",
    "fig, axes = plt.subplots(rows, cols, figsize=(15, 15))  \n",
    "\n",
    "for i, col in enumerate(int_cols):\n",
    "    # Obtén el eje correspondiente\n",
    "    ax = axes[i // cols, i % cols] if rows > 1 else axes[i % cols]  \n",
    "    sns.boxplot(data=df_country, y=col, ax=ax)\n",
    "    # Opcional: establece el título de cada gráfico\n",
    "    ax.set_title(col)  \n",
    "\n",
    "# Ajusta el espaciado entre los gráficos\n",
    "plt.tight_layout()  \n",
    "plt.show()\n"
   ]
  },
  {
   "cell_type": "markdown",
   "metadata": {},
   "source": [
    "> Hay paises con tasas de mortalidad infantil muy altas comparadas con la mayoria.\n",
    "\n",
    "> En export se muestran outliers por encima del 100% lo que sugiere que algunos paises exportan mas de lo que producen.\n",
    "\n",
    "> En imports vemos que algunos paises tienen importaciones muy altas, fuera de la distribucion normal.\n",
    "\n",
    "> La distribucion de income esta sesgadaa la derecha. Hay paises con ingresos muy altos representados como outliers positivos.\n",
    "\n",
    "> La mayoria de los paises tienen inflacion por debajo del 20%. Pero tambien hay unos tantos paises con hiperinflacion (mayor al 60%).\n",
    "\n",
    "> Hay un pais con una taza de fertifilidad muy alta con mas de 6 hijos por mujer.\n",
    "\n",
    "> La distribucion de PIB es similar a la de income con algunos paises con un PIB per capita extremadamente alto.\n",
    "\n",
    "> La presencia de muchos outliers en las variables indica la desigualdad entre paises. No se requiere eliminarlos debido a que hacen parte de la informacion de los datos, no son datos salidos de la nada estadisticamente hablando. Representan una realidad\n"
   ]
  },
  {
   "cell_type": "markdown",
   "metadata": {},
   "source": [
    "Creamos una heatmap para visualizar la correlacion entre las variables numericas."
   ]
  },
  {
   "cell_type": "code",
   "execution_count": 35,
   "metadata": {},
   "outputs": [
    {
     "data": {
      "image/png": "[encoded data removed]",
      "text/plain": [
       "<Figure size 1080x720 with 2 Axes>"
      ]
     },
     "metadata": {
      "needs_background": "light"
     },
     "output_type": "display_data"
    }
   ],
   "source": [
    "fig = plt.figure(figsize=(15,10))\n",
    "sns.heatmap(df_country.corr(), annot=True, cmap='coolwarm')\n",
    "plt.show()"
   ]
  },
  {
   "cell_type": "markdown",
   "metadata": {},
   "source": [
    "> El income y gdpp estan altamente correlacionado de manera positiva. Esto indica que los ingresos de un pais esta directamente relacionado con su PIB.\n",
    "\n",
    "> La taza de mortalidad infantil esta altamente correlacionado con la esperanza de vida de manera negativa. Un aumento en la mortalidad infantil reduce la esperanza de vida.\n",
    "\n",
    "> La tasa de mortalidad infantil tambien esta altamente correlacionada con el taza de fertilidad de manera negativa. Un aumento en la mortalidad infantil se refleja en una reduccion de la tasa de fertilidad.\n",
    "\n",
    "> Las exportaciones tiene alta correlacion positiva con las importaciones.\n",
    "\n",
    "> Las exportaciones tambien se correlacionan en gran medida con los ingresos del pais.\n",
    "\n",
    "> La esperanza de vida presenta una correlacion alta con el PIB del pais\n",
    "\n",
    "> La esperanza de vida esta relacionada negativamente con la taza de fertilidad.\n",
    "\n",
    "> Todas las variables son importantes debido a sus relaciones, por tanto, no se omite ninguna."
   ]
  },
  {
   "cell_type": "markdown",
   "metadata": {
    "collapsed": false,
    "id": "JTPp9ENClyRu",
    "pycharm": {
     "name": "#%% md\n"
    }
   },
   "source": [
    "## Escalar datos"
   ]
  },
  {
   "cell_type": "markdown",
   "metadata": {},
   "source": [
    "Procedemos a llevar todos los datos a una misma escala con el fin de que al aplicar los algoritmos de clusterizacion, las distancias sean interpretadas correctamente y no le de un mayor peso a ciertos datos."
   ]
  },
  {
   "cell_type": "code",
   "execution_count": 36,
   "metadata": {
    "id": "bzIivuuklyRu",
    "pycharm": {
     "name": "#%%\n"
    }
   },
   "outputs": [
    {
     "data": {
      "text/plain": [
       "array([[ 1.29153238, -1.13827979,  0.27908825, ..., -1.61909203,\n",
       "         1.90288227, -0.67917961],\n",
       "       [-0.5389489 , -0.47965843, -0.09701618, ...,  0.64786643,\n",
       "        -0.85997281, -0.48562324],\n",
       "       [-0.27283273, -0.09912164, -0.96607302, ...,  0.67042323,\n",
       "        -0.0384044 , -0.46537561],\n",
       "       ...,\n",
       "       [-0.37231541,  1.13030491,  0.0088773 , ...,  0.28695762,\n",
       "        -0.66120626, -0.63775406],\n",
       "       [ 0.44841668, -0.40647827, -0.59727159, ..., -0.34463279,\n",
       "         1.14094382, -0.63775406],\n",
       "       [ 1.11495062, -0.15034774, -0.33801514, ..., -2.09278484,\n",
       "         1.6246091 , -0.62954556]])"
      ]
     },
     "execution_count": 36,
     "metadata": {},
     "output_type": "execute_result"
    }
   ],
   "source": [
    "# importamos objeto para escalar los datos con la desviacion estandar\n",
    "from sklearn.preprocessing import StandardScaler\n",
    "\n",
    "# instanciamos el objeto\n",
    "scaler = StandardScaler()\n",
    "\n",
    "# Elimina 'country' porque es categorica y no se puede escalar\n",
    "# ajusta el escalador a los datos y los escala\n",
    "df_country_scaled = scaler.fit_transform(df_country.drop('country', axis=1))\n",
    "\n",
    "df_country_scaled"
   ]
  },
  {
   "cell_type": "markdown",
   "metadata": {},
   "source": [
    "Volvemos un dataframe los datos ecalados nuevamente"
   ]
  },
  {
   "cell_type": "code",
   "execution_count": 37,
   "metadata": {},
   "outputs": [
    {
     "data": {
      "text/html": [
       "<div>\n",
       "<style scoped>\n",
       "    .dataframe tbody tr th:only-of-type {\n",
       "        vertical-align: middle;\n",
       "    }\n",
       "\n",
       "    .dataframe tbody tr th {\n",
       "        vertical-align: top;\n",
       "    }\n",
       "\n",
       "    .dataframe thead th {\n",
       "        text-align: right;\n",
       "    }\n",
       "</style>\n",
       "<table border=\"1\" class=\"dataframe\">\n",
       "  <thead>\n",
       "    <tr style=\"text-align: right;\">\n",
       "      <th></th>\n",
       "      <th>child_mort</th>\n",
       "      <th>exports</th>\n",
       "      <th>health</th>\n",
       "      <th>imports</th>\n",
       "      <th>income</th>\n",
       "      <th>inflation</th>\n",
       "      <th>life_expec</th>\n",
       "      <th>total_fer</th>\n",
       "      <th>gdpp</th>\n",
       "    </tr>\n",
       "  </thead>\n",
       "  <tbody>\n",
       "    <tr>\n",
       "      <th>0</th>\n",
       "      <td>1.291532</td>\n",
       "      <td>-1.138280</td>\n",
       "      <td>0.279088</td>\n",
       "      <td>-0.082455</td>\n",
       "      <td>-0.808245</td>\n",
       "      <td>0.157336</td>\n",
       "      <td>-1.619092</td>\n",
       "      <td>1.902882</td>\n",
       "      <td>-0.679180</td>\n",
       "    </tr>\n",
       "    <tr>\n",
       "      <th>1</th>\n",
       "      <td>-0.538949</td>\n",
       "      <td>-0.479658</td>\n",
       "      <td>-0.097016</td>\n",
       "      <td>0.070837</td>\n",
       "      <td>-0.375369</td>\n",
       "      <td>-0.312347</td>\n",
       "      <td>0.647866</td>\n",
       "      <td>-0.859973</td>\n",
       "      <td>-0.485623</td>\n",
       "    </tr>\n",
       "    <tr>\n",
       "      <th>2</th>\n",
       "      <td>-0.272833</td>\n",
       "      <td>-0.099122</td>\n",
       "      <td>-0.966073</td>\n",
       "      <td>-0.641762</td>\n",
       "      <td>-0.220844</td>\n",
       "      <td>0.789274</td>\n",
       "      <td>0.670423</td>\n",
       "      <td>-0.038404</td>\n",
       "      <td>-0.465376</td>\n",
       "    </tr>\n",
       "    <tr>\n",
       "      <th>3</th>\n",
       "      <td>2.007808</td>\n",
       "      <td>0.775381</td>\n",
       "      <td>-1.448071</td>\n",
       "      <td>-0.165315</td>\n",
       "      <td>-0.585043</td>\n",
       "      <td>1.387054</td>\n",
       "      <td>-1.179234</td>\n",
       "      <td>2.128151</td>\n",
       "      <td>-0.516268</td>\n",
       "    </tr>\n",
       "    <tr>\n",
       "      <th>4</th>\n",
       "      <td>-0.695634</td>\n",
       "      <td>0.160668</td>\n",
       "      <td>-0.286894</td>\n",
       "      <td>0.497568</td>\n",
       "      <td>0.101732</td>\n",
       "      <td>-0.601749</td>\n",
       "      <td>0.704258</td>\n",
       "      <td>-0.541946</td>\n",
       "      <td>-0.041817</td>\n",
       "    </tr>\n",
       "    <tr>\n",
       "      <th>...</th>\n",
       "      <td>...</td>\n",
       "      <td>...</td>\n",
       "      <td>...</td>\n",
       "      <td>...</td>\n",
       "      <td>...</td>\n",
       "      <td>...</td>\n",
       "      <td>...</td>\n",
       "      <td>...</td>\n",
       "      <td>...</td>\n",
       "    </tr>\n",
       "    <tr>\n",
       "      <th>162</th>\n",
       "      <td>-0.225578</td>\n",
       "      <td>0.200917</td>\n",
       "      <td>-0.571711</td>\n",
       "      <td>0.240700</td>\n",
       "      <td>-0.738527</td>\n",
       "      <td>-0.489784</td>\n",
       "      <td>-0.852161</td>\n",
       "      <td>0.365754</td>\n",
       "      <td>-0.546913</td>\n",
       "    </tr>\n",
       "    <tr>\n",
       "      <th>163</th>\n",
       "      <td>-0.526514</td>\n",
       "      <td>-0.461363</td>\n",
       "      <td>-0.695862</td>\n",
       "      <td>-1.213499</td>\n",
       "      <td>-0.033542</td>\n",
       "      <td>3.616865</td>\n",
       "      <td>0.546361</td>\n",
       "      <td>-0.316678</td>\n",
       "      <td>0.029323</td>\n",
       "    </tr>\n",
       "    <tr>\n",
       "      <th>164</th>\n",
       "      <td>-0.372315</td>\n",
       "      <td>1.130305</td>\n",
       "      <td>0.008877</td>\n",
       "      <td>1.380030</td>\n",
       "      <td>-0.658404</td>\n",
       "      <td>0.409732</td>\n",
       "      <td>0.286958</td>\n",
       "      <td>-0.661206</td>\n",
       "      <td>-0.637754</td>\n",
       "    </tr>\n",
       "    <tr>\n",
       "      <th>165</th>\n",
       "      <td>0.448417</td>\n",
       "      <td>-0.406478</td>\n",
       "      <td>-0.597272</td>\n",
       "      <td>-0.517472</td>\n",
       "      <td>-0.658924</td>\n",
       "      <td>1.500916</td>\n",
       "      <td>-0.344633</td>\n",
       "      <td>1.140944</td>\n",
       "      <td>-0.637754</td>\n",
       "    </tr>\n",
       "    <tr>\n",
       "      <th>166</th>\n",
       "      <td>1.114951</td>\n",
       "      <td>-0.150348</td>\n",
       "      <td>-0.338015</td>\n",
       "      <td>-0.662477</td>\n",
       "      <td>-0.721358</td>\n",
       "      <td>0.590015</td>\n",
       "      <td>-2.092785</td>\n",
       "      <td>1.624609</td>\n",
       "      <td>-0.629546</td>\n",
       "    </tr>\n",
       "  </tbody>\n",
       "</table>\n",
       "<p>167 rows × 9 columns</p>\n",
       "</div>"
      ],
      "text/plain": [
       "     child_mort   exports    health   imports    income  inflation  \\\n",
       "0      1.291532 -1.138280  0.279088 -0.082455 -0.808245   0.157336   \n",
       "1     -0.538949 -0.479658 -0.097016  0.070837 -0.375369  -0.312347   \n",
       "2     -0.272833 -0.099122 -0.966073 -0.641762 -0.220844   0.789274   \n",
       "3      2.007808  0.775381 -1.448071 -0.165315 -0.585043   1.387054   \n",
       "4     -0.695634  0.160668 -0.286894  0.497568  0.101732  -0.601749   \n",
       "..          ...       ...       ...       ...       ...        ...   \n",
       "162   -0.225578  0.200917 -0.571711  0.240700 -0.738527  -0.489784   \n",
       "163   -0.526514 -0.461363 -0.695862 -1.213499 -0.033542   3.616865   \n",
       "164   -0.372315  1.130305  0.008877  1.380030 -0.658404   0.409732   \n",
       "165    0.448417 -0.406478 -0.597272 -0.517472 -0.658924   1.500916   \n",
       "166    1.114951 -0.150348 -0.338015 -0.662477 -0.721358   0.590015   \n",
       "\n",
       "     life_expec  total_fer      gdpp  \n",
       "0     -1.619092   1.902882 -0.679180  \n",
       "1      0.647866  -0.859973 -0.485623  \n",
       "2      0.670423  -0.038404 -0.465376  \n",
       "3     -1.179234   2.128151 -0.516268  \n",
       "4      0.704258  -0.541946 -0.041817  \n",
       "..          ...        ...       ...  \n",
       "162   -0.852161   0.365754 -0.546913  \n",
       "163    0.546361  -0.316678  0.029323  \n",
       "164    0.286958  -0.661206 -0.637754  \n",
       "165   -0.344633   1.140944 -0.637754  \n",
       "166   -2.092785   1.624609 -0.629546  \n",
       "\n",
       "[167 rows x 9 columns]"
      ]
     },
     "execution_count": 37,
     "metadata": {},
     "output_type": "execute_result"
    }
   ],
   "source": [
    "df_country_scaled = pd.DataFrame(df_country_scaled, columns=df_country.drop('country', axis=1).columns)\n",
    "df_country_scaled"
   ]
  },
  {
   "cell_type": "markdown",
   "metadata": {
    "collapsed": false,
    "id": "mdbhEe8jlyRv",
    "pycharm": {
     "name": "#%% md\n"
    }
   },
   "source": [
    "## PCA"
   ]
  },
  {
   "cell_type": "code",
   "execution_count": 38,
   "metadata": {
    "id": "DamyLo8hlyRw",
    "pycharm": {
     "name": "#%%\n"
    }
   },
   "outputs": [],
   "source": [
    "# importamos el objeto PCA\n",
    "from sklearn.decomposition import PCA"
   ]
  },
  {
   "cell_type": "code",
   "execution_count": 39,
   "metadata": {
    "colab": {
     "base_uri": "https://localhost:8080/"
    },
    "executionInfo": {
     "elapsed": 3,
     "status": "ok",
     "timestamp": 1660235157656,
     "user": {
      "displayName": "Carlos Alarcón",
      "userId": "15349885202925550395"
     },
     "user_tz": 300
    },
    "id": "KWjeAVd4lyRx",
    "outputId": "3ea02fa5-e0e9-4d6e-a42e-3bc96ebadda0",
    "pycharm": {
     "name": "#%%\n"
    }
   },
   "outputs": [
    {
     "data": {
      "text/plain": [
       "array([[-2.91302459,  0.09562058, -0.7181185 , ...,  0.38300026,\n",
       "         0.41507602, -0.01414844],\n",
       "       [ 0.42991133, -0.58815567, -0.3334855 , ...,  0.24891887,\n",
       "        -0.22104247,  0.17331578],\n",
       "       [-0.28522508, -0.45517441,  1.22150481, ..., -0.08721359,\n",
       "        -0.18416209,  0.08403718],\n",
       "       ...,\n",
       "       [ 0.49852439,  1.39074432, -0.23852611, ..., -0.14362677,\n",
       "        -0.21759009, -0.03652231],\n",
       "       [-1.88745106, -0.10945301,  1.10975159, ...,  0.06025631,\n",
       "         0.08949452, -0.09604924],\n",
       "       [-2.86406392,  0.48599799,  0.22316658, ..., -0.44218462,\n",
       "         0.66433809, -0.44148176]])"
      ]
     },
     "execution_count": 39,
     "metadata": {},
     "output_type": "execute_result"
    }
   ],
   "source": [
    "# instanciamos el objeto\n",
    "# al no especificar el numero de componentes, se calcula uno por cada variable\n",
    "pca = PCA()\n",
    "\n",
    "# ajustamos los datos a pca\n",
    "pca.fit(df_country_scaled)\n",
    "\n",
    "# transforma los datos al nuevo espacio de componentes principales\n",
    "pca_data_scaled = pca.transform(df_country_scaled)\n",
    "\n",
    "pca_data_scaled"
   ]
  },
  {
   "cell_type": "markdown",
   "metadata": {},
   "source": [
    "Obtenemos el PCA de cada variable original. Ahora vamos a calcular el radio de varianza"
   ]
  },
  {
   "cell_type": "code",
   "execution_count": 40,
   "metadata": {
    "colab": {
     "base_uri": "https://localhost:8080/"
    },
    "executionInfo": {
     "elapsed": 211,
     "status": "ok",
     "timestamp": 1660235212086,
     "user": {
      "displayName": "Carlos Alarcón",
      "userId": "15349885202925550395"
     },
     "user_tz": 300
    },
    "id": "dTpdVUo6lyRx",
    "outputId": "b840ef8a-7ac2-4871-981c-d193f9d0f08f",
    "pycharm": {
     "name": "#%%\n"
    }
   },
   "outputs": [
    {
     "name": "stdout",
     "output_type": "stream",
     "text": [
      "[0.4595174  0.17181626 0.13004259 0.11053162 0.07340211 0.02484235\n",
      " 0.0126043  0.00981282 0.00743056]\n"
     ]
    }
   ],
   "source": [
    "var = pca.explained_variance_ratio_\n",
    "print(var)"
   ]
  },
  {
   "cell_type": "markdown",
   "metadata": {},
   "source": [
    "> Arroja la varianza por cantidad de componentes\n",
    "\n",
    "> Para trabajar con n componentes principales se requiere obtener la suma acumulada hasta el indice n."
   ]
  },
  {
   "cell_type": "markdown",
   "metadata": {},
   "source": [
    "El objetivo es reducir la cantidad de variables a utilizar para que la clusterizacion sea mas efectiva. En lo que sigue, vamos a graficar la suma acumulada del radio de varianza para cada componente. De esta forma podremos estimar el numero de componentes principales adecuado que capture la mayor cantidad de varianza de los datos."
   ]
  },
  {
   "cell_type": "code",
   "execution_count": 41,
   "metadata": {
    "colab": {
     "base_uri": "https://localhost:8080/",
     "height": 592
    },
    "executionInfo": {
     "elapsed": 547,
     "status": "ok",
     "timestamp": 1660235323837,
     "user": {
      "displayName": "Carlos Alarcón",
      "userId": "15349885202925550395"
     },
     "user_tz": 300
    },
    "id": "6s8fpNP9lyRx",
    "outputId": "a643f291-72cc-44ba-c1b6-498cbc1847ec",
    "pycharm": {
     "name": "#%%\n"
    }
   },
   "outputs": [
    {
     "data": {
      "text/plain": [
       "Text(0, 0.5, '% Variance')"
      ]
     },
     "execution_count": 41,
     "metadata": {},
     "output_type": "execute_result"
    },
    {
     "data": {
      "image/png": "[encoded data removed]",
      "text/plain": [
       "<Figure size 720x720 with 1 Axes>"
      ]
     },
     "metadata": {
      "needs_background": "light"
     },
     "output_type": "display_data"
    }
   ],
   "source": [
    "# Calculo de la suma acumulada por componente en porcentaje\n",
    "cum_var = np.cumsum(np.round(var, decimals=4)*100)\n",
    "\n",
    "# numero total de componentes\n",
    "components = list(range(0,9))\n",
    "\n",
    "# grafico\n",
    "plt.figure(figsize=(10,10))\n",
    "for s,d in zip(components,cum_var):\n",
    "    plt.annotate(np.round(d,decimals=2), xy=(s,d-2.5))\n",
    "\n",
    "plt.plot(components,cum_var, 'r-x')\n",
    "plt.title(\"PCA Decomposition\")\n",
    "plt.xlabel('PCA components')\n",
    "plt.ylabel('% Variance')"
   ]
  },
  {
   "cell_type": "markdown",
   "metadata": {},
   "source": [
    "> La grafica muestra que 4 componentes principales abarca casi el 90% de la varianza de los datos. Con 5, se alcanza el 95%\n",
    "\n",
    "> Como el objetivo es reducir la dimnensionalidad, nos quedamos con 4 componentes principales"
   ]
  },
  {
   "cell_type": "code",
   "execution_count": 42,
   "metadata": {
    "id": "4QK_7B6HlyRy",
    "pycharm": {
     "name": "#%%\n"
    }
   },
   "outputs": [
    {
     "data": {
      "text/html": [
       "<div>\n",
       "<style scoped>\n",
       "    .dataframe tbody tr th:only-of-type {\n",
       "        vertical-align: middle;\n",
       "    }\n",
       "\n",
       "    .dataframe tbody tr th {\n",
       "        vertical-align: top;\n",
       "    }\n",
       "\n",
       "    .dataframe thead th {\n",
       "        text-align: right;\n",
       "    }\n",
       "</style>\n",
       "<table border=\"1\" class=\"dataframe\">\n",
       "  <thead>\n",
       "    <tr style=\"text-align: right;\">\n",
       "      <th></th>\n",
       "      <th>0</th>\n",
       "      <th>1</th>\n",
       "      <th>2</th>\n",
       "      <th>3</th>\n",
       "    </tr>\n",
       "  </thead>\n",
       "  <tbody>\n",
       "    <tr>\n",
       "      <th>0</th>\n",
       "      <td>-2.913025</td>\n",
       "      <td>0.095621</td>\n",
       "      <td>-0.718118</td>\n",
       "      <td>1.005255</td>\n",
       "    </tr>\n",
       "    <tr>\n",
       "      <th>1</th>\n",
       "      <td>0.429911</td>\n",
       "      <td>-0.588156</td>\n",
       "      <td>-0.333486</td>\n",
       "      <td>-1.161059</td>\n",
       "    </tr>\n",
       "    <tr>\n",
       "      <th>2</th>\n",
       "      <td>-0.285225</td>\n",
       "      <td>-0.455174</td>\n",
       "      <td>1.221505</td>\n",
       "      <td>-0.868115</td>\n",
       "    </tr>\n",
       "    <tr>\n",
       "      <th>3</th>\n",
       "      <td>-2.932423</td>\n",
       "      <td>1.695555</td>\n",
       "      <td>1.525044</td>\n",
       "      <td>0.839625</td>\n",
       "    </tr>\n",
       "    <tr>\n",
       "      <th>4</th>\n",
       "      <td>1.033576</td>\n",
       "      <td>0.136659</td>\n",
       "      <td>-0.225721</td>\n",
       "      <td>-0.847063</td>\n",
       "    </tr>\n",
       "    <tr>\n",
       "      <th>...</th>\n",
       "      <td>...</td>\n",
       "      <td>...</td>\n",
       "      <td>...</td>\n",
       "      <td>...</td>\n",
       "    </tr>\n",
       "    <tr>\n",
       "      <th>162</th>\n",
       "      <td>-0.820631</td>\n",
       "      <td>0.639570</td>\n",
       "      <td>-0.389923</td>\n",
       "      <td>-0.706595</td>\n",
       "    </tr>\n",
       "    <tr>\n",
       "      <th>163</th>\n",
       "      <td>-0.551036</td>\n",
       "      <td>-1.233886</td>\n",
       "      <td>3.101350</td>\n",
       "      <td>-0.115311</td>\n",
       "    </tr>\n",
       "    <tr>\n",
       "      <th>164</th>\n",
       "      <td>0.498524</td>\n",
       "      <td>1.390744</td>\n",
       "      <td>-0.238526</td>\n",
       "      <td>-1.074098</td>\n",
       "    </tr>\n",
       "    <tr>\n",
       "      <th>165</th>\n",
       "      <td>-1.887451</td>\n",
       "      <td>-0.109453</td>\n",
       "      <td>1.109752</td>\n",
       "      <td>0.056257</td>\n",
       "    </tr>\n",
       "    <tr>\n",
       "      <th>166</th>\n",
       "      <td>-2.864064</td>\n",
       "      <td>0.485998</td>\n",
       "      <td>0.223167</td>\n",
       "      <td>0.816364</td>\n",
       "    </tr>\n",
       "  </tbody>\n",
       "</table>\n",
       "<p>167 rows × 4 columns</p>\n",
       "</div>"
      ],
      "text/plain": [
       "            0         1         2         3\n",
       "0   -2.913025  0.095621 -0.718118  1.005255\n",
       "1    0.429911 -0.588156 -0.333486 -1.161059\n",
       "2   -0.285225 -0.455174  1.221505 -0.868115\n",
       "3   -2.932423  1.695555  1.525044  0.839625\n",
       "4    1.033576  0.136659 -0.225721 -0.847063\n",
       "..        ...       ...       ...       ...\n",
       "162 -0.820631  0.639570 -0.389923 -0.706595\n",
       "163 -0.551036 -1.233886  3.101350 -0.115311\n",
       "164  0.498524  1.390744 -0.238526 -1.074098\n",
       "165 -1.887451 -0.109453  1.109752  0.056257\n",
       "166 -2.864064  0.485998  0.223167  0.816364\n",
       "\n",
       "[167 rows x 4 columns]"
      ]
     },
     "execution_count": 42,
     "metadata": {},
     "output_type": "execute_result"
    }
   ],
   "source": [
    "# convertimos el dataframe los datos con pca aplicado\n",
    "pca_data_standard = pd.DataFrame(pca_data_scaled)\n",
    "\n",
    "# seleccioonamos la 4 primeras componentes principales\n",
    "pca_data_standard.drop([4,5,6,7,8], axis=1, inplace=True)\n",
    "\n",
    "pca_data_standard"
   ]
  },
  {
   "cell_type": "markdown",
   "metadata": {},
   "source": [
    "> Todas las variables se resumen a las 4 componentes principales seleccionadas ya que estas conservan gran parte de la varianza de los datos.\n",
    "\n",
    "> Perdemos una parte de la informacion pero para el clustering es mejor tener poca dimensionalidad para encontrar la distancia entre los clusteres."
   ]
  },
  {
   "cell_type": "markdown",
   "metadata": {
    "collapsed": false,
    "id": "JRWNeC9rlyRz",
    "pycharm": {
     "name": "#%% md\n"
    }
   },
   "source": [
    "## Importar librerías para clustering"
   ]
  },
  {
   "cell_type": "code",
   "execution_count": 43,
   "metadata": {
    "id": "rNNbqMnrlyRz",
    "pycharm": {
     "name": "#%%\n"
    }
   },
   "outputs": [],
   "source": [
    "from sklearn.cluster import KMeans, AgglomerativeClustering, DBSCAN\n",
    "from sklearn.metrics import silhouette_score\n",
    "from scipy.cluster.hierarchy import dendrogram, linkage"
   ]
  },
  {
   "cell_type": "markdown",
   "metadata": {
    "collapsed": false,
    "id": "UeTUV5qmlyR0",
    "pycharm": {
     "name": "#%% md\n"
    }
   },
   "source": [
    "## Resolviendo con K-means"
   ]
  },
  {
   "cell_type": "markdown",
   "metadata": {
    "collapsed": false,
    "id": "-AXhxpszlyR1",
    "pycharm": {
     "name": "#%% md\n"
    }
   },
   "source": [
    "### PCA"
   ]
  },
  {
   "cell_type": "markdown",
   "metadata": {},
   "source": [
    "Aplicamos el modelo k-means sobre los datos a lo que se aplico PCA."
   ]
  },
  {
   "cell_type": "code",
   "execution_count": 44,
   "metadata": {
    "id": "y6y4StVjlyR1",
    "pycharm": {
     "name": "#%%\n"
    }
   },
   "outputs": [
    {
     "name": "stderr",
     "output_type": "stream",
     "text": [
      "/home/jbernal/anaconda3/envs/data/lib/python3.10/site-packages/sklearn/cluster/_kmeans.py:870: FutureWarning: The default value of `n_init` will change from 10 to 'auto' in 1.4. Set the value of `n_init` explicitly to suppress the warning\n",
      "  warnings.warn(\n",
      "/home/jbernal/anaconda3/envs/data/lib/python3.10/site-packages/sklearn/cluster/_kmeans.py:870: FutureWarning: The default value of `n_init` will change from 10 to 'auto' in 1.4. Set the value of `n_init` explicitly to suppress the warning\n",
      "  warnings.warn(\n",
      "/home/jbernal/anaconda3/envs/data/lib/python3.10/site-packages/sklearn/cluster/_kmeans.py:870: FutureWarning: The default value of `n_init` will change from 10 to 'auto' in 1.4. Set the value of `n_init` explicitly to suppress the warning\n",
      "  warnings.warn(\n",
      "/home/jbernal/anaconda3/envs/data/lib/python3.10/site-packages/sklearn/cluster/_kmeans.py:870: FutureWarning: The default value of `n_init` will change from 10 to 'auto' in 1.4. Set the value of `n_init` explicitly to suppress the warning\n",
      "  warnings.warn(\n",
      "/home/jbernal/anaconda3/envs/data/lib/python3.10/site-packages/sklearn/cluster/_kmeans.py:870: FutureWarning: The default value of `n_init` will change from 10 to 'auto' in 1.4. Set the value of `n_init` explicitly to suppress the warning\n",
      "  warnings.warn(\n",
      "/home/jbernal/anaconda3/envs/data/lib/python3.10/site-packages/sklearn/cluster/_kmeans.py:870: FutureWarning: The default value of `n_init` will change from 10 to 'auto' in 1.4. Set the value of `n_init` explicitly to suppress the warning\n",
      "  warnings.warn(\n",
      "/home/jbernal/anaconda3/envs/data/lib/python3.10/site-packages/sklearn/cluster/_kmeans.py:870: FutureWarning: The default value of `n_init` will change from 10 to 'auto' in 1.4. Set the value of `n_init` explicitly to suppress the warning\n",
      "  warnings.warn(\n",
      "/home/jbernal/anaconda3/envs/data/lib/python3.10/site-packages/sklearn/cluster/_kmeans.py:870: FutureWarning: The default value of `n_init` will change from 10 to 'auto' in 1.4. Set the value of `n_init` explicitly to suppress the warning\n",
      "  warnings.warn(\n",
      "/home/jbernal/anaconda3/envs/data/lib/python3.10/site-packages/sklearn/cluster/_kmeans.py:870: FutureWarning: The default value of `n_init` will change from 10 to 'auto' in 1.4. Set the value of `n_init` explicitly to suppress the warning\n",
      "  warnings.warn(\n",
      "/home/jbernal/anaconda3/envs/data/lib/python3.10/site-packages/sklearn/cluster/_kmeans.py:870: FutureWarning: The default value of `n_init` will change from 10 to 'auto' in 1.4. Set the value of `n_init` explicitly to suppress the warning\n",
      "  warnings.warn(\n",
      "/home/jbernal/anaconda3/envs/data/lib/python3.10/site-packages/sklearn/cluster/_kmeans.py:870: FutureWarning: The default value of `n_init` will change from 10 to 'auto' in 1.4. Set the value of `n_init` explicitly to suppress the warning\n",
      "  warnings.warn(\n",
      "/home/jbernal/anaconda3/envs/data/lib/python3.10/site-packages/sklearn/cluster/_kmeans.py:870: FutureWarning: The default value of `n_init` will change from 10 to 'auto' in 1.4. Set the value of `n_init` explicitly to suppress the warning\n",
      "  warnings.warn(\n",
      "/home/jbernal/anaconda3/envs/data/lib/python3.10/site-packages/sklearn/cluster/_kmeans.py:870: FutureWarning: The default value of `n_init` will change from 10 to 'auto' in 1.4. Set the value of `n_init` explicitly to suppress the warning\n",
      "  warnings.warn(\n"
     ]
    }
   ],
   "source": [
    "# suma de los cuadrados de la distancias\n",
    "sum_of_squared_distances = []\n",
    "# lista para almacenar los indices de silueta\n",
    "silhouette_scores = []\n",
    "# rango de K\n",
    "K = range(2,15)\n",
    "\n",
    "# iteramos el modelo sobre cada K\n",
    "for _ in K:\n",
    "    km = KMeans(n_clusters=_)\n",
    "    y_pred = km.fit_predict(pca_data_standard)\n",
    "    sum_of_squared_distances.append(km.inertia_)\n",
    "    silhouette_scores.append(silhouette_score(pca_data_standard, y_pred)) \n"
   ]
  },
  {
   "cell_type": "markdown",
   "metadata": {},
   "source": [
    "Generamos un grafico de K en funcion de la inercia para obtener el grafico del codo (Elbow) y encontrar el numero optimo de clusteres."
   ]
  },
  {
   "cell_type": "code",
   "execution_count": 45,
   "metadata": {
    "colab": {
     "base_uri": "https://localhost:8080/",
     "height": 497
    },
    "executionInfo": {
     "elapsed": 551,
     "status": "ok",
     "timestamp": 1660236145367,
     "user": {
      "displayName": "Carlos Alarcón",
      "userId": "15349885202925550395"
     },
     "user_tz": 300
    },
    "id": "K-ZyEdMplyR2",
    "outputId": "36026a5c-6074-4848-fd82-b0104997f893",
    "pycharm": {
     "name": "#%%\n"
    }
   },
   "outputs": [
    {
     "data": {
      "image/png": "[encoded data removed]",
      "text/plain": [
       "<Figure size 576x576 with 1 Axes>"
      ]
     },
     "metadata": {
      "needs_background": "light"
     },
     "output_type": "display_data"
    }
   ],
   "source": [
    "fig = plt.figure(figsize=(8,8))\n",
    "plt.plot(K, sum_of_squared_distances, 'bx-')\n",
    "plt.xlabel('K')\n",
    "plt.ylabel('Inercia')\n",
    "plt.show()"
   ]
  },
  {
   "cell_type": "markdown",
   "metadata": {},
   "source": [
    "> El numero optimo de K ronda entre 4 y 5."
   ]
  },
  {
   "cell_type": "markdown",
   "metadata": {},
   "source": [
    "Ahora , obtenemos el grafico del indice de silueta."
   ]
  },
  {
   "cell_type": "code",
   "execution_count": 46,
   "metadata": {
    "colab": {
     "base_uri": "https://localhost:8080/",
     "height": 497
    },
    "executionInfo": {
     "elapsed": 467,
     "status": "ok",
     "timestamp": 1660236185145,
     "user": {
      "displayName": "Carlos Alarcón",
      "userId": "15349885202925550395"
     },
     "user_tz": 300
    },
    "id": "fmQw5wkhlyR2",
    "outputId": "5194499c-9da1-45af-c9ef-152c3b279faa",
    "pycharm": {
     "name": "#%%\n"
    }
   },
   "outputs": [
    {
     "data": {
      "image/png": "[encoded data removed]",
      "text/plain": [
       "<Figure size 576x576 with 1 Axes>"
      ]
     },
     "metadata": {
      "needs_background": "light"
     },
     "output_type": "display_data"
    }
   ],
   "source": [
    "fig = plt.figure(figsize=(8,8))\n",
    "plt.plot(K, silhouette_scores, 'rx-')\n",
    "plt.xlabel('K')\n",
    "plt.ylabel('Silhouette Score')\n",
    "plt.show()"
   ]
  },
  {
   "cell_type": "markdown",
   "metadata": {},
   "source": [
    "> Esta grafica muestra que efectivamente K = 4 es el numero optimo de clusteres "
   ]
  },
  {
   "cell_type": "markdown",
   "metadata": {},
   "source": [
    "Una ves definido el valor de K, procedemos a usar KMeans con K sobre los datos y obtener el clutering de cada pais."
   ]
  },
  {
   "cell_type": "code",
   "execution_count": 47,
   "metadata": {
    "colab": {
     "base_uri": "https://localhost:8080/"
    },
    "executionInfo": {
     "elapsed": 212,
     "status": "ok",
     "timestamp": 1660236263694,
     "user": {
      "displayName": "Carlos Alarcón",
      "userId": "15349885202925550395"
     },
     "user_tz": 300
    },
    "id": "YUiG0pZUlyR3",
    "outputId": "a62f4a5e-bb2d-4d9e-c4f9-9eb756664689",
    "pycharm": {
     "name": "#%%\n"
    }
   },
   "outputs": [
    {
     "name": "stdout",
     "output_type": "stream",
     "text": [
      "0.3522170843293593\n"
     ]
    },
    {
     "name": "stderr",
     "output_type": "stream",
     "text": [
      "/home/jbernal/anaconda3/envs/data/lib/python3.10/site-packages/sklearn/cluster/_kmeans.py:870: FutureWarning: The default value of `n_init` will change from 10 to 'auto' in 1.4. Set the value of `n_init` explicitly to suppress the warning\n",
      "  warnings.warn(\n"
     ]
    }
   ],
   "source": [
    "km = KMeans(n_clusters=4)\n",
    "y = km.fit_predict(pca_data_standard)\n",
    "print(silhouette_score(pca_data_standard, y))\n",
    "\n",
    "df_country['k_means_pca'] = y"
   ]
  },
  {
   "cell_type": "markdown",
   "metadata": {
    "collapsed": false,
    "id": "cEcnulaslyR3",
    "pycharm": {
     "name": "#%% md\n"
    }
   },
   "source": [
    "### Sin PCA"
   ]
  },
  {
   "cell_type": "markdown",
   "metadata": {},
   "source": [
    "Vamos a utilizar los datos sin PCA para entrenar el modelo kmeans y clasificar los datos"
   ]
  },
  {
   "cell_type": "code",
   "execution_count": 48,
   "metadata": {
    "id": "ATolwgyBlyR3",
    "pycharm": {
     "name": "#%%\n"
    }
   },
   "outputs": [
    {
     "name": "stderr",
     "output_type": "stream",
     "text": [
      "/home/jbernal/anaconda3/envs/data/lib/python3.10/site-packages/sklearn/cluster/_kmeans.py:870: FutureWarning: The default value of `n_init` will change from 10 to 'auto' in 1.4. Set the value of `n_init` explicitly to suppress the warning\n",
      "  warnings.warn(\n",
      "/home/jbernal/anaconda3/envs/data/lib/python3.10/site-packages/sklearn/cluster/_kmeans.py:870: FutureWarning: The default value of `n_init` will change from 10 to 'auto' in 1.4. Set the value of `n_init` explicitly to suppress the warning\n",
      "  warnings.warn(\n",
      "/home/jbernal/anaconda3/envs/data/lib/python3.10/site-packages/sklearn/cluster/_kmeans.py:870: FutureWarning: The default value of `n_init` will change from 10 to 'auto' in 1.4. Set the value of `n_init` explicitly to suppress the warning\n",
      "  warnings.warn(\n",
      "/home/jbernal/anaconda3/envs/data/lib/python3.10/site-packages/sklearn/cluster/_kmeans.py:870: FutureWarning: The default value of `n_init` will change from 10 to 'auto' in 1.4. Set the value of `n_init` explicitly to suppress the warning\n",
      "  warnings.warn(\n",
      "/home/jbernal/anaconda3/envs/data/lib/python3.10/site-packages/sklearn/cluster/_kmeans.py:870: FutureWarning: The default value of `n_init` will change from 10 to 'auto' in 1.4. Set the value of `n_init` explicitly to suppress the warning\n",
      "  warnings.warn(\n",
      "/home/jbernal/anaconda3/envs/data/lib/python3.10/site-packages/sklearn/cluster/_kmeans.py:870: FutureWarning: The default value of `n_init` will change from 10 to 'auto' in 1.4. Set the value of `n_init` explicitly to suppress the warning\n",
      "  warnings.warn(\n",
      "/home/jbernal/anaconda3/envs/data/lib/python3.10/site-packages/sklearn/cluster/_kmeans.py:870: FutureWarning: The default value of `n_init` will change from 10 to 'auto' in 1.4. Set the value of `n_init` explicitly to suppress the warning\n",
      "  warnings.warn(\n",
      "/home/jbernal/anaconda3/envs/data/lib/python3.10/site-packages/sklearn/cluster/_kmeans.py:870: FutureWarning: The default value of `n_init` will change from 10 to 'auto' in 1.4. Set the value of `n_init` explicitly to suppress the warning\n",
      "  warnings.warn(\n",
      "/home/jbernal/anaconda3/envs/data/lib/python3.10/site-packages/sklearn/cluster/_kmeans.py:870: FutureWarning: The default value of `n_init` will change from 10 to 'auto' in 1.4. Set the value of `n_init` explicitly to suppress the warning\n",
      "  warnings.warn(\n",
      "/home/jbernal/anaconda3/envs/data/lib/python3.10/site-packages/sklearn/cluster/_kmeans.py:870: FutureWarning: The default value of `n_init` will change from 10 to 'auto' in 1.4. Set the value of `n_init` explicitly to suppress the warning\n",
      "  warnings.warn(\n",
      "/home/jbernal/anaconda3/envs/data/lib/python3.10/site-packages/sklearn/cluster/_kmeans.py:870: FutureWarning: The default value of `n_init` will change from 10 to 'auto' in 1.4. Set the value of `n_init` explicitly to suppress the warning\n",
      "  warnings.warn(\n",
      "/home/jbernal/anaconda3/envs/data/lib/python3.10/site-packages/sklearn/cluster/_kmeans.py:870: FutureWarning: The default value of `n_init` will change from 10 to 'auto' in 1.4. Set the value of `n_init` explicitly to suppress the warning\n",
      "  warnings.warn(\n",
      "/home/jbernal/anaconda3/envs/data/lib/python3.10/site-packages/sklearn/cluster/_kmeans.py:870: FutureWarning: The default value of `n_init` will change from 10 to 'auto' in 1.4. Set the value of `n_init` explicitly to suppress the warning\n",
      "  warnings.warn(\n"
     ]
    }
   ],
   "source": [
    "# suma de los cuadrados de la distancias\n",
    "sum_of_squared_distances = []\n",
    "# lista para almacenar los indices de silueta\n",
    "silhouette_scores = []\n",
    "# rango de K\n",
    "K = range(2,15)\n",
    "\n",
    "# iteramos el modelo sobre cada K\n",
    "for _ in K:\n",
    "    km = KMeans(n_clusters=_)\n",
    "    y_pred = km.fit_predict(df_country_scaled)\n",
    "    sum_of_squared_distances.append(km.inertia_)\n",
    "    silhouette_scores.append(silhouette_score(df_country_scaled, y_pred)) \n"
   ]
  },
  {
   "cell_type": "code",
   "execution_count": 49,
   "metadata": {
    "colab": {
     "base_uri": "https://localhost:8080/",
     "height": 497
    },
    "executionInfo": {
     "elapsed": 481,
     "status": "ok",
     "timestamp": 1660236321757,
     "user": {
      "displayName": "Carlos Alarcón",
      "userId": "15349885202925550395"
     },
     "user_tz": 300
    },
    "id": "oUtQDaF8lyR3",
    "outputId": "4064fc67-996f-454f-b644-ef25f595ff29",
    "pycharm": {
     "name": "#%%\n"
    }
   },
   "outputs": [
    {
     "data": {
      "image/png": "[encoded data removed]",
      "text/plain": [
       "<Figure size 576x576 with 1 Axes>"
      ]
     },
     "metadata": {
      "needs_background": "light"
     },
     "output_type": "display_data"
    }
   ],
   "source": [
    "fig = plt.figure(figsize=(8,8))\n",
    "plt.plot(K, sum_of_squared_distances, 'bx-')\n",
    "plt.xlabel('K')\n",
    "plt.ylabel('Inercia')\n",
    "plt.show()"
   ]
  },
  {
   "cell_type": "code",
   "execution_count": 50,
   "metadata": {
    "colab": {
     "base_uri": "https://localhost:8080/",
     "height": 497
    },
    "executionInfo": {
     "elapsed": 1868,
     "status": "ok",
     "timestamp": 1660236329232,
     "user": {
      "displayName": "Carlos Alarcón",
      "userId": "15349885202925550395"
     },
     "user_tz": 300
    },
    "id": "ko9F8EZ1lyR4",
    "outputId": "629fa190-c742-438e-80eb-d0277d505017",
    "pycharm": {
     "name": "#%%\n"
    }
   },
   "outputs": [
    {
     "data": {
      "image/png": "[encoded data removed]",
      "text/plain": [
       "<Figure size 576x576 with 1 Axes>"
      ]
     },
     "metadata": {
      "needs_background": "light"
     },
     "output_type": "display_data"
    }
   ],
   "source": [
    "fig = plt.figure(figsize=(8,8))\n",
    "plt.plot(K, silhouette_scores, 'rx-')\n",
    "plt.xlabel('K')\n",
    "plt.ylabel('Silhouette Score')\n",
    "plt.show()"
   ]
  },
  {
   "cell_type": "code",
   "execution_count": null,
   "metadata": {
    "colab": {
     "base_uri": "https://localhost:8080/"
    },
    "executionInfo": {
     "elapsed": 207,
     "status": "ok",
     "timestamp": 1660237556354,
     "user": {
      "displayName": "Carlos Alarcón",
      "userId": "15349885202925550395"
     },
     "user_tz": 300
    },
    "id": "Qmw3IMXOlyR4",
    "outputId": "f703e2eb-74f9-4807-f9fc-da079bf48f51",
    "pycharm": {
     "name": "#%%\n"
    }
   },
   "outputs": [],
   "source": []
  },
  {
   "cell_type": "markdown",
   "metadata": {
    "collapsed": false,
    "id": "5uWivp6AlyR4",
    "pycharm": {
     "name": "#%% md\n"
    }
   },
   "source": [
    "## Agglomerativen hierarchical clustering"
   ]
  },
  {
   "cell_type": "markdown",
   "metadata": {
    "collapsed": false,
    "id": "RMmjcljslyR5",
    "pycharm": {
     "name": "#%% md\n"
    }
   },
   "source": [
    "### PCA"
   ]
  },
  {
   "cell_type": "code",
   "execution_count": null,
   "metadata": {
    "colab": {
     "base_uri": "https://localhost:8080/",
     "height": 621
    },
    "executionInfo": {
     "elapsed": 4214,
     "status": "ok",
     "timestamp": 1660237680463,
     "user": {
      "displayName": "Carlos Alarcón",
      "userId": "15349885202925550395"
     },
     "user_tz": 300
    },
    "id": "j_MIOdbnlyR5",
    "outputId": "18e3bf9d-6caf-4639-b6e7-aef88b15dd4f",
    "pycharm": {
     "name": "#%%\n"
    }
   },
   "outputs": [],
   "source": []
  },
  {
   "cell_type": "code",
   "execution_count": null,
   "metadata": {
    "colab": {
     "base_uri": "https://localhost:8080/"
    },
    "executionInfo": {
     "elapsed": 171,
     "status": "ok",
     "timestamp": 1660237835561,
     "user": {
      "displayName": "Carlos Alarcón",
      "userId": "15349885202925550395"
     },
     "user_tz": 300
    },
    "id": "j5C0WWy2lyR5",
    "outputId": "7b8f57d9-1baa-4cda-c5c9-3608f6abaf43",
    "pycharm": {
     "name": "#%%\n"
    }
   },
   "outputs": [],
   "source": []
  },
  {
   "cell_type": "markdown",
   "metadata": {
    "collapsed": false,
    "id": "aexed3GUlyR6",
    "pycharm": {
     "name": "#%% md\n"
    }
   },
   "source": [
    "### Sin PCA"
   ]
  },
  {
   "cell_type": "code",
   "execution_count": null,
   "metadata": {
    "colab": {
     "base_uri": "https://localhost:8080/",
     "height": 621
    },
    "executionInfo": {
     "elapsed": 4134,
     "status": "ok",
     "timestamp": 1660237869659,
     "user": {
      "displayName": "Carlos Alarcón",
      "userId": "15349885202925550395"
     },
     "user_tz": 300
    },
    "id": "FEOoksxKlyR6",
    "outputId": "018ab926-5cbc-4f51-dc28-20da5ee4bc4d",
    "pycharm": {
     "name": "#%%\n"
    }
   },
   "outputs": [],
   "source": []
  },
  {
   "cell_type": "code",
   "execution_count": null,
   "metadata": {
    "colab": {
     "base_uri": "https://localhost:8080/"
    },
    "executionInfo": {
     "elapsed": 198,
     "status": "ok",
     "timestamp": 1660237942701,
     "user": {
      "displayName": "Carlos Alarcón",
      "userId": "15349885202925550395"
     },
     "user_tz": 300
    },
    "id": "s6qELFj7lyR6",
    "outputId": "f86f618c-38c7-43d4-9bbe-1a11e0a7dfc0",
    "pycharm": {
     "name": "#%%\n"
    }
   },
   "outputs": [],
   "source": []
  },
  {
   "cell_type": "markdown",
   "metadata": {
    "collapsed": false,
    "id": "7UeEDYUklyR7",
    "pycharm": {
     "name": "#%% md\n"
    }
   },
   "source": [
    "## DBSCAN"
   ]
  },
  {
   "cell_type": "markdown",
   "metadata": {
    "collapsed": false,
    "id": "PbW7v620lyR7",
    "pycharm": {
     "name": "#%% md\n"
    }
   },
   "source": [
    "### PCA"
   ]
  },
  {
   "cell_type": "code",
   "execution_count": null,
   "metadata": {
    "id": "OA-dFyu4lyR7",
    "pycharm": {
     "name": "#%%\n"
    }
   },
   "outputs": [],
   "source": []
  },
  {
   "cell_type": "code",
   "execution_count": null,
   "metadata": {
    "colab": {
     "base_uri": "https://localhost:8080/",
     "height": 610
    },
    "executionInfo": {
     "elapsed": 1004,
     "status": "ok",
     "timestamp": 1660238624594,
     "user": {
      "displayName": "Carlos Alarcón",
      "userId": "15349885202925550395"
     },
     "user_tz": 300
    },
    "id": "q8lKemxtlyR7",
    "outputId": "76a8166c-2431-4ba6-afd3-58d09833a1d8",
    "pycharm": {
     "name": "#%%\n"
    }
   },
   "outputs": [],
   "source": []
  },
  {
   "cell_type": "code",
   "execution_count": null,
   "metadata": {
    "id": "C2K66xx5lyR8",
    "pycharm": {
     "name": "#%%\n"
    }
   },
   "outputs": [],
   "source": []
  },
  {
   "cell_type": "code",
   "execution_count": null,
   "metadata": {
    "id": "tenQBN3wlyR8",
    "pycharm": {
     "name": "#%%\n"
    }
   },
   "outputs": [],
   "source": []
  },
  {
   "cell_type": "code",
   "execution_count": null,
   "metadata": {
    "id": "vGVsKw6OlyR8",
    "pycharm": {
     "name": "#%%\n"
    }
   },
   "outputs": [],
   "source": []
  },
  {
   "cell_type": "code",
   "execution_count": null,
   "metadata": {
    "id": "GoipKs6GlyR8",
    "pycharm": {
     "name": "#%%\n"
    }
   },
   "outputs": [],
   "source": []
  },
  {
   "cell_type": "code",
   "execution_count": null,
   "metadata": {
    "colab": {
     "base_uri": "https://localhost:8080/",
     "height": 490
    },
    "executionInfo": {
     "elapsed": 1224,
     "status": "ok",
     "timestamp": 1660239707910,
     "user": {
      "displayName": "Carlos Alarcón",
      "userId": "15349885202925550395"
     },
     "user_tz": 300
    },
    "id": "fWAcGUjilyR9",
    "outputId": "9e417949-950e-425d-84ee-74d8fc9ce76c",
    "pycharm": {
     "name": "#%%\n"
    }
   },
   "outputs": [],
   "source": []
  },
  {
   "cell_type": "code",
   "execution_count": null,
   "metadata": {
    "colab": {
     "base_uri": "https://localhost:8080/",
     "height": 494
    },
    "executionInfo": {
     "elapsed": 1022,
     "status": "ok",
     "timestamp": 1660239711312,
     "user": {
      "displayName": "Carlos Alarcón",
      "userId": "15349885202925550395"
     },
     "user_tz": 300
    },
    "id": "9VK39YDE9z66",
    "outputId": "51f94e3d-fd8f-435c-8b87-9b333523b8b1"
   },
   "outputs": [],
   "source": []
  },
  {
   "cell_type": "code",
   "execution_count": null,
   "metadata": {
    "colab": {
     "base_uri": "https://localhost:8080/"
    },
    "executionInfo": {
     "elapsed": 191,
     "status": "ok",
     "timestamp": 1660239871140,
     "user": {
      "displayName": "Carlos Alarcón",
      "userId": "15349885202925550395"
     },
     "user_tz": 300
    },
    "id": "m8N_C-gdAIXd",
    "outputId": "1cad8cc5-52fb-4d0d-c233-fe1ae8f2106c"
   },
   "outputs": [],
   "source": []
  },
  {
   "cell_type": "markdown",
   "metadata": {
    "collapsed": false,
    "id": "BvzRQKsZlyR9",
    "pycharm": {
     "name": "#%% md\n"
    }
   },
   "source": [
    "### Sin PCA"
   ]
  },
  {
   "cell_type": "code",
   "execution_count": null,
   "metadata": {
    "colab": {
     "base_uri": "https://localhost:8080/",
     "height": 610
    },
    "executionInfo": {
     "elapsed": 580,
     "status": "ok",
     "timestamp": 1660240267669,
     "user": {
      "displayName": "Carlos Alarcón",
      "userId": "15349885202925550395"
     },
     "user_tz": 300
    },
    "id": "5Mxe7-APlyR9",
    "outputId": "d904fed5-5dc3-43de-a26d-84318ba9d7b1",
    "pycharm": {
     "name": "#%%\n"
    }
   },
   "outputs": [],
   "source": []
  },
  {
   "cell_type": "code",
   "execution_count": null,
   "metadata": {
    "id": "Y68F2zfclyR9",
    "pycharm": {
     "name": "#%%\n"
    }
   },
   "outputs": [],
   "source": []
  },
  {
   "cell_type": "code",
   "execution_count": null,
   "metadata": {
    "id": "R2al-F9tlyR9",
    "pycharm": {
     "name": "#%%\n"
    }
   },
   "outputs": [],
   "source": []
  },
  {
   "cell_type": "code",
   "execution_count": null,
   "metadata": {
    "id": "XpmXdeYolyR-",
    "pycharm": {
     "name": "#%%\n"
    }
   },
   "outputs": [],
   "source": []
  },
  {
   "cell_type": "code",
   "execution_count": null,
   "metadata": {
    "id": "OdP_9yaZlyR-",
    "pycharm": {
     "name": "#%%\n"
    }
   },
   "outputs": [],
   "source": []
  },
  {
   "cell_type": "code",
   "execution_count": null,
   "metadata": {
    "colab": {
     "base_uri": "https://localhost:8080/",
     "height": 488
    },
    "executionInfo": {
     "elapsed": 1962,
     "status": "ok",
     "timestamp": 1660240378588,
     "user": {
      "displayName": "Carlos Alarcón",
      "userId": "15349885202925550395"
     },
     "user_tz": 300
    },
    "id": "-HvfICGqlyR-",
    "outputId": "e40983be-19f0-49cd-9d56-24f225f9b6c6",
    "pycharm": {
     "name": "#%%\n"
    }
   },
   "outputs": [],
   "source": []
  },
  {
   "cell_type": "code",
   "execution_count": null,
   "metadata": {
    "colab": {
     "base_uri": "https://localhost:8080/",
     "height": 492
    },
    "executionInfo": {
     "elapsed": 1280,
     "status": "ok",
     "timestamp": 1660240379866,
     "user": {
      "displayName": "Carlos Alarcón",
      "userId": "15349885202925550395"
     },
     "user_tz": 300
    },
    "id": "9rhZ3hI0lyR-",
    "outputId": "fa6e2e93-b1b4-4dd7-d9ff-c8ca4cbe8e58",
    "pycharm": {
     "name": "#%%\n"
    }
   },
   "outputs": [],
   "source": []
  },
  {
   "cell_type": "code",
   "execution_count": null,
   "metadata": {
    "colab": {
     "base_uri": "https://localhost:8080/"
    },
    "executionInfo": {
     "elapsed": 204,
     "status": "ok",
     "timestamp": 1660240467878,
     "user": {
      "displayName": "Carlos Alarcón",
      "userId": "15349885202925550395"
     },
     "user_tz": 300
    },
    "id": "F4LjsGAWlyR_",
    "outputId": "092a772f-4f03-48b7-a666-752631983310",
    "pycharm": {
     "name": "#%%\n"
    }
   },
   "outputs": [],
   "source": []
  },
  {
   "cell_type": "code",
   "execution_count": null,
   "metadata": {
    "colab": {
     "base_uri": "https://localhost:8080/",
     "height": 522
    },
    "executionInfo": {
     "elapsed": 221,
     "status": "ok",
     "timestamp": 1660240480058,
     "user": {
      "displayName": "Carlos Alarcón",
      "userId": "15349885202925550395"
     },
     "user_tz": 300
    },
    "id": "gzQoRP7UlyR_",
    "outputId": "eaee029e-6694-4e05-9449-6318d7d45b47",
    "pycharm": {
     "name": "#%%\n"
    }
   },
   "outputs": [],
   "source": []
  },
  {
   "cell_type": "markdown",
   "metadata": {
    "collapsed": false,
    "id": "5f5G4xfblyR_",
    "pycharm": {
     "name": "#%% md\n"
    }
   },
   "source": [
    "## Evaluación de resultados"
   ]
  },
  {
   "cell_type": "code",
   "execution_count": null,
   "metadata": {
    "colab": {
     "base_uri": "https://localhost:8080/"
    },
    "executionInfo": {
     "elapsed": 4,
     "status": "ok",
     "timestamp": 1660240771521,
     "user": {
      "displayName": "Carlos Alarcón",
      "userId": "15349885202925550395"
     },
     "user_tz": 300
    },
    "id": "CZ8T4oFylySA",
    "outputId": "cf85f8cf-3178-423e-f5e6-243e1753bf52",
    "pycharm": {
     "name": "#%%\n"
    }
   },
   "outputs": [],
   "source": []
  },
  {
   "cell_type": "code",
   "execution_count": null,
   "metadata": {
    "id": "3QQyA_wDEAjS"
   },
   "outputs": [],
   "source": []
  },
  {
   "cell_type": "code",
   "execution_count": null,
   "metadata": {
    "colab": {
     "base_uri": "https://localhost:8080/",
     "height": 1000
    },
    "executionInfo": {
     "elapsed": 56150,
     "status": "ok",
     "timestamp": 1660240896807,
     "user": {
      "displayName": "Carlos Alarcón",
      "userId": "15349885202925550395"
     },
     "user_tz": 300
    },
    "id": "A-wHUot2lySA",
    "outputId": "e331bae0-9fd3-48b7-d1ff-c07fb7377c8b",
    "pycharm": {
     "name": "#%%\n"
    }
   },
   "outputs": [],
   "source": []
  },
  {
   "cell_type": "code",
   "execution_count": null,
   "metadata": {
    "colab": {
     "base_uri": "https://localhost:8080/",
     "height": 522
    },
    "executionInfo": {
     "elapsed": 400,
     "status": "ok",
     "timestamp": 1660241069116,
     "user": {
      "displayName": "Carlos Alarcón",
      "userId": "15349885202925550395"
     },
     "user_tz": 300
    },
    "id": "Eo56G0TXFDq7",
    "outputId": "471613d0-1aa3-4de6-c598-e326888927d8"
   },
   "outputs": [],
   "source": []
  },
  {
   "cell_type": "code",
   "execution_count": null,
   "metadata": {
    "colab": {
     "base_uri": "https://localhost:8080/",
     "height": 606
    },
    "executionInfo": {
     "elapsed": 1148,
     "status": "ok",
     "timestamp": 1660241161857,
     "user": {
      "displayName": "Carlos Alarcón",
      "userId": "15349885202925550395"
     },
     "user_tz": 300
    },
    "id": "YuPNnisclySA",
    "outputId": "42be7dc1-2c16-409e-9c4e-082f47ed15b7",
    "pycharm": {
     "name": "#%%\n"
    }
   },
   "outputs": [],
   "source": []
  },
  {
   "cell_type": "code",
   "execution_count": null,
   "metadata": {
    "colab": {
     "base_uri": "https://localhost:8080/",
     "height": 1000
    },
    "executionInfo": {
     "elapsed": 191,
     "status": "ok",
     "timestamp": 1660241358868,
     "user": {
      "displayName": "Carlos Alarcón",
      "userId": "15349885202925550395"
     },
     "user_tz": 300
    },
    "id": "ur2TIjwelySA",
    "outputId": "2b3a22bd-00e9-4280-8c8b-0e9710ce96f9",
    "pycharm": {
     "name": "#%%\n"
    }
   },
   "outputs": [],
   "source": []
  },
  {
   "cell_type": "code",
   "execution_count": null,
   "metadata": {
    "id": "9LCwrU95lySB",
    "pycharm": {
     "name": "#%%\n"
    }
   },
   "outputs": [],
   "source": []
  },
  {
   "cell_type": "code",
   "execution_count": null,
   "metadata": {
    "id": "A7sHczOzlySB",
    "pycharm": {
     "name": "#%%\n"
    }
   },
   "outputs": [],
   "source": []
  }
 ],
 "metadata": {
  "colab": {
   "collapsed_sections": [
    "-AXhxpszlyR1",
    "cEcnulaslyR3",
    "RMmjcljslyR5",
    "aexed3GUlyR6",
    "PbW7v620lyR7",
    "BvzRQKsZlyR9"
   ],
   "provenance": []
  },
  "kernelspec": {
   "display_name": "data",
   "language": "python",
   "name": "python3"
  },
  "language_info": {
   "codemirror_mode": {
    "name": "ipython",
    "version": 3
   },
   "file_extension": ".py",
   "mimetype": "text/x-python",
   "name": "python",
   "nbconvert_exporter": "python",
   "pygments_lexer": "ipython3",
   "version": "3.10.8"
  }
 },
 "nbformat": 4,
 "nbformat_minor": 0
}
