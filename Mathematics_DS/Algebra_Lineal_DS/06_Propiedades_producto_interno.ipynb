{
 "cells": [
  {
   "cell_type": "markdown",
   "metadata": {},
   "source": [
    "# Propiedades del Producto Interno"
   ]
  },
  {
   "cell_type": "code",
   "execution_count": 1,
   "metadata": {},
   "outputs": [],
   "source": [
    "# importamos la libreria\n",
    "import numpy as np"
   ]
  },
  {
   "cell_type": "code",
   "execution_count": 2,
   "metadata": {},
   "outputs": [],
   "source": [
    "# definimos las matrices con las que vamos a trabajar\n",
    "A = np.array([[2,3],[5,7],[11,13]])\n",
    "B = np.array([[1,3],[2,1]])\n",
    "C = np.array([[3,1],[4,2]])"
   ]
  },
  {
   "cell_type": "markdown",
   "metadata": {},
   "source": [
    "### 1. Verifiquemos si es asociativa\n",
    "\n",
    "$$A\\cdot(B\\cdot C) = (A\\cdot B)\\cdot C$$"
   ]
  },
  {
   "cell_type": "code",
   "execution_count": 4,
   "metadata": {},
   "outputs": [
    {
     "name": "stdout",
     "output_type": "stream",
     "text": [
      "[[ 60  26]\n",
      " [145  63]\n",
      " [295 129]]\n"
     ]
    }
   ],
   "source": [
    "A_BC = A.dot(B.dot(C))\n",
    "print(A_BC)"
   ]
  },
  {
   "cell_type": "code",
   "execution_count": 5,
   "metadata": {},
   "outputs": [
    {
     "name": "stdout",
     "output_type": "stream",
     "text": [
      "[[ 60  26]\n",
      " [145  63]\n",
      " [295 129]]\n"
     ]
    }
   ],
   "source": [
    "AB_C = A.dot(B).dot(C)\n",
    "print(AB_C)"
   ]
  },
  {
   "cell_type": "markdown",
   "metadata": {},
   "source": [
    "> El producto interno es asociativo"
   ]
  },
  {
   "cell_type": "markdown",
   "metadata": {},
   "source": [
    "### 2. Verifiquemos si es distributiva\n",
    "\n",
    "$$A\\cdot(B+C) = (A\\cdot B) + (A\\cdot C)$$"
   ]
  },
  {
   "cell_type": "code",
   "execution_count": 6,
   "metadata": {},
   "outputs": [
    {
     "name": "stdout",
     "output_type": "stream",
     "text": [
      "[[ 26  17]\n",
      " [ 62  41]\n",
      " [122  83]]\n"
     ]
    }
   ],
   "source": [
    "D = A.dot(B+C)\n",
    "print(D)"
   ]
  },
  {
   "cell_type": "code",
   "execution_count": 7,
   "metadata": {},
   "outputs": [
    {
     "name": "stdout",
     "output_type": "stream",
     "text": [
      "[[ 26  17]\n",
      " [ 62  41]\n",
      " [122  83]]\n"
     ]
    }
   ],
   "source": [
    "E = (A.dot(B))+(A.dot(C))\n",
    "print(E)"
   ]
  },
  {
   "cell_type": "code",
   "execution_count": 8,
   "metadata": {},
   "outputs": [
    {
     "name": "stdout",
     "output_type": "stream",
     "text": [
      "[[ True  True]\n",
      " [ True  True]\n",
      " [ True  True]]\n"
     ]
    }
   ],
   "source": [
    "# comparemos las matrices resultantes elemento a elemento\n",
    "print(D==E)"
   ]
  },
  {
   "cell_type": "markdown",
   "metadata": {},
   "source": [
    "> El producto interno es distributivo"
   ]
  },
  {
   "cell_type": "markdown",
   "metadata": {},
   "source": [
    "### 3. Verifiquemos si es conmutativa\n",
    "\n",
    "$$B\\cdot C = C\\cdot B$$"
   ]
  },
  {
   "cell_type": "code",
   "execution_count": 9,
   "metadata": {},
   "outputs": [
    {
     "name": "stdout",
     "output_type": "stream",
     "text": [
      "[[15  7]\n",
      " [10  4]]\n"
     ]
    }
   ],
   "source": [
    "F = B.dot(C)\n",
    "print(F)"
   ]
  },
  {
   "cell_type": "code",
   "execution_count": 10,
   "metadata": {},
   "outputs": [
    {
     "name": "stdout",
     "output_type": "stream",
     "text": [
      "[[ 5 10]\n",
      " [ 8 14]]\n"
     ]
    }
   ],
   "source": [
    "G = C.dot(B)\n",
    "print(G)"
   ]
  },
  {
   "cell_type": "code",
   "execution_count": 11,
   "metadata": {},
   "outputs": [
    {
     "name": "stdout",
     "output_type": "stream",
     "text": [
      "[[False False]\n",
      " [False False]]\n"
     ]
    }
   ],
   "source": [
    "# verifiquemos elemento a elemento\n",
    "print(F==G)"
   ]
  },
  {
   "cell_type": "markdown",
   "metadata": {},
   "source": [
    "> El producto interno no es conmutativo"
   ]
  }
 ],
 "metadata": {
  "kernelspec": {
   "display_name": "data",
   "language": "python",
   "name": "python3"
  },
  "language_info": {
   "codemirror_mode": {
    "name": "ipython",
    "version": 3
   },
   "file_extension": ".py",
   "mimetype": "text/x-python",
   "name": "python",
   "nbconvert_exporter": "python",
   "pygments_lexer": "ipython3",
   "version": "3.10.8"
  }
 },
 "nbformat": 4,
 "nbformat_minor": 2
}
