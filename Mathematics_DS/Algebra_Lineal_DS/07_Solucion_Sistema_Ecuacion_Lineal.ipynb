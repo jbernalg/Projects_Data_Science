{
 "cells": [
  {
   "cell_type": "markdown",
   "metadata": {},
   "source": [
    "# Solucionando sistema de ecuaciones lineales con matrices"
   ]
  },
  {
   "cell_type": "markdown",
   "metadata": {},
   "source": [
    "Para entender este tema, definimos el siguiente sistema de ecuaciones:\n",
    "\n",
    "$$y = 3x+5$$\n",
    "$$y = 2x+3$$"
   ]
  },
  {
   "cell_type": "markdown",
   "metadata": {},
   "source": [
    "Este sistema es lineal debido a que cada variable no esta multiplicada por otra variable y a su vez tampoco estan elevadas a una potencia, es de primer grado.\n",
    "\n"
   ]
  }
 ],
 "metadata": {
  "language_info": {
   "name": "python"
  }
 },
 "nbformat": 4,
 "nbformat_minor": 2
}
