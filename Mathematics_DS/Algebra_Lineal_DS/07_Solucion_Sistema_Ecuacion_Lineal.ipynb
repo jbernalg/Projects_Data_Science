{
 "cells": [
  {
   "cell_type": "markdown",
   "metadata": {},
   "source": [
    "# Solucionando sistema de ecuaciones lineales con matrices"
   ]
  },
  {
   "cell_type": "markdown",
   "metadata": {},
   "source": [
    "Para entender este tema, definimos el siguiente sistema de ecuaciones:\n",
    "\n",
    "$$y = 3x+5$$\n",
    "$$y = 2x+3$$"
   ]
  },
  {
   "cell_type": "markdown",
   "metadata": {},
   "source": [
    "Este sistema es lineal debido a que cada variable no esta multiplicada por otra variable y a su vez tampoco estan elevadas a una potencia, es de primer grado.\n",
    "\n",
    "Vamos a graficar la recta de cada ecuacion."
   ]
  },
  {
   "cell_type": "code",
   "execution_count": 1,
   "metadata": {},
   "outputs": [],
   "source": [
    "%matplotlib inline"
   ]
  },
  {
   "cell_type": "code",
   "execution_count": 2,
   "metadata": {},
   "outputs": [],
   "source": [
    "# importamos librerias\n",
    "import numpy as np\n",
    "import matplotlib.pyplot as plt"
   ]
  },
  {
   "cell_type": "markdown",
   "metadata": {},
   "source": [
    "Para graficar cada ecuacion, debemos evaluarla en $x$ en pequeños intervalos para asi obtener los valores de $y$."
   ]
  },
  {
   "cell_type": "code",
   "execution_count": 4,
   "metadata": {},
   "outputs": [],
   "source": [
    "# intervalo de x de -5 a 5 con saltos de 1\n",
    "x = np.arange(-5,5,1)"
   ]
  },
  {
   "cell_type": "code",
   "execution_count": 5,
   "metadata": {},
   "outputs": [],
   "source": [
    "# evaluacion de cada ecuacion para obtener y\n",
    "y_1 = 3*x + 5\n",
    "y_2 = 2*x + 3"
   ]
  },
  {
   "cell_type": "markdown",
   "metadata": {},
   "source": [
    "Ahora que ya tenemos los valores de $x$ y $y$ de cada ecuacion, procedemos a graficarlas"
   ]
  },
  {
   "cell_type": "code",
   "execution_count": 7,
   "metadata": {},
   "outputs": [
    {
     "data": {
      "text/plain": [
       "<matplotlib.lines.Line2D at 0x7fe0e6d63040>"
      ]
     },
     "execution_count": 7,
     "metadata": {},
     "output_type": "execute_result"
    },
    {
     "data": {
      "image/png": "[encoded data removed]",
      "text/plain": [
       "<Figure size 432x288 with 1 Axes>"
      ]
     },
     "metadata": {
      "needs_background": "light"
     },
     "output_type": "display_data"
    }
   ],
   "source": [
    "plt.figure()\n",
    "\n",
    "# grafico de cada ecuacion \n",
    "plt.plot(x, y_1)\n",
    "plt.plot(x, y_2)\n",
    "\n",
    "# definir los valores limites de los ejes\n",
    "plt.xlim(-5,5)\n",
    "plt.ylim(-5,5)\n",
    "\n",
    "# color de los ejes\n",
    "plt.axvline(x=0, color='grey')\n",
    "plt.axhline(y=0, color='grey')"
   ]
  },
  {
   "cell_type": "markdown",
   "metadata": {},
   "source": [
    "Como vemos, las lineas se cruzan en un punto lo que indica que existe un valor de $x$ y un valor de $y$ que hacen verdadera a esas ecuaciones al mismo tiempo. Veamos cuales son estos valores de forma manual."
   ]
  },
  {
   "cell_type": "markdown",
   "metadata": {},
   "source": [
    "Vamos a reemplazar la segunda ecuacion en la primera.\n",
    "\n",
    "$$2x+3=3x+5$$\n",
    "\n",
    "Separamos los terminos del mismo tipo a cada lado de la ecuacion.\n",
    "\n",
    "$$3-5=3x-2x$$\n",
    "\n",
    "Obtenemos el valor de $x$\n",
    "\n",
    "$$x=-2$$\n",
    "\n",
    "Para obtener el valor de $y$, reemplazamos el valor de $x$ en cualquiera de las dos ecuaciones\n",
    "\n",
    "$$y = 2(-2)+3$$\n",
    "\n",
    "$$y = -4+3$$\n",
    "\n",
    "$$y = -1$$"
   ]
  },
  {
   "cell_type": "markdown",
   "metadata": {},
   "source": [
    "Ahora, cabe la pregunta: Podemos escribir estas ecuaciones en una forma matricial?\n",
    "\n",
    "Para ello, debemos reescribir las ecuaciones pasando a un lado las constantes. Quedarian:\n",
    "\n",
    "$$-3x+y=5$$\n",
    "\n",
    "$$-2x+y=3$$\n",
    "\n",
    "Ahora, pasamos los coeficientes a una matriz que realiza el producto interno con un vector desconocido y que arroja como resultado un vector con las constantes.\n",
    "\n",
    "$$\\begin{bmatrix}\n",
    "-3 & 1 \\\\\n",
    "-2 & 1 \\\\\n",
    "\\end{bmatrix} \\begin{bmatrix}\n",
    "? \\\\\n",
    "?\\end{bmatrix} = \\begin{bmatrix}\n",
    "5 \\\\\n",
    "3\\end{bmatrix}$$\n",
    "\n",
    "Si los valores desconocidos son sustituidos por $x$ y $y$ en el orden correcto, podemos reconstruir las ecuaciones a su forma natural a traves del producto interno\n",
    "\n",
    "$$\\begin{bmatrix}\n",
    "-3 & 1 \\\\\n",
    "-2 & 1 \\\\\n",
    "\\end{bmatrix} \\begin{bmatrix}\n",
    "x \\\\\n",
    "y\\end{bmatrix} = \\begin{bmatrix}\n",
    "5 \\\\\n",
    "3\\end{bmatrix}$$\n"
   ]
  },
  {
   "cell_type": "markdown",
   "metadata": {},
   "source": [
    "Vamos a crear la representacion matricial de las ecuaciones."
   ]
  },
  {
   "cell_type": "code",
   "execution_count": 8,
   "metadata": {},
   "outputs": [
    {
     "name": "stdout",
     "output_type": "stream",
     "text": [
      "[[-3  1]\n",
      " [-2  1]]\n"
     ]
    }
   ],
   "source": [
    "A = np.array([[-3,1], [-2,1]])\n",
    "print(A)"
   ]
  },
  {
   "cell_type": "markdown",
   "metadata": {},
   "source": [
    "De los calculos anteriores, sabemos que $x=-2$ y $y=-1$. Armamos el vector desconocido y realizamos el producto punto con la matriz $A$ para ver si el vector resultante coincide con el vector formado por las constantes."
   ]
  },
  {
   "cell_type": "code",
   "execution_count": 10,
   "metadata": {},
   "outputs": [
    {
     "name": "stdout",
     "output_type": "stream",
     "text": [
      "[[-2]\n",
      " [-1]]\n"
     ]
    }
   ],
   "source": [
    "v = np.array([[-2],[-1]])\n",
    "print(v)"
   ]
  },
  {
   "cell_type": "code",
   "execution_count": 11,
   "metadata": {},
   "outputs": [
    {
     "name": "stdout",
     "output_type": "stream",
     "text": [
      "[[5]\n",
      " [3]]\n"
     ]
    }
   ],
   "source": [
    "# producto interno\n",
    "print(A.dot(v))"
   ]
  },
  {
   "cell_type": "markdown",
   "metadata": {},
   "source": [
    "Vemos que el vector resultante es el mismo que el vector constante lo que indica que los valores de $x$ y $y$ son los correctos."
   ]
  }
 ],
 "metadata": {
  "kernelspec": {
   "display_name": "data",
   "language": "python",
   "name": "python3"
  },
  "language_info": {
   "codemirror_mode": {
    "name": "ipython",
    "version": 3
   },
   "file_extension": ".py",
   "mimetype": "text/x-python",
   "name": "python",
   "nbconvert_exporter": "python",
   "pygments_lexer": "ipython3",
   "version": "3.10.8"
  }
 },
 "nbformat": 4,
 "nbformat_minor": 2
}
