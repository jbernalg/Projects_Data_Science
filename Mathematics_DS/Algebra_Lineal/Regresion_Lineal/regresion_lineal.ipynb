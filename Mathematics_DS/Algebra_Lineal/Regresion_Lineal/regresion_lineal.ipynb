{
 "cells": [
  {
   "cell_type": "markdown",
   "metadata": {},
   "source": [
    "# 7. Regresión lineal"
   ]
  },
  {
   "cell_type": "markdown",
   "metadata": {},
   "source": [
    "Usaremos la función afín:\n",
    "\n",
    "$$\n",
    "\\hat{y} = \\mathbf{x}^{T}\\boldsymbol{\\beta} + v\n",
    "$$\n",
    "\n",
    "Esta función es llamada un **modelo de regresión**. En este caso las entradas de $\\mathbf{x}$ son llamadas *regresores* y a $\\hat{y}$ se le llama *predicción*. Hay que notar que la regresión es un modelo, nos estamos aproximando a estimar nuestra variable dependiente $y$, algunas veces llamada también *label*, *etiqueta* o *resultado esperado*. "
   ]
  },
  {
   "cell_type": "markdown",
   "metadata": {},
   "source": [
    "Al vector $\\mathbf{\\beta}$ se le denomina el *vector de pesos* mientras que el escalar $v$ es llamado el offset o bias. En conjunto $v$ y $\\beta$ son los parámetros de la regresión. Recordamos que la notación $\\hat{y}$ es usando para enfatizar que es un estimado o prediccción del resultado esperado $y$. "
   ]
  },
  {
   "cell_type": "markdown",
   "metadata": {},
   "source": [
    "## 7.1 Notación simplificada de un modelo de regresión. "
   ]
  },
  {
   "cell_type": "markdown",
   "metadata": {},
   "source": [
    "La concatenación de vectores nos puede ayudar a expresar de manera más sencilla la ecuación de regresión. Notemos que podemos definir el $(n+1)$-vector $\\boldsymbol{\\tilde{\\beta}}^{T} = [v\\; \\boldsymbol{\\beta}]$ y de igual forma el $(n+1)$-vector $\\mathbf{\\widetilde{x}}^{T} = [1 \\; \\boldsymbol{x}]$ de manera que:\n",
    "\n",
    "$$\n",
    "\\hat{y} = \\mathbf{x}^{T}\\boldsymbol{\\beta} + v = \\begin{bmatrix}1\\\\ \\mathbf{x}\\end{bmatrix}^{T} \\begin{bmatrix} v\\\\\\boldsymbol{\\beta}  \\end{bmatrix} = \\mathbf{\\widetilde{x}}^{T} \\boldsymbol{\\widetilde{\\beta}}\n",
    "$$\n",
    "\n",
    "Por simplicidad algunas veces solamente se escribe $\\hat{y}=\\mathbf{x}^{T}\\boldsymbol{\\beta}$ sobreentendiendo nuestra construcción. "
   ]
  },
  {
   "cell_type": "markdown",
   "metadata": {},
   "source": [
    "## 7.2 Un ejemplo de regresión. "
   ]
  },
  {
   "cell_type": "markdown",
   "metadata": {},
   "source": [
    "Vamos a considerar el siguiente ejemplo donde vamos a analizar una base de datos del *GOLDEN OAK RESEARCH GROUP*. Nuestra variable dependiente serán el ingreso promedio por casa y nuestros regresores serán simplemente la latitud y la longitud. \n",
    "\n",
    "Para poder cargar la base vamos a importar en conjunto a numpy también **pandas** la cual es una biblioteca de manejo y manipulación de bases de datos tomando como bases sus objetos *dataframe*. "
   ]
  },
  {
   "cell_type": "code",
   "execution_count": 1,
   "metadata": {},
   "outputs": [],
   "source": [
    "import matplotlib.pyplot as plt # Para poder realizar visualizaciones\n",
    "import pandas as pd # Para poder acceder a pandas\n",
    "import numpy as np # Para poder tener vectores"
   ]
  },
  {
   "cell_type": "code",
   "execution_count": 2,
   "metadata": {},
   "outputs": [],
   "source": [
    "# cargamos el archivo\n",
    "df = pd.read_csv('income_db_GORG.csv')"
   ]
  },
  {
   "cell_type": "markdown",
   "metadata": {},
   "source": [
    "¿Qué data contiene la base de datos?"
   ]
  },
  {
   "cell_type": "code",
   "execution_count": 3,
   "metadata": {},
   "outputs": [
    {
     "data": {
      "text/html": [
       "<div>\n",
       "<style scoped>\n",
       "    .dataframe tbody tr th:only-of-type {\n",
       "        vertical-align: middle;\n",
       "    }\n",
       "\n",
       "    .dataframe tbody tr th {\n",
       "        vertical-align: top;\n",
       "    }\n",
       "\n",
       "    .dataframe thead th {\n",
       "        text-align: right;\n",
       "    }\n",
       "</style>\n",
       "<table border=\"1\" class=\"dataframe\">\n",
       "  <thead>\n",
       "    <tr style=\"text-align: right;\">\n",
       "      <th></th>\n",
       "      <th>id</th>\n",
       "      <th>State_Code</th>\n",
       "      <th>State_Name</th>\n",
       "      <th>State_ab</th>\n",
       "      <th>County</th>\n",
       "      <th>City</th>\n",
       "      <th>Place</th>\n",
       "      <th>Type</th>\n",
       "      <th>Primary</th>\n",
       "      <th>Zip_Code</th>\n",
       "      <th>Area_Code</th>\n",
       "      <th>ALand</th>\n",
       "      <th>AWater</th>\n",
       "      <th>Lat</th>\n",
       "      <th>Lon</th>\n",
       "      <th>Mean</th>\n",
       "      <th>Median</th>\n",
       "      <th>Stdev</th>\n",
       "      <th>sum_w</th>\n",
       "    </tr>\n",
       "  </thead>\n",
       "  <tbody>\n",
       "    <tr>\n",
       "      <th>0</th>\n",
       "      <td>1011000</td>\n",
       "      <td>1</td>\n",
       "      <td>Alabama</td>\n",
       "      <td>AL</td>\n",
       "      <td>Mobile County</td>\n",
       "      <td>Chickasaw</td>\n",
       "      <td>Chickasaw city</td>\n",
       "      <td>City</td>\n",
       "      <td>place</td>\n",
       "      <td>36611</td>\n",
       "      <td>251</td>\n",
       "      <td>10894952</td>\n",
       "      <td>909156</td>\n",
       "      <td>30.771450</td>\n",
       "      <td>-88.079697</td>\n",
       "      <td>38773</td>\n",
       "      <td>30506</td>\n",
       "      <td>33101</td>\n",
       "      <td>1638.260513</td>\n",
       "    </tr>\n",
       "    <tr>\n",
       "      <th>1</th>\n",
       "      <td>1011010</td>\n",
       "      <td>1</td>\n",
       "      <td>Alabama</td>\n",
       "      <td>AL</td>\n",
       "      <td>Barbour County</td>\n",
       "      <td>Louisville</td>\n",
       "      <td>Clio city</td>\n",
       "      <td>City</td>\n",
       "      <td>place</td>\n",
       "      <td>36048</td>\n",
       "      <td>334</td>\n",
       "      <td>26070325</td>\n",
       "      <td>23254</td>\n",
       "      <td>31.708516</td>\n",
       "      <td>-85.611039</td>\n",
       "      <td>37725</td>\n",
       "      <td>19528</td>\n",
       "      <td>43789</td>\n",
       "      <td>258.017685</td>\n",
       "    </tr>\n",
       "    <tr>\n",
       "      <th>2</th>\n",
       "      <td>1011020</td>\n",
       "      <td>1</td>\n",
       "      <td>Alabama</td>\n",
       "      <td>AL</td>\n",
       "      <td>Shelby County</td>\n",
       "      <td>Columbiana</td>\n",
       "      <td>Columbiana city</td>\n",
       "      <td>City</td>\n",
       "      <td>place</td>\n",
       "      <td>35051</td>\n",
       "      <td>205</td>\n",
       "      <td>44835274</td>\n",
       "      <td>261034</td>\n",
       "      <td>33.191452</td>\n",
       "      <td>-86.615618</td>\n",
       "      <td>54606</td>\n",
       "      <td>31930</td>\n",
       "      <td>57348</td>\n",
       "      <td>926.031000</td>\n",
       "    </tr>\n",
       "    <tr>\n",
       "      <th>3</th>\n",
       "      <td>1011030</td>\n",
       "      <td>1</td>\n",
       "      <td>Alabama</td>\n",
       "      <td>AL</td>\n",
       "      <td>Mobile County</td>\n",
       "      <td>Satsuma</td>\n",
       "      <td>Creola city</td>\n",
       "      <td>City</td>\n",
       "      <td>place</td>\n",
       "      <td>36572</td>\n",
       "      <td>251</td>\n",
       "      <td>36878729</td>\n",
       "      <td>2374530</td>\n",
       "      <td>30.874343</td>\n",
       "      <td>-88.009442</td>\n",
       "      <td>63919</td>\n",
       "      <td>52814</td>\n",
       "      <td>47707</td>\n",
       "      <td>378.114619</td>\n",
       "    </tr>\n",
       "    <tr>\n",
       "      <th>4</th>\n",
       "      <td>1011040</td>\n",
       "      <td>1</td>\n",
       "      <td>Alabama</td>\n",
       "      <td>AL</td>\n",
       "      <td>Mobile County</td>\n",
       "      <td>Dauphin Island</td>\n",
       "      <td>Dauphin Island</td>\n",
       "      <td>Town</td>\n",
       "      <td>place</td>\n",
       "      <td>36528</td>\n",
       "      <td>251</td>\n",
       "      <td>16204185</td>\n",
       "      <td>413605152</td>\n",
       "      <td>30.250913</td>\n",
       "      <td>-88.171268</td>\n",
       "      <td>77948</td>\n",
       "      <td>67225</td>\n",
       "      <td>54270</td>\n",
       "      <td>282.320328</td>\n",
       "    </tr>\n",
       "  </tbody>\n",
       "</table>\n",
       "</div>"
      ],
      "text/plain": [
       "        id  State_Code State_Name State_ab          County            City  \\\n",
       "0  1011000           1    Alabama       AL   Mobile County       Chickasaw   \n",
       "1  1011010           1    Alabama       AL  Barbour County      Louisville   \n",
       "2  1011020           1    Alabama       AL   Shelby County      Columbiana   \n",
       "3  1011030           1    Alabama       AL   Mobile County         Satsuma   \n",
       "4  1011040           1    Alabama       AL   Mobile County  Dauphin Island   \n",
       "\n",
       "             Place  Type Primary  Zip_Code Area_Code     ALand     AWater  \\\n",
       "0   Chickasaw city  City   place     36611       251  10894952     909156   \n",
       "1        Clio city  City   place     36048       334  26070325      23254   \n",
       "2  Columbiana city  City   place     35051       205  44835274     261034   \n",
       "3      Creola city  City   place     36572       251  36878729    2374530   \n",
       "4   Dauphin Island  Town   place     36528       251  16204185  413605152   \n",
       "\n",
       "         Lat        Lon   Mean  Median  Stdev        sum_w  \n",
       "0  30.771450 -88.079697  38773   30506  33101  1638.260513  \n",
       "1  31.708516 -85.611039  37725   19528  43789   258.017685  \n",
       "2  33.191452 -86.615618  54606   31930  57348   926.031000  \n",
       "3  30.874343 -88.009442  63919   52814  47707   378.114619  \n",
       "4  30.250913 -88.171268  77948   67225  54270   282.320328  "
      ]
     },
     "execution_count": 3,
     "metadata": {},
     "output_type": "execute_result"
    }
   ],
   "source": [
    "df.head()"
   ]
  },
  {
   "cell_type": "code",
   "execution_count": 4,
   "metadata": {},
   "outputs": [
    {
     "data": {
      "text/plain": [
       "(32526, 19)"
      ]
     },
     "execution_count": 4,
     "metadata": {},
     "output_type": "execute_result"
    }
   ],
   "source": [
    "# dimensiones del DataFrame\n",
    "df.shape"
   ]
  },
  {
   "cell_type": "code",
   "execution_count": 5,
   "metadata": {},
   "outputs": [
    {
     "data": {
      "text/plain": [
       "Index(['id', 'State_Code', 'State_Name', 'State_ab', 'County', 'City', 'Place',\n",
       "       'Type', 'Primary', 'Zip_Code', 'Area_Code', 'ALand', 'AWater', 'Lat',\n",
       "       'Lon', 'Mean', 'Median', 'Stdev', 'sum_w'],\n",
       "      dtype='object')"
      ]
     },
     "execution_count": 5,
     "metadata": {},
     "output_type": "execute_result"
    }
   ],
   "source": [
    "# nombre de las columnas\n",
    "df.columns"
   ]
  },
  {
   "cell_type": "markdown",
   "metadata": {},
   "source": [
    "¿Qué tamaño tiene?"
   ]
  },
  {
   "cell_type": "code",
   "execution_count": 6,
   "metadata": {},
   "outputs": [
    {
     "data": {
      "text/plain": [
       "617994"
      ]
     },
     "execution_count": 6,
     "metadata": {},
     "output_type": "execute_result"
    }
   ],
   "source": [
    "len(df)*len(df.columns)"
   ]
  },
  {
   "cell_type": "code",
   "execution_count": 12,
   "metadata": {},
   "outputs": [
    {
     "data": {
      "text/plain": [
       "32526"
      ]
     },
     "execution_count": 12,
     "metadata": {},
     "output_type": "execute_result"
    }
   ],
   "source": [
    "len(df)"
   ]
  },
  {
   "cell_type": "markdown",
   "metadata": {},
   "source": [
    "Ahora bien, como comenté nuestros regresores en términos de columnas son:\n",
    "* Lat\n",
    "* Lon\n",
    "\n",
    "Mientras que nuestra variable dependiente es:\n",
    "* Mean "
   ]
  },
  {
   "cell_type": "markdown",
   "metadata": {},
   "source": [
    "Ahora, calcular el vector predicciones $\\hat{y}$ ya que cada valor de Lat y Lon tendrá asociado un valor de Mean y es justo el que queremos aproximar con $\\hat{y}$. Ahora, como no forma parte de este curso ya tenemos unos parámetros dados:\n",
    "\n",
    "$$\n",
    "v = 30980.48, \\qquad \\boldsymbol{\\beta} = \\begin{bmatrix}744.83 \\\\ -83.45\\end{bmatrix}\n",
    "$$\n",
    "\n",
    "Con lo cual ya podemos realizar las predicciones $\\hat{y}_{i} = \\mathbf{x}^{T}_{i} \\boldsymbol{\\beta} + v$"
   ]
  },
  {
   "cell_type": "code",
   "execution_count": 7,
   "metadata": {},
   "outputs": [],
   "source": [
    "def pred(x):\n",
    "    beta = np.array([744.83,-83.45])\n",
    "    v = 30980.48\n",
    "    return x@beta + v"
   ]
  },
  {
   "cell_type": "code",
   "execution_count": 9,
   "metadata": {},
   "outputs": [
    {
     "data": {
      "text/plain": [
       "pandas.core.series.Series"
      ]
     },
     "execution_count": 9,
     "metadata": {},
     "output_type": "execute_result"
    }
   ],
   "source": [
    "# verifiquemos el tipo de datos de los regresores\n",
    "type(df['Lat'])"
   ]
  },
  {
   "cell_type": "code",
   "execution_count": 10,
   "metadata": {},
   "outputs": [
    {
     "data": {
      "text/plain": [
       "numpy.ndarray"
      ]
     },
     "execution_count": 10,
     "metadata": {},
     "output_type": "execute_result"
    }
   ],
   "source": [
    "# convertimos a un numpy array\n",
    "type(df['Lat'].values)"
   ]
  },
  {
   "cell_type": "code",
   "execution_count": 12,
   "metadata": {},
   "outputs": [],
   "source": [
    "# obtenemos los valores de Lat y Lon y guardamos en una variable\n",
    "X = df[['Lat','Lon']].values"
   ]
  },
  {
   "cell_type": "code",
   "execution_count": 13,
   "metadata": {},
   "outputs": [],
   "source": [
    "# variables con las predicciones realizadas\n",
    "Y_hat = pred(X)"
   ]
  },
  {
   "cell_type": "code",
   "execution_count": 15,
   "metadata": {},
   "outputs": [
    {
     "data": {
      "text/plain": [
       "array([61250.22981815, 61742.17517683, 62930.54251526, ...,\n",
       "       50259.22885358, 50303.28001129, 50348.05839956])"
      ]
     },
     "execution_count": 15,
     "metadata": {},
     "output_type": "execute_result"
    }
   ],
   "source": [
    "# contenido de la prediccion\n",
    "Y_hat"
   ]
  },
  {
   "cell_type": "code",
   "execution_count": 16,
   "metadata": {},
   "outputs": [
    {
     "data": {
      "text/plain": [
       "numpy.ndarray"
      ]
     },
     "execution_count": 16,
     "metadata": {},
     "output_type": "execute_result"
    }
   ],
   "source": [
    "# tipo de valores de la prediccion\n",
    "type(Y_hat)"
   ]
  },
  {
   "cell_type": "code",
   "execution_count": 17,
   "metadata": {},
   "outputs": [
    {
     "data": {
      "text/plain": [
       "32526"
      ]
     },
     "execution_count": 17,
     "metadata": {},
     "output_type": "execute_result"
    }
   ],
   "source": [
    "# para cada entrada del vector X corresponde una prediccion\n",
    "len(Y_hat)"
   ]
  },
  {
   "cell_type": "code",
   "execution_count": 18,
   "metadata": {},
   "outputs": [
    {
     "data": {
      "text/plain": [
       "32526"
      ]
     },
     "execution_count": 18,
     "metadata": {},
     "output_type": "execute_result"
    }
   ],
   "source": [
    "len(X)"
   ]
  },
  {
   "cell_type": "code",
   "execution_count": 19,
   "metadata": {},
   "outputs": [],
   "source": [
    "# Valores de la prediccion esperados\n",
    "Y = df['Mean'].values"
   ]
  },
  {
   "cell_type": "code",
   "execution_count": 20,
   "metadata": {},
   "outputs": [
    {
     "data": {
      "image/png": "[encoded data removed]",
      "text/plain": [
       "<Figure size 840x840 with 1 Axes>"
      ]
     },
     "metadata": {
      "needs_background": "light"
     },
     "output_type": "display_data"
    }
   ],
   "source": [
    "fig, ax = plt.subplots(1,1,figsize=(7,7),dpi=120)\n",
    "\n",
    "ax.scatter(Y_hat,Y,marker ='o',color='red')\n",
    "ax.plot(Y,Y,ls='--')\n",
    "plt.show()"
   ]
  },
  {
   "cell_type": "markdown",
   "metadata": {},
   "source": [
    "¿Cómo calculamos el error?"
   ]
  },
  {
   "cell_type": "markdown",
   "metadata": {},
   "source": [
    "## 7.3 Ejercicio. \n",
    "\n",
    "Considera que ya no solamente usamos Lat y Lon como regresores sino también comenzamos a usar Zip_Code como regresor, ajustar ese modelo nos deja con los siguientes parámetros:\n",
    "$$\n",
    "v = 4152.02, \\qquad \\boldsymbol{\\beta} = \\begin{bmatrix}6.55490348e+02 \\\\ 5.75918372e+02 \\\\ -2.94216316e-01\\end{bmatrix}\n",
    "$$\n",
    "\n",
    "¿Mejora la preducción al introducir un nuevo regresor?"
   ]
  }
 ],
 "metadata": {
  "kernelspec": {
   "display_name": "Python 3",
   "language": "python",
   "name": "python3"
  },
  "language_info": {
   "codemirror_mode": {
    "name": "ipython",
    "version": 3
   },
   "file_extension": ".py",
   "mimetype": "text/x-python",
   "name": "python",
   "nbconvert_exporter": "python",
   "pygments_lexer": "ipython3",
   "version": "3.10.8"
  }
 },
 "nbformat": 4,
 "nbformat_minor": 4
}
