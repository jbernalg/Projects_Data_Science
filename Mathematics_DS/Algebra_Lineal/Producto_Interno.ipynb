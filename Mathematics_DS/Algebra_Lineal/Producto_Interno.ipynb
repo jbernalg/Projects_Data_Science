{
 "cells": [
  {
   "cell_type": "markdown",
   "metadata": {},
   "source": [
    "# 4. Producto Interno"
   ]
  },
  {
   "cell_type": "markdown",
   "metadata": {},
   "source": [
    "El *producto interno* (estándar) o simplemente *producto punto* de dos $n$-vectores $\\vec{a},\\vec{b}$ se define como el escalar:\n",
    "\n",
    "$$\n",
    "<\\vec{a},\\vec{b}> = \\vec{a} \\cdot \\vec{b} = a_{0}b_{0}+a_{1}b_{1}+\\cdots+a_{n-1}b_{n-1} = \\displaystyle\\sum_{i=0}^{n-1} a_{i}b_{i}\n",
    "$$\n",
    "\n",
    "Que es simplemente la suma del producto de sus entradas."
   ]
  },
  {
   "cell_type": "markdown",
   "metadata": {},
   "source": [
    "Por ejemplo, si $\\vec{a}=(1,2,3)$ y $\\vec{b}=(4,5,6)$ entonces el producto punto será:\n",
    "\n",
    "$$\n",
    "\\vec{a}\\cdot\\vec{b} = (1,2,3)\\cdot (4,5,6) = 1\\cdot 4+2\\cdot 5 + 3\\cdot 6 = 4+10+18=32\n",
    "$$"
   ]
  },
  {
   "cell_type": "markdown",
   "metadata": {},
   "source": [
    "Hasta ahora trabajamos de forma indiferente con *vectores columna* y *vectores renglón*, a partir de este momento **el estándar serán los vectores columna** entonces simpre que hablemos de un vector, dígamos $\\vec{a}$ entonces estaremos hablando del vector columna:\n",
    "\n",
    "$$\n",
    "\\vec{a} = \\begin{bmatrix}a_{0}\\\\ a_{1}\\\\ \\vdots \\\\ a_{n-1}\\end{bmatrix}\n",
    "$$\n",
    "\n",
    "Esto también nos permite introducir una nueva operación: **la transposición**. Retomemos el vector $\\vec{a}$, denotaremos como $\\vec{a}^{T}$ al vector transpuesto de $\\vec{a}$:\n",
    "\n",
    "$$\n",
    "\\vec{a}^{T} = \\begin{bmatrix}a_{0}\\\\ a_{1}\\\\ \\vdots \\\\ a_{n-1}\\end{bmatrix}^{T} = [a_{0}\\; a_{1}\\; \\cdots \\; a_{n-1}]\n",
    "$$\n",
    "\n",
    "La operación de transposición nos permite cambiar de vectores columna a vectores renglón sin modificar al vector que se transponga. Notemos que es posible poder transponer un vector transpuesto_\n",
    "\n",
    "$$\n",
    "\\left(\\vec{a}^{T}\\right)^{T} = \\left(\\begin{bmatrix}a_{0}\\\\ a_{1}\\\\ \\vdots \\\\ a_{n-1}\\end{bmatrix}^{T}\\right)^{T} = [a_{0}\\; a_{1}\\; \\cdots \\; a_{n-1}]^{T} = \\begin{bmatrix}a_{0}\\\\ a_{1}\\\\ \\vdots \\\\ a_{n-1}\\end{bmatrix} = \\vec{a}\n",
    "$$"
   ]
  },
  {
   "cell_type": "markdown",
   "metadata": {},
   "source": [
    "Así pues, consideremos el ejemplo anterior de los vectores $\\vec{a}$ y $\\vec{b}$. Definimos la operación $\\vec{a}^{T}\\vec{b}$ como:\n",
    "\n",
    "$$\n",
    "\\vec{a}^{T}\\; \\vec{b} = [a_{0}\\; a_{1}\\; \\cdots \\; a_{n-1}]  \\begin{bmatrix}b_{0}\\\\ b_{1}\\\\ \\vdots \\\\ b_{n-1}\\end{bmatrix} = a_{0}b_{0} + a_{1}b_{1} + \\cdots + a_{n-1}b_{n-1} = \\displaystyle\\sum_{i=0}^{n-1} a_{i}b_{i}\n",
    "$$\n",
    "\n",
    "Lo cual coincide con la definición del producto interno. Así pues $<\\vec{a},\\vec{b}> = \\vec{a}\\cdot \\vec{b} = \\vec{a}^{T} \\;\\vec{b} = \\displaystyle\\sum_{i=0}^{n-1} a_{i}b_{i}$"
   ]
  },
  {
   "cell_type": "markdown",
   "metadata": {},
   "source": [
    "## 4.1 Propiedades del producto interno"
   ]
  },
  {
   "cell_type": "markdown",
   "metadata": {},
   "source": [
    "Sean $\\vec{a},\\vec{b}$ dos $n$-vectores y $\\alpha$ un escalar. El producto interno entre $\\vec{a}$ y $\\vec{b}$ cumple las siguientes propiedades:\n",
    "\n",
    "* Conmutatividad: $\\vec{a}^{T}\\vec{b} = \\displaystyle\\sum_{i=0}^{n-1} a_{i}b_{i} = \\displaystyle\\sum_{i=0}^{n-1} b_{i}a_{i} = \\vec{b}^{T}\\vec{a}$\n",
    "\n",
    "* Asociatividad con multiplicación escalar: $\\left(\\alpha \\vec{a}\\right)^{T}\\vec{b} = \\alpha\\left(\\vec{a}^{T}\\vec{b}\\right)$\n",
    "\n",
    "* Distribución en la adición de vectores: $\\left(\\vec{a} + \\vec{b}\\right)^{T}\\vec{c} = \\vec{a}^{T}\\vec{c} + \\vec{b}^{T}\\vec{c}$"
   ]
  },
  {
   "cell_type": "markdown",
   "metadata": {},
   "source": [
    "## 4.2 Consideraciones adicionales"
   ]
  },
  {
   "cell_type": "markdown",
   "metadata": {},
   "source": [
    "**Proyección**. Si $\\vec{a}$ es un $n$-vector entonces $\\hat{e}_{i}^{T}\\vec{a} = a_{i}$"
   ]
  },
  {
   "cell_type": "markdown",
   "metadata": {},
   "source": [
    "**Suma de elementos de un vector.** $\\mathbf{1}^{T}a = a_{0}+a_{1}+\\cdots+a_{n-1}$ "
   ]
  },
  {
   "cell_type": "markdown",
   "metadata": {},
   "source": [
    "**Promedio de entradas de un vector.** $(\\mathbf{1}/n)^{T}\\vec{a} = (a_{0}+a_{1}+\\cdots+a_{n-1})/n$"
   ]
  },
  {
   "cell_type": "markdown",
   "metadata": {},
   "source": [
    "**Suma de cuadrados de un vector.** $\\vec{a}^{T} \\;\\vec{a} = a_{0}^{2}+a_{1}^{2}+\\cdots+a_{n-1}^{2}$"
   ]
  },
  {
   "cell_type": "markdown",
   "metadata": {},
   "source": [
    "**Producto interno de bloques de vectores**. Sean $\\vec{a},\\vec{b}$ $k$-vectores formados por concatenar los $n$-vectores $a_{i},b_{i}$:\n",
    "\n",
    "$$\n",
    "\\vec{a}=\\begin{bmatrix}a_{0}\\\\ a_{1}\\\\ \\vdots \\\\ a_{k-1}\\end{bmatrix},\\qquad \\vec{b}=\\begin{bmatrix}b_{0}\\\\ b_{1}\\\\ \\vdots \\\\ b_{k-1}\\end{bmatrix}\n",
    "$$\n",
    "\n",
    "Entonces el producto punto entre estos vectores va como:\n",
    "\n",
    "$$\n",
    "\\vec{a}^{T} \\vec{b} = [a_{0}\\; a_{1}\\; \\cdots \\; a_{k-1}]\\begin{bmatrix}b_{0}\\\\ b_{1}\\\\ \\vdots \\\\ b_{k-1}\\end{bmatrix} = a_{0}^{T}b_{0}+a_{1}^{T}b_{1} + \\cdots + a_{k-1}^{T}b_{k-1}\n",
    "$$"
   ]
  },
  {
   "cell_type": "markdown",
   "metadata": {},
   "source": [
    "## 4.3 Producto interno en Python. "
   ]
  },
  {
   "cell_type": "code",
   "execution_count": 3,
   "metadata": {},
   "outputs": [],
   "source": [
    "import numpy as np"
   ]
  },
  {
   "cell_type": "markdown",
   "metadata": {},
   "source": [
    "Sean $\\vec{a},\\vec{b}$ vectores en $\\mathbb{R}^{4}$. Diremos que los vectores son **ortogonales** o **perpendiculares** si $\\vec{a}\\cdot \\vec{b}= 0$\n",
    "\n",
    "Consideremos entonces $\\vec{a}=\\hat{e}_{0}$ y $\\vec{b} = \\hat{e}_{2}$. Vamos a realizar el producto punto en Python"
   ]
  },
  {
   "cell_type": "code",
   "execution_count": 4,
   "metadata": {},
   "outputs": [],
   "source": [
    "a = np.array([1,0,0,0]) #declaramos el vector e_0\n",
    "\n",
    "b = np.array([0,0,1,0]) #declaramos el vector e_2"
   ]
  },
  {
   "cell_type": "markdown",
   "metadata": {},
   "source": [
    "Para realizar el producto punto llamaremos a la función *numpy.dot*"
   ]
  },
  {
   "cell_type": "code",
   "execution_count": 5,
   "metadata": {},
   "outputs": [
    {
     "name": "stdout",
     "output_type": "stream",
     "text": [
      "<a,b> = 0\n"
     ]
    }
   ],
   "source": [
    "print('<a,b> =',np.dot(a,b))"
   ]
  },
  {
   "cell_type": "markdown",
   "metadata": {},
   "source": [
    "De igual manera también podemos usar el operador $@$"
   ]
  },
  {
   "cell_type": "code",
   "execution_count": 6,
   "metadata": {},
   "outputs": [
    {
     "name": "stdout",
     "output_type": "stream",
     "text": [
      "<a,b> = 0\n"
     ]
    }
   ],
   "source": [
    "print('<a,b> =',a.T@b)"
   ]
  },
  {
   "cell_type": "markdown",
   "metadata": {},
   "source": [
    "  "
   ]
  },
  {
   "cell_type": "markdown",
   "metadata": {},
   "source": [
    "**Evaluación de polinomios**. Un polinomio de grado $n-1$ se puede expresar como $p(x) = c_{0} + c_{1}x + c_{2}x^{2} + \\cdots + c_{n-1}x^{n-1}$. Si consideramos los $n$-vectores $\\vec{c},\\vec{x}$ tales que:\n",
    "\n",
    "$$\n",
    "\\vec{c} = \\begin{bmatrix}c_{0}\\\\ c_{1}\\\\ \\vdots \\\\ c_{n-1}\\end{bmatrix},\\qquad \\vec{x}(x) = \\begin{bmatrix}x^{0}\\\\ x^{1}\\\\ \\vdots \\\\ x^{n-1}\\end{bmatrix}\n",
    "$$\n",
    "\n",
    "Así pues, usando estos vectores es posible expresar $p(x) = \\vec{c}^{T}\\vec{x}(x)$. Un ejemplo más concreto sería $p(x)=1+2x$, usando los vectores:\n",
    "\n",
    "$$\n",
    "\\vec{c} = \\begin{bmatrix}1\\\\ 2 \\end{bmatrix}, \\qquad \\vec{x}(x) = \\begin{bmatrix}1\\\\ x \\end{bmatrix}\n",
    "$$\n",
    "\n",
    "Entonces podemos escribir:\n",
    "$$\n",
    "p(x) = \\vec{c}^{T}\\vec{x}(x) = [1 \\; 2] \\begin{bmatrix}1\\\\ x \\end{bmatrix} = 1\\cdot 1 + 2\\cdot x = 1 + 2x\n",
    "$$"
   ]
  },
  {
   "cell_type": "markdown",
   "metadata": {},
   "source": [
    "Así pues en Python podemos escribir el polinomio como:"
   ]
  },
  {
   "cell_type": "code",
   "execution_count": 7,
   "metadata": {},
   "outputs": [],
   "source": [
    "def p(x):\n",
    "    return np.array([1,2])@np.array([1,x])"
   ]
  },
  {
   "cell_type": "code",
   "execution_count": 8,
   "metadata": {},
   "outputs": [
    {
     "name": "stdout",
     "output_type": "stream",
     "text": [
      "p(0) =  1\n",
      "p(1) =  3\n",
      "p(2) =  5\n"
     ]
    }
   ],
   "source": [
    "print('p(0) = ',p(0))\n",
    "print('p(1) = ',p(1))\n",
    "print('p(2) = ',p(2))"
   ]
  },
  {
   "cell_type": "markdown",
   "metadata": {},
   "source": [
    "## 4.4 Ejercicios."
   ]
  },
  {
   "cell_type": "markdown",
   "metadata": {},
   "source": [
    "**Problema 1: Análisis de sentimientos de tweets.** Vamos a crear un máquina que pueda decirnos qué tan positivo, neutral o negativo son una serie de respuestas de twitter.  \n",
    "Las respuestas son:\n",
    "> Gran mexicano y excelente en su área, su muerte es una enorme perdida y debería ser luto nacional!!!\n",
    "\n",
    "> Vaya señora que bueno que se asesora por alguien inteligente no por el ignorante del Gatt.\n",
    "\n",
    "> Se me ocurre y sin ver todos los videos de Plazti que me informéis por dónde empiezo. Entiendo que os tendría que decir quién soy y que quiero, vamos conocerme para asesorarme bien.\n",
    "Un saludo\n",
    "\n",
    "> Soy docente universitario, estoy intentando preparar mis clases en modo platzi bien didáctico, (le llamo modo noticiero), descargue una plataforma gratuita de grabación y transmisión de vídeo, se llama Obs estudio!bueno la sigo remando con sus funciones pero sé que saldrá algo!"
   ]
  },
  {
   "cell_type": "code",
   "execution_count": 9,
   "metadata": {},
   "outputs": [],
   "source": [
    "a = \"Gran mexicano y excelente en su área, su muerte es una enorme perdida y debería ser luto nacional!!!\"\n",
    "a = a.replace(\"!\",\"\").replace(\",\",\"\").split(\" \")"
   ]
  },
  {
   "cell_type": "code",
   "execution_count": 10,
   "metadata": {},
   "outputs": [
    {
     "data": {
      "text/plain": [
       "['Gran',\n",
       " 'mexicano',\n",
       " 'y',\n",
       " 'excelente',\n",
       " 'en',\n",
       " 'su',\n",
       " 'área',\n",
       " 'su',\n",
       " 'muerte',\n",
       " 'es',\n",
       " 'una',\n",
       " 'enorme',\n",
       " 'perdida',\n",
       " 'y',\n",
       " 'debería',\n",
       " 'ser',\n",
       " 'luto',\n",
       " 'nacional']"
      ]
     },
     "execution_count": 10,
     "metadata": {},
     "output_type": "execute_result"
    }
   ],
   "source": [
    "a"
   ]
  },
  {
   "cell_type": "code",
   "execution_count": 11,
   "metadata": {},
   "outputs": [
    {
     "name": "stdout",
     "output_type": "stream",
     "text": [
      "Sí\n"
     ]
    }
   ],
   "source": [
    "if 'muerte' in a:\n",
    "    print(\"Sí\")"
   ]
  },
  {
   "cell_type": "markdown",
   "metadata": {},
   "source": [
    "Ahora bien, no podemos sacar toda la información de los textos sino vamos a buscar cadenas (strings) específicas. Así pues vamos a construir una función de Python que cuente la cantidad de veces que aparece cierta cadena. Como ejemplo, supongamos que las palabras que vamos a contar son *muerte*, *pérdida*, *luto*, *excelente*,*gran* y *positivo*, y además esto lo queremos expresar como vector en orden respectivo, así pues el primer comentario lo podemos expresar como el siguiente vector:\n",
    "$$\n",
    "\\vec{w} = \\begin{bmatrix}1\\\\ 1 \\\\ 1\\\\ 1\\\\ 1 \\\\0 \\end{bmatrix}\n",
    "$$\n",
    "Ahora, vamos a crear otra función en la que tendremos el vector con entradas de cantidad de palabras positivas, negativas y neutras. Siguiendo con el ejemplo vamos a sumar un uno a la primer entrada si aparece alguna de las siguientes palabras *excelente*,*gran* y *positivo*, un uno en la segunda por cada vez que aparezca la palabra *pérdida* y un uno a la última entrada si aparecen las palabras *muerte* y *luto*. Así pues, el primer twett lo podemos representar como:\n",
    "\n",
    "$$\n",
    "\\vec{s} = \\begin{bmatrix} 2 \\\\ 1 \\\\2 \\end{bmatrix}\n",
    "$$\n",
    "\n",
    "Ahora, para ver la *calidad* del resultado que tendremos para un twett conviene calcular el promedio de las entradas de un vector de palabras\n",
    "$$avg(\\vec{w}) = (\\mathbf{1}/n)^{T}\\vec{w}$$\n",
    "Y después calcularás el promedio del sentimiento de cada tweet $avg(\\vec{s})$ y de igual manera el *score sentimental* que se define como \n",
    "$$score(\\vec{s}) = [1\\; 0\\; -1] \\begin{bmatrix} s_{0} \\\\ s_{1} \\\\s_{2} \\end{bmatrix}$$"
   ]
  },
  {
   "cell_type": "markdown",
   "metadata": {},
   "source": [
    "Leyendo los tuits decide el conjunto mínimo de palabras que vas a contar en todos los tuits, solamente deberás hacer una función para contar palabras para todos los tuits, no hagas un función por enunciado. Según tu esquema reponde lo siguiente:\n",
    "\n",
    "* ¿Qué tuit es más positivo?\n",
    "\n",
    "* ¿Qué tuit es más negativo?\n",
    "\n",
    "* ¿Cuál es tu calidad promedio?\n",
    "\n",
    "* ¿Cómo interpretas $avg(\\vec{s})$ y $score(\\vec{s})$?\n",
    "\n",
    "* ¿Cómo relacionas la calidad con $score(\\vec{s})$ y $avg(\\vec{s})$?"
   ]
  },
  {
   "cell_type": "code",
   "execution_count": 21,
   "metadata": {},
   "outputs": [],
   "source": [
    "# asociamos los tweets a variables\n",
    "tweet1 = 'Gran mexicano y excelente en su área, su muerte es una enorme perdida y debería ser luto nacional!!!'\n",
    "tweet2 = 'Vaya señora que bueno que se asesora por alguien inteligente no por el ignorante del Gatt.'\n",
    "tweet3 = 'Se me ocurre y sin ver todos los videos de Plazti que me informéis por dónde empiezo. Entiendo que os tendría que decir quién soy y que quiero, vamos conocerme para asesorarme bien.Un saludo'\n",
    "tweet4 = 'Soy docente universitario, estoy intentando preparar mis clases en modo platzi bien didáctico, (le llamo modo noticiero), descargue una plataforma gratuita de grabación y transmisión de vídeo, se llama Obs estudio!bueno la sigo remando con sus funciones pero sé que saldrá algo!'"
   ]
  },
  {
   "cell_type": "code",
   "execution_count": 41,
   "metadata": {},
   "outputs": [],
   "source": [
    "def Delete_Punt(string):\n",
    "    '''\n",
    "    funcion que elimine signos de puntuacion y vocales acentuadas de una cadena y \n",
    "    devuelva una lista de palabras de la cadena\n",
    "    '''\n",
    "    \n",
    "    # letras en minuscula\n",
    "    string = string.lower()\n",
    "\n",
    "    # lista de signosde puntuacion\n",
    "    sign = [',', '.', '!', '?', ]\n",
    "    \n",
    "    # diccionario con vocales acentuadas\n",
    "    acent = {\n",
    "        'á': 'a',\n",
    "        'é': 'e',\n",
    "        'í': 'i',\n",
    "        'ó': 'o',\n",
    "        'ú': 'u',\n",
    "        }\n",
    "    \n",
    "    # reemplazar signos de puntuacion\n",
    "    for punt in sign:\n",
    "        string = string.replace(punt,' ')\n",
    "\n",
    "    # reemplazar vocales acentuadas\n",
    "    for key in acent:\n",
    "        if key in string:\n",
    "            string = string.replace(key, acent[key])\n",
    "\n",
    "    # crear lista con las palabras de la cadena\n",
    "    string = string.split(' ')\n",
    "    \n",
    "    # lista con solo palabras como elementos\n",
    "    string = [x for x in string if x != '']\n",
    "    \n",
    "    return string"
   ]
  },
  {
   "cell_type": "code",
   "execution_count": 67,
   "metadata": {},
   "outputs": [],
   "source": [
    "def Analysis_Sentiment(string):\n",
    "    \n",
    "    # lista de palabras a buscar\n",
    "    math = ['excelente', 'gran', 'quiero', 'bien', 'positivo', 'bueno', 'inteligente', 'muerte', 'luto', 'ignorante', 'perdida', 'aprender', 'estudio', 'platzi']\n",
    "\n",
    "    # listas con palabras consideradas positivas, neutrales y negativas\n",
    "    math_pos = [\"excelente\", \"gran\", \"quiero\", 'bien', 'positivo', 'bueno', 'inteligente']\n",
    "    math_neu = ['aprender', 'estudio', 'platzi']\n",
    "    math_neg = [\"muerte\", \"luto\", 'ignorante', 'perdida']\n",
    "\n",
    "    # aplicamos la funcion Delete_Punt al string pasado\n",
    "    list_tweet = Delete_Punt(string)\n",
    "    \n",
    "    # Contamos los elementos que coinciden con math y guardamos en w\n",
    "    # contamos los elementos positivos, neutros y negativos y guardamos es s\n",
    "    w = []\n",
    "    pos, neg, neu = 0,0,0\n",
    "    for ele in math:\n",
    "        count = 0\n",
    "        count = list_tweet.count(ele)\n",
    "        w.append(count)\n",
    "\n",
    "        if count > 0 and ele in math_pos:\n",
    "            pos += 1\n",
    "        elif count > 0 and ele in math_neg:\n",
    "            neg += 1\n",
    "        elif count > 0 and ele in math_neu:\n",
    "            neu += 1\n",
    "\n",
    "    s = [pos/(len(math_pos)), neu/(len(math_neu)), neg/(len(math_neg))]\n",
    "\n",
    "    # calculamos la calidad del resultado avg(w)\n",
    "    w = np.array(w)\n",
    "    avgw = round((np.ones(w.size)/float(w.size)).T@w, 3)\n",
    "\n",
    "    # calculamos el promedio del sentimiento avg(s) y el score sentimental\n",
    "    s = np.array(s)\n",
    "    avgs = round((np.ones(s.size)/float(s.size)).T@s, 3)\n",
    "    score = np.array([1,0,-1])\n",
    "    scores = round(score.T@s, 3)\n",
    "\n",
    "    # imrpimimos los resultados\n",
    "    print(f'avg(w):{avgw}, avg(s): {avgs}, score:{scores}')\n",
    "\n",
    "    return avgw\n",
    "    "
   ]
  },
  {
   "cell_type": "code",
   "execution_count": 73,
   "metadata": {},
   "outputs": [
    {
     "name": "stdout",
     "output_type": "stream",
     "text": [
      "avg(w):0.357, avg(s): 0.345, score:-0.464\n",
      "avg(w):0.214, avg(s): 0.179, score:0.036\n",
      "avg(w):0.143, avg(s): 0.095, score:0.286\n",
      "avg(w):0.286, avg(s): 0.317, score:0.286\n",
      "Calidad Promedio: 0.25\n"
     ]
    }
   ],
   "source": [
    "avg1 = Analysis_Sentiment(tweet1)\n",
    "avgw2 = Analysis_Sentiment(tweet2)\n",
    "avgw3 = Analysis_Sentiment(tweet3)\n",
    "avgw4 = Analysis_Sentiment(tweet4)\n",
    "\n",
    "avgw_all = [avg1,avgw2,avgw3, avgw4]\n",
    "prom_w = np.average(avgw_all)\n",
    "print(f'Calidad Promedio: {prom_w}')"
   ]
  },
  {
   "cell_type": "markdown",
   "metadata": {},
   "source": [
    "**Respuestas**\n",
    "> **Tweet mas positivo**: Segun las palabras seleccionadas como positivas, el tweet mas positivo es el 3. A pesar que el score de 3 y 4 es el mismo, el tweet 3 tiene un avg(s) mayor lo que implica mayor calidad.\n",
    "\n",
    "> **Tweet mas egativo**: Segun las palabras seleccionadas como negativas, el tweet mas negativo es el 1\n",
    "\n",
    "> **Calidad Promedio**: Es de 0.25\n",
    "\n",
    "> **Interpretacion de avg(s) y score(s)**: El avg(s) se interpreta como el porcentaje de palabras de la base de datos definidas como positivas, megativas y neutrales que hay en el tweet. Mientras mas alto es este valor mayor es la calidad en los resultados ya que el numero de coincidencias es mayor. El score(s) se interpreta como una medida de la emocion del tweet. Es muy subjetiva ya que depende de las palabras que consideramos como negativas, postivas y neutrales. Mientras mas palabras negativas hayan el valor se aproxima a -1, y mientras mas palabras postivas hayan el valor se acerca a 1 \n",
    "\n",
    "> **Relacion entre el score(s) y el avg(s)**: El avg(s) es un indicador de que tantas informacion util contiene el tweet basado en las palabras positivas, negativas y neutrales seleccionadas. Ademas, esta medida puede resultar util para filtrar los tweet con informacion relevante de acuerdoa nuestro analisis. Un avg(s) alto indica una mayor certeza en el score(s) de un tweet dado"
   ]
  }
 ],
 "metadata": {
  "kernelspec": {
   "display_name": "Python 3",
   "language": "python",
   "name": "python3"
  },
  "language_info": {
   "codemirror_mode": {
    "name": "ipython",
    "version": 3
   },
   "file_extension": ".py",
   "mimetype": "text/x-python",
   "name": "python",
   "nbconvert_exporter": "python",
   "pygments_lexer": "ipython3",
   "version": "3.9.12"
  }
 },
 "nbformat": 4,
 "nbformat_minor": 4
}
