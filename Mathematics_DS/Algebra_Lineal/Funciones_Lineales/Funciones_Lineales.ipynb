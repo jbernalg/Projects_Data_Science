{
 "cells": [
  {
   "cell_type": "markdown",
   "metadata": {},
   "source": [
    "# 5. Funciones Lineales"
   ]
  },
  {
   "cell_type": "markdown",
   "metadata": {},
   "source": [
    "La notación $f: \\mathbb{R}^{n}\\to \\mathbb{R}$ significa que $f$ es una función con **dominio** en $\\mathbb{R}^{n}$ e imagen en $\\mathbb{R}$, es decir, que toma un $n$-vector y lo convierte en un escalar.  \n",
    "La función puede denotarse como $f\\left(\\mathbf{x}\\right)= f\\left(x_{0},x_{1},\\dots,x_{n-1}\\right)$ donde $\\mathbf{x}\\in \\mathbb{R}^{n}$ y $x_{i}$ son las entradas del vector.  \n",
    "\n",
    "Es necesario enfatizar que $f(\\mathbf{x})$ es un escalar. "
   ]
  },
  {
   "cell_type": "markdown",
   "metadata": {},
   "source": [
    "Para describir una función $f: \\mathbb{R}^{n} \\to \\mathbb{R}$ tenemos que especificar el cual es el valor para cualquier vector $\\mathbf{x}\\in\\mathbb{R}^{n}$. Por ejemplo, sea $f: \\mathbb{R}^{4} \\to \\mathbb{R}$ definida por\n",
    "$$\n",
    "f(\\mathbf{x}) = x_{0} + x_{1} + x_{2} + x_{3}\n",
    "$$"
   ]
  },
  {
   "cell_type": "markdown",
   "metadata": {},
   "source": [
    "Así pues el valor de cualquier $4$-vector queda bien definido, por ejemplo:\n",
    "\n",
    "* $f(\\mathbf{0}) = 0 + 0+ 0+0 = 0$\n",
    "\n",
    "* $f([1\\; 0\\; 0\\; 0]) = 1+0+0+0 = 1$\n",
    "\n",
    "* $f([1\\; 1\\; 1\\; 1]) = 1+1+1+1 = 4$"
   ]
  },
  {
   "cell_type": "markdown",
   "metadata": {},
   "source": [
    "**Replicar los ejemplos con codigo**"
   ]
  },
  {
   "cell_type": "code",
   "execution_count": 113,
   "metadata": {},
   "outputs": [],
   "source": [
    "import numpy as np"
   ]
  },
  {
   "cell_type": "code",
   "execution_count": 114,
   "metadata": {},
   "outputs": [],
   "source": [
    "def f(x):\n",
    "    return x[0] + x[1] + x[2] + x[3]"
   ]
  },
  {
   "cell_type": "code",
   "execution_count": 115,
   "metadata": {},
   "outputs": [],
   "source": [
    "# otra forma de crear la funcion con numpy\n",
    "def f2(x):\n",
    "    return np.sum(x)"
   ]
  },
  {
   "cell_type": "code",
   "execution_count": 116,
   "metadata": {},
   "outputs": [
    {
     "name": "stdout",
     "output_type": "stream",
     "text": [
      "0\n",
      "1\n",
      "4\n"
     ]
    }
   ],
   "source": [
    "# ejemplos\n",
    "print(f2(np.array([0,0,0,0])))\n",
    "print(f(np.array([1,0,0,0])))\n",
    "print(f2(np.array([1,1,1,1])))"
   ]
  },
  {
   "cell_type": "markdown",
   "metadata": {},
   "source": [
    "Como otro ejemplo, sea $g: \\mathbb{R}^{3} \\to \\mathbb{R}$ definida por \n",
    "$$\n",
    "g(\\mathbf{x}) = x_{0}\n",
    "$$"
   ]
  },
  {
   "cell_type": "markdown",
   "metadata": {},
   "source": [
    "Tenemos entonces:\n",
    "\n",
    "* $g(\\mathbf{0}) = 0$ \n",
    "\n",
    "* $g([0\\; 0\\; 1]) = 0$\n",
    "\n",
    "* $g([1\\; 0\\; 4]) = 1$"
   ]
  },
  {
   "cell_type": "markdown",
   "metadata": {},
   "source": [
    "**Replicar los ejemplos con codigo**"
   ]
  },
  {
   "cell_type": "code",
   "execution_count": 117,
   "metadata": {},
   "outputs": [],
   "source": [
    "# funcion que reciba un vector y devuelva la primera componente\n",
    "def g(x):\n",
    "    return x[0]"
   ]
  },
  {
   "cell_type": "code",
   "execution_count": 118,
   "metadata": {},
   "outputs": [
    {
     "name": "stdout",
     "output_type": "stream",
     "text": [
      "0\n",
      "0\n",
      "4\n"
     ]
    }
   ],
   "source": [
    "print(g(np.array([0,0,0,0])))\n",
    "print(g(np.array([0,1,0])))\n",
    "print(g(np.array([4,0,1])))"
   ]
  },
  {
   "cell_type": "markdown",
   "metadata": {},
   "source": [
    "Podemos notar que en este caso $f(\\mathbf{x})$ corresponde a la _función suma_ y $g(\\mathbf{x})$ a proyección sobre $x_{0}$."
   ]
  },
  {
   "cell_type": "markdown",
   "metadata": {},
   "source": [
    "## 5.1 Algunas funciones"
   ]
  },
  {
   "cell_type": "markdown",
   "metadata": {},
   "source": [
    "**Función producto interno**. Si una función tiene como aurgmentos dos $n$-vectores el dominio de la función se expresará como $\\mathbb{R}^{n}\\times\\mathbb{R}^{n}$. Por ejemplo, sea $f:\\mathbb{R}^{n}\\times\\mathbb{R}^{n} \\to \\mathbb{R}$ definida por:\n",
    "\n",
    "$$\n",
    "f(\\mathbf{a},\\mathbf{b}) = a_{0}b_{0} + a_{1}b_{1} + \\cdots + a_{n-1}b_{n-1}\n",
    "$$"
   ]
  },
  {
   "cell_type": "markdown",
   "metadata": {},
   "source": [
    "Notemos que podemos expresar lo anterior como\n",
    "\n",
    "$$\n",
    "f(\\mathbf{a},\\mathbf{b}) = \\mathbf{a}^{T}\\mathbf{b}\n",
    "$$\n",
    "\n",
    "Esta función recibe el nombre de función producto interno. Si quisieramos dejar fijo un vector, digamos el vector $\\mathbf{a}$ podemos recurrir a la siguiente notación:\n",
    "\n",
    "$$\n",
    "f_{\\mathbf{a}}(\\mathbf{b}) = \\mathbf{a}^{T}\\mathbf{b}\n",
    "$$\n",
    "\n",
    "Esto significará que $\\mathbf{a}$ estará fijo mientras que $\\mathbf{b}$ será el que variará. "
   ]
  },
  {
   "cell_type": "markdown",
   "metadata": {},
   "source": [
    "**Superposición y linealidad.** La función producto interno satisface la siguiente propiedad:\n",
    "\n",
    "$$\n",
    "\\begin{align}\n",
    "f_\\mathbf{x}(\\alpha\\mathbf{a}+\\beta\\mathbf{b}) &=& \\mathbf{x}^{T}(\\alpha\\mathbf{a}+\\beta\\mathbf{b}) \\\\\n",
    " &=& \\mathbf{x}^{T}(\\alpha\\mathbf{a})+\\mathbf{x}^{T}(\\beta\\mathbf{b}) \\\\\n",
    " &=& \\alpha(\\mathbf{x}^{T}\\mathbf{a}) + \\beta(\\mathbf{x}^{T}\\mathbf{b}) \\\\\n",
    " &=& \\alpha f_{\\mathbf{x}}(\\mathbf{a}) + \\beta f_{\\mathbf{x}}(\\mathbf{b})\n",
    "\\end{align}\n",
    "$$\n",
    "\n",
    "Si la función $g$ cumple que $g(\\alpha\\mathbf{x}+\\beta\\mathbf{y}) = \\alpha g(\\mathbf{x})+\\beta g(\\mathbf{y})$ decimos que la función $g$ es una **función lineal.** "
   ]
  },
  {
   "cell_type": "markdown",
   "metadata": {},
   "source": [
    "Si $f$ es una función lineal la _linearidad_ se extiende a cualquier combinación lineal y no solamente a una combinación de dos vectores, tenemos \n",
    "\n",
    "$$\n",
    "f(\\alpha_{0}\\mathbf{x_{0}} + \\alpha_{1}\\mathbf{x_{1}} + \\alpha_{2}\\mathbf{x_{2}} + \\cdots \n",
    " + \\alpha_{n-1}\\mathbf{x_{n-1}}) = \\alpha_{0}f(\\mathbf{x_{0}}) + \\alpha_{1}f(\\mathbf{x_{1}}) + \\alpha_{2}f(\\mathbf{x_{2}}) + \\cdots + \\alpha_{n-1}f(\\mathbf{x_{n-1}})\n",
    "$$\n"
   ]
  },
  {
   "cell_type": "markdown",
   "metadata": {},
   "source": [
    "Si una función $g:\\mathbf{R}^{n} \\to \\mathbf{R}$ es lineal sabemo que cumple $g(\\alpha\\mathbf{x}+\\beta\\mathbf{y}) = \\alpha g(\\mathbf{x})+\\beta g(\\mathbf{y})$, propiedad que llamaremos _superposición_. Ahora, la superposición puede ser separada en dos propiedades:\n",
    "\n",
    "* _Homogeneidad_. Para cualquier $n$-vector $\\mathbf{x}$ y cualquier escalar $\\alpha$ tenemos que $g(\\alpha \\mathbf{x}) = \\alpha g(\\mathbf{x})$\n",
    "\n",
    "* _Aditividad_. Para cualquier $n$-vector $\\mathbf{x}$ y $\\mathbf{y}$ tenemos que $g(\\mathbf{x}+\\mathbf{y}) = g(\\mathbf{x})+g(\\mathbf{y})$\n",
    "\n",
    "La homogeneidad nos dice que escalar el argumento es igual que escalar el valor de la función; la aditividad nos indica que sumar los argumentos es igual que sumar los valores de la función. "
   ]
  },
  {
   "cell_type": "markdown",
   "metadata": {},
   "source": [
    "**Probar si la funcion f(x) antes declarada es lineal**"
   ]
  },
  {
   "cell_type": "code",
   "execution_count": 119,
   "metadata": {},
   "outputs": [],
   "source": [
    "a = np.array([1,1,1,1])\n",
    "b = np.array([1,0,1,0])\n",
    "x,y = 1,-2"
   ]
  },
  {
   "cell_type": "code",
   "execution_count": 120,
   "metadata": {},
   "outputs": [
    {
     "name": "stdout",
     "output_type": "stream",
     "text": [
      "f(x*a + y*b) =  0\n"
     ]
    }
   ],
   "source": [
    "# principio de superposicion\n",
    "print('f(x*a + y*b) = ',f(x*a + y*b))"
   ]
  },
  {
   "cell_type": "code",
   "execution_count": 121,
   "metadata": {},
   "outputs": [
    {
     "name": "stdout",
     "output_type": "stream",
     "text": [
      "x*f(a) + y*f(b) = 0\n"
     ]
    }
   ],
   "source": [
    "# principio de superposicion\n",
    "print('x*f(a) + y*f(b) =',x*f(a) + y*f(b))"
   ]
  },
  {
   "cell_type": "markdown",
   "metadata": {},
   "source": [
    "La funcion f(x) cumple con el principio de superposicion"
   ]
  },
  {
   "cell_type": "markdown",
   "metadata": {},
   "source": [
    "**Probar si la funcion g(x) es lineal**"
   ]
  },
  {
   "cell_type": "code",
   "execution_count": 122,
   "metadata": {},
   "outputs": [],
   "source": [
    "# funcion que reciba un vector y devuelva la primera componente\n",
    "def g(x):\n",
    "    return x[0]"
   ]
  },
  {
   "cell_type": "code",
   "execution_count": 123,
   "metadata": {},
   "outputs": [],
   "source": [
    "# elementos a utilizar\n",
    "a = np.array([1,1,1,1])\n",
    "b = np.array([1,0,1,0])\n",
    "x,y = 1,-2"
   ]
  },
  {
   "cell_type": "code",
   "execution_count": 124,
   "metadata": {},
   "outputs": [
    {
     "name": "stdout",
     "output_type": "stream",
     "text": [
      "g(x*a + y*b) =  -1\n"
     ]
    }
   ],
   "source": [
    "# principio de superposicion\n",
    "print('g(x*a + y*b) = ',g(x*a + y*b))"
   ]
  },
  {
   "cell_type": "code",
   "execution_count": 125,
   "metadata": {},
   "outputs": [
    {
     "name": "stdout",
     "output_type": "stream",
     "text": [
      "x*g(a) + y*g(b) = -1\n"
     ]
    }
   ],
   "source": [
    "# principio de superposicion\n",
    "print('x*g(a) + y*g(b) =',x*g(a) + y*g(b))"
   ]
  },
  {
   "cell_type": "markdown",
   "metadata": {},
   "source": [
    "La funcion g(x) cumple con el principio de superposicion, por tanto, es lineal"
   ]
  },
  {
   "cell_type": "markdown",
   "metadata": {},
   "source": [
    "**Representación producto interno de una función lineal.** En matemáticas las verdades, cuando son verdades, se demuestran usando argumentos principalmente lógicos. Estas verdades vienen empaquetadas en _teoremas_, _corolarios_ y _lemas_. Si no podemos demostrarlo pero creemos que es verdad lo llamamos _conjetura_. Por ejemplo, consideremos el siguiente teorema:"
   ]
  },
  {
   "cell_type": "markdown",
   "metadata": {},
   "source": [
    "**Teorema.** Los ángulos a ambos lados de una recta, que intersecta a otra, siempre suman $180^\\circ$ \n",
    "\n",
    "![img](fl_1.png)"
   ]
  },
  {
   "cell_type": "markdown",
   "metadata": {},
   "source": [
    "*Demostración*: Supongamos que $\\alpha + \\beta \\neq 180$ eso quiere decir que $\\alpha + \\beta > 180$ o $\\alpha + \\beta < 180$. Ahora, pensemos en la linea **f** pasa por el diámetro, es decir, corta a la mitad al círculo. \n",
    "\n",
    "![](fl_t1.png)\n",
    "\n",
    "Al pasar por el diámetro sabemos que ambos lados tenemos un ángulo de $180^\\circ$. Llamemos a ese ángulo $\\Omega=180^\\circ$. Ahora, llamemos **g** a una línea que pase por otro diámetro. \n",
    "\n",
    "![](fl_t2.png)"
   ]
  },
  {
   "cell_type": "markdown",
   "metadata": {},
   "source": [
    "Entonces, al seccionar con **g** tenemos nuevamente los ángulos $\\alpha$ y $\\beta$ entonces tenemos que $\\alpha + \\beta = \\Omega$ pero asumimos que $\\alpha + \\beta \\neq 180^\\circ$ lo cuyal nos lleva a una contradicción $!$ por ello lo anteior debe ser cierto.  "
   ]
  },
  {
   "cell_type": "markdown",
   "metadata": {},
   "source": [
    "**Corolario.** Cuando dos líneas se intersectan los ángulos opuestos entre ellos son iguales.\n",
    "\n",
    "![](fl_2.png)"
   ]
  },
  {
   "cell_type": "markdown",
   "metadata": {},
   "source": [
    "*Demostración:* Sabemos que $\\beta + \\alpha = 180^\\circ$ entonces $\\alpha = 180^\\circ - \\beta$. Por otro lado, sabemos que también $\\gamma + \\beta = 180^\\circ$ así pues $\\gamma = 180^\\circ - \\beta$. Juntando lo anteior tenemos que:\n",
    "\n",
    "$$\n",
    "\\alpha  =  180^\\circ - \\beta = \\gamma\n",
    "$$\n",
    "\n",
    "Lo mismo es posible aplicarse para $\\beta$ y $\\delta$. **QED**. "
   ]
  },
  {
   "cell_type": "markdown",
   "metadata": {},
   "source": [
    "Ya explorados los teoremas y los corolarios veamos la siguiente proposición:  \n",
    "\n",
    "**Proposición:** Una función definida como el producto punto de sus argumentos y algún vector fijo es lineal. Lo inverso es también verdadero: si una función es lineal entonces puede ser expresada como el producto interno de sus argumentos y algún vector fijo."
   ]
  },
  {
   "cell_type": "markdown",
   "metadata": {},
   "source": [
    "Ahora, sea $f$ una función escalar de $n$-vectores que además es lineal. Entonces decimos que _existe_ un $n$-vector $\\mathbf{a}$ tal que $f(\\mathbf{x}) = \\mathbf{a}^{T}\\mathbf{x}$ para cualquier $\\mathbf{x}$. A la expresión $\\mathbf{a}^{T}\\mathbf{x}$ le llamaremos *representación producto punto* de $f$. "
   ]
  },
  {
   "cell_type": "markdown",
   "metadata": {},
   "source": [
    "Otra propiedad interesante es que la *representación producto punto* de $f$ como $\\mathbf{a}^{T}\\mathbf{x}$ es única. "
   ]
  },
  {
   "cell_type": "markdown",
   "metadata": {},
   "source": [
    "$ f(\\mathbf{x}) = \\displaystyle\\sum_{i}^{n-1} x_{i}$ si n=4 esto lo podemos expresar como $f(\\mathbf{x}) = \\mathbf{a}^{T}\\mathbf{x}$ donde:\n",
    "$$\n",
    "a^T = [1,1,1,1]\n",
    "$$"
   ]
  },
  {
   "cell_type": "markdown",
   "metadata": {},
   "source": [
    "**Promedio.** El promedio de una $n$-vector es definida como\n",
    "\n",
    "$$\n",
    "f(x) = (x_{0}+x_{1}+\\cdots+x_{n-1})/n\n",
    "$$\n",
    "\n",
    "Y se denota como $\\mathbf{avg}(x)$, notemos que este $\\mathbf{avg}(x) = a^{T}x$ con\n",
    "\n",
    "$$\n",
    "a^T = [1/n\\; 1/n\\; \\cdots \\; 1/n] = \\mathbf{1}/n\n",
    "$$"
   ]
  },
  {
   "cell_type": "markdown",
   "metadata": {},
   "source": [
    "**Máximo.** Para $n$-vectores $x$ la función que nos da el máximo coeficiente de un vector es $f(x)=max\\{x_{0},x_{1},\\dots,x_{n-1}\\}$ y no es lineal. Para demostrar esto voy a suponer que es lineal y dar un contra ejemplo. Si tomamos $x^T = [1,-1]$ y $y^T=[-1,1]$ con $\\alpha = 1/2$ y $\\beta = 1/2$. Entonces tenemos que:\n",
    "\n",
    "$$\n",
    "f(\\alpha x + \\beta y) = 0 \\neq \\alpha f(x) + \\beta f(y) = 1\n",
    "$$"
   ]
  },
  {
   "cell_type": "code",
   "execution_count": 126,
   "metadata": {},
   "outputs": [],
   "source": [
    "def MAX(x):\n",
    "    return np.max(x)"
   ]
  },
  {
   "cell_type": "code",
   "execution_count": 127,
   "metadata": {},
   "outputs": [
    {
     "name": "stdout",
     "output_type": "stream",
     "text": [
      "MAX([1,0,2]) =  2\n"
     ]
    }
   ],
   "source": [
    "print('MAX([1,0,2]) = ', MAX(np.array([1,0,2])))"
   ]
  },
  {
   "cell_type": "code",
   "execution_count": 128,
   "metadata": {},
   "outputs": [],
   "source": [
    "x = np.array([1,-1])\n",
    "y = np.array([-1,1])\n",
    "a,b = 1/2, 1/2"
   ]
  },
  {
   "cell_type": "code",
   "execution_count": 129,
   "metadata": {},
   "outputs": [
    {
     "name": "stdout",
     "output_type": "stream",
     "text": [
      "MAX(a*x + b*y) =  0.0\n"
     ]
    }
   ],
   "source": [
    "print('MAX(a*x + b*y) = ', MAX(a*x + b*y))"
   ]
  },
  {
   "cell_type": "code",
   "execution_count": 130,
   "metadata": {},
   "outputs": [
    {
     "name": "stdout",
     "output_type": "stream",
     "text": [
      "a*MAX(x) + b*MAX(y) =  1.0\n"
     ]
    }
   ],
   "source": [
    "print('a*MAX(x) + b*MAX(y) = ', a*MAX(x) + b*MAX(y))"
   ]
  },
  {
   "cell_type": "markdown",
   "metadata": {},
   "source": [
    "## 5.2 Algunas consideraciones"
   ]
  },
  {
   "cell_type": "markdown",
   "metadata": {},
   "source": [
    "**Funciones Afines.** Una función $f:\\mathbb{R}^{n} \\to \\mathbb{R}$ es afín si y solo si puede ser expresada como $f(x) = a^{T}x + b$ para algún $n$-vector $a$ y un escalar $b$, es llamado algunas veces *offset* o *bias*. Por ejemplo si consideramos la siguiente función:\n",
    "\n",
    "$$\n",
    "f(x) = 3 + x_{0}+x_{1}+x_{2}\n",
    "$$\n",
    "\n",
    "La podemos representar como \n",
    "\n",
    "$$\n",
    "f(x) = a^T x + b = [1 \\; 1 \\; 1] x + 3\n",
    "$$"
   ]
  },
  {
   "cell_type": "markdown",
   "metadata": {},
   "source": [
    "Una función afín cumplirá la superposición si y solo si la suma de de los coeficientes de la combinación lineal es uno. Es decir, si $f$ es una función afín entonces $f(\\alpha x + \\beta y) = \\alpha f(x)+ \\beta f(y)$ si y solo si $  \\alpha + \\beta = 1$.\n",
    "\n",
    "*Demostración.* Como $f$ es afín tenemos que $f(x)=a^T x + b$  entonces, usando que $  \\alpha + \\beta = 1$\n",
    "\n",
    "$$\n",
    "\\begin{align}\n",
    "f(\\alpha x + \\beta y) &=& a^T (\\alpha x + \\beta y) + b \\\\\n",
    " &=& a^T \\alpha x + a^T \\beta y + (\\alpha + \\beta) b \\\\\n",
    " &=& \\alpha a^T x + \\alpha b + \\beta a^T y + \\beta b \\\\\n",
    " &=& \\alpha (a^T x + b) + \\beta (a^T y + b) \\\\\n",
    " &=& \\alpha f(x) + \\beta f(y)\n",
    "\\end{align}\n",
    "$$"
   ]
  },
  {
   "cell_type": "markdown",
   "metadata": {},
   "source": [
    "## Ejercicios"
   ]
  },
  {
   "cell_type": "markdown",
   "metadata": {},
   "source": [
    "**Ejercicio.** Determina si las siguientes funciones son lineales o no:\n",
    "* $f(\\mathbf{x}) = x_{n-1} - x_{0}$\n",
    "\n",
    "* Si $\\mathbf{x}\\in\\mathbb{R}^{4}$ y $f:\\mathbb{R}^{4} \\to \\mathbb{R}$ definida como $f(\\mathbf{x})=x_{3}+(x_{3}-x_{2})$"
   ]
  },
  {
   "cell_type": "markdown",
   "metadata": {},
   "source": [
    "**Problema: Potencia en un clúster de procesadores y temperatura.** La temperatura $T$ de un cluster de tres procesadores es una función afín de la potencia de los procesadores $P^T = [P_{0}\\; P_{1}\\; P_{2}]$. Cuando los tres procesadores están en reposo tenemos que $P^T = [10\\; 10\\; 10]$ lo cual nos da una temperatura de $T=35$. Cuando el primer procesador opera a potencia absoluta tenemos que $P^T = [100\\; 10\\; 10]$ y la temperatura se eleva a $T=60$. Cuando el segundo procesador opera a su máxima capacidad tenemos $P^T = [10\\; 100\\; 10]$ y la temperatura se eleva a $T=75$. Cuando el tercer procesador opera a máxima potencia mientras que los otros dos están en reposo tenemos que $P^T = [10\\; 10\\; 100]$ y la temperatura se elevea a $T=65$. Supongamos que los tres procesadores operan a máxima potencia ¿Qué temperatura se alcanza? La temperatura de fusión de los procesadores (a la que los procesadores se derriten) es cerca de $150$ ¿Cuál es la potencia máxima que pueden alcanzar los procesadores para que $T\\le 150$?  \n",
    "*Hint:* $T(P) = a^T P + b$"
   ]
  },
  {
   "cell_type": "markdown",
   "metadata": {},
   "source": [
    "-----"
   ]
  },
  {
   "cell_type": "markdown",
   "metadata": {},
   "source": [
    "1. $f(\\mathbf{x}) = x_{n-1} - x_{0}$"
   ]
  },
  {
   "cell_type": "code",
   "execution_count": 131,
   "metadata": {},
   "outputs": [],
   "source": [
    "# Definimos la funcion\n",
    "def f(x):\n",
    "    return x[-1] - x[0] "
   ]
  },
  {
   "cell_type": "code",
   "execution_count": 132,
   "metadata": {},
   "outputs": [],
   "source": [
    "# elementos a utilizar\n",
    "a = np.array([1,1,1,1])\n",
    "b = np.array([1,0,1,0])\n",
    "x,y = 1,-2"
   ]
  },
  {
   "cell_type": "code",
   "execution_count": 133,
   "metadata": {},
   "outputs": [
    {
     "data": {
      "text/plain": [
       "-1"
      ]
     },
     "execution_count": 133,
     "metadata": {},
     "output_type": "execute_result"
    }
   ],
   "source": [
    "# probar la funcion\n",
    "f(b)"
   ]
  },
  {
   "cell_type": "code",
   "execution_count": 134,
   "metadata": {},
   "outputs": [
    {
     "name": "stdout",
     "output_type": "stream",
     "text": [
      "f(a*x + b*y) =  2\n"
     ]
    }
   ],
   "source": [
    "# principio de superposicion\n",
    "print('f(a*x + b*y) = ', f(a*x + b*y))"
   ]
  },
  {
   "cell_type": "code",
   "execution_count": 135,
   "metadata": {},
   "outputs": [
    {
     "name": "stdout",
     "output_type": "stream",
     "text": [
      "x*f(a) + y*f(b) =  2\n"
     ]
    }
   ],
   "source": [
    "# principio de superposicion\n",
    "print('x*f(a) + y*f(b) = ', x*f(a) + y*f(b))"
   ]
  },
  {
   "cell_type": "markdown",
   "metadata": {},
   "source": [
    "Como ambos resultados son correctos, la funcion f(x) es lineal"
   ]
  },
  {
   "cell_type": "markdown",
   "metadata": {},
   "source": [
    "-----"
   ]
  },
  {
   "cell_type": "markdown",
   "metadata": {},
   "source": [
    "2. Si $\\mathbf{x}\\in\\mathbb{R}^{4}$ y $f:\\mathbb{R}^{4} \\to \\mathbb{R}$ definida como $f(\\mathbf{x})=x_{3}+(x_{3}-x_{2})$"
   ]
  },
  {
   "cell_type": "code",
   "execution_count": 136,
   "metadata": {},
   "outputs": [],
   "source": [
    "# definimos la funcion\n",
    "def f4(x):\n",
    "    return x[3] + (x[3] - x[2])"
   ]
  },
  {
   "cell_type": "code",
   "execution_count": 137,
   "metadata": {},
   "outputs": [],
   "source": [
    "# elementos a utilizar\n",
    "a = np.array([0,1,1,0])\n",
    "b = np.array([1,0,1,0])\n",
    "x,y = 1,-2"
   ]
  },
  {
   "cell_type": "code",
   "execution_count": 138,
   "metadata": {},
   "outputs": [
    {
     "data": {
      "text/plain": [
       "-1"
      ]
     },
     "execution_count": 138,
     "metadata": {},
     "output_type": "execute_result"
    }
   ],
   "source": [
    "# probamos la funcion\n",
    "f4(a)"
   ]
  },
  {
   "cell_type": "code",
   "execution_count": 139,
   "metadata": {},
   "outputs": [
    {
     "name": "stdout",
     "output_type": "stream",
     "text": [
      "f(a*x + b*y) =  1\n"
     ]
    }
   ],
   "source": [
    "# principio de superposicion\n",
    "print('f(a*x + b*y) = ', f4(a*x + b*y))"
   ]
  },
  {
   "cell_type": "code",
   "execution_count": 140,
   "metadata": {},
   "outputs": [
    {
     "name": "stdout",
     "output_type": "stream",
     "text": [
      "x*f(a) + y*f(b) =  1\n"
     ]
    }
   ],
   "source": [
    "# principio de superposicion\n",
    "print('x*f(a) + y*f(b) = ', x*f4(a) + y*f4(b))"
   ]
  },
  {
   "cell_type": "markdown",
   "metadata": {},
   "source": [
    "Como ambos resultado son inguales indica que cumple con el principio de superposicion, por tanto, es lineal"
   ]
  },
  {
   "cell_type": "markdown",
   "metadata": {},
   "source": [
    "------"
   ]
  },
  {
   "cell_type": "markdown",
   "metadata": {},
   "source": [
    "3.- *Resolucion del Problema*: sabemos que la temperatura es una funcion afin por lo que se puede formular el problema de la siguiente forma\n",
    "\n",
    "$$T(P) = a^T P + b$$\n",
    "\n",
    "Dado que $P$ es un vector en $\\mathbb{R}^{3}$, la expresion anterior se puede ver como:\n",
    "\n",
    "$$\n",
    "T(P) = [a_{0},a_{1},a_{2}] \\begin{bmatrix}P_{0}\\\\ P_{1}\\\\P_{2}\\end{bmatrix} + b = a_{0}P_{0}+a_{1}P_{1}+a_{2}P_{2} + b\n",
    "$$\n",
    "\n",
    "Ahora tenemos un sistema de 4 ecuaciones con 4 incognitas:\n",
    "* $10a_{0}+10a_{1}+10a_{2}+b=35$\n",
    "* $100a_{0}+10a_{1}+10a_{2}+b=60$\n",
    "* $10a_{0}+100a_{1}+10a_{2}+b=75$\n",
    "* $10a_{0}+10a_{1}+100a_{2}+b=65$\n",
    "\n",
    "Procedemos a resolver con Numpy\n"
   ]
  },
  {
   "cell_type": "code",
   "execution_count": 141,
   "metadata": {},
   "outputs": [
    {
     "data": {
      "text/plain": [
       "array([ 0.27777778,  0.44444444,  0.33333333, 24.44444444])"
      ]
     },
     "execution_count": 141,
     "metadata": {},
     "output_type": "execute_result"
    }
   ],
   "source": [
    "# construimos una matriz con los coeficientes del sistema de ecuacion\n",
    "A = np.array([[10,10,10,1], [100,10,10,1], [10,100,10,1], [10,10,100,1]])\n",
    "\n",
    "# vector con las soluciones del sistema de ecuacion\n",
    "b = np.array([35,60,75,65])\n",
    "\n",
    "# vectos solucion. Primer parametro la matriz, segundo parametro las soluciones\n",
    "a = np.linalg.solve(A,b)\n",
    "\n",
    "# los primeros 3 elementos corresponden a los coeficientes de 'a^T' \n",
    "# el ultimo elemento corresponde a 'b'\n",
    "a"
   ]
  },
  {
   "cell_type": "code",
   "execution_count": 142,
   "metadata": {},
   "outputs": [
    {
     "name": "stdout",
     "output_type": "stream",
     "text": [
      "[0.27777778 0.44444444 0.33333333]\n",
      "24.444444444444443\n"
     ]
    }
   ],
   "source": [
    "# asignamos los elementos de la lista 'a' a nuevas variables\n",
    "b = a[3]\n",
    "a = a[:3]\n",
    "print(a)\n",
    "print(b)"
   ]
  },
  {
   "cell_type": "code",
   "execution_count": 143,
   "metadata": {},
   "outputs": [],
   "source": [
    "# ahora, definimos una funcion que resuma la formula anterior\n",
    "def T(P):\n",
    "    return a.dot(P) + b"
   ]
  },
  {
   "cell_type": "code",
   "execution_count": 144,
   "metadata": {},
   "outputs": [
    {
     "name": "stdout",
     "output_type": "stream",
     "text": [
      "T([10,10,10]) =  35.0\n",
      "T([100,10,10]) =  60.0\n",
      "T([10,100,10]) =  75.0\n",
      "T([10,10,100]) =  65.0\n"
     ]
    }
   ],
   "source": [
    "# Validamos que los resultados encontrados sean correctos al pasarlos\n",
    "# a la formula y ver que las soluciones sean las mismas\n",
    "print('T([10,10,10]) = ',T(np.array([10,10,10])))\n",
    "print('T([100,10,10]) = ',T(np.array([100,10,10])))\n",
    "print('T([10,100,10]) = ',T(np.array([10,100,10])))\n",
    "print('T([10,10,100]) = ',T(np.array([10,10,100])))"
   ]
  },
  {
   "cell_type": "markdown",
   "metadata": {},
   "source": [
    "Supongamos que los tres procesadores operan a máxima potencia ¿Qué temperatura se alcanza?"
   ]
  },
  {
   "cell_type": "code",
   "execution_count": 145,
   "metadata": {},
   "outputs": [
    {
     "name": "stdout",
     "output_type": "stream",
     "text": [
      "T([100,100,100]) =  130.0\n"
     ]
    }
   ],
   "source": [
    "print('T([100,100,100]) = ', a.dot(np.array([100,100,100])) + b)"
   ]
  },
  {
   "cell_type": "markdown",
   "metadata": {},
   "source": [
    "La temperatura de fusión de los procesadores (a la que los procesadores se derriten) es cerca de  150  ¿Cuál es la potencia máxima que pueden alcanzar los procesadores para que  T≤150 ?"
   ]
  },
  {
   "cell_type": "markdown",
   "metadata": {},
   "source": [
    "Asumimos que la temperatura maxima de los 3 procesadores es la misma con una tolerancia es de 0.01 y que la potencia minima es de 100"
   ]
  },
  {
   "cell_type": "code",
   "execution_count": 150,
   "metadata": {},
   "outputs": [],
   "source": [
    "tol = 0.01\n",
    "min = float(100)\n",
    "max = 150"
   ]
  },
  {
   "cell_type": "code",
   "execution_count": 151,
   "metadata": {},
   "outputs": [
    {
     "data": {
      "text/plain": [
       "array([118.95, 118.95, 118.95])"
      ]
     },
     "execution_count": 151,
     "metadata": {},
     "output_type": "execute_result"
    }
   ],
   "source": [
    "# definimos la potencia de inicio\n",
    "P = np.array([min,min,min])\n",
    "\n",
    "# buscamos los valores de Potencia que no superen los 150 de temperatura\n",
    "while T(P) <= max:\n",
    "    max_potencia = P\n",
    "    P += tol\n",
    "\n",
    "max_potencia"
   ]
  }
 ],
 "metadata": {
  "kernelspec": {
   "display_name": "Python 3",
   "language": "python",
   "name": "python3"
  },
  "language_info": {
   "codemirror_mode": {
    "name": "ipython",
    "version": 3
   },
   "file_extension": ".py",
   "mimetype": "text/x-python",
   "name": "python",
   "nbconvert_exporter": "python",
   "pygments_lexer": "ipython3",
   "version": "3.9.12"
  }
 },
 "nbformat": 4,
 "nbformat_minor": 4
}
