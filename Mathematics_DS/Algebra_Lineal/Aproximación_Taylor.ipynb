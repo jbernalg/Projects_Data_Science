{
 "cells": [
  {
   "cell_type": "markdown",
   "metadata": {},
   "source": [
    "# 6. Aproximación de Taylor"
   ]
  },
  {
   "cell_type": "markdown",
   "metadata": {},
   "source": [
    "La mayoría de los fenómenos de la realidad solo pueden ser aproximados a través de funciones no-lineales y algunas veces es más sencillo aproximarnos con funciones afines o lineales.   "
   ]
  },
  {
   "cell_type": "markdown",
   "metadata": {},
   "source": [
    "En este caso nos referiremos a la aproximación como *modelo* para recordar que la aproximación es solamente eso, una aproximación."
   ]
  },
  {
   "cell_type": "markdown",
   "metadata": {},
   "source": [
    "Ahora, el cálculo diferencial nos otorga una forma organizada de encontrar ese modelo. Supongamos entonces que $f:\\mathbf{R}^{n} \\to \\mathbf{R}$ es una función diferenciable, sea también $\\mathbf{z}$ un $n$-vector. La aproximación de Taylor de primer orden de $f$ cerca del punto $\\mathbf{z}$ es la función\n",
    "\n",
    "$$\n",
    "\\hat{f}(\\mathbf{x}) = f(\\mathbf{z}) + \\displaystyle\\frac{\\partial}{\\partial x_{0}} f(\\mathbf{z})(x_{0}-z_{0}) + \\displaystyle\\frac{\\partial}{\\partial x_{1}} f(\\mathbf{z})(x_{1}-z_{1}) + \\cdots + \\displaystyle\\frac{\\partial}{\\partial x_{n-1}} f(\\mathbf{z})(x_{n-1}-z_{n-1})\n",
    "$$\n",
    "\n",
    "Donde $\\displaystyle\\frac{\\partial}{\\partial x_{i}}f(\\mathbf{z})$ denota la derivada parcial de $f$ evaluada en el vector $\\mathbf{z}$ respecto al i-ésimo argumento. "
   ]
  },
  {
   "cell_type": "markdown",
   "metadata": {},
   "source": [
    "Algunas veces $\\hat{f}(\\mathbf{z})$ también se escribe como $\\hat{f}(\\mathbf{x};\\mathbf{z})$ o también $\\hat{f}_{\\mathbf{z}}(\\mathbf{x})$ para mostrar en qué punto se evalúa o respecto al que se está desarrollando. "
   ]
  },
  {
   "cell_type": "markdown",
   "metadata": {},
   "source": [
    "Notemos que \n",
    "\n",
    "$$\n",
    "\\hat{f}(\\mathbf{x}) = f(\\mathbf{z}) + \\nabla f(\\mathbf{z})^{T} (\\mathbf{x}-\\mathbf{z})\n",
    "$$\n",
    "\n",
    "Donde $\\nabla f(\\mathbf{z})$  representa el vector gradiente\n",
    "\n",
    "$$\n",
    "\\nabla f(\\mathbf{z}) = \\begin{bmatrix}\\displaystyle\\frac{\\partial f}{\\partial x_{0}}(\\mathbf{z}) \\\\ \\displaystyle\\frac{\\partial f}{\\partial x_{1}}(\\mathbf{z})\\\\ \\vdots \\\\ \\displaystyle\\frac{\\partial f}{\\partial x_{n-1}}(\\mathbf{z}) \\end{bmatrix}\n",
    "$$\n",
    "\n",
    "Notemos que le primer término de la aproximación es la constante $f(\\mathbf{z})$ (esto es la función $f(\\mathbf{x})$ evaluada en $\\mathbf{z}$). El segundo término es el prodcuto itnerno del vector gradiente de $f$ en $\\mathbf{z}$ y la *desviación* o *perturbación* de $\\mathbf{x}$ por parte de $\\mathbf{z}$, el $n$-vector $(\\mathbf{x}-\\mathbf{z})$."
   ]
  },
  {
   "cell_type": "markdown",
   "metadata": {},
   "source": [
    "La aproximación de primer orden de Taylor nos da una forma de consturir una función afín que aproximará la función $f: \\mathbf{R}^{n} \\to \\mathbf{R}$ alrededor del punto $\\mathbf{z}$, siempre y cuando exista una forma explícita  de la función $f$ y sea diferenciable. "
   ]
  },
  {
   "cell_type": "markdown",
   "metadata": {},
   "source": [
    "## 6.1 Breves ejemplos"
   ]
  },
  {
   "cell_type": "markdown",
   "metadata": {},
   "source": [
    "**Ejemplo 1.** Considera la función $f:\\mathbf{R}^{2}\\to \\mathbf{R}$ dada por $f(\\mathbf{x}) = x_{0}+\\exp{(x_{1}-x_{0})}$ la cual no es lineal ni afín. Para encontrar una aproximación de Taylor $\\hat{f}$ cerca del punto $\\mathbf{z}^{T} = [1 \\; 2]$. Tenemos que el vector gradiente en este caso será:\n",
    "\n",
    "$$\n",
    "\\nabla f(\\mathbf{z}) = \\begin{bmatrix}\\displaystyle\\frac{\\partial f}{\\partial x_{0}}(\\mathbf{z}) \\\\ \\displaystyle\\frac{\\partial f}{\\partial x_{1}}(\\mathbf{z})\\end{bmatrix} = \\begin{bmatrix} 1 - \\exp{(z_{1}-z_{0})} \\\\ \\exp{(z_{1}-z_{0})} \\end{bmatrix}\n",
    "$$\n",
    "\n",
    "Ahora vamos a evaluar $\\nabla f(\\mathbf{z})$ en el vector $\\mathbf{z}^{T} = [1 \\; 2]$"
   ]
  },
  {
   "cell_type": "code",
   "execution_count": 3,
   "metadata": {},
   "outputs": [],
   "source": [
    "import numpy as np"
   ]
  },
  {
   "cell_type": "code",
   "execution_count": 4,
   "metadata": {},
   "outputs": [],
   "source": [
    "def gradF(z):\n",
    "    return np.array([1-np.exp(z[1]-z[0]),np.exp(z[1]-z[0])])"
   ]
  },
  {
   "cell_type": "code",
   "execution_count": 5,
   "metadata": {},
   "outputs": [
    {
     "name": "stdout",
     "output_type": "stream",
     "text": [
      "grad(f)[1,2] =  [-1.71828183  2.71828183]\n"
     ]
    }
   ],
   "source": [
    "z = np.array([1,2])\n",
    "print('grad(f)[1,2] = ', gradF(z))"
   ]
  },
  {
   "cell_type": "markdown",
   "metadata": {},
   "source": [
    "Ahora vamos a programar la función $f$."
   ]
  },
  {
   "cell_type": "code",
   "execution_count": 6,
   "metadata": {},
   "outputs": [],
   "source": [
    "def F(x):\n",
    "    return x[0] + np.exp(x[1]-x[0])"
   ]
  },
  {
   "cell_type": "code",
   "execution_count": 7,
   "metadata": {},
   "outputs": [
    {
     "name": "stdout",
     "output_type": "stream",
     "text": [
      "f([1,2]) = 3.718281828459045\n"
     ]
    }
   ],
   "source": [
    "print('f([1,2]) =',F(z))"
   ]
  },
  {
   "cell_type": "markdown",
   "metadata": {},
   "source": [
    "Así pues, nuestro aproximación de Taylor a primer orden será:"
   ]
  },
  {
   "cell_type": "code",
   "execution_count": 8,
   "metadata": {},
   "outputs": [],
   "source": [
    "def taylor_F(x,z):\n",
    "    fz = F(z)\n",
    "    gz = gradF(z)\n",
    "    return fz + gz@(x-z)"
   ]
  },
  {
   "cell_type": "markdown",
   "metadata": {},
   "source": [
    "Para corroborar que nuestra aproximación es correcta si la evaluamos en $x=z$ deberíamos de obtener que $\\hat{f}(\\mathbf{z})=f(\\mathbf{z})$"
   ]
  },
  {
   "cell_type": "code",
   "execution_count": 9,
   "metadata": {},
   "outputs": [
    {
     "name": "stdout",
     "output_type": "stream",
     "text": [
      "taylor_F([1,2],[1,2]) =  3.718281828459045\n"
     ]
    }
   ],
   "source": [
    "print('taylor_F([1,2],[1,2]) = ',taylor_F(z,z))"
   ]
  },
  {
   "cell_type": "markdown",
   "metadata": {},
   "source": [
    "Esto significa que lo hicimos bien, nuestra aproximación viene dada por\n",
    "\n",
    "$$\n",
    "\\hat{f}(\\mathbf{x}) = 3.7183 + [-1.72\\; 2.72]\\begin{bmatrix}x_{0}-1\\\\ x_{1}-2\\end{bmatrix}\n",
    "$$"
   ]
  },
  {
   "cell_type": "markdown",
   "metadata": {},
   "source": [
    "**Ejercicio 2.** Para tener un mejor idea de lo que significa hacer una aproximación lineal vamos a realizar la aproximación de una función unidimensional\n",
    "\n",
    "$$\n",
    "f(x) = x^{2} - x^{3}\n",
    "$$\n",
    "\n",
    "Con lo que obtenemos\n",
    "\n",
    "$$\n",
    "\\nabla f(z) = 2z - 3z^{2}\n",
    "$$\n",
    "\n",
    "Ahora, si lo aproximamos en $z=0.4$. "
   ]
  },
  {
   "cell_type": "code",
   "execution_count": 10,
   "metadata": {},
   "outputs": [],
   "source": [
    "def df(z):\n",
    "    return 2*z - 3*z**2"
   ]
  },
  {
   "cell_type": "code",
   "execution_count": 11,
   "metadata": {},
   "outputs": [],
   "source": [
    "def tf(x,z):\n",
    "    return f(z) + df(z)*(x-z)"
   ]
  },
  {
   "cell_type": "code",
   "execution_count": 12,
   "metadata": {},
   "outputs": [],
   "source": [
    "def f(x):\n",
    "    return x**2 - x**3"
   ]
  },
  {
   "cell_type": "code",
   "execution_count": 13,
   "metadata": {},
   "outputs": [
    {
     "name": "stdout",
     "output_type": "stream",
     "text": [
      "f(0.4) = 0.09600000000000002\n"
     ]
    }
   ],
   "source": [
    "print('f(0.4) =',f(0.4))"
   ]
  },
  {
   "cell_type": "code",
   "execution_count": 14,
   "metadata": {},
   "outputs": [
    {
     "name": "stdout",
     "output_type": "stream",
     "text": [
      "Df(0.4) = 0.31999999999999995\n"
     ]
    }
   ],
   "source": [
    "print('Df(0.4) =',df(0.4))"
   ]
  },
  {
   "cell_type": "markdown",
   "metadata": {},
   "source": [
    "Usando los resultados anteriores tenemos que la aproximación de Taylor es\n",
    "\n",
    "$$\n",
    "\\hat{f}(x) = 0.09600000000000002 + 0.31999999999999995 * (x - 0.4)\n",
    "$$\n"
   ]
  },
  {
   "cell_type": "code",
   "execution_count": 15,
   "metadata": {},
   "outputs": [],
   "source": [
    "import matplotlib.pyplot as plt #Biblioteca con funciones para visualizar"
   ]
  },
  {
   "cell_type": "code",
   "execution_count": 16,
   "metadata": {},
   "outputs": [
    {
     "data": {
      "image/png": "[encoded data removed]",
      "text/plain": [
       "<Figure size 840x840 with 1 Axes>"
      ]
     },
     "metadata": {
      "needs_background": "light"
     },
     "output_type": "display_data"
    }
   ],
   "source": [
    "%matplotlib inline\n",
    "fig, ax = plt.subplots(1,1,figsize=(7,7),dpi=120)\n",
    "\n",
    "x = np.linspace(0,1,1000)\n",
    "taf = lambda x:tf(x,0.4)\n",
    "\n",
    "ax.plot(x,f(x),label='original')\n",
    "ax.plot(x,taf(x),label='aproximación')\n",
    "ax.scatter(0.4,f(0.4),color='red')\n",
    "ax.legend()\n",
    "plt.show()"
   ]
  },
  {
   "cell_type": "markdown",
   "metadata": {},
   "source": [
    "Ahora vamos a calcular algunas diferencias y errores de la aproximación"
   ]
  },
  {
   "cell_type": "code",
   "execution_count": 17,
   "metadata": {},
   "outputs": [
    {
     "name": "stdout",
     "output_type": "stream",
     "text": [
      "x = 0.3, f(x) = 0.063, Taylor f(x) = 0.064, |f(x) - Taylor f(x)| = 0.0010000000000000009\n"
     ]
    }
   ],
   "source": [
    "print('x = {}, f(x) = {}, Taylor f(x) = {}, |f(x) - Taylor f(x)| = {}'.format(0.3,f(0.3),taf(0.3),np.abs(f(0.3)-taf(0.3))))"
   ]
  },
  {
   "cell_type": "code",
   "execution_count": 18,
   "metadata": {},
   "outputs": [
    {
     "name": "stdout",
     "output_type": "stream",
     "text": [
      "x = 0.35, f(x) = 0.079625, Taylor f(x) = 0.08, |f(x) - Taylor f(x)| = 0.00037500000000000033\n"
     ]
    }
   ],
   "source": [
    "print('x = {}, f(x) = {}, Taylor f(x) = {}, |f(x) - Taylor f(x)| = {}'.format(0.35,f(0.35),taf(0.35),np.abs(f(0.35)-taf(0.35))))"
   ]
  },
  {
   "cell_type": "code",
   "execution_count": 19,
   "metadata": {},
   "outputs": [
    {
     "name": "stdout",
     "output_type": "stream",
     "text": [
      "x = 0.4, f(x) = 0.09600000000000002, Taylor f(x) = 0.09600000000000002, |f(x) - Taylor f(x)| = 0.0\n"
     ]
    }
   ],
   "source": [
    "print('x = {}, f(x) = {}, Taylor f(x) = {}, |f(x) - Taylor f(x)| = {}'.format(0.4,f(0.4),taf(0.4),np.abs(f(0.4)-taf(0.4))))"
   ]
  },
  {
   "cell_type": "code",
   "execution_count": 20,
   "metadata": {},
   "outputs": [
    {
     "name": "stdout",
     "output_type": "stream",
     "text": [
      "x = 0.45, f(x) = 0.111375, Taylor f(x) = 0.11200000000000002, |f(x) - Taylor f(x)| = 0.0006250000000000144\n"
     ]
    }
   ],
   "source": [
    "print('x = {}, f(x) = {}, Taylor f(x) = {}, |f(x) - Taylor f(x)| = {}'.format(0.45,f(0.45),taf(0.45),np.abs(f(0.45)-taf(0.45))))"
   ]
  },
  {
   "cell_type": "code",
   "execution_count": 21,
   "metadata": {},
   "outputs": [
    {
     "name": "stdout",
     "output_type": "stream",
     "text": [
      "x = 0.5, f(x) = 0.125, Taylor f(x) = 0.128, |f(x) - Taylor f(x)| = 0.0030000000000000027\n"
     ]
    }
   ],
   "source": [
    "print('x = {}, f(x) = {}, Taylor f(x) = {}, |f(x) - Taylor f(x)| = {}'.format(0.5,f(0.5),taf(0.5),np.abs(f(0.5)-taf(0.5))))"
   ]
  },
  {
   "cell_type": "code",
   "execution_count": 22,
   "metadata": {},
   "outputs": [
    {
     "name": "stdout",
     "output_type": "stream",
     "text": [
      "x = 0.8, f(x) = 0.128, Taylor f(x) = 0.22399999999999998, |f(x) - Taylor f(x)| = 0.09599999999999997\n"
     ]
    }
   ],
   "source": [
    "print('x = {}, f(x) = {}, Taylor f(x) = {}, |f(x) - Taylor f(x)| = {}'.format(0.8,f(0.8),taf(0.8),np.abs(f(0.8)-taf(0.8))))"
   ]
  }
 ],
 "metadata": {
  "kernelspec": {
   "display_name": "Python 3",
   "language": "python",
   "name": "python3"
  },
  "language_info": {
   "codemirror_mode": {
    "name": "ipython",
    "version": 3
   },
   "file_extension": ".py",
   "mimetype": "text/x-python",
   "name": "python",
   "nbconvert_exporter": "python",
   "pygments_lexer": "ipython3",
   "version": "3.7.3"
  }
 },
 "nbformat": 4,
 "nbformat_minor": 4
}
