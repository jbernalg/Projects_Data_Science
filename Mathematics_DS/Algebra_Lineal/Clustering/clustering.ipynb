{
 "cells": [
  {
   "cell_type": "markdown",
   "metadata": {},
   "source": [
    "# 10. Clustering"
   ]
  },
  {
   "cell_type": "markdown",
   "metadata": {},
   "source": [
    "Acá va a ser donde todo el conocimiento que adquirimos hasta ahora se va a juntar. "
   ]
  },
  {
   "cell_type": "markdown",
   "metadata": {},
   "source": [
    "Lo que vamos a hacer es tratar de _clusterizar_ una colección de vectores en grupos o clústers de vectores que son los que estarán cerca unos de otros y todo a través de medir las distancias a pares. "
   ]
  },
  {
   "cell_type": "markdown",
   "metadata": {},
   "source": [
    "Supongamos que tenemos un grupo de $N$ $n$-vectores $x_{0},x_{1},\\dots,x_{N-1}$. El objetivo de _clustering_ es agrupar (si es posible) en $k$ grupos los vectores tal que dentro de esos grupos estén lo más cerca posible unos de otros. "
   ]
  },
  {
   "cell_type": "markdown",
   "metadata": {},
   "source": [
    "![](fig1.png)"
   ]
  },
  {
   "cell_type": "markdown",
   "metadata": {},
   "source": [
    "  "
   ]
  },
  {
   "cell_type": "markdown",
   "metadata": {},
   "source": [
    "## 10.1 El objetivo de clustering"
   ]
  },
  {
   "cell_type": "markdown",
   "metadata": {},
   "source": [
    "**Específicar el asignamiento de clúster**. Uno de los primeros problemas es asignar a una serie de vectores un clúster. Ahora, para empezar, vamos a partir teniendo las etiquetas $1,2,\\dots,k$ que representan los clusters o grupos y estas etiquetas se las vamos a asignar a nuestros $N$ vectores usando al $N$-vector $c$, donde $c_{i}$ va a representar el grupo al que el vector $x_{i}$ está asignado. Por ejemplo, si $N=6$ y $k=3$, y además $c^{T} = [3,1,1,1,2,2]$ entonces esto significa que el vector $x_{0}$ quedará asignado al grupo $3$, los vectores $x_{1},x_{2},x_{3}$ estarán asignados al grupo $1$ y los vectores $x_{4},x_{5}$ quedarán asignados al grupo 2. Ahora, una forma alternativa de expresar esto es con conjuntos de los index de los vectores. Vamos a denotar como $G_{i}$ al grupo $i$ de indices de vectores que pertenecen a cada grupo. Continuando nuestro ejemplo entonces tenemos que\n",
    "\n",
    "$$\n",
    "G_{1} = \\{1,2,3\\}, \\qquad G_{2} = \\{4,5\\}, \\qquad G_{3} = \\{0\\}\n",
    "$$"
   ]
  },
  {
   "cell_type": "markdown",
   "metadata": {},
   "source": [
    "**Representativos de un grupo.** Ahora, consideremos de nuevo que tenemos $k$ grupos, a cada uno de estos grupos le vamos a asignar un vector representativo, el cual vamos a denotar por $z_{1},z_{2},\\dots,z_{k}$. Estos vectores representativos pueden ser cualquier vector, no tience que ser necesariamente uno de los vectores dados sin embargo tiene que ser tal que la distancia de este $z_{i}$ a todos los otros vectores del grupo sea la mínima."
   ]
  },
  {
   "cell_type": "markdown",
   "metadata": {},
   "source": [
    "**Un objetivo de clustering.** Ahora bien, ya que definimos lo anterior podemos dar una métrica que nos ayude a juzgar la elección de un clúster en conjunto con los representativos de cada grupo. Definimos entonces:\n",
    "\n",
    "$$\n",
    "J^{clust} = (||x_{0}-z_{c_{1}}||^{2}+\\cdots+||x_{N-1}-z_{c_{N}}||^{2})/N\n",
    "$$"
   ]
  },
  {
   "cell_type": "markdown",
   "metadata": {},
   "source": [
    "**Clustering óptimo y subóptimo.** Nosotros vamos a buscar un clustering, es decir, un asignamiento de cluster $c_{1},c_{2},\\dots,c_{N}$ y vamos a elegir unos representativos $z_{1},z_{2},\\dots,z_{N}$ que minimicen el objetivo $J^{clust}$. Al que nos retorne el $J^{clust}$ mínimo le vamos a llamar clustering óptimo. Aunque no existe tal solución lo que vamos a hacer es aproximarla por medio del algoritmo *k-means*, a esta solución le llamaremos *subóptima* y aunque no es solución exacta del problema es lo sufientemente buena para poder trabajar con ella. "
   ]
  },
  {
   "cell_type": "markdown",
   "metadata": {},
   "source": [
    "## 10.2 El algoritmo K-Means"
   ]
  },
  {
   "cell_type": "markdown",
   "metadata": {},
   "source": [
    "**ALGORITMO** Algoritmo K-Means  \n",
    "**iniciar** Se da una lista de $N$ vectores y una lista de $k$ vectores representativos $z_{1},z_{2},\\dots,z_{k}$  \n",
    "\n",
    "repetir hasta la convergencia:\n",
    "1. *Parte los vectores en k-grupos*. Para cada vector $i=0,\\dots,N-1$, asigna  $x_{i}$ a un grupo asociado con su representativo más cercano. \n",
    "2. *Actualiza los representativos de cada cluster*. Para cada grupo $1,\\dots, k$ selecciona $z_{j}$ como el promedio de los vectores del grupo $j$."
   ]
  },
  {
   "cell_type": "markdown",
   "metadata": {},
   "source": [
    "![](it1.png)"
   ]
  },
  {
   "cell_type": "markdown",
   "metadata": {},
   "source": [
    "![](it2.png)"
   ]
  },
  {
   "cell_type": "markdown",
   "metadata": {},
   "source": [
    "![](it3.png)"
   ]
  },
  {
   "cell_type": "markdown",
   "metadata": {},
   "source": [
    "![](it4.png)"
   ]
  },
  {
   "cell_type": "markdown",
   "metadata": {},
   "source": [
    "![](it5.png)"
   ]
  },
  {
   "cell_type": "markdown",
   "metadata": {},
   "source": [
    "**Ejemplo de Cluster**"
   ]
  },
  {
   "cell_type": "code",
   "execution_count": 1,
   "metadata": {},
   "outputs": [],
   "source": [
    "# funcion que divide los puntos en grupos segun el centoride mas cercano\n",
    "def group_assignment(data,centroids):\n",
    "    # creamos un vector cero del tamaño de la data\n",
    "    grouping_vec_c = np.zeros(len(data))\n",
    "    # recorremos todos los datos\n",
    "    for i in range(len(data)):\n",
    "        # vector que contiene la distancia del punto respecto a los diferentes centroides\n",
    "        dist = np.zeros(len(centroids))\n",
    "        # calculamos las distancias\n",
    "        for j in range(len(centroids)):\n",
    "            dist[j] = np.linalg.norm(data[i] - centroids[j])\n",
    "        # se obtiene la minima distancia con respecto a los centroides\n",
    "        min_dist = min(dist)\n",
    "        # se recorren los centroides y se asigna la distancia minima al punto en cuestion\n",
    "        for j in range(len(centroids)):\n",
    "            if min_dist == dist[j]:\n",
    "                # guardamos el centroide asociado al punto en cuestion en el vector grouping\n",
    "                grouping_vec_c[i] = j+1\n",
    "    # retorna el vector grouping que contiene el centroide para cada punto de la data            \n",
    "    return grouping_vec_c"
   ]
  },
  {
   "cell_type": "code",
   "execution_count": 2,
   "metadata": {},
   "outputs": [],
   "source": [
    "# funcion que crea un nuevo centroide o vector representativo a partir de los puntos dados\n",
    "# requiere la data de salida de group assignment\n",
    "def update_centroid(data, grouping, centroids):\n",
    "    # creamos una lista donde almacenaremos los nuevos centroides\n",
    "    new_centroids = [];\n",
    "    # recorremos los centroides\n",
    "    for i in range(len(centroids)):\n",
    "        # creamos un vector cero de la misma dimension de la data\n",
    "        cent = np.zeros(len(data[0]))\n",
    "        # variable que almacena la cantidad de puntos asociados a un centroide\n",
    "        count = 0\n",
    "        # recorremos la data\n",
    "        for j in range(len(data)):\n",
    "            # si el punto seleccionado pertenece al centroide dado, \n",
    "            # asignar el valor de centroide a cent y contar todos los puntos que pertenecen a ese grupo\n",
    "            if grouping[j] == (i+1):\n",
    "                cent = cent+data[j]\n",
    "                count += 1\n",
    "        # obtenemos el promedio del grupo\n",
    "        group_average = cent/count\n",
    "        # obtenemos un nuevo centroide a partir del promedio del grupo\n",
    "        new_centroids.append(group_average)\n",
    "    return new_centroids"
   ]
  },
  {
   "cell_type": "code",
   "execution_count": 3,
   "metadata": {},
   "outputs": [],
   "source": [
    "# funcion que calcula las distancias entre los centroides y los puntos\n",
    "def clustering_objective(data, grouping, centroids):\n",
    "    J_obj = 0\n",
    "    for i in range(len(data)):\n",
    "        for j in range(len(centroids)):\n",
    "            if grouping[i] == (j+1):\n",
    "                J_obj += np.linalg.norm(data[i] - centroids[j])**2\n",
    "    J_obj = J_obj/len(data)\n",
    "    return J_obj"
   ]
  },
  {
   "cell_type": "code",
   "execution_count": 4,
   "metadata": {},
   "outputs": [],
   "source": [
    "#  funcion ensambladora\n",
    "def Kmeans_alg(data, centroids):\n",
    "    # contador de iteraciones hasta converger\n",
    "    iteration = 0\n",
    "    # lista para guardar la evolucion del cluster objetivo\n",
    "    J_obj_vector = []\n",
    "    # bandera para detener el algoritmo cuando converja\n",
    "    Stop = False\n",
    "    # recorrer la data\n",
    "    while Stop == False:\n",
    "        # Realiza primer paso del algoritmo\n",
    "        grouping = group_assignment(data, centroids)\n",
    "        # realiza segundo paso del algoritmo\n",
    "        new_centroids = update_centroid(data, grouping, centroids)\n",
    "        # calcula el cluster objetivo\n",
    "        J_obj = clustering_objective(data, grouping,new_centroids)\n",
    "        # agrega el cluster calculado a la lista\n",
    "        J_obj_vector.append(J_obj)\n",
    "        iteration += 1\n",
    "        # Si los nuevos centroides distan menos de 1x10^-6 de los viejos salir del ciclo \n",
    "        if np.linalg.norm(np.array(new_centroids) - np.array(centroids)) < 1e-6:\n",
    "            Stop = True\n",
    "        else:\n",
    "            # si es mayor se asigna el centroide calculado como nuevo centroide\n",
    "            centroids = new_centroids\n",
    "    return new_centroids, grouping, J_obj_vector, iteration"
   ]
  },
  {
   "cell_type": "code",
   "execution_count": 5,
   "metadata": {},
   "outputs": [],
   "source": [
    "import matplotlib.pyplot as plt\n",
    "import numpy as np"
   ]
  },
  {
   "cell_type": "code",
   "execution_count": 6,
   "metadata": {},
   "outputs": [
    {
     "data": {
      "image/png": "[encoded data removed]",
      "text/plain": [
       "<Figure size 840x840 with 1 Axes>"
      ]
     },
     "metadata": {
      "needs_background": "light"
     },
     "output_type": "display_data"
    }
   ],
   "source": [
    "# grafico de puntos aleatorios en diferentes rangos para crear los cluster\n",
    "fig,ax = plt.subplots(1,1,figsize=(7,7),dpi=120)\n",
    "X = np.concatenate([[0.3*np.random.randn(2) for i in range(100)],\\\n",
    "                    [[1,1] + 0.3*np.random.randn(2) for i in range(100)], \\\n",
    "                    [[1,-1]+ 0.3* np.random.randn(2) for i in range(100)]])\n",
    "ax.scatter( X[:,0],X[:,1])\n",
    "ax.set_xlim(-1.5,2.5)\n",
    "ax.set_ylim(-2,2)\n",
    "plt.show()"
   ]
  },
  {
   "cell_type": "markdown",
   "metadata": {},
   "source": [
    "La grafica nos muestra que los centroides iniciales estan en: (0,0), (1,1) y (1,-1) tal como esperabamos"
   ]
  },
  {
   "cell_type": "code",
   "execution_count": 7,
   "metadata": {},
   "outputs": [],
   "source": [
    "# corremos el algoritmo para los primeros tres elementos de X\n",
    "A = Kmeans_alg(X,X[:3])"
   ]
  },
  {
   "cell_type": "code",
   "execution_count": 8,
   "metadata": {},
   "outputs": [
    {
     "data": {
      "text/plain": [
       "4"
      ]
     },
     "execution_count": 8,
     "metadata": {},
     "output_type": "execute_result"
    }
   ],
   "source": [
    "# longitud de A\n",
    "len(A)"
   ]
  },
  {
   "cell_type": "code",
   "execution_count": 9,
   "metadata": {},
   "outputs": [
    {
     "data": {
      "text/plain": [
       "[array([ 0.92314488, -0.99978369]),\n",
       " array([1.01023538, 0.93048842]),\n",
       " array([-0.02159121, -0.04923197])]"
      ]
     },
     "execution_count": 9,
     "metadata": {},
     "output_type": "execute_result"
    }
   ],
   "source": [
    "# vectores representativos o centroides\n",
    "A[0]"
   ]
  },
  {
   "cell_type": "code",
   "execution_count": 10,
   "metadata": {},
   "outputs": [
    {
     "data": {
      "text/plain": [
       "([array([ 0.92314488, -0.99978369]),\n",
       "  array([1.01023538, 0.93048842]),\n",
       "  array([-0.02159121, -0.04923197])],\n",
       " array([3., 3., 3., 3., 3., 3., 1., 3., 3., 3., 3., 3., 3., 3., 2., 3., 3.,\n",
       "        3., 3., 3., 3., 3., 3., 3., 3., 3., 3., 3., 3., 3., 3., 3., 3., 3.,\n",
       "        3., 3., 3., 3., 3., 3., 3., 3., 3., 3., 3., 3., 3., 3., 3., 3., 3.,\n",
       "        3., 3., 3., 3., 3., 3., 3., 3., 3., 3., 3., 3., 3., 3., 3., 3., 3.,\n",
       "        3., 3., 3., 3., 3., 3., 3., 3., 3., 3., 3., 3., 3., 3., 3., 3., 3.,\n",
       "        3., 3., 3., 3., 3., 3., 3., 3., 3., 3., 3., 3., 3., 3., 3., 2., 2.,\n",
       "        2., 2., 2., 2., 2., 2., 2., 2., 2., 2., 2., 2., 2., 2., 2., 2., 2.,\n",
       "        2., 2., 2., 2., 2., 2., 2., 2., 2., 2., 2., 2., 2., 2., 2., 2., 2.,\n",
       "        2., 2., 2., 2., 2., 2., 2., 2., 2., 2., 2., 2., 3., 2., 2., 2., 2.,\n",
       "        2., 2., 2., 2., 2., 2., 2., 2., 2., 2., 2., 2., 2., 2., 2., 2., 2.,\n",
       "        2., 2., 2., 2., 2., 2., 2., 2., 2., 2., 2., 2., 2., 2., 2., 2., 2.,\n",
       "        2., 2., 2., 2., 2., 2., 2., 2., 2., 2., 2., 2., 2., 1., 1., 1., 1.,\n",
       "        1., 1., 1., 1., 1., 1., 1., 1., 1., 1., 1., 1., 1., 1., 1., 1., 1.,\n",
       "        1., 1., 1., 1., 1., 1., 1., 1., 1., 1., 1., 1., 1., 1., 1., 1., 1.,\n",
       "        1., 1., 1., 1., 1., 1., 1., 1., 1., 1., 1., 1., 1., 1., 1., 1., 1.,\n",
       "        1., 1., 1., 1., 1., 1., 1., 1., 3., 1., 1., 1., 1., 1., 1., 1., 1.,\n",
       "        1., 1., 1., 2., 1., 1., 1., 1., 1., 1., 1., 1., 1., 1., 1., 1., 1.,\n",
       "        1., 1., 1., 1., 1., 1., 1., 1., 1., 2., 1.]),\n",
       " [0.3495062894572809,\n",
       "  0.1920443448318023,\n",
       "  0.17483014237818273,\n",
       "  0.17307100541324016,\n",
       "  0.17307100541324016],\n",
       " 5)"
      ]
     },
     "execution_count": 10,
     "metadata": {},
     "output_type": "execute_result"
    }
   ],
   "source": [
    "# la cantidad de iteraciones corresponde al valor del ultimo elemento de A\n",
    "A"
   ]
  },
  {
   "cell_type": "code",
   "execution_count": 11,
   "metadata": {},
   "outputs": [
    {
     "data": {
      "image/png": "[encoded data removed]",
      "text/plain": [
       "<Figure size 840x840 with 1 Axes>"
      ]
     },
     "metadata": {
      "needs_background": "light"
     },
     "output_type": "display_data"
    }
   ],
   "source": [
    "# visualizacion de la evolucion de los centroides\n",
    "fig, ax = plt.subplots(1,1,figsize=(7,7),dpi=120)\n",
    "ax.plot(list(range(A[-1])),A[2])\n",
    "plt.show()"
   ]
  },
  {
   "cell_type": "markdown",
   "metadata": {},
   "source": [
    "Vemos como el centroide va disminuyendo hasta que se estabiliza sobre un valor"
   ]
  },
  {
   "cell_type": "markdown",
   "metadata": {},
   "source": [
    "**Diferenciar los Cluster**"
   ]
  },
  {
   "cell_type": "code",
   "execution_count": 12,
   "metadata": {},
   "outputs": [
    {
     "data": {
      "text/plain": [
       "array([3., 3., 3., 3., 3., 3., 1., 3., 3., 3., 3., 3., 3., 3., 2., 3., 3.,\n",
       "       3., 3., 3., 3., 3., 3., 3., 3., 3., 3., 3., 3., 3., 3., 3., 3., 3.,\n",
       "       3., 3., 3., 3., 3., 3., 3., 3., 3., 3., 3., 3., 3., 3., 3., 3., 3.,\n",
       "       3., 3., 3., 3., 3., 3., 3., 3., 3., 3., 3., 3., 3., 3., 3., 3., 3.,\n",
       "       3., 3., 3., 3., 3., 3., 3., 3., 3., 3., 3., 3., 3., 3., 3., 3., 3.,\n",
       "       3., 3., 3., 3., 3., 3., 3., 3., 3., 3., 3., 3., 3., 3., 3., 2., 2.,\n",
       "       2., 2., 2., 2., 2., 2., 2., 2., 2., 2., 2., 2., 2., 2., 2., 2., 2.,\n",
       "       2., 2., 2., 2., 2., 2., 2., 2., 2., 2., 2., 2., 2., 2., 2., 2., 2.,\n",
       "       2., 2., 2., 2., 2., 2., 2., 2., 2., 2., 2., 2., 3., 2., 2., 2., 2.,\n",
       "       2., 2., 2., 2., 2., 2., 2., 2., 2., 2., 2., 2., 2., 2., 2., 2., 2.,\n",
       "       2., 2., 2., 2., 2., 2., 2., 2., 2., 2., 2., 2., 2., 2., 2., 2., 2.,\n",
       "       2., 2., 2., 2., 2., 2., 2., 2., 2., 2., 2., 2., 2., 1., 1., 1., 1.,\n",
       "       1., 1., 1., 1., 1., 1., 1., 1., 1., 1., 1., 1., 1., 1., 1., 1., 1.,\n",
       "       1., 1., 1., 1., 1., 1., 1., 1., 1., 1., 1., 1., 1., 1., 1., 1., 1.,\n",
       "       1., 1., 1., 1., 1., 1., 1., 1., 1., 1., 1., 1., 1., 1., 1., 1., 1.,\n",
       "       1., 1., 1., 1., 1., 1., 1., 1., 3., 1., 1., 1., 1., 1., 1., 1., 1.,\n",
       "       1., 1., 1., 2., 1., 1., 1., 1., 1., 1., 1., 1., 1., 1., 1., 1., 1.,\n",
       "       1., 1., 1., 1., 1., 1., 1., 1., 1., 2., 1.])"
      ]
     },
     "execution_count": 12,
     "metadata": {},
     "output_type": "execute_result"
    }
   ],
   "source": [
    "# Utilizamos los valores del array A[1]\n",
    "A[1]"
   ]
  },
  {
   "cell_type": "code",
   "execution_count": 13,
   "metadata": {},
   "outputs": [],
   "source": [
    "# Creamos 3 listas donde almacenamos la posicion en las que estan los cluster 1,2 y 3\n",
    "G_1, G_2, G_3 = [], [], []"
   ]
  },
  {
   "cell_type": "code",
   "execution_count": 14,
   "metadata": {},
   "outputs": [],
   "source": [
    "# recorremos el array y vamos guardando las posiciones en las listas indicadas\n",
    "for i in range(len(A[1])):\n",
    "    if A[1][i] == 1:\n",
    "        G_1.append(i)\n",
    "    elif A[1][i] == 2:\n",
    "        G_2.append(i)\n",
    "    elif A[1][i] == 3:\n",
    "        G_3.append(i)"
   ]
  },
  {
   "cell_type": "code",
   "execution_count": 15,
   "metadata": {},
   "outputs": [],
   "source": [
    "# separamos los datos para poder graficarlos\n",
    "\n",
    "# valores de x de los datos G_1\n",
    "X_1 = [X[:,0][G_1][i] for i in range(len(G_1))]\n",
    "# valores de y de los datos G_1\n",
    "Y_1 = [X[:,1][G_1][i] for i in range(len(G_1))]\n",
    "\n",
    "# valores de x de los datos G_2\n",
    "X_2 = [X[:,0][G_2][i] for i in range(len(G_2))]\n",
    "# valores de y de los datos G_2\n",
    "Y_2 = [X[:,1][G_2][i] for i in range(len(G_2))]\n",
    "\n",
    "# valores de x de los datos G_1\n",
    "X_3 = [X[:,0][G_3][i] for i in range(len(G_3))]\n",
    "# valores de y de los datos G_1\n",
    "Y_3 = [X[:,1][G_3][i] for i in range(len(G_3))]"
   ]
  },
  {
   "cell_type": "code",
   "execution_count": 16,
   "metadata": {},
   "outputs": [
    {
     "data": {
      "image/png": "[encoded data removed]",
      "text/plain": [
       "<Figure size 700x700 with 1 Axes>"
      ]
     },
     "metadata": {
      "needs_background": "light"
     },
     "output_type": "display_data"
    }
   ],
   "source": [
    "# Grafico de los cluster\n",
    "fig,ax = plt.subplots(1,1,figsize=(7,7),dpi=100)\n",
    "\n",
    "ax.scatter( X_1, Y_1, color='red', label='Grupo 1')\n",
    "ax.scatter( X_2, Y_2, color='blue', label='Grupo 2')\n",
    "ax.scatter( X_3, Y_3, color='black', label='Grupo 3')\n",
    "ax.set_xlim(-1.5,2.5)\n",
    "ax.set_ylim(-2,2)\n",
    "plt.legend()\n",
    "plt.show()"
   ]
  },
  {
   "cell_type": "code",
   "execution_count": 17,
   "metadata": {},
   "outputs": [],
   "source": [
    "# importamos los siguientes datasets\n",
    "from sklearn.datasets import fetch_openml\n",
    "import random"
   ]
  },
  {
   "cell_type": "code",
   "execution_count": 18,
   "metadata": {},
   "outputs": [],
   "source": [
    "# serie de vectores con sus etiquetas asociadas\n",
    "#X, y = fetch_openml('mnist_784', version=1, return_X_y=True)"
   ]
  },
  {
   "cell_type": "code",
   "execution_count": 19,
   "metadata": {},
   "outputs": [],
   "source": [
    "A = Kmeans_alg(X,random.choices(X,k=9))"
   ]
  },
  {
   "cell_type": "code",
   "execution_count": 20,
   "metadata": {},
   "outputs": [],
   "source": [
    "import itertools"
   ]
  },
  {
   "cell_type": "code",
   "execution_count": 21,
   "metadata": {},
   "outputs": [],
   "source": [
    "a = list(itertools.product(list(range(3)),list(range(3))))"
   ]
  },
  {
   "cell_type": "code",
   "execution_count": 22,
   "metadata": {},
   "outputs": [
    {
     "ename": "ValueError",
     "evalue": "cannot reshape array of size 2 into shape (28,28)",
     "output_type": "error",
     "traceback": [
      "\u001b[0;31m---------------------------------------------------------------------------\u001b[0m",
      "\u001b[0;31mValueError\u001b[0m                                Traceback (most recent call last)",
      "\u001b[1;32m/home/jbernal/Data_Science/Mathematics_DS/Algebra_Lineal/Clustering/clustering.ipynb Cell 44\u001b[0m line \u001b[0;36m<cell line: 2>\u001b[0;34m()\u001b[0m\n\u001b[1;32m      <a href='vscode-notebook-cell://wsl%2Bubuntu/home/jbernal/Data_Science/Mathematics_DS/Algebra_Lineal/Clustering/clustering.ipynb#X61sdnNjb2RlLXJlbW90ZQ%3D%3D?line=0'>1</a>\u001b[0m fig, ax \u001b[39m=\u001b[39m plt\u001b[39m.\u001b[39msubplots(\u001b[39m3\u001b[39m,\u001b[39m3\u001b[39m,figsize\u001b[39m=\u001b[39m(\u001b[39m7\u001b[39m,\u001b[39m7\u001b[39m),dpi\u001b[39m=\u001b[39m\u001b[39m120\u001b[39m)\n\u001b[1;32m      <a href='vscode-notebook-cell://wsl%2Bubuntu/home/jbernal/Data_Science/Mathematics_DS/Algebra_Lineal/Clustering/clustering.ipynb#X61sdnNjb2RlLXJlbW90ZQ%3D%3D?line=1'>2</a>\u001b[0m \u001b[39mfor\u001b[39;00m i,j \u001b[39min\u001b[39;00m \u001b[39mzip\u001b[39m(a,A[\u001b[39m0\u001b[39m]):\n\u001b[0;32m----> <a href='vscode-notebook-cell://wsl%2Bubuntu/home/jbernal/Data_Science/Mathematics_DS/Algebra_Lineal/Clustering/clustering.ipynb#X61sdnNjb2RlLXJlbW90ZQ%3D%3D?line=2'>3</a>\u001b[0m         ax[i[\u001b[39m0\u001b[39m]][i[\u001b[39m1\u001b[39m]]\u001b[39m.\u001b[39mimshow(j\u001b[39m.\u001b[39;49mreshape(\u001b[39m28\u001b[39;49m,\u001b[39m28\u001b[39;49m))\n\u001b[1;32m      <a href='vscode-notebook-cell://wsl%2Bubuntu/home/jbernal/Data_Science/Mathematics_DS/Algebra_Lineal/Clustering/clustering.ipynb#X61sdnNjb2RlLXJlbW90ZQ%3D%3D?line=3'>4</a>\u001b[0m plt\u001b[39m.\u001b[39mshow()\n",
      "\u001b[0;31mValueError\u001b[0m: cannot reshape array of size 2 into shape (28,28)"
     ]
    },
    {
     "data": {
      "image/png": "[encoded data removed]",
      "text/plain": [
       "<Figure size 840x840 with 9 Axes>"
      ]
     },
     "metadata": {
      "needs_background": "light"
     },
     "output_type": "display_data"
    }
   ],
   "source": [
    "fig, ax = plt.subplots(3,3,figsize=(7,7),dpi=120)\n",
    "for i,j in zip(a,A[0]):\n",
    "        ax[i[0]][i[1]].imshow(j.reshape(28,28))\n",
    "plt.show()"
   ]
  },
  {
   "cell_type": "code",
   "execution_count": 23,
   "metadata": {},
   "outputs": [],
   "source": [
    "from sklearn.datasets import fetch_openml, load_breast_cancer\n",
    "import random"
   ]
  },
  {
   "cell_type": "code",
   "execution_count": 24,
   "metadata": {},
   "outputs": [],
   "source": [
    "A = load_breast_cancer()"
   ]
  },
  {
   "cell_type": "code",
   "execution_count": 25,
   "metadata": {},
   "outputs": [
    {
     "data": {
      "text/plain": [
       "569"
      ]
     },
     "execution_count": 25,
     "metadata": {},
     "output_type": "execute_result"
    }
   ],
   "source": [
    "data = A.data\n",
    "len(data)"
   ]
  },
  {
   "cell_type": "code",
   "execution_count": null,
   "metadata": {},
   "outputs": [
    {
     "data": {
      "text/plain": [
       "30"
      ]
     },
     "execution_count": 21,
     "metadata": {},
     "output_type": "execute_result"
    }
   ],
   "source": [
    "len(data[0])"
   ]
  },
  {
   "cell_type": "code",
   "execution_count": null,
   "metadata": {},
   "outputs": [
    {
     "data": {
      "text/plain": [
       "8"
      ]
     },
     "execution_count": 17,
     "metadata": {},
     "output_type": "execute_result"
    }
   ],
   "source": [
    "len(A)"
   ]
  },
  {
   "cell_type": "code",
   "execution_count": 26,
   "metadata": {},
   "outputs": [],
   "source": [
    "X = Kmeans_alg(A.data,A.data[:2])"
   ]
  },
  {
   "cell_type": "code",
   "execution_count": 29,
   "metadata": {},
   "outputs": [
    {
     "data": {
      "text/plain": [
       "array([2., 2., 2., 1., 2., 1., 2., 1., 1., 1., 1., 2., 2., 1., 1., 1., 1.,\n",
       "       2., 2., 1., 1., 1., 1., 2., 2., 2., 1., 2., 2., 2., 2., 1., 2., 2.,\n",
       "       2., 2., 1., 1., 1., 1., 1., 1., 2., 1., 1., 2., 1., 1., 1., 1., 1.,\n",
       "       1., 1., 2., 1., 1., 2., 1., 1., 1., 1., 1., 1., 1., 1., 1., 1., 1.,\n",
       "       1., 1., 2., 1., 2., 1., 1., 2., 1., 2., 2., 1., 1., 1., 2., 2., 1.,\n",
       "       2., 1., 2., 1., 1., 1., 1., 1., 1., 1., 2., 1., 1., 1., 1., 1., 1.,\n",
       "       1., 1., 1., 1., 1., 1., 2., 1., 1., 1., 1., 1., 1., 1., 1., 1., 2.,\n",
       "       2., 1., 2., 2., 1., 1., 1., 1., 2., 1., 2., 1., 1., 1., 1., 2., 1.,\n",
       "       1., 1., 1., 1., 1., 2., 1., 1., 1., 1., 1., 1., 1., 1., 1., 1., 1.,\n",
       "       1., 1., 1., 2., 1., 1., 1., 1., 2., 2., 1., 2., 1., 1., 2., 2., 1.,\n",
       "       1., 1., 1., 1., 1., 1., 1., 1., 1., 1., 2., 2., 2., 1., 1., 1., 2.,\n",
       "       1., 1., 1., 1., 1., 1., 1., 1., 1., 1., 2., 2., 1., 1., 2., 2., 1.,\n",
       "       1., 1., 1., 2., 1., 1., 2., 1., 2., 1., 1., 1., 1., 1., 2., 2., 1.,\n",
       "       1., 1., 1., 1., 1., 1., 1., 1., 1., 2., 1., 1., 2., 1., 1., 2., 2.,\n",
       "       1., 2., 1., 1., 1., 1., 2., 1., 1., 1., 1., 1., 2., 1., 2., 2., 2.,\n",
       "       1., 2., 1., 2., 1., 2., 2., 2., 1., 2., 2., 1., 1., 1., 1., 1., 1.,\n",
       "       2., 1., 2., 1., 1., 2., 1., 1., 2., 1., 2., 1., 1., 1., 1., 1., 1.,\n",
       "       1., 1., 1., 1., 1., 1., 1., 1., 1., 1., 1., 2., 1., 2., 1., 1., 1.,\n",
       "       1., 1., 1., 1., 1., 1., 1., 1., 1., 1., 1., 2., 1., 1., 1., 2., 1.,\n",
       "       2., 1., 1., 1., 1., 1., 1., 1., 1., 1., 1., 1., 2., 1., 2., 1., 2.,\n",
       "       1., 1., 1., 2., 1., 1., 1., 1., 1., 1., 1., 1., 2., 1., 1., 1., 1.,\n",
       "       1., 1., 1., 1., 1., 1., 1., 1., 2., 2., 1., 2., 2., 1., 1., 2., 2.,\n",
       "       1., 1., 1., 1., 1., 1., 1., 1., 1., 1., 1., 1., 1., 1., 1., 2., 1.,\n",
       "       1., 2., 2., 1., 1., 1., 1., 1., 1., 2., 1., 1., 1., 1., 1., 1., 1.,\n",
       "       2., 1., 1., 1., 1., 1., 1., 1., 1., 2., 1., 1., 1., 1., 1., 1., 1.,\n",
       "       1., 1., 1., 1., 1., 1., 1., 2., 2., 1., 1., 1., 1., 1., 1., 1., 2.,\n",
       "       1., 1., 2., 1., 2., 1., 1., 2., 1., 2., 1., 1., 1., 1., 1., 1., 1.,\n",
       "       1., 2., 2., 1., 1., 1., 1., 1., 1., 2., 1., 1., 1., 1., 1., 1., 1.,\n",
       "       1., 1., 1., 1., 1., 1., 1., 1., 1., 1., 1., 2., 1., 1., 1., 2., 2.,\n",
       "       1., 1., 1., 1., 1., 2., 2., 1., 1., 1., 2., 1., 1., 1., 1., 1., 1.,\n",
       "       1., 1., 1., 1., 1., 1., 2., 2., 1., 1., 1., 2., 1., 1., 1., 1., 1.,\n",
       "       1., 1., 1., 1., 1., 1., 2., 1., 2., 1., 1., 1., 1., 1., 1., 1., 1.,\n",
       "       1., 1., 1., 1., 1., 1., 1., 1., 1., 1., 1., 1., 1., 1., 1., 1., 1.,\n",
       "       1., 1., 2., 2., 2., 1., 2., 1.])"
      ]
     },
     "execution_count": 29,
     "metadata": {},
     "output_type": "execute_result"
    }
   ],
   "source": [
    "X[1]"
   ]
  },
  {
   "cell_type": "code",
   "execution_count": null,
   "metadata": {},
   "outputs": [],
   "source": [
    "from collections import Counter"
   ]
  },
  {
   "cell_type": "code",
   "execution_count": null,
   "metadata": {},
   "outputs": [
    {
     "data": {
      "text/plain": [
       "Counter({2.0: 131, 1.0: 438})"
      ]
     },
     "execution_count": 13,
     "metadata": {},
     "output_type": "execute_result"
    }
   ],
   "source": [
    "Counter(X[1])"
   ]
  },
  {
   "cell_type": "code",
   "execution_count": null,
   "metadata": {},
   "outputs": [],
   "source": [
    "from matplotlib.image import imread"
   ]
  },
  {
   "cell_type": "code",
   "execution_count": null,
   "metadata": {},
   "outputs": [
    {
     "ename": "FileNotFoundError",
     "evalue": "[Errno 2] No such file or directory: 'data_set_prob_1/0.jpg'",
     "output_type": "error",
     "traceback": [
      "\u001b[0;31m---------------------------------------------------------------------------\u001b[0m",
      "\u001b[0;31mFileNotFoundError\u001b[0m                         Traceback (most recent call last)",
      "\u001b[1;32m/home/jbernal/Data_Science/Mathematics_DS/Algebra_Lineal/Clustering/clustering.ipynb Cell 53\u001b[0m line \u001b[0;36m<cell line: 5>\u001b[0;34m()\u001b[0m\n\u001b[1;32m      <a href='vscode-notebook-cell://wsl%2Bubuntu/home/jbernal/Data_Science/Mathematics_DS/Algebra_Lineal/Clustering/clustering.ipynb#Y102sdnNjb2RlLXJlbW90ZQ%3D%3D?line=7'>8</a>\u001b[0m filename \u001b[39m=\u001b[39m folder \u001b[39m+\u001b[39m \u001b[39mstr\u001b[39m(i) \u001b[39m+\u001b[39m \u001b[39m'\u001b[39m\u001b[39m.jpg\u001b[39m\u001b[39m'\u001b[39m\n\u001b[1;32m      <a href='vscode-notebook-cell://wsl%2Bubuntu/home/jbernal/Data_Science/Mathematics_DS/Algebra_Lineal/Clustering/clustering.ipynb#Y102sdnNjb2RlLXJlbW90ZQ%3D%3D?line=8'>9</a>\u001b[0m \u001b[39m# load image pixels\u001b[39;00m\n\u001b[0;32m---> <a href='vscode-notebook-cell://wsl%2Bubuntu/home/jbernal/Data_Science/Mathematics_DS/Algebra_Lineal/Clustering/clustering.ipynb#Y102sdnNjb2RlLXJlbW90ZQ%3D%3D?line=9'>10</a>\u001b[0m image \u001b[39m=\u001b[39m imread(filename)\n\u001b[1;32m     <a href='vscode-notebook-cell://wsl%2Bubuntu/home/jbernal/Data_Science/Mathematics_DS/Algebra_Lineal/Clustering/clustering.ipynb#Y102sdnNjb2RlLXJlbW90ZQ%3D%3D?line=10'>11</a>\u001b[0m \u001b[39m# plot raw pixel data\u001b[39;00m\n\u001b[1;32m     <a href='vscode-notebook-cell://wsl%2Bubuntu/home/jbernal/Data_Science/Mathematics_DS/Algebra_Lineal/Clustering/clustering.ipynb#Y102sdnNjb2RlLXJlbW90ZQ%3D%3D?line=11'>12</a>\u001b[0m pyplot\u001b[39m.\u001b[39mimshow(image)\n",
      "File \u001b[0;32m~/anaconda3/lib/python3.9/site-packages/matplotlib/image.py:1560\u001b[0m, in \u001b[0;36mimread\u001b[0;34m(fname, format)\u001b[0m\n\u001b[1;32m   1558\u001b[0m                 response \u001b[39m=\u001b[39m io\u001b[39m.\u001b[39mBytesIO(response\u001b[39m.\u001b[39mread())\n\u001b[1;32m   1559\u001b[0m             \u001b[39mreturn\u001b[39;00m imread(response, \u001b[39mformat\u001b[39m\u001b[39m=\u001b[39mext)\n\u001b[0;32m-> 1560\u001b[0m \u001b[39mwith\u001b[39;00m img_open(fname) \u001b[39mas\u001b[39;00m image:\n\u001b[1;32m   1561\u001b[0m     \u001b[39mreturn\u001b[39;00m (_pil_png_to_float_array(image)\n\u001b[1;32m   1562\u001b[0m             \u001b[39mif\u001b[39;00m \u001b[39misinstance\u001b[39m(image, PIL\u001b[39m.\u001b[39mPngImagePlugin\u001b[39m.\u001b[39mPngImageFile) \u001b[39melse\u001b[39;00m\n\u001b[1;32m   1563\u001b[0m             pil_to_array(image))\n",
      "File \u001b[0;32m~/anaconda3/lib/python3.9/site-packages/PIL/Image.py:2953\u001b[0m, in \u001b[0;36mopen\u001b[0;34m(fp, mode, formats)\u001b[0m\n\u001b[1;32m   2950\u001b[0m     filename \u001b[39m=\u001b[39m fp\n\u001b[1;32m   2952\u001b[0m \u001b[39mif\u001b[39;00m filename:\n\u001b[0;32m-> 2953\u001b[0m     fp \u001b[39m=\u001b[39m builtins\u001b[39m.\u001b[39;49mopen(filename, \u001b[39m\"\u001b[39;49m\u001b[39mrb\u001b[39;49m\u001b[39m\"\u001b[39;49m)\n\u001b[1;32m   2954\u001b[0m     exclusive_fp \u001b[39m=\u001b[39m \u001b[39mTrue\u001b[39;00m\n\u001b[1;32m   2956\u001b[0m \u001b[39mtry\u001b[39;00m:\n",
      "\u001b[0;31mFileNotFoundError\u001b[0m: [Errno 2] No such file or directory: 'data_set_prob_1/0.jpg'"
     ]
    }
   ],
   "source": [
    "from matplotlib.image import imread\n",
    "# define location of dataset\n",
    "folder = 'data_set_prob_1/'\n",
    "# plot first few images\n",
    "for i in range(9):\n",
    "\t# define subplot\n",
    "\t# define filename\n",
    "\tfilename = folder + str(i) + '.jpg'\n",
    "\t# load image pixels\n",
    "\timage = imread(filename)\n",
    "\t# plot raw pixel data\n",
    "\tpyplot.imshow(image)\n",
    "# show the figure\n",
    "pyplot.show()\n"
   ]
  },
  {
   "cell_type": "code",
   "execution_count": null,
   "metadata": {},
   "outputs": [
    {
     "ename": "NameError",
     "evalue": "name 'Data' is not defined",
     "output_type": "error",
     "traceback": [
      "\u001b[0;31m---------------------------------------------------------------------------\u001b[0m",
      "\u001b[0;31mNameError\u001b[0m                                 Traceback (most recent call last)",
      "\u001b[1;32m/home/jbernal/Data_Science/Mathematics_DS/Algebra_Lineal/Clustering/clustering.ipynb Cell 54\u001b[0m line \u001b[0;36m<cell line: 2>\u001b[0;34m()\u001b[0m\n\u001b[1;32m      <a href='vscode-notebook-cell://wsl%2Bubuntu/home/jbernal/Data_Science/Mathematics_DS/Algebra_Lineal/Clustering/clustering.ipynb#Y103sdnNjb2RlLXJlbW90ZQ%3D%3D?line=0'>1</a>\u001b[0m fig,ax \u001b[39m=\u001b[39m plt\u001b[39m.\u001b[39msubplots(\u001b[39m1\u001b[39m,\u001b[39m1\u001b[39m,dpi\u001b[39m=\u001b[39m\u001b[39m120\u001b[39m)\n\u001b[0;32m----> <a href='vscode-notebook-cell://wsl%2Bubuntu/home/jbernal/Data_Science/Mathematics_DS/Algebra_Lineal/Clustering/clustering.ipynb#Y103sdnNjb2RlLXJlbW90ZQ%3D%3D?line=1'>2</a>\u001b[0m ax\u001b[39m.\u001b[39mimshow(Data[\u001b[39m59\u001b[39m])\n\u001b[1;32m      <a href='vscode-notebook-cell://wsl%2Bubuntu/home/jbernal/Data_Science/Mathematics_DS/Algebra_Lineal/Clustering/clustering.ipynb#Y103sdnNjb2RlLXJlbW90ZQ%3D%3D?line=2'>3</a>\u001b[0m plt\u001b[39m.\u001b[39mshow()\n",
      "\u001b[0;31mNameError\u001b[0m: name 'Data' is not defined"
     ]
    },
    {
     "data": {
      "image/png": "[encoded data removed]",
      "text/plain": [
       "<Figure size 720x480 with 1 Axes>"
      ]
     },
     "metadata": {
      "needs_background": "light"
     },
     "output_type": "display_data"
    }
   ],
   "source": [
    "fig,ax = plt.subplots(1,1,dpi=120)\n",
    "ax.imshow(Data[59])\n",
    "plt.show()"
   ]
  },
  {
   "cell_type": "code",
   "execution_count": null,
   "metadata": {},
   "outputs": [],
   "source": [
    "x = imread('data_set_prob_1/1.jpg')"
   ]
  },
  {
   "cell_type": "code",
   "execution_count": null,
   "metadata": {},
   "outputs": [],
   "source": [
    "from keras.preprocessing.image import load_img\n",
    "from keras.preprocessing.image import img_to_array"
   ]
  },
  {
   "cell_type": "code",
   "execution_count": null,
   "metadata": {},
   "outputs": [],
   "source": [
    "Data = []\n",
    "for i in range(60):\n",
    "    Data.append(img_to_array(load_img('data_set_prob_1/'+str(i)+'.jpg',target_size=(200, 200))))"
   ]
  },
  {
   "cell_type": "code",
   "execution_count": null,
   "metadata": {},
   "outputs": [],
   "source": [
    "Data[1].shape"
   ]
  },
  {
   "cell_type": "code",
   "execution_count": null,
   "metadata": {},
   "outputs": [],
   "source": [
    "Kmeans_alg(Data,Data[:2])"
   ]
  }
 ],
 "metadata": {
  "kernelspec": {
   "display_name": "Python 3",
   "language": "python",
   "name": "python3"
  },
  "language_info": {
   "codemirror_mode": {
    "name": "ipython",
    "version": 3
   },
   "file_extension": ".py",
   "mimetype": "text/x-python",
   "name": "python",
   "nbconvert_exporter": "python",
   "pygments_lexer": "ipython3",
   "version": "3.9.12"
  }
 },
 "nbformat": 4,
 "nbformat_minor": 4
}
