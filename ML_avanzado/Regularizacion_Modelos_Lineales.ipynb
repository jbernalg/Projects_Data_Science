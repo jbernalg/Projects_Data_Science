{
 "cells": [
  {
   "cell_type": "markdown",
   "id": "03dab1c5",
   "metadata": {},
   "source": [
    "# __Regularización en Modelos Lineales__ "
   ]
  },
  {
   "cell_type": "markdown",
   "id": "2c376f73",
   "metadata": {},
   "source": [
    "La mejor manera de reducir el sobreajuste en un modelo lineal es con la regularización. Este proceso consiste en restringir los pesos del modelo ayudando a que no se ajuste tanto a los datos. Existen tres formas de restringir los pesos como verémos a continuación:"
   ]
  },
  {
   "cell_type": "markdown",
   "id": "6594f4f7",
   "metadata": {},
   "source": [
    "# __Regresión Ridge__"
   ]
  },
  {
   "cell_type": "markdown",
   "id": "3dbfa1c3",
   "metadata": {},
   "source": [
    "Tambien llamada regularización de Tikhonov, es una versión regularizada de la regresión lineal y consiste en agregar el término $\\alpha \\sum_{i}^{n} w_{i}^2$ a la función de costo. Esto obliga al algoritmo de aprendizaje a no sólo ajustar los datos, sino tambien a mantener los pesos del modelo los más pequeño posible.\n",
    "\n",
    "- Este término sólo debe agregarse a la función de costo durante el entrenamiento. Una vez entrenado, se evalúa el rendimiento del modelo utilizando una medida no regularizada.\n",
    "\n",
    "- Es común que la función de costo usada durante el entrenamiento sea diferente de la medida de rendimiento del modelo.\n",
    "\n",
    "- La función de costo utilizada en el entrenamiento debe tener derivadas amigables para la optimización mientras que la medida de rendimiento debe estar lo más cerca posible del objetivo final.\n",
    "\n",
    "- El parámetro $\\alpha$ controla cuánto desea regularizar el modelo. Si $\\alpha=0$, la regresión Ridge se vuelve una regresión lineal. Si $\\alpha$ es muy grande, todos los pesos terminan muy cerca de cero y el resultado es una línea plana que pasa por la media de los datos.\n",
    "\n",
    "- Es importante escalar los datos con _StandarScaler_ antes de aplicar la regularización ya que es sensible a la escala de las características de entrada."
   ]
  },
  {
   "cell_type": "markdown",
   "id": "56d3bf4b",
   "metadata": {},
   "source": [
    "## Cómo funciona?"
   ]
  },
  {
   "cell_type": "markdown",
   "id": "00975d6f",
   "metadata": {},
   "source": [
    "Vamos a suponer un problema de regresión lineal simple. Queremos predecir $y$ a partir de $x$ usando la función lineal:\n",
    "\n",
    "$$y_i = wx_i + b$$\n",
    "\n",
    "Los datos con los que contamos son los siguientes:\n",
    "\n",
    "| x | y   |\n",
    "| - | --- |\n",
    "| 1 | 2   |\n",
    "| 2 | 4   |\n",
    "| 3 | 6.1 |\n",
    "\n",
    "\n",
    "> Nótese que hay una relación lineal entre los datos de $y \\approx 2x$ con un poco de ruido.\n",
    "\n",
    "En regresión lineal, se busca minimizar el error cuadrático medio _(MSE)_ cuya fórmula viene dada por:\n",
    "\n",
    "$$ J(w,b) = \\frac{1}{n}\\sum_{i=1}^{n}(y_i - (wx_i + b))^2$$\n",
    "\n",
    "Esta función busca ajustar el modelo lo mejor posible a los datos. En nuestro caso, y para simplificar el cálculo, el intercepto es cero ($b=0$) por lo que el _MSE_ nos quedaría:\n",
    "\n",
    "$$ J(w) = \\frac{1}{n}\\sum_{i=1}^{n}(y_i - wx_i)^2$$\n",
    "\n",
    "Los pesos $w$ son los encargados de ajustar el modelo a los datos. Cuando se presenta sobreajuste, una forma de contrarrestarlo es modificando los pesos y de esa forma reajustar el modelo a los nuevos datos. Para obtener la fórmula de los pesos $w$ procedemos como sigue:\n",
    "\n",
    "- Derivamos $J(w)$ respecto a $w$ y lo igualamos a cero:\n",
    "\n",
    "$$\\frac{\\mathrm{d} J}{\\mathrm{d} w} = \\frac{1}{n} \\sum_{i=1}^{n} 2(y_i - wx_i)(-x_i) = 0$$\n",
    "\n",
    "- El 2 deja de tener relevancia, por tanto\n",
    "\n",
    "$$\\sum_{i=1}^{n} x_i(y_i - wx_i) = 0$$\n",
    "\n",
    "- Expandimos\n",
    "\n",
    "$$\\sum_{i=1}^{n} x_iy_i - \\sum_{i=1}^{n}x_{i}^2 = 0$$\n",
    "\n",
    "- Despejamos $w$\n",
    "\n",
    "$$w = \\frac{\\sum_{i=1}^{n} x_i y_i}{\\sum_{i=1}^{n} x_{i}^2}$$\n",
    "\n",
    "La fórmula del error cuadrático medio, al agregar la regularización Ridge, queda de la siguiente forma:\n",
    "\n",
    "$$J_{ridge}(w) = \\frac{1}{n}\\sum_{i=1}^{n}(y_i - wx_i)^2 + \\alpha w^2$$\n",
    "\n",
    "Aplicando la misma optimización anterior para obtener $w_{ridge}$ quedaría:\n",
    "\n",
    "$$w_{ridge} = \\frac{\\sum_{i=1}^{n} x_i y_i}{\\sum_{i=1}^{n} x_{i}^2 + n\\alpha}$$\n",
    "\n",
    "el término $n$ suaviza los coeficientes. A partir de esta fórmula podemos deducir que:\n",
    "\n",
    "- Si $\\alpha = 0$, llegamos a la regresión lineal estándar.\n",
    "\n",
    "- Si $\\alpha > 0$, regula los pesos del modelo manteniendólos pequeños lo que reduce el riesgo a sobreajuste.\n",
    "\n",
    "- Si $\\alpha >> 0$, los pesos terminan muy cerca de cero lo que hace que el modelo tienda a una línea horizontal.\n",
    "\n",
    "Ahora, como en nuestro ejemplo sólo hay un peso, vamos a calcularlo con y sin regularización ($w$ y $w_{ridge}$)\n",
    "\n",
    "$$w = \\frac{\\sum_{i=1}^{n} x_i y_i}{\\sum_{i=1}^{n} x_{i}^2} = \\frac{1\\cdot 2 + 2 \\cdot 4 + 3\\cdot 6.1}{1^2 + 2^2 + 3^2} = \\frac{2 + 8 + 18.3}{1 + 4 + 9} = \\frac{28.3}{14} \\approx 2.021$$\n",
    "\n",
    "El peso estimado $w$ es cercano a 2.\n",
    "\n",
    "Para calcular $w_{ridge}$ utilizamos $\\alpha = 1$\n",
    "\n",
    "$$w_{ridge} = \\frac{\\sum_{i=1}^{n} x_i y_i}{\\sum_{i=1}^{n} x_{i}^2 + \\alpha} = \\frac{1\\cdot 2 + 2 \\cdot 4 + 3\\cdot 6.1}{1^2 + 2^2 + 3^2 + 1} = \\frac{2 + 8 + 18.3}{1 + 4 + 9 + 1} = \\frac{28.3}{15} \\approx 1.887$$\n",
    "\n",
    "El peso estimado utilizando rigde $w_{ridge}$ se reduce ligeramente, lo que evidencia el efecto de la penalización.\n",
    "\n",
    "En resumen:\n",
    "\n",
    "> Rigde no elimina las variables, sólo reduce los pesos.\n",
    "\n",
    "> Cuanto mayor sea $\\alpha$, más se reducen los pesos.\n",
    "\n",
    "> En modelos con muchas variables correlacionadas, ayuda a distribuir mejor el peso y evitar sobreajuste."
   ]
  },
  {
   "cell_type": "markdown",
   "id": "01cb2e77",
   "metadata": {},
   "source": [
    "## Cuando usar Ridge"
   ]
  },
  {
   "cell_type": "markdown",
   "id": "4dab6952",
   "metadata": {},
   "source": [
    "- Cuando hay muchas variables numéricas.\n",
    "\n",
    "- Cuando hay colinealidad entre variables.\n",
    "\n",
    "- Cuando el modelo presenta sobreajuste.\n",
    "\n",
    "- Cuando quieres mantener todos las variables del modelo haciendo los coeficientes pequeños, no ceros."
   ]
  },
  {
   "cell_type": "markdown",
   "id": "8d0c7093",
   "metadata": {},
   "source": [
    "## Implementación de Ridge con Scikit-Learn "
   ]
  },
  {
   "cell_type": "markdown",
   "id": "ed347c86",
   "metadata": {},
   "source": [
    "Para este ejemplo, vamos a utilizar un conjunto de datos artificiales con relación lineal y algo de ruido, ajustamos un modelo lineal simple y varios con diferentes valores de ridge y finalmente comparamos el rendimiento de cada uno."
   ]
  },
  {
   "cell_type": "code",
   "execution_count": 1,
   "id": "483c0055",
   "metadata": {},
   "outputs": [],
   "source": [
    "# librerias\n",
    "import numpy as np\n",
    "import matplotlib.pyplot as plt\n",
    "from sklearn.linear_model import LinearRegression, Ridge\n",
    "from sklearn.metrics import mean_squared_error\n",
    "from sklearn.model_selection import train_test_split"
   ]
  },
  {
   "cell_type": "code",
   "execution_count": 5,
   "id": "6b2a27e8",
   "metadata": {},
   "outputs": [
    {
     "name": "stdout",
     "output_type": "stream",
     "text": [
      "Coeficiente Lineal: [[1.69898549]]\n",
      "Coeficiente Ridge (alpha = 1): [[1.6386124]]\n",
      "Coeficiente Ridge (alpha = 10): [[1.24154884]]\n",
      "Coeficiente Ridge (alpha = 20): [[0.97818207]]\n",
      " \n",
      "----------------------------------------------------------------\n",
      " \n",
      "MSE Lineal: 1.471\n",
      "MSE Ridge (alpha = 1): 1.463\n",
      "MSE Ridge (alpha = 10): 1.485\n",
      "MSE Ridge (alpha = 20): 1.568\n"
     ]
    }
   ],
   "source": [
    "# crear datos artificiales\n",
    "np.random.seed(42)\n",
    "X = 2*np.random.rand(100, 1)\n",
    "y = 4 + 2*X + np.random.randn(100, 1)*1.5\n",
    "\n",
    "# dividir los datos en entrenamiento y prueba\n",
    "X_train, X_test, y_train, y_test = train_test_split(X, y, test_size=0.2, random_state=42)\n",
    "\n",
    "# modelo de regresion lineal\n",
    "model_lr = LinearRegression()\n",
    "model_lr.fit(X_train, y_train)\n",
    "\n",
    "# modelo con regularizacion ridge alpha = 1\n",
    "ridge_1 = Ridge(alpha=1)\n",
    "ridge_1.fit(X_train, y_train)\n",
    "\n",
    "# modelo con regularizacion ridge alpha = 10\n",
    "ridge_10 = Ridge(alpha=10)\n",
    "ridge_10.fit(X_train, y_train)\n",
    "\n",
    "# modelo con regularizacion ridge alpha = 20\n",
    "ridge_20 = Ridge(alpha=20)\n",
    "ridge_20.fit(X_train, y_train)\n",
    "\n",
    "# predicciones de ambos modelos\n",
    "y_pred_lr = model_lr.predict(X_test)\n",
    "y_pred_ridge_1 = ridge_1.predict(X_test)\n",
    "y_pred_ridge_10 = ridge_10.predict(X_test)\n",
    "y_pred_ridge_20 = ridge_20.predict(X_test)\n",
    "\n",
    "# evaluar rendimiento\n",
    "mse_lr = mean_squared_error(y_test, y_pred_lr)\n",
    "mse_ridge_1 = mean_squared_error(y_test, y_pred_ridge_1)\n",
    "mse_ridge_10 = mean_squared_error(y_test, y_pred_ridge_10)\n",
    "mse_ridge_20 = mean_squared_error(y_test, y_pred_ridge_20)\n",
    "\n",
    "# mostrar resultados\n",
    "print(f'Coeficiente Lineal: {model_lr.coef_}')\n",
    "print(f'Coeficiente Ridge (alpha = 1): {ridge_1.coef_}')\n",
    "print(f'Coeficiente Ridge (alpha = 10): {ridge_10.coef_}')\n",
    "print(f'Coeficiente Ridge (alpha = 20): {ridge_20.coef_}')\n",
    "print(' ')\n",
    "print('-'*64)\n",
    "print(' ')\n",
    "print(f'MSE Lineal: {mse_lr:.3f}')\n",
    "print(f'MSE Ridge (alpha = 1): {mse_ridge_1:.3f}')\n",
    "print(f'MSE Ridge (alpha = 10): {mse_ridge_10:.3f}')\n",
    "print(f'MSE Ridge (alpha = 20): {mse_ridge_20:.3f}')"
   ]
  },
  {
   "cell_type": "markdown",
   "id": "6e8dc40b",
   "metadata": {},
   "source": [
    "> El rendimiento de un modelo lineal se mide a través del error cuadrático medio (MSE).\n",
    "\n",
    "> El MSE del modelo lineal es ligeramente mayor que el MSE Ridge con alfa = 1 lo que implica que el modelo ridge se sobreajusta mucho más a los datos.\n",
    "\n",
    "> El modelo menos ajustado a los datos es el ridge con alfa = 20, lo que indica que este modelo es un buen candidato debido a que contrarresta el overfitting. "
   ]
  },
  {
   "cell_type": "markdown",
   "id": "c8bde2a7",
   "metadata": {},
   "source": [
    "Visualicémos los datos junto a los modelos."
   ]
  },
  {
   "cell_type": "code",
   "execution_count": 7,
   "id": "85016df2",
   "metadata": {},
   "outputs": [
    {
     "data": {
      "image/png": "[encoded data removed]",
      "text/plain": [
       "<Figure size 864x432 with 1 Axes>"
      ]
     },
     "metadata": {
      "needs_background": "light"
     },
     "output_type": "display_data"
    }
   ],
   "source": [
    "\n",
    "plt.figure(figsize=(12,6))\n",
    "plt.scatter(X_test, y_test, color='black', label='Datos reales')\n",
    "plt.plot(X_test, y_pred_lr, label='Lineal', color='blue')\n",
    "plt.plot(X_test, y_pred_ridge_1, label='Ridge (alpha = 1)', color='red')\n",
    "plt.plot(X_test, y_pred_ridge_10, label='Ridge (alpha = 10)', color='green')\n",
    "plt.plot(X_test, y_pred_ridge_20, label='Ridge (alpha = 20)', color='gray')\n",
    "plt.title('Comparación Regresión Lineal vs Regresiones de Ridge')\n",
    "plt.xlabel('X')\n",
    "plt.ylabel('y')\n",
    "plt.legend()\n",
    "plt.grid(True)\n",
    "plt.show()"
   ]
  },
  {
   "cell_type": "markdown",
   "id": "2e35f518",
   "metadata": {},
   "source": [
    "> Los modelos con mayor sobreajuste son el modelo lineal y el ridge con alfa = 1. (rojo y azul)\n",
    "\n",
    "> El modelo rigde con alfa = 20 (gris), es el menos sobreajustado a los datos. También es el más cercano a una línea horizontal lo que corresponde al efecto de alfas grandes."
   ]
  },
  {
   "cell_type": "markdown",
   "id": "acb37507",
   "metadata": {},
   "source": [
    "# __Regresión Lasso__"
   ]
  },
  {
   "cell_type": "markdown",
   "id": "aa9076bd",
   "metadata": {},
   "source": [
    "Conocida tambien como _Regresión por el Operador de Selección y Reducción Absoluta Mínima_, agrega un término de regularización a la función de costo, al igual que ridge, pero utiliza la suma de los valores absolutos de los pesos del modelo (la norma), $\\alpha \\sum_{i}^{n} \\left |{w_{i}} \\right |$.\n",
    "\n",
    "- Este término también se agrega a la función de costo durante el entrenamiento y para evaluar el rendimiento del modelo se usa una medida no regularizada.\n",
    "\n",
    "- Los datos deben escalarse antes de usar lasso para evitar sesgo por diferentes magnitudes.\n",
    "\n",
    "- El parámetro $\\alpha$ controla la regularización del modelo. Si $\\alpha = 0$ se llega a la regresión lineal. Si $\\alpha$ es grande muchos pesos se hacen cero lo que ayuda a seleccionar las variables que realmente influyen sobre el modelo."
   ]
  },
  {
   "cell_type": "markdown",
   "id": "772807fe",
   "metadata": {},
   "source": [
    "## Cómo funciona?"
   ]
  },
  {
   "cell_type": "markdown",
   "id": "af26d47a",
   "metadata": {},
   "source": [
    "Supongamos que queremos predecir una variable $y$ a partir de dos variables $x_1$ y $x_2$. Contamos con 3 observaciones:"
   ]
  },
  {
   "cell_type": "markdown",
   "id": "4eea25ce",
   "metadata": {},
   "source": [
    "| x₁ | x₂ | y |\n",
    "| -- | -- | - |\n",
    "| 1  | 0  | 1 |\n",
    "| 0  | 1  | 1 |\n",
    "| 1  | 1  | 2 |\n"
   ]
  },
  {
   "cell_type": "markdown",
   "id": "bc1f8750",
   "metadata": {},
   "source": [
    "Los datos viene modelados por un modelo de regresión lineal:\n",
    "\n",
    "$$y = w_{1}x_{1} + w_{2}x_{2}$$\n",
    "\n",
    "Queremos encontrar los valores de $w_{1}$ y $w_{2}$ que minimicen el error cuadrático medio (MSE) y también que minimíce el error cuadratico medio (MSE) con un término adicional llamado regularización Lasso.\n",
    "\n",
    "El MSE del modelo lineal viene dado por:\n",
    "\n",
    "$$J(w) =  = \\sum_{i=1}^{3}(y_i -(w_{1}x_{1i} + x_{2}w_{2i}))^2$$\n",
    "\n",
    "Mientras que el MSE con regularización viene dado por:\n",
    "\n",
    "$$J_{lasso}(w_1, w_2) =  = \\sum_{i=1}^{3}(y_i -(w_{1}x_{1i} + x_{2}w_{2i}))^2 + \\alpha(\\left | w_1\\right | + \\left | w_2\\right |)$$\n",
    "\n",
    "Expandiendo $J_{lasso}(w_1, w_2)$ obtenemos la función que queremos minimizar respecto a $w_1$ y $w_2$.\n",
    "\n",
    "$$J(w_1, w_2) = (1 - w_{1})^2 + (1 - w_{2})^2 + (2 - w_{1} - w_{2})^2 + \\alpha(\\left | w_{1}\\right | + \\left | w_2\\right |)$$"
   ]
  },
  {
   "cell_type": "markdown",
   "id": "b9247285",
   "metadata": {},
   "source": [
    "Si $\\alpha = 0$, llegamos a $J(w)$. Vamos a obtener el mínimo para esta función derivando con respecto a $w_1$ y $w_2$ e igualando a cero:\n",
    "\n",
    "$$ \\frac{\\partial J}{\\partial w_{1}} = -2(1 - w_1) - 2(2 - w_{1} - w_{2}) = 0$$\n",
    "\n",
    "$$ \\frac{\\partial J}{\\partial w_{2}} = -2(1 - w_2) - 2(2 - w_{1} - w_{2}) = 0$$\n",
    "\n",
    "Resolviendo este sistema obtenemos:\n",
    "\n",
    "$$w_{1} = 1, w_{2} = 1$$"
   ]
  },
  {
   "cell_type": "markdown",
   "id": "01e5ac9c",
   "metadata": {},
   "source": [
    "Ahora, probemos que los valores de $w_1$ y $w_2$ sean los adecuados:\n",
    "\n",
    "- $y(x_{1}=1, x_{2}= 0) = (1)(1) + (0)(1) = 1$\n",
    "- $y(x_{1}=0, x_{2}= 1) = (0)(1) + (1)(1) = 1$\n",
    "- $y(x_{1}=1, x_{2}= 1) = (1)(1) + (1)(1) = 2$\n",
    "\n",
    "Llegamos a los valores de $y$ dados en la tabla, por tanto, los pesos calculados son los correctos!"
   ]
  },
  {
   "cell_type": "markdown",
   "id": "60e6abb3",
   "metadata": {},
   "source": [
    "Ahora, vamos a minimizar la función $J_{lasso}(w)$ para $\\alpha = 1$ \n",
    "\n",
    "$$J_{lasso}(w_1, w_2) = (1 - w_{1})^2 + (1 - w_{2})^2 + (2 - w_{1} - w_{2})^2 + 1 \\cdot(\\left | w_{1}\\right | + \\left | w_2\\right |)$$\n",
    "\n",
    "La tarea de minimizar esta función es compleja debido a que los términos de valor absoluto no son diferenciables en 0. Mediante un algoritmo de optimización como _Coordinate Descent_ obtenemos los siguientes valores para los pesos:\n",
    "\n",
    "$$w_{1} = 0.9$$\n",
    "$$w_{2} = 0.8, w_{2} = 0$$\n",
    "\n",
    "El peso $w_2$ puede volverse exactamente 0 dependiendo de la magnitud $\\alpha$"
   ]
  },
  {
   "cell_type": "markdown",
   "id": "d846f774",
   "metadata": {},
   "source": [
    "En resumen:\n",
    "\n",
    "> Lasso reduce la magnitud de los coeficientes.\n",
    "\n",
    "> Puede eliminar variables irrelevantes (haciendo selección automática de características).\n",
    "\n",
    "> Un incremento de $\\alpha$ hace que mayor cantidad de coeficientes tiendan a cero."
   ]
  },
  {
   "cell_type": "markdown",
   "id": "d2829d60",
   "metadata": {},
   "source": [
    "## Cuando usar Lasso"
   ]
  },
  {
   "cell_type": "markdown",
   "id": "f238b8e2",
   "metadata": {},
   "source": [
    "- Cuando hay muchas variables y no todas son importantes.\n",
    "\n",
    "- Cuando las variables presentan multicolinealidad, haciendo que lasso tome una de ellas y descarta el resto.\n",
    "\n",
    "- Cuando el número de variables es mayor que el número de observaciones.\n",
    "\n",
    "- Cuando se busca reducir a cero algunos coeficientes."
   ]
  },
  {
   "cell_type": "markdown",
   "id": "9f5ca839",
   "metadata": {},
   "source": [
    "## Implementación de Lasso con Scikit-Learn"
   ]
  },
  {
   "cell_type": "markdown",
   "id": "eff26abc",
   "metadata": {},
   "source": [
    "En el siguiente ejemplo vamos a utilizar datos artificiales para mostrar cómo Lasso reduce los coeficientes irrelevantes a cero, ayudando a la selección de variables."
   ]
  },
  {
   "cell_type": "code",
   "execution_count": 2,
   "id": "95435f76",
   "metadata": {},
   "outputs": [],
   "source": [
    "# librerias\n",
    "import numpy as np\n",
    "import matplotlib.pyplot as plt\n",
    "from sklearn.linear_model import Lasso, LinearRegression\n",
    "from sklearn.model_selection import train_test_split\n",
    "from sklearn.preprocessing import StandardScaler\n",
    "from sklearn.metrics import mean_squared_error\n",
    "\n",
    "# creamos una semilla para la reproducibilidad de los datos\n",
    "np.random.seed(42)\n",
    "\n",
    "# creamos 100 registros y 10 variables aleatoriamente\n",
    "X = np.random.randn(100, 10)\n",
    "\n",
    "# creamos la variable objetivo 'y' la cual sera influenciada solo por las\n",
    "# 3 primeras variables\n",
    "coef_reales = np.array([3, -2, 1.5] + [0]*7)\n",
    "y = X @ coef_reales + np.random.randn(100)*0.5 # agrega ruido al modelo para simular que los datos no son perfectos"
   ]
  },
  {
   "cell_type": "markdown",
   "id": "24a78776",
   "metadata": {},
   "source": [
    "La ecuación de la regresion lineal, para estos datos, viene dada por:\n",
    "\n",
    "$$y_i = 3x_{i1} - 2x_{i2} + 1.5x_{i3} + 0x_{i4} +  0x_{i5} +  0x_{i6} +  0x_{i7} +  0x_{i8} +  0x_{i9} +  0x_{i10}$$\n",
    "\n",
    "Acá podemos notar que sólo las tres primeras variables son significativas para el modelo."
   ]
  },
  {
   "cell_type": "code",
   "execution_count": 3,
   "id": "49a7c319",
   "metadata": {},
   "outputs": [
    {
     "name": "stdout",
     "output_type": "stream",
     "text": [
      "Coeficiente Lineal: [ 2.66401254e+00 -2.10891648e+00  1.56952561e+00  3.83881365e-02\n",
      " -6.53192418e-02  6.02810939e-04 -1.45017449e-01  5.25787856e-02\n",
      "  1.37554068e-02 -1.34499429e-02]\n",
      "Coeficiente Lasso (alpha = 0.1): [ 2.55919486 -1.98725534  1.41597771  0.         -0.          0.\n",
      " -0.          0.          0.          0.        ]\n",
      " \n",
      "----------------------------------------------------------------\n",
      " \n",
      "MSE Lineal: 0.253\n",
      "MSE Lasso (alpha = 0.1): 0.231\n"
     ]
    }
   ],
   "source": [
    "# estandarizamos los datos ara que esten en la misma escala\n",
    "scaler = StandardScaler()\n",
    "X_scaled = scaler.fit_transform(X)\n",
    "\n",
    "# dividir datos en entrenamiento y prueba\n",
    "X_train, X_test, y_train, y_test = train_test_split(X_scaled, y, test_size=0.3, random_state=42)\n",
    "\n",
    "# regresion lineal sin regularizacion\n",
    "model_lineal = LinearRegression().fit(X_train, y_train)\n",
    "\n",
    "# Regresion lasso con alpha = 0.1\n",
    "model_lasso = Lasso(alpha=0.1).fit(X_train, y_train)\n",
    "\n",
    "# prediccion de ambos modelos\n",
    "y_pred = model_lineal.predict(X_test)\n",
    "y_pred_lasso = model_lasso.predict(X_test)\n",
    "\n",
    "# evaluacion de rendimiento\n",
    "mse = mean_squared_error(y_test, y_pred)\n",
    "mse_lasso = mean_squared_error(y_test, y_pred_lasso)\n",
    "\n",
    "# mostrar resultados\n",
    "print(f'Coeficiente Lineal: {model_lineal.coef_}')\n",
    "print(f'Coeficiente Lasso (alpha = 0.1): {model_lasso.coef_}')\n",
    "print(' ')\n",
    "print('-'*64)\n",
    "print(' ')\n",
    "print(f'MSE Lineal: {mse:.3f}')\n",
    "print(f'MSE Lasso (alpha = 0.1): {mse_lasso:.3f}')"
   ]
  },
  {
   "cell_type": "markdown",
   "id": "5ffd548d",
   "metadata": {},
   "source": [
    "> Los coeficientes de la regresión lineal son distintos de cero en todas las variables, incluyendo en aquellas que sabemos no aportan al modelo.\n",
    "\n",
    "> Sólo 3 coeficientes de la regresión Lasso son distinto de cero y corresponden a las variables que sabemos que aportan al modelo. Esto permite pasar de 10 a sólo 3 variables obteniendo un modelo igual de efectivo."
   ]
  },
  {
   "cell_type": "markdown",
   "id": "dec396c9",
   "metadata": {},
   "source": [
    "Aunque no podemos visualizar los datos en 10 dimensiones, podemos comparar los valores de los coeficientes en ambos modelos sabiendo de antemamo que las 3 primeras variables son las que influyen el modelo."
   ]
  },
  {
   "cell_type": "code",
   "execution_count": null,
   "id": "5c80b46c",
   "metadata": {},
   "outputs": [
    {
     "data": {
      "image/png": "[encoded data removed]",
      "text/plain": [
       "<Figure size 720x432 with 1 Axes>"
      ]
     },
     "metadata": {
      "needs_background": "light"
     },
     "output_type": "display_data"
    }
   ],
   "source": [
    "plt.figure(figsize=(10,6))\n",
    "plt.plot(model_lineal.coef_, label='Lineal')\n",
    "plt.plot(model_lasso.coef_, label='Lasso')\n",
    "plt.axhline(0, color='gray', linestyle='--')\n",
    "plt.title('Comparación de Coeficientes', fontsize=16, font='bold')\n",
    "plt.xlabel('Indice de variable', fontsize=14)\n",
    "plt.ylabel('Valor de coeficientes', fontsize=14)\n",
    "plt.xlim(0, 9) \n",
    "plt.tight_layout()\n",
    "plt.legend()\n",
    "plt.show()"
   ]
  },
  {
   "cell_type": "markdown",
   "id": "1e83ca8d",
   "metadata": {},
   "source": [
    "> Se evidencia que algunos coeficientes de la regresión lineal son muy cercanos a cero pero no cero. \n",
    "\n",
    "> A partir del tercer indice de variable (la variable $x_{i4}$), los coeficientes de la regresión Lasso son ceros.\n",
    "\n",
    "> Ambos modelos tienen en cuenta la importancia de las 3 primeras variables y presentan valores muy similares. Sin embargo, el modelo Lasso reduce la complejidad del modelo pasando de 10 a solo 3 variables relvantes."
   ]
  },
  {
   "cell_type": "markdown",
   "id": "099c5ccd",
   "metadata": {},
   "source": [
    "# __Regresión Elastic Net__"
   ]
  },
  {
   "cell_type": "markdown",
   "id": "50198ba3",
   "metadata": {},
   "source": [
    "Es una regresión que combina Ridge y Lasso. Consiste en agregar el siguiente término a la función de costo:\n",
    "\n",
    "$$ r\\alpha\\sum_{i=1}^{n}\\left | w_i\\right | + \\frac{1-r}{2} \\alpha\\sum_{i=1}^{n}w_{i}^2$$\n",
    "\n",
    "Se trata de la suma ponderada de los términos de regularización Lasso y Ridge que es controlada por el parámetro $r$. Cuando $r=0$, Elastic Net es equivalente a la regresión Ridge, y cuando $r=1$, es equivalente a la regresión Lasso.\n",
    "\n",
    "Su objetivo es mejorar el rendimiento de los modelos lineales utilizando lo mejor de ambas regularizaciones: reduciendo los pesos, eliminando aquellos que no aportan y manteniendo la estabilidad entre ellos."
   ]
  },
  {
   "cell_type": "markdown",
   "id": "3bb39c10",
   "metadata": {},
   "source": [
    "## Cómo funciona?"
   ]
  },
  {
   "cell_type": "markdown",
   "id": "09b51fd8",
   "metadata": {},
   "source": [
    "En regresión lineal clásica, se busca minimizar el error cuadrático medio (MSE):\n",
    "\n",
    "$$ Costo = J(w) = \\frac{1}{n}\\sum_{i=1}^{n}(y_i - y)^2$$\n",
    "\n",
    "Con Elastic Net, se agrega una penalización al función de costo:\n",
    "\n",
    "$$Costo_{EN} = \\frac{1}{n}\\sum_{i=1}^{n}(y_i - y)^2 + \\alpha[(1-r)(w_{1}^2 + w_{2}^2) + r(\\left | w_1\\right | + \\left | w_2\\right |)]$$\n",
    "\n",
    "Donde\n",
    "\n",
    "- $\\alpha$ controla la fuerza de regularización.\n",
    "\n",
    "- $r$ controla el peso entre Lasso y Ridge.\n",
    "\n",
    "Supongamos que tenemos los siguientes datos y una sola variable $x$:\n",
    "\n",
    "| x | y |\n",
    "| - | - |\n",
    "| 1 | 3 |\n",
    "| 2 | 5 |\n",
    "| 3 | 7 |\n",
    "| 4 | 9 |\n",
    "\n",
    "Queremos ajustar un modelo:\n",
    "\n",
    "$$y = wx + b$$\n",
    "\n",
    "Supongamos inicialmente que $b=0$. Vamos a buscar el mejor valor de $w$ que se ajuste a los datos y para ello, se minimiza la función $Costo$ en función de $w$. Sustituimos los datos en $J(w)$\n",
    "\n",
    "$$J(w) = \\frac{1}{4}[(3-w\\cdot1)^2 + (5-w\\cdot2)^2 + (7-w\\cdot3)^2 + (9-w\\cdot4)^2]$$\n",
    "\n",
    "Al agregar la penalización Elastic Net obtenemos,\n",
    "\n",
    "$$Costo_{EN} = J(w) + \\alpha[r\\left | w\\right | + rw^2]$$\n",
    "\n",
    "Supongamos que $\\alpha=1$ y $r=0.5$, es decir, mezcla 50% Lasso y 50% Ridge. Entonces,\n",
    "\n",
    "$$Costo_{EN} = J(w) + 1[0.5\\left | w\\right | + 0.5w^2]$$\n",
    "\n",
    "Los cálculos para llegar al $w$ óptimo son complicados. Aun así, podemos interpretar la ecuación anterior para mostrar el efecto de la penalización en el ajuste del modelo.\n",
    "\n",
    "> Si $w$ es muy grande, $w^2$ (Ridge) lo penaliza aún más.\n",
    "\n",
    "> Si $w$ es pequeño pero no útil, $\\left | w\\right |$ (Lasso) puede llevarlo a cero.\n",
    "\n",
    "> De esta forma Elastic Net combina ambas cosas: Limita la magnitud del peso y al mismo tiempo puede eliminar aquellos pesos que no aportan mucho. "
   ]
  },
  {
   "cell_type": "markdown",
   "id": "bb3c2378",
   "metadata": {},
   "source": [
    "## Cuando usar Elastic Net"
   ]
  },
  {
   "cell_type": "markdown",
   "id": "f7c48749",
   "metadata": {},
   "source": [
    "- Cuando hay muchas variables predictoras. Lasso tiende a seleccionar solo una de varias variables correlacionadas y eliminar el resto. Ridge las distribuye. Elastic Net combina lo mejor de ambos.\n",
    "\n",
    "- Cuando hay multicolinealidad. Lasso puede volverse inestable al elegir una y descartar las otras. Elastic Net distribuye mejor el peso entre las variables correlacionadas.\n",
    "\n",
    "- Cuando se busca tanto seleccion de variables como estabilidad. Lasso selecciona variables pero no es estable si hay correlacion. Ridge es estable pero no reduce a cero ningun coeficiente.\n",
    "\n",
    "- Cuando se requiere un modelo mas generalizable."
   ]
  },
  {
   "cell_type": "markdown",
   "id": "bb49fe2e",
   "metadata": {},
   "source": [
    "## Implementacion de Elastic Net con Scikit Learn "
   ]
  },
  {
   "cell_type": "markdown",
   "id": "a0932fe9",
   "metadata": {},
   "source": [
    "En el siguiente ejemplo vamos a usar datos artificiales correspondientes a un problema de regresion con variables altamente correlacionadas y algunas irrelevantes. Vamos aplicar los modelos de regresion Ridge, Lasso y Elastic Net para compararlos y mostrar su efectividad"
   ]
  },
  {
   "cell_type": "code",
   "execution_count": 10,
   "id": "04d63675",
   "metadata": {},
   "outputs": [
    {
     "name": "stderr",
     "output_type": "stream",
     "text": [
      "/home/jbernal/anaconda3/envs/data/lib/python3.10/site-packages/sklearn/linear_model/_coordinate_descent.py:631: ConvergenceWarning: Objective did not converge. You might want to increase the number of iterations, check the scale of the features or consider increasing regularisation. Duality gap: 7.438e-01, tolerance: 7.124e-01\n",
      "  model = cd_fast.enet_coordinate_descent(\n"
     ]
    }
   ],
   "source": [
    "# librerias\n",
    "import numpy as np\n",
    "import matplotlib.pyplot as plt\n",
    "from sklearn.linear_model import LinearRegression, Ridge, Lasso, ElasticNet\n",
    "from sklearn.metrics import mean_squared_error\n",
    "from sklearn.model_selection import train_test_split\n",
    "\n",
    "# creamos 100 registros y 10 variables predictoras\n",
    "np.random.seed(0)\n",
    "n_samples, n_features = 100, 10\n",
    "\n",
    "# creamos correlacion entre variables predictoras\n",
    "X = np.random.randn(n_samples, n_features)\n",
    "X[:, 1] = X[:, 0] + 0.01 * np.random.randn(n_samples)  # Correlacionada con la 0\n",
    "X[:, 2] = X[:, 0] - 0.01 * np.random.randn(n_samples)  # Correlacionada con la 0\n",
    "\n",
    "# le damos coeficientes verdaderos solo a las primeras tres variables\n",
    "true_coef = np.array([5, 2, 3, 0, 0, 0, 0, 0, 0, 0])\n",
    "y = X @ true_coef + np.random.randn(n_samples) * 0.5  # y con algo de ruido\n",
    "\n",
    "# dividir los datos en entrenamiento y prueba\n",
    "X_train, X_test, y_train, y_test = train_test_split(X, y, random_state=42)\n",
    "\n",
    "# creamos los modelos con los parametros dados\n",
    "models = {\n",
    "    'Lineal': LinearRegression(),\n",
    "    'Ridge': Ridge(alpha=1.0),\n",
    "    'Lasso': Lasso(alpha=0.1),\n",
    "    'ElasticNet': ElasticNet(alpha=0.1, l1_ratio=0.5) # 50% de lasso y 50% de ridge\n",
    "}\n",
    "\n",
    "results = {}\n",
    "\n",
    "# Entrenar, predecir y guardar resultados\n",
    "for name, model in models.items():\n",
    "    model.fit(X_train, y_train)\n",
    "    y_pred = model.predict(X_test)\n",
    "    mse = mean_squared_error(y_test, y_pred)\n",
    "    results[name] = {\n",
    "        'modelo': model,\n",
    "        'MSE': mse,\n",
    "        'coef': model.coef_\n",
    "    }"
   ]
  },
  {
   "cell_type": "code",
   "execution_count": 14,
   "id": "078849a4",
   "metadata": {},
   "outputs": [
    {
     "data": {
      "text/plain": [
       "{'Lineal': {'modelo': LinearRegression(),\n",
       "  'MSE': 0.24328154704898097,\n",
       "  'coef': array([-6.27666743, 13.76522435,  2.46785828,  0.02333507, -0.02290574,\n",
       "          0.09934   , -0.04904901,  0.01894229,  0.05354988,  0.06736018])},\n",
       " 'Ridge': {'modelo': Ridge(),\n",
       "  'MSE': 0.2721125934291895,\n",
       "  'coef': array([ 3.28639926,  3.33621616,  3.28670601,  0.06222162, -0.05103253,\n",
       "          0.08505703, -0.02840219,  0.03023754,  0.06045483,  0.05763128])},\n",
       " 'Lasso': {'modelo': Lasso(alpha=0.1),\n",
       "  'MSE': 0.3133836153968563,\n",
       "  'coef': array([ 8.58384027,  1.26317819,  0.        ,  0.        , -0.        ,\n",
       "          0.        , -0.        ,  0.        ,  0.        ,  0.        ])},\n",
       " 'ElasticNet': {'modelo': ElasticNet(alpha=0.1),\n",
       "  'MSE': 0.3614193349466798,\n",
       "  'coef': array([ 3.22871047e+00,  3.24916934e+00,  3.24455971e+00,  2.23520361e-03,\n",
       "         -2.09498239e-02,  2.09884713e-02, -0.00000000e+00,  0.00000000e+00,\n",
       "          0.00000000e+00,  0.00000000e+00])}}"
      ]
     },
     "execution_count": 14,
     "metadata": {},
     "output_type": "execute_result"
    }
   ],
   "source": [
    "results"
   ]
  },
  {
   "cell_type": "markdown",
   "id": "c06eb793",
   "metadata": {},
   "source": [
    "Debemos tener en cuenta que las tres primeras variables son las realmente relevantes y estan altamente correlacionadas. El resto son ruido."
   ]
  },
  {
   "cell_type": "code",
   "execution_count": 12,
   "id": "fd565227",
   "metadata": {},
   "outputs": [
    {
     "data": {
      "image/png": "[encoded data removed]",
      "text/plain": [
       "<Figure size 864x432 with 1 Axes>"
      ]
     },
     "metadata": {
      "needs_background": "light"
     },
     "output_type": "display_data"
    }
   ],
   "source": [
    "plt.figure(figsize=(12, 6))\n",
    "for name, res in results.items():\n",
    "    plt.plot(res['coef'], marker='o', label=f'{name} (MSE: {res[\"MSE\"]:.3f})')\n",
    "\n",
    "plt.axhline(0, color='gray', linestyle='--')\n",
    "plt.title('Comparación de coeficientes por modelo')\n",
    "plt.xlabel('Variables')\n",
    "plt.ylabel('Valor del Coeficiente')\n",
    "plt.legend()\n",
    "plt.grid(True)\n",
    "plt.show()"
   ]
  },
  {
   "cell_type": "markdown",
   "id": "2d03cb13",
   "metadata": {},
   "source": [
    "__Regresion Lineal__\n",
    "\n",
    "> Asigna coeficientes grandes a las 3 primeras variables debido a que estan correlacionadas. Tambien asigna coeficientes pequenos a variables irrelevantes lo que causa sobreajuste.\n",
    "\n",
    "> Tiene el menor MSE en test, pero menos interpretabilidad debido a que usa variables irrelevantes que ocacionan el sobreajuste.\n",
    "\n",
    "__Regresion Ridge__\n",
    "\n",
    "> Reduce los coeficientes grandes sin hacerlos cero. Conserva la informacion de las variables correlacionadas pero con menor magnitud. Esto lo hace mas estable y menos propenso al sobreajuste.\n",
    "\n",
    "__Regresion Lasso__\n",
    "\n",
    "> Elimina muchos coeficientes, conservando solo los de las 3 primeras variables. \n",
    "\n",
    "> Penaliza fuertemente la redundancia lo que afecta las variables relevantes que estan correlacionadas\n",
    "\n",
    "__Elastic Net__\n",
    "\n",
    "> Combina las ropiedades de lasso y ridge eliminando las variables que son ruido y manteniendo coeicientes moderados en las variables relevantes\n",
    "\n",
    "> A pesar que orece un MSE ligeramente mayor, ofrece una buena combinacion de precision e interpretabilidad."
   ]
  },
  {
   "cell_type": "markdown",
   "id": "3fba3a5b",
   "metadata": {},
   "source": [
    "# A tener en cuenta"
   ]
  },
  {
   "cell_type": "markdown",
   "id": "4621c55b",
   "metadata": {},
   "source": [
    "Casi siempre es preferible tener un poco de regularizacion en problemas de regresion lineal, por lo que se debe evitar la regresion lineal simple.\n",
    "\n",
    "Ridge es un buen valor predeterminado, pero si sospecha que solo unas pocas variables predictoras son utiles, es preferible que utilice Lasso o Elastic Net porque tienden a reducir el eso de las variables inutiles a cero.\n",
    "\n",
    "En general, es mejor Elastic Net que Lasso porque este ultimo puede comportarse de manera erratica cuando el numero de variables es mayor que el numero de muestras de entrenamiento o cuando varias variables estan fuertemente correlacionadas."
   ]
  }
 ],
 "metadata": {
  "kernelspec": {
   "display_name": "data",
   "language": "python",
   "name": "python3"
  },
  "language_info": {
   "codemirror_mode": {
    "name": "ipython",
    "version": 3
   },
   "file_extension": ".py",
   "mimetype": "text/x-python",
   "name": "python",
   "nbconvert_exporter": "python",
   "pygments_lexer": "ipython3",
   "version": "3.10.8"
  }
 },
 "nbformat": 4,
 "nbformat_minor": 5
}
