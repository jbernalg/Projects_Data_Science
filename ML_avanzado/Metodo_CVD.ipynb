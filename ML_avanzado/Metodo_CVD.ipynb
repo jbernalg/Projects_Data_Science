{
 "cells": [
  {
   "cell_type": "markdown",
   "id": "e9362846",
   "metadata": {},
   "source": [
    "# __Descomposicion de Valores Singulares (SVD)__"
   ]
  },
  {
   "cell_type": "markdown",
   "id": "b59724a0",
   "metadata": {},
   "source": [
    "Es un metodo que surge de realizar la descomposicion de una matriz. Esta intimamente relacionado con el hecho de diagonalizar una matriz simetrica.\n",
    "\n",
    "Su objetivo es lograr, a partir de la descomposicion de matrices, obtener la mejor aproximacion de la matriz de datos inicial almacenando la menor cantidad de datos posibles.\n",
    "\n",
    "Ejemplo, si contamos con un set de datos de 50 features, lo que se busca es con menos cantidad de features representar lo mejor posible la variabilidad de los datos."
   ]
  }
 ],
 "metadata": {
  "language_info": {
   "name": "python"
  }
 },
 "nbformat": 4,
 "nbformat_minor": 5
}
