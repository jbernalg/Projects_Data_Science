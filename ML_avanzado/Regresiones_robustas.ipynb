{
 "cells": [
  {
   "cell_type": "markdown",
   "id": "9085ec1b",
   "metadata": {},
   "source": [
    "# __Regresiones Robustas__"
   ]
  },
  {
   "cell_type": "markdown",
   "id": "265522b3",
   "metadata": {},
   "source": [
    "Son tecnicas de regresion que resisten mejor los efectos de valores atipicos en los datos. A diferencia de la regresion lineal estandar, que minimiza el error cuadratico medio (MSE) y puede verse afectada por outliers, las regresiones robustas utilizan funciones de perdida menos sensibles a los outliers.\n",
    "\n",
    "Por lo general siempre se cuenta con una fase de preprocesamiento en la cual se eliminan o transforman datos y se tratan los outliers. Sin embargo, hay ocasiones donde se requiere tratar estos valores directamente durante la aplicacion del modelo y es alli donde toman relevancia los modelos robustos que facilitan este proceso. \n",
    "\n",
    "Debemos entender que los valores atipicos son observaciones que no siguen el patron de las demas observaciones y violan los supuestos en los que se basa MSE lo que compromete el resultado de la regresion lineal.\n",
    "\n",
    "Las tecnicas de regresion robusta que nos ofrece Scikit - Learn son:\n",
    "\n",
    "- Huger Regressor.\n",
    "- RANSAC Regressor.\n",
    "- TheilSenRegressor.\n",
    "\n",
    "En lo que sigue veamos como funciona y como se implementa cada una de ellas"
   ]
  },
  {
   "cell_type": "markdown",
   "id": "35ffdfc7",
   "metadata": {},
   "source": [
    "## __Huger Regressor__"
   ]
  },
  {
   "cell_type": "markdown",
   "id": "c0ad2177",
   "metadata": {},
   "source": [
    "La regresion Huber modifica la funcion de perdida de la regresion lineal para reducir el impacto de los valores atipicos. Combina las fortalezas del Error Cuadratico Medio (MSE) y del Error Absoluto Medio (MAE), cambiando de MSE a MAE cuando los errores superan un umbral especifico representado por $\\delta$\n",
    "\n",
    "La funcion de perdida de Huber viene representada por:\n",
    "\n",
    "$$L_{\\delta}(r) = \\left\\{\\begin{matrix}\n",
    "\\frac{1}{2}r^2 & si \\left | r\\right | \\leq \\delta\\\\\n",
    "\\delta(\\left | r\\right | - \\frac{1}{2}\\delta) &  si \\left | r\\right | > \\delta\\\\\n",
    "\\end{matrix}\\right.$$\n",
    "\n",
    "Donde,\n",
    "\n",
    "- $r = y_i - \\hat{y_{i}}$, es el error entre la prediccion y el valor real (MSE).\n",
    "\n",
    "- $\\delta$ es un parametro que define cuando el error deja de ser cuadratico (MSE) y pasa a ser lineal (MAE).\n",
    "\n",
    "Si el error es pequeno ($\\left | r\\right | \\leq \\delta$) tratamos el outlier como un dato confiable y lo penalizamos con MSE. En cambio, si el error es grande ($\\left | r\\right | > \\delta$) tratamos el outlier con mayor severidad penalizandolo con MAE"
   ]
  }
 ],
 "metadata": {
  "language_info": {
   "name": "python"
  }
 },
 "nbformat": 4,
 "nbformat_minor": 5
}
