{
 "cells": [
  {
   "cell_type": "markdown",
   "id": "9085ec1b",
   "metadata": {},
   "source": [
    "# __Regresiones Robustas__"
   ]
  },
  {
   "cell_type": "markdown",
   "id": "265522b3",
   "metadata": {},
   "source": [
    "Son tecnicas de regresion que resisten mejor los efectos de valores atipicos en los datos. A diferencia de la regresion lineal estandar, que minimiza el error cuadratico medio (MSE) y puede verse afectada por outliers, las regresiones robustas utilizan funciones de perdida menos sensibles a los outliers.\n",
    "\n",
    "Por lo general siempre se cuenta con una fase de preprocesamiento en la cual se eliminan o transforman datos y se tratan los outliers. Sin embargo, hay ocasiones donde se requiere tratar estos valores directamente durante la aplicacion del modelo y es alli donde toman relevancia los modelos robustos que facilitan este proceso. \n",
    "\n",
    "Debemos entender que los valores atipicos son observaciones que no siguen el patron de las demas observaciones y violan los supuestos en los que se basa MSE lo que compromete el resultado de la regresion lineal.\n",
    "\n",
    "Las tecnicas de regresion robusta que nos ofrece Scikit - Learn son:\n",
    "\n",
    "- Huger Regressor.\n",
    "- RANSAC Regressor.\n",
    "- TheilSenRegressor.\n",
    "\n",
    "En lo que sigue veamos como funciona y como se implementa cada una de ellas"
   ]
  }
 ],
 "metadata": {
  "language_info": {
   "name": "python"
  }
 },
 "nbformat": 4,
 "nbformat_minor": 5
}
