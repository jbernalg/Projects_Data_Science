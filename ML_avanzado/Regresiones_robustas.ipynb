{
 "cells": [
  {
   "cell_type": "markdown",
   "id": "9085ec1b",
   "metadata": {},
   "source": [
    "# __Regresiones Robustas__"
   ]
  },
  {
   "cell_type": "markdown",
   "id": "265522b3",
   "metadata": {},
   "source": [
    "Son tecnicas de regresion que resisten mejor los efectos de valores atipicos en los datos. A diferencia de la regresion lineal estandar, que minimiza el error cuadratico medio (MSE) y puede verse afectada por outliers, las regresiones robustas utilizan funciones de perdida menos sensibles a los outliers.\n",
    "\n",
    "Por lo general siempre se cuenta con una fase de preprocesamiento en la cual se eliminan o transforman datos y se tratan los outliers. Sin embargo, hay ocasiones donde se requiere tratar estos valores directamente durante la aplicacion del modelo y es alli donde toman relevancia los modelos robustos que facilitan este proceso. \n",
    "\n",
    "Debemos entender que los valores atipicos son observaciones que no siguen el patron de las demas observaciones y violan los supuestos en los que se basa MSE lo que compromete el resultado de la regresion lineal.\n",
    "\n",
    "Las tecnicas de regresion robusta que nos ofrece Scikit - Learn son:\n",
    "\n",
    "- Huger Regressor.\n",
    "- RANSAC Regressor.\n",
    "- TheilSenRegressor.\n",
    "\n",
    "En lo que sigue veamos como funciona y como se implementa cada una de ellas"
   ]
  },
  {
   "cell_type": "markdown",
   "id": "35ffdfc7",
   "metadata": {},
   "source": [
    "# __Huger Regressor__"
   ]
  },
  {
   "cell_type": "markdown",
   "id": "c0ad2177",
   "metadata": {},
   "source": [
    "La regresion Huber modifica la funcion de perdida de la regresion lineal para reducir el impacto de los valores atipicos. Combina las fortalezas del Error Cuadratico Medio (MSE) y del Error Absoluto Medio (MAE), cambiando de MSE a MAE cuando los errores superan un umbral especifico representado por $\\delta$\n",
    "\n",
    "La funcion de perdida de Huber viene representada por:\n",
    "\n",
    "$$L_{\\delta}(r) = \\left\\{\\begin{matrix}\n",
    "\\frac{1}{2}r^2 & si \\left | r\\right | \\leq \\delta\\\\\n",
    "\\delta(\\left | r\\right | - \\frac{1}{2}\\delta) &  si \\left | r\\right | > \\delta\\\\\n",
    "\\end{matrix}\\right.$$\n",
    "\n",
    "Donde,\n",
    "\n",
    "- $r = y_i - \\hat{y_{i}}$, es el error entre la prediccion y el valor real (MSE).\n",
    "\n",
    "- $\\delta$ es un parametro que define cuando el error deja de ser cuadratico (MSE) y pasa a ser lineal (MAE).\n",
    "\n",
    "Si el error es pequeno ($\\left | r\\right | \\leq \\delta$) tratamos el outlier como un dato confiable y lo penalizamos con MSE. En cambio, si el error es grande ($\\left | r\\right | > \\delta$) tratamos el outlier con mayor severidad penalizandolo con MAE"
   ]
  },
  {
   "cell_type": "markdown",
   "id": "fb60ada9",
   "metadata": {},
   "source": [
    "## Como funciona?"
   ]
  },
  {
   "cell_type": "markdown",
   "id": "e4dedd33",
   "metadata": {},
   "source": [
    "Vamos a ajustar un modelo a un conjunto de datos que contiene outliers usando la regresion Huber. Los datos vienen representados en la siguiente tabla:\n",
    "\n",
    "| $x_i$ | $y_i$               |\n",
    "| ----- | ------------------- |\n",
    "| 1     | 2                   |\n",
    "| 2     | 4                   |\n",
    "| 3     | 100       ← outlier |\n",
    "\n",
    "Probemos un modelo cuyos parametros los definimos como $w = 1.5$ y $b=0.5$. La ecuacion del modelo nos queda:\n",
    "\n",
    "$$\\hat{y} = 1.5x + 0.5$$\n",
    "\n",
    "Procedemos a calcular las predicciones $\\hat{y_i}$ que arroja el modelo para cada dato.\n",
    "\n",
    "- Para $x=1$:   $\\hat{y_1} = 1.5(1) + 0.5 = 1.5 + 0.5 \\Rightarrow \\hat{y_1} = 2$\n",
    "\n",
    "- Para $x=2$:   $\\hat{y_2} = 1.5(2) + 0.5 = 3.0 + 0.5 \\Rightarrow \\hat{y_1} = 3.5$\n",
    "\n",
    "- Para $x=3$:   $\\hat{y_3} = 1.5(3) + 0.5 = 4.5 + 0.5 \\Rightarrow \\hat{y_1} = 5$\n",
    "\n",
    "Ahora calculamos error entre las predicciones del modelo y el valor real.\n",
    "\n",
    "- $r_1 = y_1 - \\hat{y_1} = 2 - 2 = 0$\n",
    "\n",
    "- $r_2 = y_2 - \\hat{y_2} = 4 - 3.5 = 0.5$\n",
    "\n",
    "- $r_3 = y_1 - \\hat{y_1} = 100 - 5 = 95$\n",
    "\n",
    "Sabemos que la funcion de perdida de Huber viene dada por:\n",
    "\n",
    "$$L_{\\delta}(r) = \\left\\{\\begin{matrix}\n",
    "\\frac{1}{2}r^2 & si \\left | r\\right | \\leq \\delta\\\\\n",
    "\\delta(\\left | r\\right | - \\frac{1}{2}\\delta) &  si \\left | r\\right | > \\delta\\\\\n",
    "\\end{matrix}\\right.$$\n",
    "\n",
    "Calculamos la funcion de costo de Huber para cada dato, seleccionando el valor del delta como $\\delta = 1$. \n",
    "\n",
    "__Para__ $r_1 = 0$, vemos que $\\left | r\\right | \\leq \\delta$ por tanto, utilizamos la ecuacion que cumple esta condicion:\n",
    "\n",
    "$$L(r_1) = \\frac{1}{2}(0)^2 = 0$$\n",
    "\n",
    "__Para__ $r_2 = 0.5$, vemos que $\\left | r\\right | \\leq \\delta$ por tanto, utilizamos la misma ecuacion anterior:\n",
    "\n",
    "$$L(r_2) = \\frac{1}{2}(0.5)^2 = 0.125$$\n",
    "\n",
    "__Para__ $r_3 = 95$, vemos que $\\left | r\\right | > \\delta$ por tanto, utilizamos la ecuacion que cumple la condicion:\n",
    "\n",
    "$$L(r_3) = 1(95 - 0.5) = 94.5$$\n",
    "\n",
    "El costo total de Huber viene dado por el promedio de la perdida de Huber para cada dato:\n",
    "\n",
    "$$L_{\\delta} = \\frac{1}{3}(L_1 + L_2 + L_3) = \\frac{1}{3}(0 + 0.125 + 94.5) = 31.54$$"
   ]
  }
 ],
 "metadata": {
  "language_info": {
   "name": "python"
  }
 },
 "nbformat": 4,
 "nbformat_minor": 5
}
