{
 "cells": [
  {
   "cell_type": "markdown",
   "metadata": {},
   "source": [
    "# Ejercicios de Tuplas para practicar"
   ]
  },
  {
   "cell_type": "markdown",
   "metadata": {},
   "source": [
    "### Exercise 1\n",
    "\n",
    "Escribe un programa para descomprimir una tupla en varias variables"
   ]
  },
  {
   "cell_type": "code",
   "execution_count": 1,
   "metadata": {},
   "outputs": [
    {
     "name": "stdout",
     "output_type": "stream",
     "text": [
      "(6, 2, 9)\n"
     ]
    }
   ],
   "source": [
    "tupla = 6, 2, 9\n",
    "print(tupla)"
   ]
  },
  {
   "cell_type": "code",
   "execution_count": 2,
   "metadata": {},
   "outputs": [
    {
     "name": "stdout",
     "output_type": "stream",
     "text": [
      "Valor 1: 6, Valor 2: 2, Valor 3: 9\n"
     ]
    }
   ],
   "source": [
    "v1, v2, v3 = tupla\n",
    "print(f'Valor 1: {v1}, Valor 2: {v2}, Valor 3: {v3}')"
   ]
  },
  {
   "cell_type": "markdown",
   "metadata": {},
   "source": [
    "### Exercise 2\n",
    "\n",
    "Agrega un elemento a una tupla"
   ]
  },
  {
   "cell_type": "code",
   "execution_count": 3,
   "metadata": {},
   "outputs": [
    {
     "name": "stdout",
     "output_type": "stream",
     "text": [
      "('hola', 2, True, 4.63)\n"
     ]
    }
   ],
   "source": [
    "tupla = 'hola', 2, True, 4.63\n",
    "print(tupla)"
   ]
  },
  {
   "cell_type": "code",
   "execution_count": 4,
   "metadata": {},
   "outputs": [
    {
     "name": "stdout",
     "output_type": "stream",
     "text": [
      "('hola', 2, True, 4.63, 'Mundo')\n"
     ]
    }
   ],
   "source": [
    "# convertimos la tupla a una lista\n",
    "lista = list(tupla)\n",
    "\n",
    "# agregamos el nuevo elemento\n",
    "lista.append('Mundo')\n",
    "\n",
    "# convertimos nuevamente a tupla\n",
    "tupla = tuple(lista)\n",
    "\n",
    "# mostrar valores de tupla\n",
    "print(tupla)"
   ]
  },
  {
   "cell_type": "markdown",
   "metadata": {},
   "source": [
    "### Exercise 3\n",
    "\n",
    "Escriba un programa para obtener el cuarto elemento desde el primer y ultimo elemento de una tupla"
   ]
  },
  {
   "cell_type": "code",
   "execution_count": 5,
   "metadata": {},
   "outputs": [
    {
     "name": "stdout",
     "output_type": "stream",
     "text": [
      "('M', 'a', 'c', 'h', 'i', 'n', 'e', 'L', 'e', 'a', 'r', 'n', 'i', 'n', 'g')\n"
     ]
    }
   ],
   "source": [
    "text = 'MachineLearning'\n",
    "tupla = tuple(text)\n",
    "print(tupla)"
   ]
  },
  {
   "cell_type": "code",
   "execution_count": 6,
   "metadata": {},
   "outputs": [
    {
     "data": {
      "text/plain": [
       "'h'"
      ]
     },
     "execution_count": 6,
     "metadata": {},
     "output_type": "execute_result"
    }
   ],
   "source": [
    "# cuarto elemento desde el primer elemento de la tupla\n",
    "tupla[3]"
   ]
  },
  {
   "cell_type": "code",
   "execution_count": 8,
   "metadata": {},
   "outputs": [
    {
     "data": {
      "text/plain": [
       "'n'"
      ]
     },
     "execution_count": 8,
     "metadata": {},
     "output_type": "execute_result"
    }
   ],
   "source": [
    "# cuarto elemento desde el ultimo elemento de la tupla\n",
    "tupla[-4]"
   ]
  },
  {
   "cell_type": "markdown",
   "metadata": {},
   "source": [
    "### Exercise 4\n",
    "\n",
    "Modifica un elemento mutable dentro de una tupla"
   ]
  },
  {
   "cell_type": "code",
   "execution_count": 9,
   "metadata": {},
   "outputs": [
    {
     "name": "stdout",
     "output_type": "stream",
     "text": [
      "('hola', 5, [], True)\n"
     ]
    }
   ],
   "source": [
    "tupla = ('hola', 5, [], True)\n",
    "print(tupla)"
   ]
  },
  {
   "cell_type": "code",
   "execution_count": 10,
   "metadata": {},
   "outputs": [
    {
     "name": "stdout",
     "output_type": "stream",
     "text": [
      "('hola', 5, [], True)\n"
     ]
    }
   ],
   "source": [
    "# creamos una copia profunda de la tupla para que al modificar el elemento mutable no alterar la original\n",
    "from copy import deepcopy\n",
    "\n",
    "tupla_cp = deepcopy(tupla)\n",
    "print(tupla_cp)"
   ]
  },
  {
   "cell_type": "code",
   "execution_count": 11,
   "metadata": {},
   "outputs": [
    {
     "name": "stdout",
     "output_type": "stream",
     "text": [
      "Tupla modificada:  ('hola', 5, [12], True)\n",
      "Tupla sin modificar:  ('hola', 5, [], True)\n"
     ]
    }
   ],
   "source": [
    "# Agregamos un elemento a la lista dentro de la tupla\n",
    "tupla_cp[2].append(12)\n",
    "\n",
    "# mostramos ambas tuplas\n",
    "print('Tupla modificada: ',tupla_cp)\n",
    "print('Tupla sin modificar: ', tupla)"
   ]
  },
  {
   "cell_type": "markdown",
   "metadata": {},
   "source": [
    "### Exercise 5\n",
    "\n",
    "Programa para encontrar elementos repetidos en una tupla"
   ]
  },
  {
   "cell_type": "code",
   "execution_count": 14,
   "metadata": {},
   "outputs": [
    {
     "name": "stdout",
     "output_type": "stream",
     "text": [
      "(1, 4, 6, 4, 3, 7, 1, 4, 4, 3, 4)\n"
     ]
    }
   ],
   "source": [
    "tupla = 1, 4, 6, 4, 3, 7, 1, 4, 4, 3, 4\n",
    "print(tupla)"
   ]
  },
  {
   "cell_type": "code",
   "execution_count": 15,
   "metadata": {},
   "outputs": [
    {
     "name": "stdout",
     "output_type": "stream",
     "text": [
      "5\n"
     ]
    }
   ],
   "source": [
    "# contemos cuantos 4 aparecen en la tupla\n",
    "count = tupla.count(4)\n",
    "print(count)"
   ]
  },
  {
   "cell_type": "markdown",
   "metadata": {},
   "source": [
    "### Exercise 6\n",
    "\n",
    "Programa que compruebe si un elemento existe dentro de una tupla"
   ]
  },
  {
   "cell_type": "code",
   "execution_count": 16,
   "metadata": {},
   "outputs": [
    {
     "name": "stdout",
     "output_type": "stream",
     "text": [
      "(1, 'Hola', True, 4.33, False)\n"
     ]
    }
   ],
   "source": [
    "tupla = (1, 'Hola', True, 4.33, False)\n",
    "print(tupla)"
   ]
  },
  {
   "cell_type": "code",
   "execution_count": 17,
   "metadata": {},
   "outputs": [
    {
     "name": "stdout",
     "output_type": "stream",
     "text": [
      "True\n"
     ]
    }
   ],
   "source": [
    "# verificamos que la tupla contenga el elemento 'Hola'\n",
    "print('Hola' in tupla)"
   ]
  },
  {
   "cell_type": "code",
   "execution_count": 18,
   "metadata": {},
   "outputs": [
    {
     "name": "stdout",
     "output_type": "stream",
     "text": [
      "False\n"
     ]
    }
   ],
   "source": [
    "# verifiquemos que la tupla contenga el elemento 2\n",
    "print(2 in tupla)"
   ]
  },
  {
   "cell_type": "markdown",
   "metadata": {},
   "source": [
    "### Exercise 7\n",
    "\n",
    "Programa que corte una tupla en varios segmentos"
   ]
  },
  {
   "cell_type": "code",
   "execution_count": 1,
   "metadata": {},
   "outputs": [
    {
     "name": "stdout",
     "output_type": "stream",
     "text": [
      "(2, 5, 8, 2, 4, 9, 1, 32, 5, 33)\n"
     ]
    }
   ],
   "source": [
    "tupla1 = 2,5,8,2,4,9,1,32,5,33\n",
    "print(tupla1)"
   ]
  },
  {
   "cell_type": "code",
   "execution_count": 2,
   "metadata": {},
   "outputs": [
    {
     "name": "stdout",
     "output_type": "stream",
     "text": [
      "(2, 4)\n"
     ]
    }
   ],
   "source": [
    "# obtener el cuarto y quinto elemento en una nueva tupla\n",
    "slice_tupla = tupla1[3:5]\n",
    "print(slice_tupla)"
   ]
  },
  {
   "cell_type": "code",
   "execution_count": 4,
   "metadata": {},
   "outputs": [
    {
     "name": "stdout",
     "output_type": "stream",
     "text": [
      "(2, 5, 8, 2, 4, 9)\n"
     ]
    }
   ],
   "source": [
    "# obtener primeros 6 elementos de la tupla\n",
    "slice_tupla = tupla1[:6]\n",
    "print(slice_tupla) "
   ]
  },
  {
   "cell_type": "code",
   "execution_count": 6,
   "metadata": {},
   "outputs": [
    {
     "name": "stdout",
     "output_type": "stream",
     "text": [
      "(9, 1, 32, 5, 33)\n"
     ]
    }
   ],
   "source": [
    "# obtener del sexto elemento al ultimo\n",
    "slice_tupla = tupla1[5:]\n",
    "print(slice_tupla)"
   ]
  },
  {
   "cell_type": "code",
   "execution_count": 7,
   "metadata": {},
   "outputs": [
    {
     "name": "stdout",
     "output_type": "stream",
     "text": [
      "(8, 2, 4, 9)\n"
     ]
    }
   ],
   "source": [
    "# obtener los elementos desde la posicion -8 a -4\n",
    "slice_tupla = tupla1[-8:-4]\n",
    "print(slice_tupla)"
   ]
  },
  {
   "cell_type": "code",
   "execution_count": 8,
   "metadata": {},
   "outputs": [
    {
     "name": "stdout",
     "output_type": "stream",
     "text": [
      "(8, 4, 1, 5)\n"
     ]
    }
   ],
   "source": [
    "# obtener los elementos desde la tercera a la novena posicion con un paso de 2\n",
    "slice_tupla = tupla1[2:9:2]\n",
    "print(slice_tupla)"
   ]
  },
  {
   "cell_type": "markdown",
   "metadata": {},
   "source": [
    "### Exercise 8\n",
    "\n",
    "Programa que convierta una tupla en un diccionario"
   ]
  },
  {
   "cell_type": "markdown",
   "metadata": {},
   "source": [
    "Creamos una tupla que contenga tuplas anidadas, donde cada tupla interna consta de dos elementos."
   ]
  },
  {
   "cell_type": "code",
   "execution_count": 10,
   "metadata": {},
   "outputs": [
    {
     "name": "stdout",
     "output_type": "stream",
     "text": [
      "(('a', 23), ('b', 11))\n"
     ]
    }
   ],
   "source": [
    "tupla1 = (('a', 23), ('b', 11))\n",
    "print(tupla1)"
   ]
  },
  {
   "cell_type": "markdown",
   "metadata": {},
   "source": [
    "Crea un diccionario utilizando una expresion generadora para intercambiar los elementos de cada tupla interna"
   ]
  },
  {
   "cell_type": "code",
   "execution_count": 11,
   "metadata": {},
   "outputs": [
    {
     "name": "stdout",
     "output_type": "stream",
     "text": [
      "{'a': 23, 'b': 11}\n"
     ]
    }
   ],
   "source": [
    "diccionario = dict((x,y) for x,y in tupla1)\n",
    "print(diccionario)"
   ]
  },
  {
   "cell_type": "markdown",
   "metadata": {},
   "source": [
    "### Exercise 9\n",
    "\n",
    "Programa que reverse los elementos de una tupla"
   ]
  },
  {
   "cell_type": "code",
   "execution_count": 12,
   "metadata": {},
   "outputs": [
    {
     "name": "stdout",
     "output_type": "stream",
     "text": [
      "hola mundo\n"
     ]
    }
   ],
   "source": [
    "# creamos una tupla\n",
    "tupla1 = ('hola mundo')\n",
    "print(tupla1)"
   ]
  },
  {
   "cell_type": "markdown",
   "metadata": {},
   "source": [
    "Usamos la funcion reversed para intercambiar de posicion los elementos de la tupla. Esta funcion, devuelve un iterador invertido y no modifica el objeto original "
   ]
  },
  {
   "cell_type": "code",
   "execution_count": 13,
   "metadata": {},
   "outputs": [
    {
     "name": "stdout",
     "output_type": "stream",
     "text": [
      "<reversed object at 0x7f699c30f550>\n"
     ]
    }
   ],
   "source": [
    "ele_reversado = reversed(tupla1)\n",
    "print(ele_reversado)"
   ]
  },
  {
   "cell_type": "markdown",
   "metadata": {},
   "source": [
    "Convertimos el iterador invertido nuevamente en una tupla"
   ]
  },
  {
   "cell_type": "code",
   "execution_count": 14,
   "metadata": {},
   "outputs": [
    {
     "name": "stdout",
     "output_type": "stream",
     "text": [
      "('o', 'd', 'n', 'u', 'm', ' ', 'a', 'l', 'o', 'h')\n"
     ]
    }
   ],
   "source": [
    "tupla1 = tuple(ele_reversado)\n",
    "print(tupla1)"
   ]
  },
  {
   "cell_type": "markdown",
   "metadata": {},
   "source": [
    "### Exercise 10\n",
    "\n",
    "Programa que convierta la lista de tuplas en un diccionario"
   ]
  },
  {
   "cell_type": "code",
   "execution_count": 16,
   "metadata": {},
   "outputs": [
    {
     "name": "stdout",
     "output_type": "stream",
     "text": [
      "[('x', 1), ('x', 2), ('x', 3), ('y', 4), ('y', 5), ('y', 6)]\n"
     ]
    }
   ],
   "source": [
    "lista = [('x',1), ('x',2), ('x',3), ('y',4), ('y',5), ('y',6)]\n",
    "print(lista)"
   ]
  },
  {
   "cell_type": "markdown",
   "metadata": {},
   "source": [
    "Creamos un diccionario vacio"
   ]
  },
  {
   "cell_type": "code",
   "execution_count": 17,
   "metadata": {},
   "outputs": [],
   "source": [
    "d = {}"
   ]
  },
  {
   "cell_type": "markdown",
   "metadata": {},
   "source": [
    "Iteramos sobre cada tupla de la lista y agregamos cada elemento a su respectiva llave y valor."
   ]
  },
  {
   "cell_type": "code",
   "execution_count": 18,
   "metadata": {},
   "outputs": [
    {
     "name": "stdout",
     "output_type": "stream",
     "text": [
      "{'x': [1, 2, 3], 'y': [4, 5, 6]}\n"
     ]
    }
   ],
   "source": [
    "for a,b in lista:\n",
    "    # usamos setdefault para crear una lista vacia en el diccionario para la clave 'a' sino existe\n",
    "    d.setdefault(a, []).append(b)\n",
    "\n",
    "print(d)"
   ]
  },
  {
   "cell_type": "markdown",
   "metadata": {},
   "source": [
    "### Exercise 11\n",
    "\n",
    "Escriba un programa que reemplace el ultimo valor de las tuplas en una lista"
   ]
  },
  {
   "cell_type": "code",
   "execution_count": 19,
   "metadata": {},
   "outputs": [
    {
     "name": "stdout",
     "output_type": "stream",
     "text": [
      "[(10, 20, 30), (40, 50, 60), (70, 80, 90)]\n"
     ]
    }
   ],
   "source": [
    "# lista de tuplas\n",
    "lista = [(10,20,30), (40,50,60), (70,80,90)]\n",
    "print(lista)"
   ]
  },
  {
   "cell_type": "markdown",
   "metadata": {},
   "source": [
    "Vamos a reemplazar el ultimo valor de cada tupla por 100"
   ]
  },
  {
   "cell_type": "code",
   "execution_count": 20,
   "metadata": {},
   "outputs": [
    {
     "name": "stdout",
     "output_type": "stream",
     "text": [
      "[(10, 20, 100), (40, 50, 100), (70, 80, 100)]\n"
     ]
    }
   ],
   "source": [
    "new_lista = []\n",
    "\n",
    "for i in lista:\n",
    "    m_lista = list(i)\n",
    "    m_lista[2] = 100\n",
    "    new_lista.append(tuple(m_lista))\n",
    "\n",
    "print(new_lista)"
   ]
  },
  {
   "cell_type": "markdown",
   "metadata": {},
   "source": [
    "### Exercise 12\n",
    "\n",
    "Programa que elimina las tuplas vacias de una lista de tuplas"
   ]
  },
  {
   "cell_type": "code",
   "execution_count": 21,
   "metadata": {},
   "outputs": [
    {
     "name": "stdout",
     "output_type": "stream",
     "text": [
      "[(), (1, 'c'), (), (3, 45, 'd'), 'hola', ()]\n"
     ]
    }
   ],
   "source": [
    "# lista de tuplas con varias tuplas vacias  \n",
    "lista = [(), (1, 'c'), (), (3, 45, 'd'), ('hola'), ()]\n",
    "print(lista)"
   ]
  },
  {
   "cell_type": "markdown",
   "metadata": {},
   "source": [
    "Usamos list comprehension para filtrar las tuplas vacias"
   ]
  },
  {
   "cell_type": "code",
   "execution_count": 22,
   "metadata": {},
   "outputs": [
    {
     "name": "stdout",
     "output_type": "stream",
     "text": [
      "[(1, 'c'), (3, 45, 'd'), 'hola']\n"
     ]
    }
   ],
   "source": [
    "lista = [i for i in lista if i]\n",
    "print(lista)"
   ]
  }
 ],
 "metadata": {
  "kernelspec": {
   "display_name": "base",
   "language": "python",
   "name": "python3"
  },
  "language_info": {
   "codemirror_mode": {
    "name": "ipython",
    "version": 3
   },
   "file_extension": ".py",
   "mimetype": "text/x-python",
   "name": "python",
   "nbconvert_exporter": "python",
   "pygments_lexer": "ipython3",
   "version": "3.9.12"
  }
 },
 "nbformat": 4,
 "nbformat_minor": 2
}
