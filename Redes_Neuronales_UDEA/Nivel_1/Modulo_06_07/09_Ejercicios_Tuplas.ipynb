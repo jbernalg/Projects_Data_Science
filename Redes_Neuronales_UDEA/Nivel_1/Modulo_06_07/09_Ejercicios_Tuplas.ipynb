{
 "cells": [
  {
   "cell_type": "markdown",
   "metadata": {},
   "source": [
    "# Ejercicios de Tuplas para practicar"
   ]
  },
  {
   "cell_type": "markdown",
   "metadata": {},
   "source": [
    "### Exercise 1\n",
    "\n",
    "Escribe un programa para descomprimir una tupla en varias variables"
   ]
  },
  {
   "cell_type": "code",
   "execution_count": 1,
   "metadata": {},
   "outputs": [
    {
     "name": "stdout",
     "output_type": "stream",
     "text": [
      "(6, 2, 9)\n"
     ]
    }
   ],
   "source": [
    "tupla = 6, 2, 9\n",
    "print(tupla)"
   ]
  },
  {
   "cell_type": "code",
   "execution_count": 2,
   "metadata": {},
   "outputs": [
    {
     "name": "stdout",
     "output_type": "stream",
     "text": [
      "Valor 1: 6, Valor 2: 2, Valor 3: 9\n"
     ]
    }
   ],
   "source": [
    "v1, v2, v3 = tupla\n",
    "print(f'Valor 1: {v1}, Valor 2: {v2}, Valor 3: {v3}')"
   ]
  },
  {
   "cell_type": "markdown",
   "metadata": {},
   "source": [
    "### Exercise 2\n",
    "\n",
    "Agrega un elemento a una tupla"
   ]
  },
  {
   "cell_type": "code",
   "execution_count": 3,
   "metadata": {},
   "outputs": [
    {
     "name": "stdout",
     "output_type": "stream",
     "text": [
      "('hola', 2, True, 4.63)\n"
     ]
    }
   ],
   "source": [
    "tupla = 'hola', 2, True, 4.63\n",
    "print(tupla)"
   ]
  },
  {
   "cell_type": "code",
   "execution_count": 4,
   "metadata": {},
   "outputs": [
    {
     "name": "stdout",
     "output_type": "stream",
     "text": [
      "('hola', 2, True, 4.63, 'Mundo')\n"
     ]
    }
   ],
   "source": [
    "# convertimos la tupla a una lista\n",
    "lista = list(tupla)\n",
    "\n",
    "# agregamos el nuevo elemento\n",
    "lista.append('Mundo')\n",
    "\n",
    "# convertimos nuevamente a tupla\n",
    "tupla = tuple(lista)\n",
    "\n",
    "# mostrar valores de tupla\n",
    "print(tupla)"
   ]
  },
  {
   "cell_type": "markdown",
   "metadata": {},
   "source": [
    "### Exercise 3\n",
    "\n",
    "Escriba un programa para obtener el cuarto elemento desde el primer y ultimo elemento de una tupla"
   ]
  },
  {
   "cell_type": "code",
   "execution_count": 5,
   "metadata": {},
   "outputs": [
    {
     "name": "stdout",
     "output_type": "stream",
     "text": [
      "('M', 'a', 'c', 'h', 'i', 'n', 'e', 'L', 'e', 'a', 'r', 'n', 'i', 'n', 'g')\n"
     ]
    }
   ],
   "source": [
    "text = 'MachineLearning'\n",
    "tupla = tuple(text)\n",
    "print(tupla)"
   ]
  },
  {
   "cell_type": "code",
   "execution_count": 6,
   "metadata": {},
   "outputs": [
    {
     "data": {
      "text/plain": [
       "'h'"
      ]
     },
     "execution_count": 6,
     "metadata": {},
     "output_type": "execute_result"
    }
   ],
   "source": [
    "# cuarto elemento desde el primer elemento de la tupla\n",
    "tupla[3]"
   ]
  },
  {
   "cell_type": "code",
   "execution_count": 8,
   "metadata": {},
   "outputs": [
    {
     "data": {
      "text/plain": [
       "'n'"
      ]
     },
     "execution_count": 8,
     "metadata": {},
     "output_type": "execute_result"
    }
   ],
   "source": [
    "# cuarto elemento desde el ultimo elemento de la tupla\n",
    "tupla[-4]"
   ]
  },
  {
   "cell_type": "markdown",
   "metadata": {},
   "source": [
    "### Exercise 4\n",
    "\n",
    "Modifica un elemento mutable dentro de una tupla"
   ]
  },
  {
   "cell_type": "code",
   "execution_count": 9,
   "metadata": {},
   "outputs": [
    {
     "name": "stdout",
     "output_type": "stream",
     "text": [
      "('hola', 5, [], True)\n"
     ]
    }
   ],
   "source": [
    "tupla = ('hola', 5, [], True)\n",
    "print(tupla)"
   ]
  },
  {
   "cell_type": "code",
   "execution_count": 10,
   "metadata": {},
   "outputs": [
    {
     "name": "stdout",
     "output_type": "stream",
     "text": [
      "('hola', 5, [], True)\n"
     ]
    }
   ],
   "source": [
    "# creamos una copia profunda de la tupla para que al modificar el elemento mutable no alterar la original\n",
    "from copy import deepcopy\n",
    "\n",
    "tupla_cp = deepcopy(tupla)\n",
    "print(tupla_cp)"
   ]
  },
  {
   "cell_type": "code",
   "execution_count": 11,
   "metadata": {},
   "outputs": [
    {
     "name": "stdout",
     "output_type": "stream",
     "text": [
      "Tupla modificada:  ('hola', 5, [12], True)\n",
      "Tupla sin modificar:  ('hola', 5, [], True)\n"
     ]
    }
   ],
   "source": [
    "# Agregamos un elemento a la lista dentro de la tupla\n",
    "tupla_cp[2].append(12)\n",
    "\n",
    "# mostramos ambas tuplas\n",
    "print('Tupla modificada: ',tupla_cp)\n",
    "print('Tupla sin modificar: ', tupla)"
   ]
  },
  {
   "cell_type": "markdown",
   "metadata": {},
   "source": [
    "### Exercise 5\n",
    "\n",
    "Programa para encontrar elementos repetidos en una tupla"
   ]
  },
  {
   "cell_type": "code",
   "execution_count": 14,
   "metadata": {},
   "outputs": [
    {
     "name": "stdout",
     "output_type": "stream",
     "text": [
      "(1, 4, 6, 4, 3, 7, 1, 4, 4, 3, 4)\n"
     ]
    }
   ],
   "source": [
    "tupla = 1, 4, 6, 4, 3, 7, 1, 4, 4, 3, 4\n",
    "print(tupla)"
   ]
  },
  {
   "cell_type": "code",
   "execution_count": 15,
   "metadata": {},
   "outputs": [
    {
     "name": "stdout",
     "output_type": "stream",
     "text": [
      "5\n"
     ]
    }
   ],
   "source": [
    "# contemos cuantos 4 aparecen en la tupla\n",
    "count = tupla.count(4)\n",
    "print(count)"
   ]
  }
 ],
 "metadata": {
  "kernelspec": {
   "display_name": "base",
   "language": "python",
   "name": "python3"
  },
  "language_info": {
   "codemirror_mode": {
    "name": "ipython",
    "version": 3
   },
   "file_extension": ".py",
   "mimetype": "text/x-python",
   "name": "python",
   "nbconvert_exporter": "python",
   "pygments_lexer": "ipython3",
   "version": "3.9.12"
  }
 },
 "nbformat": 4,
 "nbformat_minor": 2
}
