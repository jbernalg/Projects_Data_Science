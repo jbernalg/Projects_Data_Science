{
 "cells": [
  {
   "cell_type": "markdown",
   "metadata": {},
   "source": [
    "## Operar sobre tiempos"
   ]
  },
  {
   "cell_type": "code",
   "execution_count": 1,
   "metadata": {},
   "outputs": [],
   "source": [
    "#librerias\n",
    "import pandas as pd\n",
    "import matplotlib.pyplot as plt"
   ]
  },
  {
   "cell_type": "code",
   "execution_count": 2,
   "metadata": {},
   "outputs": [],
   "source": [
    "# cargar datos\n",
    "datos = pd.read_csv('./data/ArtJan2018resumido.csv')\n",
    "df = pd.DataFrame(datos)"
   ]
  },
  {
   "cell_type": "code",
   "execution_count": 4,
   "metadata": {},
   "outputs": [
    {
     "data": {
      "text/html": [
       "<div>\n",
       "<style scoped>\n",
       "    .dataframe tbody tr th:only-of-type {\n",
       "        vertical-align: middle;\n",
       "    }\n",
       "\n",
       "    .dataframe tbody tr th {\n",
       "        vertical-align: top;\n",
       "    }\n",
       "\n",
       "    .dataframe thead th {\n",
       "        text-align: right;\n",
       "    }\n",
       "</style>\n",
       "<table border=\"1\" class=\"dataframe\">\n",
       "  <thead>\n",
       "    <tr style=\"text-align: right;\">\n",
       "      <th></th>\n",
       "      <th>articleID</th>\n",
       "      <th>articleWordCount</th>\n",
       "      <th>byline</th>\n",
       "      <th>documentType</th>\n",
       "      <th>headline</th>\n",
       "      <th>keywords</th>\n",
       "      <th>multimedia</th>\n",
       "      <th>newDesk</th>\n",
       "      <th>printPage</th>\n",
       "      <th>pubDate</th>\n",
       "      <th>sectionName</th>\n",
       "      <th>snippet</th>\n",
       "      <th>source</th>\n",
       "      <th>typeOfMaterial</th>\n",
       "      <th>webURL</th>\n",
       "    </tr>\n",
       "  </thead>\n",
       "  <tbody>\n",
       "    <tr>\n",
       "      <th>0</th>\n",
       "      <td>5a7101c110f40f00018be961</td>\n",
       "      <td>1322</td>\n",
       "      <td>By SHANNON SIMS</td>\n",
       "      <td>article</td>\n",
       "      <td>Rhythm of the Streets: ‘We’re Warrior Women, a...</td>\n",
       "      <td>['Bahia (Brazil)', 'Music', 'Women and Girls',...</td>\n",
       "      <td>68</td>\n",
       "      <td>Travel</td>\n",
       "      <td>5</td>\n",
       "      <td>01/30/18 11:37 PM</td>\n",
       "      <td>Unknown</td>\n",
       "      <td>Meet the all-female Brazilian drum group that ...</td>\n",
       "      <td>The New York Times</td>\n",
       "      <td>News</td>\n",
       "      <td>https://www.nytimes.com/2018/01/30/travel/braz...</td>\n",
       "    </tr>\n",
       "    <tr>\n",
       "      <th>1</th>\n",
       "      <td>5a70fc1210f40f00018be950</td>\n",
       "      <td>1308</td>\n",
       "      <td>By ALAN RAPPEPORT and THOMAS KAPLAN</td>\n",
       "      <td>article</td>\n",
       "      <td>As Deficit Grows, Congress Keeps Spending</td>\n",
       "      <td>['United States Politics and Government', 'Fed...</td>\n",
       "      <td>68</td>\n",
       "      <td>Washington</td>\n",
       "      <td>17</td>\n",
       "      <td>01/30/18 11:13 PM</td>\n",
       "      <td>Politics</td>\n",
       "      <td>Treasury Secretary Steven Mnuchin urged Congre...</td>\n",
       "      <td>The New York Times</td>\n",
       "      <td>News</td>\n",
       "      <td>https://www.nytimes.com/2018/01/30/us/politics...</td>\n",
       "    </tr>\n",
       "    <tr>\n",
       "      <th>2</th>\n",
       "      <td>5a70f8f810f40f00018be943</td>\n",
       "      <td>228</td>\n",
       "      <td>By JANE LANG</td>\n",
       "      <td>article</td>\n",
       "      <td>Lesson in Select Bus Service</td>\n",
       "      <td>['Buses', 'Pennsylvania Station (Manhattan, NY...</td>\n",
       "      <td>0</td>\n",
       "      <td>Metro</td>\n",
       "      <td>16</td>\n",
       "      <td>01/30/18 11:00 PM</td>\n",
       "      <td>Unknown</td>\n",
       "      <td>A woman finds out what happens when you don’t ...</td>\n",
       "      <td>The New York Times</td>\n",
       "      <td>News</td>\n",
       "      <td>https://www.nytimes.com/2018/01/30/nyregion/me...</td>\n",
       "    </tr>\n",
       "    <tr>\n",
       "      <th>3</th>\n",
       "      <td>5a70eb8110f40f00018be925</td>\n",
       "      <td>1114</td>\n",
       "      <td>By THE EDITORIAL BOARD</td>\n",
       "      <td>article</td>\n",
       "      <td>Here’s the Real State of the Union</td>\n",
       "      <td>['State of the Union Message (US)', 'Trump, Do...</td>\n",
       "      <td>61</td>\n",
       "      <td>Editorial</td>\n",
       "      <td>24</td>\n",
       "      <td>01/30/18 10:02 PM</td>\n",
       "      <td>Editorials</td>\n",
       "      <td>The reaction against his authoritarian impulse...</td>\n",
       "      <td>The New York Times</td>\n",
       "      <td>Editorial</td>\n",
       "      <td>https://www.nytimes.com/2018/01/30/opinion/edi...</td>\n",
       "    </tr>\n",
       "    <tr>\n",
       "      <th>4</th>\n",
       "      <td>5a70d1d210f40f00018be8d9</td>\n",
       "      <td>777</td>\n",
       "      <td>By BERT STRATTON</td>\n",
       "      <td>article</td>\n",
       "      <td>Good Riddance to Chief Wahoo</td>\n",
       "      <td>['Baseball', 'Cleveland Indians', 'Western Res...</td>\n",
       "      <td>68</td>\n",
       "      <td>OpEd</td>\n",
       "      <td>0</td>\n",
       "      <td>01/30/18 08:13 PM</td>\n",
       "      <td>Unknown</td>\n",
       "      <td>I’ve lived in Cleveland all my life, and I’m g...</td>\n",
       "      <td>The New York Times</td>\n",
       "      <td>Op-Ed</td>\n",
       "      <td>https://www.nytimes.com/2018/01/30/opinion/chi...</td>\n",
       "    </tr>\n",
       "  </tbody>\n",
       "</table>\n",
       "</div>"
      ],
      "text/plain": [
       "                  articleID  articleWordCount  \\\n",
       "0  5a7101c110f40f00018be961              1322   \n",
       "1  5a70fc1210f40f00018be950              1308   \n",
       "2  5a70f8f810f40f00018be943               228   \n",
       "3  5a70eb8110f40f00018be925              1114   \n",
       "4  5a70d1d210f40f00018be8d9               777   \n",
       "\n",
       "                                byline documentType  \\\n",
       "0                      By SHANNON SIMS      article   \n",
       "1  By ALAN RAPPEPORT and THOMAS KAPLAN      article   \n",
       "2                         By JANE LANG      article   \n",
       "3               By THE EDITORIAL BOARD      article   \n",
       "4                     By BERT STRATTON      article   \n",
       "\n",
       "                                            headline  \\\n",
       "0  Rhythm of the Streets: ‘We’re Warrior Women, a...   \n",
       "1          As Deficit Grows, Congress Keeps Spending   \n",
       "2                       Lesson in Select Bus Service   \n",
       "3                 Here’s the Real State of the Union   \n",
       "4                       Good Riddance to Chief Wahoo   \n",
       "\n",
       "                                            keywords  multimedia     newDesk  \\\n",
       "0  ['Bahia (Brazil)', 'Music', 'Women and Girls',...          68      Travel   \n",
       "1  ['United States Politics and Government', 'Fed...          68  Washington   \n",
       "2  ['Buses', 'Pennsylvania Station (Manhattan, NY...           0       Metro   \n",
       "3  ['State of the Union Message (US)', 'Trump, Do...          61   Editorial   \n",
       "4  ['Baseball', 'Cleveland Indians', 'Western Res...          68        OpEd   \n",
       "\n",
       "   printPage            pubDate sectionName  \\\n",
       "0          5  01/30/18 11:37 PM     Unknown   \n",
       "1         17  01/30/18 11:13 PM    Politics   \n",
       "2         16  01/30/18 11:00 PM     Unknown   \n",
       "3         24  01/30/18 10:02 PM  Editorials   \n",
       "4          0  01/30/18 08:13 PM     Unknown   \n",
       "\n",
       "                                             snippet              source  \\\n",
       "0  Meet the all-female Brazilian drum group that ...  The New York Times   \n",
       "1  Treasury Secretary Steven Mnuchin urged Congre...  The New York Times   \n",
       "2  A woman finds out what happens when you don’t ...  The New York Times   \n",
       "3  The reaction against his authoritarian impulse...  The New York Times   \n",
       "4  I’ve lived in Cleveland all my life, and I’m g...  The New York Times   \n",
       "\n",
       "  typeOfMaterial                                             webURL  \n",
       "0           News  https://www.nytimes.com/2018/01/30/travel/braz...  \n",
       "1           News  https://www.nytimes.com/2018/01/30/us/politics...  \n",
       "2           News  https://www.nytimes.com/2018/01/30/nyregion/me...  \n",
       "3      Editorial  https://www.nytimes.com/2018/01/30/opinion/edi...  \n",
       "4          Op-Ed  https://www.nytimes.com/2018/01/30/opinion/chi...  "
      ]
     },
     "execution_count": 4,
     "metadata": {},
     "output_type": "execute_result"
    }
   ],
   "source": [
    "df.head()"
   ]
  },
  {
   "cell_type": "markdown",
   "metadata": {},
   "source": [
    "### Extraer la fecha en una nueva columna"
   ]
  },
  {
   "cell_type": "code",
   "execution_count": 5,
   "metadata": {},
   "outputs": [
    {
     "data": {
      "text/plain": [
       "0     01/30/18\n",
       "1     01/30/18\n",
       "2     01/30/18\n",
       "3     01/30/18\n",
       "4     01/30/18\n",
       "5     01/30/18\n",
       "6     01/30/18\n",
       "7     01/30/18\n",
       "8     01/30/18\n",
       "9     01/30/18\n",
       "10    01/30/18\n",
       "11    01/30/18\n",
       "12    01/30/18\n",
       "13    01/30/18\n",
       "14    01/30/18\n",
       "15    01/30/18\n",
       "16    01/30/18\n",
       "17    01/30/18\n",
       "18    01/30/18\n",
       "Name: Date, dtype: object"
      ]
     },
     "execution_count": 5,
     "metadata": {},
     "output_type": "execute_result"
    }
   ],
   "source": [
    "# expand = True devuelve una columna por grupo de captura\n",
    "df['Date'] = df['pubDate'].str.extract('(../../..)', expand = True)\n",
    "df['Date']"
   ]
  },
  {
   "cell_type": "markdown",
   "metadata": {},
   "source": [
    "### tomar la hora de una columna y graficar con otra variable"
   ]
  },
  {
   "cell_type": "code",
   "execution_count": 6,
   "metadata": {},
   "outputs": [
    {
     "data": {
      "text/html": [
       "<div>\n",
       "<style scoped>\n",
       "    .dataframe tbody tr th:only-of-type {\n",
       "        vertical-align: middle;\n",
       "    }\n",
       "\n",
       "    .dataframe tbody tr th {\n",
       "        vertical-align: top;\n",
       "    }\n",
       "\n",
       "    .dataframe thead th {\n",
       "        text-align: right;\n",
       "    }\n",
       "</style>\n",
       "<table border=\"1\" class=\"dataframe\">\n",
       "  <thead>\n",
       "    <tr style=\"text-align: right;\">\n",
       "      <th></th>\n",
       "      <th>valor 1</th>\n",
       "      <th>valor 2</th>\n",
       "      <th>valor 3</th>\n",
       "      <th>hora 1</th>\n",
       "      <th>fecha</th>\n",
       "    </tr>\n",
       "  </thead>\n",
       "  <tbody>\n",
       "    <tr>\n",
       "      <th>0</th>\n",
       "      <td>123</td>\n",
       "      <td>415</td>\n",
       "      <td>614</td>\n",
       "      <td>12:20:00</td>\n",
       "      <td>Monday 03.04.2018 – 15:29:01</td>\n",
       "    </tr>\n",
       "    <tr>\n",
       "      <th>1</th>\n",
       "      <td>431</td>\n",
       "      <td>422</td>\n",
       "      <td>613</td>\n",
       "      <td>14:10:00</td>\n",
       "      <td>Monday 03.04.2018 – 15:29:02</td>\n",
       "    </tr>\n",
       "    <tr>\n",
       "      <th>2</th>\n",
       "      <td>332</td>\n",
       "      <td>321</td>\n",
       "      <td>612</td>\n",
       "      <td>11:01:00</td>\n",
       "      <td>Monday 03.04.2018 – 15:29:03</td>\n",
       "    </tr>\n",
       "    <tr>\n",
       "      <th>3</th>\n",
       "      <td>534</td>\n",
       "      <td>444</td>\n",
       "      <td>614</td>\n",
       "      <td>10:00:00</td>\n",
       "      <td>Monday 03.04.2018 – 15:30:01</td>\n",
       "    </tr>\n",
       "    <tr>\n",
       "      <th>4</th>\n",
       "      <td>553</td>\n",
       "      <td>543</td>\n",
       "      <td>614</td>\n",
       "      <td>14:00:00</td>\n",
       "      <td>Monday 03.04.2018 – 15:31:01</td>\n",
       "    </tr>\n",
       "  </tbody>\n",
       "</table>\n",
       "</div>"
      ],
      "text/plain": [
       "   valor 1  valor 2  valor 3    hora 1                         fecha\n",
       "0      123      415      614  12:20:00  Monday 03.04.2018 – 15:29:01\n",
       "1      431      422      613  14:10:00  Monday 03.04.2018 – 15:29:02\n",
       "2      332      321      612  11:01:00  Monday 03.04.2018 – 15:29:03\n",
       "3      534      444      614  10:00:00  Monday 03.04.2018 – 15:30:01\n",
       "4      553      543      614  14:00:00  Monday 03.04.2018 – 15:31:01"
      ]
     },
     "execution_count": 6,
     "metadata": {},
     "output_type": "execute_result"
    }
   ],
   "source": [
    "# cargar datos\n",
    "datos = pd.read_csv('./data/Ejemplo.csv')\n",
    "df = pd.DataFrame(datos)\n",
    "df.head()"
   ]
  },
  {
   "cell_type": "code",
   "execution_count": 7,
   "metadata": {},
   "outputs": [
    {
     "data": {
      "text/plain": [
       "0    15:29:01\n",
       "1    15:29:02\n",
       "2    15:29:03\n",
       "3    15:30:01\n",
       "4    15:31:01\n",
       "5    15:33:01\n",
       "Name: hora, dtype: object"
      ]
     },
     "execution_count": 7,
     "metadata": {},
     "output_type": "execute_result"
    }
   ],
   "source": [
    "# Extraer hora\n",
    "df['hora'] = df['fecha'].str.extract('(..:..:..)', expand = True)\n",
    "df['hora']"
   ]
  },
  {
   "cell_type": "markdown",
   "metadata": {},
   "source": [
    "### Convertir hora en objeto tipo datetime"
   ]
  },
  {
   "cell_type": "code",
   "execution_count": 8,
   "metadata": {},
   "outputs": [],
   "source": [
    "df['hora'] = pd.to_datetime(df['hora'])\n",
    "df['hora 1'] = pd.to_datetime(df['hora 1'])"
   ]
  }
 ],
 "metadata": {
  "kernelspec": {
   "display_name": "Python 3.10.4 ('data')",
   "language": "python",
   "name": "python3"
  },
  "language_info": {
   "codemirror_mode": {
    "name": "ipython",
    "version": 3
   },
   "file_extension": ".py",
   "mimetype": "text/x-python",
   "name": "python",
   "nbconvert_exporter": "python",
   "pygments_lexer": "ipython3",
   "version": "3.10.4"
  },
  "orig_nbformat": 4,
  "vscode": {
   "interpreter": {
    "hash": "8700f991acee7685058f9a56c7736eced6bd630c9083b6b688b4e6e79ecaa63b"
   }
  }
 },
 "nbformat": 4,
 "nbformat_minor": 2
}
