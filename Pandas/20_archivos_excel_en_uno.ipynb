{
 "cells": [
  {
   "attachments": {},
   "cell_type": "markdown",
   "metadata": {},
   "source": [
    "## Importar y leer varios archivos de Excel"
   ]
  },
  {
   "cell_type": "code",
   "execution_count": 6,
   "metadata": {},
   "outputs": [],
   "source": [
    "# librerias\n",
    "import pandas as pd\n",
    "import numpy as np\n",
    "import glob"
   ]
  },
  {
   "cell_type": "code",
   "execution_count": 8,
   "metadata": {},
   "outputs": [
    {
     "data": {
      "text/html": [
       "<div>\n",
       "<style scoped>\n",
       "    .dataframe tbody tr th:only-of-type {\n",
       "        vertical-align: middle;\n",
       "    }\n",
       "\n",
       "    .dataframe tbody tr th {\n",
       "        vertical-align: top;\n",
       "    }\n",
       "\n",
       "    .dataframe thead th {\n",
       "        text-align: right;\n",
       "    }\n",
       "</style>\n",
       "<table border=\"1\" class=\"dataframe\">\n",
       "  <thead>\n",
       "    <tr style=\"text-align: right;\">\n",
       "      <th></th>\n",
       "      <th>Entidad</th>\n",
       "      <th>Rango</th>\n",
       "      <th>Hombres</th>\n",
       "      <th>Mujeres</th>\n",
       "    </tr>\n",
       "  </thead>\n",
       "  <tbody>\n",
       "    <tr>\n",
       "      <th>0</th>\n",
       "      <td>Baja California</td>\n",
       "      <td>0 a 4 años</td>\n",
       "      <td>149167</td>\n",
       "      <td>144067</td>\n",
       "    </tr>\n",
       "    <tr>\n",
       "      <th>1</th>\n",
       "      <td>NaN</td>\n",
       "      <td>5 a 9 años</td>\n",
       "      <td>153886</td>\n",
       "      <td>149294</td>\n",
       "    </tr>\n",
       "    <tr>\n",
       "      <th>2</th>\n",
       "      <td>NaN</td>\n",
       "      <td>10 a 14 años</td>\n",
       "      <td>155483</td>\n",
       "      <td>149989</td>\n",
       "    </tr>\n",
       "    <tr>\n",
       "      <th>3</th>\n",
       "      <td>NaN</td>\n",
       "      <td>15 a 19 años</td>\n",
       "      <td>152077</td>\n",
       "      <td>147118</td>\n",
       "    </tr>\n",
       "    <tr>\n",
       "      <th>4</th>\n",
       "      <td>NaN</td>\n",
       "      <td>20 a 24 años</td>\n",
       "      <td>144597</td>\n",
       "      <td>141882</td>\n",
       "    </tr>\n",
       "    <tr>\n",
       "      <th>5</th>\n",
       "      <td>NaN</td>\n",
       "      <td>25 a 29 años</td>\n",
       "      <td>133546</td>\n",
       "      <td>131882</td>\n",
       "    </tr>\n",
       "    <tr>\n",
       "      <th>6</th>\n",
       "      <td>NaN</td>\n",
       "      <td>30 a 34 años</td>\n",
       "      <td>132857</td>\n",
       "      <td>131166</td>\n",
       "    </tr>\n",
       "    <tr>\n",
       "      <th>7</th>\n",
       "      <td>NaN</td>\n",
       "      <td>35 a 39 años</td>\n",
       "      <td>135331</td>\n",
       "      <td>128732</td>\n",
       "    </tr>\n",
       "    <tr>\n",
       "      <th>8</th>\n",
       "      <td>NaN</td>\n",
       "      <td>40 a 44 años</td>\n",
       "      <td>110722</td>\n",
       "      <td>104327</td>\n",
       "    </tr>\n",
       "    <tr>\n",
       "      <th>9</th>\n",
       "      <td>NaN</td>\n",
       "      <td>45 a 49 años</td>\n",
       "      <td>86928</td>\n",
       "      <td>84176</td>\n",
       "    </tr>\n",
       "  </tbody>\n",
       "</table>\n",
       "</div>"
      ],
      "text/plain": [
       "           Entidad         Rango  Hombres  Mujeres\n",
       "0  Baja California    0 a 4 años   149167   144067\n",
       "1              NaN    5 a 9 años   153886   149294\n",
       "2              NaN  10 a 14 años   155483   149989\n",
       "3              NaN  15 a 19 años   152077   147118\n",
       "4              NaN  20 a 24 años   144597   141882\n",
       "5              NaN  25 a 29 años   133546   131882\n",
       "6              NaN  30 a 34 años   132857   131166\n",
       "7              NaN  35 a 39 años   135331   128732\n",
       "8              NaN  40 a 44 años   110722   104327\n",
       "9              NaN  45 a 49 años    86928    84176"
      ]
     },
     "execution_count": 8,
     "metadata": {},
     "output_type": "execute_result"
    }
   ],
   "source": [
    "# cargar datos en una lista\n",
    "lista_excel = []\n",
    "\n",
    "for f in glob.glob('./data/archivos_excel/*.xlsx'):\n",
    "    df = pd.read_excel(f)\n",
    "    lista_excel.append(pd.read_excel(f))\n",
    "\n",
    "df = pd.concat(lista_excel, ignore_index='True')\n",
    "df.head(10)"
   ]
  }
 ],
 "metadata": {
  "kernelspec": {
   "display_name": "data",
   "language": "python",
   "name": "python3"
  },
  "language_info": {
   "codemirror_mode": {
    "name": "ipython",
    "version": 3
   },
   "file_extension": ".py",
   "mimetype": "text/x-python",
   "name": "python",
   "nbconvert_exporter": "python",
   "pygments_lexer": "ipython3",
   "version": "3.10.4"
  },
  "orig_nbformat": 4,
  "vscode": {
   "interpreter": {
    "hash": "8700f991acee7685058f9a56c7736eced6bd630c9083b6b688b4e6e79ecaa63b"
   }
  }
 },
 "nbformat": 4,
 "nbformat_minor": 2
}
