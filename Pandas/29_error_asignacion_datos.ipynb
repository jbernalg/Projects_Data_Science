{
 "cells": [
  {
   "attachments": {},
   "cell_type": "markdown",
   "metadata": {},
   "source": [
    "## Error en la asignacion de Datos desde dos Dataframe diferentes"
   ]
  },
  {
   "cell_type": "code",
   "execution_count": 8,
   "metadata": {},
   "outputs": [],
   "source": [
    "# librerias\n",
    "import pandas as pd\n"
   ]
  },
  {
   "cell_type": "code",
   "execution_count": 17,
   "metadata": {},
   "outputs": [
    {
     "data": {
      "text/plain": [
       "{'Aguascalientes': 'AGU',\n",
       " 'Baja California': 'BCN',\n",
       " 'Baja California Sur': 'BCS',\n",
       " 'Campeche': 'CAM',\n",
       " 'Chiapas': 'CHP',\n",
       " 'Chihuahua': 'CHH',\n",
       " 'Ciudad de Mexico': 'CMX',\n",
       " 'Coahuila': 'COA',\n",
       " 'Colima': 'COL',\n",
       " 'Durango': 'DUR',\n",
       " 'Guanajuato': 'GUA',\n",
       " 'Guerrero': 'GRO',\n",
       " 'Hidalgo': 'HID',\n",
       " 'Jalisco': 'JAL',\n",
       " 'Mexico': 'MEX',\n",
       " 'Michoacan': 'MIC',\n",
       " 'Morelos': 'MOR',\n",
       " 'Nayarit': 'NAY',\n",
       " 'Nuevo Leon': 'NLE',\n",
       " 'Oaxaca': 'OAX',\n",
       " 'Puebla': 'PUE',\n",
       " 'Querataro': 'QUE',\n",
       " 'Quintana Roo': 'ROO',\n",
       " 'San Luis Potosa': 'SLP',\n",
       " 'Sinaloa': 'SIN',\n",
       " 'Sonora': 'SON',\n",
       " 'Tabasco': 'TAB',\n",
       " 'Tamaulipas': 'TAM',\n",
       " 'Tlaxcala': 'TLA',\n",
       " 'Veracruz': 'VER',\n",
       " 'Yucatan': 'YUC',\n",
       " 'Zacatecas': 'ZAC'}"
      ]
     },
     "execution_count": 17,
     "metadata": {},
     "output_type": "execute_result"
    }
   ],
   "source": [
    "# convertir datos del archivos csv en un diccionario\n",
    "d = pd.read_csv('./data/diccionario.csv', sep=';', header=None, index_col=0).squeeze(\"columns\").to_dict()\n",
    "d"
   ]
  }
 ],
 "metadata": {
  "kernelspec": {
   "display_name": "data",
   "language": "python",
   "name": "python3"
  },
  "language_info": {
   "codemirror_mode": {
    "name": "ipython",
    "version": 3
   },
   "file_extension": ".py",
   "mimetype": "text/x-python",
   "name": "python",
   "nbconvert_exporter": "python",
   "pygments_lexer": "ipython3",
   "version": "3.10.8"
  },
  "orig_nbformat": 4,
  "vscode": {
   "interpreter": {
    "hash": "8700f991acee7685058f9a56c7736eced6bd630c9083b6b688b4e6e79ecaa63b"
   }
  }
 },
 "nbformat": 4,
 "nbformat_minor": 2
}
