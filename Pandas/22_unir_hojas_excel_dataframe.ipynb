{
 "cells": [
  {
   "attachments": {},
   "cell_type": "markdown",
   "metadata": {},
   "source": [
    "## Unir hojas de Excel en un solo Dataframe"
   ]
  },
  {
   "attachments": {},
   "cell_type": "markdown",
   "metadata": {},
   "source": [
    "Para ello, todas las hojas deben tener la misma cantidad de columnas para que puedan acoplarse de manera optima"
   ]
  },
  {
   "cell_type": "code",
   "execution_count": 1,
   "metadata": {},
   "outputs": [],
   "source": [
    "# librerias\n",
    "import pandas as pd\n",
    "from pandas import read_excel"
   ]
  },
  {
   "cell_type": "code",
   "execution_count": 2,
   "metadata": {},
   "outputs": [
    {
     "data": {
      "text/html": [
       "<div>\n",
       "<style scoped>\n",
       "    .dataframe tbody tr th:only-of-type {\n",
       "        vertical-align: middle;\n",
       "    }\n",
       "\n",
       "    .dataframe tbody tr th {\n",
       "        vertical-align: top;\n",
       "    }\n",
       "\n",
       "    .dataframe thead th {\n",
       "        text-align: right;\n",
       "    }\n",
       "</style>\n",
       "<table border=\"1\" class=\"dataframe\">\n",
       "  <thead>\n",
       "    <tr style=\"text-align: right;\">\n",
       "      <th></th>\n",
       "      <th>title</th>\n",
       "      <th>channel_title</th>\n",
       "      <th>views</th>\n",
       "      <th>likes</th>\n",
       "      <th>dislikes</th>\n",
       "      <th>comment_count</th>\n",
       "    </tr>\n",
       "  </thead>\n",
       "  <tbody>\n",
       "    <tr>\n",
       "      <th>0</th>\n",
       "      <td>BTS (방탄소년단) 'MIC Drop (Steve Aoki Remix)' Offi...</td>\n",
       "      <td>ibighit</td>\n",
       "      <td>3483755</td>\n",
       "      <td>789753</td>\n",
       "      <td>2840</td>\n",
       "      <td>72376</td>\n",
       "    </tr>\n",
       "    <tr>\n",
       "      <th>1</th>\n",
       "      <td>Stephen Takes Issue With The 'Sexiest Man Aliv...</td>\n",
       "      <td>The Late Show with Stephen Colbert</td>\n",
       "      <td>490925</td>\n",
       "      <td>8040</td>\n",
       "      <td>320</td>\n",
       "      <td>1001</td>\n",
       "    </tr>\n",
       "    <tr>\n",
       "      <th>2</th>\n",
       "      <td>LAST MINUTE SHOPPING FOR OUR TRIP TO VEGAS | V...</td>\n",
       "      <td>Inthefrow</td>\n",
       "      <td>29455</td>\n",
       "      <td>1183</td>\n",
       "      <td>23</td>\n",
       "      <td>116</td>\n",
       "    </tr>\n",
       "    <tr>\n",
       "      <th>3</th>\n",
       "      <td>Kim Kardashian Lets Gender of Third Child Slip</td>\n",
       "      <td>TheEllenShow</td>\n",
       "      <td>2682800</td>\n",
       "      <td>41045</td>\n",
       "      <td>1527</td>\n",
       "      <td>2748</td>\n",
       "    </tr>\n",
       "    <tr>\n",
       "      <th>4</th>\n",
       "      <td>The Problem with Lab Mice</td>\n",
       "      <td>CollegeHumor</td>\n",
       "      <td>655161</td>\n",
       "      <td>21013</td>\n",
       "      <td>2563</td>\n",
       "      <td>2671</td>\n",
       "    </tr>\n",
       "  </tbody>\n",
       "</table>\n",
       "</div>"
      ],
      "text/plain": [
       "                                               title  \\\n",
       "0  BTS (방탄소년단) 'MIC Drop (Steve Aoki Remix)' Offi...   \n",
       "1  Stephen Takes Issue With The 'Sexiest Man Aliv...   \n",
       "2  LAST MINUTE SHOPPING FOR OUR TRIP TO VEGAS | V...   \n",
       "3     Kim Kardashian Lets Gender of Third Child Slip   \n",
       "4                          The Problem with Lab Mice   \n",
       "\n",
       "                        channel_title    views   likes  dislikes  \\\n",
       "0                             ibighit  3483755  789753      2840   \n",
       "1  The Late Show with Stephen Colbert   490925    8040       320   \n",
       "2                           Inthefrow    29455    1183        23   \n",
       "3                        TheEllenShow  2682800   41045      1527   \n",
       "4                        CollegeHumor   655161   21013      2563   \n",
       "\n",
       "   comment_count  \n",
       "0          72376  \n",
       "1           1001  \n",
       "2            116  \n",
       "3           2748  \n",
       "4           2671  "
      ]
     },
     "execution_count": 2,
     "metadata": {},
     "output_type": "execute_result"
    }
   ],
   "source": [
    "# cargar datos\n",
    "my_sheet = '17'\n",
    "file_name = './data/multiples_hojas.xlsx'\n",
    "\n",
    "#           archivo excel   nombre de la hoja del archivo\n",
    "df = read_excel(file_name, sheet_name=my_sheet)\n",
    "df.head()"
   ]
  },
  {
   "attachments": {},
   "cell_type": "markdown",
   "metadata": {},
   "source": [
    "### Comparar cantidad de valores de una columna con los valores unicos"
   ]
  },
  {
   "cell_type": "code",
   "execution_count": 3,
   "metadata": {},
   "outputs": [
    {
     "data": {
      "text/plain": [
       "28"
      ]
     },
     "execution_count": 3,
     "metadata": {},
     "output_type": "execute_result"
    }
   ],
   "source": [
    "# N° de valores para la columna channel_title\n",
    "df['channel_title'].count()"
   ]
  },
  {
   "cell_type": "code",
   "execution_count": 4,
   "metadata": {},
   "outputs": [
    {
     "data": {
      "text/plain": [
       "28"
      ]
     },
     "execution_count": 4,
     "metadata": {},
     "output_type": "execute_result"
    }
   ],
   "source": [
    "# N° de valores unicos de la columna channel_title\n",
    "df['channel_title'].nunique()"
   ]
  },
  {
   "attachments": {},
   "cell_type": "markdown",
   "metadata": {},
   "source": [
    "### Unir las hojas en un DataFrame"
   ]
  },
  {
   "cell_type": "code",
   "execution_count": 6,
   "metadata": {},
   "outputs": [],
   "source": [
    "datos = pd.DataFrame() # dataframe donde se almacena las hojas\n",
    "\n",
    "diccionario = pd.read_excel(file_name, sheet_name=None)"
   ]
  },
  {
   "cell_type": "code",
   "execution_count": 7,
   "metadata": {},
   "outputs": [
    {
     "name": "stderr",
     "output_type": "stream",
     "text": [
      "/tmp/ipykernel_30286/1405110808.py:4: FutureWarning: The frame.append method is deprecated and will be removed from pandas in a future version. Use pandas.concat instead.\n",
      "  datos = datos.append(column, ignore_index=True)\n",
      "/tmp/ipykernel_30286/1405110808.py:4: FutureWarning: The frame.append method is deprecated and will be removed from pandas in a future version. Use pandas.concat instead.\n",
      "  datos = datos.append(column, ignore_index=True)\n",
      "/tmp/ipykernel_30286/1405110808.py:4: FutureWarning: The frame.append method is deprecated and will be removed from pandas in a future version. Use pandas.concat instead.\n",
      "  datos = datos.append(column, ignore_index=True)\n",
      "/tmp/ipykernel_30286/1405110808.py:4: FutureWarning: The frame.append method is deprecated and will be removed from pandas in a future version. Use pandas.concat instead.\n",
      "  datos = datos.append(column, ignore_index=True)\n"
     ]
    }
   ],
   "source": [
    "# agregar una columna con el nombre de la hoja a cada registro de la correspodiente hoja\n",
    "\n",
    "# el nombre de cada hoja corresponde al año por lo que se agrega el año en una nueva columna\n",
    "# para cada registro\n",
    "for name, column in diccionario.items():\n",
    "    column['year'] = name\n",
    "    datos = datos.append(column, ignore_index=True)"
   ]
  },
  {
   "cell_type": "code",
   "execution_count": 9,
   "metadata": {},
   "outputs": [
    {
     "data": {
      "text/html": [
       "<div>\n",
       "<style scoped>\n",
       "    .dataframe tbody tr th:only-of-type {\n",
       "        vertical-align: middle;\n",
       "    }\n",
       "\n",
       "    .dataframe tbody tr th {\n",
       "        vertical-align: top;\n",
       "    }\n",
       "\n",
       "    .dataframe thead th {\n",
       "        text-align: right;\n",
       "    }\n",
       "</style>\n",
       "<table border=\"1\" class=\"dataframe\">\n",
       "  <thead>\n",
       "    <tr style=\"text-align: right;\">\n",
       "      <th></th>\n",
       "      <th>title</th>\n",
       "      <th>channel_title</th>\n",
       "      <th>views</th>\n",
       "      <th>likes</th>\n",
       "      <th>dislikes</th>\n",
       "      <th>comment_count</th>\n",
       "      <th>year</th>\n",
       "    </tr>\n",
       "  </thead>\n",
       "  <tbody>\n",
       "    <tr>\n",
       "      <th>0</th>\n",
       "      <td>John Lewis Christmas Ad 2017 - #MozTheMonster</td>\n",
       "      <td>John Lewis</td>\n",
       "      <td>7224515</td>\n",
       "      <td>55681</td>\n",
       "      <td>10247</td>\n",
       "      <td>9479</td>\n",
       "      <td>14</td>\n",
       "    </tr>\n",
       "    <tr>\n",
       "      <th>1</th>\n",
       "      <td>Taylor Swift: …Ready for It? (Live) - SNL</td>\n",
       "      <td>Saturday Night Live</td>\n",
       "      <td>1053632</td>\n",
       "      <td>25561</td>\n",
       "      <td>2294</td>\n",
       "      <td>2757</td>\n",
       "      <td>14</td>\n",
       "    </tr>\n",
       "    <tr>\n",
       "      <th>2</th>\n",
       "      <td>Eminem - Walk On Water (Audio) ft. Beyoncé</td>\n",
       "      <td>EminemVEVO</td>\n",
       "      <td>17158579</td>\n",
       "      <td>787420</td>\n",
       "      <td>43420</td>\n",
       "      <td>125882</td>\n",
       "      <td>14</td>\n",
       "    </tr>\n",
       "    <tr>\n",
       "      <th>3</th>\n",
       "      <td>Goals from Salford City vs Class of 92 and Fri...</td>\n",
       "      <td>Salford City Football Club</td>\n",
       "      <td>27833</td>\n",
       "      <td>193</td>\n",
       "      <td>12</td>\n",
       "      <td>37</td>\n",
       "      <td>14</td>\n",
       "    </tr>\n",
       "    <tr>\n",
       "      <th>4</th>\n",
       "      <td>Dashcam captures truck's near miss with child ...</td>\n",
       "      <td>Cute Girl Videos</td>\n",
       "      <td>9815</td>\n",
       "      <td>30</td>\n",
       "      <td>2</td>\n",
       "      <td>30</td>\n",
       "      <td>14</td>\n",
       "    </tr>\n",
       "  </tbody>\n",
       "</table>\n",
       "</div>"
      ],
      "text/plain": [
       "                                               title  \\\n",
       "0      John Lewis Christmas Ad 2017 - #MozTheMonster   \n",
       "1          Taylor Swift: …Ready for It? (Live) - SNL   \n",
       "2         Eminem - Walk On Water (Audio) ft. Beyoncé   \n",
       "3  Goals from Salford City vs Class of 92 and Fri...   \n",
       "4  Dashcam captures truck's near miss with child ...   \n",
       "\n",
       "                channel_title     views   likes  dislikes  comment_count year  \n",
       "0                  John Lewis   7224515   55681     10247           9479   14  \n",
       "1         Saturday Night Live   1053632   25561      2294           2757   14  \n",
       "2                  EminemVEVO  17158579  787420     43420         125882   14  \n",
       "3  Salford City Football Club     27833     193        12             37   14  \n",
       "4            Cute Girl Videos      9815      30         2             30   14  "
      ]
     },
     "execution_count": 9,
     "metadata": {},
     "output_type": "execute_result"
    }
   ],
   "source": [
    "datos.head()"
   ]
  },
  {
   "cell_type": "code",
   "execution_count": 10,
   "metadata": {},
   "outputs": [],
   "source": [
    "# completar el año de cada registro\n",
    "datos['completo'] = datos['year']\n",
    "datos['completo'] = datos['completo'].map({'14':2014, '15':2015, '16':2016, '17':2017})"
   ]
  },
  {
   "cell_type": "code",
   "execution_count": 11,
   "metadata": {},
   "outputs": [
    {
     "data": {
      "text/html": [
       "<div>\n",
       "<style scoped>\n",
       "    .dataframe tbody tr th:only-of-type {\n",
       "        vertical-align: middle;\n",
       "    }\n",
       "\n",
       "    .dataframe tbody tr th {\n",
       "        vertical-align: top;\n",
       "    }\n",
       "\n",
       "    .dataframe thead th {\n",
       "        text-align: right;\n",
       "    }\n",
       "</style>\n",
       "<table border=\"1\" class=\"dataframe\">\n",
       "  <thead>\n",
       "    <tr style=\"text-align: right;\">\n",
       "      <th></th>\n",
       "      <th>title</th>\n",
       "      <th>channel_title</th>\n",
       "      <th>views</th>\n",
       "      <th>likes</th>\n",
       "      <th>dislikes</th>\n",
       "      <th>comment_count</th>\n",
       "      <th>year</th>\n",
       "      <th>completo</th>\n",
       "    </tr>\n",
       "  </thead>\n",
       "  <tbody>\n",
       "    <tr>\n",
       "      <th>0</th>\n",
       "      <td>John Lewis Christmas Ad 2017 - #MozTheMonster</td>\n",
       "      <td>John Lewis</td>\n",
       "      <td>7224515</td>\n",
       "      <td>55681</td>\n",
       "      <td>10247</td>\n",
       "      <td>9479</td>\n",
       "      <td>14</td>\n",
       "      <td>2014</td>\n",
       "    </tr>\n",
       "    <tr>\n",
       "      <th>1</th>\n",
       "      <td>Taylor Swift: …Ready for It? (Live) - SNL</td>\n",
       "      <td>Saturday Night Live</td>\n",
       "      <td>1053632</td>\n",
       "      <td>25561</td>\n",
       "      <td>2294</td>\n",
       "      <td>2757</td>\n",
       "      <td>14</td>\n",
       "      <td>2014</td>\n",
       "    </tr>\n",
       "    <tr>\n",
       "      <th>2</th>\n",
       "      <td>Eminem - Walk On Water (Audio) ft. Beyoncé</td>\n",
       "      <td>EminemVEVO</td>\n",
       "      <td>17158579</td>\n",
       "      <td>787420</td>\n",
       "      <td>43420</td>\n",
       "      <td>125882</td>\n",
       "      <td>14</td>\n",
       "      <td>2014</td>\n",
       "    </tr>\n",
       "    <tr>\n",
       "      <th>3</th>\n",
       "      <td>Goals from Salford City vs Class of 92 and Fri...</td>\n",
       "      <td>Salford City Football Club</td>\n",
       "      <td>27833</td>\n",
       "      <td>193</td>\n",
       "      <td>12</td>\n",
       "      <td>37</td>\n",
       "      <td>14</td>\n",
       "      <td>2014</td>\n",
       "    </tr>\n",
       "    <tr>\n",
       "      <th>4</th>\n",
       "      <td>Dashcam captures truck's near miss with child ...</td>\n",
       "      <td>Cute Girl Videos</td>\n",
       "      <td>9815</td>\n",
       "      <td>30</td>\n",
       "      <td>2</td>\n",
       "      <td>30</td>\n",
       "      <td>14</td>\n",
       "      <td>2014</td>\n",
       "    </tr>\n",
       "  </tbody>\n",
       "</table>\n",
       "</div>"
      ],
      "text/plain": [
       "                                               title  \\\n",
       "0      John Lewis Christmas Ad 2017 - #MozTheMonster   \n",
       "1          Taylor Swift: …Ready for It? (Live) - SNL   \n",
       "2         Eminem - Walk On Water (Audio) ft. Beyoncé   \n",
       "3  Goals from Salford City vs Class of 92 and Fri...   \n",
       "4  Dashcam captures truck's near miss with child ...   \n",
       "\n",
       "                channel_title     views   likes  dislikes  comment_count year  \\\n",
       "0                  John Lewis   7224515   55681     10247           9479   14   \n",
       "1         Saturday Night Live   1053632   25561      2294           2757   14   \n",
       "2                  EminemVEVO  17158579  787420     43420         125882   14   \n",
       "3  Salford City Football Club     27833     193        12             37   14   \n",
       "4            Cute Girl Videos      9815      30         2             30   14   \n",
       "\n",
       "   completo  \n",
       "0      2014  \n",
       "1      2014  \n",
       "2      2014  \n",
       "3      2014  \n",
       "4      2014  "
      ]
     },
     "execution_count": 11,
     "metadata": {},
     "output_type": "execute_result"
    }
   ],
   "source": [
    "datos.head()"
   ]
  },
  {
   "cell_type": "code",
   "execution_count": 12,
   "metadata": {},
   "outputs": [
    {
     "data": {
      "text/plain": [
       "92"
      ]
     },
     "execution_count": 12,
     "metadata": {},
     "output_type": "execute_result"
    }
   ],
   "source": [
    "# N° de valores en la columna channel_title\n",
    "datos['channel_title'].count()"
   ]
  },
  {
   "cell_type": "code",
   "execution_count": 13,
   "metadata": {},
   "outputs": [
    {
     "data": {
      "text/plain": [
       "57"
      ]
     },
     "execution_count": 13,
     "metadata": {},
     "output_type": "execute_result"
    }
   ],
   "source": [
    "# N° de valores unicos de la columna channel_title\n",
    "datos['channel_title'].nunique()"
   ]
  },
  {
   "cell_type": "code",
   "execution_count": 14,
   "metadata": {},
   "outputs": [
    {
     "data": {
      "text/plain": [
       "array(['John Lewis', 'Saturday Night Live', 'EminemVEVO',\n",
       "       'Salford City Football Club', 'Cute Girl Videos',\n",
       "       'PointlessBlogVlogs', 'Ed Sheeran', 'MoreZoella', 'ElbowVEVO',\n",
       "       'JenniferLopezVEVO', 'Nile Wilson', 'Inside Edition',\n",
       "       'BostonDynamics', 'Jimmy Kimmel Live',\n",
       "       'The Tonight Show Starring Jimmy Fallon', 'Soccer AM', 'WWE',\n",
       "       'The Late Show with Stephen Colbert', 'Inthefrow', 'marshmello',\n",
       "       'BBCRadio1VEVO', 'SamanthaMariaVlogs', 'Amelia Liana',\n",
       "       'Listen to this also', 'Daniel J. Layton', 'Lily Pebbles',\n",
       "       'Giovannasworld', 'The Late Late Show with James Corden',\n",
       "       'TheEllenShow', 'FallOutBoyVEVO', 'Chris Stuckmann', 'WOWPresents',\n",
       "       'Taylor Swift', 'TODAY', 'BBC Radio 1', 'Verne Troyer',\n",
       "       'Ubisoft US', 'The X Factor UK', 'Estée Lalonde', 'ibighit',\n",
       "       'CollegeHumor', 'Fleur DeForce', 'Safiya Nygaard',\n",
       "       'Simply Nailogical', 'Austin Evans', 'You Suck At Cooking',\n",
       "       'CinemaSins', 'RemyMaVEVO', 'Matthias', 'iHasCupquake', 'Björk',\n",
       "       'Unit Lost - Great British Gaming', 'The Verge', 'Harry Main',\n",
       "       'Jonathan Morrison', 'alt-J', 'FATV'], dtype=object)"
      ]
     },
     "execution_count": 14,
     "metadata": {},
     "output_type": "execute_result"
    }
   ],
   "source": [
    "# lista de valores unicos de la columna channel_title\n",
    "datos['channel_title'].unique()"
   ]
  }
 ],
 "metadata": {
  "kernelspec": {
   "display_name": "data",
   "language": "python",
   "name": "python3"
  },
  "language_info": {
   "codemirror_mode": {
    "name": "ipython",
    "version": 3
   },
   "file_extension": ".py",
   "mimetype": "text/x-python",
   "name": "python",
   "nbconvert_exporter": "python",
   "pygments_lexer": "ipython3",
   "version": "3.10.4"
  },
  "orig_nbformat": 4,
  "vscode": {
   "interpreter": {
    "hash": "8700f991acee7685058f9a56c7736eced6bd630c9083b6b688b4e6e79ecaa63b"
   }
  }
 },
 "nbformat": 4,
 "nbformat_minor": 2
}
