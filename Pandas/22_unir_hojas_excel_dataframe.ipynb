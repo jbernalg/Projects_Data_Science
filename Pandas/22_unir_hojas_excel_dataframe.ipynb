{
 "cells": [
  {
   "attachments": {},
   "cell_type": "markdown",
   "metadata": {},
   "source": [
    "## Unir hojas de Excel en un solo Dataframe"
   ]
  },
  {
   "attachments": {},
   "cell_type": "markdown",
   "metadata": {},
   "source": [
    "Para ello, todas las hojas deben tener la misma cantidad de columnas para que puedan acoplarse de manera optima"
   ]
  },
  {
   "cell_type": "code",
   "execution_count": 1,
   "metadata": {},
   "outputs": [],
   "source": [
    "# librerias\n",
    "import pandas as pd\n",
    "from pandas import read_excel"
   ]
  },
  {
   "cell_type": "code",
   "execution_count": 2,
   "metadata": {},
   "outputs": [
    {
     "data": {
      "text/html": [
       "<div>\n",
       "<style scoped>\n",
       "    .dataframe tbody tr th:only-of-type {\n",
       "        vertical-align: middle;\n",
       "    }\n",
       "\n",
       "    .dataframe tbody tr th {\n",
       "        vertical-align: top;\n",
       "    }\n",
       "\n",
       "    .dataframe thead th {\n",
       "        text-align: right;\n",
       "    }\n",
       "</style>\n",
       "<table border=\"1\" class=\"dataframe\">\n",
       "  <thead>\n",
       "    <tr style=\"text-align: right;\">\n",
       "      <th></th>\n",
       "      <th>title</th>\n",
       "      <th>channel_title</th>\n",
       "      <th>views</th>\n",
       "      <th>likes</th>\n",
       "      <th>dislikes</th>\n",
       "      <th>comment_count</th>\n",
       "    </tr>\n",
       "  </thead>\n",
       "  <tbody>\n",
       "    <tr>\n",
       "      <th>0</th>\n",
       "      <td>BTS (방탄소년단) 'MIC Drop (Steve Aoki Remix)' Offi...</td>\n",
       "      <td>ibighit</td>\n",
       "      <td>3483755</td>\n",
       "      <td>789753</td>\n",
       "      <td>2840</td>\n",
       "      <td>72376</td>\n",
       "    </tr>\n",
       "    <tr>\n",
       "      <th>1</th>\n",
       "      <td>Stephen Takes Issue With The 'Sexiest Man Aliv...</td>\n",
       "      <td>The Late Show with Stephen Colbert</td>\n",
       "      <td>490925</td>\n",
       "      <td>8040</td>\n",
       "      <td>320</td>\n",
       "      <td>1001</td>\n",
       "    </tr>\n",
       "    <tr>\n",
       "      <th>2</th>\n",
       "      <td>LAST MINUTE SHOPPING FOR OUR TRIP TO VEGAS | V...</td>\n",
       "      <td>Inthefrow</td>\n",
       "      <td>29455</td>\n",
       "      <td>1183</td>\n",
       "      <td>23</td>\n",
       "      <td>116</td>\n",
       "    </tr>\n",
       "    <tr>\n",
       "      <th>3</th>\n",
       "      <td>Kim Kardashian Lets Gender of Third Child Slip</td>\n",
       "      <td>TheEllenShow</td>\n",
       "      <td>2682800</td>\n",
       "      <td>41045</td>\n",
       "      <td>1527</td>\n",
       "      <td>2748</td>\n",
       "    </tr>\n",
       "    <tr>\n",
       "      <th>4</th>\n",
       "      <td>The Problem with Lab Mice</td>\n",
       "      <td>CollegeHumor</td>\n",
       "      <td>655161</td>\n",
       "      <td>21013</td>\n",
       "      <td>2563</td>\n",
       "      <td>2671</td>\n",
       "    </tr>\n",
       "  </tbody>\n",
       "</table>\n",
       "</div>"
      ],
      "text/plain": [
       "                                               title  \\\n",
       "0  BTS (방탄소년단) 'MIC Drop (Steve Aoki Remix)' Offi...   \n",
       "1  Stephen Takes Issue With The 'Sexiest Man Aliv...   \n",
       "2  LAST MINUTE SHOPPING FOR OUR TRIP TO VEGAS | V...   \n",
       "3     Kim Kardashian Lets Gender of Third Child Slip   \n",
       "4                          The Problem with Lab Mice   \n",
       "\n",
       "                        channel_title    views   likes  dislikes  \\\n",
       "0                             ibighit  3483755  789753      2840   \n",
       "1  The Late Show with Stephen Colbert   490925    8040       320   \n",
       "2                           Inthefrow    29455    1183        23   \n",
       "3                        TheEllenShow  2682800   41045      1527   \n",
       "4                        CollegeHumor   655161   21013      2563   \n",
       "\n",
       "   comment_count  \n",
       "0          72376  \n",
       "1           1001  \n",
       "2            116  \n",
       "3           2748  \n",
       "4           2671  "
      ]
     },
     "execution_count": 2,
     "metadata": {},
     "output_type": "execute_result"
    }
   ],
   "source": [
    "# cargar datos\n",
    "my_sheet = '17'\n",
    "file_name = './data/multiples_hojas.xlsx'\n",
    "\n",
    "#           archivo excel   nombre de la hoja del archivo\n",
    "df = read_excel(file_name, sheet_name=my_sheet)\n",
    "df.head()"
   ]
  },
  {
   "attachments": {},
   "cell_type": "markdown",
   "metadata": {},
   "source": [
    "### Comparar cantidad de valores de una columna con los valores unicos"
   ]
  },
  {
   "cell_type": "code",
   "execution_count": 3,
   "metadata": {},
   "outputs": [
    {
     "data": {
      "text/plain": [
       "28"
      ]
     },
     "execution_count": 3,
     "metadata": {},
     "output_type": "execute_result"
    }
   ],
   "source": [
    "# N° de valores para la columna channel_title\n",
    "df['channel_title'].count()"
   ]
  },
  {
   "cell_type": "code",
   "execution_count": 4,
   "metadata": {},
   "outputs": [
    {
     "data": {
      "text/plain": [
       "28"
      ]
     },
     "execution_count": 4,
     "metadata": {},
     "output_type": "execute_result"
    }
   ],
   "source": [
    "# N° de valores unicos de la columna channel_title\n",
    "df['channel_title'].nunique()"
   ]
  }
 ],
 "metadata": {
  "kernelspec": {
   "display_name": "data",
   "language": "python",
   "name": "python3"
  },
  "language_info": {
   "codemirror_mode": {
    "name": "ipython",
    "version": 3
   },
   "file_extension": ".py",
   "mimetype": "text/x-python",
   "name": "python",
   "nbconvert_exporter": "python",
   "pygments_lexer": "ipython3",
   "version": "3.10.4"
  },
  "orig_nbformat": 4,
  "vscode": {
   "interpreter": {
    "hash": "8700f991acee7685058f9a56c7736eced6bd630c9083b6b688b4e6e79ecaa63b"
   }
  }
 },
 "nbformat": 4,
 "nbformat_minor": 2
}
