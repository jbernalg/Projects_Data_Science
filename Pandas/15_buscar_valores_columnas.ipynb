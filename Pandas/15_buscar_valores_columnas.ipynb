{
 "cells": [
  {
   "cell_type": "markdown",
   "metadata": {},
   "source": [
    "## Buscar valores en una columna y extraer datos de otra"
   ]
  },
  {
   "cell_type": "code",
   "execution_count": 1,
   "metadata": {},
   "outputs": [],
   "source": [
    "# librerias\n",
    "import pandas as pd"
   ]
  },
  {
   "cell_type": "code",
   "execution_count": 2,
   "metadata": {},
   "outputs": [
    {
     "data": {
      "text/html": [
       "<div>\n",
       "<style scoped>\n",
       "    .dataframe tbody tr th:only-of-type {\n",
       "        vertical-align: middle;\n",
       "    }\n",
       "\n",
       "    .dataframe tbody tr th {\n",
       "        vertical-align: top;\n",
       "    }\n",
       "\n",
       "    .dataframe thead th {\n",
       "        text-align: right;\n",
       "    }\n",
       "</style>\n",
       "<table border=\"1\" class=\"dataframe\">\n",
       "  <thead>\n",
       "    <tr style=\"text-align: right;\">\n",
       "      <th></th>\n",
       "      <th>producto</th>\n",
       "      <th>procedencia</th>\n",
       "      <th>precio</th>\n",
       "    </tr>\n",
       "  </thead>\n",
       "  <tbody>\n",
       "    <tr>\n",
       "      <th>0</th>\n",
       "      <td>Aguacate hass</td>\n",
       "      <td>MichoacándeOcampo</td>\n",
       "      <td>37.113636</td>\n",
       "    </tr>\n",
       "    <tr>\n",
       "      <th>1</th>\n",
       "      <td>Fresa</td>\n",
       "      <td>Guanajuato</td>\n",
       "      <td>19.772955</td>\n",
       "    </tr>\n",
       "    <tr>\n",
       "      <th>2</th>\n",
       "      <td>Guayaba</td>\n",
       "      <td>Aguascalientes</td>\n",
       "      <td>7.500000</td>\n",
       "    </tr>\n",
       "    <tr>\n",
       "      <th>3</th>\n",
       "      <td>Limón núm. 5</td>\n",
       "      <td>Colima</td>\n",
       "      <td>18.303864</td>\n",
       "    </tr>\n",
       "    <tr>\n",
       "      <th>4</th>\n",
       "      <td>Manzana golden delicious</td>\n",
       "      <td>Importación</td>\n",
       "      <td>26.640909</td>\n",
       "    </tr>\n",
       "    <tr>\n",
       "      <th>5</th>\n",
       "      <td>Naranja valencia mediana</td>\n",
       "      <td>NuevoLeón</td>\n",
       "      <td>5.345455</td>\n",
       "    </tr>\n",
       "    <tr>\n",
       "      <th>6</th>\n",
       "      <td>Papaya amarilla a</td>\n",
       "      <td>MichoacándeOcampo</td>\n",
       "      <td>9.636364</td>\n",
       "    </tr>\n",
       "    <tr>\n",
       "      <th>7</th>\n",
       "      <td>Piña cayene mediana</td>\n",
       "      <td>Oaxaca</td>\n",
       "      <td>7.431818</td>\n",
       "    </tr>\n",
       "    <tr>\n",
       "      <th>8</th>\n",
       "      <td>Plátano tabasco</td>\n",
       "      <td>Colima</td>\n",
       "      <td>5.995455</td>\n",
       "    </tr>\n",
       "    <tr>\n",
       "      <th>9</th>\n",
       "      <td>Toronja roja</td>\n",
       "      <td>MichoacándeOcampo</td>\n",
       "      <td>9.172727</td>\n",
       "    </tr>\n",
       "    <tr>\n",
       "      <th>10</th>\n",
       "      <td>Uva globo</td>\n",
       "      <td>Importación</td>\n",
       "      <td>40.908182</td>\n",
       "    </tr>\n",
       "  </tbody>\n",
       "</table>\n",
       "</div>"
      ],
      "text/plain": [
       "                    producto        procedencia     precio\n",
       "0              Aguacate hass  MichoacándeOcampo  37.113636\n",
       "1                      Fresa         Guanajuato  19.772955\n",
       "2                    Guayaba     Aguascalientes   7.500000\n",
       "3               Limón núm. 5             Colima  18.303864\n",
       "4   Manzana golden delicious        Importación  26.640909\n",
       "5   Naranja valencia mediana          NuevoLeón   5.345455\n",
       "6          Papaya amarilla a  MichoacándeOcampo   9.636364\n",
       "7        Piña cayene mediana             Oaxaca   7.431818\n",
       "8            Plátano tabasco             Colima   5.995455\n",
       "9               Toronja roja  MichoacándeOcampo   9.172727\n",
       "10                 Uva globo        Importación  40.908182"
      ]
     },
     "execution_count": 2,
     "metadata": {},
     "output_type": "execute_result"
    }
   ],
   "source": [
    "# cargar datos\n",
    "datos = pd.read_csv('./data/precios.csv')\n",
    "df = pd.DataFrame(datos)\n",
    "df"
   ]
  },
  {
   "cell_type": "markdown",
   "metadata": {},
   "source": [
    "### Obtener el precio de un producto dado"
   ]
  },
  {
   "cell_type": "code",
   "execution_count": 3,
   "metadata": {},
   "outputs": [],
   "source": [
    "# funcion que retorna el costo de un producto segun su precio y las unidades a comprar\n",
    "def pago(unidades, precio):\n",
    "    costo = unidades * precio\n",
    "    return costo"
   ]
  },
  {
   "cell_type": "code",
   "execution_count": 4,
   "metadata": {},
   "outputs": [],
   "source": [
    "# pago de 3 Guayabas\n",
    "producto = 'Guayaba'\n",
    "unidades = 3\n",
    "precio = df[df['producto'] == producto]['precio']"
   ]
  },
  {
   "cell_type": "code",
   "execution_count": 5,
   "metadata": {},
   "outputs": [
    {
     "data": {
      "text/plain": [
       "2    22.5\n",
       "Name: precio, dtype: float64"
      ]
     },
     "execution_count": 5,
     "metadata": {},
     "output_type": "execute_result"
    }
   ],
   "source": [
    "pago(unidades, precio)"
   ]
  },
  {
   "cell_type": "code",
   "execution_count": 6,
   "metadata": {},
   "outputs": [
    {
     "data": {
      "text/plain": [
       "1    197.729545\n",
       "Name: precio, dtype: float64"
      ]
     },
     "execution_count": 6,
     "metadata": {},
     "output_type": "execute_result"
    }
   ],
   "source": [
    "# Pago de 10 Fresas\n",
    "producto = 'Fresa'\n",
    "unidades = 10\n",
    "precio = df[df['producto'] == producto]['precio']\n",
    "\n",
    "pago(unidades, precio)"
   ]
  },
  {
   "cell_type": "markdown",
   "metadata": {},
   "source": [
    "### Mostrar productos con precios mayor a 10"
   ]
  },
  {
   "cell_type": "code",
   "execution_count": 7,
   "metadata": {},
   "outputs": [
    {
     "data": {
      "text/plain": [
       "0                Aguacate hass\n",
       "1                        Fresa\n",
       "3                 Limón núm. 5\n",
       "4     Manzana golden delicious\n",
       "10                   Uva globo\n",
       "Name: producto, dtype: object"
      ]
     },
     "execution_count": 7,
     "metadata": {},
     "output_type": "execute_result"
    }
   ],
   "source": [
    "df[df['precio'] > 10]['producto']"
   ]
  },
  {
   "cell_type": "markdown",
   "metadata": {},
   "source": [
    "### Obtener la procedencia de un producto en particular"
   ]
  },
  {
   "cell_type": "code",
   "execution_count": 8,
   "metadata": {},
   "outputs": [
    {
     "data": {
      "text/plain": [
       "10    Importación\n",
       "Name: procedencia, dtype: object"
      ]
     },
     "execution_count": 8,
     "metadata": {},
     "output_type": "execute_result"
    }
   ],
   "source": [
    "df[df['producto'] == 'Uva globo']['procedencia']"
   ]
  }
 ],
 "metadata": {
  "kernelspec": {
   "display_name": "Python 3.10.4 ('data')",
   "language": "python",
   "name": "python3"
  },
  "language_info": {
   "codemirror_mode": {
    "name": "ipython",
    "version": 3
   },
   "file_extension": ".py",
   "mimetype": "text/x-python",
   "name": "python",
   "nbconvert_exporter": "python",
   "pygments_lexer": "ipython3",
   "version": "3.10.4"
  },
  "orig_nbformat": 4,
  "vscode": {
   "interpreter": {
    "hash": "8700f991acee7685058f9a56c7736eced6bd630c9083b6b688b4e6e79ecaa63b"
   }
  }
 },
 "nbformat": 4,
 "nbformat_minor": 2
}
